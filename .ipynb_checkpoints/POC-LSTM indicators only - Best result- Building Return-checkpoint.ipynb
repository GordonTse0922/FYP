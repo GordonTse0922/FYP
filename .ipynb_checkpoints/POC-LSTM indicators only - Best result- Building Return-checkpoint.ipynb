{
 "cells": [
  {
   "cell_type": "code",
   "execution_count": 1,
   "id": "9efc3e1f",
   "metadata": {},
   "outputs": [
    {
     "ename": "ModuleNotFoundError",
     "evalue": "No module named 'talib'",
     "output_type": "error",
     "traceback": [
      "\u001b[0;31m---------------------------------------------------------------------------\u001b[0m",
      "\u001b[0;31mModuleNotFoundError\u001b[0m                       Traceback (most recent call last)",
      "\u001b[0;32m/var/folders/8h/w0jn89bj2w5g85gj4ck7w0t00000gn/T/ipykernel_82045/3651967373.py\u001b[0m in \u001b[0;36m<module>\u001b[0;34m\u001b[0m\n\u001b[1;32m     14\u001b[0m \u001b[0;32mfrom\u001b[0m \u001b[0mkeras\u001b[0m\u001b[0;34m.\u001b[0m\u001b[0moptimizer_v2\u001b[0m\u001b[0;34m.\u001b[0m\u001b[0madam\u001b[0m \u001b[0;32mimport\u001b[0m \u001b[0mAdam\u001b[0m\u001b[0;34m\u001b[0m\u001b[0;34m\u001b[0m\u001b[0m\n\u001b[1;32m     15\u001b[0m \u001b[0;32mfrom\u001b[0m \u001b[0mkeras\u001b[0m\u001b[0;34m.\u001b[0m\u001b[0moptimizer_v2\u001b[0m\u001b[0;34m.\u001b[0m\u001b[0mrmsprop\u001b[0m \u001b[0;32mimport\u001b[0m \u001b[0mRMSprop\u001b[0m\u001b[0;34m\u001b[0m\u001b[0;34m\u001b[0m\u001b[0m\n\u001b[0;32m---> 16\u001b[0;31m \u001b[0;32mimport\u001b[0m \u001b[0mtalib\u001b[0m\u001b[0;34m\u001b[0m\u001b[0;34m\u001b[0m\u001b[0m\n\u001b[0m",
      "\u001b[0;31mModuleNotFoundError\u001b[0m: No module named 'talib'"
     ]
    }
   ],
   "source": [
    "import yfinance as yf\n",
    "import keras.backend as K\n",
    "import pandas as pd\n",
    "import numpy as np\n",
    "import matplotlib.pyplot as plt\n",
    "from sklearn.preprocessing import MinMaxScaler ,StandardScaler\n",
    "from sklearn.model_selection import train_test_split\n",
    "from sklearn.metrics import classification_report,accuracy_score, mean_squared_error,mean_absolute_percentage_error\n",
    "import tensorflow as tf\n",
    "from tensorflow import keras\n",
    "from keras.layers import LSTM,Dropout, BatchNormalization, Dense\n",
    "from keras.callbacks import ModelCheckpoint, EarlyStopping, ReduceLROnPlateau, CSVLogger\n",
    "from keras.models import Sequential\n",
    "from keras.optimizer_v2.adam import Adam\n",
    "from keras.optimizer_v2.rmsprop import RMSprop\n",
    "import talib"
   ]
  },
  {
   "cell_type": "code",
   "execution_count": null,
   "id": "62b8c4ee",
   "metadata": {},
   "outputs": [],
   "source": [
    "data = yf.download('0005.hk',\"2017-09-28\",\"2021-09-24\")\n",
    "data=data[:-7]\n",
    "data.head()"
   ]
  },
  {
   "cell_type": "code",
   "execution_count": null,
   "id": "699c7659",
   "metadata": {},
   "outputs": [],
   "source": [
    "data['H-L'] = data['High'] - data['Low']\n",
    "data['O-C'] = data['Close'] - data['Open']\n",
    "# data=pd.merge(data,data[\"Close\"].pct_change(),left_index=True,right_index=True)\n",
    "data[\"% Change\"]=data[\"Close\"].shift(1).pct_change()\n",
    "data['3day MA'] = data['Close'].shift(1).rolling(window = 3).mean()\n",
    "data['10day MA'] = data['Close'].shift(1).rolling(window = 10).mean()\n",
    "data['30day MA'] = data['Close'].shift(1).rolling(window = 30).mean()\n",
    "data['Std_dev']= data['Close'].shift(1).rolling(5).std()\n",
    "# data['RSI'] = talib.RSI(data['Close'].values, timeperiod = 9)\n",
    "# data['Williams %R'] = talib.WILLR(data['High'].values, data['Low'].values, data['Close'].values, 7)\n",
    "data.columns"
   ]
  },
  {
   "cell_type": "code",
   "execution_count": null,
   "id": "b4ae5d7c",
   "metadata": {},
   "outputs": [],
   "source": [
    "data_options = pd.read_csv(\"Put_Call_Ratio.csv\",skiprows=1)\n",
    "data_options.columns"
   ]
  },
  {
   "cell_type": "code",
   "execution_count": null,
   "id": "72bdd11d",
   "metadata": {},
   "outputs": [],
   "source": [
    "data_options['Date (D/M/Y)']=pd.to_datetime(data_options['Date (D/M/Y)'], format=\"%d/%m/%Y\")\n",
    "data_options.set_index('Date (D/M/Y)',inplace=True)\n",
    "data_options.sort_index(ascending=True,inplace=True)\n",
    "data_options.columns"
   ]
  },
  {
   "cell_type": "code",
   "execution_count": null,
   "id": "91480345",
   "metadata": {},
   "outputs": [],
   "source": [
    "# data=pd.merge(data,data_options[\" Put/Call Ratio\"], left_index=True,right_index=True)\n",
    "data=data\n",
    "# data.drop([\"Volume\",\"Adj Close\"], axis=1,inplace=True)"
   ]
  },
  {
   "cell_type": "code",
   "execution_count": null,
   "id": "91fc4542",
   "metadata": {},
   "outputs": [],
   "source": [
    "data.dropna(inplace=True)\n",
    "data.isnull().sum()"
   ]
  },
  {
   "cell_type": "code",
   "execution_count": null,
   "id": "1933fe76",
   "metadata": {},
   "outputs": [],
   "source": [
    "data.head()"
   ]
  },
  {
   "cell_type": "code",
   "execution_count": null,
   "id": "0c41be28",
   "metadata": {
    "scrolled": true
   },
   "outputs": [],
   "source": [
    "data_price=data[\"Close\"]\n",
    "train=data.shift(1).dropna().values\n",
    "sc = MinMaxScaler(feature_range=(0,1))\n",
    "train=sc.fit_transform(train)\n",
    "def processData(data,data_price,lb):\n",
    "    X,Y = [],[]\n",
    "    for i in range(lb-1,len(data)-lb-1):\n",
    "        X.append(data[i-(lb-1):i])\n",
    "        Y.append(data_price[(i)])\n",
    "    return np.array(X),np.array(Y)\n",
    "\n",
    "lb=7\n",
    "X,y = processData(train,data_price,lb)\n",
    "X_train,X_test = X[:int(X.shape[0]*0.90)],X[int(X.shape[0]*0.90):]\n",
    "y_train,y_test = y[:int(y.shape[0]*0.90)].reshape(-1,1),y[int(y.shape[0]*0.90):].reshape(-1,1)\n",
    "# print(type(X_train))\n",
    "print(X[0])\n",
    "print(y[0])\n",
    "print(data.shape)"
   ]
  },
  {
   "cell_type": "code",
   "execution_count": null,
   "id": "8e84aa5c",
   "metadata": {},
   "outputs": [],
   "source": [
    "print(X_train.shape,y_train.shape,X_test.shape,y_test.shape)"
   ]
  },
  {
   "cell_type": "code",
   "execution_count": null,
   "id": "d361965d",
   "metadata": {},
   "outputs": [],
   "source": [
    "# Build the LSTM model\n",
    "model = Sequential()\n",
    "model.add(LSTM(128, return_sequences=True, input_shape= (X_train.shape[1], X_train.shape[2])))\n",
    "# model.add(Dropout(0.7))\n",
    "model.add(LSTM(64, return_sequences=False))\n",
    "# model.add(Dropout(0.5))\n",
    "model.add(Dense(32))\n",
    "model.add(Dense(1))\n",
    "model.compile(\n",
    "  loss=\"mean_squared_error\",\n",
    "  optimizer='Adam'\n",
    ")"
   ]
  },
  {
   "cell_type": "code",
   "execution_count": null,
   "id": "1e51a5d4",
   "metadata": {},
   "outputs": [],
   "source": [
    "model.summary() "
   ]
  },
  {
   "cell_type": "code",
   "execution_count": null,
   "id": "1c4e605e",
   "metadata": {
    "scrolled": true
   },
   "outputs": [],
   "source": [
    "#Fit model with history to check for overfitting\n",
    "# es = EarlyStopping(monitor='val_loss', mode='min', verbose=1,patience=40, min_delta=0.0001)\n",
    "history = model.fit(X_train,y_train,epochs=300,batch_size=20,validation_data=(X_test,y_test),shuffle=False)"
   ]
  },
  {
   "cell_type": "code",
   "execution_count": null,
   "id": "57aef319",
   "metadata": {},
   "outputs": [],
   "source": [
    "y_pred = model.predict(X_test)"
   ]
  },
  {
   "cell_type": "code",
   "execution_count": null,
   "id": "9d5451f9",
   "metadata": {},
   "outputs": [],
   "source": [
    "plt.plot(history.history['loss'], label='train')\n",
    "plt.plot(history.history['val_loss'], label='test')\n",
    "plt.legend()"
   ]
  },
  {
   "cell_type": "code",
   "execution_count": null,
   "id": "190bdf74",
   "metadata": {},
   "outputs": [],
   "source": [
    "plt.plot(np.arange(0, len(y_train)), y_train, 'g', label=\"history\")\n",
    "plt.plot(np.arange(len(y_train), len(y_train) + len(y_test)), y_test, marker='.', label=\"true\")\n",
    "plt.plot(np.arange(len(y_train), len(y_train) + len(y_test)), y_pred, 'r', label=\"prediction\")\n",
    "plt.ylabel('Value')\n",
    "plt.xlabel('Time Step')\n",
    "plt.legend()\n",
    "plt.show();"
   ]
  },
  {
   "cell_type": "code",
   "execution_count": null,
   "id": "f0f89a33",
   "metadata": {},
   "outputs": [],
   "source": [
    "# plot_x=data[int(X.shape[0]*0.90):]\n",
    "# plot_x[\"Prediction\"]=y_test"
   ]
  },
  {
   "cell_type": "code",
   "execution_count": null,
   "id": "360a8226",
   "metadata": {},
   "outputs": [],
   "source": [
    "plt.plot(y_test, marker='.', label=\"true\")\n",
    "plt.plot(y_pred, 'r',marker='*', label=\"prediction\")\n",
    "plt.ylabel('Value')\n",
    "plt.xlabel('Time Step')\n",
    "plt.legend()\n",
    "plt.show();"
   ]
  },
  {
   "cell_type": "code",
   "execution_count": null,
   "id": "ab556cdd",
   "metadata": {},
   "outputs": [],
   "source": [
    "mean_absolute_percentage_error(y_test,y_pred)*100"
   ]
  },
  {
   "cell_type": "code",
   "execution_count": null,
   "id": "39d4fb4d",
   "metadata": {},
   "outputs": [],
   "source": [
    "mean_squared_error(y_test,y_pred)"
   ]
  },
  {
   "cell_type": "code",
   "execution_count": null,
   "id": "26382ce9",
   "metadata": {},
   "outputs": [],
   "source": [
    "y_pred_lstm_final = np.zeros((len(y_pred)-1,))\n",
    "y_test_t_final = np.zeros((len(y_test)-1,))\n",
    "for i in range(len(y_pred)-1):\n",
    "    if y_pred[i+1] >= y_pred[i]:\n",
    "        y_pred_lstm_final[i] = 1\n",
    "    else:\n",
    "        y_pred_lstm_final[i] = 0\n",
    "        \n",
    "#convert prediction into binary output (up or down movement)\n",
    "for i in range(len(y_test)-1):\n",
    "    if y_test[i+1] >= y_test[i]:\n",
    "        y_test_t_final[i] = 1\n",
    "    else:\n",
    "        y_test_t_final[i] = 0\n",
    "\n",
    "\n",
    "# error_lstm = mean_absolute_error(y_test_t_final, y_pred_lstm_final)\n",
    "# print(\"Error is\", error_lstm, y_pred_lstm_final.shape, y_test_t_final.shape)\n",
    "print(y_pred_lstm_final[0:15])\n",
    "print(y_test_t_final[0:15])\n",
    "print(\"Predicted direction accuracy (Up/down):\")\n",
    "print(accuracy_score(y_test_t_final,y_pred_lstm_final))"
   ]
  },
  {
   "cell_type": "code",
   "execution_count": null,
   "id": "fce97260",
   "metadata": {},
   "outputs": [],
   "source": []
  }
 ],
 "metadata": {
  "kernelspec": {
   "display_name": "Python 3 (ipykernel)",
   "language": "python",
   "name": "python3"
  },
  "language_info": {
   "codemirror_mode": {
    "name": "ipython",
    "version": 3
   },
   "file_extension": ".py",
   "mimetype": "text/x-python",
   "name": "python",
   "nbconvert_exporter": "python",
   "pygments_lexer": "ipython3",
   "version": "3.9.7"
  }
 },
 "nbformat": 4,
 "nbformat_minor": 5
}
