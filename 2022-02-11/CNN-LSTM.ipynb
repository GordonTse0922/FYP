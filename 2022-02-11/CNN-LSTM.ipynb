{
 "cells": [
  {
   "cell_type": "code",
   "execution_count": 1,
   "metadata": {
    "collapsed": false,
    "pycharm": {
     "name": "#%%\n"
    }
   },
   "outputs": [],
   "source": [
    "# Import the necessary libraries first\n",
    "from sklearn.feature_selection import SelectKBest, RFE\n",
    "from sklearn.feature_selection import chi2,r_regression\n",
    "from sklearn.linear_model import LinearRegression,Ridge\n",
    "from sklearn.linear_model import RidgeCV, LassoCV, Ridge, Lasso\n",
    "from sklearn.model_selection import train_test_split\n",
    "from sklearn.ensemble import RandomForestRegressor\n",
    "from sklearn.preprocessing import MinMaxScaler,StandardScaler\n",
    "import yfinance as yf\n",
    "import talib\n",
    "import numpy as np\n",
    "import pandas as pd\n",
    "import matplotlib.pyplot as plt\n",
    "from keras.layers import LSTM,Dropout, BatchNormalization, Dense, Conv1D, MaxPool1D\n",
    "from keras.callbacks import ModelCheckpoint, EarlyStopping, ReduceLROnPlateau, CSVLogger\n",
    "from keras.models import Sequential\n",
    "from sklearn.ensemble import RandomForestRegressor\n",
    "from keras.optimizer_v2.adam import Adam"
   ]
  },
  {
   "cell_type": "code",
   "execution_count": 2,
   "metadata": {
    "collapsed": false,
    "pycharm": {
     "name": "#%%\n"
    }
   },
   "outputs": [
    {
     "name": "stdout",
     "output_type": "stream",
     "text": [
      "[*********************100%***********************]  1 of 1 completed\n"
     ]
    },
    {
     "data": {
      "text/html": [
       "<div>\n",
       "<style scoped>\n",
       "    .dataframe tbody tr th:only-of-type {\n",
       "        vertical-align: middle;\n",
       "    }\n",
       "\n",
       "    .dataframe tbody tr th {\n",
       "        vertical-align: top;\n",
       "    }\n",
       "\n",
       "    .dataframe thead th {\n",
       "        text-align: right;\n",
       "    }\n",
       "</style>\n",
       "<table border=\"1\" class=\"dataframe\">\n",
       "  <thead>\n",
       "    <tr style=\"text-align: right;\">\n",
       "      <th></th>\n",
       "      <th>Open</th>\n",
       "      <th>High</th>\n",
       "      <th>Low</th>\n",
       "      <th>Close</th>\n",
       "      <th>Volume</th>\n",
       "    </tr>\n",
       "    <tr>\n",
       "      <th>Date</th>\n",
       "      <th></th>\n",
       "      <th></th>\n",
       "      <th></th>\n",
       "      <th></th>\n",
       "      <th></th>\n",
       "    </tr>\n",
       "  </thead>\n",
       "  <tbody>\n",
       "    <tr>\n",
       "      <th>2021-09-02</th>\n",
       "      <td>41.299999</td>\n",
       "      <td>41.549999</td>\n",
       "      <td>41.049999</td>\n",
       "      <td>41.349998</td>\n",
       "      <td>20502999</td>\n",
       "    </tr>\n",
       "    <tr>\n",
       "      <th>2021-09-03</th>\n",
       "      <td>41.150002</td>\n",
       "      <td>41.799999</td>\n",
       "      <td>41.150002</td>\n",
       "      <td>41.450001</td>\n",
       "      <td>29400411</td>\n",
       "    </tr>\n",
       "    <tr>\n",
       "      <th>2021-09-06</th>\n",
       "      <td>41.450001</td>\n",
       "      <td>41.700001</td>\n",
       "      <td>41.250000</td>\n",
       "      <td>41.400002</td>\n",
       "      <td>24207987</td>\n",
       "    </tr>\n",
       "    <tr>\n",
       "      <th>2021-09-07</th>\n",
       "      <td>41.299999</td>\n",
       "      <td>41.400002</td>\n",
       "      <td>41.000000</td>\n",
       "      <td>41.000000</td>\n",
       "      <td>23797121</td>\n",
       "    </tr>\n",
       "    <tr>\n",
       "      <th>2021-09-08</th>\n",
       "      <td>40.500000</td>\n",
       "      <td>40.849998</td>\n",
       "      <td>40.299999</td>\n",
       "      <td>40.450001</td>\n",
       "      <td>21636170</td>\n",
       "    </tr>\n",
       "    <tr>\n",
       "      <th>2021-09-09</th>\n",
       "      <td>40.700001</td>\n",
       "      <td>41.000000</td>\n",
       "      <td>40.250000</td>\n",
       "      <td>40.400002</td>\n",
       "      <td>16569193</td>\n",
       "    </tr>\n",
       "    <tr>\n",
       "      <th>2021-09-10</th>\n",
       "      <td>40.349998</td>\n",
       "      <td>40.950001</td>\n",
       "      <td>40.250000</td>\n",
       "      <td>40.900002</td>\n",
       "      <td>7986921</td>\n",
       "    </tr>\n",
       "    <tr>\n",
       "      <th>2021-09-13</th>\n",
       "      <td>40.500000</td>\n",
       "      <td>40.849998</td>\n",
       "      <td>40.150002</td>\n",
       "      <td>40.700001</td>\n",
       "      <td>8576584</td>\n",
       "    </tr>\n",
       "    <tr>\n",
       "      <th>2021-09-14</th>\n",
       "      <td>40.700001</td>\n",
       "      <td>41.099998</td>\n",
       "      <td>40.099998</td>\n",
       "      <td>40.200001</td>\n",
       "      <td>19188693</td>\n",
       "    </tr>\n",
       "    <tr>\n",
       "      <th>2021-09-15</th>\n",
       "      <td>40.599998</td>\n",
       "      <td>40.599998</td>\n",
       "      <td>40.000000</td>\n",
       "      <td>40.099998</td>\n",
       "      <td>14418368</td>\n",
       "    </tr>\n",
       "    <tr>\n",
       "      <th>2021-09-16</th>\n",
       "      <td>40.599998</td>\n",
       "      <td>40.599998</td>\n",
       "      <td>39.599998</td>\n",
       "      <td>40.000000</td>\n",
       "      <td>19553563</td>\n",
       "    </tr>\n",
       "    <tr>\n",
       "      <th>2021-09-17</th>\n",
       "      <td>39.700001</td>\n",
       "      <td>40.400002</td>\n",
       "      <td>39.099998</td>\n",
       "      <td>40.250000</td>\n",
       "      <td>28266370</td>\n",
       "    </tr>\n",
       "    <tr>\n",
       "      <th>2021-09-20</th>\n",
       "      <td>39.900002</td>\n",
       "      <td>39.950001</td>\n",
       "      <td>38.950001</td>\n",
       "      <td>39.000000</td>\n",
       "      <td>23796781</td>\n",
       "    </tr>\n",
       "    <tr>\n",
       "      <th>2021-09-21</th>\n",
       "      <td>38.349998</td>\n",
       "      <td>39.000000</td>\n",
       "      <td>38.299999</td>\n",
       "      <td>38.799999</td>\n",
       "      <td>18117762</td>\n",
       "    </tr>\n",
       "    <tr>\n",
       "      <th>2021-09-23</th>\n",
       "      <td>39.299999</td>\n",
       "      <td>39.950001</td>\n",
       "      <td>39.200001</td>\n",
       "      <td>39.750000</td>\n",
       "      <td>20518033</td>\n",
       "    </tr>\n",
       "  </tbody>\n",
       "</table>\n",
       "</div>"
      ],
      "text/plain": [
       "                 Open       High        Low      Close    Volume\n",
       "Date                                                            \n",
       "2021-09-02  41.299999  41.549999  41.049999  41.349998  20502999\n",
       "2021-09-03  41.150002  41.799999  41.150002  41.450001  29400411\n",
       "2021-09-06  41.450001  41.700001  41.250000  41.400002  24207987\n",
       "2021-09-07  41.299999  41.400002  41.000000  41.000000  23797121\n",
       "2021-09-08  40.500000  40.849998  40.299999  40.450001  21636170\n",
       "2021-09-09  40.700001  41.000000  40.250000  40.400002  16569193\n",
       "2021-09-10  40.349998  40.950001  40.250000  40.900002   7986921\n",
       "2021-09-13  40.500000  40.849998  40.150002  40.700001   8576584\n",
       "2021-09-14  40.700001  41.099998  40.099998  40.200001  19188693\n",
       "2021-09-15  40.599998  40.599998  40.000000  40.099998  14418368\n",
       "2021-09-16  40.599998  40.599998  39.599998  40.000000  19553563\n",
       "2021-09-17  39.700001  40.400002  39.099998  40.250000  28266370\n",
       "2021-09-20  39.900002  39.950001  38.950001  39.000000  23796781\n",
       "2021-09-21  38.349998  39.000000  38.299999  38.799999  18117762\n",
       "2021-09-23  39.299999  39.950001  39.200001  39.750000  20518033"
      ]
     },
     "execution_count": 2,
     "metadata": {},
     "output_type": "execute_result"
    }
   ],
   "source": [
    "# Get the data for the SPY ETF by specifying the stock ticker, start date, and end date\n",
    "data = yf.download('0005.hk',\"2017-09-28\",\"2021-09-24\")\n",
    "data.drop(\"Adj Close\",axis=1,inplace=True)\n",
    "data.tail(15)"
   ]
  },
  {
   "cell_type": "code",
   "execution_count": 3,
   "metadata": {
    "collapsed": false,
    "pycharm": {
     "name": "#%%\n"
    }
   },
   "outputs": [
    {
     "data": {
      "text/html": [
       "<div>\n",
       "<style scoped>\n",
       "    .dataframe tbody tr th:only-of-type {\n",
       "        vertical-align: middle;\n",
       "    }\n",
       "\n",
       "    .dataframe tbody tr th {\n",
       "        vertical-align: top;\n",
       "    }\n",
       "\n",
       "    .dataframe thead th {\n",
       "        text-align: right;\n",
       "    }\n",
       "</style>\n",
       "<table border=\"1\" class=\"dataframe\">\n",
       "  <thead>\n",
       "    <tr style=\"text-align: right;\">\n",
       "      <th></th>\n",
       "      <th>Open</th>\n",
       "      <th>High</th>\n",
       "      <th>Low</th>\n",
       "      <th>Close</th>\n",
       "      <th>Volume</th>\n",
       "      <th>H-L</th>\n",
       "      <th>O-C</th>\n",
       "      <th>% Change</th>\n",
       "      <th>7day MA</th>\n",
       "      <th>14day MA</th>\n",
       "      <th>21day MA</th>\n",
       "      <th>Std_dev</th>\n",
       "      <th>Predictions</th>\n",
       "    </tr>\n",
       "    <tr>\n",
       "      <th>Date</th>\n",
       "      <th></th>\n",
       "      <th></th>\n",
       "      <th></th>\n",
       "      <th></th>\n",
       "      <th></th>\n",
       "      <th></th>\n",
       "      <th></th>\n",
       "      <th></th>\n",
       "      <th></th>\n",
       "      <th></th>\n",
       "      <th></th>\n",
       "      <th></th>\n",
       "      <th></th>\n",
       "    </tr>\n",
       "  </thead>\n",
       "  <tbody>\n",
       "    <tr>\n",
       "      <th>2017-10-31</th>\n",
       "      <td>76.250000</td>\n",
       "      <td>76.599998</td>\n",
       "      <td>76.050003</td>\n",
       "      <td>76.199997</td>\n",
       "      <td>32077681</td>\n",
       "      <td>0.549995</td>\n",
       "      <td>-0.050003</td>\n",
       "      <td>-0.003922</td>\n",
       "      <td>76.721428</td>\n",
       "      <td>76.935714</td>\n",
       "      <td>77.076190</td>\n",
       "      <td>0.237797</td>\n",
       "      <td>76.650002</td>\n",
       "    </tr>\n",
       "    <tr>\n",
       "      <th>2017-11-01</th>\n",
       "      <td>76.199997</td>\n",
       "      <td>76.800003</td>\n",
       "      <td>76.199997</td>\n",
       "      <td>76.650002</td>\n",
       "      <td>19417713</td>\n",
       "      <td>0.600006</td>\n",
       "      <td>0.450005</td>\n",
       "      <td>0.001961</td>\n",
       "      <td>76.678570</td>\n",
       "      <td>76.800000</td>\n",
       "      <td>77.076190</td>\n",
       "      <td>0.302569</td>\n",
       "      <td>75.849998</td>\n",
       "    </tr>\n",
       "    <tr>\n",
       "      <th>2017-11-02</th>\n",
       "      <td>76.150002</td>\n",
       "      <td>76.199997</td>\n",
       "      <td>75.800003</td>\n",
       "      <td>75.849998</td>\n",
       "      <td>26844827</td>\n",
       "      <td>0.399994</td>\n",
       "      <td>-0.300003</td>\n",
       "      <td>-0.008497</td>\n",
       "      <td>76.699999</td>\n",
       "      <td>76.753571</td>\n",
       "      <td>77.080952</td>\n",
       "      <td>0.292974</td>\n",
       "      <td>75.599998</td>\n",
       "    </tr>\n",
       "    <tr>\n",
       "      <th>2017-11-03</th>\n",
       "      <td>75.550003</td>\n",
       "      <td>75.849998</td>\n",
       "      <td>75.500000</td>\n",
       "      <td>75.599998</td>\n",
       "      <td>20538341</td>\n",
       "      <td>0.349998</td>\n",
       "      <td>0.049995</td>\n",
       "      <td>-0.014342</td>\n",
       "      <td>76.607142</td>\n",
       "      <td>76.657143</td>\n",
       "      <td>77.004761</td>\n",
       "      <td>0.435344</td>\n",
       "      <td>75.300003</td>\n",
       "    </tr>\n",
       "    <tr>\n",
       "      <th>2017-11-06</th>\n",
       "      <td>75.500000</td>\n",
       "      <td>75.500000</td>\n",
       "      <td>74.849998</td>\n",
       "      <td>75.300003</td>\n",
       "      <td>23272416</td>\n",
       "      <td>0.650002</td>\n",
       "      <td>-0.199997</td>\n",
       "      <td>-0.020806</td>\n",
       "      <td>76.449999</td>\n",
       "      <td>76.535714</td>\n",
       "      <td>76.897619</td>\n",
       "      <td>0.573004</td>\n",
       "      <td>75.800003</td>\n",
       "    </tr>\n",
       "    <tr>\n",
       "      <th>...</th>\n",
       "      <td>...</td>\n",
       "      <td>...</td>\n",
       "      <td>...</td>\n",
       "      <td>...</td>\n",
       "      <td>...</td>\n",
       "      <td>...</td>\n",
       "      <td>...</td>\n",
       "      <td>...</td>\n",
       "      <td>...</td>\n",
       "      <td>...</td>\n",
       "      <td>...</td>\n",
       "      <td>...</td>\n",
       "      <td>...</td>\n",
       "    </tr>\n",
       "    <tr>\n",
       "      <th>2021-09-15</th>\n",
       "      <td>40.599998</td>\n",
       "      <td>40.599998</td>\n",
       "      <td>40.000000</td>\n",
       "      <td>40.099998</td>\n",
       "      <td>14418368</td>\n",
       "      <td>0.599998</td>\n",
       "      <td>-0.500000</td>\n",
       "      <td>-0.031401</td>\n",
       "      <td>40.721430</td>\n",
       "      <td>41.207144</td>\n",
       "      <td>41.652381</td>\n",
       "      <td>0.412166</td>\n",
       "      <td>40.000000</td>\n",
       "    </tr>\n",
       "    <tr>\n",
       "      <th>2021-09-16</th>\n",
       "      <td>40.599998</td>\n",
       "      <td>40.599998</td>\n",
       "      <td>39.599998</td>\n",
       "      <td>40.000000</td>\n",
       "      <td>19553563</td>\n",
       "      <td>1.000000</td>\n",
       "      <td>-0.599998</td>\n",
       "      <td>-0.024390</td>\n",
       "      <td>40.535715</td>\n",
       "      <td>41.060715</td>\n",
       "      <td>41.473810</td>\n",
       "      <td>0.342436</td>\n",
       "      <td>40.250000</td>\n",
       "    </tr>\n",
       "    <tr>\n",
       "      <th>2021-09-17</th>\n",
       "      <td>39.700001</td>\n",
       "      <td>40.400002</td>\n",
       "      <td>39.099998</td>\n",
       "      <td>40.250000</td>\n",
       "      <td>28266370</td>\n",
       "      <td>1.300003</td>\n",
       "      <td>0.549999</td>\n",
       "      <td>-0.004944</td>\n",
       "      <td>40.392858</td>\n",
       "      <td>40.917858</td>\n",
       "      <td>41.311905</td>\n",
       "      <td>0.324588</td>\n",
       "      <td>39.000000</td>\n",
       "    </tr>\n",
       "    <tr>\n",
       "      <th>2021-09-20</th>\n",
       "      <td>39.900002</td>\n",
       "      <td>39.950001</td>\n",
       "      <td>38.950001</td>\n",
       "      <td>39.000000</td>\n",
       "      <td>23796781</td>\n",
       "      <td>1.000000</td>\n",
       "      <td>-0.900002</td>\n",
       "      <td>-0.034654</td>\n",
       "      <td>40.364286</td>\n",
       "      <td>40.817857</td>\n",
       "      <td>41.211905</td>\n",
       "      <td>0.327509</td>\n",
       "      <td>38.799999</td>\n",
       "    </tr>\n",
       "    <tr>\n",
       "      <th>2021-09-21</th>\n",
       "      <td>38.349998</td>\n",
       "      <td>39.000000</td>\n",
       "      <td>38.299999</td>\n",
       "      <td>38.799999</td>\n",
       "      <td>18117762</td>\n",
       "      <td>0.700001</td>\n",
       "      <td>0.450001</td>\n",
       "      <td>-0.051345</td>\n",
       "      <td>40.164286</td>\n",
       "      <td>40.642857</td>\n",
       "      <td>41.066667</td>\n",
       "      <td>0.608766</td>\n",
       "      <td>39.750000</td>\n",
       "    </tr>\n",
       "  </tbody>\n",
       "</table>\n",
       "<p>961 rows × 13 columns</p>\n",
       "</div>"
      ],
      "text/plain": [
       "                 Open       High        Low      Close    Volume       H-L  \\\n",
       "Date                                                                         \n",
       "2017-10-31  76.250000  76.599998  76.050003  76.199997  32077681  0.549995   \n",
       "2017-11-01  76.199997  76.800003  76.199997  76.650002  19417713  0.600006   \n",
       "2017-11-02  76.150002  76.199997  75.800003  75.849998  26844827  0.399994   \n",
       "2017-11-03  75.550003  75.849998  75.500000  75.599998  20538341  0.349998   \n",
       "2017-11-06  75.500000  75.500000  74.849998  75.300003  23272416  0.650002   \n",
       "...               ...        ...        ...        ...       ...       ...   \n",
       "2021-09-15  40.599998  40.599998  40.000000  40.099998  14418368  0.599998   \n",
       "2021-09-16  40.599998  40.599998  39.599998  40.000000  19553563  1.000000   \n",
       "2021-09-17  39.700001  40.400002  39.099998  40.250000  28266370  1.300003   \n",
       "2021-09-20  39.900002  39.950001  38.950001  39.000000  23796781  1.000000   \n",
       "2021-09-21  38.349998  39.000000  38.299999  38.799999  18117762  0.700001   \n",
       "\n",
       "                 O-C  % Change    7day MA   14day MA   21day MA   Std_dev  \\\n",
       "Date                                                                        \n",
       "2017-10-31 -0.050003 -0.003922  76.721428  76.935714  77.076190  0.237797   \n",
       "2017-11-01  0.450005  0.001961  76.678570  76.800000  77.076190  0.302569   \n",
       "2017-11-02 -0.300003 -0.008497  76.699999  76.753571  77.080952  0.292974   \n",
       "2017-11-03  0.049995 -0.014342  76.607142  76.657143  77.004761  0.435344   \n",
       "2017-11-06 -0.199997 -0.020806  76.449999  76.535714  76.897619  0.573004   \n",
       "...              ...       ...        ...        ...        ...       ...   \n",
       "2021-09-15 -0.500000 -0.031401  40.721430  41.207144  41.652381  0.412166   \n",
       "2021-09-16 -0.599998 -0.024390  40.535715  41.060715  41.473810  0.342436   \n",
       "2021-09-17  0.549999 -0.004944  40.392858  40.917858  41.311905  0.324588   \n",
       "2021-09-20 -0.900002 -0.034654  40.364286  40.817857  41.211905  0.327509   \n",
       "2021-09-21  0.450001 -0.051345  40.164286  40.642857  41.066667  0.608766   \n",
       "\n",
       "            Predictions  \n",
       "Date                     \n",
       "2017-10-31    76.650002  \n",
       "2017-11-01    75.849998  \n",
       "2017-11-02    75.599998  \n",
       "2017-11-03    75.300003  \n",
       "2017-11-06    75.800003  \n",
       "...                 ...  \n",
       "2021-09-15    40.000000  \n",
       "2021-09-16    40.250000  \n",
       "2021-09-17    39.000000  \n",
       "2021-09-20    38.799999  \n",
       "2021-09-21    39.750000  \n",
       "\n",
       "[961 rows x 13 columns]"
      ]
     },
     "execution_count": 3,
     "metadata": {},
     "output_type": "execute_result"
    }
   ],
   "source": [
    "data['H-L'] = data['High'] - data['Low']\n",
    "data['O-C'] = data['Close'] - data['Open']\n",
    "# data=pd.merge(data,data[\"Close\"].pct_change(),left_index=True,right_index=True)\n",
    "data[\"% Change\"]=data[\"Close\"].pct_change(7)\n",
    "data['7day MA'] = data['Close'].shift(1).rolling(window = 7).mean()\n",
    "data['14day MA'] = data['Close'].shift(1).rolling(window = 14).mean()\n",
    "data['21day MA'] = data['Close'].shift(1).rolling(window = 21).mean()\n",
    "data['Std_dev']= data['Close'].shift(1).rolling(7).std()\n",
    "data['Predictions']=data['Close'].shift(-1)\n",
    "# data['RSI'] = talib.RSI(data['Close'].values, timeperiod = 7)\n",
    "# data['Williams %R'] = talib.WILLR(data['High'].values, data['Low'].values, data['Close'].values, 7)\n",
    "data.dropna(inplace=True)\n",
    "data"
   ]
  },
  {
   "cell_type": "code",
   "execution_count": 4,
   "metadata": {
    "collapsed": false,
    "pycharm": {
     "name": "#%%\n"
    }
   },
   "outputs": [
    {
     "name": "stdout",
     "output_type": "stream",
     "text": [
      "Train--Test size 768 193\n",
      "Length of inputs 758\n",
      "length of time-series - inputs (758, 10, 7)\n",
      "length of time-series - outputs (758,)\n",
      "Batch trimmed size (740, 10, 7) (740,)\n"
     ]
    },
    {
     "name": "stderr",
     "output_type": "stream",
     "text": [
      "/opt/homebrew/Caskroom/miniforge/base/envs/FYP/lib/python3.9/site-packages/sklearn/base.py:438: UserWarning: X has feature names, but MinMaxScaler was fitted without feature names\n",
      "  warnings.warn(\n",
      "/opt/homebrew/Caskroom/miniforge/base/envs/FYP/lib/python3.9/site-packages/sklearn/base.py:438: UserWarning: X has feature names, but MinMaxScaler was fitted without feature names\n",
      "  warnings.warn(\n"
     ]
    }
   ],
   "source": [
    "def trim_dataset(mat, batch_size):\n",
    "\n",
    "    #trims dataset to a size that's divisible by BATCH_SIZE\n",
    "    no_of_rows_drop = mat.shape[0] % batch_size\n",
    "\n",
    "    if no_of_rows_drop > 0:\n",
    "        return mat[:-no_of_rows_drop]\n",
    "    else:\n",
    "        return mat\n",
    "\n",
    "def build_timeseries(mat, target):\n",
    "\n",
    "    dim_0 = mat.shape[0] - TIME_STEPS\n",
    "    dim_1 = mat.shape[1]\n",
    "\n",
    "    x = np.zeros((dim_0, TIME_STEPS, dim_1))\n",
    "    y = np.zeros((dim_0,))\n",
    "\n",
    "    print(\"Length of inputs\", dim_0)\n",
    "\n",
    "    for i in range(dim_0):\n",
    "        x[i] = mat[i:TIME_STEPS+i]\n",
    "        y[i] = target[TIME_STEPS+i]\n",
    "\n",
    "    print(\"length of time-series - inputs\", x.shape)\n",
    "    print(\"length of time-series - outputs\", y.shape)\n",
    "\n",
    "    return x, y\n",
    "\n",
    "train_cols = [\"Close\",\"H-L\",\"O-C\",\"7day MA\",\"14day MA\",\"21day MA\",\"% Change\"]\n",
    "params = {\n",
    "    \"batch_size\": 20,  # 20<16<10, 25 was a bust\n",
    "    \"epochs\": 100,\n",
    "    \"lr\": 0.00010000,\n",
    "    \"time_steps\": 10\n",
    "}\n",
    "TIME_STEPS = params[\"time_steps\"]\n",
    "BATCH_SIZE = params[\"batch_size\"]\n",
    "df_train, df_test = train_test_split(data, train_size=0.8, test_size=0.2, shuffle=False)\n",
    "print(\"Train--Test size\", len(df_train), len(df_test))\n",
    "x = df_train.loc[:,train_cols].values\n",
    "y = df_train.loc[:,[\"Predictions\"]].values\n",
    "min_max_scaler = MinMaxScaler()\n",
    "min_max_scaler_y = MinMaxScaler()\n",
    "x_train = min_max_scaler.fit_transform(x)\n",
    "y=min_max_scaler_y.fit_transform(y)\n",
    "x_test = min_max_scaler.transform(df_test.loc[:,train_cols])\n",
    "y_test = min_max_scaler_y.transform(df_test.loc[:,[\"Predictions\"]])\n",
    "# y_test=min_max_scaler_y.fit_transform(y_test)\n",
    "x_t, y_t = build_timeseries(x_train, y)\n",
    "x_t = trim_dataset(x_t, BATCH_SIZE)\n",
    "y_t = trim_dataset(y_t, BATCH_SIZE)\n",
    "# print(x_test.shape)\n",
    "print(\"Batch trimmed size\", x_t.shape, y_t.shape)"
   ]
  },
  {
   "cell_type": "code",
   "execution_count": 5,
   "metadata": {
    "collapsed": false,
    "pycharm": {
     "name": "#%%\n"
    }
   },
   "outputs": [
    {
     "name": "stdout",
     "output_type": "stream",
     "text": [
      "Length of inputs 183\n",
      "length of time-series - inputs (183, 10, 7)\n",
      "length of time-series - outputs (183,)\n"
     ]
    }
   ],
   "source": [
    "x_temp, y_temp = build_timeseries(x_test,y_test)\n",
    "x_val, x_test_t = np.split(trim_dataset(x_temp, BATCH_SIZE),2)\n",
    "y_val, y_test_t = np.split(trim_dataset(y_temp, BATCH_SIZE),2)"
   ]
  },
  {
   "cell_type": "code",
   "execution_count": 6,
   "metadata": {
    "collapsed": false,
    "pycharm": {
     "name": "#%%\n"
    }
   },
   "outputs": [
    {
     "name": "stdout",
     "output_type": "stream",
     "text": [
      "Metal device set to: Apple M1 Pro\n",
      "WARNING:tensorflow:Layer lstm will not use cuDNN kernels since it doesn't meet the criteria. It will use a generic GPU kernel as fallback when running on GPU.\n"
     ]
    },
    {
     "name": "stderr",
     "output_type": "stream",
     "text": [
      "2022-01-01 00:33:57.360740: I tensorflow/core/common_runtime/pluggable_device/pluggable_device_factory.cc:305] Could not identify NUMA node of platform GPU ID 0, defaulting to 0. Your kernel may not have been built with NUMA support.\n",
      "2022-01-01 00:33:57.361364: I tensorflow/core/common_runtime/pluggable_device/pluggable_device_factory.cc:271] Created TensorFlow device (/job:localhost/replica:0/task:0/device:GPU:0 with 0 MB memory) -> physical PluggableDevice (device: 0, name: METAL, pci bus id: <undefined>)\n"
     ]
    }
   ],
   "source": [
    "model=Sequential()\n",
    "model.add(Conv1D(32,kernel_size=1,input_shape=(x_t.shape[1],x_t.shape[2])))\n",
    "model.add(MaxPool1D(1))\n",
    "model.add(LSTM(64,activation='relu'))\n",
    "model.add(Dense(1))\n",
    "model.compile(\n",
    "    loss=\"mean_squared_error\",\n",
    "    optimizer='Adam'\n",
    ")"
   ]
  },
  {
   "cell_type": "code",
   "execution_count": 7,
   "metadata": {
    "collapsed": false,
    "pycharm": {
     "name": "#%%\n"
    }
   },
   "outputs": [
    {
     "name": "stdout",
     "output_type": "stream",
     "text": [
      "Model: \"sequential\"\n",
      "_________________________________________________________________\n",
      " Layer (type)                Output Shape              Param #   \n",
      "=================================================================\n",
      " conv1d (Conv1D)             (None, 10, 32)            256       \n",
      "                                                                 \n",
      " max_pooling1d (MaxPooling1D  (None, 10, 32)           0         \n",
      " )                                                               \n",
      "                                                                 \n",
      " lstm (LSTM)                 (None, 64)                24832     \n",
      "                                                                 \n",
      " dense (Dense)               (None, 1)                 65        \n",
      "                                                                 \n",
      "=================================================================\n",
      "Total params: 25,153\n",
      "Trainable params: 25,153\n",
      "Non-trainable params: 0\n",
      "_________________________________________________________________\n",
      "None\n"
     ]
    }
   ],
   "source": [
    "print(model.summary())"
   ]
  },
  {
   "cell_type": "markdown",
   "metadata": {
    "collapsed": false,
    "pycharm": {
     "name": "#%% md\n"
    }
   },
   "source": []
  },
  {
   "cell_type": "code",
   "execution_count": null,
   "metadata": {
    "collapsed": false,
    "pycharm": {
     "is_executing": true,
     "name": "#%%\n"
    }
   },
   "outputs": [
    {
     "name": "stdout",
     "output_type": "stream",
     "text": [
      "Epoch 1/300\n"
     ]
    },
    {
     "name": "stderr",
     "output_type": "stream",
     "text": [
      "2022-01-01 00:33:57.593257: W tensorflow/core/platform/profile_utils/cpu_utils.cc:128] Failed to get CPU frequency: 0 Hz\n",
      "2022-01-01 00:33:57.977651: I tensorflow/core/grappler/optimizers/custom_graph_optimizer_registry.cc:112] Plugin optimizer for device_type GPU is enabled.\n"
     ]
    }
   ],
   "source": [
    "es = EarlyStopping(monitor='val_loss', mode='min', verbose=1,patience=40, min_delta=0)\n",
    "history=model.fit(x_t,y_t,epochs=300,validation_data=(x_val,y_val),shuffle=False,callbacks=es)"
   ]
  },
  {
   "cell_type": "code",
   "execution_count": null,
   "metadata": {
    "collapsed": false,
    "pycharm": {
     "is_executing": true,
     "name": "#%%\n"
    }
   },
   "outputs": [],
   "source": [
    "plt.plot(history.history['loss'], label='train')\n",
    "plt.plot(history.history['val_loss'], label='test')\n",
    "plt.legend()"
   ]
  },
  {
   "cell_type": "code",
   "execution_count": null,
   "metadata": {
    "collapsed": false,
    "pycharm": {
     "is_executing": true,
     "name": "#%%\n"
    }
   },
   "outputs": [],
   "source": [
    "from sklearn.metrics import mean_squared_error\n",
    "\n",
    "y_pred = model.predict(trim_dataset(x_test_t, BATCH_SIZE), batch_size=BATCH_SIZE)\n",
    "y_pred = y_pred.flatten()\n",
    "y_test_t = trim_dataset(y_test_t, BATCH_SIZE)\n",
    "error = mean_squared_error(y_test_t, y_pred)\n",
    "print(\"Error is\", error, y_pred.shape, y_test_t.shape)\n",
    "print(y_pred[0:15])\n",
    "# convert the predicted value to range of real data\n",
    "y_pred_org = min_max_scaler_y.inverse_transform(y_pred.reshape(-1,1))\n",
    "# min_max_scaler.inverse_transform(y_pred)\n",
    "print(y_test_t[0:15])\n",
    "\n",
    "y_test_t_org = min_max_scaler_y.inverse_transform(y_test_t.reshape(-1,1))\n",
    "# min_max_scaler.inverse_transform(y_test_t)\n",
    "print(y_pred_org[0:15])\n",
    "print(y_test_t_org[0:15])"
   ]
  },
  {
   "cell_type": "code",
   "execution_count": null,
   "metadata": {
    "collapsed": false,
    "pycharm": {
     "is_executing": true,
     "name": "#%%\n"
    }
   },
   "outputs": [],
   "source": [
    "plt.figure()\n",
    "plt.plot(y_pred_org)\n",
    "plt.plot(y_test_t_org)\n",
    "plt.title('Prediction vs Real Stock Price')\n",
    "plt.ylabel('Price')\n",
    "plt.xlabel('Days')\n",
    "plt.legend(['Prediction', 'Real'], loc='upper left')"
   ]
  },
  {
   "cell_type": "code",
   "execution_count": null,
   "metadata": {
    "collapsed": false,
    "pycharm": {
     "is_executing": true,
     "name": "#%%\n"
    }
   },
   "outputs": [],
   "source": []
  }
 ],
 "metadata": {
  "kernelspec": {
   "display_name": "Python 3",
   "language": "python",
   "name": "python3"
  },
  "language_info": {
   "codemirror_mode": {
    "name": "ipython",
    "version": 2
   },
   "file_extension": ".py",
   "mimetype": "text/x-python",
   "name": "python",
   "nbconvert_exporter": "python",
   "pygments_lexer": "ipython2",
   "version": "3.9.7"
  }
 },
 "nbformat": 4,
 "nbformat_minor": 0
}
