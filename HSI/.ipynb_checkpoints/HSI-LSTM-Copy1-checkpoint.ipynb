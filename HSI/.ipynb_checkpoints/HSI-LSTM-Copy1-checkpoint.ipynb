{
 "cells": [
  {
   "cell_type": "code",
   "execution_count": 3,
   "metadata": {},
   "outputs": [
    {
     "name": "stderr",
     "output_type": "stream",
     "text": [
      "2022-04-08 23:48:40.872609: W tensorflow/stream_executor/platform/default/dso_loader.cc:64] Could not load dynamic library 'libcudart.so.11.0'; dlerror: libcudart.so.11.0: cannot open shared object file: No such file or directory\n",
      "2022-04-08 23:48:40.872945: I tensorflow/stream_executor/cuda/cudart_stub.cc:29] Ignore above cudart dlerror if you do not have a GPU set up on your machine.\n"
     ]
    }
   ],
   "source": [
    "import yfinance as yf\n",
    "import pandas as pd\n",
    "import numpy as np\n",
    "import matplotlib.pyplot as plt\n",
    "from sklearn.preprocessing import MinMaxScaler\n",
    "from sklearn.model_selection import train_test_split\n",
    "from sklearn.metrics import classification_report,accuracy_score, mean_squared_error,mean_absolute_percentage_error,r2_score\n",
    "import tensorflow as tf\n",
    "import talib\n",
    "from tensorflow import keras\n",
    "from sklearn.pipeline import make_pipeline\n",
    "from tensorflow.keras import regularizers"
   ]
  },
  {
   "cell_type": "code",
   "execution_count": 5,
   "metadata": {},
   "outputs": [
    {
     "name": "stdout",
     "output_type": "stream",
     "text": [
      "[*********************100%***********************]  1 of 1 completed\n"
     ]
    },
    {
     "name": "stderr",
     "output_type": "stream",
     "text": [
      "/tmp/ipykernel_231/238700504.py:2: FutureWarning: In a future version of pandas all arguments of DataFrame.drop except for the argument 'labels' will be keyword-only.\n",
      "  data.drop('Volume',1,inplace=True)\n"
     ]
    },
    {
     "data": {
      "text/html": [
       "<div>\n",
       "<style scoped>\n",
       "    .dataframe tbody tr th:only-of-type {\n",
       "        vertical-align: middle;\n",
       "    }\n",
       "\n",
       "    .dataframe tbody tr th {\n",
       "        vertical-align: top;\n",
       "    }\n",
       "\n",
       "    .dataframe thead th {\n",
       "        text-align: right;\n",
       "    }\n",
       "</style>\n",
       "<table border=\"1\" class=\"dataframe\">\n",
       "  <thead>\n",
       "    <tr style=\"text-align: right;\">\n",
       "      <th></th>\n",
       "      <th>Open</th>\n",
       "      <th>High</th>\n",
       "      <th>Low</th>\n",
       "      <th>Close</th>\n",
       "      <th>Adj Close</th>\n",
       "    </tr>\n",
       "    <tr>\n",
       "      <th>Date</th>\n",
       "      <th></th>\n",
       "      <th></th>\n",
       "      <th></th>\n",
       "      <th></th>\n",
       "      <th></th>\n",
       "    </tr>\n",
       "  </thead>\n",
       "  <tbody>\n",
       "    <tr>\n",
       "      <th>2020-01-02</th>\n",
       "      <td>60.849998</td>\n",
       "      <td>60.950001</td>\n",
       "      <td>60.599998</td>\n",
       "      <td>60.900002</td>\n",
       "      <td>58.232323</td>\n",
       "    </tr>\n",
       "    <tr>\n",
       "      <th>2020-01-03</th>\n",
       "      <td>60.900002</td>\n",
       "      <td>61.200001</td>\n",
       "      <td>60.250000</td>\n",
       "      <td>60.400002</td>\n",
       "      <td>57.754223</td>\n",
       "    </tr>\n",
       "    <tr>\n",
       "      <th>2020-01-06</th>\n",
       "      <td>60.099998</td>\n",
       "      <td>60.400002</td>\n",
       "      <td>59.799999</td>\n",
       "      <td>60.000000</td>\n",
       "      <td>57.371746</td>\n",
       "    </tr>\n",
       "    <tr>\n",
       "      <th>2020-01-07</th>\n",
       "      <td>60.200001</td>\n",
       "      <td>60.299999</td>\n",
       "      <td>59.799999</td>\n",
       "      <td>59.900002</td>\n",
       "      <td>57.276131</td>\n",
       "    </tr>\n",
       "    <tr>\n",
       "      <th>2020-01-08</th>\n",
       "      <td>59.299999</td>\n",
       "      <td>59.400002</td>\n",
       "      <td>58.849998</td>\n",
       "      <td>59.299999</td>\n",
       "      <td>56.702412</td>\n",
       "    </tr>\n",
       "    <tr>\n",
       "      <th>...</th>\n",
       "      <td>...</td>\n",
       "      <td>...</td>\n",
       "      <td>...</td>\n",
       "      <td>...</td>\n",
       "      <td>...</td>\n",
       "    </tr>\n",
       "    <tr>\n",
       "      <th>2021-12-24</th>\n",
       "      <td>46.450001</td>\n",
       "      <td>46.450001</td>\n",
       "      <td>46.450001</td>\n",
       "      <td>46.450001</td>\n",
       "      <td>46.280235</td>\n",
       "    </tr>\n",
       "    <tr>\n",
       "      <th>2021-12-28</th>\n",
       "      <td>46.500000</td>\n",
       "      <td>46.750000</td>\n",
       "      <td>46.299999</td>\n",
       "      <td>46.599998</td>\n",
       "      <td>46.429684</td>\n",
       "    </tr>\n",
       "    <tr>\n",
       "      <th>2021-12-29</th>\n",
       "      <td>46.799999</td>\n",
       "      <td>46.849998</td>\n",
       "      <td>46.500000</td>\n",
       "      <td>46.849998</td>\n",
       "      <td>46.678768</td>\n",
       "    </tr>\n",
       "    <tr>\n",
       "      <th>2021-12-30</th>\n",
       "      <td>46.900002</td>\n",
       "      <td>47.049999</td>\n",
       "      <td>46.750000</td>\n",
       "      <td>46.900002</td>\n",
       "      <td>46.728588</td>\n",
       "    </tr>\n",
       "    <tr>\n",
       "      <th>2021-12-31</th>\n",
       "      <td>46.950001</td>\n",
       "      <td>47.150002</td>\n",
       "      <td>46.700001</td>\n",
       "      <td>46.900002</td>\n",
       "      <td>46.728588</td>\n",
       "    </tr>\n",
       "  </tbody>\n",
       "</table>\n",
       "<p>495 rows × 5 columns</p>\n",
       "</div>"
      ],
      "text/plain": [
       "                 Open       High        Low      Close  Adj Close\n",
       "Date                                                             \n",
       "2020-01-02  60.849998  60.950001  60.599998  60.900002  58.232323\n",
       "2020-01-03  60.900002  61.200001  60.250000  60.400002  57.754223\n",
       "2020-01-06  60.099998  60.400002  59.799999  60.000000  57.371746\n",
       "2020-01-07  60.200001  60.299999  59.799999  59.900002  57.276131\n",
       "2020-01-08  59.299999  59.400002  58.849998  59.299999  56.702412\n",
       "...               ...        ...        ...        ...        ...\n",
       "2021-12-24  46.450001  46.450001  46.450001  46.450001  46.280235\n",
       "2021-12-28  46.500000  46.750000  46.299999  46.599998  46.429684\n",
       "2021-12-29  46.799999  46.849998  46.500000  46.849998  46.678768\n",
       "2021-12-30  46.900002  47.049999  46.750000  46.900002  46.728588\n",
       "2021-12-31  46.950001  47.150002  46.700001  46.900002  46.728588\n",
       "\n",
       "[495 rows x 5 columns]"
      ]
     },
     "execution_count": 5,
     "metadata": {},
     "output_type": "execute_result"
    }
   ],
   "source": [
    "data=yf.download('0005.hk','2020-01-01','2022-01-01')\n",
    "data.drop('Volume',1,inplace=True)\n",
    "data"
   ]
  },
  {
   "cell_type": "code",
   "execution_count": null,
   "metadata": {},
   "outputs": [],
   "source": []
  }
 ],
 "metadata": {
  "interpreter": {
   "hash": "f19cbfaa683fc1555f83efc3b7801acf2f75b0a32a422a0f0d5b51771971c3d0"
  },
  "kernelspec": {
   "display_name": "Python 3.9.7 ('FYP')",
   "language": "python",
   "name": "python3"
  },
  "language_info": {
   "codemirror_mode": {
    "name": "ipython",
    "version": 3
   },
   "file_extension": ".py",
   "mimetype": "text/x-python",
   "name": "python",
   "nbconvert_exporter": "python",
   "pygments_lexer": "ipython3",
   "version": "3.9.7"
  }
 },
 "nbformat": 4,
 "nbformat_minor": 2
}
