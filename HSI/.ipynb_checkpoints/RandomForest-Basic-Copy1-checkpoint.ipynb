{
 "cells": [
  {
   "cell_type": "code",
   "execution_count": 1,
   "id": "a2138cba",
   "metadata": {},
   "outputs": [],
   "source": [
    "import yfinance as yf\n",
    "import numpy as np\n",
    "import pandas as pd\n",
    "from sklearn.ensemble import RandomForestRegressor, RandomForestClassifier\n",
    "from sklearn.preprocessing import MinMaxScaler\n",
    "import matplotlib.pyplot as plt\n",
    "from sklearn.metrics import classification_report,accuracy_score, mean_squared_error,mean_absolute_percentage_error,r2_score\n",
    "import talib\n",
    "from sklearn.model_selection import train_test_split"
   ]
  },
  {
   "cell_type": "code",
   "execution_count": 2,
   "id": "316ed5eb",
   "metadata": {},
   "outputs": [
    {
     "name": "stdout",
     "output_type": "stream",
     "text": [
      "[*********************100%***********************]  1 of 1 completed\n"
     ]
    },
    {
     "name": "stderr",
     "output_type": "stream",
     "text": [
      "/var/folders/8h/w0jn89bj2w5g85gj4ck7w0t00000gn/T/ipykernel_62657/178164014.py:2: FutureWarning: In a future version of pandas all arguments of DataFrame.drop except for the argument 'labels' will be keyword-only.\n",
      "  data.drop('Volume',1,inplace=True)\n"
     ]
    },
    {
     "data": {
      "text/html": [
       "<div>\n",
       "<style scoped>\n",
       "    .dataframe tbody tr th:only-of-type {\n",
       "        vertical-align: middle;\n",
       "    }\n",
       "\n",
       "    .dataframe tbody tr th {\n",
       "        vertical-align: top;\n",
       "    }\n",
       "\n",
       "    .dataframe thead th {\n",
       "        text-align: right;\n",
       "    }\n",
       "</style>\n",
       "<table border=\"1\" class=\"dataframe\">\n",
       "  <thead>\n",
       "    <tr style=\"text-align: right;\">\n",
       "      <th></th>\n",
       "      <th>Open</th>\n",
       "      <th>High</th>\n",
       "      <th>Low</th>\n",
       "      <th>Close</th>\n",
       "      <th>Adj Close</th>\n",
       "    </tr>\n",
       "    <tr>\n",
       "      <th>Date</th>\n",
       "      <th></th>\n",
       "      <th></th>\n",
       "      <th></th>\n",
       "      <th></th>\n",
       "      <th></th>\n",
       "    </tr>\n",
       "  </thead>\n",
       "  <tbody>\n",
       "    <tr>\n",
       "      <th>2019-01-02</th>\n",
       "      <td>25824.439453</td>\n",
       "      <td>25824.439453</td>\n",
       "      <td>25055.269531</td>\n",
       "      <td>25130.349609</td>\n",
       "      <td>25130.349609</td>\n",
       "    </tr>\n",
       "    <tr>\n",
       "      <th>2019-01-03</th>\n",
       "      <td>25077.679688</td>\n",
       "      <td>25262.210938</td>\n",
       "      <td>24896.869141</td>\n",
       "      <td>25064.359375</td>\n",
       "      <td>25064.359375</td>\n",
       "    </tr>\n",
       "    <tr>\n",
       "      <th>2019-01-04</th>\n",
       "      <td>24946.119141</td>\n",
       "      <td>25626.029297</td>\n",
       "      <td>24924.730469</td>\n",
       "      <td>25626.029297</td>\n",
       "      <td>25626.029297</td>\n",
       "    </tr>\n",
       "    <tr>\n",
       "      <th>2019-01-07</th>\n",
       "      <td>26015.839844</td>\n",
       "      <td>26043.640625</td>\n",
       "      <td>25753.460938</td>\n",
       "      <td>25835.699219</td>\n",
       "      <td>25835.699219</td>\n",
       "    </tr>\n",
       "    <tr>\n",
       "      <th>2019-01-08</th>\n",
       "      <td>25852.500000</td>\n",
       "      <td>25960.890625</td>\n",
       "      <td>25688.500000</td>\n",
       "      <td>25875.449219</td>\n",
       "      <td>25875.449219</td>\n",
       "    </tr>\n",
       "    <tr>\n",
       "      <th>...</th>\n",
       "      <td>...</td>\n",
       "      <td>...</td>\n",
       "      <td>...</td>\n",
       "      <td>...</td>\n",
       "      <td>...</td>\n",
       "    </tr>\n",
       "    <tr>\n",
       "      <th>2021-12-24</th>\n",
       "      <td>23375.990234</td>\n",
       "      <td>23383.189453</td>\n",
       "      <td>23186.570312</td>\n",
       "      <td>23223.759766</td>\n",
       "      <td>23223.759766</td>\n",
       "    </tr>\n",
       "    <tr>\n",
       "      <th>2021-12-28</th>\n",
       "      <td>23282.349609</td>\n",
       "      <td>23319.439453</td>\n",
       "      <td>23099.480469</td>\n",
       "      <td>23280.560547</td>\n",
       "      <td>23280.560547</td>\n",
       "    </tr>\n",
       "    <tr>\n",
       "      <th>2021-12-29</th>\n",
       "      <td>23253.980469</td>\n",
       "      <td>23253.980469</td>\n",
       "      <td>23008.279297</td>\n",
       "      <td>23086.539062</td>\n",
       "      <td>23086.539062</td>\n",
       "    </tr>\n",
       "    <tr>\n",
       "      <th>2021-12-30</th>\n",
       "      <td>23130.449219</td>\n",
       "      <td>23248.259766</td>\n",
       "      <td>22990.240234</td>\n",
       "      <td>23112.009766</td>\n",
       "      <td>23112.009766</td>\n",
       "    </tr>\n",
       "    <tr>\n",
       "      <th>2021-12-31</th>\n",
       "      <td>23553.789062</td>\n",
       "      <td>23590.119141</td>\n",
       "      <td>23394.769531</td>\n",
       "      <td>23397.669922</td>\n",
       "      <td>23397.669922</td>\n",
       "    </tr>\n",
       "  </tbody>\n",
       "</table>\n",
       "<p>741 rows × 5 columns</p>\n",
       "</div>"
      ],
      "text/plain": [
       "                    Open          High           Low         Close  \\\n",
       "Date                                                                 \n",
       "2019-01-02  25824.439453  25824.439453  25055.269531  25130.349609   \n",
       "2019-01-03  25077.679688  25262.210938  24896.869141  25064.359375   \n",
       "2019-01-04  24946.119141  25626.029297  24924.730469  25626.029297   \n",
       "2019-01-07  26015.839844  26043.640625  25753.460938  25835.699219   \n",
       "2019-01-08  25852.500000  25960.890625  25688.500000  25875.449219   \n",
       "...                  ...           ...           ...           ...   \n",
       "2021-12-24  23375.990234  23383.189453  23186.570312  23223.759766   \n",
       "2021-12-28  23282.349609  23319.439453  23099.480469  23280.560547   \n",
       "2021-12-29  23253.980469  23253.980469  23008.279297  23086.539062   \n",
       "2021-12-30  23130.449219  23248.259766  22990.240234  23112.009766   \n",
       "2021-12-31  23553.789062  23590.119141  23394.769531  23397.669922   \n",
       "\n",
       "               Adj Close  \n",
       "Date                      \n",
       "2019-01-02  25130.349609  \n",
       "2019-01-03  25064.359375  \n",
       "2019-01-04  25626.029297  \n",
       "2019-01-07  25835.699219  \n",
       "2019-01-08  25875.449219  \n",
       "...                  ...  \n",
       "2021-12-24  23223.759766  \n",
       "2021-12-28  23280.560547  \n",
       "2021-12-29  23086.539062  \n",
       "2021-12-30  23112.009766  \n",
       "2021-12-31  23397.669922  \n",
       "\n",
       "[741 rows x 5 columns]"
      ]
     },
     "execution_count": 2,
     "metadata": {},
     "output_type": "execute_result"
    }
   ],
   "source": [
    "data=yf.download('^HSI','2019-01-01','2022-01-01')\n",
    "data.drop('Volume',1,inplace=True)\n",
    "data"
   ]
  },
  {
   "cell_type": "code",
   "execution_count": 3,
   "id": "54833d4f",
   "metadata": {},
   "outputs": [],
   "source": [
    "# data['6day MA'] = data['Close'].rolling(window = 6).mean()\n",
    "# data['12day MA'] = data['Close'].rolling(window = 12).mean()\n",
    "# data['RSI'] = talib.RSI(data['Close'].values, timeperiod = 7)\n",
    "# data['%R5'] = talib.WILLR(data['High'].values, data['Low'].values, data['Close'].values, 5)\n",
    "# data['%R10'] = talib.WILLR(data['High'].values, data['Low'].values, data['Close'].values, 10)\n",
    "# data['MI6']=talib.MOM(data['Close'],timeperiod=6)\n",
    "# data['MI12']=talib.MOM(data['Close'],timeperiod=12)\n",
    "# macd, macdsignal, macdhist = talib.MACD(data['Close'], fastperiod=12, slowperiod=26, signalperiod=9)\n",
    "# data['EMA12']=talib.EMA(data['Close'], timeperiod=12)\n",
    "# data['EMA26']=talib.EMA(data['Close'],timeperiod=26)\n",
    "# data['MACD']=macd\n",
    "# data['TR']=talib.TRANGE(data['High'],data['Low'],data['Close'])\n",
    "# data['OSC6']=talib.CMO(data['Close'], timeperiod=6)\n",
    "# data['OSC12']=talib.CMO(data['Close'], timeperiod=12)\n",
    "data['Prediction']=data['Close'].shift(-1)\n",
    "data.dropna(inplace=True)"
   ]
  },
  {
   "cell_type": "code",
   "execution_count": 4,
   "id": "76dc1a7d",
   "metadata": {},
   "outputs": [
    {
     "name": "stdout",
     "output_type": "stream",
     "text": [
      "(512, 5) (512,) (128, 5) (128,)\n"
     ]
    },
    {
     "name": "stderr",
     "output_type": "stream",
     "text": [
      "/var/folders/8h/w0jn89bj2w5g85gj4ck7w0t00000gn/T/ipykernel_62657/3874758844.py:5: FutureWarning: In a future version of pandas all arguments of DataFrame.drop except for the argument 'labels' will be keyword-only.\n",
      "  X=sc.fit_transform(data.drop('Prediction',1))\n"
     ]
    }
   ],
   "source": [
    "# data.drop(['OSC12','OSC6','MI12','MI6','%R10','%R5','RSI','TR'],1,inplace=True)\n",
    "data_val=data[-100:]\n",
    "data=data[:-100]\n",
    "sc = MinMaxScaler(feature_range = (-1, 1))\n",
    "X=sc.fit_transform(data.drop('Prediction',1))\n",
    "# X=data.drop('Prediction',1).values\n",
    "# Y = data[\"Prediction\"].values.reshape(-1,1)\n",
    "# Y = sc_y.fit_transform(data[\"Prediction\"].values.reshape(-1,1))\n",
    "Y=np.array(data[\"Prediction\"])\n",
    "X_train, X_test, y_train, y_test = train_test_split(X, Y, test_size=0.2,shuffle=False)\n",
    "# X_train = X_train.reshape((X_train.shape[0], 1, X_train.shape[1]))\n",
    "# X_test = X_test.reshape((X_test.shape[0], 1, X_test.shape[1]))\n",
    "print(X_train.shape,y_train.shape,X_test.shape,y_test.shape)"
   ]
  },
  {
   "cell_type": "code",
   "execution_count": 5,
   "id": "46bc37e9",
   "metadata": {},
   "outputs": [],
   "source": [
    "clf = RandomForestRegressor()"
   ]
  },
  {
   "cell_type": "code",
   "execution_count": 6,
   "id": "936742f1",
   "metadata": {},
   "outputs": [],
   "source": [
    "model = clf.fit(X_train, y_train)"
   ]
  },
  {
   "cell_type": "code",
   "execution_count": 7,
   "id": "518dad18",
   "metadata": {},
   "outputs": [],
   "source": [
    "y_pred=model.predict(X_test)"
   ]
  },
  {
   "cell_type": "code",
   "execution_count": 8,
   "id": "4b7ae360",
   "metadata": {},
   "outputs": [
    {
     "data": {
      "text/plain": [
       "array([28625.36132812, 28427.84544922, 29315.61777344, 29011.68404297,\n",
       "       28994.30171875, 28901.34775391, 28958.55912109, 28877.31701172,\n",
       "       29391.70076172, 29633.77201172, 29888.82939453, 29902.58396484,\n",
       "       29902.58396484, 29902.58396484, 29902.58396484, 29902.58396484,\n",
       "       29902.58396484, 29804.43074219, 30039.00587891, 28770.68259766,\n",
       "       29395.31767578, 28834.09572266, 29675.87503906, 28824.18705078,\n",
       "       29281.90800781, 28574.54167969, 28789.20199219, 28739.20351562,\n",
       "       29257.61439453, 28548.66234375, 28905.09623047, 28854.23492187,\n",
       "       28931.01484375, 29387.22066406, 28707.97630859, 28944.99082031,\n",
       "       28595.53953125, 28062.40949219, 27946.52171875, 28106.35498047,\n",
       "       28215.36982422, 28670.144375  , 28415.52759766, 28978.68367187,\n",
       "       28616.08072266, 29185.05279297, 28611.05984375, 28374.44791016,\n",
       "       28474.90111328, 28968.08525391, 28785.31339844, 29061.27890625,\n",
       "       28820.88726562, 28812.38720703, 28760.69103516, 28770.30378906,\n",
       "       29273.71695313, 28606.46265625, 28844.62207031, 28896.72699219,\n",
       "       29059.78599609, 28533.50703125, 28399.90861328, 28543.92601562,\n",
       "       28378.22691406, 28884.52859375, 28700.05535156, 28686.010625  ,\n",
       "       28131.49949219, 28329.5015625 , 27723.99613281, 27725.98777344,\n",
       "       28382.07767578, 28536.15582031, 28351.74144531, 28465.48847656,\n",
       "       28098.47068359, 29170.11792969, 28931.46248047, 28819.13865234,\n",
       "       28881.003125  , 28750.77435547, 29381.79490234, 28982.84740234,\n",
       "       28819.00105469, 28958.15681641, 28645.31160156, 28780.42896484,\n",
       "       28710.86164063, 28746.55662109, 28927.55974609, 28717.58097656,\n",
       "       28392.82189453, 28569.46861328, 28596.48226562, 28483.86353516,\n",
       "       28422.11681641, 29165.84298828, 28936.20353516, 28944.34076172,\n",
       "       29043.60431641, 28718.65070313, 28695.89234375, 28423.08597656,\n",
       "       28083.62498047, 28183.44492188, 27552.96587891, 27156.08773437,\n",
       "       27149.57230469, 27762.34826172, 27690.23644531, 27651.73169922,\n",
       "       27868.52414062, 28187.63638672, 27491.12564453, 27395.38054687,\n",
       "       27290.82966797, 27418.64753906, 27315.17408203, 26193.33414063,\n",
       "       25124.77980469, 25274.28121094, 26315.40753906, 26049.65738281,\n",
       "       26126.29613281, 26149.49693359, 26411.06244141, 26308.53697266])"
      ]
     },
     "execution_count": 8,
     "metadata": {},
     "output_type": "execute_result"
    }
   ],
   "source": [
    "y_pred"
   ]
  },
  {
   "cell_type": "code",
   "execution_count": 9,
   "id": "494837c5",
   "metadata": {},
   "outputs": [
    {
     "data": {
      "image/png": "[encoded data removed]",
      "text/plain": [
       "<Figure size 432x288 with 1 Axes>"
      ]
     },
     "metadata": {
      "needs_background": "light"
     },
     "output_type": "display_data"
    }
   ],
   "source": [
    "plt.plot(np.arange(0, len(y_train)), y_train, 'g', label=\"history\")\n",
    "plt.plot(np.arange(len(y_train), len(y_train) + len(y_test)), y_test, marker='.', label=\"true\")\n",
    "plt.plot(np.arange(len(y_train), len(y_train) + len(y_test)), y_pred, 'r', label=\"prediction\")\n",
    "plt.ylabel('Value')\n",
    "plt.xlabel('Time Step')\n",
    "plt.legend()\n",
    "plt.show();"
   ]
  },
  {
   "cell_type": "code",
   "execution_count": 10,
   "id": "b4cef2d8",
   "metadata": {},
   "outputs": [
    {
     "data": {
      "text/plain": [
       "0.011724740449344698"
      ]
     },
     "execution_count": 10,
     "metadata": {},
     "output_type": "execute_result"
    }
   ],
   "source": [
    "mean_absolute_percentage_error(y_test,y_pred)"
   ]
  },
  {
   "cell_type": "code",
   "execution_count": 11,
   "id": "de4a9225",
   "metadata": {},
   "outputs": [
    {
     "data": {
      "text/plain": [
       "177869.19592660296"
      ]
     },
     "execution_count": 11,
     "metadata": {},
     "output_type": "execute_result"
    }
   ],
   "source": [
    "mean_squared_error(y_test,y_pred)"
   ]
  },
  {
   "cell_type": "code",
   "execution_count": 17,
   "id": "3f6a8435",
   "metadata": {},
   "outputs": [
    {
     "data": {
      "image/png": "[encoded data removed]",
      "text/plain": [
       "<Figure size 432x288 with 1 Axes>"
      ]
     },
     "metadata": {
      "needs_background": "light"
     },
     "output_type": "display_data"
    }
   ],
   "source": [
    "# y_test = sc.inverse_transform(y_test)\n",
    "# y_pred = sc.inverse_transform(y_pred)\n",
    "plt.plot(y_test, marker='.', label=\"true\")\n",
    "plt.plot(y_pred, 'r', label=\"prediction\")\n",
    "plt.ylabel('Value')\n",
    "plt.xlabel('Time Step')\n",
    "plt.title('HSI-RF-NoIndicator')\n",
    "plt.legend()\n",
    "plt.show();"
   ]
  },
  {
   "cell_type": "code",
   "execution_count": 13,
   "id": "4bd542cf",
   "metadata": {},
   "outputs": [
    {
     "data": {
      "text/plain": [
       "0.011724740449344698"
      ]
     },
     "execution_count": 13,
     "metadata": {},
     "output_type": "execute_result"
    }
   ],
   "source": [
    "mean_absolute_percentage_error(y_test,y_pred)"
   ]
  },
  {
   "cell_type": "code",
   "execution_count": 14,
   "id": "b8b6e45f",
   "metadata": {},
   "outputs": [
    {
     "data": {
      "text/plain": [
       "421.7454160113693"
      ]
     },
     "execution_count": 14,
     "metadata": {},
     "output_type": "execute_result"
    }
   ],
   "source": [
    "mean_squared_error(y_test,y_pred,squared=False)"
   ]
  },
  {
   "cell_type": "code",
   "execution_count": 15,
   "id": "e6cd6938",
   "metadata": {},
   "outputs": [
    {
     "data": {
      "text/plain": [
       "0.8314082149339375"
      ]
     },
     "execution_count": 15,
     "metadata": {},
     "output_type": "execute_result"
    }
   ],
   "source": [
    "r2_score(y_test,y_pred)"
   ]
  },
  {
   "cell_type": "code",
   "execution_count": null,
   "id": "24f057e8",
   "metadata": {},
   "outputs": [],
   "source": []
  }
 ],
 "metadata": {
  "kernelspec": {
   "display_name": "Python 3 (ipykernel)",
   "language": "python",
   "name": "python3"
  },
  "language_info": {
   "codemirror_mode": {
    "name": "ipython",
    "version": 3
   },
   "file_extension": ".py",
   "mimetype": "text/x-python",
   "name": "python",
   "nbconvert_exporter": "python",
   "pygments_lexer": "ipython3",
   "version": "3.8.13"
  }
 },
 "nbformat": 4,
 "nbformat_minor": 5
}
