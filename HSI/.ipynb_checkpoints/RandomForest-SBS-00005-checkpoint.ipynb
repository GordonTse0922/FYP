{
 "cells": [
  {
   "cell_type": "code",
   "execution_count": 1,
   "id": "a2138cba",
   "metadata": {},
   "outputs": [],
   "source": [
    "import yfinance as yf\n",
    "import numpy as np\n",
    "import pandas as pd\n",
    "from sklearn.ensemble import RandomForestRegressor, RandomForestClassifier\n",
    "from sklearn.preprocessing import MinMaxScaler\n",
    "import matplotlib.pyplot as plt\n",
    "from sklearn.metrics import classification_report,accuracy_score, mean_squared_error,mean_absolute_percentage_error,r2_score\n",
    "import talib\n",
    "from sklearn.model_selection import train_test_split"
   ]
  },
  {
   "cell_type": "code",
   "execution_count": 2,
   "id": "316ed5eb",
   "metadata": {},
   "outputs": [
    {
     "name": "stdout",
     "output_type": "stream",
     "text": [
      "[*********************100%***********************]  1 of 1 completed\n"
     ]
    },
    {
     "data": {
      "text/html": [
       "<div>\n",
       "<style scoped>\n",
       "    .dataframe tbody tr th:only-of-type {\n",
       "        vertical-align: middle;\n",
       "    }\n",
       "\n",
       "    .dataframe tbody tr th {\n",
       "        vertical-align: top;\n",
       "    }\n",
       "\n",
       "    .dataframe thead th {\n",
       "        text-align: right;\n",
       "    }\n",
       "</style>\n",
       "<table border=\"1\" class=\"dataframe\">\n",
       "  <thead>\n",
       "    <tr style=\"text-align: right;\">\n",
       "      <th></th>\n",
       "      <th>Open</th>\n",
       "      <th>High</th>\n",
       "      <th>Low</th>\n",
       "      <th>Close</th>\n",
       "      <th>Adj Close</th>\n",
       "      <th>Volume</th>\n",
       "    </tr>\n",
       "    <tr>\n",
       "      <th>Date</th>\n",
       "      <th></th>\n",
       "      <th></th>\n",
       "      <th></th>\n",
       "      <th></th>\n",
       "      <th></th>\n",
       "      <th></th>\n",
       "    </tr>\n",
       "  </thead>\n",
       "  <tbody>\n",
       "    <tr>\n",
       "      <th>2019-01-02</th>\n",
       "      <td>315.000000</td>\n",
       "      <td>315.000000</td>\n",
       "      <td>306.200012</td>\n",
       "      <td>306.600006</td>\n",
       "      <td>304.080292</td>\n",
       "      <td>15721297</td>\n",
       "    </tr>\n",
       "    <tr>\n",
       "      <th>2019-01-03</th>\n",
       "      <td>304.000000</td>\n",
       "      <td>309.399994</td>\n",
       "      <td>302.799988</td>\n",
       "      <td>305.000000</td>\n",
       "      <td>302.493439</td>\n",
       "      <td>16420034</td>\n",
       "    </tr>\n",
       "    <tr>\n",
       "      <th>2019-01-04</th>\n",
       "      <td>300.399994</td>\n",
       "      <td>311.000000</td>\n",
       "      <td>300.399994</td>\n",
       "      <td>310.600006</td>\n",
       "      <td>308.047394</td>\n",
       "      <td>19329055</td>\n",
       "    </tr>\n",
       "    <tr>\n",
       "      <th>2019-01-07</th>\n",
       "      <td>318.000000</td>\n",
       "      <td>318.799988</td>\n",
       "      <td>313.600006</td>\n",
       "      <td>317.600006</td>\n",
       "      <td>314.989868</td>\n",
       "      <td>24890962</td>\n",
       "    </tr>\n",
       "    <tr>\n",
       "      <th>2019-01-08</th>\n",
       "      <td>318.000000</td>\n",
       "      <td>318.600006</td>\n",
       "      <td>312.000000</td>\n",
       "      <td>315.600006</td>\n",
       "      <td>313.006317</td>\n",
       "      <td>16264928</td>\n",
       "    </tr>\n",
       "    <tr>\n",
       "      <th>...</th>\n",
       "      <td>...</td>\n",
       "      <td>...</td>\n",
       "      <td>...</td>\n",
       "      <td>...</td>\n",
       "      <td>...</td>\n",
       "      <td>...</td>\n",
       "    </tr>\n",
       "    <tr>\n",
       "      <th>2022-04-01</th>\n",
       "      <td>367.000000</td>\n",
       "      <td>378.799988</td>\n",
       "      <td>362.200012</td>\n",
       "      <td>378.799988</td>\n",
       "      <td>378.799988</td>\n",
       "      <td>14496674</td>\n",
       "    </tr>\n",
       "    <tr>\n",
       "      <th>2022-04-04</th>\n",
       "      <td>388.799988</td>\n",
       "      <td>391.000000</td>\n",
       "      <td>383.799988</td>\n",
       "      <td>390.000000</td>\n",
       "      <td>390.000000</td>\n",
       "      <td>15665556</td>\n",
       "    </tr>\n",
       "    <tr>\n",
       "      <th>2022-04-06</th>\n",
       "      <td>383.000000</td>\n",
       "      <td>385.000000</td>\n",
       "      <td>380.000000</td>\n",
       "      <td>381.000000</td>\n",
       "      <td>381.000000</td>\n",
       "      <td>17127923</td>\n",
       "    </tr>\n",
       "    <tr>\n",
       "      <th>2022-04-07</th>\n",
       "      <td>375.600006</td>\n",
       "      <td>383.600006</td>\n",
       "      <td>373.799988</td>\n",
       "      <td>374.399994</td>\n",
       "      <td>374.399994</td>\n",
       "      <td>15874056</td>\n",
       "    </tr>\n",
       "    <tr>\n",
       "      <th>2022-04-08</th>\n",
       "      <td>370.000000</td>\n",
       "      <td>372.200012</td>\n",
       "      <td>366.000000</td>\n",
       "      <td>369.600006</td>\n",
       "      <td>369.600006</td>\n",
       "      <td>19600870</td>\n",
       "    </tr>\n",
       "  </tbody>\n",
       "</table>\n",
       "<p>807 rows × 6 columns</p>\n",
       "</div>"
      ],
      "text/plain": [
       "                  Open        High         Low       Close   Adj Close  \\\n",
       "Date                                                                     \n",
       "2019-01-02  315.000000  315.000000  306.200012  306.600006  304.080292   \n",
       "2019-01-03  304.000000  309.399994  302.799988  305.000000  302.493439   \n",
       "2019-01-04  300.399994  311.000000  300.399994  310.600006  308.047394   \n",
       "2019-01-07  318.000000  318.799988  313.600006  317.600006  314.989868   \n",
       "2019-01-08  318.000000  318.600006  312.000000  315.600006  313.006317   \n",
       "...                ...         ...         ...         ...         ...   \n",
       "2022-04-01  367.000000  378.799988  362.200012  378.799988  378.799988   \n",
       "2022-04-04  388.799988  391.000000  383.799988  390.000000  390.000000   \n",
       "2022-04-06  383.000000  385.000000  380.000000  381.000000  381.000000   \n",
       "2022-04-07  375.600006  383.600006  373.799988  374.399994  374.399994   \n",
       "2022-04-08  370.000000  372.200012  366.000000  369.600006  369.600006   \n",
       "\n",
       "              Volume  \n",
       "Date                  \n",
       "2019-01-02  15721297  \n",
       "2019-01-03  16420034  \n",
       "2019-01-04  19329055  \n",
       "2019-01-07  24890962  \n",
       "2019-01-08  16264928  \n",
       "...              ...  \n",
       "2022-04-01  14496674  \n",
       "2022-04-04  15665556  \n",
       "2022-04-06  17127923  \n",
       "2022-04-07  15874056  \n",
       "2022-04-08  19600870  \n",
       "\n",
       "[807 rows x 6 columns]"
      ]
     },
     "execution_count": 2,
     "metadata": {},
     "output_type": "execute_result"
    }
   ],
   "source": [
    "data=yf.download('0700.hk','2019-01-01','2022-04-09')\n",
    "# data.drop('Volume',1,inplace=True)\n",
    "data"
   ]
  },
  {
   "cell_type": "code",
   "execution_count": 3,
   "id": "54833d4f",
   "metadata": {},
   "outputs": [],
   "source": [
    "data['6day MA'] = data['Close'].rolling(window = 6).mean()\n",
    "data['12day MA'] = data['Close'].rolling(window = 12).mean()\n",
    "data['RSI'] = talib.RSI(data['Close'].values, timeperiod = 7)\n",
    "data['%R5'] = talib.WILLR(data['High'].values, data['Low'].values, data['Close'].values, 5)\n",
    "data['%R10'] = talib.WILLR(data['High'].values, data['Low'].values, data['Close'].values, 10)\n",
    "data['MI6']=talib.MOM(data['Close'],timeperiod=6)\n",
    "data['MI12']=talib.MOM(data['Close'],timeperiod=12)\n",
    "macd, macdsignal, macdhist = talib.MACD(data['Close'], fastperiod=12, slowperiod=26, signalperiod=9)\n",
    "data['EMA12']=talib.EMA(data['Close'], timeperiod=12)\n",
    "data['EMA26']=talib.EMA(data['Close'],timeperiod=26)\n",
    "data['MACD']=macd\n",
    "data['TR']=talib.TRANGE(data['High'],data['Low'],data['Close'])\n",
    "data['OSC6']=talib.CMO(data['Close'], timeperiod=6)\n",
    "data['OSC12']=talib.CMO(data['Close'], timeperiod=12)\n",
    "data['Prediction']=data['Close'].shift(-1)\n",
    "data.dropna(inplace=True)\n",
    "target=data['Prediction']"
   ]
  },
  {
   "cell_type": "code",
   "execution_count": 4,
   "id": "f1a3a53f",
   "metadata": {},
   "outputs": [
    {
     "name": "stderr",
     "output_type": "stream",
     "text": [
      "/var/folders/8h/w0jn89bj2w5g85gj4ck7w0t00000gn/T/ipykernel_59506/2118434002.py:11: FutureWarning: In a future version of pandas all arguments of DataFrame.drop except for the argument 'labels' will be keyword-only.\n",
      "  backwardModel.fit(np.array(data.drop('Prediction',1)),target.values)\n",
      "[Parallel(n_jobs=-1)]: Using backend LokyBackend with 8 concurrent workers.\n",
      "[Parallel(n_jobs=-1)]: Done  14 out of  19 | elapsed:    4.7s remaining:    1.7s\n",
      "[Parallel(n_jobs=-1)]: Done  19 out of  19 | elapsed:    6.1s finished\n",
      "\n",
      "[2022-04-13 19:37:50] Features: 18/10 -- score: 0.7630705298542563[Parallel(n_jobs=-1)]: Using backend LokyBackend with 8 concurrent workers.\n",
      "[Parallel(n_jobs=-1)]: Done  13 out of  18 | elapsed:    3.4s remaining:    1.3s\n",
      "[Parallel(n_jobs=-1)]: Done  18 out of  18 | elapsed:    4.8s finished\n",
      "\n",
      "[2022-04-13 19:37:55] Features: 17/10 -- score: 0.7660760181785777[Parallel(n_jobs=-1)]: Using backend LokyBackend with 8 concurrent workers.\n",
      "[Parallel(n_jobs=-1)]: Done  11 out of  17 | elapsed:    3.3s remaining:    1.8s\n",
      "[Parallel(n_jobs=-1)]: Done  17 out of  17 | elapsed:    4.6s finished\n",
      "\n",
      "[2022-04-13 19:37:59] Features: 16/10 -- score: 0.7668363434255456[Parallel(n_jobs=-1)]: Using backend LokyBackend with 8 concurrent workers.\n",
      "[Parallel(n_jobs=-1)]: Done  10 out of  16 | elapsed:    3.2s remaining:    1.9s\n",
      "[Parallel(n_jobs=-1)]: Done  16 out of  16 | elapsed:    3.4s finished\n",
      "\n",
      "[2022-04-13 19:38:03] Features: 15/10 -- score: 0.7741123430573554[Parallel(n_jobs=-1)]: Using backend LokyBackend with 8 concurrent workers.\n",
      "[Parallel(n_jobs=-1)]: Done   8 out of  15 | elapsed:    1.6s remaining:    1.4s\n",
      "[Parallel(n_jobs=-1)]: Done  15 out of  15 | elapsed:    2.9s finished\n",
      "\n",
      "[2022-04-13 19:38:06] Features: 14/10 -- score: 0.780754942313873[Parallel(n_jobs=-1)]: Using backend LokyBackend with 8 concurrent workers.\n",
      "[Parallel(n_jobs=-1)]: Done   7 out of  14 | elapsed:    1.5s remaining:    1.5s\n",
      "[Parallel(n_jobs=-1)]: Done  14 out of  14 | elapsed:    2.7s finished\n",
      "\n",
      "[2022-04-13 19:38:08] Features: 13/10 -- score: 0.7743700704822187[Parallel(n_jobs=-1)]: Using backend LokyBackend with 8 concurrent workers.\n",
      "[Parallel(n_jobs=-1)]: Done   5 out of  13 | elapsed:    1.3s remaining:    2.2s\n",
      "[Parallel(n_jobs=-1)]: Done  13 out of  13 | elapsed:    2.5s finished\n",
      "\n",
      "[2022-04-13 19:38:11] Features: 12/10 -- score: 0.7976441077501347[Parallel(n_jobs=-1)]: Using backend LokyBackend with 8 concurrent workers.\n",
      "[Parallel(n_jobs=-1)]: Done   4 out of  12 | elapsed:    1.5s remaining:    2.9s\n",
      "[Parallel(n_jobs=-1)]: Done  12 out of  12 | elapsed:    2.6s finished\n",
      "\n",
      "[2022-04-13 19:38:13] Features: 11/10 -- score: 0.8002012848380093[Parallel(n_jobs=-1)]: Using backend LokyBackend with 8 concurrent workers.\n",
      "[Parallel(n_jobs=-1)]: Done   2 out of  11 | elapsed:    1.2s remaining:    5.4s\n",
      "[Parallel(n_jobs=-1)]: Done   8 out of  11 | elapsed:    1.3s remaining:    0.5s\n",
      "[Parallel(n_jobs=-1)]: Done  11 out of  11 | elapsed:    2.1s finished\n",
      "\n",
      "[2022-04-13 19:38:16] Features: 10/10 -- score: 0.8046880768787309"
     ]
    },
    {
     "data": {
      "text/plain": [
       "SequentialFeatureSelector(estimator=RandomForestRegressor(), forward=False,\n",
       "                          k_features=10, n_jobs=-1, scoring='r2', verbose=2)"
      ]
     },
     "execution_count": 4,
     "metadata": {},
     "output_type": "execute_result"
    }
   ],
   "source": [
    "from mlxtend.feature_selection import SequentialFeatureSelector as sfs\n",
    "from sklearn.ensemble import RandomForestRegressor\n",
    "#k_features=10 (It will get top 10 features best suited for prediction)\n",
    "#forward=False (Backward feature selection model)\n",
    "#verbose=2 (It will show details output as shown below.)\n",
    "#cv=5 (Kfold cross valiation: it will split the training set in 5 set and 4 will be using for training the model and 1 will using as validation)\n",
    "#n_jobs=-1 (Number of cores it will use for execution.-1 means it will use all the cores of CPU for execution.)\n",
    "#scoring='r2'(R-squared is a statistical measure of how close the data are to the fitted regression line)\n",
    "backwardModel=sfs(RandomForestRegressor(),k_features=10,forward=False,verbose=2,cv=5,n_jobs=-1,scoring='r2')\n",
    "#We will convert our training data into numpy array. If we will not convert it, model is not able to read some of the column names.\n",
    "backwardModel.fit(np.array(data.drop('Prediction',1)),target.values)"
   ]
  },
  {
   "cell_type": "code",
   "execution_count": 5,
   "id": "76dc1a7d",
   "metadata": {},
   "outputs": [
    {
     "name": "stdout",
     "output_type": "stream",
     "text": [
      "(538, 10) (538,) (135, 10) (135,)\n"
     ]
    },
    {
     "name": "stderr",
     "output_type": "stream",
     "text": [
      "/var/folders/8h/w0jn89bj2w5g85gj4ck7w0t00000gn/T/ipykernel_59506/1151953013.py:3: SettingWithCopyWarning: \n",
      "A value is trying to be set on a copy of a slice from a DataFrame.\n",
      "Try using .loc[row_indexer,col_indexer] = value instead\n",
      "\n",
      "See the caveats in the documentation: https://pandas.pydata.org/pandas-docs/stable/user_guide/indexing.html#returning-a-view-versus-a-copy\n",
      "  data['Prediction']=target\n",
      "/var/folders/8h/w0jn89bj2w5g85gj4ck7w0t00000gn/T/ipykernel_59506/1151953013.py:8: FutureWarning: In a future version of pandas all arguments of DataFrame.drop except for the argument 'labels' will be keyword-only.\n",
      "  X=data.drop('Prediction',1).values\n"
     ]
    }
   ],
   "source": [
    "# data.drop(['OSC12','OSC6','MI12','MI6','%R10','%R5','RSI','TR'],1,inplace=True)\n",
    "data=data[data.columns[list(backwardModel.k_feature_idx_)]]\n",
    "data['Prediction']=target\n",
    "data_val=data[-100:]\n",
    "data=data[:-100]\n",
    "sc = MinMaxScaler(feature_range = (-1, 1))\n",
    "# X=sc.fit_transform(data.drop('Prediction',1))\n",
    "X=data.drop('Prediction',1).values\n",
    "# Y = data[\"Prediction\"].values.reshape(-1,1)\n",
    "# Y = sc_y.fit_transform(data[\"Prediction\"].values.reshape(-1,1))\n",
    "Y=np.array(data[\"Prediction\"])\n",
    "X_train, X_test, y_train, y_test = train_test_split(X, Y, test_size=0.2,shuffle=False)\n",
    "# X_train = X_train.reshape((X_train.shape[0], 1, X_train.shape[1]))\n",
    "# X_test = X_test.reshape((X_test.shape[0], 1, X_test.shape[1]))\n",
    "print(X_train.shape,y_train.shape,X_test.shape,y_test.shape)"
   ]
  },
  {
   "cell_type": "code",
   "execution_count": 6,
   "id": "46bc37e9",
   "metadata": {},
   "outputs": [],
   "source": [
    "clf = RandomForestRegressor()"
   ]
  },
  {
   "cell_type": "code",
   "execution_count": 7,
   "id": "936742f1",
   "metadata": {},
   "outputs": [],
   "source": [
    "model = clf.fit(X_train, y_train)"
   ]
  },
  {
   "cell_type": "code",
   "execution_count": 8,
   "id": "518dad18",
   "metadata": {},
   "outputs": [],
   "source": [
    "y_pred=model.predict(X_test)"
   ]
  },
  {
   "cell_type": "code",
   "execution_count": 9,
   "id": "4b7ae360",
   "metadata": {},
   "outputs": [
    {
     "data": {
      "text/plain": [
       "array([626.33      , 627.035     , 624.095     , 623.055     ,\n",
       "       620.095     , 626.06      , 618.42      , 595.57      ,\n",
       "       587.975     , 586.85      , 590.395     , 583.595     ,\n",
       "       580.42      , 592.63      , 609.555     , 623.63      ,\n",
       "       591.43      , 579.735     , 609.105     , 622.725     ,\n",
       "       602.78      , 592.135     , 618.19      , 621.695     ,\n",
       "       623.16      , 621.295     , 613.32      , 594.79      ,\n",
       "       593.825     , 596.945     , 592.785     , 592.73      ,\n",
       "       593.735     , 587.9       , 584.75      , 593.63      ,\n",
       "       590.65      , 586.23      , 578.87      , 579.86      ,\n",
       "       592.74      , 588.75      , 585.495     , 585.42      ,\n",
       "       591.1       , 568.755     , 547.005     , 545.795     ,\n",
       "       539.63      , 542.94      , 544.065     , 551.625     ,\n",
       "       550.95      , 566.935     , 568.25      , 537.055     ,\n",
       "       534.45      , 531.585     , 529.405     , 529.85      ,\n",
       "       500.87600067, 465.58599884, 448.17200012, 500.26000092,\n",
       "       498.39599976, 495.84399933, 452.76799866, 464.32300354,\n",
       "       441.82399841, 454.55200226, 472.57200287, 499.55299957,\n",
       "       497.75900146, 498.52900116, 489.78300018, 462.61200256,\n",
       "       437.63999756, 437.70799744, 423.33400177, 421.8180014 ,\n",
       "       438.31999817, 489.98399902, 496.84599854, 492.27800049,\n",
       "       485.67900146, 469.28300323, 497.73      , 497.36800018,\n",
       "       501.93299774, 492.77      , 516.84399963, 527.36299988,\n",
       "       530.94299988, 501.46800049, 499.16000092, 498.53399963,\n",
       "       495.14300079, 456.69600281, 452.2880014 , 466.66100464,\n",
       "       453.51799988, 450.36600006, 467.64500427, 470.75000305,\n",
       "       473.3860025 , 489.39000031, 462.87900299, 460.50800293,\n",
       "       463.2210022 , 450.29400024, 443.25399963, 489.12999969,\n",
       "       497.37800018, 498.03699738, 497.96600159, 503.5569989 ,\n",
       "       507.26899994, 514.59299988, 517.29199982, 518.11200043,\n",
       "       517.49299988, 517.26399994, 515.10299988, 498.51100189,\n",
       "       498.88300201, 498.50100189, 488.91600098, 475.89500244,\n",
       "       481.81700165, 498.76200134, 487.76000061, 461.05400391,\n",
       "       471.79700226, 498.78999939, 498.05299896])"
      ]
     },
     "execution_count": 9,
     "metadata": {},
     "output_type": "execute_result"
    }
   ],
   "source": [
    "y_pred"
   ]
  },
  {
   "cell_type": "code",
   "execution_count": 10,
   "id": "494837c5",
   "metadata": {},
   "outputs": [
    {
     "data": {
      "image/png": "[encoded data removed]",
      "text/plain": [
       "<Figure size 432x288 with 1 Axes>"
      ]
     },
     "metadata": {
      "needs_background": "light"
     },
     "output_type": "display_data"
    }
   ],
   "source": [
    "plt.plot(np.arange(0, len(y_train)), y_train, 'g', label=\"history\")\n",
    "plt.plot(np.arange(len(y_train), len(y_train) + len(y_test)), y_test, marker='.', label=\"true\")\n",
    "plt.plot(np.arange(len(y_train), len(y_train) + len(y_test)), y_pred, 'r', label=\"prediction\")\n",
    "plt.ylabel('Value')\n",
    "plt.xlabel('Time Step')\n",
    "plt.legend()\n",
    "plt.show();"
   ]
  },
  {
   "cell_type": "code",
   "execution_count": 11,
   "id": "b4cef2d8",
   "metadata": {},
   "outputs": [
    {
     "data": {
      "text/plain": [
       "0.026785290422520546"
      ]
     },
     "execution_count": 11,
     "metadata": {},
     "output_type": "execute_result"
    }
   ],
   "source": [
    "mean_absolute_percentage_error(y_test,y_pred)"
   ]
  },
  {
   "cell_type": "code",
   "execution_count": 12,
   "id": "de4a9225",
   "metadata": {},
   "outputs": [
    {
     "data": {
      "text/plain": [
       "312.4683436629785"
      ]
     },
     "execution_count": 12,
     "metadata": {},
     "output_type": "execute_result"
    }
   ],
   "source": [
    "mean_squared_error(y_test,y_pred)"
   ]
  },
  {
   "cell_type": "code",
   "execution_count": 13,
   "id": "3f6a8435",
   "metadata": {},
   "outputs": [
    {
     "data": {
      "image/png": "[encoded data removed]",
      "text/plain": [
       "<Figure size 432x288 with 1 Axes>"
      ]
     },
     "metadata": {
      "needs_background": "light"
     },
     "output_type": "display_data"
    }
   ],
   "source": [
    "# y_test = sc.inverse_transform(y_test)\n",
    "# y_pred = sc.inverse_transform(y_pred)\n",
    "plt.plot(y_test, marker='.', label=\"true\")\n",
    "plt.plot(y_pred, 'r', label=\"prediction\")\n",
    "plt.ylabel('Value')\n",
    "plt.xlabel('Time Step')\n",
    "plt.title('HSI-RF-Scaling')\n",
    "plt.legend()\n",
    "plt.show()"
   ]
  },
  {
   "cell_type": "code",
   "execution_count": 14,
   "id": "4bd542cf",
   "metadata": {},
   "outputs": [
    {
     "data": {
      "text/plain": [
       "0.026785290422520546"
      ]
     },
     "execution_count": 14,
     "metadata": {},
     "output_type": "execute_result"
    }
   ],
   "source": [
    "mean_absolute_percentage_error(y_test,y_pred)"
   ]
  },
  {
   "cell_type": "code",
   "execution_count": 15,
   "id": "b8b6e45f",
   "metadata": {},
   "outputs": [
    {
     "data": {
      "text/plain": [
       "17.676774130564052"
      ]
     },
     "execution_count": 15,
     "metadata": {},
     "output_type": "execute_result"
    }
   ],
   "source": [
    "mean_squared_error(y_test,y_pred,squared=False)"
   ]
  },
  {
   "cell_type": "code",
   "execution_count": 16,
   "id": "e6cd6938",
   "metadata": {},
   "outputs": [
    {
     "data": {
      "text/plain": [
       "0.918520904453316"
      ]
     },
     "execution_count": 16,
     "metadata": {},
     "output_type": "execute_result"
    }
   ],
   "source": [
    "r2_score(y_test,y_pred)"
   ]
  },
  {
   "cell_type": "code",
   "execution_count": 17,
   "id": "29433fb9",
   "metadata": {},
   "outputs": [
    {
     "name": "stderr",
     "output_type": "stream",
     "text": [
      "/var/folders/8h/w0jn89bj2w5g85gj4ck7w0t00000gn/T/ipykernel_59506/2115332834.py:1: FutureWarning: In a future version of pandas all arguments of DataFrame.drop except for the argument 'labels' will be keyword-only.\n",
      "  x_val=data_val.drop('Prediction',1)\n",
      "/opt/homebrew/Caskroom/miniforge/base/envs/fyp_new/lib/python3.8/site-packages/sklearn/base.py:443: UserWarning: X has feature names, but RandomForestRegressor was fitted without feature names\n",
      "  warnings.warn(\n"
     ]
    }
   ],
   "source": [
    "x_val=data_val.drop('Prediction',1)\n",
    "y_val=data_val['Prediction']\n",
    "# x_val=x_val.reshape(x_val.shape[0],1,x_val.shape[1])\n",
    "# x_val=sc.transform(x_val).reshape(x_val.shape[0],1,x_val.shape[1])\n",
    "y_val_pred=clf.predict(x_val)\n",
    "# y_val_pred=sc_y.inverse_transform(y_val_pred)"
   ]
  },
  {
   "cell_type": "code",
   "execution_count": 18,
   "id": "24f057e8",
   "metadata": {},
   "outputs": [
    {
     "data": {
      "image/png": "[encoded data removed]",
      "text/plain": [
       "<Figure size 432x288 with 1 Axes>"
      ]
     },
     "metadata": {
      "needs_background": "light"
     },
     "output_type": "display_data"
    }
   ],
   "source": [
    "plt.plot(y_val.values, marker='.', label=\"true\")\n",
    "plt.plot(y_val_pred, 'r',label=\"prediction\")\n",
    "plt.ylabel('Value')\n",
    "plt.xlabel('Time Step')\n",
    "plt.title('0700-RF')\n",
    "plt.legend()\n",
    "plt.show()"
   ]
  },
  {
   "cell_type": "code",
   "execution_count": 19,
   "id": "e8166a87",
   "metadata": {},
   "outputs": [
    {
     "data": {
      "text/plain": [
       "0.03110759751078485"
      ]
     },
     "execution_count": 19,
     "metadata": {},
     "output_type": "execute_result"
    }
   ],
   "source": [
    "mean_absolute_percentage_error(y_val,y_val_pred)"
   ]
  },
  {
   "cell_type": "code",
   "execution_count": 20,
   "id": "6235c26a",
   "metadata": {},
   "outputs": [
    {
     "data": {
      "text/plain": [
       "16.697826890119067"
      ]
     },
     "execution_count": 20,
     "metadata": {},
     "output_type": "execute_result"
    }
   ],
   "source": [
    "mean_squared_error(y_val,y_val_pred,squared=False)"
   ]
  },
  {
   "cell_type": "code",
   "execution_count": 21,
   "id": "61d1118e",
   "metadata": {},
   "outputs": [
    {
     "data": {
      "text/plain": [
       "0.8451594858646181"
      ]
     },
     "execution_count": 21,
     "metadata": {},
     "output_type": "execute_result"
    }
   ],
   "source": [
    "r2_score(y_val,y_val_pred)"
   ]
  },
  {
   "cell_type": "code",
   "execution_count": null,
   "id": "fb952c6b",
   "metadata": {},
   "outputs": [],
   "source": []
  },
  {
   "cell_type": "code",
   "execution_count": null,
   "id": "eccdfa44",
   "metadata": {},
   "outputs": [],
   "source": []
  },
  {
   "cell_type": "code",
   "execution_count": null,
   "id": "e3e57475",
   "metadata": {},
   "outputs": [],
   "source": []
  }
 ],
 "metadata": {
  "kernelspec": {
   "display_name": "Python 3 (ipykernel)",
   "language": "python",
   "name": "python3"
  },
  "language_info": {
   "codemirror_mode": {
    "name": "ipython",
    "version": 3
   },
   "file_extension": ".py",
   "mimetype": "text/x-python",
   "name": "python",
   "nbconvert_exporter": "python",
   "pygments_lexer": "ipython3",
   "version": "3.8.13"
  }
 },
 "nbformat": 4,
 "nbformat_minor": 5
}
