{
 "cells": [
  {
   "cell_type": "code",
   "execution_count": 1,
   "id": "a2138cba",
   "metadata": {},
   "outputs": [],
   "source": [
    "import yfinance as yf\n",
    "import numpy as np\n",
    "import pandas as pd\n",
    "from sklearn.ensemble import RandomForestRegressor, RandomForestClassifier\n",
    "from sklearn.preprocessing import MinMaxScaler\n",
    "import matplotlib.pyplot as plt\n",
    "from sklearn.metrics import classification_report,accuracy_score, mean_squared_error,mean_absolute_percentage_error,r2_score\n",
    "import talib\n",
    "from sklearn.model_selection import train_test_split"
   ]
  },
  {
   "cell_type": "code",
   "execution_count": 2,
   "id": "316ed5eb",
   "metadata": {},
   "outputs": [
    {
     "name": "stdout",
     "output_type": "stream",
     "text": [
      "[*********************100%***********************]  1 of 1 completed\n"
     ]
    },
    {
     "data": {
      "text/html": [
       "<div>\n",
       "<style scoped>\n",
       "    .dataframe tbody tr th:only-of-type {\n",
       "        vertical-align: middle;\n",
       "    }\n",
       "\n",
       "    .dataframe tbody tr th {\n",
       "        vertical-align: top;\n",
       "    }\n",
       "\n",
       "    .dataframe thead th {\n",
       "        text-align: right;\n",
       "    }\n",
       "</style>\n",
       "<table border=\"1\" class=\"dataframe\">\n",
       "  <thead>\n",
       "    <tr style=\"text-align: right;\">\n",
       "      <th></th>\n",
       "      <th>Open</th>\n",
       "      <th>High</th>\n",
       "      <th>Low</th>\n",
       "      <th>Close</th>\n",
       "      <th>Adj Close</th>\n",
       "      <th>Volume</th>\n",
       "    </tr>\n",
       "    <tr>\n",
       "      <th>Date</th>\n",
       "      <th></th>\n",
       "      <th></th>\n",
       "      <th></th>\n",
       "      <th></th>\n",
       "      <th></th>\n",
       "      <th></th>\n",
       "    </tr>\n",
       "  </thead>\n",
       "  <tbody>\n",
       "    <tr>\n",
       "      <th>2019-01-02</th>\n",
       "      <td>25824.439453</td>\n",
       "      <td>25824.439453</td>\n",
       "      <td>25055.269531</td>\n",
       "      <td>25130.349609</td>\n",
       "      <td>25130.349609</td>\n",
       "      <td>1666316400</td>\n",
       "    </tr>\n",
       "    <tr>\n",
       "      <th>2019-01-03</th>\n",
       "      <td>25077.679688</td>\n",
       "      <td>25262.210938</td>\n",
       "      <td>24896.869141</td>\n",
       "      <td>25064.359375</td>\n",
       "      <td>25064.359375</td>\n",
       "      <td>1481291700</td>\n",
       "    </tr>\n",
       "    <tr>\n",
       "      <th>2019-01-04</th>\n",
       "      <td>24946.119141</td>\n",
       "      <td>25626.029297</td>\n",
       "      <td>24924.730469</td>\n",
       "      <td>25626.029297</td>\n",
       "      <td>25626.029297</td>\n",
       "      <td>1708572100</td>\n",
       "    </tr>\n",
       "    <tr>\n",
       "      <th>2019-01-07</th>\n",
       "      <td>26015.839844</td>\n",
       "      <td>26043.640625</td>\n",
       "      <td>25753.460938</td>\n",
       "      <td>25835.699219</td>\n",
       "      <td>25835.699219</td>\n",
       "      <td>1447090300</td>\n",
       "    </tr>\n",
       "    <tr>\n",
       "      <th>2019-01-08</th>\n",
       "      <td>25852.500000</td>\n",
       "      <td>25960.890625</td>\n",
       "      <td>25688.500000</td>\n",
       "      <td>25875.449219</td>\n",
       "      <td>25875.449219</td>\n",
       "      <td>1578205700</td>\n",
       "    </tr>\n",
       "    <tr>\n",
       "      <th>...</th>\n",
       "      <td>...</td>\n",
       "      <td>...</td>\n",
       "      <td>...</td>\n",
       "      <td>...</td>\n",
       "      <td>...</td>\n",
       "      <td>...</td>\n",
       "    </tr>\n",
       "    <tr>\n",
       "      <th>2021-12-24</th>\n",
       "      <td>23375.990234</td>\n",
       "      <td>23383.189453</td>\n",
       "      <td>23186.570312</td>\n",
       "      <td>23223.759766</td>\n",
       "      <td>23223.759766</td>\n",
       "      <td>622879700</td>\n",
       "    </tr>\n",
       "    <tr>\n",
       "      <th>2021-12-28</th>\n",
       "      <td>23282.349609</td>\n",
       "      <td>23319.439453</td>\n",
       "      <td>23099.480469</td>\n",
       "      <td>23280.560547</td>\n",
       "      <td>23280.560547</td>\n",
       "      <td>1433026700</td>\n",
       "    </tr>\n",
       "    <tr>\n",
       "      <th>2021-12-29</th>\n",
       "      <td>23253.980469</td>\n",
       "      <td>23253.980469</td>\n",
       "      <td>23008.279297</td>\n",
       "      <td>23086.539062</td>\n",
       "      <td>23086.539062</td>\n",
       "      <td>828414400</td>\n",
       "    </tr>\n",
       "    <tr>\n",
       "      <th>2021-12-30</th>\n",
       "      <td>23130.449219</td>\n",
       "      <td>23248.259766</td>\n",
       "      <td>22990.240234</td>\n",
       "      <td>23112.009766</td>\n",
       "      <td>23112.009766</td>\n",
       "      <td>1008366000</td>\n",
       "    </tr>\n",
       "    <tr>\n",
       "      <th>2021-12-31</th>\n",
       "      <td>23553.789062</td>\n",
       "      <td>23590.119141</td>\n",
       "      <td>23394.769531</td>\n",
       "      <td>23397.669922</td>\n",
       "      <td>23397.669922</td>\n",
       "      <td>675936400</td>\n",
       "    </tr>\n",
       "  </tbody>\n",
       "</table>\n",
       "<p>741 rows × 6 columns</p>\n",
       "</div>"
      ],
      "text/plain": [
       "                    Open          High           Low         Close  \\\n",
       "Date                                                                 \n",
       "2019-01-02  25824.439453  25824.439453  25055.269531  25130.349609   \n",
       "2019-01-03  25077.679688  25262.210938  24896.869141  25064.359375   \n",
       "2019-01-04  24946.119141  25626.029297  24924.730469  25626.029297   \n",
       "2019-01-07  26015.839844  26043.640625  25753.460938  25835.699219   \n",
       "2019-01-08  25852.500000  25960.890625  25688.500000  25875.449219   \n",
       "...                  ...           ...           ...           ...   \n",
       "2021-12-24  23375.990234  23383.189453  23186.570312  23223.759766   \n",
       "2021-12-28  23282.349609  23319.439453  23099.480469  23280.560547   \n",
       "2021-12-29  23253.980469  23253.980469  23008.279297  23086.539062   \n",
       "2021-12-30  23130.449219  23248.259766  22990.240234  23112.009766   \n",
       "2021-12-31  23553.789062  23590.119141  23394.769531  23397.669922   \n",
       "\n",
       "               Adj Close      Volume  \n",
       "Date                                  \n",
       "2019-01-02  25130.349609  1666316400  \n",
       "2019-01-03  25064.359375  1481291700  \n",
       "2019-01-04  25626.029297  1708572100  \n",
       "2019-01-07  25835.699219  1447090300  \n",
       "2019-01-08  25875.449219  1578205700  \n",
       "...                  ...         ...  \n",
       "2021-12-24  23223.759766   622879700  \n",
       "2021-12-28  23280.560547  1433026700  \n",
       "2021-12-29  23086.539062   828414400  \n",
       "2021-12-30  23112.009766  1008366000  \n",
       "2021-12-31  23397.669922   675936400  \n",
       "\n",
       "[741 rows x 6 columns]"
      ]
     },
     "execution_count": 2,
     "metadata": {},
     "output_type": "execute_result"
    }
   ],
   "source": [
    "data=yf.download('^HSI','2019-01-01','2022-01-01')\n",
    "# data.drop('Volume',1,inplace=True)\n",
    "data"
   ]
  },
  {
   "cell_type": "code",
   "execution_count": 3,
   "id": "54833d4f",
   "metadata": {},
   "outputs": [],
   "source": [
    "data['6day MA'] = data['Close'].rolling(window = 6).mean()\n",
    "data['12day MA'] = data['Close'].rolling(window = 12).mean()\n",
    "data['RSI'] = talib.RSI(data['Close'].values, timeperiod = 7)\n",
    "data['%R5'] = talib.WILLR(data['High'].values, data['Low'].values, data['Close'].values, 5)\n",
    "data['%R10'] = talib.WILLR(data['High'].values, data['Low'].values, data['Close'].values, 10)\n",
    "data['MI6']=talib.MOM(data['Close'],timeperiod=6)\n",
    "data['MI12']=talib.MOM(data['Close'],timeperiod=12)\n",
    "macd, macdsignal, macdhist = talib.MACD(data['Close'], fastperiod=12, slowperiod=26, signalperiod=9)\n",
    "data['EMA12']=talib.EMA(data['Close'], timeperiod=12)\n",
    "data['EMA26']=talib.EMA(data['Close'],timeperiod=26)\n",
    "data['MACD']=macd\n",
    "data['TR']=talib.TRANGE(data['High'],data['Low'],data['Close'])\n",
    "data['OSC6']=talib.CMO(data['Close'], timeperiod=6)\n",
    "data['OSC12']=talib.CMO(data['Close'], timeperiod=12)\n",
    "data['Prediction']=data['Close'].shift(-1)\n",
    "data.dropna(inplace=True)\n",
    "target=data['Prediction']"
   ]
  },
  {
   "cell_type": "code",
   "execution_count": 4,
   "id": "f1a3a53f",
   "metadata": {},
   "outputs": [
    {
     "name": "stderr",
     "output_type": "stream",
     "text": [
      "/var/folders/8h/w0jn89bj2w5g85gj4ck7w0t00000gn/T/ipykernel_46920/402952793.py:11: FutureWarning: In a future version of pandas all arguments of DataFrame.drop except for the argument 'labels' will be keyword-only.\n",
      "  backwardModel.fit(np.array(data.drop('Prediction',1)),target.values)\n",
      "[Parallel(n_jobs=-1)]: Using backend LokyBackend with 8 concurrent workers.\n",
      "[Parallel(n_jobs=-1)]: Done  14 out of  19 | elapsed:    2.0s remaining:    0.7s\n",
      "[Parallel(n_jobs=-1)]: Done  19 out of  19 | elapsed:    2.3s finished\n",
      "\n",
      "[2022-04-13 19:21:09] Features: 1/10 -- score: 0.8759699572255002[Parallel(n_jobs=-1)]: Using backend LokyBackend with 8 concurrent workers.\n",
      "[Parallel(n_jobs=-1)]: Done  13 out of  18 | elapsed:    1.2s remaining:    0.5s\n",
      "[Parallel(n_jobs=-1)]: Done  18 out of  18 | elapsed:    1.6s finished\n",
      "\n",
      "[2022-04-13 19:21:11] Features: 2/10 -- score: 0.8989129183338356[Parallel(n_jobs=-1)]: Using backend LokyBackend with 8 concurrent workers.\n",
      "[Parallel(n_jobs=-1)]: Done  11 out of  17 | elapsed:    1.2s remaining:    0.6s\n",
      "[Parallel(n_jobs=-1)]: Done  17 out of  17 | elapsed:    1.6s finished\n",
      "\n",
      "[2022-04-13 19:21:12] Features: 3/10 -- score: 0.9052178707169549[Parallel(n_jobs=-1)]: Using backend LokyBackend with 8 concurrent workers.\n",
      "[Parallel(n_jobs=-1)]: Done  10 out of  16 | elapsed:    1.4s remaining:    0.8s\n",
      "[Parallel(n_jobs=-1)]: Done  16 out of  16 | elapsed:    1.4s finished\n",
      "\n",
      "[2022-04-13 19:21:14] Features: 4/10 -- score: 0.9065337468668805[Parallel(n_jobs=-1)]: Using backend LokyBackend with 8 concurrent workers.\n",
      "[Parallel(n_jobs=-1)]: Done   8 out of  15 | elapsed:    0.9s remaining:    0.8s\n",
      "[Parallel(n_jobs=-1)]: Done  15 out of  15 | elapsed:    1.5s finished\n",
      "\n",
      "[2022-04-13 19:21:15] Features: 5/10 -- score: 0.9065822369252029[Parallel(n_jobs=-1)]: Using backend LokyBackend with 8 concurrent workers.\n",
      "[Parallel(n_jobs=-1)]: Done   7 out of  14 | elapsed:    0.9s remaining:    0.9s\n",
      "[Parallel(n_jobs=-1)]: Done  14 out of  14 | elapsed:    1.6s finished\n",
      "\n",
      "[2022-04-13 19:21:17] Features: 6/10 -- score: 0.9083865253354692[Parallel(n_jobs=-1)]: Using backend LokyBackend with 8 concurrent workers.\n",
      "[Parallel(n_jobs=-1)]: Done   5 out of  13 | elapsed:    1.1s remaining:    1.7s\n",
      "[Parallel(n_jobs=-1)]: Done  13 out of  13 | elapsed:    1.8s finished\n",
      "\n",
      "[2022-04-13 19:21:19] Features: 7/10 -- score: 0.9075389478362382[Parallel(n_jobs=-1)]: Using backend LokyBackend with 8 concurrent workers.\n",
      "[Parallel(n_jobs=-1)]: Done   4 out of  12 | elapsed:    1.2s remaining:    2.4s\n",
      "[Parallel(n_jobs=-1)]: Done  12 out of  12 | elapsed:    2.0s finished\n",
      "\n",
      "[2022-04-13 19:21:21] Features: 8/10 -- score: 0.9070793250675895[Parallel(n_jobs=-1)]: Using backend LokyBackend with 8 concurrent workers.\n",
      "[Parallel(n_jobs=-1)]: Done   2 out of  11 | elapsed:    1.2s remaining:    5.4s\n",
      "[Parallel(n_jobs=-1)]: Done   8 out of  11 | elapsed:    1.3s remaining:    0.5s\n",
      "[Parallel(n_jobs=-1)]: Done  11 out of  11 | elapsed:    2.1s finished\n",
      "\n",
      "[2022-04-13 19:21:23] Features: 9/10 -- score: 0.9061848337095645[Parallel(n_jobs=-1)]: Using backend LokyBackend with 8 concurrent workers.\n",
      "[Parallel(n_jobs=-1)]: Done   7 out of  10 | elapsed:    1.2s remaining:    0.5s\n",
      "[Parallel(n_jobs=-1)]: Done  10 out of  10 | elapsed:    2.0s finished\n",
      "\n",
      "[2022-04-13 19:21:25] Features: 10/10 -- score: 0.9061550767441467"
     ]
    },
    {
     "data": {
      "text/plain": [
       "SequentialFeatureSelector(estimator=RandomForestRegressor(), k_features=10,\n",
       "                          n_jobs=-1, scoring='r2', verbose=2)"
      ]
     },
     "execution_count": 4,
     "metadata": {},
     "output_type": "execute_result"
    }
   ],
   "source": [
    "from mlxtend.feature_selection import SequentialFeatureSelector as sfs\n",
    "from sklearn.ensemble import RandomForestRegressor\n",
    "#k_features=10 (It will get top 10 features best suited for prediction)\n",
    "#forward=False (Backward feature selection model)\n",
    "#verbose=2 (It will show details output as shown below.)\n",
    "#cv=5 (Kfold cross valiation: it will split the training set in 5 set and 4 will be using for training the model and 1 will using as validation)\n",
    "#n_jobs=-1 (Number of cores it will use for execution.-1 means it will use all the cores of CPU for execution.)\n",
    "#scoring='r2'(R-squared is a statistical measure of how close the data are to the fitted regression line)\n",
    "backwardModel=sfs(RandomForestRegressor(),k_features=10,forward=True,verbose=2,cv=5,n_jobs=-1,scoring='r2')\n",
    "#We will convert our training data into numpy array. If we will not convert it, model is not able to read some of the column names.\n",
    "backwardModel.fit(np.array(data.drop('Prediction',1)),target.values)"
   ]
  },
  {
   "cell_type": "code",
   "execution_count": 5,
   "id": "76dc1a7d",
   "metadata": {},
   "outputs": [
    {
     "name": "stdout",
     "output_type": "stream",
     "text": [
      "(485, 10) (485,) (122, 10) (122,)\n"
     ]
    },
    {
     "name": "stderr",
     "output_type": "stream",
     "text": [
      "/var/folders/8h/w0jn89bj2w5g85gj4ck7w0t00000gn/T/ipykernel_46920/1151953013.py:3: SettingWithCopyWarning: \n",
      "A value is trying to be set on a copy of a slice from a DataFrame.\n",
      "Try using .loc[row_indexer,col_indexer] = value instead\n",
      "\n",
      "See the caveats in the documentation: https://pandas.pydata.org/pandas-docs/stable/user_guide/indexing.html#returning-a-view-versus-a-copy\n",
      "  data['Prediction']=target\n",
      "/var/folders/8h/w0jn89bj2w5g85gj4ck7w0t00000gn/T/ipykernel_46920/1151953013.py:8: FutureWarning: In a future version of pandas all arguments of DataFrame.drop except for the argument 'labels' will be keyword-only.\n",
      "  X=data.drop('Prediction',1).values\n"
     ]
    }
   ],
   "source": [
    "# data.drop(['OSC12','OSC6','MI12','MI6','%R10','%R5','RSI','TR'],1,inplace=True)\n",
    "data=data[data.columns[list(backwardModel.k_feature_idx_)]]\n",
    "data['Prediction']=target\n",
    "data_val=data[-100:]\n",
    "data=data[:-100]\n",
    "sc = MinMaxScaler(feature_range = (-1, 1))\n",
    "# X=sc.fit_transform(data.drop('Prediction',1))\n",
    "X=data.drop('Prediction',1).values\n",
    "# Y = data[\"Prediction\"].values.reshape(-1,1)\n",
    "# Y = sc_y.fit_transform(data[\"Prediction\"].values.reshape(-1,1))\n",
    "Y=np.array(data[\"Prediction\"])\n",
    "X_train, X_test, y_train, y_test = train_test_split(X, Y, test_size=0.2,shuffle=False)\n",
    "# X_train = X_train.reshape((X_train.shape[0], 1, X_train.shape[1]))\n",
    "# X_test = X_test.reshape((X_test.shape[0], 1, X_test.shape[1]))\n",
    "print(X_train.shape,y_train.shape,X_test.shape,y_test.shape)"
   ]
  },
  {
   "cell_type": "code",
   "execution_count": 6,
   "id": "46bc37e9",
   "metadata": {},
   "outputs": [],
   "source": [
    "clf = RandomForestRegressor()"
   ]
  },
  {
   "cell_type": "code",
   "execution_count": 7,
   "id": "936742f1",
   "metadata": {},
   "outputs": [],
   "source": [
    "model = clf.fit(X_train, y_train)"
   ]
  },
  {
   "cell_type": "code",
   "execution_count": 8,
   "id": "518dad18",
   "metadata": {},
   "outputs": [],
   "source": [
    "y_pred=model.predict(X_test)"
   ]
  },
  {
   "cell_type": "code",
   "execution_count": 9,
   "id": "4b7ae360",
   "metadata": {},
   "outputs": [
    {
     "data": {
      "text/plain": [
       "array([29139.20070312, 29068.02792969, 29573.18771484, 29733.24539063,\n",
       "       29815.55298828, 29791.81486328, 29762.68880859, 29983.98742188,\n",
       "       29923.24615234, 29816.91755859, 29839.09058594, 29697.35037109,\n",
       "       29786.70535156, 28860.630625  , 29487.94708984, 29035.35302734,\n",
       "       29628.32302734, 29184.42328125, 29202.86919922, 28531.73753906,\n",
       "       28616.44916016, 29120.54210938, 29311.99345703, 28733.05003906,\n",
       "       29098.30246094, 29036.57974609, 28992.41160156, 29502.23630859,\n",
       "       29130.22267578, 28750.1534375 , 28533.79941406, 27967.84228516,\n",
       "       27599.17371094, 28206.88626953, 28276.07060547, 28635.95832031,\n",
       "       28385.72283203, 29082.61185547, 28604.9515625 , 29060.83447266,\n",
       "       28656.48117187, 28361.66861328, 28451.60130859, 28989.10792969,\n",
       "       28730.43832031, 29002.54798828, 29065.34998047, 29162.50177734,\n",
       "       28501.79044922, 28593.52068359, 29112.73794922, 29045.89039063,\n",
       "       29010.05148437, 29186.02859375, 29104.06632813, 28542.77572266,\n",
       "       28431.04621094, 28563.54253906, 28377.70910156, 28775.66882812,\n",
       "       28655.93296875, 28675.21328125, 28095.97832031, 28163.67943359,\n",
       "       27560.25863281, 27817.22988281, 28373.93640625, 28601.40367187,\n",
       "       28512.341875  , 28613.31027344, 28364.90146484, 29043.02533203,\n",
       "       29011.68929687, 28906.97451172, 28955.39363281, 28936.77359375,\n",
       "       29447.23660156, 29111.00078125, 28833.55896484, 28858.07505859,\n",
       "       28573.31728516, 28592.32847656, 28618.82421875, 28661.52693359,\n",
       "       29058.37443359, 28750.45744141, 28432.33574219, 28617.47183594,\n",
       "       28852.7775    , 28580.09855469, 28364.25457031, 29063.08724609,\n",
       "       28907.50132812, 29033.93816406, 29028.55601562, 28938.31011719,\n",
       "       28628.715     , 28438.52929688, 28149.67460938, 28099.49666016,\n",
       "       27555.36972656, 26722.27517578, 27117.68833984, 27535.47052734,\n",
       "       27680.8346875 , 27578.71492187, 27887.43644531, 28161.48841797,\n",
       "       27468.45833984, 27261.32859375, 27213.356875  , 27572.45638672,\n",
       "       27270.40009766, 26059.30068359, 25244.73332031, 25343.28320312,\n",
       "       26289.03337891, 25815.13199219, 26212.61833984, 26113.83025391,\n",
       "       26284.39496094, 26061.31236328])"
      ]
     },
     "execution_count": 9,
     "metadata": {},
     "output_type": "execute_result"
    }
   ],
   "source": [
    "y_pred"
   ]
  },
  {
   "cell_type": "code",
   "execution_count": 10,
   "id": "494837c5",
   "metadata": {},
   "outputs": [
    {
     "data": {
      "image/png": "[encoded data removed]",
      "text/plain": [
       "<Figure size 432x288 with 1 Axes>"
      ]
     },
     "metadata": {
      "needs_background": "light"
     },
     "output_type": "display_data"
    }
   ],
   "source": [
    "plt.plot(np.arange(0, len(y_train)), y_train, 'g', label=\"history\")\n",
    "plt.plot(np.arange(len(y_train), len(y_train) + len(y_test)), y_test, marker='.', label=\"true\")\n",
    "plt.plot(np.arange(len(y_train), len(y_train) + len(y_test)), y_pred, 'r', label=\"prediction\")\n",
    "plt.ylabel('Value')\n",
    "plt.xlabel('Time Step')\n",
    "plt.legend()\n",
    "plt.show();"
   ]
  },
  {
   "cell_type": "code",
   "execution_count": 11,
   "id": "b4cef2d8",
   "metadata": {},
   "outputs": [
    {
     "data": {
      "text/plain": [
       "0.011503975121085013"
      ]
     },
     "execution_count": 11,
     "metadata": {},
     "output_type": "execute_result"
    }
   ],
   "source": [
    "mean_absolute_percentage_error(y_test,y_pred)"
   ]
  },
  {
   "cell_type": "code",
   "execution_count": 12,
   "id": "de4a9225",
   "metadata": {},
   "outputs": [
    {
     "data": {
      "text/plain": [
       "169168.65768942717"
      ]
     },
     "execution_count": 12,
     "metadata": {},
     "output_type": "execute_result"
    }
   ],
   "source": [
    "mean_squared_error(y_test,y_pred)"
   ]
  },
  {
   "cell_type": "code",
   "execution_count": 13,
   "id": "3f6a8435",
   "metadata": {},
   "outputs": [
    {
     "data": {
      "image/png": "[encoded data removed]",
      "text/plain": [
       "<Figure size 432x288 with 1 Axes>"
      ]
     },
     "metadata": {
      "needs_background": "light"
     },
     "output_type": "display_data"
    }
   ],
   "source": [
    "# y_test = sc.inverse_transform(y_test)\n",
    "# y_pred = sc.inverse_transform(y_pred)\n",
    "plt.plot(y_test, marker='.', label=\"true\")\n",
    "plt.plot(y_pred, 'r', label=\"prediction\")\n",
    "plt.ylabel('Value')\n",
    "plt.xlabel('Time Step')\n",
    "plt.title('HSI-RF-Scaling')\n",
    "plt.legend()\n",
    "plt.show()"
   ]
  },
  {
   "cell_type": "code",
   "execution_count": 14,
   "id": "4bd542cf",
   "metadata": {},
   "outputs": [
    {
     "data": {
      "text/plain": [
       "0.011503975121085013"
      ]
     },
     "execution_count": 14,
     "metadata": {},
     "output_type": "execute_result"
    }
   ],
   "source": [
    "mean_absolute_percentage_error(y_test,y_pred)"
   ]
  },
  {
   "cell_type": "code",
   "execution_count": 15,
   "id": "b8b6e45f",
   "metadata": {},
   "outputs": [
    {
     "data": {
      "text/plain": [
       "411.3011763773928"
      ]
     },
     "execution_count": 15,
     "metadata": {},
     "output_type": "execute_result"
    }
   ],
   "source": [
    "mean_squared_error(y_test,y_pred,squared=False)"
   ]
  },
  {
   "cell_type": "code",
   "execution_count": 16,
   "id": "e6cd6938",
   "metadata": {},
   "outputs": [
    {
     "data": {
      "text/plain": [
       "0.8448506054093617"
      ]
     },
     "execution_count": 16,
     "metadata": {},
     "output_type": "execute_result"
    }
   ],
   "source": [
    "r2_score(y_test,y_pred)"
   ]
  },
  {
   "cell_type": "code",
   "execution_count": 17,
   "id": "29433fb9",
   "metadata": {},
   "outputs": [
    {
     "name": "stderr",
     "output_type": "stream",
     "text": [
      "/var/folders/8h/w0jn89bj2w5g85gj4ck7w0t00000gn/T/ipykernel_46920/2115332834.py:1: FutureWarning: In a future version of pandas all arguments of DataFrame.drop except for the argument 'labels' will be keyword-only.\n",
      "  x_val=data_val.drop('Prediction',1)\n",
      "/opt/homebrew/Caskroom/miniforge/base/envs/fyp_new/lib/python3.8/site-packages/sklearn/base.py:443: UserWarning: X has feature names, but RandomForestRegressor was fitted without feature names\n",
      "  warnings.warn(\n"
     ]
    }
   ],
   "source": [
    "x_val=data_val.drop('Prediction',1)\n",
    "y_val=data_val['Prediction']\n",
    "# x_val=x_val.reshape(x_val.shape[0],1,x_val.shape[1])\n",
    "# x_val=sc.transform(x_val).reshape(x_val.shape[0],1,x_val.shape[1])\n",
    "y_val_pred=clf.predict(x_val)\n",
    "# y_val_pred=sc_y.inverse_transform(y_val_pred)"
   ]
  },
  {
   "cell_type": "code",
   "execution_count": 18,
   "id": "24f057e8",
   "metadata": {},
   "outputs": [
    {
     "data": {
      "image/png": "[encoded data removed]",
      "text/plain": [
       "<Figure size 432x288 with 1 Axes>"
      ]
     },
     "metadata": {
      "needs_background": "light"
     },
     "output_type": "display_data"
    }
   ],
   "source": [
    "plt.plot(y_val.values, marker='.', label=\"true\")\n",
    "plt.plot(y_val_pred, 'r', marker='*',label=\"prediction\")\n",
    "plt.ylabel('Value')\n",
    "plt.xlabel('Time Step')\n",
    "plt.title('HSI-LSTM-l1-Batch32')\n",
    "plt.legend()\n",
    "plt.show()"
   ]
  },
  {
   "cell_type": "code",
   "execution_count": 19,
   "id": "e8166a87",
   "metadata": {},
   "outputs": [
    {
     "data": {
      "text/plain": [
       "0.011286511302048188"
      ]
     },
     "execution_count": 19,
     "metadata": {},
     "output_type": "execute_result"
    }
   ],
   "source": [
    "mean_absolute_percentage_error(y_val,y_val_pred)"
   ]
  },
  {
   "cell_type": "code",
   "execution_count": 20,
   "id": "6235c26a",
   "metadata": {},
   "outputs": [
    {
     "data": {
      "text/plain": [
       "336.0152115332819"
      ]
     },
     "execution_count": 20,
     "metadata": {},
     "output_type": "execute_result"
    }
   ],
   "source": [
    "mean_squared_error(y_val,y_val_pred,squared=False)"
   ]
  },
  {
   "cell_type": "code",
   "execution_count": 21,
   "id": "61d1118e",
   "metadata": {},
   "outputs": [
    {
     "data": {
      "text/plain": [
       "0.8881134435969847"
      ]
     },
     "execution_count": 21,
     "metadata": {},
     "output_type": "execute_result"
    }
   ],
   "source": [
    "r2_score(y_val,y_val_pred)"
   ]
  },
  {
   "cell_type": "code",
   "execution_count": null,
   "id": "fb952c6b",
   "metadata": {},
   "outputs": [],
   "source": []
  },
  {
   "cell_type": "code",
   "execution_count": null,
   "id": "eccdfa44",
   "metadata": {},
   "outputs": [],
   "source": []
  },
  {
   "cell_type": "code",
   "execution_count": null,
   "id": "e3e57475",
   "metadata": {},
   "outputs": [],
   "source": []
  }
 ],
 "metadata": {
  "kernelspec": {
   "display_name": "Python 3 (ipykernel)",
   "language": "python",
   "name": "python3"
  },
  "language_info": {
   "codemirror_mode": {
    "name": "ipython",
    "version": 3
   },
   "file_extension": ".py",
   "mimetype": "text/x-python",
   "name": "python",
   "nbconvert_exporter": "python",
   "pygments_lexer": "ipython3",
   "version": "3.8.13"
  }
 },
 "nbformat": 4,
 "nbformat_minor": 5
}
