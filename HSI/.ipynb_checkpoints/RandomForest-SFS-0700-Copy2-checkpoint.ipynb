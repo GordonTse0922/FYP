{
 "cells": [
  {
   "cell_type": "code",
   "execution_count": 1,
   "id": "a2138cba",
   "metadata": {},
   "outputs": [],
   "source": [
    "import yfinance as yf\n",
    "import numpy as np\n",
    "import pandas as pd\n",
    "from sklearn.ensemble import RandomForestRegressor, RandomForestClassifier\n",
    "from sklearn.preprocessing import MinMaxScaler\n",
    "import matplotlib.pyplot as plt\n",
    "from sklearn.metrics import classification_report,accuracy_score, mean_squared_error,mean_absolute_percentage_error,r2_score\n",
    "import talib\n",
    "from sklearn.model_selection import train_test_split"
   ]
  },
  {
   "cell_type": "code",
   "execution_count": 2,
   "id": "316ed5eb",
   "metadata": {},
   "outputs": [
    {
     "name": "stdout",
     "output_type": "stream",
     "text": [
      "[*********************100%***********************]  1 of 1 completed\n"
     ]
    },
    {
     "data": {
      "text/html": [
       "<div>\n",
       "<style scoped>\n",
       "    .dataframe tbody tr th:only-of-type {\n",
       "        vertical-align: middle;\n",
       "    }\n",
       "\n",
       "    .dataframe tbody tr th {\n",
       "        vertical-align: top;\n",
       "    }\n",
       "\n",
       "    .dataframe thead th {\n",
       "        text-align: right;\n",
       "    }\n",
       "</style>\n",
       "<table border=\"1\" class=\"dataframe\">\n",
       "  <thead>\n",
       "    <tr style=\"text-align: right;\">\n",
       "      <th></th>\n",
       "      <th>Open</th>\n",
       "      <th>High</th>\n",
       "      <th>Low</th>\n",
       "      <th>Close</th>\n",
       "      <th>Adj Close</th>\n",
       "      <th>Volume</th>\n",
       "    </tr>\n",
       "    <tr>\n",
       "      <th>Date</th>\n",
       "      <th></th>\n",
       "      <th></th>\n",
       "      <th></th>\n",
       "      <th></th>\n",
       "      <th></th>\n",
       "      <th></th>\n",
       "    </tr>\n",
       "  </thead>\n",
       "  <tbody>\n",
       "    <tr>\n",
       "      <th>2019-01-02</th>\n",
       "      <td>41.520000</td>\n",
       "      <td>41.599998</td>\n",
       "      <td>40.080002</td>\n",
       "      <td>40.560001</td>\n",
       "      <td>34.006569</td>\n",
       "      <td>3099411</td>\n",
       "    </tr>\n",
       "    <tr>\n",
       "      <th>2019-01-03</th>\n",
       "      <td>40.560001</td>\n",
       "      <td>41.360001</td>\n",
       "      <td>40.240002</td>\n",
       "      <td>40.720001</td>\n",
       "      <td>34.140720</td>\n",
       "      <td>2768268</td>\n",
       "    </tr>\n",
       "    <tr>\n",
       "      <th>2019-01-04</th>\n",
       "      <td>40.560001</td>\n",
       "      <td>43.119999</td>\n",
       "      <td>40.320000</td>\n",
       "      <td>42.720001</td>\n",
       "      <td>35.817574</td>\n",
       "      <td>5637624</td>\n",
       "    </tr>\n",
       "    <tr>\n",
       "      <th>2019-01-07</th>\n",
       "      <td>42.959999</td>\n",
       "      <td>43.599998</td>\n",
       "      <td>42.880001</td>\n",
       "      <td>43.360001</td>\n",
       "      <td>36.354164</td>\n",
       "      <td>3711498</td>\n",
       "    </tr>\n",
       "    <tr>\n",
       "      <th>2019-01-08</th>\n",
       "      <td>43.599998</td>\n",
       "      <td>45.040001</td>\n",
       "      <td>43.439999</td>\n",
       "      <td>44.720001</td>\n",
       "      <td>37.494431</td>\n",
       "      <td>7029280</td>\n",
       "    </tr>\n",
       "    <tr>\n",
       "      <th>...</th>\n",
       "      <td>...</td>\n",
       "      <td>...</td>\n",
       "      <td>...</td>\n",
       "      <td>...</td>\n",
       "      <td>...</td>\n",
       "      <td>...</td>\n",
       "    </tr>\n",
       "    <tr>\n",
       "      <th>2022-04-01</th>\n",
       "      <td>31.850000</td>\n",
       "      <td>32.200001</td>\n",
       "      <td>31.500000</td>\n",
       "      <td>32.150002</td>\n",
       "      <td>32.150002</td>\n",
       "      <td>2053614</td>\n",
       "    </tr>\n",
       "    <tr>\n",
       "      <th>2022-04-04</th>\n",
       "      <td>32.150002</td>\n",
       "      <td>32.400002</td>\n",
       "      <td>31.700001</td>\n",
       "      <td>32.400002</td>\n",
       "      <td>32.400002</td>\n",
       "      <td>1631328</td>\n",
       "    </tr>\n",
       "    <tr>\n",
       "      <th>2022-04-06</th>\n",
       "      <td>32.450001</td>\n",
       "      <td>32.450001</td>\n",
       "      <td>31.900000</td>\n",
       "      <td>32.299999</td>\n",
       "      <td>32.299999</td>\n",
       "      <td>3053935</td>\n",
       "    </tr>\n",
       "    <tr>\n",
       "      <th>2022-04-07</th>\n",
       "      <td>32.250000</td>\n",
       "      <td>32.250000</td>\n",
       "      <td>31.400000</td>\n",
       "      <td>31.850000</td>\n",
       "      <td>31.850000</td>\n",
       "      <td>3281131</td>\n",
       "    </tr>\n",
       "    <tr>\n",
       "      <th>2022-04-08</th>\n",
       "      <td>31.950001</td>\n",
       "      <td>32.200001</td>\n",
       "      <td>31.600000</td>\n",
       "      <td>31.950001</td>\n",
       "      <td>31.950001</td>\n",
       "      <td>1828874</td>\n",
       "    </tr>\n",
       "  </tbody>\n",
       "</table>\n",
       "<p>807 rows × 6 columns</p>\n",
       "</div>"
      ],
      "text/plain": [
       "                 Open       High        Low      Close  Adj Close   Volume\n",
       "Date                                                                      \n",
       "2019-01-02  41.520000  41.599998  40.080002  40.560001  34.006569  3099411\n",
       "2019-01-03  40.560001  41.360001  40.240002  40.720001  34.140720  2768268\n",
       "2019-01-04  40.560001  43.119999  40.320000  42.720001  35.817574  5637624\n",
       "2019-01-07  42.959999  43.599998  42.880001  43.360001  36.354164  3711498\n",
       "2019-01-08  43.599998  45.040001  43.439999  44.720001  37.494431  7029280\n",
       "...               ...        ...        ...        ...        ...      ...\n",
       "2022-04-01  31.850000  32.200001  31.500000  32.150002  32.150002  2053614\n",
       "2022-04-04  32.150002  32.400002  31.700001  32.400002  32.400002  1631328\n",
       "2022-04-06  32.450001  32.450001  31.900000  32.299999  32.299999  3053935\n",
       "2022-04-07  32.250000  32.250000  31.400000  31.850000  31.850000  3281131\n",
       "2022-04-08  31.950001  32.200001  31.600000  31.950001  31.950001  1828874\n",
       "\n",
       "[807 rows x 6 columns]"
      ]
     },
     "execution_count": 2,
     "metadata": {},
     "output_type": "execute_result"
    }
   ],
   "source": [
    "data=yf.download('0017.hk','2019-01-01','2022-04-09')\n",
    "# data.drop('Volume',1,inplace=True)\n",
    "data"
   ]
  },
  {
   "cell_type": "code",
   "execution_count": 3,
   "id": "54833d4f",
   "metadata": {},
   "outputs": [],
   "source": [
    "data['6day MA'] = data['Close'].rolling(window = 6).mean()\n",
    "data['12day MA'] = data['Close'].rolling(window = 12).mean()\n",
    "data['RSI'] = talib.RSI(data['Close'].values, timeperiod = 7)\n",
    "data['%R5'] = talib.WILLR(data['High'].values, data['Low'].values, data['Close'].values, 5)\n",
    "data['%R10'] = talib.WILLR(data['High'].values, data['Low'].values, data['Close'].values, 10)\n",
    "data['MI6']=talib.MOM(data['Close'],timeperiod=6)\n",
    "data['MI12']=talib.MOM(data['Close'],timeperiod=12)\n",
    "macd, macdsignal, macdhist = talib.MACD(data['Close'], fastperiod=12, slowperiod=26, signalperiod=9)\n",
    "data['EMA12']=talib.EMA(data['Close'], timeperiod=12)\n",
    "data['EMA26']=talib.EMA(data['Close'],timeperiod=26)\n",
    "data['MACD']=macd\n",
    "data['TR']=talib.TRANGE(data['High'],data['Low'],data['Close'])\n",
    "data['OSC6']=talib.CMO(data['Close'], timeperiod=6)\n",
    "data['OSC12']=talib.CMO(data['Close'], timeperiod=12)\n",
    "data['Prediction']=data['Close'].shift(-1)\n",
    "data.dropna(inplace=True)\n",
    "target=data['Prediction']"
   ]
  },
  {
   "cell_type": "code",
   "execution_count": 4,
   "id": "f1a3a53f",
   "metadata": {},
   "outputs": [
    {
     "name": "stderr",
     "output_type": "stream",
     "text": [
      "/var/folders/8h/w0jn89bj2w5g85gj4ck7w0t00000gn/T/ipykernel_59335/402952793.py:11: FutureWarning: In a future version of pandas all arguments of DataFrame.drop except for the argument 'labels' will be keyword-only.\n",
      "  backwardModel.fit(np.array(data.drop('Prediction',1)),target.values)\n",
      "[Parallel(n_jobs=-1)]: Using backend LokyBackend with 8 concurrent workers.\n",
      "[Parallel(n_jobs=-1)]: Done  14 out of  19 | elapsed:    1.6s remaining:    0.6s\n",
      "[Parallel(n_jobs=-1)]: Done  19 out of  19 | elapsed:    1.9s finished\n",
      "\n",
      "[2022-04-13 19:37:27] Features: 1/10 -- score: 0.7089169314188661[Parallel(n_jobs=-1)]: Using backend LokyBackend with 8 concurrent workers.\n",
      "[Parallel(n_jobs=-1)]: Done  13 out of  18 | elapsed:    1.0s remaining:    0.4s\n",
      "[Parallel(n_jobs=-1)]: Done  18 out of  18 | elapsed:    1.4s finished\n",
      "\n",
      "[2022-04-13 19:37:28] Features: 2/10 -- score: 0.7074173964198726[Parallel(n_jobs=-1)]: Using backend LokyBackend with 8 concurrent workers.\n",
      "[Parallel(n_jobs=-1)]: Done  11 out of  17 | elapsed:    1.3s remaining:    0.7s\n",
      "[Parallel(n_jobs=-1)]: Done  17 out of  17 | elapsed:    1.8s finished\n",
      "\n",
      "[2022-04-13 19:37:30] Features: 3/10 -- score: 0.7127766801023988[Parallel(n_jobs=-1)]: Using backend LokyBackend with 8 concurrent workers.\n",
      "[Parallel(n_jobs=-1)]: Done  10 out of  16 | elapsed:    1.5s remaining:    0.9s\n",
      "[Parallel(n_jobs=-1)]: Done  16 out of  16 | elapsed:    1.6s finished\n",
      "\n",
      "[2022-04-13 19:37:32] Features: 4/10 -- score: 0.7163373389587153[Parallel(n_jobs=-1)]: Using backend LokyBackend with 8 concurrent workers.\n",
      "[Parallel(n_jobs=-1)]: Done   8 out of  15 | elapsed:    0.9s remaining:    0.8s\n",
      "[Parallel(n_jobs=-1)]: Done  15 out of  15 | elapsed:    1.7s finished\n",
      "\n",
      "[2022-04-13 19:37:33] Features: 5/10 -- score: 0.7036652136067655[Parallel(n_jobs=-1)]: Using backend LokyBackend with 8 concurrent workers.\n",
      "[Parallel(n_jobs=-1)]: Done   7 out of  14 | elapsed:    1.2s remaining:    1.2s\n",
      "[Parallel(n_jobs=-1)]: Done  14 out of  14 | elapsed:    2.1s finished\n",
      "\n",
      "[2022-04-13 19:37:36] Features: 6/10 -- score: 0.6932827302336988[Parallel(n_jobs=-1)]: Using backend LokyBackend with 8 concurrent workers.\n",
      "[Parallel(n_jobs=-1)]: Done   5 out of  13 | elapsed:    1.1s remaining:    1.8s\n",
      "[Parallel(n_jobs=-1)]: Done  13 out of  13 | elapsed:    2.1s finished\n",
      "\n",
      "[2022-04-13 19:37:38] Features: 7/10 -- score: 0.6825960283275154[Parallel(n_jobs=-1)]: Using backend LokyBackend with 8 concurrent workers.\n",
      "[Parallel(n_jobs=-1)]: Done   4 out of  12 | elapsed:    1.3s remaining:    2.7s\n",
      "[Parallel(n_jobs=-1)]: Done  12 out of  12 | elapsed:    2.3s finished\n",
      "\n",
      "[2022-04-13 19:37:40] Features: 8/10 -- score: 0.6673656803454082[Parallel(n_jobs=-1)]: Using backend LokyBackend with 8 concurrent workers.\n",
      "[Parallel(n_jobs=-1)]: Done   2 out of  11 | elapsed:    1.2s remaining:    5.5s\n",
      "[Parallel(n_jobs=-1)]: Done   8 out of  11 | elapsed:    1.3s remaining:    0.5s\n",
      "[Parallel(n_jobs=-1)]: Done  11 out of  11 | elapsed:    2.2s finished\n",
      "\n",
      "[2022-04-13 19:37:42] Features: 9/10 -- score: 0.6479403696128332[Parallel(n_jobs=-1)]: Using backend LokyBackend with 8 concurrent workers.\n",
      "[Parallel(n_jobs=-1)]: Done   7 out of  10 | elapsed:    1.3s remaining:    0.6s\n",
      "[Parallel(n_jobs=-1)]: Done  10 out of  10 | elapsed:    2.7s finished\n",
      "\n",
      "[2022-04-13 19:37:45] Features: 10/10 -- score: 0.6518937377219609"
     ]
    },
    {
     "data": {
      "text/plain": [
       "SequentialFeatureSelector(estimator=RandomForestRegressor(), k_features=10,\n",
       "                          n_jobs=-1, scoring='r2', verbose=2)"
      ]
     },
     "execution_count": 4,
     "metadata": {},
     "output_type": "execute_result"
    }
   ],
   "source": [
    "from mlxtend.feature_selection import SequentialFeatureSelector as sfs\n",
    "from sklearn.ensemble import RandomForestRegressor\n",
    "#k_features=10 (It will get top 10 features best suited for prediction)\n",
    "#forward=False (Backward feature selection model)\n",
    "#verbose=2 (It will show details output as shown below.)\n",
    "#cv=5 (Kfold cross valiation: it will split the training set in 5 set and 4 will be using for training the model and 1 will using as validation)\n",
    "#n_jobs=-1 (Number of cores it will use for execution.-1 means it will use all the cores of CPU for execution.)\n",
    "#scoring='r2'(R-squared is a statistical measure of how close the data are to the fitted regression line)\n",
    "backwardModel=sfs(RandomForestRegressor(),k_features=10,forward=True,verbose=2,cv=5,n_jobs=-1,scoring='r2')\n",
    "#We will convert our training data into numpy array. If we will not convert it, model is not able to read some of the column names.\n",
    "backwardModel.fit(np.array(data.drop('Prediction',1)),target.values)"
   ]
  },
  {
   "cell_type": "code",
   "execution_count": 5,
   "id": "76dc1a7d",
   "metadata": {},
   "outputs": [
    {
     "name": "stdout",
     "output_type": "stream",
     "text": [
      "(538, 10) (538,) (135, 10) (135,)\n"
     ]
    },
    {
     "name": "stderr",
     "output_type": "stream",
     "text": [
      "/var/folders/8h/w0jn89bj2w5g85gj4ck7w0t00000gn/T/ipykernel_59335/1151953013.py:3: SettingWithCopyWarning: \n",
      "A value is trying to be set on a copy of a slice from a DataFrame.\n",
      "Try using .loc[row_indexer,col_indexer] = value instead\n",
      "\n",
      "See the caveats in the documentation: https://pandas.pydata.org/pandas-docs/stable/user_guide/indexing.html#returning-a-view-versus-a-copy\n",
      "  data['Prediction']=target\n",
      "/var/folders/8h/w0jn89bj2w5g85gj4ck7w0t00000gn/T/ipykernel_59335/1151953013.py:8: FutureWarning: In a future version of pandas all arguments of DataFrame.drop except for the argument 'labels' will be keyword-only.\n",
      "  X=data.drop('Prediction',1).values\n"
     ]
    }
   ],
   "source": [
    "# data.drop(['OSC12','OSC6','MI12','MI6','%R10','%R5','RSI','TR'],1,inplace=True)\n",
    "data=data[data.columns[list(backwardModel.k_feature_idx_)]]\n",
    "data['Prediction']=target\n",
    "data_val=data[-100:]\n",
    "data=data[:-100]\n",
    "sc = MinMaxScaler(feature_range = (-1, 1))\n",
    "# X=sc.fit_transform(data.drop('Prediction',1))\n",
    "X=data.drop('Prediction',1).values\n",
    "# Y = data[\"Prediction\"].values.reshape(-1,1)\n",
    "# Y = sc_y.fit_transform(data[\"Prediction\"].values.reshape(-1,1))\n",
    "Y=np.array(data[\"Prediction\"])\n",
    "X_train, X_test, y_train, y_test = train_test_split(X, Y, test_size=0.2,shuffle=False)\n",
    "# X_train = X_train.reshape((X_train.shape[0], 1, X_train.shape[1]))\n",
    "# X_test = X_test.reshape((X_test.shape[0], 1, X_test.shape[1]))\n",
    "print(X_train.shape,y_train.shape,X_test.shape,y_test.shape)"
   ]
  },
  {
   "cell_type": "code",
   "execution_count": 6,
   "id": "46bc37e9",
   "metadata": {},
   "outputs": [],
   "source": [
    "clf = RandomForestRegressor()"
   ]
  },
  {
   "cell_type": "code",
   "execution_count": 7,
   "id": "936742f1",
   "metadata": {},
   "outputs": [],
   "source": [
    "model = clf.fit(X_train, y_train)"
   ]
  },
  {
   "cell_type": "code",
   "execution_count": 8,
   "id": "518dad18",
   "metadata": {},
   "outputs": [],
   "source": [
    "y_pred=model.predict(X_test)"
   ]
  },
  {
   "cell_type": "code",
   "execution_count": 9,
   "id": "4b7ae360",
   "metadata": {},
   "outputs": [
    {
     "data": {
      "text/plain": [
       "array([41.62240013, 41.94319988, 40.98400005, 40.45090019, 40.37049995,\n",
       "       40.70880016, 41.32760025, 41.71309975, 42.3916996 , 41.22650024,\n",
       "       41.0608004 , 40.14600006, 40.25419979, 40.63669983, 41.05310032,\n",
       "       40.92690029, 40.97820011, 41.21099991, 41.55959999, 42.34729961,\n",
       "       41.62589928, 41.94709972, 41.58459995, 41.97360027, 41.90029984,\n",
       "       41.5517001 , 40.90319992, 41.58909992, 41.70829987, 41.83090012,\n",
       "       41.93609993, 41.80199982, 41.28539986, 40.47729996, 40.10269947,\n",
       "       40.26739967, 40.5321999 , 40.74010025, 40.59650047, 41.37129993,\n",
       "       41.47029995, 41.27290001, 40.48519997, 40.28749989, 40.39469997,\n",
       "       40.07510006, 40.49909985, 40.1806002 , 38.0495002 , 38.05099937,\n",
       "       37.46059933, 37.03580009, 37.28930019, 37.36290024, 37.29570007,\n",
       "       37.2214003 , 37.07460011, 37.29830048, 37.40930012, 37.67660011,\n",
       "       37.35330009, 37.95999992, 37.36859997, 37.07080017, 36.80270008,\n",
       "       37.03500031, 36.98410011, 37.26400024, 37.15360008, 37.13910007,\n",
       "       37.15460026, 37.25250004, 37.09400032, 37.50170021, 37.87090046,\n",
       "       37.4738002 , 37.48419975, 37.22630024, 37.25820034, 37.18960007,\n",
       "       37.89480049, 37.64600029, 37.58460045, 37.51110016, 37.56660034,\n",
       "       37.09519985, 36.60009964, 36.44379963, 36.57899967, 36.40889931,\n",
       "       36.38869972, 35.74119968, 35.71689991, 35.7109996 , 36.28009956,\n",
       "       36.61729942, 35.58379982, 35.22700047, 34.52640049, 33.82480078,\n",
       "       31.91280022, 31.90840027, 32.03080013, 32.5184001 , 32.6844001 ,\n",
       "       32.85720009, 32.9480002 , 32.89520021, 33.1920002 , 33.15679998,\n",
       "       33.7596002 , 34.24510035, 34.6527001 , 34.49170013, 34.43309988,\n",
       "       34.54529993, 32.71639992, 33.26509991, 34.33440001, 34.75279991,\n",
       "       35.18039986, 35.22359983, 34.62909988, 35.12079985, 34.53029993,\n",
       "       34.58589983, 34.34669996, 34.58789993, 34.29789997, 34.34709991,\n",
       "       34.42430006, 35.11559984, 34.65509995, 35.18519989, 35.24199997])"
      ]
     },
     "execution_count": 9,
     "metadata": {},
     "output_type": "execute_result"
    }
   ],
   "source": [
    "y_pred"
   ]
  },
  {
   "cell_type": "code",
   "execution_count": 10,
   "id": "494837c5",
   "metadata": {},
   "outputs": [
    {
     "data": {
      "image/png": "[encoded data removed]",
      "text/plain": [
       "<Figure size 432x288 with 1 Axes>"
      ]
     },
     "metadata": {
      "needs_background": "light"
     },
     "output_type": "display_data"
    }
   ],
   "source": [
    "plt.plot(np.arange(0, len(y_train)), y_train, 'g', label=\"history\")\n",
    "plt.plot(np.arange(len(y_train), len(y_train) + len(y_test)), y_test, marker='.', label=\"true\")\n",
    "plt.plot(np.arange(len(y_train), len(y_train) + len(y_test)), y_pred, 'r', label=\"prediction\")\n",
    "plt.ylabel('Value')\n",
    "plt.xlabel('Time Step')\n",
    "plt.legend()\n",
    "plt.show();"
   ]
  },
  {
   "cell_type": "code",
   "execution_count": 11,
   "id": "b4cef2d8",
   "metadata": {},
   "outputs": [
    {
     "data": {
      "text/plain": [
       "0.014776758957429203"
      ]
     },
     "execution_count": 11,
     "metadata": {},
     "output_type": "execute_result"
    }
   ],
   "source": [
    "mean_absolute_percentage_error(y_test,y_pred)"
   ]
  },
  {
   "cell_type": "code",
   "execution_count": 12,
   "id": "de4a9225",
   "metadata": {},
   "outputs": [
    {
     "data": {
      "text/plain": [
       "0.502577831358452"
      ]
     },
     "execution_count": 12,
     "metadata": {},
     "output_type": "execute_result"
    }
   ],
   "source": [
    "mean_squared_error(y_test,y_pred)"
   ]
  },
  {
   "cell_type": "code",
   "execution_count": 13,
   "id": "3f6a8435",
   "metadata": {},
   "outputs": [
    {
     "data": {
      "image/png": "[encoded data removed]",
      "text/plain": [
       "<Figure size 432x288 with 1 Axes>"
      ]
     },
     "metadata": {
      "needs_background": "light"
     },
     "output_type": "display_data"
    }
   ],
   "source": [
    "# y_test = sc.inverse_transform(y_test)\n",
    "# y_pred = sc.inverse_transform(y_pred)\n",
    "plt.plot(y_test, marker='.', label=\"true\")\n",
    "plt.plot(y_pred, 'r', label=\"prediction\")\n",
    "plt.ylabel('Value')\n",
    "plt.xlabel('Time Step')\n",
    "plt.title('HSI-RF-Scaling')\n",
    "plt.legend()\n",
    "plt.show()"
   ]
  },
  {
   "cell_type": "code",
   "execution_count": 14,
   "id": "4bd542cf",
   "metadata": {},
   "outputs": [
    {
     "data": {
      "text/plain": [
       "0.014776758957429203"
      ]
     },
     "execution_count": 14,
     "metadata": {},
     "output_type": "execute_result"
    }
   ],
   "source": [
    "mean_absolute_percentage_error(y_test,y_pred)"
   ]
  },
  {
   "cell_type": "code",
   "execution_count": 15,
   "id": "b8b6e45f",
   "metadata": {},
   "outputs": [
    {
     "data": {
      "text/plain": [
       "0.7089272398197519"
      ]
     },
     "execution_count": 15,
     "metadata": {},
     "output_type": "execute_result"
    }
   ],
   "source": [
    "mean_squared_error(y_test,y_pred,squared=False)"
   ]
  },
  {
   "cell_type": "code",
   "execution_count": 16,
   "id": "e6cd6938",
   "metadata": {},
   "outputs": [
    {
     "data": {
      "text/plain": [
       "0.9519169023554835"
      ]
     },
     "execution_count": 16,
     "metadata": {},
     "output_type": "execute_result"
    }
   ],
   "source": [
    "r2_score(y_test,y_pred)"
   ]
  },
  {
   "cell_type": "code",
   "execution_count": 17,
   "id": "29433fb9",
   "metadata": {},
   "outputs": [
    {
     "name": "stderr",
     "output_type": "stream",
     "text": [
      "/var/folders/8h/w0jn89bj2w5g85gj4ck7w0t00000gn/T/ipykernel_59335/2115332834.py:1: FutureWarning: In a future version of pandas all arguments of DataFrame.drop except for the argument 'labels' will be keyword-only.\n",
      "  x_val=data_val.drop('Prediction',1)\n",
      "/opt/homebrew/Caskroom/miniforge/base/envs/fyp_new/lib/python3.8/site-packages/sklearn/base.py:443: UserWarning: X has feature names, but RandomForestRegressor was fitted without feature names\n",
      "  warnings.warn(\n"
     ]
    }
   ],
   "source": [
    "x_val=data_val.drop('Prediction',1)\n",
    "y_val=data_val['Prediction']\n",
    "# x_val=x_val.reshape(x_val.shape[0],1,x_val.shape[1])\n",
    "# x_val=sc.transform(x_val).reshape(x_val.shape[0],1,x_val.shape[1])\n",
    "y_val_pred=clf.predict(x_val)\n",
    "# y_val_pred=sc_y.inverse_transform(y_val_pred)"
   ]
  },
  {
   "cell_type": "code",
   "execution_count": 18,
   "id": "24f057e8",
   "metadata": {},
   "outputs": [
    {
     "data": {
      "image/png": "[encoded data removed]",
      "text/plain": [
       "<Figure size 432x288 with 1 Axes>"
      ]
     },
     "metadata": {
      "needs_background": "light"
     },
     "output_type": "display_data"
    }
   ],
   "source": [
    "plt.plot(y_val.values, marker='.', label=\"true\")\n",
    "plt.plot(y_val_pred, 'r',label=\"prediction\")\n",
    "plt.ylabel('Value')\n",
    "plt.xlabel('Time Step')\n",
    "plt.title('0017-RF')\n",
    "plt.legend()\n",
    "plt.show()"
   ]
  },
  {
   "cell_type": "code",
   "execution_count": 19,
   "id": "e8166a87",
   "metadata": {},
   "outputs": [
    {
     "data": {
      "text/plain": [
       "0.05179288486442204"
      ]
     },
     "execution_count": 19,
     "metadata": {},
     "output_type": "execute_result"
    }
   ],
   "source": [
    "mean_absolute_percentage_error(y_val,y_val_pred)"
   ]
  },
  {
   "cell_type": "code",
   "execution_count": 20,
   "id": "6235c26a",
   "metadata": {},
   "outputs": [
    {
     "data": {
      "text/plain": [
       "1.8449644815246837"
      ]
     },
     "execution_count": 20,
     "metadata": {},
     "output_type": "execute_result"
    }
   ],
   "source": [
    "mean_squared_error(y_val,y_val_pred,squared=False)"
   ]
  },
  {
   "cell_type": "code",
   "execution_count": 21,
   "id": "61d1118e",
   "metadata": {},
   "outputs": [
    {
     "data": {
      "text/plain": [
       "-0.8685337377210598"
      ]
     },
     "execution_count": 21,
     "metadata": {},
     "output_type": "execute_result"
    }
   ],
   "source": [
    "r2_score(y_val,y_val_pred)"
   ]
  },
  {
   "cell_type": "code",
   "execution_count": null,
   "id": "fb952c6b",
   "metadata": {},
   "outputs": [],
   "source": []
  },
  {
   "cell_type": "code",
   "execution_count": null,
   "id": "eccdfa44",
   "metadata": {},
   "outputs": [],
   "source": []
  },
  {
   "cell_type": "code",
   "execution_count": null,
   "id": "e3e57475",
   "metadata": {},
   "outputs": [],
   "source": []
  }
 ],
 "metadata": {
  "kernelspec": {
   "display_name": "Python 3 (ipykernel)",
   "language": "python",
   "name": "python3"
  },
  "language_info": {
   "codemirror_mode": {
    "name": "ipython",
    "version": 3
   },
   "file_extension": ".py",
   "mimetype": "text/x-python",
   "name": "python",
   "nbconvert_exporter": "python",
   "pygments_lexer": "ipython3",
   "version": "3.8.13"
  }
 },
 "nbformat": 4,
 "nbformat_minor": 5
}
