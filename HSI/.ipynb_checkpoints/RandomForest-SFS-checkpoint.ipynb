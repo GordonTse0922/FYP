{
 "cells": [
  {
   "cell_type": "code",
   "execution_count": 1,
   "id": "a2138cba",
   "metadata": {},
   "outputs": [],
   "source": [
    "import yfinance as yf\n",
    "import numpy as np\n",
    "import pandas as pd\n",
    "from sklearn.ensemble import RandomForestRegressor, RandomForestClassifier\n",
    "from sklearn.preprocessing import MinMaxScaler\n",
    "import matplotlib.pyplot as plt\n",
    "from sklearn.metrics import classification_report,accuracy_score, mean_squared_error,mean_absolute_percentage_error,r2_score\n",
    "import talib\n",
    "from sklearn.model_selection import train_test_split"
   ]
  },
  {
   "cell_type": "code",
   "execution_count": 2,
   "id": "316ed5eb",
   "metadata": {},
   "outputs": [
    {
     "name": "stdout",
     "output_type": "stream",
     "text": [
      "[*********************100%***********************]  1 of 1 completed\n"
     ]
    },
    {
     "data": {
      "text/html": [
       "<div>\n",
       "<style scoped>\n",
       "    .dataframe tbody tr th:only-of-type {\n",
       "        vertical-align: middle;\n",
       "    }\n",
       "\n",
       "    .dataframe tbody tr th {\n",
       "        vertical-align: top;\n",
       "    }\n",
       "\n",
       "    .dataframe thead th {\n",
       "        text-align: right;\n",
       "    }\n",
       "</style>\n",
       "<table border=\"1\" class=\"dataframe\">\n",
       "  <thead>\n",
       "    <tr style=\"text-align: right;\">\n",
       "      <th></th>\n",
       "      <th>Open</th>\n",
       "      <th>High</th>\n",
       "      <th>Low</th>\n",
       "      <th>Close</th>\n",
       "      <th>Adj Close</th>\n",
       "      <th>Volume</th>\n",
       "    </tr>\n",
       "    <tr>\n",
       "      <th>Date</th>\n",
       "      <th></th>\n",
       "      <th></th>\n",
       "      <th></th>\n",
       "      <th></th>\n",
       "      <th></th>\n",
       "      <th></th>\n",
       "    </tr>\n",
       "  </thead>\n",
       "  <tbody>\n",
       "    <tr>\n",
       "      <th>2019-01-02</th>\n",
       "      <td>25824.439453</td>\n",
       "      <td>25824.439453</td>\n",
       "      <td>25055.269531</td>\n",
       "      <td>25130.349609</td>\n",
       "      <td>25130.349609</td>\n",
       "      <td>1666316400</td>\n",
       "    </tr>\n",
       "    <tr>\n",
       "      <th>2019-01-03</th>\n",
       "      <td>25077.679688</td>\n",
       "      <td>25262.210938</td>\n",
       "      <td>24896.869141</td>\n",
       "      <td>25064.359375</td>\n",
       "      <td>25064.359375</td>\n",
       "      <td>1481291700</td>\n",
       "    </tr>\n",
       "    <tr>\n",
       "      <th>2019-01-04</th>\n",
       "      <td>24946.119141</td>\n",
       "      <td>25626.029297</td>\n",
       "      <td>24924.730469</td>\n",
       "      <td>25626.029297</td>\n",
       "      <td>25626.029297</td>\n",
       "      <td>1708572100</td>\n",
       "    </tr>\n",
       "    <tr>\n",
       "      <th>2019-01-07</th>\n",
       "      <td>26015.839844</td>\n",
       "      <td>26043.640625</td>\n",
       "      <td>25753.460938</td>\n",
       "      <td>25835.699219</td>\n",
       "      <td>25835.699219</td>\n",
       "      <td>1447090300</td>\n",
       "    </tr>\n",
       "    <tr>\n",
       "      <th>2019-01-08</th>\n",
       "      <td>25852.500000</td>\n",
       "      <td>25960.890625</td>\n",
       "      <td>25688.500000</td>\n",
       "      <td>25875.449219</td>\n",
       "      <td>25875.449219</td>\n",
       "      <td>1578205700</td>\n",
       "    </tr>\n",
       "    <tr>\n",
       "      <th>...</th>\n",
       "      <td>...</td>\n",
       "      <td>...</td>\n",
       "      <td>...</td>\n",
       "      <td>...</td>\n",
       "      <td>...</td>\n",
       "      <td>...</td>\n",
       "    </tr>\n",
       "    <tr>\n",
       "      <th>2021-12-24</th>\n",
       "      <td>23375.990234</td>\n",
       "      <td>23383.189453</td>\n",
       "      <td>23186.570312</td>\n",
       "      <td>23223.759766</td>\n",
       "      <td>23223.759766</td>\n",
       "      <td>622879700</td>\n",
       "    </tr>\n",
       "    <tr>\n",
       "      <th>2021-12-28</th>\n",
       "      <td>23282.349609</td>\n",
       "      <td>23319.439453</td>\n",
       "      <td>23099.480469</td>\n",
       "      <td>23280.560547</td>\n",
       "      <td>23280.560547</td>\n",
       "      <td>1433026700</td>\n",
       "    </tr>\n",
       "    <tr>\n",
       "      <th>2021-12-29</th>\n",
       "      <td>23253.980469</td>\n",
       "      <td>23253.980469</td>\n",
       "      <td>23008.279297</td>\n",
       "      <td>23086.539062</td>\n",
       "      <td>23086.539062</td>\n",
       "      <td>828414400</td>\n",
       "    </tr>\n",
       "    <tr>\n",
       "      <th>2021-12-30</th>\n",
       "      <td>23130.449219</td>\n",
       "      <td>23248.259766</td>\n",
       "      <td>22990.240234</td>\n",
       "      <td>23112.009766</td>\n",
       "      <td>23112.009766</td>\n",
       "      <td>1008366000</td>\n",
       "    </tr>\n",
       "    <tr>\n",
       "      <th>2021-12-31</th>\n",
       "      <td>23553.789062</td>\n",
       "      <td>23590.119141</td>\n",
       "      <td>23394.769531</td>\n",
       "      <td>23397.669922</td>\n",
       "      <td>23397.669922</td>\n",
       "      <td>675936400</td>\n",
       "    </tr>\n",
       "  </tbody>\n",
       "</table>\n",
       "<p>741 rows × 6 columns</p>\n",
       "</div>"
      ],
      "text/plain": [
       "                    Open          High           Low         Close  \\\n",
       "Date                                                                 \n",
       "2019-01-02  25824.439453  25824.439453  25055.269531  25130.349609   \n",
       "2019-01-03  25077.679688  25262.210938  24896.869141  25064.359375   \n",
       "2019-01-04  24946.119141  25626.029297  24924.730469  25626.029297   \n",
       "2019-01-07  26015.839844  26043.640625  25753.460938  25835.699219   \n",
       "2019-01-08  25852.500000  25960.890625  25688.500000  25875.449219   \n",
       "...                  ...           ...           ...           ...   \n",
       "2021-12-24  23375.990234  23383.189453  23186.570312  23223.759766   \n",
       "2021-12-28  23282.349609  23319.439453  23099.480469  23280.560547   \n",
       "2021-12-29  23253.980469  23253.980469  23008.279297  23086.539062   \n",
       "2021-12-30  23130.449219  23248.259766  22990.240234  23112.009766   \n",
       "2021-12-31  23553.789062  23590.119141  23394.769531  23397.669922   \n",
       "\n",
       "               Adj Close      Volume  \n",
       "Date                                  \n",
       "2019-01-02  25130.349609  1666316400  \n",
       "2019-01-03  25064.359375  1481291700  \n",
       "2019-01-04  25626.029297  1708572100  \n",
       "2019-01-07  25835.699219  1447090300  \n",
       "2019-01-08  25875.449219  1578205700  \n",
       "...                  ...         ...  \n",
       "2021-12-24  23223.759766   622879700  \n",
       "2021-12-28  23280.560547  1433026700  \n",
       "2021-12-29  23086.539062   828414400  \n",
       "2021-12-30  23112.009766  1008366000  \n",
       "2021-12-31  23397.669922   675936400  \n",
       "\n",
       "[741 rows x 6 columns]"
      ]
     },
     "execution_count": 2,
     "metadata": {},
     "output_type": "execute_result"
    }
   ],
   "source": [
    "data=yf.download('^HSI','2019-01-01','2022-01-01')\n",
    "# data.drop('Volume',1,inplace=True)\n",
    "data"
   ]
  },
  {
   "cell_type": "code",
   "execution_count": 3,
   "id": "54833d4f",
   "metadata": {},
   "outputs": [],
   "source": [
    "\n",
    "data['Prediction']=data['Close'].shift(-1)\n",
    "data.dropna(inplace=True)"
   ]
  },
  {
   "cell_type": "code",
   "execution_count": 4,
   "id": "76dc1a7d",
   "metadata": {},
   "outputs": [
    {
     "name": "stdout",
     "output_type": "stream",
     "text": [
      "(512, 6) (512,) (128, 6) (128,)\n"
     ]
    },
    {
     "name": "stderr",
     "output_type": "stream",
     "text": [
      "/var/folders/8h/w0jn89bj2w5g85gj4ck7w0t00000gn/T/ipykernel_41172/2761118840.py:6: FutureWarning: In a future version of pandas all arguments of DataFrame.drop except for the argument 'labels' will be keyword-only.\n",
      "  X=data.drop('Prediction',1).values\n"
     ]
    }
   ],
   "source": [
    "# data.drop(['OSC12','OSC6','MI12','MI6','%R10','%R5','RSI','TR'],1,inplace=True)\n",
    "data_val=data[-100:]\n",
    "data=data[:-100]\n",
    "sc = MinMaxScaler(feature_range = (-1, 1))\n",
    "# X=sc.fit_transform(data.drop('Prediction',1))\n",
    "X=data.drop('Prediction',1).values\n",
    "# Y = data[\"Prediction\"].values.reshape(-1,1)\n",
    "# Y = sc_y.fit_transform(data[\"Prediction\"].values.reshape(-1,1))\n",
    "Y=np.array(data[\"Prediction\"])\n",
    "X_train, X_test, y_train, y_test = train_test_split(X, Y, test_size=0.2,shuffle=False)\n",
    "# X_train = X_train.reshape((X_train.shape[0], 1, X_train.shape[1]))\n",
    "# X_test = X_test.reshape((X_test.shape[0], 1, X_test.shape[1]))\n",
    "print(X_train.shape,y_train.shape,X_test.shape,y_test.shape)"
   ]
  },
  {
   "cell_type": "code",
   "execution_count": 5,
   "id": "46bc37e9",
   "metadata": {},
   "outputs": [],
   "source": [
    "clf = RandomForestRegressor()"
   ]
  },
  {
   "cell_type": "code",
   "execution_count": 6,
   "id": "936742f1",
   "metadata": {},
   "outputs": [],
   "source": [
    "model = clf.fit(X_train, y_train)"
   ]
  },
  {
   "cell_type": "code",
   "execution_count": 7,
   "id": "518dad18",
   "metadata": {},
   "outputs": [],
   "source": [
    "y_pred=model.predict(X_test)"
   ]
  },
  {
   "cell_type": "code",
   "execution_count": 8,
   "id": "4b7ae360",
   "metadata": {},
   "outputs": [
    {
     "data": {
      "text/plain": [
       "array([28661.54898438, 28419.05894531, 29196.04939453, 29074.73595703,\n",
       "       29022.28625   , 29060.79884766, 29035.42242187, 28983.88568359,\n",
       "       29444.77871094, 29859.99458984, 29547.32507812, 29858.96636719,\n",
       "       29846.14265625, 29865.29445312, 29858.96636719, 29870.78777344,\n",
       "       29870.78777344, 29889.81201172, 29994.31816406, 28791.94511719,\n",
       "       29468.72445312, 28980.04482422, 29770.0378125 , 28967.29900391,\n",
       "       29219.80728516, 28535.08433594, 28820.63642578, 28830.3528125 ,\n",
       "       29313.48322266, 28537.7378125 , 28990.78925781, 28916.65324219,\n",
       "       28948.2771875 , 29414.81804687, 28800.00984375, 28905.47962891,\n",
       "       28534.16576172, 28075.29314453, 27948.63955078, 28086.47339844,\n",
       "       28271.45373047, 28670.55539062, 28419.16050781, 28946.4734375 ,\n",
       "       28496.58605469, 29139.13230469, 28488.16605469, 28351.15708984,\n",
       "       28483.83789062, 28948.04132813, 28824.55988281, 29001.75878906,\n",
       "       28919.29636719, 28939.92423828, 28746.05501953, 28787.14732422,\n",
       "       29117.40761719, 28695.98927734, 28819.71021484, 29007.759375  ,\n",
       "       29072.40794922, 28472.355     , 28390.0621875 , 28599.84373047,\n",
       "       28380.6578125 , 28797.30404297, 28709.09484375, 28680.89390625,\n",
       "       28204.72615234, 28342.70587891, 27713.04025391, 27794.67015625,\n",
       "       28416.64962891, 28634.61640625, 28401.34791016, 28521.70265625,\n",
       "       28168.66314453, 29103.26875   , 29002.59177734, 28954.02576172,\n",
       "       28982.15681641, 28838.52804687, 29450.5384375 , 29042.80695313,\n",
       "       28736.20435547, 29105.34685547, 28641.20099609, 28821.27462891,\n",
       "       28758.5896875 , 28765.82814453, 28938.89513672, 28668.73501953,\n",
       "       28400.72117188, 28545.64802734, 28807.91376953, 28516.39859375,\n",
       "       28411.19578125, 29053.24664062, 28864.60648437, 28937.4615625 ,\n",
       "       29006.67662109, 28647.43916016, 28678.74712891, 28398.77791016,\n",
       "       28192.58005859, 28209.73626953, 27692.0209375 , 27088.4321875 ,\n",
       "       27158.99867188, 27741.87259766, 27765.11291016, 27684.22023437,\n",
       "       28007.39634766, 28245.62189453, 27501.55224609, 27315.22724609,\n",
       "       27202.59574219, 27459.55578125, 27267.47775391, 26004.15042969,\n",
       "       25129.98570312, 25322.908125  , 26342.99335937, 26070.95673828,\n",
       "       26154.51537109, 26132.89037109, 26403.3146875 , 26237.91396484])"
      ]
     },
     "execution_count": 8,
     "metadata": {},
     "output_type": "execute_result"
    }
   ],
   "source": [
    "y_pred"
   ]
  },
  {
   "cell_type": "code",
   "execution_count": 9,
   "id": "494837c5",
   "metadata": {},
   "outputs": [
    {
     "data": {
      "image/png": "[encoded data removed]",
      "text/plain": [
       "<Figure size 432x288 with 1 Axes>"
      ]
     },
     "metadata": {
      "needs_background": "light"
     },
     "output_type": "display_data"
    }
   ],
   "source": [
    "plt.plot(np.arange(0, len(y_train)), y_train, 'g', label=\"history\")\n",
    "plt.plot(np.arange(len(y_train), len(y_train) + len(y_test)), y_test, marker='.', label=\"true\")\n",
    "plt.plot(np.arange(len(y_train), len(y_train) + len(y_test)), y_pred, 'r', label=\"prediction\")\n",
    "plt.ylabel('Value')\n",
    "plt.xlabel('Time Step')\n",
    "plt.legend()\n",
    "plt.show();"
   ]
  },
  {
   "cell_type": "code",
   "execution_count": 10,
   "id": "b4cef2d8",
   "metadata": {},
   "outputs": [
    {
     "data": {
      "text/plain": [
       "0.0113493849014258"
      ]
     },
     "execution_count": 10,
     "metadata": {},
     "output_type": "execute_result"
    }
   ],
   "source": [
    "mean_absolute_percentage_error(y_test,y_pred)"
   ]
  },
  {
   "cell_type": "code",
   "execution_count": 11,
   "id": "de4a9225",
   "metadata": {},
   "outputs": [
    {
     "data": {
      "text/plain": [
       "171280.0524290682"
      ]
     },
     "execution_count": 11,
     "metadata": {},
     "output_type": "execute_result"
    }
   ],
   "source": [
    "mean_squared_error(y_test,y_pred)"
   ]
  },
  {
   "cell_type": "code",
   "execution_count": 12,
   "id": "3f6a8435",
   "metadata": {},
   "outputs": [
    {
     "data": {
      "image/png": "[encoded data removed]",
      "text/plain": [
       "<Figure size 432x288 with 1 Axes>"
      ]
     },
     "metadata": {
      "needs_background": "light"
     },
     "output_type": "display_data"
    }
   ],
   "source": [
    "# y_test = sc.inverse_transform(y_test)\n",
    "# y_pred = sc.inverse_transform(y_pred)\n",
    "plt.plot(y_test, marker='.', label=\"true\")\n",
    "plt.plot(y_pred, 'r', label=\"prediction\")\n",
    "plt.ylabel('Value')\n",
    "plt.xlabel('Time Step')\n",
    "plt.title('HSI-RF-Scaling')\n",
    "plt.legend()\n",
    "plt.show();"
   ]
  },
  {
   "cell_type": "code",
   "execution_count": 13,
   "id": "4bd542cf",
   "metadata": {},
   "outputs": [
    {
     "data": {
      "text/plain": [
       "0.0113493849014258"
      ]
     },
     "execution_count": 13,
     "metadata": {},
     "output_type": "execute_result"
    }
   ],
   "source": [
    "mean_absolute_percentage_error(y_test,y_pred)"
   ]
  },
  {
   "cell_type": "code",
   "execution_count": 14,
   "id": "b8b6e45f",
   "metadata": {},
   "outputs": [
    {
     "data": {
      "text/plain": [
       "413.85994301100004"
      ]
     },
     "execution_count": 14,
     "metadata": {},
     "output_type": "execute_result"
    }
   ],
   "source": [
    "mean_squared_error(y_test,y_pred,squared=False)"
   ]
  },
  {
   "cell_type": "code",
   "execution_count": 15,
   "id": "e6cd6938",
   "metadata": {},
   "outputs": [
    {
     "data": {
      "text/plain": [
       "0.8376536778344625"
      ]
     },
     "execution_count": 15,
     "metadata": {},
     "output_type": "execute_result"
    }
   ],
   "source": [
    "r2_score(y_test,y_pred)"
   ]
  },
  {
   "cell_type": "code",
   "execution_count": 16,
   "id": "29433fb9",
   "metadata": {},
   "outputs": [
    {
     "name": "stderr",
     "output_type": "stream",
     "text": [
      "/var/folders/8h/w0jn89bj2w5g85gj4ck7w0t00000gn/T/ipykernel_41172/2115332834.py:1: FutureWarning: In a future version of pandas all arguments of DataFrame.drop except for the argument 'labels' will be keyword-only.\n",
      "  x_val=data_val.drop('Prediction',1)\n",
      "/opt/homebrew/Caskroom/miniforge/base/envs/fyp_new/lib/python3.8/site-packages/sklearn/base.py:443: UserWarning: X has feature names, but RandomForestRegressor was fitted without feature names\n",
      "  warnings.warn(\n"
     ]
    }
   ],
   "source": [
    "x_val=data_val.drop('Prediction',1)\n",
    "y_val=data_val['Prediction']\n",
    "# x_val=x_val.reshape(x_val.shape[0],1,x_val.shape[1])\n",
    "# x_val=sc.transform(x_val).reshape(x_val.shape[0],1,x_val.shape[1])\n",
    "y_val_pred=clf.predict(x_val)\n",
    "# y_val_pred=sc_y.inverse_transform(y_val_pred)"
   ]
  },
  {
   "cell_type": "code",
   "execution_count": 17,
   "id": "24f057e8",
   "metadata": {},
   "outputs": [
    {
     "data": {
      "image/png": "[encoded data removed]",
      "text/plain": [
       "<Figure size 432x288 with 1 Axes>"
      ]
     },
     "metadata": {
      "needs_background": "light"
     },
     "output_type": "display_data"
    }
   ],
   "source": [
    "plt.plot(y_val.values, marker='.', label=\"true\")\n",
    "plt.plot(y_val_pred, 'r', marker='*',label=\"prediction\")\n",
    "plt.ylabel('Value')\n",
    "plt.xlabel('Time Step')\n",
    "plt.title('HSI-LSTM-l1-Batch32')\n",
    "plt.legend()\n",
    "plt.show()"
   ]
  },
  {
   "cell_type": "code",
   "execution_count": 18,
   "id": "e8166a87",
   "metadata": {},
   "outputs": [
    {
     "data": {
      "text/plain": [
       "0.010732788212234277"
      ]
     },
     "execution_count": 18,
     "metadata": {},
     "output_type": "execute_result"
    }
   ],
   "source": [
    "mean_absolute_percentage_error(y_val,y_val_pred)"
   ]
  },
  {
   "cell_type": "code",
   "execution_count": 19,
   "id": "6235c26a",
   "metadata": {},
   "outputs": [
    {
     "data": {
      "text/plain": [
       "324.762932608059"
      ]
     },
     "execution_count": 19,
     "metadata": {},
     "output_type": "execute_result"
    }
   ],
   "source": [
    "mean_squared_error(y_val,y_val_pred,squared=False)"
   ]
  },
  {
   "cell_type": "code",
   "execution_count": 20,
   "id": "61d1118e",
   "metadata": {},
   "outputs": [
    {
     "data": {
      "text/plain": [
       "0.8954815550987023"
      ]
     },
     "execution_count": 20,
     "metadata": {},
     "output_type": "execute_result"
    }
   ],
   "source": [
    "r2_score(y_val,y_val_pred)"
   ]
  },
  {
   "cell_type": "code",
   "execution_count": null,
   "id": "fb952c6b",
   "metadata": {},
   "outputs": [],
   "source": []
  }
 ],
 "metadata": {
  "kernelspec": {
   "display_name": "Python 3 (ipykernel)",
   "language": "python",
   "name": "python3"
  },
  "language_info": {
   "codemirror_mode": {
    "name": "ipython",
    "version": 3
   },
   "file_extension": ".py",
   "mimetype": "text/x-python",
   "name": "python",
   "nbconvert_exporter": "python",
   "pygments_lexer": "ipython3",
   "version": "3.8.13"
  }
 },
 "nbformat": 4,
 "nbformat_minor": 5
}
