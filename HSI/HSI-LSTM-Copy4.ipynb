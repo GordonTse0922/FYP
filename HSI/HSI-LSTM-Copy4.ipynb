{
 "cells": [
  {
   "cell_type": "code",
   "execution_count": 1,
   "metadata": {},
   "outputs": [],
   "source": [
    "import yfinance as yf\n",
    "import pandas as pd\n",
    "import numpy as np\n",
    "import matplotlib.pyplot as plt\n",
    "from sklearn.preprocessing import MinMaxScaler\n",
    "from sklearn.model_selection import train_test_split\n",
    "from sklearn.metrics import classification_report,accuracy_score, mean_squared_error,mean_absolute_percentage_error,r2_score\n",
    "import tensorflow as tf\n",
    "import talib\n",
    "from tensorflow import keras\n",
    "from sklearn.pipeline import make_pipeline\n",
    "from tensorflow.keras import regularizers\n",
    "from keras.callbacks import EarlyStopping"
   ]
  },
  {
   "cell_type": "code",
   "execution_count": 2,
   "metadata": {},
   "outputs": [
    {
     "name": "stdout",
     "output_type": "stream",
     "text": [
      "[*********************100%***********************]  1 of 1 completed\n"
     ]
    },
    {
     "name": "stderr",
     "output_type": "stream",
     "text": [
      "/var/folders/8h/w0jn89bj2w5g85gj4ck7w0t00000gn/T/ipykernel_45935/963280979.py:2: FutureWarning: In a future version of pandas all arguments of DataFrame.drop except for the argument 'labels' will be keyword-only.\n",
      "  data.drop('Volume',1,inplace=True)\n"
     ]
    },
    {
     "data": {
      "text/html": [
       "<div>\n",
       "<style scoped>\n",
       "    .dataframe tbody tr th:only-of-type {\n",
       "        vertical-align: middle;\n",
       "    }\n",
       "\n",
       "    .dataframe tbody tr th {\n",
       "        vertical-align: top;\n",
       "    }\n",
       "\n",
       "    .dataframe thead th {\n",
       "        text-align: right;\n",
       "    }\n",
       "</style>\n",
       "<table border=\"1\" class=\"dataframe\">\n",
       "  <thead>\n",
       "    <tr style=\"text-align: right;\">\n",
       "      <th></th>\n",
       "      <th>Open</th>\n",
       "      <th>High</th>\n",
       "      <th>Low</th>\n",
       "      <th>Close</th>\n",
       "      <th>Adj Close</th>\n",
       "      <th>Prediction</th>\n",
       "    </tr>\n",
       "    <tr>\n",
       "      <th>Date</th>\n",
       "      <th></th>\n",
       "      <th></th>\n",
       "      <th></th>\n",
       "      <th></th>\n",
       "      <th></th>\n",
       "      <th></th>\n",
       "    </tr>\n",
       "  </thead>\n",
       "  <tbody>\n",
       "    <tr>\n",
       "      <th>2020-01-23</th>\n",
       "      <td>27909.099609</td>\n",
       "      <td>27909.099609</td>\n",
       "      <td>27909.099609</td>\n",
       "      <td>27909.099609</td>\n",
       "      <td>27909.099609</td>\n",
       "      <td>27949.599609</td>\n",
       "    </tr>\n",
       "    <tr>\n",
       "      <th>2020-01-24</th>\n",
       "      <td>27949.599609</td>\n",
       "      <td>27949.599609</td>\n",
       "      <td>27949.599609</td>\n",
       "      <td>27949.599609</td>\n",
       "      <td>27949.599609</td>\n",
       "      <td>27160.599609</td>\n",
       "    </tr>\n",
       "    <tr>\n",
       "      <th>2020-01-29</th>\n",
       "      <td>27160.599609</td>\n",
       "      <td>27160.599609</td>\n",
       "      <td>27160.599609</td>\n",
       "      <td>27160.599609</td>\n",
       "      <td>27160.599609</td>\n",
       "      <td>26449.099609</td>\n",
       "    </tr>\n",
       "    <tr>\n",
       "      <th>2020-01-30</th>\n",
       "      <td>26449.099609</td>\n",
       "      <td>26449.099609</td>\n",
       "      <td>26449.099609</td>\n",
       "      <td>26449.099609</td>\n",
       "      <td>26449.099609</td>\n",
       "      <td>26312.599609</td>\n",
       "    </tr>\n",
       "    <tr>\n",
       "      <th>2020-01-31</th>\n",
       "      <td>26312.599609</td>\n",
       "      <td>26312.599609</td>\n",
       "      <td>26312.599609</td>\n",
       "      <td>26312.599609</td>\n",
       "      <td>26312.599609</td>\n",
       "      <td>26357.000000</td>\n",
       "    </tr>\n",
       "    <tr>\n",
       "      <th>...</th>\n",
       "      <td>...</td>\n",
       "      <td>...</td>\n",
       "      <td>...</td>\n",
       "      <td>...</td>\n",
       "      <td>...</td>\n",
       "      <td>...</td>\n",
       "    </tr>\n",
       "    <tr>\n",
       "      <th>2021-12-23</th>\n",
       "      <td>23193.599609</td>\n",
       "      <td>23193.599609</td>\n",
       "      <td>23193.599609</td>\n",
       "      <td>23193.599609</td>\n",
       "      <td>23193.599609</td>\n",
       "      <td>23223.800781</td>\n",
       "    </tr>\n",
       "    <tr>\n",
       "      <th>2021-12-27</th>\n",
       "      <td>23223.800781</td>\n",
       "      <td>23223.800781</td>\n",
       "      <td>23223.800781</td>\n",
       "      <td>23223.800781</td>\n",
       "      <td>23223.800781</td>\n",
       "      <td>23280.599609</td>\n",
       "    </tr>\n",
       "    <tr>\n",
       "      <th>2021-12-28</th>\n",
       "      <td>23280.599609</td>\n",
       "      <td>23280.599609</td>\n",
       "      <td>23280.599609</td>\n",
       "      <td>23280.599609</td>\n",
       "      <td>23280.599609</td>\n",
       "      <td>23086.500000</td>\n",
       "    </tr>\n",
       "    <tr>\n",
       "      <th>2021-12-29</th>\n",
       "      <td>23086.500000</td>\n",
       "      <td>23086.500000</td>\n",
       "      <td>23086.500000</td>\n",
       "      <td>23086.500000</td>\n",
       "      <td>23086.500000</td>\n",
       "      <td>23112.000000</td>\n",
       "    </tr>\n",
       "    <tr>\n",
       "      <th>2021-12-30</th>\n",
       "      <td>23112.000000</td>\n",
       "      <td>23112.000000</td>\n",
       "      <td>23112.000000</td>\n",
       "      <td>23112.000000</td>\n",
       "      <td>23112.000000</td>\n",
       "      <td>23397.699219</td>\n",
       "    </tr>\n",
       "  </tbody>\n",
       "</table>\n",
       "<p>470 rows × 6 columns</p>\n",
       "</div>"
      ],
      "text/plain": [
       "                    Open          High           Low         Close  \\\n",
       "Date                                                                 \n",
       "2020-01-23  27909.099609  27909.099609  27909.099609  27909.099609   \n",
       "2020-01-24  27949.599609  27949.599609  27949.599609  27949.599609   \n",
       "2020-01-29  27160.599609  27160.599609  27160.599609  27160.599609   \n",
       "2020-01-30  26449.099609  26449.099609  26449.099609  26449.099609   \n",
       "2020-01-31  26312.599609  26312.599609  26312.599609  26312.599609   \n",
       "...                  ...           ...           ...           ...   \n",
       "2021-12-23  23193.599609  23193.599609  23193.599609  23193.599609   \n",
       "2021-12-27  23223.800781  23223.800781  23223.800781  23223.800781   \n",
       "2021-12-28  23280.599609  23280.599609  23280.599609  23280.599609   \n",
       "2021-12-29  23086.500000  23086.500000  23086.500000  23086.500000   \n",
       "2021-12-30  23112.000000  23112.000000  23112.000000  23112.000000   \n",
       "\n",
       "               Adj Close    Prediction  \n",
       "Date                                    \n",
       "2020-01-23  27909.099609  27949.599609  \n",
       "2020-01-24  27949.599609  27160.599609  \n",
       "2020-01-29  27160.599609  26449.099609  \n",
       "2020-01-30  26449.099609  26312.599609  \n",
       "2020-01-31  26312.599609  26357.000000  \n",
       "...                  ...           ...  \n",
       "2021-12-23  23193.599609  23223.800781  \n",
       "2021-12-27  23223.800781  23280.599609  \n",
       "2021-12-28  23280.599609  23086.500000  \n",
       "2021-12-29  23086.500000  23112.000000  \n",
       "2021-12-30  23112.000000  23397.699219  \n",
       "\n",
       "[470 rows x 6 columns]"
      ]
     },
     "execution_count": 2,
     "metadata": {},
     "output_type": "execute_result"
    }
   ],
   "source": [
    "data=yf.download('HSI','2020-01-01','2022-01-01')\n",
    "data.drop('Volume',1,inplace=True)\n",
    "data['Prediction']=data['Close'].shift(-1)\n",
    "data.dropna(inplace=True)\n",
    "data"
   ]
  },
  {
   "cell_type": "code",
   "execution_count": 3,
   "metadata": {},
   "outputs": [],
   "source": [
    "data_val=data[-100:]\n",
    "data=data[:-100]"
   ]
  },
  {
   "cell_type": "code",
   "execution_count": 4,
   "metadata": {},
   "outputs": [],
   "source": [
    "# sc = MinMaxScaler(feature_range = (-1, 1))\n",
    "sc_y= MinMaxScaler(feature_range = (0, 1))"
   ]
  },
  {
   "cell_type": "code",
   "execution_count": 5,
   "metadata": {},
   "outputs": [
    {
     "name": "stdout",
     "output_type": "stream",
     "text": [
      "(296, 1, 5) (296,) (74, 1, 5) (74,)\n"
     ]
    },
    {
     "name": "stderr",
     "output_type": "stream",
     "text": [
      "/var/folders/8h/w0jn89bj2w5g85gj4ck7w0t00000gn/T/ipykernel_45935/2546918542.py:2: FutureWarning: In a future version of pandas all arguments of DataFrame.drop except for the argument 'labels' will be keyword-only.\n",
      "  X=data.drop('Prediction',1).values\n"
     ]
    }
   ],
   "source": [
    "# X=sc.fit_transform(data.drop('Prediction',1))\n",
    "X=data.drop('Prediction',1).values\n",
    "# Y = data[\"Prediction\"].values.reshape(-1,1)\n",
    "# Y = sc_y.fit_transform(data[\"Prediction\"].values.reshape(-1,1))\n",
    "Y=np.array(data[\"Close\"])\n",
    "X_train, X_test, y_train, y_test = train_test_split(X, Y, test_size=0.2,shuffle=False)\n",
    "X_train = X_train.reshape((X_train.shape[0], 1, X_train.shape[1]))\n",
    "X_test = X_test.reshape((X_test.shape[0], 1, X_test.shape[1]))\n",
    "print(X_train.shape,y_train.shape,X_test.shape,y_test.shape)"
   ]
  },
  {
   "cell_type": "code",
   "execution_count": 6,
   "metadata": {},
   "outputs": [
    {
     "name": "stdout",
     "output_type": "stream",
     "text": [
      "Metal device set to: Apple M1 Pro\n"
     ]
    },
    {
     "name": "stderr",
     "output_type": "stream",
     "text": [
      "2022-04-10 18:48:16.890934: I tensorflow/core/common_runtime/pluggable_device/pluggable_device_factory.cc:305] Could not identify NUMA node of platform GPU ID 0, defaulting to 0. Your kernel may not have been built with NUMA support.\n",
      "2022-04-10 18:48:16.891067: I tensorflow/core/common_runtime/pluggable_device/pluggable_device_factory.cc:271] Created TensorFlow device (/job:localhost/replica:0/task:0/device:GPU:0 with 0 MB memory) -> physical PluggableDevice (device: 0, name: METAL, pci bus id: <undefined>)\n"
     ]
    }
   ],
   "source": [
    "model_tech = keras.Sequential()\n",
    "model_tech.add(keras.layers.LSTM(\n",
    "  units=128,\n",
    "  input_shape=(X_train.shape[1], X_train.shape[2]),\n",
    "    return_sequences=True\n",
    "   \n",
    "))\n",
    "model_tech.add(keras.layers.LSTM(units=64))\n",
    "model_tech.add(keras.layers.Dense(units=64))\n",
    "model_tech.add(keras.layers.Dense(units=1))\n",
    "model_tech.compile(\n",
    "  loss='mean_squared_error',\n",
    "  optimizer=keras.optimizers.Adam(0.001)\n",
    ")"
   ]
  },
  {
   "cell_type": "code",
   "execution_count": 7,
   "metadata": {
    "scrolled": true
   },
   "outputs": [
    {
     "name": "stdout",
     "output_type": "stream",
     "text": [
      "Epoch 1/700\n"
     ]
    },
    {
     "name": "stderr",
     "output_type": "stream",
     "text": [
      "2022-04-10 18:48:17.910515: W tensorflow/core/platform/profile_utils/cpu_utils.cc:128] Failed to get CPU frequency: 0 Hz\n",
      "2022-04-10 18:48:19.162649: I tensorflow/core/grappler/optimizers/custom_graph_optimizer_registry.cc:113] Plugin optimizer for device_type GPU is enabled.\n",
      "2022-04-10 18:48:19.395269: I tensorflow/core/grappler/optimizers/custom_graph_optimizer_registry.cc:113] Plugin optimizer for device_type GPU is enabled.\n",
      "2022-04-10 18:48:19.879206: I tensorflow/core/grappler/optimizers/custom_graph_optimizer_registry.cc:113] Plugin optimizer for device_type GPU is enabled.\n",
      "2022-04-10 18:48:21.126451: I tensorflow/core/grappler/optimizers/custom_graph_optimizer_registry.cc:113] Plugin optimizer for device_type GPU is enabled.\n",
      "2022-04-10 18:48:21.638557: I tensorflow/core/grappler/optimizers/custom_graph_optimizer_registry.cc:113] Plugin optimizer for device_type GPU is enabled.\n"
     ]
    },
    {
     "name": "stdout",
     "output_type": "stream",
     "text": [
      "17/17 [==============================] - ETA: 0s - loss: 656568960.0000"
     ]
    },
    {
     "name": "stderr",
     "output_type": "stream",
     "text": [
      "2022-04-10 18:48:23.208958: I tensorflow/core/grappler/optimizers/custom_graph_optimizer_registry.cc:113] Plugin optimizer for device_type GPU is enabled.\n",
      "2022-04-10 18:48:23.285452: I tensorflow/core/grappler/optimizers/custom_graph_optimizer_registry.cc:113] Plugin optimizer for device_type GPU is enabled.\n",
      "2022-04-10 18:48:23.309414: I tensorflow/core/grappler/optimizers/custom_graph_optimizer_registry.cc:113] Plugin optimizer for device_type GPU is enabled.\n"
     ]
    },
    {
     "name": "stdout",
     "output_type": "stream",
     "text": [
      "17/17 [==============================] - 6s 116ms/step - loss: 656568960.0000 - val_loss: 842324160.0000\n",
      "Epoch 2/700\n",
      "17/17 [==============================] - 0s 13ms/step - loss: 656317120.0000 - val_loss: 841873216.0000\n",
      "Epoch 3/700\n",
      "17/17 [==============================] - 0s 11ms/step - loss: 655739392.0000 - val_loss: 840961088.0000\n",
      "Epoch 4/700\n",
      "17/17 [==============================] - 0s 11ms/step - loss: 654714688.0000 - val_loss: 839516480.0000\n",
      "Epoch 5/700\n",
      "17/17 [==============================] - 0s 10ms/step - loss: 653244800.0000 - val_loss: 837618752.0000\n",
      "Epoch 6/700\n",
      "17/17 [==============================] - 0s 10ms/step - loss: 651429440.0000 - val_loss: 835391040.0000\n",
      "Epoch 7/700\n",
      "17/17 [==============================] - 0s 10ms/step - loss: 649356672.0000 - val_loss: 832901440.0000\n",
      "Epoch 8/700\n",
      "17/17 [==============================] - 0s 10ms/step - loss: 647064576.0000 - val_loss: 830170432.0000\n",
      "Epoch 9/700\n",
      "17/17 [==============================] - 0s 10ms/step - loss: 644562432.0000 - val_loss: 827201152.0000\n",
      "Epoch 10/700\n",
      "17/17 [==============================] - 0s 9ms/step - loss: 641851264.0000 - val_loss: 823993728.0000\n",
      "Epoch 11/700\n",
      "17/17 [==============================] - 0s 9ms/step - loss: 638931328.0000 - val_loss: 820548032.0000\n",
      "Epoch 12/700\n",
      "17/17 [==============================] - 0s 10ms/step - loss: 635802880.0000 - val_loss: 816864576.0000\n",
      "Epoch 13/700\n",
      "17/17 [==============================] - 0s 9ms/step - loss: 632466816.0000 - val_loss: 812944640.0000\n",
      "Epoch 14/700\n",
      "17/17 [==============================] - 0s 9ms/step - loss: 628924800.0000 - val_loss: 808789824.0000\n",
      "Epoch 15/700\n",
      "17/17 [==============================] - 0s 10ms/step - loss: 625178752.0000 - val_loss: 804402944.0000\n",
      "Epoch 16/700\n",
      "17/17 [==============================] - 0s 10ms/step - loss: 621231296.0000 - val_loss: 799786368.0000\n",
      "Epoch 17/700\n",
      "17/17 [==============================] - 0s 10ms/step - loss: 617085056.0000 - val_loss: 794943424.0000\n",
      "Epoch 18/700\n",
      "17/17 [==============================] - 0s 10ms/step - loss: 612743424.0000 - val_loss: 789877440.0000\n",
      "Epoch 19/700\n",
      "17/17 [==============================] - 0s 10ms/step - loss: 608209728.0000 - val_loss: 784592384.0000\n",
      "Epoch 20/700\n",
      "17/17 [==============================] - 0s 10ms/step - loss: 603487872.0000 - val_loss: 779092544.0000\n",
      "Epoch 21/700\n",
      "17/17 [==============================] - 0s 10ms/step - loss: 598581888.0000 - val_loss: 773382208.0000\n",
      "Epoch 22/700\n",
      "17/17 [==============================] - 0s 10ms/step - loss: 593495936.0000 - val_loss: 767465856.0000\n",
      "Epoch 23/700\n",
      "17/17 [==============================] - 0s 10ms/step - loss: 588234560.0000 - val_loss: 761348608.0000\n",
      "Epoch 24/700\n",
      "17/17 [==============================] - 0s 10ms/step - loss: 582802560.0000 - val_loss: 755035648.0000\n",
      "Epoch 25/700\n",
      "17/17 [==============================] - 0s 10ms/step - loss: 577204608.0000 - val_loss: 748531840.0000\n",
      "Epoch 26/700\n",
      "17/17 [==============================] - 0s 10ms/step - loss: 571445824.0000 - val_loss: 741842816.0000\n",
      "Epoch 27/700\n",
      "17/17 [==============================] - 0s 10ms/step - loss: 565531392.0000 - val_loss: 734974272.0000\n",
      "Epoch 28/700\n",
      "17/17 [==============================] - 0s 10ms/step - loss: 559466560.0000 - val_loss: 727931776.0000\n",
      "Epoch 29/700\n",
      "17/17 [==============================] - 0s 10ms/step - loss: 553256704.0000 - val_loss: 720721280.0000\n",
      "Epoch 30/700\n",
      "17/17 [==============================] - 0s 9ms/step - loss: 546907392.0000 - val_loss: 713348736.0000\n",
      "Epoch 31/700\n",
      "17/17 [==============================] - 0s 9ms/step - loss: 540424512.0000 - val_loss: 705820160.0000\n",
      "Epoch 32/700\n",
      "17/17 [==============================] - 0s 10ms/step - loss: 533813344.0000 - val_loss: 698141888.0000\n",
      "Epoch 33/700\n",
      "17/17 [==============================] - 0s 9ms/step - loss: 527080064.0000 - val_loss: 690319808.0000\n",
      "Epoch 34/700\n",
      "17/17 [==============================] - 0s 9ms/step - loss: 520230400.0000 - val_loss: 682360576.0000\n",
      "Epoch 35/700\n",
      "17/17 [==============================] - 0s 10ms/step - loss: 513270144.0000 - val_loss: 674270656.0000\n",
      "Epoch 36/700\n",
      "17/17 [==============================] - 0s 10ms/step - loss: 506205472.0000 - val_loss: 666056128.0000\n",
      "Epoch 37/700\n",
      "17/17 [==============================] - 0s 10ms/step - loss: 499042208.0000 - val_loss: 657723712.0000\n",
      "Epoch 38/700\n",
      "17/17 [==============================] - 0s 10ms/step - loss: 491786688.0000 - val_loss: 649279744.0000\n",
      "Epoch 39/700\n",
      "17/17 [==============================] - 0s 10ms/step - loss: 484444704.0000 - val_loss: 640730944.0000\n",
      "Epoch 40/700\n",
      "17/17 [==============================] - 0s 9ms/step - loss: 477022496.0000 - val_loss: 632083840.0000\n",
      "Epoch 41/700\n",
      "17/17 [==============================] - 0s 10ms/step - loss: 469526112.0000 - val_loss: 623345024.0000\n",
      "Epoch 42/700\n",
      "17/17 [==============================] - 0s 10ms/step - loss: 461961600.0000 - val_loss: 614520896.0000\n",
      "Epoch 43/700\n",
      "17/17 [==============================] - 0s 10ms/step - loss: 454335232.0000 - val_loss: 605618112.0000\n",
      "Epoch 44/700\n",
      "17/17 [==============================] - 0s 9ms/step - loss: 446652864.0000 - val_loss: 596643328.0000\n",
      "Epoch 45/700\n",
      "17/17 [==============================] - 0s 10ms/step - loss: 438920704.0000 - val_loss: 587602944.0000\n",
      "Epoch 46/700\n",
      "17/17 [==============================] - 0s 10ms/step - loss: 431144704.0000 - val_loss: 578503616.0000\n",
      "Epoch 47/700\n",
      "17/17 [==============================] - 0s 10ms/step - loss: 423330848.0000 - val_loss: 569351680.0000\n",
      "Epoch 48/700\n",
      "17/17 [==============================] - 0s 9ms/step - loss: 415485184.0000 - val_loss: 560153600.0000\n",
      "Epoch 49/700\n",
      "17/17 [==============================] - 0s 11ms/step - loss: 407613600.0000 - val_loss: 550915904.0000\n",
      "Epoch 50/700\n",
      "17/17 [==============================] - 0s 10ms/step - loss: 399721888.0000 - val_loss: 541644672.0000\n",
      "Epoch 51/700\n",
      "17/17 [==============================] - 0s 10ms/step - loss: 391815936.0000 - val_loss: 532346560.0000\n",
      "Epoch 52/700\n",
      "17/17 [==============================] - 0s 9ms/step - loss: 383901536.0000 - val_loss: 523027584.0000\n",
      "Epoch 53/700\n",
      "17/17 [==============================] - 0s 9ms/step - loss: 375984128.0000 - val_loss: 513693888.0000\n",
      "Epoch 54/700\n",
      "17/17 [==============================] - 0s 10ms/step - loss: 368069536.0000 - val_loss: 504351680.0000\n",
      "Epoch 55/700\n",
      "17/17 [==============================] - 0s 9ms/step - loss: 360163264.0000 - val_loss: 495006816.0000\n",
      "Epoch 56/700\n",
      "17/17 [==============================] - 0s 9ms/step - loss: 352270560.0000 - val_loss: 485665440.0000\n",
      "Epoch 57/700\n",
      "17/17 [==============================] - 0s 9ms/step - loss: 344397088.0000 - val_loss: 476333216.0000\n",
      "Epoch 58/700\n",
      "17/17 [==============================] - 0s 9ms/step - loss: 336547872.0000 - val_loss: 467015968.0000\n",
      "Epoch 59/700\n",
      "17/17 [==============================] - 0s 10ms/step - loss: 328728224.0000 - val_loss: 457719424.0000\n",
      "Epoch 60/700\n",
      "17/17 [==============================] - 0s 10ms/step - loss: 320943008.0000 - val_loss: 448449024.0000\n",
      "Epoch 61/700\n",
      "17/17 [==============================] - 0s 10ms/step - loss: 313197376.0000 - val_loss: 439210336.0000\n",
      "Epoch 62/700\n",
      "17/17 [==============================] - 0s 9ms/step - loss: 305496128.0000 - val_loss: 430008640.0000\n",
      "Epoch 63/700\n",
      "17/17 [==============================] - 0s 9ms/step - loss: 297843936.0000 - val_loss: 420849248.0000\n",
      "Epoch 64/700\n",
      "17/17 [==============================] - 0s 12ms/step - loss: 290245568.0000 - val_loss: 411737088.0000\n",
      "Epoch 65/700\n",
      "17/17 [==============================] - 0s 9ms/step - loss: 282705312.0000 - val_loss: 402677440.0000\n",
      "Epoch 66/700\n",
      "17/17 [==============================] - 0s 10ms/step - loss: 275227648.0000 - val_loss: 393674976.0000\n",
      "Epoch 67/700\n",
      "17/17 [==============================] - 0s 10ms/step - loss: 267816880.0000 - val_loss: 384734464.0000\n",
      "Epoch 68/700\n",
      "17/17 [==============================] - 0s 10ms/step - loss: 260476992.0000 - val_loss: 375860608.0000\n",
      "Epoch 69/700\n",
      "17/17 [==============================] - 0s 10ms/step - loss: 253212016.0000 - val_loss: 367057856.0000\n",
      "Epoch 70/700\n",
      "17/17 [==============================] - 0s 10ms/step - loss: 246025808.0000 - val_loss: 358330496.0000\n",
      "Epoch 71/700\n"
     ]
    },
    {
     "name": "stdout",
     "output_type": "stream",
     "text": [
      "17/17 [==============================] - 0s 9ms/step - loss: 238922128.0000 - val_loss: 349682816.0000\n",
      "Epoch 72/700\n",
      "17/17 [==============================] - 0s 9ms/step - loss: 231904448.0000 - val_loss: 341118880.0000\n",
      "Epoch 73/700\n",
      "17/17 [==============================] - 0s 9ms/step - loss: 224976256.0000 - val_loss: 332642560.0000\n",
      "Epoch 74/700\n",
      "17/17 [==============================] - 0s 9ms/step - loss: 218140704.0000 - val_loss: 324257664.0000\n",
      "Epoch 75/700\n",
      "17/17 [==============================] - 0s 10ms/step - loss: 211401008.0000 - val_loss: 315967776.0000\n",
      "Epoch 76/700\n",
      "17/17 [==============================] - 0s 10ms/step - loss: 204760112.0000 - val_loss: 307776416.0000\n",
      "Epoch 77/700\n",
      "17/17 [==============================] - 0s 9ms/step - loss: 198220816.0000 - val_loss: 299687040.0000\n",
      "Epoch 78/700\n",
      "17/17 [==============================] - 0s 10ms/step - loss: 191785808.0000 - val_loss: 291702528.0000\n",
      "Epoch 79/700\n",
      "17/17 [==============================] - 0s 10ms/step - loss: 185457584.0000 - val_loss: 283826112.0000\n",
      "Epoch 80/700\n",
      "17/17 [==============================] - 0s 10ms/step - loss: 179238464.0000 - val_loss: 276060640.0000\n",
      "Epoch 81/700\n",
      "17/17 [==============================] - 0s 9ms/step - loss: 173130672.0000 - val_loss: 268408736.0000\n",
      "Epoch 82/700\n",
      "17/17 [==============================] - 0s 9ms/step - loss: 167136208.0000 - val_loss: 260872896.0000\n",
      "Epoch 83/700\n",
      "17/17 [==============================] - 0s 9ms/step - loss: 161256960.0000 - val_loss: 253455632.0000\n",
      "Epoch 84/700\n",
      "17/17 [==============================] - 0s 9ms/step - loss: 155494624.0000 - val_loss: 246159072.0000\n",
      "Epoch 85/700\n",
      "17/17 [==============================] - 0s 9ms/step - loss: 149850784.0000 - val_loss: 238985328.0000\n",
      "Epoch 86/700\n",
      "17/17 [==============================] - 0s 10ms/step - loss: 144326768.0000 - val_loss: 231936224.0000\n",
      "Epoch 87/700\n",
      "17/17 [==============================] - 0s 10ms/step - loss: 138923840.0000 - val_loss: 225013520.0000\n",
      "Epoch 88/700\n",
      "17/17 [==============================] - 0s 10ms/step - loss: 133643056.0000 - val_loss: 218218784.0000\n",
      "Epoch 89/700\n",
      "17/17 [==============================] - 0s 9ms/step - loss: 128485336.0000 - val_loss: 211553488.0000\n",
      "Epoch 90/700\n",
      "17/17 [==============================] - 0s 9ms/step - loss: 123451400.0000 - val_loss: 205018800.0000\n",
      "Epoch 91/700\n",
      "17/17 [==============================] - 0s 10ms/step - loss: 118541856.0000 - val_loss: 198615808.0000\n",
      "Epoch 92/700\n",
      "17/17 [==============================] - 0s 10ms/step - loss: 113757120.0000 - val_loss: 192345472.0000\n",
      "Epoch 93/700\n",
      "17/17 [==============================] - 0s 10ms/step - loss: 109097480.0000 - val_loss: 186208544.0000\n",
      "Epoch 94/700\n",
      "17/17 [==============================] - 0s 9ms/step - loss: 104563064.0000 - val_loss: 180205648.0000\n",
      "Epoch 95/700\n",
      "17/17 [==============================] - 0s 9ms/step - loss: 100153824.0000 - val_loss: 174337232.0000\n",
      "Epoch 96/700\n",
      "17/17 [==============================] - 0s 10ms/step - loss: 95869592.0000 - val_loss: 168603584.0000\n",
      "Epoch 97/700\n",
      "17/17 [==============================] - 0s 10ms/step - loss: 91710024.0000 - val_loss: 163004896.0000\n",
      "Epoch 98/700\n",
      "17/17 [==============================] - 0s 9ms/step - loss: 87674680.0000 - val_loss: 157541168.0000\n",
      "Epoch 99/700\n",
      "17/17 [==============================] - 0s 10ms/step - loss: 83762952.0000 - val_loss: 152212144.0000\n",
      "Epoch 100/700\n",
      "17/17 [==============================] - 0s 10ms/step - loss: 79974048.0000 - val_loss: 147017712.0000\n",
      "Epoch 101/700\n",
      "17/17 [==============================] - 0s 11ms/step - loss: 76307112.0000 - val_loss: 141957328.0000\n",
      "Epoch 102/700\n",
      "17/17 [==============================] - 0s 10ms/step - loss: 72761104.0000 - val_loss: 137030496.0000\n",
      "Epoch 103/700\n",
      "17/17 [==============================] - 0s 10ms/step - loss: 69334936.0000 - val_loss: 132236384.0000\n",
      "Epoch 104/700\n",
      "17/17 [==============================] - 0s 9ms/step - loss: 66027276.0000 - val_loss: 127574264.0000\n",
      "Epoch 105/700\n",
      "17/17 [==============================] - 0s 9ms/step - loss: 62836768.0000 - val_loss: 123043264.0000\n",
      "Epoch 106/700\n",
      "17/17 [==============================] - 0s 10ms/step - loss: 59761928.0000 - val_loss: 118642168.0000\n",
      "Epoch 107/700\n",
      "17/17 [==============================] - 0s 14ms/step - loss: 56801128.0000 - val_loss: 114369800.0000\n",
      "Epoch 108/700\n",
      "17/17 [==============================] - 0s 10ms/step - loss: 53952644.0000 - val_loss: 110224888.0000\n",
      "Epoch 109/700\n",
      "17/17 [==============================] - 0s 9ms/step - loss: 51214668.0000 - val_loss: 106205984.0000\n",
      "Epoch 110/700\n",
      "17/17 [==============================] - 0s 10ms/step - loss: 48585304.0000 - val_loss: 102311552.0000\n",
      "Epoch 111/700\n",
      "17/17 [==============================] - 0s 10ms/step - loss: 46062548.0000 - val_loss: 98540000.0000\n",
      "Epoch 112/700\n",
      "17/17 [==============================] - 0s 11ms/step - loss: 43644332.0000 - val_loss: 94889648.0000\n",
      "Epoch 113/700\n",
      "17/17 [==============================] - 0s 11ms/step - loss: 41328480.0000 - val_loss: 91358520.0000\n",
      "Epoch 114/700\n",
      "17/17 [==============================] - 0s 10ms/step - loss: 39112764.0000 - val_loss: 87944880.0000\n",
      "Epoch 115/700\n",
      "17/17 [==============================] - 0s 11ms/step - loss: 36994896.0000 - val_loss: 84646640.0000\n",
      "Epoch 116/700\n",
      "17/17 [==============================] - 0s 10ms/step - loss: 34972516.0000 - val_loss: 81461856.0000\n",
      "Epoch 117/700\n",
      "17/17 [==============================] - 0s 10ms/step - loss: 33043234.0000 - val_loss: 78388416.0000\n",
      "Epoch 118/700\n",
      "17/17 [==============================] - 0s 12ms/step - loss: 31204584.0000 - val_loss: 75424048.0000\n",
      "Epoch 119/700\n",
      "17/17 [==============================] - 0s 11ms/step - loss: 29454078.0000 - val_loss: 72566512.0000\n",
      "Epoch 120/700\n",
      "17/17 [==============================] - 0s 13ms/step - loss: 27789166.0000 - val_loss: 69813696.0000\n",
      "Epoch 121/700\n",
      "17/17 [==============================] - 0s 11ms/step - loss: 26207326.0000 - val_loss: 67163104.0000\n",
      "Epoch 122/700\n",
      "17/17 [==============================] - 0s 11ms/step - loss: 24705958.0000 - val_loss: 64612432.0000\n",
      "Epoch 123/700\n",
      "17/17 [==============================] - 0s 11ms/step - loss: 23282474.0000 - val_loss: 62159260.0000\n",
      "Epoch 124/700\n",
      "17/17 [==============================] - 0s 11ms/step - loss: 21934274.0000 - val_loss: 59801192.0000\n",
      "Epoch 125/700\n",
      "17/17 [==============================] - 0s 12ms/step - loss: 20658754.0000 - val_loss: 57535768.0000\n",
      "Epoch 126/700\n",
      "17/17 [==============================] - 0s 10ms/step - loss: 19453298.0000 - val_loss: 55360572.0000\n",
      "Epoch 127/700\n",
      "17/17 [==============================] - 0s 10ms/step - loss: 18315320.0000 - val_loss: 53272988.0000\n",
      "Epoch 128/700\n",
      "17/17 [==============================] - 0s 10ms/step - loss: 17242230.0000 - val_loss: 51270684.0000\n",
      "Epoch 129/700\n",
      "17/17 [==============================] - 0s 10ms/step - loss: 16231465.0000 - val_loss: 49351076.0000\n",
      "Epoch 130/700\n",
      "17/17 [==============================] - 0s 10ms/step - loss: 15280473.0000 - val_loss: 47511720.0000\n",
      "Epoch 131/700\n",
      "17/17 [==============================] - 0s 10ms/step - loss: 14386757.0000 - val_loss: 45750188.0000\n",
      "Epoch 132/700\n",
      "17/17 [==============================] - 0s 10ms/step - loss: 13547844.0000 - val_loss: 44064004.0000\n",
      "Epoch 133/700\n",
      "17/17 [==============================] - 0s 10ms/step - loss: 12761286.0000 - val_loss: 42450708.0000\n",
      "Epoch 134/700\n",
      "17/17 [==============================] - 0s 10ms/step - loss: 12024683.0000 - val_loss: 40907864.0000\n",
      "Epoch 135/700\n",
      "17/17 [==============================] - 0s 10ms/step - loss: 11335686.0000 - val_loss: 39433140.0000\n",
      "Epoch 136/700\n",
      "17/17 [==============================] - 0s 10ms/step - loss: 10691994.0000 - val_loss: 38024156.0000\n",
      "Epoch 137/700\n",
      "17/17 [==============================] - 0s 10ms/step - loss: 10091355.0000 - val_loss: 36678620.0000\n",
      "Epoch 138/700\n",
      "17/17 [==============================] - 0s 10ms/step - loss: 9531584.0000 - val_loss: 35394156.0000\n",
      "Epoch 139/700\n",
      "17/17 [==============================] - 0s 10ms/step - loss: 9010542.0000 - val_loss: 34168600.0000\n",
      "Epoch 140/700\n",
      "17/17 [==============================] - 0s 10ms/step - loss: 8526154.0000 - val_loss: 32999710.0000\n",
      "Epoch 141/700\n"
     ]
    },
    {
     "name": "stdout",
     "output_type": "stream",
     "text": [
      "17/17 [==============================] - 0s 10ms/step - loss: 8076411.5000 - val_loss: 31885320.0000\n",
      "Epoch 142/700\n",
      "17/17 [==============================] - 0s 10ms/step - loss: 7659370.0000 - val_loss: 30823332.0000\n",
      "Epoch 143/700\n",
      "17/17 [==============================] - 0s 10ms/step - loss: 7273146.5000 - val_loss: 29811648.0000\n",
      "Epoch 144/700\n",
      "17/17 [==============================] - 0s 10ms/step - loss: 6915928.5000 - val_loss: 28848334.0000\n",
      "Epoch 145/700\n",
      "17/17 [==============================] - 0s 10ms/step - loss: 6585980.5000 - val_loss: 27931328.0000\n",
      "Epoch 146/700\n",
      "17/17 [==============================] - 0s 10ms/step - loss: 6281615.5000 - val_loss: 27058758.0000\n",
      "Epoch 147/700\n",
      "17/17 [==============================] - 0s 10ms/step - loss: 6001233.0000 - val_loss: 26228814.0000\n",
      "Epoch 148/700\n",
      "17/17 [==============================] - 0s 10ms/step - loss: 5743293.5000 - val_loss: 25439578.0000\n",
      "Epoch 149/700\n",
      "17/17 [==============================] - 0s 10ms/step - loss: 5506321.5000 - val_loss: 24689396.0000\n",
      "Epoch 150/700\n",
      "17/17 [==============================] - 0s 10ms/step - loss: 5288919.0000 - val_loss: 23976560.0000\n",
      "Epoch 151/700\n",
      "17/17 [==============================] - 0s 10ms/step - loss: 5089758.5000 - val_loss: 23299418.0000\n",
      "Epoch 152/700\n",
      "17/17 [==============================] - 0s 10ms/step - loss: 4907560.5000 - val_loss: 22656386.0000\n",
      "Epoch 153/700\n",
      "17/17 [==============================] - 0s 10ms/step - loss: 4741129.5000 - val_loss: 22045922.0000\n",
      "Epoch 154/700\n",
      "17/17 [==============================] - 0s 11ms/step - loss: 4589318.0000 - val_loss: 21466586.0000\n",
      "Epoch 155/700\n",
      "17/17 [==============================] - 0s 11ms/step - loss: 4451053.5000 - val_loss: 20916934.0000\n",
      "Epoch 156/700\n",
      "17/17 [==============================] - 0s 10ms/step - loss: 4325321.5000 - val_loss: 20395602.0000\n",
      "Epoch 157/700\n",
      "17/17 [==============================] - 0s 10ms/step - loss: 4211158.0000 - val_loss: 19901286.0000\n",
      "Epoch 158/700\n",
      "17/17 [==============================] - 0s 10ms/step - loss: 4107667.7500 - val_loss: 19432726.0000\n",
      "Epoch 159/700\n",
      "17/17 [==============================] - 0s 10ms/step - loss: 4014006.0000 - val_loss: 18988702.0000\n",
      "Epoch 160/700\n",
      "17/17 [==============================] - 0s 10ms/step - loss: 3929374.5000 - val_loss: 18568026.0000\n",
      "Epoch 161/700\n",
      "17/17 [==============================] - 0s 10ms/step - loss: 3853037.5000 - val_loss: 18169626.0000\n",
      "Epoch 162/700\n",
      "17/17 [==============================] - 0s 10ms/step - loss: 3784297.7500 - val_loss: 17792396.0000\n",
      "Epoch 163/700\n",
      "17/17 [==============================] - 0s 10ms/step - loss: 3722515.7500 - val_loss: 17435334.0000\n",
      "Epoch 164/700\n",
      "17/17 [==============================] - 0s 10ms/step - loss: 3667089.0000 - val_loss: 17097436.0000\n",
      "Epoch 165/700\n",
      "17/17 [==============================] - 0s 10ms/step - loss: 3617454.7500 - val_loss: 16777796.0000\n",
      "Epoch 166/700\n",
      "17/17 [==============================] - 0s 10ms/step - loss: 3573097.5000 - val_loss: 16475494.0000\n",
      "Epoch 167/700\n",
      "17/17 [==============================] - 0s 10ms/step - loss: 3533545.0000 - val_loss: 16189672.0000\n",
      "Epoch 168/700\n",
      "17/17 [==============================] - 0s 10ms/step - loss: 3498345.2500 - val_loss: 15919507.0000\n",
      "Epoch 169/700\n",
      "17/17 [==============================] - 0s 10ms/step - loss: 3467092.0000 - val_loss: 15664238.0000\n",
      "Epoch 170/700\n",
      "17/17 [==============================] - 0s 10ms/step - loss: 3439410.0000 - val_loss: 15423089.0000\n",
      "Epoch 171/700\n",
      "17/17 [==============================] - 0s 10ms/step - loss: 3414954.5000 - val_loss: 15195378.0000\n",
      "Epoch 172/700\n",
      "17/17 [==============================] - 0s 10ms/step - loss: 3393402.7500 - val_loss: 14980390.0000\n",
      "Epoch 173/700\n",
      "17/17 [==============================] - 0s 10ms/step - loss: 3374464.5000 - val_loss: 14777520.0000\n",
      "Epoch 174/700\n",
      "17/17 [==============================] - 0s 10ms/step - loss: 3357876.5000 - val_loss: 14586107.0000\n",
      "Epoch 175/700\n",
      "17/17 [==============================] - 0s 10ms/step - loss: 3343393.7500 - val_loss: 14405609.0000\n",
      "Epoch 176/700\n",
      "17/17 [==============================] - 0s 10ms/step - loss: 3330791.7500 - val_loss: 14235412.0000\n",
      "Epoch 177/700\n",
      "17/17 [==============================] - 0s 11ms/step - loss: 3319871.7500 - val_loss: 14074998.0000\n",
      "Epoch 178/700\n",
      "17/17 [==============================] - 0s 10ms/step - loss: 3310450.2500 - val_loss: 13923868.0000\n",
      "Epoch 179/700\n",
      "17/17 [==============================] - 0s 10ms/step - loss: 3302355.7500 - val_loss: 13781541.0000\n",
      "Epoch 180/700\n",
      "17/17 [==============================] - 0s 10ms/step - loss: 3295442.2500 - val_loss: 13647537.0000\n",
      "Epoch 181/700\n",
      "17/17 [==============================] - 0s 10ms/step - loss: 3289573.5000 - val_loss: 13521409.0000\n",
      "Epoch 182/700\n",
      "17/17 [==============================] - 0s 12ms/step - loss: 3284623.2500 - val_loss: 13402764.0000\n",
      "Epoch 183/700\n",
      "17/17 [==============================] - 0s 10ms/step - loss: 3280487.2500 - val_loss: 13291194.0000\n",
      "Epoch 184/700\n",
      "17/17 [==============================] - 0s 10ms/step - loss: 3277058.0000 - val_loss: 13186320.0000\n",
      "Epoch 185/700\n",
      "17/17 [==============================] - 0s 10ms/step - loss: 3274250.7500 - val_loss: 13087763.0000\n",
      "Epoch 186/700\n",
      "17/17 [==============================] - 0s 10ms/step - loss: 3271990.0000 - val_loss: 12995203.0000\n",
      "Epoch 187/700\n",
      "17/17 [==============================] - 0s 11ms/step - loss: 3270194.5000 - val_loss: 12908306.0000\n",
      "Epoch 188/700\n",
      "17/17 [==============================] - 0s 10ms/step - loss: 3268813.5000 - val_loss: 12826763.0000\n",
      "Epoch 189/700\n",
      "17/17 [==============================] - 0s 10ms/step - loss: 3267778.5000 - val_loss: 12750279.0000\n",
      "Epoch 190/700\n",
      "17/17 [==============================] - 0s 10ms/step - loss: 3267045.5000 - val_loss: 12678559.0000\n",
      "Epoch 191/700\n",
      "17/17 [==============================] - 0s 10ms/step - loss: 3266569.0000 - val_loss: 12611343.0000\n",
      "Epoch 192/700\n",
      "17/17 [==============================] - 0s 10ms/step - loss: 3266312.0000 - val_loss: 12548395.0000\n",
      "Epoch 193/700\n",
      "17/17 [==============================] - 0s 10ms/step - loss: 3266239.0000 - val_loss: 12489444.0000\n",
      "Epoch 194/700\n",
      "17/17 [==============================] - 0s 10ms/step - loss: 3266318.0000 - val_loss: 12434277.0000\n",
      "Epoch 195/700\n",
      "17/17 [==============================] - 0s 10ms/step - loss: 3266522.5000 - val_loss: 12382675.0000\n",
      "Epoch 196/700\n",
      "17/17 [==============================] - 0s 10ms/step - loss: 3266832.5000 - val_loss: 12334445.0000\n",
      "Epoch 197/700\n",
      "17/17 [==============================] - 0s 10ms/step - loss: 3267225.2500 - val_loss: 12289375.0000\n",
      "Epoch 198/700\n",
      "17/17 [==============================] - 0s 10ms/step - loss: 3267685.0000 - val_loss: 12247295.0000\n",
      "Epoch 199/700\n",
      "17/17 [==============================] - 0s 10ms/step - loss: 3268197.2500 - val_loss: 12207988.0000\n",
      "Epoch 200/700\n",
      "17/17 [==============================] - 0s 10ms/step - loss: 3268744.7500 - val_loss: 12171344.0000\n",
      "Epoch 201/700\n",
      "17/17 [==============================] - 0s 10ms/step - loss: 3269323.7500 - val_loss: 12137165.0000\n",
      "Epoch 202/700\n",
      "17/17 [==============================] - 0s 10ms/step - loss: 3269920.0000 - val_loss: 12105317.0000\n",
      "Epoch 203/700\n",
      "17/17 [==============================] - 0s 10ms/step - loss: 3270525.7500 - val_loss: 12075660.0000\n",
      "Epoch 204/700\n",
      "17/17 [==============================] - 0s 10ms/step - loss: 3271135.0000 - val_loss: 12048048.0000\n",
      "Epoch 205/700\n",
      "17/17 [==============================] - 0s 10ms/step - loss: 3271746.7500 - val_loss: 12022358.0000\n",
      "Epoch 206/700\n",
      "17/17 [==============================] - 0s 10ms/step - loss: 3272348.5000 - val_loss: 11998474.0000\n",
      "Epoch 207/700\n",
      "17/17 [==============================] - 0s 10ms/step - loss: 3272938.2500 - val_loss: 11976286.0000\n",
      "Epoch 208/700\n",
      "17/17 [==============================] - 0s 10ms/step - loss: 3273517.2500 - val_loss: 11955683.0000\n",
      "Epoch 209/700\n",
      "17/17 [==============================] - 0s 10ms/step - loss: 3274082.0000 - val_loss: 11936562.0000\n",
      "Epoch 210/700\n",
      "17/17 [==============================] - 0s 10ms/step - loss: 3274629.7500 - val_loss: 11918838.0000\n",
      "Epoch 211/700\n",
      "17/17 [==============================] - 0s 10ms/step - loss: 3275160.5000 - val_loss: 11902404.0000\n",
      "Epoch 212/700\n"
     ]
    },
    {
     "name": "stdout",
     "output_type": "stream",
     "text": [
      "17/17 [==============================] - 0s 10ms/step - loss: 3275669.5000 - val_loss: 11887179.0000\n",
      "Epoch 213/700\n",
      "17/17 [==============================] - 0s 10ms/step - loss: 3276160.5000 - val_loss: 11873091.0000\n",
      "Epoch 214/700\n",
      "17/17 [==============================] - 0s 10ms/step - loss: 3276633.2500 - val_loss: 11860050.0000\n",
      "Epoch 215/700\n",
      "17/17 [==============================] - 0s 10ms/step - loss: 3277085.0000 - val_loss: 11848013.0000\n",
      "Epoch 216/700\n",
      "17/17 [==============================] - 0s 10ms/step - loss: 3277517.0000 - val_loss: 11836888.0000\n",
      "Epoch 217/700\n",
      "17/17 [==============================] - 0s 10ms/step - loss: 3277929.7500 - val_loss: 11826618.0000\n",
      "Epoch 218/700\n",
      "17/17 [==============================] - 0s 10ms/step - loss: 3278322.7500 - val_loss: 11817144.0000\n",
      "Epoch 219/700\n",
      "17/17 [==============================] - 0s 10ms/step - loss: 3278697.7500 - val_loss: 11808403.0000\n",
      "Epoch 220/700\n",
      "17/17 [==============================] - 0s 13ms/step - loss: 3279054.0000 - val_loss: 11800382.0000\n",
      "Epoch 221/700\n",
      "17/17 [==============================] - 0s 11ms/step - loss: 3279395.2500 - val_loss: 11792971.0000\n",
      "Epoch 222/700\n",
      "17/17 [==============================] - 0s 10ms/step - loss: 3279720.0000 - val_loss: 11786176.0000\n",
      "Epoch 223/700\n",
      "17/17 [==============================] - 0s 10ms/step - loss: 3280028.5000 - val_loss: 11779922.0000\n",
      "Epoch 224/700\n",
      "17/17 [==============================] - 0s 10ms/step - loss: 3280322.2500 - val_loss: 11774196.0000\n",
      "Epoch 225/700\n",
      "17/17 [==============================] - 0s 10ms/step - loss: 3280601.7500 - val_loss: 11768935.0000\n",
      "Epoch 226/700\n",
      "17/17 [==============================] - 0s 10ms/step - loss: 3280869.2500 - val_loss: 11764115.0000\n",
      "Epoch 227/700\n",
      "17/17 [==============================] - 0s 10ms/step - loss: 3281122.5000 - val_loss: 11759712.0000\n",
      "Epoch 228/700\n",
      "17/17 [==============================] - 0s 10ms/step - loss: 3281365.0000 - val_loss: 11755661.0000\n",
      "Epoch 229/700\n",
      "17/17 [==============================] - 0s 10ms/step - loss: 3281594.7500 - val_loss: 11751977.0000\n",
      "Epoch 230/700\n",
      "17/17 [==============================] - 0s 10ms/step - loss: 3281816.2500 - val_loss: 11748621.0000\n",
      "Epoch 231/700\n",
      "17/17 [==============================] - 0s 10ms/step - loss: 3282027.5000 - val_loss: 11745563.0000\n",
      "Epoch 232/700\n",
      "17/17 [==============================] - 0s 10ms/step - loss: 3282228.7500 - val_loss: 11742772.0000\n",
      "Epoch 233/700\n",
      "17/17 [==============================] - 0s 10ms/step - loss: 3282421.0000 - val_loss: 11740241.0000\n",
      "Epoch 234/700\n",
      "17/17 [==============================] - 0s 10ms/step - loss: 3282608.0000 - val_loss: 11737950.0000\n",
      "Epoch 235/700\n",
      "17/17 [==============================] - 0s 10ms/step - loss: 3282786.7500 - val_loss: 11735868.0000\n",
      "Epoch 236/700\n",
      "17/17 [==============================] - 0s 10ms/step - loss: 3282956.5000 - val_loss: 11733966.0000\n",
      "Epoch 237/700\n",
      "17/17 [==============================] - 0s 10ms/step - loss: 3283120.2500 - val_loss: 11732270.0000\n",
      "Epoch 238/700\n",
      "17/17 [==============================] - 0s 10ms/step - loss: 3283281.5000 - val_loss: 11730740.0000\n",
      "Epoch 239/700\n",
      "17/17 [==============================] - 0s 10ms/step - loss: 3283434.0000 - val_loss: 11729346.0000\n",
      "Epoch 240/700\n",
      "17/17 [==============================] - 0s 10ms/step - loss: 3283583.5000 - val_loss: 11728103.0000\n",
      "Epoch 241/700\n",
      "17/17 [==============================] - 0s 10ms/step - loss: 3283727.5000 - val_loss: 11726985.0000\n",
      "Epoch 242/700\n",
      "17/17 [==============================] - 0s 11ms/step - loss: 3283867.0000 - val_loss: 11725993.0000\n",
      "Epoch 243/700\n",
      "17/17 [==============================] - 0s 10ms/step - loss: 3284004.0000 - val_loss: 11725104.0000\n",
      "Epoch 244/700\n",
      "17/17 [==============================] - 0s 10ms/step - loss: 3284133.5000 - val_loss: 11724316.0000\n",
      "Epoch 245/700\n",
      "17/17 [==============================] - 0s 10ms/step - loss: 3284264.0000 - val_loss: 11723620.0000\n",
      "Epoch 246/700\n",
      "17/17 [==============================] - 0s 10ms/step - loss: 3284390.5000 - val_loss: 11723001.0000\n",
      "Epoch 247/700\n",
      "17/17 [==============================] - 0s 12ms/step - loss: 3284513.2500 - val_loss: 11722462.0000\n",
      "Epoch 248/700\n",
      "17/17 [==============================] - 0s 10ms/step - loss: 3284632.7500 - val_loss: 11722002.0000\n",
      "Epoch 249/700\n",
      "17/17 [==============================] - 0s 10ms/step - loss: 3284751.7500 - val_loss: 11721594.0000\n",
      "Epoch 250/700\n",
      "17/17 [==============================] - 0s 10ms/step - loss: 3284864.5000 - val_loss: 11721254.0000\n",
      "Epoch 251/700\n",
      "17/17 [==============================] - 0s 10ms/step - loss: 3284980.0000 - val_loss: 11720956.0000\n",
      "Epoch 252/700\n",
      "17/17 [==============================] - 0s 10ms/step - loss: 3285092.0000 - val_loss: 11720701.0000\n",
      "Epoch 253/700\n",
      "17/17 [==============================] - 0s 10ms/step - loss: 3285200.5000 - val_loss: 11720491.0000\n",
      "Epoch 254/700\n",
      "17/17 [==============================] - 0s 10ms/step - loss: 3285309.0000 - val_loss: 11720333.0000\n",
      "Epoch 255/700\n",
      "17/17 [==============================] - 0s 10ms/step - loss: 3285416.2500 - val_loss: 11720201.0000\n",
      "Epoch 256/700\n",
      "17/17 [==============================] - 0s 10ms/step - loss: 3285521.5000 - val_loss: 11720097.0000\n",
      "Epoch 257/700\n",
      "17/17 [==============================] - 0s 10ms/step - loss: 3285626.7500 - val_loss: 11720028.0000\n",
      "Epoch 258/700\n",
      "17/17 [==============================] - 0s 10ms/step - loss: 3285728.7500 - val_loss: 11719991.0000\n",
      "Epoch 259/700\n",
      "17/17 [==============================] - 0s 10ms/step - loss: 3285832.7500 - val_loss: 11719965.0000\n",
      "Epoch 260/700\n",
      "17/17 [==============================] - 0s 10ms/step - loss: 3285932.7500 - val_loss: 11719965.0000\n",
      "Epoch 261/700\n",
      "17/17 [==============================] - 0s 10ms/step - loss: 3286032.5000 - val_loss: 11719991.0000\n",
      "Epoch 262/700\n",
      "17/17 [==============================] - 0s 10ms/step - loss: 3286131.0000 - val_loss: 11720025.0000\n",
      "Epoch 263/700\n",
      "17/17 [==============================] - 0s 10ms/step - loss: 3286231.5000 - val_loss: 11720084.0000\n",
      "Epoch 264/700\n",
      "17/17 [==============================] - 0s 10ms/step - loss: 3286326.2500 - val_loss: 11720149.0000\n",
      "Epoch 265/700\n",
      "17/17 [==============================] - 0s 10ms/step - loss: 3286426.0000 - val_loss: 11720228.0000\n",
      "Epoch 266/700\n",
      "17/17 [==============================] - 0s 10ms/step - loss: 3286522.7500 - val_loss: 11720333.0000\n",
      "Epoch 267/700\n",
      "17/17 [==============================] - 0s 10ms/step - loss: 3286615.7500 - val_loss: 11720438.0000\n",
      "Epoch 268/700\n",
      "17/17 [==============================] - 0s 10ms/step - loss: 3286713.2500 - val_loss: 11720544.0000\n",
      "Epoch 269/700\n",
      "17/17 [==============================] - 0s 10ms/step - loss: 3286806.0000 - val_loss: 11720660.0000\n",
      "Epoch 270/700\n",
      "17/17 [==============================] - 0s 10ms/step - loss: 3286899.2500 - val_loss: 11720779.0000\n",
      "Epoch 271/700\n",
      "17/17 [==============================] - 0s 10ms/step - loss: 3286993.5000 - val_loss: 11720924.0000\n",
      "Epoch 272/700\n",
      "17/17 [==============================] - 0s 10ms/step - loss: 3287085.7500 - val_loss: 11721069.0000\n",
      "Epoch 273/700\n",
      "17/17 [==============================] - 0s 10ms/step - loss: 3287178.7500 - val_loss: 11721201.0000\n",
      "Epoch 274/700\n",
      "17/17 [==============================] - 0s 10ms/step - loss: 3287269.5000 - val_loss: 11721358.0000\n",
      "Epoch 275/700\n",
      "17/17 [==============================] - 0s 10ms/step - loss: 3287362.5000 - val_loss: 11721516.0000\n",
      "Epoch 276/700\n",
      "17/17 [==============================] - 0s 10ms/step - loss: 3287453.2500 - val_loss: 11721661.0000\n",
      "Epoch 277/700\n",
      "17/17 [==============================] - 0s 10ms/step - loss: 3287544.0000 - val_loss: 11721818.0000\n",
      "Epoch 278/700\n",
      "17/17 [==============================] - 0s 10ms/step - loss: 3287632.5000 - val_loss: 11721989.0000\n",
      "Epoch 279/700\n",
      "17/17 [==============================] - 0s 10ms/step - loss: 3287722.5000 - val_loss: 11722152.0000\n",
      "Epoch 280/700\n",
      "17/17 [==============================] - 0s 10ms/step - loss: 3287811.2500 - val_loss: 11722317.0000\n",
      "Epoch 281/700\n",
      "17/17 [==============================] - 0s 10ms/step - loss: 3287901.0000 - val_loss: 11722488.0000\n",
      "Epoch 282/700\n",
      "17/17 [==============================] - 0s 10ms/step - loss: 3287990.5000 - val_loss: 11722660.0000\n",
      "Epoch 283/700\n"
     ]
    },
    {
     "name": "stdout",
     "output_type": "stream",
     "text": [
      "17/17 [==============================] - 0s 10ms/step - loss: 3288076.5000 - val_loss: 11722830.0000\n",
      "Epoch 284/700\n",
      "17/17 [==============================] - 0s 10ms/step - loss: 3288165.2500 - val_loss: 11723015.0000\n",
      "Epoch 285/700\n",
      "17/17 [==============================] - 0s 10ms/step - loss: 3288251.7500 - val_loss: 11723173.0000\n",
      "Epoch 286/700\n",
      "17/17 [==============================] - 0s 10ms/step - loss: 3288337.5000 - val_loss: 11723357.0000\n",
      "Epoch 287/700\n",
      "17/17 [==============================] - 0s 10ms/step - loss: 3288425.2500 - val_loss: 11723513.0000\n",
      "Epoch 288/700\n",
      "17/17 [==============================] - 0s 10ms/step - loss: 3288510.0000 - val_loss: 11723698.0000\n",
      "Epoch 289/700\n",
      "17/17 [==============================] - 0s 10ms/step - loss: 3288594.2500 - val_loss: 11723864.0000\n",
      "Epoch 290/700\n",
      "17/17 [==============================] - 0s 10ms/step - loss: 3288680.5000 - val_loss: 11724039.0000\n",
      "Epoch 291/700\n",
      "17/17 [==============================] - 0s 10ms/step - loss: 3288764.2500 - val_loss: 11724224.0000\n",
      "Epoch 292/700\n",
      "17/17 [==============================] - 0s 10ms/step - loss: 3288848.2500 - val_loss: 11724381.0000\n",
      "Epoch 293/700\n",
      "17/17 [==============================] - 0s 10ms/step - loss: 3288931.7500 - val_loss: 11724566.0000\n",
      "Epoch 294/700\n",
      "17/17 [==============================] - 0s 10ms/step - loss: 3289015.5000 - val_loss: 11724728.0000\n",
      "Epoch 295/700\n",
      "17/17 [==============================] - 0s 10ms/step - loss: 3289098.0000 - val_loss: 11724907.0000\n",
      "Epoch 296/700\n",
      "17/17 [==============================] - 0s 10ms/step - loss: 3289179.5000 - val_loss: 11725092.0000\n",
      "Epoch 297/700\n",
      "17/17 [==============================] - 0s 10ms/step - loss: 3289260.7500 - val_loss: 11725249.0000\n",
      "Epoch 298/700\n",
      "17/17 [==============================] - 0s 10ms/step - loss: 3289341.2500 - val_loss: 11725419.0000\n",
      "Epoch 299/700\n",
      "17/17 [==============================] - 0s 10ms/step - loss: 3289422.5000 - val_loss: 11725591.0000\n",
      "Epoch 299: early stopping\n"
     ]
    },
    {
     "name": "stderr",
     "output_type": "stream",
     "text": [
      "2022-04-10 18:49:14.712007: I tensorflow/core/grappler/optimizers/custom_graph_optimizer_registry.cc:113] Plugin optimizer for device_type GPU is enabled.\n",
      "2022-04-10 18:49:14.779017: I tensorflow/core/grappler/optimizers/custom_graph_optimizer_registry.cc:113] Plugin optimizer for device_type GPU is enabled.\n",
      "2022-04-10 18:49:14.800898: I tensorflow/core/grappler/optimizers/custom_graph_optimizer_registry.cc:113] Plugin optimizer for device_type GPU is enabled.\n"
     ]
    }
   ],
   "source": [
    "es = EarlyStopping(monitor='val_loss', mode='min', verbose=1,patience=40, min_delta=0.001)\n",
    "history_tech=model_tech.fit(\n",
    "    X_train, y_train,\n",
    "    epochs=700,\n",
    "    batch_size=16,\n",
    "    validation_split=0.1,\n",
    "    verbose=1,\n",
    "    shuffle=False,\n",
    "    callbacks=[es]\n",
    ")\n",
    "y_pred = model_tech.predict(X_test)"
   ]
  },
  {
   "cell_type": "code",
   "execution_count": 8,
   "metadata": {},
   "outputs": [
    {
     "data": {
      "text/plain": [
       "<matplotlib.legend.Legend at 0x17f3c3df0>"
      ]
     },
     "execution_count": 8,
     "metadata": {},
     "output_type": "execute_result"
    },
    {
     "data": {
      "image/png": "[encoded data removed]",
      "text/plain": [
       "<Figure size 432x288 with 1 Axes>"
      ]
     },
     "metadata": {
      "needs_background": "light"
     },
     "output_type": "display_data"
    }
   ],
   "source": [
    "plt.plot(history_tech.history['loss'], label='train')\n",
    "plt.plot(history_tech.history['val_loss'], label='test')\n",
    "plt.legend()"
   ]
  },
  {
   "cell_type": "code",
   "execution_count": 9,
   "metadata": {},
   "outputs": [
    {
     "data": {
      "image/png": "[encoded data removed]",
      "text/plain": [
       "<Figure size 432x288 with 1 Axes>"
      ]
     },
     "metadata": {
      "needs_background": "light"
     },
     "output_type": "display_data"
    }
   ],
   "source": [
    "plt.plot(np.arange(0, len(y_train)), y_train, 'g', label=\"history\")\n",
    "plt.plot(np.arange(len(y_train), len(y_train) + len(y_test)), y_test, marker='.', label=\"true\")\n",
    "plt.plot(np.arange(len(y_train), len(y_train) + len(y_test)), y_pred, 'r', label=\"prediction\")\n",
    "# plt.plot(np.arange(0, len(y_train)), sc_y.inverse_transform(y_train), 'g', label=\"history\")\n",
    "# plt.plot(np.arange(len(y_train), len(y_train) + len(y_test)), sc_y.inverse_transform(y_test), marker='.', label=\"true\")\n",
    "# plt.plot(np.arange(len(y_train), len(y_train) + len(y_test)), sc_y.inverse_transform(y_pred), 'r', label=\"prediction\")\n",
    "plt.ylabel('Value')\n",
    "plt.xlabel('Time Step')\n",
    "plt.legend()\n",
    "plt.show()"
   ]
  },
  {
   "cell_type": "code",
   "execution_count": 10,
   "metadata": {},
   "outputs": [
    {
     "data": {
      "image/png": "[encoded data removed]",
      "text/plain": [
       "<Figure size 432x288 with 1 Axes>"
      ]
     },
     "metadata": {
      "needs_background": "light"
     },
     "output_type": "display_data"
    }
   ],
   "source": [
    "# y_test = sc.inverse_transform(y_test)\n",
    "# y_pred = sc.inverse_transform(y_pred)\n",
    "plt.plot(y_test, marker='.', label=\"true\")\n",
    "plt.plot(y_pred, 'r', label=\"prediction\")\n",
    "plt.ylabel('Value')\n",
    "plt.xlabel('Time Step')\n",
    "plt.legend()\n",
    "plt.show();"
   ]
  },
  {
   "cell_type": "code",
   "execution_count": 11,
   "metadata": {},
   "outputs": [
    {
     "data": {
      "text/plain": [
       "-10.675736638485406"
      ]
     },
     "execution_count": 11,
     "metadata": {},
     "output_type": "execute_result"
    }
   ],
   "source": [
    "r2_score(y_test,y_pred)"
   ]
  },
  {
   "cell_type": "code",
   "execution_count": 12,
   "metadata": {},
   "outputs": [
    {
     "data": {
      "text/plain": [
       "0.0952868113922319"
      ]
     },
     "execution_count": 12,
     "metadata": {},
     "output_type": "execute_result"
    }
   ],
   "source": [
    "mean_absolute_percentage_error(y_test,y_pred)"
   ]
  },
  {
   "cell_type": "code",
   "execution_count": 13,
   "metadata": {},
   "outputs": [
    {
     "data": {
      "text/plain": [
       "2826.093474133847"
      ]
     },
     "execution_count": 13,
     "metadata": {},
     "output_type": "execute_result"
    }
   ],
   "source": [
    "mean_squared_error(y_test,y_pred,squared=False)"
   ]
  },
  {
   "cell_type": "code",
   "execution_count": 15,
   "metadata": {},
   "outputs": [
    {
     "name": "stderr",
     "output_type": "stream",
     "text": [
      "/var/folders/8h/w0jn89bj2w5g85gj4ck7w0t00000gn/T/ipykernel_45935/343858673.py:1: FutureWarning: In a future version of pandas all arguments of DataFrame.drop except for the argument 'labels' will be keyword-only.\n",
      "  x_val=data_val.drop('Prediction',1).values\n"
     ]
    }
   ],
   "source": [
    "x_val=data_val.drop('Prediction',1).values\n",
    "y_val=data_val['Prediction']\n",
    "x_val=x_val.reshape(x_val.shape[0],1,x_val.shape[1])\n",
    "# x_val=sc.transform(x_val).reshape(x_val.shape[0],1,x_val.shape[1])\n",
    "y_val_pred=model_tech.predict(x_val)\n",
    "# y_val_pred=sc_y.inverse_transform(y_val_pred)"
   ]
  },
  {
   "cell_type": "code",
   "execution_count": 16,
   "metadata": {},
   "outputs": [
    {
     "data": {
      "image/png": "[encoded data removed]",
      "text/plain": [
       "<Figure size 432x288 with 1 Axes>"
      ]
     },
     "metadata": {
      "needs_background": "light"
     },
     "output_type": "display_data"
    }
   ],
   "source": [
    "plt.plot(y_val.values, marker='.', label=\"true\")\n",
    "plt.plot(y_val_pred, 'r', marker='*',label=\"prediction\")\n",
    "plt.ylabel('Value')\n",
    "plt.xlabel('Time Step')\n",
    "plt.legend()\n",
    "plt.show()"
   ]
  },
  {
   "cell_type": "code",
   "execution_count": 17,
   "metadata": {},
   "outputs": [
    {
     "data": {
      "text/plain": [
       "-0.5424972969209456"
      ]
     },
     "execution_count": 17,
     "metadata": {},
     "output_type": "execute_result"
    }
   ],
   "source": [
    "r2_score(y_val,y_val_pred)"
   ]
  },
  {
   "cell_type": "code",
   "execution_count": 18,
   "metadata": {},
   "outputs": [
    {
     "data": {
      "text/plain": [
       "0.04099626327965085"
      ]
     },
     "execution_count": 18,
     "metadata": {},
     "output_type": "execute_result"
    }
   ],
   "source": [
    "mean_absolute_percentage_error(y_val,y_val_pred)"
   ]
  },
  {
   "cell_type": "code",
   "execution_count": 19,
   "metadata": {},
   "outputs": [
    {
     "data": {
      "text/plain": [
       "1259.344608335191"
      ]
     },
     "execution_count": 19,
     "metadata": {},
     "output_type": "execute_result"
    }
   ],
   "source": [
    "mean_squared_error(y_val.values,y_val_pred,squared=False)"
   ]
  },
  {
   "cell_type": "code",
   "execution_count": null,
   "metadata": {},
   "outputs": [],
   "source": []
  },
  {
   "cell_type": "code",
   "execution_count": null,
   "metadata": {},
   "outputs": [],
   "source": []
  }
 ],
 "metadata": {
  "interpreter": {
   "hash": "f19cbfaa683fc1555f83efc3b7801acf2f75b0a32a422a0f0d5b51771971c3d0"
  },
  "kernelspec": {
   "display_name": "Python 3 (ipykernel)",
   "language": "python",
   "name": "python3"
  },
  "language_info": {
   "codemirror_mode": {
    "name": "ipython",
    "version": 3
   },
   "file_extension": ".py",
   "mimetype": "text/x-python",
   "name": "python",
   "nbconvert_exporter": "python",
   "pygments_lexer": "ipython3",
   "version": "3.8.13"
  }
 },
 "nbformat": 4,
 "nbformat_minor": 2
}
