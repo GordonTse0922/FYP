{
 "cells": [
  {
   "cell_type": "code",
   "execution_count": 1,
   "id": "eb9ae2e7",
   "metadata": {},
   "outputs": [],
   "source": [
    "import yfinance as yf\n",
    "import pandas as pd\n",
    "import numpy as np\n",
    "import matplotlib.pyplot as plt\n",
    "from sklearn.preprocessing import MinMaxScaler\n",
    "from sklearn.model_selection import train_test_split\n",
    "from sklearn.metrics import classification_report,accuracy_score, mean_squared_error,mean_absolute_percentage_error,r2_score\n",
    "import tensorflow as tf\n",
    "import talib\n",
    "from tensorflow import keras\n",
    "from sklearn.pipeline import make_pipeline\n",
    "from tensorflow.keras import regularizers\n",
    "from keras.callbacks import EarlyStopping\n",
    "import time"
   ]
  },
  {
   "cell_type": "code",
   "execution_count": 2,
   "id": "9ad5f74c",
   "metadata": {},
   "outputs": [
    {
     "name": "stdout",
     "output_type": "stream",
     "text": [
      "[*********************100%***********************]  1 of 1 completed\n"
     ]
    },
    {
     "name": "stderr",
     "output_type": "stream",
     "text": [
      "/var/folders/8h/w0jn89bj2w5g85gj4ck7w0t00000gn/T/ipykernel_15524/72977215.py:2: FutureWarning: In a future version of pandas all arguments of DataFrame.drop except for the argument 'labels' will be keyword-only\n",
      "  data.drop('Volume',1,inplace=True)\n"
     ]
    },
    {
     "data": {
      "text/html": [
       "<div>\n",
       "<style scoped>\n",
       "    .dataframe tbody tr th:only-of-type {\n",
       "        vertical-align: middle;\n",
       "    }\n",
       "\n",
       "    .dataframe tbody tr th {\n",
       "        vertical-align: top;\n",
       "    }\n",
       "\n",
       "    .dataframe thead th {\n",
       "        text-align: right;\n",
       "    }\n",
       "</style>\n",
       "<table border=\"1\" class=\"dataframe\">\n",
       "  <thead>\n",
       "    <tr style=\"text-align: right;\">\n",
       "      <th></th>\n",
       "      <th>Open</th>\n",
       "      <th>High</th>\n",
       "      <th>Low</th>\n",
       "      <th>Close</th>\n",
       "      <th>Adj Close</th>\n",
       "    </tr>\n",
       "    <tr>\n",
       "      <th>Date</th>\n",
       "      <th></th>\n",
       "      <th></th>\n",
       "      <th></th>\n",
       "      <th></th>\n",
       "      <th></th>\n",
       "    </tr>\n",
       "  </thead>\n",
       "  <tbody>\n",
       "    <tr>\n",
       "      <th>2020-01-02</th>\n",
       "      <td>28249.369141</td>\n",
       "      <td>28543.519531</td>\n",
       "      <td>28245.970703</td>\n",
       "      <td>28543.519531</td>\n",
       "      <td>28543.519531</td>\n",
       "    </tr>\n",
       "    <tr>\n",
       "      <th>2020-01-03</th>\n",
       "      <td>28828.359375</td>\n",
       "      <td>28883.300781</td>\n",
       "      <td>28428.169922</td>\n",
       "      <td>28451.500000</td>\n",
       "      <td>28451.500000</td>\n",
       "    </tr>\n",
       "    <tr>\n",
       "      <th>2020-01-06</th>\n",
       "      <td>28326.500000</td>\n",
       "      <td>28367.869141</td>\n",
       "      <td>28054.289062</td>\n",
       "      <td>28226.189453</td>\n",
       "      <td>28226.189453</td>\n",
       "    </tr>\n",
       "    <tr>\n",
       "      <th>2020-01-07</th>\n",
       "      <td>28352.679688</td>\n",
       "      <td>28473.080078</td>\n",
       "      <td>28264.070312</td>\n",
       "      <td>28322.060547</td>\n",
       "      <td>28322.060547</td>\n",
       "    </tr>\n",
       "    <tr>\n",
       "      <th>2020-01-08</th>\n",
       "      <td>27999.580078</td>\n",
       "      <td>28198.609375</td>\n",
       "      <td>27857.730469</td>\n",
       "      <td>28087.919922</td>\n",
       "      <td>28087.919922</td>\n",
       "    </tr>\n",
       "    <tr>\n",
       "      <th>...</th>\n",
       "      <td>...</td>\n",
       "      <td>...</td>\n",
       "      <td>...</td>\n",
       "      <td>...</td>\n",
       "      <td>...</td>\n",
       "    </tr>\n",
       "    <tr>\n",
       "      <th>2021-12-24</th>\n",
       "      <td>23375.990234</td>\n",
       "      <td>23383.189453</td>\n",
       "      <td>23186.570312</td>\n",
       "      <td>23223.759766</td>\n",
       "      <td>23223.759766</td>\n",
       "    </tr>\n",
       "    <tr>\n",
       "      <th>2021-12-28</th>\n",
       "      <td>23282.349609</td>\n",
       "      <td>23319.439453</td>\n",
       "      <td>23099.480469</td>\n",
       "      <td>23280.560547</td>\n",
       "      <td>23280.560547</td>\n",
       "    </tr>\n",
       "    <tr>\n",
       "      <th>2021-12-29</th>\n",
       "      <td>23253.980469</td>\n",
       "      <td>23253.980469</td>\n",
       "      <td>23008.279297</td>\n",
       "      <td>23086.539062</td>\n",
       "      <td>23086.539062</td>\n",
       "    </tr>\n",
       "    <tr>\n",
       "      <th>2021-12-30</th>\n",
       "      <td>23130.449219</td>\n",
       "      <td>23248.259766</td>\n",
       "      <td>22990.240234</td>\n",
       "      <td>23112.009766</td>\n",
       "      <td>23112.009766</td>\n",
       "    </tr>\n",
       "    <tr>\n",
       "      <th>2021-12-31</th>\n",
       "      <td>23553.789062</td>\n",
       "      <td>23590.119141</td>\n",
       "      <td>23394.769531</td>\n",
       "      <td>23397.669922</td>\n",
       "      <td>23397.669922</td>\n",
       "    </tr>\n",
       "  </tbody>\n",
       "</table>\n",
       "<p>495 rows × 5 columns</p>\n",
       "</div>"
      ],
      "text/plain": [
       "                    Open          High           Low         Close  \\\n",
       "Date                                                                 \n",
       "2020-01-02  28249.369141  28543.519531  28245.970703  28543.519531   \n",
       "2020-01-03  28828.359375  28883.300781  28428.169922  28451.500000   \n",
       "2020-01-06  28326.500000  28367.869141  28054.289062  28226.189453   \n",
       "2020-01-07  28352.679688  28473.080078  28264.070312  28322.060547   \n",
       "2020-01-08  27999.580078  28198.609375  27857.730469  28087.919922   \n",
       "...                  ...           ...           ...           ...   \n",
       "2021-12-24  23375.990234  23383.189453  23186.570312  23223.759766   \n",
       "2021-12-28  23282.349609  23319.439453  23099.480469  23280.560547   \n",
       "2021-12-29  23253.980469  23253.980469  23008.279297  23086.539062   \n",
       "2021-12-30  23130.449219  23248.259766  22990.240234  23112.009766   \n",
       "2021-12-31  23553.789062  23590.119141  23394.769531  23397.669922   \n",
       "\n",
       "               Adj Close  \n",
       "Date                      \n",
       "2020-01-02  28543.519531  \n",
       "2020-01-03  28451.500000  \n",
       "2020-01-06  28226.189453  \n",
       "2020-01-07  28322.060547  \n",
       "2020-01-08  28087.919922  \n",
       "...                  ...  \n",
       "2021-12-24  23223.759766  \n",
       "2021-12-28  23280.560547  \n",
       "2021-12-29  23086.539062  \n",
       "2021-12-30  23112.009766  \n",
       "2021-12-31  23397.669922  \n",
       "\n",
       "[495 rows x 5 columns]"
      ]
     },
     "execution_count": 2,
     "metadata": {},
     "output_type": "execute_result"
    }
   ],
   "source": [
    "data=yf.download('^HSI','2020-01-01','2022-01-01')\n",
    "data.drop('Volume',1,inplace=True)\n",
    "data"
   ]
  },
  {
   "cell_type": "code",
   "execution_count": 3,
   "id": "781ab9b7",
   "metadata": {
    "pycharm": {
     "name": "#%%\n"
    }
   },
   "outputs": [],
   "source": [
    "data['6day MA'] = data['Close'].rolling(window = 6).mean()\n",
    "data['12day MA'] = data['Close'].rolling(window = 12).mean()\n",
    "data['RSI'] = talib.RSI(data['Close'].values, timeperiod = 7)\n",
    "data['%R5'] = talib.WILLR(data['High'].values, data['Low'].values, data['Close'].values, 5)\n",
    "data['%R10'] = talib.WILLR(data['High'].values, data['Low'].values, data['Close'].values, 10)\n",
    "data['MI6']=talib.MOM(data['Close'],timeperiod=6)\n",
    "data['MI12']=talib.MOM(data['Close'],timeperiod=12)\n",
    "macd, macdsignal, macdhist = talib.MACD(data['Close'], fastperiod=12, slowperiod=26, signalperiod=9)\n",
    "data['EMA12']=talib.EMA(data['Close'], timeperiod=12)\n",
    "data['EMA26']=talib.EMA(data['Close'],timeperiod=26)\n",
    "data['MACD']=macd\n",
    "data['TR']=talib.TRANGE(data['High'],data['Low'],data['Close'])\n",
    "data['OSC6']=talib.CMO(data['Close'], timeperiod=6)\n",
    "data['OSC12']=talib.CMO(data['Close'], timeperiod=12)\n",
    "data['Prediction']=data['Close'].shift(-1)\n",
    "data.dropna(inplace=True)"
   ]
  },
  {
   "cell_type": "code",
   "execution_count": 4,
   "id": "68726853",
   "metadata": {},
   "outputs": [
    {
     "name": "stderr",
     "output_type": "stream",
     "text": [
      "/var/folders/8h/w0jn89bj2w5g85gj4ck7w0t00000gn/T/ipykernel_15524/1968958741.py:2: FutureWarning: In a future version of pandas all arguments of DataFrame.drop except for the argument 'labels' will be keyword-only\n",
      "  importance=mutual_info_regression(data.drop('Prediction',1),data['Prediction'])\n"
     ]
    },
    {
     "data": {
      "image/png": "[encoded data removed]",
      "text/plain": [
       "<Figure size 432x288 with 1 Axes>"
      ]
     },
     "metadata": {
      "needs_background": "light"
     },
     "output_type": "display_data"
    }
   ],
   "source": [
    "from sklearn.feature_selection import mutual_info_regression\n",
    "importance=mutual_info_regression(data.drop('Prediction',1),data['Prediction'])\n",
    "feature_importances=pd.Series(importance,data.columns[0:len(data.columns)-1])\n",
    "feature_importances.plot(kind=\"barh\")\n",
    "plt.show()"
   ]
  },
  {
   "cell_type": "code",
   "execution_count": 5,
   "id": "e1036fe8",
   "metadata": {},
   "outputs": [
    {
     "name": "stderr",
     "output_type": "stream",
     "text": [
      "/var/folders/8h/w0jn89bj2w5g85gj4ck7w0t00000gn/T/ipykernel_15524/244261082.py:1: FutureWarning: In a future version of pandas all arguments of DataFrame.drop except for the argument 'labels' will be keyword-only\n",
      "  data.drop(['OSC12','OSC6','MI12','MI6','%R10','%R5','RSI','TR'],1,inplace=True)\n"
     ]
    },
    {
     "data": {
      "text/html": [
       "<div>\n",
       "<style scoped>\n",
       "    .dataframe tbody tr th:only-of-type {\n",
       "        vertical-align: middle;\n",
       "    }\n",
       "\n",
       "    .dataframe tbody tr th {\n",
       "        vertical-align: top;\n",
       "    }\n",
       "\n",
       "    .dataframe thead th {\n",
       "        text-align: right;\n",
       "    }\n",
       "</style>\n",
       "<table border=\"1\" class=\"dataframe\">\n",
       "  <thead>\n",
       "    <tr style=\"text-align: right;\">\n",
       "      <th></th>\n",
       "      <th>Open</th>\n",
       "      <th>High</th>\n",
       "      <th>Low</th>\n",
       "      <th>Close</th>\n",
       "      <th>Adj Close</th>\n",
       "      <th>6day MA</th>\n",
       "      <th>12day MA</th>\n",
       "      <th>EMA12</th>\n",
       "      <th>EMA26</th>\n",
       "      <th>MACD</th>\n",
       "      <th>Prediction</th>\n",
       "    </tr>\n",
       "    <tr>\n",
       "      <th>Date</th>\n",
       "      <th></th>\n",
       "      <th></th>\n",
       "      <th></th>\n",
       "      <th></th>\n",
       "      <th></th>\n",
       "      <th></th>\n",
       "      <th></th>\n",
       "      <th></th>\n",
       "      <th></th>\n",
       "      <th></th>\n",
       "      <th></th>\n",
       "    </tr>\n",
       "  </thead>\n",
       "  <tbody>\n",
       "    <tr>\n",
       "      <th>2021-12-23</th>\n",
       "      <td>23141.789062</td>\n",
       "      <td>23264.750000</td>\n",
       "      <td>23027.150391</td>\n",
       "      <td>23193.640625</td>\n",
       "      <td>23193.640625</td>\n",
       "      <td>23113.381836</td>\n",
       "      <td>23494.919108</td>\n",
       "      <td>23394.847996</td>\n",
       "      <td>23829.572972</td>\n",
       "      <td>-434.724976</td>\n",
       "      <td>23223.759766</td>\n",
       "    </tr>\n",
       "    <tr>\n",
       "      <th>2021-12-24</th>\n",
       "      <td>23375.990234</td>\n",
       "      <td>23383.189453</td>\n",
       "      <td>23186.570312</td>\n",
       "      <td>23223.759766</td>\n",
       "      <td>23223.759766</td>\n",
       "      <td>23071.425130</td>\n",
       "      <td>23430.493327</td>\n",
       "      <td>23368.526730</td>\n",
       "      <td>23784.697920</td>\n",
       "      <td>-416.171190</td>\n",
       "      <td>23280.560547</td>\n",
       "    </tr>\n",
       "    <tr>\n",
       "      <th>2021-12-28</th>\n",
       "      <td>23282.349609</td>\n",
       "      <td>23319.439453</td>\n",
       "      <td>23099.480469</td>\n",
       "      <td>23280.560547</td>\n",
       "      <td>23280.560547</td>\n",
       "      <td>23086.080078</td>\n",
       "      <td>23349.301758</td>\n",
       "      <td>23354.993471</td>\n",
       "      <td>23747.354411</td>\n",
       "      <td>-392.360940</td>\n",
       "      <td>23086.539062</td>\n",
       "    </tr>\n",
       "    <tr>\n",
       "      <th>2021-12-29</th>\n",
       "      <td>23253.980469</td>\n",
       "      <td>23253.980469</td>\n",
       "      <td>23008.279297</td>\n",
       "      <td>23086.539062</td>\n",
       "      <td>23086.539062</td>\n",
       "      <td>23143.026693</td>\n",
       "      <td>23273.536621</td>\n",
       "      <td>23313.692793</td>\n",
       "      <td>23698.405126</td>\n",
       "      <td>-384.712333</td>\n",
       "      <td>23112.009766</td>\n",
       "    </tr>\n",
       "    <tr>\n",
       "      <th>2021-12-30</th>\n",
       "      <td>23130.449219</td>\n",
       "      <td>23248.259766</td>\n",
       "      <td>22990.240234</td>\n",
       "      <td>23112.009766</td>\n",
       "      <td>23112.009766</td>\n",
       "      <td>23166.473307</td>\n",
       "      <td>23203.322428</td>\n",
       "      <td>23282.664635</td>\n",
       "      <td>23654.968432</td>\n",
       "      <td>-372.303797</td>\n",
       "      <td>23397.669922</td>\n",
       "    </tr>\n",
       "  </tbody>\n",
       "</table>\n",
       "</div>"
      ],
      "text/plain": [
       "                    Open          High           Low         Close  \\\n",
       "Date                                                                 \n",
       "2021-12-23  23141.789062  23264.750000  23027.150391  23193.640625   \n",
       "2021-12-24  23375.990234  23383.189453  23186.570312  23223.759766   \n",
       "2021-12-28  23282.349609  23319.439453  23099.480469  23280.560547   \n",
       "2021-12-29  23253.980469  23253.980469  23008.279297  23086.539062   \n",
       "2021-12-30  23130.449219  23248.259766  22990.240234  23112.009766   \n",
       "\n",
       "               Adj Close       6day MA      12day MA         EMA12  \\\n",
       "Date                                                                 \n",
       "2021-12-23  23193.640625  23113.381836  23494.919108  23394.847996   \n",
       "2021-12-24  23223.759766  23071.425130  23430.493327  23368.526730   \n",
       "2021-12-28  23280.560547  23086.080078  23349.301758  23354.993471   \n",
       "2021-12-29  23086.539062  23143.026693  23273.536621  23313.692793   \n",
       "2021-12-30  23112.009766  23166.473307  23203.322428  23282.664635   \n",
       "\n",
       "                   EMA26        MACD    Prediction  \n",
       "Date                                                \n",
       "2021-12-23  23829.572972 -434.724976  23223.759766  \n",
       "2021-12-24  23784.697920 -416.171190  23280.560547  \n",
       "2021-12-28  23747.354411 -392.360940  23086.539062  \n",
       "2021-12-29  23698.405126 -384.712333  23112.009766  \n",
       "2021-12-30  23654.968432 -372.303797  23397.669922  "
      ]
     },
     "execution_count": 5,
     "metadata": {},
     "output_type": "execute_result"
    }
   ],
   "source": [
    "data.drop(['OSC12','OSC6','MI12','MI6','%R10','%R5','RSI','TR'],1,inplace=True)\n",
    "data_val=data[-100:]\n",
    "data=data[:-100]\n",
    "data_val.tail()"
   ]
  },
  {
   "cell_type": "code",
   "execution_count": 6,
   "id": "13b49c54",
   "metadata": {},
   "outputs": [],
   "source": [
    "sc = MinMaxScaler(feature_range = (-1, 1))"
   ]
  },
  {
   "cell_type": "code",
   "execution_count": 7,
   "id": "64aa428e",
   "metadata": {},
   "outputs": [],
   "source": [
    "# data['Prediction']=data['Close'].shift(-1)\n",
    "# data.dropna(inplace=True)\n",
    "# data_val=data[-100:]\n",
    "# data=data[:-100]\n",
    "# data_val.tail()"
   ]
  },
  {
   "cell_type": "code",
   "execution_count": 8,
   "id": "cb6680b2",
   "metadata": {},
   "outputs": [
    {
     "name": "stdout",
     "output_type": "stream",
     "text": [
      "(288, 1, 10) (288,) (73, 1, 10) (73,)\n"
     ]
    },
    {
     "name": "stderr",
     "output_type": "stream",
     "text": [
      "/var/folders/8h/w0jn89bj2w5g85gj4ck7w0t00000gn/T/ipykernel_15524/759405757.py:1: FutureWarning: In a future version of pandas all arguments of DataFrame.drop except for the argument 'labels' will be keyword-only\n",
      "  X=sc.fit_transform(data.drop('Prediction',1))\n"
     ]
    }
   ],
   "source": [
    "X=sc.fit_transform(data.drop('Prediction',1))\n",
    "#X=data.drop('Prediction',1).values\n",
    "# Y = data[\"Prediction\"].values.reshape(-1,1)\n",
    "# Y = sc_y.fit_transform(data[\"Prediction\"].values.reshape(-1,1))\n",
    "Y=np.array(data[\"Prediction\"])\n",
    "X_train, X_test, y_train, y_test = train_test_split(X, Y, test_size=0.2,shuffle=False)\n",
    "X_train = X_train.reshape((X_train.shape[0], 1, X_train.shape[1]))\n",
    "X_test = X_test.reshape((X_test.shape[0], 1, X_test.shape[1]))\n",
    "print(X_train.shape,y_train.shape,X_test.shape,y_test.shape)"
   ]
  },
  {
   "cell_type": "code",
   "execution_count": 9,
   "id": "bb8c5487",
   "metadata": {},
   "outputs": [
    {
     "name": "stdout",
     "output_type": "stream",
     "text": [
      "Metal device set to: Apple M1 Pro\n"
     ]
    },
    {
     "name": "stderr",
     "output_type": "stream",
     "text": [
      "2022-04-25 14:32:49.435815: I tensorflow/core/common_runtime/pluggable_device/pluggable_device_factory.cc:305] Could not identify NUMA node of platform GPU ID 0, defaulting to 0. Your kernel may not have been built with NUMA support.\n",
      "2022-04-25 14:32:49.436192: I tensorflow/core/common_runtime/pluggable_device/pluggable_device_factory.cc:271] Created TensorFlow device (/job:localhost/replica:0/task:0/device:GPU:0 with 0 MB memory) -> physical PluggableDevice (device: 0, name: METAL, pci bus id: <undefined>)\n"
     ]
    }
   ],
   "source": [
    "model_tech = keras.Sequential()\n",
    "model_tech.add(keras.layers.LSTM(\n",
    "  units=16,\n",
    "  input_shape=(X_train.shape[1], X_train.shape[2]),\n",
    "    return_sequences=True,\n",
    "#     kernel_regularizer=regularizers.l2(0.01)\n",
    "   \n",
    "))\n",
    "# model_tech.add(keras.layers.LSTM(units=64))\n",
    "# model_tech.add(keras.layers.Dense(units=64))\n",
    "model_tech.add(keras.layers.Dense(units=1))\n",
    "model_tech.compile(\n",
    "  loss='mean_squared_error',\n",
    "  optimizer=keras.optimizers.Adam(0.001)\n",
    ")"
   ]
  },
  {
   "cell_type": "code",
   "execution_count": null,
   "id": "428d66a4",
   "metadata": {
    "pycharm": {
     "is_executing": true
    },
    "scrolled": true
   },
   "outputs": [
    {
     "name": "stderr",
     "output_type": "stream",
     "text": [
      "2022-04-25 14:32:49.720444: W tensorflow/core/platform/profile_utils/cpu_utils.cc:128] Failed to get CPU frequency: 0 Hz\n"
     ]
    },
    {
     "name": "stdout",
     "output_type": "stream",
     "text": [
      "Epoch 1/500\n"
     ]
    },
    {
     "name": "stderr",
     "output_type": "stream",
     "text": [
      "2022-04-25 14:32:50.110312: I tensorflow/core/grappler/optimizers/custom_graph_optimizer_registry.cc:112] Plugin optimizer for device_type GPU is enabled.\n",
      "2022-04-25 14:32:50.235471: I tensorflow/core/grappler/optimizers/custom_graph_optimizer_registry.cc:112] Plugin optimizer for device_type GPU is enabled.\n"
     ]
    }
   ],
   "source": [
    "es = EarlyStopping(monitor='val_loss', mode='min', verbose=1,patience=40, min_delta=0.001)\n",
    "training_start=time.time()\n",
    "history_tech=model_tech.fit(\n",
    "    X_train, y_train,\n",
    "    epochs=500,\n",
    "    batch_size=16,\n",
    "    validation_split=0.1,\n",
    "    verbose=1,\n",
    "    shuffle=False,\n",
    "#     callbacks=[es]\n",
    ")\n",
    "y_pred = model_tech.predict(X_test)\n",
    "print(\"100 Training takes --- %s seconds ---\" % (time.time() - training_start))"
   ]
  },
  {
   "cell_type": "code",
   "execution_count": null,
   "id": "55aa57ad",
   "metadata": {},
   "outputs": [],
   "source": [
    "plt.plot(history_tech.history['loss'], label='train')\n",
    "plt.plot(history_tech.history['val_loss'], label='test')\n",
    "plt.legend()"
   ]
  },
  {
   "cell_type": "code",
   "execution_count": null,
   "id": "477f1fb7",
   "metadata": {},
   "outputs": [],
   "source": [
    "plt.plot(np.arange(0, len(y_train)), y_train, 'g', label=\"history\")\n",
    "plt.plot(np.arange(len(y_train), len(y_train) + len(y_test)), y_test, marker='.', label=\"true\")\n",
    "plt.plot(np.arange(len(y_train), len(y_train) + len(y_test)), y_pred, 'r', label=\"prediction\")\n",
    "# plt.plot(np.arange(0, len(y_train)), sc_y.inverse_transform(y_train), 'g', label=\"history\")\n",
    "# plt.plot(np.arange(len(y_train), len(y_train) + len(y_test)), sc_y.inverse_transform(y_test), marker='.', label=\"true\")\n",
    "# plt.plot(np.arange(len(y_train), len(y_train) + len(y_test)), sc_y.inverse_transform(y_pred), 'r', label=\"prediction\")\n",
    "plt.ylabel('Value')\n",
    "plt.xlabel('Time Step')\n",
    "plt.legend()\n",
    "plt.show()"
   ]
  },
  {
   "cell_type": "code",
   "execution_count": null,
   "id": "134553b2",
   "metadata": {
    "scrolled": true
   },
   "outputs": [],
   "source": [
    "# y_test = sc.inverse_transform(y_test)\n",
    "# y_pred = sc.inverse_transform(y_pred)\n",
    "plt.plot(y_test, marker='.', label=\"true\")\n",
    "plt.plot(y_pred, 'r', label=\"prediction\")\n",
    "plt.ylabel('Value')\n",
    "plt.xlabel('Time Step')\n",
    "plt.title('HSI-LSTM-500-Batch16-3Year')\n",
    "plt.legend()\n",
    "plt.show();"
   ]
  },
  {
   "cell_type": "code",
   "execution_count": null,
   "id": "0ef7fe0c",
   "metadata": {},
   "outputs": [],
   "source": [
    "r2_score(y_test,y_pred)"
   ]
  },
  {
   "cell_type": "code",
   "execution_count": null,
   "id": "7cf212a7",
   "metadata": {},
   "outputs": [],
   "source": [
    "mean_absolute_percentage_error(y_test,y_pred)"
   ]
  },
  {
   "cell_type": "code",
   "execution_count": null,
   "id": "a0cd9d21",
   "metadata": {},
   "outputs": [],
   "source": [
    "mean_squared_error(y_test,y_pred,squared=False)"
   ]
  },
  {
   "cell_type": "code",
   "execution_count": null,
   "id": "8ee0bfd3",
   "metadata": {},
   "outputs": [],
   "source": [
    "x_val=data_val.drop('Prediction',1).values\n",
    "y_val=data_val['Prediction']\n",
    "# x_val=x_val.reshape(x_val.shape[0],1,x_val.shape[1])\n",
    "x_val=sc.transform(x_val).reshape(x_val.shape[0],1,x_val.shape[1])\n",
    "y_val_pred=model_tech.predict(x_val)\n",
    "# y_val_pred=sc_y.inverse_transform(y_val_pred)"
   ]
  },
  {
   "cell_type": "code",
   "execution_count": null,
   "id": "529aefb2",
   "metadata": {},
   "outputs": [],
   "source": [
    "plt.plot(y_val.values, marker='.', label=\"true\")\n",
    "plt.plot(y_val_pred, 'r', marker='*',label=\"prediction\")\n",
    "plt.ylabel('Value')\n",
    "plt.xlabel('Time Step')\n",
    "plt.legend()\n",
    "plt.show()"
   ]
  },
  {
   "cell_type": "code",
   "execution_count": null,
   "id": "3b9ce3a3",
   "metadata": {},
   "outputs": [],
   "source": [
    "r2_score(y_val,y_val_pred)"
   ]
  },
  {
   "cell_type": "code",
   "execution_count": null,
   "id": "67bc6f38",
   "metadata": {},
   "outputs": [],
   "source": [
    "mean_absolute_percentage_error(y_val,y_val_pred)"
   ]
  },
  {
   "cell_type": "code",
   "execution_count": null,
   "id": "7a79ea1f",
   "metadata": {},
   "outputs": [],
   "source": [
    "mean_squared_error(y_val.values,y_val_pred,squared=False)"
   ]
  },
  {
   "cell_type": "code",
   "execution_count": null,
   "id": "d8ab65e9",
   "metadata": {},
   "outputs": [],
   "source": []
  }
 ],
 "metadata": {
  "kernelspec": {
   "display_name": "Python 3 (ipykernel)",
   "language": "python",
   "name": "python3"
  },
  "language_info": {
   "codemirror_mode": {
    "name": "ipython",
    "version": 3
   },
   "file_extension": ".py",
   "mimetype": "text/x-python",
   "name": "python",
   "nbconvert_exporter": "python",
   "pygments_lexer": "ipython3",
   "version": "3.9.9"
  }
 },
 "nbformat": 4,
 "nbformat_minor": 5
}
