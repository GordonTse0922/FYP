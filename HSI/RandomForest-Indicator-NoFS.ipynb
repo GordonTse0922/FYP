{
 "cells": [
  {
   "cell_type": "code",
   "execution_count": 1,
   "id": "a2138cba",
   "metadata": {},
   "outputs": [],
   "source": [
    "import yfinance as yf\n",
    "import numpy as np\n",
    "import pandas as pd\n",
    "from sklearn.ensemble import RandomForestRegressor, RandomForestClassifier\n",
    "from sklearn.preprocessing import MinMaxScaler\n",
    "import matplotlib.pyplot as plt\n",
    "from sklearn.metrics import classification_report,accuracy_score, mean_squared_error,mean_absolute_percentage_error,r2_score\n",
    "import talib\n",
    "from sklearn.model_selection import train_test_split"
   ]
  },
  {
   "cell_type": "code",
   "execution_count": 2,
   "id": "316ed5eb",
   "metadata": {},
   "outputs": [
    {
     "name": "stdout",
     "output_type": "stream",
     "text": [
      "[*********************100%***********************]  1 of 1 completed\n"
     ]
    },
    {
     "name": "stderr",
     "output_type": "stream",
     "text": [
      "/var/folders/8h/w0jn89bj2w5g85gj4ck7w0t00000gn/T/ipykernel_69334/178164014.py:2: FutureWarning: In a future version of pandas all arguments of DataFrame.drop except for the argument 'labels' will be keyword-only.\n",
      "  data.drop('Volume',1,inplace=True)\n"
     ]
    },
    {
     "data": {
      "text/html": [
       "<div>\n",
       "<style scoped>\n",
       "    .dataframe tbody tr th:only-of-type {\n",
       "        vertical-align: middle;\n",
       "    }\n",
       "\n",
       "    .dataframe tbody tr th {\n",
       "        vertical-align: top;\n",
       "    }\n",
       "\n",
       "    .dataframe thead th {\n",
       "        text-align: right;\n",
       "    }\n",
       "</style>\n",
       "<table border=\"1\" class=\"dataframe\">\n",
       "  <thead>\n",
       "    <tr style=\"text-align: right;\">\n",
       "      <th></th>\n",
       "      <th>Open</th>\n",
       "      <th>High</th>\n",
       "      <th>Low</th>\n",
       "      <th>Close</th>\n",
       "      <th>Adj Close</th>\n",
       "    </tr>\n",
       "    <tr>\n",
       "      <th>Date</th>\n",
       "      <th></th>\n",
       "      <th></th>\n",
       "      <th></th>\n",
       "      <th></th>\n",
       "      <th></th>\n",
       "    </tr>\n",
       "  </thead>\n",
       "  <tbody>\n",
       "    <tr>\n",
       "      <th>2019-01-02</th>\n",
       "      <td>25824.439453</td>\n",
       "      <td>25824.439453</td>\n",
       "      <td>25055.269531</td>\n",
       "      <td>25130.349609</td>\n",
       "      <td>25130.349609</td>\n",
       "    </tr>\n",
       "    <tr>\n",
       "      <th>2019-01-03</th>\n",
       "      <td>25077.679688</td>\n",
       "      <td>25262.210938</td>\n",
       "      <td>24896.869141</td>\n",
       "      <td>25064.359375</td>\n",
       "      <td>25064.359375</td>\n",
       "    </tr>\n",
       "    <tr>\n",
       "      <th>2019-01-04</th>\n",
       "      <td>24946.119141</td>\n",
       "      <td>25626.029297</td>\n",
       "      <td>24924.730469</td>\n",
       "      <td>25626.029297</td>\n",
       "      <td>25626.029297</td>\n",
       "    </tr>\n",
       "    <tr>\n",
       "      <th>2019-01-07</th>\n",
       "      <td>26015.839844</td>\n",
       "      <td>26043.640625</td>\n",
       "      <td>25753.460938</td>\n",
       "      <td>25835.699219</td>\n",
       "      <td>25835.699219</td>\n",
       "    </tr>\n",
       "    <tr>\n",
       "      <th>2019-01-08</th>\n",
       "      <td>25852.500000</td>\n",
       "      <td>25960.890625</td>\n",
       "      <td>25688.500000</td>\n",
       "      <td>25875.449219</td>\n",
       "      <td>25875.449219</td>\n",
       "    </tr>\n",
       "    <tr>\n",
       "      <th>...</th>\n",
       "      <td>...</td>\n",
       "      <td>...</td>\n",
       "      <td>...</td>\n",
       "      <td>...</td>\n",
       "      <td>...</td>\n",
       "    </tr>\n",
       "    <tr>\n",
       "      <th>2021-12-24</th>\n",
       "      <td>23375.990234</td>\n",
       "      <td>23383.189453</td>\n",
       "      <td>23186.570312</td>\n",
       "      <td>23223.759766</td>\n",
       "      <td>23223.759766</td>\n",
       "    </tr>\n",
       "    <tr>\n",
       "      <th>2021-12-28</th>\n",
       "      <td>23282.349609</td>\n",
       "      <td>23319.439453</td>\n",
       "      <td>23099.480469</td>\n",
       "      <td>23280.560547</td>\n",
       "      <td>23280.560547</td>\n",
       "    </tr>\n",
       "    <tr>\n",
       "      <th>2021-12-29</th>\n",
       "      <td>23253.980469</td>\n",
       "      <td>23253.980469</td>\n",
       "      <td>23008.279297</td>\n",
       "      <td>23086.539062</td>\n",
       "      <td>23086.539062</td>\n",
       "    </tr>\n",
       "    <tr>\n",
       "      <th>2021-12-30</th>\n",
       "      <td>23130.449219</td>\n",
       "      <td>23248.259766</td>\n",
       "      <td>22990.240234</td>\n",
       "      <td>23112.009766</td>\n",
       "      <td>23112.009766</td>\n",
       "    </tr>\n",
       "    <tr>\n",
       "      <th>2021-12-31</th>\n",
       "      <td>23553.789062</td>\n",
       "      <td>23590.119141</td>\n",
       "      <td>23394.769531</td>\n",
       "      <td>23397.669922</td>\n",
       "      <td>23397.669922</td>\n",
       "    </tr>\n",
       "  </tbody>\n",
       "</table>\n",
       "<p>741 rows × 5 columns</p>\n",
       "</div>"
      ],
      "text/plain": [
       "                    Open          High           Low         Close  \\\n",
       "Date                                                                 \n",
       "2019-01-02  25824.439453  25824.439453  25055.269531  25130.349609   \n",
       "2019-01-03  25077.679688  25262.210938  24896.869141  25064.359375   \n",
       "2019-01-04  24946.119141  25626.029297  24924.730469  25626.029297   \n",
       "2019-01-07  26015.839844  26043.640625  25753.460938  25835.699219   \n",
       "2019-01-08  25852.500000  25960.890625  25688.500000  25875.449219   \n",
       "...                  ...           ...           ...           ...   \n",
       "2021-12-24  23375.990234  23383.189453  23186.570312  23223.759766   \n",
       "2021-12-28  23282.349609  23319.439453  23099.480469  23280.560547   \n",
       "2021-12-29  23253.980469  23253.980469  23008.279297  23086.539062   \n",
       "2021-12-30  23130.449219  23248.259766  22990.240234  23112.009766   \n",
       "2021-12-31  23553.789062  23590.119141  23394.769531  23397.669922   \n",
       "\n",
       "               Adj Close  \n",
       "Date                      \n",
       "2019-01-02  25130.349609  \n",
       "2019-01-03  25064.359375  \n",
       "2019-01-04  25626.029297  \n",
       "2019-01-07  25835.699219  \n",
       "2019-01-08  25875.449219  \n",
       "...                  ...  \n",
       "2021-12-24  23223.759766  \n",
       "2021-12-28  23280.560547  \n",
       "2021-12-29  23086.539062  \n",
       "2021-12-30  23112.009766  \n",
       "2021-12-31  23397.669922  \n",
       "\n",
       "[741 rows x 5 columns]"
      ]
     },
     "execution_count": 2,
     "metadata": {},
     "output_type": "execute_result"
    }
   ],
   "source": [
    "data=yf.download('^HSI','2019-01-01','2022-01-01')\n",
    "data.drop('Volume',1,inplace=True)\n",
    "data"
   ]
  },
  {
   "cell_type": "code",
   "execution_count": 3,
   "id": "54833d4f",
   "metadata": {},
   "outputs": [],
   "source": [
    "data['6day MA'] = data['Close'].rolling(window = 6).mean()\n",
    "data['12day MA'] = data['Close'].rolling(window = 12).mean()\n",
    "data['RSI'] = talib.RSI(data['Close'].values, timeperiod = 7)\n",
    "data['%R5'] = talib.WILLR(data['High'].values, data['Low'].values, data['Close'].values, 5)\n",
    "data['%R10'] = talib.WILLR(data['High'].values, data['Low'].values, data['Close'].values, 10)\n",
    "data['MI6']=talib.MOM(data['Close'],timeperiod=6)\n",
    "data['MI12']=talib.MOM(data['Close'],timeperiod=12)\n",
    "macd, macdsignal, macdhist = talib.MACD(data['Close'], fastperiod=12, slowperiod=26, signalperiod=9)\n",
    "data['EMA12']=talib.EMA(data['Close'], timeperiod=12)\n",
    "data['EMA26']=talib.EMA(data['Close'],timeperiod=26)\n",
    "data['MACD']=macd\n",
    "data['TR']=talib.TRANGE(data['High'],data['Low'],data['Close'])\n",
    "data['OSC6']=talib.CMO(data['Close'], timeperiod=6)\n",
    "data['OSC12']=talib.CMO(data['Close'], timeperiod=12)\n",
    "data['Prediction']=data['Close'].shift(-1)\n",
    "data.dropna(inplace=True)"
   ]
  },
  {
   "cell_type": "code",
   "execution_count": 4,
   "id": "76dc1a7d",
   "metadata": {},
   "outputs": [
    {
     "name": "stdout",
     "output_type": "stream",
     "text": [
      "(485, 18) (485,) (122, 18) (122,)\n"
     ]
    },
    {
     "name": "stderr",
     "output_type": "stream",
     "text": [
      "/var/folders/8h/w0jn89bj2w5g85gj4ck7w0t00000gn/T/ipykernel_69334/3874758844.py:5: FutureWarning: In a future version of pandas all arguments of DataFrame.drop except for the argument 'labels' will be keyword-only.\n",
      "  X=sc.fit_transform(data.drop('Prediction',1))\n"
     ]
    }
   ],
   "source": [
    "# data.drop(['OSC12','OSC6','MI12','MI6','%R10','%R5','RSI','TR'],1,inplace=True)\n",
    "data_val=data[-100:]\n",
    "data=data[:-100]\n",
    "sc = MinMaxScaler(feature_range = (-1, 1))\n",
    "X=sc.fit_transform(data.drop('Prediction',1))\n",
    "# X=data.drop('Prediction',1).values\n",
    "# Y = data[\"Prediction\"].values.reshape(-1,1)\n",
    "# Y = sc_y.fit_transform(data[\"Prediction\"].values.reshape(-1,1))\n",
    "Y=np.array(data[\"Prediction\"])\n",
    "X_train, X_test, y_train, y_test = train_test_split(X, Y, test_size=0.2,shuffle=False)\n",
    "# X_train = X_train.reshape((X_train.shape[0], 1, X_train.shape[1]))\n",
    "# X_test = X_test.reshape((X_test.shape[0], 1, X_test.shape[1]))\n",
    "print(X_train.shape,y_train.shape,X_test.shape,y_test.shape)"
   ]
  },
  {
   "cell_type": "code",
   "execution_count": 5,
   "id": "46bc37e9",
   "metadata": {},
   "outputs": [],
   "source": [
    "clf = RandomForestRegressor()"
   ]
  },
  {
   "cell_type": "code",
   "execution_count": 6,
   "id": "936742f1",
   "metadata": {},
   "outputs": [],
   "source": [
    "model = clf.fit(X_train, y_train)"
   ]
  },
  {
   "cell_type": "code",
   "execution_count": 7,
   "id": "518dad18",
   "metadata": {},
   "outputs": [],
   "source": [
    "y_pred=model.predict(X_test)"
   ]
  },
  {
   "cell_type": "code",
   "execution_count": 8,
   "id": "4b7ae360",
   "metadata": {},
   "outputs": [
    {
     "data": {
      "text/plain": [
       "array([29123.06208984, 29084.27966797, 29507.48724609, 29809.37238281,\n",
       "       29878.23828125, 29904.94818359, 29841.87628906, 29915.085625  ,\n",
       "       29903.45974609, 29827.53419922, 29844.21945312, 29729.5915625 ,\n",
       "       29790.81751953, 28872.21921875, 29466.51277344, 29085.22580078,\n",
       "       29712.92017578, 29199.08957031, 29176.25013672, 28456.10654297,\n",
       "       28607.60035156, 29001.74822266, 29321.30650391, 28595.3203125 ,\n",
       "       28967.76449219, 29023.65246094, 29016.0546875 , 29516.32466797,\n",
       "       29044.68333984, 28832.94947266, 28441.95447266, 28063.90638672,\n",
       "       27574.95998047, 28080.01224609, 28200.58376953, 28523.00582031,\n",
       "       28435.89152344, 29041.43044922, 28520.87492188, 29152.65552734,\n",
       "       28530.17677734, 28432.53351563, 28402.95365234, 29026.13326172,\n",
       "       28668.90261719, 29054.31191406, 29207.19986328, 29153.62853516,\n",
       "       28501.80125   , 28554.12238281, 29146.68886719, 29000.13224609,\n",
       "       29011.05595703, 29185.85849609, 29140.05671875, 28508.89671875,\n",
       "       28459.83      , 28478.56144531, 28427.91892578, 28652.67013672,\n",
       "       28565.41998047, 28558.86636719, 28111.56777344, 28115.97488281,\n",
       "       27527.69712891, 27684.35570312, 28272.52167969, 28523.71248047,\n",
       "       28455.53224609, 28513.58605469, 28278.79136719, 29069.35265625,\n",
       "       29116.56785156, 29055.48527344, 29089.38037109, 29108.06185547,\n",
       "       29459.73396484, 29083.36802734, 28916.85076172, 28928.54001953,\n",
       "       28500.21423828, 28583.73947266, 28588.73140625, 28613.44478516,\n",
       "       29019.11470703, 28634.44623047, 28456.50712891, 28465.89144531,\n",
       "       28696.64359375, 28507.38197266, 28389.32298828, 28983.77529297,\n",
       "       28916.56306641, 29171.53007813, 29189.10177734, 29015.03916016,\n",
       "       28727.36412109, 28460.12138672, 28120.92560547, 28114.57242188,\n",
       "       27486.11318359, 26996.36328125, 27157.40730469, 27436.81052734,\n",
       "       27586.75105469, 27545.07601562, 27877.28367188, 28184.04537109,\n",
       "       27403.39068359, 27283.84765625, 27148.69689453, 27511.35490234,\n",
       "       27330.0646875 , 25980.59898437, 25135.46707031, 25236.38912109,\n",
       "       26310.03964844, 25844.81597656, 26129.00410156, 25999.38910156,\n",
       "       26327.07060547, 26134.37681641])"
      ]
     },
     "execution_count": 8,
     "metadata": {},
     "output_type": "execute_result"
    }
   ],
   "source": [
    "y_pred"
   ]
  },
  {
   "cell_type": "code",
   "execution_count": 9,
   "id": "494837c5",
   "metadata": {},
   "outputs": [
    {
     "data": {
      "image/png": "[encoded data removed]",
      "text/plain": [
       "<Figure size 432x288 with 1 Axes>"
      ]
     },
     "metadata": {
      "needs_background": "light"
     },
     "output_type": "display_data"
    }
   ],
   "source": [
    "plt.plot(np.arange(0, len(y_train)), y_train, 'g', label=\"history\")\n",
    "plt.plot(np.arange(len(y_train), len(y_train) + len(y_test)), y_test, marker='.', label=\"true\")\n",
    "plt.plot(np.arange(len(y_train), len(y_train) + len(y_test)), y_pred, 'r', label=\"prediction\")\n",
    "plt.ylabel('Value')\n",
    "plt.xlabel('Time Step')\n",
    "plt.legend()\n",
    "plt.show();"
   ]
  },
  {
   "cell_type": "code",
   "execution_count": 10,
   "id": "b4cef2d8",
   "metadata": {},
   "outputs": [
    {
     "data": {
      "text/plain": [
       "0.011344408962739869"
      ]
     },
     "execution_count": 10,
     "metadata": {},
     "output_type": "execute_result"
    }
   ],
   "source": [
    "mean_absolute_percentage_error(y_test,y_pred)"
   ]
  },
  {
   "cell_type": "code",
   "execution_count": 11,
   "id": "de4a9225",
   "metadata": {},
   "outputs": [
    {
     "data": {
      "text/plain": [
       "167316.756228508"
      ]
     },
     "execution_count": 11,
     "metadata": {},
     "output_type": "execute_result"
    }
   ],
   "source": [
    "mean_squared_error(y_test,y_pred)"
   ]
  },
  {
   "cell_type": "code",
   "execution_count": 16,
   "id": "3f6a8435",
   "metadata": {},
   "outputs": [
    {
     "data": {
      "image/png": "[encoded data removed]",
      "text/plain": [
       "<Figure size 432x288 with 1 Axes>"
      ]
     },
     "metadata": {
      "needs_background": "light"
     },
     "output_type": "display_data"
    }
   ],
   "source": [
    "# y_test = sc.inverse_transform(y_test)\n",
    "# y_pred = sc.inverse_transform(y_pred)\n",
    "plt.plot(y_test, marker='.', label=\"true\")\n",
    "plt.plot(y_pred, 'r', label=\"prediction\")\n",
    "plt.ylabel('Value')\n",
    "plt.xlabel('Time Step')\n",
    "plt.title('HSI-RF-NoIG')\n",
    "plt.legend()\n",
    "plt.show();"
   ]
  },
  {
   "cell_type": "code",
   "execution_count": 13,
   "id": "4bd542cf",
   "metadata": {},
   "outputs": [
    {
     "data": {
      "text/plain": [
       "0.011344408962739869"
      ]
     },
     "execution_count": 13,
     "metadata": {},
     "output_type": "execute_result"
    }
   ],
   "source": [
    "mean_absolute_percentage_error(y_test,y_pred)"
   ]
  },
  {
   "cell_type": "code",
   "execution_count": 14,
   "id": "b8b6e45f",
   "metadata": {},
   "outputs": [
    {
     "data": {
      "text/plain": [
       "409.0437094351996"
      ]
     },
     "execution_count": 14,
     "metadata": {},
     "output_type": "execute_result"
    }
   ],
   "source": [
    "mean_squared_error(y_test,y_pred,squared=False)"
   ]
  },
  {
   "cell_type": "code",
   "execution_count": 15,
   "id": "e6cd6938",
   "metadata": {},
   "outputs": [
    {
     "data": {
      "text/plain": [
       "0.8465490369889905"
      ]
     },
     "execution_count": 15,
     "metadata": {},
     "output_type": "execute_result"
    }
   ],
   "source": [
    "r2_score(y_test,y_pred)"
   ]
  },
  {
   "cell_type": "code",
   "execution_count": null,
   "id": "24f057e8",
   "metadata": {},
   "outputs": [],
   "source": []
  }
 ],
 "metadata": {
  "kernelspec": {
   "display_name": "Python 3 (ipykernel)",
   "language": "python",
   "name": "python3"
  },
  "language_info": {
   "codemirror_mode": {
    "name": "ipython",
    "version": 3
   },
   "file_extension": ".py",
   "mimetype": "text/x-python",
   "name": "python",
   "nbconvert_exporter": "python",
   "pygments_lexer": "ipython3",
   "version": "3.9.9"
  }
 },
 "nbformat": 4,
 "nbformat_minor": 5
}
