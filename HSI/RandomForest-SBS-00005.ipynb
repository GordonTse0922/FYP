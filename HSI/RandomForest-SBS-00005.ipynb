{
 "cells": [
  {
   "cell_type": "code",
   "execution_count": 1,
   "id": "a2138cba",
   "metadata": {},
   "outputs": [],
   "source": [
    "import yfinance as yf\n",
    "import numpy as np\n",
    "import pandas as pd\n",
    "from sklearn.ensemble import RandomForestRegressor, RandomForestClassifier\n",
    "from sklearn.preprocessing import MinMaxScaler\n",
    "import matplotlib.pyplot as plt\n",
    "from sklearn.metrics import classification_report,accuracy_score, mean_squared_error,mean_absolute_percentage_error,r2_score\n",
    "import talib\n",
    "from sklearn.model_selection import train_test_split"
   ]
  },
  {
   "cell_type": "code",
   "execution_count": 2,
   "id": "316ed5eb",
   "metadata": {},
   "outputs": [
    {
     "name": "stdout",
     "output_type": "stream",
     "text": [
      "[*********************100%***********************]  1 of 1 completed\n"
     ]
    },
    {
     "data": {
      "text/html": [
       "<div>\n",
       "<style scoped>\n",
       "    .dataframe tbody tr th:only-of-type {\n",
       "        vertical-align: middle;\n",
       "    }\n",
       "\n",
       "    .dataframe tbody tr th {\n",
       "        vertical-align: top;\n",
       "    }\n",
       "\n",
       "    .dataframe thead th {\n",
       "        text-align: right;\n",
       "    }\n",
       "</style>\n",
       "<table border=\"1\" class=\"dataframe\">\n",
       "  <thead>\n",
       "    <tr style=\"text-align: right;\">\n",
       "      <th></th>\n",
       "      <th>Open</th>\n",
       "      <th>High</th>\n",
       "      <th>Low</th>\n",
       "      <th>Close</th>\n",
       "      <th>Adj Close</th>\n",
       "      <th>Volume</th>\n",
       "    </tr>\n",
       "    <tr>\n",
       "      <th>Date</th>\n",
       "      <th></th>\n",
       "      <th></th>\n",
       "      <th></th>\n",
       "      <th></th>\n",
       "      <th></th>\n",
       "      <th></th>\n",
       "    </tr>\n",
       "  </thead>\n",
       "  <tbody>\n",
       "    <tr>\n",
       "      <th>2018-01-02</th>\n",
       "      <td>80.550003</td>\n",
       "      <td>81.300003</td>\n",
       "      <td>80.449997</td>\n",
       "      <td>81.300003</td>\n",
       "      <td>69.135628</td>\n",
       "      <td>37060582</td>\n",
       "    </tr>\n",
       "    <tr>\n",
       "      <th>2018-01-03</th>\n",
       "      <td>81.300003</td>\n",
       "      <td>81.449997</td>\n",
       "      <td>80.800003</td>\n",
       "      <td>80.949997</td>\n",
       "      <td>68.837990</td>\n",
       "      <td>21680762</td>\n",
       "    </tr>\n",
       "    <tr>\n",
       "      <th>2018-01-04</th>\n",
       "      <td>80.900002</td>\n",
       "      <td>81.050003</td>\n",
       "      <td>80.349998</td>\n",
       "      <td>80.500000</td>\n",
       "      <td>68.455330</td>\n",
       "      <td>17205111</td>\n",
       "    </tr>\n",
       "    <tr>\n",
       "      <th>2018-01-05</th>\n",
       "      <td>81.050003</td>\n",
       "      <td>81.199997</td>\n",
       "      <td>80.599998</td>\n",
       "      <td>80.800003</td>\n",
       "      <td>68.710442</td>\n",
       "      <td>15902273</td>\n",
       "    </tr>\n",
       "    <tr>\n",
       "      <th>2018-01-08</th>\n",
       "      <td>80.500000</td>\n",
       "      <td>80.800003</td>\n",
       "      <td>80.050003</td>\n",
       "      <td>80.500000</td>\n",
       "      <td>68.455330</td>\n",
       "      <td>21354440</td>\n",
       "    </tr>\n",
       "    <tr>\n",
       "      <th>...</th>\n",
       "      <td>...</td>\n",
       "      <td>...</td>\n",
       "      <td>...</td>\n",
       "      <td>...</td>\n",
       "      <td>...</td>\n",
       "      <td>...</td>\n",
       "    </tr>\n",
       "    <tr>\n",
       "      <th>2022-04-01</th>\n",
       "      <td>53.700001</td>\n",
       "      <td>54.349998</td>\n",
       "      <td>53.400002</td>\n",
       "      <td>54.349998</td>\n",
       "      <td>54.349998</td>\n",
       "      <td>8177523</td>\n",
       "    </tr>\n",
       "    <tr>\n",
       "      <th>2022-04-04</th>\n",
       "      <td>54.299999</td>\n",
       "      <td>54.349998</td>\n",
       "      <td>53.799999</td>\n",
       "      <td>54.049999</td>\n",
       "      <td>54.049999</td>\n",
       "      <td>10779509</td>\n",
       "    </tr>\n",
       "    <tr>\n",
       "      <th>2022-04-06</th>\n",
       "      <td>53.900002</td>\n",
       "      <td>54.049999</td>\n",
       "      <td>53.150002</td>\n",
       "      <td>53.700001</td>\n",
       "      <td>53.700001</td>\n",
       "      <td>17097274</td>\n",
       "    </tr>\n",
       "    <tr>\n",
       "      <th>2022-04-07</th>\n",
       "      <td>53.299999</td>\n",
       "      <td>53.799999</td>\n",
       "      <td>53.299999</td>\n",
       "      <td>53.450001</td>\n",
       "      <td>53.450001</td>\n",
       "      <td>11573734</td>\n",
       "    </tr>\n",
       "    <tr>\n",
       "      <th>2022-04-08</th>\n",
       "      <td>53.500000</td>\n",
       "      <td>53.950001</td>\n",
       "      <td>53.400002</td>\n",
       "      <td>53.950001</td>\n",
       "      <td>53.950001</td>\n",
       "      <td>10357713</td>\n",
       "    </tr>\n",
       "  </tbody>\n",
       "</table>\n",
       "<p>1053 rows × 6 columns</p>\n",
       "</div>"
      ],
      "text/plain": [
       "                 Open       High        Low      Close  Adj Close    Volume\n",
       "Date                                                                       \n",
       "2018-01-02  80.550003  81.300003  80.449997  81.300003  69.135628  37060582\n",
       "2018-01-03  81.300003  81.449997  80.800003  80.949997  68.837990  21680762\n",
       "2018-01-04  80.900002  81.050003  80.349998  80.500000  68.455330  17205111\n",
       "2018-01-05  81.050003  81.199997  80.599998  80.800003  68.710442  15902273\n",
       "2018-01-08  80.500000  80.800003  80.050003  80.500000  68.455330  21354440\n",
       "...               ...        ...        ...        ...        ...       ...\n",
       "2022-04-01  53.700001  54.349998  53.400002  54.349998  54.349998   8177523\n",
       "2022-04-04  54.299999  54.349998  53.799999  54.049999  54.049999  10779509\n",
       "2022-04-06  53.900002  54.049999  53.150002  53.700001  53.700001  17097274\n",
       "2022-04-07  53.299999  53.799999  53.299999  53.450001  53.450001  11573734\n",
       "2022-04-08  53.500000  53.950001  53.400002  53.950001  53.950001  10357713\n",
       "\n",
       "[1053 rows x 6 columns]"
      ]
     },
     "execution_count": 2,
     "metadata": {},
     "output_type": "execute_result"
    }
   ],
   "source": [
    "data=yf.download('0005.hk','2018-01-01','2022-04-09')\n",
    "# data.drop('Volume',1,inplace=True)\n",
    "data"
   ]
  },
  {
   "cell_type": "code",
   "execution_count": 3,
   "id": "54833d4f",
   "metadata": {},
   "outputs": [],
   "source": [
    "data['6day MA'] = data['Close'].rolling(window = 6).mean()\n",
    "data['12day MA'] = data['Close'].rolling(window = 12).mean()\n",
    "data['RSI'] = talib.RSI(data['Close'].values, timeperiod = 7)\n",
    "data['%R5'] = talib.WILLR(data['High'].values, data['Low'].values, data['Close'].values, 5)\n",
    "data['%R10'] = talib.WILLR(data['High'].values, data['Low'].values, data['Close'].values, 10)\n",
    "data['MI6']=talib.MOM(data['Close'],timeperiod=6)\n",
    "data['MI12']=talib.MOM(data['Close'],timeperiod=12)\n",
    "macd, macdsignal, macdhist = talib.MACD(data['Close'], fastperiod=12, slowperiod=26, signalperiod=9)\n",
    "data['EMA12']=talib.EMA(data['Close'], timeperiod=12)\n",
    "data['EMA26']=talib.EMA(data['Close'],timeperiod=26)\n",
    "data['MACD']=macd\n",
    "data['TR']=talib.TRANGE(data['High'],data['Low'],data['Close'])\n",
    "data['OSC6']=talib.CMO(data['Close'], timeperiod=6)\n",
    "data['OSC12']=talib.CMO(data['Close'], timeperiod=12)\n",
    "data['Prediction']=data['Close'].shift(-1)\n",
    "data.dropna(inplace=True)\n",
    "target=data['Prediction']"
   ]
  },
  {
   "cell_type": "code",
   "execution_count": 4,
   "id": "f1a3a53f",
   "metadata": {},
   "outputs": [
    {
     "name": "stderr",
     "output_type": "stream",
     "text": [
      "/var/folders/8h/w0jn89bj2w5g85gj4ck7w0t00000gn/T/ipykernel_66604/2118434002.py:11: FutureWarning: In a future version of pandas all arguments of DataFrame.drop except for the argument 'labels' will be keyword-only.\n",
      "  backwardModel.fit(np.array(data.drop('Prediction',1)),target.values)\n",
      "[Parallel(n_jobs=-1)]: Using backend LokyBackend with 8 concurrent workers.\n",
      "[Parallel(n_jobs=-1)]: Done  14 out of  19 | elapsed:    6.5s remaining:    2.3s\n",
      "[Parallel(n_jobs=-1)]: Done  19 out of  19 | elapsed:    8.4s finished\n",
      "\n",
      "[2022-04-13 19:47:00] Features: 18/10 -- score: 0.6648405622918798[Parallel(n_jobs=-1)]: Using backend LokyBackend with 8 concurrent workers.\n",
      "[Parallel(n_jobs=-1)]: Done  13 out of  18 | elapsed:    6.4s remaining:    2.5s\n",
      "[Parallel(n_jobs=-1)]: Done  18 out of  18 | elapsed:    8.4s finished\n",
      "\n",
      "[2022-04-13 19:47:09] Features: 17/10 -- score: 0.6892568149523178[Parallel(n_jobs=-1)]: Using backend LokyBackend with 8 concurrent workers.\n",
      "[Parallel(n_jobs=-1)]: Done  11 out of  17 | elapsed:    7.8s remaining:    4.2s\n",
      "[Parallel(n_jobs=-1)]: Done  17 out of  17 | elapsed:    9.5s finished\n",
      "\n",
      "[2022-04-13 19:47:18] Features: 16/10 -- score: 0.6887792818735987[Parallel(n_jobs=-1)]: Using backend LokyBackend with 8 concurrent workers.\n",
      "[Parallel(n_jobs=-1)]: Done  10 out of  16 | elapsed:    4.5s remaining:    2.7s\n",
      "[Parallel(n_jobs=-1)]: Done  16 out of  16 | elapsed:    4.8s finished\n",
      "\n",
      "[2022-04-13 19:47:23] Features: 15/10 -- score: 0.6929904789399562[Parallel(n_jobs=-1)]: Using backend LokyBackend with 8 concurrent workers.\n",
      "[Parallel(n_jobs=-1)]: Done   8 out of  15 | elapsed:    2.4s remaining:    2.1s\n",
      "[Parallel(n_jobs=-1)]: Done  15 out of  15 | elapsed:    4.3s finished\n",
      "\n",
      "[2022-04-13 19:47:27] Features: 14/10 -- score: 0.7005330141313384[Parallel(n_jobs=-1)]: Using backend LokyBackend with 8 concurrent workers.\n",
      "[Parallel(n_jobs=-1)]: Done   7 out of  14 | elapsed:    2.3s remaining:    2.3s\n",
      "[Parallel(n_jobs=-1)]: Done  14 out of  14 | elapsed:    3.8s finished\n",
      "\n",
      "[2022-04-13 19:47:31] Features: 13/10 -- score: 0.6944358122685778[Parallel(n_jobs=-1)]: Using backend LokyBackend with 8 concurrent workers.\n",
      "[Parallel(n_jobs=-1)]: Done   5 out of  13 | elapsed:    2.0s remaining:    3.1s\n",
      "[Parallel(n_jobs=-1)]: Done  13 out of  13 | elapsed:    3.7s finished\n",
      "\n",
      "[2022-04-13 19:47:35] Features: 12/10 -- score: 0.6955176623987149[Parallel(n_jobs=-1)]: Using backend LokyBackend with 8 concurrent workers.\n",
      "[Parallel(n_jobs=-1)]: Done   4 out of  12 | elapsed:    1.9s remaining:    3.9s\n",
      "[Parallel(n_jobs=-1)]: Done  12 out of  12 | elapsed:    3.3s finished\n",
      "\n",
      "[2022-04-13 19:47:38] Features: 11/10 -- score: 0.7018449685676413[Parallel(n_jobs=-1)]: Using backend LokyBackend with 8 concurrent workers.\n",
      "[Parallel(n_jobs=-1)]: Done   2 out of  11 | elapsed:    1.8s remaining:    8.2s\n",
      "[Parallel(n_jobs=-1)]: Done   8 out of  11 | elapsed:    1.9s remaining:    0.7s\n",
      "[Parallel(n_jobs=-1)]: Done  11 out of  11 | elapsed:    3.1s finished\n",
      "\n",
      "[2022-04-13 19:47:41] Features: 10/10 -- score: 0.697470577306375"
     ]
    },
    {
     "data": {
      "text/plain": [
       "SequentialFeatureSelector(estimator=RandomForestRegressor(), forward=False,\n",
       "                          k_features=10, n_jobs=-1, scoring='r2', verbose=2)"
      ]
     },
     "execution_count": 4,
     "metadata": {},
     "output_type": "execute_result"
    }
   ],
   "source": [
    "from mlxtend.feature_selection import SequentialFeatureSelector as sfs\n",
    "from sklearn.ensemble import RandomForestRegressor\n",
    "#k_features=10 (It will get top 10 features best suited for prediction)\n",
    "#forward=False (Backward feature selection model)\n",
    "#verbose=2 (It will show details output as shown below.)\n",
    "#cv=5 (Kfold cross valiation: it will split the training set in 5 set and 4 will be using for training the model and 1 will using as validation)\n",
    "#n_jobs=-1 (Number of cores it will use for execution.-1 means it will use all the cores of CPU for execution.)\n",
    "#scoring='r2'(R-squared is a statistical measure of how close the data are to the fitted regression line)\n",
    "backwardModel=sfs(RandomForestRegressor(),k_features=10,forward=False,verbose=2,cv=5,n_jobs=-1,scoring='r2')\n",
    "#We will convert our training data into numpy array. If we will not convert it, model is not able to read some of the column names.\n",
    "backwardModel.fit(np.array(data.drop('Prediction',1)),target.values)"
   ]
  },
  {
   "cell_type": "code",
   "execution_count": 5,
   "id": "76dc1a7d",
   "metadata": {},
   "outputs": [
    {
     "name": "stdout",
     "output_type": "stream",
     "text": [
      "(735, 10) (735,) (184, 10) (184,)\n"
     ]
    },
    {
     "name": "stderr",
     "output_type": "stream",
     "text": [
      "/var/folders/8h/w0jn89bj2w5g85gj4ck7w0t00000gn/T/ipykernel_66604/1151953013.py:3: SettingWithCopyWarning: \n",
      "A value is trying to be set on a copy of a slice from a DataFrame.\n",
      "Try using .loc[row_indexer,col_indexer] = value instead\n",
      "\n",
      "See the caveats in the documentation: https://pandas.pydata.org/pandas-docs/stable/user_guide/indexing.html#returning-a-view-versus-a-copy\n",
      "  data['Prediction']=target\n",
      "/var/folders/8h/w0jn89bj2w5g85gj4ck7w0t00000gn/T/ipykernel_66604/1151953013.py:8: FutureWarning: In a future version of pandas all arguments of DataFrame.drop except for the argument 'labels' will be keyword-only.\n",
      "  X=data.drop('Prediction',1).values\n"
     ]
    }
   ],
   "source": [
    "# data.drop(['OSC12','OSC6','MI12','MI6','%R10','%R5','RSI','TR'],1,inplace=True)\n",
    "data=data[data.columns[list(backwardModel.k_feature_idx_)]]\n",
    "data['Prediction']=target\n",
    "data_val=data[-100:]\n",
    "data=data[:-100]\n",
    "sc = MinMaxScaler(feature_range = (-1, 1))\n",
    "# X=sc.fit_transform(data.drop('Prediction',1))\n",
    "X=data.drop('Prediction',1).values\n",
    "# Y = data[\"Prediction\"].values.reshape(-1,1)\n",
    "# Y = sc_y.fit_transform(data[\"Prediction\"].values.reshape(-1,1))\n",
    "Y=np.array(data[\"Prediction\"])\n",
    "X_train, X_test, y_train, y_test = train_test_split(X, Y, test_size=0.2,shuffle=False)\n",
    "# X_train = X_train.reshape((X_train.shape[0], 1, X_train.shape[1]))\n",
    "# X_test = X_test.reshape((X_test.shape[0], 1, X_test.shape[1]))\n",
    "print(X_train.shape,y_train.shape,X_test.shape,y_test.shape)"
   ]
  },
  {
   "cell_type": "code",
   "execution_count": 6,
   "id": "46bc37e9",
   "metadata": {},
   "outputs": [],
   "source": [
    "clf = RandomForestRegressor()"
   ]
  },
  {
   "cell_type": "code",
   "execution_count": 7,
   "id": "936742f1",
   "metadata": {},
   "outputs": [],
   "source": [
    "model = clf.fit(X_train, y_train)"
   ]
  },
  {
   "cell_type": "code",
   "execution_count": 8,
   "id": "518dad18",
   "metadata": {},
   "outputs": [],
   "source": [
    "y_pred=model.predict(X_test)"
   ]
  },
  {
   "cell_type": "code",
   "execution_count": 9,
   "id": "4b7ae360",
   "metadata": {},
   "outputs": [
    {
     "data": {
      "text/plain": [
       "array([42.68400036, 43.5850005 , 43.69500061, 43.77500053, 43.52050034,\n",
       "       43.70900055, 44.2055003 , 43.48150013, 43.61500031, 45.10500057,\n",
       "       45.10700035, 45.25750008, 45.1795005 , 45.38050041, 45.3840004 ,\n",
       "       45.29300056, 46.97900085, 45.5585006 , 45.27100056, 45.4985004 ,\n",
       "       45.43700024, 45.56050037, 45.66150036, 45.37550045, 45.52950047,\n",
       "       45.55900021, 45.63050026, 45.49649998, 45.71250008, 45.59099998,\n",
       "       45.52100021, 45.12250031, 45.24350037, 45.42900024, 45.47000061,\n",
       "       45.42350067, 45.52250053, 45.30100037, 45.29450043, 45.17300053,\n",
       "       45.36350033, 45.63100033, 45.29200035, 45.40800034, 45.29100021,\n",
       "       45.66200005, 45.63150013, 45.47700024, 44.98100063, 45.48850082,\n",
       "       46.18100082, 47.26800091, 45.60650063, 45.86150082, 46.23950085,\n",
       "       47.89400097, 47.2810009 , 47.29550087, 46.84150078, 45.7755006 ,\n",
       "       45.96350067, 46.99350079, 46.87300083, 47.29500088, 46.35900074,\n",
       "       46.87600082, 47.24500088, 47.2810009 , 47.95200096, 47.76500095,\n",
       "       47.91250076, 47.73450081, 47.81050091, 47.97500095, 47.89950092,\n",
       "       47.19400082, 47.05700092, 47.45750095, 47.06150093, 45.95400063,\n",
       "       45.93900066, 45.91500061, 46.01150063, 46.13350063, 45.6810006 ,\n",
       "       45.17599995, 45.64400024, 45.42250031, 45.58800018, 45.43300022,\n",
       "       45.65750027, 45.68150002, 45.90699989, 45.75499977, 44.89600021,\n",
       "       45.26650021, 45.31100006, 44.78900009, 43.96049992, 42.3830003 ,\n",
       "       43.47949978, 42.72350006, 42.51600025, 42.21050037, 41.66100014,\n",
       "       41.79150005, 41.83350006, 42.37499958, 41.83899975, 41.74799992,\n",
       "       42.18049988, 41.71949986, 41.98799995, 42.56649975, 42.72399975,\n",
       "       42.0589999 , 42.57499973, 42.48649982, 42.38349991, 43.13849972,\n",
       "       43.24049969, 43.49149967, 43.64299984, 43.41749966, 43.65550003,\n",
       "       43.45199978, 42.45049988, 41.80000011, 41.83649994, 41.88549992,\n",
       "       41.38349995, 41.51100025, 41.89049961, 41.64649998, 41.14050034,\n",
       "       41.11099998, 41.61499996, 41.10150024, 41.33900021, 41.24400028,\n",
       "       40.83399986, 39.94400032, 39.89200031, 41.02400013, 40.50600033,\n",
       "       39.79400032, 39.7765004 , 39.88750042, 40.14500046, 39.06150005,\n",
       "       39.34800037, 40.09650021, 39.79100021, 40.10700016, 40.8754998 ,\n",
       "       41.61550007, 40.83149986, 40.35500034, 41.09850002, 42.69900047,\n",
       "       43.26150036, 43.63150024, 43.61350048, 43.68650028, 43.65950054,\n",
       "       43.75750034, 43.75350033, 43.7910004 , 43.64850029, 43.58500023,\n",
       "       45.0130006 , 45.74500076, 46.04350079, 45.26450062, 45.46500046,\n",
       "       45.43150032, 45.57550064, 45.49600037, 45.49650055, 45.03399994,\n",
       "       45.44100021, 45.59550026, 45.67249989, 45.55150013])"
      ]
     },
     "execution_count": 9,
     "metadata": {},
     "output_type": "execute_result"
    }
   ],
   "source": [
    "y_pred"
   ]
  },
  {
   "cell_type": "code",
   "execution_count": 10,
   "id": "494837c5",
   "metadata": {},
   "outputs": [
    {
     "data": {
      "image/png": "[encoded data removed]",
      "text/plain": [
       "<Figure size 432x288 with 1 Axes>"
      ]
     },
     "metadata": {
      "needs_background": "light"
     },
     "output_type": "display_data"
    }
   ],
   "source": [
    "plt.plot(np.arange(0, len(y_train)), y_train, 'g', label=\"history\")\n",
    "plt.plot(np.arange(len(y_train), len(y_train) + len(y_test)), y_test, marker='.', label=\"true\")\n",
    "plt.plot(np.arange(len(y_train), len(y_train) + len(y_test)), y_pred, 'r', label=\"prediction\")\n",
    "plt.ylabel('Value')\n",
    "plt.xlabel('Time Step')\n",
    "plt.legend()\n",
    "plt.show();"
   ]
  },
  {
   "cell_type": "code",
   "execution_count": 11,
   "id": "b4cef2d8",
   "metadata": {},
   "outputs": [
    {
     "data": {
      "text/plain": [
       "0.023933506656006177"
      ]
     },
     "execution_count": 11,
     "metadata": {},
     "output_type": "execute_result"
    }
   ],
   "source": [
    "mean_absolute_percentage_error(y_test,y_pred)"
   ]
  },
  {
   "cell_type": "code",
   "execution_count": 12,
   "id": "de4a9225",
   "metadata": {},
   "outputs": [
    {
     "data": {
      "text/plain": [
       "2.013288017593265"
      ]
     },
     "execution_count": 12,
     "metadata": {},
     "output_type": "execute_result"
    }
   ],
   "source": [
    "mean_squared_error(y_test,y_pred)"
   ]
  },
  {
   "cell_type": "code",
   "execution_count": 13,
   "id": "3f6a8435",
   "metadata": {},
   "outputs": [
    {
     "data": {
      "image/png": "[encoded data removed]",
      "text/plain": [
       "<Figure size 432x288 with 1 Axes>"
      ]
     },
     "metadata": {
      "needs_background": "light"
     },
     "output_type": "display_data"
    }
   ],
   "source": [
    "# y_test = sc.inverse_transform(y_test)\n",
    "# y_pred = sc.inverse_transform(y_pred)\n",
    "plt.plot(y_test, marker='.', label=\"true\")\n",
    "plt.plot(y_pred, 'r', label=\"prediction\")\n",
    "plt.ylabel('Value')\n",
    "plt.xlabel('Time Step')\n",
    "plt.title('HSI-RF-Scaling')\n",
    "plt.legend()\n",
    "plt.show()"
   ]
  },
  {
   "cell_type": "code",
   "execution_count": 14,
   "id": "4bd542cf",
   "metadata": {},
   "outputs": [
    {
     "data": {
      "text/plain": [
       "0.023933506656006177"
      ]
     },
     "execution_count": 14,
     "metadata": {},
     "output_type": "execute_result"
    }
   ],
   "source": [
    "mean_absolute_percentage_error(y_test,y_pred)"
   ]
  },
  {
   "cell_type": "code",
   "execution_count": 15,
   "id": "b8b6e45f",
   "metadata": {},
   "outputs": [
    {
     "data": {
      "text/plain": [
       "1.4189038084356758"
      ]
     },
     "execution_count": 15,
     "metadata": {},
     "output_type": "execute_result"
    }
   ],
   "source": [
    "mean_squared_error(y_test,y_pred,squared=False)"
   ]
  },
  {
   "cell_type": "code",
   "execution_count": 16,
   "id": "e6cd6938",
   "metadata": {},
   "outputs": [
    {
     "data": {
      "text/plain": [
       "0.7077465812305033"
      ]
     },
     "execution_count": 16,
     "metadata": {},
     "output_type": "execute_result"
    }
   ],
   "source": [
    "r2_score(y_test,y_pred)"
   ]
  },
  {
   "cell_type": "code",
   "execution_count": 17,
   "id": "29433fb9",
   "metadata": {},
   "outputs": [
    {
     "name": "stderr",
     "output_type": "stream",
     "text": [
      "/var/folders/8h/w0jn89bj2w5g85gj4ck7w0t00000gn/T/ipykernel_66604/2115332834.py:1: FutureWarning: In a future version of pandas all arguments of DataFrame.drop except for the argument 'labels' will be keyword-only.\n",
      "  x_val=data_val.drop('Prediction',1)\n",
      "/opt/homebrew/Caskroom/miniforge/base/envs/fyp_new/lib/python3.8/site-packages/sklearn/base.py:443: UserWarning: X has feature names, but RandomForestRegressor was fitted without feature names\n",
      "  warnings.warn(\n"
     ]
    }
   ],
   "source": [
    "x_val=data_val.drop('Prediction',1)\n",
    "y_val=data_val['Prediction']\n",
    "# x_val=x_val.reshape(x_val.shape[0],1,x_val.shape[1])\n",
    "# x_val=sc.transform(x_val).reshape(x_val.shape[0],1,x_val.shape[1])\n",
    "y_val_pred=clf.predict(x_val)\n",
    "# y_val_pred=sc_y.inverse_transform(y_val_pred)"
   ]
  },
  {
   "cell_type": "code",
   "execution_count": 18,
   "id": "24f057e8",
   "metadata": {},
   "outputs": [
    {
     "data": {
      "image/png": "[encoded data removed]",
      "text/plain": [
       "<Figure size 432x288 with 1 Axes>"
      ]
     },
     "metadata": {
      "needs_background": "light"
     },
     "output_type": "display_data"
    }
   ],
   "source": [
    "plt.plot(y_val.values, marker='.', label=\"true\")\n",
    "plt.plot(y_val_pred, 'r',label=\"prediction\")\n",
    "plt.ylabel('Value')\n",
    "plt.xlabel('Time Step')\n",
    "plt.title('0700-RF')\n",
    "plt.legend()\n",
    "plt.show()"
   ]
  },
  {
   "cell_type": "code",
   "execution_count": 19,
   "id": "e8166a87",
   "metadata": {},
   "outputs": [
    {
     "data": {
      "text/plain": [
       "0.031506299914348404"
      ]
     },
     "execution_count": 19,
     "metadata": {},
     "output_type": "execute_result"
    }
   ],
   "source": [
    "mean_absolute_percentage_error(y_val,y_val_pred)"
   ]
  },
  {
   "cell_type": "code",
   "execution_count": 20,
   "id": "6235c26a",
   "metadata": {},
   "outputs": [
    {
     "data": {
      "text/plain": [
       "1.8603360895048275"
      ]
     },
     "execution_count": 20,
     "metadata": {},
     "output_type": "execute_result"
    }
   ],
   "source": [
    "mean_squared_error(y_val,y_val_pred,squared=False)"
   ]
  },
  {
   "cell_type": "code",
   "execution_count": 21,
   "id": "61d1118e",
   "metadata": {},
   "outputs": [
    {
     "data": {
      "text/plain": [
       "0.8433044691388998"
      ]
     },
     "execution_count": 21,
     "metadata": {},
     "output_type": "execute_result"
    }
   ],
   "source": [
    "r2_score(y_val,y_val_pred)"
   ]
  },
  {
   "cell_type": "code",
   "execution_count": null,
   "id": "fb952c6b",
   "metadata": {},
   "outputs": [],
   "source": []
  },
  {
   "cell_type": "code",
   "execution_count": null,
   "id": "eccdfa44",
   "metadata": {},
   "outputs": [],
   "source": []
  },
  {
   "cell_type": "code",
   "execution_count": null,
   "id": "e3e57475",
   "metadata": {},
   "outputs": [],
   "source": []
  }
 ],
 "metadata": {
  "kernelspec": {
   "display_name": "Python 3 (ipykernel)",
   "language": "python",
   "name": "python3"
  },
  "language_info": {
   "codemirror_mode": {
    "name": "ipython",
    "version": 3
   },
   "file_extension": ".py",
   "mimetype": "text/x-python",
   "name": "python",
   "nbconvert_exporter": "python",
   "pygments_lexer": "ipython3",
   "version": "3.8.13"
  }
 },
 "nbformat": 4,
 "nbformat_minor": 5
}
