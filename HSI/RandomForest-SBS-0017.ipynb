{
 "cells": [
  {
   "cell_type": "code",
   "execution_count": 1,
   "id": "a2138cba",
   "metadata": {},
   "outputs": [],
   "source": [
    "import yfinance as yf\n",
    "import numpy as np\n",
    "import pandas as pd\n",
    "from sklearn.ensemble import RandomForestRegressor, RandomForestClassifier\n",
    "from sklearn.preprocessing import MinMaxScaler\n",
    "import matplotlib.pyplot as plt\n",
    "from sklearn.metrics import classification_report,accuracy_score, mean_squared_error,mean_absolute_percentage_error,r2_score\n",
    "import talib\n",
    "from sklearn.model_selection import train_test_split"
   ]
  },
  {
   "cell_type": "code",
   "execution_count": 2,
   "id": "316ed5eb",
   "metadata": {},
   "outputs": [
    {
     "name": "stdout",
     "output_type": "stream",
     "text": [
      "[*********************100%***********************]  1 of 1 completed\n"
     ]
    },
    {
     "data": {
      "text/html": [
       "<div>\n",
       "<style scoped>\n",
       "    .dataframe tbody tr th:only-of-type {\n",
       "        vertical-align: middle;\n",
       "    }\n",
       "\n",
       "    .dataframe tbody tr th {\n",
       "        vertical-align: top;\n",
       "    }\n",
       "\n",
       "    .dataframe thead th {\n",
       "        text-align: right;\n",
       "    }\n",
       "</style>\n",
       "<table border=\"1\" class=\"dataframe\">\n",
       "  <thead>\n",
       "    <tr style=\"text-align: right;\">\n",
       "      <th></th>\n",
       "      <th>Open</th>\n",
       "      <th>High</th>\n",
       "      <th>Low</th>\n",
       "      <th>Close</th>\n",
       "      <th>Adj Close</th>\n",
       "      <th>Volume</th>\n",
       "    </tr>\n",
       "    <tr>\n",
       "      <th>Date</th>\n",
       "      <th></th>\n",
       "      <th></th>\n",
       "      <th></th>\n",
       "      <th></th>\n",
       "      <th></th>\n",
       "      <th></th>\n",
       "    </tr>\n",
       "  </thead>\n",
       "  <tbody>\n",
       "    <tr>\n",
       "      <th>2018-01-02</th>\n",
       "      <td>47.119999</td>\n",
       "      <td>47.759998</td>\n",
       "      <td>46.320000</td>\n",
       "      <td>47.439999</td>\n",
       "      <td>38.060638</td>\n",
       "      <td>5099488</td>\n",
       "    </tr>\n",
       "    <tr>\n",
       "      <th>2018-01-03</th>\n",
       "      <td>47.360001</td>\n",
       "      <td>47.680000</td>\n",
       "      <td>47.040001</td>\n",
       "      <td>47.439999</td>\n",
       "      <td>38.060638</td>\n",
       "      <td>3323916</td>\n",
       "    </tr>\n",
       "    <tr>\n",
       "      <th>2018-01-04</th>\n",
       "      <td>47.599998</td>\n",
       "      <td>47.919998</td>\n",
       "      <td>47.360001</td>\n",
       "      <td>47.919998</td>\n",
       "      <td>38.445732</td>\n",
       "      <td>3611376</td>\n",
       "    </tr>\n",
       "    <tr>\n",
       "      <th>2018-01-05</th>\n",
       "      <td>47.919998</td>\n",
       "      <td>50.560001</td>\n",
       "      <td>47.840000</td>\n",
       "      <td>49.599998</td>\n",
       "      <td>39.793587</td>\n",
       "      <td>11946129</td>\n",
       "    </tr>\n",
       "    <tr>\n",
       "      <th>2018-01-08</th>\n",
       "      <td>49.360001</td>\n",
       "      <td>50.000000</td>\n",
       "      <td>48.799999</td>\n",
       "      <td>49.279999</td>\n",
       "      <td>39.536850</td>\n",
       "      <td>5084424</td>\n",
       "    </tr>\n",
       "    <tr>\n",
       "      <th>...</th>\n",
       "      <td>...</td>\n",
       "      <td>...</td>\n",
       "      <td>...</td>\n",
       "      <td>...</td>\n",
       "      <td>...</td>\n",
       "      <td>...</td>\n",
       "    </tr>\n",
       "    <tr>\n",
       "      <th>2022-04-01</th>\n",
       "      <td>31.850000</td>\n",
       "      <td>32.200001</td>\n",
       "      <td>31.500000</td>\n",
       "      <td>32.150002</td>\n",
       "      <td>32.150002</td>\n",
       "      <td>2053614</td>\n",
       "    </tr>\n",
       "    <tr>\n",
       "      <th>2022-04-04</th>\n",
       "      <td>32.150002</td>\n",
       "      <td>32.400002</td>\n",
       "      <td>31.700001</td>\n",
       "      <td>32.400002</td>\n",
       "      <td>32.400002</td>\n",
       "      <td>1631328</td>\n",
       "    </tr>\n",
       "    <tr>\n",
       "      <th>2022-04-06</th>\n",
       "      <td>32.450001</td>\n",
       "      <td>32.450001</td>\n",
       "      <td>31.900000</td>\n",
       "      <td>32.299999</td>\n",
       "      <td>32.299999</td>\n",
       "      <td>3053935</td>\n",
       "    </tr>\n",
       "    <tr>\n",
       "      <th>2022-04-07</th>\n",
       "      <td>32.250000</td>\n",
       "      <td>32.250000</td>\n",
       "      <td>31.400000</td>\n",
       "      <td>31.850000</td>\n",
       "      <td>31.850000</td>\n",
       "      <td>3281131</td>\n",
       "    </tr>\n",
       "    <tr>\n",
       "      <th>2022-04-08</th>\n",
       "      <td>31.950001</td>\n",
       "      <td>32.200001</td>\n",
       "      <td>31.600000</td>\n",
       "      <td>31.950001</td>\n",
       "      <td>31.950001</td>\n",
       "      <td>1828874</td>\n",
       "    </tr>\n",
       "  </tbody>\n",
       "</table>\n",
       "<p>1053 rows × 6 columns</p>\n",
       "</div>"
      ],
      "text/plain": [
       "                 Open       High        Low      Close  Adj Close    Volume\n",
       "Date                                                                       \n",
       "2018-01-02  47.119999  47.759998  46.320000  47.439999  38.060638   5099488\n",
       "2018-01-03  47.360001  47.680000  47.040001  47.439999  38.060638   3323916\n",
       "2018-01-04  47.599998  47.919998  47.360001  47.919998  38.445732   3611376\n",
       "2018-01-05  47.919998  50.560001  47.840000  49.599998  39.793587  11946129\n",
       "2018-01-08  49.360001  50.000000  48.799999  49.279999  39.536850   5084424\n",
       "...               ...        ...        ...        ...        ...       ...\n",
       "2022-04-01  31.850000  32.200001  31.500000  32.150002  32.150002   2053614\n",
       "2022-04-04  32.150002  32.400002  31.700001  32.400002  32.400002   1631328\n",
       "2022-04-06  32.450001  32.450001  31.900000  32.299999  32.299999   3053935\n",
       "2022-04-07  32.250000  32.250000  31.400000  31.850000  31.850000   3281131\n",
       "2022-04-08  31.950001  32.200001  31.600000  31.950001  31.950001   1828874\n",
       "\n",
       "[1053 rows x 6 columns]"
      ]
     },
     "execution_count": 2,
     "metadata": {},
     "output_type": "execute_result"
    }
   ],
   "source": [
    "data=yf.download('0017.hk','2018-01-01','2022-04-09')\n",
    "# data.drop('Volume',1,inplace=True)\n",
    "data"
   ]
  },
  {
   "cell_type": "code",
   "execution_count": 3,
   "id": "54833d4f",
   "metadata": {},
   "outputs": [],
   "source": [
    "data['6day MA'] = data['Close'].rolling(window = 6).mean()\n",
    "data['12day MA'] = data['Close'].rolling(window = 12).mean()\n",
    "data['RSI'] = talib.RSI(data['Close'].values, timeperiod = 7)\n",
    "data['%R5'] = talib.WILLR(data['High'].values, data['Low'].values, data['Close'].values, 5)\n",
    "data['%R10'] = talib.WILLR(data['High'].values, data['Low'].values, data['Close'].values, 10)\n",
    "data['MI6']=talib.MOM(data['Close'],timeperiod=6)\n",
    "data['MI12']=talib.MOM(data['Close'],timeperiod=12)\n",
    "macd, macdsignal, macdhist = talib.MACD(data['Close'], fastperiod=12, slowperiod=26, signalperiod=9)\n",
    "data['EMA12']=talib.EMA(data['Close'], timeperiod=12)\n",
    "data['EMA26']=talib.EMA(data['Close'],timeperiod=26)\n",
    "data['MACD']=macd\n",
    "data['TR']=talib.TRANGE(data['High'],data['Low'],data['Close'])\n",
    "data['OSC6']=talib.CMO(data['Close'], timeperiod=6)\n",
    "data['OSC12']=talib.CMO(data['Close'], timeperiod=12)\n",
    "data['Prediction']=data['Close'].shift(-1)\n",
    "data.dropna(inplace=True)\n",
    "target=data['Prediction']"
   ]
  },
  {
   "cell_type": "code",
   "execution_count": 4,
   "id": "f1a3a53f",
   "metadata": {},
   "outputs": [
    {
     "name": "stderr",
     "output_type": "stream",
     "text": [
      "/var/folders/8h/w0jn89bj2w5g85gj4ck7w0t00000gn/T/ipykernel_69448/2118434002.py:11: FutureWarning: In a future version of pandas all arguments of DataFrame.drop except for the argument 'labels' will be keyword-only.\n",
      "  backwardModel.fit(np.array(data.drop('Prediction',1)),target.values)\n",
      "[Parallel(n_jobs=-1)]: Using backend LokyBackend with 8 concurrent workers.\n",
      "[Parallel(n_jobs=-1)]: Done  14 out of  19 | elapsed:    6.2s remaining:    2.2s\n",
      "[Parallel(n_jobs=-1)]: Done  19 out of  19 | elapsed:    8.1s finished\n",
      "\n",
      "[2022-04-13 19:50:42] Features: 18/10 -- score: 0.8484788578216907[Parallel(n_jobs=-1)]: Using backend LokyBackend with 8 concurrent workers.\n",
      "[Parallel(n_jobs=-1)]: Done  13 out of  18 | elapsed:    4.9s remaining:    1.9s\n",
      "[Parallel(n_jobs=-1)]: Done  18 out of  18 | elapsed:    6.6s finished\n",
      "\n",
      "[2022-04-13 19:50:49] Features: 17/10 -- score: 0.8549360957799331[Parallel(n_jobs=-1)]: Using backend LokyBackend with 8 concurrent workers.\n",
      "[Parallel(n_jobs=-1)]: Done  11 out of  17 | elapsed:    4.5s remaining:    2.4s\n",
      "[Parallel(n_jobs=-1)]: Done  17 out of  17 | elapsed:    6.2s finished\n",
      "\n",
      "[2022-04-13 19:50:55] Features: 16/10 -- score: 0.8556230098691465[Parallel(n_jobs=-1)]: Using backend LokyBackend with 8 concurrent workers.\n",
      "[Parallel(n_jobs=-1)]: Done  10 out of  16 | elapsed:    4.1s remaining:    2.5s\n",
      "[Parallel(n_jobs=-1)]: Done  16 out of  16 | elapsed:    4.3s finished\n",
      "\n",
      "[2022-04-13 19:50:59] Features: 15/10 -- score: 0.8581599029374705[Parallel(n_jobs=-1)]: Using backend LokyBackend with 8 concurrent workers.\n",
      "[Parallel(n_jobs=-1)]: Done   8 out of  15 | elapsed:    2.0s remaining:    1.8s\n",
      "[Parallel(n_jobs=-1)]: Done  15 out of  15 | elapsed:    3.9s finished\n",
      "\n",
      "[2022-04-13 19:51:03] Features: 14/10 -- score: 0.8579374667898787[Parallel(n_jobs=-1)]: Using backend LokyBackend with 8 concurrent workers.\n",
      "[Parallel(n_jobs=-1)]: Done   7 out of  14 | elapsed:    1.9s remaining:    1.9s\n",
      "[Parallel(n_jobs=-1)]: Done  14 out of  14 | elapsed:    3.5s finished\n",
      "\n",
      "[2022-04-13 19:51:07] Features: 13/10 -- score: 0.8636445803978404[Parallel(n_jobs=-1)]: Using backend LokyBackend with 8 concurrent workers.\n",
      "[Parallel(n_jobs=-1)]: Done   5 out of  13 | elapsed:    1.8s remaining:    2.8s\n",
      "[Parallel(n_jobs=-1)]: Done  13 out of  13 | elapsed:    3.2s finished\n",
      "\n",
      "[2022-04-13 19:51:10] Features: 12/10 -- score: 0.8686395284554997[Parallel(n_jobs=-1)]: Using backend LokyBackend with 8 concurrent workers.\n",
      "[Parallel(n_jobs=-1)]: Done   4 out of  12 | elapsed:    1.7s remaining:    3.3s\n",
      "[Parallel(n_jobs=-1)]: Done  12 out of  12 | elapsed:    3.0s finished\n",
      "\n",
      "[2022-04-13 19:51:13] Features: 11/10 -- score: 0.8675374818340102[Parallel(n_jobs=-1)]: Using backend LokyBackend with 8 concurrent workers.\n",
      "[Parallel(n_jobs=-1)]: Done   2 out of  11 | elapsed:    1.4s remaining:    6.5s\n",
      "[Parallel(n_jobs=-1)]: Done   8 out of  11 | elapsed:    1.5s remaining:    0.6s\n",
      "[Parallel(n_jobs=-1)]: Done  11 out of  11 | elapsed:    2.7s finished\n",
      "\n",
      "[2022-04-13 19:51:15] Features: 10/10 -- score: 0.870588480640549"
     ]
    },
    {
     "data": {
      "text/plain": [
       "SequentialFeatureSelector(estimator=RandomForestRegressor(), forward=False,\n",
       "                          k_features=10, n_jobs=-1, scoring='r2', verbose=2)"
      ]
     },
     "execution_count": 4,
     "metadata": {},
     "output_type": "execute_result"
    }
   ],
   "source": [
    "from mlxtend.feature_selection import SequentialFeatureSelector as sfs\n",
    "from sklearn.ensemble import RandomForestRegressor\n",
    "#k_features=10 (It will get top 10 features best suited for prediction)\n",
    "#forward=False (Backward feature selection model)\n",
    "#verbose=2 (It will show details output as shown below.)\n",
    "#cv=5 (Kfold cross valiation: it will split the training set in 5 set and 4 will be using for training the model and 1 will using as validation)\n",
    "#n_jobs=-1 (Number of cores it will use for execution.-1 means it will use all the cores of CPU for execution.)\n",
    "#scoring='r2'(R-squared is a statistical measure of how close the data are to the fitted regression line)\n",
    "backwardModel=sfs(RandomForestRegressor(),k_features=10,forward=False,verbose=2,cv=5,n_jobs=-1,scoring='r2')\n",
    "#We will convert our training data into numpy array. If we will not convert it, model is not able to read some of the column names.\n",
    "backwardModel.fit(np.array(data.drop('Prediction',1)),target.values)"
   ]
  },
  {
   "cell_type": "code",
   "execution_count": 5,
   "id": "76dc1a7d",
   "metadata": {},
   "outputs": [
    {
     "name": "stdout",
     "output_type": "stream",
     "text": [
      "(735, 10) (735,) (184, 10) (184,)\n"
     ]
    },
    {
     "name": "stderr",
     "output_type": "stream",
     "text": [
      "/var/folders/8h/w0jn89bj2w5g85gj4ck7w0t00000gn/T/ipykernel_69448/1151953013.py:3: SettingWithCopyWarning: \n",
      "A value is trying to be set on a copy of a slice from a DataFrame.\n",
      "Try using .loc[row_indexer,col_indexer] = value instead\n",
      "\n",
      "See the caveats in the documentation: https://pandas.pydata.org/pandas-docs/stable/user_guide/indexing.html#returning-a-view-versus-a-copy\n",
      "  data['Prediction']=target\n",
      "/var/folders/8h/w0jn89bj2w5g85gj4ck7w0t00000gn/T/ipykernel_69448/1151953013.py:8: FutureWarning: In a future version of pandas all arguments of DataFrame.drop except for the argument 'labels' will be keyword-only.\n",
      "  X=data.drop('Prediction',1).values\n"
     ]
    }
   ],
   "source": [
    "# data.drop(['OSC12','OSC6','MI12','MI6','%R10','%R5','RSI','TR'],1,inplace=True)\n",
    "data=data[data.columns[list(backwardModel.k_feature_idx_)]]\n",
    "data['Prediction']=target\n",
    "data_val=data[-100:]\n",
    "data=data[:-100]\n",
    "sc = MinMaxScaler(feature_range = (-1, 1))\n",
    "# X=sc.fit_transform(data.drop('Prediction',1))\n",
    "X=data.drop('Prediction',1).values\n",
    "# Y = data[\"Prediction\"].values.reshape(-1,1)\n",
    "# Y = sc_y.fit_transform(data[\"Prediction\"].values.reshape(-1,1))\n",
    "Y=np.array(data[\"Prediction\"])\n",
    "X_train, X_test, y_train, y_test = train_test_split(X, Y, test_size=0.2,shuffle=False)\n",
    "# X_train = X_train.reshape((X_train.shape[0], 1, X_train.shape[1]))\n",
    "# X_test = X_test.reshape((X_test.shape[0], 1, X_test.shape[1]))\n",
    "print(X_train.shape,y_train.shape,X_test.shape,y_test.shape)"
   ]
  },
  {
   "cell_type": "code",
   "execution_count": 6,
   "id": "46bc37e9",
   "metadata": {},
   "outputs": [],
   "source": [
    "clf = RandomForestRegressor()"
   ]
  },
  {
   "cell_type": "code",
   "execution_count": 7,
   "id": "936742f1",
   "metadata": {},
   "outputs": [],
   "source": [
    "model = clf.fit(X_train, y_train)"
   ]
  },
  {
   "cell_type": "code",
   "execution_count": 8,
   "id": "518dad18",
   "metadata": {},
   "outputs": [],
   "source": [
    "y_pred=model.predict(X_test)"
   ]
  },
  {
   "cell_type": "code",
   "execution_count": 9,
   "id": "4b7ae360",
   "metadata": {},
   "outputs": [
    {
     "data": {
      "text/plain": [
       "array([35.11710037, 37.4773999 , 36.98410015, 37.09080009, 37.14920029,\n",
       "       38.86939949, 40.36520008, 40.13690014, 40.43629944, 39.54520004,\n",
       "       39.1904998 , 37.84030006, 38.17830029, 38.35939987, 39.47339962,\n",
       "       39.8064003 , 40.08009995, 40.23430004, 40.02729958, 40.09609989,\n",
       "       40.03859962, 40.69890007, 39.64259979, 39.69720009, 39.73509995,\n",
       "       40.57990013, 39.20679977, 37.27869953, 38.07020023, 37.91930027,\n",
       "       38.80830006, 40.20540005, 40.12099953, 40.1901997 , 40.75460014,\n",
       "       40.23189968, 40.44409962, 40.8906004 , 40.66299984, 42.58240021,\n",
       "       42.55920033, 42.06560013, 42.56080055, 42.53440022, 42.04959995,\n",
       "       42.21600025, 41.8168    , 41.48640034, 41.62600018, 41.75079987,\n",
       "       41.7727998 , 41.61520016, 40.47210007, 40.27189941, 40.79670013,\n",
       "       41.36880062, 41.59519955, 42.5400005 , 41.43620014, 41.23230061,\n",
       "       40.35800014, 40.30749947, 40.35289993, 41.54630039, 41.44070057,\n",
       "       40.90520031, 40.71430004, 41.6492004 , 42.16160019, 41.60559959,\n",
       "       42.13920002, 41.59680008, 41.69759983, 41.82160011, 41.58360004,\n",
       "       40.39669975, 41.49119984, 41.76079964, 41.69440002, 42.16480045,\n",
       "       42.27119999, 41.68780045, 40.47399994, 40.11729946, 40.29209972,\n",
       "       40.35699978, 40.81440041, 40.55900066, 40.93900043, 40.87050014,\n",
       "       40.75660015, 40.47629978, 40.42199955, 40.10799992, 40.18699986,\n",
       "       40.48519989, 40.07980007, 37.94359997, 37.5034996 , 37.46369942,\n",
       "       36.95390003, 36.88860012, 37.35020004, 37.14629982, 36.96799999,\n",
       "       36.95439983, 37.0379002 , 37.52949997, 37.78970028, 37.26849987,\n",
       "       37.50850021, 36.97880024, 37.05489998, 36.89039986, 37.07670025,\n",
       "       36.99890007, 37.30630035, 37.01839989, 36.87120014, 37.4312001 ,\n",
       "       37.22410015, 37.09220039, 37.41780029, 37.41150021, 37.54010002,\n",
       "       37.76119999, 37.61370022, 37.15780033, 37.12739998, 37.03260036,\n",
       "       37.05960022, 37.06730034, 36.94929993, 37.04160027, 36.88229965,\n",
       "       36.63159969, 36.33469986, 36.5333997 , 36.42339916, 36.50979969,\n",
       "       35.57069996, 35.5507003 , 35.62399998, 36.3027998 , 36.51499943,\n",
       "       35.12030014, 35.03970102, 34.40630064, 34.01290081, 31.75280022,\n",
       "       31.82240013, 31.89120014, 32.52200012, 32.67720011, 32.6852001 ,\n",
       "       33.05000027, 32.99760023, 33.33560028, 33.36080006, 33.9894001 ,\n",
       "       34.44720028, 34.87140007, 34.45649982, 34.48679995, 34.75399979,\n",
       "       33.3300001 , 33.98319998, 34.34560011, 34.75119999, 35.35000027,\n",
       "       35.33160004, 34.79599993, 35.13039999, 34.76199995, 34.73799982,\n",
       "       34.55159998, 34.59399992, 34.36240002, 34.43639999, 34.38960007,\n",
       "       35.1644002 , 34.81239992, 35.17920004, 35.30000029])"
      ]
     },
     "execution_count": 9,
     "metadata": {},
     "output_type": "execute_result"
    }
   ],
   "source": [
    "y_pred"
   ]
  },
  {
   "cell_type": "code",
   "execution_count": 10,
   "id": "494837c5",
   "metadata": {},
   "outputs": [
    {
     "data": {
      "image/png": "[encoded data removed]",
      "text/plain": [
       "<Figure size 432x288 with 1 Axes>"
      ]
     },
     "metadata": {
      "needs_background": "light"
     },
     "output_type": "display_data"
    }
   ],
   "source": [
    "plt.plot(np.arange(0, len(y_train)), y_train, 'g', label=\"history\")\n",
    "plt.plot(np.arange(len(y_train), len(y_train) + len(y_test)), y_test, marker='.', label=\"true\")\n",
    "plt.plot(np.arange(len(y_train), len(y_train) + len(y_test)), y_pred, 'r', label=\"prediction\")\n",
    "plt.ylabel('Value')\n",
    "plt.xlabel('Time Step')\n",
    "plt.legend()\n",
    "plt.show();"
   ]
  },
  {
   "cell_type": "code",
   "execution_count": 11,
   "id": "b4cef2d8",
   "metadata": {},
   "outputs": [
    {
     "data": {
      "text/plain": [
       "0.014766931465132428"
      ]
     },
     "execution_count": 11,
     "metadata": {},
     "output_type": "execute_result"
    }
   ],
   "source": [
    "mean_absolute_percentage_error(y_test,y_pred)"
   ]
  },
  {
   "cell_type": "code",
   "execution_count": 12,
   "id": "de4a9225",
   "metadata": {},
   "outputs": [
    {
     "data": {
      "text/plain": [
       "0.5608405741475807"
      ]
     },
     "execution_count": 12,
     "metadata": {},
     "output_type": "execute_result"
    }
   ],
   "source": [
    "mean_squared_error(y_test,y_pred)"
   ]
  },
  {
   "cell_type": "code",
   "execution_count": 13,
   "id": "3f6a8435",
   "metadata": {},
   "outputs": [
    {
     "data": {
      "image/png": "[encoded data removed]",
      "text/plain": [
       "<Figure size 432x288 with 1 Axes>"
      ]
     },
     "metadata": {
      "needs_background": "light"
     },
     "output_type": "display_data"
    }
   ],
   "source": [
    "# y_test = sc.inverse_transform(y_test)\n",
    "# y_pred = sc.inverse_transform(y_pred)\n",
    "plt.plot(y_test, marker='.', label=\"true\")\n",
    "plt.plot(y_pred, 'r', label=\"prediction\")\n",
    "plt.ylabel('Value')\n",
    "plt.xlabel('Time Step')\n",
    "plt.title('HSI-RF-Scaling')\n",
    "plt.legend()\n",
    "plt.show()"
   ]
  },
  {
   "cell_type": "code",
   "execution_count": 14,
   "id": "4bd542cf",
   "metadata": {},
   "outputs": [
    {
     "data": {
      "text/plain": [
       "0.014766931465132428"
      ]
     },
     "execution_count": 14,
     "metadata": {},
     "output_type": "execute_result"
    }
   ],
   "source": [
    "mean_absolute_percentage_error(y_test,y_pred)"
   ]
  },
  {
   "cell_type": "code",
   "execution_count": 15,
   "id": "b8b6e45f",
   "metadata": {},
   "outputs": [
    {
     "data": {
      "text/plain": [
       "0.7488928989832797"
      ]
     },
     "execution_count": 15,
     "metadata": {},
     "output_type": "execute_result"
    }
   ],
   "source": [
    "mean_squared_error(y_test,y_pred,squared=False)"
   ]
  },
  {
   "cell_type": "code",
   "execution_count": 16,
   "id": "e6cd6938",
   "metadata": {},
   "outputs": [
    {
     "data": {
      "text/plain": [
       "0.9426230741669394"
      ]
     },
     "execution_count": 16,
     "metadata": {},
     "output_type": "execute_result"
    }
   ],
   "source": [
    "r2_score(y_test,y_pred)"
   ]
  },
  {
   "cell_type": "code",
   "execution_count": 17,
   "id": "29433fb9",
   "metadata": {},
   "outputs": [
    {
     "name": "stderr",
     "output_type": "stream",
     "text": [
      "/var/folders/8h/w0jn89bj2w5g85gj4ck7w0t00000gn/T/ipykernel_69448/2115332834.py:1: FutureWarning: In a future version of pandas all arguments of DataFrame.drop except for the argument 'labels' will be keyword-only.\n",
      "  x_val=data_val.drop('Prediction',1)\n",
      "/opt/homebrew/Caskroom/miniforge/base/envs/fyp_new/lib/python3.8/site-packages/sklearn/base.py:443: UserWarning: X has feature names, but RandomForestRegressor was fitted without feature names\n",
      "  warnings.warn(\n"
     ]
    }
   ],
   "source": [
    "x_val=data_val.drop('Prediction',1)\n",
    "y_val=data_val['Prediction']\n",
    "# x_val=x_val.reshape(x_val.shape[0],1,x_val.shape[1])\n",
    "# x_val=sc.transform(x_val).reshape(x_val.shape[0],1,x_val.shape[1])\n",
    "y_val_pred=clf.predict(x_val)\n",
    "# y_val_pred=sc_y.inverse_transform(y_val_pred)"
   ]
  },
  {
   "cell_type": "code",
   "execution_count": 18,
   "id": "24f057e8",
   "metadata": {},
   "outputs": [
    {
     "data": {
      "image/png": "[encoded data removed]",
      "text/plain": [
       "<Figure size 432x288 with 1 Axes>"
      ]
     },
     "metadata": {
      "needs_background": "light"
     },
     "output_type": "display_data"
    }
   ],
   "source": [
    "plt.plot(y_val.values, marker='.', label=\"true\")\n",
    "plt.plot(y_val_pred, 'r',label=\"prediction\")\n",
    "plt.ylabel('Value')\n",
    "plt.xlabel('Time Step')\n",
    "plt.title('0700-RF')\n",
    "plt.legend()\n",
    "plt.show()"
   ]
  },
  {
   "cell_type": "code",
   "execution_count": 19,
   "id": "e8166a87",
   "metadata": {},
   "outputs": [
    {
     "data": {
      "text/plain": [
       "0.0564569519531092"
      ]
     },
     "execution_count": 19,
     "metadata": {},
     "output_type": "execute_result"
    }
   ],
   "source": [
    "mean_absolute_percentage_error(y_val,y_val_pred)"
   ]
  },
  {
   "cell_type": "code",
   "execution_count": 20,
   "id": "6235c26a",
   "metadata": {},
   "outputs": [
    {
     "data": {
      "text/plain": [
       "1.948075239550271"
      ]
     },
     "execution_count": 20,
     "metadata": {},
     "output_type": "execute_result"
    }
   ],
   "source": [
    "mean_squared_error(y_val,y_val_pred,squared=False)"
   ]
  },
  {
   "cell_type": "code",
   "execution_count": 21,
   "id": "61d1118e",
   "metadata": {},
   "outputs": [
    {
     "data": {
      "text/plain": [
       "-1.0832259517065568"
      ]
     },
     "execution_count": 21,
     "metadata": {},
     "output_type": "execute_result"
    }
   ],
   "source": [
    "r2_score(y_val,y_val_pred)"
   ]
  },
  {
   "cell_type": "code",
   "execution_count": null,
   "id": "fb952c6b",
   "metadata": {},
   "outputs": [],
   "source": []
  },
  {
   "cell_type": "code",
   "execution_count": null,
   "id": "eccdfa44",
   "metadata": {},
   "outputs": [],
   "source": []
  },
  {
   "cell_type": "code",
   "execution_count": null,
   "id": "e3e57475",
   "metadata": {},
   "outputs": [],
   "source": []
  }
 ],
 "metadata": {
  "kernelspec": {
   "display_name": "Python 3 (ipykernel)",
   "language": "python",
   "name": "python3"
  },
  "language_info": {
   "codemirror_mode": {
    "name": "ipython",
    "version": 3
   },
   "file_extension": ".py",
   "mimetype": "text/x-python",
   "name": "python",
   "nbconvert_exporter": "python",
   "pygments_lexer": "ipython3",
   "version": "3.9.9"
  }
 },
 "nbformat": 4,
 "nbformat_minor": 5
}
