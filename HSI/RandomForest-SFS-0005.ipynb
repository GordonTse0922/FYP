{
 "cells": [
  {
   "cell_type": "code",
   "execution_count": 1,
   "id": "a2138cba",
   "metadata": {},
   "outputs": [],
   "source": [
    "import yfinance as yf\n",
    "import numpy as np\n",
    "import pandas as pd\n",
    "from sklearn.ensemble import RandomForestRegressor, RandomForestClassifier\n",
    "from sklearn.preprocessing import MinMaxScaler\n",
    "import matplotlib.pyplot as plt\n",
    "from sklearn.metrics import classification_report,accuracy_score, mean_squared_error,mean_absolute_percentage_error,r2_score\n",
    "import talib\n",
    "from sklearn.model_selection import train_test_split"
   ]
  },
  {
   "cell_type": "code",
   "execution_count": 2,
   "id": "316ed5eb",
   "metadata": {},
   "outputs": [
    {
     "name": "stdout",
     "output_type": "stream",
     "text": [
      "[*********************100%***********************]  1 of 1 completed\n"
     ]
    },
    {
     "data": {
      "text/html": [
       "<div>\n",
       "<style scoped>\n",
       "    .dataframe tbody tr th:only-of-type {\n",
       "        vertical-align: middle;\n",
       "    }\n",
       "\n",
       "    .dataframe tbody tr th {\n",
       "        vertical-align: top;\n",
       "    }\n",
       "\n",
       "    .dataframe thead th {\n",
       "        text-align: right;\n",
       "    }\n",
       "</style>\n",
       "<table border=\"1\" class=\"dataframe\">\n",
       "  <thead>\n",
       "    <tr style=\"text-align: right;\">\n",
       "      <th></th>\n",
       "      <th>Open</th>\n",
       "      <th>High</th>\n",
       "      <th>Low</th>\n",
       "      <th>Close</th>\n",
       "      <th>Adj Close</th>\n",
       "      <th>Volume</th>\n",
       "    </tr>\n",
       "    <tr>\n",
       "      <th>Date</th>\n",
       "      <th></th>\n",
       "      <th></th>\n",
       "      <th></th>\n",
       "      <th></th>\n",
       "      <th></th>\n",
       "      <th></th>\n",
       "    </tr>\n",
       "  </thead>\n",
       "  <tbody>\n",
       "    <tr>\n",
       "      <th>2018-01-02</th>\n",
       "      <td>80.550003</td>\n",
       "      <td>81.300003</td>\n",
       "      <td>80.449997</td>\n",
       "      <td>81.300003</td>\n",
       "      <td>69.135620</td>\n",
       "      <td>37060582</td>\n",
       "    </tr>\n",
       "    <tr>\n",
       "      <th>2018-01-03</th>\n",
       "      <td>81.300003</td>\n",
       "      <td>81.449997</td>\n",
       "      <td>80.800003</td>\n",
       "      <td>80.949997</td>\n",
       "      <td>68.837982</td>\n",
       "      <td>21680762</td>\n",
       "    </tr>\n",
       "    <tr>\n",
       "      <th>2018-01-04</th>\n",
       "      <td>80.900002</td>\n",
       "      <td>81.050003</td>\n",
       "      <td>80.349998</td>\n",
       "      <td>80.500000</td>\n",
       "      <td>68.455315</td>\n",
       "      <td>17205111</td>\n",
       "    </tr>\n",
       "    <tr>\n",
       "      <th>2018-01-05</th>\n",
       "      <td>81.050003</td>\n",
       "      <td>81.199997</td>\n",
       "      <td>80.599998</td>\n",
       "      <td>80.800003</td>\n",
       "      <td>68.710426</td>\n",
       "      <td>15902273</td>\n",
       "    </tr>\n",
       "    <tr>\n",
       "      <th>2018-01-08</th>\n",
       "      <td>80.500000</td>\n",
       "      <td>80.800003</td>\n",
       "      <td>80.050003</td>\n",
       "      <td>80.500000</td>\n",
       "      <td>68.455315</td>\n",
       "      <td>21354440</td>\n",
       "    </tr>\n",
       "    <tr>\n",
       "      <th>...</th>\n",
       "      <td>...</td>\n",
       "      <td>...</td>\n",
       "      <td>...</td>\n",
       "      <td>...</td>\n",
       "      <td>...</td>\n",
       "      <td>...</td>\n",
       "    </tr>\n",
       "    <tr>\n",
       "      <th>2022-04-01</th>\n",
       "      <td>53.700001</td>\n",
       "      <td>54.349998</td>\n",
       "      <td>53.400002</td>\n",
       "      <td>54.349998</td>\n",
       "      <td>54.349998</td>\n",
       "      <td>8177523</td>\n",
       "    </tr>\n",
       "    <tr>\n",
       "      <th>2022-04-04</th>\n",
       "      <td>54.299999</td>\n",
       "      <td>54.349998</td>\n",
       "      <td>53.799999</td>\n",
       "      <td>54.049999</td>\n",
       "      <td>54.049999</td>\n",
       "      <td>10779509</td>\n",
       "    </tr>\n",
       "    <tr>\n",
       "      <th>2022-04-06</th>\n",
       "      <td>53.900002</td>\n",
       "      <td>54.049999</td>\n",
       "      <td>53.150002</td>\n",
       "      <td>53.700001</td>\n",
       "      <td>53.700001</td>\n",
       "      <td>17097274</td>\n",
       "    </tr>\n",
       "    <tr>\n",
       "      <th>2022-04-07</th>\n",
       "      <td>53.299999</td>\n",
       "      <td>53.799999</td>\n",
       "      <td>53.299999</td>\n",
       "      <td>53.450001</td>\n",
       "      <td>53.450001</td>\n",
       "      <td>11573734</td>\n",
       "    </tr>\n",
       "    <tr>\n",
       "      <th>2022-04-08</th>\n",
       "      <td>53.500000</td>\n",
       "      <td>53.950001</td>\n",
       "      <td>53.400002</td>\n",
       "      <td>53.950001</td>\n",
       "      <td>53.950001</td>\n",
       "      <td>10357713</td>\n",
       "    </tr>\n",
       "  </tbody>\n",
       "</table>\n",
       "<p>1053 rows × 6 columns</p>\n",
       "</div>"
      ],
      "text/plain": [
       "                 Open       High        Low      Close  Adj Close    Volume\n",
       "Date                                                                       \n",
       "2018-01-02  80.550003  81.300003  80.449997  81.300003  69.135620  37060582\n",
       "2018-01-03  81.300003  81.449997  80.800003  80.949997  68.837982  21680762\n",
       "2018-01-04  80.900002  81.050003  80.349998  80.500000  68.455315  17205111\n",
       "2018-01-05  81.050003  81.199997  80.599998  80.800003  68.710426  15902273\n",
       "2018-01-08  80.500000  80.800003  80.050003  80.500000  68.455315  21354440\n",
       "...               ...        ...        ...        ...        ...       ...\n",
       "2022-04-01  53.700001  54.349998  53.400002  54.349998  54.349998   8177523\n",
       "2022-04-04  54.299999  54.349998  53.799999  54.049999  54.049999  10779509\n",
       "2022-04-06  53.900002  54.049999  53.150002  53.700001  53.700001  17097274\n",
       "2022-04-07  53.299999  53.799999  53.299999  53.450001  53.450001  11573734\n",
       "2022-04-08  53.500000  53.950001  53.400002  53.950001  53.950001  10357713\n",
       "\n",
       "[1053 rows x 6 columns]"
      ]
     },
     "execution_count": 2,
     "metadata": {},
     "output_type": "execute_result"
    }
   ],
   "source": [
    "data=yf.download('0005.hk','2018-01-01','2022-04-09')\n",
    "# data.drop('Volume',1,inplace=True)\n",
    "data"
   ]
  },
  {
   "cell_type": "code",
   "execution_count": 3,
   "id": "54833d4f",
   "metadata": {},
   "outputs": [],
   "source": [
    "data['6day MA'] = data['Close'].rolling(window = 6).mean()\n",
    "data['12day MA'] = data['Close'].rolling(window = 12).mean()\n",
    "data['RSI'] = talib.RSI(data['Close'].values, timeperiod = 7)\n",
    "data['%R5'] = talib.WILLR(data['High'].values, data['Low'].values, data['Close'].values, 5)\n",
    "data['%R10'] = talib.WILLR(data['High'].values, data['Low'].values, data['Close'].values, 10)\n",
    "data['MI6']=talib.MOM(data['Close'],timeperiod=6)\n",
    "data['MI12']=talib.MOM(data['Close'],timeperiod=12)\n",
    "macd, macdsignal, macdhist = talib.MACD(data['Close'], fastperiod=12, slowperiod=26, signalperiod=9)\n",
    "data['EMA12']=talib.EMA(data['Close'], timeperiod=12)\n",
    "data['EMA26']=talib.EMA(data['Close'],timeperiod=26)\n",
    "data['MACD']=macd\n",
    "data['TR']=talib.TRANGE(data['High'],data['Low'],data['Close'])\n",
    "data['OSC6']=talib.CMO(data['Close'], timeperiod=6)\n",
    "data['OSC12']=talib.CMO(data['Close'], timeperiod=12)\n",
    "data['Prediction']=data['Close'].shift(-1)\n",
    "data.dropna(inplace=True)\n",
    "target=data['Prediction']"
   ]
  },
  {
   "cell_type": "code",
   "execution_count": 4,
   "id": "f1a3a53f",
   "metadata": {},
   "outputs": [
    {
     "name": "stderr",
     "output_type": "stream",
     "text": [
      "/var/folders/8h/w0jn89bj2w5g85gj4ck7w0t00000gn/T/ipykernel_66886/3979859450.py:11: FutureWarning: In a future version of pandas all arguments of DataFrame.drop except for the argument 'labels' will be keyword-only.\n",
      "  backwardModel.fit(np.array(data.drop('Prediction',1)),target.values)\n",
      "[Parallel(n_jobs=-1)]: Using backend LokyBackend with 8 concurrent workers.\n",
      "[Parallel(n_jobs=-1)]: Done  14 out of  19 | elapsed:    3.3s remaining:    1.2s\n",
      "[Parallel(n_jobs=-1)]: Done  19 out of  19 | elapsed:    4.0s finished\n",
      "\n",
      "[2022-04-13 19:47:15] Features: 1/1 -- score: 0.6825039812894231"
     ]
    },
    {
     "data": {
      "text/plain": [
       "SequentialFeatureSelector(estimator=RandomForestRegressor(), n_jobs=-1,\n",
       "                          scoring='r2', verbose=2)"
      ]
     },
     "execution_count": 4,
     "metadata": {},
     "output_type": "execute_result"
    }
   ],
   "source": [
    "from mlxtend.feature_selection import SequentialFeatureSelector as sfs\n",
    "from sklearn.ensemble import RandomForestRegressor\n",
    "#k_features=10 (It will get top 10 features best suited for prediction)\n",
    "#forward=False (Backward feature selection model)\n",
    "#verbose=2 (It will show details output as shown below.)\n",
    "#cv=5 (Kfold cross valiation: it will split the training set in 5 set and 4 will be using for training the model and 1 will using as validation)\n",
    "#n_jobs=-1 (Number of cores it will use for execution.-1 means it will use all the cores of CPU for execution.)\n",
    "#scoring='r2'(R-squared is a statistical measure of how close the data are to the fitted regression line)\n",
    "backwardModel=sfs(RandomForestRegressor(),forward=True,verbose=2,cv=5,n_jobs=-1,scoring='r2')\n",
    "#We will convert our training data into numpy array. If we will not convert it, model is not able to read some of the column names.\n",
    "backwardModel.fit(np.array(data.drop('Prediction',1)),target.values)"
   ]
  },
  {
   "cell_type": "code",
   "execution_count": 5,
   "id": "76dc1a7d",
   "metadata": {},
   "outputs": [
    {
     "name": "stdout",
     "output_type": "stream",
     "text": [
      "(735, 1) (735,) (184, 1) (184,)\n"
     ]
    },
    {
     "name": "stderr",
     "output_type": "stream",
     "text": [
      "/var/folders/8h/w0jn89bj2w5g85gj4ck7w0t00000gn/T/ipykernel_66886/1151953013.py:3: SettingWithCopyWarning: \n",
      "A value is trying to be set on a copy of a slice from a DataFrame.\n",
      "Try using .loc[row_indexer,col_indexer] = value instead\n",
      "\n",
      "See the caveats in the documentation: https://pandas.pydata.org/pandas-docs/stable/user_guide/indexing.html#returning-a-view-versus-a-copy\n",
      "  data['Prediction']=target\n",
      "/var/folders/8h/w0jn89bj2w5g85gj4ck7w0t00000gn/T/ipykernel_66886/1151953013.py:8: FutureWarning: In a future version of pandas all arguments of DataFrame.drop except for the argument 'labels' will be keyword-only.\n",
      "  X=data.drop('Prediction',1).values\n"
     ]
    }
   ],
   "source": [
    "# data.drop(['OSC12','OSC6','MI12','MI6','%R10','%R5','RSI','TR'],1,inplace=True)\n",
    "data=data[data.columns[list(backwardModel.k_feature_idx_)]]\n",
    "data['Prediction']=target\n",
    "data_val=data[-100:]\n",
    "data=data[:-100]\n",
    "sc = MinMaxScaler(feature_range = (-1, 1))\n",
    "# X=sc.fit_transform(data.drop('Prediction',1))\n",
    "X=data.drop('Prediction',1).values\n",
    "# Y = data[\"Prediction\"].values.reshape(-1,1)\n",
    "# Y = sc_y.fit_transform(data[\"Prediction\"].values.reshape(-1,1))\n",
    "Y=np.array(data[\"Prediction\"])\n",
    "X_train, X_test, y_train, y_test = train_test_split(X, Y, test_size=0.2,shuffle=False)\n",
    "# X_train = X_train.reshape((X_train.shape[0], 1, X_train.shape[1]))\n",
    "# X_test = X_test.reshape((X_test.shape[0], 1, X_test.shape[1]))\n",
    "print(X_train.shape,y_train.shape,X_test.shape,y_test.shape)"
   ]
  },
  {
   "cell_type": "code",
   "execution_count": 6,
   "id": "46bc37e9",
   "metadata": {},
   "outputs": [],
   "source": [
    "clf = RandomForestRegressor()"
   ]
  },
  {
   "cell_type": "code",
   "execution_count": 7,
   "id": "936742f1",
   "metadata": {},
   "outputs": [],
   "source": [
    "model = clf.fit(X_train, y_train)"
   ]
  },
  {
   "cell_type": "code",
   "execution_count": 8,
   "id": "518dad18",
   "metadata": {},
   "outputs": [],
   "source": [
    "y_pred=model.predict(X_test)"
   ]
  },
  {
   "cell_type": "code",
   "execution_count": 9,
   "id": "4b7ae360",
   "metadata": {},
   "outputs": [
    {
     "data": {
      "text/plain": [
       "array([42.53200024, 45.92199997, 44.87725044, 45.47525066, 45.21925102,\n",
       "       45.45325062, 45.49025063, 45.45325062, 46.16800087, 46.16800087,\n",
       "       45.45325062, 44.86566603, 45.21925102, 45.45325062, 45.45325062,\n",
       "       45.63300072, 48.3195015 , 46.55250099, 45.47525066, 44.93725029,\n",
       "       44.87725044, 44.87725044, 45.21925102, 45.45325062, 46.16800087,\n",
       "       45.21925102, 45.1342506 , 45.17471608, 42.58148313, 44.77075715,\n",
       "       42.58148313, 45.17471608, 45.21925102, 44.86566603, 45.1342506 ,\n",
       "       45.45325062, 45.47525066, 45.45325062, 45.45325062, 45.21925102,\n",
       "       45.21925102, 45.1342506 , 45.21925102, 45.45325062, 44.77075715,\n",
       "       44.77075715, 42.60248312, 43.64563429, 44.77075715, 46.16800087,\n",
       "       46.55250099, 48.3195015 , 47.96850136, 45.63300072, 46.55250099,\n",
       "       48.3195015 , 47.3520015 , 47.3520015 , 47.3520015 , 46.55250099,\n",
       "       46.55250099, 48.41650146, 48.5995015 , 48.5995015 , 48.41650146,\n",
       "       48.3195015 , 48.41650146, 48.3195015 , 48.3195015 , 48.41650146,\n",
       "       47.3520015 , 47.44750141, 47.3520015 , 47.3520015 , 47.38250149,\n",
       "       48.3195015 , 48.4945015 , 48.4945015 , 48.4945015 , 46.55250099,\n",
       "       46.16800087, 46.55250099, 46.55250099, 46.55250099, 46.52400097,\n",
       "       44.93725029, 45.21925102, 45.21925102, 45.21925102, 45.21925102,\n",
       "       45.45325062, 44.81891608, 45.17471608, 45.17471608, 45.92199997,\n",
       "       44.81845715, 42.58148313, 42.57448313, 43.30766659, 43.98224951,\n",
       "       43.98224951, 42.87465774, 43.98224951, 42.07399948, 42.44156613,\n",
       "       43.03926737, 42.41289971, 42.89791664, 43.28699991, 42.57225025,\n",
       "       43.28699991, 44.11599964, 42.57225025, 42.53200024, 43.28699991,\n",
       "       42.627001  , 43.28699991, 42.55124989, 42.43816619, 42.05599926,\n",
       "       44.22900055, 42.05599926, 45.92199997, 45.92199997, 45.92199997,\n",
       "       42.07399948, 43.2083759 , 42.89791664, 42.41289971, 42.658667  ,\n",
       "       41.81018485, 41.39202019, 42.89851786, 42.89851786, 41.43899937,\n",
       "       41.83741651, 40.06986877, 40.19539077, 40.06986877, 41.49918783,\n",
       "       40.19539077, 40.1001257 , 42.15824988, 40.40661789, 40.1001257 ,\n",
       "       42.15824988, 40.13853312, 40.13853312, 41.07819912, 39.90226572,\n",
       "       38.41298092, 39.42341836, 39.87623327, 40.018469  , 41.83741651,\n",
       "       40.1001257 , 39.87651673, 40.13853312, 40.1001257 , 41.22679304,\n",
       "       43.30766659, 44.22900055, 42.87465774, 42.57448313, 44.86566603,\n",
       "       45.45325062, 45.45325062, 45.45325062, 45.45325062, 45.47525066,\n",
       "       45.45325062, 46.16800087, 46.30000092, 46.16800087, 45.63300072,\n",
       "       45.45325062, 46.16800087, 45.47525066, 45.63300072, 45.17471608,\n",
       "       44.86566603, 45.21925102, 44.77075715, 45.17471608])"
      ]
     },
     "execution_count": 9,
     "metadata": {},
     "output_type": "execute_result"
    }
   ],
   "source": [
    "y_pred"
   ]
  },
  {
   "cell_type": "code",
   "execution_count": 10,
   "id": "494837c5",
   "metadata": {},
   "outputs": [
    {
     "data": {
      "image/png": "[encoded data removed]",
      "text/plain": [
       "<Figure size 432x288 with 1 Axes>"
      ]
     },
     "metadata": {
      "needs_background": "light"
     },
     "output_type": "display_data"
    }
   ],
   "source": [
    "plt.plot(np.arange(0, len(y_train)), y_train, 'g', label=\"history\")\n",
    "plt.plot(np.arange(len(y_train), len(y_train) + len(y_test)), y_test, marker='.', label=\"true\")\n",
    "plt.plot(np.arange(len(y_train), len(y_train) + len(y_test)), y_pred, 'r', label=\"prediction\")\n",
    "plt.ylabel('Value')\n",
    "plt.xlabel('Time Step')\n",
    "plt.legend()\n",
    "plt.show();"
   ]
  },
  {
   "cell_type": "code",
   "execution_count": 11,
   "id": "b4cef2d8",
   "metadata": {},
   "outputs": [
    {
     "data": {
      "text/plain": [
       "0.021478910287760052"
      ]
     },
     "execution_count": 11,
     "metadata": {},
     "output_type": "execute_result"
    }
   ],
   "source": [
    "mean_absolute_percentage_error(y_test,y_pred)"
   ]
  },
  {
   "cell_type": "code",
   "execution_count": 12,
   "id": "de4a9225",
   "metadata": {},
   "outputs": [
    {
     "data": {
      "text/plain": [
       "1.5166536478420238"
      ]
     },
     "execution_count": 12,
     "metadata": {},
     "output_type": "execute_result"
    }
   ],
   "source": [
    "mean_squared_error(y_test,y_pred)"
   ]
  },
  {
   "cell_type": "code",
   "execution_count": 22,
   "id": "3f6a8435",
   "metadata": {},
   "outputs": [
    {
     "data": {
      "image/png": "[encoded data removed]",
      "text/plain": [
       "<Figure size 432x288 with 1 Axes>"
      ]
     },
     "metadata": {
      "needs_background": "light"
     },
     "output_type": "display_data"
    }
   ],
   "source": [
    "# y_test = sc.inverse_transform(y_test)\n",
    "# y_pred = sc.inverse_transform(y_pred)\n",
    "plt.plot(y_test, marker='.', label=\"true\")\n",
    "plt.plot(y_pred, 'r', label=\"prediction\")\n",
    "plt.ylabel('Value')\n",
    "plt.xlabel('Time Step')\n",
    "plt.title('0005-RF')\n",
    "plt.legend()\n",
    "plt.show()"
   ]
  },
  {
   "cell_type": "code",
   "execution_count": 23,
   "id": "4bd542cf",
   "metadata": {},
   "outputs": [
    {
     "data": {
      "text/plain": [
       "0.021478910287760052"
      ]
     },
     "execution_count": 23,
     "metadata": {},
     "output_type": "execute_result"
    }
   ],
   "source": [
    "mean_absolute_percentage_error(y_test,y_pred)"
   ]
  },
  {
   "cell_type": "code",
   "execution_count": 24,
   "id": "b8b6e45f",
   "metadata": {},
   "outputs": [
    {
     "data": {
      "text/plain": [
       "1.231524927819987"
      ]
     },
     "execution_count": 24,
     "metadata": {},
     "output_type": "execute_result"
    }
   ],
   "source": [
    "mean_squared_error(y_test,y_pred,squared=False)"
   ]
  },
  {
   "cell_type": "code",
   "execution_count": 25,
   "id": "e6cd6938",
   "metadata": {},
   "outputs": [
    {
     "data": {
      "text/plain": [
       "0.7798391438295408"
      ]
     },
     "execution_count": 25,
     "metadata": {},
     "output_type": "execute_result"
    }
   ],
   "source": [
    "r2_score(y_test,y_pred)"
   ]
  },
  {
   "cell_type": "code",
   "execution_count": 17,
   "id": "29433fb9",
   "metadata": {},
   "outputs": [
    {
     "name": "stderr",
     "output_type": "stream",
     "text": [
      "/var/folders/8h/w0jn89bj2w5g85gj4ck7w0t00000gn/T/ipykernel_66886/2115332834.py:1: FutureWarning: In a future version of pandas all arguments of DataFrame.drop except for the argument 'labels' will be keyword-only.\n",
      "  x_val=data_val.drop('Prediction',1)\n",
      "/opt/homebrew/Caskroom/miniforge/base/envs/fyp_new/lib/python3.8/site-packages/sklearn/base.py:443: UserWarning: X has feature names, but RandomForestRegressor was fitted without feature names\n",
      "  warnings.warn(\n"
     ]
    }
   ],
   "source": [
    "x_val=data_val.drop('Prediction',1)\n",
    "y_val=data_val['Prediction']\n",
    "# x_val=x_val.reshape(x_val.shape[0],1,x_val.shape[1])\n",
    "# x_val=sc.transform(x_val).reshape(x_val.shape[0],1,x_val.shape[1])\n",
    "y_val_pred=clf.predict(x_val)\n",
    "# y_val_pred=sc_y.inverse_transform(y_val_pred)"
   ]
  },
  {
   "cell_type": "code",
   "execution_count": 18,
   "id": "24f057e8",
   "metadata": {},
   "outputs": [
    {
     "data": {
      "image/png": "[encoded data removed]",
      "text/plain": [
       "<Figure size 432x288 with 1 Axes>"
      ]
     },
     "metadata": {
      "needs_background": "light"
     },
     "output_type": "display_data"
    }
   ],
   "source": [
    "plt.plot(y_val.values, marker='.', label=\"true\")\n",
    "plt.plot(y_val_pred, 'r',label=\"prediction\")\n",
    "plt.ylabel('Value')\n",
    "plt.xlabel('Time Step')\n",
    "plt.title('0017-RF')\n",
    "plt.legend()\n",
    "plt.show()"
   ]
  },
  {
   "cell_type": "code",
   "execution_count": 19,
   "id": "e8166a87",
   "metadata": {},
   "outputs": [
    {
     "data": {
      "text/plain": [
       "0.026560769747062167"
      ]
     },
     "execution_count": 19,
     "metadata": {},
     "output_type": "execute_result"
    }
   ],
   "source": [
    "mean_absolute_percentage_error(y_val,y_val_pred)"
   ]
  },
  {
   "cell_type": "code",
   "execution_count": 20,
   "id": "6235c26a",
   "metadata": {},
   "outputs": [
    {
     "data": {
      "text/plain": [
       "1.6428938161288094"
      ]
     },
     "execution_count": 20,
     "metadata": {},
     "output_type": "execute_result"
    }
   ],
   "source": [
    "mean_squared_error(y_val,y_val_pred,squared=False)"
   ]
  },
  {
   "cell_type": "code",
   "execution_count": 21,
   "id": "61d1118e",
   "metadata": {},
   "outputs": [
    {
     "data": {
      "text/plain": [
       "0.8777939301324232"
      ]
     },
     "execution_count": 21,
     "metadata": {},
     "output_type": "execute_result"
    }
   ],
   "source": [
    "r2_score(y_val,y_val_pred)"
   ]
  },
  {
   "cell_type": "code",
   "execution_count": null,
   "id": "fb952c6b",
   "metadata": {},
   "outputs": [],
   "source": []
  },
  {
   "cell_type": "code",
   "execution_count": null,
   "id": "eccdfa44",
   "metadata": {},
   "outputs": [],
   "source": []
  },
  {
   "cell_type": "code",
   "execution_count": null,
   "id": "e3e57475",
   "metadata": {},
   "outputs": [],
   "source": []
  }
 ],
 "metadata": {
  "kernelspec": {
   "display_name": "Python 3 (ipykernel)",
   "language": "python",
   "name": "python3"
  },
  "language_info": {
   "codemirror_mode": {
    "name": "ipython",
    "version": 3
   },
   "file_extension": ".py",
   "mimetype": "text/x-python",
   "name": "python",
   "nbconvert_exporter": "python",
   "pygments_lexer": "ipython3",
   "version": "3.9.9"
  }
 },
 "nbformat": 4,
 "nbformat_minor": 5
}
