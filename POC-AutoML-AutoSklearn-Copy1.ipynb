{
 "cells": [
  {
   "cell_type": "code",
   "execution_count": 1,
   "id": "5b361082",
   "metadata": {},
   "outputs": [],
   "source": [
    "import sklearn.metrics\n",
    "import autosklearn.regression\n",
    "import yfinance as yf\n",
    "import pandas as pd\n",
    "import numpy as np\n",
    "import matplotlib.pyplot as plt\n",
    "from sklearn.pipeline import make_pipeline\n",
    "from sklearn.preprocessing import StandardScaler\n",
    "from sklearn.model_selection import train_test_split\n",
    "import talib"
   ]
  },
  {
   "cell_type": "code",
   "execution_count": 2,
   "id": "02e03899",
   "metadata": {},
   "outputs": [
    {
     "name": "stdout",
     "output_type": "stream",
     "text": [
      "[*********************100%***********************]  1 of 1 completed\n"
     ]
    }
   ],
   "source": [
    "# Get the data for the SPY ETF by specifying the stock ticker, start date, and end date\n",
    "data = yf.download('0005.hk','2015-01-01','2020-01-01')"
   ]
  },
  {
   "cell_type": "code",
   "execution_count": 3,
   "id": "e9676d6b",
   "metadata": {},
   "outputs": [
    {
     "data": {
      "text/plain": [
       "Index(['Open', 'High', 'Low', 'Close', 'Adj Close', 'Volume', 'H-L', 'O-C',\n",
       "       '3day MA', '10day MA', '30day MA', 'Std_dev', 'RSI', 'Williams %R'],\n",
       "      dtype='object')"
      ]
     },
     "execution_count": 3,
     "metadata": {},
     "output_type": "execute_result"
    }
   ],
   "source": [
    "data['H-L'] = data['High'] - data['Low']\n",
    "data['O-C'] = data['Close'] - data['Open']\n",
    "data['3day MA'] = data['Close'].shift(1).rolling(window = 3).mean()\n",
    "data['10day MA'] = data['Close'].shift(1).rolling(window = 10).mean()\n",
    "data['30day MA'] = data['Close'].shift(1).rolling(window = 30).mean()\n",
    "data['Std_dev']= data['Close'].rolling(5).std()\n",
    "data['RSI'] = talib.RSI(data['Close'].values, timeperiod = 9)\n",
    "data['Williams %R'] = talib.WILLR(data['High'].values, data['Low'].values, data['Close'].values, 7)\n",
    "data.columns"
   ]
  },
  {
   "cell_type": "code",
   "execution_count": 4,
   "id": "5c584f21",
   "metadata": {},
   "outputs": [],
   "source": [
    "data.dropna(inplace=True)"
   ]
  },
  {
   "cell_type": "code",
   "execution_count": 5,
   "id": "5e0c595f",
   "metadata": {},
   "outputs": [],
   "source": [
    "train = data[0:int(len(data)*0.99)]\n",
    "data_price=train[\"Close\"]\n",
    "train = train.values\n",
    "# scl = MinMaxScaler()\n",
    "# #Scale the data\n",
    "# scl.fit(train.values.reshape(-1,1))\n",
    "# cl =scl.transform(cl.values.reshape(-1,1))\n",
    "# sc = MinMaxScaler(feature_range=(0,1))\n",
    "# train=sc.fit_transform(train)\n",
    "def processData(data,data_price,lb):\n",
    "    X,Y = [],[]\n",
    "    for i in range(len(data)-lb-1):\n",
    "        X.append(data[i:(i+lb)])\n",
    "        Y.append(data_price[(i+lb)])\n",
    "    return np.array(X),np.array(Y)\n",
    "\n",
    "lb=3\n",
    "X,y = processData(train,data_price,lb)\n",
    "# X_train,X_test = X[:int(X.shape[0]*0.90)],X[int(X.shape[0]*0.90):]\n",
    "# y_train,y_test = y[:int(y.shape[0]*0.90)],y[int(y.shape[0]*0.90):]\n",
    "# print(X_train.shape[0],X_train.shape[1])\n",
    "# print(X_test.shape[0], X_test.shape[1])\n",
    "# print(y_train.shape[0])\n",
    "# print(y_test.shape[0])"
   ]
  },
  {
   "cell_type": "code",
   "execution_count": 6,
   "id": "38ab3742",
   "metadata": {},
   "outputs": [
    {
     "name": "stdout",
     "output_type": "stream",
     "text": [
      "889 3\n",
      "297 3\n",
      "889\n",
      "297\n"
     ]
    }
   ],
   "source": [
    "X_train, X_test, y_train, y_test = sklearn.model_selection.train_test_split(X, y, random_state=42)\n",
    "print(X_train.shape[0],X_train.shape[1])\n",
    "print(X_test.shape[0], X_test.shape[1])\n",
    "print(y_train.shape[0])\n",
    "print(y_test.shape[0])"
   ]
  },
  {
   "cell_type": "code",
   "execution_count": 7,
   "id": "0757421a",
   "metadata": {},
   "outputs": [
    {
     "name": "stderr",
     "output_type": "stream",
     "text": [
      "Process pynisher function call:\n",
      "Traceback (most recent call last):\n",
      "  File \"/home/gordon/anaconda3/envs/FYP/lib/python3.8/multiprocessing/process.py\", line 315, in _bootstrap\n",
      "    self.run()\n",
      "  File \"/home/gordon/anaconda3/envs/FYP/lib/python3.8/multiprocessing/process.py\", line 108, in run\n",
      "    self._target(*self._args, **self._kwargs)\n",
      "  File \"/home/gordon/anaconda3/envs/FYP/lib/python3.8/site-packages/pynisher/limit_function_call.py\", line 133, in subprocess_func\n",
      "    return_value = ((func(*args, **kwargs), 0))\n",
      "  File \"/home/gordon/anaconda3/envs/FYP/lib/python3.8/site-packages/autosklearn/smbo.py\", line 99, in _calculate_metafeatures\n",
      "    result = calculate_all_metafeatures_with_labels(\n",
      "  File \"/home/gordon/anaconda3/envs/FYP/lib/python3.8/site-packages/autosklearn/metalearning/metafeatures/metafeatures.py\", line 1051, in calculate_all_metafeatures_with_labels\n",
      "    return calculate_all_metafeatures(X, y, categorical, dataset_name,\n",
      "  File \"/home/gordon/anaconda3/envs/FYP/lib/python3.8/site-packages/autosklearn/metalearning/metafeatures/metafeatures.py\", line 1148, in calculate_all_metafeatures\n",
      "    value = metafeatures[name](X_, y_, logger, categorical_)\n",
      "  File \"/home/gordon/anaconda3/envs/FYP/lib/python3.8/site-packages/autosklearn/metalearning/metafeatures/metafeature.py\", line 29, in __call__\n",
      "    value = self._calculate(X, y, logger, categorical)\n",
      "  File \"/home/gordon/anaconda3/envs/FYP/lib/python3.8/site-packages/autosklearn/metalearning/metafeatures/metafeatures.py\", line 223, in _calculate\n",
      "    return float(np.sum([1 if num > 0 else 0 for num in num_missing]))\n",
      "  File \"/home/gordon/anaconda3/envs/FYP/lib/python3.8/site-packages/autosklearn/metalearning/metafeatures/metafeatures.py\", line 223, in <listcomp>\n",
      "    return float(np.sum([1 if num > 0 else 0 for num in num_missing]))\n",
      "ValueError: The truth value of an array with more than one element is ambiguous. Use a.any() or a.all()\n",
      "Process pynisher function call:\n",
      "Traceback (most recent call last):\n",
      "  File \"/home/gordon/anaconda3/envs/FYP/lib/python3.8/site-packages/joblib/parallel.py\", line 820, in dispatch_one_batch\n",
      "    tasks = self._ready_batches.get(block=False)\n",
      "  File \"/home/gordon/anaconda3/envs/FYP/lib/python3.8/queue.py\", line 167, in get\n",
      "    raise Empty\n",
      "_queue.Empty\n",
      "\n",
      "During handling of the above exception, another exception occurred:\n",
      "\n",
      "Traceback (most recent call last):\n",
      "  File \"/home/gordon/anaconda3/envs/FYP/lib/python3.8/multiprocessing/process.py\", line 315, in _bootstrap\n",
      "    self.run()\n",
      "  File \"/home/gordon/anaconda3/envs/FYP/lib/python3.8/multiprocessing/process.py\", line 108, in run\n",
      "    self._target(*self._args, **self._kwargs)\n",
      "  File \"/home/gordon/anaconda3/envs/FYP/lib/python3.8/site-packages/pynisher/limit_function_call.py\", line 133, in subprocess_func\n",
      "    return_value = ((func(*args, **kwargs), 0))\n",
      "  File \"/home/gordon/anaconda3/envs/FYP/lib/python3.8/site-packages/autosklearn/smbo.py\", line 130, in _calculate_metafeatures_encoded\n",
      "    result = calculate_all_metafeatures_encoded_labels(\n",
      "  File \"/home/gordon/anaconda3/envs/FYP/lib/python3.8/site-packages/autosklearn/metalearning/metafeatures/metafeatures.py\", line 1039, in calculate_all_metafeatures_encoded_labels\n",
      "    return calculate_all_metafeatures(X, y, categorical, dataset_name,\n",
      "  File \"/home/gordon/anaconda3/envs/FYP/lib/python3.8/site-packages/autosklearn/metalearning/metafeatures/metafeatures.py\", line 1091, in calculate_all_metafeatures\n",
      "    X_transformed = DPP.fit_transform(X)\n",
      "  File \"/home/gordon/anaconda3/envs/FYP/lib/python3.8/site-packages/sklearn/base.py\", line 699, in fit_transform\n",
      "    return self.fit(X, **fit_params).transform(X)\n",
      "  File \"/home/gordon/anaconda3/envs/FYP/lib/python3.8/site-packages/autosklearn/pipeline/components/data_preprocessing/data_preprocessing.py\", line 148, in fit\n",
      "    self.column_transformer.fit(X, y)\n",
      "  File \"/home/gordon/anaconda3/envs/FYP/lib/python3.8/site-packages/sklearn/compose/_column_transformer.py\", line 471, in fit\n",
      "    self.fit_transform(X, y=y)\n",
      "  File \"/home/gordon/anaconda3/envs/FYP/lib/python3.8/site-packages/sklearn/compose/_column_transformer.py\", line 508, in fit_transform\n",
      "    result = self._fit_transform(X, y, _fit_transform_one)\n",
      "  File \"/home/gordon/anaconda3/envs/FYP/lib/python3.8/site-packages/sklearn/compose/_column_transformer.py\", line 435, in _fit_transform\n",
      "    return Parallel(n_jobs=self.n_jobs)(\n",
      "  File \"/home/gordon/anaconda3/envs/FYP/lib/python3.8/site-packages/joblib/parallel.py\", line 1041, in __call__\n",
      "    if self.dispatch_one_batch(iterator):\n",
      "  File \"/home/gordon/anaconda3/envs/FYP/lib/python3.8/site-packages/joblib/parallel.py\", line 831, in dispatch_one_batch\n",
      "    islice = list(itertools.islice(iterator, big_batch_size))\n",
      "  File \"/home/gordon/anaconda3/envs/FYP/lib/python3.8/site-packages/sklearn/compose/_column_transformer.py\", line 438, in <genexpr>\n",
      "    X=_safe_indexing(X, column, axis=1),\n",
      "  File \"/home/gordon/anaconda3/envs/FYP/lib/python3.8/site-packages/sklearn/utils/__init__.py\", line 329, in _safe_indexing\n",
      "    raise ValueError(\n",
      "ValueError: 'X' should be a 2D NumPy array, 2D sparse matrix or pandas dataframe when indexing the columns (i.e. 'axis=1'). Got <class 'numpy.ndarray'> instead with 3 dimension(s).\n"
     ]
    },
    {
     "data": {
      "text/plain": [
       "AutoSklearnRegressor(memory_limit=5000, per_run_time_limit=30,\n",
       "                     time_left_for_this_task=120)"
      ]
     },
     "execution_count": 7,
     "metadata": {},
     "output_type": "execute_result"
    }
   ],
   "source": [
    "automl = autosklearn.regression.AutoSklearnRegressor(\n",
    "    time_left_for_this_task=120,\n",
    "    per_run_time_limit=30,\n",
    "    memory_limit=5000,\n",
    ")\n",
    "automl.fit(X_train, y_train)"
   ]
  },
  {
   "cell_type": "code",
   "execution_count": 8,
   "id": "0549362e",
   "metadata": {},
   "outputs": [
    {
     "ename": "KeyError",
     "evalue": "1",
     "output_type": "error",
     "traceback": [
      "\u001b[0;31m---------------------------------------------------------------------------\u001b[0m",
      "\u001b[0;31mKeyError\u001b[0m                                  Traceback (most recent call last)",
      "\u001b[0;32m<ipython-input-8-6d6f7ecb9e79>\u001b[0m in \u001b[0;36m<module>\u001b[0;34m\u001b[0m\n\u001b[0;32m----> 1\u001b[0;31m \u001b[0mprint\u001b[0m\u001b[0;34m(\u001b[0m\u001b[0mautoml\u001b[0m\u001b[0;34m.\u001b[0m\u001b[0mleaderboard\u001b[0m\u001b[0;34m(\u001b[0m\u001b[0;34m)\u001b[0m\u001b[0;34m)\u001b[0m\u001b[0;34m\u001b[0m\u001b[0;34m\u001b[0m\u001b[0m\n\u001b[0m",
      "\u001b[0;32m~/anaconda3/envs/FYP/lib/python3.8/site-packages/autosklearn/estimators.py\u001b[0m in \u001b[0;36mleaderboard\u001b[0;34m(self, detailed, ensemble_only, top_k, sort_by, sort_order, include)\u001b[0m\n\u001b[1;32m    739\u001b[0m         \u001b[0;32mfor\u001b[0m \u001b[0mi\u001b[0m\u001b[0;34m,\u001b[0m \u001b[0mweight\u001b[0m \u001b[0;32min\u001b[0m \u001b[0menumerate\u001b[0m\u001b[0;34m(\u001b[0m\u001b[0mself\u001b[0m\u001b[0;34m.\u001b[0m\u001b[0mautoml_\u001b[0m\u001b[0;34m.\u001b[0m\u001b[0mensemble_\u001b[0m\u001b[0;34m.\u001b[0m\u001b[0mweights_\u001b[0m\u001b[0;34m)\u001b[0m\u001b[0;34m:\u001b[0m\u001b[0;34m\u001b[0m\u001b[0;34m\u001b[0m\u001b[0m\n\u001b[1;32m    740\u001b[0m             \u001b[0;34m(\u001b[0m\u001b[0m_\u001b[0m\u001b[0;34m,\u001b[0m \u001b[0mmodel_id\u001b[0m\u001b[0;34m,\u001b[0m \u001b[0m_\u001b[0m\u001b[0;34m)\u001b[0m \u001b[0;34m=\u001b[0m \u001b[0mself\u001b[0m\u001b[0;34m.\u001b[0m\u001b[0mautoml_\u001b[0m\u001b[0;34m.\u001b[0m\u001b[0mensemble_\u001b[0m\u001b[0;34m.\u001b[0m\u001b[0midentifiers_\u001b[0m\u001b[0;34m[\u001b[0m\u001b[0mi\u001b[0m\u001b[0;34m]\u001b[0m\u001b[0;34m\u001b[0m\u001b[0;34m\u001b[0m\u001b[0m\n\u001b[0;32m--> 741\u001b[0;31m             \u001b[0mmodel_runs\u001b[0m\u001b[0;34m[\u001b[0m\u001b[0mmodel_id\u001b[0m\u001b[0;34m]\u001b[0m\u001b[0;34m[\u001b[0m\u001b[0;34m'ensemble_weight'\u001b[0m\u001b[0;34m]\u001b[0m \u001b[0;34m=\u001b[0m \u001b[0mweight\u001b[0m\u001b[0;34m\u001b[0m\u001b[0;34m\u001b[0m\u001b[0m\n\u001b[0m\u001b[1;32m    742\u001b[0m \u001b[0;34m\u001b[0m\u001b[0m\n\u001b[1;32m    743\u001b[0m         \u001b[0;31m# Filter out non-ensemble members if needed, else fill in a default\u001b[0m\u001b[0;34m\u001b[0m\u001b[0;34m\u001b[0m\u001b[0;34m\u001b[0m\u001b[0m\n",
      "\u001b[0;31mKeyError\u001b[0m: 1"
     ]
    }
   ],
   "source": [
    "print(automl.leaderboard())"
   ]
  },
  {
   "cell_type": "code",
   "execution_count": null,
   "id": "97625619",
   "metadata": {
    "scrolled": true
   },
   "outputs": [],
   "source": [
    "print(automl.show_models())"
   ]
  },
  {
   "cell_type": "code",
   "execution_count": null,
   "id": "e09399ca",
   "metadata": {},
   "outputs": [],
   "source": [
    "train_predictions = automl.predict(X_train)\n",
    "print(\"Train R2 score:\", sklearn.metrics.r2_score(y_train, train_predictions))\n",
    "test_predictions = automl.predict(X_test)\n",
    "print(\"Test R2 score:\", sklearn.metrics.r2_score(y_test, test_predictions))"
   ]
  },
  {
   "cell_type": "code",
   "execution_count": null,
   "id": "705a0f06",
   "metadata": {},
   "outputs": [],
   "source": [
    "fig, ax = plt.subplots(figsize=(16,8))\n",
    "ax.set_facecolor('#000041')\n",
    "ax.plot(y_train, color='red', label='Original price')\n",
    "plt.plot(train_predictions, color='cyan', label='Predicted price')\n",
    "plt.legend()"
   ]
  },
  {
   "cell_type": "code",
   "execution_count": null,
   "id": "1c05a1ce",
   "metadata": {},
   "outputs": [],
   "source": [
    "data_val=yf.download('0005.hk','2020-01-02','2020-01-31')\n",
    "x_val=np.array(np.array(data_val.drop([\"Adj Close\",\"Volume\"],1)))\n",
    "y_val=np.array(data_val['Adj Close'])\n",
    "predictions = automl.predict(x_val)\n",
    "# predictions = scaler.inverse_transform(predictions.reshape(-1,1))\n",
    "# y_test_scaled = scaler.inverse_transform(y_test.reshape(-1, 1))\n",
    "\n",
    "fig, ax = plt.subplots(figsize=(16,8))\n",
    "ax.set_facecolor('#000041')\n",
    "ax.plot(y_val, color='red', label='Original price')\n",
    "plt.plot(predictions, color='cyan', label='Predicted price')\n",
    "plt.legend()"
   ]
  },
  {
   "cell_type": "code",
   "execution_count": null,
   "id": "c4bddb7a",
   "metadata": {},
   "outputs": [],
   "source": [
    "test=make_pipeline(StandardScaler(),autosklearn.regression.AutoSklearnRegressor(\n",
    "    time_left_for_this_task=120,\n",
    "    per_run_time_limit=30,\n",
    "    memory_limit=5000,\n",
    "))\n",
    "test.fit(X_train, y_train)"
   ]
  },
  {
   "cell_type": "code",
   "execution_count": null,
   "id": "578ba991",
   "metadata": {},
   "outputs": [],
   "source": [
    "train_predictions = test.predict(X_train)\n",
    "print(\"Train R2 score:\", sklearn.metrics.r2_score(y_train, train_predictions))\n",
    "test_predictions = test.predict(X_test)\n",
    "print(\"Test R2 score:\", sklearn.metrics.r2_score(y_test, test_predictions))"
   ]
  },
  {
   "cell_type": "code",
   "execution_count": null,
   "id": "96f2bc11",
   "metadata": {},
   "outputs": [],
   "source": [
    "data_val=yf.download('0005.hk','2020-01-02','2020-01-31')\n",
    "x_val=np.array(np.array(data_val.drop([\"Adj Close\",\"Volume\"],1)))\n",
    "y_val=np.array(data_val['Adj Close'])\n",
    "predictions = automl.predict(x_val)\n",
    "# predictions = scaler.inverse_transform(predictions.reshape(-1,1))\n",
    "# y_test_scaled = scaler.inverse_transform(y_test.reshape(-1, 1))\n",
    "\n",
    "fig, ax = plt.subplots(figsize=(16,8))\n",
    "ax.set_facecolor('#000041')\n",
    "ax.plot(y_val, color='red', label='Original price')\n",
    "plt.plot(predictions, color='cyan', label='Predicted price')\n",
    "plt.legend()"
   ]
  },
  {
   "cell_type": "code",
   "execution_count": null,
   "id": "cb71c5c8",
   "metadata": {},
   "outputs": [],
   "source": []
  }
 ],
 "metadata": {
  "kernelspec": {
   "display_name": "Python 3",
   "language": "python",
   "name": "python3"
  },
  "language_info": {
   "codemirror_mode": {
    "name": "ipython",
    "version": 3
   },
   "file_extension": ".py",
   "mimetype": "text/x-python",
   "name": "python",
   "nbconvert_exporter": "python",
   "pygments_lexer": "ipython3",
   "version": "3.8.8"
  }
 },
 "nbformat": 4,
 "nbformat_minor": 5
}
