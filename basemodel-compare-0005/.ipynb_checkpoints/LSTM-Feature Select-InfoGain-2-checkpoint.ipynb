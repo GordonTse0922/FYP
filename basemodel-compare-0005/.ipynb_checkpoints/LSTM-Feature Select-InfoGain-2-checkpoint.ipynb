{
 "cells": [
  {
   "cell_type": "code",
   "execution_count": 1,
   "id": "eb9ae2e7",
   "metadata": {},
   "outputs": [],
   "source": [
    "import yfinance as yf\n",
    "import pandas as pd\n",
    "import numpy as np\n",
    "import matplotlib.pyplot as plt\n",
    "from sklearn.preprocessing import MinMaxScaler\n",
    "from sklearn.model_selection import train_test_split\n",
    "from sklearn.metrics import classification_report,accuracy_score, mean_squared_error,mean_absolute_percentage_error,r2_score\n",
    "import tensorflow as tf\n",
    "import talib\n",
    "from tensorflow import keras\n",
    "from sklearn.pipeline import make_pipeline\n",
    "from tensorflow.keras import regularizers"
   ]
  },
  {
   "cell_type": "code",
   "execution_count": 2,
   "id": "9ad5f74c",
   "metadata": {},
   "outputs": [
    {
     "name": "stdout",
     "output_type": "stream",
     "text": [
      "[*********************100%***********************]  1 of 1 completed\n"
     ]
    }
   ],
   "source": [
    "data=yf.download('0005.hk')"
   ]
  },
  {
   "cell_type": "code",
   "execution_count": 3,
   "id": "781ab9b7",
   "metadata": {
    "pycharm": {
     "name": "#%%\n"
    }
   },
   "outputs": [],
   "source": [
    "data['6day MA'] = data['Close'].rolling(window = 6).mean()\n",
    "data['12day MA'] = data['Close'].rolling(window = 12).mean()\n",
    "data['RSI'] = talib.RSI(data['Close'].values, timeperiod = 7)\n",
    "data['%R5'] = talib.WILLR(data['High'].values, data['Low'].values, data['Close'].values, 5)\n",
    "data['%R10'] = talib.WILLR(data['High'].values, data['Low'].values, data['Close'].values, 10)\n",
    "data['MI6']=talib.MOM(data['Close'],timeperiod=6)\n",
    "data['MI12']=talib.MOM(data['Close'],timeperiod=12)\n",
    "macd, macdsignal, macdhist = talib.MACD(data['Close'], fastperiod=12, slowperiod=26, signalperiod=9)\n",
    "data['EMA12']=talib.EMA(data['Close'], timeperiod=12)\n",
    "data['EMA26']=talib.EMA(data['Close'],timeperiod=26)\n",
    "data['MACD']=macd\n",
    "data['TR']=talib.TRANGE(data['High'],data['Low'],data['Close'])\n",
    "data['OSC6']=talib.CMO(data['Close'], timeperiod=6)\n",
    "data['OSC12']=talib.CMO(data['Close'], timeperiod=12)\n",
    "data['Prediction']=data['Close'].shift(-1)\n",
    "data.dropna(inplace=True)"
   ]
  },
  {
   "cell_type": "code",
   "execution_count": 4,
   "id": "0c6d7cbf",
   "metadata": {},
   "outputs": [
    {
     "data": {
      "text/html": [
       "<div>\n",
       "<style scoped>\n",
       "    .dataframe tbody tr th:only-of-type {\n",
       "        vertical-align: middle;\n",
       "    }\n",
       "\n",
       "    .dataframe tbody tr th {\n",
       "        vertical-align: top;\n",
       "    }\n",
       "\n",
       "    .dataframe thead th {\n",
       "        text-align: right;\n",
       "    }\n",
       "</style>\n",
       "<table border=\"1\" class=\"dataframe\">\n",
       "  <thead>\n",
       "    <tr style=\"text-align: right;\">\n",
       "      <th></th>\n",
       "      <th>Open</th>\n",
       "      <th>High</th>\n",
       "      <th>Low</th>\n",
       "      <th>Close</th>\n",
       "      <th>Adj Close</th>\n",
       "      <th>Volume</th>\n",
       "      <th>6day MA</th>\n",
       "      <th>12day MA</th>\n",
       "      <th>RSI</th>\n",
       "      <th>%R5</th>\n",
       "      <th>%R10</th>\n",
       "      <th>MI6</th>\n",
       "      <th>MI12</th>\n",
       "      <th>EMA12</th>\n",
       "      <th>EMA26</th>\n",
       "      <th>MACD</th>\n",
       "      <th>TR</th>\n",
       "      <th>OSC6</th>\n",
       "      <th>OSC12</th>\n",
       "      <th>Prediction</th>\n",
       "    </tr>\n",
       "    <tr>\n",
       "      <th>Date</th>\n",
       "      <th></th>\n",
       "      <th></th>\n",
       "      <th></th>\n",
       "      <th></th>\n",
       "      <th></th>\n",
       "      <th></th>\n",
       "      <th></th>\n",
       "      <th></th>\n",
       "      <th></th>\n",
       "      <th></th>\n",
       "      <th></th>\n",
       "      <th></th>\n",
       "      <th></th>\n",
       "      <th></th>\n",
       "      <th></th>\n",
       "      <th></th>\n",
       "      <th></th>\n",
       "      <th></th>\n",
       "      <th></th>\n",
       "      <th></th>\n",
       "    </tr>\n",
       "  </thead>\n",
       "  <tbody>\n",
       "    <tr>\n",
       "      <th>2022-04-01</th>\n",
       "      <td>53.700001</td>\n",
       "      <td>54.349998</td>\n",
       "      <td>53.400002</td>\n",
       "      <td>54.349998</td>\n",
       "      <td>54.349998</td>\n",
       "      <td>8177523</td>\n",
       "      <td>53.758333</td>\n",
       "      <td>52.891667</td>\n",
       "      <td>73.059622</td>\n",
       "      <td>-6.060739</td>\n",
       "      <td>-2.777840</td>\n",
       "      <td>1.649998</td>\n",
       "      <td>5.149998</td>\n",
       "      <td>53.038665</td>\n",
       "      <td>52.773929</td>\n",
       "      <td>0.264737</td>\n",
       "      <td>0.949997</td>\n",
       "      <td>53.568896</td>\n",
       "      <td>22.508117</td>\n",
       "      <td>54.049999</td>\n",
       "    </tr>\n",
       "    <tr>\n",
       "      <th>2022-04-04</th>\n",
       "      <td>54.299999</td>\n",
       "      <td>54.349998</td>\n",
       "      <td>53.799999</td>\n",
       "      <td>54.049999</td>\n",
       "      <td>54.049999</td>\n",
       "      <td>10779509</td>\n",
       "      <td>53.966667</td>\n",
       "      <td>53.129167</td>\n",
       "      <td>66.399654</td>\n",
       "      <td>-24.242494</td>\n",
       "      <td>-12.903266</td>\n",
       "      <td>1.250000</td>\n",
       "      <td>2.849998</td>\n",
       "      <td>53.194255</td>\n",
       "      <td>52.868452</td>\n",
       "      <td>0.325803</td>\n",
       "      <td>0.549999</td>\n",
       "      <td>35.812143</td>\n",
       "      <td>17.491249</td>\n",
       "      <td>53.700001</td>\n",
       "    </tr>\n",
       "    <tr>\n",
       "      <th>2022-04-06</th>\n",
       "      <td>53.900002</td>\n",
       "      <td>54.049999</td>\n",
       "      <td>53.150002</td>\n",
       "      <td>53.700001</td>\n",
       "      <td>53.700001</td>\n",
       "      <td>17097274</td>\n",
       "      <td>53.958333</td>\n",
       "      <td>53.320833</td>\n",
       "      <td>59.070435</td>\n",
       "      <td>-57.692342</td>\n",
       "      <td>-31.249980</td>\n",
       "      <td>-0.049999</td>\n",
       "      <td>2.299999</td>\n",
       "      <td>53.272062</td>\n",
       "      <td>52.930049</td>\n",
       "      <td>0.342013</td>\n",
       "      <td>0.899998</td>\n",
       "      <td>16.890204</td>\n",
       "      <td>11.670984</td>\n",
       "      <td>53.450001</td>\n",
       "    </tr>\n",
       "    <tr>\n",
       "      <th>2022-04-07</th>\n",
       "      <td>53.299999</td>\n",
       "      <td>53.799999</td>\n",
       "      <td>53.299999</td>\n",
       "      <td>53.450001</td>\n",
       "      <td>53.450001</td>\n",
       "      <td>11573734</td>\n",
       "      <td>53.950000</td>\n",
       "      <td>53.495833</td>\n",
       "      <td>54.094595</td>\n",
       "      <td>-75.000000</td>\n",
       "      <td>-41.666640</td>\n",
       "      <td>-0.049999</td>\n",
       "      <td>2.100002</td>\n",
       "      <td>53.299437</td>\n",
       "      <td>52.968564</td>\n",
       "      <td>0.330874</td>\n",
       "      <td>0.500000</td>\n",
       "      <td>4.420198</td>\n",
       "      <td>7.520573</td>\n",
       "      <td>53.950001</td>\n",
       "    </tr>\n",
       "    <tr>\n",
       "      <th>2022-04-08</th>\n",
       "      <td>53.500000</td>\n",
       "      <td>53.950001</td>\n",
       "      <td>53.400002</td>\n",
       "      <td>53.950001</td>\n",
       "      <td>53.950001</td>\n",
       "      <td>10357713</td>\n",
       "      <td>53.950000</td>\n",
       "      <td>53.629167</td>\n",
       "      <td>61.635197</td>\n",
       "      <td>-33.333227</td>\n",
       "      <td>-28.571429</td>\n",
       "      <td>0.000000</td>\n",
       "      <td>1.600002</td>\n",
       "      <td>53.399524</td>\n",
       "      <td>53.041263</td>\n",
       "      <td>0.358261</td>\n",
       "      <td>0.549999</td>\n",
       "      <td>23.903568</td>\n",
       "      <td>14.457266</td>\n",
       "      <td>54.049999</td>\n",
       "    </tr>\n",
       "  </tbody>\n",
       "</table>\n",
       "</div>"
      ],
      "text/plain": [
       "                 Open       High        Low      Close  Adj Close    Volume  \\\n",
       "Date                                                                          \n",
       "2022-04-01  53.700001  54.349998  53.400002  54.349998  54.349998   8177523   \n",
       "2022-04-04  54.299999  54.349998  53.799999  54.049999  54.049999  10779509   \n",
       "2022-04-06  53.900002  54.049999  53.150002  53.700001  53.700001  17097274   \n",
       "2022-04-07  53.299999  53.799999  53.299999  53.450001  53.450001  11573734   \n",
       "2022-04-08  53.500000  53.950001  53.400002  53.950001  53.950001  10357713   \n",
       "\n",
       "              6day MA   12day MA        RSI        %R5       %R10       MI6  \\\n",
       "Date                                                                          \n",
       "2022-04-01  53.758333  52.891667  73.059622  -6.060739  -2.777840  1.649998   \n",
       "2022-04-04  53.966667  53.129167  66.399654 -24.242494 -12.903266  1.250000   \n",
       "2022-04-06  53.958333  53.320833  59.070435 -57.692342 -31.249980 -0.049999   \n",
       "2022-04-07  53.950000  53.495833  54.094595 -75.000000 -41.666640 -0.049999   \n",
       "2022-04-08  53.950000  53.629167  61.635197 -33.333227 -28.571429  0.000000   \n",
       "\n",
       "                MI12      EMA12      EMA26      MACD        TR       OSC6  \\\n",
       "Date                                                                        \n",
       "2022-04-01  5.149998  53.038665  52.773929  0.264737  0.949997  53.568896   \n",
       "2022-04-04  2.849998  53.194255  52.868452  0.325803  0.549999  35.812143   \n",
       "2022-04-06  2.299999  53.272062  52.930049  0.342013  0.899998  16.890204   \n",
       "2022-04-07  2.100002  53.299437  52.968564  0.330874  0.500000   4.420198   \n",
       "2022-04-08  1.600002  53.399524  53.041263  0.358261  0.549999  23.903568   \n",
       "\n",
       "                OSC12  Prediction  \n",
       "Date                               \n",
       "2022-04-01  22.508117   54.049999  \n",
       "2022-04-04  17.491249   53.700001  \n",
       "2022-04-06  11.670984   53.450001  \n",
       "2022-04-07   7.520573   53.950001  \n",
       "2022-04-08  14.457266   54.049999  "
      ]
     },
     "execution_count": 4,
     "metadata": {},
     "output_type": "execute_result"
    }
   ],
   "source": [
    "# data=data[data.columns[list(backwardModel.k_feature_idx_)]]\n",
    "data['Prediction']=data['Close'].shift(-1)\n",
    "data.dropna(inplace=True)\n",
    "data_val=data[-100:]\n",
    "data=data[:-100]\n",
    "data_val.tail()"
   ]
  },
  {
   "cell_type": "code",
   "execution_count": 5,
   "id": "13b49c54",
   "metadata": {},
   "outputs": [
    {
     "name": "stderr",
     "output_type": "stream",
     "text": [
      "/var/folders/8h/w0jn89bj2w5g85gj4ck7w0t00000gn/T/ipykernel_47010/543750826.py:2: FutureWarning: In a future version of pandas all arguments of DataFrame.drop except for the argument 'labels' will be keyword-only.\n",
      "  X=sc.fit_transform(data.drop('Prediction',1))\n"
     ]
    }
   ],
   "source": [
    "sc = MinMaxScaler(feature_range = (-1, 1))\n",
    "X=sc.fit_transform(data.drop('Prediction',1))\n",
    "# X=data.drop('Prediction',1)\n",
    "Y = data[\"Prediction\"].values.reshape(-1,1)\n"
   ]
  },
  {
   "cell_type": "code",
   "execution_count": 6,
   "id": "b440227b",
   "metadata": {},
   "outputs": [
    {
     "name": "stderr",
     "output_type": "stream",
     "text": [
      "/opt/homebrew/Caskroom/miniforge/base/envs/fyp_new/lib/python3.8/site-packages/sklearn/utils/validation.py:993: DataConversionWarning: A column-vector y was passed when a 1d array was expected. Please change the shape of y to (n_samples, ), for example using ravel().\n",
      "  y = column_or_1d(y, warn=True)\n"
     ]
    },
    {
     "data": {
      "image/png": "[encoded data removed]",
      "text/plain": [
       "<Figure size 432x288 with 1 Axes>"
      ]
     },
     "metadata": {
      "needs_background": "light"
     },
     "output_type": "display_data"
    }
   ],
   "source": [
    "from sklearn.feature_selection import mutual_info_regression\n",
    "importance=mutual_info_regression(X,Y)\n",
    "feature_importances=pd.Series(importance,data.columns[0:len(data.columns)-1])\n",
    "feature_importances.plot(kind=\"barh\")\n",
    "plt.show()"
   ]
  },
  {
   "cell_type": "code",
   "execution_count": 7,
   "id": "cb6680b2",
   "metadata": {},
   "outputs": [
    {
     "name": "stdout",
     "output_type": "stream",
     "text": [
      "(4348, 1, 19) (4348, 1) (1087, 1, 19) (1087, 1)\n"
     ]
    }
   ],
   "source": [
    "# X=sc.fit_transform(data.drop(['Prediction','OSC12','OSC6','MI12','MI6','Volume','%R10','%R5','RSI'],1))\n",
    "# Y=np.array(data[\"Close\"])\n",
    "X_train, X_test, y_train, y_test = train_test_split(X, Y, test_size=0.2,shuffle=False)\n",
    "X_train = X_train.reshape((X_train.shape[0], 1, X_train.shape[1]))\n",
    "X_test = X_test.reshape((X_test.shape[0], 1, X_test.shape[1]))\n",
    "print(X_train.shape,y_train.shape,X_test.shape,y_test.shape)"
   ]
  },
  {
   "cell_type": "code",
   "execution_count": 8,
   "id": "bb8c5487",
   "metadata": {},
   "outputs": [
    {
     "name": "stdout",
     "output_type": "stream",
     "text": [
      "Metal device set to: Apple M1 Pro\n"
     ]
    },
    {
     "name": "stderr",
     "output_type": "stream",
     "text": [
      "2022-04-12 22:04:15.056648: I tensorflow/core/common_runtime/pluggable_device/pluggable_device_factory.cc:305] Could not identify NUMA node of platform GPU ID 0, defaulting to 0. Your kernel may not have been built with NUMA support.\n",
      "2022-04-12 22:04:15.056758: I tensorflow/core/common_runtime/pluggable_device/pluggable_device_factory.cc:271] Created TensorFlow device (/job:localhost/replica:0/task:0/device:GPU:0 with 0 MB memory) -> physical PluggableDevice (device: 0, name: METAL, pci bus id: <undefined>)\n"
     ]
    }
   ],
   "source": [
    "model_tech = keras.Sequential()\n",
    "model_tech.add(keras.layers.LSTM(\n",
    "  units=128,\n",
    "  input_shape=(X_train.shape[1], X_train.shape[2]),\n",
    "    return_sequences=True,\n",
    "    kernel_regularizer=regularizers.l2(0.01)\n",
    "))\n",
    "model_tech.add(keras.layers.LSTM(units=64))\n",
    "model_tech.add(keras.layers.Dense(units=64))\n",
    "model_tech.add(keras.layers.Dense(units=1))\n",
    "model_tech.compile(\n",
    "  loss='mean_squared_error',\n",
    "  optimizer=keras.optimizers.Adam(0.001)\n",
    ")"
   ]
  },
  {
   "cell_type": "code",
   "execution_count": null,
   "id": "428d66a4",
   "metadata": {
    "pycharm": {
     "is_executing": true
    },
    "scrolled": true
   },
   "outputs": [
    {
     "name": "stdout",
     "output_type": "stream",
     "text": [
      "Epoch 1/300\n"
     ]
    },
    {
     "name": "stderr",
     "output_type": "stream",
     "text": [
      "2022-04-12 22:04:15.498828: W tensorflow/core/platform/profile_utils/cpu_utils.cc:128] Failed to get CPU frequency: 0 Hz\n",
      "2022-04-12 22:04:16.796363: I tensorflow/core/grappler/optimizers/custom_graph_optimizer_registry.cc:113] Plugin optimizer for device_type GPU is enabled.\n",
      "2022-04-12 22:04:17.019656: I tensorflow/core/grappler/optimizers/custom_graph_optimizer_registry.cc:113] Plugin optimizer for device_type GPU is enabled.\n",
      "2022-04-12 22:04:17.227169: I tensorflow/core/grappler/optimizers/custom_graph_optimizer_registry.cc:113] Plugin optimizer for device_type GPU is enabled.\n",
      "2022-04-12 22:04:17.612189: I tensorflow/core/grappler/optimizers/custom_graph_optimizer_registry.cc:113] Plugin optimizer for device_type GPU is enabled.\n",
      "2022-04-12 22:04:17.766492: I tensorflow/core/grappler/optimizers/custom_graph_optimizer_registry.cc:113] Plugin optimizer for device_type GPU is enabled.\n"
     ]
    },
    {
     "name": "stdout",
     "output_type": "stream",
     "text": [
      "245/245 [==============================] - ETA: 0s - loss: 2431.9072"
     ]
    },
    {
     "name": "stderr",
     "output_type": "stream",
     "text": [
      "2022-04-12 22:04:21.511688: I tensorflow/core/grappler/optimizers/custom_graph_optimizer_registry.cc:113] Plugin optimizer for device_type GPU is enabled.\n",
      "2022-04-12 22:04:21.594844: I tensorflow/core/grappler/optimizers/custom_graph_optimizer_registry.cc:113] Plugin optimizer for device_type GPU is enabled.\n",
      "2022-04-12 22:04:21.619565: I tensorflow/core/grappler/optimizers/custom_graph_optimizer_registry.cc:113] Plugin optimizer for device_type GPU is enabled.\n"
     ]
    },
    {
     "name": "stdout",
     "output_type": "stream",
     "text": [
      "245/245 [==============================] - 6s 16ms/step - loss: 2431.9072 - val_loss: 36.6091\n",
      "Epoch 2/300\n",
      "245/245 [==============================] - 3s 11ms/step - loss: 60.1179 - val_loss: 23.5732\n",
      "Epoch 3/300\n",
      "245/245 [==============================] - 3s 11ms/step - loss: 35.6442 - val_loss: 14.4079\n",
      "Epoch 4/300\n",
      "245/245 [==============================] - 3s 11ms/step - loss: 26.3846 - val_loss: 10.0516\n",
      "Epoch 5/300\n",
      "245/245 [==============================] - 3s 11ms/step - loss: 21.8555 - val_loss: 8.4929\n",
      "Epoch 6/300\n",
      "245/245 [==============================] - 3s 11ms/step - loss: 18.9655 - val_loss: 7.9606\n",
      "Epoch 7/300\n",
      "245/245 [==============================] - 3s 12ms/step - loss: 16.8168 - val_loss: 8.0304\n",
      "Epoch 8/300\n",
      "245/245 [==============================] - 3s 10ms/step - loss: 15.0434 - val_loss: 8.7339\n",
      "Epoch 9/300\n",
      "245/245 [==============================] - 2s 10ms/step - loss: 13.4842 - val_loss: 10.0562\n",
      "Epoch 10/300\n",
      "245/245 [==============================] - 2s 10ms/step - loss: 12.0573 - val_loss: 11.7267\n",
      "Epoch 11/300\n",
      "245/245 [==============================] - 2s 9ms/step - loss: 10.7492 - val_loss: 13.2824\n",
      "Epoch 12/300\n",
      "245/245 [==============================] - 2s 9ms/step - loss: 9.5974 - val_loss: 14.2965\n",
      "Epoch 13/300\n",
      "245/245 [==============================] - 2s 9ms/step - loss: 8.6377 - val_loss: 14.5685\n",
      "Epoch 14/300\n",
      "245/245 [==============================] - 2s 9ms/step - loss: 7.8823 - val_loss: 14.1907\n",
      "Epoch 15/300\n",
      "245/245 [==============================] - 2s 9ms/step - loss: 7.2992 - val_loss: 13.4245\n",
      "Epoch 16/300\n",
      "245/245 [==============================] - 2s 9ms/step - loss: 6.8219 - val_loss: 12.5670\n",
      "Epoch 17/300\n",
      "245/245 [==============================] - 3s 11ms/step - loss: 6.3880 - val_loss: 11.9201\n",
      "Epoch 18/300\n",
      "245/245 [==============================] - 2s 9ms/step - loss: 5.9407 - val_loss: 11.5004\n",
      "Epoch 19/300\n",
      "245/245 [==============================] - 2s 9ms/step - loss: 5.4789 - val_loss: 11.0796\n",
      "Epoch 20/300\n",
      "145/245 [================>.............] - ETA: 0s - loss: 6.2445"
     ]
    }
   ],
   "source": [
    "history_tech=model_tech.fit(\n",
    "    X_train, y_train,\n",
    "    epochs=300,\n",
    "    batch_size=16,\n",
    "    validation_split=0.1,\n",
    "    verbose=1,\n",
    "    shuffle=False\n",
    ")\n",
    "y_pred = model_tech.predict(X_test)"
   ]
  },
  {
   "cell_type": "code",
   "execution_count": null,
   "id": "55aa57ad",
   "metadata": {},
   "outputs": [],
   "source": [
    "plt.plot(history_tech.history['loss'], label='train')\n",
    "plt.plot(history_tech.history['val_loss'], label='test')\n",
    "plt.legend()"
   ]
  },
  {
   "cell_type": "code",
   "execution_count": null,
   "id": "477f1fb7",
   "metadata": {},
   "outputs": [],
   "source": [
    "plt.plot(np.arange(0, len(y_train)), y_train, 'g', label=\"history\")\n",
    "plt.plot(np.arange(len(y_train), len(y_train) + len(y_test)), y_test, marker='.', label=\"true\")\n",
    "plt.plot(np.arange(len(y_train), len(y_train) + len(y_test)), y_pred, 'r', label=\"prediction\")\n",
    "plt.ylabel('Value')\n",
    "plt.xlabel('Time Step')\n",
    "plt.legend()\n",
    "plt.show()"
   ]
  },
  {
   "cell_type": "code",
   "execution_count": null,
   "id": "134553b2",
   "metadata": {
    "scrolled": true
   },
   "outputs": [],
   "source": [
    "# y_test = sc.inverse_transform(y_test)\n",
    "# y_pred = sc.inverse_transform(y_pred)\n",
    "plt.plot(y_test, marker='.', label=\"true\")\n",
    "plt.plot(y_pred, 'r', label=\"prediction\")\n",
    "plt.ylabel('Value')\n",
    "plt.xlabel('Time Step')\n",
    "plt.legend()\n",
    "plt.show();"
   ]
  },
  {
   "cell_type": "code",
   "execution_count": null,
   "id": "0ef7fe0c",
   "metadata": {},
   "outputs": [],
   "source": [
    "r2_score(y_test,y_pred)"
   ]
  },
  {
   "cell_type": "code",
   "execution_count": null,
   "id": "7cf212a7",
   "metadata": {},
   "outputs": [],
   "source": [
    "mean_absolute_percentage_error(y_test,y_pred)"
   ]
  },
  {
   "cell_type": "code",
   "execution_count": null,
   "id": "a0cd9d21",
   "metadata": {},
   "outputs": [],
   "source": [
    "mean_squared_error(y_test,y_pred,squared=False)"
   ]
  },
  {
   "cell_type": "code",
   "execution_count": null,
   "id": "325a7cdd",
   "metadata": {},
   "outputs": [],
   "source": [
    "x_val=data_val.drop(['Prediction'],1)\n",
    "y_val=data_val['Prediction']\n",
    "x_val=sc.transform(x_val).reshape(x_val.shape[0],1,x_val.shape[1])\n",
    "y_val_pred=model_tech.predict(x_val)"
   ]
  },
  {
   "cell_type": "code",
   "execution_count": null,
   "id": "529aefb2",
   "metadata": {},
   "outputs": [],
   "source": [
    "plt.plot(y_val.values, marker='.', label=\"true\")\n",
    "plt.plot(y_val_pred, 'r', marker='*',label=\"prediction\")\n",
    "plt.ylabel('Value')\n",
    "plt.xlabel('Time Step')\n",
    "plt.legend()\n",
    "plt.show()"
   ]
  },
  {
   "cell_type": "code",
   "execution_count": null,
   "id": "3b9ce3a3",
   "metadata": {},
   "outputs": [],
   "source": [
    "r2_score(y_val,y_val_pred)"
   ]
  },
  {
   "cell_type": "code",
   "execution_count": null,
   "id": "67bc6f38",
   "metadata": {},
   "outputs": [],
   "source": [
    "mean_absolute_percentage_error(y_val,y_val_pred)"
   ]
  },
  {
   "cell_type": "code",
   "execution_count": null,
   "id": "7a79ea1f",
   "metadata": {},
   "outputs": [],
   "source": [
    "mean_squared_error(y_val.values,y_val_pred,squared=False)"
   ]
  },
  {
   "cell_type": "code",
   "execution_count": null,
   "id": "d8ab65e9",
   "metadata": {},
   "outputs": [],
   "source": []
  }
 ],
 "metadata": {
  "kernelspec": {
   "display_name": "Python 3 (ipykernel)",
   "language": "python",
   "name": "python3"
  },
  "language_info": {
   "codemirror_mode": {
    "name": "ipython",
    "version": 3
   },
   "file_extension": ".py",
   "mimetype": "text/x-python",
   "name": "python",
   "nbconvert_exporter": "python",
   "pygments_lexer": "ipython3",
   "version": "3.8.13"
  }
 },
 "nbformat": 4,
 "nbformat_minor": 5
}
