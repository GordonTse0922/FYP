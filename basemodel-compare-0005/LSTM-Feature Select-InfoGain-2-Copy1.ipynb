{
 "cells": [
  {
   "cell_type": "code",
   "execution_count": 1,
   "id": "eb9ae2e7",
   "metadata": {},
   "outputs": [],
   "source": [
    "import yfinance as yf\n",
    "import pandas as pd\n",
    "import numpy as np\n",
    "import matplotlib.pyplot as plt\n",
    "from sklearn.preprocessing import MinMaxScaler\n",
    "from sklearn.model_selection import train_test_split\n",
    "from sklearn.metrics import classification_report,accuracy_score, mean_squared_error,mean_absolute_percentage_error,r2_score\n",
    "import tensorflow as tf\n",
    "import talib\n",
    "from tensorflow import keras\n",
    "from sklearn.pipeline import make_pipeline\n",
    "from tensorflow.keras import regularizers\n",
    "from keras.callbacks import EarlyStopping"
   ]
  },
  {
   "cell_type": "code",
   "execution_count": 2,
   "id": "9ad5f74c",
   "metadata": {},
   "outputs": [
    {
     "name": "stdout",
     "output_type": "stream",
     "text": [
      "[*********************100%***********************]  1 of 1 completed\n"
     ]
    }
   ],
   "source": [
    "data=yf.download('0005.hk','2018-01-01','2022-04-09')"
   ]
  },
  {
   "cell_type": "code",
   "execution_count": 3,
   "id": "781ab9b7",
   "metadata": {
    "pycharm": {
     "name": "#%%\n"
    }
   },
   "outputs": [],
   "source": [
    "data['6day MA'] = data['Close'].rolling(window = 6).mean()\n",
    "data['12day MA'] = data['Close'].rolling(window = 12).mean()\n",
    "data['RSI'] = talib.RSI(data['Close'].values, timeperiod = 7)\n",
    "data['%R5'] = talib.WILLR(data['High'].values, data['Low'].values, data['Close'].values, 5)\n",
    "data['%R10'] = talib.WILLR(data['High'].values, data['Low'].values, data['Close'].values, 10)\n",
    "data['MI6']=talib.MOM(data['Close'],timeperiod=6)\n",
    "data['MI12']=talib.MOM(data['Close'],timeperiod=12)\n",
    "macd, macdsignal, macdhist = talib.MACD(data['Close'], fastperiod=12, slowperiod=26, signalperiod=9)\n",
    "data['EMA12']=talib.EMA(data['Close'], timeperiod=12)\n",
    "data['EMA26']=talib.EMA(data['Close'],timeperiod=26)\n",
    "data['MACD']=macd\n",
    "data['TR']=talib.TRANGE(data['High'],data['Low'],data['Close'])\n",
    "data['OSC6']=talib.CMO(data['Close'], timeperiod=6)\n",
    "data['OSC12']=talib.CMO(data['Close'], timeperiod=12)\n",
    "data['Prediction']=data['Close'].shift(-1)\n",
    "data.dropna(inplace=True)"
   ]
  },
  {
   "cell_type": "code",
   "execution_count": 4,
   "id": "0c6d7cbf",
   "metadata": {},
   "outputs": [
    {
     "data": {
      "text/html": [
       "<div>\n",
       "<style scoped>\n",
       "    .dataframe tbody tr th:only-of-type {\n",
       "        vertical-align: middle;\n",
       "    }\n",
       "\n",
       "    .dataframe tbody tr th {\n",
       "        vertical-align: top;\n",
       "    }\n",
       "\n",
       "    .dataframe thead th {\n",
       "        text-align: right;\n",
       "    }\n",
       "</style>\n",
       "<table border=\"1\" class=\"dataframe\">\n",
       "  <thead>\n",
       "    <tr style=\"text-align: right;\">\n",
       "      <th></th>\n",
       "      <th>Open</th>\n",
       "      <th>High</th>\n",
       "      <th>Low</th>\n",
       "      <th>Close</th>\n",
       "      <th>Adj Close</th>\n",
       "      <th>Volume</th>\n",
       "      <th>6day MA</th>\n",
       "      <th>12day MA</th>\n",
       "      <th>RSI</th>\n",
       "      <th>%R5</th>\n",
       "      <th>%R10</th>\n",
       "      <th>MI6</th>\n",
       "      <th>MI12</th>\n",
       "      <th>EMA12</th>\n",
       "      <th>EMA26</th>\n",
       "      <th>MACD</th>\n",
       "      <th>TR</th>\n",
       "      <th>OSC6</th>\n",
       "      <th>OSC12</th>\n",
       "      <th>Prediction</th>\n",
       "    </tr>\n",
       "    <tr>\n",
       "      <th>Date</th>\n",
       "      <th></th>\n",
       "      <th></th>\n",
       "      <th></th>\n",
       "      <th></th>\n",
       "      <th></th>\n",
       "      <th></th>\n",
       "      <th></th>\n",
       "      <th></th>\n",
       "      <th></th>\n",
       "      <th></th>\n",
       "      <th></th>\n",
       "      <th></th>\n",
       "      <th></th>\n",
       "      <th></th>\n",
       "      <th></th>\n",
       "      <th></th>\n",
       "      <th></th>\n",
       "      <th></th>\n",
       "      <th></th>\n",
       "      <th></th>\n",
       "    </tr>\n",
       "  </thead>\n",
       "  <tbody>\n",
       "    <tr>\n",
       "      <th>2022-03-30</th>\n",
       "      <td>53.799999</td>\n",
       "      <td>54.450001</td>\n",
       "      <td>53.750000</td>\n",
       "      <td>53.950001</td>\n",
       "      <td>53.950001</td>\n",
       "      <td>20820331</td>\n",
       "      <td>53.308334</td>\n",
       "      <td>52.045834</td>\n",
       "      <td>69.919360</td>\n",
       "      <td>-20.833320</td>\n",
       "      <td>-10.638296</td>\n",
       "      <td>1.600002</td>\n",
       "      <td>4.350002</td>\n",
       "      <td>52.545739</td>\n",
       "      <td>52.523670</td>\n",
       "      <td>0.022069</td>\n",
       "      <td>0.950001</td>\n",
       "      <td>46.622377</td>\n",
       "      <td>18.475039</td>\n",
       "      <td>54.200001</td>\n",
       "    </tr>\n",
       "    <tr>\n",
       "      <th>2022-03-31</th>\n",
       "      <td>53.950001</td>\n",
       "      <td>54.299999</td>\n",
       "      <td>53.799999</td>\n",
       "      <td>54.200001</td>\n",
       "      <td>54.200001</td>\n",
       "      <td>12951991</td>\n",
       "      <td>53.483334</td>\n",
       "      <td>52.462500</td>\n",
       "      <td>71.849555</td>\n",
       "      <td>-14.285714</td>\n",
       "      <td>-6.849312</td>\n",
       "      <td>1.049999</td>\n",
       "      <td>5.000000</td>\n",
       "      <td>52.800241</td>\n",
       "      <td>52.647843</td>\n",
       "      <td>0.152398</td>\n",
       "      <td>0.500000</td>\n",
       "      <td>50.893767</td>\n",
       "      <td>20.961286</td>\n",
       "      <td>54.349998</td>\n",
       "    </tr>\n",
       "    <tr>\n",
       "      <th>2022-04-01</th>\n",
       "      <td>53.700001</td>\n",
       "      <td>54.349998</td>\n",
       "      <td>53.400002</td>\n",
       "      <td>54.349998</td>\n",
       "      <td>54.349998</td>\n",
       "      <td>8177523</td>\n",
       "      <td>53.758333</td>\n",
       "      <td>52.891667</td>\n",
       "      <td>73.059622</td>\n",
       "      <td>-6.060739</td>\n",
       "      <td>-2.777840</td>\n",
       "      <td>1.649998</td>\n",
       "      <td>5.149998</td>\n",
       "      <td>53.038665</td>\n",
       "      <td>52.773929</td>\n",
       "      <td>0.264737</td>\n",
       "      <td>0.949997</td>\n",
       "      <td>53.568896</td>\n",
       "      <td>22.508117</td>\n",
       "      <td>54.049999</td>\n",
       "    </tr>\n",
       "    <tr>\n",
       "      <th>2022-04-04</th>\n",
       "      <td>54.299999</td>\n",
       "      <td>54.349998</td>\n",
       "      <td>53.799999</td>\n",
       "      <td>54.049999</td>\n",
       "      <td>54.049999</td>\n",
       "      <td>10779509</td>\n",
       "      <td>53.966667</td>\n",
       "      <td>53.129167</td>\n",
       "      <td>66.399654</td>\n",
       "      <td>-24.242494</td>\n",
       "      <td>-12.903266</td>\n",
       "      <td>1.250000</td>\n",
       "      <td>2.849998</td>\n",
       "      <td>53.194255</td>\n",
       "      <td>52.868452</td>\n",
       "      <td>0.325803</td>\n",
       "      <td>0.549999</td>\n",
       "      <td>35.812143</td>\n",
       "      <td>17.491249</td>\n",
       "      <td>53.700001</td>\n",
       "    </tr>\n",
       "    <tr>\n",
       "      <th>2022-04-06</th>\n",
       "      <td>53.900002</td>\n",
       "      <td>54.049999</td>\n",
       "      <td>53.150002</td>\n",
       "      <td>53.700001</td>\n",
       "      <td>53.700001</td>\n",
       "      <td>17097274</td>\n",
       "      <td>53.958333</td>\n",
       "      <td>53.320833</td>\n",
       "      <td>59.070435</td>\n",
       "      <td>-57.692342</td>\n",
       "      <td>-31.249980</td>\n",
       "      <td>-0.049999</td>\n",
       "      <td>2.299999</td>\n",
       "      <td>53.272062</td>\n",
       "      <td>52.930049</td>\n",
       "      <td>0.342013</td>\n",
       "      <td>0.899998</td>\n",
       "      <td>16.890204</td>\n",
       "      <td>11.670984</td>\n",
       "      <td>53.450001</td>\n",
       "    </tr>\n",
       "  </tbody>\n",
       "</table>\n",
       "</div>"
      ],
      "text/plain": [
       "                 Open       High        Low      Close  Adj Close    Volume  \\\n",
       "Date                                                                          \n",
       "2022-03-30  53.799999  54.450001  53.750000  53.950001  53.950001  20820331   \n",
       "2022-03-31  53.950001  54.299999  53.799999  54.200001  54.200001  12951991   \n",
       "2022-04-01  53.700001  54.349998  53.400002  54.349998  54.349998   8177523   \n",
       "2022-04-04  54.299999  54.349998  53.799999  54.049999  54.049999  10779509   \n",
       "2022-04-06  53.900002  54.049999  53.150002  53.700001  53.700001  17097274   \n",
       "\n",
       "              6day MA   12day MA        RSI        %R5       %R10       MI6  \\\n",
       "Date                                                                          \n",
       "2022-03-30  53.308334  52.045834  69.919360 -20.833320 -10.638296  1.600002   \n",
       "2022-03-31  53.483334  52.462500  71.849555 -14.285714  -6.849312  1.049999   \n",
       "2022-04-01  53.758333  52.891667  73.059622  -6.060739  -2.777840  1.649998   \n",
       "2022-04-04  53.966667  53.129167  66.399654 -24.242494 -12.903266  1.250000   \n",
       "2022-04-06  53.958333  53.320833  59.070435 -57.692342 -31.249980 -0.049999   \n",
       "\n",
       "                MI12      EMA12      EMA26      MACD        TR       OSC6  \\\n",
       "Date                                                                        \n",
       "2022-03-30  4.350002  52.545739  52.523670  0.022069  0.950001  46.622377   \n",
       "2022-03-31  5.000000  52.800241  52.647843  0.152398  0.500000  50.893767   \n",
       "2022-04-01  5.149998  53.038665  52.773929  0.264737  0.949997  53.568896   \n",
       "2022-04-04  2.849998  53.194255  52.868452  0.325803  0.549999  35.812143   \n",
       "2022-04-06  2.299999  53.272062  52.930049  0.342013  0.899998  16.890204   \n",
       "\n",
       "                OSC12  Prediction  \n",
       "Date                               \n",
       "2022-03-30  18.475039   54.200001  \n",
       "2022-03-31  20.961286   54.349998  \n",
       "2022-04-01  22.508117   54.049999  \n",
       "2022-04-04  17.491249   53.700001  \n",
       "2022-04-06  11.670984   53.450001  "
      ]
     },
     "execution_count": 4,
     "metadata": {},
     "output_type": "execute_result"
    }
   ],
   "source": [
    "# data=data[data.columns[list(backwardModel.k_feature_idx_)]]\n",
    "data['Prediction']=data['Close'].shift(-1)\n",
    "data.dropna(inplace=True)\n",
    "data_val=data[-100:]\n",
    "data=data[:-100]\n",
    "data_val.tail()"
   ]
  },
  {
   "cell_type": "code",
   "execution_count": 5,
   "id": "13b49c54",
   "metadata": {},
   "outputs": [
    {
     "name": "stderr",
     "output_type": "stream",
     "text": [
      "/var/folders/8h/w0jn89bj2w5g85gj4ck7w0t00000gn/T/ipykernel_63907/543750826.py:2: FutureWarning: In a future version of pandas all arguments of DataFrame.drop except for the argument 'labels' will be keyword-only.\n",
      "  X=sc.fit_transform(data.drop('Prediction',1))\n"
     ]
    }
   ],
   "source": [
    "sc = MinMaxScaler(feature_range = (-1, 1))\n",
    "X=sc.fit_transform(data.drop('Prediction',1))\n",
    "# X=data.drop('Prediction',1)\n",
    "Y = data[\"Prediction\"].values.reshape(-1,1)\n"
   ]
  },
  {
   "cell_type": "code",
   "execution_count": 6,
   "id": "b440227b",
   "metadata": {},
   "outputs": [
    {
     "name": "stderr",
     "output_type": "stream",
     "text": [
      "/opt/homebrew/Caskroom/miniforge/base/envs/fyp_new/lib/python3.8/site-packages/sklearn/utils/validation.py:993: DataConversionWarning: A column-vector y was passed when a 1d array was expected. Please change the shape of y to (n_samples, ), for example using ravel().\n",
      "  y = column_or_1d(y, warn=True)\n"
     ]
    },
    {
     "data": {
      "image/png": "[encoded data removed]",
      "text/plain": [
       "<Figure size 432x288 with 1 Axes>"
      ]
     },
     "metadata": {
      "needs_background": "light"
     },
     "output_type": "display_data"
    }
   ],
   "source": [
    "from sklearn.feature_selection import mutual_info_regression\n",
    "importance=mutual_info_regression(X,Y)\n",
    "feature_importances=pd.Series(importance,data.columns[0:len(data.columns)-1])\n",
    "feature_importances.plot(kind=\"barh\")\n",
    "plt.show()"
   ]
  },
  {
   "cell_type": "code",
   "execution_count": 7,
   "id": "cb6680b2",
   "metadata": {},
   "outputs": [
    {
     "name": "stdout",
     "output_type": "stream",
     "text": [
      "(734, 1, 19) (734, 1) (184, 1, 19) (184, 1)\n"
     ]
    }
   ],
   "source": [
    "# X=sc.fit_transform(data.drop(['Prediction','OSC12','OSC6','MI12','MI6','Volume','%R10','%R5','RSI'],1))\n",
    "# Y=np.array(data[\"Close\"])\n",
    "X_train, X_test, y_train, y_test = train_test_split(X, Y, test_size=0.2,shuffle=False)\n",
    "X_train = X_train.reshape((X_train.shape[0], 1, X_train.shape[1]))\n",
    "X_test = X_test.reshape((X_test.shape[0], 1, X_test.shape[1]))\n",
    "print(X_train.shape,y_train.shape,X_test.shape,y_test.shape)"
   ]
  },
  {
   "cell_type": "code",
   "execution_count": 8,
   "id": "bb8c5487",
   "metadata": {},
   "outputs": [
    {
     "name": "stdout",
     "output_type": "stream",
     "text": [
      "Metal device set to: Apple M1 Pro\n"
     ]
    },
    {
     "name": "stderr",
     "output_type": "stream",
     "text": [
      "2022-04-12 22:27:02.629634: I tensorflow/core/common_runtime/pluggable_device/pluggable_device_factory.cc:305] Could not identify NUMA node of platform GPU ID 0, defaulting to 0. Your kernel may not have been built with NUMA support.\n",
      "2022-04-12 22:27:02.629752: I tensorflow/core/common_runtime/pluggable_device/pluggable_device_factory.cc:271] Created TensorFlow device (/job:localhost/replica:0/task:0/device:GPU:0 with 0 MB memory) -> physical PluggableDevice (device: 0, name: METAL, pci bus id: <undefined>)\n"
     ]
    }
   ],
   "source": [
    "model_tech = keras.Sequential()\n",
    "model_tech.add(keras.layers.LSTM(\n",
    "  units=128,\n",
    "  input_shape=(X_train.shape[1], X_train.shape[2]),\n",
    "    return_sequences=True,\n",
    "    kernel_regularizer=regularizers.l2(0.01)\n",
    "))\n",
    "model_tech.add(keras.layers.LSTM(units=64))\n",
    "model_tech.add(keras.layers.Dense(units=64))\n",
    "model_tech.add(keras.layers.Dense(units=1))\n",
    "model_tech.compile(\n",
    "  loss='mean_squared_error',\n",
    "  optimizer=keras.optimizers.Adam(0.001)\n",
    ")"
   ]
  },
  {
   "cell_type": "code",
   "execution_count": 9,
   "id": "428d66a4",
   "metadata": {
    "pycharm": {
     "is_executing": true
    },
    "scrolled": true
   },
   "outputs": [
    {
     "name": "stdout",
     "output_type": "stream",
     "text": [
      "Epoch 1/500\n"
     ]
    },
    {
     "name": "stderr",
     "output_type": "stream",
     "text": [
      "2022-04-12 22:27:03.065177: W tensorflow/core/platform/profile_utils/cpu_utils.cc:128] Failed to get CPU frequency: 0 Hz\n",
      "2022-04-12 22:27:04.398951: I tensorflow/core/grappler/optimizers/custom_graph_optimizer_registry.cc:113] Plugin optimizer for device_type GPU is enabled.\n",
      "2022-04-12 22:27:04.631009: I tensorflow/core/grappler/optimizers/custom_graph_optimizer_registry.cc:113] Plugin optimizer for device_type GPU is enabled.\n",
      "2022-04-12 22:27:04.668860: I tensorflow/core/grappler/optimizers/custom_graph_optimizer_registry.cc:113] Plugin optimizer for device_type GPU is enabled.\n",
      "2022-04-12 22:27:04.746944: I tensorflow/core/grappler/optimizers/custom_graph_optimizer_registry.cc:113] Plugin optimizer for device_type GPU is enabled.\n",
      "2022-04-12 22:27:04.825206: I tensorflow/core/grappler/optimizers/custom_graph_optimizer_registry.cc:113] Plugin optimizer for device_type GPU is enabled.\n"
     ]
    },
    {
     "name": "stdout",
     "output_type": "stream",
     "text": [
      "42/42 [==============================] - 3s 26ms/step - loss: 3617.9751 - val_loss: 1590.0951\n",
      "Epoch 2/500\n",
      " 1/42 [..............................] - ETA: 0s - loss: 5017.6353"
     ]
    },
    {
     "name": "stderr",
     "output_type": "stream",
     "text": [
      "2022-04-12 22:27:05.793643: I tensorflow/core/grappler/optimizers/custom_graph_optimizer_registry.cc:113] Plugin optimizer for device_type GPU is enabled.\n",
      "2022-04-12 22:27:05.874001: I tensorflow/core/grappler/optimizers/custom_graph_optimizer_registry.cc:113] Plugin optimizer for device_type GPU is enabled.\n",
      "2022-04-12 22:27:05.899161: I tensorflow/core/grappler/optimizers/custom_graph_optimizer_registry.cc:113] Plugin optimizer for device_type GPU is enabled.\n"
     ]
    },
    {
     "name": "stdout",
     "output_type": "stream",
     "text": [
      "42/42 [==============================] - 0s 11ms/step - loss: 2323.9353 - val_loss: 1491.2068\n",
      "Epoch 3/500\n",
      "42/42 [==============================] - 0s 10ms/step - loss: 248.1573 - val_loss: 862.8173\n",
      "Epoch 4/500\n",
      "42/42 [==============================] - 0s 11ms/step - loss: 69.4241 - val_loss: 255.3400\n",
      "Epoch 5/500\n",
      "42/42 [==============================] - 0s 11ms/step - loss: 32.6675 - val_loss: 104.2622\n",
      "Epoch 6/500\n",
      "42/42 [==============================] - 0s 11ms/step - loss: 32.1794 - val_loss: 98.8935\n",
      "Epoch 7/500\n",
      "42/42 [==============================] - 0s 11ms/step - loss: 26.1911 - val_loss: 92.4985\n",
      "Epoch 8/500\n",
      "42/42 [==============================] - 0s 11ms/step - loss: 23.6548 - val_loss: 90.2214\n",
      "Epoch 9/500\n",
      "42/42 [==============================] - 0s 11ms/step - loss: 21.4062 - val_loss: 88.3058\n",
      "Epoch 10/500\n",
      "42/42 [==============================] - 0s 11ms/step - loss: 19.3565 - val_loss: 85.6115\n",
      "Epoch 11/500\n",
      "42/42 [==============================] - 1s 13ms/step - loss: 17.5900 - val_loss: 82.2831\n",
      "Epoch 12/500\n",
      "42/42 [==============================] - 0s 11ms/step - loss: 16.0642 - val_loss: 78.4227\n",
      "Epoch 13/500\n",
      "42/42 [==============================] - 0s 11ms/step - loss: 14.7547 - val_loss: 74.2183\n",
      "Epoch 14/500\n",
      "42/42 [==============================] - 0s 10ms/step - loss: 13.6296 - val_loss: 69.8302\n",
      "Epoch 15/500\n",
      "42/42 [==============================] - 0s 10ms/step - loss: 12.6611 - val_loss: 65.4025\n",
      "Epoch 16/500\n",
      "42/42 [==============================] - 0s 11ms/step - loss: 11.8240 - val_loss: 61.0483\n",
      "Epoch 17/500\n",
      "42/42 [==============================] - 0s 10ms/step - loss: 11.0973 - val_loss: 56.8516\n",
      "Epoch 18/500\n",
      "42/42 [==============================] - 0s 11ms/step - loss: 10.4632 - val_loss: 52.8681\n",
      "Epoch 19/500\n",
      "42/42 [==============================] - 0s 10ms/step - loss: 9.9070 - val_loss: 49.1297\n",
      "Epoch 20/500\n",
      "42/42 [==============================] - 0s 10ms/step - loss: 9.4160 - val_loss: 45.6501\n",
      "Epoch 21/500\n",
      "42/42 [==============================] - 0s 11ms/step - loss: 8.9797 - val_loss: 42.4297\n",
      "Epoch 22/500\n",
      "42/42 [==============================] - 0s 11ms/step - loss: 8.5890 - val_loss: 39.4604\n",
      "Epoch 23/500\n",
      "42/42 [==============================] - 0s 10ms/step - loss: 8.2366 - val_loss: 36.7287\n",
      "Epoch 24/500\n",
      "42/42 [==============================] - 0s 10ms/step - loss: 7.9163 - val_loss: 34.2187\n",
      "Epoch 25/500\n",
      "42/42 [==============================] - 0s 11ms/step - loss: 7.6234 - val_loss: 31.9135\n",
      "Epoch 26/500\n",
      "42/42 [==============================] - 0s 11ms/step - loss: 7.3538 - val_loss: 29.7960\n",
      "Epoch 27/500\n",
      "42/42 [==============================] - 0s 10ms/step - loss: 7.1045 - val_loss: 27.8499\n",
      "Epoch 28/500\n",
      "42/42 [==============================] - 0s 11ms/step - loss: 6.8728 - val_loss: 26.0598\n",
      "Epoch 29/500\n",
      "42/42 [==============================] - 0s 11ms/step - loss: 6.6566 - val_loss: 24.4116\n",
      "Epoch 30/500\n",
      "42/42 [==============================] - 0s 10ms/step - loss: 6.4540 - val_loss: 22.8921\n",
      "Epoch 31/500\n",
      "42/42 [==============================] - 0s 10ms/step - loss: 6.2636 - val_loss: 21.4897\n",
      "Epoch 32/500\n",
      "42/42 [==============================] - 0s 11ms/step - loss: 6.0841 - val_loss: 20.1939\n",
      "Epoch 33/500\n",
      "42/42 [==============================] - 0s 11ms/step - loss: 5.9144 - val_loss: 18.9951\n",
      "Epoch 34/500\n",
      "42/42 [==============================] - 0s 12ms/step - loss: 5.7535 - val_loss: 17.8851\n",
      "Epoch 35/500\n",
      "42/42 [==============================] - 0s 11ms/step - loss: 5.6006 - val_loss: 16.8563\n",
      "Epoch 36/500\n",
      "42/42 [==============================] - 0s 9ms/step - loss: 5.4551 - val_loss: 15.9023\n",
      "Epoch 37/500\n",
      "42/42 [==============================] - 0s 10ms/step - loss: 5.3162 - val_loss: 15.0173\n",
      "Epoch 38/500\n",
      "42/42 [==============================] - 0s 9ms/step - loss: 5.1833 - val_loss: 14.1961\n",
      "Epoch 39/500\n",
      "42/42 [==============================] - 0s 9ms/step - loss: 5.0559 - val_loss: 13.4342\n",
      "Epoch 40/500\n",
      "42/42 [==============================] - 0s 9ms/step - loss: 4.9335 - val_loss: 12.7277\n",
      "Epoch 41/500\n",
      "42/42 [==============================] - 0s 9ms/step - loss: 4.8156 - val_loss: 12.0729\n",
      "Epoch 42/500\n",
      "42/42 [==============================] - 0s 9ms/step - loss: 4.7016 - val_loss: 11.4666\n",
      "Epoch 43/500\n",
      "42/42 [==============================] - 0s 10ms/step - loss: 4.5912 - val_loss: 10.9058\n",
      "Epoch 44/500\n",
      "42/42 [==============================] - 0s 9ms/step - loss: 4.4839 - val_loss: 10.3878\n",
      "Epoch 45/500\n",
      "42/42 [==============================] - 0s 9ms/step - loss: 4.3793 - val_loss: 9.9100\n",
      "Epoch 46/500\n",
      "42/42 [==============================] - 0s 9ms/step - loss: 4.2771 - val_loss: 9.4700\n",
      "Epoch 47/500\n",
      "42/42 [==============================] - 0s 9ms/step - loss: 4.1769 - val_loss: 9.0657\n",
      "Epoch 48/500\n",
      "42/42 [==============================] - 0s 9ms/step - loss: 4.0784 - val_loss: 8.6948\n",
      "Epoch 49/500\n",
      "42/42 [==============================] - 0s 9ms/step - loss: 3.9815 - val_loss: 8.3553\n",
      "Epoch 50/500\n",
      "42/42 [==============================] - 0s 10ms/step - loss: 3.8860 - val_loss: 8.0455\n",
      "Epoch 51/500\n",
      "42/42 [==============================] - 0s 9ms/step - loss: 3.7916 - val_loss: 7.7634\n",
      "Epoch 52/500\n",
      "42/42 [==============================] - 0s 9ms/step - loss: 3.6984 - val_loss: 7.5072\n",
      "Epoch 53/500\n",
      "42/42 [==============================] - 0s 9ms/step - loss: 3.6063 - val_loss: 7.2752\n",
      "Epoch 54/500\n",
      "42/42 [==============================] - 0s 9ms/step - loss: 3.5152 - val_loss: 7.0656\n",
      "Epoch 55/500\n",
      "42/42 [==============================] - 0s 10ms/step - loss: 3.4252 - val_loss: 6.8769\n",
      "Epoch 56/500\n",
      "42/42 [==============================] - 0s 9ms/step - loss: 3.3364 - val_loss: 6.7073\n",
      "Epoch 57/500\n",
      "42/42 [==============================] - 0s 10ms/step - loss: 3.2488 - val_loss: 6.5551\n",
      "Epoch 58/500\n",
      "42/42 [==============================] - 0s 10ms/step - loss: 3.1627 - val_loss: 6.4185\n",
      "Epoch 59/500\n",
      "42/42 [==============================] - 0s 9ms/step - loss: 3.0781 - val_loss: 6.2957\n",
      "Epoch 60/500\n",
      "42/42 [==============================] - 0s 9ms/step - loss: 2.9952 - val_loss: 6.1851\n",
      "Epoch 61/500\n",
      "42/42 [==============================] - 0s 10ms/step - loss: 2.9143 - val_loss: 6.0847\n",
      "Epoch 62/500\n",
      "42/42 [==============================] - 0s 9ms/step - loss: 2.8355 - val_loss: 5.9927\n",
      "Epoch 63/500\n",
      "42/42 [==============================] - 0s 9ms/step - loss: 2.7590 - val_loss: 5.9074\n",
      "Epoch 64/500\n",
      "42/42 [==============================] - 0s 10ms/step - loss: 2.6851 - val_loss: 5.8269\n",
      "Epoch 65/500\n",
      "42/42 [==============================] - 0s 10ms/step - loss: 2.6140 - val_loss: 5.7497\n",
      "Epoch 66/500\n",
      "42/42 [==============================] - 0s 10ms/step - loss: 2.5458 - val_loss: 5.6740\n",
      "Epoch 67/500\n",
      "42/42 [==============================] - 0s 9ms/step - loss: 2.4806 - val_loss: 5.5985\n",
      "Epoch 68/500\n",
      "42/42 [==============================] - 0s 9ms/step - loss: 2.4187 - val_loss: 5.5219\n",
      "Epoch 69/500\n",
      "42/42 [==============================] - 0s 9ms/step - loss: 2.3602 - val_loss: 5.4432\n",
      "Epoch 70/500\n",
      "42/42 [==============================] - 0s 9ms/step - loss: 2.3050 - val_loss: 5.3615\n",
      "Epoch 71/500\n",
      "42/42 [==============================] - 0s 10ms/step - loss: 2.2534 - val_loss: 5.2763\n",
      "Epoch 72/500\n",
      "42/42 [==============================] - 0s 10ms/step - loss: 2.2052 - val_loss: 5.1872\n",
      "Epoch 73/500\n",
      "42/42 [==============================] - 0s 10ms/step - loss: 2.1604 - val_loss: 5.0941\n",
      "Epoch 74/500\n",
      "42/42 [==============================] - 0s 9ms/step - loss: 2.1190 - val_loss: 4.9971\n",
      "Epoch 75/500\n",
      "42/42 [==============================] - 0s 10ms/step - loss: 2.0809 - val_loss: 4.8965\n",
      "Epoch 76/500\n",
      "42/42 [==============================] - 0s 9ms/step - loss: 2.0461 - val_loss: 4.7927\n",
      "Epoch 77/500\n",
      "42/42 [==============================] - 0s 9ms/step - loss: 2.0142 - val_loss: 4.6861\n",
      "Epoch 78/500\n",
      "42/42 [==============================] - 0s 9ms/step - loss: 1.9853 - val_loss: 4.5774\n",
      "Epoch 79/500\n",
      "42/42 [==============================] - 0s 9ms/step - loss: 1.9592 - val_loss: 4.4671\n",
      "Epoch 80/500\n",
      "42/42 [==============================] - 0s 9ms/step - loss: 1.9357 - val_loss: 4.3559\n",
      "Epoch 81/500\n",
      "42/42 [==============================] - 0s 9ms/step - loss: 1.9147 - val_loss: 4.2443\n",
      "Epoch 82/500\n",
      "42/42 [==============================] - 0s 9ms/step - loss: 1.8959 - val_loss: 4.1329\n"
     ]
    },
    {
     "name": "stdout",
     "output_type": "stream",
     "text": [
      "Epoch 83/500\n",
      "42/42 [==============================] - 0s 9ms/step - loss: 1.8794 - val_loss: 4.0223\n",
      "Epoch 84/500\n",
      "42/42 [==============================] - 0s 9ms/step - loss: 1.8649 - val_loss: 3.9130\n",
      "Epoch 85/500\n",
      "42/42 [==============================] - 0s 9ms/step - loss: 1.8522 - val_loss: 3.8054\n",
      "Epoch 86/500\n",
      "42/42 [==============================] - 0s 10ms/step - loss: 1.8414 - val_loss: 3.6999\n",
      "Epoch 87/500\n",
      "42/42 [==============================] - 0s 10ms/step - loss: 1.8321 - val_loss: 3.5968\n",
      "Epoch 88/500\n",
      "42/42 [==============================] - 0s 9ms/step - loss: 1.8244 - val_loss: 3.4966\n",
      "Epoch 89/500\n",
      "42/42 [==============================] - 0s 9ms/step - loss: 1.8180 - val_loss: 3.3994\n",
      "Epoch 90/500\n",
      "42/42 [==============================] - 0s 9ms/step - loss: 1.8129 - val_loss: 3.3054\n",
      "Epoch 91/500\n",
      "42/42 [==============================] - 0s 9ms/step - loss: 1.8088 - val_loss: 3.2149\n",
      "Epoch 92/500\n",
      "42/42 [==============================] - 0s 9ms/step - loss: 1.8057 - val_loss: 3.1279\n",
      "Epoch 93/500\n",
      "42/42 [==============================] - 0s 9ms/step - loss: 1.8034 - val_loss: 3.0444\n",
      "Epoch 94/500\n",
      "42/42 [==============================] - 0s 9ms/step - loss: 1.8017 - val_loss: 2.9646\n",
      "Epoch 95/500\n",
      "42/42 [==============================] - 0s 9ms/step - loss: 1.8005 - val_loss: 2.8885\n",
      "Epoch 96/500\n",
      "42/42 [==============================] - 0s 9ms/step - loss: 1.7996 - val_loss: 2.8159\n",
      "Epoch 97/500\n",
      "42/42 [==============================] - 0s 9ms/step - loss: 1.7990 - val_loss: 2.7468\n",
      "Epoch 98/500\n",
      "42/42 [==============================] - 0s 9ms/step - loss: 1.7983 - val_loss: 2.6812\n",
      "Epoch 99/500\n",
      "42/42 [==============================] - 0s 10ms/step - loss: 1.7976 - val_loss: 2.6188\n",
      "Epoch 100/500\n",
      "42/42 [==============================] - 0s 9ms/step - loss: 1.7966 - val_loss: 2.5596\n",
      "Epoch 101/500\n",
      "42/42 [==============================] - 0s 9ms/step - loss: 1.7953 - val_loss: 2.5033\n",
      "Epoch 102/500\n",
      "42/42 [==============================] - 0s 9ms/step - loss: 1.7936 - val_loss: 2.4499\n",
      "Epoch 103/500\n",
      "42/42 [==============================] - 0s 9ms/step - loss: 1.7913 - val_loss: 2.3990\n",
      "Epoch 104/500\n",
      "42/42 [==============================] - 0s 9ms/step - loss: 1.7885 - val_loss: 2.3507\n",
      "Epoch 105/500\n",
      "42/42 [==============================] - 0s 9ms/step - loss: 1.7851 - val_loss: 2.3046\n",
      "Epoch 106/500\n",
      "42/42 [==============================] - 0s 9ms/step - loss: 1.7811 - val_loss: 2.2607\n",
      "Epoch 107/500\n",
      "42/42 [==============================] - 0s 9ms/step - loss: 1.7766 - val_loss: 2.2187\n",
      "Epoch 108/500\n",
      "42/42 [==============================] - 0s 10ms/step - loss: 1.7715 - val_loss: 2.1786\n",
      "Epoch 109/500\n",
      "42/42 [==============================] - 0s 9ms/step - loss: 1.7660 - val_loss: 2.1402\n",
      "Epoch 110/500\n",
      "42/42 [==============================] - 0s 9ms/step - loss: 1.7601 - val_loss: 2.1035\n",
      "Epoch 111/500\n",
      "42/42 [==============================] - 0s 9ms/step - loss: 1.7539 - val_loss: 2.0684\n",
      "Epoch 112/500\n",
      "42/42 [==============================] - 0s 10ms/step - loss: 1.7474 - val_loss: 2.0347\n",
      "Epoch 113/500\n",
      "42/42 [==============================] - 0s 10ms/step - loss: 1.7408 - val_loss: 2.0024\n",
      "Epoch 114/500\n",
      "42/42 [==============================] - 0s 10ms/step - loss: 1.7342 - val_loss: 1.9714\n",
      "Epoch 115/500\n",
      "42/42 [==============================] - 0s 9ms/step - loss: 1.7276 - val_loss: 1.9418\n",
      "Epoch 116/500\n",
      "42/42 [==============================] - 0s 10ms/step - loss: 1.7211 - val_loss: 1.9135\n",
      "Epoch 117/500\n",
      "42/42 [==============================] - 0s 9ms/step - loss: 1.7147 - val_loss: 1.8864\n",
      "Epoch 118/500\n",
      "42/42 [==============================] - 0s 10ms/step - loss: 1.7085 - val_loss: 1.8604\n",
      "Epoch 119/500\n",
      "42/42 [==============================] - 0s 9ms/step - loss: 1.7026 - val_loss: 1.8357\n",
      "Epoch 120/500\n",
      "42/42 [==============================] - 0s 9ms/step - loss: 1.6969 - val_loss: 1.8120\n",
      "Epoch 121/500\n",
      "42/42 [==============================] - 0s 9ms/step - loss: 1.6914 - val_loss: 1.7895\n",
      "Epoch 122/500\n",
      "42/42 [==============================] - 0s 9ms/step - loss: 1.6863 - val_loss: 1.7679\n",
      "Epoch 123/500\n",
      "42/42 [==============================] - 0s 10ms/step - loss: 1.6813 - val_loss: 1.7473\n",
      "Epoch 124/500\n",
      "42/42 [==============================] - 0s 10ms/step - loss: 1.6766 - val_loss: 1.7277\n",
      "Epoch 125/500\n",
      "42/42 [==============================] - 0s 10ms/step - loss: 1.6720 - val_loss: 1.7089\n",
      "Epoch 126/500\n",
      "42/42 [==============================] - 0s 10ms/step - loss: 1.6675 - val_loss: 1.6910\n",
      "Epoch 127/500\n",
      "42/42 [==============================] - 0s 9ms/step - loss: 1.6631 - val_loss: 1.6738\n",
      "Epoch 128/500\n",
      "42/42 [==============================] - 0s 9ms/step - loss: 1.6587 - val_loss: 1.6573\n",
      "Epoch 129/500\n",
      "42/42 [==============================] - 0s 9ms/step - loss: 1.6543 - val_loss: 1.6414\n",
      "Epoch 130/500\n",
      "42/42 [==============================] - 0s 9ms/step - loss: 1.6498 - val_loss: 1.6262\n",
      "Epoch 131/500\n",
      "42/42 [==============================] - 0s 9ms/step - loss: 1.6450 - val_loss: 1.6113\n",
      "Epoch 132/500\n",
      "42/42 [==============================] - 0s 9ms/step - loss: 1.6399 - val_loss: 1.5970\n",
      "Epoch 133/500\n",
      "42/42 [==============================] - 0s 10ms/step - loss: 1.6346 - val_loss: 1.5829\n",
      "Epoch 134/500\n",
      "42/42 [==============================] - 0s 10ms/step - loss: 1.6291 - val_loss: 1.5693\n",
      "Epoch 135/500\n",
      "42/42 [==============================] - 0s 9ms/step - loss: 1.6232 - val_loss: 1.5559\n",
      "Epoch 136/500\n",
      "42/42 [==============================] - 0s 10ms/step - loss: 1.6169 - val_loss: 1.5429\n",
      "Epoch 137/500\n",
      "42/42 [==============================] - 0s 10ms/step - loss: 1.6102 - val_loss: 1.5300\n",
      "Epoch 138/500\n",
      "42/42 [==============================] - 0s 10ms/step - loss: 1.6031 - val_loss: 1.5173\n",
      "Epoch 139/500\n",
      "42/42 [==============================] - 0s 10ms/step - loss: 1.5956 - val_loss: 1.5047\n",
      "Epoch 140/500\n",
      "42/42 [==============================] - 0s 10ms/step - loss: 1.5878 - val_loss: 1.4922\n",
      "Epoch 141/500\n",
      "42/42 [==============================] - 0s 9ms/step - loss: 1.5800 - val_loss: 1.4799\n",
      "Epoch 142/500\n",
      "42/42 [==============================] - 0s 9ms/step - loss: 1.5722 - val_loss: 1.4678\n",
      "Epoch 143/500\n",
      "42/42 [==============================] - 0s 9ms/step - loss: 1.5648 - val_loss: 1.4562\n",
      "Epoch 144/500\n",
      "42/42 [==============================] - 0s 9ms/step - loss: 1.5577 - val_loss: 1.4450\n",
      "Epoch 145/500\n",
      "42/42 [==============================] - 0s 9ms/step - loss: 1.5508 - val_loss: 1.4344\n",
      "Epoch 146/500\n",
      "42/42 [==============================] - 0s 9ms/step - loss: 1.5439 - val_loss: 1.4241\n",
      "Epoch 147/500\n",
      "42/42 [==============================] - 0s 9ms/step - loss: 1.5368 - val_loss: 1.4140\n",
      "Epoch 148/500\n",
      "42/42 [==============================] - 0s 9ms/step - loss: 1.5298 - val_loss: 1.4038\n",
      "Epoch 149/500\n",
      "42/42 [==============================] - 0s 9ms/step - loss: 1.5234 - val_loss: 1.3934\n",
      "Epoch 150/500\n",
      "42/42 [==============================] - 0s 9ms/step - loss: 1.5186 - val_loss: 1.3830\n",
      "Epoch 151/500\n",
      "42/42 [==============================] - 0s 9ms/step - loss: 1.5167 - val_loss: 1.3731\n",
      "Epoch 152/500\n",
      "42/42 [==============================] - 0s 9ms/step - loss: 1.5187 - val_loss: 1.3646\n",
      "Epoch 153/500\n",
      "42/42 [==============================] - 0s 9ms/step - loss: 1.5248 - val_loss: 1.3587\n",
      "Epoch 154/500\n",
      "42/42 [==============================] - 0s 9ms/step - loss: 1.5336 - val_loss: 1.3567\n",
      "Epoch 155/500\n",
      "42/42 [==============================] - 0s 9ms/step - loss: 1.5415 - val_loss: 1.3593\n",
      "Epoch 156/500\n",
      "42/42 [==============================] - 0s 10ms/step - loss: 1.5428 - val_loss: 1.3659\n",
      "Epoch 157/500\n",
      "42/42 [==============================] - 0s 10ms/step - loss: 1.5315 - val_loss: 1.3729\n",
      "Epoch 158/500\n",
      "42/42 [==============================] - 0s 10ms/step - loss: 1.5047 - val_loss: 1.3740\n",
      "Epoch 159/500\n",
      "42/42 [==============================] - 0s 10ms/step - loss: 1.4677 - val_loss: 1.3634\n",
      "Epoch 160/500\n",
      "42/42 [==============================] - 0s 10ms/step - loss: 1.4343 - val_loss: 1.3414\n",
      "Epoch 161/500\n",
      "42/42 [==============================] - 0s 10ms/step - loss: 1.4234 - val_loss: 1.3176\n",
      "Epoch 162/500\n",
      "42/42 [==============================] - 0s 9ms/step - loss: 1.4570 - val_loss: 1.3070\n",
      "Epoch 163/500\n",
      "42/42 [==============================] - 0s 10ms/step - loss: 1.5791 - val_loss: 1.3115\n",
      "Epoch 164/500\n"
     ]
    },
    {
     "name": "stdout",
     "output_type": "stream",
     "text": [
      "42/42 [==============================] - 0s 10ms/step - loss: 1.9101 - val_loss: 1.2793\n",
      "Epoch 165/500\n",
      "42/42 [==============================] - 0s 10ms/step - loss: 2.6580 - val_loss: 1.3697\n",
      "Epoch 166/500\n",
      "42/42 [==============================] - 0s 10ms/step - loss: 3.7279 - val_loss: 3.6565\n",
      "Epoch 167/500\n",
      "42/42 [==============================] - 0s 9ms/step - loss: 3.9789 - val_loss: 7.3594\n",
      "Epoch 168/500\n",
      "42/42 [==============================] - 0s 9ms/step - loss: 2.6478 - val_loss: 5.5316\n",
      "Epoch 169/500\n",
      "42/42 [==============================] - 0s 10ms/step - loss: 4.6237 - val_loss: 4.1417\n",
      "Epoch 170/500\n",
      "42/42 [==============================] - 0s 9ms/step - loss: 6.7091 - val_loss: 11.4270\n",
      "Epoch 171/500\n",
      "42/42 [==============================] - 0s 10ms/step - loss: 2.8043 - val_loss: 1.9275\n",
      "Epoch 172/500\n",
      "42/42 [==============================] - 0s 9ms/step - loss: 14.6305 - val_loss: 9.1027\n",
      "Epoch 173/500\n",
      "42/42 [==============================] - 0s 9ms/step - loss: 14.4882 - val_loss: 4.3424\n",
      "Epoch 174/500\n",
      "42/42 [==============================] - 0s 10ms/step - loss: 1.1826 - val_loss: 2.5306\n",
      "Epoch 175/500\n",
      "42/42 [==============================] - 0s 9ms/step - loss: 1.5995 - val_loss: 1.9602\n",
      "Epoch 176/500\n",
      "42/42 [==============================] - 0s 10ms/step - loss: 1.0227 - val_loss: 2.3040\n",
      "Epoch 177/500\n",
      "42/42 [==============================] - 0s 9ms/step - loss: 1.4246 - val_loss: 2.7931\n",
      "Epoch 178/500\n",
      "42/42 [==============================] - 0s 10ms/step - loss: 1.5401 - val_loss: 2.8898\n",
      "Epoch 179/500\n",
      "42/42 [==============================] - 0s 10ms/step - loss: 1.0898 - val_loss: 2.3928\n",
      "Epoch 180/500\n",
      "42/42 [==============================] - 0s 9ms/step - loss: 0.9007 - val_loss: 2.0406\n",
      "Epoch 181/500\n",
      "42/42 [==============================] - 0s 9ms/step - loss: 0.8707 - val_loss: 1.9515\n",
      "Epoch 182/500\n",
      "42/42 [==============================] - 0s 9ms/step - loss: 0.9170 - val_loss: 2.1150\n",
      "Epoch 183/500\n",
      "42/42 [==============================] - 0s 9ms/step - loss: 1.0764 - val_loss: 2.3008\n",
      "Epoch 184/500\n",
      "42/42 [==============================] - 0s 9ms/step - loss: 1.0715 - val_loss: 2.2840\n",
      "Epoch 185/500\n",
      "42/42 [==============================] - 0s 9ms/step - loss: 0.9497 - val_loss: 2.0806\n",
      "Epoch 186/500\n",
      "42/42 [==============================] - 0s 9ms/step - loss: 0.8811 - val_loss: 1.8843\n",
      "Epoch 187/500\n",
      "42/42 [==============================] - 0s 10ms/step - loss: 0.8624 - val_loss: 1.8132\n",
      "Epoch 188/500\n",
      "42/42 [==============================] - 0s 10ms/step - loss: 0.8810 - val_loss: 1.8538\n",
      "Epoch 189/500\n",
      "42/42 [==============================] - 0s 9ms/step - loss: 0.9308 - val_loss: 1.9138\n",
      "Epoch 190/500\n",
      "42/42 [==============================] - 0s 10ms/step - loss: 0.9536 - val_loss: 1.9030\n",
      "Epoch 191/500\n",
      "42/42 [==============================] - 0s 10ms/step - loss: 0.9320 - val_loss: 1.8243\n",
      "Epoch 192/500\n",
      "42/42 [==============================] - 0s 10ms/step - loss: 0.9033 - val_loss: 1.7453\n",
      "Epoch 193/500\n",
      "42/42 [==============================] - 0s 10ms/step - loss: 0.8909 - val_loss: 1.7044\n",
      "Epoch 194/500\n",
      "42/42 [==============================] - 0s 10ms/step - loss: 0.8933 - val_loss: 1.6851\n",
      "Epoch 195/500\n",
      "42/42 [==============================] - 0s 10ms/step - loss: 0.8980 - val_loss: 1.6544\n",
      "Epoch 196/500\n",
      "42/42 [==============================] - 0s 9ms/step - loss: 0.8965 - val_loss: 1.6055\n",
      "Epoch 197/500\n",
      "42/42 [==============================] - 0s 9ms/step - loss: 0.8930 - val_loss: 1.5589\n",
      "Epoch 198/500\n",
      "42/42 [==============================] - 0s 9ms/step - loss: 0.8963 - val_loss: 1.5299\n",
      "Epoch 199/500\n",
      "42/42 [==============================] - 0s 9ms/step - loss: 0.9089 - val_loss: 1.5127\n",
      "Epoch 200/500\n",
      "42/42 [==============================] - 0s 9ms/step - loss: 0.9249 - val_loss: 1.4919\n",
      "Epoch 201/500\n",
      "42/42 [==============================] - 0s 9ms/step - loss: 0.9370 - val_loss: 1.4601\n",
      "Epoch 202/500\n",
      "42/42 [==============================] - 0s 9ms/step - loss: 0.9455 - val_loss: 1.4225\n",
      "Epoch 203/500\n",
      "42/42 [==============================] - 0s 9ms/step - loss: 0.9564 - val_loss: 1.3879\n",
      "Epoch 204/500\n",
      "42/42 [==============================] - 0s 9ms/step - loss: 0.9756 - val_loss: 1.3614\n",
      "Epoch 204: early stopping\n"
     ]
    },
    {
     "name": "stderr",
     "output_type": "stream",
     "text": [
      "2022-04-12 22:28:29.067497: I tensorflow/core/grappler/optimizers/custom_graph_optimizer_registry.cc:113] Plugin optimizer for device_type GPU is enabled.\n",
      "2022-04-12 22:28:29.138884: I tensorflow/core/grappler/optimizers/custom_graph_optimizer_registry.cc:113] Plugin optimizer for device_type GPU is enabled.\n",
      "2022-04-12 22:28:29.166027: I tensorflow/core/grappler/optimizers/custom_graph_optimizer_registry.cc:113] Plugin optimizer for device_type GPU is enabled.\n"
     ]
    }
   ],
   "source": [
    "es = EarlyStopping(monitor='val_loss', mode='min', verbose=1,patience=40, min_delta=0.0001)\n",
    "history_tech=model_tech.fit(\n",
    "    X_train, y_train,\n",
    "    epochs=500,\n",
    "    batch_size=16,\n",
    "    validation_split=0.1,\n",
    "    verbose=1,\n",
    "    shuffle=False,\n",
    "    callbacks=[es]\n",
    ")\n",
    "y_pred = model_tech.predict(X_test)"
   ]
  },
  {
   "cell_type": "code",
   "execution_count": 10,
   "id": "55aa57ad",
   "metadata": {},
   "outputs": [
    {
     "data": {
      "text/plain": [
       "<matplotlib.legend.Legend at 0x281a743d0>"
      ]
     },
     "execution_count": 10,
     "metadata": {},
     "output_type": "execute_result"
    },
    {
     "data": {
      "image/png": "[encoded data removed]",
      "text/plain": [
       "<Figure size 432x288 with 1 Axes>"
      ]
     },
     "metadata": {
      "needs_background": "light"
     },
     "output_type": "display_data"
    }
   ],
   "source": [
    "plt.plot(history_tech.history['loss'], label='train')\n",
    "plt.plot(history_tech.history['val_loss'], label='test')\n",
    "plt.legend()"
   ]
  },
  {
   "cell_type": "code",
   "execution_count": 11,
   "id": "477f1fb7",
   "metadata": {},
   "outputs": [
    {
     "data": {
      "image/png": "[encoded data removed]",
      "text/plain": [
       "<Figure size 432x288 with 1 Axes>"
      ]
     },
     "metadata": {
      "needs_background": "light"
     },
     "output_type": "display_data"
    }
   ],
   "source": [
    "plt.plot(np.arange(0, len(y_train)), y_train, 'g', label=\"history\")\n",
    "plt.plot(np.arange(len(y_train), len(y_train) + len(y_test)), y_test, marker='.', label=\"true\")\n",
    "plt.plot(np.arange(len(y_train), len(y_train) + len(y_test)), y_pred, 'r', label=\"prediction\")\n",
    "plt.ylabel('Value')\n",
    "plt.xlabel('Time Step')\n",
    "plt.legend()\n",
    "plt.show()"
   ]
  },
  {
   "cell_type": "code",
   "execution_count": 12,
   "id": "134553b2",
   "metadata": {
    "scrolled": true
   },
   "outputs": [
    {
     "data": {
      "image/png": "[encoded data removed]",
      "text/plain": [
       "<Figure size 432x288 with 1 Axes>"
      ]
     },
     "metadata": {
      "needs_background": "light"
     },
     "output_type": "display_data"
    }
   ],
   "source": [
    "# y_test = sc.inverse_transform(y_test)\n",
    "# y_pred = sc.inverse_transform(y_pred)\n",
    "plt.plot(y_test, marker='.', label=\"true\")\n",
    "plt.plot(y_pred, 'r', label=\"prediction\")\n",
    "plt.ylabel('Value')\n",
    "plt.xlabel('Time Step')\n",
    "plt.title('HSBC(0005.hk)-LSTM')\n",
    "plt.legend()\n",
    "plt.show();"
   ]
  },
  {
   "cell_type": "code",
   "execution_count": 13,
   "id": "0ef7fe0c",
   "metadata": {},
   "outputs": [
    {
     "data": {
      "text/plain": [
       "0.8828570818094693"
      ]
     },
     "execution_count": 13,
     "metadata": {},
     "output_type": "execute_result"
    }
   ],
   "source": [
    "r2_score(y_test,y_pred)"
   ]
  },
  {
   "cell_type": "code",
   "execution_count": 14,
   "id": "7cf212a7",
   "metadata": {},
   "outputs": [
    {
     "data": {
      "text/plain": [
       "0.015067381560982158"
      ]
     },
     "execution_count": 14,
     "metadata": {},
     "output_type": "execute_result"
    }
   ],
   "source": [
    "mean_absolute_percentage_error(y_test,y_pred)"
   ]
  },
  {
   "cell_type": "code",
   "execution_count": 15,
   "id": "a0cd9d21",
   "metadata": {},
   "outputs": [
    {
     "data": {
      "text/plain": [
       "0.9005453755205812"
      ]
     },
     "execution_count": 15,
     "metadata": {},
     "output_type": "execute_result"
    }
   ],
   "source": [
    "mean_squared_error(y_test,y_pred,squared=False)"
   ]
  },
  {
   "cell_type": "code",
   "execution_count": 16,
   "id": "325a7cdd",
   "metadata": {},
   "outputs": [
    {
     "name": "stderr",
     "output_type": "stream",
     "text": [
      "/var/folders/8h/w0jn89bj2w5g85gj4ck7w0t00000gn/T/ipykernel_63907/2648236666.py:1: FutureWarning: In a future version of pandas all arguments of DataFrame.drop except for the argument 'labels' will be keyword-only.\n",
      "  x_val=data_val.drop(['Prediction'],1)\n"
     ]
    }
   ],
   "source": [
    "x_val=data_val.drop(['Prediction'],1)\n",
    "y_val=data_val['Prediction']\n",
    "x_val=sc.transform(x_val).reshape(x_val.shape[0],1,x_val.shape[1])\n",
    "y_val_pred=model_tech.predict(x_val)"
   ]
  },
  {
   "cell_type": "code",
   "execution_count": 17,
   "id": "529aefb2",
   "metadata": {},
   "outputs": [
    {
     "data": {
      "image/png": "[encoded data removed]",
      "text/plain": [
       "<Figure size 432x288 with 1 Axes>"
      ]
     },
     "metadata": {
      "needs_background": "light"
     },
     "output_type": "display_data"
    }
   ],
   "source": [
    "plt.plot(y_val.values, marker='.', label=\"true\")\n",
    "plt.plot(y_val_pred, 'r', marker='*',label=\"prediction\")\n",
    "plt.ylabel('Value')\n",
    "plt.xlabel('Time Step')\n",
    "plt.legend()\n",
    "plt.show()"
   ]
  },
  {
   "cell_type": "code",
   "execution_count": 18,
   "id": "3b9ce3a3",
   "metadata": {},
   "outputs": [
    {
     "data": {
      "text/plain": [
       "0.9086903777887116"
      ]
     },
     "execution_count": 18,
     "metadata": {},
     "output_type": "execute_result"
    }
   ],
   "source": [
    "r2_score(y_val,y_val_pred)"
   ]
  },
  {
   "cell_type": "code",
   "execution_count": 19,
   "id": "67bc6f38",
   "metadata": {},
   "outputs": [
    {
     "data": {
      "text/plain": [
       "0.020417391112054692"
      ]
     },
     "execution_count": 19,
     "metadata": {},
     "output_type": "execute_result"
    }
   ],
   "source": [
    "mean_absolute_percentage_error(y_val,y_val_pred)"
   ]
  },
  {
   "cell_type": "code",
   "execution_count": 20,
   "id": "7a79ea1f",
   "metadata": {},
   "outputs": [
    {
     "data": {
      "text/plain": [
       "1.4264689254058232"
      ]
     },
     "execution_count": 20,
     "metadata": {},
     "output_type": "execute_result"
    }
   ],
   "source": [
    "mean_squared_error(y_val.values,y_val_pred,squared=False)"
   ]
  },
  {
   "cell_type": "code",
   "execution_count": null,
   "id": "d8ab65e9",
   "metadata": {},
   "outputs": [],
   "source": []
  }
 ],
 "metadata": {
  "kernelspec": {
   "display_name": "Python 3 (ipykernel)",
   "language": "python",
   "name": "python3"
  },
  "language_info": {
   "codemirror_mode": {
    "name": "ipython",
    "version": 3
   },
   "file_extension": ".py",
   "mimetype": "text/x-python",
   "name": "python",
   "nbconvert_exporter": "python",
   "pygments_lexer": "ipython3",
   "version": "3.8.13"
  }
 },
 "nbformat": 4,
 "nbformat_minor": 5
}
