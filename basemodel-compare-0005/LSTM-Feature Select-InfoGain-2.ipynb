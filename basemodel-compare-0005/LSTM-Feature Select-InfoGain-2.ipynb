{
 "cells": [
  {
   "cell_type": "code",
   "execution_count": 1,
   "id": "eb9ae2e7",
   "metadata": {},
   "outputs": [],
   "source": [
    "import yfinance as yf\n",
    "import pandas as pd\n",
    "import numpy as np\n",
    "import matplotlib.pyplot as plt\n",
    "from sklearn.preprocessing import MinMaxScaler\n",
    "from sklearn.model_selection import train_test_split\n",
    "from sklearn.metrics import classification_report,accuracy_score, mean_squared_error,mean_absolute_percentage_error,r2_score\n",
    "import tensorflow as tf\n",
    "import talib\n",
    "from tensorflow import keras\n",
    "from sklearn.pipeline import make_pipeline\n",
    "from tensorflow.keras import regularizers\n",
    "from keras.callbacks import EarlyStopping"
   ]
  },
  {
   "cell_type": "code",
   "execution_count": 2,
   "id": "9ad5f74c",
   "metadata": {},
   "outputs": [
    {
     "name": "stdout",
     "output_type": "stream",
     "text": [
      "[*********************100%***********************]  1 of 1 completed\n"
     ]
    }
   ],
   "source": [
    "data=yf.download('0005.hk','2018-01-01','2022-04-09')"
   ]
  },
  {
   "cell_type": "code",
   "execution_count": 3,
   "id": "781ab9b7",
   "metadata": {
    "pycharm": {
     "name": "#%%\n"
    }
   },
   "outputs": [],
   "source": [
    "data['6day MA'] = data['Close'].rolling(window = 6).mean()\n",
    "data['12day MA'] = data['Close'].rolling(window = 12).mean()\n",
    "data['RSI'] = talib.RSI(data['Close'].values, timeperiod = 7)\n",
    "data['%R5'] = talib.WILLR(data['High'].values, data['Low'].values, data['Close'].values, 5)\n",
    "data['%R10'] = talib.WILLR(data['High'].values, data['Low'].values, data['Close'].values, 10)\n",
    "data['MI6']=talib.MOM(data['Close'],timeperiod=6)\n",
    "data['MI12']=talib.MOM(data['Close'],timeperiod=12)\n",
    "macd, macdsignal, macdhist = talib.MACD(data['Close'], fastperiod=12, slowperiod=26, signalperiod=9)\n",
    "data['EMA12']=talib.EMA(data['Close'], timeperiod=12)\n",
    "data['EMA26']=talib.EMA(data['Close'],timeperiod=26)\n",
    "data['MACD']=macd\n",
    "data['TR']=talib.TRANGE(data['High'],data['Low'],data['Close'])\n",
    "data['OSC6']=talib.CMO(data['Close'], timeperiod=6)\n",
    "data['OSC12']=talib.CMO(data['Close'], timeperiod=12)\n",
    "data['Prediction']=data['Close'].shift(-1)\n",
    "data.dropna(inplace=True)"
   ]
  },
  {
   "cell_type": "code",
   "execution_count": 4,
   "id": "0c6d7cbf",
   "metadata": {},
   "outputs": [
    {
     "data": {
      "text/html": [
       "<div>\n",
       "<style scoped>\n",
       "    .dataframe tbody tr th:only-of-type {\n",
       "        vertical-align: middle;\n",
       "    }\n",
       "\n",
       "    .dataframe tbody tr th {\n",
       "        vertical-align: top;\n",
       "    }\n",
       "\n",
       "    .dataframe thead th {\n",
       "        text-align: right;\n",
       "    }\n",
       "</style>\n",
       "<table border=\"1\" class=\"dataframe\">\n",
       "  <thead>\n",
       "    <tr style=\"text-align: right;\">\n",
       "      <th></th>\n",
       "      <th>Open</th>\n",
       "      <th>High</th>\n",
       "      <th>Low</th>\n",
       "      <th>Close</th>\n",
       "      <th>Adj Close</th>\n",
       "      <th>Volume</th>\n",
       "      <th>6day MA</th>\n",
       "      <th>12day MA</th>\n",
       "      <th>RSI</th>\n",
       "      <th>%R5</th>\n",
       "      <th>%R10</th>\n",
       "      <th>MI6</th>\n",
       "      <th>MI12</th>\n",
       "      <th>EMA12</th>\n",
       "      <th>EMA26</th>\n",
       "      <th>MACD</th>\n",
       "      <th>TR</th>\n",
       "      <th>OSC6</th>\n",
       "      <th>OSC12</th>\n",
       "      <th>Prediction</th>\n",
       "    </tr>\n",
       "    <tr>\n",
       "      <th>Date</th>\n",
       "      <th></th>\n",
       "      <th></th>\n",
       "      <th></th>\n",
       "      <th></th>\n",
       "      <th></th>\n",
       "      <th></th>\n",
       "      <th></th>\n",
       "      <th></th>\n",
       "      <th></th>\n",
       "      <th></th>\n",
       "      <th></th>\n",
       "      <th></th>\n",
       "      <th></th>\n",
       "      <th></th>\n",
       "      <th></th>\n",
       "      <th></th>\n",
       "      <th></th>\n",
       "      <th></th>\n",
       "      <th></th>\n",
       "      <th></th>\n",
       "    </tr>\n",
       "  </thead>\n",
       "  <tbody>\n",
       "    <tr>\n",
       "      <th>2022-03-30</th>\n",
       "      <td>53.799999</td>\n",
       "      <td>54.450001</td>\n",
       "      <td>53.750000</td>\n",
       "      <td>53.950001</td>\n",
       "      <td>53.950001</td>\n",
       "      <td>20820331</td>\n",
       "      <td>53.308334</td>\n",
       "      <td>52.045834</td>\n",
       "      <td>69.919360</td>\n",
       "      <td>-20.833320</td>\n",
       "      <td>-10.638296</td>\n",
       "      <td>1.600002</td>\n",
       "      <td>4.350002</td>\n",
       "      <td>52.545739</td>\n",
       "      <td>52.523670</td>\n",
       "      <td>0.022069</td>\n",
       "      <td>0.950001</td>\n",
       "      <td>46.622377</td>\n",
       "      <td>18.475039</td>\n",
       "      <td>54.200001</td>\n",
       "    </tr>\n",
       "    <tr>\n",
       "      <th>2022-03-31</th>\n",
       "      <td>53.950001</td>\n",
       "      <td>54.299999</td>\n",
       "      <td>53.799999</td>\n",
       "      <td>54.200001</td>\n",
       "      <td>54.200001</td>\n",
       "      <td>12951991</td>\n",
       "      <td>53.483334</td>\n",
       "      <td>52.462500</td>\n",
       "      <td>71.849555</td>\n",
       "      <td>-14.285714</td>\n",
       "      <td>-6.849312</td>\n",
       "      <td>1.049999</td>\n",
       "      <td>5.000000</td>\n",
       "      <td>52.800241</td>\n",
       "      <td>52.647843</td>\n",
       "      <td>0.152398</td>\n",
       "      <td>0.500000</td>\n",
       "      <td>50.893767</td>\n",
       "      <td>20.961286</td>\n",
       "      <td>54.349998</td>\n",
       "    </tr>\n",
       "    <tr>\n",
       "      <th>2022-04-01</th>\n",
       "      <td>53.700001</td>\n",
       "      <td>54.349998</td>\n",
       "      <td>53.400002</td>\n",
       "      <td>54.349998</td>\n",
       "      <td>54.349998</td>\n",
       "      <td>8177523</td>\n",
       "      <td>53.758333</td>\n",
       "      <td>52.891667</td>\n",
       "      <td>73.059622</td>\n",
       "      <td>-6.060739</td>\n",
       "      <td>-2.777840</td>\n",
       "      <td>1.649998</td>\n",
       "      <td>5.149998</td>\n",
       "      <td>53.038665</td>\n",
       "      <td>52.773929</td>\n",
       "      <td>0.264737</td>\n",
       "      <td>0.949997</td>\n",
       "      <td>53.568896</td>\n",
       "      <td>22.508117</td>\n",
       "      <td>54.049999</td>\n",
       "    </tr>\n",
       "    <tr>\n",
       "      <th>2022-04-04</th>\n",
       "      <td>54.299999</td>\n",
       "      <td>54.349998</td>\n",
       "      <td>53.799999</td>\n",
       "      <td>54.049999</td>\n",
       "      <td>54.049999</td>\n",
       "      <td>10779509</td>\n",
       "      <td>53.966667</td>\n",
       "      <td>53.129167</td>\n",
       "      <td>66.399654</td>\n",
       "      <td>-24.242494</td>\n",
       "      <td>-12.903266</td>\n",
       "      <td>1.250000</td>\n",
       "      <td>2.849998</td>\n",
       "      <td>53.194255</td>\n",
       "      <td>52.868452</td>\n",
       "      <td>0.325803</td>\n",
       "      <td>0.549999</td>\n",
       "      <td>35.812143</td>\n",
       "      <td>17.491249</td>\n",
       "      <td>53.700001</td>\n",
       "    </tr>\n",
       "    <tr>\n",
       "      <th>2022-04-06</th>\n",
       "      <td>53.900002</td>\n",
       "      <td>54.049999</td>\n",
       "      <td>53.150002</td>\n",
       "      <td>53.700001</td>\n",
       "      <td>53.700001</td>\n",
       "      <td>17097274</td>\n",
       "      <td>53.958333</td>\n",
       "      <td>53.320833</td>\n",
       "      <td>59.070435</td>\n",
       "      <td>-57.692342</td>\n",
       "      <td>-31.249980</td>\n",
       "      <td>-0.049999</td>\n",
       "      <td>2.299999</td>\n",
       "      <td>53.272062</td>\n",
       "      <td>52.930049</td>\n",
       "      <td>0.342013</td>\n",
       "      <td>0.899998</td>\n",
       "      <td>16.890204</td>\n",
       "      <td>11.670984</td>\n",
       "      <td>53.450001</td>\n",
       "    </tr>\n",
       "  </tbody>\n",
       "</table>\n",
       "</div>"
      ],
      "text/plain": [
       "                 Open       High        Low      Close  Adj Close    Volume  \\\n",
       "Date                                                                          \n",
       "2022-03-30  53.799999  54.450001  53.750000  53.950001  53.950001  20820331   \n",
       "2022-03-31  53.950001  54.299999  53.799999  54.200001  54.200001  12951991   \n",
       "2022-04-01  53.700001  54.349998  53.400002  54.349998  54.349998   8177523   \n",
       "2022-04-04  54.299999  54.349998  53.799999  54.049999  54.049999  10779509   \n",
       "2022-04-06  53.900002  54.049999  53.150002  53.700001  53.700001  17097274   \n",
       "\n",
       "              6day MA   12day MA        RSI        %R5       %R10       MI6  \\\n",
       "Date                                                                          \n",
       "2022-03-30  53.308334  52.045834  69.919360 -20.833320 -10.638296  1.600002   \n",
       "2022-03-31  53.483334  52.462500  71.849555 -14.285714  -6.849312  1.049999   \n",
       "2022-04-01  53.758333  52.891667  73.059622  -6.060739  -2.777840  1.649998   \n",
       "2022-04-04  53.966667  53.129167  66.399654 -24.242494 -12.903266  1.250000   \n",
       "2022-04-06  53.958333  53.320833  59.070435 -57.692342 -31.249980 -0.049999   \n",
       "\n",
       "                MI12      EMA12      EMA26      MACD        TR       OSC6  \\\n",
       "Date                                                                        \n",
       "2022-03-30  4.350002  52.545739  52.523670  0.022069  0.950001  46.622377   \n",
       "2022-03-31  5.000000  52.800241  52.647843  0.152398  0.500000  50.893767   \n",
       "2022-04-01  5.149998  53.038665  52.773929  0.264737  0.949997  53.568896   \n",
       "2022-04-04  2.849998  53.194255  52.868452  0.325803  0.549999  35.812143   \n",
       "2022-04-06  2.299999  53.272062  52.930049  0.342013  0.899998  16.890204   \n",
       "\n",
       "                OSC12  Prediction  \n",
       "Date                               \n",
       "2022-03-30  18.475039   54.200001  \n",
       "2022-03-31  20.961286   54.349998  \n",
       "2022-04-01  22.508117   54.049999  \n",
       "2022-04-04  17.491249   53.700001  \n",
       "2022-04-06  11.670984   53.450001  "
      ]
     },
     "execution_count": 4,
     "metadata": {},
     "output_type": "execute_result"
    }
   ],
   "source": [
    "# data=data[data.columns[list(backwardModel.k_feature_idx_)]]\n",
    "data['Prediction']=data['Close'].shift(-1)\n",
    "data.dropna(inplace=True)\n",
    "data_val=data[-100:]\n",
    "data=data[:-100]\n",
    "data_val.tail()"
   ]
  },
  {
   "cell_type": "code",
   "execution_count": 5,
   "id": "13b49c54",
   "metadata": {},
   "outputs": [
    {
     "name": "stderr",
     "output_type": "stream",
     "text": [
      "/var/folders/8h/w0jn89bj2w5g85gj4ck7w0t00000gn/T/ipykernel_55980/543750826.py:2: FutureWarning: In a future version of pandas all arguments of DataFrame.drop except for the argument 'labels' will be keyword-only.\n",
      "  X=sc.fit_transform(data.drop('Prediction',1))\n"
     ]
    }
   ],
   "source": [
    "sc = MinMaxScaler(feature_range = (-1, 1))\n",
    "X=sc.fit_transform(data.drop('Prediction',1))\n",
    "# X=data.drop('Prediction',1)\n",
    "Y = data[\"Prediction\"].values.reshape(-1,1)\n"
   ]
  },
  {
   "cell_type": "code",
   "execution_count": 6,
   "id": "b440227b",
   "metadata": {},
   "outputs": [
    {
     "name": "stderr",
     "output_type": "stream",
     "text": [
      "/opt/homebrew/Caskroom/miniforge/base/envs/fyp_new/lib/python3.8/site-packages/sklearn/utils/validation.py:993: DataConversionWarning: A column-vector y was passed when a 1d array was expected. Please change the shape of y to (n_samples, ), for example using ravel().\n",
      "  y = column_or_1d(y, warn=True)\n"
     ]
    },
    {
     "data": {
      "image/png": "[encoded data removed]",
      "text/plain": [
       "<Figure size 432x288 with 1 Axes>"
      ]
     },
     "metadata": {
      "needs_background": "light"
     },
     "output_type": "display_data"
    }
   ],
   "source": [
    "from sklearn.feature_selection import mutual_info_regression\n",
    "importance=mutual_info_regression(X,Y)\n",
    "feature_importances=pd.Series(importance,data.columns[0:len(data.columns)-1])\n",
    "feature_importances.plot(kind=\"barh\")\n",
    "plt.show()"
   ]
  },
  {
   "cell_type": "code",
   "execution_count": 7,
   "id": "cb6680b2",
   "metadata": {},
   "outputs": [
    {
     "name": "stdout",
     "output_type": "stream",
     "text": [
      "(734, 1, 19) (734, 1) (184, 1, 19) (184, 1)\n"
     ]
    }
   ],
   "source": [
    "# X=sc.fit_transform(data.drop(['Prediction','OSC12','OSC6','MI12','MI6','Volume','%R10','%R5','RSI'],1))\n",
    "# Y=np.array(data[\"Close\"])\n",
    "X_train, X_test, y_train, y_test = train_test_split(X, Y, test_size=0.2,shuffle=False)\n",
    "X_train = X_train.reshape((X_train.shape[0], 1, X_train.shape[1]))\n",
    "X_test = X_test.reshape((X_test.shape[0], 1, X_test.shape[1]))\n",
    "print(X_train.shape,y_train.shape,X_test.shape,y_test.shape)"
   ]
  },
  {
   "cell_type": "code",
   "execution_count": 8,
   "id": "bb8c5487",
   "metadata": {},
   "outputs": [
    {
     "name": "stdout",
     "output_type": "stream",
     "text": [
      "Metal device set to: Apple M1 Pro\n"
     ]
    },
    {
     "name": "stderr",
     "output_type": "stream",
     "text": [
      "2022-04-12 22:16:23.046079: I tensorflow/core/common_runtime/pluggable_device/pluggable_device_factory.cc:305] Could not identify NUMA node of platform GPU ID 0, defaulting to 0. Your kernel may not have been built with NUMA support.\n",
      "2022-04-12 22:16:23.046194: I tensorflow/core/common_runtime/pluggable_device/pluggable_device_factory.cc:271] Created TensorFlow device (/job:localhost/replica:0/task:0/device:GPU:0 with 0 MB memory) -> physical PluggableDevice (device: 0, name: METAL, pci bus id: <undefined>)\n"
     ]
    }
   ],
   "source": [
    "model_tech = keras.Sequential()\n",
    "model_tech.add(keras.layers.LSTM(\n",
    "  units=128,\n",
    "  input_shape=(X_train.shape[1], X_train.shape[2]),\n",
    "    return_sequences=True,\n",
    "    kernel_regularizer=regularizers.l2(0.01)\n",
    "))\n",
    "model_tech.add(keras.layers.LSTM(units=64))\n",
    "model_tech.add(keras.layers.Dense(units=64))\n",
    "model_tech.add(keras.layers.Dense(units=1))\n",
    "model_tech.compile(\n",
    "  loss='mean_squared_error',\n",
    "  optimizer=keras.optimizers.Adam(0.001)\n",
    ")"
   ]
  },
  {
   "cell_type": "code",
   "execution_count": 9,
   "id": "428d66a4",
   "metadata": {
    "pycharm": {
     "is_executing": true
    },
    "scrolled": true
   },
   "outputs": [
    {
     "name": "stdout",
     "output_type": "stream",
     "text": [
      "Epoch 1/500\n"
     ]
    },
    {
     "name": "stderr",
     "output_type": "stream",
     "text": [
      "2022-04-12 22:16:23.484211: W tensorflow/core/platform/profile_utils/cpu_utils.cc:128] Failed to get CPU frequency: 0 Hz\n",
      "2022-04-12 22:16:24.766945: I tensorflow/core/grappler/optimizers/custom_graph_optimizer_registry.cc:113] Plugin optimizer for device_type GPU is enabled.\n",
      "2022-04-12 22:16:24.996624: I tensorflow/core/grappler/optimizers/custom_graph_optimizer_registry.cc:113] Plugin optimizer for device_type GPU is enabled.\n",
      "2022-04-12 22:16:25.033047: I tensorflow/core/grappler/optimizers/custom_graph_optimizer_registry.cc:113] Plugin optimizer for device_type GPU is enabled.\n",
      "2022-04-12 22:16:25.101843: I tensorflow/core/grappler/optimizers/custom_graph_optimizer_registry.cc:113] Plugin optimizer for device_type GPU is enabled.\n",
      "2022-04-12 22:16:25.167168: I tensorflow/core/grappler/optimizers/custom_graph_optimizer_registry.cc:113] Plugin optimizer for device_type GPU is enabled.\n"
     ]
    },
    {
     "name": "stdout",
     "output_type": "stream",
     "text": [
      "42/42 [==============================] - 3s 27ms/step - loss: 3604.0029 - val_loss: 1588.2397\n",
      "Epoch 2/500\n"
     ]
    },
    {
     "name": "stderr",
     "output_type": "stream",
     "text": [
      "2022-04-12 22:16:26.154052: I tensorflow/core/grappler/optimizers/custom_graph_optimizer_registry.cc:113] Plugin optimizer for device_type GPU is enabled.\n",
      "2022-04-12 22:16:26.243134: I tensorflow/core/grappler/optimizers/custom_graph_optimizer_registry.cc:113] Plugin optimizer for device_type GPU is enabled.\n",
      "2022-04-12 22:16:26.269621: I tensorflow/core/grappler/optimizers/custom_graph_optimizer_registry.cc:113] Plugin optimizer for device_type GPU is enabled.\n"
     ]
    },
    {
     "name": "stdout",
     "output_type": "stream",
     "text": [
      "42/42 [==============================] - 0s 11ms/step - loss: 2142.9802 - val_loss: 1453.6331\n",
      "Epoch 3/500\n",
      "42/42 [==============================] - 0s 10ms/step - loss: 219.1896 - val_loss: 798.2577\n",
      "Epoch 4/500\n",
      "42/42 [==============================] - 0s 12ms/step - loss: 62.8204 - val_loss: 245.9789\n",
      "Epoch 5/500\n",
      "42/42 [==============================] - 0s 11ms/step - loss: 33.7915 - val_loss: 111.8302\n",
      "Epoch 6/500\n",
      "42/42 [==============================] - 0s 11ms/step - loss: 33.0942 - val_loss: 103.2901\n",
      "Epoch 7/500\n",
      "42/42 [==============================] - 0s 11ms/step - loss: 27.1795 - val_loss: 95.9748\n",
      "Epoch 8/500\n",
      "42/42 [==============================] - 0s 11ms/step - loss: 24.5042 - val_loss: 93.2360\n",
      "Epoch 9/500\n",
      "42/42 [==============================] - 0s 11ms/step - loss: 22.0719 - val_loss: 90.7661\n",
      "Epoch 10/500\n",
      "42/42 [==============================] - 0s 10ms/step - loss: 19.8722 - val_loss: 87.5702\n",
      "Epoch 11/500\n",
      "42/42 [==============================] - 0s 10ms/step - loss: 17.9695 - val_loss: 83.7970\n",
      "Epoch 12/500\n",
      "42/42 [==============================] - 0s 10ms/step - loss: 16.3276 - val_loss: 79.5964\n",
      "Epoch 13/500\n",
      "42/42 [==============================] - 0s 10ms/step - loss: 14.9227 - val_loss: 75.1742\n",
      "Epoch 14/500\n",
      "42/42 [==============================] - 0s 11ms/step - loss: 13.7224 - val_loss: 70.6904\n",
      "Epoch 15/500\n",
      "42/42 [==============================] - 0s 12ms/step - loss: 12.6962 - val_loss: 66.2746\n",
      "Epoch 16/500\n",
      "42/42 [==============================] - 1s 13ms/step - loss: 11.8151 - val_loss: 62.0170\n",
      "Epoch 17/500\n",
      "42/42 [==============================] - 0s 11ms/step - loss: 11.0545 - val_loss: 57.9756\n",
      "Epoch 18/500\n",
      "42/42 [==============================] - 0s 12ms/step - loss: 10.3937 - val_loss: 54.1814\n",
      "Epoch 19/500\n",
      "42/42 [==============================] - 0s 12ms/step - loss: 9.8157 - val_loss: 50.6451\n",
      "Epoch 20/500\n",
      "42/42 [==============================] - 0s 11ms/step - loss: 9.3065 - val_loss: 47.3637\n",
      "Epoch 21/500\n",
      "42/42 [==============================] - 0s 11ms/step - loss: 8.8543 - val_loss: 44.3259\n",
      "Epoch 22/500\n",
      "42/42 [==============================] - 0s 11ms/step - loss: 8.4495 - val_loss: 41.5155\n",
      "Epoch 23/500\n",
      "42/42 [==============================] - 0s 11ms/step - loss: 8.0839 - val_loss: 38.9144\n",
      "Epoch 24/500\n",
      "42/42 [==============================] - 0s 11ms/step - loss: 7.7512 - val_loss: 36.5035\n",
      "Epoch 25/500\n",
      "42/42 [==============================] - 0s 11ms/step - loss: 7.4461 - val_loss: 34.2643\n",
      "Epoch 26/500\n",
      "42/42 [==============================] - 0s 10ms/step - loss: 7.1645 - val_loss: 32.1797\n",
      "Epoch 27/500\n",
      "42/42 [==============================] - 0s 11ms/step - loss: 6.9034 - val_loss: 30.2341\n",
      "Epoch 28/500\n",
      "42/42 [==============================] - 0s 12ms/step - loss: 6.6603 - val_loss: 28.4140\n",
      "Epoch 29/500\n",
      "42/42 [==============================] - 0s 10ms/step - loss: 6.4336 - val_loss: 26.7081\n",
      "Epoch 30/500\n",
      "42/42 [==============================] - 0s 10ms/step - loss: 6.2216 - val_loss: 25.1068\n",
      "Epoch 31/500\n",
      "42/42 [==============================] - 0s 10ms/step - loss: 6.0231 - val_loss: 23.6021\n",
      "Epoch 32/500\n",
      "42/42 [==============================] - 0s 10ms/step - loss: 5.8370 - val_loss: 22.1874\n",
      "Epoch 33/500\n",
      "42/42 [==============================] - 0s 10ms/step - loss: 5.6621 - val_loss: 20.8564\n",
      "Epoch 34/500\n",
      "42/42 [==============================] - 0s 11ms/step - loss: 5.4975 - val_loss: 19.6040\n",
      "Epoch 35/500\n",
      "42/42 [==============================] - 0s 11ms/step - loss: 5.3422 - val_loss: 18.4255\n",
      "Epoch 36/500\n",
      "42/42 [==============================] - 0s 10ms/step - loss: 5.1956 - val_loss: 17.3168\n",
      "Epoch 37/500\n",
      "42/42 [==============================] - 0s 11ms/step - loss: 5.0570 - val_loss: 16.2747\n",
      "Epoch 38/500\n",
      "42/42 [==============================] - 0s 11ms/step - loss: 4.9256 - val_loss: 15.2964\n",
      "Epoch 39/500\n",
      "42/42 [==============================] - 0s 11ms/step - loss: 4.8009 - val_loss: 14.3798\n",
      "Epoch 40/500\n",
      "42/42 [==============================] - 1s 12ms/step - loss: 4.6824 - val_loss: 13.5232\n",
      "Epoch 41/500\n",
      "42/42 [==============================] - 0s 12ms/step - loss: 4.5695 - val_loss: 12.7250\n",
      "Epoch 42/500\n",
      "42/42 [==============================] - 0s 11ms/step - loss: 4.4617 - val_loss: 11.9837\n",
      "Epoch 43/500\n",
      "42/42 [==============================] - 0s 11ms/step - loss: 4.3583 - val_loss: 11.2980\n",
      "Epoch 44/500\n",
      "42/42 [==============================] - 0s 10ms/step - loss: 4.2590 - val_loss: 10.6659\n",
      "Epoch 45/500\n",
      "42/42 [==============================] - 0s 10ms/step - loss: 4.1632 - val_loss: 10.0857\n",
      "Epoch 46/500\n",
      "42/42 [==============================] - 0s 11ms/step - loss: 4.0704 - val_loss: 9.5551\n",
      "Epoch 47/500\n",
      "42/42 [==============================] - 0s 11ms/step - loss: 3.9801 - val_loss: 9.0716\n",
      "Epoch 48/500\n",
      "42/42 [==============================] - 0s 11ms/step - loss: 3.8921 - val_loss: 8.6326\n",
      "Epoch 49/500\n",
      "42/42 [==============================] - 0s 11ms/step - loss: 3.8058 - val_loss: 8.2352\n",
      "Epoch 50/500\n",
      "42/42 [==============================] - 0s 11ms/step - loss: 3.7211 - val_loss: 7.8764\n",
      "Epoch 51/500\n",
      "42/42 [==============================] - 0s 12ms/step - loss: 3.6375 - val_loss: 7.5535\n",
      "Epoch 52/500\n",
      "42/42 [==============================] - 1s 17ms/step - loss: 3.5550 - val_loss: 7.2635\n",
      "Epoch 53/500\n",
      "42/42 [==============================] - 1s 12ms/step - loss: 3.4733 - val_loss: 7.0036\n",
      "Epoch 54/500\n",
      "42/42 [==============================] - 0s 10ms/step - loss: 3.3924 - val_loss: 6.7711\n",
      "Epoch 55/500\n",
      "42/42 [==============================] - 0s 10ms/step - loss: 3.3121 - val_loss: 6.5634\n",
      "Epoch 56/500\n",
      "42/42 [==============================] - 0s 11ms/step - loss: 3.2326 - val_loss: 6.3779\n",
      "Epoch 57/500\n",
      "42/42 [==============================] - 0s 10ms/step - loss: 3.1538 - val_loss: 6.2124\n",
      "Epoch 58/500\n",
      "42/42 [==============================] - 0s 10ms/step - loss: 3.0758 - val_loss: 6.0646\n",
      "Epoch 59/500\n",
      "42/42 [==============================] - 0s 11ms/step - loss: 2.9988 - val_loss: 5.9323\n",
      "Epoch 60/500\n",
      "42/42 [==============================] - 0s 11ms/step - loss: 2.9230 - val_loss: 5.8134\n",
      "Epoch 61/500\n",
      "42/42 [==============================] - 0s 11ms/step - loss: 2.8485 - val_loss: 5.7060\n",
      "Epoch 62/500\n",
      "42/42 [==============================] - 0s 10ms/step - loss: 2.7755 - val_loss: 5.6082\n",
      "Epoch 63/500\n",
      "42/42 [==============================] - 0s 11ms/step - loss: 2.7044 - val_loss: 5.5181\n",
      "Epoch 64/500\n",
      "42/42 [==============================] - 0s 11ms/step - loss: 2.6352 - val_loss: 5.4341\n",
      "Epoch 65/500\n",
      "42/42 [==============================] - 0s 10ms/step - loss: 2.5683 - val_loss: 5.3546\n",
      "Epoch 66/500\n",
      "42/42 [==============================] - 0s 11ms/step - loss: 2.5038 - val_loss: 5.2779\n",
      "Epoch 67/500\n",
      "42/42 [==============================] - 0s 10ms/step - loss: 2.4420 - val_loss: 5.2030\n",
      "Epoch 68/500\n",
      "42/42 [==============================] - 0s 10ms/step - loss: 2.3829 - val_loss: 5.1284\n",
      "Epoch 69/500\n",
      "42/42 [==============================] - 0s 11ms/step - loss: 2.3268 - val_loss: 5.0533\n",
      "Epoch 70/500\n",
      "42/42 [==============================] - 0s 12ms/step - loss: 2.2736 - val_loss: 4.9769\n",
      "Epoch 71/500\n",
      "42/42 [==============================] - 0s 10ms/step - loss: 2.2236 - val_loss: 4.8985\n",
      "Epoch 72/500\n",
      "42/42 [==============================] - 0s 11ms/step - loss: 2.1766 - val_loss: 4.8177\n",
      "Epoch 73/500\n",
      "42/42 [==============================] - 0s 10ms/step - loss: 2.1328 - val_loss: 4.7343\n",
      "Epoch 74/500\n",
      "42/42 [==============================] - 0s 12ms/step - loss: 2.0920 - val_loss: 4.6483\n",
      "Epoch 75/500\n",
      "42/42 [==============================] - 0s 11ms/step - loss: 2.0542 - val_loss: 4.5597\n",
      "Epoch 76/500\n",
      "42/42 [==============================] - 0s 11ms/step - loss: 2.0194 - val_loss: 4.4688\n",
      "Epoch 77/500\n",
      "42/42 [==============================] - 0s 12ms/step - loss: 1.9874 - val_loss: 4.3758\n",
      "Epoch 78/500\n",
      "42/42 [==============================] - 0s 11ms/step - loss: 1.9581 - val_loss: 4.2811\n",
      "Epoch 79/500\n",
      "42/42 [==============================] - 0s 10ms/step - loss: 1.9313 - val_loss: 4.1852\n",
      "Epoch 80/500\n",
      "42/42 [==============================] - 0s 11ms/step - loss: 1.9071 - val_loss: 4.0884\n",
      "Epoch 81/500\n",
      "42/42 [==============================] - 0s 12ms/step - loss: 1.8851 - val_loss: 3.9912\n",
      "Epoch 82/500\n"
     ]
    },
    {
     "name": "stdout",
     "output_type": "stream",
     "text": [
      "42/42 [==============================] - 1s 12ms/step - loss: 1.8654 - val_loss: 3.8940\n",
      "Epoch 83/500\n",
      "42/42 [==============================] - 0s 12ms/step - loss: 1.8477 - val_loss: 3.7972\n",
      "Epoch 84/500\n",
      "42/42 [==============================] - 0s 11ms/step - loss: 1.8319 - val_loss: 3.7012\n",
      "Epoch 85/500\n",
      "42/42 [==============================] - 0s 11ms/step - loss: 1.8180 - val_loss: 3.6063\n",
      "Epoch 86/500\n",
      "42/42 [==============================] - 0s 10ms/step - loss: 1.8057 - val_loss: 3.5129\n",
      "Epoch 87/500\n",
      "42/42 [==============================] - 0s 11ms/step - loss: 1.7951 - val_loss: 3.4212\n",
      "Epoch 88/500\n",
      "42/42 [==============================] - 0s 12ms/step - loss: 1.7859 - val_loss: 3.3315\n",
      "Epoch 89/500\n",
      "42/42 [==============================] - 0s 11ms/step - loss: 1.7781 - val_loss: 3.2440\n",
      "Epoch 90/500\n",
      "42/42 [==============================] - 0s 11ms/step - loss: 1.7716 - val_loss: 3.1590\n",
      "Epoch 91/500\n",
      "42/42 [==============================] - 0s 10ms/step - loss: 1.7662 - val_loss: 3.0766\n",
      "Epoch 92/500\n",
      "42/42 [==============================] - 0s 11ms/step - loss: 1.7618 - val_loss: 2.9969\n",
      "Epoch 93/500\n",
      "42/42 [==============================] - 0s 10ms/step - loss: 1.7583 - val_loss: 2.9200\n",
      "Epoch 94/500\n",
      "42/42 [==============================] - 0s 12ms/step - loss: 1.7555 - val_loss: 2.8460\n",
      "Epoch 95/500\n",
      "42/42 [==============================] - 0s 11ms/step - loss: 1.7533 - val_loss: 2.7750\n",
      "Epoch 96/500\n",
      "42/42 [==============================] - 0s 12ms/step - loss: 1.7515 - val_loss: 2.7070\n",
      "Epoch 97/500\n",
      "42/42 [==============================] - 0s 12ms/step - loss: 1.7500 - val_loss: 2.6419\n",
      "Epoch 98/500\n",
      "42/42 [==============================] - 0s 12ms/step - loss: 1.7486 - val_loss: 2.5796\n",
      "Epoch 99/500\n",
      "42/42 [==============================] - 0s 11ms/step - loss: 1.7472 - val_loss: 2.5203\n",
      "Epoch 100/500\n",
      "42/42 [==============================] - 0s 11ms/step - loss: 1.7457 - val_loss: 2.4637\n",
      "Epoch 101/500\n",
      "42/42 [==============================] - 0s 10ms/step - loss: 1.7438 - val_loss: 2.4097\n",
      "Epoch 102/500\n",
      "42/42 [==============================] - 0s 10ms/step - loss: 1.7416 - val_loss: 2.3582\n",
      "Epoch 103/500\n",
      "42/42 [==============================] - 0s 10ms/step - loss: 1.7388 - val_loss: 2.3092\n",
      "Epoch 104/500\n",
      "42/42 [==============================] - 0s 10ms/step - loss: 1.7354 - val_loss: 2.2624\n",
      "Epoch 105/500\n",
      "42/42 [==============================] - 0s 11ms/step - loss: 1.7314 - val_loss: 2.2178\n",
      "Epoch 106/500\n",
      "42/42 [==============================] - 0s 11ms/step - loss: 1.7267 - val_loss: 2.1751\n",
      "Epoch 107/500\n",
      "42/42 [==============================] - 0s 11ms/step - loss: 1.7213 - val_loss: 2.1344\n",
      "Epoch 108/500\n",
      "42/42 [==============================] - 0s 10ms/step - loss: 1.7154 - val_loss: 2.0954\n",
      "Epoch 109/500\n",
      "42/42 [==============================] - 0s 10ms/step - loss: 1.7088 - val_loss: 2.0580\n",
      "Epoch 110/500\n",
      "42/42 [==============================] - 0s 11ms/step - loss: 1.7017 - val_loss: 2.0222\n",
      "Epoch 111/500\n",
      "42/42 [==============================] - 0s 12ms/step - loss: 1.6943 - val_loss: 1.9879\n",
      "Epoch 112/500\n",
      "42/42 [==============================] - 0s 11ms/step - loss: 1.6865 - val_loss: 1.9550\n",
      "Epoch 113/500\n",
      "42/42 [==============================] - 1s 12ms/step - loss: 1.6785 - val_loss: 1.9235\n",
      "Epoch 114/500\n",
      "42/42 [==============================] - 0s 12ms/step - loss: 1.6704 - val_loss: 1.8932\n",
      "Epoch 115/500\n",
      "42/42 [==============================] - 0s 10ms/step - loss: 1.6624 - val_loss: 1.8643\n",
      "Epoch 116/500\n",
      "42/42 [==============================] - 0s 10ms/step - loss: 1.6545 - val_loss: 1.8366\n",
      "Epoch 117/500\n",
      "42/42 [==============================] - 1s 12ms/step - loss: 1.6468 - val_loss: 1.8102\n",
      "Epoch 118/500\n",
      "42/42 [==============================] - 0s 11ms/step - loss: 1.6393 - val_loss: 1.7849\n",
      "Epoch 119/500\n",
      "42/42 [==============================] - 0s 11ms/step - loss: 1.6322 - val_loss: 1.7609\n",
      "Epoch 120/500\n",
      "42/42 [==============================] - 0s 10ms/step - loss: 1.6255 - val_loss: 1.7379\n",
      "Epoch 121/500\n",
      "42/42 [==============================] - 0s 11ms/step - loss: 1.6192 - val_loss: 1.7162\n",
      "Epoch 122/500\n",
      "42/42 [==============================] - 0s 10ms/step - loss: 1.6134 - val_loss: 1.6955\n",
      "Epoch 123/500\n",
      "42/42 [==============================] - 0s 10ms/step - loss: 1.6080 - val_loss: 1.6759\n",
      "Epoch 124/500\n",
      "42/42 [==============================] - 0s 10ms/step - loss: 1.6030 - val_loss: 1.6573\n",
      "Epoch 125/500\n",
      "42/42 [==============================] - 0s 12ms/step - loss: 1.5984 - val_loss: 1.6397\n",
      "Epoch 126/500\n",
      "42/42 [==============================] - 0s 10ms/step - loss: 1.5941 - val_loss: 1.6230\n",
      "Epoch 127/500\n",
      "42/42 [==============================] - 0s 10ms/step - loss: 1.5900 - val_loss: 1.6072\n",
      "Epoch 128/500\n",
      "42/42 [==============================] - 0s 10ms/step - loss: 1.5863 - val_loss: 1.5923\n",
      "Epoch 129/500\n",
      "42/42 [==============================] - 0s 11ms/step - loss: 1.5826 - val_loss: 1.5781\n",
      "Epoch 130/500\n",
      "42/42 [==============================] - 0s 10ms/step - loss: 1.5790 - val_loss: 1.5647\n",
      "Epoch 131/500\n",
      "42/42 [==============================] - 0s 10ms/step - loss: 1.5754 - val_loss: 1.5519\n",
      "Epoch 132/500\n",
      "42/42 [==============================] - 0s 10ms/step - loss: 1.5716 - val_loss: 1.5397\n",
      "Epoch 133/500\n",
      "42/42 [==============================] - 0s 10ms/step - loss: 1.5675 - val_loss: 1.5280\n",
      "Epoch 134/500\n",
      "42/42 [==============================] - 0s 10ms/step - loss: 1.5631 - val_loss: 1.5166\n",
      "Epoch 135/500\n",
      "42/42 [==============================] - 0s 10ms/step - loss: 1.5584 - val_loss: 1.5056\n",
      "Epoch 136/500\n",
      "42/42 [==============================] - 0s 10ms/step - loss: 1.5532 - val_loss: 1.4949\n",
      "Epoch 137/500\n",
      "42/42 [==============================] - 0s 10ms/step - loss: 1.5477 - val_loss: 1.4845\n",
      "Epoch 138/500\n",
      "42/42 [==============================] - 0s 10ms/step - loss: 1.5416 - val_loss: 1.4744\n",
      "Epoch 139/500\n",
      "42/42 [==============================] - 0s 10ms/step - loss: 1.5348 - val_loss: 1.4645\n",
      "Epoch 140/500\n",
      "42/42 [==============================] - 0s 10ms/step - loss: 1.5274 - val_loss: 1.4547\n",
      "Epoch 141/500\n",
      "42/42 [==============================] - 0s 11ms/step - loss: 1.5190 - val_loss: 1.4449\n",
      "Epoch 142/500\n",
      "42/42 [==============================] - 0s 12ms/step - loss: 1.5099 - val_loss: 1.4349\n",
      "Epoch 143/500\n",
      "42/42 [==============================] - 0s 11ms/step - loss: 1.5002 - val_loss: 1.4247\n",
      "Epoch 144/500\n",
      "42/42 [==============================] - 0s 10ms/step - loss: 1.4904 - val_loss: 1.4142\n",
      "Epoch 145/500\n",
      "42/42 [==============================] - 0s 12ms/step - loss: 1.4811 - val_loss: 1.4037\n",
      "Epoch 146/500\n",
      "42/42 [==============================] - 0s 11ms/step - loss: 1.4731 - val_loss: 1.3935\n",
      "Epoch 147/500\n",
      "42/42 [==============================] - 0s 11ms/step - loss: 1.4668 - val_loss: 1.3845\n",
      "Epoch 148/500\n",
      "42/42 [==============================] - 0s 10ms/step - loss: 1.4619 - val_loss: 1.3774\n",
      "Epoch 149/500\n",
      "42/42 [==============================] - 0s 12ms/step - loss: 1.4574 - val_loss: 1.3730\n",
      "Epoch 150/500\n",
      "42/42 [==============================] - 0s 10ms/step - loss: 1.4508 - val_loss: 1.3718\n",
      "Epoch 151/500\n",
      "42/42 [==============================] - 1s 13ms/step - loss: 1.4391 - val_loss: 1.3730\n",
      "Epoch 152/500\n",
      "42/42 [==============================] - 1s 12ms/step - loss: 1.4195 - val_loss: 1.3740\n",
      "Epoch 153/500\n",
      "42/42 [==============================] - 0s 11ms/step - loss: 1.3920 - val_loss: 1.3708\n",
      "Epoch 154/500\n",
      "42/42 [==============================] - 0s 10ms/step - loss: 1.3612 - val_loss: 1.3592\n",
      "Epoch 155/500\n",
      "42/42 [==============================] - 0s 10ms/step - loss: 1.3377 - val_loss: 1.3380\n",
      "Epoch 156/500\n",
      "42/42 [==============================] - 0s 11ms/step - loss: 1.3358 - val_loss: 1.3108\n",
      "Epoch 157/500\n",
      "42/42 [==============================] - 0s 11ms/step - loss: 1.3724 - val_loss: 1.2879\n",
      "Epoch 158/500\n",
      "42/42 [==============================] - 0s 10ms/step - loss: 1.4804 - val_loss: 1.2889\n",
      "Epoch 159/500\n",
      "42/42 [==============================] - 1s 12ms/step - loss: 1.7676 - val_loss: 1.3076\n",
      "Epoch 160/500\n",
      "42/42 [==============================] - 0s 11ms/step - loss: 2.5310 - val_loss: 1.2390\n",
      "Epoch 161/500\n",
      "42/42 [==============================] - 0s 11ms/step - loss: 4.0422 - val_loss: 3.9224\n",
      "Epoch 162/500\n"
     ]
    },
    {
     "name": "stdout",
     "output_type": "stream",
     "text": [
      "42/42 [==============================] - 1s 13ms/step - loss: 5.2981 - val_loss: 10.7704\n",
      "Epoch 163/500\n",
      "42/42 [==============================] - 0s 11ms/step - loss: 4.1813 - val_loss: 7.3288\n",
      "Epoch 164/500\n",
      "42/42 [==============================] - 0s 11ms/step - loss: 7.2999 - val_loss: 7.1619\n",
      "Epoch 165/500\n",
      "42/42 [==============================] - 0s 12ms/step - loss: 10.7218 - val_loss: 9.0619\n",
      "Epoch 166/500\n",
      "42/42 [==============================] - 0s 10ms/step - loss: 2.8352 - val_loss: 7.2580\n",
      "Epoch 167/500\n",
      "42/42 [==============================] - 0s 10ms/step - loss: 23.2771 - val_loss: 3.9662\n",
      "Epoch 168/500\n",
      "42/42 [==============================] - 0s 11ms/step - loss: 3.0380 - val_loss: 2.8044\n",
      "Epoch 169/500\n",
      "42/42 [==============================] - 0s 11ms/step - loss: 1.1772 - val_loss: 1.8633\n",
      "Epoch 170/500\n",
      "42/42 [==============================] - 0s 12ms/step - loss: 1.0301 - val_loss: 2.4377\n",
      "Epoch 171/500\n",
      "42/42 [==============================] - 0s 11ms/step - loss: 1.3296 - val_loss: 2.5012\n",
      "Epoch 172/500\n",
      "42/42 [==============================] - 0s 11ms/step - loss: 1.1541 - val_loss: 2.7487\n",
      "Epoch 173/500\n",
      "42/42 [==============================] - 0s 11ms/step - loss: 1.1275 - val_loss: 2.3069\n",
      "Epoch 174/500\n",
      "42/42 [==============================] - 0s 10ms/step - loss: 0.8774 - val_loss: 2.2465\n",
      "Epoch 175/500\n",
      "42/42 [==============================] - 0s 11ms/step - loss: 0.9019 - val_loss: 2.1420\n",
      "Epoch 176/500\n",
      "42/42 [==============================] - 0s 10ms/step - loss: 0.9052 - val_loss: 2.2388\n",
      "Epoch 177/500\n",
      "42/42 [==============================] - 0s 10ms/step - loss: 0.9780 - val_loss: 2.2348\n",
      "Epoch 178/500\n",
      "42/42 [==============================] - 1s 12ms/step - loss: 0.9451 - val_loss: 2.2123\n",
      "Epoch 179/500\n",
      "42/42 [==============================] - 1s 13ms/step - loss: 0.9150 - val_loss: 2.1143\n",
      "Epoch 180/500\n",
      "42/42 [==============================] - 1s 12ms/step - loss: 0.8827 - val_loss: 2.0391\n",
      "Epoch 181/500\n",
      "42/42 [==============================] - 1s 12ms/step - loss: 0.8770 - val_loss: 1.9945\n",
      "Epoch 182/500\n",
      "42/42 [==============================] - 0s 11ms/step - loss: 0.8824 - val_loss: 1.9811\n",
      "Epoch 183/500\n",
      "42/42 [==============================] - 1s 12ms/step - loss: 0.8912 - val_loss: 1.9688\n",
      "Epoch 184/500\n",
      "42/42 [==============================] - 0s 11ms/step - loss: 0.8914 - val_loss: 1.9396\n",
      "Epoch 185/500\n",
      "42/42 [==============================] - 0s 11ms/step - loss: 0.8835 - val_loss: 1.8951\n",
      "Epoch 186/500\n",
      "42/42 [==============================] - 0s 11ms/step - loss: 0.8742 - val_loss: 1.8484\n",
      "Epoch 187/500\n",
      "42/42 [==============================] - 0s 11ms/step - loss: 0.8681 - val_loss: 1.8085\n",
      "Epoch 188/500\n",
      "42/42 [==============================] - 0s 11ms/step - loss: 0.8657 - val_loss: 1.7746\n",
      "Epoch 189/500\n",
      "42/42 [==============================] - 0s 11ms/step - loss: 0.8650 - val_loss: 1.7420\n",
      "Epoch 190/500\n",
      "42/42 [==============================] - 0s 11ms/step - loss: 0.8646 - val_loss: 1.7086\n",
      "Epoch 191/500\n",
      "42/42 [==============================] - 0s 10ms/step - loss: 0.8647 - val_loss: 1.6759\n",
      "Epoch 192/500\n",
      "42/42 [==============================] - 0s 10ms/step - loss: 0.8658 - val_loss: 1.6452\n",
      "Epoch 193/500\n",
      "42/42 [==============================] - 0s 11ms/step - loss: 0.8681 - val_loss: 1.6157\n",
      "Epoch 194/500\n",
      "42/42 [==============================] - 0s 11ms/step - loss: 0.8713 - val_loss: 1.5859\n",
      "Epoch 195/500\n",
      "42/42 [==============================] - 0s 11ms/step - loss: 0.8751 - val_loss: 1.5556\n",
      "Epoch 196/500\n",
      "42/42 [==============================] - 0s 11ms/step - loss: 0.8799 - val_loss: 1.5258\n",
      "Epoch 197/500\n",
      "42/42 [==============================] - 0s 11ms/step - loss: 0.8864 - val_loss: 1.4972\n",
      "Epoch 198/500\n",
      "42/42 [==============================] - 0s 11ms/step - loss: 0.8953 - val_loss: 1.4699\n",
      "Epoch 199/500\n",
      "42/42 [==============================] - 0s 10ms/step - loss: 0.9069 - val_loss: 1.4436\n",
      "Epoch 200/500\n",
      "42/42 [==============================] - 0s 10ms/step - loss: 0.9215 - val_loss: 1.4179\n",
      "Epoch 200: early stopping\n"
     ]
    },
    {
     "name": "stderr",
     "output_type": "stream",
     "text": [
      "2022-04-12 22:17:58.186689: I tensorflow/core/grappler/optimizers/custom_graph_optimizer_registry.cc:113] Plugin optimizer for device_type GPU is enabled.\n",
      "2022-04-12 22:17:58.257897: I tensorflow/core/grappler/optimizers/custom_graph_optimizer_registry.cc:113] Plugin optimizer for device_type GPU is enabled.\n",
      "2022-04-12 22:17:58.290041: I tensorflow/core/grappler/optimizers/custom_graph_optimizer_registry.cc:113] Plugin optimizer for device_type GPU is enabled.\n"
     ]
    }
   ],
   "source": [
    "es = EarlyStopping(monitor='val_loss', mode='min', verbose=1,patience=40, min_delta=0.0001)\n",
    "history_tech=model_tech.fit(\n",
    "    X_train, y_train,\n",
    "    epochs=500,\n",
    "    batch_size=16,\n",
    "    validation_split=0.1,\n",
    "    verbose=1,\n",
    "    shuffle=False,\n",
    "    callbacks=[es]\n",
    ")\n",
    "y_pred = model_tech.predict(X_test)"
   ]
  },
  {
   "cell_type": "code",
   "execution_count": 10,
   "id": "55aa57ad",
   "metadata": {},
   "outputs": [
    {
     "data": {
      "text/plain": [
       "<matplotlib.legend.Legend at 0x28015d370>"
      ]
     },
     "execution_count": 10,
     "metadata": {},
     "output_type": "execute_result"
    },
    {
     "data": {
      "image/png": "[encoded data removed]",
      "text/plain": [
       "<Figure size 432x288 with 1 Axes>"
      ]
     },
     "metadata": {
      "needs_background": "light"
     },
     "output_type": "display_data"
    }
   ],
   "source": [
    "plt.plot(history_tech.history['loss'], label='train')\n",
    "plt.plot(history_tech.history['val_loss'], label='test')\n",
    "plt.legend()"
   ]
  },
  {
   "cell_type": "code",
   "execution_count": 11,
   "id": "477f1fb7",
   "metadata": {},
   "outputs": [
    {
     "data": {
      "image/png": "[encoded data removed]",
      "text/plain": [
       "<Figure size 432x288 with 1 Axes>"
      ]
     },
     "metadata": {
      "needs_background": "light"
     },
     "output_type": "display_data"
    }
   ],
   "source": [
    "plt.plot(np.arange(0, len(y_train)), y_train, 'g', label=\"history\")\n",
    "plt.plot(np.arange(len(y_train), len(y_train) + len(y_test)), y_test, marker='.', label=\"true\")\n",
    "plt.plot(np.arange(len(y_train), len(y_train) + len(y_test)), y_pred, 'r', label=\"prediction\")\n",
    "plt.ylabel('Value')\n",
    "plt.xlabel('Time Step')\n",
    "plt.legend()\n",
    "plt.show()"
   ]
  },
  {
   "cell_type": "code",
   "execution_count": 22,
   "id": "134553b2",
   "metadata": {
    "scrolled": true
   },
   "outputs": [
    {
     "data": {
      "image/png": "[encoded data removed]",
      "text/plain": [
       "<Figure size 432x288 with 1 Axes>"
      ]
     },
     "metadata": {
      "needs_background": "light"
     },
     "output_type": "display_data"
    }
   ],
   "source": [
    "# y_test = sc.inverse_transform(y_test)\n",
    "# y_pred = sc.inverse_transform(y_pred)\n",
    "plt.plot(y_test, marker='.', label=\"true\")\n",
    "plt.plot(y_pred, 'r', label=\"prediction\")\n",
    "plt.ylabel('Value')\n",
    "plt.xlabel('Time Step')\n",
    "plt.title('HSBC(0005.hk)-LSTM')\n",
    "plt.legend()\n",
    "plt.show();"
   ]
  },
  {
   "cell_type": "code",
   "execution_count": 13,
   "id": "0ef7fe0c",
   "metadata": {},
   "outputs": [
    {
     "data": {
      "text/plain": [
       "0.8833509014103789"
      ]
     },
     "execution_count": 13,
     "metadata": {},
     "output_type": "execute_result"
    }
   ],
   "source": [
    "r2_score(y_test,y_pred)"
   ]
  },
  {
   "cell_type": "code",
   "execution_count": 14,
   "id": "7cf212a7",
   "metadata": {},
   "outputs": [
    {
     "data": {
      "text/plain": [
       "0.015083029422169417"
      ]
     },
     "execution_count": 14,
     "metadata": {},
     "output_type": "execute_result"
    }
   ],
   "source": [
    "mean_absolute_percentage_error(y_test,y_pred)"
   ]
  },
  {
   "cell_type": "code",
   "execution_count": 15,
   "id": "a0cd9d21",
   "metadata": {},
   "outputs": [
    {
     "data": {
      "text/plain": [
       "0.8986452324122249"
      ]
     },
     "execution_count": 15,
     "metadata": {},
     "output_type": "execute_result"
    }
   ],
   "source": [
    "mean_squared_error(y_test,y_pred,squared=False)"
   ]
  },
  {
   "cell_type": "code",
   "execution_count": 16,
   "id": "325a7cdd",
   "metadata": {},
   "outputs": [
    {
     "name": "stderr",
     "output_type": "stream",
     "text": [
      "/var/folders/8h/w0jn89bj2w5g85gj4ck7w0t00000gn/T/ipykernel_55980/2648236666.py:1: FutureWarning: In a future version of pandas all arguments of DataFrame.drop except for the argument 'labels' will be keyword-only.\n",
      "  x_val=data_val.drop(['Prediction'],1)\n"
     ]
    }
   ],
   "source": [
    "x_val=data_val.drop(['Prediction'],1)\n",
    "y_val=data_val['Prediction']\n",
    "x_val=sc.transform(x_val).reshape(x_val.shape[0],1,x_val.shape[1])\n",
    "y_val_pred=model_tech.predict(x_val)"
   ]
  },
  {
   "cell_type": "code",
   "execution_count": 17,
   "id": "529aefb2",
   "metadata": {},
   "outputs": [
    {
     "data": {
      "image/png": "[encoded data removed]",
      "text/plain": [
       "<Figure size 432x288 with 1 Axes>"
      ]
     },
     "metadata": {
      "needs_background": "light"
     },
     "output_type": "display_data"
    }
   ],
   "source": [
    "plt.plot(y_val.values, marker='.', label=\"true\")\n",
    "plt.plot(y_val_pred, 'r', marker='*',label=\"prediction\")\n",
    "plt.ylabel('Value')\n",
    "plt.xlabel('Time Step')\n",
    "plt.legend()\n",
    "plt.show()"
   ]
  },
  {
   "cell_type": "code",
   "execution_count": 18,
   "id": "3b9ce3a3",
   "metadata": {},
   "outputs": [
    {
     "data": {
      "text/plain": [
       "0.9164500419889828"
      ]
     },
     "execution_count": 18,
     "metadata": {},
     "output_type": "execute_result"
    }
   ],
   "source": [
    "r2_score(y_val,y_val_pred)"
   ]
  },
  {
   "cell_type": "code",
   "execution_count": 19,
   "id": "67bc6f38",
   "metadata": {},
   "outputs": [
    {
     "data": {
      "text/plain": [
       "0.019705790107301887"
      ]
     },
     "execution_count": 19,
     "metadata": {},
     "output_type": "execute_result"
    }
   ],
   "source": [
    "mean_absolute_percentage_error(y_val,y_val_pred)"
   ]
  },
  {
   "cell_type": "code",
   "execution_count": 20,
   "id": "7a79ea1f",
   "metadata": {},
   "outputs": [
    {
     "data": {
      "text/plain": [
       "1.3645113746702708"
      ]
     },
     "execution_count": 20,
     "metadata": {},
     "output_type": "execute_result"
    }
   ],
   "source": [
    "mean_squared_error(y_val.values,y_val_pred,squared=False)"
   ]
  },
  {
   "cell_type": "code",
   "execution_count": null,
   "id": "d8ab65e9",
   "metadata": {},
   "outputs": [],
   "source": []
  }
 ],
 "metadata": {
  "kernelspec": {
   "display_name": "Python 3 (ipykernel)",
   "language": "python",
   "name": "python3"
  },
  "language_info": {
   "codemirror_mode": {
    "name": "ipython",
    "version": 3
   },
   "file_extension": ".py",
   "mimetype": "text/x-python",
   "name": "python",
   "nbconvert_exporter": "python",
   "pygments_lexer": "ipython3",
   "version": "3.8.13"
  }
 },
 "nbformat": 4,
 "nbformat_minor": 5
}
