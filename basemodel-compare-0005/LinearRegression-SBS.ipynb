{
 "cells": [
  {
   "cell_type": "code",
   "execution_count": 1,
   "metadata": {},
   "outputs": [
    {
     "name": "stderr",
     "output_type": "stream",
     "text": [
      "2022-03-21 00:37:17.851144: W tensorflow/stream_executor/platform/default/dso_loader.cc:64] Could not load dynamic library 'libcudart.so.11.0'; dlerror: libcudart.so.11.0: cannot open shared object file: No such file or directory\n",
      "2022-03-21 00:37:17.851177: I tensorflow/stream_executor/cuda/cudart_stub.cc:29] Ignore above cudart dlerror if you do not have a GPU set up on your machine.\n"
     ]
    }
   ],
   "source": [
    "import yfinance as yf\n",
    "import keras.backend as K\n",
    "import pandas as pd\n",
    "import numpy as np\n",
    "import matplotlib.pyplot as plt\n",
    "from sklearn.preprocessing import MinMaxScaler ,StandardScaler\n",
    "from sklearn.model_selection import train_test_split\n",
    "from sklearn.metrics import classification_report,accuracy_score, mean_squared_error,mean_absolute_percentage_error,r2_score\n",
    "import tensorflow as tf\n",
    "from tensorflow import keras\n",
    "from keras.layers import LSTM,Dropout, BatchNormalization, Dense\n",
    "from keras.callbacks import ModelCheckpoint, EarlyStopping, ReduceLROnPlateau, CSVLogger\n",
    "from keras.models import Sequential\n",
    "from keras.optimizer_v2.adam import Adam\n",
    "from keras.optimizer_v2.rmsprop import RMSprop\n",
    "import talib\n",
    "from tensorflow.keras import layers\n",
    "from sklearn.linear_model import LinearRegression\n",
    "from sklearn.preprocessing import StandardScaler,MinMaxScaler\n",
    "from sklearn.pipeline import make_pipeline"
   ]
  },
  {
   "cell_type": "code",
   "execution_count": 2,
   "metadata": {},
   "outputs": [],
   "source": [
    "# linear_model = tf.keras.Sequential([\n",
    "#     layers.Dense(units=1)\n",
    "# ])\n",
    "linear_model = LinearRegression()"
   ]
  },
  {
   "cell_type": "code",
   "execution_count": 3,
   "metadata": {},
   "outputs": [],
   "source": [
    "# linear_model.compile(\n",
    "#     optimizer=tf.optimizers.Adam(learning_rate=0.1),\n",
    "#     loss='mean_absolute_error')\n"
   ]
  },
  {
   "cell_type": "code",
   "execution_count": 4,
   "metadata": {},
   "outputs": [
    {
     "name": "stdout",
     "output_type": "stream",
     "text": [
      "[*********************100%***********************]  1 of 1 completed\n"
     ]
    },
    {
     "data": {
      "text/html": [
       "<div>\n",
       "<style scoped>\n",
       "    .dataframe tbody tr th:only-of-type {\n",
       "        vertical-align: middle;\n",
       "    }\n",
       "\n",
       "    .dataframe tbody tr th {\n",
       "        vertical-align: top;\n",
       "    }\n",
       "\n",
       "    .dataframe thead th {\n",
       "        text-align: right;\n",
       "    }\n",
       "</style>\n",
       "<table border=\"1\" class=\"dataframe\">\n",
       "  <thead>\n",
       "    <tr style=\"text-align: right;\">\n",
       "      <th></th>\n",
       "      <th>Open</th>\n",
       "      <th>High</th>\n",
       "      <th>Low</th>\n",
       "      <th>Close</th>\n",
       "      <th>Adj Close</th>\n",
       "      <th>Volume</th>\n",
       "    </tr>\n",
       "    <tr>\n",
       "      <th>Date</th>\n",
       "      <th></th>\n",
       "      <th></th>\n",
       "      <th></th>\n",
       "      <th></th>\n",
       "      <th></th>\n",
       "      <th></th>\n",
       "    </tr>\n",
       "  </thead>\n",
       "  <tbody>\n",
       "    <tr>\n",
       "      <th>2000-01-03</th>\n",
       "      <td>111.0</td>\n",
       "      <td>111.5</td>\n",
       "      <td>107.50</td>\n",
       "      <td>108.0</td>\n",
       "      <td>55.184654</td>\n",
       "      <td>3908164</td>\n",
       "    </tr>\n",
       "    <tr>\n",
       "      <th>2000-01-04</th>\n",
       "      <td>106.0</td>\n",
       "      <td>106.5</td>\n",
       "      <td>105.00</td>\n",
       "      <td>106.0</td>\n",
       "      <td>54.162704</td>\n",
       "      <td>6895378</td>\n",
       "    </tr>\n",
       "    <tr>\n",
       "      <th>2000-01-05</th>\n",
       "      <td>101.0</td>\n",
       "      <td>102.0</td>\n",
       "      <td>99.50</td>\n",
       "      <td>100.5</td>\n",
       "      <td>51.352398</td>\n",
       "      <td>14657098</td>\n",
       "    </tr>\n",
       "    <tr>\n",
       "      <th>2000-01-06</th>\n",
       "      <td>101.0</td>\n",
       "      <td>102.0</td>\n",
       "      <td>96.25</td>\n",
       "      <td>97.0</td>\n",
       "      <td>49.564003</td>\n",
       "      <td>10632084</td>\n",
       "    </tr>\n",
       "    <tr>\n",
       "      <th>2000-01-07</th>\n",
       "      <td>98.5</td>\n",
       "      <td>101.0</td>\n",
       "      <td>97.50</td>\n",
       "      <td>100.5</td>\n",
       "      <td>51.352398</td>\n",
       "      <td>8368286</td>\n",
       "    </tr>\n",
       "  </tbody>\n",
       "</table>\n",
       "</div>"
      ],
      "text/plain": [
       "             Open   High     Low  Close  Adj Close    Volume\n",
       "Date                                                        \n",
       "2000-01-03  111.0  111.5  107.50  108.0  55.184654   3908164\n",
       "2000-01-04  106.0  106.5  105.00  106.0  54.162704   6895378\n",
       "2000-01-05  101.0  102.0   99.50  100.5  51.352398  14657098\n",
       "2000-01-06  101.0  102.0   96.25   97.0  49.564003  10632084\n",
       "2000-01-07   98.5  101.0   97.50  100.5  51.352398   8368286"
      ]
     },
     "execution_count": 4,
     "metadata": {},
     "output_type": "execute_result"
    }
   ],
   "source": [
    "data = yf.download('0005.hk')\n",
    "data.head()"
   ]
  },
  {
   "cell_type": "code",
   "execution_count": 9,
   "metadata": {},
   "outputs": [
    {
     "data": {
      "text/html": [
       "<div>\n",
       "<style scoped>\n",
       "    .dataframe tbody tr th:only-of-type {\n",
       "        vertical-align: middle;\n",
       "    }\n",
       "\n",
       "    .dataframe tbody tr th {\n",
       "        vertical-align: top;\n",
       "    }\n",
       "\n",
       "    .dataframe thead th {\n",
       "        text-align: right;\n",
       "    }\n",
       "</style>\n",
       "<table border=\"1\" class=\"dataframe\">\n",
       "  <thead>\n",
       "    <tr style=\"text-align: right;\">\n",
       "      <th></th>\n",
       "      <th>Open</th>\n",
       "      <th>High</th>\n",
       "      <th>Low</th>\n",
       "      <th>Close</th>\n",
       "      <th>Adj Close</th>\n",
       "      <th>Volume</th>\n",
       "      <th>6day MA</th>\n",
       "      <th>RSI</th>\n",
       "      <th>%R5</th>\n",
       "      <th>%R10</th>\n",
       "      <th>EMA12</th>\n",
       "      <th>MACD</th>\n",
       "    </tr>\n",
       "    <tr>\n",
       "      <th>Date</th>\n",
       "      <th></th>\n",
       "      <th></th>\n",
       "      <th></th>\n",
       "      <th></th>\n",
       "      <th></th>\n",
       "      <th></th>\n",
       "      <th></th>\n",
       "      <th></th>\n",
       "      <th></th>\n",
       "      <th></th>\n",
       "      <th></th>\n",
       "      <th></th>\n",
       "    </tr>\n",
       "  </thead>\n",
       "  <tbody>\n",
       "    <tr>\n",
       "      <th>2000-02-17</th>\n",
       "      <td>92.000000</td>\n",
       "      <td>94.250000</td>\n",
       "      <td>92.000000</td>\n",
       "      <td>93.000000</td>\n",
       "      <td>47.520130</td>\n",
       "      <td>10789190</td>\n",
       "      <td>90.125000</td>\n",
       "      <td>60.362723</td>\n",
       "      <td>-15.625000</td>\n",
       "      <td>-15.625000</td>\n",
       "      <td>90.957998</td>\n",
       "      <td>-2.199447</td>\n",
       "    </tr>\n",
       "    <tr>\n",
       "      <th>2000-02-18</th>\n",
       "      <td>93.000000</td>\n",
       "      <td>93.500000</td>\n",
       "      <td>90.500000</td>\n",
       "      <td>91.250000</td>\n",
       "      <td>46.625904</td>\n",
       "      <td>10116832</td>\n",
       "      <td>90.375000</td>\n",
       "      <td>50.586255</td>\n",
       "      <td>-37.500000</td>\n",
       "      <td>-37.500000</td>\n",
       "      <td>91.002922</td>\n",
       "      <td>-1.999471</td>\n",
       "    </tr>\n",
       "    <tr>\n",
       "      <th>2000-02-21</th>\n",
       "      <td>90.000000</td>\n",
       "      <td>91.000000</td>\n",
       "      <td>88.500000</td>\n",
       "      <td>89.500000</td>\n",
       "      <td>45.731731</td>\n",
       "      <td>8839331</td>\n",
       "      <td>90.250000</td>\n",
       "      <td>42.546797</td>\n",
       "      <td>-59.375000</td>\n",
       "      <td>-59.375000</td>\n",
       "      <td>90.771703</td>\n",
       "      <td>-1.959610</td>\n",
       "    </tr>\n",
       "    <tr>\n",
       "      <th>2000-02-22</th>\n",
       "      <td>88.750000</td>\n",
       "      <td>89.000000</td>\n",
       "      <td>88.000000</td>\n",
       "      <td>88.750000</td>\n",
       "      <td>45.348488</td>\n",
       "      <td>11567491</td>\n",
       "      <td>90.458333</td>\n",
       "      <td>39.414785</td>\n",
       "      <td>-88.000000</td>\n",
       "      <td>-68.750000</td>\n",
       "      <td>90.460672</td>\n",
       "      <td>-1.965877</td>\n",
       "    </tr>\n",
       "    <tr>\n",
       "      <th>2000-02-23</th>\n",
       "      <td>87.750000</td>\n",
       "      <td>88.750000</td>\n",
       "      <td>87.500000</td>\n",
       "      <td>88.250000</td>\n",
       "      <td>45.092987</td>\n",
       "      <td>15418845</td>\n",
       "      <td>90.541667</td>\n",
       "      <td>37.280307</td>\n",
       "      <td>-88.888889</td>\n",
       "      <td>-75.000000</td>\n",
       "      <td>90.120568</td>\n",
       "      <td>-1.988270</td>\n",
       "    </tr>\n",
       "    <tr>\n",
       "      <th>...</th>\n",
       "      <td>...</td>\n",
       "      <td>...</td>\n",
       "      <td>...</td>\n",
       "      <td>...</td>\n",
       "      <td>...</td>\n",
       "      <td>...</td>\n",
       "      <td>...</td>\n",
       "      <td>...</td>\n",
       "      <td>...</td>\n",
       "      <td>...</td>\n",
       "      <td>...</td>\n",
       "      <td>...</td>\n",
       "    </tr>\n",
       "    <tr>\n",
       "      <th>2022-03-14</th>\n",
       "      <td>48.849998</td>\n",
       "      <td>49.650002</td>\n",
       "      <td>48.599998</td>\n",
       "      <td>49.599998</td>\n",
       "      <td>49.599998</td>\n",
       "      <td>30122708</td>\n",
       "      <td>48.783333</td>\n",
       "      <td>37.479856</td>\n",
       "      <td>-2.439170</td>\n",
       "      <td>-69.465663</td>\n",
       "      <td>50.988487</td>\n",
       "      <td>-1.697750</td>\n",
       "    </tr>\n",
       "    <tr>\n",
       "      <th>2022-03-15</th>\n",
       "      <td>49.799999</td>\n",
       "      <td>49.799999</td>\n",
       "      <td>48.549999</td>\n",
       "      <td>49.200001</td>\n",
       "      <td>49.200001</td>\n",
       "      <td>44267673</td>\n",
       "      <td>49.008333</td>\n",
       "      <td>35.269015</td>\n",
       "      <td>-31.578905</td>\n",
       "      <td>-72.413768</td>\n",
       "      <td>50.713335</td>\n",
       "      <td>-1.714662</td>\n",
       "    </tr>\n",
       "    <tr>\n",
       "      <th>2022-03-16</th>\n",
       "      <td>49.700001</td>\n",
       "      <td>49.750000</td>\n",
       "      <td>48.150002</td>\n",
       "      <td>49.200001</td>\n",
       "      <td>49.200001</td>\n",
       "      <td>43856918</td>\n",
       "      <td>49.208333</td>\n",
       "      <td>35.269015</td>\n",
       "      <td>-31.578905</td>\n",
       "      <td>-72.413768</td>\n",
       "      <td>50.480515</td>\n",
       "      <td>-1.708372</td>\n",
       "    </tr>\n",
       "    <tr>\n",
       "      <th>2022-03-17</th>\n",
       "      <td>50.500000</td>\n",
       "      <td>51.599998</td>\n",
       "      <td>49.750000</td>\n",
       "      <td>51.200001</td>\n",
       "      <td>51.200001</td>\n",
       "      <td>41290933</td>\n",
       "      <td>49.533333</td>\n",
       "      <td>53.811244</td>\n",
       "      <td>-10.810758</td>\n",
       "      <td>-15.294064</td>\n",
       "      <td>50.591205</td>\n",
       "      <td>-1.524431</td>\n",
       "    </tr>\n",
       "    <tr>\n",
       "      <th>2022-03-18</th>\n",
       "      <td>51.200001</td>\n",
       "      <td>51.750000</td>\n",
       "      <td>50.799999</td>\n",
       "      <td>51.400002</td>\n",
       "      <td>51.400002</td>\n",
       "      <td>21768112</td>\n",
       "      <td>49.908333</td>\n",
       "      <td>55.304925</td>\n",
       "      <td>-9.722184</td>\n",
       "      <td>-8.433695</td>\n",
       "      <td>50.715635</td>\n",
       "      <td>-1.346991</td>\n",
       "    </tr>\n",
       "  </tbody>\n",
       "</table>\n",
       "<p>5521 rows × 12 columns</p>\n",
       "</div>"
      ],
      "text/plain": [
       "                 Open       High        Low      Close  Adj Close    Volume  \\\n",
       "Date                                                                          \n",
       "2000-02-17  92.000000  94.250000  92.000000  93.000000  47.520130  10789190   \n",
       "2000-02-18  93.000000  93.500000  90.500000  91.250000  46.625904  10116832   \n",
       "2000-02-21  90.000000  91.000000  88.500000  89.500000  45.731731   8839331   \n",
       "2000-02-22  88.750000  89.000000  88.000000  88.750000  45.348488  11567491   \n",
       "2000-02-23  87.750000  88.750000  87.500000  88.250000  45.092987  15418845   \n",
       "...               ...        ...        ...        ...        ...       ...   \n",
       "2022-03-14  48.849998  49.650002  48.599998  49.599998  49.599998  30122708   \n",
       "2022-03-15  49.799999  49.799999  48.549999  49.200001  49.200001  44267673   \n",
       "2022-03-16  49.700001  49.750000  48.150002  49.200001  49.200001  43856918   \n",
       "2022-03-17  50.500000  51.599998  49.750000  51.200001  51.200001  41290933   \n",
       "2022-03-18  51.200001  51.750000  50.799999  51.400002  51.400002  21768112   \n",
       "\n",
       "              6day MA        RSI        %R5       %R10      EMA12      MACD  \n",
       "Date                                                                         \n",
       "2000-02-17  90.125000  60.362723 -15.625000 -15.625000  90.957998 -2.199447  \n",
       "2000-02-18  90.375000  50.586255 -37.500000 -37.500000  91.002922 -1.999471  \n",
       "2000-02-21  90.250000  42.546797 -59.375000 -59.375000  90.771703 -1.959610  \n",
       "2000-02-22  90.458333  39.414785 -88.000000 -68.750000  90.460672 -1.965877  \n",
       "2000-02-23  90.541667  37.280307 -88.888889 -75.000000  90.120568 -1.988270  \n",
       "...               ...        ...        ...        ...        ...       ...  \n",
       "2022-03-14  48.783333  37.479856  -2.439170 -69.465663  50.988487 -1.697750  \n",
       "2022-03-15  49.008333  35.269015 -31.578905 -72.413768  50.713335 -1.714662  \n",
       "2022-03-16  49.208333  35.269015 -31.578905 -72.413768  50.480515 -1.708372  \n",
       "2022-03-17  49.533333  53.811244 -10.810758 -15.294064  50.591205 -1.524431  \n",
       "2022-03-18  49.908333  55.304925  -9.722184  -8.433695  50.715635 -1.346991  \n",
       "\n",
       "[5521 rows x 12 columns]"
      ]
     },
     "execution_count": 9,
     "metadata": {},
     "output_type": "execute_result"
    }
   ],
   "source": [
    "data['6day MA'] = data['Close'].rolling(window = 6).mean()\n",
    "data['RSI'] = talib.RSI(data['Close'].values, timeperiod = 7)\n",
    "data['%R5'] = talib.WILLR(data['High'].values, data['Low'].values, data['Close'].values, 5)\n",
    "data['%R10'] = talib.WILLR(data['High'].values, data['Low'].values, data['Close'].values, 10)\n",
    "macd, macdsignal, macdhist = talib.MACD(data['Close'], fastperiod=12, slowperiod=26, signalperiod=9)\n",
    "data['EMA12']=talib.EMA(data['Close'], timeperiod=12)\n",
    "data['MACD']=macd\n",
    "data.dropna(inplace=True)\n",
    "data"
   ]
  },
  {
   "cell_type": "code",
   "execution_count": 10,
   "metadata": {},
   "outputs": [
    {
     "name": "stderr",
     "output_type": "stream",
     "text": [
      "/tmp/ipykernel_2587/3485372040.py:2: FutureWarning: In a future version of pandas all arguments of DataFrame.drop except for the argument 'labels' will be keyword-only.\n",
      "  X=data.drop(['Adj Close'],1).values\n"
     ]
    },
    {
     "data": {
      "text/plain": [
       "array([64.10957336, 64.15166473, 64.15166473, ..., 49.20000076,\n",
       "       51.20000076, 51.40000153])"
      ]
     },
     "execution_count": 10,
     "metadata": {},
     "output_type": "execute_result"
    }
   ],
   "source": [
    "# Split the data into train and test with 90 & 10 % respectively\n",
    "X=data.drop(['Adj Close'],1).values\n",
    "y=data['Adj Close'].values\n",
    "X_train, X_test, y_train, y_test = train_test_split(X, y, test_size=0.2,shuffle=False)\n",
    "y_test"
   ]
  },
  {
   "cell_type": "code",
   "execution_count": 11,
   "metadata": {},
   "outputs": [
    {
     "data": {
      "text/plain": [
       "LinearRegression()"
      ]
     },
     "execution_count": 11,
     "metadata": {},
     "output_type": "execute_result"
    }
   ],
   "source": [
    "linear_model.fit(\n",
    "    X_train,\n",
    "    y_train)\n"
   ]
  },
  {
   "cell_type": "code",
   "execution_count": 12,
   "metadata": {},
   "outputs": [],
   "source": [
    "# plt.plot(history.history['loss'], label='loss')\n",
    "# plt.plot(history.history['val_loss'], label='val_loss')\n",
    "# plt.xlabel('Epoch')\n",
    "# plt.ylabel('Error')\n",
    "# plt.legend()\n",
    "# plt.grid(True)\n"
   ]
  },
  {
   "cell_type": "code",
   "execution_count": 13,
   "metadata": {},
   "outputs": [],
   "source": [
    "y_pred=linear_model.predict(X_test)"
   ]
  },
  {
   "cell_type": "code",
   "execution_count": 14,
   "metadata": {},
   "outputs": [
    {
     "data": {
      "text/plain": [
       "<matplotlib.legend.Legend at 0x7f47755d7af0>"
      ]
     },
     "execution_count": 14,
     "metadata": {},
     "output_type": "execute_result"
    },
    {
     "data": {
      "image/png": "[encoded data removed]",
      "text/plain": [
       "<Figure size 432x288 with 1 Axes>"
      ]
     },
     "metadata": {
      "needs_background": "light"
     },
     "output_type": "display_data"
    }
   ],
   "source": [
    "plt.plot(y_test, marker='.', label=\"true\")\n",
    "plt.plot(y_pred, 'r',marker='*', label=\"prediction\")\n",
    "plt.ylabel('Value')\n",
    "plt.xlabel('Time Step')\n",
    "plt.legend()"
   ]
  },
  {
   "cell_type": "code",
   "execution_count": 15,
   "metadata": {},
   "outputs": [
    {
     "data": {
      "text/plain": [
       "13.532602420687867"
      ]
     },
     "execution_count": 15,
     "metadata": {},
     "output_type": "execute_result"
    }
   ],
   "source": [
    "mean_squared_error(y_test,y_pred,squared=False)"
   ]
  },
  {
   "cell_type": "code",
   "execution_count": 16,
   "metadata": {},
   "outputs": [
    {
     "data": {
      "text/plain": [
       "0.22849385943172573"
      ]
     },
     "execution_count": 16,
     "metadata": {},
     "output_type": "execute_result"
    }
   ],
   "source": [
    "mean_absolute_percentage_error(y_test,y_pred)"
   ]
  },
  {
   "cell_type": "code",
   "execution_count": 17,
   "metadata": {},
   "outputs": [
    {
     "data": {
      "text/plain": [
       "-0.4613967580267284"
      ]
     },
     "execution_count": 17,
     "metadata": {},
     "output_type": "execute_result"
    }
   ],
   "source": [
    "r2_score(y_test,y_pred)"
   ]
  }
 ],
 "metadata": {
  "interpreter": {
   "hash": "f19cbfaa683fc1555f83efc3b7801acf2f75b0a32a422a0f0d5b51771971c3d0"
  },
  "kernelspec": {
   "display_name": "Python 3.9.7 ('FYP')",
   "language": "python",
   "name": "python3"
  },
  "language_info": {
   "codemirror_mode": {
    "name": "ipython",
    "version": 3
   },
   "file_extension": ".py",
   "mimetype": "text/x-python",
   "name": "python",
   "nbconvert_exporter": "python",
   "pygments_lexer": "ipython3",
   "version": "3.9.7"
  },
  "orig_nbformat": 4
 },
 "nbformat": 4,
 "nbformat_minor": 2
}
