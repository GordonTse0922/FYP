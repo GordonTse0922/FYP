{
 "cells": [
  {
   "cell_type": "code",
   "execution_count": 1,
   "id": "eb9ae2e7",
   "metadata": {},
   "outputs": [
    {
     "name": "stderr",
     "output_type": "stream",
     "text": [
      "2022-04-09 20:53:23.362934: W tensorflow/stream_executor/platform/default/dso_loader.cc:64] Could not load dynamic library 'libcudart.so.11.0'; dlerror: libcudart.so.11.0: cannot open shared object file: No such file or directory\n",
      "2022-04-09 20:53:23.362967: I tensorflow/stream_executor/cuda/cudart_stub.cc:29] Ignore above cudart dlerror if you do not have a GPU set up on your machine.\n"
     ]
    }
   ],
   "source": [
    "import yfinance as yf\n",
    "import pandas as pd\n",
    "import numpy as np\n",
    "import matplotlib.pyplot as plt\n",
    "from sklearn.preprocessing import MinMaxScaler\n",
    "from sklearn.model_selection import train_test_split\n",
    "from sklearn.metrics import classification_report,accuracy_score, mean_squared_error,mean_absolute_percentage_error,r2_score\n",
    "import tensorflow as tf\n",
    "import talib\n",
    "from tensorflow import keras\n",
    "from sklearn.pipeline import make_pipeline\n",
    "from tensorflow.keras import regularizers\n",
    "from keras.callbacks import EarlyStopping"
   ]
  },
  {
   "cell_type": "code",
   "execution_count": 2,
   "id": "9ad5f74c",
   "metadata": {},
   "outputs": [
    {
     "name": "stdout",
     "output_type": "stream",
     "text": [
      "[*********************100%***********************]  1 of 1 completed\n"
     ]
    }
   ],
   "source": [
    "data=yf.download('0017.hk')"
   ]
  },
  {
   "cell_type": "code",
   "execution_count": 3,
   "id": "781ab9b7",
   "metadata": {
    "pycharm": {
     "name": "#%%\n"
    }
   },
   "outputs": [],
   "source": [
    "data['6day MA'] = data['Close'].rolling(window = 6).mean()\n",
    "data['12day MA'] = data['Close'].rolling(window = 12).mean()\n",
    "data['RSI'] = talib.RSI(data['Close'].values, timeperiod = 7)\n",
    "data['%R5'] = talib.WILLR(data['High'].values, data['Low'].values, data['Close'].values, 5)\n",
    "data['%R10'] = talib.WILLR(data['High'].values, data['Low'].values, data['Close'].values, 10)\n",
    "data['MI6']=talib.MOM(data['Close'],timeperiod=6)\n",
    "data['MI12']=talib.MOM(data['Close'],timeperiod=12)\n",
    "macd, macdsignal, macdhist = talib.MACD(data['Close'], fastperiod=12, slowperiod=26, signalperiod=9)\n",
    "data['EMA12']=talib.EMA(data['Close'], timeperiod=12)\n",
    "data['EMA26']=talib.EMA(data['Close'],timeperiod=26)\n",
    "data['MACD']=macd\n",
    "data['TR']=talib.TRANGE(data['High'],data['Low'],data['Close'])\n",
    "data['OSC6']=talib.CMO(data['Close'], timeperiod=6)\n",
    "data['OSC12']=talib.CMO(data['Close'], timeperiod=12)\n",
    "data['Prediction']=data['Close'].shift(-1)\n",
    "data.dropna(inplace=True)"
   ]
  },
  {
   "cell_type": "code",
   "execution_count": 4,
   "id": "0c6d7cbf",
   "metadata": {},
   "outputs": [
    {
     "data": {
      "text/html": [
       "<div>\n",
       "<style scoped>\n",
       "    .dataframe tbody tr th:only-of-type {\n",
       "        vertical-align: middle;\n",
       "    }\n",
       "\n",
       "    .dataframe tbody tr th {\n",
       "        vertical-align: top;\n",
       "    }\n",
       "\n",
       "    .dataframe thead th {\n",
       "        text-align: right;\n",
       "    }\n",
       "</style>\n",
       "<table border=\"1\" class=\"dataframe\">\n",
       "  <thead>\n",
       "    <tr style=\"text-align: right;\">\n",
       "      <th></th>\n",
       "      <th>Open</th>\n",
       "      <th>High</th>\n",
       "      <th>Low</th>\n",
       "      <th>Close</th>\n",
       "      <th>Adj Close</th>\n",
       "      <th>Volume</th>\n",
       "      <th>6day MA</th>\n",
       "      <th>12day MA</th>\n",
       "      <th>RSI</th>\n",
       "      <th>%R5</th>\n",
       "      <th>%R10</th>\n",
       "      <th>MI6</th>\n",
       "      <th>MI12</th>\n",
       "      <th>EMA12</th>\n",
       "      <th>EMA26</th>\n",
       "      <th>MACD</th>\n",
       "      <th>TR</th>\n",
       "      <th>OSC6</th>\n",
       "      <th>OSC12</th>\n",
       "      <th>Prediction</th>\n",
       "    </tr>\n",
       "    <tr>\n",
       "      <th>Date</th>\n",
       "      <th></th>\n",
       "      <th></th>\n",
       "      <th></th>\n",
       "      <th></th>\n",
       "      <th></th>\n",
       "      <th></th>\n",
       "      <th></th>\n",
       "      <th></th>\n",
       "      <th></th>\n",
       "      <th></th>\n",
       "      <th></th>\n",
       "      <th></th>\n",
       "      <th></th>\n",
       "      <th></th>\n",
       "      <th></th>\n",
       "      <th></th>\n",
       "      <th></th>\n",
       "      <th></th>\n",
       "      <th></th>\n",
       "      <th></th>\n",
       "    </tr>\n",
       "  </thead>\n",
       "  <tbody>\n",
       "    <tr>\n",
       "      <th>2010-03-24</th>\n",
       "      <td>52.915012</td>\n",
       "      <td>53.051567</td>\n",
       "      <td>52.095684</td>\n",
       "      <td>52.300514</td>\n",
       "      <td>29.860737</td>\n",
       "      <td>2551921.0</td>\n",
       "      <td>52.619144</td>\n",
       "      <td>52.368794</td>\n",
       "      <td>55.096356</td>\n",
       "      <td>-70.967858</td>\n",
       "      <td>-59.459566</td>\n",
       "      <td>0.136551</td>\n",
       "      <td>0.751049</td>\n",
       "      <td>52.014982</td>\n",
       "      <td>50.953271</td>\n",
       "      <td>1.061711</td>\n",
       "      <td>0.955883</td>\n",
       "      <td>6.821374</td>\n",
       "      <td>16.425878</td>\n",
       "      <td>52.300514</td>\n",
       "    </tr>\n",
       "    <tr>\n",
       "      <th>2010-03-25</th>\n",
       "      <td>51.959129</td>\n",
       "      <td>52.710182</td>\n",
       "      <td>51.344631</td>\n",
       "      <td>52.300514</td>\n",
       "      <td>29.860737</td>\n",
       "      <td>2536219.0</td>\n",
       "      <td>52.493969</td>\n",
       "      <td>52.328966</td>\n",
       "      <td>55.096356</td>\n",
       "      <td>-57.575865</td>\n",
       "      <td>-59.459566</td>\n",
       "      <td>-0.751053</td>\n",
       "      <td>-0.477943</td>\n",
       "      <td>52.058910</td>\n",
       "      <td>51.053067</td>\n",
       "      <td>1.005843</td>\n",
       "      <td>1.365551</td>\n",
       "      <td>6.821374</td>\n",
       "      <td>16.425878</td>\n",
       "      <td>53.392956</td>\n",
       "    </tr>\n",
       "    <tr>\n",
       "      <th>2010-03-26</th>\n",
       "      <td>52.095684</td>\n",
       "      <td>53.802620</td>\n",
       "      <td>52.027409</td>\n",
       "      <td>53.392956</td>\n",
       "      <td>30.484453</td>\n",
       "      <td>2510249.0</td>\n",
       "      <td>52.653283</td>\n",
       "      <td>52.425692</td>\n",
       "      <td>66.728957</td>\n",
       "      <td>-16.666641</td>\n",
       "      <td>-16.666641</td>\n",
       "      <td>0.955883</td>\n",
       "      <td>1.160717</td>\n",
       "      <td>52.264148</td>\n",
       "      <td>51.226392</td>\n",
       "      <td>1.037756</td>\n",
       "      <td>1.775211</td>\n",
       "      <td>35.279811</td>\n",
       "      <td>28.350674</td>\n",
       "      <td>53.666065</td>\n",
       "    </tr>\n",
       "    <tr>\n",
       "      <th>2010-03-29</th>\n",
       "      <td>53.461231</td>\n",
       "      <td>53.939175</td>\n",
       "      <td>53.461231</td>\n",
       "      <td>53.666065</td>\n",
       "      <td>30.640394</td>\n",
       "      <td>2631978.0</td>\n",
       "      <td>52.664662</td>\n",
       "      <td>52.590696</td>\n",
       "      <td>69.066249</td>\n",
       "      <td>-10.526300</td>\n",
       "      <td>-10.526300</td>\n",
       "      <td>0.068275</td>\n",
       "      <td>1.980045</td>\n",
       "      <td>52.479827</td>\n",
       "      <td>51.407108</td>\n",
       "      <td>1.072719</td>\n",
       "      <td>0.546219</td>\n",
       "      <td>40.712074</td>\n",
       "      <td>31.034403</td>\n",
       "      <td>53.188122</td>\n",
       "    </tr>\n",
       "    <tr>\n",
       "      <th>2010-03-30</th>\n",
       "      <td>53.256401</td>\n",
       "      <td>54.075729</td>\n",
       "      <td>52.915012</td>\n",
       "      <td>53.188122</td>\n",
       "      <td>30.367519</td>\n",
       "      <td>3142411.0</td>\n",
       "      <td>52.823976</td>\n",
       "      <td>52.698801</td>\n",
       "      <td>60.402809</td>\n",
       "      <td>-32.500024</td>\n",
       "      <td>-32.500024</td>\n",
       "      <td>0.955883</td>\n",
       "      <td>1.297268</td>\n",
       "      <td>52.588796</td>\n",
       "      <td>51.539035</td>\n",
       "      <td>1.049760</td>\n",
       "      <td>1.160717</td>\n",
       "      <td>19.626336</td>\n",
       "      <td>22.289705</td>\n",
       "      <td>51.890854</td>\n",
       "    </tr>\n",
       "  </tbody>\n",
       "</table>\n",
       "</div>"
      ],
      "text/plain": [
       "                 Open       High        Low      Close  Adj Close     Volume  \\\n",
       "Date                                                                           \n",
       "2010-03-24  52.915012  53.051567  52.095684  52.300514  29.860737  2551921.0   \n",
       "2010-03-25  51.959129  52.710182  51.344631  52.300514  29.860737  2536219.0   \n",
       "2010-03-26  52.095684  53.802620  52.027409  53.392956  30.484453  2510249.0   \n",
       "2010-03-29  53.461231  53.939175  53.461231  53.666065  30.640394  2631978.0   \n",
       "2010-03-30  53.256401  54.075729  52.915012  53.188122  30.367519  3142411.0   \n",
       "\n",
       "              6day MA   12day MA        RSI        %R5       %R10       MI6  \\\n",
       "Date                                                                          \n",
       "2010-03-24  52.619144  52.368794  55.096356 -70.967858 -59.459566  0.136551   \n",
       "2010-03-25  52.493969  52.328966  55.096356 -57.575865 -59.459566 -0.751053   \n",
       "2010-03-26  52.653283  52.425692  66.728957 -16.666641 -16.666641  0.955883   \n",
       "2010-03-29  52.664662  52.590696  69.066249 -10.526300 -10.526300  0.068275   \n",
       "2010-03-30  52.823976  52.698801  60.402809 -32.500024 -32.500024  0.955883   \n",
       "\n",
       "                MI12      EMA12      EMA26      MACD        TR       OSC6  \\\n",
       "Date                                                                        \n",
       "2010-03-24  0.751049  52.014982  50.953271  1.061711  0.955883   6.821374   \n",
       "2010-03-25 -0.477943  52.058910  51.053067  1.005843  1.365551   6.821374   \n",
       "2010-03-26  1.160717  52.264148  51.226392  1.037756  1.775211  35.279811   \n",
       "2010-03-29  1.980045  52.479827  51.407108  1.072719  0.546219  40.712074   \n",
       "2010-03-30  1.297268  52.588796  51.539035  1.049760  1.160717  19.626336   \n",
       "\n",
       "                OSC12  Prediction  \n",
       "Date                               \n",
       "2010-03-24  16.425878   52.300514  \n",
       "2010-03-25  16.425878   53.392956  \n",
       "2010-03-26  28.350674   53.666065  \n",
       "2010-03-29  31.034403   53.188122  \n",
       "2010-03-30  22.289705   51.890854  "
      ]
     },
     "execution_count": 4,
     "metadata": {},
     "output_type": "execute_result"
    }
   ],
   "source": [
    "# data=data[data.columns[list(backwardModel.k_feature_idx_)]]\n",
    "data['Prediction']=data['Close'].shift(-1)\n",
    "data.dropna(inplace=True)\n",
    "data_val=data[-100:]\n",
    "data=data[:-100]\n",
    "data_val.tail()"
   ]
  },
  {
   "cell_type": "code",
   "execution_count": 5,
   "id": "13b49c54",
   "metadata": {},
   "outputs": [
    {
     "name": "stderr",
     "output_type": "stream",
     "text": [
      "/tmp/ipykernel_5349/543750826.py:2: FutureWarning: In a future version of pandas all arguments of DataFrame.drop except for the argument 'labels' will be keyword-only.\n",
      "  X=sc.fit_transform(data.drop('Prediction',1))\n"
     ]
    }
   ],
   "source": [
    "sc = MinMaxScaler(feature_range = (-1, 1))\n",
    "X=sc.fit_transform(data.drop('Prediction',1))\n",
    "# X=data.drop('Prediction',1)\n",
    "Y = data[\"Prediction\"].values.reshape(-1,1)\n"
   ]
  },
  {
   "cell_type": "code",
   "execution_count": 6,
   "id": "b440227b",
   "metadata": {},
   "outputs": [
    {
     "name": "stderr",
     "output_type": "stream",
     "text": [
      "/home/gordon/anaconda3/envs/FYP/lib/python3.9/site-packages/sklearn/utils/validation.py:993: DataConversionWarning: A column-vector y was passed when a 1d array was expected. Please change the shape of y to (n_samples, ), for example using ravel().\n",
      "  y = column_or_1d(y, warn=True)\n"
     ]
    },
    {
     "data": {
      "image/png": "[encoded data removed]",
      "text/plain": [
       "<Figure size 432x288 with 1 Axes>"
      ]
     },
     "metadata": {
      "needs_background": "light"
     },
     "output_type": "display_data"
    }
   ],
   "source": [
    "from sklearn.feature_selection import mutual_info_regression\n",
    "importance=mutual_info_regression(X,Y)\n",
    "feature_importances=pd.Series(importance,data.columns[0:len(data.columns)-1])\n",
    "feature_importances.plot(kind=\"barh\")\n",
    "plt.show()"
   ]
  },
  {
   "cell_type": "code",
   "execution_count": 7,
   "id": "cb6680b2",
   "metadata": {},
   "outputs": [
    {
     "name": "stdout",
     "output_type": "stream",
     "text": [
      "(2220, 1, 19) (2220, 1) (247, 1, 19) (247, 1)\n"
     ]
    }
   ],
   "source": [
    "# X=sc.fit_transform(data.drop(['Prediction','OSC12','OSC6','MI12','MI6','Volume','%R10','%R5','RSI'],1))\n",
    "# Y=np.array(data[\"Close\"])\n",
    "X_train, X_test, y_train, y_test = train_test_split(X, Y, test_size=0.1)\n",
    "X_train = X_train.reshape((X_train.shape[0], 1, X_train.shape[1]))\n",
    "X_test = X_test.reshape((X_test.shape[0], 1, X_test.shape[1]))\n",
    "print(X_train.shape,y_train.shape,X_test.shape,y_test.shape)"
   ]
  },
  {
   "cell_type": "code",
   "execution_count": 8,
   "id": "bb8c5487",
   "metadata": {},
   "outputs": [
    {
     "name": "stderr",
     "output_type": "stream",
     "text": [
      "2022-04-09 20:53:31.176555: I tensorflow/stream_executor/cuda/cuda_gpu_executor.cc:922] could not open file to read NUMA node: /sys/bus/pci/devices/0000:08:00.0/numa_node\n",
      "Your kernel may have been built without NUMA support.\n",
      "2022-04-09 20:53:31.176773: W tensorflow/stream_executor/platform/default/dso_loader.cc:64] Could not load dynamic library 'libcudart.so.11.0'; dlerror: libcudart.so.11.0: cannot open shared object file: No such file or directory\n",
      "2022-04-09 20:53:31.176819: W tensorflow/stream_executor/platform/default/dso_loader.cc:64] Could not load dynamic library 'libcublas.so.11'; dlerror: libcublas.so.11: cannot open shared object file: No such file or directory\n",
      "2022-04-09 20:53:31.176851: W tensorflow/stream_executor/platform/default/dso_loader.cc:64] Could not load dynamic library 'libcublasLt.so.11'; dlerror: libcublasLt.so.11: cannot open shared object file: No such file or directory\n",
      "2022-04-09 20:53:31.176880: W tensorflow/stream_executor/platform/default/dso_loader.cc:64] Could not load dynamic library 'libcufft.so.10'; dlerror: libcufft.so.10: cannot open shared object file: No such file or directory\n",
      "2022-04-09 20:53:31.176908: W tensorflow/stream_executor/platform/default/dso_loader.cc:64] Could not load dynamic library 'libcurand.so.10'; dlerror: libcurand.so.10: cannot open shared object file: No such file or directory\n",
      "2022-04-09 20:53:31.176935: W tensorflow/stream_executor/platform/default/dso_loader.cc:64] Could not load dynamic library 'libcusolver.so.11'; dlerror: libcusolver.so.11: cannot open shared object file: No such file or directory\n",
      "2022-04-09 20:53:31.176960: W tensorflow/stream_executor/platform/default/dso_loader.cc:64] Could not load dynamic library 'libcusparse.so.11'; dlerror: libcusparse.so.11: cannot open shared object file: No such file or directory\n",
      "2022-04-09 20:53:31.176987: W tensorflow/stream_executor/platform/default/dso_loader.cc:64] Could not load dynamic library 'libcudnn.so.8'; dlerror: libcudnn.so.8: cannot open shared object file: No such file or directory\n",
      "2022-04-09 20:53:31.176993: W tensorflow/core/common_runtime/gpu/gpu_device.cc:1850] Cannot dlopen some GPU libraries. Please make sure the missing libraries mentioned above are installed properly if you would like to use GPU. Follow the guide at https://www.tensorflow.org/install/gpu for how to download and setup the required libraries for your platform.\n",
      "Skipping registering GPU devices...\n",
      "2022-04-09 20:53:31.177845: I tensorflow/core/platform/cpu_feature_guard.cc:151] This TensorFlow binary is optimized with oneAPI Deep Neural Network Library (oneDNN) to use the following CPU instructions in performance-critical operations:  AVX2 FMA\n",
      "To enable them in other operations, rebuild TensorFlow with the appropriate compiler flags.\n"
     ]
    }
   ],
   "source": [
    "model_tech = keras.Sequential()\n",
    "model_tech.add(keras.layers.LSTM(\n",
    "  units=128,\n",
    "  input_shape=(X_train.shape[1], X_train.shape[2]),\n",
    "    return_sequences=True,\n",
    "    kernel_regularizer=regularizers.l1(0.01)\n",
    "))\n",
    "model_tech.add(keras.layers.LSTM(units=64))\n",
    "model_tech.add(keras.layers.Dense(units=64))\n",
    "model_tech.add(keras.layers.Dense(units=1))\n",
    "model_tech.compile(\n",
    "  loss='mean_squared_error',\n",
    "  optimizer=keras.optimizers.Adam(0.001)\n",
    ")"
   ]
  },
  {
   "cell_type": "code",
   "execution_count": 9,
   "id": "428d66a4",
   "metadata": {
    "pycharm": {
     "is_executing": true
    },
    "scrolled": true
   },
   "outputs": [
    {
     "name": "stdout",
     "output_type": "stream",
     "text": [
      "Epoch 1/300\n",
      "32/32 [==============================] - 2s 18ms/step - loss: 1582.6923 - val_loss: 1619.8665\n",
      "Epoch 2/300\n",
      "32/32 [==============================] - 0s 4ms/step - loss: 1086.5122 - val_loss: 1053.6727\n",
      "Epoch 3/300\n",
      "32/32 [==============================] - 0s 4ms/step - loss: 613.5696 - val_loss: 429.5219\n",
      "Epoch 4/300\n",
      "32/32 [==============================] - 0s 4ms/step - loss: 139.8874 - val_loss: 32.3788\n",
      "Epoch 5/300\n",
      "32/32 [==============================] - 0s 4ms/step - loss: 24.5874 - val_loss: 27.3888\n",
      "Epoch 6/300\n",
      "32/32 [==============================] - 0s 4ms/step - loss: 19.7505 - val_loss: 24.9219\n",
      "Epoch 7/300\n",
      "32/32 [==============================] - 0s 4ms/step - loss: 17.9884 - val_loss: 23.0243\n",
      "Epoch 8/300\n",
      "32/32 [==============================] - 0s 4ms/step - loss: 16.7381 - val_loss: 21.4944\n",
      "Epoch 9/300\n",
      "32/32 [==============================] - 0s 4ms/step - loss: 15.6482 - val_loss: 20.1147\n",
      "Epoch 10/300\n",
      "32/32 [==============================] - 0s 4ms/step - loss: 14.6578 - val_loss: 18.8554\n",
      "Epoch 11/300\n",
      "32/32 [==============================] - 0s 4ms/step - loss: 13.7391 - val_loss: 17.6903\n",
      "Epoch 12/300\n",
      "32/32 [==============================] - 0s 4ms/step - loss: 12.8837 - val_loss: 16.6111\n",
      "Epoch 13/300\n",
      "32/32 [==============================] - 0s 4ms/step - loss: 12.0901 - val_loss: 15.6131\n",
      "Epoch 14/300\n",
      "32/32 [==============================] - 0s 4ms/step - loss: 11.3565 - val_loss: 14.6897\n",
      "Epoch 15/300\n",
      "32/32 [==============================] - 0s 4ms/step - loss: 10.6803 - val_loss: 13.8367\n",
      "Epoch 16/300\n",
      "32/32 [==============================] - 0s 4ms/step - loss: 10.0587 - val_loss: 13.0483\n",
      "Epoch 17/300\n",
      "32/32 [==============================] - 0s 4ms/step - loss: 9.4887 - val_loss: 12.3219\n",
      "Epoch 18/300\n",
      "32/32 [==============================] - 0s 4ms/step - loss: 8.9686 - val_loss: 11.6547\n",
      "Epoch 19/300\n",
      "32/32 [==============================] - 0s 4ms/step - loss: 8.4957 - val_loss: 11.0441\n",
      "Epoch 20/300\n",
      "32/32 [==============================] - 0s 4ms/step - loss: 8.0676 - val_loss: 10.4847\n",
      "Epoch 21/300\n",
      "32/32 [==============================] - 0s 4ms/step - loss: 7.6817 - val_loss: 9.9751\n",
      "Epoch 22/300\n",
      "32/32 [==============================] - 0s 4ms/step - loss: 7.3347 - val_loss: 9.5091\n",
      "Epoch 23/300\n",
      "32/32 [==============================] - 0s 4ms/step - loss: 7.0243 - val_loss: 9.0845\n",
      "Epoch 24/300\n",
      "32/32 [==============================] - 0s 4ms/step - loss: 6.7472 - val_loss: 8.6961\n",
      "Epoch 25/300\n",
      "32/32 [==============================] - 0s 4ms/step - loss: 6.5007 - val_loss: 8.3426\n",
      "Epoch 26/300\n",
      "32/32 [==============================] - 0s 4ms/step - loss: 6.2810 - val_loss: 8.0183\n",
      "Epoch 27/300\n",
      "32/32 [==============================] - 0s 4ms/step - loss: 6.0845 - val_loss: 7.7216\n",
      "Epoch 28/300\n",
      "32/32 [==============================] - 0s 4ms/step - loss: 5.9072 - val_loss: 7.4490\n",
      "Epoch 29/300\n",
      "32/32 [==============================] - 0s 4ms/step - loss: 5.7449 - val_loss: 7.1996\n",
      "Epoch 30/300\n",
      "32/32 [==============================] - 0s 4ms/step - loss: 5.5951 - val_loss: 6.9710\n",
      "Epoch 31/300\n",
      "32/32 [==============================] - 0s 4ms/step - loss: 5.4556 - val_loss: 6.7612\n",
      "Epoch 32/300\n",
      "32/32 [==============================] - 0s 4ms/step - loss: 5.3252 - val_loss: 6.5684\n",
      "Epoch 33/300\n",
      "32/32 [==============================] - 0s 4ms/step - loss: 5.2036 - val_loss: 6.3914\n",
      "Epoch 34/300\n",
      "32/32 [==============================] - 0s 4ms/step - loss: 5.0896 - val_loss: 6.2263\n",
      "Epoch 35/300\n",
      "32/32 [==============================] - 0s 4ms/step - loss: 4.9819 - val_loss: 6.0704\n",
      "Epoch 36/300\n",
      "32/32 [==============================] - 0s 4ms/step - loss: 4.8802 - val_loss: 5.9236\n",
      "Epoch 37/300\n",
      "32/32 [==============================] - 0s 4ms/step - loss: 4.7835 - val_loss: 5.7840\n",
      "Epoch 38/300\n",
      "32/32 [==============================] - 0s 4ms/step - loss: 4.6913 - val_loss: 5.6508\n",
      "Epoch 39/300\n",
      "32/32 [==============================] - 0s 4ms/step - loss: 4.6025 - val_loss: 5.5234\n",
      "Epoch 40/300\n",
      "32/32 [==============================] - 0s 4ms/step - loss: 4.5170 - val_loss: 5.4017\n",
      "Epoch 41/300\n",
      "32/32 [==============================] - 0s 4ms/step - loss: 4.4345 - val_loss: 5.2850\n",
      "Epoch 42/300\n",
      "32/32 [==============================] - 0s 4ms/step - loss: 4.3552 - val_loss: 5.1736\n",
      "Epoch 43/300\n",
      "32/32 [==============================] - 0s 5ms/step - loss: 4.2789 - val_loss: 5.0672\n",
      "Epoch 44/300\n",
      "32/32 [==============================] - 0s 4ms/step - loss: 4.2050 - val_loss: 4.9646\n",
      "Epoch 45/300\n",
      "32/32 [==============================] - 0s 4ms/step - loss: 4.1334 - val_loss: 4.8655\n",
      "Epoch 46/300\n",
      "32/32 [==============================] - 0s 4ms/step - loss: 4.0641 - val_loss: 4.7693\n",
      "Epoch 47/300\n",
      "32/32 [==============================] - 0s 4ms/step - loss: 3.9967 - val_loss: 4.6761\n",
      "Epoch 48/300\n",
      "32/32 [==============================] - 0s 4ms/step - loss: 3.9311 - val_loss: 4.5859\n",
      "Epoch 49/300\n",
      "32/32 [==============================] - 0s 4ms/step - loss: 3.8675 - val_loss: 4.4993\n",
      "Epoch 50/300\n",
      "32/32 [==============================] - 0s 4ms/step - loss: 3.8058 - val_loss: 4.4156\n",
      "Epoch 51/300\n",
      "32/32 [==============================] - 0s 4ms/step - loss: 3.7457 - val_loss: 4.3345\n",
      "Epoch 52/300\n",
      "32/32 [==============================] - 0s 4ms/step - loss: 3.6876 - val_loss: 4.2561\n",
      "Epoch 53/300\n",
      "32/32 [==============================] - 0s 4ms/step - loss: 3.6313 - val_loss: 4.1816\n",
      "Epoch 54/300\n",
      "32/32 [==============================] - 0s 4ms/step - loss: 3.5767 - val_loss: 4.1098\n",
      "Epoch 55/300\n",
      "32/32 [==============================] - 0s 4ms/step - loss: 3.5240 - val_loss: 4.0407\n",
      "Epoch 56/300\n",
      "32/32 [==============================] - 0s 4ms/step - loss: 3.4731 - val_loss: 3.9745\n",
      "Epoch 57/300\n",
      "32/32 [==============================] - 0s 4ms/step - loss: 3.4235 - val_loss: 3.9100\n",
      "Epoch 58/300\n",
      "32/32 [==============================] - 0s 4ms/step - loss: 3.3751 - val_loss: 3.8480\n",
      "Epoch 59/300\n",
      "32/32 [==============================] - 0s 4ms/step - loss: 3.3283 - val_loss: 3.7886\n",
      "Epoch 60/300\n",
      "32/32 [==============================] - 0s 4ms/step - loss: 3.2829 - val_loss: 3.7314\n",
      "Epoch 61/300\n",
      "32/32 [==============================] - 0s 4ms/step - loss: 3.2393 - val_loss: 3.6773\n",
      "Epoch 62/300\n",
      "32/32 [==============================] - 0s 4ms/step - loss: 3.1972 - val_loss: 3.6252\n",
      "Epoch 63/300\n",
      "32/32 [==============================] - 0s 4ms/step - loss: 3.1569 - val_loss: 3.5752\n",
      "Epoch 64/300\n",
      "32/32 [==============================] - 0s 4ms/step - loss: 3.1178 - val_loss: 3.5268\n",
      "Epoch 65/300\n",
      "32/32 [==============================] - 0s 4ms/step - loss: 3.0803 - val_loss: 3.4808\n",
      "Epoch 66/300\n",
      "32/32 [==============================] - 0s 4ms/step - loss: 3.0443 - val_loss: 3.4360\n",
      "Epoch 67/300\n",
      "32/32 [==============================] - 0s 5ms/step - loss: 3.0095 - val_loss: 3.3938\n",
      "Epoch 68/300\n",
      "32/32 [==============================] - 0s 5ms/step - loss: 2.9764 - val_loss: 3.3531\n",
      "Epoch 69/300\n",
      "32/32 [==============================] - 0s 4ms/step - loss: 2.9447 - val_loss: 3.3142\n",
      "Epoch 70/300\n",
      "32/32 [==============================] - 0s 4ms/step - loss: 2.9140 - val_loss: 3.2763\n",
      "Epoch 71/300\n",
      "32/32 [==============================] - 0s 4ms/step - loss: 2.8846 - val_loss: 3.2407\n",
      "Epoch 72/300\n",
      "32/32 [==============================] - 0s 4ms/step - loss: 2.8566 - val_loss: 3.2060\n",
      "Epoch 73/300\n",
      "32/32 [==============================] - 0s 4ms/step - loss: 2.8296 - val_loss: 3.1729\n",
      "Epoch 74/300\n",
      "32/32 [==============================] - 0s 4ms/step - loss: 2.8037 - val_loss: 3.1421\n",
      "Epoch 75/300\n",
      "32/32 [==============================] - 0s 4ms/step - loss: 2.7793 - val_loss: 3.1123\n",
      "Epoch 76/300\n",
      "32/32 [==============================] - 0s 4ms/step - loss: 2.7556 - val_loss: 3.0845\n",
      "Epoch 77/300\n",
      "32/32 [==============================] - 0s 4ms/step - loss: 2.7333 - val_loss: 3.0585\n",
      "Epoch 78/300\n",
      "32/32 [==============================] - 0s 4ms/step - loss: 2.7122 - val_loss: 3.0335\n",
      "Epoch 79/300\n",
      "32/32 [==============================] - 0s 5ms/step - loss: 2.6925 - val_loss: 3.0114\n",
      "Epoch 80/300\n",
      "32/32 [==============================] - 0s 5ms/step - loss: 2.6740 - val_loss: 2.9903\n",
      "Epoch 81/300\n",
      "32/32 [==============================] - 0s 4ms/step - loss: 2.6565 - val_loss: 2.9723\n",
      "Epoch 82/300\n",
      "32/32 [==============================] - 0s 4ms/step - loss: 2.6400 - val_loss: 2.9549\n",
      "Epoch 83/300\n",
      "32/32 [==============================] - 0s 4ms/step - loss: 2.6242 - val_loss: 2.9389\n",
      "Epoch 84/300\n",
      "32/32 [==============================] - 0s 4ms/step - loss: 2.6092 - val_loss: 2.9248\n",
      "Epoch 85/300\n",
      "32/32 [==============================] - 0s 4ms/step - loss: 2.5948 - val_loss: 2.9110\n",
      "Epoch 86/300\n",
      "32/32 [==============================] - 0s 4ms/step - loss: 2.5810 - val_loss: 2.8987\n",
      "Epoch 87/300\n",
      "32/32 [==============================] - 0s 4ms/step - loss: 2.5675 - val_loss: 2.8865\n",
      "Epoch 88/300\n",
      "32/32 [==============================] - 0s 4ms/step - loss: 2.5542 - val_loss: 2.8746\n",
      "Epoch 89/300\n",
      "32/32 [==============================] - 0s 4ms/step - loss: 2.5412 - val_loss: 2.8633\n",
      "Epoch 90/300\n",
      "32/32 [==============================] - 0s 4ms/step - loss: 2.5285 - val_loss: 2.8526\n",
      "Epoch 91/300\n",
      "32/32 [==============================] - 0s 4ms/step - loss: 2.5161 - val_loss: 2.8418\n",
      "Epoch 92/300\n",
      "32/32 [==============================] - 0s 4ms/step - loss: 2.5039 - val_loss: 2.8315\n",
      "Epoch 93/300\n",
      "32/32 [==============================] - 0s 4ms/step - loss: 2.4920 - val_loss: 2.8205\n",
      "Epoch 94/300\n",
      "32/32 [==============================] - 0s 4ms/step - loss: 2.4804 - val_loss: 2.8097\n",
      "Epoch 95/300\n",
      "32/32 [==============================] - 0s 4ms/step - loss: 2.4691 - val_loss: 2.7991\n",
      "Epoch 96/300\n",
      "32/32 [==============================] - 0s 4ms/step - loss: 2.4583 - val_loss: 2.7887\n",
      "Epoch 97/300\n",
      "32/32 [==============================] - 0s 4ms/step - loss: 2.4477 - val_loss: 2.7776\n",
      "Epoch 98/300\n",
      "32/32 [==============================] - 0s 4ms/step - loss: 2.4373 - val_loss: 2.7669\n",
      "Epoch 99/300\n",
      "32/32 [==============================] - 0s 4ms/step - loss: 2.4273 - val_loss: 2.7557\n",
      "Epoch 100/300\n",
      "32/32 [==============================] - 0s 4ms/step - loss: 2.4173 - val_loss: 2.7452\n",
      "Epoch 101/300\n",
      "32/32 [==============================] - 0s 4ms/step - loss: 2.4076 - val_loss: 2.7344\n",
      "Epoch 102/300\n",
      "32/32 [==============================] - 0s 4ms/step - loss: 2.3982 - val_loss: 2.7228\n",
      "Epoch 103/300\n",
      "32/32 [==============================] - 0s 4ms/step - loss: 2.3892 - val_loss: 2.7116\n",
      "Epoch 104/300\n",
      "32/32 [==============================] - 0s 4ms/step - loss: 2.3804 - val_loss: 2.7007\n",
      "Epoch 105/300\n",
      "32/32 [==============================] - 0s 4ms/step - loss: 2.3718 - val_loss: 2.6901\n",
      "Epoch 106/300\n",
      "32/32 [==============================] - 0s 4ms/step - loss: 2.3634 - val_loss: 2.6795\n",
      "Epoch 107/300\n",
      "32/32 [==============================] - 0s 4ms/step - loss: 2.3553 - val_loss: 2.6693\n",
      "Epoch 108/300\n",
      "32/32 [==============================] - 0s 3ms/step - loss: 2.3471 - val_loss: 2.6592\n",
      "Epoch 109/300\n",
      "32/32 [==============================] - 0s 4ms/step - loss: 2.3397 - val_loss: 2.6488\n",
      "Epoch 110/300\n",
      "32/32 [==============================] - 0s 4ms/step - loss: 2.3321 - val_loss: 2.6405\n",
      "Epoch 111/300\n",
      "32/32 [==============================] - 0s 4ms/step - loss: 2.3250 - val_loss: 2.6301\n",
      "Epoch 112/300\n",
      "32/32 [==============================] - 0s 4ms/step - loss: 2.3178 - val_loss: 2.6223\n",
      "Epoch 113/300\n",
      "32/32 [==============================] - 0s 4ms/step - loss: 2.3109 - val_loss: 2.6128\n",
      "Epoch 114/300\n",
      "32/32 [==============================] - 0s 4ms/step - loss: 2.3042 - val_loss: 2.6051\n",
      "Epoch 115/300\n",
      "32/32 [==============================] - 0s 5ms/step - loss: 2.2975 - val_loss: 2.5965\n",
      "Epoch 116/300\n",
      "32/32 [==============================] - 0s 6ms/step - loss: 2.2909 - val_loss: 2.5888\n",
      "Epoch 117/300\n",
      "32/32 [==============================] - 0s 4ms/step - loss: 2.2845 - val_loss: 2.5806\n",
      "Epoch 118/300\n",
      "32/32 [==============================] - 0s 4ms/step - loss: 2.2782 - val_loss: 2.5730\n",
      "Epoch 119/300\n",
      "32/32 [==============================] - 0s 4ms/step - loss: 2.2722 - val_loss: 2.5662\n",
      "Epoch 120/300\n",
      "32/32 [==============================] - 0s 4ms/step - loss: 2.2660 - val_loss: 2.5588\n",
      "Epoch 121/300\n",
      "32/32 [==============================] - 0s 4ms/step - loss: 2.2602 - val_loss: 2.5516\n",
      "Epoch 122/300\n",
      "32/32 [==============================] - 0s 6ms/step - loss: 2.2542 - val_loss: 2.5444\n",
      "Epoch 123/300\n",
      "32/32 [==============================] - 0s 5ms/step - loss: 2.2484 - val_loss: 2.5375\n",
      "Epoch 124/300\n",
      "32/32 [==============================] - 0s 4ms/step - loss: 2.2426 - val_loss: 2.5308\n",
      "Epoch 125/300\n",
      "32/32 [==============================] - 0s 5ms/step - loss: 2.2370 - val_loss: 2.5247\n",
      "Epoch 126/300\n",
      "32/32 [==============================] - 0s 4ms/step - loss: 2.2314 - val_loss: 2.5181\n",
      "Epoch 127/300\n",
      "32/32 [==============================] - 0s 4ms/step - loss: 2.2261 - val_loss: 2.5126\n",
      "Epoch 128/300\n",
      "32/32 [==============================] - 0s 4ms/step - loss: 2.2208 - val_loss: 2.5069\n",
      "Epoch 129/300\n",
      "32/32 [==============================] - 0s 4ms/step - loss: 2.2157 - val_loss: 2.5010\n",
      "Epoch 130/300\n",
      "32/32 [==============================] - 0s 4ms/step - loss: 2.2105 - val_loss: 2.4952\n",
      "Epoch 131/300\n",
      "32/32 [==============================] - 0s 4ms/step - loss: 2.2055 - val_loss: 2.4892\n",
      "Epoch 132/300\n",
      "32/32 [==============================] - 0s 4ms/step - loss: 2.2004 - val_loss: 2.4829\n",
      "Epoch 133/300\n",
      "32/32 [==============================] - 0s 4ms/step - loss: 2.1955 - val_loss: 2.4772\n",
      "Epoch 134/300\n",
      "32/32 [==============================] - 0s 4ms/step - loss: 2.1906 - val_loss: 2.4724\n",
      "Epoch 135/300\n",
      "32/32 [==============================] - 0s 4ms/step - loss: 2.1858 - val_loss: 2.4661\n",
      "Epoch 136/300\n",
      "32/32 [==============================] - 0s 4ms/step - loss: 2.1809 - val_loss: 2.4612\n",
      "Epoch 137/300\n",
      "32/32 [==============================] - 0s 4ms/step - loss: 2.1763 - val_loss: 2.4557\n",
      "Epoch 138/300\n",
      "32/32 [==============================] - 0s 4ms/step - loss: 2.1718 - val_loss: 2.4505\n",
      "Epoch 139/300\n",
      "32/32 [==============================] - 0s 4ms/step - loss: 2.1671 - val_loss: 2.4452\n",
      "Epoch 140/300\n",
      "32/32 [==============================] - 0s 4ms/step - loss: 2.1627 - val_loss: 2.4406\n",
      "Epoch 141/300\n",
      "32/32 [==============================] - 0s 5ms/step - loss: 2.1584 - val_loss: 2.4357\n",
      "Epoch 142/300\n",
      "32/32 [==============================] - 0s 5ms/step - loss: 2.1542 - val_loss: 2.4314\n",
      "Epoch 143/300\n",
      "32/32 [==============================] - 0s 4ms/step - loss: 2.1499 - val_loss: 2.4263\n",
      "Epoch 144/300\n",
      "32/32 [==============================] - 0s 4ms/step - loss: 2.1457 - val_loss: 2.4221\n",
      "Epoch 145/300\n",
      "32/32 [==============================] - 0s 4ms/step - loss: 2.1416 - val_loss: 2.4172\n",
      "Epoch 146/300\n",
      "32/32 [==============================] - 0s 4ms/step - loss: 2.1376 - val_loss: 2.4135\n",
      "Epoch 147/300\n",
      "32/32 [==============================] - 0s 4ms/step - loss: 2.1336 - val_loss: 2.4090\n",
      "Epoch 148/300\n",
      "32/32 [==============================] - 0s 4ms/step - loss: 2.1296 - val_loss: 2.4049\n",
      "Epoch 149/300\n",
      "32/32 [==============================] - 0s 4ms/step - loss: 2.1256 - val_loss: 2.4005\n",
      "Epoch 150/300\n",
      "32/32 [==============================] - 0s 3ms/step - loss: 2.1219 - val_loss: 2.3965\n",
      "Epoch 151/300\n",
      "32/32 [==============================] - 0s 3ms/step - loss: 2.1183 - val_loss: 2.3932\n",
      "Epoch 152/300\n",
      "32/32 [==============================] - 0s 3ms/step - loss: 2.1147 - val_loss: 2.3888\n",
      "Epoch 153/300\n",
      "32/32 [==============================] - 0s 4ms/step - loss: 2.1112 - val_loss: 2.3852\n",
      "Epoch 154/300\n",
      "32/32 [==============================] - 0s 4ms/step - loss: 2.1077 - val_loss: 2.3822\n",
      "Epoch 155/300\n",
      "32/32 [==============================] - 0s 3ms/step - loss: 2.1042 - val_loss: 2.3784\n",
      "Epoch 156/300\n",
      "32/32 [==============================] - 0s 4ms/step - loss: 2.1008 - val_loss: 2.3752\n",
      "Epoch 157/300\n",
      "32/32 [==============================] - 0s 4ms/step - loss: 2.0976 - val_loss: 2.3719\n",
      "Epoch 158/300\n",
      "32/32 [==============================] - 0s 4ms/step - loss: 2.0942 - val_loss: 2.3692\n",
      "Epoch 159/300\n",
      "32/32 [==============================] - 0s 3ms/step - loss: 2.0911 - val_loss: 2.3653\n",
      "Epoch 160/300\n",
      "32/32 [==============================] - 0s 4ms/step - loss: 2.0879 - val_loss: 2.3619\n",
      "Epoch 161/300\n",
      "32/32 [==============================] - 0s 3ms/step - loss: 2.0847 - val_loss: 2.3591\n",
      "Epoch 162/300\n",
      "32/32 [==============================] - 0s 4ms/step - loss: 2.0816 - val_loss: 2.3551\n",
      "Epoch 163/300\n",
      "32/32 [==============================] - 0s 5ms/step - loss: 2.0785 - val_loss: 2.3522\n",
      "Epoch 164/300\n",
      "32/32 [==============================] - 0s 4ms/step - loss: 2.0754 - val_loss: 2.3483\n",
      "Epoch 165/300\n",
      "32/32 [==============================] - 0s 4ms/step - loss: 2.0725 - val_loss: 2.3457\n",
      "Epoch 166/300\n",
      "32/32 [==============================] - 0s 4ms/step - loss: 2.0695 - val_loss: 2.3426\n",
      "Epoch 167/300\n",
      "32/32 [==============================] - 0s 4ms/step - loss: 2.0666 - val_loss: 2.3399\n",
      "Epoch 168/300\n",
      "32/32 [==============================] - 0s 4ms/step - loss: 2.0638 - val_loss: 2.3371\n",
      "Epoch 169/300\n",
      "32/32 [==============================] - 0s 4ms/step - loss: 2.0609 - val_loss: 2.3336\n",
      "Epoch 170/300\n",
      "32/32 [==============================] - 0s 4ms/step - loss: 2.0582 - val_loss: 2.3312\n",
      "Epoch 171/300\n",
      "32/32 [==============================] - 0s 4ms/step - loss: 2.0556 - val_loss: 2.3288\n",
      "Epoch 172/300\n",
      "32/32 [==============================] - 0s 4ms/step - loss: 2.0528 - val_loss: 2.3256\n",
      "Epoch 173/300\n",
      "32/32 [==============================] - 0s 4ms/step - loss: 2.0500 - val_loss: 2.3230\n",
      "Epoch 174/300\n",
      "32/32 [==============================] - 0s 4ms/step - loss: 2.0472 - val_loss: 2.3204\n",
      "Epoch 175/300\n",
      "32/32 [==============================] - 0s 4ms/step - loss: 2.0447 - val_loss: 2.3184\n",
      "Epoch 176/300\n",
      "32/32 [==============================] - 0s 3ms/step - loss: 2.0421 - val_loss: 2.3159\n",
      "Epoch 177/300\n",
      "32/32 [==============================] - 0s 4ms/step - loss: 2.0395 - val_loss: 2.3130\n",
      "Epoch 178/300\n",
      "32/32 [==============================] - 0s 3ms/step - loss: 2.0369 - val_loss: 2.3099\n",
      "Epoch 179/300\n",
      "32/32 [==============================] - 0s 4ms/step - loss: 2.0344 - val_loss: 2.3076\n",
      "Epoch 180/300\n",
      "32/32 [==============================] - 0s 4ms/step - loss: 2.0319 - val_loss: 2.3057\n",
      "Epoch 181/300\n",
      "32/32 [==============================] - 0s 4ms/step - loss: 2.0294 - val_loss: 2.3025\n",
      "Epoch 182/300\n",
      "32/32 [==============================] - 0s 4ms/step - loss: 2.0270 - val_loss: 2.3006\n",
      "Epoch 183/300\n",
      "32/32 [==============================] - 0s 4ms/step - loss: 2.0245 - val_loss: 2.2978\n",
      "Epoch 184/300\n",
      "32/32 [==============================] - 0s 4ms/step - loss: 2.0222 - val_loss: 2.2953\n",
      "Epoch 185/300\n",
      "32/32 [==============================] - 0s 4ms/step - loss: 2.0198 - val_loss: 2.2930\n",
      "Epoch 186/300\n",
      "32/32 [==============================] - 0s 4ms/step - loss: 2.0176 - val_loss: 2.2907\n",
      "Epoch 187/300\n",
      "32/32 [==============================] - 0s 4ms/step - loss: 2.0152 - val_loss: 2.2880\n",
      "Epoch 188/300\n",
      "32/32 [==============================] - 0s 4ms/step - loss: 2.0130 - val_loss: 2.2856\n",
      "Epoch 189/300\n",
      "32/32 [==============================] - 0s 4ms/step - loss: 2.0107 - val_loss: 2.2824\n",
      "Epoch 190/300\n",
      "32/32 [==============================] - 0s 4ms/step - loss: 2.0085 - val_loss: 2.2806\n",
      "Epoch 191/300\n",
      "32/32 [==============================] - 0s 4ms/step - loss: 2.0065 - val_loss: 2.2781\n",
      "Epoch 192/300\n",
      "32/32 [==============================] - 0s 4ms/step - loss: 2.0043 - val_loss: 2.2755\n",
      "Epoch 193/300\n",
      "32/32 [==============================] - 0s 4ms/step - loss: 2.0022 - val_loss: 2.2729\n",
      "Epoch 194/300\n",
      "32/32 [==============================] - 0s 4ms/step - loss: 2.0002 - val_loss: 2.2712\n",
      "Epoch 195/300\n",
      "32/32 [==============================] - 0s 4ms/step - loss: 1.9983 - val_loss: 2.2690\n",
      "Epoch 196/300\n",
      "32/32 [==============================] - 0s 4ms/step - loss: 1.9963 - val_loss: 2.2672\n",
      "Epoch 197/300\n",
      "32/32 [==============================] - 0s 4ms/step - loss: 1.9945 - val_loss: 2.2654\n",
      "Epoch 198/300\n",
      "32/32 [==============================] - 0s 4ms/step - loss: 1.9926 - val_loss: 2.2633\n",
      "Epoch 199/300\n",
      "32/32 [==============================] - 0s 4ms/step - loss: 1.9907 - val_loss: 2.2619\n",
      "Epoch 200/300\n",
      "32/32 [==============================] - 0s 5ms/step - loss: 1.9888 - val_loss: 2.2602\n",
      "Epoch 201/300\n",
      "32/32 [==============================] - 0s 4ms/step - loss: 1.9871 - val_loss: 2.2593\n",
      "Epoch 202/300\n",
      "32/32 [==============================] - 0s 4ms/step - loss: 1.9853 - val_loss: 2.2579\n",
      "Epoch 203/300\n",
      "32/32 [==============================] - 0s 4ms/step - loss: 1.9835 - val_loss: 2.2559\n",
      "Epoch 204/300\n",
      "32/32 [==============================] - 0s 4ms/step - loss: 1.9817 - val_loss: 2.2542\n",
      "Epoch 205/300\n",
      "32/32 [==============================] - 0s 4ms/step - loss: 1.9797 - val_loss: 2.2529\n",
      "Epoch 206/300\n",
      "32/32 [==============================] - 0s 4ms/step - loss: 1.9780 - val_loss: 2.2514\n",
      "Epoch 207/300\n",
      "32/32 [==============================] - 0s 4ms/step - loss: 1.9763 - val_loss: 2.2495\n",
      "Epoch 208/300\n",
      "32/32 [==============================] - 0s 4ms/step - loss: 1.9745 - val_loss: 2.2488\n",
      "Epoch 209/300\n",
      "32/32 [==============================] - 0s 4ms/step - loss: 1.9730 - val_loss: 2.2474\n",
      "Epoch 210/300\n",
      "32/32 [==============================] - 0s 4ms/step - loss: 1.9713 - val_loss: 2.2466\n",
      "Epoch 211/300\n",
      "32/32 [==============================] - 0s 4ms/step - loss: 1.9697 - val_loss: 2.2452\n",
      "Epoch 212/300\n",
      "32/32 [==============================] - 0s 4ms/step - loss: 1.9682 - val_loss: 2.2457\n",
      "Epoch 213/300\n",
      "32/32 [==============================] - 0s 4ms/step - loss: 1.9667 - val_loss: 2.2445\n",
      "Epoch 214/300\n",
      "32/32 [==============================] - 0s 4ms/step - loss: 1.9650 - val_loss: 2.2444\n",
      "Epoch 215/300\n",
      "32/32 [==============================] - 0s 4ms/step - loss: 1.9636 - val_loss: 2.2436\n",
      "Epoch 216/300\n",
      "32/32 [==============================] - 0s 4ms/step - loss: 1.9623 - val_loss: 2.2432\n",
      "Epoch 217/300\n",
      "32/32 [==============================] - 0s 4ms/step - loss: 1.9607 - val_loss: 2.2425\n",
      "Epoch 218/300\n",
      "32/32 [==============================] - 0s 4ms/step - loss: 1.9593 - val_loss: 2.2425\n",
      "Epoch 219/300\n",
      "32/32 [==============================] - 0s 4ms/step - loss: 1.9579 - val_loss: 2.2414\n",
      "Epoch 220/300\n",
      "32/32 [==============================] - 0s 4ms/step - loss: 1.9563 - val_loss: 2.2412\n",
      "Epoch 221/300\n",
      "32/32 [==============================] - 0s 4ms/step - loss: 1.9549 - val_loss: 2.2409\n",
      "Epoch 222/300\n",
      "32/32 [==============================] - 0s 4ms/step - loss: 1.9534 - val_loss: 2.2404\n",
      "Epoch 223/300\n",
      "32/32 [==============================] - 0s 4ms/step - loss: 1.9520 - val_loss: 2.2400\n",
      "Epoch 224/300\n",
      "32/32 [==============================] - 0s 4ms/step - loss: 1.9505 - val_loss: 2.2396\n",
      "Epoch 225/300\n",
      "32/32 [==============================] - 0s 4ms/step - loss: 1.9491 - val_loss: 2.2388\n",
      "Epoch 226/300\n",
      "32/32 [==============================] - 0s 4ms/step - loss: 1.9478 - val_loss: 2.2387\n",
      "Epoch 227/300\n",
      "32/32 [==============================] - 0s 4ms/step - loss: 1.9464 - val_loss: 2.2384\n",
      "Epoch 228/300\n",
      "32/32 [==============================] - 0s 4ms/step - loss: 1.9450 - val_loss: 2.2370\n",
      "Epoch 229/300\n",
      "32/32 [==============================] - 0s 4ms/step - loss: 1.9437 - val_loss: 2.2370\n",
      "Epoch 230/300\n",
      "32/32 [==============================] - 0s 4ms/step - loss: 1.9423 - val_loss: 2.2363\n",
      "Epoch 231/300\n",
      "32/32 [==============================] - 0s 4ms/step - loss: 1.9408 - val_loss: 2.2362\n",
      "Epoch 232/300\n",
      "32/32 [==============================] - 0s 4ms/step - loss: 1.9397 - val_loss: 2.2356\n",
      "Epoch 233/300\n",
      "32/32 [==============================] - 0s 4ms/step - loss: 1.9384 - val_loss: 2.2353\n",
      "Epoch 234/300\n",
      "32/32 [==============================] - 0s 4ms/step - loss: 1.9372 - val_loss: 2.2350\n",
      "Epoch 235/300\n",
      "32/32 [==============================] - 0s 4ms/step - loss: 1.9359 - val_loss: 2.2348\n",
      "Epoch 236/300\n",
      "32/32 [==============================] - 0s 4ms/step - loss: 1.9348 - val_loss: 2.2337\n",
      "Epoch 237/300\n",
      "32/32 [==============================] - 0s 4ms/step - loss: 1.9335 - val_loss: 2.2338\n",
      "Epoch 238/300\n",
      "32/32 [==============================] - 0s 5ms/step - loss: 1.9324 - val_loss: 2.2336\n",
      "Epoch 239/300\n",
      "32/32 [==============================] - 0s 4ms/step - loss: 1.9313 - val_loss: 2.2332\n",
      "Epoch 240/300\n",
      "32/32 [==============================] - 0s 4ms/step - loss: 1.9300 - val_loss: 2.2331\n",
      "Epoch 241/300\n",
      "32/32 [==============================] - 0s 4ms/step - loss: 1.9289 - val_loss: 2.2326\n",
      "Epoch 242/300\n",
      "32/32 [==============================] - 0s 4ms/step - loss: 1.9277 - val_loss: 2.2325\n",
      "Epoch 243/300\n",
      "32/32 [==============================] - 0s 4ms/step - loss: 1.9268 - val_loss: 2.2331\n",
      "Epoch 244/300\n",
      "32/32 [==============================] - 0s 4ms/step - loss: 1.9256 - val_loss: 2.2327\n",
      "Epoch 245/300\n",
      "32/32 [==============================] - 0s 4ms/step - loss: 1.9243 - val_loss: 2.2325\n",
      "Epoch 246/300\n",
      "32/32 [==============================] - 0s 4ms/step - loss: 1.9233 - val_loss: 2.2321\n",
      "Epoch 247/300\n",
      "32/32 [==============================] - 0s 3ms/step - loss: 1.9221 - val_loss: 2.2323\n",
      "Epoch 248/300\n",
      "32/32 [==============================] - 0s 4ms/step - loss: 1.9210 - val_loss: 2.2320\n",
      "Epoch 249/300\n",
      "32/32 [==============================] - 0s 4ms/step - loss: 1.9201 - val_loss: 2.2317\n",
      "Epoch 250/300\n",
      "32/32 [==============================] - 0s 3ms/step - loss: 1.9188 - val_loss: 2.2323\n",
      "Epoch 251/300\n",
      "32/32 [==============================] - 0s 4ms/step - loss: 1.9179 - val_loss: 2.2330\n",
      "Epoch 252/300\n",
      "32/32 [==============================] - 0s 3ms/step - loss: 1.9168 - val_loss: 2.2324\n",
      "Epoch 253/300\n",
      "32/32 [==============================] - 0s 3ms/step - loss: 1.9158 - val_loss: 2.2330\n",
      "Epoch 254/300\n",
      "32/32 [==============================] - 0s 4ms/step - loss: 1.9147 - val_loss: 2.2327\n",
      "Epoch 255/300\n",
      "32/32 [==============================] - 0s 4ms/step - loss: 1.9137 - val_loss: 2.2321\n",
      "Epoch 256/300\n",
      "32/32 [==============================] - 0s 4ms/step - loss: 1.9127 - val_loss: 2.2322\n",
      "Epoch 257/300\n",
      "32/32 [==============================] - 0s 4ms/step - loss: 1.9117 - val_loss: 2.2322\n",
      "Epoch 258/300\n",
      "32/32 [==============================] - 0s 4ms/step - loss: 1.9107 - val_loss: 2.2325\n",
      "Epoch 259/300\n",
      "18/32 [===============>..............] - ETA: 0s - loss: 1.8372Restoring model weights from the end of the best epoch: 249.\n",
      "32/32 [==============================] - 0s 4ms/step - loss: 1.9099 - val_loss: 2.2325\n",
      "Epoch 259: early stopping\n"
     ]
    }
   ],
   "source": [
    "es = EarlyStopping(monitor='val_loss', mode='min', verbose=1,patience=10,restore_best_weights = True)\n",
    "history_tech=model_tech.fit(\n",
    "    X_train, y_train,\n",
    "    epochs=300,\n",
    "    batch_size=64,\n",
    "    validation_split=0.1,\n",
    "    verbose=1,\n",
    "    shuffle=False,\n",
    "    callbacks=[es]\n",
    ")\n",
    "y_pred = model_tech.predict(X_test)"
   ]
  },
  {
   "cell_type": "code",
   "execution_count": 10,
   "id": "55aa57ad",
   "metadata": {},
   "outputs": [
    {
     "data": {
      "text/plain": [
       "<matplotlib.legend.Legend at 0x7fad8c440a90>"
      ]
     },
     "execution_count": 10,
     "metadata": {},
     "output_type": "execute_result"
    },
    {
     "data": {
      "image/png": "[encoded data removed]",
      "text/plain": [
       "<Figure size 432x288 with 1 Axes>"
      ]
     },
     "metadata": {
      "needs_background": "light"
     },
     "output_type": "display_data"
    }
   ],
   "source": [
    "plt.plot(history_tech.history['loss'], label='train')\n",
    "plt.plot(history_tech.history['val_loss'], label='test')\n",
    "plt.legend()"
   ]
  },
  {
   "cell_type": "code",
   "execution_count": 11,
   "id": "477f1fb7",
   "metadata": {},
   "outputs": [
    {
     "data": {
      "image/png": "[encoded data removed]",
      "text/plain": [
       "<Figure size 432x288 with 1 Axes>"
      ]
     },
     "metadata": {
      "needs_background": "light"
     },
     "output_type": "display_data"
    }
   ],
   "source": [
    "plt.plot(np.arange(0, len(y_train)), y_train, 'g', label=\"history\")\n",
    "plt.plot(np.arange(len(y_train), len(y_train) + len(y_test)), y_test, marker='.', label=\"true\")\n",
    "plt.plot(np.arange(len(y_train), len(y_train) + len(y_test)), y_pred, 'r', label=\"prediction\")\n",
    "plt.ylabel('Value')\n",
    "plt.xlabel('Time Step')\n",
    "plt.legend()\n",
    "plt.show()"
   ]
  },
  {
   "cell_type": "code",
   "execution_count": 12,
   "id": "134553b2",
   "metadata": {
    "scrolled": true
   },
   "outputs": [
    {
     "data": {
      "image/png": "[encoded data removed]",
      "text/plain": [
       "<Figure size 432x288 with 1 Axes>"
      ]
     },
     "metadata": {
      "needs_background": "light"
     },
     "output_type": "display_data"
    }
   ],
   "source": [
    "# y_test = sc.inverse_transform(y_test)\n",
    "# y_pred = sc.inverse_transform(y_pred)\n",
    "plt.plot(y_test, marker='.', label=\"true\")\n",
    "plt.plot(y_pred, 'r', label=\"prediction\")\n",
    "plt.ylabel('Value')\n",
    "plt.xlabel('Time Step')\n",
    "plt.legend()\n",
    "plt.show();"
   ]
  },
  {
   "cell_type": "code",
   "execution_count": 13,
   "id": "0ef7fe0c",
   "metadata": {},
   "outputs": [
    {
     "data": {
      "text/plain": [
       "0.9950734543441567"
      ]
     },
     "execution_count": 13,
     "metadata": {},
     "output_type": "execute_result"
    }
   ],
   "source": [
    "r2_score(y_test,y_pred)"
   ]
  },
  {
   "cell_type": "code",
   "execution_count": 14,
   "id": "7cf212a7",
   "metadata": {},
   "outputs": [
    {
     "data": {
      "text/plain": [
       "0.0288891704908932"
      ]
     },
     "execution_count": 14,
     "metadata": {},
     "output_type": "execute_result"
    }
   ],
   "source": [
    "mean_absolute_percentage_error(y_test,y_pred)"
   ]
  },
  {
   "cell_type": "code",
   "execution_count": 15,
   "id": "a0cd9d21",
   "metadata": {},
   "outputs": [
    {
     "data": {
      "text/plain": [
       "1.3311574989624702"
      ]
     },
     "execution_count": 15,
     "metadata": {},
     "output_type": "execute_result"
    }
   ],
   "source": [
    "mean_squared_error(y_test,y_pred,squared=False)"
   ]
  },
  {
   "cell_type": "code",
   "execution_count": 16,
   "id": "325a7cdd",
   "metadata": {},
   "outputs": [
    {
     "name": "stderr",
     "output_type": "stream",
     "text": [
      "/tmp/ipykernel_5349/2648236666.py:1: FutureWarning: In a future version of pandas all arguments of DataFrame.drop except for the argument 'labels' will be keyword-only.\n",
      "  x_val=data_val.drop(['Prediction'],1)\n"
     ]
    }
   ],
   "source": [
    "x_val=data_val.drop(['Prediction'],1)\n",
    "y_val=data_val['Prediction']\n",
    "x_val=sc.transform(x_val).reshape(x_val.shape[0],1,x_val.shape[1])\n",
    "y_val_pred=model_tech.predict(x_val)"
   ]
  },
  {
   "cell_type": "code",
   "execution_count": 17,
   "id": "529aefb2",
   "metadata": {},
   "outputs": [
    {
     "data": {
      "image/png": "[encoded data removed]",
      "text/plain": [
       "<Figure size 432x288 with 1 Axes>"
      ]
     },
     "metadata": {
      "needs_background": "light"
     },
     "output_type": "display_data"
    }
   ],
   "source": [
    "plt.plot(y_val.values, marker='.', label=\"true\")\n",
    "plt.plot(y_val_pred, 'r', marker='*',label=\"prediction\")\n",
    "plt.ylabel('Value')\n",
    "plt.xlabel('Time Step')\n",
    "plt.title('LSTM-0017-InfoGain-L1-batch64')\n",
    "plt.legend()\n",
    "plt.show()"
   ]
  },
  {
   "cell_type": "code",
   "execution_count": 18,
   "id": "3b9ce3a3",
   "metadata": {},
   "outputs": [
    {
     "data": {
      "text/plain": [
       "0.9265782720202245"
      ]
     },
     "execution_count": 18,
     "metadata": {},
     "output_type": "execute_result"
    }
   ],
   "source": [
    "r2_score(y_val,y_val_pred)"
   ]
  },
  {
   "cell_type": "code",
   "execution_count": 19,
   "id": "67bc6f38",
   "metadata": {},
   "outputs": [
    {
     "data": {
      "text/plain": [
       "0.016697118930169973"
      ]
     },
     "execution_count": 19,
     "metadata": {},
     "output_type": "execute_result"
    }
   ],
   "source": [
    "mean_absolute_percentage_error(y_val,y_val_pred)"
   ]
  },
  {
   "cell_type": "code",
   "execution_count": 20,
   "id": "7a79ea1f",
   "metadata": {},
   "outputs": [
    {
     "data": {
      "text/plain": [
       "1.0453371695293516"
      ]
     },
     "execution_count": 20,
     "metadata": {},
     "output_type": "execute_result"
    }
   ],
   "source": [
    "mean_squared_error(y_val.values,y_val_pred,squared=False)"
   ]
  },
  {
   "cell_type": "code",
   "execution_count": null,
   "id": "d8ab65e9",
   "metadata": {},
   "outputs": [],
   "source": []
  }
 ],
 "metadata": {
  "kernelspec": {
   "display_name": "Python 3 (ipykernel)",
   "language": "python",
   "name": "python3"
  },
  "language_info": {
   "codemirror_mode": {
    "name": "ipython",
    "version": 3
   },
   "file_extension": ".py",
   "mimetype": "text/x-python",
   "name": "python",
   "nbconvert_exporter": "python",
   "pygments_lexer": "ipython3",
   "version": "3.8.13"
  }
 },
 "nbformat": 4,
 "nbformat_minor": 5
}
