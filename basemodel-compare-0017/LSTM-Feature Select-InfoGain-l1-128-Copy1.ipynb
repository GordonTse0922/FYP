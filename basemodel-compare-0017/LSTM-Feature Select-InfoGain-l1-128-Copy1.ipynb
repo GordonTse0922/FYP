{
 "cells": [
  {
   "cell_type": "code",
   "execution_count": 21,
   "id": "eb9ae2e7",
   "metadata": {},
   "outputs": [],
   "source": [
    "import yfinance as yf\n",
    "import pandas as pd\n",
    "import numpy as np\n",
    "import matplotlib.pyplot as plt\n",
    "from sklearn.preprocessing import MinMaxScaler\n",
    "from sklearn.model_selection import train_test_split\n",
    "from sklearn.metrics import classification_report,accuracy_score, mean_squared_error,mean_absolute_percentage_error,r2_score\n",
    "import tensorflow as tf\n",
    "import talib\n",
    "from tensorflow import keras\n",
    "from sklearn.pipeline import make_pipeline\n",
    "from tensorflow.keras import regularizers\n",
    "from keras.callbacks import EarlyStopping\n",
    "# tf.config.set_visible_devices([], 'GPU')"
   ]
  },
  {
   "cell_type": "code",
   "execution_count": 22,
   "id": "9ad5f74c",
   "metadata": {},
   "outputs": [
    {
     "name": "stdout",
     "output_type": "stream",
     "text": [
      "[*********************100%***********************]  1 of 1 completed\n"
     ]
    }
   ],
   "source": [
    "data=yf.download('0017.hk','2017-01-01','2022-01-01')"
   ]
  },
  {
   "cell_type": "code",
   "execution_count": 23,
   "id": "781ab9b7",
   "metadata": {
    "pycharm": {
     "name": "#%%\n"
    }
   },
   "outputs": [],
   "source": [
    "data['6day MA'] = data['Close'].rolling(window = 6).mean()\n",
    "data['12day MA'] = data['Close'].rolling(window = 12).mean()\n",
    "data['RSI'] = talib.RSI(data['Close'].values, timeperiod = 7)\n",
    "data['%R5'] = talib.WILLR(data['High'].values, data['Low'].values, data['Close'].values, 5)\n",
    "data['%R10'] = talib.WILLR(data['High'].values, data['Low'].values, data['Close'].values, 10)\n",
    "data['MI6']=talib.MOM(data['Close'],timeperiod=6)\n",
    "data['MI12']=talib.MOM(data['Close'],timeperiod=12)\n",
    "macd, macdsignal, macdhist = talib.MACD(data['Close'], fastperiod=12, slowperiod=26, signalperiod=9)\n",
    "data['EMA12']=talib.EMA(data['Close'], timeperiod=12)\n",
    "data['EMA26']=talib.EMA(data['Close'],timeperiod=26)\n",
    "data['MACD']=macd\n",
    "data['TR']=talib.TRANGE(data['High'],data['Low'],data['Close'])\n",
    "data['OSC6']=talib.CMO(data['Close'], timeperiod=6)\n",
    "data['OSC12']=talib.CMO(data['Close'], timeperiod=12)\n",
    "data['Prediction']=data['Close'].shift(-1)\n",
    "data.dropna(inplace=True)"
   ]
  },
  {
   "cell_type": "code",
   "execution_count": 24,
   "id": "0c6d7cbf",
   "metadata": {},
   "outputs": [
    {
     "data": {
      "text/html": [
       "<div>\n",
       "<style scoped>\n",
       "    .dataframe tbody tr th:only-of-type {\n",
       "        vertical-align: middle;\n",
       "    }\n",
       "\n",
       "    .dataframe tbody tr th {\n",
       "        vertical-align: top;\n",
       "    }\n",
       "\n",
       "    .dataframe thead th {\n",
       "        text-align: right;\n",
       "    }\n",
       "</style>\n",
       "<table border=\"1\" class=\"dataframe\">\n",
       "  <thead>\n",
       "    <tr style=\"text-align: right;\">\n",
       "      <th></th>\n",
       "      <th>Open</th>\n",
       "      <th>High</th>\n",
       "      <th>Low</th>\n",
       "      <th>Close</th>\n",
       "      <th>Adj Close</th>\n",
       "      <th>Volume</th>\n",
       "      <th>6day MA</th>\n",
       "      <th>12day MA</th>\n",
       "      <th>RSI</th>\n",
       "      <th>%R5</th>\n",
       "      <th>%R10</th>\n",
       "      <th>MI6</th>\n",
       "      <th>MI12</th>\n",
       "      <th>EMA12</th>\n",
       "      <th>EMA26</th>\n",
       "      <th>MACD</th>\n",
       "      <th>TR</th>\n",
       "      <th>OSC6</th>\n",
       "      <th>OSC12</th>\n",
       "      <th>Prediction</th>\n",
       "    </tr>\n",
       "    <tr>\n",
       "      <th>Date</th>\n",
       "      <th></th>\n",
       "      <th></th>\n",
       "      <th></th>\n",
       "      <th></th>\n",
       "      <th></th>\n",
       "      <th></th>\n",
       "      <th></th>\n",
       "      <th></th>\n",
       "      <th></th>\n",
       "      <th></th>\n",
       "      <th></th>\n",
       "      <th></th>\n",
       "      <th></th>\n",
       "      <th></th>\n",
       "      <th></th>\n",
       "      <th></th>\n",
       "      <th></th>\n",
       "      <th></th>\n",
       "      <th></th>\n",
       "      <th></th>\n",
       "    </tr>\n",
       "  </thead>\n",
       "  <tbody>\n",
       "    <tr>\n",
       "      <th>2021-12-22</th>\n",
       "      <td>29.549999</td>\n",
       "      <td>29.650000</td>\n",
       "      <td>29.299999</td>\n",
       "      <td>29.500000</td>\n",
       "      <td>28.932302</td>\n",
       "      <td>2429543</td>\n",
       "      <td>29.900000</td>\n",
       "      <td>30.479167</td>\n",
       "      <td>15.077576</td>\n",
       "      <td>-83.333280</td>\n",
       "      <td>-91.836706</td>\n",
       "      <td>-1.049999</td>\n",
       "      <td>-1.450001</td>\n",
       "      <td>30.369940</td>\n",
       "      <td>31.292668</td>\n",
       "      <td>-0.922728</td>\n",
       "      <td>0.350000</td>\n",
       "      <td>-72.517794</td>\n",
       "      <td>-59.465606</td>\n",
       "      <td>29.650000</td>\n",
       "    </tr>\n",
       "    <tr>\n",
       "      <th>2021-12-23</th>\n",
       "      <td>29.600000</td>\n",
       "      <td>29.950001</td>\n",
       "      <td>29.500000</td>\n",
       "      <td>29.650000</td>\n",
       "      <td>29.079416</td>\n",
       "      <td>2553847</td>\n",
       "      <td>29.750000</td>\n",
       "      <td>30.362500</td>\n",
       "      <td>23.532569</td>\n",
       "      <td>-70.833320</td>\n",
       "      <td>-83.720924</td>\n",
       "      <td>-0.900000</td>\n",
       "      <td>-1.400000</td>\n",
       "      <td>30.259180</td>\n",
       "      <td>31.170989</td>\n",
       "      <td>-0.911809</td>\n",
       "      <td>0.450001</td>\n",
       "      <td>-51.664226</td>\n",
       "      <td>-51.169888</td>\n",
       "      <td>29.650000</td>\n",
       "    </tr>\n",
       "    <tr>\n",
       "      <th>2021-12-24</th>\n",
       "      <td>29.650000</td>\n",
       "      <td>29.650000</td>\n",
       "      <td>29.650000</td>\n",
       "      <td>29.650000</td>\n",
       "      <td>29.079416</td>\n",
       "      <td>0</td>\n",
       "      <td>29.658333</td>\n",
       "      <td>30.241667</td>\n",
       "      <td>23.532569</td>\n",
       "      <td>-63.157884</td>\n",
       "      <td>-82.499981</td>\n",
       "      <td>-0.550001</td>\n",
       "      <td>-1.450001</td>\n",
       "      <td>30.165460</td>\n",
       "      <td>31.058323</td>\n",
       "      <td>-0.892863</td>\n",
       "      <td>0.000000</td>\n",
       "      <td>-51.664226</td>\n",
       "      <td>-51.169888</td>\n",
       "      <td>30.350000</td>\n",
       "    </tr>\n",
       "    <tr>\n",
       "      <th>2021-12-28</th>\n",
       "      <td>29.700001</td>\n",
       "      <td>30.600000</td>\n",
       "      <td>29.700001</td>\n",
       "      <td>30.350000</td>\n",
       "      <td>29.765945</td>\n",
       "      <td>4062494</td>\n",
       "      <td>29.700000</td>\n",
       "      <td>30.150000</td>\n",
       "      <td>53.156477</td>\n",
       "      <td>-19.230752</td>\n",
       "      <td>-39.999935</td>\n",
       "      <td>0.250000</td>\n",
       "      <td>-1.100000</td>\n",
       "      <td>30.193851</td>\n",
       "      <td>31.005855</td>\n",
       "      <td>-0.812004</td>\n",
       "      <td>0.950001</td>\n",
       "      <td>16.314025</td>\n",
       "      <td>-17.284465</td>\n",
       "      <td>30.700001</td>\n",
       "    </tr>\n",
       "    <tr>\n",
       "      <th>2021-12-29</th>\n",
       "      <td>30.400000</td>\n",
       "      <td>30.950001</td>\n",
       "      <td>30.400000</td>\n",
       "      <td>30.700001</td>\n",
       "      <td>30.109211</td>\n",
       "      <td>2677391</td>\n",
       "      <td>29.900000</td>\n",
       "      <td>30.104167</td>\n",
       "      <td>61.791162</td>\n",
       "      <td>-15.151501</td>\n",
       "      <td>-15.151501</td>\n",
       "      <td>1.200001</td>\n",
       "      <td>-0.549999</td>\n",
       "      <td>30.271720</td>\n",
       "      <td>30.983199</td>\n",
       "      <td>-0.711479</td>\n",
       "      <td>0.600000</td>\n",
       "      <td>34.049930</td>\n",
       "      <td>-4.506819</td>\n",
       "      <td>30.799999</td>\n",
       "    </tr>\n",
       "  </tbody>\n",
       "</table>\n",
       "</div>"
      ],
      "text/plain": [
       "                 Open       High        Low      Close  Adj Close   Volume  \\\n",
       "Date                                                                         \n",
       "2021-12-22  29.549999  29.650000  29.299999  29.500000  28.932302  2429543   \n",
       "2021-12-23  29.600000  29.950001  29.500000  29.650000  29.079416  2553847   \n",
       "2021-12-24  29.650000  29.650000  29.650000  29.650000  29.079416        0   \n",
       "2021-12-28  29.700001  30.600000  29.700001  30.350000  29.765945  4062494   \n",
       "2021-12-29  30.400000  30.950001  30.400000  30.700001  30.109211  2677391   \n",
       "\n",
       "              6day MA   12day MA        RSI        %R5       %R10       MI6  \\\n",
       "Date                                                                          \n",
       "2021-12-22  29.900000  30.479167  15.077576 -83.333280 -91.836706 -1.049999   \n",
       "2021-12-23  29.750000  30.362500  23.532569 -70.833320 -83.720924 -0.900000   \n",
       "2021-12-24  29.658333  30.241667  23.532569 -63.157884 -82.499981 -0.550001   \n",
       "2021-12-28  29.700000  30.150000  53.156477 -19.230752 -39.999935  0.250000   \n",
       "2021-12-29  29.900000  30.104167  61.791162 -15.151501 -15.151501  1.200001   \n",
       "\n",
       "                MI12      EMA12      EMA26      MACD        TR       OSC6  \\\n",
       "Date                                                                        \n",
       "2021-12-22 -1.450001  30.369940  31.292668 -0.922728  0.350000 -72.517794   \n",
       "2021-12-23 -1.400000  30.259180  31.170989 -0.911809  0.450001 -51.664226   \n",
       "2021-12-24 -1.450001  30.165460  31.058323 -0.892863  0.000000 -51.664226   \n",
       "2021-12-28 -1.100000  30.193851  31.005855 -0.812004  0.950001  16.314025   \n",
       "2021-12-29 -0.549999  30.271720  30.983199 -0.711479  0.600000  34.049930   \n",
       "\n",
       "                OSC12  Prediction  \n",
       "Date                               \n",
       "2021-12-22 -59.465606   29.650000  \n",
       "2021-12-23 -51.169888   29.650000  \n",
       "2021-12-24 -51.169888   30.350000  \n",
       "2021-12-28 -17.284465   30.700001  \n",
       "2021-12-29  -4.506819   30.799999  "
      ]
     },
     "execution_count": 24,
     "metadata": {},
     "output_type": "execute_result"
    }
   ],
   "source": [
    "# data=data[data.columns[list(backwardModel.k_feature_idx_)]]\n",
    "data['Prediction']=data['Close'].shift(-1)\n",
    "data.dropna(inplace=True)\n",
    "data_val=data[-100:]\n",
    "data=data[:-100]\n",
    "data_val.tail()"
   ]
  },
  {
   "cell_type": "code",
   "execution_count": 25,
   "id": "13b49c54",
   "metadata": {},
   "outputs": [
    {
     "name": "stderr",
     "output_type": "stream",
     "text": [
      "/var/folders/8h/w0jn89bj2w5g85gj4ck7w0t00000gn/T/ipykernel_80214/543750826.py:2: FutureWarning: In a future version of pandas all arguments of DataFrame.drop except for the argument 'labels' will be keyword-only.\n",
      "  X=sc.fit_transform(data.drop('Prediction',1))\n"
     ]
    }
   ],
   "source": [
    "sc = MinMaxScaler(feature_range = (-1, 1))\n",
    "X=sc.fit_transform(data.drop('Prediction',1))\n",
    "# X=data.drop('Prediction',1)\n",
    "Y = data[\"Prediction\"].values.reshape(-1,1)\n"
   ]
  },
  {
   "cell_type": "code",
   "execution_count": 26,
   "id": "b440227b",
   "metadata": {},
   "outputs": [
    {
     "name": "stderr",
     "output_type": "stream",
     "text": [
      "/opt/homebrew/Caskroom/miniforge/base/envs/fyp_new/lib/python3.8/site-packages/sklearn/utils/validation.py:993: DataConversionWarning: A column-vector y was passed when a 1d array was expected. Please change the shape of y to (n_samples, ), for example using ravel().\n",
      "  y = column_or_1d(y, warn=True)\n"
     ]
    },
    {
     "data": {
      "image/png": "[encoded data removed]",
      "text/plain": [
       "<Figure size 432x288 with 1 Axes>"
      ]
     },
     "metadata": {
      "needs_background": "light"
     },
     "output_type": "display_data"
    }
   ],
   "source": [
    "from sklearn.feature_selection import mutual_info_regression\n",
    "importance=mutual_info_regression(X,Y)\n",
    "feature_importances=pd.Series(importance,data.columns[0:len(data.columns)-1])\n",
    "feature_importances.plot(kind=\"barh\")\n",
    "plt.show()"
   ]
  },
  {
   "cell_type": "code",
   "execution_count": 27,
   "id": "cb6680b2",
   "metadata": {},
   "outputs": [
    {
     "name": "stdout",
     "output_type": "stream",
     "text": [
      "(989, 1, 19) (989, 1) (110, 1, 19) (110, 1)\n"
     ]
    }
   ],
   "source": [
    "# X=sc.fit_transform(data.drop(['Prediction','OSC12','OSC6','MI12','MI6','Volume','%R10','%R5','RSI'],1))\n",
    "# Y=np.array(data[\"Close\"])\n",
    "X_train, X_test, y_train, y_test = train_test_split(X, Y, test_size=0.2)\n",
    "X_train = X_train.reshape((X_train.shape[0], 1, X_train.shape[1]))\n",
    "X_test = X_test.reshape((X_test.shape[0], 1, X_test.shape[1]))\n",
    "print(X_train.shape,y_train.shape,X_test.shape,y_test.shape)"
   ]
  },
  {
   "cell_type": "code",
   "execution_count": 28,
   "id": "bb8c5487",
   "metadata": {},
   "outputs": [],
   "source": [
    "model_tech = keras.Sequential()\n",
    "model_tech.add(keras.layers.LSTM(\n",
    "  units=128,\n",
    "  input_shape=(X_train.shape[1], X_train.shape[2]),\n",
    "    return_sequences=True,\n",
    "    kernel_regularizer=regularizers.l1(0.01)\n",
    "))\n",
    "model_tech.add(keras.layers.LSTM(units=64))\n",
    "model_tech.add(keras.layers.Dense(units=64))\n",
    "model_tech.add(keras.layers.Dense(units=1))\n",
    "model_tech.compile(\n",
    "  loss='mean_squared_error',\n",
    "  optimizer=keras.optimizers.Adam(0.001)\n",
    ")"
   ]
  },
  {
   "cell_type": "code",
   "execution_count": 29,
   "id": "428d66a4",
   "metadata": {
    "pycharm": {
     "is_executing": true
    },
    "scrolled": true
   },
   "outputs": [
    {
     "name": "stdout",
     "output_type": "stream",
     "text": [
      "Epoch 1/300\n"
     ]
    },
    {
     "name": "stderr",
     "output_type": "stream",
     "text": [
      "2022-04-10 15:10:00.535371: I tensorflow/core/grappler/optimizers/custom_graph_optimizer_registry.cc:113] Plugin optimizer for device_type GPU is enabled.\n"
     ]
    },
    {
     "name": "stdout",
     "output_type": "stream",
     "text": [
      "\r",
      " 1/28 [>.............................] - ETA: 51s - loss: 1739.6890"
     ]
    },
    {
     "name": "stderr",
     "output_type": "stream",
     "text": [
      "2022-04-10 15:10:00.766135: I tensorflow/core/grappler/optimizers/custom_graph_optimizer_registry.cc:113] Plugin optimizer for device_type GPU is enabled.\n",
      "2022-04-10 15:10:00.797273: I tensorflow/core/grappler/optimizers/custom_graph_optimizer_registry.cc:113] Plugin optimizer for device_type GPU is enabled.\n",
      "2022-04-10 15:10:00.847296: I tensorflow/core/grappler/optimizers/custom_graph_optimizer_registry.cc:113] Plugin optimizer for device_type GPU is enabled.\n",
      "2022-04-10 15:10:00.898054: I tensorflow/core/grappler/optimizers/custom_graph_optimizer_registry.cc:113] Plugin optimizer for device_type GPU is enabled.\n"
     ]
    },
    {
     "name": "stdout",
     "output_type": "stream",
     "text": [
      "27/28 [===========================>..] - ETA: 0s - loss: 1777.0718"
     ]
    },
    {
     "name": "stderr",
     "output_type": "stream",
     "text": [
      "2022-04-10 15:10:01.576403: I tensorflow/core/grappler/optimizers/custom_graph_optimizer_registry.cc:113] Plugin optimizer for device_type GPU is enabled.\n",
      "2022-04-10 15:10:01.659484: I tensorflow/core/grappler/optimizers/custom_graph_optimizer_registry.cc:113] Plugin optimizer for device_type GPU is enabled.\n",
      "2022-04-10 15:10:01.682640: I tensorflow/core/grappler/optimizers/custom_graph_optimizer_registry.cc:113] Plugin optimizer for device_type GPU is enabled.\n"
     ]
    },
    {
     "name": "stdout",
     "output_type": "stream",
     "text": [
      "28/28 [==============================] - 3s 39ms/step - loss: 1775.9525 - val_loss: 1649.2253\n",
      "Epoch 2/300\n",
      "28/28 [==============================] - 1s 18ms/step - loss: 1286.2109 - val_loss: 675.6959\n",
      "Epoch 3/300\n",
      "28/28 [==============================] - 0s 11ms/step - loss: 291.6785 - val_loss: 100.8017\n",
      "Epoch 4/300\n",
      "28/28 [==============================] - 0s 13ms/step - loss: 51.9944 - val_loss: 65.1762\n",
      "Epoch 5/300\n",
      "28/28 [==============================] - 0s 12ms/step - loss: 36.5851 - val_loss: 57.4542\n",
      "Epoch 6/300\n",
      "28/28 [==============================] - 0s 11ms/step - loss: 30.6137 - val_loss: 51.9623\n",
      "Epoch 7/300\n",
      "28/28 [==============================] - 0s 14ms/step - loss: 26.7938 - val_loss: 47.6172\n",
      "Epoch 8/300\n",
      "28/28 [==============================] - 0s 12ms/step - loss: 23.9837 - val_loss: 43.6777\n",
      "Epoch 9/300\n",
      "28/28 [==============================] - 0s 12ms/step - loss: 21.7983 - val_loss: 40.0862\n",
      "Epoch 10/300\n",
      "28/28 [==============================] - 0s 12ms/step - loss: 19.9973 - val_loss: 36.7691\n",
      "Epoch 11/300\n",
      "28/28 [==============================] - 0s 11ms/step - loss: 18.4626 - val_loss: 33.7064\n",
      "Epoch 12/300\n",
      "28/28 [==============================] - 0s 11ms/step - loss: 17.1236 - val_loss: 30.8898\n",
      "Epoch 13/300\n",
      "28/28 [==============================] - 0s 11ms/step - loss: 15.9335 - val_loss: 28.3094\n",
      "Epoch 14/300\n",
      "28/28 [==============================] - 0s 12ms/step - loss: 14.8631 - val_loss: 25.9581\n",
      "Epoch 15/300\n",
      "28/28 [==============================] - 0s 11ms/step - loss: 13.8933 - val_loss: 23.8245\n",
      "Epoch 16/300\n",
      "28/28 [==============================] - 0s 11ms/step - loss: 13.0099 - val_loss: 21.8941\n",
      "Epoch 17/300\n",
      "28/28 [==============================] - 0s 12ms/step - loss: 12.2014 - val_loss: 20.1482\n",
      "Epoch 18/300\n",
      "28/28 [==============================] - 0s 11ms/step - loss: 11.4608 - val_loss: 18.5719\n",
      "Epoch 19/300\n",
      "28/28 [==============================] - 0s 12ms/step - loss: 10.7807 - val_loss: 17.1472\n",
      "Epoch 20/300\n",
      "28/28 [==============================] - 0s 14ms/step - loss: 10.1540 - val_loss: 15.8592\n",
      "Epoch 21/300\n",
      "28/28 [==============================] - 0s 11ms/step - loss: 9.5755 - val_loss: 14.6914\n",
      "Epoch 22/300\n",
      "28/28 [==============================] - 0s 14ms/step - loss: 9.0408 - val_loss: 13.6314\n",
      "Epoch 23/300\n",
      "28/28 [==============================] - 0s 11ms/step - loss: 8.5459 - val_loss: 12.6689\n",
      "Epoch 24/300\n",
      "28/28 [==============================] - 0s 11ms/step - loss: 8.0870 - val_loss: 11.7912\n",
      "Epoch 25/300\n",
      "28/28 [==============================] - 0s 11ms/step - loss: 7.6610 - val_loss: 10.9884\n",
      "Epoch 26/300\n",
      "28/28 [==============================] - 0s 11ms/step - loss: 7.2647 - val_loss: 10.2517\n",
      "Epoch 27/300\n",
      "28/28 [==============================] - 0s 11ms/step - loss: 6.8955 - val_loss: 9.5746\n",
      "Epoch 28/300\n",
      "28/28 [==============================] - 0s 15ms/step - loss: 6.5521 - val_loss: 8.9526\n",
      "Epoch 29/300\n",
      "28/28 [==============================] - 0s 12ms/step - loss: 6.2321 - val_loss: 8.3804\n",
      "Epoch 30/300\n",
      "28/28 [==============================] - 0s 12ms/step - loss: 5.9333 - val_loss: 7.8526\n",
      "Epoch 31/300\n",
      "28/28 [==============================] - 0s 12ms/step - loss: 5.6545 - val_loss: 7.3662\n",
      "Epoch 32/300\n",
      "28/28 [==============================] - 0s 13ms/step - loss: 5.3939 - val_loss: 6.9175\n",
      "Epoch 33/300\n",
      "28/28 [==============================] - 0s 11ms/step - loss: 5.1508 - val_loss: 6.5050\n",
      "Epoch 34/300\n",
      "28/28 [==============================] - 0s 10ms/step - loss: 4.9243 - val_loss: 6.1254\n",
      "Epoch 35/300\n",
      "28/28 [==============================] - 0s 11ms/step - loss: 4.7129 - val_loss: 5.7763\n",
      "Epoch 36/300\n",
      "28/28 [==============================] - 0s 11ms/step - loss: 4.5154 - val_loss: 5.4551\n",
      "Epoch 37/300\n",
      "28/28 [==============================] - 0s 11ms/step - loss: 4.3310 - val_loss: 5.1591\n",
      "Epoch 38/300\n",
      "28/28 [==============================] - 0s 10ms/step - loss: 4.1584 - val_loss: 4.8877\n",
      "Epoch 39/300\n",
      "28/28 [==============================] - 0s 11ms/step - loss: 3.9974 - val_loss: 4.6398\n",
      "Epoch 40/300\n",
      "28/28 [==============================] - 0s 11ms/step - loss: 3.8474 - val_loss: 4.4132\n",
      "Epoch 41/300\n",
      "28/28 [==============================] - 0s 11ms/step - loss: 3.7074 - val_loss: 4.2063\n",
      "Epoch 42/300\n",
      "28/28 [==============================] - 0s 11ms/step - loss: 3.5769 - val_loss: 4.0181\n",
      "Epoch 43/300\n",
      "28/28 [==============================] - 0s 12ms/step - loss: 3.4556 - val_loss: 3.8474\n",
      "Epoch 44/300\n",
      "28/28 [==============================] - 0s 11ms/step - loss: 3.3427 - val_loss: 3.6919\n",
      "Epoch 45/300\n",
      "28/28 [==============================] - 0s 11ms/step - loss: 3.2371 - val_loss: 3.5502\n",
      "Epoch 46/300\n",
      "28/28 [==============================] - 0s 11ms/step - loss: 3.1384 - val_loss: 3.4209\n",
      "Epoch 47/300\n",
      "28/28 [==============================] - 0s 11ms/step - loss: 3.0456 - val_loss: 3.3025\n",
      "Epoch 48/300\n",
      "28/28 [==============================] - 0s 11ms/step - loss: 2.9586 - val_loss: 3.1941\n",
      "Epoch 49/300\n",
      "28/28 [==============================] - 0s 12ms/step - loss: 2.8768 - val_loss: 3.0945\n",
      "Epoch 50/300\n",
      "28/28 [==============================] - 0s 11ms/step - loss: 2.7998 - val_loss: 3.0029\n",
      "Epoch 51/300\n",
      "28/28 [==============================] - 0s 11ms/step - loss: 2.7272 - val_loss: 2.9182\n",
      "Epoch 52/300\n",
      "28/28 [==============================] - 0s 10ms/step - loss: 2.6587 - val_loss: 2.8391\n",
      "Epoch 53/300\n",
      "28/28 [==============================] - 0s 11ms/step - loss: 2.5935 - val_loss: 2.7653\n",
      "Epoch 54/300\n",
      "28/28 [==============================] - 0s 10ms/step - loss: 2.5315 - val_loss: 2.6964\n",
      "Epoch 55/300\n",
      "28/28 [==============================] - 0s 12ms/step - loss: 2.4721 - val_loss: 2.6312\n",
      "Epoch 56/300\n",
      "28/28 [==============================] - 0s 11ms/step - loss: 2.4149 - val_loss: 2.5694\n",
      "Epoch 57/300\n",
      "28/28 [==============================] - 0s 11ms/step - loss: 2.3603 - val_loss: 2.5107\n",
      "Epoch 58/300\n",
      "28/28 [==============================] - 0s 11ms/step - loss: 2.3082 - val_loss: 2.4551\n",
      "Epoch 59/300\n",
      "28/28 [==============================] - 0s 11ms/step - loss: 2.2584 - val_loss: 2.4028\n",
      "Epoch 60/300\n",
      "28/28 [==============================] - 0s 11ms/step - loss: 2.2107 - val_loss: 2.3525\n",
      "Epoch 61/300\n",
      "28/28 [==============================] - 0s 11ms/step - loss: 2.1648 - val_loss: 2.3046\n",
      "Epoch 62/300\n",
      "28/28 [==============================] - 0s 11ms/step - loss: 2.1209 - val_loss: 2.2589\n",
      "Epoch 63/300\n",
      "28/28 [==============================] - 0s 11ms/step - loss: 2.0785 - val_loss: 2.2152\n",
      "Epoch 64/300\n",
      "28/28 [==============================] - 0s 11ms/step - loss: 2.0378 - val_loss: 2.1735\n",
      "Epoch 65/300\n",
      "28/28 [==============================] - 0s 11ms/step - loss: 1.9989 - val_loss: 2.1340\n",
      "Epoch 66/300\n",
      "28/28 [==============================] - 0s 11ms/step - loss: 1.9615 - val_loss: 2.0960\n",
      "Epoch 67/300\n",
      "28/28 [==============================] - 0s 11ms/step - loss: 1.9255 - val_loss: 2.0599\n",
      "Epoch 68/300\n",
      "28/28 [==============================] - 0s 13ms/step - loss: 1.8909 - val_loss: 2.0258\n",
      "Epoch 69/300\n",
      "28/28 [==============================] - 0s 13ms/step - loss: 1.8577 - val_loss: 1.9931\n",
      "Epoch 70/300\n",
      "28/28 [==============================] - 0s 15ms/step - loss: 1.8257 - val_loss: 1.9620\n",
      "Epoch 71/300\n",
      "28/28 [==============================] - 1s 18ms/step - loss: 1.7950 - val_loss: 1.9324\n",
      "Epoch 72/300\n",
      "28/28 [==============================] - 0s 15ms/step - loss: 1.7655 - val_loss: 1.9041\n",
      "Epoch 73/300\n",
      "28/28 [==============================] - 0s 13ms/step - loss: 1.7368 - val_loss: 1.8771\n",
      "Epoch 74/300\n",
      "28/28 [==============================] - 0s 11ms/step - loss: 1.7090 - val_loss: 1.8518\n",
      "Epoch 75/300\n",
      "28/28 [==============================] - 0s 12ms/step - loss: 1.6823 - val_loss: 1.8275\n",
      "Epoch 76/300\n",
      "28/28 [==============================] - 0s 13ms/step - loss: 1.6561 - val_loss: 1.8043\n",
      "Epoch 77/300\n",
      "28/28 [==============================] - 0s 12ms/step - loss: 1.6310 - val_loss: 1.7826\n",
      "Epoch 78/300\n",
      "28/28 [==============================] - 0s 12ms/step - loss: 1.6066 - val_loss: 1.7621\n",
      "Epoch 79/300\n",
      "28/28 [==============================] - 0s 13ms/step - loss: 1.5831 - val_loss: 1.7428\n",
      "Epoch 80/300\n",
      "28/28 [==============================] - 0s 13ms/step - loss: 1.5602 - val_loss: 1.7240\n",
      "Epoch 81/300\n",
      "28/28 [==============================] - 0s 12ms/step - loss: 1.5378 - val_loss: 1.7061\n"
     ]
    },
    {
     "name": "stdout",
     "output_type": "stream",
     "text": [
      "Epoch 82/300\n",
      "28/28 [==============================] - 0s 13ms/step - loss: 1.5160 - val_loss: 1.6892\n",
      "Epoch 83/300\n",
      "28/28 [==============================] - 0s 11ms/step - loss: 1.4947 - val_loss: 1.6728\n",
      "Epoch 84/300\n",
      "28/28 [==============================] - 0s 11ms/step - loss: 1.4740 - val_loss: 1.6574\n",
      "Epoch 85/300\n",
      "28/28 [==============================] - 0s 11ms/step - loss: 1.4537 - val_loss: 1.6422\n",
      "Epoch 86/300\n",
      "28/28 [==============================] - 0s 13ms/step - loss: 1.4339 - val_loss: 1.6277\n",
      "Epoch 87/300\n",
      "28/28 [==============================] - 0s 11ms/step - loss: 1.4143 - val_loss: 1.6130\n",
      "Epoch 88/300\n",
      "28/28 [==============================] - 0s 11ms/step - loss: 1.3953 - val_loss: 1.5987\n",
      "Epoch 89/300\n",
      "28/28 [==============================] - 0s 12ms/step - loss: 1.3764 - val_loss: 1.5845\n",
      "Epoch 90/300\n",
      "28/28 [==============================] - 0s 11ms/step - loss: 1.3579 - val_loss: 1.5703\n",
      "Epoch 91/300\n",
      "28/28 [==============================] - 0s 11ms/step - loss: 1.3396 - val_loss: 1.5562\n",
      "Epoch 92/300\n",
      "28/28 [==============================] - 0s 11ms/step - loss: 1.3216 - val_loss: 1.5420\n",
      "Epoch 93/300\n",
      "28/28 [==============================] - 0s 11ms/step - loss: 1.3038 - val_loss: 1.5269\n",
      "Epoch 94/300\n",
      "28/28 [==============================] - 0s 11ms/step - loss: 1.2861 - val_loss: 1.5112\n",
      "Epoch 95/300\n",
      "28/28 [==============================] - 0s 11ms/step - loss: 1.2685 - val_loss: 1.4951\n",
      "Epoch 96/300\n",
      "28/28 [==============================] - 0s 11ms/step - loss: 1.2512 - val_loss: 1.4797\n",
      "Epoch 97/300\n",
      "28/28 [==============================] - 0s 11ms/step - loss: 1.2343 - val_loss: 1.4631\n",
      "Epoch 98/300\n",
      "28/28 [==============================] - 0s 11ms/step - loss: 1.2177 - val_loss: 1.4468\n",
      "Epoch 99/300\n",
      "28/28 [==============================] - 0s 13ms/step - loss: 1.2015 - val_loss: 1.4305\n",
      "Epoch 100/300\n",
      "28/28 [==============================] - 0s 11ms/step - loss: 1.1856 - val_loss: 1.4134\n",
      "Epoch 101/300\n",
      "28/28 [==============================] - 0s 12ms/step - loss: 1.1700 - val_loss: 1.3963\n",
      "Epoch 102/300\n",
      "28/28 [==============================] - 0s 11ms/step - loss: 1.1545 - val_loss: 1.3788\n",
      "Epoch 103/300\n",
      "28/28 [==============================] - 0s 12ms/step - loss: 1.1393 - val_loss: 1.3610\n",
      "Epoch 104/300\n",
      "28/28 [==============================] - 0s 11ms/step - loss: 1.1244 - val_loss: 1.3430\n",
      "Epoch 105/300\n",
      "28/28 [==============================] - 0s 11ms/step - loss: 1.1096 - val_loss: 1.3243\n",
      "Epoch 106/300\n",
      "28/28 [==============================] - 0s 11ms/step - loss: 1.0950 - val_loss: 1.3057\n",
      "Epoch 107/300\n",
      "28/28 [==============================] - 0s 12ms/step - loss: 1.0807 - val_loss: 1.2872\n",
      "Epoch 108/300\n",
      "28/28 [==============================] - 0s 11ms/step - loss: 1.0668 - val_loss: 1.2694\n",
      "Epoch 109/300\n",
      "28/28 [==============================] - 0s 11ms/step - loss: 1.0532 - val_loss: 1.2509\n",
      "Epoch 110/300\n",
      "28/28 [==============================] - 0s 11ms/step - loss: 1.0398 - val_loss: 1.2330\n",
      "Epoch 111/300\n",
      "28/28 [==============================] - 0s 11ms/step - loss: 1.0264 - val_loss: 1.2145\n",
      "Epoch 112/300\n",
      "28/28 [==============================] - 0s 11ms/step - loss: 1.0134 - val_loss: 1.1962\n",
      "Epoch 113/300\n",
      "28/28 [==============================] - 0s 11ms/step - loss: 1.0004 - val_loss: 1.1785\n",
      "Epoch 114/300\n",
      "28/28 [==============================] - 0s 11ms/step - loss: 0.9878 - val_loss: 1.1609\n",
      "Epoch 115/300\n",
      "28/28 [==============================] - 0s 11ms/step - loss: 0.9754 - val_loss: 1.1434\n",
      "Epoch 116/300\n",
      "28/28 [==============================] - 0s 11ms/step - loss: 0.9633 - val_loss: 1.1268\n",
      "Epoch 117/300\n",
      "28/28 [==============================] - 0s 11ms/step - loss: 0.9515 - val_loss: 1.1098\n",
      "Epoch 118/300\n",
      "28/28 [==============================] - 0s 12ms/step - loss: 0.9399 - val_loss: 1.0940\n",
      "Epoch 119/300\n",
      "28/28 [==============================] - 0s 12ms/step - loss: 0.9286 - val_loss: 1.0779\n",
      "Epoch 120/300\n",
      "28/28 [==============================] - 0s 11ms/step - loss: 0.9177 - val_loss: 1.0624\n",
      "Epoch 121/300\n",
      "28/28 [==============================] - 0s 12ms/step - loss: 0.9069 - val_loss: 1.0478\n",
      "Epoch 122/300\n",
      "28/28 [==============================] - 0s 12ms/step - loss: 0.8966 - val_loss: 1.0331\n",
      "Epoch 123/300\n",
      "28/28 [==============================] - 0s 12ms/step - loss: 0.8865 - val_loss: 1.0184\n",
      "Epoch 124/300\n",
      "28/28 [==============================] - 0s 13ms/step - loss: 0.8767 - val_loss: 1.0053\n",
      "Epoch 125/300\n",
      "28/28 [==============================] - 0s 12ms/step - loss: 0.8672 - val_loss: 0.9917\n",
      "Epoch 126/300\n",
      "28/28 [==============================] - 0s 14ms/step - loss: 0.8581 - val_loss: 0.9789\n",
      "Epoch 127/300\n",
      "28/28 [==============================] - 0s 16ms/step - loss: 0.8494 - val_loss: 0.9666\n",
      "Epoch 128/300\n",
      "28/28 [==============================] - 0s 15ms/step - loss: 0.8410 - val_loss: 0.9545\n",
      "Epoch 129/300\n",
      "28/28 [==============================] - 0s 15ms/step - loss: 0.8327 - val_loss: 0.9427\n",
      "Epoch 130/300\n",
      "28/28 [==============================] - 0s 13ms/step - loss: 0.8248 - val_loss: 0.9315\n",
      "Epoch 131/300\n",
      "28/28 [==============================] - 0s 12ms/step - loss: 0.8171 - val_loss: 0.9208\n",
      "Epoch 132/300\n",
      "28/28 [==============================] - 0s 12ms/step - loss: 0.8096 - val_loss: 0.9102\n",
      "Epoch 133/300\n",
      "28/28 [==============================] - 0s 12ms/step - loss: 0.8025 - val_loss: 0.8999\n",
      "Epoch 134/300\n",
      "28/28 [==============================] - 0s 12ms/step - loss: 0.7957 - val_loss: 0.8902\n",
      "Epoch 135/300\n",
      "28/28 [==============================] - 0s 12ms/step - loss: 0.7892 - val_loss: 0.8804\n",
      "Epoch 136/300\n",
      "28/28 [==============================] - 0s 12ms/step - loss: 0.7829 - val_loss: 0.8716\n",
      "Epoch 137/300\n",
      "28/28 [==============================] - 0s 13ms/step - loss: 0.7766 - val_loss: 0.8623\n",
      "Epoch 138/300\n",
      "28/28 [==============================] - 0s 12ms/step - loss: 0.7706 - val_loss: 0.8538\n",
      "Epoch 139/300\n",
      "28/28 [==============================] - 0s 12ms/step - loss: 0.7647 - val_loss: 0.8458\n",
      "Epoch 140/300\n",
      "28/28 [==============================] - 0s 12ms/step - loss: 0.7593 - val_loss: 0.8376\n",
      "Epoch 141/300\n",
      "28/28 [==============================] - 0s 12ms/step - loss: 0.7539 - val_loss: 0.8299\n",
      "Epoch 142/300\n",
      "28/28 [==============================] - 0s 12ms/step - loss: 0.7489 - val_loss: 0.8227\n",
      "Epoch 143/300\n",
      "28/28 [==============================] - 0s 12ms/step - loss: 0.7441 - val_loss: 0.8159\n",
      "Epoch 144/300\n",
      "28/28 [==============================] - 0s 12ms/step - loss: 0.7396 - val_loss: 0.8090\n",
      "Epoch 145/300\n",
      "28/28 [==============================] - 0s 11ms/step - loss: 0.7350 - val_loss: 0.8024\n",
      "Epoch 146/300\n",
      "28/28 [==============================] - 0s 12ms/step - loss: 0.7309 - val_loss: 0.7962\n",
      "Epoch 147/300\n",
      "28/28 [==============================] - 0s 12ms/step - loss: 0.7269 - val_loss: 0.7898\n",
      "Epoch 148/300\n",
      "28/28 [==============================] - 0s 15ms/step - loss: 0.7230 - val_loss: 0.7844\n",
      "Epoch 149/300\n",
      "28/28 [==============================] - 0s 14ms/step - loss: 0.7194 - val_loss: 0.7787\n",
      "Epoch 150/300\n",
      "28/28 [==============================] - 0s 12ms/step - loss: 0.7158 - val_loss: 0.7735\n",
      "Epoch 151/300\n",
      "28/28 [==============================] - 0s 11ms/step - loss: 0.7126 - val_loss: 0.7684\n",
      "Epoch 152/300\n",
      "28/28 [==============================] - 0s 12ms/step - loss: 0.7093 - val_loss: 0.7633\n",
      "Epoch 153/300\n",
      "28/28 [==============================] - 0s 11ms/step - loss: 0.7062 - val_loss: 0.7587\n",
      "Epoch 154/300\n",
      "28/28 [==============================] - 0s 11ms/step - loss: 0.7033 - val_loss: 0.7543\n",
      "Epoch 155/300\n",
      "28/28 [==============================] - 0s 12ms/step - loss: 0.7005 - val_loss: 0.7500\n",
      "Epoch 156/300\n",
      "28/28 [==============================] - 0s 11ms/step - loss: 0.6979 - val_loss: 0.7459\n",
      "Epoch 157/300\n",
      "28/28 [==============================] - 0s 13ms/step - loss: 0.6952 - val_loss: 0.7423\n",
      "Epoch 158/300\n",
      "28/28 [==============================] - 0s 11ms/step - loss: 0.6929 - val_loss: 0.7394\n",
      "Epoch 159/300\n",
      "28/28 [==============================] - 0s 11ms/step - loss: 0.6907 - val_loss: 0.7361\n",
      "Epoch 160/300\n",
      "28/28 [==============================] - 0s 11ms/step - loss: 0.6885 - val_loss: 0.7330\n",
      "Epoch 161/300\n",
      "28/28 [==============================] - 0s 11ms/step - loss: 0.6868 - val_loss: 0.7308\n",
      "Epoch 162/300\n"
     ]
    },
    {
     "name": "stdout",
     "output_type": "stream",
     "text": [
      "28/28 [==============================] - 0s 14ms/step - loss: 0.6850 - val_loss: 0.7284\n",
      "Epoch 163/300\n",
      "28/28 [==============================] - 0s 11ms/step - loss: 0.6832 - val_loss: 0.7267\n",
      "Epoch 164/300\n",
      "28/28 [==============================] - 0s 11ms/step - loss: 0.6816 - val_loss: 0.7245\n",
      "Epoch 165/300\n",
      "28/28 [==============================] - 0s 10ms/step - loss: 0.6802 - val_loss: 0.7228\n",
      "Epoch 166/300\n",
      "28/28 [==============================] - 0s 11ms/step - loss: 0.6788 - val_loss: 0.7213\n",
      "Epoch 167/300\n",
      "28/28 [==============================] - 0s 11ms/step - loss: 0.6775 - val_loss: 0.7200\n",
      "Epoch 168/300\n",
      "28/28 [==============================] - 0s 11ms/step - loss: 0.6761 - val_loss: 0.7185\n",
      "Epoch 169/300\n",
      "28/28 [==============================] - 0s 10ms/step - loss: 0.6748 - val_loss: 0.7177\n",
      "Epoch 170/300\n",
      "28/28 [==============================] - 0s 11ms/step - loss: 0.6734 - val_loss: 0.7164\n",
      "Epoch 171/300\n",
      "28/28 [==============================] - 0s 12ms/step - loss: 0.6722 - val_loss: 0.7155\n",
      "Epoch 172/300\n",
      "28/28 [==============================] - 0s 12ms/step - loss: 0.6709 - val_loss: 0.7150\n",
      "Epoch 173/300\n",
      "28/28 [==============================] - 0s 12ms/step - loss: 0.6697 - val_loss: 0.7143\n",
      "Epoch 174/300\n",
      "28/28 [==============================] - 0s 15ms/step - loss: 0.6685 - val_loss: 0.7142\n",
      "Epoch 175/300\n",
      "28/28 [==============================] - 0s 15ms/step - loss: 0.6672 - val_loss: 0.7135\n",
      "Epoch 176/300\n",
      "28/28 [==============================] - 0s 15ms/step - loss: 0.6660 - val_loss: 0.7133\n",
      "Epoch 177/300\n",
      "28/28 [==============================] - 0s 15ms/step - loss: 0.6646 - val_loss: 0.7134\n",
      "Epoch 178/300\n",
      "28/28 [==============================] - 0s 13ms/step - loss: 0.6632 - val_loss: 0.7132\n",
      "Epoch 179/300\n",
      "28/28 [==============================] - 0s 13ms/step - loss: 0.6619 - val_loss: 0.7135\n",
      "Epoch 180/300\n",
      "28/28 [==============================] - 0s 13ms/step - loss: 0.6606 - val_loss: 0.7137\n",
      "Epoch 181/300\n",
      "28/28 [==============================] - 0s 12ms/step - loss: 0.6593 - val_loss: 0.7139\n",
      "Epoch 182/300\n",
      "28/28 [==============================] - 0s 12ms/step - loss: 0.6580 - val_loss: 0.7143\n",
      "Epoch 183/300\n",
      "28/28 [==============================] - 0s 12ms/step - loss: 0.6567 - val_loss: 0.7146\n",
      "Epoch 184/300\n",
      "28/28 [==============================] - 0s 11ms/step - loss: 0.6554 - val_loss: 0.7145\n",
      "Epoch 185/300\n",
      "28/28 [==============================] - 0s 11ms/step - loss: 0.6540 - val_loss: 0.7153\n",
      "Epoch 186/300\n",
      "28/28 [==============================] - 0s 12ms/step - loss: 0.6526 - val_loss: 0.7153\n",
      "Epoch 187/300\n",
      "28/28 [==============================] - 0s 13ms/step - loss: 0.6511 - val_loss: 0.7162\n",
      "Epoch 188/300\n",
      "28/28 [==============================] - 0s 14ms/step - loss: 0.6499 - val_loss: 0.7164\n",
      "Epoch 189/300\n",
      "28/28 [==============================] - 0s 14ms/step - loss: 0.6485 - val_loss: 0.7171\n",
      "Epoch 190/300\n",
      "28/28 [==============================] - 0s 12ms/step - loss: 0.6473 - val_loss: 0.7172\n",
      "Epoch 191/300\n",
      "28/28 [==============================] - 0s 12ms/step - loss: 0.6458 - val_loss: 0.7179\n",
      "Epoch 192/300\n",
      "28/28 [==============================] - 0s 13ms/step - loss: 0.6445 - val_loss: 0.7185\n",
      "Epoch 193/300\n",
      "28/28 [==============================] - 0s 12ms/step - loss: 0.6431 - val_loss: 0.7193\n",
      "Epoch 194/300\n",
      "28/28 [==============================] - 0s 12ms/step - loss: 0.6418 - val_loss: 0.7197\n",
      "Epoch 195/300\n",
      "28/28 [==============================] - 0s 12ms/step - loss: 0.6405 - val_loss: 0.7202\n",
      "Epoch 196/300\n",
      "28/28 [==============================] - 0s 13ms/step - loss: 0.6394 - val_loss: 0.7204\n",
      "Epoch 197/300\n",
      "28/28 [==============================] - 0s 15ms/step - loss: 0.6381 - val_loss: 0.7210\n",
      "Epoch 198/300\n",
      "28/28 [==============================] - 0s 13ms/step - loss: 0.6366 - val_loss: 0.7210\n",
      "Epoch 199/300\n",
      "28/28 [==============================] - 0s 10ms/step - loss: 0.6354 - val_loss: 0.7214\n",
      "Epoch 200/300\n",
      "28/28 [==============================] - 0s 11ms/step - loss: 0.6340 - val_loss: 0.7214\n",
      "Epoch 201/300\n",
      "28/28 [==============================] - 0s 12ms/step - loss: 0.6327 - val_loss: 0.7214\n",
      "Epoch 202/300\n",
      "28/28 [==============================] - 0s 13ms/step - loss: 0.6312 - val_loss: 0.7214\n",
      "Epoch 203/300\n",
      "28/28 [==============================] - 0s 12ms/step - loss: 0.6300 - val_loss: 0.7219\n",
      "Epoch 204/300\n",
      "28/28 [==============================] - 0s 12ms/step - loss: 0.6287 - val_loss: 0.7219\n",
      "Epoch 205/300\n",
      "28/28 [==============================] - 0s 12ms/step - loss: 0.6275 - val_loss: 0.7218\n",
      "Epoch 206/300\n",
      "28/28 [==============================] - 0s 11ms/step - loss: 0.6262 - val_loss: 0.7221\n",
      "Epoch 207/300\n",
      "28/28 [==============================] - 0s 12ms/step - loss: 0.6251 - val_loss: 0.7219\n",
      "Epoch 208/300\n",
      "28/28 [==============================] - 0s 12ms/step - loss: 0.6237 - val_loss: 0.7220\n",
      "Epoch 209/300\n",
      "28/28 [==============================] - 0s 11ms/step - loss: 0.6226 - val_loss: 0.7220\n",
      "Epoch 210/300\n",
      "28/28 [==============================] - 0s 10ms/step - loss: 0.6214 - val_loss: 0.7218\n",
      "Epoch 211/300\n",
      "28/28 [==============================] - 0s 13ms/step - loss: 0.6200 - val_loss: 0.7216\n",
      "Epoch 212/300\n",
      "28/28 [==============================] - 0s 11ms/step - loss: 0.6190 - val_loss: 0.7217\n",
      "Epoch 213/300\n",
      "28/28 [==============================] - 0s 10ms/step - loss: 0.6179 - val_loss: 0.7213\n",
      "Epoch 214/300\n",
      "28/28 [==============================] - 0s 10ms/step - loss: 0.6165 - val_loss: 0.7207\n",
      "Epoch 215/300\n",
      "28/28 [==============================] - 0s 10ms/step - loss: 0.6152 - val_loss: 0.7207\n",
      "Epoch 216/300\n",
      "28/28 [==============================] - 0s 10ms/step - loss: 0.6142 - val_loss: 0.7206\n",
      "Epoch 217/300\n",
      "28/28 [==============================] - 0s 12ms/step - loss: 0.6129 - val_loss: 0.7204\n",
      "Epoch 218/300\n",
      "28/28 [==============================] - 0s 11ms/step - loss: 0.6119 - val_loss: 0.7197\n",
      "Epoch 219/300\n",
      "28/28 [==============================] - 0s 12ms/step - loss: 0.6107 - val_loss: 0.7193\n",
      "Epoch 220/300\n",
      "28/28 [==============================] - 0s 12ms/step - loss: 0.6096 - val_loss: 0.7188\n",
      "Epoch 221/300\n",
      "28/28 [==============================] - 0s 15ms/step - loss: 0.6085 - val_loss: 0.7189\n",
      "Epoch 222/300\n",
      "28/28 [==============================] - 0s 13ms/step - loss: 0.6073 - val_loss: 0.7181\n",
      "Epoch 223/300\n",
      "28/28 [==============================] - 0s 13ms/step - loss: 0.6063 - val_loss: 0.7179\n",
      "Epoch 224/300\n",
      "28/28 [==============================] - 0s 11ms/step - loss: 0.6052 - val_loss: 0.7172\n",
      "Epoch 225/300\n",
      "28/28 [==============================] - 0s 11ms/step - loss: 0.6040 - val_loss: 0.7169\n",
      "Epoch 226/300\n",
      "28/28 [==============================] - 0s 10ms/step - loss: 0.6030 - val_loss: 0.7168\n",
      "Epoch 227/300\n",
      "28/28 [==============================] - 0s 10ms/step - loss: 0.6020 - val_loss: 0.7163\n",
      "Epoch 228/300\n",
      "28/28 [==============================] - 0s 10ms/step - loss: 0.6012 - val_loss: 0.7159\n",
      "Epoch 229/300\n",
      "28/28 [==============================] - 0s 10ms/step - loss: 0.6001 - val_loss: 0.7154\n",
      "Epoch 230/300\n",
      "28/28 [==============================] - 0s 11ms/step - loss: 0.5991 - val_loss: 0.7152\n",
      "Epoch 231/300\n",
      "28/28 [==============================] - 0s 12ms/step - loss: 0.5981 - val_loss: 0.7148\n",
      "Epoch 232/300\n",
      "28/28 [==============================] - 0s 12ms/step - loss: 0.5971 - val_loss: 0.7142\n",
      "Epoch 233/300\n",
      "28/28 [==============================] - 0s 11ms/step - loss: 0.5962 - val_loss: 0.7139\n",
      "Epoch 234/300\n",
      "28/28 [==============================] - 0s 11ms/step - loss: 0.5954 - val_loss: 0.7133\n",
      "Epoch 235/300\n",
      "28/28 [==============================] - 0s 11ms/step - loss: 0.5945 - val_loss: 0.7131\n",
      "Epoch 236/300\n",
      "28/28 [==============================] - 0s 10ms/step - loss: 0.5937 - val_loss: 0.7123\n",
      "Epoch 237/300\n",
      "28/28 [==============================] - 0s 13ms/step - loss: 0.5927 - val_loss: 0.7122\n",
      "Epoch 238/300\n",
      "28/28 [==============================] - 0s 11ms/step - loss: 0.5919 - val_loss: 0.7119\n",
      "Epoch 239/300\n",
      "28/28 [==============================] - 0s 10ms/step - loss: 0.5911 - val_loss: 0.7115\n",
      "Epoch 240/300\n",
      "28/28 [==============================] - 0s 10ms/step - loss: 0.5903 - val_loss: 0.7105\n",
      "Epoch 241/300\n",
      "28/28 [==============================] - 0s 10ms/step - loss: 0.5895 - val_loss: 0.7107\n",
      "Epoch 242/300\n"
     ]
    },
    {
     "name": "stdout",
     "output_type": "stream",
     "text": [
      "28/28 [==============================] - 0s 10ms/step - loss: 0.5887 - val_loss: 0.7098\n",
      "Epoch 243/300\n",
      "28/28 [==============================] - 0s 10ms/step - loss: 0.5879 - val_loss: 0.7095\n",
      "Epoch 244/300\n",
      "28/28 [==============================] - 0s 12ms/step - loss: 0.5871 - val_loss: 0.7090\n",
      "Epoch 245/300\n",
      "28/28 [==============================] - 0s 11ms/step - loss: 0.5864 - val_loss: 0.7085\n",
      "Epoch 246/300\n",
      "28/28 [==============================] - 0s 10ms/step - loss: 0.5858 - val_loss: 0.7083\n",
      "Epoch 247/300\n",
      "28/28 [==============================] - 0s 10ms/step - loss: 0.5851 - val_loss: 0.7081\n",
      "Epoch 248/300\n",
      "28/28 [==============================] - 0s 10ms/step - loss: 0.5844 - val_loss: 0.7079\n",
      "Epoch 249/300\n",
      "28/28 [==============================] - 0s 11ms/step - loss: 0.5838 - val_loss: 0.7074\n",
      "Epoch 250/300\n",
      "28/28 [==============================] - 0s 10ms/step - loss: 0.5831 - val_loss: 0.7070\n",
      "Epoch 251/300\n",
      "28/28 [==============================] - 0s 10ms/step - loss: 0.5824 - val_loss: 0.7068\n",
      "Epoch 252/300\n",
      "28/28 [==============================] - 0s 10ms/step - loss: 0.5818 - val_loss: 0.7061\n",
      "Epoch 253/300\n",
      "28/28 [==============================] - 0s 10ms/step - loss: 0.5811 - val_loss: 0.7056\n",
      "Epoch 254/300\n",
      "28/28 [==============================] - 0s 10ms/step - loss: 0.5804 - val_loss: 0.7056\n",
      "Epoch 255/300\n",
      "28/28 [==============================] - 0s 12ms/step - loss: 0.5800 - val_loss: 0.7046\n",
      "Epoch 256/300\n",
      "28/28 [==============================] - 0s 12ms/step - loss: 0.5793 - val_loss: 0.7046\n",
      "Epoch 257/300\n",
      "28/28 [==============================] - 0s 10ms/step - loss: 0.5786 - val_loss: 0.7043\n",
      "Epoch 258/300\n",
      "28/28 [==============================] - 0s 10ms/step - loss: 0.5781 - val_loss: 0.7040\n",
      "Epoch 259/300\n",
      "28/28 [==============================] - 0s 11ms/step - loss: 0.5775 - val_loss: 0.7036\n",
      "Epoch 260/300\n",
      "28/28 [==============================] - 0s 10ms/step - loss: 0.5769 - val_loss: 0.7031\n",
      "Epoch 261/300\n",
      "28/28 [==============================] - 0s 10ms/step - loss: 0.5762 - val_loss: 0.7031\n",
      "Epoch 262/300\n",
      "28/28 [==============================] - 0s 9ms/step - loss: 0.5758 - val_loss: 0.7025\n",
      "Epoch 263/300\n",
      "28/28 [==============================] - 0s 10ms/step - loss: 0.5754 - val_loss: 0.7021\n",
      "Epoch 264/300\n",
      "28/28 [==============================] - 0s 10ms/step - loss: 0.5747 - val_loss: 0.7017\n",
      "Epoch 265/300\n",
      "28/28 [==============================] - 0s 11ms/step - loss: 0.5744 - val_loss: 0.7012\n",
      "Epoch 266/300\n",
      "28/28 [==============================] - 0s 11ms/step - loss: 0.5737 - val_loss: 0.7011\n",
      "Epoch 267/300\n",
      "28/28 [==============================] - 0s 12ms/step - loss: 0.5732 - val_loss: 0.7007\n",
      "Epoch 268/300\n",
      "28/28 [==============================] - 0s 12ms/step - loss: 0.5727 - val_loss: 0.7007\n",
      "Epoch 269/300\n",
      "28/28 [==============================] - 0s 11ms/step - loss: 0.5721 - val_loss: 0.7004\n",
      "Epoch 270/300\n",
      "28/28 [==============================] - 0s 11ms/step - loss: 0.5717 - val_loss: 0.6996\n",
      "Epoch 271/300\n",
      "28/28 [==============================] - 0s 11ms/step - loss: 0.5714 - val_loss: 0.6996\n",
      "Epoch 272/300\n",
      "28/28 [==============================] - 0s 12ms/step - loss: 0.5708 - val_loss: 0.6994\n",
      "Epoch 273/300\n",
      "28/28 [==============================] - 0s 10ms/step - loss: 0.5702 - val_loss: 0.6991\n",
      "Epoch 274/300\n",
      "28/28 [==============================] - 0s 12ms/step - loss: 0.5699 - val_loss: 0.6987\n",
      "Epoch 275/300\n",
      "28/28 [==============================] - 0s 11ms/step - loss: 0.5694 - val_loss: 0.6983\n",
      "Epoch 276/300\n",
      "28/28 [==============================] - 0s 11ms/step - loss: 0.5691 - val_loss: 0.6982\n",
      "Epoch 277/300\n",
      "28/28 [==============================] - 0s 11ms/step - loss: 0.5686 - val_loss: 0.6978\n",
      "Epoch 278/300\n",
      "28/28 [==============================] - 0s 11ms/step - loss: 0.5682 - val_loss: 0.6976\n",
      "Epoch 279/300\n",
      "28/28 [==============================] - 0s 11ms/step - loss: 0.5677 - val_loss: 0.6975\n",
      "Epoch 280/300\n",
      "28/28 [==============================] - 0s 10ms/step - loss: 0.5673 - val_loss: 0.6971\n",
      "Epoch 281/300\n",
      "28/28 [==============================] - 0s 10ms/step - loss: 0.5669 - val_loss: 0.6967\n",
      "Epoch 282/300\n",
      "28/28 [==============================] - 0s 11ms/step - loss: 0.5665 - val_loss: 0.6964\n",
      "Epoch 283/300\n",
      "28/28 [==============================] - 0s 10ms/step - loss: 0.5661 - val_loss: 0.6961\n",
      "Epoch 284/300\n",
      "28/28 [==============================] - 0s 10ms/step - loss: 0.5657 - val_loss: 0.6955\n",
      "Epoch 285/300\n",
      "28/28 [==============================] - 0s 10ms/step - loss: 0.5653 - val_loss: 0.6957\n",
      "Epoch 286/300\n",
      "28/28 [==============================] - 0s 12ms/step - loss: 0.5649 - val_loss: 0.6954\n",
      "Epoch 287/300\n",
      "28/28 [==============================] - 0s 12ms/step - loss: 0.5647 - val_loss: 0.6951\n",
      "Epoch 288/300\n",
      "28/28 [==============================] - 0s 10ms/step - loss: 0.5640 - val_loss: 0.6947\n",
      "Epoch 289/300\n",
      "28/28 [==============================] - 0s 11ms/step - loss: 0.5637 - val_loss: 0.6945\n",
      "Epoch 290/300\n",
      "28/28 [==============================] - 0s 12ms/step - loss: 0.5634 - val_loss: 0.6939\n",
      "Epoch 291/300\n",
      "28/28 [==============================] - 0s 11ms/step - loss: 0.5629 - val_loss: 0.6942\n",
      "Epoch 292/300\n",
      "28/28 [==============================] - 0s 11ms/step - loss: 0.5626 - val_loss: 0.6933\n",
      "Epoch 293/300\n",
      "28/28 [==============================] - 0s 12ms/step - loss: 0.5623 - val_loss: 0.6935\n",
      "Epoch 294/300\n",
      "28/28 [==============================] - 0s 11ms/step - loss: 0.5619 - val_loss: 0.6930\n",
      "Epoch 295/300\n",
      "28/28 [==============================] - 0s 11ms/step - loss: 0.5615 - val_loss: 0.6924\n",
      "Epoch 296/300\n",
      "28/28 [==============================] - 0s 10ms/step - loss: 0.5611 - val_loss: 0.6928\n",
      "Epoch 297/300\n",
      "28/28 [==============================] - 0s 11ms/step - loss: 0.5609 - val_loss: 0.6920\n",
      "Epoch 298/300\n",
      "28/28 [==============================] - 0s 10ms/step - loss: 0.5605 - val_loss: 0.6917\n",
      "Epoch 299/300\n",
      "28/28 [==============================] - 0s 10ms/step - loss: 0.5602 - val_loss: 0.6917\n",
      "Epoch 300/300\n",
      "28/28 [==============================] - 0s 11ms/step - loss: 0.5598 - val_loss: 0.6911\n"
     ]
    },
    {
     "name": "stderr",
     "output_type": "stream",
     "text": [
      "2022-04-10 15:11:40.172593: I tensorflow/core/grappler/optimizers/custom_graph_optimizer_registry.cc:113] Plugin optimizer for device_type GPU is enabled.\n",
      "2022-04-10 15:11:40.242255: I tensorflow/core/grappler/optimizers/custom_graph_optimizer_registry.cc:113] Plugin optimizer for device_type GPU is enabled.\n",
      "2022-04-10 15:11:40.266200: I tensorflow/core/grappler/optimizers/custom_graph_optimizer_registry.cc:113] Plugin optimizer for device_type GPU is enabled.\n"
     ]
    }
   ],
   "source": [
    "es = EarlyStopping(monitor='val_loss', mode='min', verbose=1,patience=40, min_delta=0.0001)\n",
    "history_tech=model_tech.fit(\n",
    "    X_train, y_train,\n",
    "    epochs=300,\n",
    "    batch_size=32,\n",
    "    validation_split=0.1,\n",
    "    verbose=1,\n",
    "    shuffle=False,\n",
    "    # callbacks=[es]\n",
    ")\n",
    "y_pred = model_tech.predict(X_test)"
   ]
  },
  {
   "cell_type": "code",
   "execution_count": 30,
   "id": "55aa57ad",
   "metadata": {},
   "outputs": [
    {
     "data": {
      "text/plain": [
       "<matplotlib.legend.Legend at 0x17d974880>"
      ]
     },
     "execution_count": 30,
     "metadata": {},
     "output_type": "execute_result"
    },
    {
     "data": {
      "image/png": "[encoded data removed]",
      "text/plain": [
       "<Figure size 432x288 with 1 Axes>"
      ]
     },
     "metadata": {
      "needs_background": "light"
     },
     "output_type": "display_data"
    }
   ],
   "source": [
    "plt.plot(history_tech.history['loss'], label='train')\n",
    "plt.plot(history_tech.history['val_loss'], label='test')\n",
    "plt.legend()"
   ]
  },
  {
   "cell_type": "code",
   "execution_count": 31,
   "id": "477f1fb7",
   "metadata": {},
   "outputs": [
    {
     "data": {
      "image/png": "[encoded data removed]",
      "text/plain": [
       "<Figure size 432x288 with 1 Axes>"
      ]
     },
     "metadata": {
      "needs_background": "light"
     },
     "output_type": "display_data"
    }
   ],
   "source": [
    "plt.plot(np.arange(0, len(y_train)), y_train, 'g', label=\"history\")\n",
    "plt.plot(np.arange(len(y_train), len(y_train) + len(y_test)), y_test, marker='.', label=\"true\")\n",
    "plt.plot(np.arange(len(y_train), len(y_train) + len(y_test)), y_pred, 'r', label=\"prediction\")\n",
    "plt.ylabel('Value')\n",
    "plt.xlabel('Time Step')\n",
    "plt.legend()\n",
    "plt.show()"
   ]
  },
  {
   "cell_type": "code",
   "execution_count": 32,
   "id": "134553b2",
   "metadata": {
    "scrolled": true
   },
   "outputs": [
    {
     "data": {
      "image/png": "[encoded data removed]",
      "text/plain": [
       "<Figure size 432x288 with 1 Axes>"
      ]
     },
     "metadata": {
      "needs_background": "light"
     },
     "output_type": "display_data"
    }
   ],
   "source": [
    "# y_test = sc.inverse_transform(y_test)\n",
    "# y_pred = sc.inverse_transform(y_pred)\n",
    "plt.plot(y_test, marker='.', label=\"true\")\n",
    "plt.plot(y_pred, 'r', label=\"prediction\")\n",
    "plt.ylabel('Value')\n",
    "plt.xlabel('Time Step')\n",
    "plt.legend()\n",
    "plt.show();"
   ]
  },
  {
   "cell_type": "code",
   "execution_count": 33,
   "id": "0ef7fe0c",
   "metadata": {},
   "outputs": [
    {
     "data": {
      "text/plain": [
       "0.9757033333652573"
      ]
     },
     "execution_count": 33,
     "metadata": {},
     "output_type": "execute_result"
    }
   ],
   "source": [
    "r2_score(y_test,y_pred)"
   ]
  },
  {
   "cell_type": "code",
   "execution_count": 34,
   "id": "7cf212a7",
   "metadata": {},
   "outputs": [
    {
     "data": {
      "text/plain": [
       "0.011918881564339498"
      ]
     },
     "execution_count": 34,
     "metadata": {},
     "output_type": "execute_result"
    }
   ],
   "source": [
    "mean_absolute_percentage_error(y_test,y_pred)"
   ]
  },
  {
   "cell_type": "code",
   "execution_count": 35,
   "id": "a0cd9d21",
   "metadata": {},
   "outputs": [
    {
     "data": {
      "text/plain": [
       "0.7216275562099739"
      ]
     },
     "execution_count": 35,
     "metadata": {},
     "output_type": "execute_result"
    }
   ],
   "source": [
    "mean_squared_error(y_test,y_pred,squared=False)"
   ]
  },
  {
   "cell_type": "code",
   "execution_count": 36,
   "id": "325a7cdd",
   "metadata": {},
   "outputs": [
    {
     "name": "stderr",
     "output_type": "stream",
     "text": [
      "/var/folders/8h/w0jn89bj2w5g85gj4ck7w0t00000gn/T/ipykernel_80214/2648236666.py:1: FutureWarning: In a future version of pandas all arguments of DataFrame.drop except for the argument 'labels' will be keyword-only.\n",
      "  x_val=data_val.drop(['Prediction'],1)\n"
     ]
    }
   ],
   "source": [
    "x_val=data_val.drop(['Prediction'],1)\n",
    "y_val=data_val['Prediction']\n",
    "x_val=sc.transform(x_val).reshape(x_val.shape[0],1,x_val.shape[1])\n",
    "y_val_pred=model_tech.predict(x_val)"
   ]
  },
  {
   "cell_type": "code",
   "execution_count": 37,
   "id": "529aefb2",
   "metadata": {},
   "outputs": [
    {
     "data": {
      "image/png": "[encoded data removed]",
      "text/plain": [
       "<Figure size 432x288 with 1 Axes>"
      ]
     },
     "metadata": {
      "needs_background": "light"
     },
     "output_type": "display_data"
    }
   ],
   "source": [
    "plt.plot(y_val.values, marker='.', label=\"true\")\n",
    "plt.plot(y_val_pred, 'r', marker='*',label=\"prediction\")\n",
    "plt.ylabel('Value')\n",
    "plt.xlabel('Time Step')\n",
    "plt.title('LSTM-0017-InfoGain-L1-batch32')\n",
    "plt.legend()\n",
    "plt.show()"
   ]
  },
  {
   "cell_type": "code",
   "execution_count": 38,
   "id": "3b9ce3a3",
   "metadata": {},
   "outputs": [
    {
     "data": {
      "text/plain": [
       "0.9159313231950854"
      ]
     },
     "execution_count": 38,
     "metadata": {},
     "output_type": "execute_result"
    }
   ],
   "source": [
    "r2_score(y_val,y_val_pred)"
   ]
  },
  {
   "cell_type": "code",
   "execution_count": 39,
   "id": "67bc6f38",
   "metadata": {},
   "outputs": [
    {
     "data": {
      "text/plain": [
       "0.014642804868936621"
      ]
     },
     "execution_count": 39,
     "metadata": {},
     "output_type": "execute_result"
    }
   ],
   "source": [
    "mean_absolute_percentage_error(y_val,y_val_pred)"
   ]
  },
  {
   "cell_type": "code",
   "execution_count": 40,
   "id": "7a79ea1f",
   "metadata": {},
   "outputs": [
    {
     "data": {
      "text/plain": [
       "0.70147372111636"
      ]
     },
     "execution_count": 40,
     "metadata": {},
     "output_type": "execute_result"
    }
   ],
   "source": [
    "mean_squared_error(y_val.values,y_val_pred,squared=False)"
   ]
  },
  {
   "cell_type": "code",
   "execution_count": null,
   "id": "d8ab65e9",
   "metadata": {},
   "outputs": [],
   "source": []
  }
 ],
 "metadata": {
  "kernelspec": {
   "display_name": "Python 3 (ipykernel)",
   "language": "python",
   "name": "python3"
  },
  "language_info": {
   "codemirror_mode": {
    "name": "ipython",
    "version": 3
   },
   "file_extension": ".py",
   "mimetype": "text/x-python",
   "name": "python",
   "nbconvert_exporter": "python",
   "pygments_lexer": "ipython3",
   "version": "3.8.13"
  }
 },
 "nbformat": 4,
 "nbformat_minor": 5
}
