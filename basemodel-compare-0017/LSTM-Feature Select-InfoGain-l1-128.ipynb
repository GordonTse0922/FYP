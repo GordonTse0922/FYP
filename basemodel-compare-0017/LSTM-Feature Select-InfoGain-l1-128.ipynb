{
 "cells": [
  {
   "cell_type": "code",
   "execution_count": 1,
   "id": "eb9ae2e7",
   "metadata": {},
   "outputs": [],
   "source": [
    "import yfinance as yf\n",
    "import pandas as pd\n",
    "import numpy as np\n",
    "import matplotlib.pyplot as plt\n",
    "from sklearn.preprocessing import MinMaxScaler\n",
    "from sklearn.model_selection import train_test_split\n",
    "from sklearn.metrics import classification_report,accuracy_score, mean_squared_error,mean_absolute_percentage_error,r2_score\n",
    "import tensorflow as tf\n",
    "import talib\n",
    "from tensorflow import keras\n",
    "from sklearn.pipeline import make_pipeline\n",
    "from tensorflow.keras import regularizers\n",
    "from keras.callbacks import EarlyStopping\n",
    "# tf.config.set_visible_devices([], 'GPU')"
   ]
  },
  {
   "cell_type": "code",
   "execution_count": 2,
   "id": "9ad5f74c",
   "metadata": {},
   "outputs": [
    {
     "name": "stdout",
     "output_type": "stream",
     "text": [
      "[*********************100%***********************]  1 of 1 completed\n"
     ]
    }
   ],
   "source": [
    "data=yf.download('0017.hk')"
   ]
  },
  {
   "cell_type": "code",
   "execution_count": 3,
   "id": "781ab9b7",
   "metadata": {
    "pycharm": {
     "name": "#%%\n"
    }
   },
   "outputs": [],
   "source": [
    "data['6day MA'] = data['Close'].rolling(window = 6).mean()\n",
    "data['12day MA'] = data['Close'].rolling(window = 12).mean()\n",
    "data['RSI'] = talib.RSI(data['Close'].values, timeperiod = 7)\n",
    "data['%R5'] = talib.WILLR(data['High'].values, data['Low'].values, data['Close'].values, 5)\n",
    "data['%R10'] = talib.WILLR(data['High'].values, data['Low'].values, data['Close'].values, 10)\n",
    "data['MI6']=talib.MOM(data['Close'],timeperiod=6)\n",
    "data['MI12']=talib.MOM(data['Close'],timeperiod=12)\n",
    "macd, macdsignal, macdhist = talib.MACD(data['Close'], fastperiod=12, slowperiod=26, signalperiod=9)\n",
    "data['EMA12']=talib.EMA(data['Close'], timeperiod=12)\n",
    "data['EMA26']=talib.EMA(data['Close'],timeperiod=26)\n",
    "data['MACD']=macd\n",
    "data['TR']=talib.TRANGE(data['High'],data['Low'],data['Close'])\n",
    "data['OSC6']=talib.CMO(data['Close'], timeperiod=6)\n",
    "data['OSC12']=talib.CMO(data['Close'], timeperiod=12)\n",
    "data['Prediction']=data['Close'].shift(-1)\n",
    "data.dropna(inplace=True)"
   ]
  },
  {
   "cell_type": "code",
   "execution_count": 4,
   "id": "0c6d7cbf",
   "metadata": {},
   "outputs": [
    {
     "data": {
      "text/html": [
       "<div>\n",
       "<style scoped>\n",
       "    .dataframe tbody tr th:only-of-type {\n",
       "        vertical-align: middle;\n",
       "    }\n",
       "\n",
       "    .dataframe tbody tr th {\n",
       "        vertical-align: top;\n",
       "    }\n",
       "\n",
       "    .dataframe thead th {\n",
       "        text-align: right;\n",
       "    }\n",
       "</style>\n",
       "<table border=\"1\" class=\"dataframe\">\n",
       "  <thead>\n",
       "    <tr style=\"text-align: right;\">\n",
       "      <th></th>\n",
       "      <th>Open</th>\n",
       "      <th>High</th>\n",
       "      <th>Low</th>\n",
       "      <th>Close</th>\n",
       "      <th>Adj Close</th>\n",
       "      <th>Volume</th>\n",
       "      <th>6day MA</th>\n",
       "      <th>12day MA</th>\n",
       "      <th>RSI</th>\n",
       "      <th>%R5</th>\n",
       "      <th>%R10</th>\n",
       "      <th>MI6</th>\n",
       "      <th>MI12</th>\n",
       "      <th>EMA12</th>\n",
       "      <th>EMA26</th>\n",
       "      <th>MACD</th>\n",
       "      <th>TR</th>\n",
       "      <th>OSC6</th>\n",
       "      <th>OSC12</th>\n",
       "      <th>Prediction</th>\n",
       "    </tr>\n",
       "    <tr>\n",
       "      <th>Date</th>\n",
       "      <th></th>\n",
       "      <th></th>\n",
       "      <th></th>\n",
       "      <th></th>\n",
       "      <th></th>\n",
       "      <th></th>\n",
       "      <th></th>\n",
       "      <th></th>\n",
       "      <th></th>\n",
       "      <th></th>\n",
       "      <th></th>\n",
       "      <th></th>\n",
       "      <th></th>\n",
       "      <th></th>\n",
       "      <th></th>\n",
       "      <th></th>\n",
       "      <th></th>\n",
       "      <th></th>\n",
       "      <th></th>\n",
       "      <th></th>\n",
       "    </tr>\n",
       "  </thead>\n",
       "  <tbody>\n",
       "    <tr>\n",
       "      <th>2010-03-24</th>\n",
       "      <td>52.915012</td>\n",
       "      <td>53.051567</td>\n",
       "      <td>52.095684</td>\n",
       "      <td>52.300514</td>\n",
       "      <td>29.860737</td>\n",
       "      <td>2551921.0</td>\n",
       "      <td>52.619144</td>\n",
       "      <td>52.368794</td>\n",
       "      <td>55.096356</td>\n",
       "      <td>-70.967858</td>\n",
       "      <td>-59.459566</td>\n",
       "      <td>0.136551</td>\n",
       "      <td>0.751049</td>\n",
       "      <td>52.014982</td>\n",
       "      <td>50.953271</td>\n",
       "      <td>1.061711</td>\n",
       "      <td>0.955883</td>\n",
       "      <td>6.821374</td>\n",
       "      <td>16.425878</td>\n",
       "      <td>52.300514</td>\n",
       "    </tr>\n",
       "    <tr>\n",
       "      <th>2010-03-25</th>\n",
       "      <td>51.959129</td>\n",
       "      <td>52.710182</td>\n",
       "      <td>51.344631</td>\n",
       "      <td>52.300514</td>\n",
       "      <td>29.860737</td>\n",
       "      <td>2536219.0</td>\n",
       "      <td>52.493969</td>\n",
       "      <td>52.328966</td>\n",
       "      <td>55.096356</td>\n",
       "      <td>-57.575865</td>\n",
       "      <td>-59.459566</td>\n",
       "      <td>-0.751053</td>\n",
       "      <td>-0.477943</td>\n",
       "      <td>52.058910</td>\n",
       "      <td>51.053067</td>\n",
       "      <td>1.005843</td>\n",
       "      <td>1.365551</td>\n",
       "      <td>6.821374</td>\n",
       "      <td>16.425878</td>\n",
       "      <td>53.392956</td>\n",
       "    </tr>\n",
       "    <tr>\n",
       "      <th>2010-03-26</th>\n",
       "      <td>52.095684</td>\n",
       "      <td>53.802620</td>\n",
       "      <td>52.027409</td>\n",
       "      <td>53.392956</td>\n",
       "      <td>30.484457</td>\n",
       "      <td>2510249.0</td>\n",
       "      <td>52.653283</td>\n",
       "      <td>52.425692</td>\n",
       "      <td>66.728957</td>\n",
       "      <td>-16.666641</td>\n",
       "      <td>-16.666641</td>\n",
       "      <td>0.955883</td>\n",
       "      <td>1.160717</td>\n",
       "      <td>52.264148</td>\n",
       "      <td>51.226392</td>\n",
       "      <td>1.037756</td>\n",
       "      <td>1.775211</td>\n",
       "      <td>35.279811</td>\n",
       "      <td>28.350674</td>\n",
       "      <td>53.666065</td>\n",
       "    </tr>\n",
       "    <tr>\n",
       "      <th>2010-03-29</th>\n",
       "      <td>53.461231</td>\n",
       "      <td>53.939175</td>\n",
       "      <td>53.461231</td>\n",
       "      <td>53.666065</td>\n",
       "      <td>30.640394</td>\n",
       "      <td>2631978.0</td>\n",
       "      <td>52.664662</td>\n",
       "      <td>52.590696</td>\n",
       "      <td>69.066249</td>\n",
       "      <td>-10.526300</td>\n",
       "      <td>-10.526300</td>\n",
       "      <td>0.068275</td>\n",
       "      <td>1.980045</td>\n",
       "      <td>52.479827</td>\n",
       "      <td>51.407108</td>\n",
       "      <td>1.072719</td>\n",
       "      <td>0.546219</td>\n",
       "      <td>40.712074</td>\n",
       "      <td>31.034403</td>\n",
       "      <td>53.188122</td>\n",
       "    </tr>\n",
       "    <tr>\n",
       "      <th>2010-03-30</th>\n",
       "      <td>53.256401</td>\n",
       "      <td>54.075729</td>\n",
       "      <td>52.915012</td>\n",
       "      <td>53.188122</td>\n",
       "      <td>30.367519</td>\n",
       "      <td>3142411.0</td>\n",
       "      <td>52.823976</td>\n",
       "      <td>52.698801</td>\n",
       "      <td>60.402809</td>\n",
       "      <td>-32.500024</td>\n",
       "      <td>-32.500024</td>\n",
       "      <td>0.955883</td>\n",
       "      <td>1.297268</td>\n",
       "      <td>52.588796</td>\n",
       "      <td>51.539035</td>\n",
       "      <td>1.049760</td>\n",
       "      <td>1.160717</td>\n",
       "      <td>19.626336</td>\n",
       "      <td>22.289705</td>\n",
       "      <td>51.890854</td>\n",
       "    </tr>\n",
       "  </tbody>\n",
       "</table>\n",
       "</div>"
      ],
      "text/plain": [
       "                 Open       High        Low      Close  Adj Close     Volume  \\\n",
       "Date                                                                           \n",
       "2010-03-24  52.915012  53.051567  52.095684  52.300514  29.860737  2551921.0   \n",
       "2010-03-25  51.959129  52.710182  51.344631  52.300514  29.860737  2536219.0   \n",
       "2010-03-26  52.095684  53.802620  52.027409  53.392956  30.484457  2510249.0   \n",
       "2010-03-29  53.461231  53.939175  53.461231  53.666065  30.640394  2631978.0   \n",
       "2010-03-30  53.256401  54.075729  52.915012  53.188122  30.367519  3142411.0   \n",
       "\n",
       "              6day MA   12day MA        RSI        %R5       %R10       MI6  \\\n",
       "Date                                                                          \n",
       "2010-03-24  52.619144  52.368794  55.096356 -70.967858 -59.459566  0.136551   \n",
       "2010-03-25  52.493969  52.328966  55.096356 -57.575865 -59.459566 -0.751053   \n",
       "2010-03-26  52.653283  52.425692  66.728957 -16.666641 -16.666641  0.955883   \n",
       "2010-03-29  52.664662  52.590696  69.066249 -10.526300 -10.526300  0.068275   \n",
       "2010-03-30  52.823976  52.698801  60.402809 -32.500024 -32.500024  0.955883   \n",
       "\n",
       "                MI12      EMA12      EMA26      MACD        TR       OSC6  \\\n",
       "Date                                                                        \n",
       "2010-03-24  0.751049  52.014982  50.953271  1.061711  0.955883   6.821374   \n",
       "2010-03-25 -0.477943  52.058910  51.053067  1.005843  1.365551   6.821374   \n",
       "2010-03-26  1.160717  52.264148  51.226392  1.037756  1.775211  35.279811   \n",
       "2010-03-29  1.980045  52.479827  51.407108  1.072719  0.546219  40.712074   \n",
       "2010-03-30  1.297268  52.588796  51.539035  1.049760  1.160717  19.626336   \n",
       "\n",
       "                OSC12  Prediction  \n",
       "Date                               \n",
       "2010-03-24  16.425878   52.300514  \n",
       "2010-03-25  16.425878   53.392956  \n",
       "2010-03-26  28.350674   53.666065  \n",
       "2010-03-29  31.034403   53.188122  \n",
       "2010-03-30  22.289705   51.890854  "
      ]
     },
     "execution_count": 4,
     "metadata": {},
     "output_type": "execute_result"
    }
   ],
   "source": [
    "# data=data[data.columns[list(backwardModel.k_feature_idx_)]]\n",
    "data['Prediction']=data['Close'].shift(-1)\n",
    "data.dropna(inplace=True)\n",
    "data_val=data[-100:]\n",
    "data=data[:-100]\n",
    "data_val.tail()"
   ]
  },
  {
   "cell_type": "code",
   "execution_count": 5,
   "id": "13b49c54",
   "metadata": {},
   "outputs": [
    {
     "name": "stderr",
     "output_type": "stream",
     "text": [
      "/var/folders/8h/w0jn89bj2w5g85gj4ck7w0t00000gn/T/ipykernel_25015/543750826.py:2: FutureWarning: In a future version of pandas all arguments of DataFrame.drop except for the argument 'labels' will be keyword-only.\n",
      "  X=sc.fit_transform(data.drop('Prediction',1))\n"
     ]
    }
   ],
   "source": [
    "sc = MinMaxScaler(feature_range = (-1, 1))\n",
    "X=sc.fit_transform(data.drop('Prediction',1))\n",
    "# X=data.drop('Prediction',1)\n",
    "Y = data[\"Prediction\"].values.reshape(-1,1)\n"
   ]
  },
  {
   "cell_type": "code",
   "execution_count": 6,
   "id": "b440227b",
   "metadata": {},
   "outputs": [
    {
     "name": "stderr",
     "output_type": "stream",
     "text": [
      "/opt/homebrew/Caskroom/miniforge/base/envs/fyp_new/lib/python3.8/site-packages/sklearn/utils/validation.py:993: DataConversionWarning: A column-vector y was passed when a 1d array was expected. Please change the shape of y to (n_samples, ), for example using ravel().\n",
      "  y = column_or_1d(y, warn=True)\n"
     ]
    },
    {
     "data": {
      "image/png": "[encoded data removed]",
      "text/plain": [
       "<Figure size 432x288 with 1 Axes>"
      ]
     },
     "metadata": {
      "needs_background": "light"
     },
     "output_type": "display_data"
    }
   ],
   "source": [
    "from sklearn.feature_selection import mutual_info_regression\n",
    "importance=mutual_info_regression(X,Y)\n",
    "feature_importances=pd.Series(importance,data.columns[0:len(data.columns)-1])\n",
    "feature_importances.plot(kind=\"barh\")\n",
    "plt.show()"
   ]
  },
  {
   "cell_type": "code",
   "execution_count": 7,
   "id": "cb6680b2",
   "metadata": {},
   "outputs": [
    {
     "name": "stdout",
     "output_type": "stream",
     "text": [
      "(2220, 1, 19) (2220, 1) (247, 1, 19) (247, 1)\n"
     ]
    }
   ],
   "source": [
    "# X=sc.fit_transform(data.drop(['Prediction','OSC12','OSC6','MI12','MI6','Volume','%R10','%R5','RSI'],1))\n",
    "# Y=np.array(data[\"Close\"])\n",
    "X_train, X_test, y_train, y_test = train_test_split(X, Y, test_size=0.1)\n",
    "X_train = X_train.reshape((X_train.shape[0], 1, X_train.shape[1]))\n",
    "X_test = X_test.reshape((X_test.shape[0], 1, X_test.shape[1]))\n",
    "print(X_train.shape,y_train.shape,X_test.shape,y_test.shape)"
   ]
  },
  {
   "cell_type": "code",
   "execution_count": 8,
   "id": "bb8c5487",
   "metadata": {},
   "outputs": [
    {
     "name": "stderr",
     "output_type": "stream",
     "text": [
      "2022-04-10 00:34:48.371762: I tensorflow/core/common_runtime/pluggable_device/pluggable_device_factory.cc:305] Could not identify NUMA node of platform GPU ID 0, defaulting to 0. Your kernel may not have been built with NUMA support.\n",
      "2022-04-10 00:34:48.371882: I tensorflow/core/common_runtime/pluggable_device/pluggable_device_factory.cc:271] Created TensorFlow device (/job:localhost/replica:0/task:0/device:GPU:0 with 0 MB memory) -> physical PluggableDevice (device: 0, name: METAL, pci bus id: <undefined>)\n"
     ]
    },
    {
     "name": "stdout",
     "output_type": "stream",
     "text": [
      "Metal device set to: Apple M1 Pro\n"
     ]
    }
   ],
   "source": [
    "model_tech = keras.Sequential()\n",
    "model_tech.add(keras.layers.LSTM(\n",
    "  units=128,\n",
    "  input_shape=(X_train.shape[1], X_train.shape[2]),\n",
    "    return_sequences=True,\n",
    "    kernel_regularizer=regularizers.l1(0.01)\n",
    "))\n",
    "model_tech.add(keras.layers.LSTM(units=64))\n",
    "model_tech.add(keras.layers.Dense(units=64))\n",
    "model_tech.add(keras.layers.Dense(units=1))\n",
    "model_tech.compile(\n",
    "  loss='mean_squared_error',\n",
    "  optimizer=keras.optimizers.Adam(0.001)\n",
    ")"
   ]
  },
  {
   "cell_type": "code",
   "execution_count": 9,
   "id": "428d66a4",
   "metadata": {
    "pycharm": {
     "is_executing": true
    },
    "scrolled": true
   },
   "outputs": [
    {
     "name": "stdout",
     "output_type": "stream",
     "text": [
      "Epoch 1/300\n"
     ]
    },
    {
     "name": "stderr",
     "output_type": "stream",
     "text": [
      "2022-04-10 00:34:48.994271: W tensorflow/core/platform/profile_utils/cpu_utils.cc:128] Failed to get CPU frequency: 0 Hz\n",
      "2022-04-10 00:34:50.170077: I tensorflow/core/grappler/optimizers/custom_graph_optimizer_registry.cc:113] Plugin optimizer for device_type GPU is enabled.\n",
      "2022-04-10 00:34:50.448577: I tensorflow/core/grappler/optimizers/custom_graph_optimizer_registry.cc:113] Plugin optimizer for device_type GPU is enabled.\n",
      "2022-04-10 00:34:50.776268: I tensorflow/core/grappler/optimizers/custom_graph_optimizer_registry.cc:113] Plugin optimizer for device_type GPU is enabled.\n",
      "2022-04-10 00:34:51.422963: I tensorflow/core/grappler/optimizers/custom_graph_optimizer_registry.cc:113] Plugin optimizer for device_type GPU is enabled.\n"
     ]
    },
    {
     "name": "stdout",
     "output_type": "stream",
     "text": [
      "\r",
      " 1/16 [>.............................] - ETA: 43s - loss: 1854.5532"
     ]
    },
    {
     "name": "stderr",
     "output_type": "stream",
     "text": [
      "2022-04-10 00:34:51.745078: I tensorflow/core/grappler/optimizers/custom_graph_optimizer_registry.cc:113] Plugin optimizer for device_type GPU is enabled.\n"
     ]
    },
    {
     "name": "stdout",
     "output_type": "stream",
     "text": [
      "16/16 [==============================] - 4s 58ms/step - loss: 1652.8927 - val_loss: 1527.7163\n",
      "Epoch 2/300\n",
      " 7/16 [============>.................] - ETA: 0s - loss: 1644.4260"
     ]
    },
    {
     "name": "stderr",
     "output_type": "stream",
     "text": [
      "2022-04-10 00:34:52.620528: I tensorflow/core/grappler/optimizers/custom_graph_optimizer_registry.cc:113] Plugin optimizer for device_type GPU is enabled.\n",
      "2022-04-10 00:34:52.691799: I tensorflow/core/grappler/optimizers/custom_graph_optimizer_registry.cc:113] Plugin optimizer for device_type GPU is enabled.\n",
      "2022-04-10 00:34:52.712311: I tensorflow/core/grappler/optimizers/custom_graph_optimizer_registry.cc:113] Plugin optimizer for device_type GPU is enabled.\n"
     ]
    },
    {
     "name": "stdout",
     "output_type": "stream",
     "text": [
      "16/16 [==============================] - 0s 10ms/step - loss: 1575.1501 - val_loss: 1367.0549\n",
      "Epoch 3/300\n",
      "16/16 [==============================] - 0s 10ms/step - loss: 1289.0385 - val_loss: 971.6694\n",
      "Epoch 4/300\n",
      "16/16 [==============================] - 0s 10ms/step - loss: 963.2647 - val_loss: 816.1562\n",
      "Epoch 5/300\n",
      "16/16 [==============================] - 0s 10ms/step - loss: 762.1816 - val_loss: 595.8187\n",
      "Epoch 6/300\n",
      "16/16 [==============================] - 0s 10ms/step - loss: 492.8478 - val_loss: 321.7297\n",
      "Epoch 7/300\n",
      "16/16 [==============================] - 0s 10ms/step - loss: 216.5227 - val_loss: 79.2359\n",
      "Epoch 8/300\n",
      "16/16 [==============================] - 0s 11ms/step - loss: 46.5756 - val_loss: 29.7804\n",
      "Epoch 9/300\n",
      "16/16 [==============================] - 0s 10ms/step - loss: 30.4291 - val_loss: 23.9390\n",
      "Epoch 10/300\n",
      "16/16 [==============================] - 0s 10ms/step - loss: 23.3479 - val_loss: 20.4437\n",
      "Epoch 11/300\n",
      "16/16 [==============================] - 0s 10ms/step - loss: 21.9841 - val_loss: 19.0804\n",
      "Epoch 12/300\n",
      "16/16 [==============================] - 0s 10ms/step - loss: 20.4530 - val_loss: 18.1455\n",
      "Epoch 13/300\n",
      "16/16 [==============================] - 0s 10ms/step - loss: 19.3025 - val_loss: 17.2258\n",
      "Epoch 14/300\n",
      "16/16 [==============================] - 0s 10ms/step - loss: 18.4206 - val_loss: 16.5041\n",
      "Epoch 15/300\n",
      "16/16 [==============================] - 0s 10ms/step - loss: 17.6294 - val_loss: 15.8806\n",
      "Epoch 16/300\n",
      "16/16 [==============================] - 0s 10ms/step - loss: 16.9006 - val_loss: 15.2803\n",
      "Epoch 17/300\n",
      "16/16 [==============================] - 0s 10ms/step - loss: 16.2327 - val_loss: 14.7185\n",
      "Epoch 18/300\n",
      "16/16 [==============================] - 0s 10ms/step - loss: 15.6059 - val_loss: 14.1849\n",
      "Epoch 19/300\n",
      "16/16 [==============================] - 0s 10ms/step - loss: 15.0106 - val_loss: 13.6700\n",
      "Epoch 20/300\n",
      "16/16 [==============================] - 0s 10ms/step - loss: 14.4449 - val_loss: 13.1755\n",
      "Epoch 21/300\n",
      "16/16 [==============================] - 0s 10ms/step - loss: 13.9059 - val_loss: 12.7008\n",
      "Epoch 22/300\n",
      "16/16 [==============================] - 0s 10ms/step - loss: 13.3920 - val_loss: 12.2451\n",
      "Epoch 23/300\n",
      "16/16 [==============================] - 0s 10ms/step - loss: 12.9016 - val_loss: 11.8088\n",
      "Epoch 24/300\n",
      "16/16 [==============================] - 0s 10ms/step - loss: 12.4337 - val_loss: 11.3913\n",
      "Epoch 25/300\n",
      "16/16 [==============================] - 0s 10ms/step - loss: 11.9873 - val_loss: 10.9937\n",
      "Epoch 26/300\n",
      "16/16 [==============================] - 0s 10ms/step - loss: 11.5616 - val_loss: 10.6140\n",
      "Epoch 27/300\n",
      "16/16 [==============================] - 0s 10ms/step - loss: 11.1559 - val_loss: 10.2524\n",
      "Epoch 28/300\n",
      "16/16 [==============================] - 0s 10ms/step - loss: 10.7696 - val_loss: 9.9095\n",
      "Epoch 29/300\n",
      "16/16 [==============================] - 0s 10ms/step - loss: 10.4019 - val_loss: 9.5839\n",
      "Epoch 30/300\n",
      "16/16 [==============================] - 0s 12ms/step - loss: 10.0522 - val_loss: 9.2755\n",
      "Epoch 31/300\n",
      "16/16 [==============================] - 0s 10ms/step - loss: 9.7197 - val_loss: 8.9843\n",
      "Epoch 32/300\n",
      "16/16 [==============================] - 0s 10ms/step - loss: 9.4037 - val_loss: 8.7091\n",
      "Epoch 33/300\n",
      "16/16 [==============================] - 0s 10ms/step - loss: 9.1040 - val_loss: 8.4500\n",
      "Epoch 34/300\n",
      "16/16 [==============================] - 0s 10ms/step - loss: 8.8203 - val_loss: 8.2063\n",
      "Epoch 35/300\n",
      "16/16 [==============================] - 0s 10ms/step - loss: 8.5520 - val_loss: 7.9781\n",
      "Epoch 36/300\n",
      "16/16 [==============================] - 0s 10ms/step - loss: 8.2988 - val_loss: 7.7651\n",
      "Epoch 37/300\n",
      "16/16 [==============================] - 0s 10ms/step - loss: 8.0601 - val_loss: 7.5663\n",
      "Epoch 38/300\n",
      "16/16 [==============================] - 0s 10ms/step - loss: 7.8351 - val_loss: 7.3815\n",
      "Epoch 39/300\n",
      "16/16 [==============================] - 0s 10ms/step - loss: 7.6236 - val_loss: 7.2103\n",
      "Epoch 40/300\n",
      "16/16 [==============================] - 0s 10ms/step - loss: 7.4252 - val_loss: 7.0515\n",
      "Epoch 41/300\n",
      "16/16 [==============================] - 0s 10ms/step - loss: 7.2391 - val_loss: 6.9049\n",
      "Epoch 42/300\n",
      "16/16 [==============================] - 0s 10ms/step - loss: 7.0648 - val_loss: 6.7693\n",
      "Epoch 43/300\n",
      "16/16 [==============================] - 0s 10ms/step - loss: 6.9017 - val_loss: 6.6443\n",
      "Epoch 44/300\n",
      "16/16 [==============================] - 0s 10ms/step - loss: 6.7489 - val_loss: 6.5291\n",
      "Epoch 45/300\n",
      "16/16 [==============================] - 0s 10ms/step - loss: 6.6061 - val_loss: 6.4225\n",
      "Epoch 46/300\n",
      "16/16 [==============================] - 0s 10ms/step - loss: 6.4723 - val_loss: 6.3232\n",
      "Epoch 47/300\n",
      "16/16 [==============================] - 0s 10ms/step - loss: 6.3471 - val_loss: 6.2305\n",
      "Epoch 48/300\n",
      "16/16 [==============================] - 0s 10ms/step - loss: 6.2296 - val_loss: 6.1432\n",
      "Epoch 49/300\n",
      "16/16 [==============================] - 0s 10ms/step - loss: 6.1189 - val_loss: 6.0601\n",
      "Epoch 50/300\n",
      "16/16 [==============================] - 0s 10ms/step - loss: 6.0144 - val_loss: 5.9802\n",
      "Epoch 51/300\n",
      "16/16 [==============================] - 0s 10ms/step - loss: 5.9154 - val_loss: 5.9022\n",
      "Epoch 52/300\n",
      "16/16 [==============================] - 0s 10ms/step - loss: 5.8214 - val_loss: 5.8265\n",
      "Epoch 53/300\n",
      "16/16 [==============================] - 0s 10ms/step - loss: 5.7320 - val_loss: 5.7520\n",
      "Epoch 54/300\n",
      "16/16 [==============================] - 0s 10ms/step - loss: 5.6464 - val_loss: 5.6780\n",
      "Epoch 55/300\n",
      "16/16 [==============================] - 0s 10ms/step - loss: 5.5642 - val_loss: 5.6044\n",
      "Epoch 56/300\n",
      "16/16 [==============================] - 0s 10ms/step - loss: 5.4852 - val_loss: 5.5319\n",
      "Epoch 57/300\n",
      "16/16 [==============================] - 0s 10ms/step - loss: 5.4092 - val_loss: 5.4606\n",
      "Epoch 58/300\n",
      "16/16 [==============================] - 0s 10ms/step - loss: 5.3356 - val_loss: 5.3907\n",
      "Epoch 59/300\n",
      "16/16 [==============================] - 0s 10ms/step - loss: 5.2646 - val_loss: 5.3226\n",
      "Epoch 60/300\n",
      "16/16 [==============================] - 0s 10ms/step - loss: 5.1958 - val_loss: 5.2568\n",
      "Epoch 61/300\n",
      "16/16 [==============================] - 0s 10ms/step - loss: 5.1289 - val_loss: 5.1925\n",
      "Epoch 62/300\n",
      "16/16 [==============================] - 0s 10ms/step - loss: 5.0639 - val_loss: 5.1302\n",
      "Epoch 63/300\n",
      "16/16 [==============================] - 0s 10ms/step - loss: 5.0008 - val_loss: 5.0700\n",
      "Epoch 64/300\n",
      "16/16 [==============================] - 0s 10ms/step - loss: 4.9394 - val_loss: 5.0109\n",
      "Epoch 65/300\n",
      "16/16 [==============================] - 0s 10ms/step - loss: 4.8796 - val_loss: 4.9537\n",
      "Epoch 66/300\n",
      "16/16 [==============================] - 0s 10ms/step - loss: 4.8213 - val_loss: 4.8976\n",
      "Epoch 67/300\n",
      "16/16 [==============================] - 0s 10ms/step - loss: 4.7650 - val_loss: 4.8438\n",
      "Epoch 68/300\n",
      "16/16 [==============================] - 0s 10ms/step - loss: 4.7098 - val_loss: 4.7904\n",
      "Epoch 69/300\n",
      "16/16 [==============================] - 0s 11ms/step - loss: 4.6564 - val_loss: 4.7389\n",
      "Epoch 70/300\n",
      "16/16 [==============================] - 0s 10ms/step - loss: 4.6041 - val_loss: 4.6878\n",
      "Epoch 71/300\n",
      "16/16 [==============================] - 0s 10ms/step - loss: 4.5531 - val_loss: 4.6377\n",
      "Epoch 72/300\n",
      "16/16 [==============================] - 0s 10ms/step - loss: 4.5034 - val_loss: 4.5894\n",
      "Epoch 73/300\n",
      "16/16 [==============================] - 0s 10ms/step - loss: 4.4547 - val_loss: 4.5415\n",
      "Epoch 74/300\n",
      "16/16 [==============================] - 0s 11ms/step - loss: 4.4072 - val_loss: 4.4943\n",
      "Epoch 75/300\n",
      "16/16 [==============================] - 0s 10ms/step - loss: 4.3607 - val_loss: 4.4483\n",
      "Epoch 76/300\n",
      "16/16 [==============================] - 0s 10ms/step - loss: 4.3153 - val_loss: 4.4029\n",
      "Epoch 77/300\n",
      "16/16 [==============================] - 0s 10ms/step - loss: 4.2707 - val_loss: 4.3586\n",
      "Epoch 78/300\n",
      "16/16 [==============================] - 0s 10ms/step - loss: 4.2272 - val_loss: 4.3160\n",
      "Epoch 79/300\n",
      "16/16 [==============================] - 0s 10ms/step - loss: 4.1846 - val_loss: 4.2733\n",
      "Epoch 80/300\n",
      "16/16 [==============================] - 0s 10ms/step - loss: 4.1430 - val_loss: 4.2323\n",
      "Epoch 81/300\n",
      "16/16 [==============================] - 0s 12ms/step - loss: 4.1024 - val_loss: 4.1925\n",
      "Epoch 82/300\n"
     ]
    },
    {
     "name": "stdout",
     "output_type": "stream",
     "text": [
      "16/16 [==============================] - 0s 10ms/step - loss: 4.0626 - val_loss: 4.1535\n",
      "Epoch 83/300\n",
      "16/16 [==============================] - 0s 10ms/step - loss: 4.0235 - val_loss: 4.1150\n",
      "Epoch 84/300\n",
      "16/16 [==============================] - 0s 10ms/step - loss: 3.9852 - val_loss: 4.0770\n",
      "Epoch 85/300\n",
      "16/16 [==============================] - 0s 10ms/step - loss: 3.9477 - val_loss: 4.0398\n",
      "Epoch 86/300\n",
      "16/16 [==============================] - 0s 10ms/step - loss: 3.9108 - val_loss: 4.0035\n",
      "Epoch 87/300\n",
      "16/16 [==============================] - 0s 10ms/step - loss: 3.8746 - val_loss: 3.9668\n",
      "Epoch 88/300\n",
      "16/16 [==============================] - 0s 10ms/step - loss: 3.8391 - val_loss: 3.9317\n",
      "Epoch 89/300\n",
      "16/16 [==============================] - 0s 10ms/step - loss: 3.8044 - val_loss: 3.8964\n",
      "Epoch 90/300\n",
      "16/16 [==============================] - 0s 10ms/step - loss: 3.7705 - val_loss: 3.8629\n",
      "Epoch 91/300\n",
      "16/16 [==============================] - 0s 12ms/step - loss: 3.7370 - val_loss: 3.8292\n",
      "Epoch 92/300\n",
      "16/16 [==============================] - 0s 10ms/step - loss: 3.7043 - val_loss: 3.7966\n",
      "Epoch 93/300\n",
      "16/16 [==============================] - 0s 10ms/step - loss: 3.6723 - val_loss: 3.7639\n",
      "Epoch 94/300\n",
      "16/16 [==============================] - 0s 10ms/step - loss: 3.6408 - val_loss: 3.7323\n",
      "Epoch 95/300\n",
      "16/16 [==============================] - 0s 10ms/step - loss: 3.6099 - val_loss: 3.7014\n",
      "Epoch 96/300\n",
      "16/16 [==============================] - 0s 10ms/step - loss: 3.5796 - val_loss: 3.6715\n",
      "Epoch 97/300\n",
      "16/16 [==============================] - 0s 10ms/step - loss: 3.5499 - val_loss: 3.6410\n",
      "Epoch 98/300\n",
      "16/16 [==============================] - 0s 10ms/step - loss: 3.5209 - val_loss: 3.6121\n",
      "Epoch 99/300\n",
      "16/16 [==============================] - 0s 10ms/step - loss: 3.4922 - val_loss: 3.5821\n",
      "Epoch 100/300\n",
      "16/16 [==============================] - 0s 10ms/step - loss: 3.4641 - val_loss: 3.5547\n",
      "Epoch 101/300\n",
      "16/16 [==============================] - 0s 10ms/step - loss: 3.4367 - val_loss: 3.5265\n",
      "Epoch 102/300\n",
      "16/16 [==============================] - 0s 10ms/step - loss: 3.4098 - val_loss: 3.4998\n",
      "Epoch 103/300\n",
      "16/16 [==============================] - 0s 10ms/step - loss: 3.3833 - val_loss: 3.4715\n",
      "Epoch 104/300\n",
      "16/16 [==============================] - 0s 10ms/step - loss: 3.3573 - val_loss: 3.4458\n",
      "Epoch 105/300\n",
      "16/16 [==============================] - 0s 10ms/step - loss: 3.3320 - val_loss: 3.4191\n",
      "Epoch 106/300\n",
      "16/16 [==============================] - 0s 10ms/step - loss: 3.3071 - val_loss: 3.3941\n",
      "Epoch 107/300\n",
      "16/16 [==============================] - 0s 10ms/step - loss: 3.2827 - val_loss: 3.3689\n",
      "Epoch 108/300\n",
      "16/16 [==============================] - 0s 10ms/step - loss: 3.2588 - val_loss: 3.3439\n",
      "Epoch 109/300\n",
      "16/16 [==============================] - 0s 10ms/step - loss: 3.2351 - val_loss: 3.3199\n",
      "Epoch 110/300\n",
      "16/16 [==============================] - 0s 10ms/step - loss: 3.2120 - val_loss: 3.2965\n",
      "Epoch 111/300\n",
      "16/16 [==============================] - 0s 10ms/step - loss: 3.1893 - val_loss: 3.2731\n",
      "Epoch 112/300\n",
      "16/16 [==============================] - 0s 10ms/step - loss: 3.1671 - val_loss: 3.2505\n",
      "Epoch 113/300\n",
      "16/16 [==============================] - 0s 10ms/step - loss: 3.1453 - val_loss: 3.2278\n",
      "Epoch 114/300\n",
      "16/16 [==============================] - 0s 10ms/step - loss: 3.1239 - val_loss: 3.2058\n",
      "Epoch 115/300\n",
      "16/16 [==============================] - 0s 10ms/step - loss: 3.1029 - val_loss: 3.1835\n",
      "Epoch 116/300\n",
      "16/16 [==============================] - 0s 10ms/step - loss: 3.0823 - val_loss: 3.1622\n",
      "Epoch 117/300\n",
      "16/16 [==============================] - 0s 10ms/step - loss: 3.0620 - val_loss: 3.1400\n",
      "Epoch 118/300\n",
      "16/16 [==============================] - 0s 10ms/step - loss: 3.0424 - val_loss: 3.1199\n",
      "Epoch 119/300\n",
      "16/16 [==============================] - 0s 12ms/step - loss: 3.0229 - val_loss: 3.0992\n",
      "Epoch 120/300\n",
      "16/16 [==============================] - 0s 12ms/step - loss: 3.0039 - val_loss: 3.0786\n",
      "Epoch 121/300\n",
      "16/16 [==============================] - 0s 12ms/step - loss: 2.9854 - val_loss: 3.0589\n",
      "Epoch 122/300\n",
      "16/16 [==============================] - 0s 10ms/step - loss: 2.9671 - val_loss: 3.0395\n",
      "Epoch 123/300\n",
      "16/16 [==============================] - 0s 10ms/step - loss: 2.9492 - val_loss: 3.0211\n",
      "Epoch 124/300\n",
      "16/16 [==============================] - 0s 10ms/step - loss: 2.9316 - val_loss: 3.0023\n",
      "Epoch 125/300\n",
      "16/16 [==============================] - 0s 10ms/step - loss: 2.9141 - val_loss: 2.9841\n",
      "Epoch 126/300\n",
      "16/16 [==============================] - 0s 10ms/step - loss: 2.8971 - val_loss: 2.9662\n",
      "Epoch 127/300\n",
      "16/16 [==============================] - 0s 13ms/step - loss: 2.8803 - val_loss: 2.9484\n",
      "Epoch 128/300\n",
      "16/16 [==============================] - 0s 12ms/step - loss: 2.8638 - val_loss: 2.9301\n",
      "Epoch 129/300\n",
      "16/16 [==============================] - 0s 12ms/step - loss: 2.8477 - val_loss: 2.9132\n",
      "Epoch 130/300\n",
      "16/16 [==============================] - 0s 12ms/step - loss: 2.8320 - val_loss: 2.8962\n",
      "Epoch 131/300\n",
      "16/16 [==============================] - 0s 10ms/step - loss: 2.8167 - val_loss: 2.8802\n",
      "Epoch 132/300\n",
      "16/16 [==============================] - 0s 10ms/step - loss: 2.8018 - val_loss: 2.8638\n",
      "Epoch 133/300\n",
      "16/16 [==============================] - 0s 10ms/step - loss: 2.7873 - val_loss: 2.8480\n",
      "Epoch 134/300\n",
      "16/16 [==============================] - 0s 12ms/step - loss: 2.7729 - val_loss: 2.8325\n",
      "Epoch 135/300\n",
      "16/16 [==============================] - 0s 11ms/step - loss: 2.7590 - val_loss: 2.8161\n",
      "Epoch 136/300\n",
      "16/16 [==============================] - 0s 11ms/step - loss: 2.7454 - val_loss: 2.8010\n",
      "Epoch 137/300\n",
      "16/16 [==============================] - 0s 10ms/step - loss: 2.7320 - val_loss: 2.7853\n",
      "Epoch 138/300\n",
      "16/16 [==============================] - 0s 11ms/step - loss: 2.7190 - val_loss: 2.7705\n",
      "Epoch 139/300\n",
      "16/16 [==============================] - 0s 12ms/step - loss: 2.7063 - val_loss: 2.7553\n",
      "Epoch 140/300\n",
      "16/16 [==============================] - 0s 12ms/step - loss: 2.6940 - val_loss: 2.7411\n",
      "Epoch 141/300\n",
      "16/16 [==============================] - 0s 10ms/step - loss: 2.6820 - val_loss: 2.7265\n",
      "Epoch 142/300\n",
      "16/16 [==============================] - 0s 10ms/step - loss: 2.6702 - val_loss: 2.7116\n",
      "Epoch 143/300\n",
      "16/16 [==============================] - 0s 11ms/step - loss: 2.6588 - val_loss: 2.6980\n",
      "Epoch 144/300\n",
      "16/16 [==============================] - 0s 12ms/step - loss: 2.6476 - val_loss: 2.6847\n",
      "Epoch 145/300\n",
      "16/16 [==============================] - 0s 12ms/step - loss: 2.6366 - val_loss: 2.6708\n",
      "Epoch 146/300\n",
      "16/16 [==============================] - 0s 11ms/step - loss: 2.6259 - val_loss: 2.6577\n",
      "Epoch 147/300\n",
      "16/16 [==============================] - 0s 12ms/step - loss: 2.6155 - val_loss: 2.6444\n",
      "Epoch 148/300\n",
      "16/16 [==============================] - 0s 12ms/step - loss: 2.6053 - val_loss: 2.6312\n",
      "Epoch 149/300\n",
      "16/16 [==============================] - 0s 11ms/step - loss: 2.5955 - val_loss: 2.6195\n",
      "Epoch 150/300\n",
      "16/16 [==============================] - 0s 11ms/step - loss: 2.5857 - val_loss: 2.6066\n",
      "Epoch 151/300\n",
      "16/16 [==============================] - 0s 11ms/step - loss: 2.5762 - val_loss: 2.5945\n",
      "Epoch 152/300\n",
      "16/16 [==============================] - 0s 12ms/step - loss: 2.5669 - val_loss: 2.5824\n",
      "Epoch 153/300\n",
      "16/16 [==============================] - 0s 12ms/step - loss: 2.5580 - val_loss: 2.5716\n",
      "Epoch 154/300\n",
      "16/16 [==============================] - 0s 10ms/step - loss: 2.5491 - val_loss: 2.5602\n",
      "Epoch 155/300\n",
      "16/16 [==============================] - 0s 10ms/step - loss: 2.5404 - val_loss: 2.5496\n",
      "Epoch 156/300\n",
      "16/16 [==============================] - 0s 10ms/step - loss: 2.5319 - val_loss: 2.5385\n",
      "Epoch 157/300\n",
      "16/16 [==============================] - 0s 11ms/step - loss: 2.5235 - val_loss: 2.5284\n",
      "Epoch 158/300\n",
      "16/16 [==============================] - 0s 10ms/step - loss: 2.5153 - val_loss: 2.5187\n",
      "Epoch 159/300\n",
      "16/16 [==============================] - 0s 10ms/step - loss: 2.5073 - val_loss: 2.5087\n",
      "Epoch 160/300\n",
      "16/16 [==============================] - 0s 11ms/step - loss: 2.4996 - val_loss: 2.4995\n",
      "Epoch 161/300\n",
      "16/16 [==============================] - 0s 10ms/step - loss: 2.4918 - val_loss: 2.4905\n",
      "Epoch 162/300\n"
     ]
    },
    {
     "name": "stdout",
     "output_type": "stream",
     "text": [
      "16/16 [==============================] - 0s 10ms/step - loss: 2.4844 - val_loss: 2.4818\n",
      "Epoch 163/300\n",
      "16/16 [==============================] - 0s 10ms/step - loss: 2.4770 - val_loss: 2.4736\n",
      "Epoch 164/300\n",
      "16/16 [==============================] - 0s 10ms/step - loss: 2.4698 - val_loss: 2.4652\n",
      "Epoch 165/300\n",
      "16/16 [==============================] - 0s 10ms/step - loss: 2.4628 - val_loss: 2.4579\n",
      "Epoch 166/300\n",
      "16/16 [==============================] - 0s 10ms/step - loss: 2.4561 - val_loss: 2.4500\n",
      "Epoch 167/300\n",
      "16/16 [==============================] - 0s 10ms/step - loss: 2.4493 - val_loss: 2.4427\n",
      "Epoch 168/300\n",
      "16/16 [==============================] - 0s 10ms/step - loss: 2.4427 - val_loss: 2.4354\n",
      "Epoch 169/300\n",
      "16/16 [==============================] - 0s 10ms/step - loss: 2.4364 - val_loss: 2.4290\n",
      "Epoch 170/300\n",
      "16/16 [==============================] - 0s 10ms/step - loss: 2.4300 - val_loss: 2.4222\n",
      "Epoch 171/300\n",
      "16/16 [==============================] - 0s 13ms/step - loss: 2.4237 - val_loss: 2.4157\n",
      "Epoch 172/300\n",
      "16/16 [==============================] - 0s 10ms/step - loss: 2.4174 - val_loss: 2.4089\n",
      "Epoch 173/300\n",
      "16/16 [==============================] - 0s 10ms/step - loss: 2.4113 - val_loss: 2.4029\n",
      "Epoch 174/300\n",
      "16/16 [==============================] - 0s 10ms/step - loss: 2.4054 - val_loss: 2.3965\n",
      "Epoch 175/300\n",
      "16/16 [==============================] - 0s 10ms/step - loss: 2.3992 - val_loss: 2.3902\n",
      "Epoch 176/300\n",
      "16/16 [==============================] - 0s 10ms/step - loss: 2.3935 - val_loss: 2.3844\n",
      "Epoch 177/300\n",
      "16/16 [==============================] - 0s 10ms/step - loss: 2.3878 - val_loss: 2.3789\n",
      "Epoch 178/300\n",
      "16/16 [==============================] - 0s 10ms/step - loss: 2.3821 - val_loss: 2.3730\n",
      "Epoch 179/300\n",
      "16/16 [==============================] - 0s 10ms/step - loss: 2.3766 - val_loss: 2.3682\n",
      "Epoch 180/300\n",
      "16/16 [==============================] - 0s 10ms/step - loss: 2.3712 - val_loss: 2.3627\n",
      "Epoch 181/300\n",
      "16/16 [==============================] - 0s 11ms/step - loss: 2.3657 - val_loss: 2.3577\n",
      "Epoch 182/300\n",
      "16/16 [==============================] - 0s 10ms/step - loss: 2.3604 - val_loss: 2.3523\n",
      "Epoch 183/300\n",
      "16/16 [==============================] - 0s 11ms/step - loss: 2.3552 - val_loss: 2.3474\n",
      "Epoch 184/300\n",
      "16/16 [==============================] - 0s 10ms/step - loss: 2.3502 - val_loss: 2.3427\n",
      "Epoch 185/300\n",
      "16/16 [==============================] - 0s 10ms/step - loss: 2.3452 - val_loss: 2.3384\n",
      "Epoch 186/300\n",
      "16/16 [==============================] - 0s 10ms/step - loss: 2.3402 - val_loss: 2.3330\n",
      "Epoch 187/300\n",
      "16/16 [==============================] - 0s 10ms/step - loss: 2.3355 - val_loss: 2.3286\n",
      "Epoch 188/300\n",
      "16/16 [==============================] - 0s 10ms/step - loss: 2.3307 - val_loss: 2.3245\n",
      "Epoch 189/300\n",
      "16/16 [==============================] - 0s 10ms/step - loss: 2.3260 - val_loss: 2.3206\n",
      "Epoch 190/300\n",
      "16/16 [==============================] - 0s 10ms/step - loss: 2.3216 - val_loss: 2.3160\n",
      "Epoch 191/300\n",
      "16/16 [==============================] - 0s 10ms/step - loss: 2.3173 - val_loss: 2.3120\n",
      "Epoch 192/300\n",
      "16/16 [==============================] - 0s 10ms/step - loss: 2.3131 - val_loss: 2.3076\n",
      "Epoch 193/300\n",
      "16/16 [==============================] - 0s 10ms/step - loss: 2.3088 - val_loss: 2.3035\n",
      "Epoch 194/300\n",
      "16/16 [==============================] - 0s 10ms/step - loss: 2.3047 - val_loss: 2.3006\n",
      "Epoch 195/300\n",
      "16/16 [==============================] - 0s 10ms/step - loss: 2.3006 - val_loss: 2.2964\n",
      "Epoch 196/300\n",
      "16/16 [==============================] - 0s 10ms/step - loss: 2.2967 - val_loss: 2.2925\n",
      "Epoch 197/300\n",
      "16/16 [==============================] - 0s 10ms/step - loss: 2.2928 - val_loss: 2.2892\n",
      "Epoch 198/300\n",
      "16/16 [==============================] - 0s 10ms/step - loss: 2.2888 - val_loss: 2.2845\n",
      "Epoch 199/300\n",
      "16/16 [==============================] - 0s 10ms/step - loss: 2.2851 - val_loss: 2.2814\n",
      "Epoch 200/300\n",
      "16/16 [==============================] - 0s 10ms/step - loss: 2.2813 - val_loss: 2.2781\n",
      "Epoch 201/300\n",
      "16/16 [==============================] - 0s 10ms/step - loss: 2.2775 - val_loss: 2.2741\n",
      "Epoch 202/300\n",
      "16/16 [==============================] - 0s 10ms/step - loss: 2.2738 - val_loss: 2.2710\n",
      "Epoch 203/300\n",
      "16/16 [==============================] - 0s 10ms/step - loss: 2.2703 - val_loss: 2.2683\n",
      "Epoch 204/300\n",
      "16/16 [==============================] - 0s 11ms/step - loss: 2.2667 - val_loss: 2.2641\n",
      "Epoch 205/300\n",
      "16/16 [==============================] - 0s 10ms/step - loss: 2.2632 - val_loss: 2.2618\n",
      "Epoch 206/300\n",
      "16/16 [==============================] - 0s 10ms/step - loss: 2.2597 - val_loss: 2.2581\n",
      "Epoch 207/300\n",
      "16/16 [==============================] - 0s 10ms/step - loss: 2.2563 - val_loss: 2.2551\n",
      "Epoch 208/300\n",
      "16/16 [==============================] - 0s 10ms/step - loss: 2.2531 - val_loss: 2.2521\n",
      "Epoch 209/300\n",
      "16/16 [==============================] - 0s 10ms/step - loss: 2.2499 - val_loss: 2.2493\n",
      "Epoch 210/300\n",
      "16/16 [==============================] - 0s 10ms/step - loss: 2.2466 - val_loss: 2.2463\n",
      "Epoch 211/300\n",
      "16/16 [==============================] - 0s 10ms/step - loss: 2.2437 - val_loss: 2.2433\n",
      "Epoch 212/300\n",
      "16/16 [==============================] - 0s 10ms/step - loss: 2.2404 - val_loss: 2.2404\n",
      "Epoch 213/300\n",
      "16/16 [==============================] - 0s 10ms/step - loss: 2.2373 - val_loss: 2.2373\n",
      "Epoch 214/300\n",
      "16/16 [==============================] - 0s 11ms/step - loss: 2.2344 - val_loss: 2.2346\n",
      "Epoch 215/300\n",
      "16/16 [==============================] - 0s 10ms/step - loss: 2.2317 - val_loss: 2.2325\n",
      "Epoch 216/300\n",
      "16/16 [==============================] - 0s 10ms/step - loss: 2.2286 - val_loss: 2.2291\n",
      "Epoch 217/300\n",
      "16/16 [==============================] - 0s 10ms/step - loss: 2.2257 - val_loss: 2.2270\n",
      "Epoch 218/300\n",
      "16/16 [==============================] - 0s 12ms/step - loss: 2.2226 - val_loss: 2.2238\n",
      "Epoch 219/300\n",
      "16/16 [==============================] - 0s 10ms/step - loss: 2.2201 - val_loss: 2.2214\n",
      "Epoch 220/300\n",
      "16/16 [==============================] - 0s 10ms/step - loss: 2.2171 - val_loss: 2.2185\n",
      "Epoch 221/300\n",
      "16/16 [==============================] - 0s 10ms/step - loss: 2.2143 - val_loss: 2.2159\n",
      "Epoch 222/300\n",
      "16/16 [==============================] - 0s 10ms/step - loss: 2.2114 - val_loss: 2.2131\n",
      "Epoch 223/300\n",
      "16/16 [==============================] - 0s 10ms/step - loss: 2.2088 - val_loss: 2.2107\n",
      "Epoch 224/300\n",
      "16/16 [==============================] - 0s 10ms/step - loss: 2.2060 - val_loss: 2.2083\n",
      "Epoch 225/300\n",
      "16/16 [==============================] - 0s 10ms/step - loss: 2.2035 - val_loss: 2.2052\n",
      "Epoch 226/300\n",
      "16/16 [==============================] - 0s 10ms/step - loss: 2.2009 - val_loss: 2.2038\n",
      "Epoch 227/300\n",
      "16/16 [==============================] - 0s 10ms/step - loss: 2.1979 - val_loss: 2.2003\n",
      "Epoch 228/300\n",
      "16/16 [==============================] - 0s 10ms/step - loss: 2.1952 - val_loss: 2.1985\n",
      "Epoch 229/300\n",
      "16/16 [==============================] - 0s 10ms/step - loss: 2.1927 - val_loss: 2.1961\n",
      "Epoch 230/300\n",
      "16/16 [==============================] - 0s 10ms/step - loss: 2.1901 - val_loss: 2.1933\n",
      "Epoch 231/300\n",
      "16/16 [==============================] - 0s 10ms/step - loss: 2.1875 - val_loss: 2.1914\n",
      "Epoch 232/300\n",
      "16/16 [==============================] - 0s 10ms/step - loss: 2.1849 - val_loss: 2.1890\n",
      "Epoch 233/300\n",
      "16/16 [==============================] - 0s 10ms/step - loss: 2.1826 - val_loss: 2.1867\n",
      "Epoch 234/300\n",
      "16/16 [==============================] - 0s 10ms/step - loss: 2.1801 - val_loss: 2.1845\n",
      "Epoch 235/300\n",
      "16/16 [==============================] - 0s 10ms/step - loss: 2.1775 - val_loss: 2.1817\n",
      "Epoch 236/300\n",
      "16/16 [==============================] - 0s 10ms/step - loss: 2.1750 - val_loss: 2.1801\n",
      "Epoch 237/300\n",
      "16/16 [==============================] - 0s 10ms/step - loss: 2.1727 - val_loss: 2.1775\n",
      "Epoch 238/300\n",
      "16/16 [==============================] - 0s 10ms/step - loss: 2.1704 - val_loss: 2.1748\n",
      "Epoch 239/300\n",
      "16/16 [==============================] - 0s 10ms/step - loss: 2.1680 - val_loss: 2.1727\n",
      "Epoch 240/300\n",
      "16/16 [==============================] - 0s 10ms/step - loss: 2.1656 - val_loss: 2.1708\n",
      "Epoch 241/300\n",
      "16/16 [==============================] - 0s 10ms/step - loss: 2.1633 - val_loss: 2.1682\n",
      "Epoch 242/300\n"
     ]
    },
    {
     "name": "stdout",
     "output_type": "stream",
     "text": [
      "16/16 [==============================] - 0s 10ms/step - loss: 2.1609 - val_loss: 2.1662\n",
      "Epoch 243/300\n",
      "16/16 [==============================] - 0s 10ms/step - loss: 2.1586 - val_loss: 2.1642\n",
      "Epoch 244/300\n",
      "16/16 [==============================] - 0s 10ms/step - loss: 2.1563 - val_loss: 2.1615\n",
      "Epoch 245/300\n",
      "16/16 [==============================] - 0s 10ms/step - loss: 2.1540 - val_loss: 2.1597\n",
      "Epoch 246/300\n",
      "16/16 [==============================] - 0s 10ms/step - loss: 2.1519 - val_loss: 2.1577\n",
      "Epoch 247/300\n",
      "16/16 [==============================] - 0s 10ms/step - loss: 2.1495 - val_loss: 2.1550\n",
      "Epoch 248/300\n",
      "16/16 [==============================] - 0s 10ms/step - loss: 2.1473 - val_loss: 2.1527\n",
      "Epoch 249/300\n",
      "16/16 [==============================] - 0s 10ms/step - loss: 2.1452 - val_loss: 2.1507\n",
      "Epoch 250/300\n",
      "16/16 [==============================] - 0s 10ms/step - loss: 2.1430 - val_loss: 2.1483\n",
      "Epoch 251/300\n",
      "16/16 [==============================] - 0s 10ms/step - loss: 2.1409 - val_loss: 2.1459\n",
      "Epoch 252/300\n",
      "16/16 [==============================] - 0s 10ms/step - loss: 2.1386 - val_loss: 2.1446\n",
      "Epoch 253/300\n",
      "16/16 [==============================] - 0s 10ms/step - loss: 2.1366 - val_loss: 2.1418\n",
      "Epoch 254/300\n",
      "16/16 [==============================] - 0s 10ms/step - loss: 2.1343 - val_loss: 2.1399\n",
      "Epoch 255/300\n",
      "16/16 [==============================] - 0s 10ms/step - loss: 2.1322 - val_loss: 2.1380\n",
      "Epoch 256/300\n",
      "16/16 [==============================] - 0s 10ms/step - loss: 2.1301 - val_loss: 2.1360\n",
      "Epoch 257/300\n",
      "16/16 [==============================] - 0s 10ms/step - loss: 2.1278 - val_loss: 2.1339\n",
      "Epoch 258/300\n",
      "16/16 [==============================] - 0s 10ms/step - loss: 2.1257 - val_loss: 2.1317\n",
      "Epoch 259/300\n",
      "16/16 [==============================] - 0s 10ms/step - loss: 2.1238 - val_loss: 2.1304\n",
      "Epoch 260/300\n",
      "16/16 [==============================] - 0s 10ms/step - loss: 2.1216 - val_loss: 2.1277\n",
      "Epoch 261/300\n",
      "16/16 [==============================] - 0s 10ms/step - loss: 2.1196 - val_loss: 2.1269\n",
      "Epoch 262/300\n",
      "16/16 [==============================] - 0s 10ms/step - loss: 2.1175 - val_loss: 2.1245\n",
      "Epoch 263/300\n",
      "16/16 [==============================] - 0s 10ms/step - loss: 2.1156 - val_loss: 2.1226\n",
      "Epoch 264/300\n",
      "16/16 [==============================] - 0s 10ms/step - loss: 2.1136 - val_loss: 2.1214\n",
      "Epoch 265/300\n",
      "16/16 [==============================] - 0s 12ms/step - loss: 2.1117 - val_loss: 2.1193\n",
      "Epoch 266/300\n",
      "16/16 [==============================] - 0s 10ms/step - loss: 2.1097 - val_loss: 2.1174\n",
      "Epoch 267/300\n",
      "16/16 [==============================] - 0s 10ms/step - loss: 2.1078 - val_loss: 2.1156\n",
      "Epoch 268/300\n",
      "16/16 [==============================] - 0s 10ms/step - loss: 2.1060 - val_loss: 2.1141\n",
      "Epoch 269/300\n",
      "16/16 [==============================] - 0s 10ms/step - loss: 2.1040 - val_loss: 2.1127\n",
      "Epoch 270/300\n",
      "16/16 [==============================] - 0s 10ms/step - loss: 2.1020 - val_loss: 2.1108\n",
      "Epoch 271/300\n",
      "16/16 [==============================] - 0s 10ms/step - loss: 2.1000 - val_loss: 2.1089\n",
      "Epoch 272/300\n",
      "16/16 [==============================] - 0s 11ms/step - loss: 2.0982 - val_loss: 2.1075\n",
      "Epoch 273/300\n",
      "16/16 [==============================] - 0s 10ms/step - loss: 2.0964 - val_loss: 2.1061\n",
      "Epoch 274/300\n",
      "16/16 [==============================] - 0s 10ms/step - loss: 2.0947 - val_loss: 2.1037\n",
      "Epoch 275/300\n",
      "16/16 [==============================] - 0s 10ms/step - loss: 2.0928 - val_loss: 2.1026\n",
      "Epoch 276/300\n",
      "16/16 [==============================] - 0s 10ms/step - loss: 2.0908 - val_loss: 2.1008\n",
      "Epoch 277/300\n",
      "16/16 [==============================] - 0s 10ms/step - loss: 2.0889 - val_loss: 2.0988\n",
      "Epoch 278/300\n",
      "16/16 [==============================] - 0s 10ms/step - loss: 2.0869 - val_loss: 2.0968\n",
      "Epoch 279/300\n",
      "16/16 [==============================] - 0s 11ms/step - loss: 2.0852 - val_loss: 2.0953\n",
      "Epoch 280/300\n",
      "16/16 [==============================] - 0s 10ms/step - loss: 2.0834 - val_loss: 2.0942\n",
      "Epoch 281/300\n",
      "16/16 [==============================] - 0s 10ms/step - loss: 2.0817 - val_loss: 2.0924\n",
      "Epoch 282/300\n",
      "16/16 [==============================] - 0s 10ms/step - loss: 2.0799 - val_loss: 2.0908\n",
      "Epoch 283/300\n",
      "16/16 [==============================] - 0s 10ms/step - loss: 2.0782 - val_loss: 2.0890\n",
      "Epoch 284/300\n",
      "16/16 [==============================] - 0s 10ms/step - loss: 2.0765 - val_loss: 2.0877\n",
      "Epoch 285/300\n",
      "16/16 [==============================] - 0s 10ms/step - loss: 2.0747 - val_loss: 2.0858\n",
      "Epoch 286/300\n",
      "16/16 [==============================] - 0s 10ms/step - loss: 2.0732 - val_loss: 2.0847\n",
      "Epoch 287/300\n",
      "16/16 [==============================] - 0s 10ms/step - loss: 2.0715 - val_loss: 2.0831\n",
      "Epoch 288/300\n",
      "16/16 [==============================] - 0s 10ms/step - loss: 2.0698 - val_loss: 2.0816\n",
      "Epoch 289/300\n",
      "16/16 [==============================] - 0s 10ms/step - loss: 2.0683 - val_loss: 2.0803\n",
      "Epoch 290/300\n",
      "16/16 [==============================] - 0s 10ms/step - loss: 2.0667 - val_loss: 2.0787\n",
      "Epoch 291/300\n",
      "16/16 [==============================] - 0s 10ms/step - loss: 2.0653 - val_loss: 2.0767\n",
      "Epoch 292/300\n",
      "16/16 [==============================] - 0s 10ms/step - loss: 2.0636 - val_loss: 2.0749\n",
      "Epoch 293/300\n",
      "16/16 [==============================] - 0s 10ms/step - loss: 2.0621 - val_loss: 2.0735\n",
      "Epoch 294/300\n",
      "16/16 [==============================] - 0s 10ms/step - loss: 2.0604 - val_loss: 2.0720\n",
      "Epoch 295/300\n",
      "16/16 [==============================] - 0s 10ms/step - loss: 2.0591 - val_loss: 2.0705\n",
      "Epoch 296/300\n",
      "16/16 [==============================] - 0s 10ms/step - loss: 2.0575 - val_loss: 2.0688\n",
      "Epoch 297/300\n",
      "16/16 [==============================] - 0s 10ms/step - loss: 2.0561 - val_loss: 2.0673\n",
      "Epoch 298/300\n",
      "16/16 [==============================] - 0s 10ms/step - loss: 2.0545 - val_loss: 2.0655\n",
      "Epoch 299/300\n",
      "16/16 [==============================] - 0s 10ms/step - loss: 2.0531 - val_loss: 2.0641\n",
      "Epoch 300/300\n",
      "16/16 [==============================] - 0s 10ms/step - loss: 2.0514 - val_loss: 2.0626\n"
     ]
    },
    {
     "name": "stderr",
     "output_type": "stream",
     "text": [
      "2022-04-10 00:35:42.083684: I tensorflow/core/grappler/optimizers/custom_graph_optimizer_registry.cc:113] Plugin optimizer for device_type GPU is enabled.\n",
      "2022-04-10 00:35:42.145675: I tensorflow/core/grappler/optimizers/custom_graph_optimizer_registry.cc:113] Plugin optimizer for device_type GPU is enabled.\n",
      "2022-04-10 00:35:42.222808: I tensorflow/core/grappler/optimizers/custom_graph_optimizer_registry.cc:113] Plugin optimizer for device_type GPU is enabled.\n"
     ]
    }
   ],
   "source": [
    "es = EarlyStopping(monitor='val_loss', mode='min', verbose=1,patience=40, min_delta=0.0001)\n",
    "history_tech=model_tech.fit(\n",
    "    X_train, y_train,\n",
    "    epochs=300,\n",
    "    batch_size=128,\n",
    "    validation_split=0.1,\n",
    "    verbose=1,\n",
    "    shuffle=False,\n",
    "    # callbacks=[es]\n",
    ")\n",
    "y_pred = model_tech.predict(X_test)"
   ]
  },
  {
   "cell_type": "code",
   "execution_count": 10,
   "id": "55aa57ad",
   "metadata": {},
   "outputs": [
    {
     "data": {
      "text/plain": [
       "<matplotlib.legend.Legend at 0x2bc269fd0>"
      ]
     },
     "execution_count": 10,
     "metadata": {},
     "output_type": "execute_result"
    },
    {
     "data": {
      "image/png": "[encoded data removed]",
      "text/plain": [
       "<Figure size 432x288 with 1 Axes>"
      ]
     },
     "metadata": {
      "needs_background": "light"
     },
     "output_type": "display_data"
    }
   ],
   "source": [
    "plt.plot(history_tech.history['loss'], label='train')\n",
    "plt.plot(history_tech.history['val_loss'], label='test')\n",
    "plt.legend()"
   ]
  },
  {
   "cell_type": "code",
   "execution_count": 11,
   "id": "477f1fb7",
   "metadata": {},
   "outputs": [
    {
     "data": {
      "image/png": "[encoded data removed]",
      "text/plain": [
       "<Figure size 432x288 with 1 Axes>"
      ]
     },
     "metadata": {
      "needs_background": "light"
     },
     "output_type": "display_data"
    }
   ],
   "source": [
    "plt.plot(np.arange(0, len(y_train)), y_train, 'g', label=\"history\")\n",
    "plt.plot(np.arange(len(y_train), len(y_train) + len(y_test)), y_test, marker='.', label=\"true\")\n",
    "plt.plot(np.arange(len(y_train), len(y_train) + len(y_test)), y_pred, 'r', label=\"prediction\")\n",
    "plt.ylabel('Value')\n",
    "plt.xlabel('Time Step')\n",
    "plt.legend()\n",
    "plt.show()"
   ]
  },
  {
   "cell_type": "code",
   "execution_count": 12,
   "id": "134553b2",
   "metadata": {
    "scrolled": true
   },
   "outputs": [
    {
     "data": {
      "image/png": "[encoded data removed]",
      "text/plain": [
       "<Figure size 432x288 with 1 Axes>"
      ]
     },
     "metadata": {
      "needs_background": "light"
     },
     "output_type": "display_data"
    }
   ],
   "source": [
    "# y_test = sc.inverse_transform(y_test)\n",
    "# y_pred = sc.inverse_transform(y_pred)\n",
    "plt.plot(y_test, marker='.', label=\"true\")\n",
    "plt.plot(y_pred, 'r', label=\"prediction\")\n",
    "plt.ylabel('Value')\n",
    "plt.xlabel('Time Step')\n",
    "plt.legend()\n",
    "plt.show();"
   ]
  },
  {
   "cell_type": "code",
   "execution_count": 13,
   "id": "0ef7fe0c",
   "metadata": {},
   "outputs": [
    {
     "data": {
      "text/plain": [
       "0.9952511402467075"
      ]
     },
     "execution_count": 13,
     "metadata": {},
     "output_type": "execute_result"
    }
   ],
   "source": [
    "r2_score(y_test,y_pred)"
   ]
  },
  {
   "cell_type": "code",
   "execution_count": 14,
   "id": "7cf212a7",
   "metadata": {},
   "outputs": [
    {
     "data": {
      "text/plain": [
       "0.027507707093876878"
      ]
     },
     "execution_count": 14,
     "metadata": {},
     "output_type": "execute_result"
    }
   ],
   "source": [
    "mean_absolute_percentage_error(y_test,y_pred)"
   ]
  },
  {
   "cell_type": "code",
   "execution_count": 15,
   "id": "a0cd9d21",
   "metadata": {},
   "outputs": [
    {
     "data": {
      "text/plain": [
       "1.328682164838628"
      ]
     },
     "execution_count": 15,
     "metadata": {},
     "output_type": "execute_result"
    }
   ],
   "source": [
    "mean_squared_error(y_test,y_pred,squared=False)"
   ]
  },
  {
   "cell_type": "code",
   "execution_count": 16,
   "id": "325a7cdd",
   "metadata": {},
   "outputs": [
    {
     "name": "stderr",
     "output_type": "stream",
     "text": [
      "/var/folders/8h/w0jn89bj2w5g85gj4ck7w0t00000gn/T/ipykernel_25015/2648236666.py:1: FutureWarning: In a future version of pandas all arguments of DataFrame.drop except for the argument 'labels' will be keyword-only.\n",
      "  x_val=data_val.drop(['Prediction'],1)\n"
     ]
    }
   ],
   "source": [
    "x_val=data_val.drop(['Prediction'],1)\n",
    "y_val=data_val['Prediction']\n",
    "x_val=sc.transform(x_val).reshape(x_val.shape[0],1,x_val.shape[1])\n",
    "y_val_pred=model_tech.predict(x_val)"
   ]
  },
  {
   "cell_type": "code",
   "execution_count": 17,
   "id": "529aefb2",
   "metadata": {},
   "outputs": [
    {
     "data": {
      "image/png": "[encoded data removed]",
      "text/plain": [
       "<Figure size 432x288 with 1 Axes>"
      ]
     },
     "metadata": {
      "needs_background": "light"
     },
     "output_type": "display_data"
    }
   ],
   "source": [
    "plt.plot(y_val.values, marker='.', label=\"true\")\n",
    "plt.plot(y_val_pred, 'r', marker='*',label=\"prediction\")\n",
    "plt.ylabel('Value')\n",
    "plt.xlabel('Time Step')\n",
    "plt.title('LSTM-0017-InfoGain-L1-batch32')\n",
    "plt.legend()\n",
    "plt.show()"
   ]
  },
  {
   "cell_type": "code",
   "execution_count": 18,
   "id": "3b9ce3a3",
   "metadata": {},
   "outputs": [
    {
     "data": {
      "text/plain": [
       "0.9312448024318042"
      ]
     },
     "execution_count": 18,
     "metadata": {},
     "output_type": "execute_result"
    }
   ],
   "source": [
    "r2_score(y_val,y_val_pred)"
   ]
  },
  {
   "cell_type": "code",
   "execution_count": 19,
   "id": "67bc6f38",
   "metadata": {},
   "outputs": [
    {
     "data": {
      "text/plain": [
       "0.01555367788752521"
      ]
     },
     "execution_count": 19,
     "metadata": {},
     "output_type": "execute_result"
    }
   ],
   "source": [
    "mean_absolute_percentage_error(y_val,y_val_pred)"
   ]
  },
  {
   "cell_type": "code",
   "execution_count": 20,
   "id": "7a79ea1f",
   "metadata": {},
   "outputs": [
    {
     "data": {
      "text/plain": [
       "1.0115721394040218"
      ]
     },
     "execution_count": 20,
     "metadata": {},
     "output_type": "execute_result"
    }
   ],
   "source": [
    "mean_squared_error(y_val.values,y_val_pred,squared=False)"
   ]
  },
  {
   "cell_type": "code",
   "execution_count": null,
   "id": "d8ab65e9",
   "metadata": {},
   "outputs": [],
   "source": []
  }
 ],
 "metadata": {
  "kernelspec": {
   "display_name": "Python 3 (ipykernel)",
   "language": "python",
   "name": "python3"
  },
  "language_info": {
   "codemirror_mode": {
    "name": "ipython",
    "version": 3
   },
   "file_extension": ".py",
   "mimetype": "text/x-python",
   "name": "python",
   "nbconvert_exporter": "python",
   "pygments_lexer": "ipython3",
   "version": "3.8.13"
  }
 },
 "nbformat": 4,
 "nbformat_minor": 5
}
