{
 "cells": [
  {
   "cell_type": "code",
   "execution_count": 1,
   "id": "eb9ae2e7",
   "metadata": {},
   "outputs": [],
   "source": [
    "import yfinance as yf\n",
    "import pandas as pd\n",
    "import numpy as np\n",
    "import matplotlib.pyplot as plt\n",
    "from sklearn.preprocessing import MinMaxScaler\n",
    "from sklearn.model_selection import train_test_split\n",
    "from sklearn.metrics import classification_report,accuracy_score, mean_squared_error,mean_absolute_percentage_error,r2_score\n",
    "import tensorflow as tf\n",
    "import talib\n",
    "from tensorflow import keras\n",
    "from sklearn.pipeline import make_pipeline\n",
    "from tensorflow.keras import regularizers\n",
    "from keras.callbacks import EarlyStopping"
   ]
  },
  {
   "cell_type": "code",
   "execution_count": 2,
   "id": "9ad5f74c",
   "metadata": {},
   "outputs": [
    {
     "name": "stdout",
     "output_type": "stream",
     "text": [
      "[*********************100%***********************]  1 of 1 completed\n"
     ]
    }
   ],
   "source": [
    "data=yf.download('0017.hk')"
   ]
  },
  {
   "cell_type": "code",
   "execution_count": 3,
   "id": "781ab9b7",
   "metadata": {
    "pycharm": {
     "name": "#%%\n"
    }
   },
   "outputs": [],
   "source": [
    "data['6day MA'] = data['Close'].rolling(window = 6).mean()\n",
    "data['12day MA'] = data['Close'].rolling(window = 12).mean()\n",
    "data['RSI'] = talib.RSI(data['Close'].values, timeperiod = 7)\n",
    "data['%R5'] = talib.WILLR(data['High'].values, data['Low'].values, data['Close'].values, 5)\n",
    "data['%R10'] = talib.WILLR(data['High'].values, data['Low'].values, data['Close'].values, 10)\n",
    "data['MI6']=talib.MOM(data['Close'],timeperiod=6)\n",
    "data['MI12']=talib.MOM(data['Close'],timeperiod=12)\n",
    "macd, macdsignal, macdhist = talib.MACD(data['Close'], fastperiod=12, slowperiod=26, signalperiod=9)\n",
    "data['EMA12']=talib.EMA(data['Close'], timeperiod=12)\n",
    "data['EMA26']=talib.EMA(data['Close'],timeperiod=26)\n",
    "data['MACD']=macd\n",
    "data['TR']=talib.TRANGE(data['High'],data['Low'],data['Close'])\n",
    "data['OSC6']=talib.CMO(data['Close'], timeperiod=6)\n",
    "data['OSC12']=talib.CMO(data['Close'], timeperiod=12)\n",
    "data['Prediction']=data['Close'].shift(-1)\n",
    "data.dropna(inplace=True)"
   ]
  },
  {
   "cell_type": "code",
   "execution_count": 4,
   "id": "0c6d7cbf",
   "metadata": {},
   "outputs": [
    {
     "data": {
      "text/html": [
       "<div>\n",
       "<style scoped>\n",
       "    .dataframe tbody tr th:only-of-type {\n",
       "        vertical-align: middle;\n",
       "    }\n",
       "\n",
       "    .dataframe tbody tr th {\n",
       "        vertical-align: top;\n",
       "    }\n",
       "\n",
       "    .dataframe thead th {\n",
       "        text-align: right;\n",
       "    }\n",
       "</style>\n",
       "<table border=\"1\" class=\"dataframe\">\n",
       "  <thead>\n",
       "    <tr style=\"text-align: right;\">\n",
       "      <th></th>\n",
       "      <th>Open</th>\n",
       "      <th>High</th>\n",
       "      <th>Low</th>\n",
       "      <th>Close</th>\n",
       "      <th>Adj Close</th>\n",
       "      <th>Volume</th>\n",
       "      <th>6day MA</th>\n",
       "      <th>12day MA</th>\n",
       "      <th>RSI</th>\n",
       "      <th>%R5</th>\n",
       "      <th>%R10</th>\n",
       "      <th>MI6</th>\n",
       "      <th>MI12</th>\n",
       "      <th>EMA12</th>\n",
       "      <th>EMA26</th>\n",
       "      <th>MACD</th>\n",
       "      <th>TR</th>\n",
       "      <th>OSC6</th>\n",
       "      <th>OSC12</th>\n",
       "      <th>Prediction</th>\n",
       "    </tr>\n",
       "    <tr>\n",
       "      <th>Date</th>\n",
       "      <th></th>\n",
       "      <th></th>\n",
       "      <th></th>\n",
       "      <th></th>\n",
       "      <th></th>\n",
       "      <th></th>\n",
       "      <th></th>\n",
       "      <th></th>\n",
       "      <th></th>\n",
       "      <th></th>\n",
       "      <th></th>\n",
       "      <th></th>\n",
       "      <th></th>\n",
       "      <th></th>\n",
       "      <th></th>\n",
       "      <th></th>\n",
       "      <th></th>\n",
       "      <th></th>\n",
       "      <th></th>\n",
       "      <th></th>\n",
       "    </tr>\n",
       "  </thead>\n",
       "  <tbody>\n",
       "    <tr>\n",
       "      <th>2010-03-24</th>\n",
       "      <td>52.915012</td>\n",
       "      <td>53.051567</td>\n",
       "      <td>52.095684</td>\n",
       "      <td>52.300514</td>\n",
       "      <td>29.860733</td>\n",
       "      <td>2551921.0</td>\n",
       "      <td>52.619144</td>\n",
       "      <td>52.368794</td>\n",
       "      <td>55.096356</td>\n",
       "      <td>-70.967858</td>\n",
       "      <td>-59.459566</td>\n",
       "      <td>0.136551</td>\n",
       "      <td>0.751049</td>\n",
       "      <td>52.014982</td>\n",
       "      <td>50.953271</td>\n",
       "      <td>1.061711</td>\n",
       "      <td>0.955883</td>\n",
       "      <td>6.821374</td>\n",
       "      <td>16.425878</td>\n",
       "      <td>52.300514</td>\n",
       "    </tr>\n",
       "    <tr>\n",
       "      <th>2010-03-25</th>\n",
       "      <td>51.959129</td>\n",
       "      <td>52.710182</td>\n",
       "      <td>51.344631</td>\n",
       "      <td>52.300514</td>\n",
       "      <td>29.860733</td>\n",
       "      <td>2536219.0</td>\n",
       "      <td>52.493969</td>\n",
       "      <td>52.328966</td>\n",
       "      <td>55.096356</td>\n",
       "      <td>-57.575865</td>\n",
       "      <td>-59.459566</td>\n",
       "      <td>-0.751053</td>\n",
       "      <td>-0.477943</td>\n",
       "      <td>52.058910</td>\n",
       "      <td>51.053067</td>\n",
       "      <td>1.005843</td>\n",
       "      <td>1.365551</td>\n",
       "      <td>6.821374</td>\n",
       "      <td>16.425878</td>\n",
       "      <td>53.392956</td>\n",
       "    </tr>\n",
       "    <tr>\n",
       "      <th>2010-03-26</th>\n",
       "      <td>52.095684</td>\n",
       "      <td>53.802620</td>\n",
       "      <td>52.027409</td>\n",
       "      <td>53.392956</td>\n",
       "      <td>30.484463</td>\n",
       "      <td>2510249.0</td>\n",
       "      <td>52.653283</td>\n",
       "      <td>52.425692</td>\n",
       "      <td>66.728957</td>\n",
       "      <td>-16.666641</td>\n",
       "      <td>-16.666641</td>\n",
       "      <td>0.955883</td>\n",
       "      <td>1.160717</td>\n",
       "      <td>52.264148</td>\n",
       "      <td>51.226392</td>\n",
       "      <td>1.037756</td>\n",
       "      <td>1.775211</td>\n",
       "      <td>35.279811</td>\n",
       "      <td>28.350674</td>\n",
       "      <td>53.666065</td>\n",
       "    </tr>\n",
       "    <tr>\n",
       "      <th>2010-03-29</th>\n",
       "      <td>53.461231</td>\n",
       "      <td>53.939175</td>\n",
       "      <td>53.461231</td>\n",
       "      <td>53.666065</td>\n",
       "      <td>30.640390</td>\n",
       "      <td>2631978.0</td>\n",
       "      <td>52.664662</td>\n",
       "      <td>52.590696</td>\n",
       "      <td>69.066249</td>\n",
       "      <td>-10.526300</td>\n",
       "      <td>-10.526300</td>\n",
       "      <td>0.068275</td>\n",
       "      <td>1.980045</td>\n",
       "      <td>52.479827</td>\n",
       "      <td>51.407108</td>\n",
       "      <td>1.072719</td>\n",
       "      <td>0.546219</td>\n",
       "      <td>40.712074</td>\n",
       "      <td>31.034403</td>\n",
       "      <td>53.188122</td>\n",
       "    </tr>\n",
       "    <tr>\n",
       "      <th>2010-03-30</th>\n",
       "      <td>53.256401</td>\n",
       "      <td>54.075729</td>\n",
       "      <td>52.915012</td>\n",
       "      <td>53.188122</td>\n",
       "      <td>30.367506</td>\n",
       "      <td>3142411.0</td>\n",
       "      <td>52.823976</td>\n",
       "      <td>52.698801</td>\n",
       "      <td>60.402809</td>\n",
       "      <td>-32.500024</td>\n",
       "      <td>-32.500024</td>\n",
       "      <td>0.955883</td>\n",
       "      <td>1.297268</td>\n",
       "      <td>52.588796</td>\n",
       "      <td>51.539035</td>\n",
       "      <td>1.049760</td>\n",
       "      <td>1.160717</td>\n",
       "      <td>19.626336</td>\n",
       "      <td>22.289705</td>\n",
       "      <td>51.890854</td>\n",
       "    </tr>\n",
       "  </tbody>\n",
       "</table>\n",
       "</div>"
      ],
      "text/plain": [
       "                 Open       High        Low      Close  Adj Close     Volume  \\\n",
       "Date                                                                           \n",
       "2010-03-24  52.915012  53.051567  52.095684  52.300514  29.860733  2551921.0   \n",
       "2010-03-25  51.959129  52.710182  51.344631  52.300514  29.860733  2536219.0   \n",
       "2010-03-26  52.095684  53.802620  52.027409  53.392956  30.484463  2510249.0   \n",
       "2010-03-29  53.461231  53.939175  53.461231  53.666065  30.640390  2631978.0   \n",
       "2010-03-30  53.256401  54.075729  52.915012  53.188122  30.367506  3142411.0   \n",
       "\n",
       "              6day MA   12day MA        RSI        %R5       %R10       MI6  \\\n",
       "Date                                                                          \n",
       "2010-03-24  52.619144  52.368794  55.096356 -70.967858 -59.459566  0.136551   \n",
       "2010-03-25  52.493969  52.328966  55.096356 -57.575865 -59.459566 -0.751053   \n",
       "2010-03-26  52.653283  52.425692  66.728957 -16.666641 -16.666641  0.955883   \n",
       "2010-03-29  52.664662  52.590696  69.066249 -10.526300 -10.526300  0.068275   \n",
       "2010-03-30  52.823976  52.698801  60.402809 -32.500024 -32.500024  0.955883   \n",
       "\n",
       "                MI12      EMA12      EMA26      MACD        TR       OSC6  \\\n",
       "Date                                                                        \n",
       "2010-03-24  0.751049  52.014982  50.953271  1.061711  0.955883   6.821374   \n",
       "2010-03-25 -0.477943  52.058910  51.053067  1.005843  1.365551   6.821374   \n",
       "2010-03-26  1.160717  52.264148  51.226392  1.037756  1.775211  35.279811   \n",
       "2010-03-29  1.980045  52.479827  51.407108  1.072719  0.546219  40.712074   \n",
       "2010-03-30  1.297268  52.588796  51.539035  1.049760  1.160717  19.626336   \n",
       "\n",
       "                OSC12  Prediction  \n",
       "Date                               \n",
       "2010-03-24  16.425878   52.300514  \n",
       "2010-03-25  16.425878   53.392956  \n",
       "2010-03-26  28.350674   53.666065  \n",
       "2010-03-29  31.034403   53.188122  \n",
       "2010-03-30  22.289705   51.890854  "
      ]
     },
     "execution_count": 4,
     "metadata": {},
     "output_type": "execute_result"
    }
   ],
   "source": [
    "# data=data[data.columns[list(backwardModel.k_feature_idx_)]]\n",
    "data['Prediction']=data['Close'].shift(-1)\n",
    "data.dropna(inplace=True)\n",
    "data_val=data[-100:]\n",
    "data=data[:-100]\n",
    "data_val.tail()"
   ]
  },
  {
   "cell_type": "code",
   "execution_count": 5,
   "id": "13b49c54",
   "metadata": {},
   "outputs": [
    {
     "name": "stderr",
     "output_type": "stream",
     "text": [
      "/var/folders/8h/w0jn89bj2w5g85gj4ck7w0t00000gn/T/ipykernel_48527/543750826.py:2: FutureWarning: In a future version of pandas all arguments of DataFrame.drop except for the argument 'labels' will be keyword-only.\n",
      "  X=sc.fit_transform(data.drop('Prediction',1))\n"
     ]
    }
   ],
   "source": [
    "sc = MinMaxScaler(feature_range = (-1, 1))\n",
    "X=sc.fit_transform(data.drop('Prediction',1))\n",
    "# X=data.drop('Prediction',1)\n",
    "Y = data[\"Prediction\"].values.reshape(-1,1)\n"
   ]
  },
  {
   "cell_type": "code",
   "execution_count": 6,
   "id": "b440227b",
   "metadata": {},
   "outputs": [
    {
     "name": "stderr",
     "output_type": "stream",
     "text": [
      "/opt/homebrew/Caskroom/miniforge/base/envs/fyp_new/lib/python3.8/site-packages/sklearn/utils/validation.py:993: DataConversionWarning: A column-vector y was passed when a 1d array was expected. Please change the shape of y to (n_samples, ), for example using ravel().\n",
      "  y = column_or_1d(y, warn=True)\n"
     ]
    },
    {
     "data": {
      "image/png": "[encoded data removed]",
      "text/plain": [
       "<Figure size 432x288 with 1 Axes>"
      ]
     },
     "metadata": {
      "needs_background": "light"
     },
     "output_type": "display_data"
    }
   ],
   "source": [
    "from sklearn.feature_selection import mutual_info_regression\n",
    "importance=mutual_info_regression(X,Y)\n",
    "feature_importances=pd.Series(importance,data.columns[0:len(data.columns)-1])\n",
    "feature_importances.plot(kind=\"barh\")\n",
    "plt.show()"
   ]
  },
  {
   "cell_type": "code",
   "execution_count": 7,
   "id": "cb6680b2",
   "metadata": {},
   "outputs": [
    {
     "name": "stdout",
     "output_type": "stream",
     "text": [
      "(2220, 1, 19) (2220, 1) (247, 1, 19) (247, 1)\n"
     ]
    }
   ],
   "source": [
    "# X=sc.fit_transform(data.drop(['Prediction','OSC12','OSC6','MI12','MI6','Volume','%R10','%R5','RSI'],1))\n",
    "# Y=np.array(data[\"Close\"])\n",
    "X_train, X_test, y_train, y_test = train_test_split(X, Y, test_size=0.1,shuffle=False)\n",
    "X_train = X_train.reshape((X_train.shape[0], 1, X_train.shape[1]))\n",
    "X_test = X_test.reshape((X_test.shape[0], 1, X_test.shape[1]))\n",
    "print(X_train.shape,y_train.shape,X_test.shape,y_test.shape)"
   ]
  },
  {
   "cell_type": "code",
   "execution_count": 8,
   "id": "bb8c5487",
   "metadata": {},
   "outputs": [
    {
     "name": "stderr",
     "output_type": "stream",
     "text": [
      "2022-04-10 18:51:46.262236: I tensorflow/core/common_runtime/pluggable_device/pluggable_device_factory.cc:305] Could not identify NUMA node of platform GPU ID 0, defaulting to 0. Your kernel may not have been built with NUMA support.\n",
      "2022-04-10 18:51:46.262344: I tensorflow/core/common_runtime/pluggable_device/pluggable_device_factory.cc:271] Created TensorFlow device (/job:localhost/replica:0/task:0/device:GPU:0 with 0 MB memory) -> physical PluggableDevice (device: 0, name: METAL, pci bus id: <undefined>)\n"
     ]
    },
    {
     "name": "stdout",
     "output_type": "stream",
     "text": [
      "Metal device set to: Apple M1 Pro\n"
     ]
    }
   ],
   "source": [
    "model_tech = keras.Sequential()\n",
    "model_tech.add(keras.layers.LSTM(\n",
    "  units=128,\n",
    "  input_shape=(X_train.shape[1], X_train.shape[2]),\n",
    "    return_sequences=True,\n",
    "    kernel_regularizer=regularizers.l1(0.01)\n",
    "))\n",
    "model_tech.add(keras.layers.LSTM(units=64))\n",
    "model_tech.add(keras.layers.Dense(units=64))\n",
    "model_tech.add(keras.layers.Dense(units=1))\n",
    "model_tech.compile(\n",
    "  loss='mean_squared_error',\n",
    "  optimizer=keras.optimizers.Adam(0.001)\n",
    ")"
   ]
  },
  {
   "cell_type": "code",
   "execution_count": 9,
   "id": "428d66a4",
   "metadata": {
    "pycharm": {
     "is_executing": true
    },
    "scrolled": true
   },
   "outputs": [
    {
     "name": "stdout",
     "output_type": "stream",
     "text": [
      "Epoch 1/300\n"
     ]
    },
    {
     "name": "stderr",
     "output_type": "stream",
     "text": [
      "2022-04-10 18:51:46.664470: W tensorflow/core/platform/profile_utils/cpu_utils.cc:128] Failed to get CPU frequency: 0 Hz\n",
      "2022-04-10 18:51:47.958064: I tensorflow/core/grappler/optimizers/custom_graph_optimizer_registry.cc:113] Plugin optimizer for device_type GPU is enabled.\n",
      "2022-04-10 18:51:48.168396: I tensorflow/core/grappler/optimizers/custom_graph_optimizer_registry.cc:113] Plugin optimizer for device_type GPU is enabled.\n",
      "2022-04-10 18:51:48.204425: I tensorflow/core/grappler/optimizers/custom_graph_optimizer_registry.cc:113] Plugin optimizer for device_type GPU is enabled.\n",
      "2022-04-10 18:51:48.311104: I tensorflow/core/grappler/optimizers/custom_graph_optimizer_registry.cc:113] Plugin optimizer for device_type GPU is enabled.\n"
     ]
    },
    {
     "name": "stdout",
     "output_type": "stream",
     "text": [
      "11/32 [=========>....................] - ETA: 0s - loss: 894.7705 "
     ]
    },
    {
     "name": "stderr",
     "output_type": "stream",
     "text": [
      "2022-04-10 18:51:48.369984: I tensorflow/core/grappler/optimizers/custom_graph_optimizer_registry.cc:113] Plugin optimizer for device_type GPU is enabled.\n"
     ]
    },
    {
     "name": "stdout",
     "output_type": "stream",
     "text": [
      "32/32 [==============================] - 3s 30ms/step - loss: 1349.5330 - val_loss: 3705.0544\n",
      "Epoch 2/300\n",
      " 1/32 [..............................] - ETA: 0s - loss: 1140.3639"
     ]
    },
    {
     "name": "stderr",
     "output_type": "stream",
     "text": [
      "2022-04-10 18:51:49.202375: I tensorflow/core/grappler/optimizers/custom_graph_optimizer_registry.cc:113] Plugin optimizer for device_type GPU is enabled.\n",
      "2022-04-10 18:51:49.279469: I tensorflow/core/grappler/optimizers/custom_graph_optimizer_registry.cc:113] Plugin optimizer for device_type GPU is enabled.\n",
      "2022-04-10 18:51:49.301549: I tensorflow/core/grappler/optimizers/custom_graph_optimizer_registry.cc:113] Plugin optimizer for device_type GPU is enabled.\n"
     ]
    },
    {
     "name": "stdout",
     "output_type": "stream",
     "text": [
      "32/32 [==============================] - 0s 13ms/step - loss: 924.4092 - val_loss: 3199.1528\n",
      "Epoch 3/300\n",
      "32/32 [==============================] - 0s 11ms/step - loss: 801.1021 - val_loss: 3038.7473\n",
      "Epoch 4/300\n",
      "32/32 [==============================] - 0s 11ms/step - loss: 559.1493 - val_loss: 2558.3345\n",
      "Epoch 5/300\n",
      "32/32 [==============================] - 0s 11ms/step - loss: 442.1989 - val_loss: 1958.6940\n",
      "Epoch 6/300\n",
      "32/32 [==============================] - 0s 11ms/step - loss: 308.9209 - val_loss: 1274.1750\n",
      "Epoch 7/300\n",
      "32/32 [==============================] - 0s 11ms/step - loss: 162.0990 - val_loss: 614.1705\n",
      "Epoch 8/300\n",
      "32/32 [==============================] - 0s 11ms/step - loss: 50.0314 - val_loss: 208.9434\n",
      "Epoch 9/300\n",
      "32/32 [==============================] - 0s 13ms/step - loss: 28.7363 - val_loss: 99.5987\n",
      "Epoch 10/300\n",
      "32/32 [==============================] - 0s 11ms/step - loss: 27.2868 - val_loss: 75.0877\n",
      "Epoch 11/300\n",
      "32/32 [==============================] - 0s 11ms/step - loss: 23.6290 - val_loss: 63.9704\n",
      "Epoch 12/300\n",
      "32/32 [==============================] - 0s 11ms/step - loss: 21.1580 - val_loss: 54.0805\n",
      "Epoch 13/300\n",
      "32/32 [==============================] - 0s 11ms/step - loss: 19.7072 - val_loss: 46.3052\n",
      "Epoch 14/300\n",
      "32/32 [==============================] - 0s 11ms/step - loss: 18.6524 - val_loss: 40.8248\n",
      "Epoch 15/300\n",
      "32/32 [==============================] - 0s 11ms/step - loss: 17.9062 - val_loss: 36.8173\n",
      "Epoch 16/300\n",
      "32/32 [==============================] - 0s 11ms/step - loss: 17.3957 - val_loss: 33.8202\n",
      "Epoch 17/300\n",
      "32/32 [==============================] - 0s 11ms/step - loss: 17.0232 - val_loss: 31.5481\n",
      "Epoch 18/300\n",
      "32/32 [==============================] - 0s 11ms/step - loss: 16.7284 - val_loss: 29.7684\n",
      "Epoch 19/300\n",
      "32/32 [==============================] - 0s 11ms/step - loss: 16.4719 - val_loss: 28.3131\n",
      "Epoch 20/300\n",
      "32/32 [==============================] - 0s 11ms/step - loss: 16.2250 - val_loss: 27.0698\n",
      "Epoch 21/300\n",
      "32/32 [==============================] - 0s 11ms/step - loss: 15.9732 - val_loss: 25.9643\n",
      "Epoch 22/300\n",
      "32/32 [==============================] - 0s 11ms/step - loss: 15.7114 - val_loss: 24.9515\n",
      "Epoch 23/300\n",
      "32/32 [==============================] - 0s 11ms/step - loss: 15.4386 - val_loss: 24.0038\n",
      "Epoch 24/300\n",
      "32/32 [==============================] - 0s 11ms/step - loss: 15.1578 - val_loss: 23.1030\n",
      "Epoch 25/300\n",
      "32/32 [==============================] - 0s 11ms/step - loss: 14.8724 - val_loss: 22.2397\n",
      "Epoch 26/300\n",
      "32/32 [==============================] - 0s 11ms/step - loss: 14.5850 - val_loss: 21.4093\n",
      "Epoch 27/300\n",
      "32/32 [==============================] - 0s 11ms/step - loss: 14.2991 - val_loss: 20.6110\n",
      "Epoch 28/300\n",
      "32/32 [==============================] - 0s 11ms/step - loss: 14.0164 - val_loss: 19.8429\n",
      "Epoch 29/300\n",
      "32/32 [==============================] - 0s 11ms/step - loss: 13.7399 - val_loss: 19.1048\n",
      "Epoch 30/300\n",
      "32/32 [==============================] - 0s 11ms/step - loss: 13.4702 - val_loss: 18.3949\n",
      "Epoch 31/300\n",
      "32/32 [==============================] - 0s 11ms/step - loss: 13.2092 - val_loss: 17.7145\n",
      "Epoch 32/300\n",
      "32/32 [==============================] - 0s 12ms/step - loss: 12.9576 - val_loss: 17.0645\n",
      "Epoch 33/300\n",
      "32/32 [==============================] - 0s 12ms/step - loss: 12.7154 - val_loss: 16.4449\n",
      "Epoch 34/300\n",
      "32/32 [==============================] - 0s 11ms/step - loss: 12.4829 - val_loss: 15.8538\n",
      "Epoch 35/300\n",
      "32/32 [==============================] - 0s 12ms/step - loss: 12.2600 - val_loss: 15.2913\n",
      "Epoch 36/300\n",
      "32/32 [==============================] - 0s 11ms/step - loss: 12.0475 - val_loss: 14.7563\n",
      "Epoch 37/300\n",
      "32/32 [==============================] - 0s 11ms/step - loss: 11.8457 - val_loss: 14.2508\n",
      "Epoch 38/300\n",
      "32/32 [==============================] - 0s 11ms/step - loss: 11.6542 - val_loss: 13.7751\n",
      "Epoch 39/300\n",
      "32/32 [==============================] - 0s 12ms/step - loss: 11.4739 - val_loss: 13.3317\n",
      "Epoch 40/300\n",
      "32/32 [==============================] - 0s 11ms/step - loss: 11.3042 - val_loss: 12.9188\n",
      "Epoch 41/300\n",
      "32/32 [==============================] - 0s 11ms/step - loss: 11.1450 - val_loss: 12.5367\n",
      "Epoch 42/300\n",
      "32/32 [==============================] - 0s 12ms/step - loss: 10.9956 - val_loss: 12.1849\n",
      "Epoch 43/300\n",
      "32/32 [==============================] - 0s 11ms/step - loss: 10.8558 - val_loss: 11.8638\n",
      "Epoch 44/300\n",
      "32/32 [==============================] - 0s 11ms/step - loss: 10.7245 - val_loss: 11.5733\n",
      "Epoch 45/300\n",
      "32/32 [==============================] - 0s 11ms/step - loss: 10.6016 - val_loss: 11.3127\n",
      "Epoch 46/300\n",
      "32/32 [==============================] - 0s 11ms/step - loss: 10.4856 - val_loss: 11.0799\n",
      "Epoch 47/300\n",
      "32/32 [==============================] - 0s 11ms/step - loss: 10.3763 - val_loss: 10.8740\n",
      "Epoch 48/300\n",
      "32/32 [==============================] - 0s 10ms/step - loss: 10.2727 - val_loss: 10.6945\n",
      "Epoch 49/300\n",
      "32/32 [==============================] - 0s 11ms/step - loss: 10.1743 - val_loss: 10.5387\n",
      "Epoch 50/300\n",
      "32/32 [==============================] - 0s 10ms/step - loss: 10.0786 - val_loss: 10.4042\n",
      "Epoch 51/300\n",
      "32/32 [==============================] - 0s 11ms/step - loss: 9.9840 - val_loss: 10.2885\n",
      "Epoch 52/300\n",
      "32/32 [==============================] - 0s 11ms/step - loss: 9.8896 - val_loss: 10.1891\n",
      "Epoch 53/300\n",
      "32/32 [==============================] - 0s 11ms/step - loss: 9.7947 - val_loss: 10.1051\n",
      "Epoch 54/300\n",
      "32/32 [==============================] - 0s 11ms/step - loss: 9.6990 - val_loss: 10.0341\n",
      "Epoch 55/300\n",
      "32/32 [==============================] - 0s 11ms/step - loss: 9.6027 - val_loss: 9.9734\n",
      "Epoch 56/300\n",
      "32/32 [==============================] - 0s 11ms/step - loss: 9.5056 - val_loss: 9.9212\n",
      "Epoch 57/300\n",
      "32/32 [==============================] - 0s 11ms/step - loss: 9.4079 - val_loss: 9.8768\n",
      "Epoch 58/300\n",
      "32/32 [==============================] - 0s 11ms/step - loss: 9.3107 - val_loss: 9.8392\n",
      "Epoch 59/300\n",
      "32/32 [==============================] - 0s 11ms/step - loss: 9.2139 - val_loss: 9.8067\n",
      "Epoch 60/300\n",
      "32/32 [==============================] - 0s 11ms/step - loss: 9.1190 - val_loss: 9.7812\n",
      "Epoch 61/300\n",
      "32/32 [==============================] - 0s 11ms/step - loss: 9.0254 - val_loss: 9.7602\n",
      "Epoch 62/300\n",
      "32/32 [==============================] - 0s 11ms/step - loss: 8.9353 - val_loss: 9.7448\n",
      "Epoch 63/300\n",
      "32/32 [==============================] - 0s 11ms/step - loss: 8.8485 - val_loss: 9.7332\n",
      "Epoch 64/300\n",
      "32/32 [==============================] - 0s 11ms/step - loss: 8.7659 - val_loss: 9.7253\n",
      "Epoch 65/300\n",
      "32/32 [==============================] - 0s 11ms/step - loss: 8.6867 - val_loss: 9.7198\n",
      "Epoch 66/300\n",
      "32/32 [==============================] - 0s 11ms/step - loss: 8.6120 - val_loss: 9.7170\n",
      "Epoch 67/300\n",
      "32/32 [==============================] - 0s 11ms/step - loss: 8.5412 - val_loss: 9.7180\n",
      "Epoch 68/300\n",
      "32/32 [==============================] - 0s 11ms/step - loss: 8.4729 - val_loss: 9.7175\n",
      "Epoch 69/300\n",
      "32/32 [==============================] - 0s 11ms/step - loss: 8.4087 - val_loss: 9.7186\n",
      "Epoch 70/300\n",
      "32/32 [==============================] - 0s 11ms/step - loss: 8.3488 - val_loss: 9.7207\n",
      "Epoch 71/300\n",
      "32/32 [==============================] - 0s 11ms/step - loss: 8.2923 - val_loss: 9.7264\n",
      "Epoch 72/300\n",
      "32/32 [==============================] - 0s 11ms/step - loss: 8.2394 - val_loss: 9.7342\n",
      "Epoch 73/300\n",
      "32/32 [==============================] - 0s 11ms/step - loss: 8.1894 - val_loss: 9.7451\n",
      "Epoch 74/300\n",
      "32/32 [==============================] - 0s 10ms/step - loss: 8.1421 - val_loss: 9.7583\n",
      "Epoch 75/300\n",
      "32/32 [==============================] - 0s 11ms/step - loss: 8.0976 - val_loss: 9.7735\n",
      "Epoch 76/300\n",
      "32/32 [==============================] - 0s 11ms/step - loss: 8.0540 - val_loss: 9.7883\n",
      "Epoch 77/300\n",
      "32/32 [==============================] - 0s 10ms/step - loss: 8.0122 - val_loss: 9.8057\n",
      "Epoch 78/300\n",
      "32/32 [==============================] - 0s 11ms/step - loss: 7.9706 - val_loss: 9.8248\n",
      "Epoch 79/300\n",
      "32/32 [==============================] - 0s 10ms/step - loss: 7.9312 - val_loss: 9.8408\n",
      "Epoch 80/300\n",
      "32/32 [==============================] - 0s 10ms/step - loss: 7.8923 - val_loss: 9.8554\n",
      "Epoch 81/300\n",
      "32/32 [==============================] - 0s 10ms/step - loss: 7.8553 - val_loss: 9.8681\n",
      "Epoch 82/300\n"
     ]
    },
    {
     "name": "stdout",
     "output_type": "stream",
     "text": [
      "32/32 [==============================] - 0s 11ms/step - loss: 7.8169 - val_loss: 9.8835\n",
      "Epoch 83/300\n",
      "32/32 [==============================] - 0s 11ms/step - loss: 7.7815 - val_loss: 9.8969\n",
      "Epoch 84/300\n",
      "32/32 [==============================] - 0s 11ms/step - loss: 7.7440 - val_loss: 9.9135\n",
      "Epoch 85/300\n",
      "32/32 [==============================] - 0s 11ms/step - loss: 7.7096 - val_loss: 9.9241\n",
      "Epoch 86/300\n",
      "32/32 [==============================] - 0s 10ms/step - loss: 7.6726 - val_loss: 9.9421\n",
      "Epoch 87/300\n",
      "32/32 [==============================] - 0s 11ms/step - loss: 7.6391 - val_loss: 9.9511\n",
      "Epoch 88/300\n",
      "32/32 [==============================] - 0s 11ms/step - loss: 7.6012 - val_loss: 9.9738\n",
      "Epoch 89/300\n",
      "32/32 [==============================] - 0s 11ms/step - loss: 7.5693 - val_loss: 9.9801\n",
      "Epoch 90/300\n",
      "32/32 [==============================] - 0s 11ms/step - loss: 7.5308 - val_loss: 10.0080\n",
      "Epoch 91/300\n",
      "32/32 [==============================] - 0s 11ms/step - loss: 7.5013 - val_loss: 10.0105\n",
      "Epoch 92/300\n",
      "32/32 [==============================] - 0s 10ms/step - loss: 7.4632 - val_loss: 10.0503\n",
      "Epoch 93/300\n",
      "32/32 [==============================] - 0s 11ms/step - loss: 7.4357 - val_loss: 10.0442\n",
      "Epoch 94/300\n",
      "32/32 [==============================] - 0s 11ms/step - loss: 7.3974 - val_loss: 10.0982\n",
      "Epoch 95/300\n",
      "32/32 [==============================] - 0s 10ms/step - loss: 7.3736 - val_loss: 10.0764\n",
      "Epoch 96/300\n",
      "32/32 [==============================] - 0s 11ms/step - loss: 7.3349 - val_loss: 10.1543\n",
      "Epoch 97/300\n",
      "32/32 [==============================] - 0s 11ms/step - loss: 7.3131 - val_loss: 10.1093\n",
      "Epoch 98/300\n",
      "32/32 [==============================] - 0s 11ms/step - loss: 7.2745 - val_loss: 10.2221\n",
      "Epoch 99/300\n",
      "32/32 [==============================] - 0s 12ms/step - loss: 7.2545 - val_loss: 10.1394\n",
      "Epoch 100/300\n",
      "32/32 [==============================] - 0s 11ms/step - loss: 7.2163 - val_loss: 10.2977\n",
      "Epoch 101/300\n",
      "32/32 [==============================] - 0s 11ms/step - loss: 7.1962 - val_loss: 10.1574\n",
      "Epoch 102/300\n",
      "32/32 [==============================] - 0s 11ms/step - loss: 7.1611 - val_loss: 10.3825\n",
      "Epoch 103/300\n",
      "32/32 [==============================] - 0s 11ms/step - loss: 7.1387 - val_loss: 10.1683\n",
      "Epoch 104/300\n",
      "32/32 [==============================] - 0s 11ms/step - loss: 7.1111 - val_loss: 10.4804\n",
      "Epoch 105/300\n",
      "32/32 [==============================] - 0s 11ms/step - loss: 7.0839 - val_loss: 10.1754\n",
      "Epoch 106/300\n",
      "32/32 [==============================] - 0s 11ms/step - loss: 7.0668 - val_loss: 10.5907\n",
      "Epoch 107/300\n",
      "32/32 [==============================] - 0s 11ms/step - loss: 7.0334 - val_loss: 10.1868\n",
      "Epoch 108/300\n",
      "32/32 [==============================] - 0s 11ms/step - loss: 7.0294 - val_loss: 10.7039\n",
      "Epoch 109/300\n",
      "32/32 [==============================] - 0s 12ms/step - loss: 6.9845 - val_loss: 10.1990\n",
      "Epoch 110/300\n",
      "32/32 [==============================] - 0s 10ms/step - loss: 6.9940 - val_loss: 10.8101\n",
      "Epoch 111/300\n",
      "32/32 [==============================] - 0s 10ms/step - loss: 6.9348 - val_loss: 10.2223\n",
      "Epoch 112/300\n",
      "32/32 [==============================] - 0s 10ms/step - loss: 6.9552 - val_loss: 10.9016\n",
      "Epoch 113/300\n",
      "32/32 [==============================] - 0s 10ms/step - loss: 6.8826 - val_loss: 10.2645\n",
      "Epoch 114/300\n",
      "32/32 [==============================] - 0s 10ms/step - loss: 6.9106 - val_loss: 10.9713\n",
      "Epoch 115/300\n",
      "32/32 [==============================] - 0s 10ms/step - loss: 6.8276 - val_loss: 10.3283\n",
      "Epoch 116/300\n",
      "32/32 [==============================] - 0s 10ms/step - loss: 6.8571 - val_loss: 11.0199\n",
      "Epoch 117/300\n",
      "32/32 [==============================] - 0s 10ms/step - loss: 6.7708 - val_loss: 10.4136\n",
      "Epoch 118/300\n",
      "32/32 [==============================] - 0s 10ms/step - loss: 6.7985 - val_loss: 11.0567\n",
      "Epoch 119/300\n",
      "32/32 [==============================] - 0s 10ms/step - loss: 6.7172 - val_loss: 10.5130\n",
      "Epoch 120/300\n",
      "32/32 [==============================] - 0s 10ms/step - loss: 6.7416 - val_loss: 11.0897\n",
      "Epoch 121/300\n",
      "32/32 [==============================] - 0s 10ms/step - loss: 6.6716 - val_loss: 10.6159\n",
      "Epoch 122/300\n",
      "32/32 [==============================] - 0s 10ms/step - loss: 6.6919 - val_loss: 11.1302\n",
      "Epoch 123/300\n",
      "32/32 [==============================] - 0s 10ms/step - loss: 6.6348 - val_loss: 10.7189\n",
      "Epoch 124/300\n",
      "32/32 [==============================] - 0s 10ms/step - loss: 6.6537 - val_loss: 11.1862\n",
      "Epoch 125/300\n",
      "32/32 [==============================] - 0s 10ms/step - loss: 6.6088 - val_loss: 10.8163\n",
      "Epoch 126/300\n",
      "32/32 [==============================] - 0s 10ms/step - loss: 6.6248 - val_loss: 11.2500\n",
      "Epoch 127/300\n",
      "32/32 [==============================] - 0s 10ms/step - loss: 6.5865 - val_loss: 10.9081\n",
      "Epoch 128/300\n",
      "32/32 [==============================] - 0s 10ms/step - loss: 6.5988 - val_loss: 11.3124\n",
      "Epoch 129/300\n",
      "32/32 [==============================] - 0s 10ms/step - loss: 6.5625 - val_loss: 10.9934\n",
      "Epoch 130/300\n",
      "32/32 [==============================] - 0s 10ms/step - loss: 6.5696 - val_loss: 11.3778\n",
      "Epoch 131/300\n",
      "32/32 [==============================] - 0s 12ms/step - loss: 6.5329 - val_loss: 11.0695\n",
      "Epoch 132/300\n",
      "32/32 [==============================] - 0s 10ms/step - loss: 6.5320 - val_loss: 11.4360\n",
      "Epoch 133/300\n",
      "32/32 [==============================] - 0s 10ms/step - loss: 6.4903 - val_loss: 11.1322\n",
      "Epoch 134/300\n",
      "32/32 [==============================] - 0s 10ms/step - loss: 6.4798 - val_loss: 11.4915\n",
      "Epoch 135/300\n",
      "32/32 [==============================] - 0s 10ms/step - loss: 6.4326 - val_loss: 11.1819\n",
      "Epoch 136/300\n",
      "32/32 [==============================] - 0s 10ms/step - loss: 6.4157 - val_loss: 11.5446\n",
      "Epoch 137/300\n",
      "32/32 [==============================] - 0s 10ms/step - loss: 6.3655 - val_loss: 11.2250\n",
      "Epoch 138/300\n",
      "32/32 [==============================] - 0s 10ms/step - loss: 6.3481 - val_loss: 11.6026\n",
      "Epoch 139/300\n",
      "32/32 [==============================] - 0s 10ms/step - loss: 6.2992 - val_loss: 11.2625\n",
      "Epoch 140/300\n",
      "32/32 [==============================] - 0s 10ms/step - loss: 6.2878 - val_loss: 11.6661\n",
      "Epoch 141/300\n",
      "32/32 [==============================] - 0s 10ms/step - loss: 6.2455 - val_loss: 11.3099\n",
      "Epoch 142/300\n",
      "32/32 [==============================] - 0s 10ms/step - loss: 6.2476 - val_loss: 11.7442\n",
      "Epoch 143/300\n",
      "32/32 [==============================] - 0s 10ms/step - loss: 6.2189 - val_loss: 11.3782\n",
      "Epoch 144/300\n",
      "32/32 [==============================] - 0s 10ms/step - loss: 6.2408 - val_loss: 11.8486\n",
      "Epoch 145/300\n",
      "32/32 [==============================] - 0s 10ms/step - loss: 6.2296 - val_loss: 11.4685\n",
      "Epoch 146/300\n",
      "32/32 [==============================] - 0s 10ms/step - loss: 6.2703 - val_loss: 11.9690\n",
      "Epoch 147/300\n",
      "32/32 [==============================] - 0s 10ms/step - loss: 6.2725 - val_loss: 11.5813\n",
      "Epoch 148/300\n",
      "32/32 [==============================] - 0s 10ms/step - loss: 6.3256 - val_loss: 12.0979\n",
      "Epoch 149/300\n",
      "32/32 [==============================] - 0s 10ms/step - loss: 6.3274 - val_loss: 11.6894\n",
      "Epoch 150/300\n",
      "32/32 [==============================] - 0s 10ms/step - loss: 6.3723 - val_loss: 12.2066\n",
      "Epoch 151/300\n",
      "32/32 [==============================] - 0s 10ms/step - loss: 6.3524 - val_loss: 11.7364\n",
      "Epoch 152/300\n",
      "32/32 [==============================] - 0s 10ms/step - loss: 6.3601 - val_loss: 12.2656\n",
      "Epoch 153/300\n",
      "32/32 [==============================] - 0s 10ms/step - loss: 6.2908 - val_loss: 11.6944\n",
      "Epoch 154/300\n",
      "32/32 [==============================] - 0s 10ms/step - loss: 6.2451 - val_loss: 12.2140\n",
      "Epoch 155/300\n",
      "32/32 [==============================] - 0s 10ms/step - loss: 6.1130 - val_loss: 11.5784\n",
      "Epoch 156/300\n",
      "32/32 [==============================] - 0s 10ms/step - loss: 6.0166 - val_loss: 12.0762\n",
      "Epoch 157/300\n",
      "32/32 [==============================] - 0s 10ms/step - loss: 5.8375 - val_loss: 11.4024\n",
      "Epoch 158/300\n",
      "32/32 [==============================] - 0s 10ms/step - loss: 5.7153 - val_loss: 11.9007\n",
      "Epoch 159/300\n",
      "32/32 [==============================] - 0s 10ms/step - loss: 5.5246 - val_loss: 11.2366\n",
      "Epoch 160/300\n",
      "32/32 [==============================] - 0s 10ms/step - loss: 5.4186 - val_loss: 11.7710\n",
      "Epoch 161/300\n",
      "32/32 [==============================] - 0s 11ms/step - loss: 5.2581 - val_loss: 11.1299\n"
     ]
    },
    {
     "name": "stdout",
     "output_type": "stream",
     "text": [
      "Epoch 162/300\n",
      "32/32 [==============================] - 0s 10ms/step - loss: 5.2076 - val_loss: 11.7631\n",
      "Epoch 163/300\n",
      "32/32 [==============================] - 0s 10ms/step - loss: 5.1205 - val_loss: 11.1643\n",
      "Epoch 164/300\n",
      "32/32 [==============================] - 0s 11ms/step - loss: 5.1729 - val_loss: 11.9953\n",
      "Epoch 165/300\n",
      "32/32 [==============================] - 0s 10ms/step - loss: 5.2251 - val_loss: 11.4801\n",
      "Epoch 166/300\n",
      "32/32 [==============================] - 0s 10ms/step - loss: 5.4798 - val_loss: 12.6442\n",
      "Epoch 167/300\n",
      "32/32 [==============================] - 0s 10ms/step - loss: 5.8164 - val_loss: 12.3770\n",
      "Epoch 168/300\n",
      "32/32 [==============================] - 0s 10ms/step - loss: 6.5036 - val_loss: 14.1491\n",
      "Epoch 169/300\n",
      "32/32 [==============================] - 0s 10ms/step - loss: 7.4138 - val_loss: 14.4650\n",
      "Epoch 170/300\n",
      "32/32 [==============================] - 0s 10ms/step - loss: 8.7634 - val_loss: 16.9353\n",
      "Epoch 171/300\n",
      "32/32 [==============================] - 0s 10ms/step - loss: 10.1667 - val_loss: 16.1384\n",
      "Epoch 172/300\n",
      "32/32 [==============================] - 0s 10ms/step - loss: 11.4128 - val_loss: 18.2634\n",
      "Epoch 173/300\n",
      "32/32 [==============================] - 0s 10ms/step - loss: 10.5749 - val_loss: 13.4852\n",
      "Epoch 174/300\n",
      "32/32 [==============================] - 0s 10ms/step - loss: 8.8258 - val_loss: 12.0156\n",
      "Epoch 175/300\n",
      "32/32 [==============================] - 0s 10ms/step - loss: 6.2168 - val_loss: 9.6582\n",
      "Epoch 176/300\n",
      "32/32 [==============================] - 0s 10ms/step - loss: 4.5875 - val_loss: 9.6694\n",
      "Epoch 177/300\n",
      "32/32 [==============================] - 0s 10ms/step - loss: 3.6861 - val_loss: 9.4559\n",
      "Epoch 178/300\n",
      "32/32 [==============================] - 0s 10ms/step - loss: 3.9453 - val_loss: 10.1433\n",
      "Epoch 179/300\n",
      "32/32 [==============================] - 0s 10ms/step - loss: 5.1984 - val_loss: 10.9554\n",
      "Epoch 180/300\n",
      "32/32 [==============================] - 0s 10ms/step - loss: 8.3577 - val_loss: 13.1466\n",
      "Epoch 181/300\n",
      "32/32 [==============================] - 0s 10ms/step - loss: 12.8987 - val_loss: 15.0648\n",
      "Epoch 182/300\n",
      "32/32 [==============================] - 0s 10ms/step - loss: 19.2218 - val_loss: 14.5127\n",
      "Epoch 183/300\n",
      "32/32 [==============================] - 0s 10ms/step - loss: 19.0443 - val_loss: 11.6405\n",
      "Epoch 184/300\n",
      "32/32 [==============================] - 0s 10ms/step - loss: 14.3565 - val_loss: 10.4590\n",
      "Epoch 185/300\n",
      "32/32 [==============================] - 0s 10ms/step - loss: 9.6380 - val_loss: 9.7870\n",
      "Epoch 186/300\n",
      "32/32 [==============================] - 0s 10ms/step - loss: 5.2201 - val_loss: 22.4923\n",
      "Epoch 187/300\n",
      "32/32 [==============================] - 0s 10ms/step - loss: 4.2766 - val_loss: 10.0865\n",
      "Epoch 188/300\n",
      "32/32 [==============================] - 0s 10ms/step - loss: 4.3769 - val_loss: 9.5344\n",
      "Epoch 189/300\n",
      "32/32 [==============================] - 0s 10ms/step - loss: 3.6670 - val_loss: 13.3004\n",
      "Epoch 190/300\n",
      "32/32 [==============================] - 0s 10ms/step - loss: 3.5924 - val_loss: 10.6626\n",
      "Epoch 191/300\n",
      "32/32 [==============================] - 0s 10ms/step - loss: 3.7880 - val_loss: 9.1367\n",
      "Epoch 192/300\n",
      "32/32 [==============================] - 0s 10ms/step - loss: 4.0196 - val_loss: 10.2936\n",
      "Epoch 193/300\n",
      "32/32 [==============================] - 0s 10ms/step - loss: 3.8793 - val_loss: 11.3897\n",
      "Epoch 194/300\n",
      "32/32 [==============================] - 0s 10ms/step - loss: 3.8637 - val_loss: 9.7041\n",
      "Epoch 195/300\n",
      "32/32 [==============================] - 0s 10ms/step - loss: 4.3102 - val_loss: 9.3257\n",
      "Epoch 196/300\n",
      "32/32 [==============================] - 0s 10ms/step - loss: 4.6505 - val_loss: 10.1678\n",
      "Epoch 197/300\n",
      "32/32 [==============================] - 0s 11ms/step - loss: 4.6885 - val_loss: 10.5877\n",
      "Epoch 198/300\n",
      "32/32 [==============================] - 0s 10ms/step - loss: 4.9697 - val_loss: 9.6698\n",
      "Epoch 199/300\n",
      "32/32 [==============================] - 0s 10ms/step - loss: 5.8149 - val_loss: 9.6028\n",
      "Epoch 200/300\n",
      "32/32 [==============================] - 0s 10ms/step - loss: 6.4598 - val_loss: 10.2288\n",
      "Epoch 201/300\n",
      "32/32 [==============================] - 0s 10ms/step - loss: 6.5695 - val_loss: 10.6389\n",
      "Epoch 202/300\n",
      "32/32 [==============================] - 0s 10ms/step - loss: 6.8389 - val_loss: 9.8747\n",
      "Epoch 203/300\n",
      "32/32 [==============================] - 0s 10ms/step - loss: 7.5840 - val_loss: 9.7286\n",
      "Epoch 204/300\n",
      "32/32 [==============================] - 0s 10ms/step - loss: 7.5259 - val_loss: 10.4608\n",
      "Epoch 205/300\n",
      "32/32 [==============================] - 0s 10ms/step - loss: 6.4737 - val_loss: 10.8751\n",
      "Epoch 206/300\n",
      "32/32 [==============================] - 0s 10ms/step - loss: 5.8264 - val_loss: 9.5504\n",
      "Epoch 207/300\n",
      "32/32 [==============================] - 0s 10ms/step - loss: 5.8874 - val_loss: 9.3900\n",
      "Epoch 208/300\n",
      "32/32 [==============================] - 0s 10ms/step - loss: 5.4361 - val_loss: 10.8705\n",
      "Epoch 209/300\n",
      "32/32 [==============================] - 0s 10ms/step - loss: 4.6122 - val_loss: 12.0244\n",
      "Epoch 210/300\n",
      "32/32 [==============================] - 0s 10ms/step - loss: 4.2024 - val_loss: 9.5252\n",
      "Epoch 211/300\n",
      "32/32 [==============================] - 0s 10ms/step - loss: 4.5570 - val_loss: 9.1134\n",
      "Epoch 212/300\n",
      "32/32 [==============================] - 0s 10ms/step - loss: 4.6372 - val_loss: 10.6437\n",
      "Epoch 213/300\n",
      "32/32 [==============================] - 0s 10ms/step - loss: 4.3164 - val_loss: 13.3857\n",
      "Epoch 214/300\n",
      "32/32 [==============================] - 0s 10ms/step - loss: 4.1171 - val_loss: 9.6038\n",
      "Epoch 215/300\n",
      "32/32 [==============================] - 0s 10ms/step - loss: 4.9413 - val_loss: 9.3564\n",
      "Epoch 216/300\n",
      "32/32 [==============================] - 0s 10ms/step - loss: 5.7751 - val_loss: 9.8790\n",
      "Epoch 217/300\n",
      "32/32 [==============================] - 0s 10ms/step - loss: 5.7876 - val_loss: 16.0620\n",
      "Epoch 218/300\n",
      "32/32 [==============================] - 0s 10ms/step - loss: 5.7304 - val_loss: 10.0311\n",
      "Epoch 219/300\n",
      "32/32 [==============================] - 0s 10ms/step - loss: 7.3234 - val_loss: 11.6998\n",
      "Epoch 220/300\n",
      "32/32 [==============================] - 0s 10ms/step - loss: 9.5135 - val_loss: 9.9365\n",
      "Epoch 221/300\n",
      "32/32 [==============================] - 0s 10ms/step - loss: 8.2962 - val_loss: 25.4419\n",
      "Epoch 222/300\n",
      "32/32 [==============================] - 0s 10ms/step - loss: 7.2134 - val_loss: 9.9298\n",
      "Epoch 223/300\n",
      "32/32 [==============================] - 0s 10ms/step - loss: 7.8074 - val_loss: 9.0766\n",
      "Epoch 224/300\n",
      "32/32 [==============================] - 0s 10ms/step - loss: 5.0831 - val_loss: 11.2545\n",
      "Epoch 225/300\n",
      "32/32 [==============================] - 0s 10ms/step - loss: 4.5271 - val_loss: 21.4661\n",
      "Epoch 226/300\n",
      "32/32 [==============================] - 0s 10ms/step - loss: 4.4661 - val_loss: 9.1359\n",
      "Epoch 227/300\n",
      "32/32 [==============================] - 0s 10ms/step - loss: 5.6204 - val_loss: 13.0104\n",
      "Epoch 228/300\n",
      "32/32 [==============================] - 0s 10ms/step - loss: 3.3813 - val_loss: 12.6863\n",
      "Epoch 229/300\n",
      "32/32 [==============================] - 0s 10ms/step - loss: 3.2730 - val_loss: 13.9108\n",
      "Epoch 230/300\n",
      "32/32 [==============================] - 0s 11ms/step - loss: 3.6363 - val_loss: 8.5852\n",
      "Epoch 231/300\n",
      "32/32 [==============================] - 0s 10ms/step - loss: 4.1988 - val_loss: 15.9665\n",
      "Epoch 232/300\n",
      "32/32 [==============================] - 0s 10ms/step - loss: 3.8678 - val_loss: 11.8279\n",
      "Epoch 233/300\n",
      "32/32 [==============================] - 0s 10ms/step - loss: 4.5481 - val_loss: 16.3120\n",
      "Epoch 234/300\n",
      "32/32 [==============================] - 0s 10ms/step - loss: 5.1822 - val_loss: 9.6475\n",
      "Epoch 235/300\n",
      "32/32 [==============================] - 0s 10ms/step - loss: 6.9307 - val_loss: 24.4748\n",
      "Epoch 236/300\n",
      "32/32 [==============================] - 0s 10ms/step - loss: 7.7973 - val_loss: 12.8011\n",
      "Epoch 237/300\n",
      "32/32 [==============================] - 0s 10ms/step - loss: 10.7174 - val_loss: 24.4917\n",
      "Epoch 238/300\n",
      "32/32 [==============================] - 0s 10ms/step - loss: 9.3655 - val_loss: 10.1503\n",
      "Epoch 239/300\n",
      "32/32 [==============================] - 0s 10ms/step - loss: 10.1827 - val_loss: 20.9088\n",
      "Epoch 240/300\n",
      "32/32 [==============================] - 0s 10ms/step - loss: 6.8081 - val_loss: 8.6045\n",
      "Epoch 241/300\n"
     ]
    },
    {
     "name": "stdout",
     "output_type": "stream",
     "text": [
      "32/32 [==============================] - 0s 10ms/step - loss: 6.3271 - val_loss: 13.1051\n",
      "Epoch 242/300\n",
      "32/32 [==============================] - 0s 12ms/step - loss: 3.9144 - val_loss: 8.5347\n",
      "Epoch 243/300\n",
      "32/32 [==============================] - 0s 10ms/step - loss: 3.7247 - val_loss: 11.8210\n",
      "Epoch 244/300\n",
      "32/32 [==============================] - 0s 10ms/step - loss: 3.2371 - val_loss: 8.4324\n",
      "Epoch 245/300\n",
      "32/32 [==============================] - 0s 10ms/step - loss: 3.6107 - val_loss: 13.0758\n",
      "Epoch 246/300\n",
      "32/32 [==============================] - 0s 10ms/step - loss: 3.6236 - val_loss: 8.8367\n",
      "Epoch 247/300\n",
      "32/32 [==============================] - 0s 10ms/step - loss: 4.4685 - val_loss: 14.3722\n",
      "Epoch 248/300\n",
      "32/32 [==============================] - 0s 10ms/step - loss: 4.7802 - val_loss: 10.5110\n",
      "Epoch 249/300\n",
      "32/32 [==============================] - 0s 9ms/step - loss: 6.9228 - val_loss: 18.5903\n",
      "Epoch 250/300\n",
      "32/32 [==============================] - 0s 10ms/step - loss: 7.6246 - val_loss: 14.0531\n",
      "Epoch 251/300\n",
      "32/32 [==============================] - 0s 10ms/step - loss: 11.7200 - val_loss: 25.6043\n",
      "Epoch 252/300\n",
      "32/32 [==============================] - 0s 10ms/step - loss: 10.7300 - val_loss: 16.8860\n",
      "Epoch 253/300\n",
      "32/32 [==============================] - 0s 10ms/step - loss: 15.5104 - val_loss: 38.3401\n",
      "Epoch 254/300\n",
      "32/32 [==============================] - 0s 10ms/step - loss: 12.8885 - val_loss: 18.4614\n",
      "Epoch 255/300\n",
      "32/32 [==============================] - 0s 10ms/step - loss: 30.7416 - val_loss: 54.3582\n",
      "Epoch 256/300\n",
      "32/32 [==============================] - 0s 10ms/step - loss: 47.6522 - val_loss: 26.3131\n",
      "Epoch 257/300\n",
      "32/32 [==============================] - 0s 11ms/step - loss: 183.1289 - val_loss: 226.6233\n",
      "Epoch 258/300\n",
      "32/32 [==============================] - 0s 10ms/step - loss: 101.0441 - val_loss: 110.3608\n",
      "Epoch 259/300\n",
      "32/32 [==============================] - 0s 10ms/step - loss: 119.8252 - val_loss: 191.3744\n",
      "Epoch 260/300\n",
      "32/32 [==============================] - 0s 11ms/step - loss: 36.0960 - val_loss: 44.7104\n",
      "Epoch 261/300\n",
      "32/32 [==============================] - 0s 10ms/step - loss: 13.7218 - val_loss: 17.1418\n",
      "Epoch 262/300\n",
      "32/32 [==============================] - 0s 12ms/step - loss: 6.3680 - val_loss: 13.6543\n",
      "Epoch 263/300\n",
      "32/32 [==============================] - 0s 10ms/step - loss: 4.7134 - val_loss: 13.6279\n",
      "Epoch 264/300\n",
      "32/32 [==============================] - 0s 10ms/step - loss: 4.3519 - val_loss: 11.9996\n",
      "Epoch 265/300\n",
      "32/32 [==============================] - 0s 10ms/step - loss: 4.2355 - val_loss: 12.1417\n",
      "Epoch 266/300\n",
      "32/32 [==============================] - 0s 10ms/step - loss: 4.0882 - val_loss: 11.6400\n",
      "Epoch 267/300\n",
      "32/32 [==============================] - 0s 10ms/step - loss: 3.9959 - val_loss: 11.5191\n",
      "Epoch 268/300\n",
      "32/32 [==============================] - 0s 10ms/step - loss: 3.9064 - val_loss: 11.3014\n",
      "Epoch 269/300\n",
      "32/32 [==============================] - 0s 10ms/step - loss: 3.8351 - val_loss: 11.1958\n",
      "Epoch 270/300\n",
      "32/32 [==============================] - 0s 10ms/step - loss: 3.7681 - val_loss: 11.0533\n",
      "Epoch 271/300\n",
      "32/32 [==============================] - 0s 10ms/step - loss: 3.7093 - val_loss: 10.9772\n",
      "Epoch 272/300\n",
      "32/32 [==============================] - 0s 10ms/step - loss: 3.6538 - val_loss: 10.8743\n",
      "Epoch 273/300\n",
      "32/32 [==============================] - 0s 10ms/step - loss: 3.6025 - val_loss: 10.8090\n",
      "Epoch 274/300\n",
      "32/32 [==============================] - 0s 10ms/step - loss: 3.5531 - val_loss: 10.7263\n",
      "Epoch 275/300\n",
      "32/32 [==============================] - 0s 10ms/step - loss: 3.5059 - val_loss: 10.6688\n",
      "Epoch 276/300\n",
      "32/32 [==============================] - 0s 10ms/step - loss: 3.4602 - val_loss: 10.6021\n",
      "Epoch 277/300\n",
      "32/32 [==============================] - 0s 10ms/step - loss: 3.4167 - val_loss: 10.5534\n",
      "Epoch 278/300\n",
      "32/32 [==============================] - 0s 10ms/step - loss: 3.3749 - val_loss: 10.4996\n",
      "Epoch 279/300\n",
      "32/32 [==============================] - 0s 10ms/step - loss: 3.3349 - val_loss: 10.4615\n",
      "Epoch 280/300\n",
      "32/32 [==============================] - 0s 10ms/step - loss: 3.2966 - val_loss: 10.4186\n",
      "Epoch 281/300\n",
      "32/32 [==============================] - 0s 10ms/step - loss: 3.2602 - val_loss: 10.3900\n",
      "Epoch 282/300\n",
      "32/32 [==============================] - 0s 10ms/step - loss: 3.2254 - val_loss: 10.3534\n",
      "Epoch 283/300\n",
      "32/32 [==============================] - 0s 10ms/step - loss: 3.1919 - val_loss: 10.3290\n",
      "Epoch 284/300\n",
      "32/32 [==============================] - 0s 10ms/step - loss: 3.1600 - val_loss: 10.2987\n",
      "Epoch 285/300\n",
      "32/32 [==============================] - 0s 10ms/step - loss: 3.1290 - val_loss: 10.2797\n",
      "Epoch 286/300\n",
      "32/32 [==============================] - 0s 10ms/step - loss: 3.0999 - val_loss: 10.2489\n",
      "Epoch 287/300\n",
      "32/32 [==============================] - 0s 10ms/step - loss: 3.0719 - val_loss: 10.2302\n",
      "Epoch 288/300\n",
      "32/32 [==============================] - 0s 10ms/step - loss: 3.0457 - val_loss: 10.2018\n",
      "Epoch 289/300\n",
      "32/32 [==============================] - 0s 10ms/step - loss: 3.0210 - val_loss: 10.1828\n",
      "Epoch 290/300\n",
      "32/32 [==============================] - 0s 10ms/step - loss: 2.9985 - val_loss: 10.1544\n",
      "Epoch 291/300\n",
      "32/32 [==============================] - 0s 10ms/step - loss: 2.9778 - val_loss: 10.1385\n",
      "Epoch 292/300\n",
      "32/32 [==============================] - 0s 10ms/step - loss: 2.9597 - val_loss: 10.1147\n",
      "Epoch 293/300\n",
      "32/32 [==============================] - 0s 10ms/step - loss: 2.9436 - val_loss: 10.1047\n",
      "Epoch 294/300\n",
      "32/32 [==============================] - 0s 10ms/step - loss: 2.9319 - val_loss: 10.0870\n",
      "Epoch 295/300\n",
      "32/32 [==============================] - 0s 10ms/step - loss: 2.9236 - val_loss: 10.0833\n",
      "Epoch 296/300\n",
      "32/32 [==============================] - 0s 9ms/step - loss: 2.9228 - val_loss: 10.0653\n",
      "Epoch 297/300\n",
      "32/32 [==============================] - 0s 10ms/step - loss: 2.9290 - val_loss: 10.0680\n",
      "Epoch 298/300\n",
      "32/32 [==============================] - 0s 10ms/step - loss: 2.9488 - val_loss: 10.0555\n",
      "Epoch 299/300\n",
      "32/32 [==============================] - 0s 10ms/step - loss: 2.9841 - val_loss: 10.0662\n",
      "Epoch 300/300\n",
      "32/32 [==============================] - 0s 10ms/step - loss: 3.0489 - val_loss: 10.0652\n"
     ]
    },
    {
     "name": "stderr",
     "output_type": "stream",
     "text": [
      "2022-04-10 18:53:27.681973: I tensorflow/core/grappler/optimizers/custom_graph_optimizer_registry.cc:113] Plugin optimizer for device_type GPU is enabled.\n",
      "2022-04-10 18:53:27.746476: I tensorflow/core/grappler/optimizers/custom_graph_optimizer_registry.cc:113] Plugin optimizer for device_type GPU is enabled.\n",
      "2022-04-10 18:53:27.769072: I tensorflow/core/grappler/optimizers/custom_graph_optimizer_registry.cc:113] Plugin optimizer for device_type GPU is enabled.\n"
     ]
    }
   ],
   "source": [
    "es = EarlyStopping(monitor='val_loss', mode='min', verbose=1,patience=10,restore_best_weights = True)\n",
    "history_tech=model_tech.fit(\n",
    "    X_train, y_train,\n",
    "    epochs=300,\n",
    "    batch_size=64,\n",
    "    validation_split=0.1,\n",
    "    verbose=1,\n",
    "    shuffle=False,\n",
    "#     callbacks=[es]\n",
    ")\n",
    "y_pred = model_tech.predict(X_test)"
   ]
  },
  {
   "cell_type": "code",
   "execution_count": 10,
   "id": "55aa57ad",
   "metadata": {},
   "outputs": [
    {
     "data": {
      "text/plain": [
       "<matplotlib.legend.Legend at 0x2817b68b0>"
      ]
     },
     "execution_count": 10,
     "metadata": {},
     "output_type": "execute_result"
    },
    {
     "data": {
      "image/png": "[encoded data removed]",
      "text/plain": [
       "<Figure size 432x288 with 1 Axes>"
      ]
     },
     "metadata": {
      "needs_background": "light"
     },
     "output_type": "display_data"
    }
   ],
   "source": [
    "plt.plot(history_tech.history['loss'], label='train')\n",
    "plt.plot(history_tech.history['val_loss'], label='test')\n",
    "plt.legend()"
   ]
  },
  {
   "cell_type": "code",
   "execution_count": 11,
   "id": "477f1fb7",
   "metadata": {},
   "outputs": [
    {
     "data": {
      "image/png": "[encoded data removed]",
      "text/plain": [
       "<Figure size 432x288 with 1 Axes>"
      ]
     },
     "metadata": {
      "needs_background": "light"
     },
     "output_type": "display_data"
    }
   ],
   "source": [
    "plt.plot(np.arange(0, len(y_train)), y_train, 'g', label=\"history\")\n",
    "plt.plot(np.arange(len(y_train), len(y_train) + len(y_test)), y_test, marker='.', label=\"true\")\n",
    "plt.plot(np.arange(len(y_train), len(y_train) + len(y_test)), y_pred, 'r', label=\"prediction\")\n",
    "plt.ylabel('Value')\n",
    "plt.xlabel('Time Step')\n",
    "plt.legend()\n",
    "plt.show()"
   ]
  },
  {
   "cell_type": "code",
   "execution_count": 12,
   "id": "134553b2",
   "metadata": {
    "scrolled": true
   },
   "outputs": [
    {
     "data": {
      "image/png": "[encoded data removed]",
      "text/plain": [
       "<Figure size 432x288 with 1 Axes>"
      ]
     },
     "metadata": {
      "needs_background": "light"
     },
     "output_type": "display_data"
    }
   ],
   "source": [
    "# y_test = sc.inverse_transform(y_test)\n",
    "# y_pred = sc.inverse_transform(y_pred)\n",
    "plt.plot(y_test, marker='.', label=\"true\")\n",
    "plt.plot(y_pred, 'r', label=\"prediction\")\n",
    "plt.ylabel('Value')\n",
    "plt.xlabel('Time Step')\n",
    "plt.legend()\n",
    "plt.show();"
   ]
  },
  {
   "cell_type": "code",
   "execution_count": 13,
   "id": "0ef7fe0c",
   "metadata": {},
   "outputs": [
    {
     "data": {
      "text/plain": [
       "0.9867090582322439"
      ]
     },
     "execution_count": 13,
     "metadata": {},
     "output_type": "execute_result"
    }
   ],
   "source": [
    "r2_score(y_test,y_pred)"
   ]
  },
  {
   "cell_type": "code",
   "execution_count": 14,
   "id": "7cf212a7",
   "metadata": {},
   "outputs": [
    {
     "data": {
      "text/plain": [
       "0.03809108805275454"
      ]
     },
     "execution_count": 14,
     "metadata": {},
     "output_type": "execute_result"
    }
   ],
   "source": [
    "mean_absolute_percentage_error(y_test,y_pred)"
   ]
  },
  {
   "cell_type": "code",
   "execution_count": 15,
   "id": "a0cd9d21",
   "metadata": {},
   "outputs": [
    {
     "data": {
      "text/plain": [
       "1.690275494869179"
      ]
     },
     "execution_count": 15,
     "metadata": {},
     "output_type": "execute_result"
    }
   ],
   "source": [
    "mean_squared_error(y_test,y_pred,squared=False)"
   ]
  },
  {
   "cell_type": "code",
   "execution_count": 16,
   "id": "325a7cdd",
   "metadata": {},
   "outputs": [
    {
     "name": "stderr",
     "output_type": "stream",
     "text": [
      "/var/folders/8h/w0jn89bj2w5g85gj4ck7w0t00000gn/T/ipykernel_48527/2648236666.py:1: FutureWarning: In a future version of pandas all arguments of DataFrame.drop except for the argument 'labels' will be keyword-only.\n",
      "  x_val=data_val.drop(['Prediction'],1)\n"
     ]
    }
   ],
   "source": [
    "x_val=data_val.drop(['Prediction'],1)\n",
    "y_val=data_val['Prediction']\n",
    "x_val=sc.transform(x_val).reshape(x_val.shape[0],1,x_val.shape[1])\n",
    "y_val_pred=model_tech.predict(x_val)"
   ]
  },
  {
   "cell_type": "code",
   "execution_count": 17,
   "id": "529aefb2",
   "metadata": {},
   "outputs": [
    {
     "data": {
      "image/png": "[encoded data removed]",
      "text/plain": [
       "<Figure size 432x288 with 1 Axes>"
      ]
     },
     "metadata": {
      "needs_background": "light"
     },
     "output_type": "display_data"
    }
   ],
   "source": [
    "plt.plot(y_val.values, marker='.', label=\"true\")\n",
    "plt.plot(y_val_pred, 'r', marker='*',label=\"prediction\")\n",
    "plt.ylabel('Value')\n",
    "plt.xlabel('Time Step')\n",
    "plt.title('LSTM-0017-InfoGain-L1-batch64')\n",
    "plt.legend()\n",
    "plt.show()"
   ]
  },
  {
   "cell_type": "code",
   "execution_count": 18,
   "id": "3b9ce3a3",
   "metadata": {},
   "outputs": [
    {
     "data": {
      "text/plain": [
       "0.9272730110358178"
      ]
     },
     "execution_count": 18,
     "metadata": {},
     "output_type": "execute_result"
    }
   ],
   "source": [
    "r2_score(y_val,y_val_pred)"
   ]
  },
  {
   "cell_type": "code",
   "execution_count": 19,
   "id": "67bc6f38",
   "metadata": {},
   "outputs": [
    {
     "data": {
      "text/plain": [
       "0.016188949026288427"
      ]
     },
     "execution_count": 19,
     "metadata": {},
     "output_type": "execute_result"
    }
   ],
   "source": [
    "mean_absolute_percentage_error(y_val,y_val_pred)"
   ]
  },
  {
   "cell_type": "code",
   "execution_count": 20,
   "id": "7a79ea1f",
   "metadata": {},
   "outputs": [
    {
     "data": {
      "text/plain": [
       "1.0403797633163534"
      ]
     },
     "execution_count": 20,
     "metadata": {},
     "output_type": "execute_result"
    }
   ],
   "source": [
    "mean_squared_error(y_val.values,y_val_pred,squared=False)"
   ]
  },
  {
   "cell_type": "code",
   "execution_count": null,
   "id": "d8ab65e9",
   "metadata": {},
   "outputs": [],
   "source": []
  }
 ],
 "metadata": {
  "kernelspec": {
   "display_name": "Python 3 (ipykernel)",
   "language": "python",
   "name": "python3"
  },
  "language_info": {
   "codemirror_mode": {
    "name": "ipython",
    "version": 3
   },
   "file_extension": ".py",
   "mimetype": "text/x-python",
   "name": "python",
   "nbconvert_exporter": "python",
   "pygments_lexer": "ipython3",
   "version": "3.8.13"
  }
 },
 "nbformat": 4,
 "nbformat_minor": 5
}
