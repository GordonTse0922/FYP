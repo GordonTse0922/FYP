{
 "cells": [
  {
   "cell_type": "code",
   "execution_count": 1,
   "id": "eb9ae2e7",
   "metadata": {},
   "outputs": [],
   "source": [
    "import yfinance as yf\n",
    "import pandas as pd\n",
    "import numpy as np\n",
    "import matplotlib.pyplot as plt\n",
    "from sklearn.preprocessing import MinMaxScaler\n",
    "from sklearn.model_selection import train_test_split\n",
    "from sklearn.metrics import classification_report,accuracy_score, mean_squared_error,mean_absolute_percentage_error,r2_score\n",
    "import tensorflow as tf\n",
    "import talib\n",
    "from tensorflow import keras\n",
    "from sklearn.pipeline import make_pipeline\n",
    "from tensorflow.keras import regularizers"
   ]
  },
  {
   "cell_type": "code",
   "execution_count": 2,
   "id": "9ad5f74c",
   "metadata": {},
   "outputs": [
    {
     "name": "stdout",
     "output_type": "stream",
     "text": [
      "[*********************100%***********************]  1 of 1 completed\n"
     ]
    }
   ],
   "source": [
    "data=yf.download('0700.hk')"
   ]
  },
  {
   "cell_type": "code",
   "execution_count": 3,
   "id": "781ab9b7",
   "metadata": {
    "pycharm": {
     "name": "#%%\n"
    }
   },
   "outputs": [],
   "source": [
    "data['6day MA'] = data['Close'].rolling(window = 6).mean()\n",
    "data['12day MA'] = data['Close'].rolling(window = 12).mean()\n",
    "data['RSI'] = talib.RSI(data['Close'].values, timeperiod = 7)\n",
    "data['%R5'] = talib.WILLR(data['High'].values, data['Low'].values, data['Close'].values, 5)\n",
    "data['%R10'] = talib.WILLR(data['High'].values, data['Low'].values, data['Close'].values, 10)\n",
    "data['MI6']=talib.MOM(data['Close'],timeperiod=6)\n",
    "data['MI12']=talib.MOM(data['Close'],timeperiod=12)\n",
    "macd, macdsignal, macdhist = talib.MACD(data['Close'], fastperiod=12, slowperiod=26, signalperiod=9)\n",
    "data['EMA12']=talib.EMA(data['Close'], timeperiod=12)\n",
    "data['EMA26']=talib.EMA(data['Close'],timeperiod=26)\n",
    "data['MACD']=macd\n",
    "data['TR']=talib.TRANGE(data['High'],data['Low'],data['Close'])\n",
    "data['OSC6']=talib.CMO(data['Close'], timeperiod=6)\n",
    "data['OSC12']=talib.CMO(data['Close'], timeperiod=12)\n",
    "data['Prediction']=data['Close'].shift(-1)\n",
    "data.dropna(inplace=True)"
   ]
  },
  {
   "cell_type": "code",
   "execution_count": 4,
   "id": "3c05d9b9",
   "metadata": {
    "pycharm": {
     "name": "#%%\n"
    }
   },
   "outputs": [
    {
     "name": "stderr",
     "output_type": "stream",
     "text": [
      "/var/folders/8h/w0jn89bj2w5g85gj4ck7w0t00000gn/T/ipykernel_76531/3806124569.py:11: FutureWarning: In a future version of pandas all arguments of DataFrame.drop except for the argument 'labels' will be keyword-only.\n",
      "  backwardModel.fit(np.array(data.drop('Prediction',1)),data['Prediction'].values.ravel())\n",
      "[Parallel(n_jobs=-1)]: Using backend LokyBackend with 8 concurrent workers.\n",
      "[Parallel(n_jobs=-1)]: Done  14 out of  19 | elapsed:    3.9s remaining:    1.4s\n",
      "[Parallel(n_jobs=-1)]: Done  19 out of  19 | elapsed:    5.0s finished\n",
      "\n",
      "[2022-04-11 11:02:14] Features: 1/10 -- score: 0.28543649801228066[Parallel(n_jobs=-1)]: Using backend LokyBackend with 8 concurrent workers.\n",
      "[Parallel(n_jobs=-1)]: Done  13 out of  18 | elapsed:    4.8s remaining:    1.9s\n",
      "[Parallel(n_jobs=-1)]: Done  18 out of  18 | elapsed:    6.5s finished\n",
      "\n",
      "[2022-04-11 11:02:21] Features: 2/10 -- score: 0.2780703158985739[Parallel(n_jobs=-1)]: Using backend LokyBackend with 8 concurrent workers.\n",
      "[Parallel(n_jobs=-1)]: Done  11 out of  17 | elapsed:    5.8s remaining:    3.1s\n",
      "[Parallel(n_jobs=-1)]: Done  17 out of  17 | elapsed:    7.9s finished\n",
      "\n",
      "[2022-04-11 11:02:29] Features: 3/10 -- score: 0.24417458526439068[Parallel(n_jobs=-1)]: Using backend LokyBackend with 8 concurrent workers.\n",
      "[Parallel(n_jobs=-1)]: Done  10 out of  16 | elapsed:    7.6s remaining:    4.5s\n",
      "[Parallel(n_jobs=-1)]: Done  16 out of  16 | elapsed:    8.0s finished\n",
      "\n",
      "[2022-04-11 11:02:37] Features: 4/10 -- score: 0.23884208762823947[Parallel(n_jobs=-1)]: Using backend LokyBackend with 8 concurrent workers.\n",
      "[Parallel(n_jobs=-1)]: Done   8 out of  15 | elapsed:    4.7s remaining:    4.1s\n",
      "[Parallel(n_jobs=-1)]: Done  15 out of  15 | elapsed:    9.0s finished\n",
      "\n",
      "[2022-04-11 11:02:46] Features: 5/10 -- score: 0.22668378578922743[Parallel(n_jobs=-1)]: Using backend LokyBackend with 8 concurrent workers.\n",
      "[Parallel(n_jobs=-1)]: Done   7 out of  14 | elapsed:    5.7s remaining:    5.7s\n",
      "[Parallel(n_jobs=-1)]: Done  14 out of  14 | elapsed:   10.2s finished\n",
      "\n",
      "[2022-04-11 11:02:56] Features: 6/10 -- score: 0.22060214653817772[Parallel(n_jobs=-1)]: Using backend LokyBackend with 8 concurrent workers.\n",
      "[Parallel(n_jobs=-1)]: Done   5 out of  13 | elapsed:    6.2s remaining:    9.9s\n",
      "[Parallel(n_jobs=-1)]: Done  13 out of  13 | elapsed:   11.0s finished\n",
      "\n",
      "[2022-04-11 11:03:07] Features: 7/10 -- score: 0.21282216948198035[Parallel(n_jobs=-1)]: Using backend LokyBackend with 8 concurrent workers.\n",
      "[Parallel(n_jobs=-1)]: Done   4 out of  12 | elapsed:    7.5s remaining:   14.9s\n",
      "[Parallel(n_jobs=-1)]: Done  12 out of  12 | elapsed:   13.1s finished\n",
      "\n",
      "[2022-04-11 11:03:20] Features: 8/10 -- score: 0.2064598414451344[Parallel(n_jobs=-1)]: Using backend LokyBackend with 8 concurrent workers.\n",
      "[Parallel(n_jobs=-1)]: Done   2 out of  11 | elapsed:    8.2s remaining:   37.1s\n",
      "[Parallel(n_jobs=-1)]: Done   8 out of  11 | elapsed:    8.7s remaining:    3.3s\n",
      "[Parallel(n_jobs=-1)]: Done  11 out of  11 | elapsed:   13.8s finished\n",
      "\n",
      "[2022-04-11 11:03:34] Features: 9/10 -- score: 0.20322104599556506[Parallel(n_jobs=-1)]: Using backend LokyBackend with 8 concurrent workers.\n",
      "[Parallel(n_jobs=-1)]: Done   7 out of  10 | elapsed:    8.7s remaining:    3.7s\n",
      "[Parallel(n_jobs=-1)]: Done  10 out of  10 | elapsed:   14.5s finished\n",
      "\n",
      "[2022-04-11 11:03:48] Features: 10/10 -- score: 0.20017814768798603"
     ]
    },
    {
     "data": {
      "text/plain": [
       "SequentialFeatureSelector(estimator=RandomForestRegressor(), k_features=10,\n",
       "                          n_jobs=-1, scoring='r2', verbose=2)"
      ]
     },
     "execution_count": 4,
     "metadata": {},
     "output_type": "execute_result"
    }
   ],
   "source": [
    "from mlxtend.feature_selection import SequentialFeatureSelector as sfs\n",
    "from sklearn.ensemble import RandomForestRegressor\n",
    "#k_features=10 (It will get top 10 features best suited for prediction)\n",
    "#forward=False (Backward feature selection model)\n",
    "#verbose=2 (It will show details output as shown below.)\n",
    "#cv=5 (Kfold cross valiation: it will split the training set in 5 set and 4 will be using for training the model and 1 will using as validation)\n",
    "#n_jobs=-1 (Number of cores it will use for execution.-1 means it will use all the cores of CPU for execution.)\n",
    "#scoring='r2'(R-squared is a statistical measure of how close the data are to the fitted regression line)\n",
    "backwardModel=sfs(RandomForestRegressor(),k_features=10,forward=True,verbose=2,cv=5,n_jobs=-1,scoring='r2')\n",
    "#We will convert our training data into numpy array. If we will not convert it, model is not able to read some of the column names.\n",
    "backwardModel.fit(np.array(data.drop('Prediction',1)),data['Prediction'].values.ravel())"
   ]
  },
  {
   "cell_type": "code",
   "execution_count": 5,
   "id": "0c6d7cbf",
   "metadata": {},
   "outputs": [
    {
     "name": "stderr",
     "output_type": "stream",
     "text": [
      "/var/folders/8h/w0jn89bj2w5g85gj4ck7w0t00000gn/T/ipykernel_76531/1273356578.py:2: SettingWithCopyWarning: \n",
      "A value is trying to be set on a copy of a slice from a DataFrame.\n",
      "Try using .loc[row_indexer,col_indexer] = value instead\n",
      "\n",
      "See the caveats in the documentation: https://pandas.pydata.org/pandas-docs/stable/user_guide/indexing.html#returning-a-view-versus-a-copy\n",
      "  data['Prediction']=data['Close'].shift(-1)\n",
      "/var/folders/8h/w0jn89bj2w5g85gj4ck7w0t00000gn/T/ipykernel_76531/1273356578.py:3: SettingWithCopyWarning: \n",
      "A value is trying to be set on a copy of a slice from a DataFrame\n",
      "\n",
      "See the caveats in the documentation: https://pandas.pydata.org/pandas-docs/stable/user_guide/indexing.html#returning-a-view-versus-a-copy\n",
      "  data.dropna(inplace=True)\n"
     ]
    },
    {
     "data": {
      "text/html": [
       "<div>\n",
       "<style scoped>\n",
       "    .dataframe tbody tr th:only-of-type {\n",
       "        vertical-align: middle;\n",
       "    }\n",
       "\n",
       "    .dataframe tbody tr th {\n",
       "        vertical-align: top;\n",
       "    }\n",
       "\n",
       "    .dataframe thead th {\n",
       "        text-align: right;\n",
       "    }\n",
       "</style>\n",
       "<table border=\"1\" class=\"dataframe\">\n",
       "  <thead>\n",
       "    <tr style=\"text-align: right;\">\n",
       "      <th></th>\n",
       "      <th>Open</th>\n",
       "      <th>High</th>\n",
       "      <th>Low</th>\n",
       "      <th>Close</th>\n",
       "      <th>Adj Close</th>\n",
       "      <th>6day MA</th>\n",
       "      <th>%R10</th>\n",
       "      <th>EMA12</th>\n",
       "      <th>MACD</th>\n",
       "      <th>TR</th>\n",
       "      <th>Prediction</th>\n",
       "    </tr>\n",
       "    <tr>\n",
       "      <th>Date</th>\n",
       "      <th></th>\n",
       "      <th></th>\n",
       "      <th></th>\n",
       "      <th></th>\n",
       "      <th></th>\n",
       "      <th></th>\n",
       "      <th></th>\n",
       "      <th></th>\n",
       "      <th></th>\n",
       "      <th></th>\n",
       "      <th></th>\n",
       "    </tr>\n",
       "  </thead>\n",
       "  <tbody>\n",
       "    <tr>\n",
       "      <th>2022-03-31</th>\n",
       "      <td>382.399994</td>\n",
       "      <td>382.399994</td>\n",
       "      <td>372.600006</td>\n",
       "      <td>374.200012</td>\n",
       "      <td>374.200012</td>\n",
       "      <td>370.133336</td>\n",
       "      <td>-55.893518</td>\n",
       "      <td>375.079281</td>\n",
       "      <td>-13.633061</td>\n",
       "      <td>9.799988</td>\n",
       "      <td>378.799988</td>\n",
       "    </tr>\n",
       "    <tr>\n",
       "      <th>2022-04-01</th>\n",
       "      <td>367.000000</td>\n",
       "      <td>378.799988</td>\n",
       "      <td>362.200012</td>\n",
       "      <td>378.799988</td>\n",
       "      <td>378.799988</td>\n",
       "      <td>372.266668</td>\n",
       "      <td>-47.148318</td>\n",
       "      <td>375.651697</td>\n",
       "      <td>-12.326396</td>\n",
       "      <td>16.599976</td>\n",
       "      <td>390.000000</td>\n",
       "    </tr>\n",
       "    <tr>\n",
       "      <th>2022-04-04</th>\n",
       "      <td>388.799988</td>\n",
       "      <td>391.000000</td>\n",
       "      <td>383.799988</td>\n",
       "      <td>390.000000</td>\n",
       "      <td>390.000000</td>\n",
       "      <td>377.866669</td>\n",
       "      <td>-25.855522</td>\n",
       "      <td>377.859129</td>\n",
       "      <td>-10.268736</td>\n",
       "      <td>12.200012</td>\n",
       "      <td>381.000000</td>\n",
       "    </tr>\n",
       "    <tr>\n",
       "      <th>2022-04-06</th>\n",
       "      <td>383.000000</td>\n",
       "      <td>385.000000</td>\n",
       "      <td>380.000000</td>\n",
       "      <td>381.000000</td>\n",
       "      <td>381.000000</td>\n",
       "      <td>380.300003</td>\n",
       "      <td>-42.965786</td>\n",
       "      <td>378.342340</td>\n",
       "      <td>-9.257535</td>\n",
       "      <td>10.000000</td>\n",
       "      <td>374.399994</td>\n",
       "    </tr>\n",
       "    <tr>\n",
       "      <th>2022-04-07</th>\n",
       "      <td>375.600006</td>\n",
       "      <td>383.600006</td>\n",
       "      <td>373.799988</td>\n",
       "      <td>374.399994</td>\n",
       "      <td>374.399994</td>\n",
       "      <td>379.833333</td>\n",
       "      <td>-41.500015</td>\n",
       "      <td>377.735825</td>\n",
       "      <td>-8.886281</td>\n",
       "      <td>9.800018</td>\n",
       "      <td>369.600006</td>\n",
       "    </tr>\n",
       "  </tbody>\n",
       "</table>\n",
       "</div>"
      ],
      "text/plain": [
       "                  Open        High         Low       Close   Adj Close  \\\n",
       "Date                                                                     \n",
       "2022-03-31  382.399994  382.399994  372.600006  374.200012  374.200012   \n",
       "2022-04-01  367.000000  378.799988  362.200012  378.799988  378.799988   \n",
       "2022-04-04  388.799988  391.000000  383.799988  390.000000  390.000000   \n",
       "2022-04-06  383.000000  385.000000  380.000000  381.000000  381.000000   \n",
       "2022-04-07  375.600006  383.600006  373.799988  374.399994  374.399994   \n",
       "\n",
       "               6day MA       %R10       EMA12       MACD         TR  \\\n",
       "Date                                                                  \n",
       "2022-03-31  370.133336 -55.893518  375.079281 -13.633061   9.799988   \n",
       "2022-04-01  372.266668 -47.148318  375.651697 -12.326396  16.599976   \n",
       "2022-04-04  377.866669 -25.855522  377.859129 -10.268736  12.200012   \n",
       "2022-04-06  380.300003 -42.965786  378.342340  -9.257535  10.000000   \n",
       "2022-04-07  379.833333 -41.500015  377.735825  -8.886281   9.800018   \n",
       "\n",
       "            Prediction  \n",
       "Date                    \n",
       "2022-03-31  378.799988  \n",
       "2022-04-01  390.000000  \n",
       "2022-04-04  381.000000  \n",
       "2022-04-06  374.399994  \n",
       "2022-04-07  369.600006  "
      ]
     },
     "execution_count": 5,
     "metadata": {},
     "output_type": "execute_result"
    }
   ],
   "source": [
    "data=data[data.columns[list(backwardModel.k_feature_idx_)]]\n",
    "data['Prediction']=data['Close'].shift(-1)\n",
    "data.dropna(inplace=True)\n",
    "data_val=data[-100:]\n",
    "data=data[:-100]\n",
    "data_val.tail()"
   ]
  },
  {
   "cell_type": "code",
   "execution_count": 6,
   "id": "13b49c54",
   "metadata": {},
   "outputs": [],
   "source": [
    "sc = MinMaxScaler(feature_range = (-1, 1))"
   ]
  },
  {
   "cell_type": "code",
   "execution_count": 7,
   "id": "cb6680b2",
   "metadata": {},
   "outputs": [
    {
     "name": "stdout",
     "output_type": "stream",
     "text": [
      "(3843, 1, 10) (3843, 1) (428, 1, 10) (428, 1)\n"
     ]
    },
    {
     "name": "stderr",
     "output_type": "stream",
     "text": [
      "/var/folders/8h/w0jn89bj2w5g85gj4ck7w0t00000gn/T/ipykernel_76531/2420511516.py:1: FutureWarning: In a future version of pandas all arguments of DataFrame.drop except for the argument 'labels' will be keyword-only.\n",
      "  X=sc.fit_transform(data.drop('Prediction',1))\n"
     ]
    }
   ],
   "source": [
    "X=sc.fit_transform(data.drop('Prediction',1))\n",
    "Y = data[\"Prediction\"].values.reshape(-1,1)\n",
    "# Y=np.array(data[\"Close\"])\n",
    "X_train, X_test, y_train, y_test = train_test_split(X, Y, test_size=0.1)\n",
    "X_train = X_train.reshape((X_train.shape[0], 1, X_train.shape[1]))\n",
    "X_test = X_test.reshape((X_test.shape[0], 1, X_test.shape[1]))\n",
    "print(X_train.shape,y_train.shape,X_test.shape,y_test.shape)"
   ]
  },
  {
   "cell_type": "code",
   "execution_count": 8,
   "id": "bb8c5487",
   "metadata": {},
   "outputs": [
    {
     "name": "stderr",
     "output_type": "stream",
     "text": [
      "2022-04-11 11:03:49.094475: I tensorflow/core/common_runtime/pluggable_device/pluggable_device_factory.cc:305] Could not identify NUMA node of platform GPU ID 0, defaulting to 0. Your kernel may not have been built with NUMA support.\n",
      "2022-04-11 11:03:49.094724: I tensorflow/core/common_runtime/pluggable_device/pluggable_device_factory.cc:271] Created TensorFlow device (/job:localhost/replica:0/task:0/device:GPU:0 with 0 MB memory) -> physical PluggableDevice (device: 0, name: METAL, pci bus id: <undefined>)\n"
     ]
    },
    {
     "name": "stdout",
     "output_type": "stream",
     "text": [
      "Metal device set to: Apple M1 Pro\n"
     ]
    }
   ],
   "source": [
    "model_tech = keras.Sequential()\n",
    "model_tech.add(keras.layers.LSTM(\n",
    "  units=128,\n",
    "  input_shape=(X_train.shape[1], X_train.shape[2]),\n",
    "    return_sequences=True,\n",
    "    kernel_regularizer=regularizers.l2(0.01)\n",
    "))\n",
    "model_tech.add(keras.layers.LSTM(units=64))\n",
    "model_tech.add(keras.layers.Dense(units=64))\n",
    "model_tech.add(keras.layers.Dense(units=1))\n",
    "model_tech.compile(\n",
    "  loss='mean_squared_error',\n",
    "  optimizer=keras.optimizers.Adam(0.001)\n",
    ")"
   ]
  },
  {
   "cell_type": "code",
   "execution_count": null,
   "id": "428d66a4",
   "metadata": {
    "pycharm": {
     "is_executing": true
    },
    "scrolled": true
   },
   "outputs": [
    {
     "name": "stdout",
     "output_type": "stream",
     "text": [
      "Epoch 1/300\n"
     ]
    },
    {
     "name": "stderr",
     "output_type": "stream",
     "text": [
      "2022-04-11 11:03:49.605673: W tensorflow/core/platform/profile_utils/cpu_utils.cc:128] Failed to get CPU frequency: 0 Hz\n",
      "2022-04-11 11:03:50.856980: I tensorflow/core/grappler/optimizers/custom_graph_optimizer_registry.cc:113] Plugin optimizer for device_type GPU is enabled.\n",
      "2022-04-11 11:03:51.073285: I tensorflow/core/grappler/optimizers/custom_graph_optimizer_registry.cc:113] Plugin optimizer for device_type GPU is enabled.\n",
      "2022-04-11 11:03:51.110612: I tensorflow/core/grappler/optimizers/custom_graph_optimizer_registry.cc:113] Plugin optimizer for device_type GPU is enabled.\n",
      "2022-04-11 11:03:51.184912: I tensorflow/core/grappler/optimizers/custom_graph_optimizer_registry.cc:113] Plugin optimizer for device_type GPU is enabled.\n",
      "2022-04-11 11:03:51.248310: I tensorflow/core/grappler/optimizers/custom_graph_optimizer_registry.cc:113] Plugin optimizer for device_type GPU is enabled.\n"
     ]
    },
    {
     "name": "stdout",
     "output_type": "stream",
     "text": [
      "692/692 [==============================] - ETA: 0s - loss: 12596.6260"
     ]
    },
    {
     "name": "stderr",
     "output_type": "stream",
     "text": [
      "2022-04-11 11:03:58.630150: I tensorflow/core/grappler/optimizers/custom_graph_optimizer_registry.cc:113] Plugin optimizer for device_type GPU is enabled.\n",
      "2022-04-11 11:03:58.710503: I tensorflow/core/grappler/optimizers/custom_graph_optimizer_registry.cc:113] Plugin optimizer for device_type GPU is enabled.\n",
      "2022-04-11 11:03:58.732712: I tensorflow/core/grappler/optimizers/custom_graph_optimizer_registry.cc:113] Plugin optimizer for device_type GPU is enabled.\n"
     ]
    },
    {
     "name": "stdout",
     "output_type": "stream",
     "text": [
      "692/692 [==============================] - 9s 11ms/step - loss: 12596.6260 - val_loss: 591.8701\n",
      "Epoch 2/300\n",
      "692/692 [==============================] - 7s 10ms/step - loss: 253.2154 - val_loss: 79.9630\n",
      "Epoch 3/300\n",
      "692/692 [==============================] - 7s 10ms/step - loss: 94.5530 - val_loss: 57.9537\n",
      "Epoch 4/300\n",
      "692/692 [==============================] - 7s 10ms/step - loss: 66.6719 - val_loss: 58.5304\n",
      "Epoch 5/300\n",
      "692/692 [==============================] - 7s 10ms/step - loss: 55.6160 - val_loss: 62.2880\n",
      "Epoch 6/300\n",
      "692/692 [==============================] - 7s 10ms/step - loss: 48.8087 - val_loss: 69.4835\n",
      "Epoch 7/300\n",
      "692/692 [==============================] - 7s 10ms/step - loss: 44.9235 - val_loss: 76.3796\n",
      "Epoch 8/300\n",
      "692/692 [==============================] - 7s 10ms/step - loss: 43.1222 - val_loss: 78.8402\n",
      "Epoch 9/300\n",
      "692/692 [==============================] - 7s 10ms/step - loss: 42.0422 - val_loss: 81.0125\n",
      "Epoch 10/300\n",
      "692/692 [==============================] - 7s 10ms/step - loss: 41.3634 - val_loss: 82.3382\n",
      "Epoch 11/300\n",
      "692/692 [==============================] - 7s 10ms/step - loss: 40.9151 - val_loss: 82.7347\n",
      "Epoch 12/300\n",
      "692/692 [==============================] - 7s 10ms/step - loss: 40.5956 - val_loss: 82.5335\n",
      "Epoch 13/300\n",
      "692/692 [==============================] - 7s 10ms/step - loss: 40.3506 - val_loss: 82.0173\n",
      "Epoch 14/300\n",
      "692/692 [==============================] - 7s 9ms/step - loss: 40.1511 - val_loss: 81.3603\n",
      "Epoch 15/300\n",
      "692/692 [==============================] - 7s 10ms/step - loss: 39.9812 - val_loss: 80.6553\n",
      "Epoch 16/300\n",
      "692/692 [==============================] - 7s 10ms/step - loss: 39.8316 - val_loss: 79.9476\n",
      "Epoch 17/300\n",
      "692/692 [==============================] - 7s 9ms/step - loss: 39.6963 - val_loss: 79.2555\n",
      "Epoch 18/300\n",
      "692/692 [==============================] - 7s 10ms/step - loss: 39.5716 - val_loss: 78.5854\n",
      "Epoch 19/300\n",
      "692/692 [==============================] - 7s 10ms/step - loss: 39.4548 - val_loss: 77.9378\n",
      "Epoch 20/300\n",
      "692/692 [==============================] - 7s 10ms/step - loss: 39.3439 - val_loss: 77.3104\n",
      "Epoch 21/300\n",
      "692/692 [==============================] - 7s 9ms/step - loss: 39.2379 - val_loss: 76.7020\n",
      "Epoch 22/300\n",
      "692/692 [==============================] - 7s 10ms/step - loss: 39.1355 - val_loss: 76.1100\n",
      "Epoch 23/300\n",
      "692/692 [==============================] - 7s 10ms/step - loss: 39.0362 - val_loss: 75.5322\n",
      "Epoch 24/300\n",
      "692/692 [==============================] - 6s 9ms/step - loss: 38.9394 - val_loss: 74.9675\n",
      "Epoch 25/300\n",
      "692/692 [==============================] - 7s 9ms/step - loss: 38.8447 - val_loss: 74.4142\n",
      "Epoch 26/300\n",
      "692/692 [==============================] - 6s 9ms/step - loss: 38.7519 - val_loss: 73.8711\n",
      "Epoch 27/300\n",
      "692/692 [==============================] - 7s 10ms/step - loss: 38.6608 - val_loss: 73.3380\n",
      "Epoch 28/300\n",
      "692/692 [==============================] - 7s 9ms/step - loss: 38.5712 - val_loss: 72.8131\n",
      "Epoch 29/300\n",
      "692/692 [==============================] - 7s 10ms/step - loss: 38.4831 - val_loss: 72.2967\n",
      "Epoch 30/300\n",
      "692/692 [==============================] - 7s 9ms/step - loss: 38.3965 - val_loss: 71.7878\n",
      "Epoch 31/300\n",
      "692/692 [==============================] - 6s 9ms/step - loss: 38.3115 - val_loss: 71.2864\n",
      "Epoch 32/300\n",
      "692/692 [==============================] - 7s 10ms/step - loss: 38.2279 - val_loss: 70.7915\n",
      "Epoch 33/300\n",
      "692/692 [==============================] - 7s 10ms/step - loss: 38.1459 - val_loss: 70.3036\n",
      "Epoch 34/300\n",
      "692/692 [==============================] - 7s 10ms/step - loss: 38.0655 - val_loss: 69.8213\n",
      "Epoch 35/300\n",
      "692/692 [==============================] - 7s 10ms/step - loss: 37.9866 - val_loss: 69.3447\n",
      "Epoch 36/300\n",
      "692/692 [==============================] - 7s 10ms/step - loss: 37.9094 - val_loss: 68.8734\n",
      "Epoch 37/300\n",
      "692/692 [==============================] - 7s 11ms/step - loss: 37.8338 - val_loss: 68.4066\n",
      "Epoch 38/300\n",
      "692/692 [==============================] - 7s 11ms/step - loss: 37.7597 - val_loss: 67.9439\n",
      "Epoch 39/300\n",
      "692/692 [==============================] - 7s 10ms/step - loss: 37.6873 - val_loss: 67.4851\n",
      "Epoch 40/300\n",
      "692/692 [==============================] - 7s 10ms/step - loss: 37.6165 - val_loss: 67.0295\n",
      "Epoch 41/300\n",
      "692/692 [==============================] - 7s 10ms/step - loss: 37.5471 - val_loss: 66.5764\n",
      "Epoch 42/300\n",
      "692/692 [==============================] - 7s 10ms/step - loss: 37.4793 - val_loss: 66.1252\n",
      "Epoch 43/300\n",
      "692/692 [==============================] - 7s 10ms/step - loss: 37.4128 - val_loss: 65.6751\n",
      "Epoch 44/300\n",
      "692/692 [==============================] - 7s 10ms/step - loss: 37.3477 - val_loss: 65.2255\n",
      "Epoch 45/300\n",
      "692/692 [==============================] - 7s 10ms/step - loss: 37.2839 - val_loss: 64.7754\n",
      "Epoch 46/300\n",
      "692/692 [==============================] - 7s 10ms/step - loss: 37.2212 - val_loss: 64.3241\n",
      "Epoch 47/300\n",
      "692/692 [==============================] - 7s 10ms/step - loss: 37.1596 - val_loss: 63.8708\n",
      "Epoch 48/300\n",
      "692/692 [==============================] - 7s 10ms/step - loss: 37.0991 - val_loss: 63.4153\n",
      "Epoch 49/300\n",
      "692/692 [==============================] - 7s 10ms/step - loss: 37.0395 - val_loss: 62.9570\n",
      "Epoch 50/300\n",
      "692/692 [==============================] - 7s 10ms/step - loss: 36.9809 - val_loss: 62.4956\n",
      "Epoch 51/300\n",
      "692/692 [==============================] - 7s 10ms/step - loss: 36.9231 - val_loss: 62.0310\n",
      "Epoch 52/300\n",
      "692/692 [==============================] - 7s 11ms/step - loss: 36.8660 - val_loss: 61.5638\n",
      "Epoch 53/300\n",
      "692/692 [==============================] - 7s 10ms/step - loss: 36.8096 - val_loss: 61.0946\n",
      "Epoch 54/300\n",
      "692/692 [==============================] - 7s 10ms/step - loss: 36.7540 - val_loss: 60.6235\n",
      "Epoch 55/300\n",
      "692/692 [==============================] - 7s 10ms/step - loss: 36.6989 - val_loss: 60.1515\n",
      "Epoch 56/300\n",
      "692/692 [==============================] - 7s 9ms/step - loss: 36.6446 - val_loss: 59.6791\n",
      "Epoch 57/300\n",
      "692/692 [==============================] - 7s 10ms/step - loss: 36.5911 - val_loss: 59.2080\n",
      "Epoch 58/300\n",
      "692/692 [==============================] - 7s 10ms/step - loss: 36.5383 - val_loss: 58.7394\n",
      "Epoch 59/300\n",
      "692/692 [==============================] - 7s 10ms/step - loss: 36.4859 - val_loss: 58.2745\n",
      "Epoch 60/300\n",
      "692/692 [==============================] - 7s 10ms/step - loss: 36.4335 - val_loss: 57.8131\n",
      "Epoch 61/300\n",
      "692/692 [==============================] - 6s 9ms/step - loss: 36.3809 - val_loss: 57.3573\n",
      "Epoch 62/300\n",
      "692/692 [==============================] - 7s 10ms/step - loss: 36.3277 - val_loss: 56.9081\n",
      "Epoch 63/300\n",
      "692/692 [==============================] - 7s 10ms/step - loss: 36.2739 - val_loss: 56.4665\n",
      "Epoch 64/300\n",
      "523/692 [=====================>........] - ETA: 1s - loss: 34.3497"
     ]
    }
   ],
   "source": [
    "history_tech=model_tech.fit(\n",
    "    X_train, y_train,\n",
    "    epochs=300,\n",
    "    batch_size=5,\n",
    "    validation_split=0.1,\n",
    "    verbose=1,\n",
    "    shuffle=False\n",
    ")\n",
    "y_pred = model_tech.predict(X_test)"
   ]
  },
  {
   "cell_type": "code",
   "execution_count": null,
   "id": "55aa57ad",
   "metadata": {},
   "outputs": [],
   "source": [
    "plt.plot(history_tech.history['loss'], label='train')\n",
    "plt.plot(history_tech.history['val_loss'], label='test')\n",
    "plt.legend()"
   ]
  },
  {
   "cell_type": "code",
   "execution_count": null,
   "id": "477f1fb7",
   "metadata": {},
   "outputs": [],
   "source": [
    "plt.plot(np.arange(0, len(y_train)), y_train, 'g', label=\"history\")\n",
    "plt.plot(np.arange(len(y_train), len(y_train) + len(y_test)), y_test, marker='.', label=\"true\")\n",
    "plt.plot(np.arange(len(y_train), len(y_train) + len(y_test)), y_pred, 'r', label=\"prediction\")\n",
    "plt.ylabel('Value')\n",
    "plt.xlabel('Time Step')\n",
    "plt.legend()\n",
    "plt.show();"
   ]
  },
  {
   "cell_type": "code",
   "execution_count": null,
   "id": "134553b2",
   "metadata": {
    "scrolled": true
   },
   "outputs": [],
   "source": [
    "# y_test = sc.inverse_transform(y_test)\n",
    "# y_pred = sc.inverse_transform(y_pred)\n",
    "plt.plot(y_test, marker='.', label=\"true\")\n",
    "plt.plot(y_pred, 'r', label=\"prediction\")\n",
    "plt.ylabel('Value')\n",
    "plt.xlabel('Time Step')\n",
    "plt.legend()\n",
    "plt.show();"
   ]
  },
  {
   "cell_type": "code",
   "execution_count": null,
   "id": "0ef7fe0c",
   "metadata": {},
   "outputs": [],
   "source": [
    "r2_score(y_test,y_pred)"
   ]
  },
  {
   "cell_type": "code",
   "execution_count": null,
   "id": "7cf212a7",
   "metadata": {},
   "outputs": [],
   "source": [
    "mean_absolute_percentage_error(y_test,y_pred)"
   ]
  },
  {
   "cell_type": "code",
   "execution_count": null,
   "id": "a0cd9d21",
   "metadata": {},
   "outputs": [],
   "source": [
    "mean_squared_error(y_test,y_pred,squared=False)"
   ]
  },
  {
   "cell_type": "code",
   "execution_count": null,
   "id": "325a7cdd",
   "metadata": {},
   "outputs": [],
   "source": [
    "x_val=data_val.drop('Prediction',1)\n",
    "y_val=data_val['Prediction']\n",
    "x_val=sc.transform(x_val).reshape(x_val.shape[0],1,x_val.shape[1])\n",
    "y_val_pred=model_tech.predict(x_val)"
   ]
  },
  {
   "cell_type": "code",
   "execution_count": null,
   "id": "529aefb2",
   "metadata": {},
   "outputs": [],
   "source": [
    "plt.plot(y_val.values, marker='.', label=\"true\")\n",
    "plt.plot(y_val_pred, 'r', marker='*',label=\"prediction\")\n",
    "plt.ylabel('Value')\n",
    "plt.xlabel('Time Step')\n",
    "plt.legend()\n",
    "plt.show()"
   ]
  },
  {
   "cell_type": "code",
   "execution_count": null,
   "id": "3b9ce3a3",
   "metadata": {},
   "outputs": [],
   "source": [
    "r2_score(y_val,y_val_pred)"
   ]
  },
  {
   "cell_type": "code",
   "execution_count": null,
   "id": "67bc6f38",
   "metadata": {},
   "outputs": [],
   "source": [
    "mean_absolute_percentage_error(y_val,y_val_pred)"
   ]
  },
  {
   "cell_type": "code",
   "execution_count": null,
   "id": "7a79ea1f",
   "metadata": {},
   "outputs": [],
   "source": [
    "mean_squared_error(y_val.values,y_val_pred,squared=False)"
   ]
  },
  {
   "cell_type": "code",
   "execution_count": null,
   "id": "d8ab65e9",
   "metadata": {},
   "outputs": [],
   "source": []
  }
 ],
 "metadata": {
  "kernelspec": {
   "display_name": "Python 3 (ipykernel)",
   "language": "python",
   "name": "python3"
  },
  "language_info": {
   "codemirror_mode": {
    "name": "ipython",
    "version": 3
   },
   "file_extension": ".py",
   "mimetype": "text/x-python",
   "name": "python",
   "nbconvert_exporter": "python",
   "pygments_lexer": "ipython3",
   "version": "3.8.13"
  }
 },
 "nbformat": 4,
 "nbformat_minor": 5
}
