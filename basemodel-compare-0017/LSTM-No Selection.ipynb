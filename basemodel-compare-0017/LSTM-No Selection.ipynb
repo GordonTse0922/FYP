{
 "cells": [
  {
   "cell_type": "code",
   "execution_count": 1,
   "id": "eb9ae2e7",
   "metadata": {},
   "outputs": [],
   "source": [
    "import yfinance as yf\n",
    "import pandas as pd\n",
    "import numpy as np\n",
    "import matplotlib.pyplot as plt\n",
    "from sklearn.preprocessing import MinMaxScaler\n",
    "from sklearn.model_selection import train_test_split\n",
    "from sklearn.metrics import classification_report,accuracy_score, mean_squared_error,mean_absolute_percentage_error,r2_score\n",
    "import tensorflow as tf\n",
    "import talib\n",
    "from tensorflow import keras\n",
    "from sklearn.pipeline import make_pipeline\n",
    "from tensorflow.keras import regularizers\n",
    "from keras.callbacks import EarlyStopping"
   ]
  },
  {
   "cell_type": "code",
   "execution_count": 2,
   "id": "9ad5f74c",
   "metadata": {},
   "outputs": [
    {
     "name": "stdout",
     "output_type": "stream",
     "text": [
      "[*********************100%***********************]  1 of 1 completed\n"
     ]
    }
   ],
   "source": [
    "data=yf.download('0017.hk')"
   ]
  },
  {
   "cell_type": "code",
   "execution_count": 3,
   "id": "781ab9b7",
   "metadata": {
    "pycharm": {
     "name": "#%%\n"
    }
   },
   "outputs": [],
   "source": [
    "data['6day MA'] = data['Close'].rolling(window = 6).mean()\n",
    "data['12day MA'] = data['Close'].rolling(window = 12).mean()\n",
    "data['RSI'] = talib.RSI(data['Close'].values, timeperiod = 7)\n",
    "data['%R5'] = talib.WILLR(data['High'].values, data['Low'].values, data['Close'].values, 5)\n",
    "data['%R10'] = talib.WILLR(data['High'].values, data['Low'].values, data['Close'].values, 10)\n",
    "data['MI6']=talib.MOM(data['Close'],timeperiod=6)\n",
    "data['MI12']=talib.MOM(data['Close'],timeperiod=12)\n",
    "macd, macdsignal, macdhist = talib.MACD(data['Close'], fastperiod=12, slowperiod=26, signalperiod=9)\n",
    "data['EMA12']=talib.EMA(data['Close'], timeperiod=12)\n",
    "data['EMA26']=talib.EMA(data['Close'],timeperiod=26)\n",
    "data['MACD']=macd\n",
    "data['TR']=talib.TRANGE(data['High'],data['Low'],data['Close'])\n",
    "data['OSC6']=talib.CMO(data['Close'], timeperiod=6)\n",
    "data['OSC12']=talib.CMO(data['Close'], timeperiod=12)\n",
    "data['Prediction']=data['Close'].shift(-1)\n",
    "data.dropna(inplace=True)"
   ]
  },
  {
   "cell_type": "code",
   "execution_count": 4,
   "id": "e1036fe8",
   "metadata": {},
   "outputs": [
    {
     "data": {
      "text/html": [
       "<div>\n",
       "<style scoped>\n",
       "    .dataframe tbody tr th:only-of-type {\n",
       "        vertical-align: middle;\n",
       "    }\n",
       "\n",
       "    .dataframe tbody tr th {\n",
       "        vertical-align: top;\n",
       "    }\n",
       "\n",
       "    .dataframe thead th {\n",
       "        text-align: right;\n",
       "    }\n",
       "</style>\n",
       "<table border=\"1\" class=\"dataframe\">\n",
       "  <thead>\n",
       "    <tr style=\"text-align: right;\">\n",
       "      <th></th>\n",
       "      <th>Open</th>\n",
       "      <th>High</th>\n",
       "      <th>Low</th>\n",
       "      <th>Close</th>\n",
       "      <th>Adj Close</th>\n",
       "      <th>Volume</th>\n",
       "      <th>6day MA</th>\n",
       "      <th>12day MA</th>\n",
       "      <th>RSI</th>\n",
       "      <th>%R5</th>\n",
       "      <th>%R10</th>\n",
       "      <th>MI6</th>\n",
       "      <th>MI12</th>\n",
       "      <th>EMA12</th>\n",
       "      <th>EMA26</th>\n",
       "      <th>MACD</th>\n",
       "      <th>TR</th>\n",
       "      <th>OSC6</th>\n",
       "      <th>OSC12</th>\n",
       "      <th>Prediction</th>\n",
       "    </tr>\n",
       "    <tr>\n",
       "      <th>Date</th>\n",
       "      <th></th>\n",
       "      <th></th>\n",
       "      <th></th>\n",
       "      <th></th>\n",
       "      <th></th>\n",
       "      <th></th>\n",
       "      <th></th>\n",
       "      <th></th>\n",
       "      <th></th>\n",
       "      <th></th>\n",
       "      <th></th>\n",
       "      <th></th>\n",
       "      <th></th>\n",
       "      <th></th>\n",
       "      <th></th>\n",
       "      <th></th>\n",
       "      <th></th>\n",
       "      <th></th>\n",
       "      <th></th>\n",
       "      <th></th>\n",
       "    </tr>\n",
       "  </thead>\n",
       "  <tbody>\n",
       "    <tr>\n",
       "      <th>2010-03-25</th>\n",
       "      <td>51.959129</td>\n",
       "      <td>52.710182</td>\n",
       "      <td>51.344631</td>\n",
       "      <td>52.300514</td>\n",
       "      <td>29.860735</td>\n",
       "      <td>2536219.0</td>\n",
       "      <td>52.493969</td>\n",
       "      <td>52.328966</td>\n",
       "      <td>55.096356</td>\n",
       "      <td>-57.575865</td>\n",
       "      <td>-59.459566</td>\n",
       "      <td>-0.751053</td>\n",
       "      <td>-0.477943</td>\n",
       "      <td>52.058910</td>\n",
       "      <td>51.053067</td>\n",
       "      <td>1.005843</td>\n",
       "      <td>1.365551</td>\n",
       "      <td>6.821374</td>\n",
       "      <td>16.425878</td>\n",
       "      <td>53.392956</td>\n",
       "    </tr>\n",
       "    <tr>\n",
       "      <th>2010-03-26</th>\n",
       "      <td>52.095684</td>\n",
       "      <td>53.802620</td>\n",
       "      <td>52.027409</td>\n",
       "      <td>53.392956</td>\n",
       "      <td>30.484463</td>\n",
       "      <td>2510249.0</td>\n",
       "      <td>52.653283</td>\n",
       "      <td>52.425692</td>\n",
       "      <td>66.728957</td>\n",
       "      <td>-16.666641</td>\n",
       "      <td>-16.666641</td>\n",
       "      <td>0.955883</td>\n",
       "      <td>1.160717</td>\n",
       "      <td>52.264148</td>\n",
       "      <td>51.226392</td>\n",
       "      <td>1.037756</td>\n",
       "      <td>1.775211</td>\n",
       "      <td>35.279811</td>\n",
       "      <td>28.350674</td>\n",
       "      <td>53.666065</td>\n",
       "    </tr>\n",
       "    <tr>\n",
       "      <th>2010-03-29</th>\n",
       "      <td>53.461231</td>\n",
       "      <td>53.939175</td>\n",
       "      <td>53.461231</td>\n",
       "      <td>53.666065</td>\n",
       "      <td>30.640392</td>\n",
       "      <td>2631978.0</td>\n",
       "      <td>52.664662</td>\n",
       "      <td>52.590696</td>\n",
       "      <td>69.066249</td>\n",
       "      <td>-10.526300</td>\n",
       "      <td>-10.526300</td>\n",
       "      <td>0.068275</td>\n",
       "      <td>1.980045</td>\n",
       "      <td>52.479827</td>\n",
       "      <td>51.407108</td>\n",
       "      <td>1.072719</td>\n",
       "      <td>0.546219</td>\n",
       "      <td>40.712074</td>\n",
       "      <td>31.034403</td>\n",
       "      <td>53.188122</td>\n",
       "    </tr>\n",
       "    <tr>\n",
       "      <th>2010-03-30</th>\n",
       "      <td>53.256401</td>\n",
       "      <td>54.075729</td>\n",
       "      <td>52.915012</td>\n",
       "      <td>53.188122</td>\n",
       "      <td>30.367512</td>\n",
       "      <td>3142411.0</td>\n",
       "      <td>52.823976</td>\n",
       "      <td>52.698801</td>\n",
       "      <td>60.402809</td>\n",
       "      <td>-32.500024</td>\n",
       "      <td>-32.500024</td>\n",
       "      <td>0.955883</td>\n",
       "      <td>1.297268</td>\n",
       "      <td>52.588796</td>\n",
       "      <td>51.539035</td>\n",
       "      <td>1.049760</td>\n",
       "      <td>1.160717</td>\n",
       "      <td>19.626336</td>\n",
       "      <td>22.289705</td>\n",
       "      <td>51.890854</td>\n",
       "    </tr>\n",
       "    <tr>\n",
       "      <th>2010-03-31</th>\n",
       "      <td>52.641903</td>\n",
       "      <td>53.256401</td>\n",
       "      <td>51.686020</td>\n",
       "      <td>51.890854</td>\n",
       "      <td>29.626846</td>\n",
       "      <td>3351421.0</td>\n",
       "      <td>52.789838</td>\n",
       "      <td>52.693112</td>\n",
       "      <td>43.230895</td>\n",
       "      <td>-79.999888</td>\n",
       "      <td>-79.999888</td>\n",
       "      <td>-0.204830</td>\n",
       "      <td>-0.068275</td>\n",
       "      <td>52.481420</td>\n",
       "      <td>51.565096</td>\n",
       "      <td>0.916324</td>\n",
       "      <td>1.570381</td>\n",
       "      <td>-19.610331</td>\n",
       "      <td>2.111758</td>\n",
       "      <td>52.163963</td>\n",
       "    </tr>\n",
       "  </tbody>\n",
       "</table>\n",
       "</div>"
      ],
      "text/plain": [
       "                 Open       High        Low      Close  Adj Close     Volume  \\\n",
       "Date                                                                           \n",
       "2010-03-25  51.959129  52.710182  51.344631  52.300514  29.860735  2536219.0   \n",
       "2010-03-26  52.095684  53.802620  52.027409  53.392956  30.484463  2510249.0   \n",
       "2010-03-29  53.461231  53.939175  53.461231  53.666065  30.640392  2631978.0   \n",
       "2010-03-30  53.256401  54.075729  52.915012  53.188122  30.367512  3142411.0   \n",
       "2010-03-31  52.641903  53.256401  51.686020  51.890854  29.626846  3351421.0   \n",
       "\n",
       "              6day MA   12day MA        RSI        %R5       %R10       MI6  \\\n",
       "Date                                                                          \n",
       "2010-03-25  52.493969  52.328966  55.096356 -57.575865 -59.459566 -0.751053   \n",
       "2010-03-26  52.653283  52.425692  66.728957 -16.666641 -16.666641  0.955883   \n",
       "2010-03-29  52.664662  52.590696  69.066249 -10.526300 -10.526300  0.068275   \n",
       "2010-03-30  52.823976  52.698801  60.402809 -32.500024 -32.500024  0.955883   \n",
       "2010-03-31  52.789838  52.693112  43.230895 -79.999888 -79.999888 -0.204830   \n",
       "\n",
       "                MI12      EMA12      EMA26      MACD        TR       OSC6  \\\n",
       "Date                                                                        \n",
       "2010-03-25 -0.477943  52.058910  51.053067  1.005843  1.365551   6.821374   \n",
       "2010-03-26  1.160717  52.264148  51.226392  1.037756  1.775211  35.279811   \n",
       "2010-03-29  1.980045  52.479827  51.407108  1.072719  0.546219  40.712074   \n",
       "2010-03-30  1.297268  52.588796  51.539035  1.049760  1.160717  19.626336   \n",
       "2010-03-31 -0.068275  52.481420  51.565096  0.916324  1.570381 -19.610331   \n",
       "\n",
       "                OSC12  Prediction  \n",
       "Date                               \n",
       "2010-03-25  16.425878   53.392956  \n",
       "2010-03-26  28.350674   53.666065  \n",
       "2010-03-29  31.034403   53.188122  \n",
       "2010-03-30  22.289705   51.890854  \n",
       "2010-03-31   2.111758   52.163963  "
      ]
     },
     "execution_count": 4,
     "metadata": {},
     "output_type": "execute_result"
    }
   ],
   "source": [
    "data_val=data[-100:]\n",
    "data=data[:-100]\n",
    "data_val.tail()"
   ]
  },
  {
   "cell_type": "code",
   "execution_count": 5,
   "id": "13b49c54",
   "metadata": {},
   "outputs": [],
   "source": [
    "sc = MinMaxScaler(feature_range = (-1, 1))"
   ]
  },
  {
   "cell_type": "code",
   "execution_count": 6,
   "id": "cb6680b2",
   "metadata": {},
   "outputs": [
    {
     "name": "stdout",
     "output_type": "stream",
     "text": [
      "(1974, 1, 19) (1974, 1) (494, 1, 19) (494, 1)\n"
     ]
    },
    {
     "name": "stderr",
     "output_type": "stream",
     "text": [
      "/var/folders/8h/w0jn89bj2w5g85gj4ck7w0t00000gn/T/ipykernel_81074/2608591593.py:1: FutureWarning: In a future version of pandas all arguments of DataFrame.drop except for the argument 'labels' will be keyword-only.\n",
      "  X=sc.fit_transform(data.drop('Prediction',1))\n"
     ]
    }
   ],
   "source": [
    "X=sc.fit_transform(data.drop('Prediction',1))\n",
    "Y = data[\"Prediction\"].values.reshape(-1,1)\n",
    "# Y=np.array(data[\"Close\"])\n",
    "X_train, X_test, y_train, y_test = train_test_split(X, Y, test_size=0.2,shuffle=False)\n",
    "X_train = X_train.reshape((X_train.shape[0], 1, X_train.shape[1]))\n",
    "X_test = X_test.reshape((X_test.shape[0], 1, X_test.shape[1]))\n",
    "print(X_train.shape,y_train.shape,X_test.shape,y_test.shape)"
   ]
  },
  {
   "cell_type": "code",
   "execution_count": 7,
   "id": "bb8c5487",
   "metadata": {},
   "outputs": [
    {
     "name": "stdout",
     "output_type": "stream",
     "text": [
      "Metal device set to: Apple M1 Pro\n"
     ]
    },
    {
     "name": "stderr",
     "output_type": "stream",
     "text": [
      "2022-04-10 21:49:17.481307: I tensorflow/core/common_runtime/pluggable_device/pluggable_device_factory.cc:305] Could not identify NUMA node of platform GPU ID 0, defaulting to 0. Your kernel may not have been built with NUMA support.\n",
      "2022-04-10 21:49:17.481427: I tensorflow/core/common_runtime/pluggable_device/pluggable_device_factory.cc:271] Created TensorFlow device (/job:localhost/replica:0/task:0/device:GPU:0 with 0 MB memory) -> physical PluggableDevice (device: 0, name: METAL, pci bus id: <undefined>)\n"
     ]
    }
   ],
   "source": [
    "model_tech = keras.Sequential()\n",
    "model_tech.add(keras.layers.LSTM(\n",
    "  units=128,\n",
    "  input_shape=(X_train.shape[1], X_train.shape[2]),\n",
    "    return_sequences=True\n",
    "   \n",
    "))\n",
    "model_tech.add(keras.layers.LSTM(units=64))\n",
    "model_tech.add(keras.layers.Dense(units=64))\n",
    "model_tech.add(keras.layers.Dense(units=1))\n",
    "model_tech.compile(\n",
    "  loss='mean_squared_error',\n",
    "  optimizer=keras.optimizers.Adam(0.01)\n",
    ")"
   ]
  },
  {
   "cell_type": "code",
   "execution_count": 8,
   "id": "428d66a4",
   "metadata": {
    "pycharm": {
     "is_executing": true
    },
    "scrolled": true
   },
   "outputs": [
    {
     "name": "stdout",
     "output_type": "stream",
     "text": [
      "Epoch 1/300\n"
     ]
    },
    {
     "name": "stderr",
     "output_type": "stream",
     "text": [
      "2022-04-10 21:49:17.878569: W tensorflow/core/platform/profile_utils/cpu_utils.cc:128] Failed to get CPU frequency: 0 Hz\n",
      "2022-04-10 21:49:19.054995: I tensorflow/core/grappler/optimizers/custom_graph_optimizer_registry.cc:113] Plugin optimizer for device_type GPU is enabled.\n",
      "2022-04-10 21:49:19.249314: I tensorflow/core/grappler/optimizers/custom_graph_optimizer_registry.cc:113] Plugin optimizer for device_type GPU is enabled.\n"
     ]
    },
    {
     "name": "stdout",
     "output_type": "stream",
     "text": [
      "\r",
      "  1/178 [..............................] - ETA: 4:41 - loss: 1554.6549"
     ]
    },
    {
     "name": "stderr",
     "output_type": "stream",
     "text": [
      "2022-04-10 21:49:19.284289: I tensorflow/core/grappler/optimizers/custom_graph_optimizer_registry.cc:113] Plugin optimizer for device_type GPU is enabled.\n",
      "2022-04-10 21:49:19.351002: I tensorflow/core/grappler/optimizers/custom_graph_optimizer_registry.cc:113] Plugin optimizer for device_type GPU is enabled.\n",
      "2022-04-10 21:49:19.416967: I tensorflow/core/grappler/optimizers/custom_graph_optimizer_registry.cc:113] Plugin optimizer for device_type GPU is enabled.\n"
     ]
    },
    {
     "name": "stdout",
     "output_type": "stream",
     "text": [
      "178/178 [==============================] - ETA: 0s - loss: 108.6977"
     ]
    },
    {
     "name": "stderr",
     "output_type": "stream",
     "text": [
      "2022-04-10 21:49:21.366583: I tensorflow/core/grappler/optimizers/custom_graph_optimizer_registry.cc:113] Plugin optimizer for device_type GPU is enabled.\n",
      "2022-04-10 21:49:21.441768: I tensorflow/core/grappler/optimizers/custom_graph_optimizer_registry.cc:113] Plugin optimizer for device_type GPU is enabled.\n",
      "2022-04-10 21:49:21.463854: I tensorflow/core/grappler/optimizers/custom_graph_optimizer_registry.cc:113] Plugin optimizer for device_type GPU is enabled.\n"
     ]
    },
    {
     "name": "stdout",
     "output_type": "stream",
     "text": [
      "178/178 [==============================] - 4s 12ms/step - loss: 108.6977 - val_loss: 1746.1455\n",
      "Epoch 2/300\n",
      "178/178 [==============================] - 2s 10ms/step - loss: 42.3949 - val_loss: 1278.6764\n",
      "Epoch 3/300\n",
      "178/178 [==============================] - 2s 10ms/step - loss: 40.1961 - val_loss: 1062.3447\n",
      "Epoch 4/300\n",
      "178/178 [==============================] - 2s 10ms/step - loss: 37.1337 - val_loss: 1368.3151\n",
      "Epoch 5/300\n",
      "178/178 [==============================] - 2s 10ms/step - loss: 35.6719 - val_loss: 1179.2450\n",
      "Epoch 6/300\n",
      "178/178 [==============================] - 2s 11ms/step - loss: 31.5109 - val_loss: 1325.9532\n",
      "Epoch 7/300\n",
      "178/178 [==============================] - 2s 10ms/step - loss: 28.1223 - val_loss: 1313.8755\n",
      "Epoch 8/300\n",
      "178/178 [==============================] - 2s 10ms/step - loss: 24.5947 - val_loss: 1525.3918\n",
      "Epoch 9/300\n",
      "178/178 [==============================] - 2s 9ms/step - loss: 23.4198 - val_loss: 1781.0605\n",
      "Epoch 10/300\n",
      "178/178 [==============================] - 2s 9ms/step - loss: 22.9513 - val_loss: 1776.7938\n",
      "Epoch 11/300\n",
      "178/178 [==============================] - 2s 9ms/step - loss: 22.5546 - val_loss: 1735.3202\n",
      "Epoch 12/300\n",
      "178/178 [==============================] - 2s 10ms/step - loss: 21.6717 - val_loss: 1590.1825\n",
      "Epoch 13/300\n",
      "178/178 [==============================] - 2s 9ms/step - loss: 21.3510 - val_loss: 1707.5126\n",
      "Epoch 14/300\n",
      "178/178 [==============================] - 2s 9ms/step - loss: 21.5146 - val_loss: 1708.3507\n",
      "Epoch 15/300\n",
      "178/178 [==============================] - 2s 9ms/step - loss: 19.7427 - val_loss: 2188.9185\n",
      "Epoch 16/300\n",
      "178/178 [==============================] - 2s 10ms/step - loss: 19.8694 - val_loss: 2359.6965\n",
      "Epoch 17/300\n",
      "178/178 [==============================] - 2s 9ms/step - loss: 18.7200 - val_loss: 3303.6602\n",
      "Epoch 18/300\n",
      "178/178 [==============================] - 2s 10ms/step - loss: 18.0434 - val_loss: 3559.9739\n",
      "Epoch 19/300\n",
      "178/178 [==============================] - 2s 10ms/step - loss: 15.6566 - val_loss: 3858.2834\n",
      "Epoch 20/300\n",
      "178/178 [==============================] - 2s 10ms/step - loss: 15.0757 - val_loss: 3451.1724\n",
      "Epoch 21/300\n",
      "178/178 [==============================] - 2s 10ms/step - loss: 14.2139 - val_loss: 3451.2217\n",
      "Epoch 22/300\n",
      "178/178 [==============================] - 2s 9ms/step - loss: 13.9007 - val_loss: 3530.0498\n",
      "Epoch 23/300\n",
      "178/178 [==============================] - 2s 9ms/step - loss: 12.4915 - val_loss: 3436.6997\n",
      "Epoch 24/300\n",
      "178/178 [==============================] - 2s 10ms/step - loss: 12.0948 - val_loss: 3696.9529\n",
      "Epoch 25/300\n",
      "178/178 [==============================] - 2s 10ms/step - loss: 12.5017 - val_loss: 4390.0996\n",
      "Epoch 26/300\n",
      "178/178 [==============================] - 2s 12ms/step - loss: 11.2871 - val_loss: 4414.9238\n",
      "Epoch 27/300\n",
      "178/178 [==============================] - 2s 11ms/step - loss: 11.0026 - val_loss: 4557.1689\n",
      "Epoch 28/300\n",
      "178/178 [==============================] - 2s 10ms/step - loss: 11.5841 - val_loss: 2339.9116\n",
      "Epoch 29/300\n",
      "178/178 [==============================] - 2s 10ms/step - loss: 11.0207 - val_loss: 174.5814\n",
      "Epoch 30/300\n",
      "178/178 [==============================] - 2s 9ms/step - loss: 10.8973 - val_loss: 186.1075\n",
      "Epoch 31/300\n",
      "178/178 [==============================] - 2s 9ms/step - loss: 10.8563 - val_loss: 238.2960\n",
      "Epoch 32/300\n",
      "178/178 [==============================] - 2s 9ms/step - loss: 10.3930 - val_loss: 184.8373\n",
      "Epoch 33/300\n",
      "178/178 [==============================] - 2s 9ms/step - loss: 11.9034 - val_loss: 197.5629\n",
      "Epoch 34/300\n",
      "178/178 [==============================] - 2s 9ms/step - loss: 9.4551 - val_loss: 213.8357\n",
      "Epoch 35/300\n",
      "178/178 [==============================] - 2s 9ms/step - loss: 10.1495 - val_loss: 179.7278\n",
      "Epoch 36/300\n",
      "178/178 [==============================] - 2s 9ms/step - loss: 10.1878 - val_loss: 221.7511\n",
      "Epoch 37/300\n",
      "178/178 [==============================] - 2s 9ms/step - loss: 9.3857 - val_loss: 245.9094\n",
      "Epoch 38/300\n",
      "178/178 [==============================] - 2s 9ms/step - loss: 8.9042 - val_loss: 241.6349\n",
      "Epoch 39/300\n",
      "178/178 [==============================] - 2s 9ms/step - loss: 8.0252 - val_loss: 176.3548\n",
      "Epoch 40/300\n",
      "178/178 [==============================] - 2s 9ms/step - loss: 8.8538 - val_loss: 236.1431\n",
      "Epoch 41/300\n",
      "178/178 [==============================] - 2s 9ms/step - loss: 10.5202 - val_loss: 221.1893\n",
      "Epoch 42/300\n",
      "178/178 [==============================] - 2s 9ms/step - loss: 8.2849 - val_loss: 219.9346\n",
      "Epoch 43/300\n",
      "178/178 [==============================] - 2s 9ms/step - loss: 8.4443 - val_loss: 168.9875\n",
      "Epoch 44/300\n",
      "178/178 [==============================] - 2s 9ms/step - loss: 7.8891 - val_loss: 155.0132\n",
      "Epoch 45/300\n",
      "178/178 [==============================] - 2s 9ms/step - loss: 9.2395 - val_loss: 191.1000\n",
      "Epoch 46/300\n",
      "178/178 [==============================] - 2s 9ms/step - loss: 7.0492 - val_loss: 150.2472\n",
      "Epoch 47/300\n",
      "178/178 [==============================] - 2s 9ms/step - loss: 8.3994 - val_loss: 159.4619\n",
      "Epoch 48/300\n",
      "178/178 [==============================] - 2s 9ms/step - loss: 7.3347 - val_loss: 171.3611\n",
      "Epoch 49/300\n",
      "178/178 [==============================] - 2s 9ms/step - loss: 6.4081 - val_loss: 182.6222\n",
      "Epoch 50/300\n",
      "178/178 [==============================] - 2s 9ms/step - loss: 6.8352 - val_loss: 166.4713\n",
      "Epoch 51/300\n",
      "178/178 [==============================] - 2s 10ms/step - loss: 6.5182 - val_loss: 209.9044\n",
      "Epoch 52/300\n",
      "178/178 [==============================] - 2s 10ms/step - loss: 5.8223 - val_loss: 185.0298\n",
      "Epoch 53/300\n",
      "178/178 [==============================] - 2s 10ms/step - loss: 6.1919 - val_loss: 237.0834\n",
      "Epoch 54/300\n",
      "178/178 [==============================] - 2s 9ms/step - loss: 5.6609 - val_loss: 249.9932\n",
      "Epoch 55/300\n",
      "178/178 [==============================] - 2s 9ms/step - loss: 5.6384 - val_loss: 222.5686\n",
      "Epoch 56/300\n",
      "178/178 [==============================] - 2s 9ms/step - loss: 4.9613 - val_loss: 189.9435\n",
      "Epoch 57/300\n",
      "178/178 [==============================] - 2s 9ms/step - loss: 5.1358 - val_loss: 208.9705\n",
      "Epoch 58/300\n",
      "178/178 [==============================] - 2s 9ms/step - loss: 4.5087 - val_loss: 173.1991\n",
      "Epoch 59/300\n",
      "178/178 [==============================] - 2s 9ms/step - loss: 4.8634 - val_loss: 207.8422\n",
      "Epoch 60/300\n",
      "178/178 [==============================] - 2s 9ms/step - loss: 5.8127 - val_loss: 122.0270\n",
      "Epoch 61/300\n",
      "178/178 [==============================] - 2s 9ms/step - loss: 5.8421 - val_loss: 187.3937\n",
      "Epoch 62/300\n",
      "178/178 [==============================] - 2s 9ms/step - loss: 8.7898 - val_loss: 195.6122\n",
      "Epoch 63/300\n",
      "178/178 [==============================] - 2s 9ms/step - loss: 4.8152 - val_loss: 171.1664\n",
      "Epoch 64/300\n",
      "178/178 [==============================] - 2s 9ms/step - loss: 4.6001 - val_loss: 178.4606\n",
      "Epoch 65/300\n",
      "178/178 [==============================] - 2s 10ms/step - loss: 4.2425 - val_loss: 176.1708\n",
      "Epoch 66/300\n",
      "178/178 [==============================] - 2s 9ms/step - loss: 4.1025 - val_loss: 171.3053\n",
      "Epoch 67/300\n",
      "178/178 [==============================] - 2s 9ms/step - loss: 3.5342 - val_loss: 185.1644\n",
      "Epoch 68/300\n",
      "178/178 [==============================] - 2s 9ms/step - loss: 3.5540 - val_loss: 185.7568\n",
      "Epoch 69/300\n",
      "178/178 [==============================] - 2s 9ms/step - loss: 3.1756 - val_loss: 182.7711\n",
      "Epoch 70/300\n",
      "178/178 [==============================] - 2s 9ms/step - loss: 3.0606 - val_loss: 188.9427\n",
      "Epoch 71/300\n",
      "178/178 [==============================] - 2s 9ms/step - loss: 2.9187 - val_loss: 167.5338\n",
      "Epoch 72/300\n",
      "178/178 [==============================] - 2s 9ms/step - loss: 2.8614 - val_loss: 182.0572\n",
      "Epoch 73/300\n",
      "178/178 [==============================] - 2s 9ms/step - loss: 2.8133 - val_loss: 180.2866\n",
      "Epoch 74/300\n",
      "178/178 [==============================] - 2s 9ms/step - loss: 2.7661 - val_loss: 207.7009\n",
      "Epoch 75/300\n",
      "178/178 [==============================] - 2s 9ms/step - loss: 2.6782 - val_loss: 178.7635\n",
      "Epoch 76/300\n",
      "178/178 [==============================] - 2s 9ms/step - loss: 2.8616 - val_loss: 190.9419\n",
      "Epoch 77/300\n",
      "178/178 [==============================] - 2s 9ms/step - loss: 3.2739 - val_loss: 238.8563\n",
      "Epoch 78/300\n",
      "178/178 [==============================] - 2s 9ms/step - loss: 3.7910 - val_loss: 171.1712\n",
      "Epoch 79/300\n"
     ]
    },
    {
     "name": "stdout",
     "output_type": "stream",
     "text": [
      "178/178 [==============================] - 2s 9ms/step - loss: 3.4511 - val_loss: 171.0160\n",
      "Epoch 80/300\n",
      "178/178 [==============================] - 2s 9ms/step - loss: 3.3046 - val_loss: 180.5228\n",
      "Epoch 81/300\n",
      "178/178 [==============================] - 2s 10ms/step - loss: 5.7028 - val_loss: 147.3669\n",
      "Epoch 82/300\n",
      "178/178 [==============================] - 2s 9ms/step - loss: 4.4286 - val_loss: 167.5160\n",
      "Epoch 83/300\n",
      "178/178 [==============================] - 2s 9ms/step - loss: 4.0276 - val_loss: 194.6739\n",
      "Epoch 84/300\n",
      "178/178 [==============================] - 2s 9ms/step - loss: 3.5425 - val_loss: 181.0069\n",
      "Epoch 85/300\n",
      "178/178 [==============================] - 2s 10ms/step - loss: 4.9018 - val_loss: 167.8223\n",
      "Epoch 86/300\n",
      "178/178 [==============================] - 2s 10ms/step - loss: 3.9147 - val_loss: 171.7661\n",
      "Epoch 87/300\n",
      "178/178 [==============================] - 2s 10ms/step - loss: 3.5031 - val_loss: 179.0566\n",
      "Epoch 88/300\n",
      "178/178 [==============================] - 2s 10ms/step - loss: 3.1693 - val_loss: 196.9042\n",
      "Epoch 89/300\n",
      "178/178 [==============================] - 2s 9ms/step - loss: 2.6650 - val_loss: 158.0462\n",
      "Epoch 90/300\n",
      "178/178 [==============================] - 2s 9ms/step - loss: 2.6559 - val_loss: 162.6445\n",
      "Epoch 91/300\n",
      "178/178 [==============================] - 2s 10ms/step - loss: 2.9778 - val_loss: 202.5960\n",
      "Epoch 92/300\n",
      "178/178 [==============================] - 2s 10ms/step - loss: 3.7094 - val_loss: 150.9827\n",
      "Epoch 93/300\n",
      "178/178 [==============================] - 2s 9ms/step - loss: 3.3308 - val_loss: 170.6708\n",
      "Epoch 94/300\n",
      "178/178 [==============================] - 2s 10ms/step - loss: 3.2691 - val_loss: 182.2757\n",
      "Epoch 95/300\n",
      "178/178 [==============================] - 2s 9ms/step - loss: 2.5279 - val_loss: 150.3860\n",
      "Epoch 96/300\n",
      "178/178 [==============================] - 2s 10ms/step - loss: 2.5383 - val_loss: 173.6072\n",
      "Epoch 97/300\n",
      "178/178 [==============================] - 2s 10ms/step - loss: 3.0470 - val_loss: 132.8722\n",
      "Epoch 98/300\n",
      "178/178 [==============================] - 2s 10ms/step - loss: 2.9587 - val_loss: 124.7813\n",
      "Epoch 99/300\n",
      "178/178 [==============================] - 2s 10ms/step - loss: 2.9886 - val_loss: 146.6484\n",
      "Epoch 100/300\n",
      "178/178 [==============================] - 2s 10ms/step - loss: 3.5188 - val_loss: 126.4168\n",
      "Epoch 100: early stopping\n"
     ]
    },
    {
     "name": "stderr",
     "output_type": "stream",
     "text": [
      "2022-04-10 21:52:07.047773: I tensorflow/core/grappler/optimizers/custom_graph_optimizer_registry.cc:113] Plugin optimizer for device_type GPU is enabled.\n",
      "2022-04-10 21:52:07.124475: I tensorflow/core/grappler/optimizers/custom_graph_optimizer_registry.cc:113] Plugin optimizer for device_type GPU is enabled.\n",
      "2022-04-10 21:52:07.180393: I tensorflow/core/grappler/optimizers/custom_graph_optimizer_registry.cc:113] Plugin optimizer for device_type GPU is enabled.\n"
     ]
    }
   ],
   "source": [
    "es = EarlyStopping(monitor='val_loss', mode='min', verbose=1,patience=40, min_delta=0.0001)\n",
    "history_tech=model_tech.fit(\n",
    "    X_train, y_train,\n",
    "    epochs=300,\n",
    "    batch_size=10,\n",
    "    validation_split=0.1,\n",
    "    verbose=1,\n",
    "    shuffle=False,\n",
    "    callbacks=[es]\n",
    ")\n",
    "y_pred = model_tech.predict(X_test)"
   ]
  },
  {
   "cell_type": "code",
   "execution_count": 9,
   "id": "55aa57ad",
   "metadata": {},
   "outputs": [
    {
     "data": {
      "text/plain": [
       "<matplotlib.legend.Legend at 0x17e744e20>"
      ]
     },
     "execution_count": 9,
     "metadata": {},
     "output_type": "execute_result"
    },
    {
     "data": {
      "image/png": "[encoded data removed]",
      "text/plain": [
       "<Figure size 432x288 with 1 Axes>"
      ]
     },
     "metadata": {
      "needs_background": "light"
     },
     "output_type": "display_data"
    }
   ],
   "source": [
    "plt.plot(history_tech.history['loss'], label='train')\n",
    "plt.plot(history_tech.history['val_loss'], label='test')\n",
    "plt.legend()"
   ]
  },
  {
   "cell_type": "code",
   "execution_count": 10,
   "id": "477f1fb7",
   "metadata": {},
   "outputs": [
    {
     "data": {
      "image/png": "[encoded data removed]",
      "text/plain": [
       "<Figure size 432x288 with 1 Axes>"
      ]
     },
     "metadata": {
      "needs_background": "light"
     },
     "output_type": "display_data"
    }
   ],
   "source": [
    "plt.plot(np.arange(0, len(y_train)), y_train, 'g', label=\"history\")\n",
    "plt.plot(np.arange(len(y_train), len(y_train) + len(y_test)), y_test, marker='.', label=\"true\")\n",
    "plt.plot(np.arange(len(y_train), len(y_train) + len(y_test)), y_pred, 'r', label=\"prediction\")\n",
    "plt.ylabel('Value')\n",
    "plt.xlabel('Time Step')\n",
    "plt.legend()\n",
    "plt.show();"
   ]
  },
  {
   "cell_type": "code",
   "execution_count": 11,
   "id": "134553b2",
   "metadata": {
    "scrolled": true
   },
   "outputs": [
    {
     "data": {
      "image/png": "[encoded data removed]",
      "text/plain": [
       "<Figure size 432x288 with 1 Axes>"
      ]
     },
     "metadata": {
      "needs_background": "light"
     },
     "output_type": "display_data"
    }
   ],
   "source": [
    "# y_test = sc.inverse_transform(y_test)\n",
    "# y_pred = sc.inverse_transform(y_pred)\n",
    "plt.plot(y_test, marker='.', label=\"true\")\n",
    "plt.plot(y_pred, 'r', label=\"prediction\")\n",
    "plt.ylabel('Value')\n",
    "plt.xlabel('Time Step')\n",
    "plt.legend()\n",
    "plt.show();"
   ]
  },
  {
   "cell_type": "code",
   "execution_count": 12,
   "id": "0ef7fe0c",
   "metadata": {},
   "outputs": [
    {
     "data": {
      "text/plain": [
       "-0.3142967099300982"
      ]
     },
     "execution_count": 12,
     "metadata": {},
     "output_type": "execute_result"
    }
   ],
   "source": [
    "r2_score(y_test,y_pred)"
   ]
  },
  {
   "cell_type": "code",
   "execution_count": 13,
   "id": "7cf212a7",
   "metadata": {},
   "outputs": [
    {
     "data": {
      "text/plain": [
       "0.20327929486855378"
      ]
     },
     "execution_count": 13,
     "metadata": {},
     "output_type": "execute_result"
    }
   ],
   "source": [
    "mean_absolute_percentage_error(y_test,y_pred)"
   ]
  },
  {
   "cell_type": "code",
   "execution_count": 14,
   "id": "a0cd9d21",
   "metadata": {},
   "outputs": [
    {
     "data": {
      "text/plain": [
       "24.922358506519924"
      ]
     },
     "execution_count": 14,
     "metadata": {},
     "output_type": "execute_result"
    }
   ],
   "source": [
    "mean_squared_error(y_test,y_pred,squared=False)"
   ]
  },
  {
   "cell_type": "code",
   "execution_count": 15,
   "id": "8ee0bfd3",
   "metadata": {},
   "outputs": [
    {
     "name": "stderr",
     "output_type": "stream",
     "text": [
      "/var/folders/8h/w0jn89bj2w5g85gj4ck7w0t00000gn/T/ipykernel_81074/2328949661.py:1: FutureWarning: In a future version of pandas all arguments of DataFrame.drop except for the argument 'labels' will be keyword-only.\n",
      "  x_val=data_val.drop('Prediction',1)\n"
     ]
    }
   ],
   "source": [
    "x_val=data_val.drop('Prediction',1)\n",
    "y_val=data_val['Prediction']\n",
    "x_val=sc.transform(x_val).reshape(x_val.shape[0],1,x_val.shape[1])\n",
    "y_val_pred=model_tech.predict(x_val)"
   ]
  },
  {
   "cell_type": "code",
   "execution_count": 16,
   "id": "529aefb2",
   "metadata": {},
   "outputs": [
    {
     "data": {
      "image/png": "[encoded data removed]",
      "text/plain": [
       "<Figure size 432x288 with 1 Axes>"
      ]
     },
     "metadata": {
      "needs_background": "light"
     },
     "output_type": "display_data"
    }
   ],
   "source": [
    "plt.plot(y_val.values, marker='.', label=\"true\")\n",
    "plt.plot(y_val_pred, 'r', marker='*',label=\"prediction\")\n",
    "plt.ylabel('Value')\n",
    "plt.xlabel('Time Step')\n",
    "plt.title('LSTM-AllFeatures-0017')\n",
    "plt.legend()\n",
    "plt.show()"
   ]
  },
  {
   "cell_type": "code",
   "execution_count": 17,
   "id": "3b9ce3a3",
   "metadata": {},
   "outputs": [
    {
     "data": {
      "text/plain": [
       "-0.12611842557074504"
      ]
     },
     "execution_count": 17,
     "metadata": {},
     "output_type": "execute_result"
    }
   ],
   "source": [
    "r2_score(y_val,y_val_pred)"
   ]
  },
  {
   "cell_type": "code",
   "execution_count": 18,
   "id": "67bc6f38",
   "metadata": {},
   "outputs": [
    {
     "data": {
      "text/plain": [
       "0.06099792454723569"
      ]
     },
     "execution_count": 18,
     "metadata": {},
     "output_type": "execute_result"
    }
   ],
   "source": [
    "mean_absolute_percentage_error(y_val,y_val_pred)"
   ]
  },
  {
   "cell_type": "code",
   "execution_count": 19,
   "id": "7a79ea1f",
   "metadata": {},
   "outputs": [
    {
     "data": {
      "text/plain": [
       "4.0560882359600265"
      ]
     },
     "execution_count": 19,
     "metadata": {},
     "output_type": "execute_result"
    }
   ],
   "source": [
    "mean_squared_error(y_val.values,y_val_pred,squared=False)"
   ]
  },
  {
   "cell_type": "code",
   "execution_count": null,
   "id": "d8ab65e9",
   "metadata": {},
   "outputs": [],
   "source": []
  }
 ],
 "metadata": {
  "kernelspec": {
   "display_name": "Python 3 (ipykernel)",
   "language": "python",
   "name": "python3"
  },
  "language_info": {
   "codemirror_mode": {
    "name": "ipython",
    "version": 3
   },
   "file_extension": ".py",
   "mimetype": "text/x-python",
   "name": "python",
   "nbconvert_exporter": "python",
   "pygments_lexer": "ipython3",
   "version": "3.8.13"
  }
 },
 "nbformat": 4,
 "nbformat_minor": 5
}
