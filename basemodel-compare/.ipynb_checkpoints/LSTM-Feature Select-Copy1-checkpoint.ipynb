{
 "cells": [
  {
   "cell_type": "code",
   "execution_count": 1,
   "id": "eb9ae2e7",
   "metadata": {},
   "outputs": [],
   "source": [
    "import yfinance as yf\n",
    "import pandas as pd\n",
    "import numpy as np\n",
    "import matplotlib.pyplot as plt\n",
    "from sklearn.preprocessing import MinMaxScaler\n",
    "from sklearn.model_selection import train_test_split\n",
    "from sklearn.metrics import classification_report,accuracy_score, mean_squared_error,mean_absolute_percentage_error,r2_score\n",
    "import tensorflow as tf\n",
    "import talib\n",
    "from tensorflow import keras\n",
    "from sklearn.pipeline import make_pipeline\n",
    "from tensorflow.keras import regularizers\n",
    "tf.config.set_visible_devices([], 'GPU')"
   ]
  },
  {
   "cell_type": "code",
   "execution_count": 2,
   "id": "9ad5f74c",
   "metadata": {},
   "outputs": [
    {
     "name": "stdout",
     "output_type": "stream",
     "text": [
      "[*********************100%***********************]  1 of 1 completed\n"
     ]
    }
   ],
   "source": [
    "data=yf.download('0700.hk')"
   ]
  },
  {
   "cell_type": "code",
   "execution_count": 3,
   "id": "781ab9b7",
   "metadata": {
    "pycharm": {
     "name": "#%%\n"
    }
   },
   "outputs": [],
   "source": [
    "data['6day MA'] = data['Close'].rolling(window = 6).mean()\n",
    "data['12day MA'] = data['Close'].rolling(window = 12).mean()\n",
    "data['RSI'] = talib.RSI(data['Close'].values, timeperiod = 7)\n",
    "data['%R5'] = talib.WILLR(data['High'].values, data['Low'].values, data['Close'].values, 5)\n",
    "data['%R10'] = talib.WILLR(data['High'].values, data['Low'].values, data['Close'].values, 10)\n",
    "data['MI6']=talib.MOM(data['Close'],timeperiod=6)\n",
    "data['MI12']=talib.MOM(data['Close'],timeperiod=12)\n",
    "macd, macdsignal, macdhist = talib.MACD(data['Close'], fastperiod=12, slowperiod=26, signalperiod=9)\n",
    "data['EMA12']=talib.EMA(data['Close'], timeperiod=12)\n",
    "data['EMA26']=talib.EMA(data['Close'],timeperiod=26)\n",
    "data['MACD']=macd\n",
    "data['TR']=talib.TRANGE(data['High'],data['Low'],data['Close'])\n",
    "data['OSC6']=talib.CMO(data['Close'], timeperiod=6)\n",
    "data['OSC12']=talib.CMO(data['Close'], timeperiod=12)\n",
    "data['Prediction']=data['Close'].shift(-1)\n",
    "data.dropna(inplace=True)"
   ]
  },
  {
   "cell_type": "code",
   "execution_count": 4,
   "id": "3c05d9b9",
   "metadata": {
    "pycharm": {
     "name": "#%%\n"
    }
   },
   "outputs": [
    {
     "name": "stderr",
     "output_type": "stream",
     "text": [
      "/var/folders/8h/w0jn89bj2w5g85gj4ck7w0t00000gn/T/ipykernel_62957/3806124569.py:11: FutureWarning: In a future version of pandas all arguments of DataFrame.drop except for the argument 'labels' will be keyword-only.\n",
      "  backwardModel.fit(np.array(data.drop('Prediction',1)),data['Prediction'].values.ravel())\n",
      "[Parallel(n_jobs=-1)]: Using backend LokyBackend with 8 concurrent workers.\n",
      "[Parallel(n_jobs=-1)]: Done  14 out of  19 | elapsed:    3.5s remaining:    1.2s\n",
      "[Parallel(n_jobs=-1)]: Done  19 out of  19 | elapsed:    4.6s finished\n",
      "\n",
      "[2022-04-10 14:45:17] Features: 1/10 -- score: 0.2943090163803261[Parallel(n_jobs=-1)]: Using backend LokyBackend with 8 concurrent workers.\n",
      "[Parallel(n_jobs=-1)]: Done  13 out of  18 | elapsed:    3.9s remaining:    1.5s\n",
      "[Parallel(n_jobs=-1)]: Done  18 out of  18 | elapsed:    5.5s finished\n",
      "\n",
      "[2022-04-10 14:45:23] Features: 2/10 -- score: 0.28948676388054023[Parallel(n_jobs=-1)]: Using backend LokyBackend with 8 concurrent workers.\n",
      "[Parallel(n_jobs=-1)]: Done  11 out of  17 | elapsed:    5.2s remaining:    2.8s\n",
      "[Parallel(n_jobs=-1)]: Done  17 out of  17 | elapsed:    7.3s finished\n",
      "\n",
      "[2022-04-10 14:45:30] Features: 3/10 -- score: 0.26551246258423306[Parallel(n_jobs=-1)]: Using backend LokyBackend with 8 concurrent workers.\n",
      "[Parallel(n_jobs=-1)]: Done  10 out of  16 | elapsed:    6.3s remaining:    3.8s\n",
      "[Parallel(n_jobs=-1)]: Done  16 out of  16 | elapsed:    6.7s finished\n",
      "\n",
      "[2022-04-10 14:45:37] Features: 4/10 -- score: 0.23559577489821856[Parallel(n_jobs=-1)]: Using backend LokyBackend with 8 concurrent workers.\n",
      "[Parallel(n_jobs=-1)]: Done   8 out of  15 | elapsed:    4.0s remaining:    3.5s\n",
      "[Parallel(n_jobs=-1)]: Done  15 out of  15 | elapsed:    7.6s finished\n",
      "\n",
      "[2022-04-10 14:45:45] Features: 5/10 -- score: 0.21631898617553205[Parallel(n_jobs=-1)]: Using backend LokyBackend with 8 concurrent workers.\n",
      "[Parallel(n_jobs=-1)]: Done   7 out of  14 | elapsed:    4.7s remaining:    4.7s\n",
      "[Parallel(n_jobs=-1)]: Done  14 out of  14 | elapsed:    8.5s finished\n",
      "\n",
      "[2022-04-10 14:45:53] Features: 6/10 -- score: 0.21855086186522135[Parallel(n_jobs=-1)]: Using backend LokyBackend with 8 concurrent workers.\n",
      "[Parallel(n_jobs=-1)]: Done   5 out of  13 | elapsed:    5.3s remaining:    8.5s\n",
      "[Parallel(n_jobs=-1)]: Done  13 out of  13 | elapsed:    9.7s finished\n",
      "\n",
      "[2022-04-10 14:46:03] Features: 7/10 -- score: 0.22147623605355288[Parallel(n_jobs=-1)]: Using backend LokyBackend with 8 concurrent workers.\n",
      "[Parallel(n_jobs=-1)]: Done   4 out of  12 | elapsed:    5.8s remaining:   11.6s\n",
      "[Parallel(n_jobs=-1)]: Done  12 out of  12 | elapsed:   10.7s finished\n",
      "\n",
      "[2022-04-10 14:46:13] Features: 8/10 -- score: 0.20796216592801436[Parallel(n_jobs=-1)]: Using backend LokyBackend with 8 concurrent workers.\n",
      "[Parallel(n_jobs=-1)]: Done   2 out of  11 | elapsed:    6.5s remaining:   29.3s\n",
      "[Parallel(n_jobs=-1)]: Done   8 out of  11 | elapsed:    6.7s remaining:    2.5s\n",
      "[Parallel(n_jobs=-1)]: Done  11 out of  11 | elapsed:   12.1s finished\n",
      "\n",
      "[2022-04-10 14:46:25] Features: 9/10 -- score: 0.19544715257643658[Parallel(n_jobs=-1)]: Using backend LokyBackend with 8 concurrent workers.\n",
      "[Parallel(n_jobs=-1)]: Done   7 out of  10 | elapsed:    7.3s remaining:    3.1s\n",
      "[Parallel(n_jobs=-1)]: Done  10 out of  10 | elapsed:   13.0s finished\n",
      "\n",
      "[2022-04-10 14:46:38] Features: 10/10 -- score: 0.19855259744641104"
     ]
    },
    {
     "data": {
      "text/plain": [
       "SequentialFeatureSelector(estimator=RandomForestRegressor(), k_features=10,\n",
       "                          n_jobs=-1, scoring='r2', verbose=2)"
      ]
     },
     "execution_count": 4,
     "metadata": {},
     "output_type": "execute_result"
    }
   ],
   "source": [
    "from mlxtend.feature_selection import SequentialFeatureSelector as sfs\n",
    "from sklearn.ensemble import RandomForestRegressor\n",
    "#k_features=10 (It will get top 10 features best suited for prediction)\n",
    "#forward=False (Backward feature selection model)\n",
    "#verbose=2 (It will show details output as shown below.)\n",
    "#cv=5 (Kfold cross valiation: it will split the training set in 5 set and 4 will be using for training the model and 1 will using as validation)\n",
    "#n_jobs=-1 (Number of cores it will use for execution.-1 means it will use all the cores of CPU for execution.)\n",
    "#scoring='r2'(R-squared is a statistical measure of how close the data are to the fitted regression line)\n",
    "backwardModel=sfs(RandomForestRegressor(),k_features=10,forward=True,verbose=2,cv=5,n_jobs=-1,scoring='r2')\n",
    "#We will convert our training data into numpy array. If we will not convert it, model is not able to read some of the column names.\n",
    "backwardModel.fit(np.array(data.drop('Prediction',1)),data['Prediction'].values.ravel())"
   ]
  },
  {
   "cell_type": "code",
   "execution_count": 5,
   "id": "0c6d7cbf",
   "metadata": {},
   "outputs": [
    {
     "name": "stderr",
     "output_type": "stream",
     "text": [
      "/var/folders/8h/w0jn89bj2w5g85gj4ck7w0t00000gn/T/ipykernel_62957/1273356578.py:2: SettingWithCopyWarning: \n",
      "A value is trying to be set on a copy of a slice from a DataFrame.\n",
      "Try using .loc[row_indexer,col_indexer] = value instead\n",
      "\n",
      "See the caveats in the documentation: https://pandas.pydata.org/pandas-docs/stable/user_guide/indexing.html#returning-a-view-versus-a-copy\n",
      "  data['Prediction']=data['Close'].shift(-1)\n",
      "/var/folders/8h/w0jn89bj2w5g85gj4ck7w0t00000gn/T/ipykernel_62957/1273356578.py:3: SettingWithCopyWarning: \n",
      "A value is trying to be set on a copy of a slice from a DataFrame\n",
      "\n",
      "See the caveats in the documentation: https://pandas.pydata.org/pandas-docs/stable/user_guide/indexing.html#returning-a-view-versus-a-copy\n",
      "  data.dropna(inplace=True)\n"
     ]
    },
    {
     "data": {
      "text/html": [
       "<div>\n",
       "<style scoped>\n",
       "    .dataframe tbody tr th:only-of-type {\n",
       "        vertical-align: middle;\n",
       "    }\n",
       "\n",
       "    .dataframe tbody tr th {\n",
       "        vertical-align: top;\n",
       "    }\n",
       "\n",
       "    .dataframe thead th {\n",
       "        text-align: right;\n",
       "    }\n",
       "</style>\n",
       "<table border=\"1\" class=\"dataframe\">\n",
       "  <thead>\n",
       "    <tr style=\"text-align: right;\">\n",
       "      <th></th>\n",
       "      <th>Open</th>\n",
       "      <th>High</th>\n",
       "      <th>Low</th>\n",
       "      <th>Close</th>\n",
       "      <th>Adj Close</th>\n",
       "      <th>Volume</th>\n",
       "      <th>6day MA</th>\n",
       "      <th>EMA12</th>\n",
       "      <th>MACD</th>\n",
       "      <th>TR</th>\n",
       "      <th>Prediction</th>\n",
       "    </tr>\n",
       "    <tr>\n",
       "      <th>Date</th>\n",
       "      <th></th>\n",
       "      <th></th>\n",
       "      <th></th>\n",
       "      <th></th>\n",
       "      <th></th>\n",
       "      <th></th>\n",
       "      <th></th>\n",
       "      <th></th>\n",
       "      <th></th>\n",
       "      <th></th>\n",
       "      <th></th>\n",
       "    </tr>\n",
       "  </thead>\n",
       "  <tbody>\n",
       "    <tr>\n",
       "      <th>2022-03-30</th>\n",
       "      <td>383.000000</td>\n",
       "      <td>388.600006</td>\n",
       "      <td>380.200012</td>\n",
       "      <td>380.600006</td>\n",
       "      <td>380.600006</td>\n",
       "      <td>26951872</td>\n",
       "      <td>372.600001</td>\n",
       "      <td>375.239148</td>\n",
       "      <td>-14.634180</td>\n",
       "      <td>11.399994</td>\n",
       "      <td>374.200012</td>\n",
       "    </tr>\n",
       "    <tr>\n",
       "      <th>2022-03-31</th>\n",
       "      <td>382.399994</td>\n",
       "      <td>382.399994</td>\n",
       "      <td>372.600006</td>\n",
       "      <td>374.200012</td>\n",
       "      <td>374.200012</td>\n",
       "      <td>14589554</td>\n",
       "      <td>370.133336</td>\n",
       "      <td>375.079281</td>\n",
       "      <td>-13.633061</td>\n",
       "      <td>9.799988</td>\n",
       "      <td>378.799988</td>\n",
       "    </tr>\n",
       "    <tr>\n",
       "      <th>2022-04-01</th>\n",
       "      <td>367.000000</td>\n",
       "      <td>378.799988</td>\n",
       "      <td>362.200012</td>\n",
       "      <td>378.799988</td>\n",
       "      <td>378.799988</td>\n",
       "      <td>14496674</td>\n",
       "      <td>372.266668</td>\n",
       "      <td>375.651697</td>\n",
       "      <td>-12.326396</td>\n",
       "      <td>16.599976</td>\n",
       "      <td>390.000000</td>\n",
       "    </tr>\n",
       "    <tr>\n",
       "      <th>2022-04-04</th>\n",
       "      <td>388.799988</td>\n",
       "      <td>391.000000</td>\n",
       "      <td>383.799988</td>\n",
       "      <td>390.000000</td>\n",
       "      <td>390.000000</td>\n",
       "      <td>15665556</td>\n",
       "      <td>377.866669</td>\n",
       "      <td>377.859129</td>\n",
       "      <td>-10.268736</td>\n",
       "      <td>12.200012</td>\n",
       "      <td>381.000000</td>\n",
       "    </tr>\n",
       "    <tr>\n",
       "      <th>2022-04-06</th>\n",
       "      <td>383.000000</td>\n",
       "      <td>385.000000</td>\n",
       "      <td>380.000000</td>\n",
       "      <td>381.000000</td>\n",
       "      <td>381.000000</td>\n",
       "      <td>17127923</td>\n",
       "      <td>380.300003</td>\n",
       "      <td>378.342340</td>\n",
       "      <td>-9.257535</td>\n",
       "      <td>10.000000</td>\n",
       "      <td>374.399994</td>\n",
       "    </tr>\n",
       "  </tbody>\n",
       "</table>\n",
       "</div>"
      ],
      "text/plain": [
       "                  Open        High         Low       Close   Adj Close  \\\n",
       "Date                                                                     \n",
       "2022-03-30  383.000000  388.600006  380.200012  380.600006  380.600006   \n",
       "2022-03-31  382.399994  382.399994  372.600006  374.200012  374.200012   \n",
       "2022-04-01  367.000000  378.799988  362.200012  378.799988  378.799988   \n",
       "2022-04-04  388.799988  391.000000  383.799988  390.000000  390.000000   \n",
       "2022-04-06  383.000000  385.000000  380.000000  381.000000  381.000000   \n",
       "\n",
       "              Volume     6day MA       EMA12       MACD         TR  Prediction  \n",
       "Date                                                                            \n",
       "2022-03-30  26951872  372.600001  375.239148 -14.634180  11.399994  374.200012  \n",
       "2022-03-31  14589554  370.133336  375.079281 -13.633061   9.799988  378.799988  \n",
       "2022-04-01  14496674  372.266668  375.651697 -12.326396  16.599976  390.000000  \n",
       "2022-04-04  15665556  377.866669  377.859129 -10.268736  12.200012  381.000000  \n",
       "2022-04-06  17127923  380.300003  378.342340  -9.257535  10.000000  374.399994  "
      ]
     },
     "execution_count": 5,
     "metadata": {},
     "output_type": "execute_result"
    }
   ],
   "source": [
    "data=data[data.columns[list(backwardModel.k_feature_idx_)]]\n",
    "data['Prediction']=data['Close'].shift(-1)\n",
    "data.dropna(inplace=True)\n",
    "data_val=data[-100:]\n",
    "data=data[:-100]\n",
    "data_val.tail()"
   ]
  },
  {
   "cell_type": "code",
   "execution_count": 6,
   "id": "13b49c54",
   "metadata": {},
   "outputs": [],
   "source": [
    "sc = MinMaxScaler(feature_range = (-1, 1))"
   ]
  },
  {
   "cell_type": "code",
   "execution_count": 7,
   "id": "cb6680b2",
   "metadata": {},
   "outputs": [
    {
     "name": "stdout",
     "output_type": "stream",
     "text": [
      "(3843, 1, 10) (3843, 1) (427, 1, 10) (427, 1)\n"
     ]
    },
    {
     "name": "stderr",
     "output_type": "stream",
     "text": [
      "/var/folders/8h/w0jn89bj2w5g85gj4ck7w0t00000gn/T/ipykernel_62957/2420511516.py:1: FutureWarning: In a future version of pandas all arguments of DataFrame.drop except for the argument 'labels' will be keyword-only.\n",
      "  X=sc.fit_transform(data.drop('Prediction',1))\n"
     ]
    }
   ],
   "source": [
    "X=sc.fit_transform(data.drop('Prediction',1))\n",
    "Y = data[\"Prediction\"].values.reshape(-1,1)\n",
    "# Y=np.array(data[\"Close\"])\n",
    "X_train, X_test, y_train, y_test = train_test_split(X, Y, test_size=0.1)\n",
    "X_train = X_train.reshape((X_train.shape[0], 1, X_train.shape[1]))\n",
    "X_test = X_test.reshape((X_test.shape[0], 1, X_test.shape[1]))\n",
    "print(X_train.shape,y_train.shape,X_test.shape,y_test.shape)"
   ]
  },
  {
   "cell_type": "code",
   "execution_count": 8,
   "id": "bb8c5487",
   "metadata": {},
   "outputs": [],
   "source": [
    "model_tech = keras.Sequential()\n",
    "model_tech.add(keras.layers.LSTM(\n",
    "  units=128,\n",
    "  input_shape=(X_train.shape[1], X_train.shape[2]),\n",
    "    return_sequences=True\n",
    "))\n",
    "model_tech.add(keras.layers.LSTM(units=64))\n",
    "model_tech.add(keras.layers.Dense(units=64))\n",
    "model_tech.add(keras.layers.Dense(units=1))\n",
    "model_tech.compile(\n",
    "  loss='mean_squared_error',\n",
    "  optimizer=keras.optimizers.Adam(0.001)\n",
    ")"
   ]
  },
  {
   "cell_type": "code",
   "execution_count": 9,
   "id": "428d66a4",
   "metadata": {
    "pycharm": {
     "is_executing": true
    },
    "scrolled": true
   },
   "outputs": [
    {
     "name": "stdout",
     "output_type": "stream",
     "text": [
      "Epoch 1/300\n"
     ]
    },
    {
     "name": "stderr",
     "output_type": "stream",
     "text": [
      "2022-04-10 14:46:39.646650: W tensorflow/core/platform/profile_utils/cpu_utils.cc:128] Failed to get CPU frequency: 0 Hz\n"
     ]
    },
    {
     "name": "stdout",
     "output_type": "stream",
     "text": [
      "109/109 [==============================] - 2s 6ms/step - loss: 47424.9336 - val_loss: 31422.8340\n",
      "Epoch 2/300\n",
      "109/109 [==============================] - 0s 2ms/step - loss: 11151.2041 - val_loss: 4347.6460\n",
      "Epoch 3/300\n",
      "109/109 [==============================] - 0s 2ms/step - loss: 2447.3870 - val_loss: 2056.3083\n",
      "Epoch 4/300\n",
      "109/109 [==============================] - 0s 2ms/step - loss: 1356.5508 - val_loss: 1174.0634\n",
      "Epoch 5/300\n",
      "109/109 [==============================] - 0s 2ms/step - loss: 738.1965 - val_loss: 611.5462\n",
      "Epoch 6/300\n",
      "109/109 [==============================] - 0s 2ms/step - loss: 372.2857 - val_loss: 341.9250\n",
      "Epoch 7/300\n",
      "109/109 [==============================] - 0s 2ms/step - loss: 232.2595 - val_loss: 249.2922\n",
      "Epoch 8/300\n",
      "109/109 [==============================] - 0s 2ms/step - loss: 172.5030 - val_loss: 197.5613\n",
      "Epoch 9/300\n",
      "109/109 [==============================] - 0s 2ms/step - loss: 136.0934 - val_loss: 163.0443\n",
      "Epoch 10/300\n",
      "109/109 [==============================] - 0s 2ms/step - loss: 111.2212 - val_loss: 137.8837\n",
      "Epoch 11/300\n",
      "109/109 [==============================] - 0s 2ms/step - loss: 93.8120 - val_loss: 120.0452\n",
      "Epoch 12/300\n",
      "109/109 [==============================] - 0s 2ms/step - loss: 81.6671 - val_loss: 103.7612\n",
      "Epoch 13/300\n",
      "109/109 [==============================] - 0s 2ms/step - loss: 73.2264 - val_loss: 90.3690\n",
      "Epoch 14/300\n",
      "109/109 [==============================] - 0s 2ms/step - loss: 67.1025 - val_loss: 80.7480\n",
      "Epoch 15/300\n",
      "109/109 [==============================] - 0s 2ms/step - loss: 62.3848 - val_loss: 73.0710\n",
      "Epoch 16/300\n",
      "109/109 [==============================] - 0s 2ms/step - loss: 58.4842 - val_loss: 66.2880\n",
      "Epoch 17/300\n",
      "109/109 [==============================] - 0s 2ms/step - loss: 55.1131 - val_loss: 60.4857\n",
      "Epoch 18/300\n",
      "109/109 [==============================] - 0s 2ms/step - loss: 52.2150 - val_loss: 55.6918\n",
      "Epoch 19/300\n",
      "109/109 [==============================] - 0s 2ms/step - loss: 49.7390 - val_loss: 51.6753\n",
      "Epoch 20/300\n",
      "109/109 [==============================] - 0s 2ms/step - loss: 47.6144 - val_loss: 48.2470\n",
      "Epoch 21/300\n",
      "109/109 [==============================] - 0s 2ms/step - loss: 45.7937 - val_loss: 45.3594\n",
      "Epoch 22/300\n",
      "109/109 [==============================] - 0s 2ms/step - loss: 44.2428 - val_loss: 43.0122\n",
      "Epoch 23/300\n",
      "109/109 [==============================] - 0s 2ms/step - loss: 42.9128 - val_loss: 41.1519\n",
      "Epoch 24/300\n",
      "109/109 [==============================] - 0s 2ms/step - loss: 41.7439 - val_loss: 39.6655\n",
      "Epoch 25/300\n",
      "109/109 [==============================] - 0s 2ms/step - loss: 40.6906 - val_loss: 38.4135\n",
      "Epoch 26/300\n",
      "109/109 [==============================] - 0s 2ms/step - loss: 39.7292 - val_loss: 37.2669\n",
      "Epoch 27/300\n",
      "109/109 [==============================] - 0s 2ms/step - loss: 38.8484 - val_loss: 36.1151\n",
      "Epoch 28/300\n",
      "109/109 [==============================] - 0s 2ms/step - loss: 38.0456 - val_loss: 34.8935\n",
      "Epoch 29/300\n",
      "109/109 [==============================] - 0s 2ms/step - loss: 37.3312 - val_loss: 33.6622\n",
      "Epoch 30/300\n",
      "109/109 [==============================] - 0s 2ms/step - loss: 36.7238 - val_loss: 32.6014\n",
      "Epoch 31/300\n",
      "109/109 [==============================] - 0s 2ms/step - loss: 36.2307 - val_loss: 31.8330\n",
      "Epoch 32/300\n",
      "109/109 [==============================] - 0s 2ms/step - loss: 35.8404 - val_loss: 31.3109\n",
      "Epoch 33/300\n",
      "109/109 [==============================] - 0s 2ms/step - loss: 35.5282 - val_loss: 30.9437\n",
      "Epoch 34/300\n",
      "109/109 [==============================] - 0s 2ms/step - loss: 35.2647 - val_loss: 30.6833\n",
      "Epoch 35/300\n",
      "109/109 [==============================] - 0s 2ms/step - loss: 35.0275 - val_loss: 30.4893\n",
      "Epoch 36/300\n",
      "109/109 [==============================] - 0s 2ms/step - loss: 34.8072 - val_loss: 30.3218\n",
      "Epoch 37/300\n",
      "109/109 [==============================] - 0s 2ms/step - loss: 34.6023 - val_loss: 30.1582\n",
      "Epoch 38/300\n",
      "109/109 [==============================] - 0s 2ms/step - loss: 34.4119 - val_loss: 29.9921\n",
      "Epoch 39/300\n",
      "109/109 [==============================] - 0s 2ms/step - loss: 34.2350 - val_loss: 29.8253\n",
      "Epoch 40/300\n",
      "109/109 [==============================] - 0s 2ms/step - loss: 34.0702 - val_loss: 29.6622\n",
      "Epoch 41/300\n",
      "109/109 [==============================] - 0s 2ms/step - loss: 33.9160 - val_loss: 29.5068\n",
      "Epoch 42/300\n",
      "109/109 [==============================] - 0s 2ms/step - loss: 33.7713 - val_loss: 29.3629\n",
      "Epoch 43/300\n",
      "109/109 [==============================] - 0s 2ms/step - loss: 33.6351 - val_loss: 29.2331\n",
      "Epoch 44/300\n",
      "109/109 [==============================] - 0s 2ms/step - loss: 33.5068 - val_loss: 29.1186\n",
      "Epoch 45/300\n",
      "109/109 [==============================] - 0s 2ms/step - loss: 33.3857 - val_loss: 29.0205\n",
      "Epoch 46/300\n",
      "109/109 [==============================] - 0s 2ms/step - loss: 33.2714 - val_loss: 28.9385\n",
      "Epoch 47/300\n",
      "109/109 [==============================] - 0s 2ms/step - loss: 33.1634 - val_loss: 28.8718\n",
      "Epoch 48/300\n",
      "109/109 [==============================] - 0s 2ms/step - loss: 33.0615 - val_loss: 28.8194\n",
      "Epoch 49/300\n",
      "109/109 [==============================] - 0s 2ms/step - loss: 32.9651 - val_loss: 28.7799\n",
      "Epoch 50/300\n",
      "109/109 [==============================] - 0s 2ms/step - loss: 32.8741 - val_loss: 28.7518\n",
      "Epoch 51/300\n",
      "109/109 [==============================] - 0s 2ms/step - loss: 32.7880 - val_loss: 28.7334\n",
      "Epoch 52/300\n",
      "109/109 [==============================] - 0s 2ms/step - loss: 32.7065 - val_loss: 28.7228\n",
      "Epoch 53/300\n",
      "109/109 [==============================] - 0s 2ms/step - loss: 32.6293 - val_loss: 28.7190\n",
      "Epoch 54/300\n",
      "109/109 [==============================] - 0s 2ms/step - loss: 32.5562 - val_loss: 28.7199\n",
      "Epoch 55/300\n",
      "109/109 [==============================] - 0s 2ms/step - loss: 32.4867 - val_loss: 28.7246\n",
      "Epoch 56/300\n",
      "109/109 [==============================] - 0s 2ms/step - loss: 32.4206 - val_loss: 28.7318\n",
      "Epoch 57/300\n",
      "109/109 [==============================] - 0s 2ms/step - loss: 32.3577 - val_loss: 28.7404\n",
      "Epoch 58/300\n",
      "109/109 [==============================] - 0s 2ms/step - loss: 32.2975 - val_loss: 28.7497\n",
      "Epoch 59/300\n",
      "109/109 [==============================] - 0s 2ms/step - loss: 32.2400 - val_loss: 28.7589\n",
      "Epoch 60/300\n",
      "109/109 [==============================] - 0s 2ms/step - loss: 32.1849 - val_loss: 28.7676\n",
      "Epoch 61/300\n",
      "109/109 [==============================] - 0s 2ms/step - loss: 32.1320 - val_loss: 28.7754\n",
      "Epoch 62/300\n",
      "109/109 [==============================] - 0s 2ms/step - loss: 32.0811 - val_loss: 28.7821\n",
      "Epoch 63/300\n",
      "109/109 [==============================] - 0s 2ms/step - loss: 32.0320 - val_loss: 28.7874\n",
      "Epoch 64/300\n",
      "109/109 [==============================] - 0s 2ms/step - loss: 31.9847 - val_loss: 28.7913\n",
      "Epoch 65/300\n",
      "109/109 [==============================] - 0s 2ms/step - loss: 31.9390 - val_loss: 28.7937\n",
      "Epoch 66/300\n",
      "109/109 [==============================] - 0s 2ms/step - loss: 31.8948 - val_loss: 28.7946\n",
      "Epoch 67/300\n",
      "109/109 [==============================] - 0s 2ms/step - loss: 31.8519 - val_loss: 28.7941\n",
      "Epoch 68/300\n",
      "109/109 [==============================] - 0s 2ms/step - loss: 31.8104 - val_loss: 28.7923\n",
      "Epoch 69/300\n",
      "109/109 [==============================] - 0s 2ms/step - loss: 31.7701 - val_loss: 28.7893\n",
      "Epoch 70/300\n",
      "109/109 [==============================] - 0s 2ms/step - loss: 31.7310 - val_loss: 28.7852\n",
      "Epoch 71/300\n",
      "109/109 [==============================] - 0s 2ms/step - loss: 31.6930 - val_loss: 28.7799\n",
      "Epoch 72/300\n",
      "109/109 [==============================] - 0s 2ms/step - loss: 31.6561 - val_loss: 28.7738\n",
      "Epoch 73/300\n",
      "109/109 [==============================] - 0s 2ms/step - loss: 31.6201 - val_loss: 28.7668\n",
      "Epoch 74/300\n",
      "109/109 [==============================] - 0s 2ms/step - loss: 31.5851 - val_loss: 28.7590\n",
      "Epoch 75/300\n",
      "109/109 [==============================] - 0s 2ms/step - loss: 31.5511 - val_loss: 28.7508\n",
      "Epoch 76/300\n",
      "109/109 [==============================] - 0s 2ms/step - loss: 31.5179 - val_loss: 28.7418\n",
      "Epoch 77/300\n",
      "109/109 [==============================] - 0s 2ms/step - loss: 31.4856 - val_loss: 28.7323\n",
      "Epoch 78/300\n",
      "109/109 [==============================] - 0s 2ms/step - loss: 31.4541 - val_loss: 28.7224\n",
      "Epoch 79/300\n"
     ]
    },
    {
     "name": "stdout",
     "output_type": "stream",
     "text": [
      "109/109 [==============================] - 0s 2ms/step - loss: 31.4234 - val_loss: 28.7121\n",
      "Epoch 80/300\n",
      "109/109 [==============================] - 0s 2ms/step - loss: 31.3934 - val_loss: 28.7015\n",
      "Epoch 81/300\n",
      "109/109 [==============================] - 0s 2ms/step - loss: 31.3642 - val_loss: 28.6905\n",
      "Epoch 82/300\n",
      "109/109 [==============================] - 0s 2ms/step - loss: 31.3357 - val_loss: 28.6791\n",
      "Epoch 83/300\n",
      "109/109 [==============================] - 0s 2ms/step - loss: 31.3078 - val_loss: 28.6676\n",
      "Epoch 84/300\n",
      "109/109 [==============================] - 0s 2ms/step - loss: 31.2806 - val_loss: 28.6560\n",
      "Epoch 85/300\n",
      "109/109 [==============================] - 0s 2ms/step - loss: 31.2541 - val_loss: 28.6441\n",
      "Epoch 86/300\n",
      "109/109 [==============================] - 0s 2ms/step - loss: 31.2281 - val_loss: 28.6320\n",
      "Epoch 87/300\n",
      "109/109 [==============================] - 0s 2ms/step - loss: 31.2027 - val_loss: 28.6199\n",
      "Epoch 88/300\n",
      "109/109 [==============================] - 0s 2ms/step - loss: 31.1780 - val_loss: 28.6077\n",
      "Epoch 89/300\n",
      "109/109 [==============================] - 0s 2ms/step - loss: 31.1537 - val_loss: 28.5953\n",
      "Epoch 90/300\n",
      "109/109 [==============================] - 0s 2ms/step - loss: 31.1300 - val_loss: 28.5829\n",
      "Epoch 91/300\n",
      "109/109 [==============================] - 0s 2ms/step - loss: 31.1068 - val_loss: 28.5705\n",
      "Epoch 92/300\n",
      "109/109 [==============================] - 0s 2ms/step - loss: 31.0841 - val_loss: 28.5580\n",
      "Epoch 93/300\n",
      "109/109 [==============================] - 0s 2ms/step - loss: 31.0618 - val_loss: 28.5455\n",
      "Epoch 94/300\n",
      "109/109 [==============================] - 0s 2ms/step - loss: 31.0401 - val_loss: 28.5331\n",
      "Epoch 95/300\n",
      "109/109 [==============================] - 0s 2ms/step - loss: 31.0187 - val_loss: 28.5206\n",
      "Epoch 96/300\n",
      "109/109 [==============================] - 0s 2ms/step - loss: 30.9978 - val_loss: 28.5082\n",
      "Epoch 97/300\n",
      "109/109 [==============================] - 0s 2ms/step - loss: 30.9773 - val_loss: 28.4959\n",
      "Epoch 98/300\n",
      "109/109 [==============================] - 0s 2ms/step - loss: 30.9572 - val_loss: 28.4836\n",
      "Epoch 99/300\n",
      "109/109 [==============================] - 0s 2ms/step - loss: 30.9374 - val_loss: 28.4714\n",
      "Epoch 100/300\n",
      "109/109 [==============================] - 0s 2ms/step - loss: 30.9181 - val_loss: 28.4595\n",
      "Epoch 101/300\n",
      "109/109 [==============================] - 0s 2ms/step - loss: 30.8991 - val_loss: 28.4474\n",
      "Epoch 102/300\n",
      "109/109 [==============================] - 0s 2ms/step - loss: 30.8804 - val_loss: 28.4355\n",
      "Epoch 103/300\n",
      "109/109 [==============================] - 0s 2ms/step - loss: 30.8621 - val_loss: 28.4238\n",
      "Epoch 104/300\n",
      "109/109 [==============================] - 0s 2ms/step - loss: 30.8440 - val_loss: 28.4123\n",
      "Epoch 105/300\n",
      "109/109 [==============================] - 0s 2ms/step - loss: 30.8264 - val_loss: 28.4010\n",
      "Epoch 106/300\n",
      "109/109 [==============================] - 0s 2ms/step - loss: 30.8089 - val_loss: 28.3897\n",
      "Epoch 107/300\n",
      "109/109 [==============================] - 0s 2ms/step - loss: 30.7918 - val_loss: 28.3787\n",
      "Epoch 108/300\n",
      "109/109 [==============================] - 0s 2ms/step - loss: 30.7750 - val_loss: 28.3679\n",
      "Epoch 109/300\n",
      "109/109 [==============================] - 0s 2ms/step - loss: 30.7584 - val_loss: 28.3571\n",
      "Epoch 110/300\n",
      "109/109 [==============================] - 0s 2ms/step - loss: 30.7421 - val_loss: 28.3467\n",
      "Epoch 111/300\n",
      "109/109 [==============================] - 0s 2ms/step - loss: 30.7260 - val_loss: 28.3364\n",
      "Epoch 112/300\n",
      "109/109 [==============================] - 0s 2ms/step - loss: 30.7102 - val_loss: 28.3265\n",
      "Epoch 113/300\n",
      "109/109 [==============================] - 0s 2ms/step - loss: 30.6946 - val_loss: 28.3165\n",
      "Epoch 114/300\n",
      "109/109 [==============================] - 0s 2ms/step - loss: 30.6792 - val_loss: 28.3069\n",
      "Epoch 115/300\n",
      "109/109 [==============================] - 0s 2ms/step - loss: 30.6641 - val_loss: 28.2975\n",
      "Epoch 116/300\n",
      "109/109 [==============================] - 0s 2ms/step - loss: 30.6491 - val_loss: 28.2885\n",
      "Epoch 117/300\n",
      "109/109 [==============================] - 0s 2ms/step - loss: 30.6344 - val_loss: 28.2795\n",
      "Epoch 118/300\n",
      "109/109 [==============================] - 0s 2ms/step - loss: 30.6199 - val_loss: 28.2707\n",
      "Epoch 119/300\n",
      "109/109 [==============================] - 0s 2ms/step - loss: 30.6056 - val_loss: 28.2622\n",
      "Epoch 120/300\n",
      "109/109 [==============================] - 0s 2ms/step - loss: 30.5915 - val_loss: 28.2540\n",
      "Epoch 121/300\n",
      "109/109 [==============================] - 0s 2ms/step - loss: 30.5775 - val_loss: 28.2460\n",
      "Epoch 122/300\n",
      "109/109 [==============================] - 0s 2ms/step - loss: 30.5637 - val_loss: 28.2382\n",
      "Epoch 123/300\n",
      "109/109 [==============================] - 0s 2ms/step - loss: 30.5501 - val_loss: 28.2306\n",
      "Epoch 124/300\n",
      "109/109 [==============================] - 0s 2ms/step - loss: 30.5367 - val_loss: 28.2233\n",
      "Epoch 125/300\n",
      "109/109 [==============================] - 0s 2ms/step - loss: 30.5234 - val_loss: 28.2163\n",
      "Epoch 126/300\n",
      "109/109 [==============================] - 0s 2ms/step - loss: 30.5104 - val_loss: 28.2093\n",
      "Epoch 127/300\n",
      "109/109 [==============================] - 0s 2ms/step - loss: 30.4974 - val_loss: 28.2028\n",
      "Epoch 128/300\n",
      "109/109 [==============================] - 0s 2ms/step - loss: 30.4846 - val_loss: 28.1963\n",
      "Epoch 129/300\n",
      "109/109 [==============================] - 0s 2ms/step - loss: 30.4720 - val_loss: 28.1901\n",
      "Epoch 130/300\n",
      "109/109 [==============================] - 0s 2ms/step - loss: 30.4595 - val_loss: 28.1843\n",
      "Epoch 131/300\n",
      "109/109 [==============================] - 0s 2ms/step - loss: 30.4471 - val_loss: 28.1785\n",
      "Epoch 132/300\n",
      "109/109 [==============================] - 0s 2ms/step - loss: 30.4349 - val_loss: 28.1730\n",
      "Epoch 133/300\n",
      "109/109 [==============================] - 0s 2ms/step - loss: 30.4229 - val_loss: 28.1678\n",
      "Epoch 134/300\n",
      "109/109 [==============================] - 0s 2ms/step - loss: 30.4109 - val_loss: 28.1628\n",
      "Epoch 135/300\n",
      "109/109 [==============================] - 0s 2ms/step - loss: 30.3991 - val_loss: 28.1579\n",
      "Epoch 136/300\n",
      "109/109 [==============================] - 0s 2ms/step - loss: 30.3874 - val_loss: 28.1532\n",
      "Epoch 137/300\n",
      "109/109 [==============================] - 0s 2ms/step - loss: 30.3758 - val_loss: 28.1488\n",
      "Epoch 138/300\n",
      "109/109 [==============================] - 0s 2ms/step - loss: 30.3643 - val_loss: 28.1446\n",
      "Epoch 139/300\n",
      "109/109 [==============================] - 0s 2ms/step - loss: 30.3530 - val_loss: 28.1407\n",
      "Epoch 140/300\n",
      "109/109 [==============================] - 0s 2ms/step - loss: 30.3418 - val_loss: 28.1369\n",
      "Epoch 141/300\n",
      "109/109 [==============================] - 0s 2ms/step - loss: 30.3306 - val_loss: 28.1333\n",
      "Epoch 142/300\n",
      "109/109 [==============================] - 0s 2ms/step - loss: 30.3196 - val_loss: 28.1300\n",
      "Epoch 143/300\n",
      "109/109 [==============================] - 0s 2ms/step - loss: 30.3087 - val_loss: 28.1268\n",
      "Epoch 144/300\n",
      "109/109 [==============================] - 0s 2ms/step - loss: 30.2979 - val_loss: 28.1238\n",
      "Epoch 145/300\n",
      "109/109 [==============================] - 0s 2ms/step - loss: 30.2872 - val_loss: 28.1210\n",
      "Epoch 146/300\n",
      "109/109 [==============================] - 0s 2ms/step - loss: 30.2766 - val_loss: 28.1185\n",
      "Epoch 147/300\n",
      "109/109 [==============================] - 0s 2ms/step - loss: 30.2662 - val_loss: 28.1161\n",
      "Epoch 148/300\n",
      "109/109 [==============================] - 0s 2ms/step - loss: 30.2558 - val_loss: 28.1139\n",
      "Epoch 149/300\n",
      "109/109 [==============================] - 0s 2ms/step - loss: 30.2454 - val_loss: 28.1118\n",
      "Epoch 150/300\n",
      "109/109 [==============================] - 0s 2ms/step - loss: 30.2352 - val_loss: 28.1100\n",
      "Epoch 151/300\n",
      "109/109 [==============================] - 0s 2ms/step - loss: 30.2251 - val_loss: 28.1084\n",
      "Epoch 152/300\n",
      "109/109 [==============================] - 0s 2ms/step - loss: 30.2151 - val_loss: 28.1069\n",
      "Epoch 153/300\n",
      "109/109 [==============================] - 0s 2ms/step - loss: 30.2051 - val_loss: 28.1056\n",
      "Epoch 154/300\n",
      "109/109 [==============================] - 0s 2ms/step - loss: 30.1952 - val_loss: 28.1044\n",
      "Epoch 155/300\n",
      "109/109 [==============================] - 0s 2ms/step - loss: 30.1854 - val_loss: 28.1035\n",
      "Epoch 156/300\n",
      "109/109 [==============================] - 0s 2ms/step - loss: 30.1757 - val_loss: 28.1026\n",
      "Epoch 157/300\n"
     ]
    },
    {
     "name": "stdout",
     "output_type": "stream",
     "text": [
      "109/109 [==============================] - 0s 2ms/step - loss: 30.1661 - val_loss: 28.1021\n",
      "Epoch 158/300\n",
      "109/109 [==============================] - 0s 2ms/step - loss: 30.1565 - val_loss: 28.1016\n",
      "Epoch 159/300\n",
      "109/109 [==============================] - 0s 2ms/step - loss: 30.1470 - val_loss: 28.1013\n",
      "Epoch 160/300\n",
      "109/109 [==============================] - 0s 2ms/step - loss: 30.1376 - val_loss: 28.1012\n",
      "Epoch 161/300\n",
      "109/109 [==============================] - 0s 2ms/step - loss: 30.1282 - val_loss: 28.1012\n",
      "Epoch 162/300\n",
      "109/109 [==============================] - 0s 2ms/step - loss: 30.1190 - val_loss: 28.1013\n",
      "Epoch 163/300\n",
      "109/109 [==============================] - 0s 2ms/step - loss: 30.1098 - val_loss: 28.1016\n",
      "Epoch 164/300\n",
      "109/109 [==============================] - 0s 2ms/step - loss: 30.1006 - val_loss: 28.1021\n",
      "Epoch 165/300\n",
      "109/109 [==============================] - 0s 2ms/step - loss: 30.0915 - val_loss: 28.1028\n",
      "Epoch 166/300\n",
      "109/109 [==============================] - 0s 2ms/step - loss: 30.0825 - val_loss: 28.1036\n",
      "Epoch 167/300\n",
      "109/109 [==============================] - 0s 2ms/step - loss: 30.0735 - val_loss: 28.1044\n",
      "Epoch 168/300\n",
      "109/109 [==============================] - 0s 2ms/step - loss: 30.0646 - val_loss: 28.1055\n",
      "Epoch 169/300\n",
      "109/109 [==============================] - 0s 2ms/step - loss: 30.0557 - val_loss: 28.1067\n",
      "Epoch 170/300\n",
      "109/109 [==============================] - 0s 2ms/step - loss: 30.0469 - val_loss: 28.1081\n",
      "Epoch 171/300\n",
      "109/109 [==============================] - 0s 2ms/step - loss: 30.0382 - val_loss: 28.1096\n",
      "Epoch 172/300\n",
      "109/109 [==============================] - 0s 2ms/step - loss: 30.0295 - val_loss: 28.1112\n",
      "Epoch 173/300\n",
      "109/109 [==============================] - 0s 2ms/step - loss: 30.0208 - val_loss: 28.1129\n",
      "Epoch 174/300\n",
      "109/109 [==============================] - 0s 2ms/step - loss: 30.0122 - val_loss: 28.1148\n",
      "Epoch 175/300\n",
      "109/109 [==============================] - 0s 2ms/step - loss: 30.0036 - val_loss: 28.1170\n",
      "Epoch 176/300\n",
      "109/109 [==============================] - 0s 2ms/step - loss: 29.9951 - val_loss: 28.1190\n",
      "Epoch 177/300\n",
      "109/109 [==============================] - 0s 2ms/step - loss: 29.9866 - val_loss: 28.1215\n",
      "Epoch 178/300\n",
      "109/109 [==============================] - 0s 2ms/step - loss: 29.9781 - val_loss: 28.1239\n",
      "Epoch 179/300\n",
      "109/109 [==============================] - 0s 2ms/step - loss: 29.9697 - val_loss: 28.1264\n",
      "Epoch 180/300\n",
      "109/109 [==============================] - 0s 2ms/step - loss: 29.9614 - val_loss: 28.1291\n",
      "Epoch 181/300\n",
      "109/109 [==============================] - 0s 2ms/step - loss: 29.9530 - val_loss: 28.1319\n",
      "Epoch 182/300\n",
      "109/109 [==============================] - 0s 2ms/step - loss: 29.9447 - val_loss: 28.1349\n",
      "Epoch 183/300\n",
      "109/109 [==============================] - 0s 2ms/step - loss: 29.9365 - val_loss: 28.1379\n",
      "Epoch 184/300\n",
      "109/109 [==============================] - 0s 2ms/step - loss: 29.9282 - val_loss: 28.1411\n",
      "Epoch 185/300\n",
      "109/109 [==============================] - 0s 2ms/step - loss: 29.9200 - val_loss: 28.1445\n",
      "Epoch 186/300\n",
      "109/109 [==============================] - 0s 2ms/step - loss: 29.9118 - val_loss: 28.1479\n",
      "Epoch 187/300\n",
      "109/109 [==============================] - 0s 2ms/step - loss: 29.9036 - val_loss: 28.1516\n",
      "Epoch 188/300\n",
      "109/109 [==============================] - 0s 2ms/step - loss: 29.8955 - val_loss: 28.1553\n",
      "Epoch 189/300\n",
      "109/109 [==============================] - 0s 2ms/step - loss: 29.8874 - val_loss: 28.1591\n",
      "Epoch 190/300\n",
      "109/109 [==============================] - 0s 2ms/step - loss: 29.8792 - val_loss: 28.1631\n",
      "Epoch 191/300\n",
      "109/109 [==============================] - 0s 2ms/step - loss: 29.8711 - val_loss: 28.1672\n",
      "Epoch 192/300\n",
      "109/109 [==============================] - 0s 2ms/step - loss: 29.8631 - val_loss: 28.1714\n",
      "Epoch 193/300\n",
      "109/109 [==============================] - 0s 2ms/step - loss: 29.8550 - val_loss: 28.1758\n",
      "Epoch 194/300\n",
      "109/109 [==============================] - 0s 2ms/step - loss: 29.8470 - val_loss: 28.1804\n",
      "Epoch 195/300\n",
      "109/109 [==============================] - 0s 2ms/step - loss: 29.8390 - val_loss: 28.1851\n",
      "Epoch 196/300\n",
      "109/109 [==============================] - 0s 2ms/step - loss: 29.8309 - val_loss: 28.1898\n",
      "Epoch 197/300\n",
      "109/109 [==============================] - 0s 2ms/step - loss: 29.8229 - val_loss: 28.1948\n",
      "Epoch 198/300\n",
      "109/109 [==============================] - 0s 2ms/step - loss: 29.8149 - val_loss: 28.1999\n",
      "Epoch 199/300\n",
      "109/109 [==============================] - 0s 2ms/step - loss: 29.8069 - val_loss: 28.2051\n",
      "Epoch 200/300\n",
      "109/109 [==============================] - 0s 2ms/step - loss: 29.7990 - val_loss: 28.2105\n",
      "Epoch 201/300\n",
      "109/109 [==============================] - 0s 2ms/step - loss: 29.7910 - val_loss: 28.2160\n",
      "Epoch 202/300\n",
      "109/109 [==============================] - 0s 2ms/step - loss: 29.7830 - val_loss: 28.2217\n",
      "Epoch 203/300\n",
      "109/109 [==============================] - 0s 2ms/step - loss: 29.7750 - val_loss: 28.2276\n",
      "Epoch 204/300\n",
      "109/109 [==============================] - 0s 2ms/step - loss: 29.7670 - val_loss: 28.2334\n",
      "Epoch 205/300\n",
      "109/109 [==============================] - 0s 2ms/step - loss: 29.7591 - val_loss: 28.2397\n",
      "Epoch 206/300\n",
      "109/109 [==============================] - 0s 2ms/step - loss: 29.7511 - val_loss: 28.2460\n",
      "Epoch 207/300\n",
      "109/109 [==============================] - 0s 2ms/step - loss: 29.7431 - val_loss: 28.2525\n",
      "Epoch 208/300\n",
      "109/109 [==============================] - 0s 2ms/step - loss: 29.7351 - val_loss: 28.2592\n",
      "Epoch 209/300\n",
      "109/109 [==============================] - 0s 2ms/step - loss: 29.7272 - val_loss: 28.2661\n",
      "Epoch 210/300\n",
      "109/109 [==============================] - 0s 2ms/step - loss: 29.7192 - val_loss: 28.2731\n",
      "Epoch 211/300\n",
      "109/109 [==============================] - 0s 2ms/step - loss: 29.7112 - val_loss: 28.2804\n",
      "Epoch 212/300\n",
      "109/109 [==============================] - 0s 2ms/step - loss: 29.7033 - val_loss: 28.2878\n",
      "Epoch 213/300\n",
      "109/109 [==============================] - 0s 2ms/step - loss: 29.6953 - val_loss: 28.2954\n",
      "Epoch 214/300\n",
      "109/109 [==============================] - 0s 2ms/step - loss: 29.6873 - val_loss: 28.3033\n",
      "Epoch 215/300\n",
      "109/109 [==============================] - 0s 2ms/step - loss: 29.6794 - val_loss: 28.3113\n",
      "Epoch 216/300\n",
      "109/109 [==============================] - 0s 2ms/step - loss: 29.6714 - val_loss: 28.3196\n",
      "Epoch 217/300\n",
      "109/109 [==============================] - 0s 2ms/step - loss: 29.6634 - val_loss: 28.3280\n",
      "Epoch 218/300\n",
      "109/109 [==============================] - 0s 2ms/step - loss: 29.6555 - val_loss: 28.3368\n",
      "Epoch 219/300\n",
      "109/109 [==============================] - 0s 2ms/step - loss: 29.6475 - val_loss: 28.3457\n",
      "Epoch 220/300\n",
      "109/109 [==============================] - 0s 2ms/step - loss: 29.6396 - val_loss: 28.3548\n",
      "Epoch 221/300\n",
      "109/109 [==============================] - 0s 2ms/step - loss: 29.6317 - val_loss: 28.3642\n",
      "Epoch 222/300\n",
      "109/109 [==============================] - 0s 2ms/step - loss: 29.6237 - val_loss: 28.3738\n",
      "Epoch 223/300\n",
      "109/109 [==============================] - 0s 2ms/step - loss: 29.6158 - val_loss: 28.3836\n",
      "Epoch 224/300\n",
      "109/109 [==============================] - 0s 2ms/step - loss: 29.6079 - val_loss: 28.3937\n",
      "Epoch 225/300\n",
      "109/109 [==============================] - 0s 2ms/step - loss: 29.6000 - val_loss: 28.4040\n",
      "Epoch 226/300\n",
      "109/109 [==============================] - 0s 2ms/step - loss: 29.5921 - val_loss: 28.4146\n",
      "Epoch 227/300\n",
      "109/109 [==============================] - 0s 2ms/step - loss: 29.5843 - val_loss: 28.4253\n",
      "Epoch 228/300\n",
      "109/109 [==============================] - 0s 2ms/step - loss: 29.5764 - val_loss: 28.4363\n",
      "Epoch 229/300\n",
      "109/109 [==============================] - 0s 2ms/step - loss: 29.5686 - val_loss: 28.4476\n",
      "Epoch 230/300\n",
      "109/109 [==============================] - 0s 2ms/step - loss: 29.5608 - val_loss: 28.4590\n",
      "Epoch 231/300\n",
      "109/109 [==============================] - 0s 2ms/step - loss: 29.5530 - val_loss: 28.4707\n",
      "Epoch 232/300\n",
      "109/109 [==============================] - 0s 2ms/step - loss: 29.5452 - val_loss: 28.4826\n",
      "Epoch 233/300\n",
      "109/109 [==============================] - 0s 2ms/step - loss: 29.5375 - val_loss: 28.4946\n",
      "Epoch 234/300\n",
      "109/109 [==============================] - 0s 2ms/step - loss: 29.5298 - val_loss: 28.5069\n",
      "Epoch 235/300\n"
     ]
    },
    {
     "name": "stdout",
     "output_type": "stream",
     "text": [
      "109/109 [==============================] - 0s 2ms/step - loss: 29.5221 - val_loss: 28.5195\n",
      "Epoch 236/300\n",
      "109/109 [==============================] - 0s 2ms/step - loss: 29.5145 - val_loss: 28.5322\n",
      "Epoch 237/300\n",
      "109/109 [==============================] - 0s 2ms/step - loss: 29.5069 - val_loss: 28.5450\n",
      "Epoch 238/300\n",
      "109/109 [==============================] - 0s 2ms/step - loss: 29.4993 - val_loss: 28.5580\n",
      "Epoch 239/300\n",
      "109/109 [==============================] - 0s 2ms/step - loss: 29.4918 - val_loss: 28.5712\n",
      "Epoch 240/300\n",
      "109/109 [==============================] - 0s 2ms/step - loss: 29.4843 - val_loss: 28.5846\n",
      "Epoch 241/300\n",
      "109/109 [==============================] - 0s 2ms/step - loss: 29.4768 - val_loss: 28.5981\n",
      "Epoch 242/300\n",
      "109/109 [==============================] - 0s 2ms/step - loss: 29.4694 - val_loss: 28.6118\n",
      "Epoch 243/300\n",
      "109/109 [==============================] - 0s 2ms/step - loss: 29.4620 - val_loss: 28.6256\n",
      "Epoch 244/300\n",
      "109/109 [==============================] - 0s 2ms/step - loss: 29.4547 - val_loss: 28.6395\n",
      "Epoch 245/300\n",
      "109/109 [==============================] - 0s 2ms/step - loss: 29.4474 - val_loss: 28.6535\n",
      "Epoch 246/300\n",
      "109/109 [==============================] - 0s 2ms/step - loss: 29.4402 - val_loss: 28.6676\n",
      "Epoch 247/300\n",
      "109/109 [==============================] - 0s 2ms/step - loss: 29.4330 - val_loss: 28.6818\n",
      "Epoch 248/300\n",
      "109/109 [==============================] - 0s 2ms/step - loss: 29.4259 - val_loss: 28.6961\n",
      "Epoch 249/300\n",
      "109/109 [==============================] - 0s 2ms/step - loss: 29.4189 - val_loss: 28.7106\n",
      "Epoch 250/300\n",
      "109/109 [==============================] - 0s 2ms/step - loss: 29.4118 - val_loss: 28.7250\n",
      "Epoch 251/300\n",
      "109/109 [==============================] - 0s 2ms/step - loss: 29.4048 - val_loss: 28.7395\n",
      "Epoch 252/300\n",
      "109/109 [==============================] - 0s 2ms/step - loss: 29.3979 - val_loss: 28.7542\n",
      "Epoch 253/300\n",
      "109/109 [==============================] - 0s 2ms/step - loss: 29.3910 - val_loss: 28.7687\n",
      "Epoch 254/300\n",
      "109/109 [==============================] - 0s 2ms/step - loss: 29.3842 - val_loss: 28.7834\n",
      "Epoch 255/300\n",
      "109/109 [==============================] - 0s 2ms/step - loss: 29.3774 - val_loss: 28.7981\n",
      "Epoch 256/300\n",
      "109/109 [==============================] - 0s 2ms/step - loss: 29.3706 - val_loss: 28.8129\n",
      "Epoch 257/300\n",
      "109/109 [==============================] - 0s 2ms/step - loss: 29.3639 - val_loss: 28.8277\n",
      "Epoch 258/300\n",
      "109/109 [==============================] - 0s 2ms/step - loss: 29.3571 - val_loss: 28.8426\n",
      "Epoch 259/300\n",
      "109/109 [==============================] - 0s 2ms/step - loss: 29.3504 - val_loss: 28.8575\n",
      "Epoch 260/300\n",
      "109/109 [==============================] - 0s 2ms/step - loss: 29.3438 - val_loss: 28.8724\n",
      "Epoch 261/300\n",
      "109/109 [==============================] - 0s 2ms/step - loss: 29.3371 - val_loss: 28.8874\n",
      "Epoch 262/300\n",
      "109/109 [==============================] - 0s 2ms/step - loss: 29.3305 - val_loss: 28.9025\n",
      "Epoch 263/300\n",
      "109/109 [==============================] - 0s 2ms/step - loss: 29.3239 - val_loss: 28.9176\n",
      "Epoch 264/300\n",
      "109/109 [==============================] - 0s 2ms/step - loss: 29.3173 - val_loss: 28.9328\n",
      "Epoch 265/300\n",
      "109/109 [==============================] - 0s 2ms/step - loss: 29.3107 - val_loss: 28.9480\n",
      "Epoch 266/300\n",
      "109/109 [==============================] - 0s 2ms/step - loss: 29.3041 - val_loss: 28.9633\n",
      "Epoch 267/300\n",
      "109/109 [==============================] - 0s 2ms/step - loss: 29.2974 - val_loss: 28.9788\n",
      "Epoch 268/300\n",
      "109/109 [==============================] - 0s 2ms/step - loss: 29.2908 - val_loss: 28.9943\n",
      "Epoch 269/300\n",
      "109/109 [==============================] - 0s 2ms/step - loss: 29.2842 - val_loss: 29.0100\n",
      "Epoch 270/300\n",
      "109/109 [==============================] - 0s 2ms/step - loss: 29.2775 - val_loss: 29.0258\n",
      "Epoch 271/300\n",
      "109/109 [==============================] - 0s 2ms/step - loss: 29.2708 - val_loss: 29.0418\n",
      "Epoch 272/300\n",
      "109/109 [==============================] - 0s 2ms/step - loss: 29.2641 - val_loss: 29.0580\n",
      "Epoch 273/300\n",
      "109/109 [==============================] - 0s 2ms/step - loss: 29.2573 - val_loss: 29.0743\n",
      "Epoch 274/300\n",
      "109/109 [==============================] - 0s 2ms/step - loss: 29.2506 - val_loss: 29.0909\n",
      "Epoch 275/300\n",
      "109/109 [==============================] - 0s 2ms/step - loss: 29.2438 - val_loss: 29.1077\n",
      "Epoch 276/300\n",
      "109/109 [==============================] - 0s 2ms/step - loss: 29.2369 - val_loss: 29.1248\n",
      "Epoch 277/300\n",
      "109/109 [==============================] - 0s 2ms/step - loss: 29.2301 - val_loss: 29.1423\n",
      "Epoch 278/300\n",
      "109/109 [==============================] - 0s 2ms/step - loss: 29.2232 - val_loss: 29.1600\n",
      "Epoch 279/300\n",
      "109/109 [==============================] - 0s 2ms/step - loss: 29.2163 - val_loss: 29.1782\n",
      "Epoch 280/300\n",
      "109/109 [==============================] - 0s 2ms/step - loss: 29.2094 - val_loss: 29.1967\n",
      "Epoch 281/300\n",
      "109/109 [==============================] - 0s 2ms/step - loss: 29.2024 - val_loss: 29.2156\n",
      "Epoch 282/300\n",
      "109/109 [==============================] - 0s 2ms/step - loss: 29.1955 - val_loss: 29.2351\n",
      "Epoch 283/300\n",
      "109/109 [==============================] - 0s 2ms/step - loss: 29.1885 - val_loss: 29.2552\n",
      "Epoch 284/300\n",
      "109/109 [==============================] - 0s 2ms/step - loss: 29.1815 - val_loss: 29.2758\n",
      "Epoch 285/300\n",
      "109/109 [==============================] - 0s 2ms/step - loss: 29.1746 - val_loss: 29.2970\n",
      "Epoch 286/300\n",
      "109/109 [==============================] - 0s 2ms/step - loss: 29.1677 - val_loss: 29.3189\n",
      "Epoch 287/300\n",
      "109/109 [==============================] - 0s 2ms/step - loss: 29.1607 - val_loss: 29.3416\n",
      "Epoch 288/300\n",
      "109/109 [==============================] - 0s 2ms/step - loss: 29.1539 - val_loss: 29.3651\n",
      "Epoch 289/300\n",
      "109/109 [==============================] - 0s 2ms/step - loss: 29.1470 - val_loss: 29.3894\n",
      "Epoch 290/300\n",
      "109/109 [==============================] - 0s 2ms/step - loss: 29.1403 - val_loss: 29.4149\n",
      "Epoch 291/300\n",
      "109/109 [==============================] - 0s 2ms/step - loss: 29.1336 - val_loss: 29.4413\n",
      "Epoch 292/300\n",
      "109/109 [==============================] - 0s 2ms/step - loss: 29.1270 - val_loss: 29.4687\n",
      "Epoch 293/300\n",
      "109/109 [==============================] - 0s 2ms/step - loss: 29.1206 - val_loss: 29.4974\n",
      "Epoch 294/300\n",
      "109/109 [==============================] - 0s 2ms/step - loss: 29.1143 - val_loss: 29.5273\n",
      "Epoch 295/300\n",
      "109/109 [==============================] - 0s 2ms/step - loss: 29.1083 - val_loss: 29.5587\n",
      "Epoch 296/300\n",
      "109/109 [==============================] - 0s 2ms/step - loss: 29.1025 - val_loss: 29.5914\n",
      "Epoch 297/300\n",
      "109/109 [==============================] - 0s 2ms/step - loss: 29.0969 - val_loss: 29.6257\n",
      "Epoch 298/300\n",
      "109/109 [==============================] - 0s 2ms/step - loss: 29.0917 - val_loss: 29.6614\n",
      "Epoch 299/300\n",
      "109/109 [==============================] - 0s 2ms/step - loss: 29.0868 - val_loss: 29.6987\n",
      "Epoch 300/300\n",
      "109/109 [==============================] - 0s 2ms/step - loss: 29.0825 - val_loss: 29.7374\n"
     ]
    }
   ],
   "source": [
    "history_tech=model_tech.fit(\n",
    "    X_train, y_train,\n",
    "    epochs=300,\n",
    "    batch_size=32,\n",
    "    validation_split=0.1,\n",
    "    verbose=1,\n",
    "    shuffle=False\n",
    ")\n",
    "y_pred = model_tech.predict(X_test)"
   ]
  },
  {
   "cell_type": "code",
   "execution_count": 10,
   "id": "55aa57ad",
   "metadata": {},
   "outputs": [
    {
     "data": {
      "text/plain": [
       "<matplotlib.legend.Legend at 0x17fd1c6a0>"
      ]
     },
     "execution_count": 10,
     "metadata": {},
     "output_type": "execute_result"
    },
    {
     "data": {
      "image/png": "[encoded data removed]",
      "text/plain": [
       "<Figure size 432x288 with 1 Axes>"
      ]
     },
     "metadata": {
      "needs_background": "light"
     },
     "output_type": "display_data"
    }
   ],
   "source": [
    "plt.plot(history_tech.history['loss'], label='train')\n",
    "plt.plot(history_tech.history['val_loss'], label='test')\n",
    "plt.legend()"
   ]
  },
  {
   "cell_type": "code",
   "execution_count": 11,
   "id": "477f1fb7",
   "metadata": {},
   "outputs": [
    {
     "data": {
      "image/png": "[encoded data removed]",
      "text/plain": [
       "<Figure size 432x288 with 1 Axes>"
      ]
     },
     "metadata": {
      "needs_background": "light"
     },
     "output_type": "display_data"
    }
   ],
   "source": [
    "plt.plot(np.arange(0, len(y_train)), y_train, 'g', label=\"history\")\n",
    "plt.plot(np.arange(len(y_train), len(y_train) + len(y_test)), y_test, marker='.', label=\"true\")\n",
    "plt.plot(np.arange(len(y_train), len(y_train) + len(y_test)), y_pred, 'r', label=\"prediction\")\n",
    "plt.ylabel('Value')\n",
    "plt.xlabel('Time Step')\n",
    "plt.legend()\n",
    "plt.show();"
   ]
  },
  {
   "cell_type": "code",
   "execution_count": 12,
   "id": "134553b2",
   "metadata": {
    "scrolled": true
   },
   "outputs": [
    {
     "data": {
      "image/png": "[encoded data removed]",
      "text/plain": [
       "<Figure size 432x288 with 1 Axes>"
      ]
     },
     "metadata": {
      "needs_background": "light"
     },
     "output_type": "display_data"
    }
   ],
   "source": [
    "# y_test = sc.inverse_transform(y_test)\n",
    "# y_pred = sc.inverse_transform(y_pred)\n",
    "plt.plot(y_test, marker='.', label=\"true\")\n",
    "plt.plot(y_pred, 'r', label=\"prediction\")\n",
    "plt.ylabel('Value')\n",
    "plt.xlabel('Time Step')\n",
    "plt.legend()\n",
    "plt.show();"
   ]
  },
  {
   "cell_type": "code",
   "execution_count": 13,
   "id": "0ef7fe0c",
   "metadata": {},
   "outputs": [
    {
     "data": {
      "text/plain": [
       "0.9987902604661236"
      ]
     },
     "execution_count": 13,
     "metadata": {},
     "output_type": "execute_result"
    }
   ],
   "source": [
    "r2_score(y_test,y_pred)"
   ]
  },
  {
   "cell_type": "code",
   "execution_count": 14,
   "id": "7cf212a7",
   "metadata": {},
   "outputs": [
    {
     "data": {
      "text/plain": [
       "0.12312984257260444"
      ]
     },
     "execution_count": 14,
     "metadata": {},
     "output_type": "execute_result"
    }
   ],
   "source": [
    "mean_absolute_percentage_error(y_test,y_pred)"
   ]
  },
  {
   "cell_type": "code",
   "execution_count": 15,
   "id": "a0cd9d21",
   "metadata": {},
   "outputs": [
    {
     "data": {
      "text/plain": [
       "6.076442977774499"
      ]
     },
     "execution_count": 15,
     "metadata": {},
     "output_type": "execute_result"
    }
   ],
   "source": [
    "mean_squared_error(y_test,y_pred,squared=False)"
   ]
  },
  {
   "cell_type": "code",
   "execution_count": 16,
   "id": "325a7cdd",
   "metadata": {},
   "outputs": [
    {
     "name": "stderr",
     "output_type": "stream",
     "text": [
      "/var/folders/8h/w0jn89bj2w5g85gj4ck7w0t00000gn/T/ipykernel_62957/2328949661.py:1: FutureWarning: In a future version of pandas all arguments of DataFrame.drop except for the argument 'labels' will be keyword-only.\n",
      "  x_val=data_val.drop('Prediction',1)\n"
     ]
    }
   ],
   "source": [
    "x_val=data_val.drop('Prediction',1)\n",
    "y_val=data_val['Prediction']\n",
    "x_val=sc.transform(x_val).reshape(x_val.shape[0],1,x_val.shape[1])\n",
    "y_val_pred=model_tech.predict(x_val)"
   ]
  },
  {
   "cell_type": "code",
   "execution_count": 17,
   "id": "529aefb2",
   "metadata": {},
   "outputs": [
    {
     "data": {
      "image/png": "[encoded data removed]",
      "text/plain": [
       "<Figure size 432x288 with 1 Axes>"
      ]
     },
     "metadata": {
      "needs_background": "light"
     },
     "output_type": "display_data"
    }
   ],
   "source": [
    "plt.plot(y_val.values, marker='.', label=\"true\")\n",
    "plt.plot(y_val_pred, 'r', marker='*',label=\"prediction\")\n",
    "plt.ylabel('Value')\n",
    "plt.xlabel('Time Step')\n",
    "plt.legend()\n",
    "plt.show()"
   ]
  },
  {
   "cell_type": "code",
   "execution_count": 18,
   "id": "3b9ce3a3",
   "metadata": {},
   "outputs": [
    {
     "data": {
      "text/plain": [
       "0.9143144298952153"
      ]
     },
     "execution_count": 18,
     "metadata": {},
     "output_type": "execute_result"
    }
   ],
   "source": [
    "r2_score(y_val,y_val_pred)"
   ]
  },
  {
   "cell_type": "code",
   "execution_count": 19,
   "id": "67bc6f38",
   "metadata": {},
   "outputs": [
    {
     "data": {
      "text/plain": [
       "0.021976573311912856"
      ]
     },
     "execution_count": 19,
     "metadata": {},
     "output_type": "execute_result"
    }
   ],
   "source": [
    "mean_absolute_percentage_error(y_val,y_val_pred)"
   ]
  },
  {
   "cell_type": "code",
   "execution_count": 20,
   "id": "7a79ea1f",
   "metadata": {},
   "outputs": [
    {
     "data": {
      "text/plain": [
       "12.326566752544364"
      ]
     },
     "execution_count": 20,
     "metadata": {},
     "output_type": "execute_result"
    }
   ],
   "source": [
    "mean_squared_error(y_val.values,y_val_pred,squared=False)"
   ]
  },
  {
   "cell_type": "code",
   "execution_count": null,
   "id": "d8ab65e9",
   "metadata": {},
   "outputs": [],
   "source": []
  }
 ],
 "metadata": {
  "kernelspec": {
   "display_name": "Python 3 (ipykernel)",
   "language": "python",
   "name": "python3"
  },
  "language_info": {
   "codemirror_mode": {
    "name": "ipython",
    "version": 3
   },
   "file_extension": ".py",
   "mimetype": "text/x-python",
   "name": "python",
   "nbconvert_exporter": "python",
   "pygments_lexer": "ipython3",
   "version": "3.8.13"
  }
 },
 "nbformat": 4,
 "nbformat_minor": 5
}
