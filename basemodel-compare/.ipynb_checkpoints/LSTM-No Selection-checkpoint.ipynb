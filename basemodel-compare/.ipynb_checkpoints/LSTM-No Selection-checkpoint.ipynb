{
 "cells": [
  {
   "cell_type": "code",
   "execution_count": 1,
   "id": "eb9ae2e7",
   "metadata": {},
   "outputs": [],
   "source": [
    "import yfinance as yf\n",
    "import pandas as pd\n",
    "import numpy as np\n",
    "import matplotlib.pyplot as plt\n",
    "from sklearn.preprocessing import MinMaxScaler\n",
    "from sklearn.model_selection import train_test_split\n",
    "from sklearn.metrics import classification_report,accuracy_score, mean_squared_error,mean_absolute_percentage_error,r2_score\n",
    "import tensorflow as tf\n",
    "import talib\n",
    "from tensorflow import keras\n",
    "from sklearn.pipeline import make_pipeline\n",
    "from tensorflow.keras import regularizers\n",
    "tf.config.set_visible_devices([], 'GPU')"
   ]
  },
  {
   "cell_type": "code",
   "execution_count": 2,
   "id": "9ad5f74c",
   "metadata": {},
   "outputs": [
    {
     "name": "stdout",
     "output_type": "stream",
     "text": [
      "[*********************100%***********************]  1 of 1 completed\n"
     ]
    }
   ],
   "source": [
    "data=yf.download('0700.hk')"
   ]
  },
  {
   "cell_type": "code",
   "execution_count": 3,
   "id": "781ab9b7",
   "metadata": {
    "pycharm": {
     "name": "#%%\n"
    }
   },
   "outputs": [],
   "source": [
    "data['6day MA'] = data['Close'].rolling(window = 6).mean()\n",
    "data['12day MA'] = data['Close'].rolling(window = 12).mean()\n",
    "data['RSI'] = talib.RSI(data['Close'].values, timeperiod = 7)\n",
    "data['%R5'] = talib.WILLR(data['High'].values, data['Low'].values, data['Close'].values, 5)\n",
    "data['%R10'] = talib.WILLR(data['High'].values, data['Low'].values, data['Close'].values, 10)\n",
    "data['MI6']=talib.MOM(data['Close'],timeperiod=6)\n",
    "data['MI12']=talib.MOM(data['Close'],timeperiod=12)\n",
    "macd, macdsignal, macdhist = talib.MACD(data['Close'], fastperiod=12, slowperiod=26, signalperiod=9)\n",
    "data['EMA12']=talib.EMA(data['Close'], timeperiod=12)\n",
    "data['EMA26']=talib.EMA(data['Close'],timeperiod=26)\n",
    "data['MACD']=macd\n",
    "data['TR']=talib.TRANGE(data['High'],data['Low'],data['Close'])\n",
    "data['OSC6']=talib.CMO(data['Close'], timeperiod=6)\n",
    "data['OSC12']=talib.CMO(data['Close'], timeperiod=12)\n",
    "data['Prediction']=data['Close'].shift(-1)\n",
    "data.dropna(inplace=True)"
   ]
  },
  {
   "cell_type": "code",
   "execution_count": 4,
   "id": "e1036fe8",
   "metadata": {},
   "outputs": [
    {
     "data": {
      "text/html": [
       "<div>\n",
       "<style scoped>\n",
       "    .dataframe tbody tr th:only-of-type {\n",
       "        vertical-align: middle;\n",
       "    }\n",
       "\n",
       "    .dataframe tbody tr th {\n",
       "        vertical-align: top;\n",
       "    }\n",
       "\n",
       "    .dataframe thead th {\n",
       "        text-align: right;\n",
       "    }\n",
       "</style>\n",
       "<table border=\"1\" class=\"dataframe\">\n",
       "  <thead>\n",
       "    <tr style=\"text-align: right;\">\n",
       "      <th></th>\n",
       "      <th>Open</th>\n",
       "      <th>High</th>\n",
       "      <th>Low</th>\n",
       "      <th>Close</th>\n",
       "      <th>Adj Close</th>\n",
       "      <th>Volume</th>\n",
       "      <th>6day MA</th>\n",
       "      <th>12day MA</th>\n",
       "      <th>RSI</th>\n",
       "      <th>%R5</th>\n",
       "      <th>%R10</th>\n",
       "      <th>MI6</th>\n",
       "      <th>MI12</th>\n",
       "      <th>EMA12</th>\n",
       "      <th>EMA26</th>\n",
       "      <th>MACD</th>\n",
       "      <th>TR</th>\n",
       "      <th>OSC6</th>\n",
       "      <th>OSC12</th>\n",
       "      <th>Prediction</th>\n",
       "    </tr>\n",
       "    <tr>\n",
       "      <th>Date</th>\n",
       "      <th></th>\n",
       "      <th></th>\n",
       "      <th></th>\n",
       "      <th></th>\n",
       "      <th></th>\n",
       "      <th></th>\n",
       "      <th></th>\n",
       "      <th></th>\n",
       "      <th></th>\n",
       "      <th></th>\n",
       "      <th></th>\n",
       "      <th></th>\n",
       "      <th></th>\n",
       "      <th></th>\n",
       "      <th></th>\n",
       "      <th></th>\n",
       "      <th></th>\n",
       "      <th></th>\n",
       "      <th></th>\n",
       "      <th></th>\n",
       "    </tr>\n",
       "  </thead>\n",
       "  <tbody>\n",
       "    <tr>\n",
       "      <th>2022-03-31</th>\n",
       "      <td>382.399994</td>\n",
       "      <td>382.399994</td>\n",
       "      <td>372.600006</td>\n",
       "      <td>374.200012</td>\n",
       "      <td>374.200012</td>\n",
       "      <td>14589554</td>\n",
       "      <td>370.133336</td>\n",
       "      <td>375.683334</td>\n",
       "      <td>48.946234</td>\n",
       "      <td>-38.297850</td>\n",
       "      <td>-55.893518</td>\n",
       "      <td>-14.799988</td>\n",
       "      <td>76.200012</td>\n",
       "      <td>375.079281</td>\n",
       "      <td>388.712342</td>\n",
       "      <td>-13.633061</td>\n",
       "      <td>9.799988</td>\n",
       "      <td>-0.625479</td>\n",
       "      <td>-8.055103</td>\n",
       "      <td>378.799988</td>\n",
       "    </tr>\n",
       "    <tr>\n",
       "      <th>2022-04-01</th>\n",
       "      <td>367.000000</td>\n",
       "      <td>378.799988</td>\n",
       "      <td>362.200012</td>\n",
       "      <td>378.799988</td>\n",
       "      <td>378.799988</td>\n",
       "      <td>14496674</td>\n",
       "      <td>372.266668</td>\n",
       "      <td>376.666667</td>\n",
       "      <td>52.010099</td>\n",
       "      <td>-28.323747</td>\n",
       "      <td>-47.148318</td>\n",
       "      <td>12.799988</td>\n",
       "      <td>11.799988</td>\n",
       "      <td>375.651697</td>\n",
       "      <td>387.978094</td>\n",
       "      <td>-12.326396</td>\n",
       "      <td>16.599976</td>\n",
       "      <td>6.851465</td>\n",
       "      <td>-4.618128</td>\n",
       "      <td>390.000000</td>\n",
       "    </tr>\n",
       "    <tr>\n",
       "      <th>2022-04-04</th>\n",
       "      <td>388.799988</td>\n",
       "      <td>391.000000</td>\n",
       "      <td>383.799988</td>\n",
       "      <td>390.000000</td>\n",
       "      <td>390.000000</td>\n",
       "      <td>15665556</td>\n",
       "      <td>377.866669</td>\n",
       "      <td>376.666667</td>\n",
       "      <td>58.999512</td>\n",
       "      <td>-3.472224</td>\n",
       "      <td>-25.855522</td>\n",
       "      <td>33.600006</td>\n",
       "      <td>0.000000</td>\n",
       "      <td>377.859129</td>\n",
       "      <td>388.127864</td>\n",
       "      <td>-10.268736</td>\n",
       "      <td>12.200012</td>\n",
       "      <td>23.466838</td>\n",
       "      <td>3.532026</td>\n",
       "      <td>381.000000</td>\n",
       "    </tr>\n",
       "    <tr>\n",
       "      <th>2022-04-06</th>\n",
       "      <td>383.000000</td>\n",
       "      <td>385.000000</td>\n",
       "      <td>380.000000</td>\n",
       "      <td>381.000000</td>\n",
       "      <td>381.000000</td>\n",
       "      <td>17127923</td>\n",
       "      <td>380.300003</td>\n",
       "      <td>376.666667</td>\n",
       "      <td>51.911489</td>\n",
       "      <td>-34.722237</td>\n",
       "      <td>-42.965786</td>\n",
       "      <td>14.600006</td>\n",
       "      <td>0.000000</td>\n",
       "      <td>378.342340</td>\n",
       "      <td>387.599874</td>\n",
       "      <td>-9.257535</td>\n",
       "      <td>10.000000</td>\n",
       "      <td>5.346744</td>\n",
       "      <td>-3.086421</td>\n",
       "      <td>374.399994</td>\n",
       "    </tr>\n",
       "    <tr>\n",
       "      <th>2022-04-07</th>\n",
       "      <td>375.600006</td>\n",
       "      <td>383.600006</td>\n",
       "      <td>373.799988</td>\n",
       "      <td>374.399994</td>\n",
       "      <td>374.399994</td>\n",
       "      <td>15874056</td>\n",
       "      <td>379.833333</td>\n",
       "      <td>376.833333</td>\n",
       "      <td>47.073127</td>\n",
       "      <td>-57.638935</td>\n",
       "      <td>-41.500015</td>\n",
       "      <td>-2.800018</td>\n",
       "      <td>2.000000</td>\n",
       "      <td>377.735825</td>\n",
       "      <td>386.622106</td>\n",
       "      <td>-8.886281</td>\n",
       "      <td>9.800018</td>\n",
       "      <td>-6.702583</td>\n",
       "      <td>-7.801568</td>\n",
       "      <td>369.600006</td>\n",
       "    </tr>\n",
       "  </tbody>\n",
       "</table>\n",
       "</div>"
      ],
      "text/plain": [
       "                  Open        High         Low       Close   Adj Close  \\\n",
       "Date                                                                     \n",
       "2022-03-31  382.399994  382.399994  372.600006  374.200012  374.200012   \n",
       "2022-04-01  367.000000  378.799988  362.200012  378.799988  378.799988   \n",
       "2022-04-04  388.799988  391.000000  383.799988  390.000000  390.000000   \n",
       "2022-04-06  383.000000  385.000000  380.000000  381.000000  381.000000   \n",
       "2022-04-07  375.600006  383.600006  373.799988  374.399994  374.399994   \n",
       "\n",
       "              Volume     6day MA    12day MA        RSI        %R5       %R10  \\\n",
       "Date                                                                            \n",
       "2022-03-31  14589554  370.133336  375.683334  48.946234 -38.297850 -55.893518   \n",
       "2022-04-01  14496674  372.266668  376.666667  52.010099 -28.323747 -47.148318   \n",
       "2022-04-04  15665556  377.866669  376.666667  58.999512  -3.472224 -25.855522   \n",
       "2022-04-06  17127923  380.300003  376.666667  51.911489 -34.722237 -42.965786   \n",
       "2022-04-07  15874056  379.833333  376.833333  47.073127 -57.638935 -41.500015   \n",
       "\n",
       "                  MI6       MI12       EMA12       EMA26       MACD  \\\n",
       "Date                                                                  \n",
       "2022-03-31 -14.799988  76.200012  375.079281  388.712342 -13.633061   \n",
       "2022-04-01  12.799988  11.799988  375.651697  387.978094 -12.326396   \n",
       "2022-04-04  33.600006   0.000000  377.859129  388.127864 -10.268736   \n",
       "2022-04-06  14.600006   0.000000  378.342340  387.599874  -9.257535   \n",
       "2022-04-07  -2.800018   2.000000  377.735825  386.622106  -8.886281   \n",
       "\n",
       "                   TR       OSC6     OSC12  Prediction  \n",
       "Date                                                    \n",
       "2022-03-31   9.799988  -0.625479 -8.055103  378.799988  \n",
       "2022-04-01  16.599976   6.851465 -4.618128  390.000000  \n",
       "2022-04-04  12.200012  23.466838  3.532026  381.000000  \n",
       "2022-04-06  10.000000   5.346744 -3.086421  374.399994  \n",
       "2022-04-07   9.800018  -6.702583 -7.801568  369.600006  "
      ]
     },
     "execution_count": 4,
     "metadata": {},
     "output_type": "execute_result"
    }
   ],
   "source": [
    "data_val=data[-100:]\n",
    "data=data[:-100]\n",
    "data_val.tail()"
   ]
  },
  {
   "cell_type": "code",
   "execution_count": 5,
   "id": "13b49c54",
   "metadata": {},
   "outputs": [],
   "source": [
    "sc = MinMaxScaler(feature_range = (-1, 1))"
   ]
  },
  {
   "cell_type": "code",
   "execution_count": 6,
   "id": "cb6680b2",
   "metadata": {},
   "outputs": [
    {
     "name": "stdout",
     "output_type": "stream",
     "text": [
      "(3843, 1, 19) (3843, 1) (428, 1, 19) (428, 1)\n"
     ]
    },
    {
     "name": "stderr",
     "output_type": "stream",
     "text": [
      "/var/folders/8h/w0jn89bj2w5g85gj4ck7w0t00000gn/T/ipykernel_51075/2420511516.py:1: FutureWarning: In a future version of pandas all arguments of DataFrame.drop except for the argument 'labels' will be keyword-only.\n",
      "  X=sc.fit_transform(data.drop('Prediction',1))\n"
     ]
    }
   ],
   "source": [
    "X=sc.fit_transform(data.drop('Prediction',1))\n",
    "Y = data[\"Prediction\"].values.reshape(-1,1)\n",
    "# Y=np.array(data[\"Close\"])\n",
    "X_train, X_test, y_train, y_test = train_test_split(X, Y, test_size=0.1)\n",
    "X_train = X_train.reshape((X_train.shape[0], 1, X_train.shape[1]))\n",
    "X_test = X_test.reshape((X_test.shape[0], 1, X_test.shape[1]))\n",
    "print(X_train.shape,y_train.shape,X_test.shape,y_test.shape)"
   ]
  },
  {
   "cell_type": "code",
   "execution_count": 7,
   "id": "bb8c5487",
   "metadata": {},
   "outputs": [],
   "source": [
    "model_tech = keras.Sequential()\n",
    "model_tech.add(keras.layers.LSTM(\n",
    "  units=128,\n",
    "  input_shape=(X_train.shape[1], X_train.shape[2]),\n",
    "    return_sequences=True\n",
    "   \n",
    "))\n",
    "model_tech.add(keras.layers.LSTM(units=64))\n",
    "model_tech.add(keras.layers.Dense(units=64))\n",
    "model_tech.add(keras.layers.Dense(units=1))\n",
    "model_tech.compile(\n",
    "  loss='mean_squared_error',\n",
    "  optimizer=keras.optimizers.Adam(0.001)\n",
    ")"
   ]
  },
  {
   "cell_type": "code",
   "execution_count": null,
   "id": "428d66a4",
   "metadata": {
    "pycharm": {
     "is_executing": true
    },
    "scrolled": true
   },
   "outputs": [
    {
     "name": "stdout",
     "output_type": "stream",
     "text": [
      "Epoch 1/300\n"
     ]
    },
    {
     "name": "stderr",
     "output_type": "stream",
     "text": [
      "2022-04-10 14:29:22.005474: W tensorflow/core/platform/profile_utils/cpu_utils.cc:128] Failed to get CPU frequency: 0 Hz\n"
     ]
    },
    {
     "name": "stdout",
     "output_type": "stream",
     "text": [
      "692/692 [==============================] - 6s 5ms/step - loss: 11272.4082 - val_loss: 910.2711\n",
      "Epoch 2/300\n",
      "692/692 [==============================] - 1s 2ms/step - loss: 294.4899 - val_loss: 197.6473\n",
      "Epoch 3/300\n",
      "692/692 [==============================] - 2s 3ms/step - loss: 119.7965 - val_loss: 108.7986\n",
      "Epoch 4/300\n",
      "692/692 [==============================] - 3s 5ms/step - loss: 81.6542 - val_loss: 79.1930\n",
      "Epoch 5/300\n",
      "692/692 [==============================] - 3s 4ms/step - loss: 65.0258 - val_loss: 66.7752\n",
      "Epoch 6/300\n",
      "692/692 [==============================] - 2s 3ms/step - loss: 55.8306 - val_loss: 64.6877\n",
      "Epoch 7/300\n",
      "692/692 [==============================] - 3s 5ms/step - loss: 50.2719 - val_loss: 62.4348\n",
      "Epoch 8/300\n",
      "692/692 [==============================] - 3s 5ms/step - loss: 46.9368 - val_loss: 58.3230\n",
      "Epoch 9/300\n",
      " 48/692 [=>............................] - ETA: 2s - loss: 109.2590"
     ]
    }
   ],
   "source": [
    "history_tech=model_tech.fit(\n",
    "    X_train, y_train,\n",
    "    epochs=300,\n",
    "    batch_size=5,\n",
    "    validation_split=0.1,\n",
    "    verbose=1,\n",
    "    shuffle=False\n",
    ")\n",
    "y_pred = model_tech.predict(X_test)"
   ]
  },
  {
   "cell_type": "code",
   "execution_count": null,
   "id": "55aa57ad",
   "metadata": {},
   "outputs": [],
   "source": [
    "plt.plot(history_tech.history['loss'], label='train')\n",
    "plt.plot(history_tech.history['val_loss'], label='test')\n",
    "plt.legend()"
   ]
  },
  {
   "cell_type": "code",
   "execution_count": null,
   "id": "477f1fb7",
   "metadata": {},
   "outputs": [],
   "source": [
    "plt.plot(np.arange(0, len(y_train)), y_train, 'g', label=\"history\")\n",
    "plt.plot(np.arange(len(y_train), len(y_train) + len(y_test)), y_test, marker='.', label=\"true\")\n",
    "plt.plot(np.arange(len(y_train), len(y_train) + len(y_test)), y_pred, 'r', label=\"prediction\")\n",
    "plt.ylabel('Value')\n",
    "plt.xlabel('Time Step')\n",
    "plt.legend()\n",
    "plt.show();"
   ]
  },
  {
   "cell_type": "code",
   "execution_count": null,
   "id": "134553b2",
   "metadata": {
    "scrolled": true
   },
   "outputs": [],
   "source": [
    "# y_test = sc.inverse_transform(y_test)\n",
    "# y_pred = sc.inverse_transform(y_pred)\n",
    "plt.plot(y_test, marker='.', label=\"true\")\n",
    "plt.plot(y_pred, 'r', label=\"prediction\")\n",
    "plt.ylabel('Value')\n",
    "plt.xlabel('Time Step')\n",
    "plt.legend()\n",
    "plt.show();"
   ]
  },
  {
   "cell_type": "code",
   "execution_count": null,
   "id": "0ef7fe0c",
   "metadata": {},
   "outputs": [],
   "source": [
    "r2_score(y_test,y_pred)"
   ]
  },
  {
   "cell_type": "code",
   "execution_count": null,
   "id": "7cf212a7",
   "metadata": {},
   "outputs": [],
   "source": [
    "mean_absolute_percentage_error(y_test,y_pred)"
   ]
  },
  {
   "cell_type": "code",
   "execution_count": null,
   "id": "a0cd9d21",
   "metadata": {},
   "outputs": [],
   "source": [
    "mean_squared_error(y_test,y_pred,squared=False)"
   ]
  },
  {
   "cell_type": "code",
   "execution_count": null,
   "id": "8ee0bfd3",
   "metadata": {},
   "outputs": [],
   "source": [
    "x_val=data_val.drop('Prediction',1)\n",
    "y_val=data_val['Prediction']\n",
    "x_val=sc.transform(x_val).reshape(x_val.shape[0],1,x_val.shape[1])\n",
    "y_val_pred=model_tech.predict(x_val)"
   ]
  },
  {
   "cell_type": "code",
   "execution_count": null,
   "id": "529aefb2",
   "metadata": {},
   "outputs": [],
   "source": [
    "plt.plot(y_val.values, marker='.', label=\"true\")\n",
    "plt.plot(y_val_pred, 'r', marker='*',label=\"prediction\")\n",
    "plt.ylabel('Value')\n",
    "plt.xlabel('Time Step')\n",
    "plt.legend()\n",
    "plt.show()"
   ]
  },
  {
   "cell_type": "code",
   "execution_count": null,
   "id": "3b9ce3a3",
   "metadata": {},
   "outputs": [],
   "source": [
    "r2_score(y_val,y_val_pred)"
   ]
  },
  {
   "cell_type": "code",
   "execution_count": null,
   "id": "67bc6f38",
   "metadata": {},
   "outputs": [],
   "source": [
    "mean_absolute_percentage_error(y_val,y_val_pred)"
   ]
  },
  {
   "cell_type": "code",
   "execution_count": null,
   "id": "7a79ea1f",
   "metadata": {},
   "outputs": [],
   "source": [
    "mean_squared_error(y_val.values,y_val_pred,squared=False)"
   ]
  },
  {
   "cell_type": "code",
   "execution_count": null,
   "id": "d8ab65e9",
   "metadata": {},
   "outputs": [],
   "source": []
  }
 ],
 "metadata": {
  "kernelspec": {
   "display_name": "Python 3 (ipykernel)",
   "language": "python",
   "name": "python3"
  },
  "language_info": {
   "codemirror_mode": {
    "name": "ipython",
    "version": 3
   },
   "file_extension": ".py",
   "mimetype": "text/x-python",
   "name": "python",
   "nbconvert_exporter": "python",
   "pygments_lexer": "ipython3",
   "version": "3.8.13"
  }
 },
 "nbformat": 4,
 "nbformat_minor": 5
}
