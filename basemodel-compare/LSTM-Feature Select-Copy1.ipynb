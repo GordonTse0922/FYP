{
 "cells": [
  {
   "cell_type": "code",
   "execution_count": 1,
   "id": "eb9ae2e7",
   "metadata": {},
   "outputs": [],
   "source": [
    "import yfinance as yf\n",
    "import pandas as pd\n",
    "import numpy as np\n",
    "import matplotlib.pyplot as plt\n",
    "from sklearn.preprocessing import MinMaxScaler\n",
    "from sklearn.model_selection import train_test_split\n",
    "from sklearn.metrics import classification_report,accuracy_score, mean_squared_error,mean_absolute_percentage_error,r2_score\n",
    "import tensorflow as tf\n",
    "import talib\n",
    "from tensorflow import keras\n",
    "from sklearn.pipeline import make_pipeline\n",
    "from tensorflow.keras import regularizers\n",
    "tf.config.set_visible_devices([], 'GPU')"
   ]
  },
  {
   "cell_type": "code",
   "execution_count": 2,
   "id": "9ad5f74c",
   "metadata": {},
   "outputs": [
    {
     "name": "stdout",
     "output_type": "stream",
     "text": [
      "[*********************100%***********************]  1 of 1 completed\n"
     ]
    }
   ],
   "source": [
    "data=yf.download('0700.hk')"
   ]
  },
  {
   "cell_type": "code",
   "execution_count": 3,
   "id": "781ab9b7",
   "metadata": {
    "pycharm": {
     "name": "#%%\n"
    }
   },
   "outputs": [],
   "source": [
    "data['6day MA'] = data['Close'].rolling(window = 6).mean()\n",
    "data['12day MA'] = data['Close'].rolling(window = 12).mean()\n",
    "data['RSI'] = talib.RSI(data['Close'].values, timeperiod = 7)\n",
    "data['%R5'] = talib.WILLR(data['High'].values, data['Low'].values, data['Close'].values, 5)\n",
    "data['%R10'] = talib.WILLR(data['High'].values, data['Low'].values, data['Close'].values, 10)\n",
    "data['MI6']=talib.MOM(data['Close'],timeperiod=6)\n",
    "data['MI12']=talib.MOM(data['Close'],timeperiod=12)\n",
    "macd, macdsignal, macdhist = talib.MACD(data['Close'], fastperiod=12, slowperiod=26, signalperiod=9)\n",
    "data['EMA12']=talib.EMA(data['Close'], timeperiod=12)\n",
    "data['EMA26']=talib.EMA(data['Close'],timeperiod=26)\n",
    "data['MACD']=macd\n",
    "data['TR']=talib.TRANGE(data['High'],data['Low'],data['Close'])\n",
    "data['OSC6']=talib.CMO(data['Close'], timeperiod=6)\n",
    "data['OSC12']=talib.CMO(data['Close'], timeperiod=12)\n",
    "data['Prediction']=data['Close'].shift(-1)\n",
    "data.dropna(inplace=True)"
   ]
  },
  {
   "cell_type": "code",
   "execution_count": 4,
   "id": "3c05d9b9",
   "metadata": {
    "pycharm": {
     "name": "#%%\n"
    }
   },
   "outputs": [
    {
     "name": "stderr",
     "output_type": "stream",
     "text": [
      "/var/folders/8h/w0jn89bj2w5g85gj4ck7w0t00000gn/T/ipykernel_70576/2378408844.py:11: FutureWarning: In a future version of pandas all arguments of DataFrame.drop except for the argument 'labels' will be keyword-only.\n",
      "  backwardModel.fit(np.array(data.drop('Prediction',1)),data['Prediction'].values.ravel())\n",
      "[Parallel(n_jobs=-1)]: Using backend LokyBackend with 8 concurrent workers.\n",
      "[Parallel(n_jobs=-1)]: Done  14 out of  19 | elapsed:   27.4s remaining:    9.8s\n",
      "[Parallel(n_jobs=-1)]: Done  19 out of  19 | elapsed:   38.2s finished\n",
      "\n",
      "[2022-04-10 14:56:12] Features: 18/10 -- score: 0.14346839784536086[Parallel(n_jobs=-1)]: Using backend LokyBackend with 8 concurrent workers.\n",
      "[Parallel(n_jobs=-1)]: Done  13 out of  18 | elapsed:   25.9s remaining:    9.9s\n",
      "[Parallel(n_jobs=-1)]: Done  18 out of  18 | elapsed:   35.3s finished\n",
      "\n",
      "[2022-04-10 14:56:48] Features: 17/10 -- score: 0.16454809600426848[Parallel(n_jobs=-1)]: Using backend LokyBackend with 8 concurrent workers.\n",
      "[Parallel(n_jobs=-1)]: Done  11 out of  17 | elapsed:   24.7s remaining:   13.5s\n",
      "[Parallel(n_jobs=-1)]: Done  17 out of  17 | elapsed:   33.8s finished\n",
      "\n",
      "[2022-04-10 14:57:21] Features: 16/10 -- score: 0.15640287037772[Parallel(n_jobs=-1)]: Using backend LokyBackend with 8 concurrent workers.\n",
      "[Parallel(n_jobs=-1)]: Done  10 out of  16 | elapsed:   23.7s remaining:   14.2s\n",
      "[Parallel(n_jobs=-1)]: Done  16 out of  16 | elapsed:   24.8s finished\n",
      "\n",
      "[2022-04-10 14:57:46] Features: 15/10 -- score: 0.16512569852363607[Parallel(n_jobs=-1)]: Using backend LokyBackend with 8 concurrent workers.\n",
      "[Parallel(n_jobs=-1)]: Done   8 out of  15 | elapsed:   11.7s remaining:   10.3s\n",
      "[Parallel(n_jobs=-1)]: Done  15 out of  15 | elapsed:   22.7s finished\n",
      "\n",
      "[2022-04-10 14:58:09] Features: 14/10 -- score: 0.161924856292983[Parallel(n_jobs=-1)]: Using backend LokyBackend with 8 concurrent workers.\n",
      "[Parallel(n_jobs=-1)]: Done   7 out of  14 | elapsed:   12.0s remaining:   12.0s\n",
      "[Parallel(n_jobs=-1)]: Done  14 out of  14 | elapsed:   20.9s finished\n",
      "\n",
      "[2022-04-10 14:58:30] Features: 13/10 -- score: 0.15808470203654448[Parallel(n_jobs=-1)]: Using backend LokyBackend with 8 concurrent workers.\n",
      "[Parallel(n_jobs=-1)]: Done   5 out of  13 | elapsed:   10.0s remaining:   16.0s\n",
      "[Parallel(n_jobs=-1)]: Done  13 out of  13 | elapsed:   17.5s finished\n",
      "\n",
      "[2022-04-10 14:58:47] Features: 12/10 -- score: 0.1693106396777641[Parallel(n_jobs=-1)]: Using backend LokyBackend with 8 concurrent workers.\n",
      "[Parallel(n_jobs=-1)]: Done   4 out of  12 | elapsed:    8.8s remaining:   17.6s\n",
      "[Parallel(n_jobs=-1)]: Done  12 out of  12 | elapsed:   15.7s finished\n",
      "\n",
      "[2022-04-10 14:59:03] Features: 11/10 -- score: 0.16887187494525685[Parallel(n_jobs=-1)]: Using backend LokyBackend with 8 concurrent workers.\n",
      "[Parallel(n_jobs=-1)]: Done   2 out of  11 | elapsed:    7.3s remaining:   32.8s\n",
      "[Parallel(n_jobs=-1)]: Done   8 out of  11 | elapsed:    7.7s remaining:    2.9s\n",
      "[Parallel(n_jobs=-1)]: Done  11 out of  11 | elapsed:   13.5s finished\n",
      "\n",
      "[2022-04-10 14:59:16] Features: 10/10 -- score: 0.18593002453519528"
     ]
    },
    {
     "data": {
      "text/plain": [
       "SequentialFeatureSelector(estimator=RandomForestRegressor(), forward=False,\n",
       "                          k_features=10, n_jobs=-1, scoring='r2', verbose=2)"
      ]
     },
     "execution_count": 4,
     "metadata": {},
     "output_type": "execute_result"
    }
   ],
   "source": [
    "from mlxtend.feature_selection import SequentialFeatureSelector as sfs\n",
    "from sklearn.ensemble import RandomForestRegressor\n",
    "#k_features=10 (It will get top 10 features best suited for prediction)\n",
    "#forward=False (Backward feature selection model)\n",
    "#verbose=2 (It will show details output as shown below.)\n",
    "#cv=5 (Kfold cross valiation: it will split the training set in 5 set and 4 will be using for training the model and 1 will using as validation)\n",
    "#n_jobs=-1 (Number of cores it will use for execution.-1 means it will use all the cores of CPU for execution.)\n",
    "#scoring='r2'(R-squared is a statistical measure of how close the data are to the fitted regression line)\n",
    "backwardModel=sfs(RandomForestRegressor(),k_features=10,forward=False,verbose=2,cv=5,n_jobs=-1,scoring='r2')\n",
    "#We will convert our training data into numpy array. If we will not convert it, model is not able to read some of the column names.\n",
    "backwardModel.fit(np.array(data.drop('Prediction',1)),data['Prediction'].values.ravel())"
   ]
  },
  {
   "cell_type": "code",
   "execution_count": 5,
   "id": "0c6d7cbf",
   "metadata": {},
   "outputs": [
    {
     "name": "stderr",
     "output_type": "stream",
     "text": [
      "/var/folders/8h/w0jn89bj2w5g85gj4ck7w0t00000gn/T/ipykernel_70576/1273356578.py:2: SettingWithCopyWarning: \n",
      "A value is trying to be set on a copy of a slice from a DataFrame.\n",
      "Try using .loc[row_indexer,col_indexer] = value instead\n",
      "\n",
      "See the caveats in the documentation: https://pandas.pydata.org/pandas-docs/stable/user_guide/indexing.html#returning-a-view-versus-a-copy\n",
      "  data['Prediction']=data['Close'].shift(-1)\n",
      "/var/folders/8h/w0jn89bj2w5g85gj4ck7w0t00000gn/T/ipykernel_70576/1273356578.py:3: SettingWithCopyWarning: \n",
      "A value is trying to be set on a copy of a slice from a DataFrame\n",
      "\n",
      "See the caveats in the documentation: https://pandas.pydata.org/pandas-docs/stable/user_guide/indexing.html#returning-a-view-versus-a-copy\n",
      "  data.dropna(inplace=True)\n"
     ]
    },
    {
     "data": {
      "text/html": [
       "<div>\n",
       "<style scoped>\n",
       "    .dataframe tbody tr th:only-of-type {\n",
       "        vertical-align: middle;\n",
       "    }\n",
       "\n",
       "    .dataframe tbody tr th {\n",
       "        vertical-align: top;\n",
       "    }\n",
       "\n",
       "    .dataframe thead th {\n",
       "        text-align: right;\n",
       "    }\n",
       "</style>\n",
       "<table border=\"1\" class=\"dataframe\">\n",
       "  <thead>\n",
       "    <tr style=\"text-align: right;\">\n",
       "      <th></th>\n",
       "      <th>Open</th>\n",
       "      <th>High</th>\n",
       "      <th>Low</th>\n",
       "      <th>Close</th>\n",
       "      <th>Adj Close</th>\n",
       "      <th>Volume</th>\n",
       "      <th>%R5</th>\n",
       "      <th>%R10</th>\n",
       "      <th>EMA12</th>\n",
       "      <th>TR</th>\n",
       "      <th>Prediction</th>\n",
       "    </tr>\n",
       "    <tr>\n",
       "      <th>Date</th>\n",
       "      <th></th>\n",
       "      <th></th>\n",
       "      <th></th>\n",
       "      <th></th>\n",
       "      <th></th>\n",
       "      <th></th>\n",
       "      <th></th>\n",
       "      <th></th>\n",
       "      <th></th>\n",
       "      <th></th>\n",
       "      <th></th>\n",
       "    </tr>\n",
       "  </thead>\n",
       "  <tbody>\n",
       "    <tr>\n",
       "      <th>2022-03-30</th>\n",
       "      <td>383.000000</td>\n",
       "      <td>388.600006</td>\n",
       "      <td>380.200012</td>\n",
       "      <td>380.600006</td>\n",
       "      <td>380.600006</td>\n",
       "      <td>26951872</td>\n",
       "      <td>-21.276592</td>\n",
       "      <td>-43.726231</td>\n",
       "      <td>375.239148</td>\n",
       "      <td>11.399994</td>\n",
       "      <td>374.200012</td>\n",
       "    </tr>\n",
       "    <tr>\n",
       "      <th>2022-03-31</th>\n",
       "      <td>382.399994</td>\n",
       "      <td>382.399994</td>\n",
       "      <td>372.600006</td>\n",
       "      <td>374.200012</td>\n",
       "      <td>374.200012</td>\n",
       "      <td>14589554</td>\n",
       "      <td>-38.297850</td>\n",
       "      <td>-55.893518</td>\n",
       "      <td>375.079281</td>\n",
       "      <td>9.799988</td>\n",
       "      <td>378.799988</td>\n",
       "    </tr>\n",
       "    <tr>\n",
       "      <th>2022-04-01</th>\n",
       "      <td>367.000000</td>\n",
       "      <td>378.799988</td>\n",
       "      <td>362.200012</td>\n",
       "      <td>378.799988</td>\n",
       "      <td>378.799988</td>\n",
       "      <td>14496674</td>\n",
       "      <td>-28.323747</td>\n",
       "      <td>-47.148318</td>\n",
       "      <td>375.651697</td>\n",
       "      <td>16.599976</td>\n",
       "      <td>390.000000</td>\n",
       "    </tr>\n",
       "    <tr>\n",
       "      <th>2022-04-04</th>\n",
       "      <td>388.799988</td>\n",
       "      <td>391.000000</td>\n",
       "      <td>383.799988</td>\n",
       "      <td>390.000000</td>\n",
       "      <td>390.000000</td>\n",
       "      <td>15665556</td>\n",
       "      <td>-3.472224</td>\n",
       "      <td>-25.855522</td>\n",
       "      <td>377.859129</td>\n",
       "      <td>12.200012</td>\n",
       "      <td>381.000000</td>\n",
       "    </tr>\n",
       "    <tr>\n",
       "      <th>2022-04-06</th>\n",
       "      <td>383.000000</td>\n",
       "      <td>385.000000</td>\n",
       "      <td>380.000000</td>\n",
       "      <td>381.000000</td>\n",
       "      <td>381.000000</td>\n",
       "      <td>17127923</td>\n",
       "      <td>-34.722237</td>\n",
       "      <td>-42.965786</td>\n",
       "      <td>378.342340</td>\n",
       "      <td>10.000000</td>\n",
       "      <td>374.399994</td>\n",
       "    </tr>\n",
       "  </tbody>\n",
       "</table>\n",
       "</div>"
      ],
      "text/plain": [
       "                  Open        High         Low       Close   Adj Close  \\\n",
       "Date                                                                     \n",
       "2022-03-30  383.000000  388.600006  380.200012  380.600006  380.600006   \n",
       "2022-03-31  382.399994  382.399994  372.600006  374.200012  374.200012   \n",
       "2022-04-01  367.000000  378.799988  362.200012  378.799988  378.799988   \n",
       "2022-04-04  388.799988  391.000000  383.799988  390.000000  390.000000   \n",
       "2022-04-06  383.000000  385.000000  380.000000  381.000000  381.000000   \n",
       "\n",
       "              Volume        %R5       %R10       EMA12         TR  Prediction  \n",
       "Date                                                                           \n",
       "2022-03-30  26951872 -21.276592 -43.726231  375.239148  11.399994  374.200012  \n",
       "2022-03-31  14589554 -38.297850 -55.893518  375.079281   9.799988  378.799988  \n",
       "2022-04-01  14496674 -28.323747 -47.148318  375.651697  16.599976  390.000000  \n",
       "2022-04-04  15665556  -3.472224 -25.855522  377.859129  12.200012  381.000000  \n",
       "2022-04-06  17127923 -34.722237 -42.965786  378.342340  10.000000  374.399994  "
      ]
     },
     "execution_count": 5,
     "metadata": {},
     "output_type": "execute_result"
    }
   ],
   "source": [
    "data=data[data.columns[list(backwardModel.k_feature_idx_)]]\n",
    "data['Prediction']=data['Close'].shift(-1)\n",
    "data.dropna(inplace=True)\n",
    "data_val=data[-100:]\n",
    "data=data[:-100]\n",
    "data_val.tail()"
   ]
  },
  {
   "cell_type": "code",
   "execution_count": 6,
   "id": "13b49c54",
   "metadata": {},
   "outputs": [],
   "source": [
    "sc = MinMaxScaler(feature_range = (-1, 1))"
   ]
  },
  {
   "cell_type": "code",
   "execution_count": 7,
   "id": "cb6680b2",
   "metadata": {},
   "outputs": [
    {
     "name": "stdout",
     "output_type": "stream",
     "text": [
      "(3843, 1, 10) (3843, 1) (427, 1, 10) (427, 1)\n"
     ]
    },
    {
     "name": "stderr",
     "output_type": "stream",
     "text": [
      "/var/folders/8h/w0jn89bj2w5g85gj4ck7w0t00000gn/T/ipykernel_70576/2420511516.py:1: FutureWarning: In a future version of pandas all arguments of DataFrame.drop except for the argument 'labels' will be keyword-only.\n",
      "  X=sc.fit_transform(data.drop('Prediction',1))\n"
     ]
    }
   ],
   "source": [
    "X=sc.fit_transform(data.drop('Prediction',1))\n",
    "Y = data[\"Prediction\"].values.reshape(-1,1)\n",
    "# Y=np.array(data[\"Close\"])\n",
    "X_train, X_test, y_train, y_test = train_test_split(X, Y, test_size=0.1)\n",
    "X_train = X_train.reshape((X_train.shape[0], 1, X_train.shape[1]))\n",
    "X_test = X_test.reshape((X_test.shape[0], 1, X_test.shape[1]))\n",
    "print(X_train.shape,y_train.shape,X_test.shape,y_test.shape)"
   ]
  },
  {
   "cell_type": "code",
   "execution_count": 8,
   "id": "bb8c5487",
   "metadata": {},
   "outputs": [],
   "source": [
    "model_tech = keras.Sequential()\n",
    "model_tech.add(keras.layers.LSTM(\n",
    "  units=128,\n",
    "  input_shape=(X_train.shape[1], X_train.shape[2]),\n",
    "    return_sequences=True\n",
    "))\n",
    "model_tech.add(keras.layers.LSTM(units=64))\n",
    "model_tech.add(keras.layers.Dense(units=64))\n",
    "model_tech.add(keras.layers.Dense(units=1))\n",
    "model_tech.compile(\n",
    "  loss='mean_squared_error',\n",
    "  optimizer=keras.optimizers.Adam(0.001)\n",
    ")"
   ]
  },
  {
   "cell_type": "code",
   "execution_count": 9,
   "id": "428d66a4",
   "metadata": {
    "pycharm": {
     "is_executing": true
    },
    "scrolled": true
   },
   "outputs": [
    {
     "name": "stdout",
     "output_type": "stream",
     "text": [
      "Epoch 1/300\n"
     ]
    },
    {
     "name": "stderr",
     "output_type": "stream",
     "text": [
      "2022-04-10 14:59:17.625041: W tensorflow/core/platform/profile_utils/cpu_utils.cc:128] Failed to get CPU frequency: 0 Hz\n"
     ]
    },
    {
     "name": "stdout",
     "output_type": "stream",
     "text": [
      "109/109 [==============================] - 2s 7ms/step - loss: 47945.1758 - val_loss: 30755.7070\n",
      "Epoch 2/300\n",
      "109/109 [==============================] - 0s 2ms/step - loss: 12484.4219 - val_loss: 4060.5535\n",
      "Epoch 3/300\n",
      "109/109 [==============================] - 0s 2ms/step - loss: 2599.7019 - val_loss: 1764.4468\n",
      "Epoch 4/300\n",
      "109/109 [==============================] - 0s 2ms/step - loss: 1456.9418 - val_loss: 1018.5349\n",
      "Epoch 5/300\n",
      "109/109 [==============================] - 0s 2ms/step - loss: 867.0080 - val_loss: 545.1353\n",
      "Epoch 6/300\n",
      "109/109 [==============================] - 0s 2ms/step - loss: 473.3799 - val_loss: 262.8882\n",
      "Epoch 7/300\n",
      "109/109 [==============================] - 0s 2ms/step - loss: 271.6437 - val_loss: 160.0623\n",
      "Epoch 8/300\n",
      "109/109 [==============================] - 0s 2ms/step - loss: 190.8849 - val_loss: 113.2710\n",
      "Epoch 9/300\n",
      "109/109 [==============================] - 0s 2ms/step - loss: 145.7053 - val_loss: 84.0241\n",
      "Epoch 10/300\n",
      "109/109 [==============================] - 0s 2ms/step - loss: 115.6362 - val_loss: 66.0108\n",
      "Epoch 11/300\n",
      "109/109 [==============================] - 0s 2ms/step - loss: 95.0241 - val_loss: 56.0464\n",
      "Epoch 12/300\n",
      "109/109 [==============================] - 0s 2ms/step - loss: 80.7214 - val_loss: 50.4291\n",
      "Epoch 13/300\n",
      "109/109 [==============================] - 0s 2ms/step - loss: 70.5799 - val_loss: 46.2675\n",
      "Epoch 14/300\n",
      "109/109 [==============================] - 0s 2ms/step - loss: 63.3046 - val_loss: 43.4318\n",
      "Epoch 15/300\n",
      "109/109 [==============================] - 0s 2ms/step - loss: 58.0689 - val_loss: 41.6082\n",
      "Epoch 16/300\n",
      "109/109 [==============================] - 0s 2ms/step - loss: 54.1643 - val_loss: 40.1946\n",
      "Epoch 17/300\n",
      "109/109 [==============================] - 0s 2ms/step - loss: 51.0942 - val_loss: 39.0425\n",
      "Epoch 18/300\n",
      "109/109 [==============================] - 0s 2ms/step - loss: 48.5783 - val_loss: 38.1777\n",
      "Epoch 19/300\n",
      "109/109 [==============================] - 0s 3ms/step - loss: 46.4774 - val_loss: 37.4381\n",
      "Epoch 20/300\n",
      "109/109 [==============================] - 0s 2ms/step - loss: 44.7296 - val_loss: 36.5791\n",
      "Epoch 21/300\n",
      "109/109 [==============================] - 0s 2ms/step - loss: 43.2723 - val_loss: 35.6833\n",
      "Epoch 22/300\n",
      "109/109 [==============================] - 0s 2ms/step - loss: 42.0060 - val_loss: 34.8136\n",
      "Epoch 23/300\n",
      "109/109 [==============================] - 0s 2ms/step - loss: 40.8272 - val_loss: 34.1433\n",
      "Epoch 24/300\n",
      "109/109 [==============================] - 0s 2ms/step - loss: 39.7277 - val_loss: 33.7517\n",
      "Epoch 25/300\n",
      "109/109 [==============================] - 0s 2ms/step - loss: 38.7784 - val_loss: 33.5514\n",
      "Epoch 26/300\n",
      "109/109 [==============================] - 0s 2ms/step - loss: 37.9842 - val_loss: 33.4742\n",
      "Epoch 27/300\n",
      "109/109 [==============================] - 0s 2ms/step - loss: 37.3107 - val_loss: 33.5305\n",
      "Epoch 28/300\n",
      "109/109 [==============================] - 0s 2ms/step - loss: 36.7369 - val_loss: 33.7738\n",
      "Epoch 29/300\n",
      "109/109 [==============================] - 0s 2ms/step - loss: 36.2435 - val_loss: 34.1089\n",
      "Epoch 30/300\n",
      "109/109 [==============================] - 0s 2ms/step - loss: 35.8147 - val_loss: 34.3328\n",
      "Epoch 31/300\n",
      "109/109 [==============================] - 0s 2ms/step - loss: 35.4334 - val_loss: 34.4061\n",
      "Epoch 32/300\n",
      "109/109 [==============================] - 0s 2ms/step - loss: 35.0921 - val_loss: 34.4664\n",
      "Epoch 33/300\n",
      "109/109 [==============================] - 0s 2ms/step - loss: 34.8026 - val_loss: 34.5969\n",
      "Epoch 34/300\n",
      "109/109 [==============================] - 0s 2ms/step - loss: 34.5741 - val_loss: 34.7406\n",
      "Epoch 35/300\n",
      "109/109 [==============================] - 0s 2ms/step - loss: 34.3996 - val_loss: 34.8701\n",
      "Epoch 36/300\n",
      "109/109 [==============================] - 0s 2ms/step - loss: 34.2668 - val_loss: 35.0221\n",
      "Epoch 37/300\n",
      "109/109 [==============================] - 0s 2ms/step - loss: 34.1606 - val_loss: 35.2039\n",
      "Epoch 38/300\n",
      "109/109 [==============================] - 0s 2ms/step - loss: 34.0671 - val_loss: 35.3941\n",
      "Epoch 39/300\n",
      "109/109 [==============================] - 0s 2ms/step - loss: 33.9803 - val_loss: 35.5729\n",
      "Epoch 40/300\n",
      "109/109 [==============================] - 0s 2ms/step - loss: 33.8986 - val_loss: 35.7322\n",
      "Epoch 41/300\n",
      "109/109 [==============================] - 0s 2ms/step - loss: 33.8220 - val_loss: 35.8717\n",
      "Epoch 42/300\n",
      "109/109 [==============================] - 0s 2ms/step - loss: 33.7505 - val_loss: 35.9937\n",
      "Epoch 43/300\n",
      "109/109 [==============================] - 0s 2ms/step - loss: 33.6836 - val_loss: 36.1011\n",
      "Epoch 44/300\n",
      "109/109 [==============================] - 0s 2ms/step - loss: 33.6210 - val_loss: 36.1965\n",
      "Epoch 45/300\n",
      "109/109 [==============================] - 0s 2ms/step - loss: 33.5623 - val_loss: 36.2821\n",
      "Epoch 46/300\n",
      "109/109 [==============================] - 0s 2ms/step - loss: 33.5070 - val_loss: 36.3595\n",
      "Epoch 47/300\n",
      "109/109 [==============================] - 0s 2ms/step - loss: 33.4549 - val_loss: 36.4300\n",
      "Epoch 48/300\n",
      "109/109 [==============================] - 0s 2ms/step - loss: 33.4056 - val_loss: 36.4951\n",
      "Epoch 49/300\n",
      "109/109 [==============================] - 0s 2ms/step - loss: 33.3586 - val_loss: 36.5556\n",
      "Epoch 50/300\n",
      "109/109 [==============================] - 0s 2ms/step - loss: 33.3137 - val_loss: 36.6125\n",
      "Epoch 51/300\n",
      "109/109 [==============================] - 0s 2ms/step - loss: 33.2708 - val_loss: 36.6666\n",
      "Epoch 52/300\n",
      "109/109 [==============================] - 0s 2ms/step - loss: 33.2295 - val_loss: 36.7186\n",
      "Epoch 53/300\n",
      "109/109 [==============================] - 0s 2ms/step - loss: 33.1897 - val_loss: 36.7690\n",
      "Epoch 54/300\n",
      "109/109 [==============================] - 0s 2ms/step - loss: 33.1513 - val_loss: 36.8184\n",
      "Epoch 55/300\n",
      "109/109 [==============================] - 0s 2ms/step - loss: 33.1141 - val_loss: 36.8671\n",
      "Epoch 56/300\n",
      "109/109 [==============================] - 0s 2ms/step - loss: 33.0780 - val_loss: 36.9157\n",
      "Epoch 57/300\n",
      "109/109 [==============================] - 0s 2ms/step - loss: 33.0430 - val_loss: 36.9643\n",
      "Epoch 58/300\n",
      "109/109 [==============================] - 0s 2ms/step - loss: 33.0089 - val_loss: 37.0132\n",
      "Epoch 59/300\n",
      "109/109 [==============================] - 0s 2ms/step - loss: 32.9756 - val_loss: 37.0625\n",
      "Epoch 60/300\n",
      "109/109 [==============================] - 0s 2ms/step - loss: 32.9432 - val_loss: 37.1125\n",
      "Epoch 61/300\n",
      "109/109 [==============================] - 0s 2ms/step - loss: 32.9116 - val_loss: 37.1631\n",
      "Epoch 62/300\n",
      "109/109 [==============================] - 0s 2ms/step - loss: 32.8807 - val_loss: 37.2145\n",
      "Epoch 63/300\n",
      "109/109 [==============================] - 0s 2ms/step - loss: 32.8505 - val_loss: 37.2667\n",
      "Epoch 64/300\n",
      "109/109 [==============================] - 0s 2ms/step - loss: 32.8209 - val_loss: 37.3196\n",
      "Epoch 65/300\n",
      "109/109 [==============================] - 0s 2ms/step - loss: 32.7920 - val_loss: 37.3733\n",
      "Epoch 66/300\n",
      "109/109 [==============================] - 0s 2ms/step - loss: 32.7638 - val_loss: 37.4278\n",
      "Epoch 67/300\n",
      "109/109 [==============================] - 0s 2ms/step - loss: 32.7361 - val_loss: 37.4829\n",
      "Epoch 68/300\n",
      "109/109 [==============================] - 0s 2ms/step - loss: 32.7090 - val_loss: 37.5387\n",
      "Epoch 69/300\n",
      "109/109 [==============================] - 0s 2ms/step - loss: 32.6825 - val_loss: 37.5952\n",
      "Epoch 70/300\n",
      "109/109 [==============================] - 0s 2ms/step - loss: 32.6565 - val_loss: 37.6521\n",
      "Epoch 71/300\n",
      "109/109 [==============================] - 0s 2ms/step - loss: 32.6311 - val_loss: 37.7096\n",
      "Epoch 72/300\n",
      "109/109 [==============================] - 0s 2ms/step - loss: 32.6062 - val_loss: 37.7673\n",
      "Epoch 73/300\n",
      "109/109 [==============================] - 0s 2ms/step - loss: 32.5818 - val_loss: 37.8255\n",
      "Epoch 74/300\n",
      "109/109 [==============================] - 0s 2ms/step - loss: 32.5579 - val_loss: 37.8840\n",
      "Epoch 75/300\n",
      "109/109 [==============================] - 0s 2ms/step - loss: 32.5345 - val_loss: 37.9428\n",
      "Epoch 76/300\n",
      "109/109 [==============================] - 0s 2ms/step - loss: 32.5116 - val_loss: 38.0016\n",
      "Epoch 77/300\n",
      "109/109 [==============================] - 0s 2ms/step - loss: 32.4891 - val_loss: 38.0606\n",
      "Epoch 78/300\n",
      "109/109 [==============================] - 0s 2ms/step - loss: 32.4671 - val_loss: 38.1196\n",
      "Epoch 79/300\n"
     ]
    },
    {
     "name": "stdout",
     "output_type": "stream",
     "text": [
      "109/109 [==============================] - 0s 2ms/step - loss: 32.4455 - val_loss: 38.1787\n",
      "Epoch 80/300\n",
      "109/109 [==============================] - 0s 2ms/step - loss: 32.4244 - val_loss: 38.2377\n",
      "Epoch 81/300\n",
      "109/109 [==============================] - 0s 2ms/step - loss: 32.4037 - val_loss: 38.2967\n",
      "Epoch 82/300\n",
      "109/109 [==============================] - 0s 2ms/step - loss: 32.3833 - val_loss: 38.3556\n",
      "Epoch 83/300\n",
      "109/109 [==============================] - 0s 2ms/step - loss: 32.3634 - val_loss: 38.4143\n",
      "Epoch 84/300\n",
      "109/109 [==============================] - 0s 2ms/step - loss: 32.3438 - val_loss: 38.4729\n",
      "Epoch 85/300\n",
      "109/109 [==============================] - 0s 2ms/step - loss: 32.3246 - val_loss: 38.5313\n",
      "Epoch 86/300\n",
      "109/109 [==============================] - 0s 2ms/step - loss: 32.3057 - val_loss: 38.5894\n",
      "Epoch 87/300\n",
      "109/109 [==============================] - 0s 2ms/step - loss: 32.2872 - val_loss: 38.6473\n",
      "Epoch 88/300\n",
      "109/109 [==============================] - 0s 2ms/step - loss: 32.2690 - val_loss: 38.7050\n",
      "Epoch 89/300\n",
      "109/109 [==============================] - 0s 2ms/step - loss: 32.2511 - val_loss: 38.7624\n",
      "Epoch 90/300\n",
      "109/109 [==============================] - 0s 2ms/step - loss: 32.2335 - val_loss: 38.8194\n",
      "Epoch 91/300\n",
      "109/109 [==============================] - 0s 2ms/step - loss: 32.2163 - val_loss: 38.8761\n",
      "Epoch 92/300\n",
      "109/109 [==============================] - 0s 2ms/step - loss: 32.1993 - val_loss: 38.9326\n",
      "Epoch 93/300\n",
      "109/109 [==============================] - 0s 2ms/step - loss: 32.1826 - val_loss: 38.9886\n",
      "Epoch 94/300\n",
      "109/109 [==============================] - 0s 2ms/step - loss: 32.1661 - val_loss: 39.0444\n",
      "Epoch 95/300\n",
      "109/109 [==============================] - 0s 2ms/step - loss: 32.1499 - val_loss: 39.0998\n",
      "Epoch 96/300\n",
      "109/109 [==============================] - 0s 2ms/step - loss: 32.1340 - val_loss: 39.1549\n",
      "Epoch 97/300\n",
      "109/109 [==============================] - 0s 2ms/step - loss: 32.1183 - val_loss: 39.2095\n",
      "Epoch 98/300\n",
      "109/109 [==============================] - 0s 2ms/step - loss: 32.1028 - val_loss: 39.2639\n",
      "Epoch 99/300\n",
      "109/109 [==============================] - 0s 2ms/step - loss: 32.0876 - val_loss: 39.3180\n",
      "Epoch 100/300\n",
      "109/109 [==============================] - 0s 2ms/step - loss: 32.0726 - val_loss: 39.3715\n",
      "Epoch 101/300\n",
      "109/109 [==============================] - 0s 2ms/step - loss: 32.0578 - val_loss: 39.4248\n",
      "Epoch 102/300\n",
      "109/109 [==============================] - 0s 2ms/step - loss: 32.0432 - val_loss: 39.4777\n",
      "Epoch 103/300\n",
      "109/109 [==============================] - 0s 2ms/step - loss: 32.0287 - val_loss: 39.5303\n",
      "Epoch 104/300\n",
      "109/109 [==============================] - 0s 2ms/step - loss: 32.0145 - val_loss: 39.5825\n",
      "Epoch 105/300\n",
      "109/109 [==============================] - 0s 2ms/step - loss: 32.0004 - val_loss: 39.6343\n",
      "Epoch 106/300\n",
      "109/109 [==============================] - 0s 2ms/step - loss: 31.9866 - val_loss: 39.6859\n",
      "Epoch 107/300\n",
      "109/109 [==============================] - 0s 2ms/step - loss: 31.9729 - val_loss: 39.7370\n",
      "Epoch 108/300\n",
      "109/109 [==============================] - 0s 2ms/step - loss: 31.9593 - val_loss: 39.7878\n",
      "Epoch 109/300\n",
      "109/109 [==============================] - 0s 2ms/step - loss: 31.9459 - val_loss: 39.8383\n",
      "Epoch 110/300\n",
      "109/109 [==============================] - 0s 2ms/step - loss: 31.9327 - val_loss: 39.8885\n",
      "Epoch 111/300\n",
      "109/109 [==============================] - 0s 2ms/step - loss: 31.9196 - val_loss: 39.9381\n",
      "Epoch 112/300\n",
      "109/109 [==============================] - 0s 2ms/step - loss: 31.9067 - val_loss: 39.9876\n",
      "Epoch 113/300\n",
      "109/109 [==============================] - 0s 2ms/step - loss: 31.8939 - val_loss: 40.0366\n",
      "Epoch 114/300\n",
      "109/109 [==============================] - 0s 2ms/step - loss: 31.8812 - val_loss: 40.0854\n",
      "Epoch 115/300\n",
      "109/109 [==============================] - 0s 2ms/step - loss: 31.8686 - val_loss: 40.1337\n",
      "Epoch 116/300\n",
      "109/109 [==============================] - 0s 2ms/step - loss: 31.8562 - val_loss: 40.1818\n",
      "Epoch 117/300\n",
      "109/109 [==============================] - 0s 2ms/step - loss: 31.8439 - val_loss: 40.2294\n",
      "Epoch 118/300\n",
      "109/109 [==============================] - 0s 2ms/step - loss: 31.8317 - val_loss: 40.2768\n",
      "Epoch 119/300\n",
      "109/109 [==============================] - 0s 2ms/step - loss: 31.8196 - val_loss: 40.3238\n",
      "Epoch 120/300\n",
      "109/109 [==============================] - 0s 2ms/step - loss: 31.8077 - val_loss: 40.3705\n",
      "Epoch 121/300\n",
      "109/109 [==============================] - 0s 2ms/step - loss: 31.7958 - val_loss: 40.4168\n",
      "Epoch 122/300\n",
      "109/109 [==============================] - 0s 2ms/step - loss: 31.7841 - val_loss: 40.4628\n",
      "Epoch 123/300\n",
      "109/109 [==============================] - 0s 2ms/step - loss: 31.7724 - val_loss: 40.5085\n",
      "Epoch 124/300\n",
      "109/109 [==============================] - 0s 2ms/step - loss: 31.7609 - val_loss: 40.5538\n",
      "Epoch 125/300\n",
      "109/109 [==============================] - 0s 2ms/step - loss: 31.7494 - val_loss: 40.5987\n",
      "Epoch 126/300\n",
      "109/109 [==============================] - 0s 2ms/step - loss: 31.7380 - val_loss: 40.6433\n",
      "Epoch 127/300\n",
      "109/109 [==============================] - 0s 2ms/step - loss: 31.7268 - val_loss: 40.6876\n",
      "Epoch 128/300\n",
      "109/109 [==============================] - 0s 2ms/step - loss: 31.7156 - val_loss: 40.7316\n",
      "Epoch 129/300\n",
      "109/109 [==============================] - 0s 2ms/step - loss: 31.7045 - val_loss: 40.7751\n",
      "Epoch 130/300\n",
      "109/109 [==============================] - 0s 2ms/step - loss: 31.6934 - val_loss: 40.8184\n",
      "Epoch 131/300\n",
      "109/109 [==============================] - 0s 2ms/step - loss: 31.6824 - val_loss: 40.8613\n",
      "Epoch 132/300\n",
      "109/109 [==============================] - 0s 2ms/step - loss: 31.6716 - val_loss: 40.9038\n",
      "Epoch 133/300\n",
      "109/109 [==============================] - 0s 2ms/step - loss: 31.6608 - val_loss: 40.9461\n",
      "Epoch 134/300\n",
      "109/109 [==============================] - 0s 2ms/step - loss: 31.6500 - val_loss: 40.9880\n",
      "Epoch 135/300\n",
      "109/109 [==============================] - 0s 2ms/step - loss: 31.6394 - val_loss: 41.0295\n",
      "Epoch 136/300\n",
      "109/109 [==============================] - 0s 2ms/step - loss: 31.6288 - val_loss: 41.0707\n",
      "Epoch 137/300\n",
      "109/109 [==============================] - 0s 2ms/step - loss: 31.6183 - val_loss: 41.1116\n",
      "Epoch 138/300\n",
      "109/109 [==============================] - 0s 2ms/step - loss: 31.6078 - val_loss: 41.1521\n",
      "Epoch 139/300\n",
      "109/109 [==============================] - 0s 2ms/step - loss: 31.5974 - val_loss: 41.1924\n",
      "Epoch 140/300\n",
      "109/109 [==============================] - 0s 2ms/step - loss: 31.5871 - val_loss: 41.2322\n",
      "Epoch 141/300\n",
      "109/109 [==============================] - 0s 2ms/step - loss: 31.5768 - val_loss: 41.2717\n",
      "Epoch 142/300\n",
      "109/109 [==============================] - 0s 2ms/step - loss: 31.5666 - val_loss: 41.3109\n",
      "Epoch 143/300\n",
      "109/109 [==============================] - 0s 2ms/step - loss: 31.5565 - val_loss: 41.3498\n",
      "Epoch 144/300\n",
      "109/109 [==============================] - 0s 2ms/step - loss: 31.5464 - val_loss: 41.3884\n",
      "Epoch 145/300\n",
      "109/109 [==============================] - 0s 2ms/step - loss: 31.5363 - val_loss: 41.4266\n",
      "Epoch 146/300\n",
      "109/109 [==============================] - 0s 2ms/step - loss: 31.5263 - val_loss: 41.4645\n",
      "Epoch 147/300\n",
      "109/109 [==============================] - 0s 2ms/step - loss: 31.5164 - val_loss: 41.5020\n",
      "Epoch 148/300\n",
      "109/109 [==============================] - 0s 2ms/step - loss: 31.5065 - val_loss: 41.5394\n",
      "Epoch 149/300\n",
      "109/109 [==============================] - 0s 3ms/step - loss: 31.4967 - val_loss: 41.5763\n",
      "Epoch 150/300\n",
      "109/109 [==============================] - 0s 2ms/step - loss: 31.4869 - val_loss: 41.6130\n",
      "Epoch 151/300\n",
      "109/109 [==============================] - 0s 2ms/step - loss: 31.4772 - val_loss: 41.6493\n",
      "Epoch 152/300\n",
      "109/109 [==============================] - 0s 2ms/step - loss: 31.4675 - val_loss: 41.6853\n",
      "Epoch 153/300\n",
      "109/109 [==============================] - 0s 3ms/step - loss: 31.4579 - val_loss: 41.7211\n",
      "Epoch 154/300\n",
      "109/109 [==============================] - 0s 3ms/step - loss: 31.4482 - val_loss: 41.7565\n",
      "Epoch 155/300\n",
      "109/109 [==============================] - 0s 3ms/step - loss: 31.4387 - val_loss: 41.7916\n",
      "Epoch 156/300\n",
      "109/109 [==============================] - 0s 3ms/step - loss: 31.4292 - val_loss: 41.8265\n",
      "Epoch 157/300\n"
     ]
    },
    {
     "name": "stdout",
     "output_type": "stream",
     "text": [
      "109/109 [==============================] - 0s 2ms/step - loss: 31.4197 - val_loss: 41.8610\n",
      "Epoch 158/300\n",
      "109/109 [==============================] - 0s 3ms/step - loss: 31.4103 - val_loss: 41.8954\n",
      "Epoch 159/300\n",
      "109/109 [==============================] - 0s 2ms/step - loss: 31.4009 - val_loss: 41.9294\n",
      "Epoch 160/300\n",
      "109/109 [==============================] - 0s 2ms/step - loss: 31.3916 - val_loss: 41.9631\n",
      "Epoch 161/300\n",
      "109/109 [==============================] - 0s 2ms/step - loss: 31.3822 - val_loss: 41.9966\n",
      "Epoch 162/300\n",
      "109/109 [==============================] - 0s 2ms/step - loss: 31.3730 - val_loss: 42.0299\n",
      "Epoch 163/300\n",
      "109/109 [==============================] - 0s 2ms/step - loss: 31.3637 - val_loss: 42.0628\n",
      "Epoch 164/300\n",
      "109/109 [==============================] - 0s 2ms/step - loss: 31.3545 - val_loss: 42.0955\n",
      "Epoch 165/300\n",
      "109/109 [==============================] - 0s 2ms/step - loss: 31.3453 - val_loss: 42.1279\n",
      "Epoch 166/300\n",
      "109/109 [==============================] - 0s 2ms/step - loss: 31.3361 - val_loss: 42.1601\n",
      "Epoch 167/300\n",
      "109/109 [==============================] - 0s 2ms/step - loss: 31.3270 - val_loss: 42.1921\n",
      "Epoch 168/300\n",
      "109/109 [==============================] - 0s 2ms/step - loss: 31.3179 - val_loss: 42.2238\n",
      "Epoch 169/300\n",
      "109/109 [==============================] - 0s 2ms/step - loss: 31.3089 - val_loss: 42.2554\n",
      "Epoch 170/300\n",
      "109/109 [==============================] - 0s 2ms/step - loss: 31.2998 - val_loss: 42.2867\n",
      "Epoch 171/300\n",
      "109/109 [==============================] - 0s 2ms/step - loss: 31.2908 - val_loss: 42.3178\n",
      "Epoch 172/300\n",
      "109/109 [==============================] - 0s 2ms/step - loss: 31.2818 - val_loss: 42.3486\n",
      "Epoch 173/300\n",
      "109/109 [==============================] - 0s 2ms/step - loss: 31.2729 - val_loss: 42.3793\n",
      "Epoch 174/300\n",
      "109/109 [==============================] - 0s 2ms/step - loss: 31.2639 - val_loss: 42.4097\n",
      "Epoch 175/300\n",
      "109/109 [==============================] - 0s 2ms/step - loss: 31.2550 - val_loss: 42.4400\n",
      "Epoch 176/300\n",
      "109/109 [==============================] - 0s 2ms/step - loss: 31.2461 - val_loss: 42.4702\n",
      "Epoch 177/300\n",
      "109/109 [==============================] - 0s 2ms/step - loss: 31.2372 - val_loss: 42.5000\n",
      "Epoch 178/300\n",
      "109/109 [==============================] - 0s 2ms/step - loss: 31.2283 - val_loss: 42.5298\n",
      "Epoch 179/300\n",
      "109/109 [==============================] - 0s 2ms/step - loss: 31.2194 - val_loss: 42.5594\n",
      "Epoch 180/300\n",
      "109/109 [==============================] - 0s 2ms/step - loss: 31.2106 - val_loss: 42.5888\n",
      "Epoch 181/300\n",
      "109/109 [==============================] - 0s 2ms/step - loss: 31.2017 - val_loss: 42.6181\n",
      "Epoch 182/300\n",
      "109/109 [==============================] - 0s 2ms/step - loss: 31.1929 - val_loss: 42.6473\n",
      "Epoch 183/300\n",
      "109/109 [==============================] - 0s 2ms/step - loss: 31.1840 - val_loss: 42.6762\n",
      "Epoch 184/300\n",
      "109/109 [==============================] - 0s 2ms/step - loss: 31.1752 - val_loss: 42.7052\n",
      "Epoch 185/300\n",
      "109/109 [==============================] - 0s 2ms/step - loss: 31.1664 - val_loss: 42.7339\n",
      "Epoch 186/300\n",
      "109/109 [==============================] - 0s 2ms/step - loss: 31.1576 - val_loss: 42.7625\n",
      "Epoch 187/300\n",
      "109/109 [==============================] - 0s 2ms/step - loss: 31.1488 - val_loss: 42.7911\n",
      "Epoch 188/300\n",
      "109/109 [==============================] - 0s 2ms/step - loss: 31.1400 - val_loss: 42.8196\n",
      "Epoch 189/300\n",
      "109/109 [==============================] - 0s 3ms/step - loss: 31.1312 - val_loss: 42.8479\n",
      "Epoch 190/300\n",
      "109/109 [==============================] - 0s 3ms/step - loss: 31.1223 - val_loss: 42.8762\n",
      "Epoch 191/300\n",
      "109/109 [==============================] - 0s 4ms/step - loss: 31.1135 - val_loss: 42.9045\n",
      "Epoch 192/300\n",
      "109/109 [==============================] - 0s 2ms/step - loss: 31.1047 - val_loss: 42.9325\n",
      "Epoch 193/300\n",
      "109/109 [==============================] - 0s 2ms/step - loss: 31.0959 - val_loss: 42.9606\n",
      "Epoch 194/300\n",
      "109/109 [==============================] - 0s 2ms/step - loss: 31.0870 - val_loss: 42.9887\n",
      "Epoch 195/300\n",
      "109/109 [==============================] - 0s 2ms/step - loss: 31.0781 - val_loss: 43.0166\n",
      "Epoch 196/300\n",
      "109/109 [==============================] - 0s 2ms/step - loss: 31.0693 - val_loss: 43.0446\n",
      "Epoch 197/300\n",
      "109/109 [==============================] - 0s 2ms/step - loss: 31.0604 - val_loss: 43.0725\n",
      "Epoch 198/300\n",
      "109/109 [==============================] - 0s 2ms/step - loss: 31.0515 - val_loss: 43.1005\n",
      "Epoch 199/300\n",
      "109/109 [==============================] - 0s 2ms/step - loss: 31.0425 - val_loss: 43.1284\n",
      "Epoch 200/300\n",
      "109/109 [==============================] - 0s 2ms/step - loss: 31.0336 - val_loss: 43.1562\n",
      "Epoch 201/300\n",
      "109/109 [==============================] - 0s 2ms/step - loss: 31.0246 - val_loss: 43.1841\n",
      "Epoch 202/300\n",
      "109/109 [==============================] - 0s 2ms/step - loss: 31.0156 - val_loss: 43.2120\n",
      "Epoch 203/300\n",
      "109/109 [==============================] - 0s 2ms/step - loss: 31.0066 - val_loss: 43.2398\n",
      "Epoch 204/300\n",
      "109/109 [==============================] - 0s 2ms/step - loss: 30.9975 - val_loss: 43.2678\n",
      "Epoch 205/300\n",
      "109/109 [==============================] - 0s 2ms/step - loss: 30.9884 - val_loss: 43.2957\n",
      "Epoch 206/300\n",
      "109/109 [==============================] - 0s 2ms/step - loss: 30.9793 - val_loss: 43.3236\n",
      "Epoch 207/300\n",
      "109/109 [==============================] - 0s 2ms/step - loss: 30.9701 - val_loss: 43.3515\n",
      "Epoch 208/300\n",
      "109/109 [==============================] - 0s 2ms/step - loss: 30.9609 - val_loss: 43.3795\n",
      "Epoch 209/300\n",
      "109/109 [==============================] - 0s 2ms/step - loss: 30.9517 - val_loss: 43.4075\n",
      "Epoch 210/300\n",
      "109/109 [==============================] - 0s 2ms/step - loss: 30.9424 - val_loss: 43.4355\n",
      "Epoch 211/300\n",
      "109/109 [==============================] - 0s 2ms/step - loss: 30.9331 - val_loss: 43.4635\n",
      "Epoch 212/300\n",
      "109/109 [==============================] - 0s 2ms/step - loss: 30.9237 - val_loss: 43.4915\n",
      "Epoch 213/300\n",
      "109/109 [==============================] - 0s 2ms/step - loss: 30.9143 - val_loss: 43.5196\n",
      "Epoch 214/300\n",
      "109/109 [==============================] - 0s 2ms/step - loss: 30.9049 - val_loss: 43.5477\n",
      "Epoch 215/300\n",
      "109/109 [==============================] - 0s 2ms/step - loss: 30.8953 - val_loss: 43.5757\n",
      "Epoch 216/300\n",
      "109/109 [==============================] - 0s 2ms/step - loss: 30.8858 - val_loss: 43.6038\n",
      "Epoch 217/300\n",
      "109/109 [==============================] - 0s 2ms/step - loss: 30.8762 - val_loss: 43.6318\n",
      "Epoch 218/300\n",
      "109/109 [==============================] - 0s 2ms/step - loss: 30.8665 - val_loss: 43.6598\n",
      "Epoch 219/300\n",
      "109/109 [==============================] - 0s 2ms/step - loss: 30.8568 - val_loss: 43.6878\n",
      "Epoch 220/300\n",
      "109/109 [==============================] - 0s 2ms/step - loss: 30.8470 - val_loss: 43.7159\n",
      "Epoch 221/300\n",
      "109/109 [==============================] - 0s 2ms/step - loss: 30.8372 - val_loss: 43.7439\n",
      "Epoch 222/300\n",
      "109/109 [==============================] - 0s 2ms/step - loss: 30.8274 - val_loss: 43.7718\n",
      "Epoch 223/300\n",
      "109/109 [==============================] - 0s 2ms/step - loss: 30.8174 - val_loss: 43.7996\n",
      "Epoch 224/300\n",
      "109/109 [==============================] - 0s 2ms/step - loss: 30.8074 - val_loss: 43.8275\n",
      "Epoch 225/300\n",
      "109/109 [==============================] - 0s 2ms/step - loss: 30.7974 - val_loss: 43.8553\n",
      "Epoch 226/300\n",
      "109/109 [==============================] - 0s 2ms/step - loss: 30.7873 - val_loss: 43.8829\n",
      "Epoch 227/300\n",
      "109/109 [==============================] - 0s 2ms/step - loss: 30.7772 - val_loss: 43.9103\n",
      "Epoch 228/300\n",
      "109/109 [==============================] - 0s 2ms/step - loss: 30.7670 - val_loss: 43.9378\n",
      "Epoch 229/300\n",
      "109/109 [==============================] - 0s 2ms/step - loss: 30.7567 - val_loss: 43.9651\n",
      "Epoch 230/300\n",
      "109/109 [==============================] - 0s 2ms/step - loss: 30.7465 - val_loss: 43.9923\n",
      "Epoch 231/300\n",
      "109/109 [==============================] - 0s 2ms/step - loss: 30.7361 - val_loss: 44.0193\n",
      "Epoch 232/300\n",
      "109/109 [==============================] - 0s 2ms/step - loss: 30.7257 - val_loss: 44.0461\n",
      "Epoch 233/300\n",
      "109/109 [==============================] - 0s 2ms/step - loss: 30.7153 - val_loss: 44.0728\n",
      "Epoch 234/300\n",
      "109/109 [==============================] - 0s 2ms/step - loss: 30.7048 - val_loss: 44.0993\n",
      "Epoch 235/300\n"
     ]
    },
    {
     "name": "stdout",
     "output_type": "stream",
     "text": [
      "109/109 [==============================] - 0s 2ms/step - loss: 30.6943 - val_loss: 44.1255\n",
      "Epoch 236/300\n",
      "109/109 [==============================] - 0s 2ms/step - loss: 30.6838 - val_loss: 44.1517\n",
      "Epoch 237/300\n",
      "109/109 [==============================] - 0s 2ms/step - loss: 30.6732 - val_loss: 44.1775\n",
      "Epoch 238/300\n",
      "109/109 [==============================] - 0s 2ms/step - loss: 30.6626 - val_loss: 44.2032\n",
      "Epoch 239/300\n",
      "109/109 [==============================] - 0s 2ms/step - loss: 30.6520 - val_loss: 44.2285\n",
      "Epoch 240/300\n",
      "109/109 [==============================] - 0s 3ms/step - loss: 30.6413 - val_loss: 44.2537\n",
      "Epoch 241/300\n",
      "109/109 [==============================] - 0s 2ms/step - loss: 30.6307 - val_loss: 44.2786\n",
      "Epoch 242/300\n",
      "109/109 [==============================] - 0s 3ms/step - loss: 30.6200 - val_loss: 44.3032\n",
      "Epoch 243/300\n",
      "109/109 [==============================] - 0s 3ms/step - loss: 30.6093 - val_loss: 44.3276\n",
      "Epoch 244/300\n",
      "109/109 [==============================] - 0s 3ms/step - loss: 30.5987 - val_loss: 44.3517\n",
      "Epoch 245/300\n",
      "109/109 [==============================] - 0s 2ms/step - loss: 30.5880 - val_loss: 44.3754\n",
      "Epoch 246/300\n",
      "109/109 [==============================] - 0s 3ms/step - loss: 30.5773 - val_loss: 44.3989\n",
      "Epoch 247/300\n",
      "109/109 [==============================] - 0s 2ms/step - loss: 30.5667 - val_loss: 44.4221\n",
      "Epoch 248/300\n",
      "109/109 [==============================] - 0s 2ms/step - loss: 30.5561 - val_loss: 44.4449\n",
      "Epoch 249/300\n",
      "109/109 [==============================] - 0s 2ms/step - loss: 30.5455 - val_loss: 44.4675\n",
      "Epoch 250/300\n",
      "109/109 [==============================] - 0s 2ms/step - loss: 30.5350 - val_loss: 44.4897\n",
      "Epoch 251/300\n",
      "109/109 [==============================] - 0s 2ms/step - loss: 30.5245 - val_loss: 44.5116\n",
      "Epoch 252/300\n",
      "109/109 [==============================] - 0s 2ms/step - loss: 30.5141 - val_loss: 44.5331\n",
      "Epoch 253/300\n",
      "109/109 [==============================] - 0s 2ms/step - loss: 30.5037 - val_loss: 44.5543\n",
      "Epoch 254/300\n",
      "109/109 [==============================] - 0s 2ms/step - loss: 30.4934 - val_loss: 44.5751\n",
      "Epoch 255/300\n",
      "109/109 [==============================] - 0s 2ms/step - loss: 30.4832 - val_loss: 44.5955\n",
      "Epoch 256/300\n",
      "109/109 [==============================] - 0s 2ms/step - loss: 30.4731 - val_loss: 44.6156\n",
      "Epoch 257/300\n",
      "109/109 [==============================] - 0s 2ms/step - loss: 30.4630 - val_loss: 44.6351\n",
      "Epoch 258/300\n",
      "109/109 [==============================] - 0s 2ms/step - loss: 30.4531 - val_loss: 44.6542\n",
      "Epoch 259/300\n",
      "109/109 [==============================] - 0s 2ms/step - loss: 30.4433 - val_loss: 44.6728\n",
      "Epoch 260/300\n",
      "109/109 [==============================] - 0s 2ms/step - loss: 30.4336 - val_loss: 44.6908\n",
      "Epoch 261/300\n",
      "109/109 [==============================] - 0s 2ms/step - loss: 30.4240 - val_loss: 44.7084\n",
      "Epoch 262/300\n",
      "109/109 [==============================] - 0s 2ms/step - loss: 30.4146 - val_loss: 44.7254\n",
      "Epoch 263/300\n",
      "109/109 [==============================] - 0s 2ms/step - loss: 30.4053 - val_loss: 44.7416\n",
      "Epoch 264/300\n",
      "109/109 [==============================] - 0s 2ms/step - loss: 30.3962 - val_loss: 44.7570\n",
      "Epoch 265/300\n",
      "109/109 [==============================] - 0s 2ms/step - loss: 30.3872 - val_loss: 44.7717\n",
      "Epoch 266/300\n",
      "109/109 [==============================] - 0s 2ms/step - loss: 30.3784 - val_loss: 44.7854\n",
      "Epoch 267/300\n",
      "109/109 [==============================] - 0s 2ms/step - loss: 30.3697 - val_loss: 44.7982\n",
      "Epoch 268/300\n",
      "109/109 [==============================] - 0s 2ms/step - loss: 30.3611 - val_loss: 44.8099\n",
      "Epoch 269/300\n",
      "109/109 [==============================] - 0s 2ms/step - loss: 30.3527 - val_loss: 44.8204\n",
      "Epoch 270/300\n",
      "109/109 [==============================] - 0s 2ms/step - loss: 30.3443 - val_loss: 44.8295\n",
      "Epoch 271/300\n",
      "109/109 [==============================] - 0s 2ms/step - loss: 30.3361 - val_loss: 44.8373\n",
      "Epoch 272/300\n",
      "109/109 [==============================] - 0s 2ms/step - loss: 30.3279 - val_loss: 44.8436\n",
      "Epoch 273/300\n",
      "109/109 [==============================] - 0s 2ms/step - loss: 30.3198 - val_loss: 44.8482\n",
      "Epoch 274/300\n",
      "109/109 [==============================] - 0s 2ms/step - loss: 30.3117 - val_loss: 44.8514\n",
      "Epoch 275/300\n",
      "109/109 [==============================] - 0s 2ms/step - loss: 30.3036 - val_loss: 44.8529\n",
      "Epoch 276/300\n",
      "109/109 [==============================] - 0s 2ms/step - loss: 30.2953 - val_loss: 44.8530\n",
      "Epoch 277/300\n",
      "109/109 [==============================] - 0s 2ms/step - loss: 30.2870 - val_loss: 44.8516\n",
      "Epoch 278/300\n",
      "109/109 [==============================] - 0s 2ms/step - loss: 30.2785 - val_loss: 44.8490\n",
      "Epoch 279/300\n",
      "109/109 [==============================] - 0s 2ms/step - loss: 30.2699 - val_loss: 44.8453\n",
      "Epoch 280/300\n",
      "109/109 [==============================] - 0s 2ms/step - loss: 30.2611 - val_loss: 44.8408\n",
      "Epoch 281/300\n",
      "109/109 [==============================] - 0s 2ms/step - loss: 30.2521 - val_loss: 44.8357\n",
      "Epoch 282/300\n",
      "109/109 [==============================] - 0s 2ms/step - loss: 30.2430 - val_loss: 44.8304\n",
      "Epoch 283/300\n",
      "109/109 [==============================] - 0s 2ms/step - loss: 30.2337 - val_loss: 44.8249\n",
      "Epoch 284/300\n",
      "109/109 [==============================] - 0s 2ms/step - loss: 30.2243 - val_loss: 44.8196\n",
      "Epoch 285/300\n",
      "109/109 [==============================] - 0s 2ms/step - loss: 30.2149 - val_loss: 44.8144\n",
      "Epoch 286/300\n",
      "109/109 [==============================] - 0s 2ms/step - loss: 30.2053 - val_loss: 44.8096\n",
      "Epoch 287/300\n",
      "109/109 [==============================] - 0s 2ms/step - loss: 30.1958 - val_loss: 44.8054\n",
      "Epoch 288/300\n",
      "109/109 [==============================] - 0s 2ms/step - loss: 30.1863 - val_loss: 44.8015\n",
      "Epoch 289/300\n",
      "109/109 [==============================] - 0s 2ms/step - loss: 30.1768 - val_loss: 44.7982\n",
      "Epoch 290/300\n",
      "109/109 [==============================] - 0s 2ms/step - loss: 30.1674 - val_loss: 44.7953\n",
      "Epoch 291/300\n",
      "109/109 [==============================] - 0s 2ms/step - loss: 30.1581 - val_loss: 44.7927\n",
      "Epoch 292/300\n",
      "109/109 [==============================] - 0s 3ms/step - loss: 30.1489 - val_loss: 44.7907\n",
      "Epoch 293/300\n",
      "109/109 [==============================] - 0s 3ms/step - loss: 30.1398 - val_loss: 44.7889\n",
      "Epoch 294/300\n",
      "109/109 [==============================] - 0s 2ms/step - loss: 30.1308 - val_loss: 44.7874\n",
      "Epoch 295/300\n",
      "109/109 [==============================] - 0s 2ms/step - loss: 30.1219 - val_loss: 44.7861\n",
      "Epoch 296/300\n",
      "109/109 [==============================] - 0s 2ms/step - loss: 30.1131 - val_loss: 44.7850\n",
      "Epoch 297/300\n",
      "109/109 [==============================] - 0s 2ms/step - loss: 30.1045 - val_loss: 44.7838\n",
      "Epoch 298/300\n",
      "109/109 [==============================] - 0s 2ms/step - loss: 30.0960 - val_loss: 44.7829\n",
      "Epoch 299/300\n",
      "109/109 [==============================] - 0s 2ms/step - loss: 30.0876 - val_loss: 44.7819\n",
      "Epoch 300/300\n",
      "109/109 [==============================] - 0s 2ms/step - loss: 30.0793 - val_loss: 44.7808\n"
     ]
    }
   ],
   "source": [
    "history_tech=model_tech.fit(\n",
    "    X_train, y_train,\n",
    "    epochs=300,\n",
    "    batch_size=32,\n",
    "    validation_split=0.1,\n",
    "    verbose=1,\n",
    "    shuffle=False\n",
    ")\n",
    "y_pred = model_tech.predict(X_test)"
   ]
  },
  {
   "cell_type": "code",
   "execution_count": 10,
   "id": "55aa57ad",
   "metadata": {},
   "outputs": [
    {
     "data": {
      "text/plain": [
       "<matplotlib.legend.Legend at 0x293178640>"
      ]
     },
     "execution_count": 10,
     "metadata": {},
     "output_type": "execute_result"
    },
    {
     "data": {
      "image/png": "[encoded data removed]",
      "text/plain": [
       "<Figure size 432x288 with 1 Axes>"
      ]
     },
     "metadata": {
      "needs_background": "light"
     },
     "output_type": "display_data"
    }
   ],
   "source": [
    "plt.plot(history_tech.history['loss'], label='train')\n",
    "plt.plot(history_tech.history['val_loss'], label='test')\n",
    "plt.legend()"
   ]
  },
  {
   "cell_type": "code",
   "execution_count": 11,
   "id": "477f1fb7",
   "metadata": {},
   "outputs": [
    {
     "data": {
      "image/png": "[encoded data removed]",
      "text/plain": [
       "<Figure size 432x288 with 1 Axes>"
      ]
     },
     "metadata": {
      "needs_background": "light"
     },
     "output_type": "display_data"
    }
   ],
   "source": [
    "plt.plot(np.arange(0, len(y_train)), y_train, 'g', label=\"history\")\n",
    "plt.plot(np.arange(len(y_train), len(y_train) + len(y_test)), y_test, marker='.', label=\"true\")\n",
    "plt.plot(np.arange(len(y_train), len(y_train) + len(y_test)), y_pred, 'r', label=\"prediction\")\n",
    "plt.ylabel('Value')\n",
    "plt.xlabel('Time Step')\n",
    "plt.legend()\n",
    "plt.show();"
   ]
  },
  {
   "cell_type": "code",
   "execution_count": 12,
   "id": "134553b2",
   "metadata": {
    "scrolled": true
   },
   "outputs": [
    {
     "data": {
      "image/png": "[encoded data removed]",
      "text/plain": [
       "<Figure size 432x288 with 1 Axes>"
      ]
     },
     "metadata": {
      "needs_background": "light"
     },
     "output_type": "display_data"
    }
   ],
   "source": [
    "# y_test = sc.inverse_transform(y_test)\n",
    "# y_pred = sc.inverse_transform(y_pred)\n",
    "plt.plot(y_test, marker='.', label=\"true\")\n",
    "plt.plot(y_pred, 'r', label=\"prediction\")\n",
    "plt.ylabel('Value')\n",
    "plt.xlabel('Time Step')\n",
    "plt.legend()\n",
    "plt.show();"
   ]
  },
  {
   "cell_type": "code",
   "execution_count": 13,
   "id": "0ef7fe0c",
   "metadata": {},
   "outputs": [
    {
     "data": {
      "text/plain": [
       "0.9989114765032886"
      ]
     },
     "execution_count": 13,
     "metadata": {},
     "output_type": "execute_result"
    }
   ],
   "source": [
    "r2_score(y_test,y_pred)"
   ]
  },
  {
   "cell_type": "code",
   "execution_count": 14,
   "id": "7cf212a7",
   "metadata": {},
   "outputs": [
    {
     "data": {
      "text/plain": [
       "0.1121514057530589"
      ]
     },
     "execution_count": 14,
     "metadata": {},
     "output_type": "execute_result"
    }
   ],
   "source": [
    "mean_absolute_percentage_error(y_test,y_pred)"
   ]
  },
  {
   "cell_type": "code",
   "execution_count": 15,
   "id": "a0cd9d21",
   "metadata": {},
   "outputs": [
    {
     "data": {
      "text/plain": [
       "5.936023960841288"
      ]
     },
     "execution_count": 15,
     "metadata": {},
     "output_type": "execute_result"
    }
   ],
   "source": [
    "mean_squared_error(y_test,y_pred,squared=False)"
   ]
  },
  {
   "cell_type": "code",
   "execution_count": 16,
   "id": "325a7cdd",
   "metadata": {},
   "outputs": [
    {
     "name": "stderr",
     "output_type": "stream",
     "text": [
      "/var/folders/8h/w0jn89bj2w5g85gj4ck7w0t00000gn/T/ipykernel_70576/2328949661.py:1: FutureWarning: In a future version of pandas all arguments of DataFrame.drop except for the argument 'labels' will be keyword-only.\n",
      "  x_val=data_val.drop('Prediction',1)\n"
     ]
    }
   ],
   "source": [
    "x_val=data_val.drop('Prediction',1)\n",
    "y_val=data_val['Prediction']\n",
    "x_val=sc.transform(x_val).reshape(x_val.shape[0],1,x_val.shape[1])\n",
    "y_val_pred=model_tech.predict(x_val)"
   ]
  },
  {
   "cell_type": "code",
   "execution_count": 17,
   "id": "529aefb2",
   "metadata": {},
   "outputs": [
    {
     "data": {
      "image/png": "[encoded data removed]",
      "text/plain": [
       "<Figure size 432x288 with 1 Axes>"
      ]
     },
     "metadata": {
      "needs_background": "light"
     },
     "output_type": "display_data"
    }
   ],
   "source": [
    "plt.plot(y_val.values, marker='.', label=\"true\")\n",
    "plt.plot(y_val_pred, 'r', marker='*',label=\"prediction\")\n",
    "plt.ylabel('Value')\n",
    "plt.xlabel('Time Step')\n",
    "plt.legend()\n",
    "plt.show()"
   ]
  },
  {
   "cell_type": "code",
   "execution_count": 18,
   "id": "3b9ce3a3",
   "metadata": {},
   "outputs": [
    {
     "data": {
      "text/plain": [
       "0.889858081756736"
      ]
     },
     "execution_count": 18,
     "metadata": {},
     "output_type": "execute_result"
    }
   ],
   "source": [
    "r2_score(y_val,y_val_pred)"
   ]
  },
  {
   "cell_type": "code",
   "execution_count": 19,
   "id": "67bc6f38",
   "metadata": {},
   "outputs": [
    {
     "data": {
      "text/plain": [
       "0.023396705358249194"
      ]
     },
     "execution_count": 19,
     "metadata": {},
     "output_type": "execute_result"
    }
   ],
   "source": [
    "mean_absolute_percentage_error(y_val,y_val_pred)"
   ]
  },
  {
   "cell_type": "code",
   "execution_count": 20,
   "id": "7a79ea1f",
   "metadata": {},
   "outputs": [
    {
     "data": {
      "text/plain": [
       "13.975411506123649"
      ]
     },
     "execution_count": 20,
     "metadata": {},
     "output_type": "execute_result"
    }
   ],
   "source": [
    "mean_squared_error(y_val.values,y_val_pred,squared=False)"
   ]
  },
  {
   "cell_type": "code",
   "execution_count": null,
   "id": "d8ab65e9",
   "metadata": {},
   "outputs": [],
   "source": []
  }
 ],
 "metadata": {
  "kernelspec": {
   "display_name": "Python 3 (ipykernel)",
   "language": "python",
   "name": "python3"
  },
  "language_info": {
   "codemirror_mode": {
    "name": "ipython",
    "version": 3
   },
   "file_extension": ".py",
   "mimetype": "text/x-python",
   "name": "python",
   "nbconvert_exporter": "python",
   "pygments_lexer": "ipython3",
   "version": "3.8.13"
  }
 },
 "nbformat": 4,
 "nbformat_minor": 5
}
