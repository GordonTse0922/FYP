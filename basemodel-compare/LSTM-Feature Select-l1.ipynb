{
 "cells": [
  {
   "cell_type": "code",
   "execution_count": 1,
   "id": "eb9ae2e7",
   "metadata": {},
   "outputs": [],
   "source": [
    "import yfinance as yf\n",
    "import pandas as pd\n",
    "import numpy as np\n",
    "import matplotlib.pyplot as plt\n",
    "from sklearn.preprocessing import MinMaxScaler\n",
    "from sklearn.model_selection import train_test_split\n",
    "from sklearn.metrics import classification_report,accuracy_score, mean_squared_error,mean_absolute_percentage_error,r2_score\n",
    "import tensorflow as tf\n",
    "import talib\n",
    "from tensorflow import keras\n",
    "from sklearn.pipeline import make_pipeline\n",
    "from tensorflow.keras import regularizers\n",
    "tf.config.set_visible_devices([], 'GPU')"
   ]
  },
  {
   "cell_type": "code",
   "execution_count": 2,
   "id": "9ad5f74c",
   "metadata": {},
   "outputs": [
    {
     "name": "stdout",
     "output_type": "stream",
     "text": [
      "[*********************100%***********************]  1 of 1 completed\n"
     ]
    }
   ],
   "source": [
    "data=yf.download('0700.hk')"
   ]
  },
  {
   "cell_type": "code",
   "execution_count": 3,
   "id": "781ab9b7",
   "metadata": {
    "pycharm": {
     "name": "#%%\n"
    }
   },
   "outputs": [],
   "source": [
    "data['6day MA'] = data['Close'].rolling(window = 6).mean()\n",
    "data['12day MA'] = data['Close'].rolling(window = 12).mean()\n",
    "data['RSI'] = talib.RSI(data['Close'].values, timeperiod = 7)\n",
    "data['%R5'] = talib.WILLR(data['High'].values, data['Low'].values, data['Close'].values, 5)\n",
    "data['%R10'] = talib.WILLR(data['High'].values, data['Low'].values, data['Close'].values, 10)\n",
    "data['MI6']=talib.MOM(data['Close'],timeperiod=6)\n",
    "data['MI12']=talib.MOM(data['Close'],timeperiod=12)\n",
    "macd, macdsignal, macdhist = talib.MACD(data['Close'], fastperiod=12, slowperiod=26, signalperiod=9)\n",
    "data['EMA12']=talib.EMA(data['Close'], timeperiod=12)\n",
    "data['EMA26']=talib.EMA(data['Close'],timeperiod=26)\n",
    "data['MACD']=macd\n",
    "data['TR']=talib.TRANGE(data['High'],data['Low'],data['Close'])\n",
    "data['OSC6']=talib.CMO(data['Close'], timeperiod=6)\n",
    "data['OSC12']=talib.CMO(data['Close'], timeperiod=12)\n",
    "data['Prediction']=data['Close'].shift(-1)\n",
    "data.dropna(inplace=True)"
   ]
  },
  {
   "cell_type": "code",
   "execution_count": 4,
   "id": "3c05d9b9",
   "metadata": {
    "pycharm": {
     "name": "#%%\n"
    }
   },
   "outputs": [
    {
     "name": "stderr",
     "output_type": "stream",
     "text": [
      "/var/folders/8h/w0jn89bj2w5g85gj4ck7w0t00000gn/T/ipykernel_45977/3806124569.py:11: FutureWarning: In a future version of pandas all arguments of DataFrame.drop except for the argument 'labels' will be keyword-only.\n",
      "  backwardModel.fit(np.array(data.drop('Prediction',1)),data['Prediction'].values.ravel())\n",
      "[Parallel(n_jobs=-1)]: Using backend LokyBackend with 8 concurrent workers.\n",
      "[Parallel(n_jobs=-1)]: Done  14 out of  19 | elapsed:    3.4s remaining:    1.2s\n",
      "[Parallel(n_jobs=-1)]: Done  19 out of  19 | elapsed:    4.5s finished\n",
      "\n",
      "[2022-04-10 14:22:37] Features: 1/10 -- score: 0.2921802910399661[Parallel(n_jobs=-1)]: Using backend LokyBackend with 8 concurrent workers.\n",
      "[Parallel(n_jobs=-1)]: Done  13 out of  18 | elapsed:    3.9s remaining:    1.5s\n",
      "[Parallel(n_jobs=-1)]: Done  18 out of  18 | elapsed:    5.5s finished\n",
      "\n",
      "[2022-04-10 14:22:42] Features: 2/10 -- score: 0.2840900955313839[Parallel(n_jobs=-1)]: Using backend LokyBackend with 8 concurrent workers.\n",
      "[Parallel(n_jobs=-1)]: Done  11 out of  17 | elapsed:    5.2s remaining:    2.8s\n",
      "[Parallel(n_jobs=-1)]: Done  17 out of  17 | elapsed:    7.3s finished\n",
      "\n",
      "[2022-04-10 14:22:50] Features: 3/10 -- score: 0.25984143328497955[Parallel(n_jobs=-1)]: Using backend LokyBackend with 8 concurrent workers.\n",
      "[Parallel(n_jobs=-1)]: Done  10 out of  16 | elapsed:    6.3s remaining:    3.8s\n",
      "[Parallel(n_jobs=-1)]: Done  16 out of  16 | elapsed:    6.7s finished\n",
      "\n",
      "[2022-04-10 14:22:56] Features: 4/10 -- score: 0.23520951295407394[Parallel(n_jobs=-1)]: Using backend LokyBackend with 8 concurrent workers.\n",
      "[Parallel(n_jobs=-1)]: Done   8 out of  15 | elapsed:    4.2s remaining:    3.7s\n",
      "[Parallel(n_jobs=-1)]: Done  15 out of  15 | elapsed:    7.9s finished\n",
      "\n",
      "[2022-04-10 14:23:04] Features: 5/10 -- score: 0.20701459289834895[Parallel(n_jobs=-1)]: Using backend LokyBackend with 8 concurrent workers.\n",
      "[Parallel(n_jobs=-1)]: Done   7 out of  14 | elapsed:    4.7s remaining:    4.7s\n",
      "[Parallel(n_jobs=-1)]: Done  14 out of  14 | elapsed:    8.8s finished\n",
      "\n",
      "[2022-04-10 14:23:13] Features: 6/10 -- score: 0.21716813231837614[Parallel(n_jobs=-1)]: Using backend LokyBackend with 8 concurrent workers.\n",
      "[Parallel(n_jobs=-1)]: Done   5 out of  13 | elapsed:    5.3s remaining:    8.5s\n",
      "[Parallel(n_jobs=-1)]: Done  13 out of  13 | elapsed:    9.6s finished\n",
      "\n",
      "[2022-04-10 14:23:23] Features: 7/10 -- score: 0.22147200618350107[Parallel(n_jobs=-1)]: Using backend LokyBackend with 8 concurrent workers.\n",
      "[Parallel(n_jobs=-1)]: Done   4 out of  12 | elapsed:    5.9s remaining:   11.8s\n",
      "[Parallel(n_jobs=-1)]: Done  12 out of  12 | elapsed:   10.7s finished\n",
      "\n",
      "[2022-04-10 14:23:34] Features: 8/10 -- score: 0.21770302432381086[Parallel(n_jobs=-1)]: Using backend LokyBackend with 8 concurrent workers.\n",
      "[Parallel(n_jobs=-1)]: Done   2 out of  11 | elapsed:    6.6s remaining:   29.7s\n",
      "[Parallel(n_jobs=-1)]: Done   8 out of  11 | elapsed:    6.8s remaining:    2.6s\n",
      "[Parallel(n_jobs=-1)]: Done  11 out of  11 | elapsed:   12.0s finished\n",
      "\n",
      "[2022-04-10 14:23:46] Features: 9/10 -- score: 0.2055891016966786[Parallel(n_jobs=-1)]: Using backend LokyBackend with 8 concurrent workers.\n",
      "[Parallel(n_jobs=-1)]: Done   7 out of  10 | elapsed:    7.3s remaining:    3.1s\n",
      "[Parallel(n_jobs=-1)]: Done  10 out of  10 | elapsed:   13.1s finished\n",
      "\n",
      "[2022-04-10 14:23:59] Features: 10/10 -- score: 0.19025401836025785"
     ]
    },
    {
     "data": {
      "text/plain": [
       "SequentialFeatureSelector(estimator=RandomForestRegressor(), k_features=10,\n",
       "                          n_jobs=-1, scoring='r2', verbose=2)"
      ]
     },
     "execution_count": 4,
     "metadata": {},
     "output_type": "execute_result"
    }
   ],
   "source": [
    "from mlxtend.feature_selection import SequentialFeatureSelector as sfs\n",
    "from sklearn.ensemble import RandomForestRegressor\n",
    "#k_features=10 (It will get top 10 features best suited for prediction)\n",
    "#forward=False (Backward feature selection model)\n",
    "#verbose=2 (It will show details output as shown below.)\n",
    "#cv=5 (Kfold cross valiation: it will split the training set in 5 set and 4 will be using for training the model and 1 will using as validation)\n",
    "#n_jobs=-1 (Number of cores it will use for execution.-1 means it will use all the cores of CPU for execution.)\n",
    "#scoring='r2'(R-squared is a statistical measure of how close the data are to the fitted regression line)\n",
    "backwardModel=sfs(RandomForestRegressor(),k_features=10,forward=True,verbose=2,cv=5,n_jobs=-1,scoring='r2')\n",
    "#We will convert our training data into numpy array. If we will not convert it, model is not able to read some of the column names.\n",
    "backwardModel.fit(np.array(data.drop('Prediction',1)),data['Prediction'].values.ravel())"
   ]
  },
  {
   "cell_type": "code",
   "execution_count": 5,
   "id": "0c6d7cbf",
   "metadata": {},
   "outputs": [
    {
     "name": "stderr",
     "output_type": "stream",
     "text": [
      "/var/folders/8h/w0jn89bj2w5g85gj4ck7w0t00000gn/T/ipykernel_45977/1273356578.py:2: SettingWithCopyWarning: \n",
      "A value is trying to be set on a copy of a slice from a DataFrame.\n",
      "Try using .loc[row_indexer,col_indexer] = value instead\n",
      "\n",
      "See the caveats in the documentation: https://pandas.pydata.org/pandas-docs/stable/user_guide/indexing.html#returning-a-view-versus-a-copy\n",
      "  data['Prediction']=data['Close'].shift(-1)\n",
      "/var/folders/8h/w0jn89bj2w5g85gj4ck7w0t00000gn/T/ipykernel_45977/1273356578.py:3: SettingWithCopyWarning: \n",
      "A value is trying to be set on a copy of a slice from a DataFrame\n",
      "\n",
      "See the caveats in the documentation: https://pandas.pydata.org/pandas-docs/stable/user_guide/indexing.html#returning-a-view-versus-a-copy\n",
      "  data.dropna(inplace=True)\n"
     ]
    },
    {
     "data": {
      "text/html": [
       "<div>\n",
       "<style scoped>\n",
       "    .dataframe tbody tr th:only-of-type {\n",
       "        vertical-align: middle;\n",
       "    }\n",
       "\n",
       "    .dataframe tbody tr th {\n",
       "        vertical-align: top;\n",
       "    }\n",
       "\n",
       "    .dataframe thead th {\n",
       "        text-align: right;\n",
       "    }\n",
       "</style>\n",
       "<table border=\"1\" class=\"dataframe\">\n",
       "  <thead>\n",
       "    <tr style=\"text-align: right;\">\n",
       "      <th></th>\n",
       "      <th>Open</th>\n",
       "      <th>High</th>\n",
       "      <th>Low</th>\n",
       "      <th>Close</th>\n",
       "      <th>Adj Close</th>\n",
       "      <th>6day MA</th>\n",
       "      <th>%R10</th>\n",
       "      <th>EMA12</th>\n",
       "      <th>MACD</th>\n",
       "      <th>TR</th>\n",
       "      <th>Prediction</th>\n",
       "    </tr>\n",
       "    <tr>\n",
       "      <th>Date</th>\n",
       "      <th></th>\n",
       "      <th></th>\n",
       "      <th></th>\n",
       "      <th></th>\n",
       "      <th></th>\n",
       "      <th></th>\n",
       "      <th></th>\n",
       "      <th></th>\n",
       "      <th></th>\n",
       "      <th></th>\n",
       "      <th></th>\n",
       "    </tr>\n",
       "  </thead>\n",
       "  <tbody>\n",
       "    <tr>\n",
       "      <th>2022-03-30</th>\n",
       "      <td>383.000000</td>\n",
       "      <td>388.600006</td>\n",
       "      <td>380.200012</td>\n",
       "      <td>380.600006</td>\n",
       "      <td>380.600006</td>\n",
       "      <td>372.600001</td>\n",
       "      <td>-43.726231</td>\n",
       "      <td>375.239148</td>\n",
       "      <td>-14.634180</td>\n",
       "      <td>11.399994</td>\n",
       "      <td>374.200012</td>\n",
       "    </tr>\n",
       "    <tr>\n",
       "      <th>2022-03-31</th>\n",
       "      <td>382.399994</td>\n",
       "      <td>382.399994</td>\n",
       "      <td>372.600006</td>\n",
       "      <td>374.200012</td>\n",
       "      <td>374.200012</td>\n",
       "      <td>370.133336</td>\n",
       "      <td>-55.893518</td>\n",
       "      <td>375.079281</td>\n",
       "      <td>-13.633061</td>\n",
       "      <td>9.799988</td>\n",
       "      <td>378.799988</td>\n",
       "    </tr>\n",
       "    <tr>\n",
       "      <th>2022-04-01</th>\n",
       "      <td>367.000000</td>\n",
       "      <td>378.799988</td>\n",
       "      <td>362.200012</td>\n",
       "      <td>378.799988</td>\n",
       "      <td>378.799988</td>\n",
       "      <td>372.266668</td>\n",
       "      <td>-47.148318</td>\n",
       "      <td>375.651697</td>\n",
       "      <td>-12.326396</td>\n",
       "      <td>16.599976</td>\n",
       "      <td>390.000000</td>\n",
       "    </tr>\n",
       "    <tr>\n",
       "      <th>2022-04-04</th>\n",
       "      <td>388.799988</td>\n",
       "      <td>391.000000</td>\n",
       "      <td>383.799988</td>\n",
       "      <td>390.000000</td>\n",
       "      <td>390.000000</td>\n",
       "      <td>377.866669</td>\n",
       "      <td>-25.855522</td>\n",
       "      <td>377.859129</td>\n",
       "      <td>-10.268736</td>\n",
       "      <td>12.200012</td>\n",
       "      <td>381.000000</td>\n",
       "    </tr>\n",
       "    <tr>\n",
       "      <th>2022-04-06</th>\n",
       "      <td>383.000000</td>\n",
       "      <td>385.000000</td>\n",
       "      <td>380.000000</td>\n",
       "      <td>381.000000</td>\n",
       "      <td>381.000000</td>\n",
       "      <td>380.300003</td>\n",
       "      <td>-42.965786</td>\n",
       "      <td>378.342340</td>\n",
       "      <td>-9.257535</td>\n",
       "      <td>10.000000</td>\n",
       "      <td>374.399994</td>\n",
       "    </tr>\n",
       "  </tbody>\n",
       "</table>\n",
       "</div>"
      ],
      "text/plain": [
       "                  Open        High         Low       Close   Adj Close  \\\n",
       "Date                                                                     \n",
       "2022-03-30  383.000000  388.600006  380.200012  380.600006  380.600006   \n",
       "2022-03-31  382.399994  382.399994  372.600006  374.200012  374.200012   \n",
       "2022-04-01  367.000000  378.799988  362.200012  378.799988  378.799988   \n",
       "2022-04-04  388.799988  391.000000  383.799988  390.000000  390.000000   \n",
       "2022-04-06  383.000000  385.000000  380.000000  381.000000  381.000000   \n",
       "\n",
       "               6day MA       %R10       EMA12       MACD         TR  \\\n",
       "Date                                                                  \n",
       "2022-03-30  372.600001 -43.726231  375.239148 -14.634180  11.399994   \n",
       "2022-03-31  370.133336 -55.893518  375.079281 -13.633061   9.799988   \n",
       "2022-04-01  372.266668 -47.148318  375.651697 -12.326396  16.599976   \n",
       "2022-04-04  377.866669 -25.855522  377.859129 -10.268736  12.200012   \n",
       "2022-04-06  380.300003 -42.965786  378.342340  -9.257535  10.000000   \n",
       "\n",
       "            Prediction  \n",
       "Date                    \n",
       "2022-03-30  374.200012  \n",
       "2022-03-31  378.799988  \n",
       "2022-04-01  390.000000  \n",
       "2022-04-04  381.000000  \n",
       "2022-04-06  374.399994  "
      ]
     },
     "execution_count": 5,
     "metadata": {},
     "output_type": "execute_result"
    }
   ],
   "source": [
    "data=data[data.columns[list(backwardModel.k_feature_idx_)]]\n",
    "data['Prediction']=data['Close'].shift(-1)\n",
    "data.dropna(inplace=True)\n",
    "data_val=data[-100:]\n",
    "data=data[:-100]\n",
    "data_val.tail()"
   ]
  },
  {
   "cell_type": "code",
   "execution_count": 6,
   "id": "13b49c54",
   "metadata": {},
   "outputs": [],
   "source": [
    "sc = MinMaxScaler(feature_range = (-1, 1))"
   ]
  },
  {
   "cell_type": "code",
   "execution_count": 7,
   "id": "cb6680b2",
   "metadata": {},
   "outputs": [
    {
     "name": "stdout",
     "output_type": "stream",
     "text": [
      "(3843, 1, 10) (3843, 1) (427, 1, 10) (427, 1)\n"
     ]
    },
    {
     "name": "stderr",
     "output_type": "stream",
     "text": [
      "/var/folders/8h/w0jn89bj2w5g85gj4ck7w0t00000gn/T/ipykernel_45977/2420511516.py:1: FutureWarning: In a future version of pandas all arguments of DataFrame.drop except for the argument 'labels' will be keyword-only.\n",
      "  X=sc.fit_transform(data.drop('Prediction',1))\n"
     ]
    }
   ],
   "source": [
    "X=sc.fit_transform(data.drop('Prediction',1))\n",
    "Y = data[\"Prediction\"].values.reshape(-1,1)\n",
    "# Y=np.array(data[\"Close\"])\n",
    "X_train, X_test, y_train, y_test = train_test_split(X, Y, test_size=0.1)\n",
    "X_train = X_train.reshape((X_train.shape[0], 1, X_train.shape[1]))\n",
    "X_test = X_test.reshape((X_test.shape[0], 1, X_test.shape[1]))\n",
    "print(X_train.shape,y_train.shape,X_test.shape,y_test.shape)"
   ]
  },
  {
   "cell_type": "code",
   "execution_count": 8,
   "id": "bb8c5487",
   "metadata": {},
   "outputs": [],
   "source": [
    "model_tech = keras.Sequential()\n",
    "model_tech.add(keras.layers.LSTM(\n",
    "  units=128,\n",
    "  input_shape=(X_train.shape[1], X_train.shape[2]),\n",
    "    return_sequences=True,\n",
    "    kernel_regularizer=regularizers.l2(0.01)\n",
    "))\n",
    "model_tech.add(keras.layers.LSTM(units=64))\n",
    "model_tech.add(keras.layers.Dense(units=64))\n",
    "model_tech.add(keras.layers.Dense(units=1))\n",
    "model_tech.compile(\n",
    "  loss='mean_squared_error',\n",
    "  optimizer=keras.optimizers.Adam(0.001)\n",
    ")"
   ]
  },
  {
   "cell_type": "code",
   "execution_count": 9,
   "id": "428d66a4",
   "metadata": {
    "pycharm": {
     "is_executing": true
    },
    "scrolled": true
   },
   "outputs": [
    {
     "name": "stdout",
     "output_type": "stream",
     "text": [
      "Epoch 1/300\n"
     ]
    },
    {
     "name": "stderr",
     "output_type": "stream",
     "text": [
      "2022-04-10 14:23:59.736257: W tensorflow/core/platform/profile_utils/cpu_utils.cc:128] Failed to get CPU frequency: 0 Hz\n"
     ]
    },
    {
     "name": "stdout",
     "output_type": "stream",
     "text": [
      "109/109 [==============================] - 2s 6ms/step - loss: 48193.3711 - val_loss: 39601.7773\n",
      "Epoch 2/300\n",
      "109/109 [==============================] - 0s 2ms/step - loss: 11372.1807 - val_loss: 4093.1592\n",
      "Epoch 3/300\n",
      "109/109 [==============================] - 0s 2ms/step - loss: 1977.9845 - val_loss: 2138.9932\n",
      "Epoch 4/300\n",
      "109/109 [==============================] - 0s 2ms/step - loss: 1184.8801 - val_loss: 1329.7509\n",
      "Epoch 5/300\n",
      "109/109 [==============================] - 0s 2ms/step - loss: 669.5520 - val_loss: 732.2478\n",
      "Epoch 6/300\n",
      "109/109 [==============================] - 0s 2ms/step - loss: 341.1252 - val_loss: 400.9379\n",
      "Epoch 7/300\n",
      "109/109 [==============================] - 0s 2ms/step - loss: 209.8754 - val_loss: 277.1280\n",
      "Epoch 8/300\n",
      "109/109 [==============================] - 0s 2ms/step - loss: 167.1544 - val_loss: 222.5319\n",
      "Epoch 9/300\n",
      "109/109 [==============================] - 0s 2ms/step - loss: 141.3643 - val_loss: 184.4637\n",
      "Epoch 10/300\n",
      "109/109 [==============================] - 0s 2ms/step - loss: 121.0916 - val_loss: 154.7453\n",
      "Epoch 11/300\n",
      "109/109 [==============================] - 0s 2ms/step - loss: 104.7364 - val_loss: 131.3780\n",
      "Epoch 12/300\n",
      "109/109 [==============================] - 0s 2ms/step - loss: 91.5364 - val_loss: 113.3973\n",
      "Epoch 13/300\n",
      "109/109 [==============================] - 0s 2ms/step - loss: 80.9926 - val_loss: 100.0041\n",
      "Epoch 14/300\n",
      "109/109 [==============================] - 0s 2ms/step - loss: 72.6872 - val_loss: 90.2119\n",
      "Epoch 15/300\n",
      "109/109 [==============================] - 0s 2ms/step - loss: 66.2043 - val_loss: 82.9231\n",
      "Epoch 16/300\n",
      "109/109 [==============================] - 0s 2ms/step - loss: 61.1353 - val_loss: 77.4156\n",
      "Epoch 17/300\n",
      "109/109 [==============================] - 0s 2ms/step - loss: 57.1270 - val_loss: 73.3108\n",
      "Epoch 18/300\n",
      "109/109 [==============================] - 0s 2ms/step - loss: 53.9009 - val_loss: 70.2210\n",
      "Epoch 19/300\n",
      "109/109 [==============================] - 0s 2ms/step - loss: 51.2278 - val_loss: 67.8827\n",
      "Epoch 20/300\n",
      "109/109 [==============================] - 0s 2ms/step - loss: 48.9358 - val_loss: 66.2646\n",
      "Epoch 21/300\n",
      "109/109 [==============================] - 0s 2ms/step - loss: 46.9211 - val_loss: 65.3644\n",
      "Epoch 22/300\n",
      "109/109 [==============================] - 0s 2ms/step - loss: 45.1147 - val_loss: 65.0749\n",
      "Epoch 23/300\n",
      "109/109 [==============================] - 0s 2ms/step - loss: 43.4664 - val_loss: 65.0680\n",
      "Epoch 24/300\n",
      "109/109 [==============================] - 0s 2ms/step - loss: 41.9492 - val_loss: 64.7579\n",
      "Epoch 25/300\n",
      "109/109 [==============================] - 0s 2ms/step - loss: 40.5589 - val_loss: 63.7579\n",
      "Epoch 26/300\n",
      "109/109 [==============================] - 0s 2ms/step - loss: 39.3168 - val_loss: 62.3787\n",
      "Epoch 27/300\n",
      "109/109 [==============================] - 0s 2ms/step - loss: 38.2508 - val_loss: 61.1689\n",
      "Epoch 28/300\n",
      "109/109 [==============================] - 0s 2ms/step - loss: 37.3588 - val_loss: 60.3578\n",
      "Epoch 29/300\n",
      "109/109 [==============================] - 0s 2ms/step - loss: 36.5928 - val_loss: 59.6187\n",
      "Epoch 30/300\n",
      "109/109 [==============================] - 0s 2ms/step - loss: 35.8933 - val_loss: 58.5171\n",
      "Epoch 31/300\n",
      "109/109 [==============================] - 0s 2ms/step - loss: 35.2591 - val_loss: 57.2511\n",
      "Epoch 32/300\n",
      "109/109 [==============================] - 0s 2ms/step - loss: 34.7259 - val_loss: 56.2444\n",
      "Epoch 33/300\n",
      "109/109 [==============================] - 0s 2ms/step - loss: 34.2851 - val_loss: 55.5909\n",
      "Epoch 34/300\n",
      "109/109 [==============================] - 0s 2ms/step - loss: 33.9064 - val_loss: 55.1680\n",
      "Epoch 35/300\n",
      "109/109 [==============================] - 0s 2ms/step - loss: 33.5764 - val_loss: 54.8280\n",
      "Epoch 36/300\n",
      "109/109 [==============================] - 0s 2ms/step - loss: 33.2872 - val_loss: 54.4934\n",
      "Epoch 37/300\n",
      "109/109 [==============================] - 0s 2ms/step - loss: 33.0292 - val_loss: 54.1471\n",
      "Epoch 38/300\n",
      "109/109 [==============================] - 0s 2ms/step - loss: 32.7968 - val_loss: 53.7982\n",
      "Epoch 39/300\n",
      "109/109 [==============================] - 0s 2ms/step - loss: 32.5876 - val_loss: 53.4594\n",
      "Epoch 40/300\n",
      "109/109 [==============================] - 0s 2ms/step - loss: 32.3998 - val_loss: 53.1397\n",
      "Epoch 41/300\n",
      "109/109 [==============================] - 0s 2ms/step - loss: 32.2320 - val_loss: 52.8437\n",
      "Epoch 42/300\n",
      "109/109 [==============================] - 0s 2ms/step - loss: 32.0820 - val_loss: 52.5725\n",
      "Epoch 43/300\n",
      "109/109 [==============================] - 0s 2ms/step - loss: 31.9480 - val_loss: 52.3254\n",
      "Epoch 44/300\n",
      "109/109 [==============================] - 0s 2ms/step - loss: 31.8280 - val_loss: 52.1007\n",
      "Epoch 45/300\n",
      "109/109 [==============================] - 0s 2ms/step - loss: 31.7201 - val_loss: 51.8961\n",
      "Epoch 46/300\n",
      "109/109 [==============================] - 0s 2ms/step - loss: 31.6230 - val_loss: 51.7095\n",
      "Epoch 47/300\n",
      "109/109 [==============================] - 0s 2ms/step - loss: 31.5350 - val_loss: 51.5384\n",
      "Epoch 48/300\n",
      "109/109 [==============================] - 0s 2ms/step - loss: 31.4552 - val_loss: 51.3811\n",
      "Epoch 49/300\n",
      "109/109 [==============================] - 0s 2ms/step - loss: 31.3824 - val_loss: 51.2353\n",
      "Epoch 50/300\n",
      "109/109 [==============================] - 0s 2ms/step - loss: 31.3157 - val_loss: 51.0995\n",
      "Epoch 51/300\n",
      "109/109 [==============================] - 0s 2ms/step - loss: 31.2545 - val_loss: 50.9723\n",
      "Epoch 52/300\n",
      "109/109 [==============================] - 0s 2ms/step - loss: 31.1980 - val_loss: 50.8526\n",
      "Epoch 53/300\n",
      "109/109 [==============================] - 0s 2ms/step - loss: 31.1457 - val_loss: 50.7395\n",
      "Epoch 54/300\n",
      "109/109 [==============================] - 0s 2ms/step - loss: 31.0971 - val_loss: 50.6318\n",
      "Epoch 55/300\n",
      "109/109 [==============================] - 0s 2ms/step - loss: 31.0519 - val_loss: 50.5294\n",
      "Epoch 56/300\n",
      "109/109 [==============================] - 0s 2ms/step - loss: 31.0096 - val_loss: 50.4317\n",
      "Epoch 57/300\n",
      "109/109 [==============================] - 0s 2ms/step - loss: 30.9698 - val_loss: 50.3381\n",
      "Epoch 58/300\n",
      "109/109 [==============================] - 0s 2ms/step - loss: 30.9325 - val_loss: 50.2486\n",
      "Epoch 59/300\n",
      "109/109 [==============================] - 0s 2ms/step - loss: 30.8973 - val_loss: 50.1629\n",
      "Epoch 60/300\n",
      "109/109 [==============================] - 0s 2ms/step - loss: 30.8640 - val_loss: 50.0808\n",
      "Epoch 61/300\n",
      "109/109 [==============================] - 0s 2ms/step - loss: 30.8324 - val_loss: 50.0023\n",
      "Epoch 62/300\n",
      "109/109 [==============================] - 0s 2ms/step - loss: 30.8024 - val_loss: 49.9269\n",
      "Epoch 63/300\n",
      "109/109 [==============================] - 0s 2ms/step - loss: 30.7738 - val_loss: 49.8550\n",
      "Epoch 64/300\n",
      "109/109 [==============================] - 0s 2ms/step - loss: 30.7466 - val_loss: 49.7863\n",
      "Epoch 65/300\n",
      "109/109 [==============================] - 0s 2ms/step - loss: 30.7205 - val_loss: 49.7205\n",
      "Epoch 66/300\n",
      "109/109 [==============================] - 0s 2ms/step - loss: 30.6955 - val_loss: 49.6579\n",
      "Epoch 67/300\n",
      "109/109 [==============================] - 0s 2ms/step - loss: 30.6715 - val_loss: 49.5982\n",
      "Epoch 68/300\n",
      "109/109 [==============================] - 0s 2ms/step - loss: 30.6484 - val_loss: 49.5412\n",
      "Epoch 69/300\n",
      "109/109 [==============================] - 0s 2ms/step - loss: 30.6263 - val_loss: 49.4871\n",
      "Epoch 70/300\n",
      "109/109 [==============================] - 0s 2ms/step - loss: 30.6049 - val_loss: 49.4355\n",
      "Epoch 71/300\n",
      "109/109 [==============================] - 0s 2ms/step - loss: 30.5842 - val_loss: 49.3866\n",
      "Epoch 72/300\n",
      "109/109 [==============================] - 0s 2ms/step - loss: 30.5642 - val_loss: 49.3401\n",
      "Epoch 73/300\n",
      "109/109 [==============================] - 0s 2ms/step - loss: 30.5449 - val_loss: 49.2959\n",
      "Epoch 74/300\n",
      "109/109 [==============================] - 0s 2ms/step - loss: 30.5262 - val_loss: 49.2540\n",
      "Epoch 75/300\n",
      "109/109 [==============================] - 0s 2ms/step - loss: 30.5081 - val_loss: 49.2142\n",
      "Epoch 76/300\n",
      "109/109 [==============================] - 0s 2ms/step - loss: 30.4905 - val_loss: 49.1763\n",
      "Epoch 77/300\n",
      "109/109 [==============================] - 0s 2ms/step - loss: 30.4734 - val_loss: 49.1406\n",
      "Epoch 78/300\n",
      "109/109 [==============================] - 0s 2ms/step - loss: 30.4568 - val_loss: 49.1066\n",
      "Epoch 79/300\n"
     ]
    },
    {
     "name": "stdout",
     "output_type": "stream",
     "text": [
      "109/109 [==============================] - 0s 2ms/step - loss: 30.4407 - val_loss: 49.0744\n",
      "Epoch 80/300\n",
      "109/109 [==============================] - 0s 2ms/step - loss: 30.4250 - val_loss: 49.0439\n",
      "Epoch 81/300\n",
      "109/109 [==============================] - 0s 2ms/step - loss: 30.4097 - val_loss: 49.0149\n",
      "Epoch 82/300\n",
      "109/109 [==============================] - 0s 2ms/step - loss: 30.3948 - val_loss: 48.9874\n",
      "Epoch 83/300\n",
      "109/109 [==============================] - 0s 2ms/step - loss: 30.3803 - val_loss: 48.9613\n",
      "Epoch 84/300\n",
      "109/109 [==============================] - 0s 2ms/step - loss: 30.3661 - val_loss: 48.9365\n",
      "Epoch 85/300\n",
      "109/109 [==============================] - 0s 2ms/step - loss: 30.3522 - val_loss: 48.9129\n",
      "Epoch 86/300\n",
      "109/109 [==============================] - 0s 2ms/step - loss: 30.3387 - val_loss: 48.8904\n",
      "Epoch 87/300\n",
      "109/109 [==============================] - 0s 2ms/step - loss: 30.3255 - val_loss: 48.8690\n",
      "Epoch 88/300\n",
      "109/109 [==============================] - 0s 2ms/step - loss: 30.3126 - val_loss: 48.8485\n",
      "Epoch 89/300\n",
      "109/109 [==============================] - 0s 2ms/step - loss: 30.2999 - val_loss: 48.8290\n",
      "Epoch 90/300\n",
      "109/109 [==============================] - 0s 2ms/step - loss: 30.2875 - val_loss: 48.8104\n",
      "Epoch 91/300\n",
      "109/109 [==============================] - 0s 2ms/step - loss: 30.2754 - val_loss: 48.7925\n",
      "Epoch 92/300\n",
      "109/109 [==============================] - 0s 2ms/step - loss: 30.2634 - val_loss: 48.7754\n",
      "Epoch 93/300\n",
      "109/109 [==============================] - 0s 2ms/step - loss: 30.2517 - val_loss: 48.7588\n",
      "Epoch 94/300\n",
      "109/109 [==============================] - 0s 2ms/step - loss: 30.2402 - val_loss: 48.7429\n",
      "Epoch 95/300\n",
      "109/109 [==============================] - 0s 2ms/step - loss: 30.2289 - val_loss: 48.7275\n",
      "Epoch 96/300\n",
      "109/109 [==============================] - 0s 2ms/step - loss: 30.2178 - val_loss: 48.7127\n",
      "Epoch 97/300\n",
      "109/109 [==============================] - 0s 2ms/step - loss: 30.2068 - val_loss: 48.6983\n",
      "Epoch 98/300\n",
      "109/109 [==============================] - 0s 2ms/step - loss: 30.1960 - val_loss: 48.6844\n",
      "Epoch 99/300\n",
      "109/109 [==============================] - 0s 2ms/step - loss: 30.1854 - val_loss: 48.6709\n",
      "Epoch 100/300\n",
      "109/109 [==============================] - 0s 2ms/step - loss: 30.1749 - val_loss: 48.6578\n",
      "Epoch 101/300\n",
      "109/109 [==============================] - 0s 2ms/step - loss: 30.1646 - val_loss: 48.6451\n",
      "Epoch 102/300\n",
      "109/109 [==============================] - 0s 2ms/step - loss: 30.1544 - val_loss: 48.6326\n",
      "Epoch 103/300\n",
      "109/109 [==============================] - 0s 2ms/step - loss: 30.1443 - val_loss: 48.6205\n",
      "Epoch 104/300\n",
      "109/109 [==============================] - 0s 2ms/step - loss: 30.1343 - val_loss: 48.6087\n",
      "Epoch 105/300\n",
      "109/109 [==============================] - 0s 2ms/step - loss: 30.1245 - val_loss: 48.5972\n",
      "Epoch 106/300\n",
      "109/109 [==============================] - 0s 2ms/step - loss: 30.1147 - val_loss: 48.5860\n",
      "Epoch 107/300\n",
      "109/109 [==============================] - 0s 2ms/step - loss: 30.1051 - val_loss: 48.5751\n",
      "Epoch 108/300\n",
      "109/109 [==============================] - 0s 2ms/step - loss: 30.0956 - val_loss: 48.5647\n",
      "Epoch 109/300\n",
      "109/109 [==============================] - 0s 2ms/step - loss: 30.0862 - val_loss: 48.5543\n",
      "Epoch 110/300\n",
      "109/109 [==============================] - 0s 2ms/step - loss: 30.0769 - val_loss: 48.5444\n",
      "Epoch 111/300\n",
      "109/109 [==============================] - 0s 2ms/step - loss: 30.0677 - val_loss: 48.5347\n",
      "Epoch 112/300\n",
      "109/109 [==============================] - 0s 2ms/step - loss: 30.0586 - val_loss: 48.5254\n",
      "Epoch 113/300\n",
      "109/109 [==============================] - 0s 2ms/step - loss: 30.0496 - val_loss: 48.5162\n",
      "Epoch 114/300\n",
      "109/109 [==============================] - 0s 2ms/step - loss: 30.0407 - val_loss: 48.5074\n",
      "Epoch 115/300\n",
      "109/109 [==============================] - 0s 2ms/step - loss: 30.0318 - val_loss: 48.4988\n",
      "Epoch 116/300\n",
      "109/109 [==============================] - 0s 2ms/step - loss: 30.0231 - val_loss: 48.4906\n",
      "Epoch 117/300\n",
      "109/109 [==============================] - 0s 2ms/step - loss: 30.0144 - val_loss: 48.4826\n",
      "Epoch 118/300\n",
      "109/109 [==============================] - 0s 2ms/step - loss: 30.0058 - val_loss: 48.4748\n",
      "Epoch 119/300\n",
      "109/109 [==============================] - 0s 2ms/step - loss: 29.9973 - val_loss: 48.4674\n",
      "Epoch 120/300\n",
      "109/109 [==============================] - 0s 2ms/step - loss: 29.9889 - val_loss: 48.4602\n",
      "Epoch 121/300\n",
      "109/109 [==============================] - 0s 2ms/step - loss: 29.9805 - val_loss: 48.4532\n",
      "Epoch 122/300\n",
      "109/109 [==============================] - 0s 2ms/step - loss: 29.9722 - val_loss: 48.4466\n",
      "Epoch 123/300\n",
      "109/109 [==============================] - 0s 2ms/step - loss: 29.9640 - val_loss: 48.4401\n",
      "Epoch 124/300\n",
      "109/109 [==============================] - 0s 2ms/step - loss: 29.9558 - val_loss: 48.4340\n",
      "Epoch 125/300\n",
      "109/109 [==============================] - 0s 2ms/step - loss: 29.9477 - val_loss: 48.4281\n",
      "Epoch 126/300\n",
      "109/109 [==============================] - 0s 2ms/step - loss: 29.9396 - val_loss: 48.4224\n",
      "Epoch 127/300\n",
      "109/109 [==============================] - 0s 2ms/step - loss: 29.9316 - val_loss: 48.4169\n",
      "Epoch 128/300\n",
      "109/109 [==============================] - 0s 2ms/step - loss: 29.9237 - val_loss: 48.4118\n",
      "Epoch 129/300\n",
      "109/109 [==============================] - 0s 2ms/step - loss: 29.9158 - val_loss: 48.4068\n",
      "Epoch 130/300\n",
      "109/109 [==============================] - 0s 2ms/step - loss: 29.9080 - val_loss: 48.4020\n",
      "Epoch 131/300\n",
      "109/109 [==============================] - 0s 2ms/step - loss: 29.9002 - val_loss: 48.3974\n",
      "Epoch 132/300\n",
      "109/109 [==============================] - 0s 2ms/step - loss: 29.8924 - val_loss: 48.3931\n",
      "Epoch 133/300\n",
      "109/109 [==============================] - 0s 2ms/step - loss: 29.8848 - val_loss: 48.3890\n",
      "Epoch 134/300\n",
      "109/109 [==============================] - 0s 2ms/step - loss: 29.8771 - val_loss: 48.3850\n",
      "Epoch 135/300\n",
      "109/109 [==============================] - 0s 2ms/step - loss: 29.8695 - val_loss: 48.3812\n",
      "Epoch 136/300\n",
      "109/109 [==============================] - 0s 2ms/step - loss: 29.8619 - val_loss: 48.3777\n",
      "Epoch 137/300\n",
      "109/109 [==============================] - 0s 2ms/step - loss: 29.8544 - val_loss: 48.3743\n",
      "Epoch 138/300\n",
      "109/109 [==============================] - 0s 2ms/step - loss: 29.8469 - val_loss: 48.3712\n",
      "Epoch 139/300\n",
      "109/109 [==============================] - 0s 2ms/step - loss: 29.8394 - val_loss: 48.3682\n",
      "Epoch 140/300\n",
      "109/109 [==============================] - 0s 2ms/step - loss: 29.8320 - val_loss: 48.3653\n",
      "Epoch 141/300\n",
      "109/109 [==============================] - 0s 2ms/step - loss: 29.8246 - val_loss: 48.3627\n",
      "Epoch 142/300\n",
      "109/109 [==============================] - 0s 2ms/step - loss: 29.8172 - val_loss: 48.3603\n",
      "Epoch 143/300\n",
      "109/109 [==============================] - 0s 2ms/step - loss: 29.8099 - val_loss: 48.3580\n",
      "Epoch 144/300\n",
      "109/109 [==============================] - 0s 2ms/step - loss: 29.8026 - val_loss: 48.3558\n",
      "Epoch 145/300\n",
      "109/109 [==============================] - 0s 2ms/step - loss: 29.7953 - val_loss: 48.3539\n",
      "Epoch 146/300\n",
      "109/109 [==============================] - 0s 2ms/step - loss: 29.7880 - val_loss: 48.3520\n",
      "Epoch 147/300\n",
      "109/109 [==============================] - 0s 2ms/step - loss: 29.7808 - val_loss: 48.3505\n",
      "Epoch 148/300\n",
      "109/109 [==============================] - 0s 2ms/step - loss: 29.7736 - val_loss: 48.3490\n",
      "Epoch 149/300\n",
      "109/109 [==============================] - 0s 2ms/step - loss: 29.7664 - val_loss: 48.3476\n",
      "Epoch 150/300\n",
      "109/109 [==============================] - 0s 2ms/step - loss: 29.7592 - val_loss: 48.3465\n",
      "Epoch 151/300\n",
      "109/109 [==============================] - 0s 2ms/step - loss: 29.7520 - val_loss: 48.3455\n",
      "Epoch 152/300\n",
      "109/109 [==============================] - 0s 2ms/step - loss: 29.7449 - val_loss: 48.3447\n",
      "Epoch 153/300\n",
      "109/109 [==============================] - 0s 2ms/step - loss: 29.7378 - val_loss: 48.3439\n",
      "Epoch 154/300\n",
      "109/109 [==============================] - 0s 2ms/step - loss: 29.7307 - val_loss: 48.3433\n",
      "Epoch 155/300\n",
      "109/109 [==============================] - 0s 2ms/step - loss: 29.7236 - val_loss: 48.3429\n",
      "Epoch 156/300\n",
      "109/109 [==============================] - 0s 2ms/step - loss: 29.7166 - val_loss: 48.3426\n",
      "Epoch 157/300\n"
     ]
    },
    {
     "name": "stdout",
     "output_type": "stream",
     "text": [
      "109/109 [==============================] - 0s 2ms/step - loss: 29.7095 - val_loss: 48.3425\n",
      "Epoch 158/300\n",
      "109/109 [==============================] - 0s 2ms/step - loss: 29.7025 - val_loss: 48.3425\n",
      "Epoch 159/300\n",
      "109/109 [==============================] - 0s 2ms/step - loss: 29.6954 - val_loss: 48.3427\n",
      "Epoch 160/300\n",
      "109/109 [==============================] - 0s 2ms/step - loss: 29.6884 - val_loss: 48.3430\n",
      "Epoch 161/300\n",
      "109/109 [==============================] - 0s 2ms/step - loss: 29.6814 - val_loss: 48.3434\n",
      "Epoch 162/300\n",
      "109/109 [==============================] - 0s 2ms/step - loss: 29.6744 - val_loss: 48.3440\n",
      "Epoch 163/300\n",
      "109/109 [==============================] - 0s 2ms/step - loss: 29.6674 - val_loss: 48.3447\n",
      "Epoch 164/300\n",
      "109/109 [==============================] - 0s 2ms/step - loss: 29.6604 - val_loss: 48.3455\n",
      "Epoch 165/300\n",
      "109/109 [==============================] - 0s 2ms/step - loss: 29.6534 - val_loss: 48.3465\n",
      "Epoch 166/300\n",
      "109/109 [==============================] - 0s 2ms/step - loss: 29.6464 - val_loss: 48.3477\n",
      "Epoch 167/300\n",
      "109/109 [==============================] - 0s 2ms/step - loss: 29.6395 - val_loss: 48.3489\n",
      "Epoch 168/300\n",
      "109/109 [==============================] - 0s 2ms/step - loss: 29.6325 - val_loss: 48.3503\n",
      "Epoch 169/300\n",
      "109/109 [==============================] - 0s 2ms/step - loss: 29.6256 - val_loss: 48.3519\n",
      "Epoch 170/300\n",
      "109/109 [==============================] - 0s 2ms/step - loss: 29.6186 - val_loss: 48.3536\n",
      "Epoch 171/300\n",
      "109/109 [==============================] - 0s 2ms/step - loss: 29.6117 - val_loss: 48.3553\n",
      "Epoch 172/300\n",
      "109/109 [==============================] - 0s 2ms/step - loss: 29.6047 - val_loss: 48.3574\n",
      "Epoch 173/300\n",
      "109/109 [==============================] - 0s 2ms/step - loss: 29.5978 - val_loss: 48.3594\n",
      "Epoch 174/300\n",
      "109/109 [==============================] - 0s 2ms/step - loss: 29.5908 - val_loss: 48.3616\n",
      "Epoch 175/300\n",
      "109/109 [==============================] - 0s 2ms/step - loss: 29.5839 - val_loss: 48.3641\n",
      "Epoch 176/300\n",
      "109/109 [==============================] - 0s 2ms/step - loss: 29.5769 - val_loss: 48.3666\n",
      "Epoch 177/300\n",
      "109/109 [==============================] - 0s 2ms/step - loss: 29.5700 - val_loss: 48.3692\n",
      "Epoch 178/300\n",
      "109/109 [==============================] - 0s 2ms/step - loss: 29.5631 - val_loss: 48.3721\n",
      "Epoch 179/300\n",
      "109/109 [==============================] - 0s 2ms/step - loss: 29.5561 - val_loss: 48.3749\n",
      "Epoch 180/300\n",
      "109/109 [==============================] - 0s 2ms/step - loss: 29.5492 - val_loss: 48.3781\n",
      "Epoch 181/300\n",
      "109/109 [==============================] - 0s 2ms/step - loss: 29.5422 - val_loss: 48.3813\n",
      "Epoch 182/300\n",
      "109/109 [==============================] - 0s 2ms/step - loss: 29.5353 - val_loss: 48.3846\n",
      "Epoch 183/300\n",
      "109/109 [==============================] - 0s 2ms/step - loss: 29.5283 - val_loss: 48.3882\n",
      "Epoch 184/300\n",
      "109/109 [==============================] - 0s 2ms/step - loss: 29.5214 - val_loss: 48.3918\n",
      "Epoch 185/300\n",
      "109/109 [==============================] - 0s 2ms/step - loss: 29.5144 - val_loss: 48.3955\n",
      "Epoch 186/300\n",
      "109/109 [==============================] - 0s 2ms/step - loss: 29.5074 - val_loss: 48.3995\n",
      "Epoch 187/300\n",
      "109/109 [==============================] - 0s 2ms/step - loss: 29.5005 - val_loss: 48.4036\n",
      "Epoch 188/300\n",
      "109/109 [==============================] - 0s 2ms/step - loss: 29.4935 - val_loss: 48.4079\n",
      "Epoch 189/300\n",
      "109/109 [==============================] - 0s 2ms/step - loss: 29.4865 - val_loss: 48.4122\n",
      "Epoch 190/300\n",
      "109/109 [==============================] - 0s 2ms/step - loss: 29.4795 - val_loss: 48.4167\n",
      "Epoch 191/300\n",
      "109/109 [==============================] - 0s 2ms/step - loss: 29.4726 - val_loss: 48.4214\n",
      "Epoch 192/300\n",
      "109/109 [==============================] - 0s 2ms/step - loss: 29.4656 - val_loss: 48.4262\n",
      "Epoch 193/300\n",
      "109/109 [==============================] - 0s 2ms/step - loss: 29.4586 - val_loss: 48.4312\n",
      "Epoch 194/300\n",
      "109/109 [==============================] - 0s 2ms/step - loss: 29.4516 - val_loss: 48.4363\n",
      "Epoch 195/300\n",
      "109/109 [==============================] - 0s 2ms/step - loss: 29.4446 - val_loss: 48.4415\n",
      "Epoch 196/300\n",
      "109/109 [==============================] - 0s 2ms/step - loss: 29.4376 - val_loss: 48.4470\n",
      "Epoch 197/300\n",
      "109/109 [==============================] - 0s 2ms/step - loss: 29.4305 - val_loss: 48.4525\n",
      "Epoch 198/300\n",
      "109/109 [==============================] - 0s 2ms/step - loss: 29.4235 - val_loss: 48.4583\n",
      "Epoch 199/300\n",
      "109/109 [==============================] - 0s 2ms/step - loss: 29.4165 - val_loss: 48.4643\n",
      "Epoch 200/300\n",
      "109/109 [==============================] - 0s 2ms/step - loss: 29.4094 - val_loss: 48.4703\n",
      "Epoch 201/300\n",
      "109/109 [==============================] - 0s 2ms/step - loss: 29.4024 - val_loss: 48.4765\n",
      "Epoch 202/300\n",
      "109/109 [==============================] - 0s 2ms/step - loss: 29.3954 - val_loss: 48.4828\n",
      "Epoch 203/300\n",
      "109/109 [==============================] - 0s 2ms/step - loss: 29.3883 - val_loss: 48.4893\n",
      "Epoch 204/300\n",
      "109/109 [==============================] - 0s 2ms/step - loss: 29.3813 - val_loss: 48.4960\n",
      "Epoch 205/300\n",
      "109/109 [==============================] - 0s 2ms/step - loss: 29.3742 - val_loss: 48.5028\n",
      "Epoch 206/300\n",
      "109/109 [==============================] - 0s 2ms/step - loss: 29.3671 - val_loss: 48.5098\n",
      "Epoch 207/300\n",
      "109/109 [==============================] - 0s 2ms/step - loss: 29.3600 - val_loss: 48.5169\n",
      "Epoch 208/300\n",
      "109/109 [==============================] - 0s 2ms/step - loss: 29.3530 - val_loss: 48.5243\n",
      "Epoch 209/300\n",
      "109/109 [==============================] - 0s 2ms/step - loss: 29.3459 - val_loss: 48.5317\n",
      "Epoch 210/300\n",
      "109/109 [==============================] - 0s 2ms/step - loss: 29.3388 - val_loss: 48.5394\n",
      "Epoch 211/300\n",
      "109/109 [==============================] - 0s 2ms/step - loss: 29.3317 - val_loss: 48.5471\n",
      "Epoch 212/300\n",
      "109/109 [==============================] - 0s 2ms/step - loss: 29.3246 - val_loss: 48.5551\n",
      "Epoch 213/300\n",
      "109/109 [==============================] - 0s 2ms/step - loss: 29.3175 - val_loss: 48.5632\n",
      "Epoch 214/300\n",
      "109/109 [==============================] - 0s 2ms/step - loss: 29.3104 - val_loss: 48.5715\n",
      "Epoch 215/300\n",
      "109/109 [==============================] - 0s 2ms/step - loss: 29.3033 - val_loss: 48.5800\n",
      "Epoch 216/300\n",
      "109/109 [==============================] - 0s 2ms/step - loss: 29.2962 - val_loss: 48.5886\n",
      "Epoch 217/300\n",
      "109/109 [==============================] - 0s 2ms/step - loss: 29.2891 - val_loss: 48.5974\n",
      "Epoch 218/300\n",
      "109/109 [==============================] - 0s 2ms/step - loss: 29.2820 - val_loss: 48.6063\n",
      "Epoch 219/300\n",
      "109/109 [==============================] - 0s 2ms/step - loss: 29.2748 - val_loss: 48.6154\n",
      "Epoch 220/300\n",
      "109/109 [==============================] - 0s 2ms/step - loss: 29.2677 - val_loss: 48.6246\n",
      "Epoch 221/300\n",
      "109/109 [==============================] - 0s 2ms/step - loss: 29.2606 - val_loss: 48.6341\n",
      "Epoch 222/300\n",
      "109/109 [==============================] - 0s 2ms/step - loss: 29.2535 - val_loss: 48.6436\n",
      "Epoch 223/300\n",
      "109/109 [==============================] - 0s 2ms/step - loss: 29.2464 - val_loss: 48.6533\n",
      "Epoch 224/300\n",
      "109/109 [==============================] - 0s 2ms/step - loss: 29.2393 - val_loss: 48.6632\n",
      "Epoch 225/300\n",
      "109/109 [==============================] - 0s 2ms/step - loss: 29.2322 - val_loss: 48.6733\n",
      "Epoch 226/300\n",
      "109/109 [==============================] - 0s 2ms/step - loss: 29.2251 - val_loss: 48.6835\n",
      "Epoch 227/300\n",
      "109/109 [==============================] - 0s 2ms/step - loss: 29.2180 - val_loss: 48.6938\n",
      "Epoch 228/300\n",
      "109/109 [==============================] - 0s 2ms/step - loss: 29.2109 - val_loss: 48.7044\n",
      "Epoch 229/300\n",
      "109/109 [==============================] - 0s 2ms/step - loss: 29.2038 - val_loss: 48.7151\n",
      "Epoch 230/300\n",
      "109/109 [==============================] - 0s 2ms/step - loss: 29.1967 - val_loss: 48.7259\n",
      "Epoch 231/300\n",
      "109/109 [==============================] - 0s 2ms/step - loss: 29.1896 - val_loss: 48.7369\n",
      "Epoch 232/300\n",
      "109/109 [==============================] - 0s 2ms/step - loss: 29.1826 - val_loss: 48.7481\n",
      "Epoch 233/300\n",
      "109/109 [==============================] - 0s 2ms/step - loss: 29.1755 - val_loss: 48.7593\n",
      "Epoch 234/300\n",
      "109/109 [==============================] - 0s 2ms/step - loss: 29.1684 - val_loss: 48.7707\n",
      "Epoch 235/300\n"
     ]
    },
    {
     "name": "stdout",
     "output_type": "stream",
     "text": [
      "109/109 [==============================] - 0s 2ms/step - loss: 29.1614 - val_loss: 48.7823\n",
      "Epoch 236/300\n",
      "109/109 [==============================] - 0s 2ms/step - loss: 29.1543 - val_loss: 48.7941\n",
      "Epoch 237/300\n",
      "109/109 [==============================] - 0s 2ms/step - loss: 29.1473 - val_loss: 48.8060\n",
      "Epoch 238/300\n",
      "109/109 [==============================] - 0s 2ms/step - loss: 29.1403 - val_loss: 48.8180\n",
      "Epoch 239/300\n",
      "109/109 [==============================] - 0s 2ms/step - loss: 29.1333 - val_loss: 48.8302\n",
      "Epoch 240/300\n",
      "109/109 [==============================] - 0s 2ms/step - loss: 29.1263 - val_loss: 48.8424\n",
      "Epoch 241/300\n",
      "109/109 [==============================] - 0s 2ms/step - loss: 29.1193 - val_loss: 48.8549\n",
      "Epoch 242/300\n",
      "109/109 [==============================] - 0s 2ms/step - loss: 29.1123 - val_loss: 48.8674\n",
      "Epoch 243/300\n",
      "109/109 [==============================] - 0s 2ms/step - loss: 29.1054 - val_loss: 48.8801\n",
      "Epoch 244/300\n",
      "109/109 [==============================] - 0s 2ms/step - loss: 29.0984 - val_loss: 48.8929\n",
      "Epoch 245/300\n",
      "109/109 [==============================] - 0s 2ms/step - loss: 29.0915 - val_loss: 48.9059\n",
      "Epoch 246/300\n",
      "109/109 [==============================] - 0s 2ms/step - loss: 29.0846 - val_loss: 48.9189\n",
      "Epoch 247/300\n",
      "109/109 [==============================] - 0s 2ms/step - loss: 29.0777 - val_loss: 48.9322\n",
      "Epoch 248/300\n",
      "109/109 [==============================] - 0s 2ms/step - loss: 29.0709 - val_loss: 48.9454\n",
      "Epoch 249/300\n",
      "109/109 [==============================] - 0s 2ms/step - loss: 29.0640 - val_loss: 48.9589\n",
      "Epoch 250/300\n",
      "109/109 [==============================] - 0s 2ms/step - loss: 29.0572 - val_loss: 48.9724\n",
      "Epoch 251/300\n",
      "109/109 [==============================] - 0s 2ms/step - loss: 29.0504 - val_loss: 48.9861\n",
      "Epoch 252/300\n",
      "109/109 [==============================] - 0s 2ms/step - loss: 29.0436 - val_loss: 48.9998\n",
      "Epoch 253/300\n",
      "109/109 [==============================] - 0s 2ms/step - loss: 29.0368 - val_loss: 49.0137\n",
      "Epoch 254/300\n",
      "109/109 [==============================] - 0s 2ms/step - loss: 29.0301 - val_loss: 49.0276\n",
      "Epoch 255/300\n",
      "109/109 [==============================] - 0s 2ms/step - loss: 29.0234 - val_loss: 49.0417\n",
      "Epoch 256/300\n",
      "109/109 [==============================] - 0s 2ms/step - loss: 29.0167 - val_loss: 49.0559\n",
      "Epoch 257/300\n",
      "109/109 [==============================] - 0s 2ms/step - loss: 29.0100 - val_loss: 49.0700\n",
      "Epoch 258/300\n",
      "109/109 [==============================] - 0s 2ms/step - loss: 29.0033 - val_loss: 49.0844\n",
      "Epoch 259/300\n",
      "109/109 [==============================] - 0s 2ms/step - loss: 28.9967 - val_loss: 49.0988\n",
      "Epoch 260/300\n",
      "109/109 [==============================] - 0s 2ms/step - loss: 28.9901 - val_loss: 49.1133\n",
      "Epoch 261/300\n",
      "109/109 [==============================] - 0s 2ms/step - loss: 28.9836 - val_loss: 49.1278\n",
      "Epoch 262/300\n",
      "109/109 [==============================] - 0s 2ms/step - loss: 28.9770 - val_loss: 49.1425\n",
      "Epoch 263/300\n",
      "109/109 [==============================] - 0s 2ms/step - loss: 28.9705 - val_loss: 49.1572\n",
      "Epoch 264/300\n",
      "109/109 [==============================] - 0s 2ms/step - loss: 28.9640 - val_loss: 49.1721\n",
      "Epoch 265/300\n",
      "109/109 [==============================] - 0s 2ms/step - loss: 28.9575 - val_loss: 49.1869\n",
      "Epoch 266/300\n",
      "109/109 [==============================] - 0s 2ms/step - loss: 28.9511 - val_loss: 49.2019\n",
      "Epoch 267/300\n",
      "109/109 [==============================] - 0s 2ms/step - loss: 28.9447 - val_loss: 49.2169\n",
      "Epoch 268/300\n",
      "109/109 [==============================] - 0s 2ms/step - loss: 28.9383 - val_loss: 49.2319\n",
      "Epoch 269/300\n",
      "109/109 [==============================] - 0s 2ms/step - loss: 28.9319 - val_loss: 49.2470\n",
      "Epoch 270/300\n",
      "109/109 [==============================] - 0s 2ms/step - loss: 28.9256 - val_loss: 49.2623\n",
      "Epoch 271/300\n",
      "109/109 [==============================] - 0s 2ms/step - loss: 28.9193 - val_loss: 49.2773\n",
      "Epoch 272/300\n",
      "109/109 [==============================] - 0s 2ms/step - loss: 28.9130 - val_loss: 49.2927\n",
      "Epoch 273/300\n",
      "109/109 [==============================] - 0s 2ms/step - loss: 28.9068 - val_loss: 49.3079\n",
      "Epoch 274/300\n",
      "109/109 [==============================] - 0s 2ms/step - loss: 28.9006 - val_loss: 49.3233\n",
      "Epoch 275/300\n",
      "109/109 [==============================] - 0s 2ms/step - loss: 28.8944 - val_loss: 49.3387\n",
      "Epoch 276/300\n",
      "109/109 [==============================] - 0s 2ms/step - loss: 28.8882 - val_loss: 49.3541\n",
      "Epoch 277/300\n",
      "109/109 [==============================] - 0s 2ms/step - loss: 28.8821 - val_loss: 49.3696\n",
      "Epoch 278/300\n",
      "109/109 [==============================] - 0s 2ms/step - loss: 28.8760 - val_loss: 49.3851\n",
      "Epoch 279/300\n",
      "109/109 [==============================] - 0s 2ms/step - loss: 28.8699 - val_loss: 49.4007\n",
      "Epoch 280/300\n",
      "109/109 [==============================] - 0s 2ms/step - loss: 28.8639 - val_loss: 49.4162\n",
      "Epoch 281/300\n",
      "109/109 [==============================] - 0s 2ms/step - loss: 28.8579 - val_loss: 49.4319\n",
      "Epoch 282/300\n",
      "109/109 [==============================] - 0s 2ms/step - loss: 28.8519 - val_loss: 49.4474\n",
      "Epoch 283/300\n",
      "109/109 [==============================] - 0s 2ms/step - loss: 28.8459 - val_loss: 49.4632\n",
      "Epoch 284/300\n",
      "109/109 [==============================] - 0s 2ms/step - loss: 28.8400 - val_loss: 49.4789\n",
      "Epoch 285/300\n",
      "109/109 [==============================] - 0s 2ms/step - loss: 28.8341 - val_loss: 49.4946\n",
      "Epoch 286/300\n",
      "109/109 [==============================] - 0s 2ms/step - loss: 28.8282 - val_loss: 49.5103\n",
      "Epoch 287/300\n",
      "109/109 [==============================] - 0s 2ms/step - loss: 28.8224 - val_loss: 49.5262\n",
      "Epoch 288/300\n",
      "109/109 [==============================] - 0s 2ms/step - loss: 28.8166 - val_loss: 49.5419\n",
      "Epoch 289/300\n",
      "109/109 [==============================] - 0s 2ms/step - loss: 28.8108 - val_loss: 49.5577\n",
      "Epoch 290/300\n",
      "109/109 [==============================] - 0s 2ms/step - loss: 28.8050 - val_loss: 49.5736\n",
      "Epoch 291/300\n",
      "109/109 [==============================] - 0s 2ms/step - loss: 28.7993 - val_loss: 49.5895\n",
      "Epoch 292/300\n",
      "109/109 [==============================] - 0s 2ms/step - loss: 28.7936 - val_loss: 49.6054\n",
      "Epoch 293/300\n",
      "109/109 [==============================] - 0s 2ms/step - loss: 28.7879 - val_loss: 49.6213\n",
      "Epoch 294/300\n",
      "109/109 [==============================] - 0s 2ms/step - loss: 28.7822 - val_loss: 49.6372\n",
      "Epoch 295/300\n",
      "109/109 [==============================] - 0s 2ms/step - loss: 28.7766 - val_loss: 49.6532\n",
      "Epoch 296/300\n",
      "109/109 [==============================] - 0s 2ms/step - loss: 28.7710 - val_loss: 49.6692\n",
      "Epoch 297/300\n",
      "109/109 [==============================] - 0s 2ms/step - loss: 28.7654 - val_loss: 49.6853\n",
      "Epoch 298/300\n",
      "109/109 [==============================] - 0s 2ms/step - loss: 28.7599 - val_loss: 49.7013\n",
      "Epoch 299/300\n",
      "109/109 [==============================] - 0s 2ms/step - loss: 28.7543 - val_loss: 49.7174\n",
      "Epoch 300/300\n",
      "109/109 [==============================] - 0s 2ms/step - loss: 28.7488 - val_loss: 49.7336\n"
     ]
    }
   ],
   "source": [
    "history_tech=model_tech.fit(\n",
    "    X_train, y_train,\n",
    "    epochs=300,\n",
    "    batch_size=32,\n",
    "    validation_split=0.1,\n",
    "    verbose=1,\n",
    "    shuffle=False\n",
    ")\n",
    "y_pred = model_tech.predict(X_test)"
   ]
  },
  {
   "cell_type": "code",
   "execution_count": 10,
   "id": "55aa57ad",
   "metadata": {},
   "outputs": [
    {
     "data": {
      "text/plain": [
       "<matplotlib.legend.Legend at 0x17f818eb0>"
      ]
     },
     "execution_count": 10,
     "metadata": {},
     "output_type": "execute_result"
    },
    {
     "data": {
      "image/png": "[encoded data removed]",
      "text/plain": [
       "<Figure size 432x288 with 1 Axes>"
      ]
     },
     "metadata": {
      "needs_background": "light"
     },
     "output_type": "display_data"
    }
   ],
   "source": [
    "plt.plot(history_tech.history['loss'], label='train')\n",
    "plt.plot(history_tech.history['val_loss'], label='test')\n",
    "plt.legend()"
   ]
  },
  {
   "cell_type": "code",
   "execution_count": 11,
   "id": "477f1fb7",
   "metadata": {},
   "outputs": [
    {
     "data": {
      "image/png": "[encoded data removed]",
      "text/plain": [
       "<Figure size 432x288 with 1 Axes>"
      ]
     },
     "metadata": {
      "needs_background": "light"
     },
     "output_type": "display_data"
    }
   ],
   "source": [
    "plt.plot(np.arange(0, len(y_train)), y_train, 'g', label=\"history\")\n",
    "plt.plot(np.arange(len(y_train), len(y_train) + len(y_test)), y_test, marker='.', label=\"true\")\n",
    "plt.plot(np.arange(len(y_train), len(y_train) + len(y_test)), y_pred, 'r', label=\"prediction\")\n",
    "plt.ylabel('Value')\n",
    "plt.xlabel('Time Step')\n",
    "plt.legend()\n",
    "plt.show();"
   ]
  },
  {
   "cell_type": "code",
   "execution_count": 12,
   "id": "134553b2",
   "metadata": {
    "scrolled": true
   },
   "outputs": [
    {
     "data": {
      "image/png": "[encoded data removed]",
      "text/plain": [
       "<Figure size 432x288 with 1 Axes>"
      ]
     },
     "metadata": {
      "needs_background": "light"
     },
     "output_type": "display_data"
    }
   ],
   "source": [
    "# y_test = sc.inverse_transform(y_test)\n",
    "# y_pred = sc.inverse_transform(y_pred)\n",
    "plt.plot(y_test, marker='.', label=\"true\")\n",
    "plt.plot(y_pred, 'r', label=\"prediction\")\n",
    "plt.ylabel('Value')\n",
    "plt.xlabel('Time Step')\n",
    "plt.legend()\n",
    "plt.show();"
   ]
  },
  {
   "cell_type": "code",
   "execution_count": 13,
   "id": "0ef7fe0c",
   "metadata": {},
   "outputs": [
    {
     "data": {
      "text/plain": [
       "0.9990180345220498"
      ]
     },
     "execution_count": 13,
     "metadata": {},
     "output_type": "execute_result"
    }
   ],
   "source": [
    "r2_score(y_test,y_pred)"
   ]
  },
  {
   "cell_type": "code",
   "execution_count": 14,
   "id": "7cf212a7",
   "metadata": {},
   "outputs": [
    {
     "data": {
      "text/plain": [
       "0.11884345936123847"
      ]
     },
     "execution_count": 14,
     "metadata": {},
     "output_type": "execute_result"
    }
   ],
   "source": [
    "mean_absolute_percentage_error(y_test,y_pred)"
   ]
  },
  {
   "cell_type": "code",
   "execution_count": 15,
   "id": "a0cd9d21",
   "metadata": {},
   "outputs": [
    {
     "data": {
      "text/plain": [
       "5.979250289758124"
      ]
     },
     "execution_count": 15,
     "metadata": {},
     "output_type": "execute_result"
    }
   ],
   "source": [
    "mean_squared_error(y_test,y_pred,squared=False)"
   ]
  },
  {
   "cell_type": "code",
   "execution_count": 16,
   "id": "325a7cdd",
   "metadata": {},
   "outputs": [
    {
     "name": "stderr",
     "output_type": "stream",
     "text": [
      "/var/folders/8h/w0jn89bj2w5g85gj4ck7w0t00000gn/T/ipykernel_45977/2328949661.py:1: FutureWarning: In a future version of pandas all arguments of DataFrame.drop except for the argument 'labels' will be keyword-only.\n",
      "  x_val=data_val.drop('Prediction',1)\n"
     ]
    }
   ],
   "source": [
    "x_val=data_val.drop('Prediction',1)\n",
    "y_val=data_val['Prediction']\n",
    "x_val=sc.transform(x_val).reshape(x_val.shape[0],1,x_val.shape[1])\n",
    "y_val_pred=model_tech.predict(x_val)"
   ]
  },
  {
   "cell_type": "code",
   "execution_count": 17,
   "id": "529aefb2",
   "metadata": {},
   "outputs": [
    {
     "data": {
      "image/png": "[encoded data removed]",
      "text/plain": [
       "<Figure size 432x288 with 1 Axes>"
      ]
     },
     "metadata": {
      "needs_background": "light"
     },
     "output_type": "display_data"
    }
   ],
   "source": [
    "plt.plot(y_val.values, marker='.', label=\"true\")\n",
    "plt.plot(y_val_pred, 'r', marker='*',label=\"prediction\")\n",
    "plt.ylabel('Value')\n",
    "plt.xlabel('Time Step')\n",
    "plt.legend()\n",
    "plt.show()"
   ]
  },
  {
   "cell_type": "code",
   "execution_count": 18,
   "id": "3b9ce3a3",
   "metadata": {},
   "outputs": [
    {
     "data": {
      "text/plain": [
       "0.8948088217639647"
      ]
     },
     "execution_count": 18,
     "metadata": {},
     "output_type": "execute_result"
    }
   ],
   "source": [
    "r2_score(y_val,y_val_pred)"
   ]
  },
  {
   "cell_type": "code",
   "execution_count": 19,
   "id": "67bc6f38",
   "metadata": {},
   "outputs": [
    {
     "data": {
      "text/plain": [
       "0.024720707944546033"
      ]
     },
     "execution_count": 19,
     "metadata": {},
     "output_type": "execute_result"
    }
   ],
   "source": [
    "mean_absolute_percentage_error(y_val,y_val_pred)"
   ]
  },
  {
   "cell_type": "code",
   "execution_count": 20,
   "id": "7a79ea1f",
   "metadata": {},
   "outputs": [
    {
     "data": {
      "text/plain": [
       "13.65771187055552"
      ]
     },
     "execution_count": 20,
     "metadata": {},
     "output_type": "execute_result"
    }
   ],
   "source": [
    "mean_squared_error(y_val.values,y_val_pred,squared=False)"
   ]
  },
  {
   "cell_type": "code",
   "execution_count": null,
   "id": "d8ab65e9",
   "metadata": {},
   "outputs": [],
   "source": []
  }
 ],
 "metadata": {
  "kernelspec": {
   "display_name": "Python 3 (ipykernel)",
   "language": "python",
   "name": "python3"
  },
  "language_info": {
   "codemirror_mode": {
    "name": "ipython",
    "version": 3
   },
   "file_extension": ".py",
   "mimetype": "text/x-python",
   "name": "python",
   "nbconvert_exporter": "python",
   "pygments_lexer": "ipython3",
   "version": "3.8.13"
  }
 },
 "nbformat": 4,
 "nbformat_minor": 5
}
