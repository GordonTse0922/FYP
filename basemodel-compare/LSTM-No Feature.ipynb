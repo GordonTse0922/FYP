{
 "cells": [
  {
   "cell_type": "code",
   "execution_count": 1,
   "id": "eb9ae2e7",
   "metadata": {},
   "outputs": [],
   "source": [
    "import yfinance as yf\n",
    "import pandas as pd\n",
    "import numpy as np\n",
    "import matplotlib.pyplot as plt\n",
    "from sklearn.preprocessing import MinMaxScaler\n",
    "from sklearn.model_selection import train_test_split\n",
    "from sklearn.metrics import classification_report,accuracy_score, mean_squared_error,mean_absolute_percentage_error,r2_score\n",
    "import tensorflow as tf\n",
    "import talib\n",
    "from tensorflow import keras\n",
    "from sklearn.pipeline import make_pipeline\n",
    "from tensorflow.keras import regularizers\n",
    "tf.config.set_visible_devices([], 'GPU')"
   ]
  },
  {
   "cell_type": "code",
   "execution_count": 2,
   "id": "9ad5f74c",
   "metadata": {},
   "outputs": [
    {
     "name": "stdout",
     "output_type": "stream",
     "text": [
      "[*********************100%***********************]  1 of 1 completed\n"
     ]
    }
   ],
   "source": [
    "data=yf.download('0700.hk')"
   ]
  },
  {
   "cell_type": "code",
   "execution_count": 3,
   "id": "781ab9b7",
   "metadata": {
    "pycharm": {
     "name": "#%%\n"
    }
   },
   "outputs": [],
   "source": [
    "# data['6day MA'] = data['Close'].rolling(window = 6).mean()\n",
    "# data['12day MA'] = data['Close'].rolling(window = 12).mean()\n",
    "# data['RSI'] = talib.RSI(data['Close'].values, timeperiod = 7)\n",
    "# data['%R5'] = talib.WILLR(data['High'].values, data['Low'].values, data['Close'].values, 5)\n",
    "# data['%R10'] = talib.WILLR(data['High'].values, data['Low'].values, data['Close'].values, 10)\n",
    "# data['MI6']=talib.MOM(data['Close'],timeperiod=6)\n",
    "# data['MI12']=talib.MOM(data['Close'],timeperiod=12)\n",
    "# macd, macdsignal, macdhist = talib.MACD(data['Close'], fastperiod=12, slowperiod=26, signalperiod=9)\n",
    "# data['EMA12']=talib.EMA(data['Close'], timeperiod=12)\n",
    "# data['EMA26']=talib.EMA(data['Close'],timeperiod=26)\n",
    "# data['MACD']=macd\n",
    "# data['TR']=talib.TRANGE(data['High'],data['Low'],data['Close'])\n",
    "# data['OSC6']=talib.CMO(data['Close'], timeperiod=6)\n",
    "# data['OSC12']=talib.CMO(data['Close'], timeperiod=12)\n",
    "data['Prediction']=data['Close'].shift(-1)\n",
    "data.dropna(inplace=True)"
   ]
  },
  {
   "cell_type": "code",
   "execution_count": 4,
   "id": "e1036fe8",
   "metadata": {},
   "outputs": [
    {
     "data": {
      "text/html": [
       "<div>\n",
       "<style scoped>\n",
       "    .dataframe tbody tr th:only-of-type {\n",
       "        vertical-align: middle;\n",
       "    }\n",
       "\n",
       "    .dataframe tbody tr th {\n",
       "        vertical-align: top;\n",
       "    }\n",
       "\n",
       "    .dataframe thead th {\n",
       "        text-align: right;\n",
       "    }\n",
       "</style>\n",
       "<table border=\"1\" class=\"dataframe\">\n",
       "  <thead>\n",
       "    <tr style=\"text-align: right;\">\n",
       "      <th></th>\n",
       "      <th>Open</th>\n",
       "      <th>High</th>\n",
       "      <th>Low</th>\n",
       "      <th>Close</th>\n",
       "      <th>Adj Close</th>\n",
       "      <th>Volume</th>\n",
       "      <th>Prediction</th>\n",
       "    </tr>\n",
       "    <tr>\n",
       "      <th>Date</th>\n",
       "      <th></th>\n",
       "      <th></th>\n",
       "      <th></th>\n",
       "      <th></th>\n",
       "      <th></th>\n",
       "      <th></th>\n",
       "      <th></th>\n",
       "    </tr>\n",
       "  </thead>\n",
       "  <tbody>\n",
       "    <tr>\n",
       "      <th>2022-03-31</th>\n",
       "      <td>382.399994</td>\n",
       "      <td>382.399994</td>\n",
       "      <td>372.600006</td>\n",
       "      <td>374.200012</td>\n",
       "      <td>374.200012</td>\n",
       "      <td>14589554</td>\n",
       "      <td>378.799988</td>\n",
       "    </tr>\n",
       "    <tr>\n",
       "      <th>2022-04-01</th>\n",
       "      <td>367.000000</td>\n",
       "      <td>378.799988</td>\n",
       "      <td>362.200012</td>\n",
       "      <td>378.799988</td>\n",
       "      <td>378.799988</td>\n",
       "      <td>14496674</td>\n",
       "      <td>390.000000</td>\n",
       "    </tr>\n",
       "    <tr>\n",
       "      <th>2022-04-04</th>\n",
       "      <td>388.799988</td>\n",
       "      <td>391.000000</td>\n",
       "      <td>383.799988</td>\n",
       "      <td>390.000000</td>\n",
       "      <td>390.000000</td>\n",
       "      <td>15665556</td>\n",
       "      <td>381.000000</td>\n",
       "    </tr>\n",
       "    <tr>\n",
       "      <th>2022-04-06</th>\n",
       "      <td>383.000000</td>\n",
       "      <td>385.000000</td>\n",
       "      <td>380.000000</td>\n",
       "      <td>381.000000</td>\n",
       "      <td>381.000000</td>\n",
       "      <td>17127923</td>\n",
       "      <td>374.399994</td>\n",
       "    </tr>\n",
       "    <tr>\n",
       "      <th>2022-04-07</th>\n",
       "      <td>375.600006</td>\n",
       "      <td>383.600006</td>\n",
       "      <td>373.799988</td>\n",
       "      <td>374.399994</td>\n",
       "      <td>374.399994</td>\n",
       "      <td>15874056</td>\n",
       "      <td>369.600006</td>\n",
       "    </tr>\n",
       "  </tbody>\n",
       "</table>\n",
       "</div>"
      ],
      "text/plain": [
       "                  Open        High         Low       Close   Adj Close  \\\n",
       "Date                                                                     \n",
       "2022-03-31  382.399994  382.399994  372.600006  374.200012  374.200012   \n",
       "2022-04-01  367.000000  378.799988  362.200012  378.799988  378.799988   \n",
       "2022-04-04  388.799988  391.000000  383.799988  390.000000  390.000000   \n",
       "2022-04-06  383.000000  385.000000  380.000000  381.000000  381.000000   \n",
       "2022-04-07  375.600006  383.600006  373.799988  374.399994  374.399994   \n",
       "\n",
       "              Volume  Prediction  \n",
       "Date                              \n",
       "2022-03-31  14589554  378.799988  \n",
       "2022-04-01  14496674  390.000000  \n",
       "2022-04-04  15665556  381.000000  \n",
       "2022-04-06  17127923  374.399994  \n",
       "2022-04-07  15874056  369.600006  "
      ]
     },
     "execution_count": 4,
     "metadata": {},
     "output_type": "execute_result"
    }
   ],
   "source": [
    "data_val=data[-100:]\n",
    "data=data[:-100]\n",
    "data_val.tail()"
   ]
  },
  {
   "cell_type": "code",
   "execution_count": 5,
   "id": "13b49c54",
   "metadata": {},
   "outputs": [],
   "source": [
    "sc = MinMaxScaler(feature_range = (-1, 1))"
   ]
  },
  {
   "cell_type": "code",
   "execution_count": 6,
   "id": "cb6680b2",
   "metadata": {},
   "outputs": [
    {
     "name": "stdout",
     "output_type": "stream",
     "text": [
      "(3873, 1, 6) (3873, 1) (431, 1, 6) (431, 1)\n"
     ]
    },
    {
     "name": "stderr",
     "output_type": "stream",
     "text": [
      "/var/folders/8h/w0jn89bj2w5g85gj4ck7w0t00000gn/T/ipykernel_73500/2420511516.py:1: FutureWarning: In a future version of pandas all arguments of DataFrame.drop except for the argument 'labels' will be keyword-only.\n",
      "  X=sc.fit_transform(data.drop('Prediction',1))\n"
     ]
    }
   ],
   "source": [
    "X=sc.fit_transform(data.drop('Prediction',1))\n",
    "Y = data[\"Prediction\"].values.reshape(-1,1)\n",
    "# Y=np.array(data[\"Close\"])\n",
    "X_train, X_test, y_train, y_test = train_test_split(X, Y, test_size=0.1)\n",
    "X_train = X_train.reshape((X_train.shape[0], 1, X_train.shape[1]))\n",
    "X_test = X_test.reshape((X_test.shape[0], 1, X_test.shape[1]))\n",
    "print(X_train.shape,y_train.shape,X_test.shape,y_test.shape)"
   ]
  },
  {
   "cell_type": "code",
   "execution_count": 7,
   "id": "bb8c5487",
   "metadata": {},
   "outputs": [],
   "source": [
    "model_tech = keras.Sequential()\n",
    "model_tech.add(keras.layers.LSTM(\n",
    "  units=128,\n",
    "  input_shape=(X_train.shape[1], X_train.shape[2]),\n",
    "    return_sequences=True\n",
    "   \n",
    "))\n",
    "model_tech.add(keras.layers.LSTM(units=64))\n",
    "model_tech.add(keras.layers.Dense(units=64))\n",
    "model_tech.add(keras.layers.Dense(units=1))\n",
    "model_tech.compile(\n",
    "  loss='mean_squared_error',\n",
    "  optimizer=keras.optimizers.Adam(0.001)\n",
    ")"
   ]
  },
  {
   "cell_type": "code",
   "execution_count": 8,
   "id": "428d66a4",
   "metadata": {
    "pycharm": {
     "is_executing": true
    },
    "scrolled": true
   },
   "outputs": [
    {
     "name": "stdout",
     "output_type": "stream",
     "text": [
      "Epoch 1/300\n"
     ]
    },
    {
     "name": "stderr",
     "output_type": "stream",
     "text": [
      "2022-04-10 14:59:45.775899: W tensorflow/core/platform/profile_utils/cpu_utils.cc:128] Failed to get CPU frequency: 0 Hz\n"
     ]
    },
    {
     "name": "stdout",
     "output_type": "stream",
     "text": [
      "697/697 [==============================] - 3s 2ms/step - loss: 11680.3496 - val_loss: 728.2406\n",
      "Epoch 2/300\n",
      "697/697 [==============================] - 1s 1ms/step - loss: 263.5935 - val_loss: 112.3606\n",
      "Epoch 3/300\n",
      "697/697 [==============================] - 1s 1ms/step - loss: 75.3851 - val_loss: 68.4372\n",
      "Epoch 4/300\n",
      "697/697 [==============================] - 1s 1ms/step - loss: 62.1346 - val_loss: 57.7752\n",
      "Epoch 5/300\n",
      "697/697 [==============================] - 1s 1ms/step - loss: 56.8680 - val_loss: 56.3496\n",
      "Epoch 6/300\n",
      "697/697 [==============================] - 1s 2ms/step - loss: 53.7606 - val_loss: 57.0431\n",
      "Epoch 7/300\n",
      "697/697 [==============================] - 1s 1ms/step - loss: 51.6454 - val_loss: 57.7713\n",
      "Epoch 8/300\n",
      "697/697 [==============================] - 1s 1ms/step - loss: 50.0809 - val_loss: 58.0425\n",
      "Epoch 9/300\n",
      "697/697 [==============================] - 1s 1ms/step - loss: 48.8380 - val_loss: 57.8626\n",
      "Epoch 10/300\n",
      "697/697 [==============================] - 1s 1ms/step - loss: 47.7962 - val_loss: 57.3647\n",
      "Epoch 11/300\n",
      "697/697 [==============================] - 1s 1ms/step - loss: 46.8922 - val_loss: 56.6724\n",
      "Epoch 12/300\n",
      "697/697 [==============================] - 1s 1ms/step - loss: 46.0891 - val_loss: 55.8687\n",
      "Epoch 13/300\n",
      "697/697 [==============================] - 1s 1ms/step - loss: 45.3632 - val_loss: 55.0062\n",
      "Epoch 14/300\n",
      "697/697 [==============================] - 1s 1ms/step - loss: 44.6993 - val_loss: 54.1176\n",
      "Epoch 15/300\n",
      "697/697 [==============================] - 1s 2ms/step - loss: 44.0871 - val_loss: 53.2266\n",
      "Epoch 16/300\n",
      "697/697 [==============================] - 1s 1ms/step - loss: 43.5205 - val_loss: 52.3497\n",
      "Epoch 17/300\n",
      "697/697 [==============================] - 1s 1ms/step - loss: 42.9951 - val_loss: 51.4965\n",
      "Epoch 18/300\n",
      "697/697 [==============================] - 1s 1ms/step - loss: 42.5078 - val_loss: 50.6733\n",
      "Epoch 19/300\n",
      "697/697 [==============================] - 1s 1ms/step - loss: 42.0557 - val_loss: 49.8834\n",
      "Epoch 20/300\n",
      "697/697 [==============================] - 1s 1ms/step - loss: 41.6367 - val_loss: 49.1289\n",
      "Epoch 21/300\n",
      "697/697 [==============================] - 1s 1ms/step - loss: 41.2486 - val_loss: 48.4111\n",
      "Epoch 22/300\n",
      "697/697 [==============================] - 1s 1ms/step - loss: 40.8892 - val_loss: 47.7299\n",
      "Epoch 23/300\n",
      "697/697 [==============================] - 1s 1ms/step - loss: 40.5565 - val_loss: 47.0843\n",
      "Epoch 24/300\n",
      "697/697 [==============================] - 1s 1ms/step - loss: 40.2484 - val_loss: 46.4730\n",
      "Epoch 25/300\n",
      "697/697 [==============================] - 1s 1ms/step - loss: 39.9629 - val_loss: 45.8939\n",
      "Epoch 26/300\n",
      "697/697 [==============================] - 1s 1ms/step - loss: 39.6978 - val_loss: 45.3442\n",
      "Epoch 27/300\n",
      "697/697 [==============================] - 1s 1ms/step - loss: 39.4513 - val_loss: 44.8218\n",
      "Epoch 28/300\n",
      "697/697 [==============================] - 1s 2ms/step - loss: 39.2218 - val_loss: 44.3233\n",
      "Epoch 29/300\n",
      "697/697 [==============================] - 1s 2ms/step - loss: 39.0075 - val_loss: 43.8459\n",
      "Epoch 30/300\n",
      "697/697 [==============================] - 1s 1ms/step - loss: 38.8071 - val_loss: 43.3869\n",
      "Epoch 31/300\n",
      "697/697 [==============================] - 1s 1ms/step - loss: 38.6192 - val_loss: 42.9440\n",
      "Epoch 32/300\n",
      "697/697 [==============================] - 1s 1ms/step - loss: 38.4429 - val_loss: 42.5143\n",
      "Epoch 33/300\n",
      "697/697 [==============================] - 1s 1ms/step - loss: 38.2771 - val_loss: 42.0961\n",
      "Epoch 34/300\n",
      "697/697 [==============================] - 1s 1ms/step - loss: 38.1211 - val_loss: 41.6880\n",
      "Epoch 35/300\n",
      "697/697 [==============================] - 1s 1ms/step - loss: 37.9741 - val_loss: 41.2881\n",
      "Epoch 36/300\n",
      "697/697 [==============================] - 1s 1ms/step - loss: 37.8355 - val_loss: 40.8962\n",
      "Epoch 37/300\n",
      "697/697 [==============================] - 1s 1ms/step - loss: 37.7049 - val_loss: 40.5105\n",
      "Epoch 38/300\n",
      "697/697 [==============================] - 1s 1ms/step - loss: 37.5815 - val_loss: 40.1311\n",
      "Epoch 39/300\n",
      "697/697 [==============================] - 1s 1ms/step - loss: 37.4650 - val_loss: 39.7573\n",
      "Epoch 40/300\n",
      "697/697 [==============================] - 1s 1ms/step - loss: 37.3549 - val_loss: 39.3890\n",
      "Epoch 41/300\n",
      "697/697 [==============================] - 1s 1ms/step - loss: 37.2507 - val_loss: 39.0263\n",
      "Epoch 42/300\n",
      "697/697 [==============================] - 1s 1ms/step - loss: 37.1522 - val_loss: 38.6690\n",
      "Epoch 43/300\n",
      "697/697 [==============================] - 1s 1ms/step - loss: 37.0590 - val_loss: 38.3171\n",
      "Epoch 44/300\n",
      "697/697 [==============================] - 1s 1ms/step - loss: 36.9705 - val_loss: 37.9709\n",
      "Epoch 45/300\n",
      "697/697 [==============================] - 1s 1ms/step - loss: 36.8867 - val_loss: 37.6307\n",
      "Epoch 46/300\n",
      "697/697 [==============================] - 1s 1ms/step - loss: 36.8072 - val_loss: 37.2965\n",
      "Epoch 47/300\n",
      "697/697 [==============================] - 1s 1ms/step - loss: 36.7316 - val_loss: 36.9688\n",
      "Epoch 48/300\n",
      "697/697 [==============================] - 1s 1ms/step - loss: 36.6598 - val_loss: 36.6475\n",
      "Epoch 49/300\n",
      "697/697 [==============================] - 1s 1ms/step - loss: 36.5915 - val_loss: 36.3330\n",
      "Epoch 50/300\n",
      "697/697 [==============================] - 1s 1ms/step - loss: 36.5266 - val_loss: 36.0253\n",
      "Epoch 51/300\n",
      "697/697 [==============================] - 1s 1ms/step - loss: 36.4646 - val_loss: 35.7247\n",
      "Epoch 52/300\n",
      "697/697 [==============================] - 1s 1ms/step - loss: 36.4056 - val_loss: 35.4311\n",
      "Epoch 53/300\n",
      "697/697 [==============================] - 1s 1ms/step - loss: 36.3492 - val_loss: 35.1446\n",
      "Epoch 54/300\n",
      "697/697 [==============================] - 1s 1ms/step - loss: 36.2954 - val_loss: 34.8653\n",
      "Epoch 55/300\n",
      "697/697 [==============================] - 1s 1ms/step - loss: 36.2439 - val_loss: 34.5928\n",
      "Epoch 56/300\n",
      "697/697 [==============================] - 1s 1ms/step - loss: 36.1947 - val_loss: 34.3272\n",
      "Epoch 57/300\n",
      "697/697 [==============================] - 1s 1ms/step - loss: 36.1475 - val_loss: 34.0681\n",
      "Epoch 58/300\n",
      "697/697 [==============================] - 1s 1ms/step - loss: 36.1023 - val_loss: 33.8154\n",
      "Epoch 59/300\n",
      "697/697 [==============================] - 1s 1ms/step - loss: 36.0589 - val_loss: 33.5686\n",
      "Epoch 60/300\n",
      "697/697 [==============================] - 1s 1ms/step - loss: 36.0174 - val_loss: 33.3276\n",
      "Epoch 61/300\n",
      "697/697 [==============================] - 1s 1ms/step - loss: 35.9773 - val_loss: 33.0919\n",
      "Epoch 62/300\n",
      "697/697 [==============================] - 1s 1ms/step - loss: 35.9389 - val_loss: 32.8618\n",
      "Epoch 63/300\n",
      "697/697 [==============================] - 1s 1ms/step - loss: 35.9017 - val_loss: 32.6368\n",
      "Epoch 64/300\n",
      "697/697 [==============================] - 1s 1ms/step - loss: 35.8658 - val_loss: 32.4170\n",
      "Epoch 65/300\n",
      "697/697 [==============================] - 1s 1ms/step - loss: 35.8309 - val_loss: 32.2023\n",
      "Epoch 66/300\n",
      "697/697 [==============================] - 1s 1ms/step - loss: 35.7971 - val_loss: 31.9929\n",
      "Epoch 67/300\n",
      "697/697 [==============================] - 1s 1ms/step - loss: 35.7643 - val_loss: 31.7884\n",
      "Epoch 68/300\n",
      "697/697 [==============================] - 1s 1ms/step - loss: 35.7322 - val_loss: 31.5892\n",
      "Epoch 69/300\n",
      "697/697 [==============================] - 1s 1ms/step - loss: 35.7010 - val_loss: 31.3950\n",
      "Epoch 70/300\n",
      "697/697 [==============================] - 1s 1ms/step - loss: 35.6705 - val_loss: 31.2054\n",
      "Epoch 71/300\n",
      "697/697 [==============================] - 1s 1ms/step - loss: 35.6407 - val_loss: 31.0201\n",
      "Epoch 72/300\n",
      "697/697 [==============================] - 1s 1ms/step - loss: 35.6117 - val_loss: 30.8387\n",
      "Epoch 73/300\n",
      "697/697 [==============================] - 1s 1ms/step - loss: 35.5832 - val_loss: 30.6605\n",
      "Epoch 74/300\n",
      "697/697 [==============================] - 1s 1ms/step - loss: 35.5553 - val_loss: 30.4852\n",
      "Epoch 75/300\n",
      "697/697 [==============================] - 1s 1ms/step - loss: 35.5279 - val_loss: 30.3123\n",
      "Epoch 76/300\n",
      "697/697 [==============================] - 1s 1ms/step - loss: 35.5010 - val_loss: 30.1424\n",
      "Epoch 77/300\n",
      "697/697 [==============================] - 1s 1ms/step - loss: 35.4744 - val_loss: 29.9750\n",
      "Epoch 78/300\n",
      "697/697 [==============================] - 1s 1ms/step - loss: 35.4489 - val_loss: 29.8135\n",
      "Epoch 79/300\n",
      "697/697 [==============================] - 1s 1ms/step - loss: 35.4217 - val_loss: 29.6467\n"
     ]
    },
    {
     "name": "stdout",
     "output_type": "stream",
     "text": [
      "Epoch 80/300\n",
      "697/697 [==============================] - 1s 1ms/step - loss: 35.3999 - val_loss: 29.5022\n",
      "Epoch 81/300\n",
      "697/697 [==============================] - 1s 1ms/step - loss: 35.3709 - val_loss: 29.3329\n",
      "Epoch 82/300\n",
      "697/697 [==============================] - 1s 1ms/step - loss: 35.3505 - val_loss: 29.1975\n",
      "Epoch 83/300\n",
      "697/697 [==============================] - 1s 1ms/step - loss: 35.3225 - val_loss: 29.0381\n",
      "Epoch 84/300\n",
      "697/697 [==============================] - 1s 1ms/step - loss: 35.3004 - val_loss: 28.8998\n",
      "Epoch 85/300\n",
      "697/697 [==============================] - 1s 1ms/step - loss: 35.2742 - val_loss: 28.7463\n",
      "Epoch 86/300\n",
      "697/697 [==============================] - 1s 1ms/step - loss: 35.2546 - val_loss: 28.6208\n",
      "Epoch 87/300\n",
      "697/697 [==============================] - 1s 1ms/step - loss: 35.2281 - val_loss: 28.4713\n",
      "Epoch 88/300\n",
      "697/697 [==============================] - 1s 1ms/step - loss: 35.2095 - val_loss: 28.3538\n",
      "Epoch 89/300\n",
      "697/697 [==============================] - 1s 1ms/step - loss: 35.1831 - val_loss: 28.2103\n",
      "Epoch 90/300\n",
      "697/697 [==============================] - 1s 1ms/step - loss: 35.1644 - val_loss: 28.0964\n",
      "Epoch 91/300\n",
      "697/697 [==============================] - 1s 1ms/step - loss: 35.1387 - val_loss: 27.9579\n",
      "Epoch 92/300\n",
      "697/697 [==============================] - 1s 1ms/step - loss: 35.1206 - val_loss: 27.8525\n",
      "Epoch 93/300\n",
      "697/697 [==============================] - 1s 1ms/step - loss: 35.0947 - val_loss: 27.7194\n",
      "Epoch 94/300\n",
      "697/697 [==============================] - 1s 1ms/step - loss: 35.0772 - val_loss: 27.6199\n",
      "Epoch 95/300\n",
      "697/697 [==============================] - 1s 1ms/step - loss: 35.0518 - val_loss: 27.4925\n",
      "Epoch 96/300\n",
      "697/697 [==============================] - 1s 1ms/step - loss: 35.0351 - val_loss: 27.3982\n",
      "Epoch 97/300\n",
      "697/697 [==============================] - 1s 1ms/step - loss: 35.0103 - val_loss: 27.2774\n",
      "Epoch 98/300\n",
      "697/697 [==============================] - 1s 1ms/step - loss: 34.9948 - val_loss: 27.1888\n",
      "Epoch 99/300\n",
      "697/697 [==============================] - 1s 1ms/step - loss: 34.9708 - val_loss: 27.0751\n",
      "Epoch 100/300\n",
      "697/697 [==============================] - 1s 1ms/step - loss: 34.9560 - val_loss: 26.9915\n",
      "Epoch 101/300\n",
      "697/697 [==============================] - 1s 1ms/step - loss: 34.9322 - val_loss: 26.8833\n",
      "Epoch 102/300\n",
      "697/697 [==============================] - 1s 1ms/step - loss: 34.9180 - val_loss: 26.8026\n",
      "Epoch 103/300\n",
      "697/697 [==============================] - 1s 1ms/step - loss: 34.8943 - val_loss: 26.6981\n",
      "Epoch 104/300\n",
      "697/697 [==============================] - 1s 1ms/step - loss: 34.8803 - val_loss: 26.6215\n",
      "Epoch 105/300\n",
      "697/697 [==============================] - 1s 1ms/step - loss: 34.8566 - val_loss: 26.5215\n",
      "Epoch 106/300\n",
      "697/697 [==============================] - 1s 1ms/step - loss: 34.8431 - val_loss: 26.4493\n",
      "Epoch 107/300\n",
      "697/697 [==============================] - 1s 1ms/step - loss: 34.8197 - val_loss: 26.3537\n",
      "Epoch 108/300\n",
      "697/697 [==============================] - 1s 1ms/step - loss: 34.8068 - val_loss: 26.2859\n",
      "Epoch 109/300\n",
      "697/697 [==============================] - 1s 1ms/step - loss: 34.7837 - val_loss: 26.1950\n",
      "Epoch 110/300\n",
      "697/697 [==============================] - 1s 1ms/step - loss: 34.7713 - val_loss: 26.1315\n",
      "Epoch 111/300\n",
      "697/697 [==============================] - 1s 1ms/step - loss: 34.7485 - val_loss: 26.0447\n",
      "Epoch 112/300\n",
      "697/697 [==============================] - 1s 1ms/step - loss: 34.7368 - val_loss: 25.9857\n",
      "Epoch 113/300\n",
      "697/697 [==============================] - 1s 1ms/step - loss: 34.7143 - val_loss: 25.9038\n",
      "Epoch 114/300\n",
      "697/697 [==============================] - 1s 1ms/step - loss: 34.7032 - val_loss: 25.8501\n",
      "Epoch 115/300\n",
      "697/697 [==============================] - 1s 1ms/step - loss: 34.6808 - val_loss: 25.7739\n",
      "Epoch 116/300\n",
      "697/697 [==============================] - 1s 1ms/step - loss: 34.6703 - val_loss: 25.7233\n",
      "Epoch 117/300\n",
      "697/697 [==============================] - 1s 1ms/step - loss: 34.6482 - val_loss: 25.6518\n",
      "Epoch 118/300\n",
      "697/697 [==============================] - 1s 1ms/step - loss: 34.6382 - val_loss: 25.6025\n",
      "Epoch 119/300\n",
      "697/697 [==============================] - 1s 1ms/step - loss: 34.6162 - val_loss: 25.5341\n",
      "Epoch 120/300\n",
      "697/697 [==============================] - 1s 1ms/step - loss: 34.6068 - val_loss: 25.4850\n",
      "Epoch 121/300\n",
      "697/697 [==============================] - 1s 1ms/step - loss: 34.5846 - val_loss: 25.4185\n",
      "Epoch 122/300\n",
      "697/697 [==============================] - 1s 1ms/step - loss: 34.5764 - val_loss: 25.3708\n",
      "Epoch 123/300\n",
      "697/697 [==============================] - 1s 1ms/step - loss: 34.5532 - val_loss: 25.3048\n",
      "Epoch 124/300\n",
      "697/697 [==============================] - 1s 1ms/step - loss: 34.5460 - val_loss: 25.2590\n",
      "Epoch 125/300\n",
      "697/697 [==============================] - 1s 1ms/step - loss: 34.5230 - val_loss: 25.1962\n",
      "Epoch 126/300\n",
      "697/697 [==============================] - 1s 1ms/step - loss: 34.5156 - val_loss: 25.1508\n",
      "Epoch 127/300\n",
      "697/697 [==============================] - 1s 1ms/step - loss: 34.4925 - val_loss: 25.0893\n",
      "Epoch 128/300\n",
      "697/697 [==============================] - 1s 1ms/step - loss: 34.4870 - val_loss: 25.0458\n",
      "Epoch 129/300\n",
      "697/697 [==============================] - 1s 1ms/step - loss: 34.4628 - val_loss: 24.9852\n",
      "Epoch 130/300\n",
      "697/697 [==============================] - 1s 1ms/step - loss: 34.4577 - val_loss: 24.9418\n",
      "Epoch 131/300\n",
      "697/697 [==============================] - 1s 1ms/step - loss: 34.4329 - val_loss: 24.8814\n",
      "Epoch 132/300\n",
      "697/697 [==============================] - 1s 1ms/step - loss: 34.4298 - val_loss: 24.8394\n",
      "Epoch 133/300\n",
      "697/697 [==============================] - 1s 1ms/step - loss: 34.4038 - val_loss: 24.7798\n",
      "Epoch 134/300\n",
      "697/697 [==============================] - 1s 1ms/step - loss: 34.4016 - val_loss: 24.7389\n",
      "Epoch 135/300\n",
      "697/697 [==============================] - 1s 1ms/step - loss: 34.3747 - val_loss: 24.6799\n",
      "Epoch 136/300\n",
      "697/697 [==============================] - 1s 1ms/step - loss: 34.3740 - val_loss: 24.6401\n",
      "Epoch 137/300\n",
      "697/697 [==============================] - 1s 1ms/step - loss: 34.3463 - val_loss: 24.5816\n",
      "Epoch 138/300\n",
      "697/697 [==============================] - 1s 1ms/step - loss: 34.3461 - val_loss: 24.5417\n",
      "Epoch 139/300\n",
      "697/697 [==============================] - 1s 1ms/step - loss: 34.3178 - val_loss: 24.4835\n",
      "Epoch 140/300\n",
      "697/697 [==============================] - 1s 986us/step - loss: 34.3194 - val_loss: 24.4447\n",
      "Epoch 141/300\n",
      "697/697 [==============================] - 1s 1ms/step - loss: 34.2896 - val_loss: 24.3869\n",
      "Epoch 142/300\n",
      "697/697 [==============================] - 1s 988us/step - loss: 34.2925 - val_loss: 24.3491\n",
      "Epoch 143/300\n",
      "697/697 [==============================] - 1s 1ms/step - loss: 34.2616 - val_loss: 24.2918\n",
      "Epoch 144/300\n",
      "697/697 [==============================] - 1s 1ms/step - loss: 34.2666 - val_loss: 24.2557\n",
      "Epoch 145/300\n",
      "697/697 [==============================] - 1s 1ms/step - loss: 34.2339 - val_loss: 24.1990\n",
      "Epoch 146/300\n",
      "697/697 [==============================] - 1s 1ms/step - loss: 34.2399 - val_loss: 24.1639\n",
      "Epoch 147/300\n",
      "697/697 [==============================] - 1s 1ms/step - loss: 34.2069 - val_loss: 24.1093\n",
      "Epoch 148/300\n",
      "697/697 [==============================] - 1s 991us/step - loss: 34.2135 - val_loss: 24.0752\n",
      "Epoch 149/300\n",
      "697/697 [==============================] - 1s 1ms/step - loss: 34.1798 - val_loss: 24.0213\n",
      "Epoch 150/300\n",
      "697/697 [==============================] - 1s 1ms/step - loss: 34.1903 - val_loss: 23.9898\n",
      "Epoch 151/300\n",
      "697/697 [==============================] - 1s 1ms/step - loss: 34.1531 - val_loss: 23.9362\n",
      "Epoch 152/300\n",
      "697/697 [==============================] - 1s 1ms/step - loss: 34.1647 - val_loss: 23.9058\n",
      "Epoch 153/300\n",
      "697/697 [==============================] - 1s 1ms/step - loss: 34.1272 - val_loss: 23.8540\n",
      "Epoch 154/300\n",
      "697/697 [==============================] - 1s 1ms/step - loss: 34.1376 - val_loss: 23.8240\n",
      "Epoch 155/300\n",
      "697/697 [==============================] - 1s 1ms/step - loss: 34.1011 - val_loss: 23.7730\n",
      "Epoch 156/300\n",
      "697/697 [==============================] - 1s 1ms/step - loss: 34.1134 - val_loss: 23.7451\n",
      "Epoch 157/300\n",
      "697/697 [==============================] - 1s 1ms/step - loss: 34.0753 - val_loss: 23.6952\n",
      "Epoch 158/300\n"
     ]
    },
    {
     "name": "stdout",
     "output_type": "stream",
     "text": [
      "697/697 [==============================] - 1s 1ms/step - loss: 34.0891 - val_loss: 23.6690\n",
      "Epoch 159/300\n",
      "697/697 [==============================] - 1s 1ms/step - loss: 34.0496 - val_loss: 23.6201\n",
      "Epoch 160/300\n",
      "697/697 [==============================] - 1s 1ms/step - loss: 34.0649 - val_loss: 23.5952\n",
      "Epoch 161/300\n",
      "697/697 [==============================] - 1s 1ms/step - loss: 34.0244 - val_loss: 23.5469\n",
      "Epoch 162/300\n",
      "697/697 [==============================] - 1s 1ms/step - loss: 34.0396 - val_loss: 23.5228\n",
      "Epoch 163/300\n",
      "697/697 [==============================] - 1s 1ms/step - loss: 33.9993 - val_loss: 23.4758\n",
      "Epoch 164/300\n",
      "697/697 [==============================] - 1s 1ms/step - loss: 34.0172 - val_loss: 23.4538\n",
      "Epoch 165/300\n",
      "697/697 [==============================] - 1s 1ms/step - loss: 33.9742 - val_loss: 23.4063\n",
      "Epoch 166/300\n",
      "697/697 [==============================] - 1s 1ms/step - loss: 33.9942 - val_loss: 23.3862\n",
      "Epoch 167/300\n",
      "697/697 [==============================] - 1s 1ms/step - loss: 33.9499 - val_loss: 23.3415\n",
      "Epoch 168/300\n",
      "697/697 [==============================] - 1s 1ms/step - loss: 33.9690 - val_loss: 23.3212\n",
      "Epoch 169/300\n",
      "697/697 [==============================] - 1s 1ms/step - loss: 33.9258 - val_loss: 23.2773\n",
      "Epoch 170/300\n",
      "697/697 [==============================] - 1s 1ms/step - loss: 33.9471 - val_loss: 23.2583\n",
      "Epoch 171/300\n",
      "697/697 [==============================] - 1s 1ms/step - loss: 33.9021 - val_loss: 23.2164\n",
      "Epoch 172/300\n",
      "697/697 [==============================] - 1s 1ms/step - loss: 33.9238 - val_loss: 23.1972\n",
      "Epoch 173/300\n",
      "697/697 [==============================] - 1s 1ms/step - loss: 33.8786 - val_loss: 23.1563\n",
      "Epoch 174/300\n",
      "697/697 [==============================] - 1s 1ms/step - loss: 33.9017 - val_loss: 23.1374\n",
      "Epoch 175/300\n",
      "697/697 [==============================] - 1s 995us/step - loss: 33.8554 - val_loss: 23.0981\n",
      "Epoch 176/300\n",
      "697/697 [==============================] - 1s 987us/step - loss: 33.8778 - val_loss: 23.0790\n",
      "Epoch 177/300\n",
      "697/697 [==============================] - 1s 1ms/step - loss: 33.8325 - val_loss: 23.0415\n",
      "Epoch 178/300\n",
      "697/697 [==============================] - 1s 1ms/step - loss: 33.8547 - val_loss: 23.0224\n",
      "Epoch 179/300\n",
      "697/697 [==============================] - 1s 1ms/step - loss: 33.8096 - val_loss: 22.9856\n",
      "Epoch 180/300\n",
      "697/697 [==============================] - 1s 1ms/step - loss: 33.8328 - val_loss: 22.9670\n",
      "Epoch 181/300\n",
      "697/697 [==============================] - 1s 1ms/step - loss: 33.7867 - val_loss: 22.9313\n",
      "Epoch 182/300\n",
      "697/697 [==============================] - 1s 1ms/step - loss: 33.8103 - val_loss: 22.9128\n",
      "Epoch 183/300\n",
      "697/697 [==============================] - 1s 1ms/step - loss: 33.7638 - val_loss: 22.8780\n",
      "Epoch 184/300\n",
      "697/697 [==============================] - 1s 1ms/step - loss: 33.7885 - val_loss: 22.8601\n",
      "Epoch 185/300\n",
      "697/697 [==============================] - 1s 988us/step - loss: 33.7408 - val_loss: 22.8265\n",
      "Epoch 186/300\n",
      "697/697 [==============================] - 1s 1ms/step - loss: 33.7647 - val_loss: 22.8087\n",
      "Epoch 187/300\n",
      "697/697 [==============================] - 1s 1ms/step - loss: 33.7179 - val_loss: 22.7764\n",
      "Epoch 188/300\n",
      "697/697 [==============================] - 1s 996us/step - loss: 33.7418 - val_loss: 22.7591\n",
      "Epoch 189/300\n",
      "697/697 [==============================] - 1s 1ms/step - loss: 33.6949 - val_loss: 22.7280\n",
      "Epoch 190/300\n",
      "697/697 [==============================] - 1s 996us/step - loss: 33.7197 - val_loss: 22.7113\n",
      "Epoch 191/300\n",
      "697/697 [==============================] - 1s 995us/step - loss: 33.6718 - val_loss: 22.6815\n",
      "Epoch 192/300\n",
      "697/697 [==============================] - 1s 997us/step - loss: 33.6969 - val_loss: 22.6653\n",
      "Epoch 193/300\n",
      "697/697 [==============================] - 1s 994us/step - loss: 33.6489 - val_loss: 22.6373\n",
      "Epoch 194/300\n",
      "697/697 [==============================] - 1s 1ms/step - loss: 33.6731 - val_loss: 22.6217\n",
      "Epoch 195/300\n",
      "697/697 [==============================] - 1s 1ms/step - loss: 33.6262 - val_loss: 22.5954\n",
      "Epoch 196/300\n",
      "697/697 [==============================] - 1s 1ms/step - loss: 33.6506 - val_loss: 22.5806\n",
      "Epoch 197/300\n",
      "697/697 [==============================] - 1s 1ms/step - loss: 33.6038 - val_loss: 22.5560\n",
      "Epoch 198/300\n",
      "697/697 [==============================] - 1s 1ms/step - loss: 33.6291 - val_loss: 22.5419\n",
      "Epoch 199/300\n",
      "697/697 [==============================] - 1s 1ms/step - loss: 33.5816 - val_loss: 22.5187\n",
      "Epoch 200/300\n",
      "697/697 [==============================] - 1s 1ms/step - loss: 33.6075 - val_loss: 22.5056\n",
      "Epoch 201/300\n",
      "697/697 [==============================] - 1s 1ms/step - loss: 33.5597 - val_loss: 22.4839\n",
      "Epoch 202/300\n",
      "697/697 [==============================] - 1s 994us/step - loss: 33.5848 - val_loss: 22.4717\n",
      "Epoch 203/300\n",
      "697/697 [==============================] - 1s 1ms/step - loss: 33.5381 - val_loss: 22.4516\n",
      "Epoch 204/300\n",
      "697/697 [==============================] - 1s 1ms/step - loss: 33.5623 - val_loss: 22.4401\n",
      "Epoch 205/300\n",
      "697/697 [==============================] - 1s 1ms/step - loss: 33.5169 - val_loss: 22.4214\n",
      "Epoch 206/300\n",
      "697/697 [==============================] - 1s 1ms/step - loss: 33.5419 - val_loss: 22.4108\n",
      "Epoch 207/300\n",
      "697/697 [==============================] - 1s 1ms/step - loss: 33.4960 - val_loss: 22.3937\n",
      "Epoch 208/300\n",
      "697/697 [==============================] - 1s 1ms/step - loss: 33.5212 - val_loss: 22.3839\n",
      "Epoch 209/300\n",
      "697/697 [==============================] - 1s 1ms/step - loss: 33.4755 - val_loss: 22.3683\n",
      "Epoch 210/300\n",
      "697/697 [==============================] - 1s 1ms/step - loss: 33.4991 - val_loss: 22.3590\n",
      "Epoch 211/300\n",
      "697/697 [==============================] - 1s 1ms/step - loss: 33.4553 - val_loss: 22.3448\n",
      "Epoch 212/300\n",
      "697/697 [==============================] - 1s 1ms/step - loss: 33.4779 - val_loss: 22.3357\n",
      "Epoch 213/300\n",
      "697/697 [==============================] - 1s 1ms/step - loss: 33.4354 - val_loss: 22.3223\n",
      "Epoch 214/300\n",
      "697/697 [==============================] - 1s 1ms/step - loss: 33.4585 - val_loss: 22.3133\n",
      "Epoch 215/300\n",
      "697/697 [==============================] - 1s 995us/step - loss: 33.4157 - val_loss: 22.3005\n",
      "Epoch 216/300\n",
      "697/697 [==============================] - 1s 1ms/step - loss: 33.4387 - val_loss: 22.2916\n",
      "Epoch 217/300\n",
      "697/697 [==============================] - 1s 995us/step - loss: 33.3961 - val_loss: 22.2795\n",
      "Epoch 218/300\n",
      "697/697 [==============================] - 1s 999us/step - loss: 33.4181 - val_loss: 22.2708\n",
      "Epoch 219/300\n",
      "697/697 [==============================] - 1s 995us/step - loss: 33.3764 - val_loss: 22.2590\n",
      "Epoch 220/300\n",
      "697/697 [==============================] - 1s 1ms/step - loss: 33.3982 - val_loss: 22.2504\n",
      "Epoch 221/300\n",
      "697/697 [==============================] - 1s 1ms/step - loss: 33.3569 - val_loss: 22.2390\n",
      "Epoch 222/300\n",
      "697/697 [==============================] - 1s 1ms/step - loss: 33.3783 - val_loss: 22.2305\n",
      "Epoch 223/300\n",
      "697/697 [==============================] - 1s 991us/step - loss: 33.3373 - val_loss: 22.2193\n",
      "Epoch 224/300\n",
      "697/697 [==============================] - 1s 997us/step - loss: 33.3583 - val_loss: 22.2108\n",
      "Epoch 225/300\n",
      "697/697 [==============================] - 1s 996us/step - loss: 33.3177 - val_loss: 22.2000\n",
      "Epoch 226/300\n",
      "697/697 [==============================] - 1s 1ms/step - loss: 33.3380 - val_loss: 22.1916\n",
      "Epoch 227/300\n",
      "697/697 [==============================] - 1s 992us/step - loss: 33.2979 - val_loss: 22.1811\n",
      "Epoch 228/300\n",
      "697/697 [==============================] - 1s 994us/step - loss: 33.3179 - val_loss: 22.1726\n",
      "Epoch 229/300\n",
      "697/697 [==============================] - 1s 1ms/step - loss: 33.2781 - val_loss: 22.1623\n",
      "Epoch 230/300\n",
      "697/697 [==============================] - 1s 992us/step - loss: 33.2980 - val_loss: 22.1538\n",
      "Epoch 231/300\n",
      "697/697 [==============================] - 1s 991us/step - loss: 33.2582 - val_loss: 22.1439\n",
      "Epoch 232/300\n",
      "697/697 [==============================] - 1s 1ms/step - loss: 33.2779 - val_loss: 22.1354\n",
      "Epoch 233/300\n",
      "697/697 [==============================] - 1s 988us/step - loss: 33.2382 - val_loss: 22.1260\n",
      "Epoch 234/300\n",
      "697/697 [==============================] - 1s 995us/step - loss: 33.2576 - val_loss: 22.1174\n",
      "Epoch 235/300\n"
     ]
    },
    {
     "name": "stdout",
     "output_type": "stream",
     "text": [
      "697/697 [==============================] - 1s 990us/step - loss: 33.2182 - val_loss: 22.1089\n",
      "Epoch 236/300\n",
      "697/697 [==============================] - 1s 989us/step - loss: 33.2376 - val_loss: 22.1005\n",
      "Epoch 237/300\n",
      "697/697 [==============================] - 1s 990us/step - loss: 33.1984 - val_loss: 22.0928\n",
      "Epoch 238/300\n",
      "697/697 [==============================] - 1s 995us/step - loss: 33.2179 - val_loss: 22.0848\n",
      "Epoch 239/300\n",
      "697/697 [==============================] - 1s 1ms/step - loss: 33.1789 - val_loss: 22.0782\n",
      "Epoch 240/300\n",
      "697/697 [==============================] - 1s 1ms/step - loss: 33.1983 - val_loss: 22.0705\n",
      "Epoch 241/300\n",
      "697/697 [==============================] - 1s 1ms/step - loss: 33.1596 - val_loss: 22.0649\n",
      "Epoch 242/300\n",
      "697/697 [==============================] - 1s 1ms/step - loss: 33.1783 - val_loss: 22.0574\n",
      "Epoch 243/300\n",
      "697/697 [==============================] - 1s 2ms/step - loss: 33.1404 - val_loss: 22.0527\n",
      "Epoch 244/300\n",
      "697/697 [==============================] - 3s 4ms/step - loss: 33.1587 - val_loss: 22.0450\n",
      "Epoch 245/300\n",
      "697/697 [==============================] - 1s 2ms/step - loss: 33.1215 - val_loss: 22.0410\n",
      "Epoch 246/300\n",
      "697/697 [==============================] - 1s 1ms/step - loss: 33.1394 - val_loss: 22.0331\n",
      "Epoch 247/300\n",
      "697/697 [==============================] - 3s 4ms/step - loss: 33.1023 - val_loss: 22.0298\n",
      "Epoch 248/300\n",
      "697/697 [==============================] - 1s 1ms/step - loss: 33.1193 - val_loss: 22.0220\n",
      "Epoch 249/300\n",
      "697/697 [==============================] - 2s 3ms/step - loss: 33.0833 - val_loss: 22.0194\n",
      "Epoch 250/300\n",
      "697/697 [==============================] - 3s 4ms/step - loss: 33.0999 - val_loss: 22.0115\n",
      "Epoch 251/300\n",
      "697/697 [==============================] - 2s 3ms/step - loss: 33.0642 - val_loss: 22.0095\n",
      "Epoch 252/300\n",
      "697/697 [==============================] - 2s 3ms/step - loss: 33.0808 - val_loss: 22.0017\n",
      "Epoch 253/300\n",
      "697/697 [==============================] - 2s 2ms/step - loss: 33.0452 - val_loss: 22.0004\n",
      "Epoch 254/300\n",
      "697/697 [==============================] - 2s 2ms/step - loss: 33.0617 - val_loss: 21.9925\n",
      "Epoch 255/300\n",
      "697/697 [==============================] - 2s 3ms/step - loss: 33.0259 - val_loss: 21.9920\n",
      "Epoch 256/300\n",
      "697/697 [==============================] - 1s 1ms/step - loss: 33.0410 - val_loss: 21.9846\n",
      "Epoch 257/300\n",
      "697/697 [==============================] - 1s 1ms/step - loss: 33.0070 - val_loss: 21.9847\n",
      "Epoch 258/300\n",
      "697/697 [==============================] - 1s 1ms/step - loss: 33.0223 - val_loss: 21.9775\n",
      "Epoch 259/300\n",
      "697/697 [==============================] - 1s 1ms/step - loss: 32.9882 - val_loss: 21.9783\n",
      "Epoch 260/300\n",
      "697/697 [==============================] - 1s 1ms/step - loss: 33.0039 - val_loss: 21.9710\n",
      "Epoch 261/300\n",
      "697/697 [==============================] - 1s 1ms/step - loss: 32.9695 - val_loss: 21.9726\n",
      "Epoch 262/300\n",
      "697/697 [==============================] - 1s 1ms/step - loss: 32.9855 - val_loss: 21.9654\n",
      "Epoch 263/300\n",
      "697/697 [==============================] - 1s 1ms/step - loss: 32.9506 - val_loss: 21.9679\n",
      "Epoch 264/300\n",
      "697/697 [==============================] - 1s 1ms/step - loss: 32.9654 - val_loss: 21.9612\n",
      "Epoch 265/300\n",
      "697/697 [==============================] - 1s 1ms/step - loss: 32.9322 - val_loss: 21.9642\n",
      "Epoch 266/300\n",
      "697/697 [==============================] - 1s 1ms/step - loss: 32.9468 - val_loss: 21.9574\n",
      "Epoch 267/300\n",
      "697/697 [==============================] - 1s 1ms/step - loss: 32.9139 - val_loss: 21.9610\n",
      "Epoch 268/300\n",
      "697/697 [==============================] - 1s 1ms/step - loss: 32.9289 - val_loss: 21.9542\n",
      "Epoch 269/300\n",
      "697/697 [==============================] - 1s 1ms/step - loss: 32.8958 - val_loss: 21.9583\n",
      "Epoch 270/300\n",
      "697/697 [==============================] - 1s 1ms/step - loss: 32.9103 - val_loss: 21.9512\n",
      "Epoch 271/300\n",
      "697/697 [==============================] - 1s 1ms/step - loss: 32.8775 - val_loss: 21.9558\n",
      "Epoch 272/300\n",
      "697/697 [==============================] - 1s 1ms/step - loss: 32.8910 - val_loss: 21.9489\n",
      "Epoch 273/300\n",
      "697/697 [==============================] - 1s 1ms/step - loss: 32.8595 - val_loss: 21.9536\n",
      "Epoch 274/300\n",
      "697/697 [==============================] - 1s 1ms/step - loss: 32.8729 - val_loss: 21.9464\n",
      "Epoch 275/300\n",
      "697/697 [==============================] - 1s 1ms/step - loss: 32.8416 - val_loss: 21.9514\n",
      "Epoch 276/300\n",
      "697/697 [==============================] - 1s 1ms/step - loss: 32.8551 - val_loss: 21.9440\n",
      "Epoch 277/300\n",
      "697/697 [==============================] - 1s 1ms/step - loss: 32.8237 - val_loss: 21.9493\n",
      "Epoch 278/300\n",
      "697/697 [==============================] - 1s 1ms/step - loss: 32.8368 - val_loss: 21.9418\n",
      "Epoch 279/300\n",
      "697/697 [==============================] - 1s 1ms/step - loss: 32.8056 - val_loss: 21.9473\n",
      "Epoch 280/300\n",
      "697/697 [==============================] - 1s 1ms/step - loss: 32.8178 - val_loss: 21.9400\n",
      "Epoch 281/300\n",
      "697/697 [==============================] - 1s 1ms/step - loss: 32.7878 - val_loss: 21.9455\n",
      "Epoch 282/300\n",
      "697/697 [==============================] - 1s 1ms/step - loss: 32.7997 - val_loss: 21.9381\n",
      "Epoch 283/300\n",
      "697/697 [==============================] - 1s 1ms/step - loss: 32.7700 - val_loss: 21.9436\n",
      "Epoch 284/300\n",
      "697/697 [==============================] - 1s 1ms/step - loss: 32.7817 - val_loss: 21.9363\n",
      "Epoch 285/300\n",
      "697/697 [==============================] - 1s 1ms/step - loss: 32.7522 - val_loss: 21.9419\n",
      "Epoch 286/300\n",
      "697/697 [==============================] - 1s 1ms/step - loss: 32.7637 - val_loss: 21.9347\n",
      "Epoch 287/300\n",
      "697/697 [==============================] - 1s 1ms/step - loss: 32.7344 - val_loss: 21.9403\n",
      "Epoch 288/300\n",
      "697/697 [==============================] - 1s 1ms/step - loss: 32.7454 - val_loss: 21.9336\n",
      "Epoch 289/300\n",
      "697/697 [==============================] - 1s 1ms/step - loss: 32.7168 - val_loss: 21.9391\n",
      "Epoch 290/300\n",
      "697/697 [==============================] - 1s 1ms/step - loss: 32.7275 - val_loss: 21.9326\n",
      "Epoch 291/300\n",
      "697/697 [==============================] - 1s 1000us/step - loss: 32.6995 - val_loss: 21.9381\n",
      "Epoch 292/300\n",
      "697/697 [==============================] - 1s 1ms/step - loss: 32.7097 - val_loss: 21.9315\n",
      "Epoch 293/300\n",
      "697/697 [==============================] - 1s 1ms/step - loss: 32.6822 - val_loss: 21.9370\n",
      "Epoch 294/300\n",
      "697/697 [==============================] - 1s 1ms/step - loss: 32.6923 - val_loss: 21.9302\n",
      "Epoch 295/300\n",
      "697/697 [==============================] - 1s 1ms/step - loss: 32.6650 - val_loss: 21.9356\n",
      "Epoch 296/300\n",
      "697/697 [==============================] - 1s 1ms/step - loss: 32.6747 - val_loss: 21.9289\n",
      "Epoch 297/300\n",
      "697/697 [==============================] - 1s 1ms/step - loss: 32.6480 - val_loss: 21.9342\n",
      "Epoch 298/300\n",
      "697/697 [==============================] - 1s 1ms/step - loss: 32.6572 - val_loss: 21.9274\n",
      "Epoch 299/300\n",
      "697/697 [==============================] - 1s 1ms/step - loss: 32.6310 - val_loss: 21.9327\n",
      "Epoch 300/300\n",
      "697/697 [==============================] - 1s 1ms/step - loss: 32.6400 - val_loss: 21.9259\n"
     ]
    }
   ],
   "source": [
    "history_tech=model_tech.fit(\n",
    "    X_train, y_train,\n",
    "    epochs=300,\n",
    "    batch_size=5,\n",
    "    validation_split=0.1,\n",
    "    verbose=1,\n",
    "    shuffle=False\n",
    ")\n",
    "y_pred = model_tech.predict(X_test)"
   ]
  },
  {
   "cell_type": "code",
   "execution_count": 9,
   "id": "55aa57ad",
   "metadata": {},
   "outputs": [
    {
     "data": {
      "text/plain": [
       "<matplotlib.legend.Legend at 0x280cca670>"
      ]
     },
     "execution_count": 9,
     "metadata": {},
     "output_type": "execute_result"
    },
    {
     "data": {
      "image/png": "[encoded data removed]",
      "text/plain": [
       "<Figure size 432x288 with 1 Axes>"
      ]
     },
     "metadata": {
      "needs_background": "light"
     },
     "output_type": "display_data"
    }
   ],
   "source": [
    "plt.plot(history_tech.history['loss'], label='train')\n",
    "plt.plot(history_tech.history['val_loss'], label='test')\n",
    "plt.legend()"
   ]
  },
  {
   "cell_type": "code",
   "execution_count": 10,
   "id": "477f1fb7",
   "metadata": {},
   "outputs": [
    {
     "data": {
      "image/png": "[encoded data removed]",
      "text/plain": [
       "<Figure size 432x288 with 1 Axes>"
      ]
     },
     "metadata": {
      "needs_background": "light"
     },
     "output_type": "display_data"
    }
   ],
   "source": [
    "plt.plot(np.arange(0, len(y_train)), y_train, 'g', label=\"history\")\n",
    "plt.plot(np.arange(len(y_train), len(y_train) + len(y_test)), y_test, marker='.', label=\"true\")\n",
    "plt.plot(np.arange(len(y_train), len(y_train) + len(y_test)), y_pred, 'r', label=\"prediction\")\n",
    "plt.ylabel('Value')\n",
    "plt.xlabel('Time Step')\n",
    "plt.legend()\n",
    "plt.show();"
   ]
  },
  {
   "cell_type": "code",
   "execution_count": 11,
   "id": "134553b2",
   "metadata": {
    "scrolled": true
   },
   "outputs": [
    {
     "data": {
      "image/png": "[encoded data removed]",
      "text/plain": [
       "<Figure size 432x288 with 1 Axes>"
      ]
     },
     "metadata": {
      "needs_background": "light"
     },
     "output_type": "display_data"
    }
   ],
   "source": [
    "# y_test = sc.inverse_transform(y_test)\n",
    "# y_pred = sc.inverse_transform(y_pred)\n",
    "plt.plot(y_test, marker='.', label=\"true\")\n",
    "plt.plot(y_pred, 'r', label=\"prediction\")\n",
    "plt.ylabel('Value')\n",
    "plt.xlabel('Time Step')\n",
    "plt.legend()\n",
    "plt.show();"
   ]
  },
  {
   "cell_type": "code",
   "execution_count": 12,
   "id": "0ef7fe0c",
   "metadata": {},
   "outputs": [
    {
     "data": {
      "text/plain": [
       "0.9986180719377"
      ]
     },
     "execution_count": 12,
     "metadata": {},
     "output_type": "execute_result"
    }
   ],
   "source": [
    "r2_score(y_test,y_pred)"
   ]
  },
  {
   "cell_type": "code",
   "execution_count": 13,
   "id": "7cf212a7",
   "metadata": {},
   "outputs": [
    {
     "data": {
      "text/plain": [
       "0.052286483739812276"
      ]
     },
     "execution_count": 13,
     "metadata": {},
     "output_type": "execute_result"
    }
   ],
   "source": [
    "mean_absolute_percentage_error(y_test,y_pred)"
   ]
  },
  {
   "cell_type": "code",
   "execution_count": 14,
   "id": "a0cd9d21",
   "metadata": {},
   "outputs": [
    {
     "data": {
      "text/plain": [
       "6.845921206532251"
      ]
     },
     "execution_count": 14,
     "metadata": {},
     "output_type": "execute_result"
    }
   ],
   "source": [
    "mean_squared_error(y_test,y_pred,squared=False)"
   ]
  },
  {
   "cell_type": "code",
   "execution_count": 15,
   "id": "8ee0bfd3",
   "metadata": {},
   "outputs": [
    {
     "name": "stderr",
     "output_type": "stream",
     "text": [
      "/var/folders/8h/w0jn89bj2w5g85gj4ck7w0t00000gn/T/ipykernel_73500/2328949661.py:1: FutureWarning: In a future version of pandas all arguments of DataFrame.drop except for the argument 'labels' will be keyword-only.\n",
      "  x_val=data_val.drop('Prediction',1)\n"
     ]
    }
   ],
   "source": [
    "x_val=data_val.drop('Prediction',1)\n",
    "y_val=data_val['Prediction']\n",
    "x_val=sc.transform(x_val).reshape(x_val.shape[0],1,x_val.shape[1])\n",
    "y_val_pred=model_tech.predict(x_val)"
   ]
  },
  {
   "cell_type": "code",
   "execution_count": 16,
   "id": "529aefb2",
   "metadata": {},
   "outputs": [
    {
     "data": {
      "image/png": "[encoded data removed]",
      "text/plain": [
       "<Figure size 432x288 with 1 Axes>"
      ]
     },
     "metadata": {
      "needs_background": "light"
     },
     "output_type": "display_data"
    }
   ],
   "source": [
    "plt.plot(y_val.values, marker='.', label=\"true\")\n",
    "plt.plot(y_val_pred, 'r', marker='*',label=\"prediction\")\n",
    "plt.ylabel('Value')\n",
    "plt.xlabel('Time Step')\n",
    "plt.legend()\n",
    "plt.show()"
   ]
  },
  {
   "cell_type": "code",
   "execution_count": 17,
   "id": "3b9ce3a3",
   "metadata": {},
   "outputs": [
    {
     "data": {
      "text/plain": [
       "0.8932954354359433"
      ]
     },
     "execution_count": 17,
     "metadata": {},
     "output_type": "execute_result"
    }
   ],
   "source": [
    "r2_score(y_val,y_val_pred)"
   ]
  },
  {
   "cell_type": "code",
   "execution_count": 18,
   "id": "67bc6f38",
   "metadata": {},
   "outputs": [
    {
     "data": {
      "text/plain": [
       "0.024839582007623248"
      ]
     },
     "execution_count": 18,
     "metadata": {},
     "output_type": "execute_result"
    }
   ],
   "source": [
    "mean_absolute_percentage_error(y_val,y_val_pred)"
   ]
  },
  {
   "cell_type": "code",
   "execution_count": 19,
   "id": "7a79ea1f",
   "metadata": {},
   "outputs": [
    {
     "data": {
      "text/plain": [
       "13.861465581112201"
      ]
     },
     "execution_count": 19,
     "metadata": {},
     "output_type": "execute_result"
    }
   ],
   "source": [
    "mean_squared_error(y_val.values,y_val_pred,squared=False)"
   ]
  },
  {
   "cell_type": "code",
   "execution_count": null,
   "id": "d8ab65e9",
   "metadata": {},
   "outputs": [],
   "source": []
  }
 ],
 "metadata": {
  "kernelspec": {
   "display_name": "Python 3 (ipykernel)",
   "language": "python",
   "name": "python3"
  },
  "language_info": {
   "codemirror_mode": {
    "name": "ipython",
    "version": 3
   },
   "file_extension": ".py",
   "mimetype": "text/x-python",
   "name": "python",
   "nbconvert_exporter": "python",
   "pygments_lexer": "ipython3",
   "version": "3.8.13"
  }
 },
 "nbformat": 4,
 "nbformat_minor": 5
}
