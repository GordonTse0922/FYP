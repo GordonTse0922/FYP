{
 "cells": [
  {
   "cell_type": "code",
   "execution_count": 1,
   "id": "b000030b-9f40-4918-9891-66343158b745",
   "metadata": {},
   "outputs": [],
   "source": [
    "import yfinance as yf\n",
    "import keras.backend as K\n",
    "import pandas as pd\n",
    "import numpy as np\n",
    "import matplotlib.pyplot as plt\n",
    "from sklearn.svm import SVR\n",
    "from sklearn.preprocessing import MinMaxScaler ,StandardScaler\n",
    "from sklearn.model_selection import train_test_split\n",
    "from sklearn.metrics import classification_report,accuracy_score, mean_squared_error,mean_absolute_percentage_error,r2_score\n",
    "import tensorflow as tf\n",
    "from tensorflow import keras\n",
    "from keras.layers import LSTM,Dropout, BatchNormalization, Dense\n",
    "from keras.callbacks import ModelCheckpoint, EarlyStopping, ReduceLROnPlateau, CSVLogger\n",
    "from keras.models import Sequential\n",
    "from keras.optimizer_v2.adam import Adam\n",
    "from keras.optimizer_v2.rmsprop import RMSprop\n",
    "import talib"
   ]
  },
  {
   "cell_type": "code",
   "execution_count": 2,
   "id": "7248a5a2-9689-4a20-81e8-7eb58be1114e",
   "metadata": {},
   "outputs": [
    {
     "name": "stdout",
     "output_type": "stream",
     "text": [
      "[*********************100%***********************]  1 of 1 completed\n"
     ]
    },
    {
     "data": {
      "text/html": [
       "<div>\n",
       "<style scoped>\n",
       "    .dataframe tbody tr th:only-of-type {\n",
       "        vertical-align: middle;\n",
       "    }\n",
       "\n",
       "    .dataframe tbody tr th {\n",
       "        vertical-align: top;\n",
       "    }\n",
       "\n",
       "    .dataframe thead th {\n",
       "        text-align: right;\n",
       "    }\n",
       "</style>\n",
       "<table border=\"1\" class=\"dataframe\">\n",
       "  <thead>\n",
       "    <tr style=\"text-align: right;\">\n",
       "      <th></th>\n",
       "      <th>Open</th>\n",
       "      <th>High</th>\n",
       "      <th>Low</th>\n",
       "      <th>Close</th>\n",
       "      <th>Volume</th>\n",
       "    </tr>\n",
       "    <tr>\n",
       "      <th>Date</th>\n",
       "      <th></th>\n",
       "      <th></th>\n",
       "      <th></th>\n",
       "      <th></th>\n",
       "      <th></th>\n",
       "    </tr>\n",
       "  </thead>\n",
       "  <tbody>\n",
       "    <tr>\n",
       "      <th>2004-06-16</th>\n",
       "      <td>0.875</td>\n",
       "      <td>0.925</td>\n",
       "      <td>0.815</td>\n",
       "      <td>0.830</td>\n",
       "      <td>2198875000</td>\n",
       "    </tr>\n",
       "    <tr>\n",
       "      <th>2004-06-17</th>\n",
       "      <td>0.830</td>\n",
       "      <td>0.875</td>\n",
       "      <td>0.825</td>\n",
       "      <td>0.845</td>\n",
       "      <td>419007500</td>\n",
       "    </tr>\n",
       "    <tr>\n",
       "      <th>2004-06-18</th>\n",
       "      <td>0.840</td>\n",
       "      <td>0.850</td>\n",
       "      <td>0.790</td>\n",
       "      <td>0.805</td>\n",
       "      <td>182990000</td>\n",
       "    </tr>\n",
       "    <tr>\n",
       "      <th>2004-06-21</th>\n",
       "      <td>0.820</td>\n",
       "      <td>0.825</td>\n",
       "      <td>0.790</td>\n",
       "      <td>0.800</td>\n",
       "      <td>114085000</td>\n",
       "    </tr>\n",
       "    <tr>\n",
       "      <th>2004-06-22</th>\n",
       "      <td>0.800</td>\n",
       "      <td>0.800</td>\n",
       "      <td>0.800</td>\n",
       "      <td>0.800</td>\n",
       "      <td>0</td>\n",
       "    </tr>\n",
       "    <tr>\n",
       "      <th>2004-06-23</th>\n",
       "      <td>0.810</td>\n",
       "      <td>0.890</td>\n",
       "      <td>0.805</td>\n",
       "      <td>0.885</td>\n",
       "      <td>275080000</td>\n",
       "    </tr>\n",
       "    <tr>\n",
       "      <th>2004-06-24</th>\n",
       "      <td>0.895</td>\n",
       "      <td>0.905</td>\n",
       "      <td>0.865</td>\n",
       "      <td>0.890</td>\n",
       "      <td>173615000</td>\n",
       "    </tr>\n",
       "    <tr>\n",
       "      <th>2004-06-25</th>\n",
       "      <td>0.895</td>\n",
       "      <td>0.910</td>\n",
       "      <td>0.870</td>\n",
       "      <td>0.880</td>\n",
       "      <td>106062500</td>\n",
       "    </tr>\n",
       "    <tr>\n",
       "      <th>2004-06-28</th>\n",
       "      <td>0.880</td>\n",
       "      <td>0.880</td>\n",
       "      <td>0.850</td>\n",
       "      <td>0.865</td>\n",
       "      <td>73730000</td>\n",
       "    </tr>\n",
       "    <tr>\n",
       "      <th>2004-06-29</th>\n",
       "      <td>0.860</td>\n",
       "      <td>0.885</td>\n",
       "      <td>0.860</td>\n",
       "      <td>0.865</td>\n",
       "      <td>75407500</td>\n",
       "    </tr>\n",
       "    <tr>\n",
       "      <th>2004-06-30</th>\n",
       "      <td>0.875</td>\n",
       "      <td>0.885</td>\n",
       "      <td>0.860</td>\n",
       "      <td>0.860</td>\n",
       "      <td>61085000</td>\n",
       "    </tr>\n",
       "    <tr>\n",
       "      <th>2004-07-01</th>\n",
       "      <td>0.860</td>\n",
       "      <td>0.860</td>\n",
       "      <td>0.860</td>\n",
       "      <td>0.860</td>\n",
       "      <td>0</td>\n",
       "    </tr>\n",
       "    <tr>\n",
       "      <th>2004-07-02</th>\n",
       "      <td>0.855</td>\n",
       "      <td>0.875</td>\n",
       "      <td>0.835</td>\n",
       "      <td>0.870</td>\n",
       "      <td>65130000</td>\n",
       "    </tr>\n",
       "    <tr>\n",
       "      <th>2004-07-05</th>\n",
       "      <td>0.870</td>\n",
       "      <td>0.870</td>\n",
       "      <td>0.870</td>\n",
       "      <td>0.870</td>\n",
       "      <td>0</td>\n",
       "    </tr>\n",
       "    <tr>\n",
       "      <th>2004-07-06</th>\n",
       "      <td>0.875</td>\n",
       "      <td>0.890</td>\n",
       "      <td>0.870</td>\n",
       "      <td>0.880</td>\n",
       "      <td>77145000</td>\n",
       "    </tr>\n",
       "  </tbody>\n",
       "</table>\n",
       "</div>"
      ],
      "text/plain": [
       "             Open   High    Low  Close      Volume\n",
       "Date                                              \n",
       "2004-06-16  0.875  0.925  0.815  0.830  2198875000\n",
       "2004-06-17  0.830  0.875  0.825  0.845   419007500\n",
       "2004-06-18  0.840  0.850  0.790  0.805   182990000\n",
       "2004-06-21  0.820  0.825  0.790  0.800   114085000\n",
       "2004-06-22  0.800  0.800  0.800  0.800           0\n",
       "2004-06-23  0.810  0.890  0.805  0.885   275080000\n",
       "2004-06-24  0.895  0.905  0.865  0.890   173615000\n",
       "2004-06-25  0.895  0.910  0.870  0.880   106062500\n",
       "2004-06-28  0.880  0.880  0.850  0.865    73730000\n",
       "2004-06-29  0.860  0.885  0.860  0.865    75407500\n",
       "2004-06-30  0.875  0.885  0.860  0.860    61085000\n",
       "2004-07-01  0.860  0.860  0.860  0.860           0\n",
       "2004-07-02  0.855  0.875  0.835  0.870    65130000\n",
       "2004-07-05  0.870  0.870  0.870  0.870           0\n",
       "2004-07-06  0.875  0.890  0.870  0.880    77145000"
      ]
     },
     "execution_count": 2,
     "metadata": {},
     "output_type": "execute_result"
    }
   ],
   "source": [
    "# Get the data for the SPY ETF by specifying the stock ticker, start date, and end date\n",
    "data = yf.download('0700.hk')\n",
    "data.drop(\"Adj Close\",axis=1,inplace=True)\n",
    "data.head(15)"
   ]
  },
  {
   "cell_type": "code",
   "execution_count": 3,
   "id": "f2e63dba-ac05-4d70-985f-992504db0bc9",
   "metadata": {},
   "outputs": [
    {
     "name": "stdout",
     "output_type": "stream",
     "text": [
      "                  Open        High         Low       Close      Volume  \\\n",
      "Date                                                                     \n",
      "2004-06-16    0.875000    0.925000    0.815000    0.830000  2198875000   \n",
      "2004-06-17    0.830000    0.875000    0.825000    0.845000   419007500   \n",
      "2004-06-18    0.840000    0.850000    0.790000    0.805000   182990000   \n",
      "2004-06-21    0.820000    0.825000    0.790000    0.800000   114085000   \n",
      "2004-06-22    0.800000    0.800000    0.800000    0.800000           0   \n",
      "...                ...         ...         ...         ...         ...   \n",
      "2021-12-20  437.399994  439.600006  429.000000  430.000000    20413076   \n",
      "2021-12-21  430.000000  446.799988  429.399994  440.799988    17226545   \n",
      "2021-12-22  450.000000  450.799988  440.399994  443.000000    13839639   \n",
      "2021-12-23  454.000000  468.799988  449.200012  461.799988    32952274   \n",
      "2021-12-24  460.799988  460.799988  460.799988  460.799988           0   \n",
      "\n",
      "            Prediction  \n",
      "Date                    \n",
      "2004-06-16    0.845000  \n",
      "2004-06-17    0.805000  \n",
      "2004-06-18    0.800000  \n",
      "2004-06-21    0.800000  \n",
      "2004-06-22    0.885000  \n",
      "...                ...  \n",
      "2021-12-20  440.799988  \n",
      "2021-12-21  443.000000  \n",
      "2021-12-22  461.799988  \n",
      "2021-12-23  460.799988  \n",
      "2021-12-24  447.000000  \n",
      "\n",
      "[4333 rows x 6 columns]\n"
     ]
    }
   ],
   "source": [
    "scaler=MinMaxScaler(feature_range=(0,1))\n",
    "df = data\n",
    "#Create one more column Prediction shifted 15 days up. \n",
    "df['Prediction'] = data[['Close']].shift(-1)\n",
    "#print data set\n",
    "df=df.dropna()\n",
    "print(df)"
   ]
  },
  {
   "cell_type": "code",
   "execution_count": 4,
   "id": "f72b1d2a-5e4a-41cf-b4c3-b48761d9c282",
   "metadata": {
    "scrolled": true,
    "tags": []
   },
   "outputs": [
    {
     "name": "stdout",
     "output_type": "stream",
     "text": [
      "(4133, 5)\n",
      "(4133, 1)\n"
     ]
    }
   ],
   "source": [
    "#Create a data set X and convert it into numpy array , which will be having actual values\n",
    "X = np.array(df.drop(['Prediction'],1))\n",
    "X=scaler.fit_transform(X)\n",
    "#Remove the last 15 rows\n",
    "x_unseen=X[-200:]\n",
    "X=X[:-200]\n",
    "print(X.shape)\n",
    "# Create a dataset y which will be having Predicted values and convert into numpy array\n",
    "scaler_y=MinMaxScaler(feature_range=(0,1))\n",
    "y = np.array(df['Prediction']).reshape(-1,1)\n",
    "y=scaler_y.fit_transform(y)\n",
    "# Remove Last 15 rows\n",
    "y_unseen=y[-200:]\n",
    "y=y[:-200]\n",
    "print(y.shape)"
   ]
  },
  {
   "cell_type": "code",
   "execution_count": 5,
   "id": "7692cc47-e720-499b-a243-68dd3245ad64",
   "metadata": {},
   "outputs": [],
   "source": [
    "# Split the data into train and test with 90 & 10 % respectively\n",
    "x_train, x_test, y_train, y_test = train_test_split(X, y, test_size=0.1)"
   ]
  },
  {
   "cell_type": "code",
   "execution_count": 6,
   "id": "ceef7e72-9fca-4800-9ec6-5a15683cd043",
   "metadata": {},
   "outputs": [
    {
     "name": "stderr",
     "output_type": "stream",
     "text": [
      "/home/gordon/anaconda3/envs/FYP/lib/python3.8/site-packages/sklearn/utils/validation.py:985: DataConversionWarning: A column-vector y was passed when a 1d array was expected. Please change the shape of y to (n_samples, ), for example using ravel().\n",
      "  y = column_or_1d(y, warn=True)\n"
     ]
    },
    {
     "data": {
      "text/plain": [
       "SVR(C=1000.0, gamma=0.1)"
      ]
     },
     "execution_count": 6,
     "metadata": {},
     "output_type": "execute_result"
    }
   ],
   "source": [
    "# SVM Model\n",
    "svr = SVR(kernel='rbf',C=1e3,gamma=0.1)\n",
    "# Train the model \n",
    "svr.fit(x_train, y_train)"
   ]
  },
  {
   "cell_type": "code",
   "execution_count": 7,
   "id": "8c7c01ab-fdcb-409c-a002-025aa0d78a6d",
   "metadata": {},
   "outputs": [
    {
     "name": "stdout",
     "output_type": "stream",
     "text": [
      "svm confidence:  0.8240229885767127\n"
     ]
    }
   ],
   "source": [
    "# The best possible score is 1.0\n",
    "svm_confidence = svr.score(x_test, y_test)\n",
    "print(\"svm confidence: \", svm_confidence)"
   ]
  },
  {
   "cell_type": "code",
   "execution_count": 8,
   "id": "60f0c648-b5d7-4f53-9e08-27b199ed3608",
   "metadata": {},
   "outputs": [],
   "source": [
    "y_pred=svr.predict(x_test).reshape(-1,1)\n",
    "y_pred=scaler_y.inverse_transform(y_pred)\n",
    "y_test=scaler_y.inverse_transform(y_test)"
   ]
  },
  {
   "cell_type": "code",
   "execution_count": 9,
   "id": "b6ec08a0",
   "metadata": {},
   "outputs": [
    {
     "data": {
      "image/png": "[encoded data removed]",
      "text/plain": [
       "<Figure size 432x288 with 1 Axes>"
      ]
     },
     "metadata": {
      "needs_background": "light"
     },
     "output_type": "display_data"
    }
   ],
   "source": [
    "plt.plot(y_test, marker='.', label=\"true\")\n",
    "plt.plot(y_pred, 'r',marker='*', label=\"prediction\")\n",
    "plt.ylabel('Value')\n",
    "plt.xlabel('Time Step')\n",
    "plt.legend()\n",
    "plt.show();"
   ]
  },
  {
   "cell_type": "code",
   "execution_count": 10,
   "id": "454d983b",
   "metadata": {},
   "outputs": [
    {
     "data": {
      "text/plain": [
       "3832.663229487789"
      ]
     },
     "execution_count": 10,
     "metadata": {},
     "output_type": "execute_result"
    }
   ],
   "source": [
    "mean_squared_error(y_test,y_pred)"
   ]
  },
  {
   "cell_type": "markdown",
   "id": "3003bcaf-706c-44d1-8911-12b7bf36c66a",
   "metadata": {},
   "source": [
    "# Unseen Data"
   ]
  },
  {
   "cell_type": "code",
   "execution_count": 11,
   "id": "2b4fb868",
   "metadata": {
    "pycharm": {
     "name": "#%%\n"
    }
   },
   "outputs": [],
   "source": [
    "svm_prediction = svr.predict(x_unseen)\n",
    "svm_prediction=scaler_y.inverse_transform(svm_prediction.reshape(-1,1))\n",
    "y_unseen=scaler_y.inverse_transform(y_unseen.reshape(-1,1))"
   ]
  },
  {
   "cell_type": "code",
   "execution_count": 12,
   "id": "60b3f7fe",
   "metadata": {
    "pycharm": {
     "name": "#%%\n"
    }
   },
   "outputs": [
    {
     "data": {
      "image/png": "[encoded data removed]",
      "text/plain": [
       "<Figure size 432x288 with 1 Axes>"
      ]
     },
     "metadata": {
      "needs_background": "light"
     },
     "output_type": "display_data"
    }
   ],
   "source": [
    "plt.plot(y_unseen, marker='.', label=\"true\")\n",
    "plt.plot(svm_prediction, 'r',marker='*', label=\"prediction\")\n",
    "plt.ylabel('Value')\n",
    "plt.xlabel('Time Step')\n",
    "plt.legend()\n",
    "plt.show();"
   ]
  },
  {
   "cell_type": "code",
   "execution_count": 13,
   "id": "b0f2b92e",
   "metadata": {
    "pycharm": {
     "name": "#%%\n"
    }
   },
   "outputs": [
    {
     "data": {
      "text/plain": [
       "0.8213536231277401"
      ]
     },
     "execution_count": 13,
     "metadata": {},
     "output_type": "execute_result"
    }
   ],
   "source": [
    "r2_score(y_unseen,svm_prediction)"
   ]
  },
  {
   "cell_type": "code",
   "execution_count": 14,
   "id": "043165e1",
   "metadata": {},
   "outputs": [
    {
     "data": {
      "text/plain": [
       "884.1870974666022"
      ]
     },
     "execution_count": 14,
     "metadata": {},
     "output_type": "execute_result"
    }
   ],
   "source": [
    "mean_squared_error(y_unseen,svm_prediction)"
   ]
  },
  {
   "cell_type": "code",
   "execution_count": null,
   "id": "ad2f1497",
   "metadata": {},
   "outputs": [],
   "source": []
  }
 ],
 "metadata": {
  "kernelspec": {
   "display_name": "Python 3",
   "language": "python",
   "name": "python3"
  },
  "language_info": {
   "codemirror_mode": {
    "name": "ipython",
    "version": 3
   },
   "file_extension": ".py",
   "mimetype": "text/x-python",
   "name": "python",
   "nbconvert_exporter": "python",
   "pygments_lexer": "ipython3",
   "version": "3.8.8"
  }
 },
 "nbformat": 4,
 "nbformat_minor": 5
}
