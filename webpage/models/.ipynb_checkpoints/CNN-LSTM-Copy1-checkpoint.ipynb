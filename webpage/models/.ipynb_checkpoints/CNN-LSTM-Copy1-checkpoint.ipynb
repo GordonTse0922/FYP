{
 "cells": [
  {
   "cell_type": "code",
   "execution_count": 1,
   "metadata": {
    "pycharm": {
     "name": "#%%\n"
    }
   },
   "outputs": [],
   "source": [
    "# Import the necessary libraries first\n",
    "from sklearn.feature_selection import SelectKBest, RFE\n",
    "from sklearn.feature_selection import chi2,r_regression\n",
    "from sklearn.linear_model import LinearRegression,Ridge\n",
    "from sklearn.linear_model import RidgeCV, LassoCV, Ridge, Lasso\n",
    "from sklearn.model_selection import train_test_split\n",
    "from sklearn.ensemble import RandomForestRegressor\n",
    "from sklearn.preprocessing import MinMaxScaler,StandardScaler\n",
    "from sklearn.metrics import r2_score,mean_squared_error\n",
    "import yfinance as yf\n",
    "import talib\n",
    "import numpy as np\n",
    "import pandas as pd\n",
    "import matplotlib.pyplot as plt\n",
    "from keras.layers import LSTM,Dropout, BatchNormalization, Dense, Conv1D, MaxPool1D\n",
    "from keras.callbacks import ModelCheckpoint, EarlyStopping, ReduceLROnPlateau, CSVLogger\n",
    "from keras.models import Sequential\n",
    "from sklearn.ensemble import RandomForestRegressor\n",
    "from keras.optimizer_v2.adam import Adam"
   ]
  },
  {
   "cell_type": "code",
   "execution_count": 2,
   "metadata": {
    "pycharm": {
     "name": "#%%\n"
    }
   },
   "outputs": [
    {
     "name": "stdout",
     "output_type": "stream",
     "text": [
      "[*********************100%***********************]  1 of 1 completed\n"
     ]
    },
    {
     "data": {
      "text/html": [
       "<div>\n",
       "<style scoped>\n",
       "    .dataframe tbody tr th:only-of-type {\n",
       "        vertical-align: middle;\n",
       "    }\n",
       "\n",
       "    .dataframe tbody tr th {\n",
       "        vertical-align: top;\n",
       "    }\n",
       "\n",
       "    .dataframe thead th {\n",
       "        text-align: right;\n",
       "    }\n",
       "</style>\n",
       "<table border=\"1\" class=\"dataframe\">\n",
       "  <thead>\n",
       "    <tr style=\"text-align: right;\">\n",
       "      <th></th>\n",
       "      <th>Open</th>\n",
       "      <th>High</th>\n",
       "      <th>Low</th>\n",
       "      <th>Close</th>\n",
       "      <th>Volume</th>\n",
       "    </tr>\n",
       "    <tr>\n",
       "      <th>Date</th>\n",
       "      <th></th>\n",
       "      <th></th>\n",
       "      <th></th>\n",
       "      <th></th>\n",
       "      <th></th>\n",
       "    </tr>\n",
       "  </thead>\n",
       "  <tbody>\n",
       "    <tr>\n",
       "      <th>2021-12-06</th>\n",
       "      <td>44.500000</td>\n",
       "      <td>44.950001</td>\n",
       "      <td>44.250000</td>\n",
       "      <td>44.849998</td>\n",
       "      <td>21997237</td>\n",
       "    </tr>\n",
       "    <tr>\n",
       "      <th>2021-12-07</th>\n",
       "      <td>44.799999</td>\n",
       "      <td>45.750000</td>\n",
       "      <td>44.400002</td>\n",
       "      <td>45.650002</td>\n",
       "      <td>15839694</td>\n",
       "    </tr>\n",
       "    <tr>\n",
       "      <th>2021-12-08</th>\n",
       "      <td>45.950001</td>\n",
       "      <td>45.950001</td>\n",
       "      <td>45.099998</td>\n",
       "      <td>45.500000</td>\n",
       "      <td>8590654</td>\n",
       "    </tr>\n",
       "    <tr>\n",
       "      <th>2021-12-09</th>\n",
       "      <td>45.450001</td>\n",
       "      <td>45.900002</td>\n",
       "      <td>45.150002</td>\n",
       "      <td>45.299999</td>\n",
       "      <td>6908033</td>\n",
       "    </tr>\n",
       "    <tr>\n",
       "      <th>2021-12-10</th>\n",
       "      <td>45.099998</td>\n",
       "      <td>45.400002</td>\n",
       "      <td>44.950001</td>\n",
       "      <td>45.200001</td>\n",
       "      <td>6090109</td>\n",
       "    </tr>\n",
       "    <tr>\n",
       "      <th>2021-12-13</th>\n",
       "      <td>45.200001</td>\n",
       "      <td>45.250000</td>\n",
       "      <td>44.500000</td>\n",
       "      <td>45.099998</td>\n",
       "      <td>10861423</td>\n",
       "    </tr>\n",
       "    <tr>\n",
       "      <th>2021-12-14</th>\n",
       "      <td>44.150002</td>\n",
       "      <td>44.599998</td>\n",
       "      <td>44.150002</td>\n",
       "      <td>44.500000</td>\n",
       "      <td>7998591</td>\n",
       "    </tr>\n",
       "    <tr>\n",
       "      <th>2021-12-15</th>\n",
       "      <td>44.700001</td>\n",
       "      <td>45.400002</td>\n",
       "      <td>44.450001</td>\n",
       "      <td>44.950001</td>\n",
       "      <td>11227978</td>\n",
       "    </tr>\n",
       "    <tr>\n",
       "      <th>2021-12-16</th>\n",
       "      <td>44.849998</td>\n",
       "      <td>45.150002</td>\n",
       "      <td>44.299999</td>\n",
       "      <td>45.150002</td>\n",
       "      <td>9989350</td>\n",
       "    </tr>\n",
       "    <tr>\n",
       "      <th>2021-12-17</th>\n",
       "      <td>46.299999</td>\n",
       "      <td>46.750000</td>\n",
       "      <td>46.049999</td>\n",
       "      <td>46.400002</td>\n",
       "      <td>39799001</td>\n",
       "    </tr>\n",
       "    <tr>\n",
       "      <th>2021-12-20</th>\n",
       "      <td>45.799999</td>\n",
       "      <td>46.000000</td>\n",
       "      <td>45.349998</td>\n",
       "      <td>45.500000</td>\n",
       "      <td>16771986</td>\n",
       "    </tr>\n",
       "    <tr>\n",
       "      <th>2021-12-21</th>\n",
       "      <td>45.700001</td>\n",
       "      <td>45.750000</td>\n",
       "      <td>45.200001</td>\n",
       "      <td>45.450001</td>\n",
       "      <td>12301373</td>\n",
       "    </tr>\n",
       "    <tr>\n",
       "      <th>2021-12-22</th>\n",
       "      <td>45.599998</td>\n",
       "      <td>45.750000</td>\n",
       "      <td>45.299999</td>\n",
       "      <td>45.700001</td>\n",
       "      <td>8541568</td>\n",
       "    </tr>\n",
       "    <tr>\n",
       "      <th>2021-12-23</th>\n",
       "      <td>46.299999</td>\n",
       "      <td>46.299999</td>\n",
       "      <td>45.900002</td>\n",
       "      <td>46.200001</td>\n",
       "      <td>9198207</td>\n",
       "    </tr>\n",
       "    <tr>\n",
       "      <th>2021-12-24</th>\n",
       "      <td>46.450001</td>\n",
       "      <td>46.450001</td>\n",
       "      <td>46.450001</td>\n",
       "      <td>46.450001</td>\n",
       "      <td>0</td>\n",
       "    </tr>\n",
       "  </tbody>\n",
       "</table>\n",
       "</div>"
      ],
      "text/plain": [
       "                 Open       High        Low      Close    Volume\n",
       "Date                                                            \n",
       "2021-12-06  44.500000  44.950001  44.250000  44.849998  21997237\n",
       "2021-12-07  44.799999  45.750000  44.400002  45.650002  15839694\n",
       "2021-12-08  45.950001  45.950001  45.099998  45.500000   8590654\n",
       "2021-12-09  45.450001  45.900002  45.150002  45.299999   6908033\n",
       "2021-12-10  45.099998  45.400002  44.950001  45.200001   6090109\n",
       "2021-12-13  45.200001  45.250000  44.500000  45.099998  10861423\n",
       "2021-12-14  44.150002  44.599998  44.150002  44.500000   7998591\n",
       "2021-12-15  44.700001  45.400002  44.450001  44.950001  11227978\n",
       "2021-12-16  44.849998  45.150002  44.299999  45.150002   9989350\n",
       "2021-12-17  46.299999  46.750000  46.049999  46.400002  39799001\n",
       "2021-12-20  45.799999  46.000000  45.349998  45.500000  16771986\n",
       "2021-12-21  45.700001  45.750000  45.200001  45.450001  12301373\n",
       "2021-12-22  45.599998  45.750000  45.299999  45.700001   8541568\n",
       "2021-12-23  46.299999  46.299999  45.900002  46.200001   9198207\n",
       "2021-12-24  46.450001  46.450001  46.450001  46.450001         0"
      ]
     },
     "execution_count": 2,
     "metadata": {},
     "output_type": "execute_result"
    }
   ],
   "source": [
    "# Get the data for the SPY ETF by specifying the stock ticker, start date, and end date\n",
    "data = yf.download('0005.hk')\n",
    "data.drop(\"Adj Close\",axis=1,inplace=True)\n",
    "data.tail(15)"
   ]
  },
  {
   "cell_type": "code",
   "execution_count": 3,
   "metadata": {
    "pycharm": {
     "name": "#%%\n"
    }
   },
   "outputs": [
    {
     "data": {
      "text/plain": [
       "Index(['Open', 'High', 'Low', 'Close', 'Volume', '6day MA', '12day MA', 'RSI',\n",
       "       '%R5', '%R10', 'MTM6', 'MTM12', 'EMA12', 'EMA26', 'MACD', 'TR', 'OSC6',\n",
       "       'OSC12', 'Predictions'],\n",
       "      dtype='object')"
      ]
     },
     "execution_count": 3,
     "metadata": {},
     "output_type": "execute_result"
    }
   ],
   "source": [
    "data['6day MA'] = data['Close'].rolling(window = 6).mean()\n",
    "data['12day MA'] = data['Close'].rolling(window = 12).mean()\n",
    "data['RSI'] = talib.RSI(data['Close'].values, timeperiod = 7)\n",
    "data['%R5'] = talib.WILLR(data['High'].values, data['Low'].values, data['Close'].values, 5)\n",
    "data['%R10'] = talib.WILLR(data['High'].values, data['Low'].values, data['Close'].values, 10)\n",
    "data['MTM6']=talib.MOM(data['Close'],timeperiod=6)\n",
    "data['MTM12']=talib.MOM(data['Close'],timeperiod=12)\n",
    "macd, macdsignal, macdhist = talib.MACD(data['Close'], fastperiod=12, slowperiod=26, signalperiod=9)\n",
    "data['EMA12']=talib.EMA(data['Close'], timeperiod=12)\n",
    "data['EMA26']=talib.EMA(data['Close'],timeperiod=26)\n",
    "data['MACD']=macd\n",
    "data['TR']=talib.TRANGE(data['High'],data['Low'],data['Close'])\n",
    "data['OSC6']=talib.CMO(data['Close'], timeperiod=6)\n",
    "data['OSC12']=talib.CMO(data['Close'], timeperiod=12)\n",
    "data['Predictions']=data['Close'].shift(-1)\n",
    "data.dropna(inplace=True)\n",
    "data.columns"
   ]
  },
  {
   "cell_type": "code",
   "execution_count": 4,
   "metadata": {
    "pycharm": {
     "name": "#%%\n"
    }
   },
   "outputs": [
    {
     "name": "stdout",
     "output_type": "stream",
     "text": [
      "Train--Test size 4356 1090\n",
      "Length of inputs 4346\n",
      "length of time-series - inputs (4346, 10, 18)\n",
      "length of time-series - outputs (4346,)\n",
      "Batch trimmed size (4340, 10, 18) (4340,)\n"
     ]
    },
    {
     "name": "stderr",
     "output_type": "stream",
     "text": [
      "/home/gordon/anaconda3/envs/FYP/lib/python3.8/site-packages/sklearn/base.py:438: UserWarning: X has feature names, but MinMaxScaler was fitted without feature names\n",
      "  warnings.warn(\n"
     ]
    }
   ],
   "source": [
    "def trim_dataset(mat, batch_size):\n",
    "\n",
    "    #trims dataset to a size that's divisible by BATCH_SIZE\n",
    "    no_of_rows_drop = mat.shape[0] % batch_size\n",
    "\n",
    "    if no_of_rows_drop > 0:\n",
    "        return mat[:-no_of_rows_drop]\n",
    "    else:\n",
    "        return mat\n",
    "\n",
    "def build_timeseries(mat, target):\n",
    "\n",
    "    dim_0 = mat.shape[0] - TIME_STEPS\n",
    "    dim_1 = mat.shape[1]\n",
    "\n",
    "    x = np.zeros((dim_0, TIME_STEPS, dim_1))\n",
    "    y = np.zeros((dim_0,))\n",
    "\n",
    "    print(\"Length of inputs\", dim_0)\n",
    "\n",
    "    for i in range(dim_0):\n",
    "        x[i] = mat[i:TIME_STEPS+i]\n",
    "        y[i] = target[TIME_STEPS+i]\n",
    "\n",
    "    print(\"length of time-series - inputs\", x.shape)\n",
    "    print(\"length of time-series - outputs\", y.shape)\n",
    "\n",
    "    return x, y\n",
    "\n",
    "train_cols = ['Open', 'High', 'Low', 'Close', 'Volume', '6day MA', '12day MA', 'RSI',\n",
    "       '%R5', '%R10', 'MTM6', 'MTM12', 'EMA12', 'EMA26', 'MACD', 'TR', 'OSC6',\n",
    "       'OSC12']\n",
    "params = {\n",
    "    \"batch_size\": 20,  # 20<16<10, 25 was a bust\n",
    "    \"epochs\": 100,\n",
    "    \"lr\": 0.00010000,\n",
    "    \"time_steps\": 10\n",
    "}\n",
    "TIME_STEPS = params[\"time_steps\"]\n",
    "BATCH_SIZE = params[\"batch_size\"]\n",
    "df_train, df_test = train_test_split(data, train_size=0.8, test_size=0.2, shuffle=False)\n",
    "print(\"Train--Test size\", len(df_train), len(df_test))\n",
    "x = df_train.loc[:,train_cols].values\n",
    "y = df_train.loc[:,[\"Predictions\"]].values\n",
    "min_max_scaler = MinMaxScaler()\n",
    "min_max_scaler_y = MinMaxScaler()\n",
    "x_train = min_max_scaler.fit_transform(x)\n",
    "# y=min_max_scaler_y.fit_transform(y)\n",
    "x_test = min_max_scaler.transform(df_test.loc[:,train_cols])\n",
    "y_test = df_test.loc[:,[\"Predictions\"]].values\n",
    "# y_test=min_max_scaler_y.transform(y_test)\n",
    "x_t, y_t = build_timeseries(x_train, y)\n",
    "x_t = trim_dataset(x_t, BATCH_SIZE)\n",
    "y_t = trim_dataset(y_t, BATCH_SIZE)\n",
    "# print(x_test.shape)\n",
    "print(\"Batch trimmed size\", x_t.shape, y_t.shape)"
   ]
  },
  {
   "cell_type": "code",
   "execution_count": 5,
   "metadata": {
    "pycharm": {
     "name": "#%%\n"
    }
   },
   "outputs": [
    {
     "name": "stdout",
     "output_type": "stream",
     "text": [
      "Length of inputs 1080\n",
      "length of time-series - inputs (1080, 10, 18)\n",
      "length of time-series - outputs (1080,)\n"
     ]
    }
   ],
   "source": [
    "x_temp, y_temp = build_timeseries(x_test,y_test)\n",
    "x_val, x_test_t = np.split(trim_dataset(x_temp, BATCH_SIZE),2)\n",
    "x_val,x_unseen=np.split(trim_dataset(x_val, BATCH_SIZE),2)\n",
    "y_val, y_test_t = np.split(trim_dataset(y_temp, BATCH_SIZE),2)\n",
    "y_val, y_unseen = np.split(trim_dataset(y_val, BATCH_SIZE),2)"
   ]
  },
  {
   "cell_type": "code",
   "execution_count": 6,
   "metadata": {
    "pycharm": {
     "name": "#%%\n"
    }
   },
   "outputs": [],
   "source": [
    "model=Sequential()\n",
    "model.add(Conv1D(32,kernel_size=1,input_shape=(x_t.shape[1],x_t.shape[2])))\n",
    "model.add(MaxPool1D(1))\n",
    "model.add(LSTM(64))\n",
    "model.add(Dense(32))\n",
    "model.add(Dense(1))\n",
    "model.compile(\n",
    "    loss=\"mean_squared_error\",\n",
    "    optimizer='Adam'\n",
    ")"
   ]
  },
  {
   "cell_type": "code",
   "execution_count": 7,
   "metadata": {
    "pycharm": {
     "name": "#%%\n"
    }
   },
   "outputs": [
    {
     "name": "stdout",
     "output_type": "stream",
     "text": [
      "Model: \"sequential\"\n",
      "_________________________________________________________________\n",
      "Layer (type)                 Output Shape              Param #   \n",
      "=================================================================\n",
      "conv1d (Conv1D)              (None, 10, 32)            608       \n",
      "_________________________________________________________________\n",
      "max_pooling1d (MaxPooling1D) (None, 10, 32)            0         \n",
      "_________________________________________________________________\n",
      "lstm (LSTM)                  (None, 64)                24832     \n",
      "_________________________________________________________________\n",
      "dense (Dense)                (None, 32)                2080      \n",
      "_________________________________________________________________\n",
      "dense_1 (Dense)              (None, 1)                 33        \n",
      "=================================================================\n",
      "Total params: 27,553\n",
      "Trainable params: 27,553\n",
      "Non-trainable params: 0\n",
      "_________________________________________________________________\n",
      "None\n"
     ]
    }
   ],
   "source": [
    "print(model.summary())"
   ]
  },
  {
   "cell_type": "markdown",
   "metadata": {
    "pycharm": {
     "name": "#%% md\n"
    }
   },
   "source": []
  },
  {
   "cell_type": "code",
   "execution_count": 8,
   "metadata": {
    "pycharm": {
     "is_executing": true,
     "name": "#%%\n"
    },
    "scrolled": true
   },
   "outputs": [
    {
     "name": "stdout",
     "output_type": "stream",
     "text": [
      "Epoch 1/300\n",
      "136/136 [==============================] - 10s 6ms/step - loss: 7004.1617 - val_loss: 26.0658\n",
      "Epoch 2/300\n",
      "136/136 [==============================] - 1s 4ms/step - loss: 834.4616 - val_loss: 17.8832\n",
      "Epoch 3/300\n",
      "136/136 [==============================] - 1s 4ms/step - loss: 778.6935 - val_loss: 297.6640\n",
      "Epoch 4/300\n",
      "136/136 [==============================] - 1s 4ms/step - loss: 814.3475 - val_loss: 250.4088\n",
      "Epoch 5/300\n",
      "136/136 [==============================] - 1s 4ms/step - loss: 685.9237 - val_loss: 164.9263\n",
      "Epoch 6/300\n",
      "136/136 [==============================] - 1s 4ms/step - loss: 471.7116 - val_loss: 99.5047\n",
      "Epoch 7/300\n",
      "136/136 [==============================] - 1s 4ms/step - loss: 283.6103 - val_loss: 8.6565\n",
      "Epoch 8/300\n",
      "136/136 [==============================] - 0s 3ms/step - loss: 154.2599 - val_loss: 1.6982\n",
      "Epoch 9/300\n",
      "136/136 [==============================] - 1s 4ms/step - loss: 66.5968 - val_loss: 1.5843\n",
      "Epoch 10/300\n",
      "136/136 [==============================] - 1s 4ms/step - loss: 34.9591 - val_loss: 1.8923\n",
      "Epoch 11/300\n",
      "136/136 [==============================] - 1s 4ms/step - loss: 24.6537 - val_loss: 1.9314\n",
      "Epoch 12/300\n",
      "136/136 [==============================] - 1s 4ms/step - loss: 19.7998 - val_loss: 2.1200\n",
      "Epoch 13/300\n",
      "136/136 [==============================] - 1s 4ms/step - loss: 17.5039 - val_loss: 2.2988\n",
      "Epoch 14/300\n",
      "136/136 [==============================] - 1s 4ms/step - loss: 16.1119 - val_loss: 2.4373\n",
      "Epoch 15/300\n",
      "136/136 [==============================] - 1s 4ms/step - loss: 15.1990 - val_loss: 2.5300\n",
      "Epoch 16/300\n",
      "136/136 [==============================] - 1s 4ms/step - loss: 14.5693 - val_loss: 2.5872\n",
      "Epoch 17/300\n",
      "136/136 [==============================] - 1s 4ms/step - loss: 14.1398 - val_loss: 2.6240\n",
      "Epoch 18/300\n",
      "136/136 [==============================] - 1s 4ms/step - loss: 13.8722 - val_loss: 2.6535\n",
      "Epoch 19/300\n",
      "136/136 [==============================] - 1s 4ms/step - loss: 13.7494 - val_loss: 2.6827\n",
      "Epoch 20/300\n",
      "136/136 [==============================] - 1s 4ms/step - loss: 13.7587 - val_loss: 2.7097\n",
      "Epoch 21/300\n",
      "136/136 [==============================] - 1s 4ms/step - loss: 13.8880 - val_loss: 2.7130\n",
      "Epoch 22/300\n",
      "136/136 [==============================] - 1s 4ms/step - loss: 14.1090 - val_loss: 2.7821\n",
      "Epoch 23/300\n",
      "136/136 [==============================] - 1s 4ms/step - loss: 14.5176 - val_loss: 2.7600\n",
      "Epoch 24/300\n",
      "136/136 [==============================] - 0s 4ms/step - loss: 14.9148 - val_loss: 2.8946\n",
      "Epoch 25/300\n",
      "136/136 [==============================] - 1s 4ms/step - loss: 15.5956 - val_loss: 2.6563\n",
      "Epoch 26/300\n",
      "136/136 [==============================] - 1s 4ms/step - loss: 15.9245 - val_loss: 2.6869\n",
      "Epoch 27/300\n",
      "136/136 [==============================] - 1s 4ms/step - loss: 16.6496 - val_loss: 2.4428\n",
      "Epoch 28/300\n",
      "136/136 [==============================] - 1s 4ms/step - loss: 16.8761 - val_loss: 2.5319\n",
      "Epoch 29/300\n",
      "136/136 [==============================] - 1s 4ms/step - loss: 17.9168 - val_loss: 2.1468\n",
      "Epoch 30/300\n",
      "136/136 [==============================] - 1s 4ms/step - loss: 17.9512 - val_loss: 2.1562\n",
      "Epoch 31/300\n",
      "136/136 [==============================] - 1s 4ms/step - loss: 18.5462 - val_loss: 1.9020\n",
      "Epoch 32/300\n",
      "136/136 [==============================] - 1s 4ms/step - loss: 18.2869 - val_loss: 1.8300\n",
      "Epoch 33/300\n",
      "136/136 [==============================] - 1s 4ms/step - loss: 18.6513 - val_loss: 1.7532\n",
      "Epoch 34/300\n",
      "136/136 [==============================] - 1s 4ms/step - loss: 19.1793 - val_loss: 1.7148\n",
      "Epoch 35/300\n",
      "136/136 [==============================] - 1s 4ms/step - loss: 18.8679 - val_loss: 1.6261\n",
      "Epoch 36/300\n",
      "136/136 [==============================] - 0s 4ms/step - loss: 17.8722 - val_loss: 1.6689\n",
      "Epoch 37/300\n",
      "136/136 [==============================] - 1s 4ms/step - loss: 17.4767 - val_loss: 1.6449\n",
      "Epoch 38/300\n",
      "136/136 [==============================] - 1s 4ms/step - loss: 18.4084 - val_loss: 1.7222\n",
      "Epoch 39/300\n",
      "136/136 [==============================] - 1s 4ms/step - loss: 16.9304 - val_loss: 1.7410\n",
      "Epoch 40/300\n",
      "136/136 [==============================] - 0s 3ms/step - loss: 17.9062 - val_loss: 1.7738\n",
      "Epoch 41/300\n",
      "136/136 [==============================] - 0s 3ms/step - loss: 18.3049 - val_loss: 2.4876\n",
      "Epoch 42/300\n",
      "136/136 [==============================] - 1s 4ms/step - loss: 17.6062 - val_loss: 1.7147\n",
      "Epoch 43/300\n",
      "136/136 [==============================] - 1s 4ms/step - loss: 18.7269 - val_loss: 2.3320\n",
      "Epoch 44/300\n",
      "136/136 [==============================] - 1s 4ms/step - loss: 18.3886 - val_loss: 2.5885\n",
      "Epoch 45/300\n",
      "136/136 [==============================] - 1s 4ms/step - loss: 19.9506 - val_loss: 2.4337\n",
      "Epoch 46/300\n",
      "136/136 [==============================] - 1s 4ms/step - loss: 18.9542 - val_loss: 2.4119\n",
      "Epoch 47/300\n",
      "136/136 [==============================] - 1s 4ms/step - loss: 19.8233 - val_loss: 2.7422\n",
      "Epoch 48/300\n",
      "136/136 [==============================] - 1s 4ms/step - loss: 19.2085 - val_loss: 2.8121\n",
      "Epoch 49/300\n",
      "136/136 [==============================] - 1s 4ms/step - loss: 20.0710 - val_loss: 2.4039\n",
      "Epoch 00049: early stopping\n"
     ]
    }
   ],
   "source": [
    "es = EarlyStopping(monitor='val_loss', mode='min', verbose=1,patience=40, min_delta=0)\n",
    "history=model.fit(x_t,y_t,epochs=300,validation_data=(x_val,y_val),shuffle=False,callbacks=es)"
   ]
  },
  {
   "cell_type": "code",
   "execution_count": 9,
   "metadata": {
    "pycharm": {
     "is_executing": true,
     "name": "#%%\n"
    }
   },
   "outputs": [
    {
     "data": {
      "text/plain": [
       "<matplotlib.legend.Legend at 0x7fde202313d0>"
      ]
     },
     "execution_count": 9,
     "metadata": {},
     "output_type": "execute_result"
    },
    {
     "data": {
      "image/png": "[encoded data removed]",
      "text/plain": [
       "<Figure size 432x288 with 1 Axes>"
      ]
     },
     "metadata": {
      "needs_background": "light"
     },
     "output_type": "display_data"
    }
   ],
   "source": [
    "plt.plot(history.history['loss'], label='train')\n",
    "plt.plot(history.history['val_loss'], label='test')\n",
    "plt.legend()"
   ]
  },
  {
   "cell_type": "code",
   "execution_count": 10,
   "metadata": {
    "pycharm": {
     "is_executing": true,
     "name": "#%%\n"
    }
   },
   "outputs": [
    {
     "name": "stdout",
     "output_type": "stream",
     "text": [
      "Error is 4.344676434649692 (540,) (540,)\n",
      "[60.87212  61.16223  61.75273  60.963005 62.231316 61.83776  58.95849\n",
      " 59.26857  59.30076  59.20917  59.265137 60.527    60.41958  60.682026\n",
      " 60.51574 ]\n",
      "[61.40000153 61.20000076 61.84999847 61.65000153 60.25       59.45000076\n",
      " 59.20000076 59.5        59.59999847 60.09999847 60.09999847 60.34999847\n",
      " 60.20000076 60.04999924 59.        ]\n",
      "[[60.87212 ]\n",
      " [61.16223 ]\n",
      " [61.75273 ]\n",
      " [60.963005]\n",
      " [62.231316]\n",
      " [61.83776 ]\n",
      " [58.95849 ]\n",
      " [59.26857 ]\n",
      " [59.30076 ]\n",
      " [59.20917 ]\n",
      " [59.265137]\n",
      " [60.527   ]\n",
      " [60.41958 ]\n",
      " [60.682026]\n",
      " [60.51574 ]]\n",
      "[[61.40000153]\n",
      " [61.20000076]\n",
      " [61.84999847]\n",
      " [61.65000153]\n",
      " [60.25      ]\n",
      " [59.45000076]\n",
      " [59.20000076]\n",
      " [59.5       ]\n",
      " [59.59999847]\n",
      " [60.09999847]\n",
      " [60.09999847]\n",
      " [60.34999847]\n",
      " [60.20000076]\n",
      " [60.04999924]\n",
      " [59.        ]]\n"
     ]
    }
   ],
   "source": [
    "from sklearn.metrics import mean_squared_error\n",
    "\n",
    "y_pred = model.predict(trim_dataset(x_test_t, BATCH_SIZE), batch_size=BATCH_SIZE)\n",
    "y_pred = y_pred.flatten()\n",
    "y_test_t = trim_dataset(y_test_t, BATCH_SIZE)\n",
    "error = mean_squared_error(y_test_t, y_pred)\n",
    "print(\"Error is\", error, y_pred.shape, y_test_t.shape)\n",
    "print(y_pred[0:15])\n",
    "print(y_test_t[0:15])\n",
    "\n",
    "# convert the predicted value to range of real data\n",
    "# y_pred_org = min_max_scaler_y.inverse_transform(y_pred.reshape(-1,1))\n",
    "y_pred_org = y_pred.reshape(-1,1)\n",
    "# min_max_scaler.inverse_transform(y_pred)\n",
    "# y_test_t_org = min_max_scaler_y.inverse_transform(y_test_t.reshape(-1,1))\n",
    "y_test_t_org =y_test_t.reshape(-1,1)\n",
    "# min_max_scaler.inverse_transform(y_test_t)\n",
    "print(y_pred_org[0:15])\n",
    "print(y_test_t_org[0:15])"
   ]
  },
  {
   "cell_type": "code",
   "execution_count": 11,
   "metadata": {
    "pycharm": {
     "is_executing": true,
     "name": "#%%\n"
    }
   },
   "outputs": [
    {
     "data": {
      "text/plain": [
       "<matplotlib.legend.Legend at 0x7fde0037a8e0>"
      ]
     },
     "execution_count": 11,
     "metadata": {},
     "output_type": "execute_result"
    },
    {
     "data": {
      "image/png": "[encoded data removed]",
      "text/plain": [
       "<Figure size 432x288 with 1 Axes>"
      ]
     },
     "metadata": {
      "needs_background": "light"
     },
     "output_type": "display_data"
    }
   ],
   "source": [
    "plt.figure()\n",
    "plt.plot(y_pred_org,marker='*')\n",
    "plt.plot(y_test_t_org,marker='.')\n",
    "plt.title('Prediction vs Real Stock Price')\n",
    "plt.ylabel('Price')\n",
    "plt.xlabel('Days')\n",
    "plt.legend(['Prediction', 'Real'], loc='upper left')"
   ]
  },
  {
   "cell_type": "code",
   "execution_count": 12,
   "metadata": {
    "pycharm": {
     "is_executing": true,
     "name": "#%%\n"
    }
   },
   "outputs": [
    {
     "data": {
      "text/plain": [
       "0.9326016677133453"
      ]
     },
     "execution_count": 12,
     "metadata": {},
     "output_type": "execute_result"
    }
   ],
   "source": [
    "r2_score(y_test_t_org,y_pred_org)"
   ]
  },
  {
   "cell_type": "code",
   "execution_count": 13,
   "metadata": {},
   "outputs": [],
   "source": [
    "y_pred_unseen=model.predict(x_unseen)\n",
    "# y_pred_unseen=min_max_scaler_y.inverse_transform(y_pred_unseen)\n",
    "# y_unseen=min_max_scaler_y.inverse_transform(y_unseen.reshape(-1,1))"
   ]
  },
  {
   "cell_type": "code",
   "execution_count": 14,
   "metadata": {},
   "outputs": [
    {
     "data": {
      "text/plain": [
       "<matplotlib.legend.Legend at 0x7fde002a2be0>"
      ]
     },
     "execution_count": 14,
     "metadata": {},
     "output_type": "execute_result"
    },
    {
     "data": {
      "image/png": "[encoded data removed]",
      "text/plain": [
       "<Figure size 432x288 with 1 Axes>"
      ]
     },
     "metadata": {
      "needs_background": "light"
     },
     "output_type": "display_data"
    }
   ],
   "source": [
    "plt.figure()\n",
    "plt.plot(y_unseen)\n",
    "plt.plot(y_pred_unseen)\n",
    "plt.title('Prediction vs Real Stock Price')\n",
    "plt.ylabel('Price')\n",
    "plt.xlabel('Days')\n",
    "plt.legend(['Prediction', 'Real'], loc='upper left')"
   ]
  },
  {
   "cell_type": "code",
   "execution_count": 15,
   "metadata": {},
   "outputs": [
    {
     "data": {
      "text/plain": [
       "0.8266224908890105"
      ]
     },
     "execution_count": 15,
     "metadata": {},
     "output_type": "execute_result"
    }
   ],
   "source": [
    "r2_score(y_unseen,y_pred_unseen)"
   ]
  },
  {
   "cell_type": "code",
   "execution_count": 16,
   "metadata": {},
   "outputs": [
    {
     "data": {
      "text/plain": [
       "1.6859250195419277"
      ]
     },
     "execution_count": 16,
     "metadata": {},
     "output_type": "execute_result"
    }
   ],
   "source": [
    "mean_squared_error(y_unseen,y_pred_unseen)"
   ]
  },
  {
   "cell_type": "code",
   "execution_count": 17,
   "metadata": {},
   "outputs": [],
   "source": [
    "# model.save('HSBC-CNN&LSTM')"
   ]
  },
  {
   "cell_type": "code",
   "execution_count": null,
   "metadata": {},
   "outputs": [],
   "source": []
  }
 ],
 "metadata": {
  "kernelspec": {
   "display_name": "Python 3",
   "language": "python",
   "name": "python3"
  },
  "language_info": {
   "codemirror_mode": {
    "name": "ipython",
    "version": 3
   },
   "file_extension": ".py",
   "mimetype": "text/x-python",
   "name": "python",
   "nbconvert_exporter": "python",
   "pygments_lexer": "ipython3",
   "version": "3.8.8"
  }
 },
 "nbformat": 4,
 "nbformat_minor": 1
}
