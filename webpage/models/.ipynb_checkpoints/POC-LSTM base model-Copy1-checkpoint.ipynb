{
 "cells": [
  {
   "cell_type": "code",
   "execution_count": 1,
   "id": "383ba3d4",
   "metadata": {},
   "outputs": [],
   "source": [
    "import yfinance as yf\n",
    "import tensorflow.keras.backend as K\n",
    "import pandas as pd\n",
    "import numpy as np\n",
    "import matplotlib.pyplot as plt\n",
    "from sklearn.preprocessing import MinMaxScaler ,StandardScaler\n",
    "from sklearn.model_selection import train_test_split\n",
    "from sklearn.metrics import classification_report,accuracy_score, mean_squared_error,mean_absolute_percentage_error,r2_score\n",
    "import tensorflow as tf\n",
    "from tensorflow import keras\n",
    "from keras.layers import LSTM,Dropout, BatchNormalization, Dense\n",
    "from keras.callbacks import ModelCheckpoint, EarlyStopping, ReduceLROnPlateau, CSVLogger\n",
    "from keras.models import Sequential\n",
    "from keras.optimizer_v2.adam import Adam\n",
    "from keras.optimizer_v2.rmsprop import RMSprop\n",
    "import talib"
   ]
  },
  {
   "cell_type": "code",
   "execution_count": 2,
   "id": "9bbbd3ff",
   "metadata": {},
   "outputs": [
    {
     "name": "stdout",
     "output_type": "stream",
     "text": [
      "[*********************100%***********************]  1 of 1 completed\n"
     ]
    },
    {
     "data": {
      "text/html": [
       "<div>\n",
       "<style scoped>\n",
       "    .dataframe tbody tr th:only-of-type {\n",
       "        vertical-align: middle;\n",
       "    }\n",
       "\n",
       "    .dataframe tbody tr th {\n",
       "        vertical-align: top;\n",
       "    }\n",
       "\n",
       "    .dataframe thead th {\n",
       "        text-align: right;\n",
       "    }\n",
       "</style>\n",
       "<table border=\"1\" class=\"dataframe\">\n",
       "  <thead>\n",
       "    <tr style=\"text-align: right;\">\n",
       "      <th></th>\n",
       "      <th>Open</th>\n",
       "      <th>High</th>\n",
       "      <th>Low</th>\n",
       "      <th>Close</th>\n",
       "      <th>Adj Close</th>\n",
       "      <th>Volume</th>\n",
       "    </tr>\n",
       "    <tr>\n",
       "      <th>Date</th>\n",
       "      <th></th>\n",
       "      <th></th>\n",
       "      <th></th>\n",
       "      <th></th>\n",
       "      <th></th>\n",
       "      <th></th>\n",
       "    </tr>\n",
       "  </thead>\n",
       "  <tbody>\n",
       "    <tr>\n",
       "      <th>2017-01-03</th>\n",
       "      <td>62.250000</td>\n",
       "      <td>63.150002</td>\n",
       "      <td>62.200001</td>\n",
       "      <td>63.000000</td>\n",
       "      <td>50.812313</td>\n",
       "      <td>11331063</td>\n",
       "    </tr>\n",
       "    <tr>\n",
       "      <th>2017-01-04</th>\n",
       "      <td>63.450001</td>\n",
       "      <td>63.450001</td>\n",
       "      <td>62.950001</td>\n",
       "      <td>63.450001</td>\n",
       "      <td>51.175259</td>\n",
       "      <td>13426502</td>\n",
       "    </tr>\n",
       "    <tr>\n",
       "      <th>2017-01-05</th>\n",
       "      <td>63.799999</td>\n",
       "      <td>63.950001</td>\n",
       "      <td>63.549999</td>\n",
       "      <td>63.900002</td>\n",
       "      <td>51.538204</td>\n",
       "      <td>12484357</td>\n",
       "    </tr>\n",
       "    <tr>\n",
       "      <th>2017-01-06</th>\n",
       "      <td>63.900002</td>\n",
       "      <td>63.900002</td>\n",
       "      <td>63.349998</td>\n",
       "      <td>63.750000</td>\n",
       "      <td>51.417225</td>\n",
       "      <td>14321890</td>\n",
       "    </tr>\n",
       "    <tr>\n",
       "      <th>2017-01-09</th>\n",
       "      <td>63.599998</td>\n",
       "      <td>63.849998</td>\n",
       "      <td>63.299999</td>\n",
       "      <td>63.700001</td>\n",
       "      <td>51.376896</td>\n",
       "      <td>10499807</td>\n",
       "    </tr>\n",
       "  </tbody>\n",
       "</table>\n",
       "</div>"
      ],
      "text/plain": [
       "                 Open       High        Low      Close  Adj Close    Volume\n",
       "Date                                                                       \n",
       "2017-01-03  62.250000  63.150002  62.200001  63.000000  50.812313  11331063\n",
       "2017-01-04  63.450001  63.450001  62.950001  63.450001  51.175259  13426502\n",
       "2017-01-05  63.799999  63.950001  63.549999  63.900002  51.538204  12484357\n",
       "2017-01-06  63.900002  63.900002  63.349998  63.750000  51.417225  14321890\n",
       "2017-01-09  63.599998  63.849998  63.299999  63.700001  51.376896  10499807"
      ]
     },
     "execution_count": 2,
     "metadata": {},
     "output_type": "execute_result"
    }
   ],
   "source": [
    "data = yf.download('0005.hk',\"2017-01-01\",\"2021-12-30\")\n",
    "data.head()"
   ]
  },
  {
   "cell_type": "code",
   "execution_count": 3,
   "id": "a6fa5fbd",
   "metadata": {},
   "outputs": [],
   "source": [
    "data['Prediction'] = data[['Close']].shift(-1)"
   ]
  },
  {
   "cell_type": "code",
   "execution_count": 4,
   "id": "df37e2a1",
   "metadata": {},
   "outputs": [
    {
     "name": "stderr",
     "output_type": "stream",
     "text": [
      "/var/folders/8h/w0jn89bj2w5g85gj4ck7w0t00000gn/T/ipykernel_57503/1171071833.py:2: FutureWarning: In a future version of pandas all arguments of DataFrame.drop except for the argument 'labels' will be keyword-only\n",
      "  data.drop('Adj Close',1,inplace=True)\n"
     ]
    },
    {
     "data": {
      "text/plain": [
       "Open          0\n",
       "High          0\n",
       "Low           0\n",
       "Close         0\n",
       "Volume        0\n",
       "Prediction    0\n",
       "dtype: int64"
      ]
     },
     "execution_count": 4,
     "metadata": {},
     "output_type": "execute_result"
    }
   ],
   "source": [
    "data.dropna(inplace=True)\n",
    "data.drop('Adj Close',1,inplace=True)\n",
    "data.isnull().sum()"
   ]
  },
  {
   "cell_type": "code",
   "execution_count": 5,
   "id": "a15ef8d6",
   "metadata": {},
   "outputs": [
    {
     "data": {
      "text/html": [
       "<div>\n",
       "<style scoped>\n",
       "    .dataframe tbody tr th:only-of-type {\n",
       "        vertical-align: middle;\n",
       "    }\n",
       "\n",
       "    .dataframe tbody tr th {\n",
       "        vertical-align: top;\n",
       "    }\n",
       "\n",
       "    .dataframe thead th {\n",
       "        text-align: right;\n",
       "    }\n",
       "</style>\n",
       "<table border=\"1\" class=\"dataframe\">\n",
       "  <thead>\n",
       "    <tr style=\"text-align: right;\">\n",
       "      <th></th>\n",
       "      <th>Open</th>\n",
       "      <th>High</th>\n",
       "      <th>Low</th>\n",
       "      <th>Close</th>\n",
       "      <th>Volume</th>\n",
       "      <th>Prediction</th>\n",
       "    </tr>\n",
       "    <tr>\n",
       "      <th>Date</th>\n",
       "      <th></th>\n",
       "      <th></th>\n",
       "      <th></th>\n",
       "      <th></th>\n",
       "      <th></th>\n",
       "      <th></th>\n",
       "    </tr>\n",
       "  </thead>\n",
       "  <tbody>\n",
       "    <tr>\n",
       "      <th>2017-01-03</th>\n",
       "      <td>62.250000</td>\n",
       "      <td>63.150002</td>\n",
       "      <td>62.200001</td>\n",
       "      <td>63.000000</td>\n",
       "      <td>11331063</td>\n",
       "      <td>63.450001</td>\n",
       "    </tr>\n",
       "    <tr>\n",
       "      <th>2017-01-04</th>\n",
       "      <td>63.450001</td>\n",
       "      <td>63.450001</td>\n",
       "      <td>62.950001</td>\n",
       "      <td>63.450001</td>\n",
       "      <td>13426502</td>\n",
       "      <td>63.900002</td>\n",
       "    </tr>\n",
       "    <tr>\n",
       "      <th>2017-01-05</th>\n",
       "      <td>63.799999</td>\n",
       "      <td>63.950001</td>\n",
       "      <td>63.549999</td>\n",
       "      <td>63.900002</td>\n",
       "      <td>12484357</td>\n",
       "      <td>63.750000</td>\n",
       "    </tr>\n",
       "    <tr>\n",
       "      <th>2017-01-06</th>\n",
       "      <td>63.900002</td>\n",
       "      <td>63.900002</td>\n",
       "      <td>63.349998</td>\n",
       "      <td>63.750000</td>\n",
       "      <td>14321890</td>\n",
       "      <td>63.700001</td>\n",
       "    </tr>\n",
       "    <tr>\n",
       "      <th>2017-01-09</th>\n",
       "      <td>63.599998</td>\n",
       "      <td>63.849998</td>\n",
       "      <td>63.299999</td>\n",
       "      <td>63.700001</td>\n",
       "      <td>10499807</td>\n",
       "      <td>63.349998</td>\n",
       "    </tr>\n",
       "  </tbody>\n",
       "</table>\n",
       "</div>"
      ],
      "text/plain": [
       "                 Open       High        Low      Close    Volume  Prediction\n",
       "Date                                                                        \n",
       "2017-01-03  62.250000  63.150002  62.200001  63.000000  11331063   63.450001\n",
       "2017-01-04  63.450001  63.450001  62.950001  63.450001  13426502   63.900002\n",
       "2017-01-05  63.799999  63.950001  63.549999  63.900002  12484357   63.750000\n",
       "2017-01-06  63.900002  63.900002  63.349998  63.750000  14321890   63.700001\n",
       "2017-01-09  63.599998  63.849998  63.299999  63.700001  10499807   63.349998"
      ]
     },
     "execution_count": 5,
     "metadata": {},
     "output_type": "execute_result"
    }
   ],
   "source": [
    "data.head()"
   ]
  },
  {
   "cell_type": "code",
   "execution_count": 6,
   "id": "abd2a898",
   "metadata": {
    "scrolled": true
   },
   "outputs": [
    {
     "name": "stdout",
     "output_type": "stream",
     "text": [
      "(1193, 10, 5)\n",
      "(1193, 1)\n"
     ]
    },
    {
     "name": "stderr",
     "output_type": "stream",
     "text": [
      "/var/folders/8h/w0jn89bj2w5g85gj4ck7w0t00000gn/T/ipykernel_57503/3360622532.py:2: FutureWarning: In a future version of pandas all arguments of DataFrame.drop except for the argument 'labels' will be keyword-only\n",
      "  train=data.drop(['Prediction'],1).dropna().values[:-15]\n"
     ]
    }
   ],
   "source": [
    "data_price=data[\"Prediction\"].values.reshape(-1,1)[:-15]\n",
    "train=data.drop(['Prediction'],1).dropna().values[:-15]\n",
    "sc_x = MinMaxScaler(feature_range=(0,1))\n",
    "sc_y = MinMaxScaler(feature_range=(0,1))\n",
    "train=sc_x.fit_transform(train)\n",
    "data_price = sc_y.fit_transform(data_price)\n",
    "def processData(data,data_price,lb):\n",
    "    X,Y = [],[]\n",
    "    for i in range(lb,len(data)-lb-1):\n",
    "        X.append(data[i-(lb):i])\n",
    "        Y.append(data_price[(i)])\n",
    "    return np.array(X),np.array(Y)\n",
    "\n",
    "lb=10\n",
    "X,y = processData(train,data_price,lb)\n",
    "data_x=X[:-15]\n",
    "data_y=y[:-15]\n",
    "X_train,X_test = data_x[:int(data_x.shape[0]*0.90)],data_x[int(data_x.shape[0]*0.90):]\n",
    "y_train,y_test = data_y[:int(data_y.shape[0]*0.90)],data_y[int(data_y.shape[0]*0.90):]\n",
    "# print(type(X_train))\n",
    "print(X.shape)\n",
    "print(y.shape)"
   ]
  },
  {
   "cell_type": "code",
   "execution_count": 7,
   "id": "8220325f",
   "metadata": {},
   "outputs": [
    {
     "name": "stdout",
     "output_type": "stream",
     "text": [
      "(1060, 10, 5) (1060, 1) (118, 10, 5) (118, 1)\n"
     ]
    }
   ],
   "source": [
    "print(X_train.shape,y_train.shape,X_test.shape,y_test.shape)"
   ]
  },
  {
   "cell_type": "code",
   "execution_count": 8,
   "id": "cfb1fffe",
   "metadata": {},
   "outputs": [
    {
     "name": "stdout",
     "output_type": "stream",
     "text": [
      "Metal device set to: Apple M1 Pro\n"
     ]
    },
    {
     "name": "stderr",
     "output_type": "stream",
     "text": [
      "2021-12-26 16:52:26.305872: I tensorflow/core/common_runtime/pluggable_device/pluggable_device_factory.cc:305] Could not identify NUMA node of platform GPU ID 0, defaulting to 0. Your kernel may not have been built with NUMA support.\n",
      "2021-12-26 16:52:26.306041: I tensorflow/core/common_runtime/pluggable_device/pluggable_device_factory.cc:271] Created TensorFlow device (/job:localhost/replica:0/task:0/device:GPU:0 with 0 MB memory) -> physical PluggableDevice (device: 0, name: METAL, pci bus id: <undefined>)\n"
     ]
    }
   ],
   "source": [
    "# Build the LSTM model\n",
    "model = Sequential()\n",
    "model.add(LSTM(5, input_shape= (X_train.shape[1], X_train.shape[2])))\n",
    "model.add(Dense(1))\n",
    "model.compile(\n",
    "  loss=\"mean_squared_error\",\n",
    "  optimizer='Adam'\n",
    ")"
   ]
  },
  {
   "cell_type": "code",
   "execution_count": 9,
   "id": "ee26abf8",
   "metadata": {},
   "outputs": [
    {
     "name": "stdout",
     "output_type": "stream",
     "text": [
      "Model: \"sequential\"\n",
      "_________________________________________________________________\n",
      " Layer (type)                Output Shape              Param #   \n",
      "=================================================================\n",
      " lstm (LSTM)                 (None, 5)                 220       \n",
      "                                                                 \n",
      " dense (Dense)               (None, 1)                 6         \n",
      "                                                                 \n",
      "=================================================================\n",
      "Total params: 226\n",
      "Trainable params: 226\n",
      "Non-trainable params: 0\n",
      "_________________________________________________________________\n"
     ]
    }
   ],
   "source": [
    "model.summary() "
   ]
  },
  {
   "cell_type": "code",
   "execution_count": 10,
   "id": "dd03b389",
   "metadata": {
    "scrolled": true
   },
   "outputs": [
    {
     "name": "stderr",
     "output_type": "stream",
     "text": [
      "2021-12-26 16:52:26.491657: W tensorflow/core/platform/profile_utils/cpu_utils.cc:128] Failed to get CPU frequency: 0 Hz\n"
     ]
    },
    {
     "name": "stdout",
     "output_type": "stream",
     "text": [
      "Epoch 1/100\n"
     ]
    },
    {
     "name": "stderr",
     "output_type": "stream",
     "text": [
      "2021-12-26 16:52:26.831578: I tensorflow/core/grappler/optimizers/custom_graph_optimizer_registry.cc:112] Plugin optimizer for device_type GPU is enabled.\n",
      "2021-12-26 16:52:26.986725: I tensorflow/core/grappler/optimizers/custom_graph_optimizer_registry.cc:112] Plugin optimizer for device_type GPU is enabled.\n"
     ]
    },
    {
     "name": "stdout",
     "output_type": "stream",
     "text": [
      " 4/53 [=>............................] - ETA: 0s - loss: 0.3888 "
     ]
    },
    {
     "name": "stderr",
     "output_type": "stream",
     "text": [
      "2021-12-26 16:52:27.053298: I tensorflow/core/grappler/optimizers/custom_graph_optimizer_registry.cc:112] Plugin optimizer for device_type GPU is enabled.\n"
     ]
    },
    {
     "name": "stdout",
     "output_type": "stream",
     "text": [
      "53/53 [==============================] - 2s 18ms/step - loss: 0.2416 - val_loss: 0.0047\n",
      "Epoch 2/100\n",
      " 1/53 [..............................] - ETA: 0s - loss: 0.0921"
     ]
    },
    {
     "name": "stderr",
     "output_type": "stream",
     "text": [
      "2021-12-26 16:52:27.965494: I tensorflow/core/grappler/optimizers/custom_graph_optimizer_registry.cc:112] Plugin optimizer for device_type GPU is enabled.\n",
      "2021-12-26 16:52:28.034259: I tensorflow/core/grappler/optimizers/custom_graph_optimizer_registry.cc:112] Plugin optimizer for device_type GPU is enabled.\n"
     ]
    },
    {
     "name": "stdout",
     "output_type": "stream",
     "text": [
      "53/53 [==============================] - 1s 13ms/step - loss: 0.0536 - val_loss: 0.0064\n",
      "Epoch 3/100\n",
      "53/53 [==============================] - 1s 13ms/step - loss: 0.0110 - val_loss: 0.0054\n",
      "Epoch 4/100\n",
      "53/53 [==============================] - 1s 12ms/step - loss: 0.0072 - val_loss: 0.0028\n",
      "Epoch 5/100\n",
      "53/53 [==============================] - 1s 13ms/step - loss: 0.0052 - val_loss: 0.0014\n",
      "Epoch 6/100\n",
      "53/53 [==============================] - 1s 12ms/step - loss: 0.0036 - val_loss: 6.7961e-04\n",
      "Epoch 7/100\n",
      "53/53 [==============================] - 1s 13ms/step - loss: 0.0026 - val_loss: 4.5083e-04\n",
      "Epoch 8/100\n",
      "53/53 [==============================] - 1s 13ms/step - loss: 0.0020 - val_loss: 4.5174e-04\n",
      "Epoch 9/100\n",
      "53/53 [==============================] - 1s 12ms/step - loss: 0.0016 - val_loss: 5.2137e-04\n",
      "Epoch 10/100\n",
      "53/53 [==============================] - 1s 12ms/step - loss: 0.0013 - val_loss: 5.8456e-04\n",
      "Epoch 11/100\n",
      "53/53 [==============================] - 1s 12ms/step - loss: 0.0012 - val_loss: 6.2339e-04\n",
      "Epoch 12/100\n",
      "53/53 [==============================] - 1s 13ms/step - loss: 0.0011 - val_loss: 6.4298e-04\n",
      "Epoch 13/100\n",
      "53/53 [==============================] - 1s 13ms/step - loss: 0.0011 - val_loss: 6.5167e-04\n",
      "Epoch 14/100\n",
      "53/53 [==============================] - 1s 12ms/step - loss: 0.0010 - val_loss: 6.5505e-04\n",
      "Epoch 15/100\n",
      "53/53 [==============================] - 2s 44ms/step - loss: 0.0010 - val_loss: 6.5593e-04\n",
      "Epoch 16/100\n",
      "53/53 [==============================] - 1s 14ms/step - loss: 0.0010 - val_loss: 6.5549e-04\n",
      "Epoch 17/100\n",
      "53/53 [==============================] - 1s 12ms/step - loss: 0.0010 - val_loss: 6.5419e-04\n",
      "Epoch 18/100\n",
      "53/53 [==============================] - 1s 12ms/step - loss: 0.0010 - val_loss: 6.5221e-04\n",
      "Epoch 19/100\n",
      "53/53 [==============================] - 1s 12ms/step - loss: 0.0010 - val_loss: 6.4966e-04\n",
      "Epoch 20/100\n",
      "53/53 [==============================] - 1s 12ms/step - loss: 0.0010 - val_loss: 6.4664e-04\n",
      "Epoch 21/100\n",
      "53/53 [==============================] - 1s 12ms/step - loss: 0.0011 - val_loss: 6.4327e-04\n",
      "Epoch 22/100\n",
      "53/53 [==============================] - 1s 15ms/step - loss: 0.0011 - val_loss: 6.3969e-04\n",
      "Epoch 23/100\n",
      "53/53 [==============================] - 1s 18ms/step - loss: 0.0011 - val_loss: 6.3601e-04\n",
      "Epoch 24/100\n",
      "53/53 [==============================] - 1s 14ms/step - loss: 0.0012 - val_loss: 6.3235e-04\n",
      "Epoch 25/100\n",
      "53/53 [==============================] - 1s 13ms/step - loss: 0.0012 - val_loss: 6.2882e-04\n",
      "Epoch 26/100\n",
      "53/53 [==============================] - 1s 12ms/step - loss: 0.0013 - val_loss: 6.2547e-04\n",
      "Epoch 27/100\n",
      "53/53 [==============================] - 1s 12ms/step - loss: 0.0013 - val_loss: 6.2236e-04\n",
      "Epoch 28/100\n",
      "53/53 [==============================] - 1s 13ms/step - loss: 0.0013 - val_loss: 6.1947e-04\n",
      "Epoch 29/100\n",
      "53/53 [==============================] - 1s 12ms/step - loss: 0.0014 - val_loss: 6.1676e-04\n",
      "Epoch 30/100\n",
      "53/53 [==============================] - 1s 13ms/step - loss: 0.0014 - val_loss: 6.1418e-04\n",
      "Epoch 31/100\n",
      "53/53 [==============================] - 1s 12ms/step - loss: 0.0015 - val_loss: 6.1160e-04\n",
      "Epoch 32/100\n",
      "53/53 [==============================] - 1s 14ms/step - loss: 0.0015 - val_loss: 6.0892e-04\n",
      "Epoch 33/100\n",
      "53/53 [==============================] - 1s 14ms/step - loss: 0.0015 - val_loss: 6.0602e-04\n",
      "Epoch 34/100\n",
      "53/53 [==============================] - 1s 23ms/step - loss: 0.0016 - val_loss: 6.0278e-04\n",
      "Epoch 35/100\n",
      "53/53 [==============================] - 1s 15ms/step - loss: 0.0016 - val_loss: 5.9911e-04\n",
      "Epoch 36/100\n",
      "53/53 [==============================] - 1s 12ms/step - loss: 0.0016 - val_loss: 5.9494e-04\n",
      "Epoch 37/100\n",
      "53/53 [==============================] - 1s 12ms/step - loss: 0.0016 - val_loss: 5.9026e-04\n",
      "Epoch 38/100\n",
      "53/53 [==============================] - 1s 12ms/step - loss: 0.0016 - val_loss: 5.8505e-04\n",
      "Epoch 39/100\n",
      "53/53 [==============================] - 1s 12ms/step - loss: 0.0016 - val_loss: 5.7936e-04\n",
      "Epoch 40/100\n",
      "53/53 [==============================] - 1s 12ms/step - loss: 0.0016 - val_loss: 5.7323e-04\n",
      "Epoch 41/100\n",
      "53/53 [==============================] - 1s 12ms/step - loss: 0.0016 - val_loss: 5.6674e-04\n",
      "Epoch 42/100\n",
      "53/53 [==============================] - 1s 12ms/step - loss: 0.0016 - val_loss: 5.5995e-04\n",
      "Epoch 43/100\n",
      "53/53 [==============================] - 1s 12ms/step - loss: 0.0015 - val_loss: 5.5296e-04\n",
      "Epoch 44/100\n",
      "53/53 [==============================] - 1s 13ms/step - loss: 0.0015 - val_loss: 5.4584e-04\n",
      "Epoch 45/100\n",
      "53/53 [==============================] - 1s 12ms/step - loss: 0.0015 - val_loss: 5.3866e-04\n",
      "Epoch 46/100\n",
      "53/53 [==============================] - 1s 12ms/step - loss: 0.0015 - val_loss: 5.3147e-04\n",
      "Epoch 47/100\n",
      "53/53 [==============================] - 1s 12ms/step - loss: 0.0015 - val_loss: 5.2433e-04\n",
      "Epoch 48/100\n",
      "53/53 [==============================] - 1s 12ms/step - loss: 0.0014 - val_loss: 5.1729e-04\n",
      "Epoch 49/100\n",
      "53/53 [==============================] - 1s 12ms/step - loss: 0.0014 - val_loss: 5.1038e-04\n",
      "Epoch 50/100\n",
      "53/53 [==============================] - 1s 12ms/step - loss: 0.0014 - val_loss: 5.0362e-04\n",
      "Epoch 51/100\n",
      "53/53 [==============================] - 1s 12ms/step - loss: 0.0014 - val_loss: 4.9703e-04\n",
      "Epoch 52/100\n",
      "53/53 [==============================] - 1s 12ms/step - loss: 0.0014 - val_loss: 4.9063e-04\n",
      "Epoch 53/100\n",
      "53/53 [==============================] - 1s 12ms/step - loss: 0.0014 - val_loss: 4.8442e-04\n",
      "Epoch 54/100\n",
      "53/53 [==============================] - 1s 12ms/step - loss: 0.0014 - val_loss: 4.7842e-04\n",
      "Epoch 55/100\n",
      "53/53 [==============================] - 1s 12ms/step - loss: 0.0013 - val_loss: 4.7261e-04\n",
      "Epoch 56/100\n",
      "53/53 [==============================] - 1s 13ms/step - loss: 0.0013 - val_loss: 4.6701e-04\n",
      "Epoch 57/100\n",
      "53/53 [==============================] - 1s 12ms/step - loss: 0.0013 - val_loss: 4.6160e-04\n",
      "Epoch 58/100\n",
      "53/53 [==============================] - 1s 12ms/step - loss: 0.0013 - val_loss: 4.5639e-04\n",
      "Epoch 59/100\n",
      "53/53 [==============================] - 1s 13ms/step - loss: 0.0013 - val_loss: 4.5137e-04\n",
      "Epoch 60/100\n",
      "53/53 [==============================] - 1s 12ms/step - loss: 0.0013 - val_loss: 4.4653e-04\n",
      "Epoch 61/100\n",
      "53/53 [==============================] - 1s 11ms/step - loss: 0.0013 - val_loss: 4.4186e-04\n",
      "Epoch 62/100\n",
      "53/53 [==============================] - 1s 12ms/step - loss: 0.0013 - val_loss: 4.3736e-04\n",
      "Epoch 63/100\n",
      "53/53 [==============================] - 1s 12ms/step - loss: 0.0013 - val_loss: 4.3302e-04\n",
      "Epoch 64/100\n",
      "53/53 [==============================] - 1s 15ms/step - loss: 0.0013 - val_loss: 4.2884e-04\n",
      "Epoch 65/100\n",
      "53/53 [==============================] - 1s 16ms/step - loss: 0.0013 - val_loss: 4.2480e-04\n",
      "Epoch 66/100\n",
      "53/53 [==============================] - 1s 18ms/step - loss: 0.0013 - val_loss: 4.2090e-04\n",
      "Epoch 67/100\n",
      "53/53 [==============================] - 1s 15ms/step - loss: 0.0012 - val_loss: 4.1713e-04\n",
      "Epoch 68/100\n",
      "53/53 [==============================] - 1s 14ms/step - loss: 0.0012 - val_loss: 4.1348e-04\n",
      "Epoch 69/100\n",
      "53/53 [==============================] - 1s 17ms/step - loss: 0.0012 - val_loss: 4.0996e-04\n",
      "Epoch 70/100\n",
      "53/53 [==============================] - 1s 16ms/step - loss: 0.0012 - val_loss: 4.0654e-04\n",
      "Epoch 71/100\n",
      "53/53 [==============================] - 3s 58ms/step - loss: 0.0012 - val_loss: 4.0323e-04\n",
      "Epoch 72/100\n",
      "53/53 [==============================] - 2s 43ms/step - loss: 0.0012 - val_loss: 4.0001e-04\n",
      "Epoch 73/100\n",
      "53/53 [==============================] - 2s 31ms/step - loss: 0.0012 - val_loss: 3.9689e-04\n",
      "Epoch 74/100\n",
      "53/53 [==============================] - 1s 26ms/step - loss: 0.0012 - val_loss: 3.9386e-04\n",
      "Epoch 75/100\n",
      "53/53 [==============================] - 1s 27ms/step - loss: 0.0012 - val_loss: 3.9091e-04\n",
      "Epoch 76/100\n",
      "53/53 [==============================] - 1s 24ms/step - loss: 0.0012 - val_loss: 3.8805e-04\n",
      "Epoch 77/100\n",
      "53/53 [==============================] - 2s 46ms/step - loss: 0.0012 - val_loss: 3.8525e-04\n",
      "Epoch 78/100\n",
      "53/53 [==============================] - 2s 46ms/step - loss: 0.0012 - val_loss: 3.8253e-04\n",
      "Epoch 79/100\n",
      "53/53 [==============================] - 2s 37ms/step - loss: 0.0012 - val_loss: 3.7987e-04\n",
      "Epoch 80/100\n"
     ]
    },
    {
     "name": "stdout",
     "output_type": "stream",
     "text": [
      "53/53 [==============================] - 2s 34ms/step - loss: 0.0012 - val_loss: 3.7728e-04\n",
      "Epoch 81/100\n",
      "53/53 [==============================] - 1s 21ms/step - loss: 0.0012 - val_loss: 3.7475e-04\n",
      "Epoch 82/100\n",
      "53/53 [==============================] - 1s 14ms/step - loss: 0.0012 - val_loss: 3.7227e-04\n",
      "Epoch 83/100\n",
      "53/53 [==============================] - 1s 13ms/step - loss: 0.0012 - val_loss: 3.6985e-04\n",
      "Epoch 84/100\n",
      "53/53 [==============================] - 1s 13ms/step - loss: 0.0012 - val_loss: 3.6749e-04\n",
      "Epoch 85/100\n",
      "53/53 [==============================] - 1s 13ms/step - loss: 0.0012 - val_loss: 3.6518e-04\n",
      "Epoch 86/100\n",
      "53/53 [==============================] - 1s 14ms/step - loss: 0.0012 - val_loss: 3.6291e-04\n",
      "Epoch 87/100\n",
      "53/53 [==============================] - 1s 13ms/step - loss: 0.0012 - val_loss: 3.6070e-04\n",
      "Epoch 88/100\n",
      "53/53 [==============================] - 1s 14ms/step - loss: 0.0012 - val_loss: 3.5853e-04\n",
      "Epoch 89/100\n",
      "53/53 [==============================] - 1s 13ms/step - loss: 0.0012 - val_loss: 3.5640e-04\n",
      "Epoch 90/100\n",
      "53/53 [==============================] - 1s 13ms/step - loss: 0.0011 - val_loss: 3.5432e-04\n",
      "Epoch 91/100\n",
      "53/53 [==============================] - 1s 13ms/step - loss: 0.0011 - val_loss: 3.5228e-04\n",
      "Epoch 92/100\n",
      "53/53 [==============================] - 1s 13ms/step - loss: 0.0011 - val_loss: 3.5029e-04\n",
      "Epoch 93/100\n",
      "53/53 [==============================] - 1s 12ms/step - loss: 0.0011 - val_loss: 3.4833e-04\n",
      "Epoch 94/100\n",
      "53/53 [==============================] - 1s 13ms/step - loss: 0.0011 - val_loss: 3.4641e-04\n",
      "Epoch 95/100\n",
      "53/53 [==============================] - 1s 12ms/step - loss: 0.0011 - val_loss: 3.4454e-04\n",
      "Epoch 96/100\n",
      "53/53 [==============================] - 1s 13ms/step - loss: 0.0011 - val_loss: 3.4270e-04\n",
      "Epoch 97/100\n",
      "53/53 [==============================] - 1s 15ms/step - loss: 0.0011 - val_loss: 3.4090e-04\n",
      "Epoch 98/100\n",
      "53/53 [==============================] - 1s 14ms/step - loss: 0.0011 - val_loss: 3.3913e-04\n",
      "Epoch 99/100\n",
      "53/53 [==============================] - 1s 15ms/step - loss: 0.0011 - val_loss: 3.3741e-04\n",
      "Epoch 100/100\n",
      "53/53 [==============================] - 1s 13ms/step - loss: 0.0011 - val_loss: 3.3572e-04\n"
     ]
    }
   ],
   "source": [
    "#Fit model with history to check for overfitting\n",
    "# es = EarlyStopping(monitor='val_loss', mode='min', verbose=1,patience=40, min_delta=0.0001)\n",
    "history = model.fit(X_train,y_train,epochs=300,batch_size=20,validation_data=(X_test,y_test),shuffle=False)"
   ]
  },
  {
   "cell_type": "code",
   "execution_count": 11,
   "id": "d10f4a7c",
   "metadata": {},
   "outputs": [
    {
     "name": "stderr",
     "output_type": "stream",
     "text": [
      "2021-12-26 16:53:51.943378: I tensorflow/core/grappler/optimizers/custom_graph_optimizer_registry.cc:112] Plugin optimizer for device_type GPU is enabled.\n",
      "2021-12-26 16:53:52.015873: I tensorflow/core/grappler/optimizers/custom_graph_optimizer_registry.cc:112] Plugin optimizer for device_type GPU is enabled.\n"
     ]
    }
   ],
   "source": [
    "y_pred = model.predict(X_test)"
   ]
  },
  {
   "cell_type": "code",
   "execution_count": 12,
   "id": "d55acd90",
   "metadata": {},
   "outputs": [
    {
     "data": {
      "text/plain": [
       "(118, 1)"
      ]
     },
     "execution_count": 12,
     "metadata": {},
     "output_type": "execute_result"
    }
   ],
   "source": [
    "y_pred.shape"
   ]
  },
  {
   "cell_type": "code",
   "execution_count": 13,
   "id": "29fade0a",
   "metadata": {},
   "outputs": [
    {
     "data": {
      "text/plain": [
       "<matplotlib.legend.Legend at 0x16ea54be0>"
      ]
     },
     "execution_count": 13,
     "metadata": {},
     "output_type": "execute_result"
    },
    {
     "data": {
      "image/png": "[encoded data removed]",
      "text/plain": [
       "<Figure size 432x288 with 1 Axes>"
      ]
     },
     "metadata": {
      "needs_background": "light"
     },
     "output_type": "display_data"
    }
   ],
   "source": [
    "plt.plot(history.history['loss'], label='train')\n",
    "plt.plot(history.history['val_loss'], label='test')\n",
    "plt.legend()"
   ]
  },
  {
   "cell_type": "code",
   "execution_count": 14,
   "id": "cfb78388",
   "metadata": {},
   "outputs": [
    {
     "data": {
      "image/png": "[encoded data removed]",
      "text/plain": [
       "<Figure size 432x288 with 1 Axes>"
      ]
     },
     "metadata": {
      "needs_background": "light"
     },
     "output_type": "display_data"
    }
   ],
   "source": [
    "plt.plot(np.arange(0, len(y_train)), y_train, 'g', label=\"history\")\n",
    "plt.plot(np.arange(len(y_train), len(y_train) + len(y_test)), y_test, marker='.', label=\"true\")\n",
    "plt.plot(np.arange(len(y_train), len(y_train) + len(y_test)), y_pred, 'r', label=\"prediction\")\n",
    "plt.ylabel('Value')\n",
    "plt.xlabel('Time Step')\n",
    "plt.legend()\n",
    "plt.show();"
   ]
  },
  {
   "cell_type": "code",
   "execution_count": 15,
   "id": "08cdbdb7",
   "metadata": {},
   "outputs": [],
   "source": [
    "# plot_x=data[int(X.shape[0]*0.90):]\n",
    "# plot_x[\"Prediction\"]=y_test\n",
    "y_test=sc_y.inverse_transform(y_test)\n",
    "y_pred=sc_y.inverse_transform(y_pred)"
   ]
  },
  {
   "cell_type": "code",
   "execution_count": 16,
   "id": "593e3eea",
   "metadata": {},
   "outputs": [
    {
     "data": {
      "image/png": "[encoded data removed]",
      "text/plain": [
       "<Figure size 432x288 with 1 Axes>"
      ]
     },
     "metadata": {
      "needs_background": "light"
     },
     "output_type": "display_data"
    }
   ],
   "source": [
    "plt.plot(y_test, marker='.', label=\"true\")\n",
    "plt.plot(y_pred, 'r',marker='*', label=\"prediction\")\n",
    "plt.ylabel('Value')\n",
    "plt.xlabel('Time Step')\n",
    "plt.legend()\n",
    "plt.show();"
   ]
  },
  {
   "cell_type": "code",
   "execution_count": 17,
   "id": "e8464821",
   "metadata": {},
   "outputs": [
    {
     "data": {
      "text/plain": [
       "1.829304238915289"
      ]
     },
     "execution_count": 17,
     "metadata": {},
     "output_type": "execute_result"
    }
   ],
   "source": [
    "mean_absolute_percentage_error(y_test,y_pred)*100"
   ]
  },
  {
   "cell_type": "code",
   "execution_count": 18,
   "id": "875acfab",
   "metadata": {},
   "outputs": [
    {
     "data": {
      "text/plain": [
       "1.1157612832289256"
      ]
     },
     "execution_count": 18,
     "metadata": {},
     "output_type": "execute_result"
    }
   ],
   "source": [
    "mean_squared_error(y_test,y_pred)"
   ]
  },
  {
   "cell_type": "code",
   "execution_count": 19,
   "id": "a86af9bf",
   "metadata": {},
   "outputs": [
    {
     "data": {
      "text/plain": [
       "0.8760821064437908"
      ]
     },
     "execution_count": 19,
     "metadata": {},
     "output_type": "execute_result"
    }
   ],
   "source": [
    "r2_score(y_test,y_pred)"
   ]
  },
  {
   "cell_type": "markdown",
   "id": "1971c539",
   "metadata": {},
   "source": [
    "# Unseen data"
   ]
  },
  {
   "cell_type": "code",
   "execution_count": 20,
   "id": "ebde0f4a",
   "metadata": {
    "scrolled": true,
    "tags": []
   },
   "outputs": [
    {
     "name": "stdout",
     "output_type": "stream",
     "text": [
      "[[47.15000153]\n",
      " [46.95000076]\n",
      " [47.04999924]\n",
      " [46.84999847]\n",
      " [47.15000153]\n",
      " [45.45000076]\n",
      " [45.70000076]\n",
      " [45.54999924]\n",
      " [45.29999924]\n",
      " [45.45000076]\n",
      " [45.29999924]\n",
      " [45.20000076]\n",
      " [45.79999924]\n",
      " [46.        ]\n",
      " [46.04999924]]\n"
     ]
    }
   ],
   "source": [
    "forecast_data = X[-15:]\n",
    "forecast = y[-15:]\n",
    "forecast=sc_y.inverse_transform(forecast) \n",
    "print(forecast)"
   ]
  },
  {
   "cell_type": "code",
   "execution_count": 21,
   "id": "a1d66f2a",
   "metadata": {
    "scrolled": true,
    "tags": []
   },
   "outputs": [
    {
     "name": "stdout",
     "output_type": "stream",
     "text": [
      "[[46.729984]\n",
      " [46.524925]\n",
      " [46.262363]\n",
      " [45.958595]\n",
      " [46.382652]\n",
      " [46.117054]\n",
      " [46.253265]\n",
      " [45.187775]\n",
      " [45.09444 ]\n",
      " [44.941525]\n",
      " [44.73939 ]\n",
      " [44.65865 ]\n",
      " [44.687187]\n",
      " [44.49873 ]\n",
      " [44.914345]]\n"
     ]
    }
   ],
   "source": [
    "prediction = model.predict(forecast_data).reshape(-1,1)\n",
    "prediction = sc_y.inverse_transform(prediction) \n",
    "print(prediction)"
   ]
  },
  {
   "cell_type": "code",
   "execution_count": 22,
   "id": "897ab169",
   "metadata": {},
   "outputs": [
    {
     "data": {
      "image/png": "[encoded data removed]",
      "text/plain": [
       "<Figure size 432x288 with 1 Axes>"
      ]
     },
     "metadata": {
      "needs_background": "light"
     },
     "output_type": "display_data"
    }
   ],
   "source": [
    "plt.plot(forecast, marker='.', label=\"true\")\n",
    "plt.plot(prediction, 'r',marker='*', label=\"prediction\")\n",
    "plt.ylabel('Value')\n",
    "plt.xlabel('Time Step')\n",
    "plt.legend()\n",
    "plt.show();"
   ]
  },
  {
   "cell_type": "code",
   "execution_count": 23,
   "id": "92b50c7e",
   "metadata": {},
   "outputs": [
    {
     "data": {
      "text/plain": [
       "1.5094095492474926"
      ]
     },
     "execution_count": 23,
     "metadata": {},
     "output_type": "execute_result"
    }
   ],
   "source": [
    "mean_absolute_percentage_error(forecast,prediction)*100"
   ]
  },
  {
   "cell_type": "code",
   "execution_count": 24,
   "id": "63902817",
   "metadata": {},
   "outputs": [
    {
     "data": {
      "text/plain": [
       "-0.13475651330144256"
      ]
     },
     "execution_count": 24,
     "metadata": {},
     "output_type": "execute_result"
    }
   ],
   "source": [
    "r2_score(forecast,prediction)"
   ]
  }
 ],
 "metadata": {
  "kernelspec": {
   "display_name": "Python 3 (ipykernel)",
   "language": "python",
   "name": "python3"
  },
  "language_info": {
   "codemirror_mode": {
    "name": "ipython",
    "version": 3
   },
   "file_extension": ".py",
   "mimetype": "text/x-python",
   "name": "python",
   "nbconvert_exporter": "python",
   "pygments_lexer": "ipython3",
   "version": "3.9.9"
  }
 },
 "nbformat": 4,
 "nbformat_minor": 5
}
