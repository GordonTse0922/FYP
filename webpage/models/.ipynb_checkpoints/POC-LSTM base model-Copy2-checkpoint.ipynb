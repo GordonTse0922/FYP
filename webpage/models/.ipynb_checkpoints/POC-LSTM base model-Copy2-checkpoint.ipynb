{
 "cells": [
  {
   "cell_type": "code",
   "execution_count": 1,
   "id": "9efc3e1f",
   "metadata": {},
   "outputs": [],
   "source": [
    "import yfinance as yf\n",
    "import keras.backend as K\n",
    "import pandas as pd\n",
    "import numpy as np\n",
    "import matplotlib.pyplot as plt\n",
    "from sklearn.preprocessing import MinMaxScaler ,StandardScaler\n",
    "from sklearn.model_selection import train_test_split\n",
    "from sklearn.metrics import classification_report,accuracy_score, mean_squared_error,mean_absolute_percentage_error,r2_score\n",
    "import tensorflow as tf\n",
    "from tensorflow import keras\n",
    "from keras.layers import LSTM,Dropout, BatchNormalization, Dense\n",
    "from keras.callbacks import ModelCheckpoint, EarlyStopping, ReduceLROnPlateau, CSVLogger\n",
    "from keras.models import Sequential\n",
    "from keras.optimizer_v2.adam import Adam\n",
    "from keras.optimizer_v2.rmsprop import RMSprop\n",
    "import talib"
   ]
  },
  {
   "cell_type": "code",
   "execution_count": 2,
   "id": "62b8c4ee",
   "metadata": {},
   "outputs": [
    {
     "name": "stdout",
     "output_type": "stream",
     "text": [
      "[*********************100%***********************]  1 of 1 completed\n"
     ]
    },
    {
     "data": {
      "text/html": [
       "<div>\n",
       "<style scoped>\n",
       "    .dataframe tbody tr th:only-of-type {\n",
       "        vertical-align: middle;\n",
       "    }\n",
       "\n",
       "    .dataframe tbody tr th {\n",
       "        vertical-align: top;\n",
       "    }\n",
       "\n",
       "    .dataframe thead th {\n",
       "        text-align: right;\n",
       "    }\n",
       "</style>\n",
       "<table border=\"1\" class=\"dataframe\">\n",
       "  <thead>\n",
       "    <tr style=\"text-align: right;\">\n",
       "      <th></th>\n",
       "      <th>Open</th>\n",
       "      <th>High</th>\n",
       "      <th>Low</th>\n",
       "      <th>Close</th>\n",
       "      <th>Adj Close</th>\n",
       "      <th>Volume</th>\n",
       "    </tr>\n",
       "    <tr>\n",
       "      <th>Date</th>\n",
       "      <th></th>\n",
       "      <th></th>\n",
       "      <th></th>\n",
       "      <th></th>\n",
       "      <th></th>\n",
       "      <th></th>\n",
       "    </tr>\n",
       "  </thead>\n",
       "  <tbody>\n",
       "    <tr>\n",
       "      <th>2017-09-28</th>\n",
       "      <td>76.400002</td>\n",
       "      <td>77.099998</td>\n",
       "      <td>76.050003</td>\n",
       "      <td>76.199997</td>\n",
       "      <td>64.386993</td>\n",
       "      <td>22520013</td>\n",
       "    </tr>\n",
       "    <tr>\n",
       "      <th>2017-09-29</th>\n",
       "      <td>76.500000</td>\n",
       "      <td>76.900002</td>\n",
       "      <td>76.300003</td>\n",
       "      <td>76.550003</td>\n",
       "      <td>64.682732</td>\n",
       "      <td>16766252</td>\n",
       "    </tr>\n",
       "    <tr>\n",
       "      <th>2017-10-03</th>\n",
       "      <td>76.800003</td>\n",
       "      <td>77.449997</td>\n",
       "      <td>76.699997</td>\n",
       "      <td>77.449997</td>\n",
       "      <td>65.443207</td>\n",
       "      <td>24369212</td>\n",
       "    </tr>\n",
       "    <tr>\n",
       "      <th>2017-10-04</th>\n",
       "      <td>77.500000</td>\n",
       "      <td>77.949997</td>\n",
       "      <td>77.500000</td>\n",
       "      <td>77.849998</td>\n",
       "      <td>65.781189</td>\n",
       "      <td>21197563</td>\n",
       "    </tr>\n",
       "    <tr>\n",
       "      <th>2017-10-06</th>\n",
       "      <td>77.599998</td>\n",
       "      <td>77.800003</td>\n",
       "      <td>77.199997</td>\n",
       "      <td>77.349998</td>\n",
       "      <td>65.358711</td>\n",
       "      <td>23715110</td>\n",
       "    </tr>\n",
       "  </tbody>\n",
       "</table>\n",
       "</div>"
      ],
      "text/plain": [
       "                 Open       High        Low      Close  Adj Close    Volume\n",
       "Date                                                                       \n",
       "2017-09-28  76.400002  77.099998  76.050003  76.199997  64.386993  22520013\n",
       "2017-09-29  76.500000  76.900002  76.300003  76.550003  64.682732  16766252\n",
       "2017-10-03  76.800003  77.449997  76.699997  77.449997  65.443207  24369212\n",
       "2017-10-04  77.500000  77.949997  77.500000  77.849998  65.781189  21197563\n",
       "2017-10-06  77.599998  77.800003  77.199997  77.349998  65.358711  23715110"
      ]
     },
     "execution_count": 2,
     "metadata": {},
     "output_type": "execute_result"
    }
   ],
   "source": [
    "data = yf.download('0005.hk',\"2017-09-28\",\"2021-09-24\")\n",
    "data.head()"
   ]
  },
  {
   "cell_type": "code",
   "execution_count": 3,
   "id": "699c7659",
   "metadata": {},
   "outputs": [
    {
     "data": {
      "text/plain": [
       "Index(['Open', 'High', 'Low', 'Close', 'Adj Close', 'Volume'], dtype='object')"
      ]
     },
     "execution_count": 3,
     "metadata": {},
     "output_type": "execute_result"
    }
   ],
   "source": [
    "data.columns"
   ]
  },
  {
   "cell_type": "code",
   "execution_count": 4,
   "id": "91fc4542",
   "metadata": {},
   "outputs": [
    {
     "data": {
      "text/plain": [
       "Open         0\n",
       "High         0\n",
       "Low          0\n",
       "Close        0\n",
       "Adj Close    0\n",
       "Volume       0\n",
       "dtype: int64"
      ]
     },
     "execution_count": 4,
     "metadata": {},
     "output_type": "execute_result"
    }
   ],
   "source": [
    "data.dropna(inplace=True)\n",
    "data.isnull().sum()"
   ]
  },
  {
   "cell_type": "code",
   "execution_count": 5,
   "id": "1933fe76",
   "metadata": {},
   "outputs": [
    {
     "data": {
      "text/html": [
       "<div>\n",
       "<style scoped>\n",
       "    .dataframe tbody tr th:only-of-type {\n",
       "        vertical-align: middle;\n",
       "    }\n",
       "\n",
       "    .dataframe tbody tr th {\n",
       "        vertical-align: top;\n",
       "    }\n",
       "\n",
       "    .dataframe thead th {\n",
       "        text-align: right;\n",
       "    }\n",
       "</style>\n",
       "<table border=\"1\" class=\"dataframe\">\n",
       "  <thead>\n",
       "    <tr style=\"text-align: right;\">\n",
       "      <th></th>\n",
       "      <th>Open</th>\n",
       "      <th>High</th>\n",
       "      <th>Low</th>\n",
       "      <th>Close</th>\n",
       "      <th>Adj Close</th>\n",
       "      <th>Volume</th>\n",
       "    </tr>\n",
       "    <tr>\n",
       "      <th>Date</th>\n",
       "      <th></th>\n",
       "      <th></th>\n",
       "      <th></th>\n",
       "      <th></th>\n",
       "      <th></th>\n",
       "      <th></th>\n",
       "    </tr>\n",
       "  </thead>\n",
       "  <tbody>\n",
       "    <tr>\n",
       "      <th>2017-09-28</th>\n",
       "      <td>76.400002</td>\n",
       "      <td>77.099998</td>\n",
       "      <td>76.050003</td>\n",
       "      <td>76.199997</td>\n",
       "      <td>64.386993</td>\n",
       "      <td>22520013</td>\n",
       "    </tr>\n",
       "    <tr>\n",
       "      <th>2017-09-29</th>\n",
       "      <td>76.500000</td>\n",
       "      <td>76.900002</td>\n",
       "      <td>76.300003</td>\n",
       "      <td>76.550003</td>\n",
       "      <td>64.682732</td>\n",
       "      <td>16766252</td>\n",
       "    </tr>\n",
       "    <tr>\n",
       "      <th>2017-10-03</th>\n",
       "      <td>76.800003</td>\n",
       "      <td>77.449997</td>\n",
       "      <td>76.699997</td>\n",
       "      <td>77.449997</td>\n",
       "      <td>65.443207</td>\n",
       "      <td>24369212</td>\n",
       "    </tr>\n",
       "    <tr>\n",
       "      <th>2017-10-04</th>\n",
       "      <td>77.500000</td>\n",
       "      <td>77.949997</td>\n",
       "      <td>77.500000</td>\n",
       "      <td>77.849998</td>\n",
       "      <td>65.781189</td>\n",
       "      <td>21197563</td>\n",
       "    </tr>\n",
       "    <tr>\n",
       "      <th>2017-10-06</th>\n",
       "      <td>77.599998</td>\n",
       "      <td>77.800003</td>\n",
       "      <td>77.199997</td>\n",
       "      <td>77.349998</td>\n",
       "      <td>65.358711</td>\n",
       "      <td>23715110</td>\n",
       "    </tr>\n",
       "  </tbody>\n",
       "</table>\n",
       "</div>"
      ],
      "text/plain": [
       "                 Open       High        Low      Close  Adj Close    Volume\n",
       "Date                                                                       \n",
       "2017-09-28  76.400002  77.099998  76.050003  76.199997  64.386993  22520013\n",
       "2017-09-29  76.500000  76.900002  76.300003  76.550003  64.682732  16766252\n",
       "2017-10-03  76.800003  77.449997  76.699997  77.449997  65.443207  24369212\n",
       "2017-10-04  77.500000  77.949997  77.500000  77.849998  65.781189  21197563\n",
       "2017-10-06  77.599998  77.800003  77.199997  77.349998  65.358711  23715110"
      ]
     },
     "execution_count": 5,
     "metadata": {},
     "output_type": "execute_result"
    }
   ],
   "source": [
    "data.head()"
   ]
  },
  {
   "cell_type": "code",
   "execution_count": 6,
   "id": "0c41be28",
   "metadata": {
    "scrolled": true
   },
   "outputs": [
    {
     "name": "stdout",
     "output_type": "stream",
     "text": [
      "(968, 6, 6)\n",
      "(968,)\n"
     ]
    }
   ],
   "source": [
    "data_price=data[\"Close\"]\n",
    "train=data.shift(1).dropna().values\n",
    "sc = MinMaxScaler(feature_range=(0,1))\n",
    "train=sc.fit_transform(train)\n",
    "def processData(data,data_price,lb):\n",
    "    X,Y = [],[]\n",
    "    for i in range(lb-1,len(data)-lb-1):\n",
    "        X.append(data[i-(lb-1):i])\n",
    "        Y.append(data_price[(i)])\n",
    "    return np.array(X),np.array(Y)\n",
    "\n",
    "lb=7\n",
    "X,y = processData(train,data_price,lb)\n",
    "X_train,X_test = X[:int(X.shape[0]*0.90)],X[int(X.shape[0]*0.90):]\n",
    "y_train,y_test = y[:int(y.shape[0]*0.90)].reshape(-1,1),y[int(y.shape[0]*0.90):].reshape(-1,1)\n",
    "# print(type(X_train))\n",
    "print(X.shape)\n",
    "print(y.shape)"
   ]
  },
  {
   "cell_type": "code",
   "execution_count": 7,
   "id": "8e84aa5c",
   "metadata": {},
   "outputs": [
    {
     "name": "stdout",
     "output_type": "stream",
     "text": [
      "(871, 6, 6) (871, 1) (97, 6, 6) (97, 1)\n"
     ]
    }
   ],
   "source": [
    "print(X_train.shape,y_train.shape,X_test.shape,y_test.shape)"
   ]
  },
  {
   "cell_type": "code",
   "execution_count": 8,
   "id": "d361965d",
   "metadata": {},
   "outputs": [
    {
     "name": "stdout",
     "output_type": "stream",
     "text": [
      "Metal device set to: Apple M1 Pro\n"
     ]
    },
    {
     "name": "stderr",
     "output_type": "stream",
     "text": [
      "2021-12-20 01:16:46.000094: I tensorflow/core/common_runtime/pluggable_device/pluggable_device_factory.cc:305] Could not identify NUMA node of platform GPU ID 0, defaulting to 0. Your kernel may not have been built with NUMA support.\n",
      "2021-12-20 01:16:46.000333: I tensorflow/core/common_runtime/pluggable_device/pluggable_device_factory.cc:271] Created TensorFlow device (/job:localhost/replica:0/task:0/device:GPU:0 with 0 MB memory) -> physical PluggableDevice (device: 0, name: METAL, pci bus id: <undefined>)\n"
     ]
    }
   ],
   "source": [
    "# Build the LSTM model\n",
    "model = Sequential()\n",
    "model.add(LSTM(6, input_shape= (X_train.shape[1], X_train.shape[2])))\n",
    "model.add(Dense(1))\n",
    "model.compile(\n",
    "  loss=\"mean_squared_error\",\n",
    "  optimizer='Adam'\n",
    ")"
   ]
  },
  {
   "cell_type": "code",
   "execution_count": 9,
   "id": "1e51a5d4",
   "metadata": {},
   "outputs": [
    {
     "name": "stdout",
     "output_type": "stream",
     "text": [
      "Model: \"sequential\"\n",
      "_________________________________________________________________\n",
      " Layer (type)                Output Shape              Param #   \n",
      "=================================================================\n",
      " lstm (LSTM)                 (None, 6)                 312       \n",
      "                                                                 \n",
      " dense (Dense)               (None, 1)                 7         \n",
      "                                                                 \n",
      "=================================================================\n",
      "Total params: 319\n",
      "Trainable params: 319\n",
      "Non-trainable params: 0\n",
      "_________________________________________________________________\n"
     ]
    }
   ],
   "source": [
    "model.summary() "
   ]
  },
  {
   "cell_type": "code",
   "execution_count": 10,
   "id": "1c4e605e",
   "metadata": {
    "scrolled": true
   },
   "outputs": [
    {
     "name": "stdout",
     "output_type": "stream",
     "text": [
      "Epoch 1/100\n"
     ]
    },
    {
     "name": "stderr",
     "output_type": "stream",
     "text": [
      "2021-12-20 01:16:46.448705: W tensorflow/core/platform/profile_utils/cpu_utils.cc:128] Failed to get CPU frequency: 0 Hz\n",
      "2021-12-20 01:16:47.201783: I tensorflow/core/grappler/optimizers/custom_graph_optimizer_registry.cc:112] Plugin optimizer for device_type GPU is enabled.\n",
      "2021-12-20 01:16:47.515320: I tensorflow/core/grappler/optimizers/custom_graph_optimizer_registry.cc:112] Plugin optimizer for device_type GPU is enabled.\n",
      "2021-12-20 01:16:47.646620: I tensorflow/core/grappler/optimizers/custom_graph_optimizer_registry.cc:112] Plugin optimizer for device_type GPU is enabled.\n"
     ]
    },
    {
     "name": "stdout",
     "output_type": "stream",
     "text": [
      "44/44 [==============================] - ETA: 0s - loss: 3652.4153"
     ]
    },
    {
     "name": "stderr",
     "output_type": "stream",
     "text": [
      "2021-12-20 01:16:49.004214: I tensorflow/core/grappler/optimizers/custom_graph_optimizer_registry.cc:112] Plugin optimizer for device_type GPU is enabled.\n",
      "2021-12-20 01:16:49.116741: I tensorflow/core/grappler/optimizers/custom_graph_optimizer_registry.cc:112] Plugin optimizer for device_type GPU is enabled.\n"
     ]
    },
    {
     "name": "stdout",
     "output_type": "stream",
     "text": [
      "44/44 [==============================] - 3s 29ms/step - loss: 3652.4153 - val_loss: 2022.9048\n",
      "Epoch 2/100\n",
      "44/44 [==============================] - 1s 22ms/step - loss: 3604.0286 - val_loss: 1983.0839\n",
      "Epoch 3/100\n",
      "44/44 [==============================] - 1s 20ms/step - loss: 3546.1306 - val_loss: 1936.2864\n",
      "Epoch 4/100\n",
      "44/44 [==============================] - 1s 19ms/step - loss: 3483.7126 - val_loss: 1885.1193\n",
      "Epoch 5/100\n",
      "44/44 [==============================] - 1s 20ms/step - loss: 3413.7341 - val_loss: 1827.0532\n",
      "Epoch 6/100\n",
      "44/44 [==============================] - 1s 20ms/step - loss: 3338.3550 - val_loss: 1772.8816\n",
      "Epoch 7/100\n",
      "44/44 [==============================] - 1s 21ms/step - loss: 3273.6226 - val_loss: 1728.6467\n",
      "Epoch 8/100\n",
      "44/44 [==============================] - 1s 19ms/step - loss: 3220.4651 - val_loss: 1691.0814\n",
      "Epoch 9/100\n",
      "44/44 [==============================] - 1s 22ms/step - loss: 3174.1589 - val_loss: 1657.4856\n",
      "Epoch 10/100\n",
      "44/44 [==============================] - 1s 22ms/step - loss: 3131.8726 - val_loss: 1626.4192\n",
      "Epoch 11/100\n",
      "44/44 [==============================] - 1s 26ms/step - loss: 3092.1882 - val_loss: 1597.1106\n",
      "Epoch 12/100\n",
      "44/44 [==============================] - 1s 20ms/step - loss: 3054.3501 - val_loss: 1569.1138\n",
      "Epoch 13/100\n",
      "44/44 [==============================] - 1s 22ms/step - loss: 3017.9124 - val_loss: 1542.1509\n",
      "Epoch 14/100\n",
      "44/44 [==============================] - 1s 23ms/step - loss: 2982.5923 - val_loss: 1516.0364\n",
      "Epoch 15/100\n",
      "44/44 [==============================] - 1s 18ms/step - loss: 2948.2009 - val_loss: 1490.6417\n",
      "Epoch 16/100\n",
      "44/44 [==============================] - 1s 15ms/step - loss: 2914.6006 - val_loss: 1465.8726\n",
      "Epoch 17/100\n",
      "44/44 [==============================] - 1s 15ms/step - loss: 2881.6934 - val_loss: 1441.6581\n",
      "Epoch 18/100\n",
      "44/44 [==============================] - 1s 18ms/step - loss: 2849.4006 - val_loss: 1417.9440\n",
      "Epoch 19/100\n",
      "44/44 [==============================] - 1s 16ms/step - loss: 2817.6641 - val_loss: 1394.6868\n",
      "Epoch 20/100\n",
      "44/44 [==============================] - 1s 15ms/step - loss: 2786.4373 - val_loss: 1371.8512\n",
      "Epoch 21/100\n",
      "44/44 [==============================] - 1s 18ms/step - loss: 2755.6812 - val_loss: 1349.4089\n",
      "Epoch 22/100\n",
      "44/44 [==============================] - 1s 18ms/step - loss: 2725.3633 - val_loss: 1327.3356\n",
      "Epoch 23/100\n",
      "44/44 [==============================] - 1s 16ms/step - loss: 2695.4575 - val_loss: 1305.6110\n",
      "Epoch 24/100\n",
      "44/44 [==============================] - 1s 15ms/step - loss: 2665.9402 - val_loss: 1284.2180\n",
      "Epoch 25/100\n",
      "44/44 [==============================] - 1s 15ms/step - loss: 2636.7925 - val_loss: 1263.1415\n",
      "Epoch 26/100\n",
      "44/44 [==============================] - 1s 15ms/step - loss: 2607.9983 - val_loss: 1242.3689\n",
      "Epoch 27/100\n",
      "44/44 [==============================] - 1s 15ms/step - loss: 2579.5408 - val_loss: 1221.8882\n",
      "Epoch 28/100\n",
      "44/44 [==============================] - 1s 15ms/step - loss: 2551.4082 - val_loss: 1201.6897\n",
      "Epoch 29/100\n",
      "44/44 [==============================] - 1s 16ms/step - loss: 2523.5898 - val_loss: 1181.7642\n",
      "Epoch 30/100\n",
      "44/44 [==============================] - 1s 16ms/step - loss: 2496.0742 - val_loss: 1162.1035\n",
      "Epoch 31/100\n",
      "44/44 [==============================] - 1s 15ms/step - loss: 2468.8521 - val_loss: 1142.7004\n",
      "Epoch 32/100\n",
      "44/44 [==============================] - 1s 17ms/step - loss: 2441.9158 - val_loss: 1123.5481\n",
      "Epoch 33/100\n",
      "44/44 [==============================] - 1s 16ms/step - loss: 2415.2571 - val_loss: 1104.6407\n",
      "Epoch 34/100\n",
      "44/44 [==============================] - 1s 15ms/step - loss: 2388.8699 - val_loss: 1085.9731\n",
      "Epoch 35/100\n",
      "44/44 [==============================] - 1s 16ms/step - loss: 2362.7476 - val_loss: 1067.5396\n",
      "Epoch 36/100\n",
      "44/44 [==============================] - 1s 14ms/step - loss: 2336.8843 - val_loss: 1049.3356\n",
      "Epoch 37/100\n",
      "44/44 [==============================] - 1s 15ms/step - loss: 2311.2737 - val_loss: 1031.3571\n",
      "Epoch 38/100\n",
      "44/44 [==============================] - 1s 15ms/step - loss: 2285.9124 - val_loss: 1013.5997\n",
      "Epoch 39/100\n",
      "44/44 [==============================] - 1s 15ms/step - loss: 2260.7942 - val_loss: 996.0596\n",
      "Epoch 40/100\n",
      "44/44 [==============================] - 1s 15ms/step - loss: 2235.9158 - val_loss: 978.7335\n",
      "Epoch 41/100\n",
      "44/44 [==============================] - 1s 16ms/step - loss: 2211.2737 - val_loss: 961.6179\n",
      "Epoch 42/100\n",
      "44/44 [==============================] - 1s 16ms/step - loss: 2186.8616 - val_loss: 944.7098\n",
      "Epoch 43/100\n",
      "44/44 [==============================] - 1s 18ms/step - loss: 2162.6787 - val_loss: 928.0061\n",
      "Epoch 44/100\n",
      "44/44 [==============================] - 1s 16ms/step - loss: 2138.7202 - val_loss: 911.5041\n",
      "Epoch 45/100\n",
      "44/44 [==============================] - 1s 16ms/step - loss: 2114.9827 - val_loss: 895.2012\n",
      "Epoch 46/100\n",
      "44/44 [==============================] - 1s 16ms/step - loss: 2091.4653 - val_loss: 879.0952\n",
      "Epoch 47/100\n",
      "44/44 [==============================] - 1s 15ms/step - loss: 2068.1624 - val_loss: 863.1833\n",
      "Epoch 48/100\n",
      "44/44 [==============================] - 1s 15ms/step - loss: 2045.0732 - val_loss: 847.4633\n",
      "Epoch 49/100\n",
      "44/44 [==============================] - 1s 16ms/step - loss: 2022.1941 - val_loss: 831.9329\n",
      "Epoch 50/100\n",
      "44/44 [==============================] - 1s 15ms/step - loss: 1999.5232 - val_loss: 816.5906\n",
      "Epoch 51/100\n",
      "44/44 [==============================] - 1s 15ms/step - loss: 1977.0582 - val_loss: 801.4339\n",
      "Epoch 52/100\n",
      "44/44 [==============================] - 1s 15ms/step - loss: 1954.7961 - val_loss: 786.4609\n",
      "Epoch 53/100\n",
      "44/44 [==============================] - 1s 15ms/step - loss: 1932.7362 - val_loss: 771.6700\n",
      "Epoch 54/100\n",
      "44/44 [==============================] - 1s 15ms/step - loss: 1910.8751 - val_loss: 757.0594\n",
      "Epoch 55/100\n",
      "44/44 [==============================] - 1s 15ms/step - loss: 1889.2115 - val_loss: 742.6276\n",
      "Epoch 56/100\n",
      "44/44 [==============================] - 1s 15ms/step - loss: 1867.7432 - val_loss: 728.3724\n",
      "Epoch 57/100\n",
      "44/44 [==============================] - 1s 15ms/step - loss: 1846.4686 - val_loss: 714.2929\n",
      "Epoch 58/100\n",
      "44/44 [==============================] - 1s 17ms/step - loss: 1825.3864 - val_loss: 700.3872\n",
      "Epoch 59/100\n",
      "44/44 [==============================] - 1s 18ms/step - loss: 1804.4934 - val_loss: 686.6539\n",
      "Epoch 60/100\n",
      "44/44 [==============================] - 1s 19ms/step - loss: 1783.7897 - val_loss: 673.0916\n",
      "Epoch 61/100\n",
      "44/44 [==============================] - 1s 17ms/step - loss: 1763.2728 - val_loss: 659.6988\n",
      "Epoch 62/100\n",
      "44/44 [==============================] - 1s 15ms/step - loss: 1742.9419 - val_loss: 646.4744\n",
      "Epoch 63/100\n",
      "44/44 [==============================] - 1s 16ms/step - loss: 1722.7949 - val_loss: 633.4172\n",
      "Epoch 64/100\n",
      "44/44 [==============================] - 1s 15ms/step - loss: 1702.8302 - val_loss: 620.5255\n",
      "Epoch 65/100\n",
      "44/44 [==============================] - 1s 16ms/step - loss: 1683.0474 - val_loss: 607.7985\n",
      "Epoch 66/100\n",
      "44/44 [==============================] - 1s 16ms/step - loss: 1663.4445 - val_loss: 595.2347\n",
      "Epoch 67/100\n",
      "44/44 [==============================] - 1s 17ms/step - loss: 1644.0205 - val_loss: 582.8331\n",
      "Epoch 68/100\n",
      "44/44 [==============================] - 1s 15ms/step - loss: 1624.7738 - val_loss: 570.5923\n",
      "Epoch 69/100\n",
      "44/44 [==============================] - 1s 17ms/step - loss: 1605.7036 - val_loss: 558.5117\n",
      "Epoch 70/100\n",
      "44/44 [==============================] - 1s 16ms/step - loss: 1586.8080 - val_loss: 546.5898\n",
      "Epoch 71/100\n",
      "44/44 [==============================] - 1s 17ms/step - loss: 1568.0867 - val_loss: 534.8256\n",
      "Epoch 72/100\n",
      "44/44 [==============================] - 1s 17ms/step - loss: 1549.5386 - val_loss: 523.2181\n",
      "Epoch 73/100\n",
      "44/44 [==============================] - 1s 19ms/step - loss: 1531.1614 - val_loss: 511.7663\n",
      "Epoch 74/100\n",
      "44/44 [==============================] - 1s 19ms/step - loss: 1512.9554 - val_loss: 500.4691\n",
      "Epoch 75/100\n",
      "44/44 [==============================] - 1s 15ms/step - loss: 1494.9192 - val_loss: 489.3257\n",
      "Epoch 76/100\n",
      "44/44 [==============================] - 1s 14ms/step - loss: 1477.0511 - val_loss: 478.3351\n",
      "Epoch 77/100\n",
      "44/44 [==============================] - 1s 14ms/step - loss: 1459.3508 - val_loss: 467.4962\n",
      "Epoch 78/100\n",
      "44/44 [==============================] - 1s 16ms/step - loss: 1441.8174 - val_loss: 456.8083\n",
      "Epoch 79/100\n",
      "44/44 [==============================] - 1s 17ms/step - loss: 1424.4498 - val_loss: 446.2703\n",
      "Epoch 80/100\n",
      "44/44 [==============================] - 1s 16ms/step - loss: 1407.2478 - val_loss: 435.8813\n",
      "Epoch 81/100\n",
      "44/44 [==============================] - 1s 15ms/step - loss: 1390.2085 - val_loss: 425.6405\n",
      "Epoch 82/100\n",
      "44/44 [==============================] - 1s 15ms/step - loss: 1373.3329 - val_loss: 415.5471\n",
      "Epoch 83/100\n",
      "44/44 [==============================] - 1s 15ms/step - loss: 1356.6191 - val_loss: 405.6001\n",
      "Epoch 84/100\n",
      "44/44 [==============================] - 1s 15ms/step - loss: 1340.0669 - val_loss: 395.7987\n",
      "Epoch 85/100\n",
      "44/44 [==============================] - 1s 14ms/step - loss: 1323.6755 - val_loss: 386.1420\n",
      "Epoch 86/100\n",
      "44/44 [==============================] - 1s 15ms/step - loss: 1307.4438 - val_loss: 376.6291\n",
      "Epoch 87/100\n",
      "44/44 [==============================] - 1s 15ms/step - loss: 1291.3705 - val_loss: 367.2595\n",
      "Epoch 88/100\n",
      "44/44 [==============================] - 1s 14ms/step - loss: 1275.4554 - val_loss: 358.0320\n",
      "Epoch 89/100\n",
      "44/44 [==============================] - 1s 18ms/step - loss: 1259.6981 - val_loss: 348.9457\n",
      "Epoch 90/100\n",
      "44/44 [==============================] - 1s 16ms/step - loss: 1244.0970 - val_loss: 340.0003\n",
      "Epoch 91/100\n",
      "44/44 [==============================] - 1s 15ms/step - loss: 1228.6511 - val_loss: 331.1945\n",
      "Epoch 92/100\n",
      "44/44 [==============================] - 1s 15ms/step - loss: 1213.3605 - val_loss: 322.5278\n",
      "Epoch 93/100\n",
      "44/44 [==============================] - 1s 15ms/step - loss: 1198.2245 - val_loss: 313.9994\n",
      "Epoch 94/100\n",
      "44/44 [==============================] - 1s 15ms/step - loss: 1183.2421 - val_loss: 305.6085\n",
      "Epoch 95/100\n",
      "44/44 [==============================] - 1s 15ms/step - loss: 1168.4125 - val_loss: 297.3541\n",
      "Epoch 96/100\n",
      "44/44 [==============================] - 1s 14ms/step - loss: 1153.7345 - val_loss: 289.2357\n",
      "Epoch 97/100\n",
      "44/44 [==============================] - 1s 17ms/step - loss: 1139.2083 - val_loss: 281.2525\n",
      "Epoch 98/100\n",
      "44/44 [==============================] - 1s 16ms/step - loss: 1124.8326 - val_loss: 273.4035\n",
      "Epoch 99/100\n",
      "44/44 [==============================] - 1s 15ms/step - loss: 1110.6071 - val_loss: 265.6881\n",
      "Epoch 100/100\n",
      "44/44 [==============================] - 1s 15ms/step - loss: 1096.5306 - val_loss: 258.1055\n"
     ]
    }
   ],
   "source": [
    "#Fit model with history to check for overfitting\n",
    "# es = EarlyStopping(monitor='val_loss', mode='min', verbose=1,patience=40, min_delta=0.0001)\n",
    "history = model.fit(X_train,y_train,epochs=100,batch_size=20,validation_data=(X_test,y_test),shuffle=False)"
   ]
  },
  {
   "cell_type": "code",
   "execution_count": 11,
   "id": "57aef319",
   "metadata": {},
   "outputs": [
    {
     "name": "stderr",
     "output_type": "stream",
     "text": [
      "2021-12-20 01:18:01.160381: I tensorflow/core/grappler/optimizers/custom_graph_optimizer_registry.cc:112] Plugin optimizer for device_type GPU is enabled.\n",
      "2021-12-20 01:18:01.241676: I tensorflow/core/grappler/optimizers/custom_graph_optimizer_registry.cc:112] Plugin optimizer for device_type GPU is enabled.\n"
     ]
    }
   ],
   "source": [
    "y_pred = model.predict(X_test)"
   ]
  },
  {
   "cell_type": "code",
   "execution_count": 12,
   "id": "368e472d-9997-47c9-8d86-6b5e9a76b8ef",
   "metadata": {},
   "outputs": [
    {
     "data": {
      "text/plain": [
       "(97, 1)"
      ]
     },
     "execution_count": 12,
     "metadata": {},
     "output_type": "execute_result"
    }
   ],
   "source": [
    "y_pred.shape"
   ]
  },
  {
   "cell_type": "code",
   "execution_count": 13,
   "id": "9d5451f9",
   "metadata": {},
   "outputs": [
    {
     "data": {
      "text/plain": [
       "<matplotlib.legend.Legend at 0x294b24df0>"
      ]
     },
     "execution_count": 13,
     "metadata": {},
     "output_type": "execute_result"
    },
    {
     "data": {
      "image/png": "[encoded data removed]",
      "text/plain": [
       "<Figure size 432x288 with 1 Axes>"
      ]
     },
     "metadata": {
      "needs_background": "light"
     },
     "output_type": "display_data"
    }
   ],
   "source": [
    "plt.plot(history.history['loss'], label='train')\n",
    "plt.plot(history.history['val_loss'], label='test')\n",
    "plt.legend()"
   ]
  },
  {
   "cell_type": "code",
   "execution_count": 14,
   "id": "190bdf74",
   "metadata": {},
   "outputs": [
    {
     "data": {
      "image/png": "[encoded data removed]",
      "text/plain": [
       "<Figure size 432x288 with 1 Axes>"
      ]
     },
     "metadata": {
      "needs_background": "light"
     },
     "output_type": "display_data"
    }
   ],
   "source": [
    "plt.plot(np.arange(0, len(y_train)), y_train, 'g', label=\"history\")\n",
    "plt.plot(np.arange(len(y_train), len(y_train) + len(y_test)), y_test, marker='.', label=\"true\")\n",
    "plt.plot(np.arange(len(y_train), len(y_train) + len(y_test)), y_pred, 'r', label=\"prediction\")\n",
    "plt.ylabel('Value')\n",
    "plt.xlabel('Time Step')\n",
    "plt.legend()\n",
    "plt.show();"
   ]
  },
  {
   "cell_type": "code",
   "execution_count": 15,
   "id": "f0f89a33",
   "metadata": {},
   "outputs": [],
   "source": [
    "# plot_x=data[int(X.shape[0]*0.90):]\n",
    "# plot_x[\"Prediction\"]=y_test"
   ]
  },
  {
   "cell_type": "code",
   "execution_count": 16,
   "id": "360a8226",
   "metadata": {},
   "outputs": [
    {
     "data": {
      "image/png": "[encoded data removed]",
      "text/plain": [
       "<Figure size 432x288 with 1 Axes>"
      ]
     },
     "metadata": {
      "needs_background": "light"
     },
     "output_type": "display_data"
    }
   ],
   "source": [
    "plt.plot(y_test, marker='.', label=\"true\")\n",
    "plt.plot(y_pred, 'r',marker='*', label=\"prediction\")\n",
    "plt.ylabel('Value')\n",
    "plt.xlabel('Time Step')\n",
    "plt.legend()\n",
    "plt.show();"
   ]
  },
  {
   "cell_type": "code",
   "execution_count": 17,
   "id": "ab556cdd",
   "metadata": {},
   "outputs": [
    {
     "data": {
      "text/plain": [
       "34.653454508531354"
      ]
     },
     "execution_count": 17,
     "metadata": {},
     "output_type": "execute_result"
    }
   ],
   "source": [
    "mean_absolute_percentage_error(y_test,y_pred)*100"
   ]
  },
  {
   "cell_type": "code",
   "execution_count": 18,
   "id": "39d4fb4d",
   "metadata": {},
   "outputs": [
    {
     "data": {
      "text/plain": [
       "258.10547395848494"
      ]
     },
     "execution_count": 18,
     "metadata": {},
     "output_type": "execute_result"
    }
   ],
   "source": [
    "mean_squared_error(y_test,y_pred)"
   ]
  },
  {
   "cell_type": "code",
   "execution_count": 19,
   "id": "4d5c03c6-abcb-4299-bdf8-ea8124bb9714",
   "metadata": {},
   "outputs": [
    {
     "data": {
      "text/plain": [
       "-32.629492367327785"
      ]
     },
     "execution_count": 19,
     "metadata": {},
     "output_type": "execute_result"
    }
   ],
   "source": [
    "r2_score(y_test,y_pred)"
   ]
  },
  {
   "cell_type": "code",
   "execution_count": 20,
   "id": "26382ce9",
   "metadata": {},
   "outputs": [
    {
     "name": "stdout",
     "output_type": "stream",
     "text": [
      "[1. 1. 1. 1. 0. 1. 0. 1. 1. 1. 0. 0. 1. 0. 0.]\n",
      "[1. 1. 1. 1. 1. 0. 1. 1. 1. 0. 1. 0. 0. 0. 1.]\n",
      "Predicted direction accuracy (Up/down):\n",
      "0.4479166666666667\n"
     ]
    }
   ],
   "source": [
    "y_pred_lstm_final = np.zeros((len(y_pred)-1,))\n",
    "y_test_t_final = np.zeros((len(y_test)-1,))\n",
    "for i in range(len(y_pred)-1):\n",
    "    if y_pred[i+1] >= y_pred[i]:\n",
    "        y_pred_lstm_final[i] = 1\n",
    "    else:\n",
    "        y_pred_lstm_final[i] = 0\n",
    "        \n",
    "#convert prediction into binary output (up or down movement)\n",
    "for i in range(len(y_test)-1):\n",
    "    if y_test[i+1] >= y_test[i]:\n",
    "        y_test_t_final[i] = 1\n",
    "    else:\n",
    "        y_test_t_final[i] = 0\n",
    "\n",
    "\n",
    "# error_lstm = mean_absolute_error(y_test_t_final, y_pred_lstm_final)\n",
    "# print(\"Error is\", error_lstm, y_pred_lstm_final.shape, y_test_t_final.shape)\n",
    "print(y_pred_lstm_final[0:15])\n",
    "print(y_test_t_final[0:15])\n",
    "print(\"Predicted direction accuracy (Up/down):\")\n",
    "print(accuracy_score(y_test_t_final,y_pred_lstm_final))"
   ]
  },
  {
   "cell_type": "code",
   "execution_count": 21,
   "id": "aeb3168c",
   "metadata": {},
   "outputs": [
    {
     "name": "stdout",
     "output_type": "stream",
     "text": [
      "[1. 1. 1. 1. 1. 0. 1. 1. 1. 0. 1. 0. 0. 0. 1. 0. 1. 0. 1. 1. 1. 0. 0. 1.\n",
      " 0. 1. 0. 0. 0. 1. 1. 0. 0. 0. 0. 1. 1. 0. 0. 1. 1. 0. 1. 0. 0. 0. 1. 1.\n",
      " 1. 0. 0. 0. 1. 1. 0. 0. 0. 0. 0. 1. 1. 0. 0. 1. 0. 1. 1. 1. 0. 1. 1. 0.\n",
      " 1. 1. 1. 1. 0. 1. 0. 0. 0. 0. 1. 0. 1. 1. 0. 0. 0. 1. 0. 1. 0. 0. 0. 0.]\n"
     ]
    }
   ],
   "source": [
    "print(y_test_t_final)"
   ]
  }
 ],
 "metadata": {
  "kernelspec": {
   "display_name": "Python 3",
   "language": "python",
   "name": "python3"
  },
  "language_info": {
   "codemirror_mode": {
    "name": "ipython",
    "version": 3
   },
   "file_extension": ".py",
   "mimetype": "text/x-python",
   "name": "python",
   "nbconvert_exporter": "python",
   "pygments_lexer": "ipython3",
   "version": "3.8.8"
  }
 },
 "nbformat": 4,
 "nbformat_minor": 5
}
