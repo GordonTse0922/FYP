{
 "cells": [
  {
   "cell_type": "code",
   "execution_count": 1,
   "id": "9efc3e1f",
   "metadata": {},
   "outputs": [],
   "source": [
    "import yfinance as yf\n",
    "import keras.backend as K\n",
    "import pandas as pd\n",
    "import numpy as np\n",
    "import matplotlib.pyplot as plt\n",
    "from sklearn.preprocessing import MinMaxScaler ,StandardScaler\n",
    "from sklearn.model_selection import train_test_split\n",
    "from sklearn.metrics import classification_report,accuracy_score, mean_squared_error,mean_absolute_percentage_error,r2_score\n",
    "import tensorflow as tf\n",
    "from tensorflow import keras\n",
    "from keras.layers import LSTM,Dropout, BatchNormalization, Dense\n",
    "from keras.callbacks import ModelCheckpoint, EarlyStopping, ReduceLROnPlateau, CSVLogger\n",
    "from keras.models import Sequential\n",
    "from keras.optimizer_v2.adam import Adam\n",
    "from keras.optimizer_v2.rmsprop import RMSprop\n",
    "import talib"
   ]
  },
  {
   "cell_type": "code",
   "execution_count": 2,
   "id": "62b8c4ee",
   "metadata": {},
   "outputs": [
    {
     "name": "stdout",
     "output_type": "stream",
     "text": [
      "[*********************100%***********************]  1 of 1 completed\n"
     ]
    },
    {
     "data": {
      "text/html": [
       "<div>\n",
       "<style scoped>\n",
       "    .dataframe tbody tr th:only-of-type {\n",
       "        vertical-align: middle;\n",
       "    }\n",
       "\n",
       "    .dataframe tbody tr th {\n",
       "        vertical-align: top;\n",
       "    }\n",
       "\n",
       "    .dataframe thead th {\n",
       "        text-align: right;\n",
       "    }\n",
       "</style>\n",
       "<table border=\"1\" class=\"dataframe\">\n",
       "  <thead>\n",
       "    <tr style=\"text-align: right;\">\n",
       "      <th></th>\n",
       "      <th>Open</th>\n",
       "      <th>High</th>\n",
       "      <th>Low</th>\n",
       "      <th>Close</th>\n",
       "      <th>Adj Close</th>\n",
       "      <th>Volume</th>\n",
       "    </tr>\n",
       "    <tr>\n",
       "      <th>Date</th>\n",
       "      <th></th>\n",
       "      <th></th>\n",
       "      <th></th>\n",
       "      <th></th>\n",
       "      <th></th>\n",
       "      <th></th>\n",
       "    </tr>\n",
       "  </thead>\n",
       "  <tbody>\n",
       "    <tr>\n",
       "      <th>2017-01-03</th>\n",
       "      <td>62.250000</td>\n",
       "      <td>63.150002</td>\n",
       "      <td>62.200001</td>\n",
       "      <td>63.000000</td>\n",
       "      <td>50.812317</td>\n",
       "      <td>11331063</td>\n",
       "    </tr>\n",
       "    <tr>\n",
       "      <th>2017-01-04</th>\n",
       "      <td>63.450001</td>\n",
       "      <td>63.450001</td>\n",
       "      <td>62.950001</td>\n",
       "      <td>63.450001</td>\n",
       "      <td>51.175262</td>\n",
       "      <td>13426502</td>\n",
       "    </tr>\n",
       "    <tr>\n",
       "      <th>2017-01-05</th>\n",
       "      <td>63.799999</td>\n",
       "      <td>63.950001</td>\n",
       "      <td>63.549999</td>\n",
       "      <td>63.900002</td>\n",
       "      <td>51.538212</td>\n",
       "      <td>12484357</td>\n",
       "    </tr>\n",
       "    <tr>\n",
       "      <th>2017-01-06</th>\n",
       "      <td>63.900002</td>\n",
       "      <td>63.900002</td>\n",
       "      <td>63.349998</td>\n",
       "      <td>63.750000</td>\n",
       "      <td>51.417221</td>\n",
       "      <td>14321890</td>\n",
       "    </tr>\n",
       "    <tr>\n",
       "      <th>2017-01-09</th>\n",
       "      <td>63.599998</td>\n",
       "      <td>63.849998</td>\n",
       "      <td>63.299999</td>\n",
       "      <td>63.700001</td>\n",
       "      <td>51.376892</td>\n",
       "      <td>10499807</td>\n",
       "    </tr>\n",
       "  </tbody>\n",
       "</table>\n",
       "</div>"
      ],
      "text/plain": [
       "                 Open       High        Low      Close  Adj Close    Volume\n",
       "Date                                                                       \n",
       "2017-01-03  62.250000  63.150002  62.200001  63.000000  50.812317  11331063\n",
       "2017-01-04  63.450001  63.450001  62.950001  63.450001  51.175262  13426502\n",
       "2017-01-05  63.799999  63.950001  63.549999  63.900002  51.538212  12484357\n",
       "2017-01-06  63.900002  63.900002  63.349998  63.750000  51.417221  14321890\n",
       "2017-01-09  63.599998  63.849998  63.299999  63.700001  51.376892  10499807"
      ]
     },
     "execution_count": 2,
     "metadata": {},
     "output_type": "execute_result"
    }
   ],
   "source": [
    "data = yf.download('0005.hk',\"2017-01-01\",\"2021-12-30\")\n",
    "data.head()"
   ]
  },
  {
   "cell_type": "code",
   "execution_count": 3,
   "id": "699c7659",
   "metadata": {},
   "outputs": [],
   "source": [
    "data['Prediction'] = data[['Close']].shift(-1)"
   ]
  },
  {
   "cell_type": "code",
   "execution_count": 4,
   "id": "91fc4542",
   "metadata": {},
   "outputs": [
    {
     "data": {
      "text/plain": [
       "Open          0\n",
       "High          0\n",
       "Low           0\n",
       "Close         0\n",
       "Volume        0\n",
       "Prediction    0\n",
       "dtype: int64"
      ]
     },
     "execution_count": 4,
     "metadata": {},
     "output_type": "execute_result"
    }
   ],
   "source": [
    "data.drop('Adj Close',1,inplace=True)\n",
    "data.dropna(inplace=True)\n",
    "data.isnull().sum()"
   ]
  },
  {
   "cell_type": "code",
   "execution_count": 5,
   "id": "1933fe76",
   "metadata": {},
   "outputs": [
    {
     "data": {
      "text/html": [
       "<div>\n",
       "<style scoped>\n",
       "    .dataframe tbody tr th:only-of-type {\n",
       "        vertical-align: middle;\n",
       "    }\n",
       "\n",
       "    .dataframe tbody tr th {\n",
       "        vertical-align: top;\n",
       "    }\n",
       "\n",
       "    .dataframe thead th {\n",
       "        text-align: right;\n",
       "    }\n",
       "</style>\n",
       "<table border=\"1\" class=\"dataframe\">\n",
       "  <thead>\n",
       "    <tr style=\"text-align: right;\">\n",
       "      <th></th>\n",
       "      <th>Open</th>\n",
       "      <th>High</th>\n",
       "      <th>Low</th>\n",
       "      <th>Close</th>\n",
       "      <th>Volume</th>\n",
       "      <th>Prediction</th>\n",
       "    </tr>\n",
       "    <tr>\n",
       "      <th>Date</th>\n",
       "      <th></th>\n",
       "      <th></th>\n",
       "      <th></th>\n",
       "      <th></th>\n",
       "      <th></th>\n",
       "      <th></th>\n",
       "    </tr>\n",
       "  </thead>\n",
       "  <tbody>\n",
       "    <tr>\n",
       "      <th>2017-01-03</th>\n",
       "      <td>62.250000</td>\n",
       "      <td>63.150002</td>\n",
       "      <td>62.200001</td>\n",
       "      <td>63.000000</td>\n",
       "      <td>11331063</td>\n",
       "      <td>63.450001</td>\n",
       "    </tr>\n",
       "    <tr>\n",
       "      <th>2017-01-04</th>\n",
       "      <td>63.450001</td>\n",
       "      <td>63.450001</td>\n",
       "      <td>62.950001</td>\n",
       "      <td>63.450001</td>\n",
       "      <td>13426502</td>\n",
       "      <td>63.900002</td>\n",
       "    </tr>\n",
       "    <tr>\n",
       "      <th>2017-01-05</th>\n",
       "      <td>63.799999</td>\n",
       "      <td>63.950001</td>\n",
       "      <td>63.549999</td>\n",
       "      <td>63.900002</td>\n",
       "      <td>12484357</td>\n",
       "      <td>63.750000</td>\n",
       "    </tr>\n",
       "    <tr>\n",
       "      <th>2017-01-06</th>\n",
       "      <td>63.900002</td>\n",
       "      <td>63.900002</td>\n",
       "      <td>63.349998</td>\n",
       "      <td>63.750000</td>\n",
       "      <td>14321890</td>\n",
       "      <td>63.700001</td>\n",
       "    </tr>\n",
       "    <tr>\n",
       "      <th>2017-01-09</th>\n",
       "      <td>63.599998</td>\n",
       "      <td>63.849998</td>\n",
       "      <td>63.299999</td>\n",
       "      <td>63.700001</td>\n",
       "      <td>10499807</td>\n",
       "      <td>63.349998</td>\n",
       "    </tr>\n",
       "  </tbody>\n",
       "</table>\n",
       "</div>"
      ],
      "text/plain": [
       "                 Open       High        Low      Close    Volume  Prediction\n",
       "Date                                                                        \n",
       "2017-01-03  62.250000  63.150002  62.200001  63.000000  11331063   63.450001\n",
       "2017-01-04  63.450001  63.450001  62.950001  63.450001  13426502   63.900002\n",
       "2017-01-05  63.799999  63.950001  63.549999  63.900002  12484357   63.750000\n",
       "2017-01-06  63.900002  63.900002  63.349998  63.750000  14321890   63.700001\n",
       "2017-01-09  63.599998  63.849998  63.299999  63.700001  10499807   63.349998"
      ]
     },
     "execution_count": 5,
     "metadata": {},
     "output_type": "execute_result"
    }
   ],
   "source": [
    "data.head()"
   ]
  },
  {
   "cell_type": "code",
   "execution_count": 6,
   "id": "0c41be28",
   "metadata": {
    "scrolled": true
   },
   "outputs": [
    {
     "name": "stdout",
     "output_type": "stream",
     "text": [
      "(1193, 10, 5)\n",
      "(1193, 1)\n"
     ]
    }
   ],
   "source": [
    "data_price=data[\"Prediction\"].values.reshape(-1,1)[:-15]\n",
    "train=data.drop(['Prediction'],1).dropna().values[:-15]\n",
    "sc_x = MinMaxScaler(feature_range=(0,1))\n",
    "sc_y = MinMaxScaler(feature_range=(0,1))\n",
    "train=sc_x.fit_transform(train)\n",
    "data_price = sc_y.fit_transform(data_price)\n",
    "def processData(data,data_price,lb):\n",
    "    X,Y = [],[]\n",
    "    for i in range(lb,len(data)-lb-1):\n",
    "        X.append(data[i-(lb):i])\n",
    "        Y.append(data_price[(i)])\n",
    "    return np.array(X),np.array(Y)\n",
    "\n",
    "lb=10\n",
    "X,y = processData(train,data_price,lb)\n",
    "data_x=X[:-15]\n",
    "data_y=y[:-15]\n",
    "X_train,X_test = data_x[:int(data_x.shape[0]*0.90)],data_x[int(data_x.shape[0]*0.90):]\n",
    "y_train,y_test = data_y[:int(data_y.shape[0]*0.90)],data_y[int(data_y.shape[0]*0.90):]\n",
    "# print(type(X_train))\n",
    "print(X.shape)\n",
    "print(y.shape)"
   ]
  },
  {
   "cell_type": "code",
   "execution_count": 7,
   "id": "8e84aa5c",
   "metadata": {},
   "outputs": [
    {
     "name": "stdout",
     "output_type": "stream",
     "text": [
      "(1060, 10, 5) (1060, 1) (118, 10, 5) (118, 1)\n"
     ]
    }
   ],
   "source": [
    "print(X_train.shape,y_train.shape,X_test.shape,y_test.shape)"
   ]
  },
  {
   "cell_type": "code",
   "execution_count": 8,
   "id": "90df9fa0-ec07-45a1-8280-6ae4fa9ad32b",
   "metadata": {},
   "outputs": [],
   "source": [
    "X_val=X_test[-18:]\n",
    "X_test=X_test[:-18]\n",
    "y_val=y_test[-18:]\n",
    "y_test=y_test[:-18]"
   ]
  },
  {
   "cell_type": "code",
   "execution_count": 9,
   "id": "d361965d",
   "metadata": {},
   "outputs": [],
   "source": [
    "# Build the LSTM model\n",
    "model = Sequential()\n",
    "model.add(LSTM(50,activation='relu', input_shape= (X_train.shape[1], X_train.shape[2]),return_sequences=True))\n",
    "model.add(Dropout(0.4))\n",
    "model.add(LSTM(100, dropout=0.4))\n",
    "model.add(Dropout(0.4))\n",
    "model.add(Dense(32))\n",
    "model.add(Dense(1))\n",
    "model.compile(\n",
    "  loss=\"mean_squared_error\",\n",
    "  optimizer='Adam'\n",
    ")"
   ]
  },
  {
   "cell_type": "code",
   "execution_count": 10,
   "id": "1e51a5d4",
   "metadata": {},
   "outputs": [
    {
     "name": "stdout",
     "output_type": "stream",
     "text": [
      "Model: \"sequential\"\n",
      "_________________________________________________________________\n",
      "Layer (type)                 Output Shape              Param #   \n",
      "=================================================================\n",
      "lstm (LSTM)                  (None, 10, 50)            11200     \n",
      "_________________________________________________________________\n",
      "dropout (Dropout)            (None, 10, 50)            0         \n",
      "_________________________________________________________________\n",
      "lstm_1 (LSTM)                (None, 100)               60400     \n",
      "_________________________________________________________________\n",
      "dropout_1 (Dropout)          (None, 100)               0         \n",
      "_________________________________________________________________\n",
      "dense (Dense)                (None, 32)                3232      \n",
      "_________________________________________________________________\n",
      "dense_1 (Dense)              (None, 1)                 33        \n",
      "=================================================================\n",
      "Total params: 74,865\n",
      "Trainable params: 74,865\n",
      "Non-trainable params: 0\n",
      "_________________________________________________________________\n"
     ]
    }
   ],
   "source": [
    "model.summary() "
   ]
  },
  {
   "cell_type": "code",
   "execution_count": 11,
   "id": "1c4e605e",
   "metadata": {
    "scrolled": true
   },
   "outputs": [
    {
     "name": "stdout",
     "output_type": "stream",
     "text": [
      "Epoch 1/100\n",
      "53/53 [==============================] - 12s 17ms/step - loss: 0.1008 - val_loss: 0.0099\n",
      "Epoch 2/100\n",
      "53/53 [==============================] - 0s 6ms/step - loss: 0.0368 - val_loss: 0.0095\n",
      "Epoch 3/100\n",
      "53/53 [==============================] - 0s 6ms/step - loss: 0.0331 - val_loss: 0.0058\n",
      "Epoch 4/100\n",
      "53/53 [==============================] - 0s 6ms/step - loss: 0.0250 - val_loss: 0.0034\n",
      "Epoch 5/100\n",
      "53/53 [==============================] - 0s 6ms/step - loss: 0.0261 - val_loss: 8.5329e-04\n",
      "Epoch 6/100\n",
      "53/53 [==============================] - 0s 6ms/step - loss: 0.0194 - val_loss: 0.0026\n",
      "Epoch 7/100\n",
      "53/53 [==============================] - 0s 5ms/step - loss: 0.0172 - val_loss: 0.0012\n",
      "Epoch 8/100\n",
      "53/53 [==============================] - 0s 6ms/step - loss: 0.0188 - val_loss: 7.2978e-04\n",
      "Epoch 9/100\n",
      "53/53 [==============================] - 0s 5ms/step - loss: 0.0181 - val_loss: 7.9996e-04\n",
      "Epoch 10/100\n",
      "53/53 [==============================] - 0s 6ms/step - loss: 0.0181 - val_loss: 0.0025\n",
      "Epoch 11/100\n",
      "53/53 [==============================] - 0s 6ms/step - loss: 0.0302 - val_loss: 0.0025\n",
      "Epoch 12/100\n",
      "53/53 [==============================] - 0s 6ms/step - loss: 0.0362 - val_loss: 0.0016\n",
      "Epoch 13/100\n",
      "53/53 [==============================] - 0s 5ms/step - loss: 0.0357 - val_loss: 0.0033\n",
      "Epoch 14/100\n",
      "53/53 [==============================] - 0s 5ms/step - loss: 0.0364 - val_loss: 0.0054\n",
      "Epoch 15/100\n",
      "53/53 [==============================] - 0s 6ms/step - loss: 0.0449 - val_loss: 9.7610e-04\n",
      "Epoch 16/100\n",
      "53/53 [==============================] - 0s 6ms/step - loss: 0.0459 - val_loss: 6.9500e-04\n",
      "Epoch 17/100\n",
      "53/53 [==============================] - 0s 5ms/step - loss: 0.0421 - val_loss: 0.0056\n",
      "Epoch 18/100\n",
      "53/53 [==============================] - 0s 5ms/step - loss: 0.0406 - val_loss: 0.0053\n",
      "Epoch 19/100\n",
      "53/53 [==============================] - 0s 6ms/step - loss: 0.0347 - val_loss: 7.9621e-04\n",
      "Epoch 20/100\n",
      "53/53 [==============================] - 0s 6ms/step - loss: 0.0326 - val_loss: 0.0014\n",
      "Epoch 21/100\n",
      "53/53 [==============================] - 0s 6ms/step - loss: 0.0310 - val_loss: 0.0217\n",
      "Epoch 22/100\n",
      "53/53 [==============================] - 0s 5ms/step - loss: 0.0349 - val_loss: 0.0047\n",
      "Epoch 23/100\n",
      "53/53 [==============================] - 0s 6ms/step - loss: 0.0310 - val_loss: 7.5938e-04\n",
      "Epoch 24/100\n",
      "53/53 [==============================] - 0s 5ms/step - loss: 0.0311 - val_loss: 6.9359e-04\n",
      "Epoch 25/100\n",
      "53/53 [==============================] - 0s 6ms/step - loss: 0.0277 - val_loss: 0.0012\n",
      "Epoch 26/100\n",
      "53/53 [==============================] - 0s 5ms/step - loss: 0.0234 - val_loss: 0.0036\n",
      "Epoch 27/100\n",
      "53/53 [==============================] - 0s 6ms/step - loss: 0.0235 - val_loss: 7.9102e-04\n",
      "Epoch 28/100\n",
      "53/53 [==============================] - 0s 6ms/step - loss: 0.0249 - val_loss: 0.0014\n",
      "Epoch 29/100\n",
      "53/53 [==============================] - 0s 6ms/step - loss: 0.0219 - val_loss: 0.0048\n",
      "Epoch 30/100\n",
      "53/53 [==============================] - 0s 6ms/step - loss: 0.0212 - val_loss: 0.0042\n",
      "Epoch 31/100\n",
      "53/53 [==============================] - 0s 6ms/step - loss: 0.0214 - val_loss: 0.0011\n",
      "Epoch 32/100\n",
      "53/53 [==============================] - 0s 5ms/step - loss: 0.0204 - val_loss: 0.0047\n",
      "Epoch 33/100\n",
      "53/53 [==============================] - 0s 5ms/step - loss: 0.0198 - val_loss: 0.0036\n",
      "Epoch 34/100\n",
      "53/53 [==============================] - 0s 6ms/step - loss: 0.0203 - val_loss: 0.0023\n",
      "Epoch 35/100\n",
      "53/53 [==============================] - 0s 6ms/step - loss: 0.0201 - val_loss: 0.0074\n",
      "Epoch 36/100\n",
      "53/53 [==============================] - 0s 5ms/step - loss: 0.0188 - val_loss: 0.0040\n",
      "Epoch 37/100\n",
      "53/53 [==============================] - 0s 5ms/step - loss: 0.0178 - val_loss: 0.0011\n",
      "Epoch 38/100\n",
      "53/53 [==============================] - 0s 5ms/step - loss: 0.0170 - val_loss: 0.0062\n",
      "Epoch 39/100\n",
      "53/53 [==============================] - 0s 6ms/step - loss: 0.0185 - val_loss: 0.0029\n",
      "Epoch 40/100\n",
      "53/53 [==============================] - 0s 6ms/step - loss: 0.0184 - val_loss: 0.0016\n",
      "Epoch 41/100\n",
      "53/53 [==============================] - 0s 6ms/step - loss: 0.0164 - val_loss: 0.0024\n",
      "Epoch 42/100\n",
      "53/53 [==============================] - 0s 6ms/step - loss: 0.0172 - val_loss: 0.0063\n",
      "Epoch 43/100\n",
      "53/53 [==============================] - 0s 5ms/step - loss: 0.0165 - val_loss: 0.0030\n",
      "Epoch 44/100\n",
      "53/53 [==============================] - 0s 6ms/step - loss: 0.0164 - val_loss: 0.0015\n",
      "Epoch 45/100\n",
      "53/53 [==============================] - 0s 6ms/step - loss: 0.0143 - val_loss: 0.0018\n",
      "Epoch 46/100\n",
      "53/53 [==============================] - 0s 5ms/step - loss: 0.0137 - val_loss: 0.0036\n",
      "Epoch 47/100\n",
      "53/53 [==============================] - 0s 6ms/step - loss: 0.0142 - val_loss: 0.0012\n",
      "Epoch 48/100\n",
      "53/53 [==============================] - 0s 6ms/step - loss: 0.0137 - val_loss: 0.0047\n",
      "Epoch 00048: early stopping\n"
     ]
    }
   ],
   "source": [
    "#Fit model with history to check for overfitting\n",
    "es = EarlyStopping(monitor='val_loss', mode='min', verbose=1,patience=40, min_delta=0.0001)\n",
    "history = model.fit(X_train,y_train,epochs=100,batch_size=20,validation_data=(X_val,y_val),shuffle=False,callbacks=[es])"
   ]
  },
  {
   "cell_type": "code",
   "execution_count": 12,
   "id": "57aef319",
   "metadata": {},
   "outputs": [],
   "source": [
    "y_pred = model.predict(X_test)"
   ]
  },
  {
   "cell_type": "code",
   "execution_count": 13,
   "id": "368e472d-9997-47c9-8d86-6b5e9a76b8ef",
   "metadata": {},
   "outputs": [
    {
     "data": {
      "text/plain": [
       "(100, 1)"
      ]
     },
     "execution_count": 13,
     "metadata": {},
     "output_type": "execute_result"
    }
   ],
   "source": [
    "y_pred.shape"
   ]
  },
  {
   "cell_type": "code",
   "execution_count": 14,
   "id": "9d5451f9",
   "metadata": {},
   "outputs": [
    {
     "data": {
      "text/plain": [
       "<matplotlib.legend.Legend at 0x7f07dc1dbfd0>"
      ]
     },
     "execution_count": 14,
     "metadata": {},
     "output_type": "execute_result"
    },
    {
     "data": {
      "image/png": "[encoded data removed]",
      "text/plain": [
       "<Figure size 432x288 with 1 Axes>"
      ]
     },
     "metadata": {
      "needs_background": "light"
     },
     "output_type": "display_data"
    }
   ],
   "source": [
    "plt.plot(history.history['loss'], label='train')\n",
    "plt.plot(history.history['val_loss'], label='test')\n",
    "plt.legend()"
   ]
  },
  {
   "cell_type": "code",
   "execution_count": 15,
   "id": "190bdf74",
   "metadata": {},
   "outputs": [
    {
     "data": {
      "image/png": "[encoded data removed]",
      "text/plain": [
       "<Figure size 432x288 with 1 Axes>"
      ]
     },
     "metadata": {
      "needs_background": "light"
     },
     "output_type": "display_data"
    }
   ],
   "source": [
    "plt.plot(np.arange(0, len(y_train)), y_train, 'g', label=\"history\")\n",
    "plt.plot(np.arange(len(y_train), len(y_train) + len(y_test)), y_test, marker='.', label=\"true\")\n",
    "plt.plot(np.arange(len(y_train), len(y_train) + len(y_test)), y_pred, 'r', label=\"prediction\")\n",
    "plt.ylabel('Value')\n",
    "plt.xlabel('Time Step')\n",
    "plt.legend()\n",
    "plt.show();"
   ]
  },
  {
   "cell_type": "code",
   "execution_count": 16,
   "id": "f0f89a33",
   "metadata": {},
   "outputs": [],
   "source": [
    "# plot_x=data[int(X.shape[0]*0.90):]\n",
    "# plot_x[\"Prediction\"]=y_test\n",
    "y_test=sc_y.inverse_transform(y_test)\n",
    "y_pred=sc_y.inverse_transform(y_pred)"
   ]
  },
  {
   "cell_type": "code",
   "execution_count": 17,
   "id": "360a8226",
   "metadata": {},
   "outputs": [
    {
     "data": {
      "image/png": "[encoded data removed]",
      "text/plain": [
       "<Figure size 432x288 with 1 Axes>"
      ]
     },
     "metadata": {
      "needs_background": "light"
     },
     "output_type": "display_data"
    }
   ],
   "source": [
    "plt.plot(y_test, marker='.', label=\"true\")\n",
    "plt.plot(y_pred, 'r',marker='*', label=\"prediction\")\n",
    "plt.ylabel('Value')\n",
    "plt.xlabel('Time Step')\n",
    "plt.legend()\n",
    "plt.show();"
   ]
  },
  {
   "cell_type": "code",
   "execution_count": 18,
   "id": "ab556cdd",
   "metadata": {},
   "outputs": [
    {
     "data": {
      "text/plain": [
       "2.4035394915521255"
      ]
     },
     "execution_count": 18,
     "metadata": {},
     "output_type": "execute_result"
    }
   ],
   "source": [
    "mean_absolute_percentage_error(y_test,y_pred)*100"
   ]
  },
  {
   "cell_type": "code",
   "execution_count": 19,
   "id": "39d4fb4d",
   "metadata": {},
   "outputs": [
    {
     "data": {
      "text/plain": [
       "1.844355437039485"
      ]
     },
     "execution_count": 19,
     "metadata": {},
     "output_type": "execute_result"
    }
   ],
   "source": [
    "mean_squared_error(y_test,y_pred)"
   ]
  },
  {
   "cell_type": "code",
   "execution_count": 20,
   "id": "4d5c03c6-abcb-4299-bdf8-ea8124bb9714",
   "metadata": {},
   "outputs": [
    {
     "data": {
      "text/plain": [
       "0.8088872791143136"
      ]
     },
     "execution_count": 20,
     "metadata": {},
     "output_type": "execute_result"
    }
   ],
   "source": [
    "r2_score(y_test,y_pred)"
   ]
  },
  {
   "cell_type": "markdown",
   "id": "eac4f53f-0f5c-415c-b1c6-10d49e309ae0",
   "metadata": {},
   "source": [
    "# Unseen data"
   ]
  },
  {
   "cell_type": "code",
   "execution_count": 21,
   "id": "8970b270-d05f-45e8-b0c3-50578e94d674",
   "metadata": {
    "scrolled": true,
    "tags": []
   },
   "outputs": [
    {
     "name": "stdout",
     "output_type": "stream",
     "text": [
      "[[47.15000153]\n",
      " [46.95000076]\n",
      " [47.04999924]\n",
      " [46.84999847]\n",
      " [47.15000153]\n",
      " [45.45000076]\n",
      " [45.70000076]\n",
      " [45.54999924]\n",
      " [45.29999924]\n",
      " [45.45000076]\n",
      " [45.29999924]\n",
      " [45.20000076]\n",
      " [45.79999924]\n",
      " [46.        ]\n",
      " [46.04999924]]\n"
     ]
    }
   ],
   "source": [
    "forecast_data = X[-15:]\n",
    "forecast = y[-15:]\n",
    "forecast=sc_y.inverse_transform(forecast) \n",
    "print(forecast)"
   ]
  },
  {
   "cell_type": "code",
   "execution_count": 22,
   "id": "8e0ac9af-7e3d-4ea2-96ff-2615296783f0",
   "metadata": {
    "scrolled": true,
    "tags": []
   },
   "outputs": [
    {
     "name": "stdout",
     "output_type": "stream",
     "text": [
      "[[45.645714]\n",
      " [45.733353]\n",
      " [45.85095 ]\n",
      " [45.881123]\n",
      " [45.97819 ]\n",
      " [46.1306  ]\n",
      " [46.254105]\n",
      " [46.069313]\n",
      " [45.886906]\n",
      " [45.77724 ]\n",
      " [45.57436 ]\n",
      " [45.441296]\n",
      " [45.3418  ]\n",
      " [45.277256]\n",
      " [45.240406]]\n"
     ]
    }
   ],
   "source": [
    "prediction = model.predict(forecast_data).reshape(-1,1)\n",
    "prediction = sc_y.inverse_transform(prediction) \n",
    "print(prediction)"
   ]
  },
  {
   "cell_type": "code",
   "execution_count": 23,
   "id": "aff31f99-0e68-422f-a1e1-cd7ad1730e57",
   "metadata": {},
   "outputs": [
    {
     "data": {
      "image/png": "[encoded data removed]",
      "text/plain": [
       "<Figure size 432x288 with 1 Axes>"
      ]
     },
     "metadata": {
      "needs_background": "light"
     },
     "output_type": "display_data"
    }
   ],
   "source": [
    "plt.plot(forecast, marker='.', label=\"true\")\n",
    "plt.plot(prediction, 'r',marker='*', label=\"prediction\")\n",
    "plt.ylabel('Value')\n",
    "plt.xlabel('Time Step')\n",
    "plt.legend()\n",
    "plt.show();"
   ]
  },
  {
   "cell_type": "code",
   "execution_count": 24,
   "id": "72dfbdfe-06f7-403e-be67-ca0b46adce42",
   "metadata": {},
   "outputs": [
    {
     "data": {
      "text/plain": [
       "1.6145603861206073"
      ]
     },
     "execution_count": 24,
     "metadata": {},
     "output_type": "execute_result"
    }
   ],
   "source": [
    "mean_absolute_percentage_error(forecast,prediction)*100"
   ]
  },
  {
   "cell_type": "code",
   "execution_count": 25,
   "id": "3ae616f4-6a1a-4949-a321-7ad7d3b8891d",
   "metadata": {},
   "outputs": [
    {
     "data": {
      "text/plain": [
       "-0.33447256363975164"
      ]
     },
     "execution_count": 25,
     "metadata": {},
     "output_type": "execute_result"
    }
   ],
   "source": [
    "r2_score(forecast,prediction)"
   ]
  },
  {
   "cell_type": "code",
   "execution_count": null,
   "id": "814d9695-2fc7-4a17-9d2c-1a8453766b49",
   "metadata": {},
   "outputs": [],
   "source": []
  }
 ],
 "metadata": {
  "kernelspec": {
   "display_name": "Python 3",
   "language": "python",
   "name": "python3"
  },
  "language_info": {
   "codemirror_mode": {
    "name": "ipython",
    "version": 3
   },
   "file_extension": ".py",
   "mimetype": "text/x-python",
   "name": "python",
   "nbconvert_exporter": "python",
   "pygments_lexer": "ipython3",
   "version": "3.8.8"
  }
 },
 "nbformat": 4,
 "nbformat_minor": 5
}
