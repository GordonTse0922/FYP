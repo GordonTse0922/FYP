{
 "cells": [
  {
   "cell_type": "code",
   "execution_count": 161,
   "metadata": {},
   "outputs": [],
   "source": [
    "import yfinance as yf\n",
    "import keras.backend as K\n",
    "import pandas as pd\n",
    "import numpy as np\n",
    "import matplotlib.pyplot as plt\n",
    "from sklearn.svm import SVR\n",
    "from sklearn.preprocessing import MinMaxScaler ,StandardScaler\n",
    "from sklearn.model_selection import train_test_split\n",
    "from sklearn.metrics import classification_report,accuracy_score, mean_squared_error,mean_absolute_percentage_error,r2_score\n",
    "from sklearn.ensemble import RandomForestRegressor\n",
    "from sklearn.pipeline import make_pipeline\n",
    "import tensorflow as tf\n",
    "from tensorflow import keras\n",
    "from keras.layers import LSTM,Dropout, BatchNormalization, Dense\n",
    "from keras.callbacks import ModelCheckpoint, EarlyStopping, ReduceLROnPlateau, CSVLogger\n",
    "from keras.models import Sequential\n",
    "from keras.optimizer_v2.adam import Adam\n",
    "from keras.optimizer_v2.rmsprop import RMSprop\n",
    "import talib"
   ]
  },
  {
   "cell_type": "code",
   "execution_count": 162,
   "metadata": {
    "pycharm": {
     "name": "#%%\n"
    }
   },
   "outputs": [
    {
     "name": "stdout",
     "output_type": "stream",
     "text": [
      "[*********************100%***********************]  1 of 1 completed\n"
     ]
    }
   ],
   "source": [
    "data=yf.download(\"0700.hk\")"
   ]
  },
  {
   "cell_type": "code",
   "execution_count": 163,
   "metadata": {
    "pycharm": {
     "name": "#%%\n"
    }
   },
   "outputs": [
    {
     "name": "stdout",
     "output_type": "stream",
     "text": [
      "                  Open        High         Low       Close   Adj Close  \\\n",
      "Date                                                                     \n",
      "2004-08-02    0.770000    0.775000    0.740000    0.775000    0.748967   \n",
      "2004-08-03    0.780000    0.795000    0.775000    0.790000    0.763463   \n",
      "2004-08-04    0.780000    0.785000    0.765000    0.770000    0.744135   \n",
      "2004-08-05    0.780000    0.805000    0.780000    0.795000    0.768295   \n",
      "2004-08-06    0.785000    0.810000    0.785000    0.800000    0.773127   \n",
      "...                ...         ...         ...         ...         ...   \n",
      "2021-12-23  454.000000  468.799988  449.200012  461.799988  461.799988   \n",
      "2021-12-24  460.799988  460.799988  460.799988  460.799988  460.799988   \n",
      "2021-12-28  457.799988  459.200012  445.000000  450.399994  450.399994   \n",
      "2021-12-29  443.600006  445.600006  440.399994  444.799988  444.799988   \n",
      "2021-12-30  446.399994  450.799988  442.000000  443.399994  443.399994   \n",
      "\n",
      "              Volume     6day MA    12day MA        RSI        %R5       %R10  \\\n",
      "Date                                                                            \n",
      "2004-08-02  26760000    0.742500    0.739167  58.915809  -0.000000  -0.000000   \n",
      "2004-08-03  63695000    0.760833    0.743333  63.753690  -6.666661  -4.166663   \n",
      "2004-08-04  14245000    0.765000    0.744583  53.883580 -33.333386 -20.833362   \n",
      "2004-08-05  33925000    0.775000    0.748333  62.377702 -15.384601  -7.692301   \n",
      "2004-08-06  21670000    0.783333    0.752083  63.927979 -14.285702  -7.407401   \n",
      "...              ...         ...         ...        ...        ...        ...   \n",
      "2021-12-23  32952274  444.366664  454.283330  57.863242 -17.587945 -36.923100   \n",
      "2021-12-24         0  445.733327  453.766663  56.801866 -20.100509 -38.846177   \n",
      "2021-12-28  18949609  447.799993  451.916662  46.461429 -46.700499 -46.231155   \n",
      "2021-12-29   9589399  450.266658  450.366661  41.693332 -84.507060 -60.301526   \n",
      "2021-12-30   7664650  450.699992  448.433327  40.481632 -89.436617 -63.819100   \n",
      "\n",
      "                  MI6       MI12       EMA12       EMA26      MACD         TR  \\\n",
      "Date                                                                            \n",
      "2004-08-02   0.070000   0.040000    0.753609    0.784088 -0.028262   0.035000   \n",
      "2004-08-03   0.110000   0.050000    0.759207    0.784526 -0.023442   0.020000   \n",
      "2004-08-04   0.025000   0.015000    0.760868    0.783450 -0.020995   0.025000   \n",
      "2004-08-05   0.060000   0.045000    0.766119    0.784306 -0.016843   0.035000   \n",
      "2004-08-06   0.050000   0.045000    0.771331    0.785468 -0.013000   0.025000   \n",
      "...               ...        ...         ...         ...       ...        ...   \n",
      "2021-12-23   6.000000  -2.000000  452.692079  460.916855 -8.224775  25.799988   \n",
      "2021-12-24   8.199982  -6.200012  453.939450  460.908198 -6.968748   1.000000   \n",
      "2021-12-28  12.399994 -22.200012  453.394918  460.129812 -6.734894  15.799988   \n",
      "2021-12-29  14.799988 -18.600006  452.072621  458.994270 -6.921649  10.000000   \n",
      "2021-12-30   2.600006 -23.200012  450.738371  457.839138 -7.100767   8.799988   \n",
      "\n",
      "                 OSC6      OSC12  Prediction  \n",
      "Date                                          \n",
      "2004-08-02  24.071279   3.119936    0.790000  \n",
      "2004-08-03  34.598565   9.773109    0.770000  \n",
      "2004-08-04  10.161008  -0.196268    0.795000  \n",
      "2004-08-05  29.390628  10.844935    0.800000  \n",
      "2004-08-06  32.840655  12.938133    0.800000  \n",
      "...               ...        ...         ...  \n",
      "2021-12-23  21.440302   2.510875  460.799988  \n",
      "2021-12-24  18.839472   1.414574  450.399994  \n",
      "2021-12-28  -6.224634  -9.558981  444.799988  \n",
      "2021-12-29 -17.471514 -14.963960  443.399994  \n",
      "2021-12-30 -20.337767 -16.327715  458.000000  \n",
      "\n",
      "[4305 rows x 20 columns]\n"
     ]
    }
   ],
   "source": [
    "df = data\n",
    "data['6day MA'] = data['Close'].rolling(window = 6).mean()\n",
    "data['12day MA'] = data['Close'].rolling(window = 12).mean()\n",
    "data['RSI'] = talib.RSI(data['Close'].values, timeperiod = 7)\n",
    "data['%R5'] = talib.WILLR(data['High'].values, data['Low'].values, data['Close'].values, 5)\n",
    "data['%R10'] = talib.WILLR(data['High'].values, data['Low'].values, data['Close'].values, 10)\n",
    "data['MI6']=talib.MOM(data['Close'],timeperiod=6)\n",
    "data['MI12']=talib.MOM(data['Close'],timeperiod=12)\n",
    "macd, macdsignal, macdhist = talib.MACD(data['Close'], fastperiod=12, slowperiod=26, signalperiod=9)\n",
    "data['EMA12']=talib.EMA(data['Close'], timeperiod=12)\n",
    "data['EMA26']=talib.EMA(data['Close'],timeperiod=26)\n",
    "data['MACD']=macd\n",
    "data['TR']=talib.TRANGE(data['High'],data['Low'],data['Close'])\n",
    "data['OSC6']=talib.CMO(data['Close'], timeperiod=6)\n",
    "data['OSC12']=talib.CMO(data['Close'], timeperiod=12)\n",
    "df['Prediction'] = data[['Close']].shift(-1)\n",
    "#print data set\n",
    "df=df.dropna()\n",
    "print(df)"
   ]
  },
  {
   "cell_type": "code",
   "execution_count": 164,
   "metadata": {
    "pycharm": {
     "name": "#%%\n"
    }
   },
   "outputs": [],
   "source": [
    "\n",
    "# Create a dataset y which will be having Predicted values and convert into numpy array\n",
    "y = np.array(df['Prediction'])"
   ]
  },
  {
   "cell_type": "code",
   "execution_count": 165,
   "outputs": [
    {
     "name": "stderr",
     "output_type": "stream",
     "text": [
      "[Parallel(n_jobs=-1)]: Done  18 out of  18 | elapsed:   10.0s finished\n",
      "\n",
      "[2022-01-01 18:34:32] Features: 17/1 -- score: 0.9998546209834135[Parallel(n_jobs=-1)]: Using backend LokyBackend with 8 concurrent workers.\n",
      "[Parallel(n_jobs=-1)]: Done  11 out of  17 | elapsed:    6.9s remaining:    3.7s\n",
      "[Parallel(n_jobs=-1)]: Done  17 out of  17 | elapsed:    9.0s finished\n",
      "\n",
      "[2022-01-01 18:34:41] Features: 16/1 -- score: 0.9998575555526465[Parallel(n_jobs=-1)]: Using backend LokyBackend with 8 concurrent workers.\n",
      "[Parallel(n_jobs=-1)]: Done  10 out of  16 | elapsed:    6.6s remaining:    4.0s\n",
      "[Parallel(n_jobs=-1)]: Done  16 out of  16 | elapsed:    7.5s finished\n",
      "\n",
      "[2022-01-01 18:34:48] Features: 15/1 -- score: 0.9998591128151386[Parallel(n_jobs=-1)]: Using backend LokyBackend with 8 concurrent workers.\n",
      "[Parallel(n_jobs=-1)]: Done   8 out of  15 | elapsed:    3.4s remaining:    3.0s\n",
      "[Parallel(n_jobs=-1)]: Done  15 out of  15 | elapsed:    6.4s finished\n",
      "\n",
      "[2022-01-01 18:34:54] Features: 14/1 -- score: 0.9998556510341654[Parallel(n_jobs=-1)]: Using backend LokyBackend with 8 concurrent workers.\n",
      "[Parallel(n_jobs=-1)]: Done   7 out of  14 | elapsed:    3.1s remaining:    3.1s\n",
      "[Parallel(n_jobs=-1)]: Done  14 out of  14 | elapsed:    5.7s finished\n",
      "\n",
      "[2022-01-01 18:35:00] Features: 13/1 -- score: 0.9998616247668126[Parallel(n_jobs=-1)]: Using backend LokyBackend with 8 concurrent workers.\n",
      "[Parallel(n_jobs=-1)]: Done   5 out of  13 | elapsed:    2.6s remaining:    4.2s\n",
      "[Parallel(n_jobs=-1)]: Done  13 out of  13 | elapsed:    4.7s finished\n",
      "\n",
      "[2022-01-01 18:35:05] Features: 12/1 -- score: 0.9998604448241603[Parallel(n_jobs=-1)]: Using backend LokyBackend with 8 concurrent workers.\n",
      "[Parallel(n_jobs=-1)]: Done   4 out of  12 | elapsed:    2.5s remaining:    4.9s\n",
      "[Parallel(n_jobs=-1)]: Done  12 out of  12 | elapsed:    4.5s finished\n",
      "\n",
      "[2022-01-01 18:35:09] Features: 11/1 -- score: 0.9998590382106713[Parallel(n_jobs=-1)]: Using backend LokyBackend with 8 concurrent workers.\n",
      "[Parallel(n_jobs=-1)]: Done   2 out of  11 | elapsed:    2.2s remaining:   10.1s\n",
      "[Parallel(n_jobs=-1)]: Done   8 out of  11 | elapsed:    3.1s remaining:    1.2s\n",
      "[Parallel(n_jobs=-1)]: Done  11 out of  11 | elapsed:    4.5s finished\n",
      "\n",
      "[2022-01-01 18:35:14] Features: 10/1 -- score: 0.9998618211188474[Parallel(n_jobs=-1)]: Using backend LokyBackend with 8 concurrent workers.\n",
      "[Parallel(n_jobs=-1)]: Done   7 out of  10 | elapsed:    2.6s remaining:    1.1s\n",
      "[Parallel(n_jobs=-1)]: Done  10 out of  10 | elapsed:    3.8s finished\n",
      "\n",
      "[2022-01-01 18:35:18] Features: 9/1 -- score: 0.9998542963399414[Parallel(n_jobs=-1)]: Using backend LokyBackend with 8 concurrent workers.\n",
      "[Parallel(n_jobs=-1)]: Done   4 out of   9 | elapsed:    2.2s remaining:    2.7s\n",
      "[Parallel(n_jobs=-1)]: Done   9 out of   9 | elapsed:    3.4s remaining:    0.0s\n",
      "[Parallel(n_jobs=-1)]: Done   9 out of   9 | elapsed:    3.4s finished\n",
      "\n",
      "[2022-01-01 18:35:21] Features: 8/1 -- score: 0.9998579290516157[Parallel(n_jobs=-1)]: Using backend LokyBackend with 8 concurrent workers.\n",
      "[Parallel(n_jobs=-1)]: Done   3 out of   8 | elapsed:    1.8s remaining:    3.0s\n",
      "[Parallel(n_jobs=-1)]: Done   8 out of   8 | elapsed:    2.4s remaining:    0.0s\n",
      "[Parallel(n_jobs=-1)]: Done   8 out of   8 | elapsed:    2.4s finished\n",
      "\n",
      "[2022-01-01 18:35:24] Features: 7/1 -- score: 0.9998594602200414[Parallel(n_jobs=-1)]: Using backend LokyBackend with 8 concurrent workers.\n",
      "[Parallel(n_jobs=-1)]: Done   4 out of   7 | elapsed:    1.7s remaining:    1.3s\n",
      "[Parallel(n_jobs=-1)]: Done   7 out of   7 | elapsed:    2.0s finished\n",
      "\n",
      "[2022-01-01 18:35:26] Features: 6/1 -- score: 0.9998554422989105[Parallel(n_jobs=-1)]: Using backend LokyBackend with 8 concurrent workers.\n",
      "[Parallel(n_jobs=-1)]: Done   3 out of   6 | elapsed:    1.2s remaining:    1.2s\n",
      "[Parallel(n_jobs=-1)]: Done   6 out of   6 | elapsed:    1.5s finished\n",
      "\n",
      "[2022-01-01 18:35:27] Features: 5/1 -- score: 0.9998610472965458[Parallel(n_jobs=-1)]: Using backend LokyBackend with 8 concurrent workers.\n",
      "[Parallel(n_jobs=-1)]: Done   2 out of   5 | elapsed:    0.9s remaining:    1.4s\n",
      "[Parallel(n_jobs=-1)]: Done   5 out of   5 | elapsed:    1.1s remaining:    0.0s\n",
      "[Parallel(n_jobs=-1)]: Done   5 out of   5 | elapsed:    1.1s finished\n",
      "\n",
      "[2022-01-01 18:35:28] Features: 4/1 -- score: 0.9998537821585056[Parallel(n_jobs=-1)]: Using backend LokyBackend with 8 concurrent workers.\n",
      "[Parallel(n_jobs=-1)]: Done   4 out of   4 | elapsed:    0.9s remaining:    0.0s\n",
      "[Parallel(n_jobs=-1)]: Done   4 out of   4 | elapsed:    0.9s finished\n",
      "\n",
      "[2022-01-01 18:35:29] Features: 3/1 -- score: 0.999852297949[Parallel(n_jobs=-1)]: Using backend LokyBackend with 8 concurrent workers.\n",
      "[Parallel(n_jobs=-1)]: Done   3 out of   3 | elapsed:    0.7s finished\n",
      "\n",
      "[2022-01-01 18:35:30] Features: 2/1 -- score: 0.9998382765156794[Parallel(n_jobs=-1)]: Using backend LokyBackend with 8 concurrent workers.\n",
      "[Parallel(n_jobs=-1)]: Done   2 out of   2 | elapsed:    0.4s finished\n",
      "\n",
      "[2022-01-01 18:35:30] Features: 1/1 -- score: 0.9996499279757887"
     ]
    },
    {
     "data": {
      "text/plain": "SequentialFeatureSelector(cv=0, estimator=RandomForestRegressor(),\n                          forward=False, k_features=(1, 10), n_jobs=-1,\n                          scoring='r2', verbose=2)"
     },
     "execution_count": 145,
     "metadata": {},
     "output_type": "execute_result"
    },
    {
     "name": "stderr",
     "output_type": "stream",
     "text": [
      "/var/folders/8h/w0jn89bj2w5g85gj4ck7w0t00000gn/T/ipykernel_5101/2319062841.py:11: FutureWarning: In a future version of pandas all arguments of DataFrame.drop except for the argument 'labels' will be keyword-only\n",
      "  backwardModel.fit(np.array(df.drop('Prediction',1)),y.ravel())\n",
      "[Parallel(n_jobs=-1)]: Using backend LokyBackend with 8 concurrent workers.\n",
      "[Parallel(n_jobs=-1)]: Done  14 out of  19 | elapsed:    9.9s remaining:    3.5s\n",
      "[Parallel(n_jobs=-1)]: Done  19 out of  19 | elapsed:   14.3s finished\n",
      "\n",
      "[2022-01-01 18:35:49] Features: 18/1 -- score: 0.999860532810227[Parallel(n_jobs=-1)]: Using backend LokyBackend with 8 concurrent workers.\n",
      "[Parallel(n_jobs=-1)]: Done  13 out of  18 | elapsed:   12.7s remaining:    4.9s\n",
      "[Parallel(n_jobs=-1)]: Done  18 out of  18 | elapsed:   16.5s finished\n",
      "\n",
      "[2022-01-01 18:36:05] Features: 17/1 -- score: 0.9998582740486645[Parallel(n_jobs=-1)]: Using backend LokyBackend with 8 concurrent workers.\n",
      "[Parallel(n_jobs=-1)]: Done  11 out of  17 | elapsed:   10.8s remaining:    5.9s\n",
      "[Parallel(n_jobs=-1)]: Done  17 out of  17 | elapsed:   14.6s finished\n",
      "\n",
      "[2022-01-01 18:36:20] Features: 16/1 -- score: 0.9998565261154263[Parallel(n_jobs=-1)]: Using backend LokyBackend with 8 concurrent workers.\n",
      "[Parallel(n_jobs=-1)]: Done  10 out of  16 | elapsed:   12.2s remaining:    7.3s\n",
      "[Parallel(n_jobs=-1)]: Done  16 out of  16 | elapsed:   13.0s finished\n",
      "\n",
      "[2022-01-01 18:36:33] Features: 15/1 -- score: 0.999857402725816[Parallel(n_jobs=-1)]: Using backend LokyBackend with 8 concurrent workers.\n",
      "[Parallel(n_jobs=-1)]: Done   8 out of  15 | elapsed:    6.1s remaining:    5.4s\n",
      "[Parallel(n_jobs=-1)]: Done  15 out of  15 | elapsed:   10.7s finished\n",
      "\n",
      "[2022-01-01 18:36:44] Features: 14/1 -- score: 0.9998552679547351[Parallel(n_jobs=-1)]: Using backend LokyBackend with 8 concurrent workers.\n",
      "[Parallel(n_jobs=-1)]: Done   7 out of  14 | elapsed:    5.5s remaining:    5.5s\n",
      "[Parallel(n_jobs=-1)]: Done  14 out of  14 | elapsed:    9.8s finished\n",
      "\n",
      "[2022-01-01 18:36:54] Features: 13/1 -- score: 0.9998556628868818[Parallel(n_jobs=-1)]: Using backend LokyBackend with 8 concurrent workers.\n",
      "[Parallel(n_jobs=-1)]: Done   5 out of  13 | elapsed:    5.1s remaining:    8.2s\n",
      "[Parallel(n_jobs=-1)]: Done  13 out of  13 | elapsed:    8.9s finished\n",
      "\n",
      "[2022-01-01 18:37:02] Features: 12/1 -- score: 0.9998584235756145[Parallel(n_jobs=-1)]: Using backend LokyBackend with 8 concurrent workers.\n",
      "[Parallel(n_jobs=-1)]: Done   4 out of  12 | elapsed:    4.6s remaining:    9.3s\n",
      "[Parallel(n_jobs=-1)]: Done  12 out of  12 | elapsed:    7.6s finished\n",
      "\n",
      "[2022-01-01 18:37:10] Features: 11/1 -- score: 0.9998584663929788[Parallel(n_jobs=-1)]: Using backend LokyBackend with 8 concurrent workers.\n",
      "[Parallel(n_jobs=-1)]: Done   2 out of  11 | elapsed:    3.4s remaining:   15.3s\n",
      "[Parallel(n_jobs=-1)]: Done   8 out of  11 | elapsed:    3.8s remaining:    1.4s\n",
      "[Parallel(n_jobs=-1)]: Done  11 out of  11 | elapsed:    5.8s finished\n",
      "\n",
      "[2022-01-01 18:37:16] Features: 10/1 -- score: 0.9998588527815438[Parallel(n_jobs=-1)]: Using backend LokyBackend with 8 concurrent workers.\n",
      "[Parallel(n_jobs=-1)]: Done   7 out of  10 | elapsed:    4.1s remaining:    1.8s\n",
      "[Parallel(n_jobs=-1)]: Done  10 out of  10 | elapsed:    6.2s finished\n",
      "\n",
      "[2022-01-01 18:37:22] Features: 9/1 -- score: 0.9998578772907508[Parallel(n_jobs=-1)]: Using backend LokyBackend with 8 concurrent workers.\n",
      "[Parallel(n_jobs=-1)]: Done   4 out of   9 | elapsed:    3.4s remaining:    4.3s\n",
      "[Parallel(n_jobs=-1)]: Done   9 out of   9 | elapsed:    4.8s remaining:    0.0s\n",
      "[Parallel(n_jobs=-1)]: Done   9 out of   9 | elapsed:    4.8s finished\n",
      "\n",
      "[2022-01-01 18:37:27] Features: 8/1 -- score: 0.9998604095810877[Parallel(n_jobs=-1)]: Using backend LokyBackend with 8 concurrent workers.\n",
      "[Parallel(n_jobs=-1)]: Done   3 out of   8 | elapsed:    2.8s remaining:    4.6s\n",
      "[Parallel(n_jobs=-1)]: Done   8 out of   8 | elapsed:    3.0s remaining:    0.0s\n",
      "[Parallel(n_jobs=-1)]: Done   8 out of   8 | elapsed:    3.0s finished\n",
      "\n",
      "[2022-01-01 18:37:30] Features: 7/1 -- score: 0.9998606129273809[Parallel(n_jobs=-1)]: Using backend LokyBackend with 8 concurrent workers.\n",
      "[Parallel(n_jobs=-1)]: Done   4 out of   7 | elapsed:    2.4s remaining:    1.8s\n",
      "[Parallel(n_jobs=-1)]: Done   7 out of   7 | elapsed:    2.5s finished\n",
      "\n",
      "[2022-01-01 18:37:32] Features: 6/1 -- score: 0.9998582622143667[Parallel(n_jobs=-1)]: Using backend LokyBackend with 8 concurrent workers.\n",
      "[Parallel(n_jobs=-1)]: Done   3 out of   6 | elapsed:    2.4s remaining:    2.4s\n",
      "[Parallel(n_jobs=-1)]: Done   6 out of   6 | elapsed:    2.9s finished\n",
      "\n",
      "[2022-01-01 18:37:35] Features: 5/1 -- score: 0.9998558596073959[Parallel(n_jobs=-1)]: Using backend LokyBackend with 8 concurrent workers.\n",
      "[Parallel(n_jobs=-1)]: Done   2 out of   5 | elapsed:    1.9s remaining:    2.8s\n",
      "[Parallel(n_jobs=-1)]: Done   5 out of   5 | elapsed:    2.0s remaining:    0.0s\n",
      "[Parallel(n_jobs=-1)]: Done   5 out of   5 | elapsed:    2.0s finished\n",
      "\n",
      "[2022-01-01 18:37:37] Features: 4/1 -- score: 0.999858541856338[Parallel(n_jobs=-1)]: Using backend LokyBackend with 8 concurrent workers.\n",
      "[Parallel(n_jobs=-1)]: Done   4 out of   4 | elapsed:    1.3s remaining:    0.0s\n",
      "[Parallel(n_jobs=-1)]: Done   4 out of   4 | elapsed:    1.3s finished\n",
      "\n",
      "[2022-01-01 18:37:38] Features: 3/1 -- score: 0.999849768383051[Parallel(n_jobs=-1)]: Using backend LokyBackend with 8 concurrent workers.\n",
      "[Parallel(n_jobs=-1)]: Done   3 out of   3 | elapsed:    1.1s finished\n",
      "\n",
      "[2022-01-01 18:37:40] Features: 2/1 -- score: 0.9998431404606406[Parallel(n_jobs=-1)]: Using backend LokyBackend with 8 concurrent workers.\n",
      "[Parallel(n_jobs=-1)]: Done   2 out of   2 | elapsed:    0.7s finished\n",
      "\n",
      "[2022-01-01 18:37:40] Features: 1/1 -- score: 0.9997127545008065"
     ]
    },
    {
     "data": {
      "text/plain": "SequentialFeatureSelector(cv=0, estimator=RandomForestRegressor(),\n                          forward=False, k_features=(1, 10), n_jobs=-1,\n                          scoring='r2', verbose=2)"
     },
     "execution_count": 165,
     "metadata": {},
     "output_type": "execute_result"
    }
   ],
   "source": [
    "from mlxtend.feature_selection import SequentialFeatureSelector as sfs\n",
    "from sklearn.ensemble import RandomForestRegressor\n",
    "#k_features=(1,10) (It will get top 1 - 10 features best suited for prediction)\n",
    "#forward=False (Backward feature selection model)\n",
    "#verbose=2 (It will show details output as shown below.)\n",
    "#n_jobs=-1 (Number of cores it will use for execution.-1 means it will use all the cores of CPU for execution.)\n",
    "#scoring='r2'(R-squared is a statistical measure of how close the data are to the fitted regression line)\n",
    "backwardModel=sfs(RandomForestRegressor(),k_features=(1,10),forward=False,verbose=2,cv=0,n_jobs=-1,scoring='r2')\n",
    "#We will convert our training data into numpy array. If we will not convert it, model is not able to read some of the column names.\n",
    "backwardModel.fit(np.array(df.drop('Prediction',1)),y.ravel())"
   ],
   "metadata": {
    "collapsed": false,
    "pycharm": {
     "name": "#%%\n"
    }
   }
  },
  {
   "cell_type": "code",
   "execution_count": 192,
   "outputs": [
    {
     "data": {
      "text/plain": "Index(['Open', 'Adj Close', '6day MA', '12day MA', 'EMA12', 'EMA26', 'OSC12'], dtype='object')"
     },
     "execution_count": 192,
     "metadata": {},
     "output_type": "execute_result"
    }
   ],
   "source": [
    "df.columns[list(backwardModel.k_feature_idx_)]"
   ],
   "metadata": {
    "collapsed": false,
    "pycharm": {
     "name": "#%%\n"
    }
   }
  },
  {
   "cell_type": "code",
   "execution_count": 167,
   "outputs": [
    {
     "data": {
      "text/plain": "              Low  Close    Volume   6day MA  12day MA        RSI        %R5  \\\nDate                                                                           \n2004-08-02  0.740  0.775  26760000  0.742500  0.739167  58.915809  -0.000000   \n2004-08-03  0.775  0.790  63695000  0.760833  0.743333  63.753690  -6.666661   \n2004-08-04  0.765  0.770  14245000  0.765000  0.744583  53.883580 -33.333386   \n2004-08-05  0.780  0.795  33925000  0.775000  0.748333  62.377702 -15.384601   \n2004-08-06  0.785  0.800  21670000  0.783333  0.752083  63.927979 -14.285702   \n\n               EMA26      MACD      OSC12  \nDate                                       \n2004-08-02  0.784088 -0.028262   3.119936  \n2004-08-03  0.784526 -0.023442   9.773109  \n2004-08-04  0.783450 -0.020995  -0.196268  \n2004-08-05  0.784306 -0.016843  10.844935  \n2004-08-06  0.785468 -0.013000  12.938133  ",
      "text/html": "<div>\n<style scoped>\n    .dataframe tbody tr th:only-of-type {\n        vertical-align: middle;\n    }\n\n    .dataframe tbody tr th {\n        vertical-align: top;\n    }\n\n    .dataframe thead th {\n        text-align: right;\n    }\n</style>\n<table border=\"1\" class=\"dataframe\">\n  <thead>\n    <tr style=\"text-align: right;\">\n      <th></th>\n      <th>Low</th>\n      <th>Close</th>\n      <th>Volume</th>\n      <th>6day MA</th>\n      <th>12day MA</th>\n      <th>RSI</th>\n      <th>%R5</th>\n      <th>EMA26</th>\n      <th>MACD</th>\n      <th>OSC12</th>\n    </tr>\n    <tr>\n      <th>Date</th>\n      <th></th>\n      <th></th>\n      <th></th>\n      <th></th>\n      <th></th>\n      <th></th>\n      <th></th>\n      <th></th>\n      <th></th>\n      <th></th>\n    </tr>\n  </thead>\n  <tbody>\n    <tr>\n      <th>2004-08-02</th>\n      <td>0.740</td>\n      <td>0.775</td>\n      <td>26760000</td>\n      <td>0.742500</td>\n      <td>0.739167</td>\n      <td>58.915809</td>\n      <td>-0.000000</td>\n      <td>0.784088</td>\n      <td>-0.028262</td>\n      <td>3.119936</td>\n    </tr>\n    <tr>\n      <th>2004-08-03</th>\n      <td>0.775</td>\n      <td>0.790</td>\n      <td>63695000</td>\n      <td>0.760833</td>\n      <td>0.743333</td>\n      <td>63.753690</td>\n      <td>-6.666661</td>\n      <td>0.784526</td>\n      <td>-0.023442</td>\n      <td>9.773109</td>\n    </tr>\n    <tr>\n      <th>2004-08-04</th>\n      <td>0.765</td>\n      <td>0.770</td>\n      <td>14245000</td>\n      <td>0.765000</td>\n      <td>0.744583</td>\n      <td>53.883580</td>\n      <td>-33.333386</td>\n      <td>0.783450</td>\n      <td>-0.020995</td>\n      <td>-0.196268</td>\n    </tr>\n    <tr>\n      <th>2004-08-05</th>\n      <td>0.780</td>\n      <td>0.795</td>\n      <td>33925000</td>\n      <td>0.775000</td>\n      <td>0.748333</td>\n      <td>62.377702</td>\n      <td>-15.384601</td>\n      <td>0.784306</td>\n      <td>-0.016843</td>\n      <td>10.844935</td>\n    </tr>\n    <tr>\n      <th>2004-08-06</th>\n      <td>0.785</td>\n      <td>0.800</td>\n      <td>21670000</td>\n      <td>0.783333</td>\n      <td>0.752083</td>\n      <td>63.927979</td>\n      <td>-14.285702</td>\n      <td>0.785468</td>\n      <td>-0.013000</td>\n      <td>12.938133</td>\n    </tr>\n  </tbody>\n</table>\n</div>"
     },
     "execution_count": 147,
     "metadata": {},
     "output_type": "execute_result"
    },
    {
     "data": {
      "text/plain": "             Open  Adj Close   6day MA  12day MA     EMA12     EMA26  \\\nDate                                                                   \n2004-08-02  0.770   0.748967  0.742500  0.739167  0.753609  0.784088   \n2004-08-03  0.780   0.763463  0.760833  0.743333  0.759207  0.784526   \n2004-08-04  0.780   0.744135  0.765000  0.744583  0.760868  0.783450   \n2004-08-05  0.780   0.768295  0.775000  0.748333  0.766119  0.784306   \n2004-08-06  0.785   0.773127  0.783333  0.752083  0.771331  0.785468   \n\n                OSC12  \nDate                   \n2004-08-02   3.119936  \n2004-08-03   9.773109  \n2004-08-04  -0.196268  \n2004-08-05  10.844935  \n2004-08-06  12.938133  ",
      "text/html": "<div>\n<style scoped>\n    .dataframe tbody tr th:only-of-type {\n        vertical-align: middle;\n    }\n\n    .dataframe tbody tr th {\n        vertical-align: top;\n    }\n\n    .dataframe thead th {\n        text-align: right;\n    }\n</style>\n<table border=\"1\" class=\"dataframe\">\n  <thead>\n    <tr style=\"text-align: right;\">\n      <th></th>\n      <th>Open</th>\n      <th>Adj Close</th>\n      <th>6day MA</th>\n      <th>12day MA</th>\n      <th>EMA12</th>\n      <th>EMA26</th>\n      <th>OSC12</th>\n    </tr>\n    <tr>\n      <th>Date</th>\n      <th></th>\n      <th></th>\n      <th></th>\n      <th></th>\n      <th></th>\n      <th></th>\n      <th></th>\n    </tr>\n  </thead>\n  <tbody>\n    <tr>\n      <th>2004-08-02</th>\n      <td>0.770</td>\n      <td>0.748967</td>\n      <td>0.742500</td>\n      <td>0.739167</td>\n      <td>0.753609</td>\n      <td>0.784088</td>\n      <td>3.119936</td>\n    </tr>\n    <tr>\n      <th>2004-08-03</th>\n      <td>0.780</td>\n      <td>0.763463</td>\n      <td>0.760833</td>\n      <td>0.743333</td>\n      <td>0.759207</td>\n      <td>0.784526</td>\n      <td>9.773109</td>\n    </tr>\n    <tr>\n      <th>2004-08-04</th>\n      <td>0.780</td>\n      <td>0.744135</td>\n      <td>0.765000</td>\n      <td>0.744583</td>\n      <td>0.760868</td>\n      <td>0.783450</td>\n      <td>-0.196268</td>\n    </tr>\n    <tr>\n      <th>2004-08-05</th>\n      <td>0.780</td>\n      <td>0.768295</td>\n      <td>0.775000</td>\n      <td>0.748333</td>\n      <td>0.766119</td>\n      <td>0.784306</td>\n      <td>10.844935</td>\n    </tr>\n    <tr>\n      <th>2004-08-06</th>\n      <td>0.785</td>\n      <td>0.773127</td>\n      <td>0.783333</td>\n      <td>0.752083</td>\n      <td>0.771331</td>\n      <td>0.785468</td>\n      <td>12.938133</td>\n    </tr>\n  </tbody>\n</table>\n</div>"
     },
     "execution_count": 167,
     "metadata": {},
     "output_type": "execute_result"
    }
   ],
   "source": [
    "X = df[df.columns[list(backwardModel.k_feature_idx_)]]\n",
    "x_unseen=X[-100:]\n",
    "X = X[:-100]\n",
    "y_unseen=y[-100:]\n",
    "y = y[:-100]\n",
    "X.head()"
   ],
   "metadata": {
    "collapsed": false,
    "pycharm": {
     "name": "#%%\n"
    }
   }
  },
  {
   "cell_type": "code",
   "execution_count": 168,
   "metadata": {
    "pycharm": {
     "name": "#%%\n"
    }
   },
   "outputs": [],
   "source": [
    "# Split the data into train and test with 90 & 10 % respectively\n",
    "x_train, x_test, y_train, y_test = train_test_split(X, y, test_size=0.2)"
   ]
  },
  {
   "cell_type": "code",
   "execution_count": 169,
   "metadata": {
    "pycharm": {
     "name": "#%%\n"
    }
   },
   "outputs": [
    {
     "data": {
      "text/plain": "Pipeline(steps=[('minmaxscaler', MinMaxScaler(feature_range=(-1, 1))),\n                ('randomforestregressor', RandomForestRegressor())])"
     },
     "execution_count": 149,
     "metadata": {},
     "output_type": "execute_result"
    },
    {
     "data": {
      "text/plain": "Pipeline(steps=[('minmaxscaler', MinMaxScaler(feature_range=(-1, 1))),\n                ('randomforestregressor', RandomForestRegressor())])"
     },
     "execution_count": 169,
     "metadata": {},
     "output_type": "execute_result"
    }
   ],
   "source": [
    "regr=make_pipeline(MinMaxScaler(feature_range=(-1,1)),RandomForestRegressor())\n",
    "regr.fit(x_train,y_train)"
   ]
  },
  {
   "cell_type": "code",
   "execution_count": 181,
   "metadata": {
    "pycharm": {
     "name": "#%%\n"
    }
   },
   "outputs": [],
   "source": [
    "y_pred=regr.predict(x_test)"
   ]
  },
  {
   "cell_type": "code",
   "execution_count": 182,
   "metadata": {
    "pycharm": {
     "name": "#%%\n"
    }
   },
   "outputs": [
    {
     "data": {
      "text/plain": "<Figure size 432x288 with 1 Axes>",
      "image/png": "[encoded data removed]"
     },
     "metadata": {
      "needs_background": "light"
     },
     "output_type": "display_data"
    }
   ],
   "source": [
    "plt.plot(y_test, marker='.', label=\"true\")\n",
    "plt.plot(y_pred, 'r',marker='*', label=\"prediction\")\n",
    "plt.ylabel('Value')\n",
    "plt.xlabel('Time Step')\n",
    "plt.legend()\n",
    "plt.show();"
   ]
  },
  {
   "cell_type": "code",
   "execution_count": 183,
   "metadata": {
    "pycharm": {
     "name": "#%%\n"
    }
   },
   "outputs": [
    {
     "data": {
      "text/plain": "0.020065547907102247"
     },
     "execution_count": 183,
     "metadata": {},
     "output_type": "execute_result"
    }
   ],
   "source": [
    "mean_absolute_percentage_error(y_test,y_pred)"
   ]
  },
  {
   "cell_type": "code",
   "execution_count": 184,
   "metadata": {},
   "outputs": [
    {
     "data": {
      "text/plain": "0.9990134149717167"
     },
     "execution_count": 184,
     "metadata": {},
     "output_type": "execute_result"
    }
   ],
   "source": [
    "r2_score(y_test,y_pred)"
   ]
  },
  {
   "cell_type": "code",
   "execution_count": 185,
   "metadata": {},
   "outputs": [
    {
     "data": {
      "text/plain": "5.315845400539137"
     },
     "execution_count": 185,
     "metadata": {},
     "output_type": "execute_result"
    }
   ],
   "source": [
    "mean_squared_error(y_test,y_pred,squared=False)"
   ]
  },
  {
   "cell_type": "code",
   "execution_count": 186,
   "metadata": {
    "pycharm": {
     "name": "#%%\n"
    }
   },
   "outputs": [],
   "source": [
    "unseend_pred = regr.predict(x_unseen)"
   ]
  },
  {
   "cell_type": "code",
   "execution_count": 187,
   "metadata": {
    "pycharm": {
     "name": "#%%\n"
    }
   },
   "outputs": [
    {
     "data": {
      "text/plain": "<Figure size 432x288 with 1 Axes>",
      "image/png": "[encoded data removed]"
     },
     "metadata": {
      "needs_background": "light"
     },
     "output_type": "display_data"
    }
   ],
   "source": [
    "plt.plot(y_unseen, marker='.', label=\"true\")\n",
    "plt.plot(unseend_pred, 'r',marker='*', label=\"prediction\")\n",
    "plt.ylabel('Value')\n",
    "plt.xlabel('Time Step')\n",
    "plt.legend()\n",
    "plt.show();"
   ]
  },
  {
   "cell_type": "code",
   "execution_count": 188,
   "metadata": {
    "pycharm": {
     "name": "#%%\n"
    }
   },
   "outputs": [
    {
     "data": {
      "text/plain": "0.0228965601290647"
     },
     "execution_count": 188,
     "metadata": {},
     "output_type": "execute_result"
    }
   ],
   "source": [
    "mean_absolute_percentage_error(y_unseen,unseend_pred)"
   ]
  },
  {
   "cell_type": "code",
   "execution_count": 189,
   "metadata": {
    "pycharm": {
     "name": "#%%\n"
    }
   },
   "outputs": [
    {
     "data": {
      "text/plain": "0.5734571772866757"
     },
     "execution_count": 189,
     "metadata": {},
     "output_type": "execute_result"
    }
   ],
   "source": [
    "r2_score(y_unseen,unseend_pred)"
   ]
  },
  {
   "cell_type": "code",
   "execution_count": 190,
   "metadata": {},
   "outputs": [
    {
     "data": {
      "text/plain": "5.315845400539137"
     },
     "execution_count": 190,
     "metadata": {},
     "output_type": "execute_result"
    }
   ],
   "source": [
    "mean_squared_error(y_test,y_pred,squared=False)"
   ]
  },
  {
   "cell_type": "code",
   "execution_count": 191,
   "metadata": {},
   "outputs": [
    {
     "data": {
      "text/plain": "                  Open   Adj Close     6day MA    12day MA       EMA12  \\\nDate                                                                     \n2021-08-06  444.799988  453.600006  458.233332  474.966667  475.388205   \n2021-08-09  447.799988  461.600006  455.333333  468.100001  473.266944   \n2021-08-10  478.000000  486.200012  457.200002  464.366669  475.256647   \n2021-08-11  490.200012  484.000000  463.533335  463.866669  476.601778   \n2021-08-12  482.600006  482.000000  467.733337  466.866669  477.432274   \n...                ...         ...         ...         ...         ...   \n2021-12-23  454.000000  461.799988  444.366664  454.283330  452.692079   \n2021-12-24  460.799988  460.799988  445.733327  453.766663  453.939450   \n2021-12-28  457.799988  450.399994  447.799993  451.916662  453.394918   \n2021-12-29  443.600006  444.799988  450.266658  450.366661  452.072621   \n2021-12-30  446.399994  443.399994  450.699992  448.433327  450.738371   \n\n                 EMA26      OSC12  \nDate                               \n2021-08-06  507.534563 -28.422003  \n2021-08-09  504.132003 -22.637906  \n2021-08-10  502.803708  -6.540861  \n2021-08-11  501.410840  -7.722529  \n2021-08-12  499.973000  -8.865279  \n...                ...        ...  \n2021-12-23  460.916855   2.510875  \n2021-12-24  460.908198   1.414574  \n2021-12-28  460.129812  -9.558981  \n2021-12-29  458.994270 -14.963960  \n2021-12-30  457.839138 -16.327715  \n\n[100 rows x 7 columns]",
      "text/html": "<div>\n<style scoped>\n    .dataframe tbody tr th:only-of-type {\n        vertical-align: middle;\n    }\n\n    .dataframe tbody tr th {\n        vertical-align: top;\n    }\n\n    .dataframe thead th {\n        text-align: right;\n    }\n</style>\n<table border=\"1\" class=\"dataframe\">\n  <thead>\n    <tr style=\"text-align: right;\">\n      <th></th>\n      <th>Open</th>\n      <th>Adj Close</th>\n      <th>6day MA</th>\n      <th>12day MA</th>\n      <th>EMA12</th>\n      <th>EMA26</th>\n      <th>OSC12</th>\n    </tr>\n    <tr>\n      <th>Date</th>\n      <th></th>\n      <th></th>\n      <th></th>\n      <th></th>\n      <th></th>\n      <th></th>\n      <th></th>\n    </tr>\n  </thead>\n  <tbody>\n    <tr>\n      <th>2021-08-06</th>\n      <td>444.799988</td>\n      <td>453.600006</td>\n      <td>458.233332</td>\n      <td>474.966667</td>\n      <td>475.388205</td>\n      <td>507.534563</td>\n      <td>-28.422003</td>\n    </tr>\n    <tr>\n      <th>2021-08-09</th>\n      <td>447.799988</td>\n      <td>461.600006</td>\n      <td>455.333333</td>\n      <td>468.100001</td>\n      <td>473.266944</td>\n      <td>504.132003</td>\n      <td>-22.637906</td>\n    </tr>\n    <tr>\n      <th>2021-08-10</th>\n      <td>478.000000</td>\n      <td>486.200012</td>\n      <td>457.200002</td>\n      <td>464.366669</td>\n      <td>475.256647</td>\n      <td>502.803708</td>\n      <td>-6.540861</td>\n    </tr>\n    <tr>\n      <th>2021-08-11</th>\n      <td>490.200012</td>\n      <td>484.000000</td>\n      <td>463.533335</td>\n      <td>463.866669</td>\n      <td>476.601778</td>\n      <td>501.410840</td>\n      <td>-7.722529</td>\n    </tr>\n    <tr>\n      <th>2021-08-12</th>\n      <td>482.600006</td>\n      <td>482.000000</td>\n      <td>467.733337</td>\n      <td>466.866669</td>\n      <td>477.432274</td>\n      <td>499.973000</td>\n      <td>-8.865279</td>\n    </tr>\n    <tr>\n      <th>...</th>\n      <td>...</td>\n      <td>...</td>\n      <td>...</td>\n      <td>...</td>\n      <td>...</td>\n      <td>...</td>\n      <td>...</td>\n    </tr>\n    <tr>\n      <th>2021-12-23</th>\n      <td>454.000000</td>\n      <td>461.799988</td>\n      <td>444.366664</td>\n      <td>454.283330</td>\n      <td>452.692079</td>\n      <td>460.916855</td>\n      <td>2.510875</td>\n    </tr>\n    <tr>\n      <th>2021-12-24</th>\n      <td>460.799988</td>\n      <td>460.799988</td>\n      <td>445.733327</td>\n      <td>453.766663</td>\n      <td>453.939450</td>\n      <td>460.908198</td>\n      <td>1.414574</td>\n    </tr>\n    <tr>\n      <th>2021-12-28</th>\n      <td>457.799988</td>\n      <td>450.399994</td>\n      <td>447.799993</td>\n      <td>451.916662</td>\n      <td>453.394918</td>\n      <td>460.129812</td>\n      <td>-9.558981</td>\n    </tr>\n    <tr>\n      <th>2021-12-29</th>\n      <td>443.600006</td>\n      <td>444.799988</td>\n      <td>450.266658</td>\n      <td>450.366661</td>\n      <td>452.072621</td>\n      <td>458.994270</td>\n      <td>-14.963960</td>\n    </tr>\n    <tr>\n      <th>2021-12-30</th>\n      <td>446.399994</td>\n      <td>443.399994</td>\n      <td>450.699992</td>\n      <td>448.433327</td>\n      <td>450.738371</td>\n      <td>457.839138</td>\n      <td>-16.327715</td>\n    </tr>\n  </tbody>\n</table>\n<p>100 rows × 7 columns</p>\n</div>"
     },
     "execution_count": 191,
     "metadata": {},
     "output_type": "execute_result"
    }
   ],
   "source": [
    "x_unseen"
   ]
  },
  {
   "cell_type": "code",
   "execution_count": 180,
   "outputs": [],
   "source": [],
   "metadata": {
    "collapsed": false,
    "pycharm": {
     "name": "#%%\n"
    }
   }
  }
 ],
 "metadata": {
  "kernelspec": {
   "display_name": "Python 3",
   "language": "python",
   "name": "python3"
  },
  "language_info": {
   "codemirror_mode": {
    "name": "ipython",
    "version": 3
   },
   "file_extension": ".py",
   "mimetype": "text/x-python",
   "name": "python",
   "nbconvert_exporter": "python",
   "pygments_lexer": "ipython3",
   "version": "3.8.8"
  }
 },
 "nbformat": 4,
 "nbformat_minor": 1
}