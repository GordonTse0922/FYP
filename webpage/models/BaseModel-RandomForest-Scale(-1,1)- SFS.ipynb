{
 "cells": [
  {
   "cell_type": "code",
   "execution_count": 119,
   "metadata": {},
   "outputs": [],
   "source": [
    "import yfinance as yf\n",
    "import keras.backend as K\n",
    "import pandas as pd\n",
    "import numpy as np\n",
    "import matplotlib.pyplot as plt\n",
    "from sklearn.svm import SVR\n",
    "from sklearn.preprocessing import MinMaxScaler ,StandardScaler\n",
    "from sklearn.model_selection import train_test_split\n",
    "from sklearn.metrics import classification_report,accuracy_score, mean_squared_error,mean_absolute_percentage_error,r2_score\n",
    "from sklearn.ensemble import RandomForestRegressor\n",
    "from sklearn.pipeline import make_pipeline\n",
    "import tensorflow as tf\n",
    "from tensorflow import keras\n",
    "from keras.layers import LSTM,Dropout, BatchNormalization, Dense\n",
    "from keras.callbacks import ModelCheckpoint, EarlyStopping, ReduceLROnPlateau, CSVLogger\n",
    "from keras.models import Sequential\n",
    "from keras.optimizer_v2.adam import Adam\n",
    "from keras.optimizer_v2.rmsprop import RMSprop\n",
    "import talib"
   ]
  },
  {
   "cell_type": "code",
   "execution_count": 120,
   "metadata": {
    "pycharm": {
     "name": "#%%\n"
    }
   },
   "outputs": [
    {
     "name": "stdout",
     "output_type": "stream",
     "text": [
      "[*********************100%***********************]  1 of 1 completed\n"
     ]
    }
   ],
   "source": [
    "data=yf.download(\"0700.hk\")"
   ]
  },
  {
   "cell_type": "code",
   "execution_count": 121,
   "metadata": {
    "pycharm": {
     "name": "#%%\n"
    }
   },
   "outputs": [
    {
     "name": "stdout",
     "output_type": "stream",
     "text": [
      "                  Open        High         Low       Close   Adj Close  \\\n",
      "Date                                                                     \n",
      "2004-08-02    0.770000    0.775000    0.740000    0.775000    0.748967   \n",
      "2004-08-03    0.780000    0.795000    0.775000    0.790000    0.763463   \n",
      "2004-08-04    0.780000    0.785000    0.765000    0.770000    0.744134   \n",
      "2004-08-05    0.780000    0.805000    0.780000    0.795000    0.768295   \n",
      "2004-08-06    0.785000    0.810000    0.785000    0.800000    0.773127   \n",
      "...                ...         ...         ...         ...         ...   \n",
      "2021-12-23  454.000000  468.799988  449.200012  461.799988  461.799988   \n",
      "2021-12-24  460.799988  460.799988  460.799988  460.799988  460.799988   \n",
      "2021-12-28  457.799988  459.200012  445.000000  450.399994  450.399994   \n",
      "2021-12-29  443.600006  445.600006  440.399994  444.799988  444.799988   \n",
      "2021-12-30  446.399994  450.799988  442.000000  443.399994  443.399994   \n",
      "\n",
      "              Volume     6day MA    12day MA        RSI        %R5       %R10  \\\n",
      "Date                                                                            \n",
      "2004-08-02  26760000    0.742500    0.739167  58.915809  -0.000000  -0.000000   \n",
      "2004-08-03  63695000    0.760833    0.743333  63.753690  -6.666661  -4.166663   \n",
      "2004-08-04  14245000    0.765000    0.744583  53.883580 -33.333386 -20.833362   \n",
      "2004-08-05  33925000    0.775000    0.748333  62.377702 -15.384601  -7.692301   \n",
      "2004-08-06  21670000    0.783333    0.752083  63.927979 -14.285702  -7.407401   \n",
      "...              ...         ...         ...        ...        ...        ...   \n",
      "2021-12-23  32952274  444.366664  454.283330  57.863242 -17.587945 -36.923100   \n",
      "2021-12-24         0  445.733327  453.766663  56.801866 -20.100509 -38.846177   \n",
      "2021-12-28  18949609  447.799993  451.916662  46.461429 -46.700499 -46.231155   \n",
      "2021-12-29   9589399  450.266658  450.366661  41.693332 -84.507060 -60.301526   \n",
      "2021-12-30   7664650  450.699992  448.433327  40.481632 -89.436617 -63.819100   \n",
      "\n",
      "                  MI6       MI12       EMA12       EMA26      MACD         TR  \\\n",
      "Date                                                                            \n",
      "2004-08-02   0.070000   0.040000    0.753609    0.784088 -0.028262   0.035000   \n",
      "2004-08-03   0.110000   0.050000    0.759207    0.784526 -0.023442   0.020000   \n",
      "2004-08-04   0.025000   0.015000    0.760868    0.783450 -0.020995   0.025000   \n",
      "2004-08-05   0.060000   0.045000    0.766119    0.784306 -0.016843   0.035000   \n",
      "2004-08-06   0.050000   0.045000    0.771331    0.785468 -0.013000   0.025000   \n",
      "...               ...        ...         ...         ...       ...        ...   \n",
      "2021-12-23   6.000000  -2.000000  452.692079  460.916855 -8.224775  25.799988   \n",
      "2021-12-24   8.199982  -6.200012  453.939450  460.908198 -6.968748   1.000000   \n",
      "2021-12-28  12.399994 -22.200012  453.394918  460.129812 -6.734894  15.799988   \n",
      "2021-12-29  14.799988 -18.600006  452.072621  458.994270 -6.921649  10.000000   \n",
      "2021-12-30   2.600006 -23.200012  450.738371  457.839138 -7.100767   8.799988   \n",
      "\n",
      "                 OSC6      OSC12  Prediction  \n",
      "Date                                          \n",
      "2004-08-02  24.071279   3.119936    0.790000  \n",
      "2004-08-03  34.598565   9.773109    0.770000  \n",
      "2004-08-04  10.161008  -0.196268    0.795000  \n",
      "2004-08-05  29.390628  10.844935    0.800000  \n",
      "2004-08-06  32.840655  12.938133    0.800000  \n",
      "...               ...        ...         ...  \n",
      "2021-12-23  21.440302   2.510875  460.799988  \n",
      "2021-12-24  18.839472   1.414574  450.399994  \n",
      "2021-12-28  -6.224634  -9.558981  444.799988  \n",
      "2021-12-29 -17.471514 -14.963960  443.399994  \n",
      "2021-12-30 -20.337767 -16.327715  458.000000  \n",
      "\n",
      "[4305 rows x 20 columns]\n"
     ]
    }
   ],
   "source": [
    "df = data\n",
    "data['6day MA'] = data['Close'].rolling(window = 6).mean()\n",
    "data['12day MA'] = data['Close'].rolling(window = 12).mean()\n",
    "data['RSI'] = talib.RSI(data['Close'].values, timeperiod = 7)\n",
    "data['%R5'] = talib.WILLR(data['High'].values, data['Low'].values, data['Close'].values, 5)\n",
    "data['%R10'] = talib.WILLR(data['High'].values, data['Low'].values, data['Close'].values, 10)\n",
    "data['MI6']=talib.MOM(data['Close'],timeperiod=6)\n",
    "data['MI12']=talib.MOM(data['Close'],timeperiod=12)\n",
    "macd, macdsignal, macdhist = talib.MACD(data['Close'], fastperiod=12, slowperiod=26, signalperiod=9)\n",
    "data['EMA12']=talib.EMA(data['Close'], timeperiod=12)\n",
    "data['EMA26']=talib.EMA(data['Close'],timeperiod=26)\n",
    "data['MACD']=macd\n",
    "data['TR']=talib.TRANGE(data['High'],data['Low'],data['Close'])\n",
    "data['OSC6']=talib.CMO(data['Close'], timeperiod=6)\n",
    "data['OSC12']=talib.CMO(data['Close'], timeperiod=12)\n",
    "df['Prediction'] = data[['Close']].shift(-1)\n",
    "#print data set\n",
    "df=df.dropna()\n",
    "print(df)"
   ]
  },
  {
   "cell_type": "code",
   "execution_count": 122,
   "metadata": {
    "pycharm": {
     "name": "#%%\n"
    }
   },
   "outputs": [],
   "source": [
    "\n",
    "# Create a dataset y which will be having Predicted values and convert into numpy array\n",
    "y = np.array(df['Prediction'])"
   ]
  },
  {
   "cell_type": "code",
   "execution_count": 123,
   "outputs": [
    {
     "name": "stderr",
     "output_type": "stream",
     "text": [
      "[Parallel(n_jobs=-1)]: Done  15 out of  15 | elapsed:   17.2s finished\n",
      "\n",
      "[2022-01-01 18:28:01] Features: 5/19 -- score: 0.2043343702021725[Parallel(n_jobs=-1)]: Using backend LokyBackend with 8 concurrent workers.\n",
      "[Parallel(n_jobs=-1)]: Done   7 out of  14 | elapsed:   10.9s remaining:   10.9s\n",
      "[Parallel(n_jobs=-1)]: Done  14 out of  14 | elapsed:   20.2s finished\n",
      "\n",
      "[2022-01-01 18:28:21] Features: 6/19 -- score: 0.2026287725878449[Parallel(n_jobs=-1)]: Using backend LokyBackend with 8 concurrent workers.\n",
      "[Parallel(n_jobs=-1)]: Done   5 out of  13 | elapsed:   12.2s remaining:   19.5s\n",
      "[Parallel(n_jobs=-1)]: Done  13 out of  13 | elapsed:   20.4s finished\n",
      "\n",
      "[2022-01-01 18:28:42] Features: 7/19 -- score: 0.20314080435193343[Parallel(n_jobs=-1)]: Using backend LokyBackend with 8 concurrent workers.\n",
      "[Parallel(n_jobs=-1)]: Done   4 out of  12 | elapsed:    9.2s remaining:   18.4s\n",
      "[Parallel(n_jobs=-1)]: Done  12 out of  12 | elapsed:   18.2s finished\n",
      "\n",
      "[2022-01-01 18:29:00] Features: 8/19 -- score: 0.19152943093160726[Parallel(n_jobs=-1)]: Using backend LokyBackend with 8 concurrent workers.\n",
      "[Parallel(n_jobs=-1)]: Done   2 out of  11 | elapsed:   14.7s remaining:  1.1min\n",
      "[Parallel(n_jobs=-1)]: Done   8 out of  11 | elapsed:   15.4s remaining:    5.8s\n",
      "[Parallel(n_jobs=-1)]: Done  11 out of  11 | elapsed:   24.6s finished\n",
      "\n",
      "[2022-01-01 18:29:24] Features: 9/19 -- score: 0.1878871528793766[Parallel(n_jobs=-1)]: Using backend LokyBackend with 8 concurrent workers.\n",
      "[Parallel(n_jobs=-1)]: Done   7 out of  10 | elapsed:   15.8s remaining:    6.8s\n",
      "[Parallel(n_jobs=-1)]: Done  10 out of  10 | elapsed:   22.3s finished\n",
      "\n",
      "[2022-01-01 18:29:47] Features: 10/19 -- score: 0.18179756026995977[Parallel(n_jobs=-1)]: Using backend LokyBackend with 8 concurrent workers.\n",
      "[Parallel(n_jobs=-1)]: Done   4 out of   9 | elapsed:   12.2s remaining:   15.3s\n",
      "[Parallel(n_jobs=-1)]: Done   9 out of   9 | elapsed:   21.9s remaining:    0.0s\n",
      "[Parallel(n_jobs=-1)]: Done   9 out of   9 | elapsed:   21.9s finished\n",
      "\n",
      "[2022-01-01 18:30:09] Features: 11/19 -- score: 0.1742121919684018[Parallel(n_jobs=-1)]: Using backend LokyBackend with 8 concurrent workers.\n",
      "[Parallel(n_jobs=-1)]: Done   3 out of   8 | elapsed:   19.5s remaining:   32.5s\n",
      "[Parallel(n_jobs=-1)]: Done   8 out of   8 | elapsed:   19.8s remaining:    0.0s\n",
      "[Parallel(n_jobs=-1)]: Done   8 out of   8 | elapsed:   19.8s finished\n",
      "\n",
      "[2022-01-01 18:30:28] Features: 12/19 -- score: 0.16959149480658614[Parallel(n_jobs=-1)]: Using backend LokyBackend with 8 concurrent workers.\n",
      "[Parallel(n_jobs=-1)]: Done   4 out of   7 | elapsed:   13.5s remaining:   10.1s\n",
      "[Parallel(n_jobs=-1)]: Done   7 out of   7 | elapsed:   13.6s finished\n",
      "\n",
      "[2022-01-01 18:30:42] Features: 13/19 -- score: 0.16804749369707844[Parallel(n_jobs=-1)]: Using backend LokyBackend with 8 concurrent workers.\n",
      "[Parallel(n_jobs=-1)]: Done   3 out of   6 | elapsed:   14.0s remaining:   14.0s\n",
      "[Parallel(n_jobs=-1)]: Done   6 out of   6 | elapsed:   14.3s finished\n",
      "\n",
      "[2022-01-01 18:30:56] Features: 14/19 -- score: 0.15454266373752037[Parallel(n_jobs=-1)]: Using backend LokyBackend with 8 concurrent workers.\n",
      "[Parallel(n_jobs=-1)]: Done   2 out of   5 | elapsed:   18.6s remaining:   27.8s\n",
      "[Parallel(n_jobs=-1)]: Done   5 out of   5 | elapsed:   18.8s remaining:    0.0s\n",
      "[Parallel(n_jobs=-1)]: Done   5 out of   5 | elapsed:   18.8s finished\n",
      "\n",
      "[2022-01-01 18:31:15] Features: 15/19 -- score: 0.1491947069820495[Parallel(n_jobs=-1)]: Using backend LokyBackend with 8 concurrent workers.\n",
      "[Parallel(n_jobs=-1)]: Done   4 out of   4 | elapsed:   17.5s remaining:    0.0s\n",
      "[Parallel(n_jobs=-1)]: Done   4 out of   4 | elapsed:   17.5s finished\n",
      "\n",
      "[2022-01-01 18:31:33] Features: 16/19 -- score: 0.1512979512530116[Parallel(n_jobs=-1)]: Using backend LokyBackend with 8 concurrent workers.\n",
      "[Parallel(n_jobs=-1)]: Done   3 out of   3 | elapsed:   17.1s finished\n",
      "\n",
      "[2022-01-01 18:31:50] Features: 17/19 -- score: 0.1419667268265618[Parallel(n_jobs=-1)]: Using backend LokyBackend with 8 concurrent workers.\n",
      "[Parallel(n_jobs=-1)]: Done   2 out of   2 | elapsed:   16.5s finished\n",
      "\n",
      "[2022-01-01 18:32:06] Features: 18/19 -- score: 0.13783383453457104[Parallel(n_jobs=-1)]: Using backend LokyBackend with 8 concurrent workers.\n",
      "[Parallel(n_jobs=-1)]: Done   1 out of   1 | elapsed:   14.0s finished\n",
      "\n",
      "[2022-01-01 18:32:20] Features: 19/19 -- score: 0.12470435022007922"
     ]
    },
    {
     "data": {
      "text/plain": "SequentialFeatureSelector(estimator=RandomForestRegressor(), k_features=(1, 19),\n                          n_jobs=-1, scoring='r2', verbose=2)"
     },
     "execution_count": 103,
     "metadata": {},
     "output_type": "execute_result"
    },
    {
     "name": "stderr",
     "output_type": "stream",
     "text": [
      "/var/folders/8h/w0jn89bj2w5g85gj4ck7w0t00000gn/T/ipykernel_82849/938152188.py:11: FutureWarning: In a future version of pandas all arguments of DataFrame.drop except for the argument 'labels' will be keyword-only\n",
      "  backwardModel.fit(np.array(df.drop('Prediction',1)),y.ravel())\n",
      "[Parallel(n_jobs=-1)]: Using backend LokyBackend with 8 concurrent workers.\n",
      "[Parallel(n_jobs=-1)]: Done  14 out of  19 | elapsed:    1.8s remaining:    0.7s\n",
      "[Parallel(n_jobs=-1)]: Done  19 out of  19 | elapsed:    2.3s finished\n",
      "\n",
      "[2022-01-01 18:32:23] Features: 1/10 -- score: 0.9997078771512982[Parallel(n_jobs=-1)]: Using backend LokyBackend with 8 concurrent workers.\n",
      "[Parallel(n_jobs=-1)]: Done  13 out of  18 | elapsed:    2.1s remaining:    0.8s\n",
      "[Parallel(n_jobs=-1)]: Done  18 out of  18 | elapsed:    2.8s finished\n",
      "\n",
      "[2022-01-01 18:32:26] Features: 2/10 -- score: 0.9998467455215406[Parallel(n_jobs=-1)]: Using backend LokyBackend with 8 concurrent workers.\n",
      "[Parallel(n_jobs=-1)]: Done  11 out of  17 | elapsed:    2.7s remaining:    1.5s\n",
      "[Parallel(n_jobs=-1)]: Done  17 out of  17 | elapsed:    3.4s finished\n",
      "\n",
      "[2022-01-01 18:32:30] Features: 3/10 -- score: 0.9998512753312522[Parallel(n_jobs=-1)]: Using backend LokyBackend with 8 concurrent workers.\n",
      "[Parallel(n_jobs=-1)]: Done  10 out of  16 | elapsed:    2.9s remaining:    1.7s\n",
      "[Parallel(n_jobs=-1)]: Done  16 out of  16 | elapsed:    3.0s finished\n",
      "\n",
      "[2022-01-01 18:32:33] Features: 4/10 -- score: 0.9998567690968515[Parallel(n_jobs=-1)]: Using backend LokyBackend with 8 concurrent workers.\n",
      "[Parallel(n_jobs=-1)]: Done   8 out of  15 | elapsed:    1.9s remaining:    1.7s\n",
      "[Parallel(n_jobs=-1)]: Done  15 out of  15 | elapsed:    3.5s finished\n",
      "\n",
      "[2022-01-01 18:32:36] Features: 5/10 -- score: 0.9998590246993213[Parallel(n_jobs=-1)]: Using backend LokyBackend with 8 concurrent workers.\n",
      "[Parallel(n_jobs=-1)]: Done   7 out of  14 | elapsed:    2.1s remaining:    2.1s\n",
      "[Parallel(n_jobs=-1)]: Done  14 out of  14 | elapsed:    3.8s finished\n",
      "\n",
      "[2022-01-01 18:32:40] Features: 6/10 -- score: 0.9998605847307351[Parallel(n_jobs=-1)]: Using backend LokyBackend with 8 concurrent workers.\n",
      "[Parallel(n_jobs=-1)]: Done   5 out of  13 | elapsed:    2.6s remaining:    4.1s\n",
      "[Parallel(n_jobs=-1)]: Done  13 out of  13 | elapsed:    4.9s finished\n",
      "\n",
      "[2022-01-01 18:32:45] Features: 7/10 -- score: 0.999859462857638[Parallel(n_jobs=-1)]: Using backend LokyBackend with 8 concurrent workers.\n",
      "[Parallel(n_jobs=-1)]: Done   4 out of  12 | elapsed:    3.2s remaining:    6.3s\n",
      "[Parallel(n_jobs=-1)]: Done  12 out of  12 | elapsed:    5.6s finished\n",
      "\n",
      "[2022-01-01 18:32:50] Features: 8/10 -- score: 0.999860974056662[Parallel(n_jobs=-1)]: Using backend LokyBackend with 8 concurrent workers.\n",
      "[Parallel(n_jobs=-1)]: Done   2 out of  11 | elapsed:    3.4s remaining:   15.3s\n",
      "[Parallel(n_jobs=-1)]: Done   8 out of  11 | elapsed:    3.7s remaining:    1.4s\n",
      "[Parallel(n_jobs=-1)]: Done  11 out of  11 | elapsed:    5.9s finished\n",
      "\n",
      "[2022-01-01 18:32:56] Features: 9/10 -- score: 0.9998635913868648[Parallel(n_jobs=-1)]: Using backend LokyBackend with 8 concurrent workers.\n",
      "[Parallel(n_jobs=-1)]: Done   7 out of  10 | elapsed:    3.8s remaining:    1.6s\n",
      "[Parallel(n_jobs=-1)]: Done  10 out of  10 | elapsed:    5.6s finished\n",
      "\n",
      "[2022-01-01 18:33:02] Features: 10/10 -- score: 0.9998597340721991"
     ]
    },
    {
     "data": {
      "text/plain": "SequentialFeatureSelector(cv=0, estimator=RandomForestRegressor(),\n                          k_features=(1, 10), n_jobs=-1, scoring='r2',\n                          verbose=2)"
     },
     "execution_count": 123,
     "metadata": {},
     "output_type": "execute_result"
    }
   ],
   "source": [
    "from mlxtend.feature_selection import SequentialFeatureSelector as sfs\n",
    "from sklearn.ensemble import RandomForestRegressor\n",
    "#k_features=10 (It will get top 10 features best suited for prediction)\n",
    "#forward=False (Backward feature selection model)\n",
    "#verbose=2 (It will show details output as shown below.)\n",
    "#cv=5 (Kfold cross valiation: it will split the training set in 5 set and 4 will be using for training the model and 1 will using as validation)\n",
    "#n_jobs=-1 (Number of cores it will use for execution.-1 means it will use all the cores of CPU for execution.)\n",
    "#scoring='r2'(R-squared is a statistical measure of how close the data are to the fitted regression line)\n",
    "backwardModel=sfs(RandomForestRegressor(),k_features=(1,10),forward=True,verbose=2,cv=0,n_jobs=-1,scoring='r2')\n",
    "#We will convert our training data into numpy array. If we will not convert it, model is not able to read some of the column names.\n",
    "backwardModel.fit(np.array(df.drop('Prediction',1)),y.ravel())"
   ],
   "metadata": {
    "collapsed": false,
    "pycharm": {
     "name": "#%%\n"
    }
   }
  },
  {
   "cell_type": "code",
   "execution_count": 150,
   "outputs": [
    {
     "data": {
      "text/plain": "Index(['Open', 'High', 'Close', 'Adj Close', 'RSI', '%R5', 'EMA26', 'MACD',\n       'OSC6'],\n      dtype='object')"
     },
     "execution_count": 150,
     "metadata": {},
     "output_type": "execute_result"
    }
   ],
   "source": [
    "df.columns[list(backwardModel.k_feature_idx_)]"
   ],
   "metadata": {
    "collapsed": false,
    "pycharm": {
     "name": "#%%\n"
    }
   }
  },
  {
   "cell_type": "code",
   "execution_count": 125,
   "outputs": [
    {
     "data": {
      "text/plain": "             Open\nDate             \n2004-08-02  0.770\n2004-08-03  0.780\n2004-08-04  0.780\n2004-08-05  0.780\n2004-08-06  0.785",
      "text/html": "<div>\n<style scoped>\n    .dataframe tbody tr th:only-of-type {\n        vertical-align: middle;\n    }\n\n    .dataframe tbody tr th {\n        vertical-align: top;\n    }\n\n    .dataframe thead th {\n        text-align: right;\n    }\n</style>\n<table border=\"1\" class=\"dataframe\">\n  <thead>\n    <tr style=\"text-align: right;\">\n      <th></th>\n      <th>Open</th>\n    </tr>\n    <tr>\n      <th>Date</th>\n      <th></th>\n    </tr>\n  </thead>\n  <tbody>\n    <tr>\n      <th>2004-08-02</th>\n      <td>0.770</td>\n    </tr>\n    <tr>\n      <th>2004-08-03</th>\n      <td>0.780</td>\n    </tr>\n    <tr>\n      <th>2004-08-04</th>\n      <td>0.780</td>\n    </tr>\n    <tr>\n      <th>2004-08-05</th>\n      <td>0.780</td>\n    </tr>\n    <tr>\n      <th>2004-08-06</th>\n      <td>0.785</td>\n    </tr>\n  </tbody>\n</table>\n</div>"
     },
     "execution_count": 105,
     "metadata": {},
     "output_type": "execute_result"
    },
    {
     "data": {
      "text/plain": "             Open   High  Close  Adj Close        RSI        %R5     EMA26  \\\nDate                                                                         \n2004-08-02  0.770  0.775  0.775   0.748967  58.915809  -0.000000  0.784088   \n2004-08-03  0.780  0.795  0.790   0.763463  63.753690  -6.666661  0.784526   \n2004-08-04  0.780  0.785  0.770   0.744134  53.883580 -33.333386  0.783450   \n2004-08-05  0.780  0.805  0.795   0.768295  62.377702 -15.384601  0.784306   \n2004-08-06  0.785  0.810  0.800   0.773127  63.927979 -14.285702  0.785468   \n\n                MACD       OSC6  \nDate                             \n2004-08-02 -0.028262  24.071279  \n2004-08-03 -0.023442  34.598565  \n2004-08-04 -0.020995  10.161008  \n2004-08-05 -0.016843  29.390628  \n2004-08-06 -0.013000  32.840655  ",
      "text/html": "<div>\n<style scoped>\n    .dataframe tbody tr th:only-of-type {\n        vertical-align: middle;\n    }\n\n    .dataframe tbody tr th {\n        vertical-align: top;\n    }\n\n    .dataframe thead th {\n        text-align: right;\n    }\n</style>\n<table border=\"1\" class=\"dataframe\">\n  <thead>\n    <tr style=\"text-align: right;\">\n      <th></th>\n      <th>Open</th>\n      <th>High</th>\n      <th>Close</th>\n      <th>Adj Close</th>\n      <th>RSI</th>\n      <th>%R5</th>\n      <th>EMA26</th>\n      <th>MACD</th>\n      <th>OSC6</th>\n    </tr>\n    <tr>\n      <th>Date</th>\n      <th></th>\n      <th></th>\n      <th></th>\n      <th></th>\n      <th></th>\n      <th></th>\n      <th></th>\n      <th></th>\n      <th></th>\n    </tr>\n  </thead>\n  <tbody>\n    <tr>\n      <th>2004-08-02</th>\n      <td>0.770</td>\n      <td>0.775</td>\n      <td>0.775</td>\n      <td>0.748967</td>\n      <td>58.915809</td>\n      <td>-0.000000</td>\n      <td>0.784088</td>\n      <td>-0.028262</td>\n      <td>24.071279</td>\n    </tr>\n    <tr>\n      <th>2004-08-03</th>\n      <td>0.780</td>\n      <td>0.795</td>\n      <td>0.790</td>\n      <td>0.763463</td>\n      <td>63.753690</td>\n      <td>-6.666661</td>\n      <td>0.784526</td>\n      <td>-0.023442</td>\n      <td>34.598565</td>\n    </tr>\n    <tr>\n      <th>2004-08-04</th>\n      <td>0.780</td>\n      <td>0.785</td>\n      <td>0.770</td>\n      <td>0.744134</td>\n      <td>53.883580</td>\n      <td>-33.333386</td>\n      <td>0.783450</td>\n      <td>-0.020995</td>\n      <td>10.161008</td>\n    </tr>\n    <tr>\n      <th>2004-08-05</th>\n      <td>0.780</td>\n      <td>0.805</td>\n      <td>0.795</td>\n      <td>0.768295</td>\n      <td>62.377702</td>\n      <td>-15.384601</td>\n      <td>0.784306</td>\n      <td>-0.016843</td>\n      <td>29.390628</td>\n    </tr>\n    <tr>\n      <th>2004-08-06</th>\n      <td>0.785</td>\n      <td>0.810</td>\n      <td>0.800</td>\n      <td>0.773127</td>\n      <td>63.927979</td>\n      <td>-14.285702</td>\n      <td>0.785468</td>\n      <td>-0.013000</td>\n      <td>32.840655</td>\n    </tr>\n  </tbody>\n</table>\n</div>"
     },
     "execution_count": 125,
     "metadata": {},
     "output_type": "execute_result"
    }
   ],
   "source": [
    "X = df[df.columns[list(backwardModel.k_feature_idx_)]]\n",
    "x_unseen=X[-100:]\n",
    "X = X[:-100]\n",
    "y_unseen=y[-100:]\n",
    "y = y[:-100]\n",
    "X.head()"
   ],
   "metadata": {
    "collapsed": false,
    "pycharm": {
     "name": "#%%\n"
    }
   }
  },
  {
   "cell_type": "code",
   "execution_count": 126,
   "metadata": {
    "pycharm": {
     "name": "#%%\n"
    }
   },
   "outputs": [],
   "source": [
    "x_train, x_test, y_train, y_test = train_test_split(X, y, test_size=0.2)"
   ]
  },
  {
   "cell_type": "code",
   "execution_count": 127,
   "metadata": {
    "pycharm": {
     "name": "#%%\n"
    }
   },
   "outputs": [
    {
     "data": {
      "text/plain": "Pipeline(steps=[('minmaxscaler', MinMaxScaler(feature_range=(-1, 1))),\n                ('randomforestregressor', RandomForestRegressor())])"
     },
     "execution_count": 107,
     "metadata": {},
     "output_type": "execute_result"
    },
    {
     "data": {
      "text/plain": "Pipeline(steps=[('minmaxscaler', MinMaxScaler(feature_range=(-1, 1))),\n                ('randomforestregressor', RandomForestRegressor())])"
     },
     "execution_count": 127,
     "metadata": {},
     "output_type": "execute_result"
    }
   ],
   "source": [
    "regr=make_pipeline(MinMaxScaler(feature_range=(-1,1)),RandomForestRegressor())\n",
    "regr.fit(x_train,y_train)"
   ]
  },
  {
   "cell_type": "code",
   "execution_count": 139,
   "metadata": {
    "pycharm": {
     "name": "#%%\n"
    }
   },
   "outputs": [],
   "source": [
    "y_pred=regr.predict(x_test)"
   ]
  },
  {
   "cell_type": "code",
   "execution_count": 140,
   "metadata": {
    "pycharm": {
     "name": "#%%\n"
    }
   },
   "outputs": [
    {
     "data": {
      "text/plain": "<Figure size 432x288 with 1 Axes>",
      "image/png": "[encoded data removed]"
     },
     "metadata": {
      "needs_background": "light"
     },
     "output_type": "display_data"
    }
   ],
   "source": [
    "plt.plot(y_test, marker='.', label=\"true\")\n",
    "plt.plot(y_pred, 'r',marker='*', label=\"prediction\")\n",
    "plt.ylabel('Value')\n",
    "plt.xlabel('Time Step')\n",
    "plt.legend()\n",
    "plt.show();"
   ]
  },
  {
   "cell_type": "code",
   "execution_count": 141,
   "metadata": {
    "pycharm": {
     "name": "#%%\n"
    }
   },
   "outputs": [
    {
     "data": {
      "text/plain": "0.020636397948936694"
     },
     "execution_count": 141,
     "metadata": {},
     "output_type": "execute_result"
    }
   ],
   "source": [
    "mean_absolute_percentage_error(y_test,y_pred)"
   ]
  },
  {
   "cell_type": "code",
   "execution_count": 142,
   "metadata": {},
   "outputs": [
    {
     "data": {
      "text/plain": "0.9989176384558901"
     },
     "execution_count": 142,
     "metadata": {},
     "output_type": "execute_result"
    }
   ],
   "source": [
    "r2_score(y_test,y_pred)"
   ]
  },
  {
   "cell_type": "code",
   "execution_count": 143,
   "metadata": {},
   "outputs": [
    {
     "data": {
      "text/plain": "5.574434751655233"
     },
     "execution_count": 143,
     "metadata": {},
     "output_type": "execute_result"
    }
   ],
   "source": [
    "mean_squared_error(y_test,y_pred,squared=False)"
   ]
  },
  {
   "cell_type": "code",
   "execution_count": 144,
   "metadata": {
    "pycharm": {
     "name": "#%%\n"
    }
   },
   "outputs": [],
   "source": [
    "unseend_pred = regr.predict(x_unseen)"
   ]
  },
  {
   "cell_type": "code",
   "execution_count": 145,
   "metadata": {
    "pycharm": {
     "name": "#%%\n"
    }
   },
   "outputs": [
    {
     "data": {
      "text/plain": "<Figure size 432x288 with 1 Axes>",
      "image/png": "[encoded data removed]"
     },
     "metadata": {
      "needs_background": "light"
     },
     "output_type": "display_data"
    }
   ],
   "source": [
    "plt.plot(y_unseen, marker='.', label=\"true\")\n",
    "plt.plot(unseend_pred, 'r',marker='*', label=\"prediction\")\n",
    "plt.ylabel('Value')\n",
    "plt.xlabel('Time Step')\n",
    "plt.legend()\n",
    "plt.show();"
   ]
  },
  {
   "cell_type": "code",
   "execution_count": 146,
   "metadata": {
    "pycharm": {
     "name": "#%%\n"
    }
   },
   "outputs": [
    {
     "data": {
      "text/plain": "0.020901107580042537"
     },
     "execution_count": 146,
     "metadata": {},
     "output_type": "execute_result"
    }
   ],
   "source": [
    "mean_absolute_percentage_error(y_unseen,unseend_pred)"
   ]
  },
  {
   "cell_type": "code",
   "execution_count": 147,
   "metadata": {
    "pycharm": {
     "name": "#%%\n"
    }
   },
   "outputs": [
    {
     "data": {
      "text/plain": "0.6236888940270596"
     },
     "execution_count": 147,
     "metadata": {},
     "output_type": "execute_result"
    }
   ],
   "source": [
    "r2_score(y_unseen,unseend_pred)"
   ]
  },
  {
   "cell_type": "code",
   "execution_count": 148,
   "metadata": {},
   "outputs": [
    {
     "data": {
      "text/plain": "5.574434751655233"
     },
     "execution_count": 148,
     "metadata": {},
     "output_type": "execute_result"
    }
   ],
   "source": [
    "mean_squared_error(y_test,y_pred,squared=False)"
   ]
  },
  {
   "cell_type": "code",
   "execution_count": 149,
   "metadata": {},
   "outputs": [
    {
     "data": {
      "text/plain": "                  Open        High       Close   Adj Close        RSI  \\\nDate                                                                    \n2021-08-06  444.799988  460.399994  453.600006  453.600006  37.894738   \n2021-08-09  447.799988  472.399994  461.600006  461.600006  42.430636   \n2021-08-10  478.000000  493.000000  486.200012  486.200012  54.382994   \n2021-08-11  490.200012  492.600006  484.000000  484.000000  53.229927   \n2021-08-12  482.600006  491.200012  482.000000  482.000000  52.059239   \n...                ...         ...         ...         ...        ...   \n2021-12-23  454.000000  468.799988  461.799988  461.799988  57.863242   \n2021-12-24  460.799988  460.799988  460.799988  460.799988  56.801866   \n2021-12-28  457.799988  459.200012  450.399994  450.399994  46.461429   \n2021-12-29  443.600006  445.600006  444.799988  444.799988  41.693332   \n2021-12-30  446.399994  450.799988  443.399994  443.399994  40.481632   \n\n                  %R5       EMA26       MACD       OSC6  \nDate                                                     \n2021-08-06 -45.652156  507.534563 -32.146358 -22.096971  \n2021-08-09 -22.131128  504.132003 -30.865059 -11.665801  \n2021-08-10 -11.258259  502.803708 -27.547061  15.099159  \n2021-08-11 -14.900664  501.410840 -24.809062  12.212738  \n2021-08-12 -20.754717  499.973000 -22.540727   9.224644  \n...               ...         ...        ...        ...  \n2021-12-23 -17.587945  460.916855  -8.224775  21.440302  \n2021-12-24 -20.100509  460.908198  -6.968748  18.839472  \n2021-12-28 -46.700499  460.129812  -6.734894  -6.224634  \n2021-12-29 -84.507060  458.994270  -6.921649 -17.471514  \n2021-12-30 -89.436617  457.839138  -7.100767 -20.337767  \n\n[100 rows x 9 columns]",
      "text/html": "<div>\n<style scoped>\n    .dataframe tbody tr th:only-of-type {\n        vertical-align: middle;\n    }\n\n    .dataframe tbody tr th {\n        vertical-align: top;\n    }\n\n    .dataframe thead th {\n        text-align: right;\n    }\n</style>\n<table border=\"1\" class=\"dataframe\">\n  <thead>\n    <tr style=\"text-align: right;\">\n      <th></th>\n      <th>Open</th>\n      <th>High</th>\n      <th>Close</th>\n      <th>Adj Close</th>\n      <th>RSI</th>\n      <th>%R5</th>\n      <th>EMA26</th>\n      <th>MACD</th>\n      <th>OSC6</th>\n    </tr>\n    <tr>\n      <th>Date</th>\n      <th></th>\n      <th></th>\n      <th></th>\n      <th></th>\n      <th></th>\n      <th></th>\n      <th></th>\n      <th></th>\n      <th></th>\n    </tr>\n  </thead>\n  <tbody>\n    <tr>\n      <th>2021-08-06</th>\n      <td>444.799988</td>\n      <td>460.399994</td>\n      <td>453.600006</td>\n      <td>453.600006</td>\n      <td>37.894738</td>\n      <td>-45.652156</td>\n      <td>507.534563</td>\n      <td>-32.146358</td>\n      <td>-22.096971</td>\n    </tr>\n    <tr>\n      <th>2021-08-09</th>\n      <td>447.799988</td>\n      <td>472.399994</td>\n      <td>461.600006</td>\n      <td>461.600006</td>\n      <td>42.430636</td>\n      <td>-22.131128</td>\n      <td>504.132003</td>\n      <td>-30.865059</td>\n      <td>-11.665801</td>\n    </tr>\n    <tr>\n      <th>2021-08-10</th>\n      <td>478.000000</td>\n      <td>493.000000</td>\n      <td>486.200012</td>\n      <td>486.200012</td>\n      <td>54.382994</td>\n      <td>-11.258259</td>\n      <td>502.803708</td>\n      <td>-27.547061</td>\n      <td>15.099159</td>\n    </tr>\n    <tr>\n      <th>2021-08-11</th>\n      <td>490.200012</td>\n      <td>492.600006</td>\n      <td>484.000000</td>\n      <td>484.000000</td>\n      <td>53.229927</td>\n      <td>-14.900664</td>\n      <td>501.410840</td>\n      <td>-24.809062</td>\n      <td>12.212738</td>\n    </tr>\n    <tr>\n      <th>2021-08-12</th>\n      <td>482.600006</td>\n      <td>491.200012</td>\n      <td>482.000000</td>\n      <td>482.000000</td>\n      <td>52.059239</td>\n      <td>-20.754717</td>\n      <td>499.973000</td>\n      <td>-22.540727</td>\n      <td>9.224644</td>\n    </tr>\n    <tr>\n      <th>...</th>\n      <td>...</td>\n      <td>...</td>\n      <td>...</td>\n      <td>...</td>\n      <td>...</td>\n      <td>...</td>\n      <td>...</td>\n      <td>...</td>\n      <td>...</td>\n    </tr>\n    <tr>\n      <th>2021-12-23</th>\n      <td>454.000000</td>\n      <td>468.799988</td>\n      <td>461.799988</td>\n      <td>461.799988</td>\n      <td>57.863242</td>\n      <td>-17.587945</td>\n      <td>460.916855</td>\n      <td>-8.224775</td>\n      <td>21.440302</td>\n    </tr>\n    <tr>\n      <th>2021-12-24</th>\n      <td>460.799988</td>\n      <td>460.799988</td>\n      <td>460.799988</td>\n      <td>460.799988</td>\n      <td>56.801866</td>\n      <td>-20.100509</td>\n      <td>460.908198</td>\n      <td>-6.968748</td>\n      <td>18.839472</td>\n    </tr>\n    <tr>\n      <th>2021-12-28</th>\n      <td>457.799988</td>\n      <td>459.200012</td>\n      <td>450.399994</td>\n      <td>450.399994</td>\n      <td>46.461429</td>\n      <td>-46.700499</td>\n      <td>460.129812</td>\n      <td>-6.734894</td>\n      <td>-6.224634</td>\n    </tr>\n    <tr>\n      <th>2021-12-29</th>\n      <td>443.600006</td>\n      <td>445.600006</td>\n      <td>444.799988</td>\n      <td>444.799988</td>\n      <td>41.693332</td>\n      <td>-84.507060</td>\n      <td>458.994270</td>\n      <td>-6.921649</td>\n      <td>-17.471514</td>\n    </tr>\n    <tr>\n      <th>2021-12-30</th>\n      <td>446.399994</td>\n      <td>450.799988</td>\n      <td>443.399994</td>\n      <td>443.399994</td>\n      <td>40.481632</td>\n      <td>-89.436617</td>\n      <td>457.839138</td>\n      <td>-7.100767</td>\n      <td>-20.337767</td>\n    </tr>\n  </tbody>\n</table>\n<p>100 rows × 9 columns</p>\n</div>"
     },
     "execution_count": 149,
     "metadata": {},
     "output_type": "execute_result"
    }
   ],
   "source": [
    "x_unseen"
   ]
  },
  {
   "cell_type": "code",
   "execution_count": 138,
   "outputs": [],
   "source": [],
   "metadata": {
    "collapsed": false,
    "pycharm": {
     "name": "#%%\n"
    }
   }
  }
 ],
 "metadata": {
  "kernelspec": {
   "display_name": "Python 3",
   "language": "python",
   "name": "python3"
  },
  "language_info": {
   "codemirror_mode": {
    "name": "ipython",
    "version": 3
   },
   "file_extension": ".py",
   "mimetype": "text/x-python",
   "name": "python",
   "nbconvert_exporter": "python",
   "pygments_lexer": "ipython3",
   "version": "3.8.8"
  }
 },
 "nbformat": 4,
 "nbformat_minor": 1
}