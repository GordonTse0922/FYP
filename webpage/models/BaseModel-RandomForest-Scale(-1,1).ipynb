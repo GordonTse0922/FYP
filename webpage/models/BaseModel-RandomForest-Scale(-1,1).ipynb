{
 "cells": [
  {
   "cell_type": "code",
   "execution_count": 163,
   "metadata": {},
   "outputs": [],
   "source": [
    "import yfinance as yf\n",
    "import keras.backend as K\n",
    "import pandas as pd\n",
    "import numpy as np\n",
    "import matplotlib.pyplot as plt\n",
    "from sklearn.svm import SVR\n",
    "from sklearn.preprocessing import MinMaxScaler ,StandardScaler\n",
    "from sklearn.model_selection import train_test_split\n",
    "from sklearn.metrics import classification_report,accuracy_score, mean_squared_error,mean_absolute_percentage_error,r2_score\n",
    "from sklearn.ensemble import RandomForestRegressor\n",
    "from sklearn.pipeline import make_pipeline\n",
    "import tensorflow as tf\n",
    "from tensorflow import keras\n",
    "from keras.layers import LSTM,Dropout, BatchNormalization, Dense\n",
    "from keras.callbacks import ModelCheckpoint, EarlyStopping, ReduceLROnPlateau, CSVLogger\n",
    "from keras.models import Sequential\n",
    "from keras.optimizer_v2.adam import Adam\n",
    "from keras.optimizer_v2.rmsprop import RMSprop\n",
    "import talib"
   ]
  },
  {
   "cell_type": "code",
   "execution_count": 164,
   "metadata": {
    "pycharm": {
     "name": "#%%\n"
    }
   },
   "outputs": [
    {
     "name": "stdout",
     "output_type": "stream",
     "text": [
      "[*********************100%***********************]  1 of 1 completed\n"
     ]
    }
   ],
   "source": [
    "data=yf.download(\"0700.hk\")"
   ]
  },
  {
   "cell_type": "code",
   "execution_count": 165,
   "metadata": {
    "pycharm": {
     "name": "#%%\n"
    }
   },
   "outputs": [
    {
     "name": "stdout",
     "output_type": "stream",
     "text": [
      "                  Open        High         Low       Close   Adj Close  \\\n",
      "Date                                                                     \n",
      "2004-06-16    0.875000    0.925000    0.815000    0.830000    0.802119   \n",
      "2004-06-17    0.830000    0.875000    0.825000    0.845000    0.816615   \n",
      "2004-06-18    0.840000    0.850000    0.790000    0.805000    0.777959   \n",
      "2004-06-21    0.820000    0.825000    0.790000    0.800000    0.773127   \n",
      "2004-06-22    0.800000    0.800000    0.800000    0.800000    0.773127   \n",
      "...                ...         ...         ...         ...         ...   \n",
      "2021-12-24  460.799988  460.799988  460.799988  460.799988  460.799988   \n",
      "2021-12-28  457.799988  459.200012  445.000000  450.399994  450.399994   \n",
      "2021-12-29  443.600006  445.600006  440.399994  444.799988  444.799988   \n",
      "2021-12-30  446.399994  450.799988  442.000000  443.399994  443.399994   \n",
      "2021-12-31  458.000000  458.000000  458.000000  458.000000  458.000000   \n",
      "\n",
      "                Volume  Prediction  \n",
      "Date                                \n",
      "2004-06-16  2198875000    0.845000  \n",
      "2004-06-17   419007500    0.805000  \n",
      "2004-06-18   182990000    0.800000  \n",
      "2004-06-21   114085000    0.800000  \n",
      "2004-06-22           0    0.885000  \n",
      "...                ...         ...  \n",
      "2021-12-24           0  450.399994  \n",
      "2021-12-28    18949609  444.799988  \n",
      "2021-12-29     9589399  443.399994  \n",
      "2021-12-30     7664650  458.000000  \n",
      "2021-12-31           0  453.799988  \n",
      "\n",
      "[4339 rows x 7 columns]\n"
     ]
    }
   ],
   "source": [
    "df = data\n",
    "#Create one more column Prediction shifted 15 days up.\n",
    "df['Prediction'] = data[['Close']].shift(-1)\n",
    "#print data set\n",
    "df=df.dropna()\n",
    "print(df)"
   ]
  },
  {
   "cell_type": "code",
   "execution_count": 166,
   "metadata": {
    "pycharm": {
     "name": "#%%\n"
    }
   },
   "outputs": [
    {
     "name": "stdout",
     "output_type": "stream",
     "text": [
      "(4239, 6)\n",
      "[[8.75000000e-01 9.25000012e-01 8.14999998e-01 8.29999983e-01\n",
      "  8.02119076e-01 2.19887500e+09]\n",
      " [8.29999983e-01 8.75000000e-01 8.24999988e-01 8.45000029e-01\n",
      "  8.16615164e-01 4.19007500e+08]\n",
      " [8.39999974e-01 8.50000024e-01 7.90000021e-01 8.05000007e-01\n",
      "  7.77958810e-01 1.82990000e+08]\n",
      " ...\n",
      " [4.35000000e+02 4.69799988e+02 4.34000000e+02 4.56799988e+02\n",
      "  4.56799988e+02 4.61034780e+07]\n",
      " [4.52600006e+02 4.64399994e+02 4.32600006e+02 4.39000000e+02\n",
      "  4.39000000e+02 5.86259390e+07]\n",
      " [4.44799988e+02 4.60399994e+02 4.40000000e+02 4.53600006e+02\n",
      "  4.53600006e+02 4.29465050e+07]]\n"
     ]
    },
    {
     "name": "stderr",
     "output_type": "stream",
     "text": [
      "/var/folders/8h/w0jn89bj2w5g85gj4ck7w0t00000gn/T/ipykernel_94049/3654865871.py:2: FutureWarning: In a future version of pandas all arguments of DataFrame.drop except for the argument 'labels' will be keyword-only\n",
      "  X = np.array(df.drop(['Prediction'],1))\n"
     ]
    }
   ],
   "source": [
    "#Create a data set X and convert it into numpy array , which will be having actual values\n",
    "X = np.array(df.drop(['Prediction'],1))\n",
    "scaler=MinMaxScaler(feature_range=(-1,1))\n",
    "# X=scaler.fit_transform(X)\n",
    "#Remove the last 15 rows\n",
    "x_unseen=X[-100:]\n",
    "X = X[:-100]\n",
    "print(X.shape)\n",
    "# Create a dataset y which will be having Predicted values and convert into numpy array\n",
    "y = np.array(df['Prediction'])\n",
    "# Remove Last 15 rows\n",
    "y_unseen=y[-100:]\n",
    "y = y[:-100]\n",
    "print(X)"
   ]
  },
  {
   "cell_type": "code",
   "execution_count": 167,
   "metadata": {
    "pycharm": {
     "name": "#%%\n"
    }
   },
   "outputs": [],
   "source": [
    "# Split the data into train and test with 90 & 10 % respectively\n",
    "x_train, x_test, y_train, y_test = train_test_split(X, y, test_size=0.2,shuffle=False)"
   ]
  },
  {
   "cell_type": "code",
   "execution_count": 168,
   "metadata": {
    "pycharm": {
     "name": "#%%\n"
    }
   },
   "outputs": [
    {
     "data": {
      "text/plain": "Pipeline(steps=[('minmaxscaler', MinMaxScaler(feature_range=(-1, 1))),\n                ('randomforestregressor', RandomForestRegressor())])"
     },
     "execution_count": 168,
     "metadata": {},
     "output_type": "execute_result"
    }
   ],
   "source": [
    "regr=make_pipeline(MinMaxScaler(feature_range=(-1,1)),RandomForestRegressor())\n",
    "regr.fit(x_train,y_train)"
   ]
  },
  {
   "cell_type": "code",
   "execution_count": 169,
   "metadata": {
    "pycharm": {
     "name": "#%%\n"
    }
   },
   "outputs": [],
   "source": [
    "y_pred=regr.predict(x_test)"
   ]
  },
  {
   "cell_type": "code",
   "execution_count": 170,
   "metadata": {
    "pycharm": {
     "name": "#%%\n"
    }
   },
   "outputs": [
    {
     "data": {
      "text/plain": "<Figure size 432x288 with 1 Axes>",
      "image/png": "[encoded data removed]"
     },
     "metadata": {
      "needs_background": "light"
     },
     "output_type": "display_data"
    }
   ],
   "source": [
    "plt.plot(y_test, marker='.', label=\"true\")\n",
    "plt.plot(y_pred, 'r',marker='*', label=\"prediction\")\n",
    "plt.ylabel('Value')\n",
    "plt.xlabel('Time Step')\n",
    "plt.legend()\n",
    "plt.show();"
   ]
  },
  {
   "cell_type": "code",
   "execution_count": 171,
   "metadata": {
    "pycharm": {
     "name": "#%%\n"
    }
   },
   "outputs": [
    {
     "data": {
      "text/plain": "0.07833337263070521"
     },
     "execution_count": 171,
     "metadata": {},
     "output_type": "execute_result"
    }
   ],
   "source": [
    "mean_absolute_percentage_error(y_test,y_pred)"
   ]
  },
  {
   "cell_type": "code",
   "execution_count": 172,
   "metadata": {},
   "outputs": [
    {
     "data": {
      "text/plain": "0.5329652256602544"
     },
     "execution_count": 172,
     "metadata": {},
     "output_type": "execute_result"
    }
   ],
   "source": [
    "r2_score(y_test,y_pred)"
   ]
  },
  {
   "cell_type": "code",
   "execution_count": 173,
   "metadata": {},
   "outputs": [
    {
     "data": {
      "text/plain": "79.19755713119648"
     },
     "execution_count": 173,
     "metadata": {},
     "output_type": "execute_result"
    }
   ],
   "source": [
    "mean_squared_error(y_test,y_pred,squared=False)"
   ]
  },
  {
   "cell_type": "code",
   "execution_count": 174,
   "metadata": {
    "pycharm": {
     "name": "#%%\n"
    }
   },
   "outputs": [],
   "source": [
    "unseend_pred = regr.predict(x_unseen)"
   ]
  },
  {
   "cell_type": "code",
   "execution_count": 175,
   "metadata": {
    "pycharm": {
     "name": "#%%\n"
    }
   },
   "outputs": [
    {
     "data": {
      "text/plain": "<Figure size 432x288 with 1 Axes>",
      "image/png": "[encoded data removed]"
     },
     "metadata": {
      "needs_background": "light"
     },
     "output_type": "display_data"
    }
   ],
   "source": [
    "plt.plot(y_unseen, marker='.', label=\"true\")\n",
    "plt.plot(unseend_pred, 'r',marker='*', label=\"prediction\")\n",
    "plt.ylabel('Value')\n",
    "plt.xlabel('Time Step')\n",
    "plt.legend()\n",
    "plt.show();"
   ]
  },
  {
   "cell_type": "code",
   "execution_count": 176,
   "metadata": {
    "pycharm": {
     "name": "#%%\n"
    }
   },
   "outputs": [
    {
     "data": {
      "text/plain": "0.034686451260272505"
     },
     "execution_count": 176,
     "metadata": {},
     "output_type": "execute_result"
    }
   ],
   "source": [
    "mean_absolute_percentage_error(y_unseen,unseend_pred)"
   ]
  },
  {
   "cell_type": "code",
   "execution_count": 177,
   "metadata": {
    "pycharm": {
     "name": "#%%\n"
    }
   },
   "outputs": [
    {
     "data": {
      "text/plain": "-0.10528746396636524"
     },
     "execution_count": 177,
     "metadata": {},
     "output_type": "execute_result"
    }
   ],
   "source": [
    "r2_score(y_unseen,unseend_pred)"
   ]
  },
  {
   "cell_type": "code",
   "execution_count": 178,
   "metadata": {},
   "outputs": [
    {
     "data": {
      "text/plain": "79.19755713119648"
     },
     "execution_count": 178,
     "metadata": {},
     "output_type": "execute_result"
    }
   ],
   "source": [
    "mean_squared_error(y_test,y_pred,squared=False)"
   ]
  },
  {
   "cell_type": "code",
   "execution_count": 179,
   "metadata": {},
   "outputs": [
    {
     "data": {
      "text/plain": "array([[4.47799988e+02, 4.72399994e+02, 4.42600006e+02, 4.61600006e+02,\n        4.61600006e+02, 4.09564330e+07],\n       [4.78000000e+02, 4.93000000e+02, 4.73200012e+02, 4.86200012e+02,\n        4.86200012e+02, 4.08819860e+07],\n       [4.90200012e+02, 4.92600006e+02, 4.80000000e+02, 4.84000000e+02,\n        4.84000000e+02, 2.01456590e+07],\n       [4.82600006e+02, 4.91200012e+02, 4.76200012e+02, 4.82000000e+02,\n        4.82000000e+02, 1.63508940e+07],\n       [4.71200012e+02, 4.76200012e+02, 4.61399994e+02, 4.70200012e+02,\n        4.70200012e+02, 2.64175070e+07],\n       [4.63600006e+02, 4.66399994e+02, 4.49000000e+02, 4.53799988e+02,\n        4.53799988e+02, 2.90206930e+07],\n       [4.42799988e+02, 4.46399994e+02, 4.33000000e+02, 4.35000000e+02,\n        4.35000000e+02, 4.31441210e+07],\n       [4.30000000e+02, 4.43000000e+02, 4.30000000e+02, 4.36200012e+02,\n        4.36200012e+02, 2.65969390e+07],\n       [4.48000000e+02, 4.50799988e+02, 4.19200012e+02, 4.21200012e+02,\n        4.21200012e+02, 5.11017380e+07],\n       [4.21200012e+02, 4.33200012e+02, 4.12200012e+02, 4.25399994e+02,\n        4.25399994e+02, 5.21359040e+07],\n       [4.40000000e+02, 4.44000000e+02, 4.31600006e+02, 4.33799988e+02,\n        4.33799988e+02, 4.46184060e+07],\n       [4.46799988e+02, 4.72000000e+02, 4.45200012e+02, 4.72000000e+02,\n        4.72000000e+02, 4.95192760e+07],\n       [4.91600006e+02, 4.91600006e+02, 4.67799988e+02, 4.74600006e+02,\n        4.74600006e+02, 4.12296700e+07],\n       [4.74600006e+02, 4.80799988e+02, 4.68399994e+02, 4.71799988e+02,\n        4.71799988e+02, 1.72978730e+07],\n       [4.69000000e+02, 4.83600006e+02, 4.62600006e+02, 4.66399994e+02,\n        4.66399994e+02, 2.34634410e+07],\n       [4.64200012e+02, 4.68399994e+02, 4.57600006e+02, 4.65799988e+02,\n        4.65799988e+02, 1.84753360e+07],\n       [4.62799988e+02, 4.81200012e+02, 4.47200012e+02, 4.81200012e+02,\n        4.81200012e+02, 5.21804340e+07],\n       [4.85000000e+02, 4.94600006e+02, 4.77799988e+02, 4.88399994e+02,\n        4.88399994e+02, 3.52952450e+07],\n       [4.99000000e+02, 5.10000000e+02, 4.93000000e+02, 4.96000000e+02,\n        4.96000000e+02, 4.04720330e+07],\n       [4.96600006e+02, 4.97600006e+02, 4.81600006e+02, 4.88000000e+02,\n        4.88000000e+02, 2.71404800e+07],\n       [4.89399994e+02, 5.07000000e+02, 4.88200012e+02, 5.05000000e+02,\n        5.05000000e+02, 2.67739250e+07],\n       [5.10000000e+02, 5.20000000e+02, 5.08000000e+02, 5.15500000e+02,\n        5.15500000e+02, 2.49632470e+07],\n       [5.26000000e+02, 5.29000000e+02, 5.12500000e+02, 5.24500000e+02,\n        5.24500000e+02, 3.29959330e+07],\n       [5.09000000e+02, 5.11500000e+02, 4.79000000e+02, 4.80000000e+02,\n        4.80000000e+02, 5.40908720e+07],\n       [4.91200012e+02, 4.94799988e+02, 4.81200012e+02, 4.90000000e+02,\n        4.90000000e+02, 3.56711600e+07],\n       [4.80000000e+02, 4.81200012e+02, 4.71000000e+02, 4.78000000e+02,\n        4.78000000e+02, 2.78156390e+07],\n       [4.76399994e+02, 4.82799988e+02, 4.68799988e+02, 4.72799988e+02,\n        4.72799988e+02, 1.99052810e+07],\n       [4.58000000e+02, 4.64000000e+02, 4.51200012e+02, 4.53399994e+02,\n        4.53399994e+02, 3.61662670e+07],\n       [4.46799988e+02, 4.54799988e+02, 4.45000000e+02, 4.51000000e+02,\n        4.51000000e+02, 2.45198680e+07],\n       [4.45799988e+02, 4.67600006e+02, 4.45200012e+02, 4.61799988e+02,\n        4.61799988e+02, 2.39826280e+07],\n       [4.56600006e+02, 4.57399994e+02, 4.48000000e+02, 4.54200012e+02,\n        4.54200012e+02, 1.55132240e+07],\n       [4.46000000e+02, 4.53799988e+02, 4.43200012e+02, 4.50000000e+02,\n        4.50000000e+02, 1.65568750e+07],\n       [4.60200012e+02, 4.69600006e+02, 4.56399994e+02, 4.63200012e+02,\n        4.63200012e+02, 2.22108680e+07],\n       [4.61399994e+02, 4.73399994e+02, 4.56200012e+02, 4.60200012e+02,\n        4.60200012e+02, 1.66569140e+07],\n       [4.59000000e+02, 4.73000000e+02, 4.55200012e+02, 4.64600006e+02,\n        4.64600006e+02, 1.79669980e+07],\n       [4.67000000e+02, 4.76200012e+02, 4.64600006e+02, 4.69799988e+02,\n        4.69799988e+02, 2.09472760e+07],\n       [4.61600006e+02, 4.65000000e+02, 4.50200012e+02, 4.65000000e+02,\n        4.65000000e+02, 1.82504500e+07],\n       [4.56000000e+02, 4.64600006e+02, 4.53799988e+02, 4.61399994e+02,\n        4.61399994e+02, 1.73354510e+07],\n       [4.70000000e+02, 4.70000000e+02, 4.54399994e+02, 4.57000000e+02,\n        4.57000000e+02, 1.17202560e+07],\n       [4.46200012e+02, 4.53600006e+02, 4.45399994e+02, 4.50000000e+02,\n        4.50000000e+02, 1.18817670e+07],\n       [4.54000000e+02, 4.54000000e+02, 4.45600006e+02, 4.46399994e+02,\n        4.46399994e+02, 1.08477550e+07],\n       [4.55000000e+02, 4.72799988e+02, 4.54200012e+02, 4.71399994e+02,\n        4.71399994e+02, 1.45506590e+07],\n       [4.90000000e+02, 4.90000000e+02, 4.72000000e+02, 4.81799988e+02,\n        4.81799988e+02, 2.98063850e+07],\n       [4.92600006e+02, 4.98600006e+02, 4.89000000e+02, 4.96000000e+02,\n        4.96000000e+02, 2.62040100e+07],\n       [4.87000000e+02, 4.90000000e+02, 4.80200012e+02, 4.83200012e+02,\n        4.83200012e+02, 1.64484610e+07],\n       [4.91799988e+02, 5.00000000e+02, 4.84399994e+02, 4.95600006e+02,\n        4.95600006e+02, 2.91268350e+07],\n       [4.99399994e+02, 4.99399994e+02, 4.85399994e+02, 4.97000000e+02,\n        4.97000000e+02, 2.07300470e+07],\n       [4.95399994e+02, 5.00000000e+02, 4.90600006e+02, 4.99000000e+02,\n        4.99000000e+02, 1.54277650e+07],\n       [5.08000000e+02, 5.15000000e+02, 5.04500000e+02, 5.09500000e+02,\n        5.09500000e+02, 3.27240230e+07],\n       [5.09500000e+02, 5.12500000e+02, 5.00000000e+02, 5.05500000e+02,\n        5.05500000e+02, 1.66829450e+07],\n       [5.07500000e+02, 5.12000000e+02, 5.02500000e+02, 5.09500000e+02,\n        5.09500000e+02, 1.27432650e+07],\n       [5.05500000e+02, 5.10000000e+02, 5.01000000e+02, 5.05000000e+02,\n        5.05000000e+02, 1.22575020e+07],\n       [5.07500000e+02, 5.08000000e+02, 4.95600006e+02, 5.02000000e+02,\n        5.02000000e+02, 1.53091440e+07],\n       [4.90799988e+02, 4.91600006e+02, 4.82200012e+02, 4.87000000e+02,\n        4.87000000e+02, 1.87159240e+07],\n       [4.85799988e+02, 4.94000000e+02, 4.85799988e+02, 4.88200012e+02,\n        4.88200012e+02, 1.36732310e+07],\n       [4.86799988e+02, 4.88399994e+02, 4.81000000e+02, 4.81000000e+02,\n        4.81000000e+02, 1.64405210e+07],\n       [4.76399994e+02, 4.76799988e+02, 4.65000000e+02, 4.69600006e+02,\n        4.69600006e+02, 2.26495460e+07],\n       [4.78600006e+02, 4.82000000e+02, 4.60200012e+02, 4.64000000e+02,\n        4.64000000e+02, 3.30059980e+07],\n       [4.62000000e+02, 4.70000000e+02, 4.57799988e+02, 4.69000000e+02,\n        4.69000000e+02, 1.93626640e+07],\n       [4.75200012e+02, 4.81799988e+02, 4.73799988e+02, 4.80799988e+02,\n        4.80799988e+02, 1.64406850e+07],\n       [4.72000000e+02, 4.74200012e+02, 4.65200012e+02, 4.67399994e+02,\n        4.67399994e+02, 2.00192340e+07],\n       [4.60200012e+02, 4.64000000e+02, 4.53399994e+02, 4.63799988e+02,\n        4.63799988e+02, 2.23407510e+07],\n       [4.69000000e+02, 4.71000000e+02, 4.59600006e+02, 4.64000000e+02,\n        4.64000000e+02, 1.36074370e+07],\n       [4.69000000e+02, 4.86799988e+02, 4.66000000e+02, 4.83600006e+02,\n        4.83600006e+02, 3.06174400e+07],\n       [4.78000000e+02, 4.80200012e+02, 4.67000000e+02, 4.77600006e+02,\n        4.77600006e+02, 3.60351770e+07],\n       [4.87799988e+02, 4.91399994e+02, 4.81799988e+02, 4.85200012e+02,\n        4.85200012e+02, 2.38296600e+07],\n       [4.92000000e+02, 4.94799988e+02, 4.89000000e+02, 4.91799988e+02,\n        4.91799988e+02, 1.93946040e+07],\n       [4.97399994e+02, 5.09000000e+02, 4.94200012e+02, 5.02500000e+02,\n        5.02500000e+02, 2.82632100e+07],\n       [5.04000000e+02, 5.09000000e+02, 4.98600006e+02, 5.09000000e+02,\n        5.09000000e+02, 2.14445200e+07],\n       [5.02000000e+02, 5.03500000e+02, 4.92799988e+02, 4.96799988e+02,\n        4.96799988e+02, 1.93218930e+07],\n       [4.86600006e+02, 4.96600006e+02, 4.85000000e+02, 4.96000000e+02,\n        4.96000000e+02, 1.52128340e+07],\n       [4.98000000e+02, 5.01500000e+02, 4.91000000e+02, 4.94399994e+02,\n        4.94399994e+02, 1.46867790e+07],\n       [4.84000000e+02, 4.85799988e+02, 4.79000000e+02, 4.81200012e+02,\n        4.81200012e+02, 1.87259400e+07],\n       [4.73200012e+02, 4.80799988e+02, 4.67399994e+02, 4.72200012e+02,\n        4.72200012e+02, 2.60219730e+07],\n       [4.72200012e+02, 4.82399994e+02, 4.71000000e+02, 4.77799988e+02,\n        4.77799988e+02, 1.69397160e+07],\n       [4.72600006e+02, 4.72600006e+02, 4.60000000e+02, 4.63399994e+02,\n        4.63399994e+02, 3.28855050e+07],\n       [4.62000000e+02, 4.71200012e+02, 4.61399994e+02, 4.62399994e+02,\n        4.62399994e+02, 1.95095060e+07],\n       [4.57600006e+02, 4.60200012e+02, 4.49000000e+02, 4.59399994e+02,\n        4.59399994e+02, 3.55862760e+07],\n       [4.62600006e+02, 4.73600006e+02, 4.61399994e+02, 4.68799988e+02,\n        4.68799988e+02, 2.03411200e+07],\n       [4.67000000e+02, 4.73600006e+02, 4.63600006e+02, 4.73600006e+02,\n        4.73600006e+02, 1.77198660e+07],\n       [4.68799988e+02, 4.68799988e+02, 4.57600006e+02, 4.62600006e+02,\n        4.62600006e+02, 2.24969910e+07],\n       [4.48799988e+02, 4.59600006e+02, 4.47600006e+02, 4.47799988e+02,\n        4.47799988e+02, 3.09581580e+07],\n       [4.57799988e+02, 4.64000000e+02, 4.51600006e+02, 4.63799988e+02,\n        4.63799988e+02, 2.32355950e+07],\n       [4.67600006e+02, 4.70399994e+02, 4.65000000e+02, 4.67000000e+02,\n        4.67000000e+02, 1.51732690e+07],\n       [4.74399994e+02, 4.74399994e+02, 4.71000000e+02, 4.72600006e+02,\n        4.72600006e+02, 1.33536860e+07],\n       [4.71000000e+02, 4.74000000e+02, 4.61600006e+02, 4.63399994e+02,\n        4.63399994e+02, 1.52305050e+07],\n       [4.70600006e+02, 4.81000000e+02, 4.66600006e+02, 4.66600006e+02,\n        4.66600006e+02, 2.22398310e+07],\n       [4.60000000e+02, 4.65600006e+02, 4.57399994e+02, 4.59799988e+02,\n        4.59799988e+02, 1.36515850e+07],\n       [4.59600006e+02, 4.64399994e+02, 4.53200012e+02, 4.55799988e+02,\n        4.55799988e+02, 1.33719320e+07],\n       [4.52000000e+02, 4.55200012e+02, 4.48200012e+02, 4.52600006e+02,\n        4.52600006e+02, 2.10294630e+07],\n       [4.47000000e+02, 4.47200012e+02, 4.38000000e+02, 4.38000000e+02,\n        4.38000000e+02, 2.82844310e+07],\n       [4.37399994e+02, 4.39600006e+02, 4.29000000e+02, 4.30000000e+02,\n        4.30000000e+02, 2.04130760e+07],\n       [4.30000000e+02, 4.46799988e+02, 4.29399994e+02, 4.40799988e+02,\n        4.40799988e+02, 1.72265450e+07],\n       [4.50000000e+02, 4.50799988e+02, 4.40399994e+02, 4.43000000e+02,\n        4.43000000e+02, 1.38396390e+07],\n       [4.54000000e+02, 4.68799988e+02, 4.49200012e+02, 4.61799988e+02,\n        4.61799988e+02, 3.29522740e+07],\n       [4.60799988e+02, 4.60799988e+02, 4.60799988e+02, 4.60799988e+02,\n        4.60799988e+02, 0.00000000e+00],\n       [4.57799988e+02, 4.59200012e+02, 4.45000000e+02, 4.50399994e+02,\n        4.50399994e+02, 1.89496090e+07],\n       [4.43600006e+02, 4.45600006e+02, 4.40399994e+02, 4.44799988e+02,\n        4.44799988e+02, 9.58939900e+06],\n       [4.46399994e+02, 4.50799988e+02, 4.42000000e+02, 4.43399994e+02,\n        4.43399994e+02, 7.66465000e+06],\n       [4.58000000e+02, 4.58000000e+02, 4.58000000e+02, 4.58000000e+02,\n        4.58000000e+02, 0.00000000e+00]])"
     },
     "execution_count": 179,
     "metadata": {},
     "output_type": "execute_result"
    }
   ],
   "source": [
    "x_unseen"
   ]
  },
  {
   "cell_type": "code",
   "execution_count": 179,
   "outputs": [],
   "source": [],
   "metadata": {
    "collapsed": false,
    "pycharm": {
     "name": "#%%\n"
    }
   }
  }
 ],
 "metadata": {
  "kernelspec": {
   "display_name": "Python 3",
   "language": "python",
   "name": "python3"
  },
  "language_info": {
   "codemirror_mode": {
    "name": "ipython",
    "version": 3
   },
   "file_extension": ".py",
   "mimetype": "text/x-python",
   "name": "python",
   "nbconvert_exporter": "python",
   "pygments_lexer": "ipython3",
   "version": "3.8.8"
  }
 },
 "nbformat": 4,
 "nbformat_minor": 1
}