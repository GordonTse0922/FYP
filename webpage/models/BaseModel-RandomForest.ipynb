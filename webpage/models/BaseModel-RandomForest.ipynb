{
 "cells": [
  {
   "cell_type": "code",
   "execution_count": 84,
   "metadata": {},
   "outputs": [],
   "source": [
    "import yfinance as yf\n",
    "import keras.backend as K\n",
    "import pandas as pd\n",
    "import numpy as np\n",
    "import matplotlib.pyplot as plt\n",
    "from sklearn.svm import SVR\n",
    "from sklearn.preprocessing import MinMaxScaler ,StandardScaler\n",
    "from sklearn.model_selection import train_test_split\n",
    "from sklearn.metrics import classification_report,accuracy_score, mean_squared_error,mean_absolute_percentage_error,r2_score\n",
    "from sklearn.ensemble import RandomForestRegressor\n",
    "import tensorflow as tf\n",
    "from tensorflow import keras\n",
    "from keras.layers import LSTM,Dropout, BatchNormalization, Dense\n",
    "from keras.callbacks import ModelCheckpoint, EarlyStopping, ReduceLROnPlateau, CSVLogger\n",
    "from keras.models import Sequential\n",
    "from keras.optimizer_v2.adam import Adam\n",
    "from keras.optimizer_v2.rmsprop import RMSprop\n",
    "import talib"
   ]
  },
  {
   "cell_type": "code",
   "execution_count": 85,
   "metadata": {
    "pycharm": {
     "name": "#%%\n"
    }
   },
   "outputs": [
    {
     "name": "stdout",
     "output_type": "stream",
     "text": [
      "[*********************100%***********************]  1 of 1 completed\n"
     ]
    }
   ],
   "source": [
    "data=yf.download(\"0700.hk\")"
   ]
  },
  {
   "cell_type": "code",
   "execution_count": 86,
   "metadata": {
    "pycharm": {
     "name": "#%%\n"
    }
   },
   "outputs": [
    {
     "name": "stdout",
     "output_type": "stream",
     "text": [
      "                  Open        High         Low       Close   Adj Close  \\\n",
      "Date                                                                     \n",
      "2004-06-16    0.875000    0.925000    0.815000    0.830000    0.802119   \n",
      "2004-06-17    0.830000    0.875000    0.825000    0.845000    0.816615   \n",
      "2004-06-18    0.840000    0.850000    0.790000    0.805000    0.777959   \n",
      "2004-06-21    0.820000    0.825000    0.790000    0.800000    0.773127   \n",
      "2004-06-22    0.800000    0.800000    0.800000    0.800000    0.773127   \n",
      "...                ...         ...         ...         ...         ...   \n",
      "2021-12-24  460.799988  460.799988  460.799988  460.799988  460.799988   \n",
      "2021-12-28  457.799988  459.200012  445.000000  450.399994  450.399994   \n",
      "2021-12-29  443.600006  445.600006  440.399994  444.799988  444.799988   \n",
      "2021-12-30  446.399994  450.799988  442.000000  443.399994  443.399994   \n",
      "2021-12-31  458.000000  458.000000  458.000000  458.000000  458.000000   \n",
      "\n",
      "                Volume  Prediction  \n",
      "Date                                \n",
      "2004-06-16  2198875000    0.845000  \n",
      "2004-06-17   419007500    0.805000  \n",
      "2004-06-18   182990000    0.800000  \n",
      "2004-06-21   114085000    0.800000  \n",
      "2004-06-22           0    0.885000  \n",
      "...                ...         ...  \n",
      "2021-12-24           0  450.399994  \n",
      "2021-12-28    18949609  444.799988  \n",
      "2021-12-29     9589399  443.399994  \n",
      "2021-12-30     7664650  458.000000  \n",
      "2021-12-31           0  453.799988  \n",
      "\n",
      "[4339 rows x 7 columns]\n"
     ]
    }
   ],
   "source": [
    "df = data\n",
    "#Create one more column Prediction shifted 15 days up.\n",
    "df['Prediction'] = data[['Close']].shift(-1)\n",
    "#print data set\n",
    "df=df.dropna()\n",
    "print(df)"
   ]
  },
  {
   "cell_type": "code",
   "execution_count": 87,
   "metadata": {
    "pycharm": {
     "name": "#%%\n"
    }
   },
   "outputs": [
    {
     "name": "stdout",
     "output_type": "stream",
     "text": [
      "(4239, 6)\n",
      "[[8.75000000e-01 9.25000012e-01 8.14999998e-01 8.29999983e-01\n",
      "  8.02118957e-01 2.19887500e+09]\n",
      " [8.29999983e-01 8.75000000e-01 8.24999988e-01 8.45000029e-01\n",
      "  8.16615224e-01 4.19007500e+08]\n",
      " [8.39999974e-01 8.50000024e-01 7.90000021e-01 8.05000007e-01\n",
      "  7.77958810e-01 1.82990000e+08]\n",
      " ...\n",
      " [4.35000000e+02 4.69799988e+02 4.34000000e+02 4.56799988e+02\n",
      "  4.56799988e+02 4.61034780e+07]\n",
      " [4.52600006e+02 4.64399994e+02 4.32600006e+02 4.39000000e+02\n",
      "  4.39000000e+02 5.86259390e+07]\n",
      " [4.44799988e+02 4.60399994e+02 4.40000000e+02 4.53600006e+02\n",
      "  4.53600006e+02 4.29465050e+07]]\n"
     ]
    },
    {
     "name": "stderr",
     "output_type": "stream",
     "text": [
      "/var/folders/8h/w0jn89bj2w5g85gj4ck7w0t00000gn/T/ipykernel_77977/893241783.py:2: FutureWarning: In a future version of pandas all arguments of DataFrame.drop except for the argument 'labels' will be keyword-only\n",
      "  X = np.array(df.drop(['Prediction'],1))\n"
     ]
    }
   ],
   "source": [
    "#Create a data set X and convert it into numpy array , which will be having actual values\n",
    "X = np.array(df.drop(['Prediction'],1))\n",
    "# scaler=MinMaxScaler(feature_range=(-1,1))\n",
    "# X=scaler.fit_transform(X)\n",
    "#Remove the last 15 rows\n",
    "x_unseen=X[-100:]\n",
    "X = X[:-100]\n",
    "print(X.shape)\n",
    "# Create a dataset y which will be having Predicted values and convert into numpy array\n",
    "y = np.array(df['Prediction'])\n",
    "# Remove Last 15 rows\n",
    "y_unseen=y[-100:]\n",
    "y = y[:-100]\n",
    "print(X)"
   ]
  },
  {
   "cell_type": "code",
   "execution_count": 88,
   "metadata": {
    "pycharm": {
     "name": "#%%\n"
    }
   },
   "outputs": [],
   "source": [
    "# Split the data into train and test with 90 & 10 % respectively\n",
    "x_train, x_test, y_train, y_test = train_test_split(X, y, test_size=0.2,shuffle=False)"
   ]
  },
  {
   "cell_type": "code",
   "execution_count": 89,
   "metadata": {
    "pycharm": {
     "name": "#%%\n"
    }
   },
   "outputs": [
    {
     "data": {
      "text/plain": "RandomForestRegressor()"
     },
     "execution_count": 89,
     "metadata": {},
     "output_type": "execute_result"
    }
   ],
   "source": [
    "regr=RandomForestRegressor()\n",
    "regr.fit(x_train,y_train)"
   ]
  },
  {
   "cell_type": "code",
   "execution_count": 90,
   "metadata": {
    "pycharm": {
     "name": "#%%\n"
    }
   },
   "outputs": [],
   "source": [
    "y_pred=regr.predict(x_test)"
   ]
  },
  {
   "cell_type": "code",
   "execution_count": 91,
   "metadata": {
    "pycharm": {
     "name": "#%%\n"
    }
   },
   "outputs": [
    {
     "data": {
      "text/plain": "<Figure size 432x288 with 1 Axes>",
      "image/png": "[encoded data removed]"
     },
     "metadata": {
      "needs_background": "light"
     },
     "output_type": "display_data"
    }
   ],
   "source": [
    "plt.plot(y_test, marker='.', label=\"true\")\n",
    "plt.plot(y_pred, 'r',marker='*', label=\"prediction\")\n",
    "plt.ylabel('Value')\n",
    "plt.xlabel('Time Step')\n",
    "plt.legend()\n",
    "plt.show();"
   ]
  },
  {
   "cell_type": "code",
   "execution_count": 92,
   "metadata": {
    "pycharm": {
     "name": "#%%\n"
    }
   },
   "outputs": [
    {
     "data": {
      "text/plain": "0.0784766008065263"
     },
     "execution_count": 92,
     "metadata": {},
     "output_type": "execute_result"
    }
   ],
   "source": [
    "mean_absolute_percentage_error(y_test,y_pred)"
   ]
  },
  {
   "cell_type": "code",
   "execution_count": 93,
   "metadata": {},
   "outputs": [
    {
     "data": {
      "text/plain": "0.5317714846973792"
     },
     "execution_count": 93,
     "metadata": {},
     "output_type": "execute_result"
    }
   ],
   "source": [
    "r2_score(y_test,y_pred)"
   ]
  },
  {
   "cell_type": "code",
   "execution_count": 94,
   "metadata": {},
   "outputs": [
    {
     "data": {
      "text/plain": "79.29870702242869"
     },
     "execution_count": 94,
     "metadata": {},
     "output_type": "execute_result"
    }
   ],
   "source": [
    "mean_squared_error(y_test,y_pred,squared=False)"
   ]
  },
  {
   "cell_type": "code",
   "execution_count": 95,
   "metadata": {
    "pycharm": {
     "name": "#%%\n"
    }
   },
   "outputs": [],
   "source": [
    "unseend_pred = regr.predict(x_unseen)"
   ]
  },
  {
   "cell_type": "code",
   "execution_count": 96,
   "metadata": {
    "pycharm": {
     "name": "#%%\n"
    }
   },
   "outputs": [
    {
     "data": {
      "text/plain": "<Figure size 432x288 with 1 Axes>",
      "image/png": "[encoded data removed]"
     },
     "metadata": {
      "needs_background": "light"
     },
     "output_type": "display_data"
    }
   ],
   "source": [
    "plt.plot(y_unseen, marker='.', label=\"true\")\n",
    "plt.plot(unseend_pred, 'r',marker='*', label=\"prediction\")\n",
    "plt.ylabel('Value')\n",
    "plt.xlabel('Time Step')\n",
    "plt.legend()\n",
    "plt.show();"
   ]
  },
  {
   "cell_type": "code",
   "execution_count": 97,
   "metadata": {
    "pycharm": {
     "name": "#%%\n"
    }
   },
   "outputs": [
    {
     "data": {
      "text/plain": "0.034855323263928505"
     },
     "execution_count": 97,
     "metadata": {},
     "output_type": "execute_result"
    }
   ],
   "source": [
    "mean_absolute_percentage_error(y_unseen,unseend_pred)"
   ]
  },
  {
   "cell_type": "code",
   "execution_count": 98,
   "metadata": {
    "pycharm": {
     "name": "#%%\n"
    }
   },
   "outputs": [
    {
     "data": {
      "text/plain": "-0.11051982934825144"
     },
     "execution_count": 98,
     "metadata": {},
     "output_type": "execute_result"
    }
   ],
   "source": [
    "r2_score(y_unseen,unseend_pred)"
   ]
  },
  {
   "cell_type": "code",
   "execution_count": 99,
   "metadata": {},
   "outputs": [
    {
     "data": {
      "text/plain": "6288.284935428981"
     },
     "execution_count": 99,
     "metadata": {},
     "output_type": "execute_result"
    }
   ],
   "source": [
    "mean_squared_error(y_test,y_pred)"
   ]
  },
  {
   "cell_type": "code",
   "execution_count": 99,
   "metadata": {},
   "outputs": [],
   "source": []
  }
 ],
 "metadata": {
  "kernelspec": {
   "display_name": "Python 3",
   "language": "python",
   "name": "python3"
  },
  "language_info": {
   "codemirror_mode": {
    "name": "ipython",
    "version": 3
   },
   "file_extension": ".py",
   "mimetype": "text/x-python",
   "name": "python",
   "nbconvert_exporter": "python",
   "pygments_lexer": "ipython3",
   "version": "3.8.8"
  }
 },
 "nbformat": 4,
 "nbformat_minor": 1
}