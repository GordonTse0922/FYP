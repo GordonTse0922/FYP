{
 "cells": [
  {
   "cell_type": "code",
   "execution_count": 112,
   "id": "b000030b-9f40-4918-9891-66343158b745",
   "metadata": {},
   "outputs": [],
   "source": [
    "import yfinance as yf\n",
    "import keras.backend as K\n",
    "import pandas as pd\n",
    "import numpy as np\n",
    "import matplotlib.pyplot as plt\n",
    "from sklearn.svm import SVR\n",
    "from sklearn.preprocessing import MinMaxScaler ,StandardScaler\n",
    "from sklearn.model_selection import train_test_split\n",
    "from sklearn.metrics import classification_report,accuracy_score, mean_squared_error,mean_absolute_percentage_error,r2_score\n",
    "from sklearn.pipeline import make_pipeline\n",
    "import tensorflow as tf\n",
    "from tensorflow import keras\n",
    "from keras.layers import LSTM,Dropout, BatchNormalization, Dense\n",
    "from keras.callbacks import ModelCheckpoint, EarlyStopping, ReduceLROnPlateau, CSVLogger\n",
    "from keras.models import Sequential\n",
    "from keras.optimizer_v2.adam import Adam\n",
    "from keras.optimizer_v2.rmsprop import RMSprop\n",
    "import talib"
   ]
  },
  {
   "cell_type": "code",
   "execution_count": 113,
   "id": "7248a5a2-9689-4a20-81e8-7eb58be1114e",
   "metadata": {},
   "outputs": [
    {
     "name": "stdout",
     "output_type": "stream",
     "text": [
      "[*********************100%***********************]  1 of 1 completed\n"
     ]
    },
    {
     "data": {
      "text/plain": "             Open   High    Low  Close  Adj Close      Volume\nDate                                                         \n2004-06-16  0.875  0.925  0.815  0.830   0.802119  2198875000\n2004-06-17  0.830  0.875  0.825  0.845   0.816615   419007500\n2004-06-18  0.840  0.850  0.790  0.805   0.777959   182990000\n2004-06-21  0.820  0.825  0.790  0.800   0.773127   114085000\n2004-06-22  0.800  0.800  0.800  0.800   0.773127           0\n2004-06-23  0.810  0.890  0.805  0.885   0.855272   275080000\n2004-06-24  0.895  0.905  0.865  0.890   0.860104   173615000\n2004-06-25  0.895  0.910  0.870  0.880   0.850440   106062500\n2004-06-28  0.880  0.880  0.850  0.865   0.835943    73730000\n2004-06-29  0.860  0.885  0.860  0.865   0.835943    75407500\n2004-06-30  0.875  0.885  0.860  0.860   0.831111    61085000\n2004-07-01  0.860  0.860  0.860  0.860   0.831111           0\n2004-07-02  0.855  0.875  0.835  0.870   0.840775    65130000\n2004-07-05  0.870  0.870  0.870  0.870   0.840775           0\n2004-07-06  0.875  0.890  0.870  0.880   0.850440    77145000",
      "text/html": "<div>\n<style scoped>\n    .dataframe tbody tr th:only-of-type {\n        vertical-align: middle;\n    }\n\n    .dataframe tbody tr th {\n        vertical-align: top;\n    }\n\n    .dataframe thead th {\n        text-align: right;\n    }\n</style>\n<table border=\"1\" class=\"dataframe\">\n  <thead>\n    <tr style=\"text-align: right;\">\n      <th></th>\n      <th>Open</th>\n      <th>High</th>\n      <th>Low</th>\n      <th>Close</th>\n      <th>Adj Close</th>\n      <th>Volume</th>\n    </tr>\n    <tr>\n      <th>Date</th>\n      <th></th>\n      <th></th>\n      <th></th>\n      <th></th>\n      <th></th>\n      <th></th>\n    </tr>\n  </thead>\n  <tbody>\n    <tr>\n      <th>2004-06-16</th>\n      <td>0.875</td>\n      <td>0.925</td>\n      <td>0.815</td>\n      <td>0.830</td>\n      <td>0.802119</td>\n      <td>2198875000</td>\n    </tr>\n    <tr>\n      <th>2004-06-17</th>\n      <td>0.830</td>\n      <td>0.875</td>\n      <td>0.825</td>\n      <td>0.845</td>\n      <td>0.816615</td>\n      <td>419007500</td>\n    </tr>\n    <tr>\n      <th>2004-06-18</th>\n      <td>0.840</td>\n      <td>0.850</td>\n      <td>0.790</td>\n      <td>0.805</td>\n      <td>0.777959</td>\n      <td>182990000</td>\n    </tr>\n    <tr>\n      <th>2004-06-21</th>\n      <td>0.820</td>\n      <td>0.825</td>\n      <td>0.790</td>\n      <td>0.800</td>\n      <td>0.773127</td>\n      <td>114085000</td>\n    </tr>\n    <tr>\n      <th>2004-06-22</th>\n      <td>0.800</td>\n      <td>0.800</td>\n      <td>0.800</td>\n      <td>0.800</td>\n      <td>0.773127</td>\n      <td>0</td>\n    </tr>\n    <tr>\n      <th>2004-06-23</th>\n      <td>0.810</td>\n      <td>0.890</td>\n      <td>0.805</td>\n      <td>0.885</td>\n      <td>0.855272</td>\n      <td>275080000</td>\n    </tr>\n    <tr>\n      <th>2004-06-24</th>\n      <td>0.895</td>\n      <td>0.905</td>\n      <td>0.865</td>\n      <td>0.890</td>\n      <td>0.860104</td>\n      <td>173615000</td>\n    </tr>\n    <tr>\n      <th>2004-06-25</th>\n      <td>0.895</td>\n      <td>0.910</td>\n      <td>0.870</td>\n      <td>0.880</td>\n      <td>0.850440</td>\n      <td>106062500</td>\n    </tr>\n    <tr>\n      <th>2004-06-28</th>\n      <td>0.880</td>\n      <td>0.880</td>\n      <td>0.850</td>\n      <td>0.865</td>\n      <td>0.835943</td>\n      <td>73730000</td>\n    </tr>\n    <tr>\n      <th>2004-06-29</th>\n      <td>0.860</td>\n      <td>0.885</td>\n      <td>0.860</td>\n      <td>0.865</td>\n      <td>0.835943</td>\n      <td>75407500</td>\n    </tr>\n    <tr>\n      <th>2004-06-30</th>\n      <td>0.875</td>\n      <td>0.885</td>\n      <td>0.860</td>\n      <td>0.860</td>\n      <td>0.831111</td>\n      <td>61085000</td>\n    </tr>\n    <tr>\n      <th>2004-07-01</th>\n      <td>0.860</td>\n      <td>0.860</td>\n      <td>0.860</td>\n      <td>0.860</td>\n      <td>0.831111</td>\n      <td>0</td>\n    </tr>\n    <tr>\n      <th>2004-07-02</th>\n      <td>0.855</td>\n      <td>0.875</td>\n      <td>0.835</td>\n      <td>0.870</td>\n      <td>0.840775</td>\n      <td>65130000</td>\n    </tr>\n    <tr>\n      <th>2004-07-05</th>\n      <td>0.870</td>\n      <td>0.870</td>\n      <td>0.870</td>\n      <td>0.870</td>\n      <td>0.840775</td>\n      <td>0</td>\n    </tr>\n    <tr>\n      <th>2004-07-06</th>\n      <td>0.875</td>\n      <td>0.890</td>\n      <td>0.870</td>\n      <td>0.880</td>\n      <td>0.850440</td>\n      <td>77145000</td>\n    </tr>\n  </tbody>\n</table>\n</div>"
     },
     "execution_count": 113,
     "metadata": {},
     "output_type": "execute_result"
    }
   ],
   "source": [
    "data = yf.download('0700.hk')\n",
    "# data.drop(\"Adj Close\",axis=1,inplace=True)\n",
    "data.head(15)"
   ]
  },
  {
   "cell_type": "code",
   "execution_count": 114,
   "id": "f2e63dba-ac05-4d70-985f-992504db0bc9",
   "metadata": {},
   "outputs": [
    {
     "name": "stdout",
     "output_type": "stream",
     "text": [
      "                  Open        High         Low       Close   Adj Close  \\\n",
      "Date                                                                     \n",
      "2004-08-02    0.770000    0.775000    0.740000    0.775000    0.748967   \n",
      "2004-08-03    0.780000    0.795000    0.775000    0.790000    0.763463   \n",
      "2004-08-04    0.780000    0.785000    0.765000    0.770000    0.744135   \n",
      "2004-08-05    0.780000    0.805000    0.780000    0.795000    0.768295   \n",
      "2004-08-06    0.785000    0.810000    0.785000    0.800000    0.773127   \n",
      "...                ...         ...         ...         ...         ...   \n",
      "2021-12-24  460.799988  460.799988  460.799988  460.799988  460.799988   \n",
      "2021-12-28  457.799988  459.200012  445.000000  450.399994  450.399994   \n",
      "2021-12-29  443.600006  445.600006  440.399994  444.799988  444.799988   \n",
      "2021-12-30  446.399994  450.799988  442.000000  443.399994  443.399994   \n",
      "2021-12-31  458.000000  458.000000  458.000000  458.000000  458.000000   \n",
      "\n",
      "              Volume     6day MA    12day MA        RSI        %R5       %R10  \\\n",
      "Date                                                                            \n",
      "2004-08-02  26760000    0.742500    0.739167  58.915809  -0.000000  -0.000000   \n",
      "2004-08-03  63695000    0.760833    0.743333  63.753690  -6.666661  -4.166663   \n",
      "2004-08-04  14245000    0.765000    0.744583  53.883580 -33.333386 -20.833362   \n",
      "2004-08-05  33925000    0.775000    0.748333  62.377702 -15.384601  -7.692301   \n",
      "2004-08-06  21670000    0.783333    0.752083  63.927979 -14.285702  -7.407401   \n",
      "...              ...         ...         ...        ...        ...        ...   \n",
      "2021-12-24         0  445.733327  453.766663  56.801866 -20.100509 -38.846177   \n",
      "2021-12-28  18949609  447.799993  451.916662  46.461429 -46.700499 -46.231155   \n",
      "2021-12-29   9589399  450.266658  450.366661  41.693332 -84.507060 -60.301526   \n",
      "2021-12-30   7664650  450.699992  448.433327  40.481632 -89.436617 -63.819100   \n",
      "2021-12-31         0  453.199992  448.283328  56.029305 -13.725434 -27.135656   \n",
      "\n",
      "                 MTM6      MTM12       EMA12       EMA26      MACD         TR  \\\n",
      "Date                                                                            \n",
      "2004-08-02   0.070000   0.040000    0.753609    0.784088 -0.028262   0.035000   \n",
      "2004-08-03   0.110000   0.050000    0.759207    0.784526 -0.023442   0.020000   \n",
      "2004-08-04   0.025000   0.015000    0.760868    0.783450 -0.020995   0.025000   \n",
      "2004-08-05   0.060000   0.045000    0.766119    0.784306 -0.016843   0.035000   \n",
      "2004-08-06   0.050000   0.045000    0.771331    0.785468 -0.013000   0.025000   \n",
      "...               ...        ...         ...         ...       ...        ...   \n",
      "2021-12-24   8.199982  -6.200012  453.939450  460.908198 -6.968748   1.000000   \n",
      "2021-12-28  12.399994 -22.200012  453.394918  460.129812 -6.734894  15.799988   \n",
      "2021-12-29  14.799988 -18.600006  452.072621  458.994270 -6.921649  10.000000   \n",
      "2021-12-30   2.600006 -23.200012  450.738371  457.839138 -7.100767   8.799988   \n",
      "2021-12-31  15.000000  -1.799988  451.855545  457.851054 -5.995509  14.600006   \n",
      "\n",
      "                 OSC6      OSC12  Prediction  \n",
      "Date                                          \n",
      "2004-08-02  24.071279   3.119936    0.790000  \n",
      "2004-08-03  34.598565   9.773109    0.770000  \n",
      "2004-08-04  10.161008  -0.196268    0.795000  \n",
      "2004-08-05  29.390628  10.844935    0.800000  \n",
      "2004-08-06  32.840655  12.938133    0.800000  \n",
      "...               ...        ...         ...  \n",
      "2021-12-24  18.839472   1.414574  450.399994  \n",
      "2021-12-28  -6.224634  -9.558981  444.799988  \n",
      "2021-12-29 -17.471514 -14.963960  443.399994  \n",
      "2021-12-30 -20.337767 -16.327715  458.000000  \n",
      "2021-12-31  16.119254   1.621623  453.799988  \n",
      "\n",
      "[4306 rows x 20 columns]\n"
     ]
    }
   ],
   "source": [
    "scaler=MinMaxScaler(feature_range=(-1,1))\n",
    "df = data\n",
    "df['6day MA'] = df['Close'].rolling(window = 6).mean()\n",
    "df['12day MA'] = df['Close'].rolling(window = 12).mean()\n",
    "df['RSI'] = talib.RSI(df['Close'].values, timeperiod = 7)\n",
    "df['%R5'] = talib.WILLR(df['High'].values, df['Low'].values, df['Close'].values, 5)\n",
    "df['%R10'] = talib.WILLR(df['High'].values, df['Low'].values, df['Close'].values, 10)\n",
    "df['MTM6']=talib.MOM(df['Close'],timeperiod=6)\n",
    "df['MTM12']=talib.MOM(df['Close'],timeperiod=12)\n",
    "macd, macdsignal, macdhist = talib.MACD(df['Close'], fastperiod=12, slowperiod=26, signalperiod=9)\n",
    "df['EMA12']=talib.EMA(df['Close'], timeperiod=12)\n",
    "df['EMA26']=talib.EMA(df['Close'],timeperiod=26)\n",
    "df['MACD']=macd\n",
    "df['TR']=talib.TRANGE(df['High'],df['Low'],df['Close'])\n",
    "df['OSC6']=talib.CMO(df['Close'], timeperiod=6)\n",
    "df['OSC12']=talib.CMO(df['Close'], timeperiod=12)\n",
    "#Create one more column Prediction shifted 15 days up. \n",
    "df['Prediction'] = data[['Close']].shift(-1)\n",
    "#print data set\n",
    "df=df.dropna()\n",
    "print(df)"
   ]
  },
  {
   "cell_type": "code",
   "execution_count": 115,
   "outputs": [
    {
     "name": "stderr",
     "output_type": "stream",
     "text": [
      "/var/folders/8h/w0jn89bj2w5g85gj4ck7w0t00000gn/T/ipykernel_54606/2748608415.py:11: FutureWarning: In a future version of pandas all arguments of DataFrame.drop except for the argument 'labels' will be keyword-only\n",
      "  backwardModel.fit(np.array(df.drop('Prediction',1)),df['Prediction'].values.ravel())\n",
      "[Parallel(n_jobs=-1)]: Using backend LokyBackend with 8 concurrent workers.\n",
      "[Parallel(n_jobs=-1)]: Done  14 out of  19 | elapsed:    4.4s remaining:    1.6s\n",
      "[Parallel(n_jobs=-1)]: Done  19 out of  19 | elapsed:    5.5s finished\n",
      "\n",
      "[2022-01-04 01:32:07] Features: 18/1 -- score: 0.9711249078231186[Parallel(n_jobs=-1)]: Using backend LokyBackend with 8 concurrent workers.\n",
      "[Parallel(n_jobs=-1)]: Done  13 out of  18 | elapsed:    3.3s remaining:    1.3s\n",
      "[Parallel(n_jobs=-1)]: Done  18 out of  18 | elapsed:    4.5s finished\n",
      "\n",
      "[2022-01-04 01:32:11] Features: 17/1 -- score: 0.9714801787506613[Parallel(n_jobs=-1)]: Using backend LokyBackend with 8 concurrent workers.\n",
      "[Parallel(n_jobs=-1)]: Done  11 out of  17 | elapsed:    3.7s remaining:    2.0s\n",
      "[Parallel(n_jobs=-1)]: Done  17 out of  17 | elapsed:    4.8s finished\n",
      "\n",
      "[2022-01-04 01:32:16] Features: 16/1 -- score: 0.971633956106692[Parallel(n_jobs=-1)]: Using backend LokyBackend with 8 concurrent workers.\n",
      "[Parallel(n_jobs=-1)]: Done  10 out of  16 | elapsed:    3.4s remaining:    2.1s\n",
      "[Parallel(n_jobs=-1)]: Done  16 out of  16 | elapsed:    3.7s finished\n",
      "\n",
      "[2022-01-04 01:32:20] Features: 15/1 -- score: 0.9719613151379664[Parallel(n_jobs=-1)]: Using backend LokyBackend with 8 concurrent workers.\n",
      "[Parallel(n_jobs=-1)]: Done   8 out of  15 | elapsed:    3.0s remaining:    2.6s\n",
      "[Parallel(n_jobs=-1)]: Done  15 out of  15 | elapsed:    4.7s finished\n",
      "\n",
      "[2022-01-04 01:32:24] Features: 14/1 -- score: 0.9719958423602988[Parallel(n_jobs=-1)]: Using backend LokyBackend with 8 concurrent workers.\n",
      "[Parallel(n_jobs=-1)]: Done   7 out of  14 | elapsed:    2.8s remaining:    2.8s\n",
      "[Parallel(n_jobs=-1)]: Done  14 out of  14 | elapsed:    4.6s finished\n",
      "\n",
      "[2022-01-04 01:32:29] Features: 13/1 -- score: 0.9720604980298034[Parallel(n_jobs=-1)]: Using backend LokyBackend with 8 concurrent workers.\n",
      "[Parallel(n_jobs=-1)]: Done   5 out of  13 | elapsed:    1.9s remaining:    3.0s\n",
      "[Parallel(n_jobs=-1)]: Done  13 out of  13 | elapsed:    3.2s finished\n",
      "\n",
      "[2022-01-04 01:32:32] Features: 12/1 -- score: 0.9722054945696268[Parallel(n_jobs=-1)]: Using backend LokyBackend with 8 concurrent workers.\n",
      "[Parallel(n_jobs=-1)]: Done   4 out of  12 | elapsed:    1.6s remaining:    3.2s\n",
      "[Parallel(n_jobs=-1)]: Done  12 out of  12 | elapsed:    3.0s finished\n",
      "\n",
      "[2022-01-04 01:32:35] Features: 11/1 -- score: 0.972473854243614[Parallel(n_jobs=-1)]: Using backend LokyBackend with 8 concurrent workers.\n",
      "[Parallel(n_jobs=-1)]: Done   2 out of  11 | elapsed:    1.8s remaining:    8.3s\n",
      "[Parallel(n_jobs=-1)]: Done   8 out of  11 | elapsed:    1.9s remaining:    0.7s\n",
      "[Parallel(n_jobs=-1)]: Done  11 out of  11 | elapsed:    3.1s finished\n",
      "\n",
      "[2022-01-04 01:32:38] Features: 10/1 -- score: 0.9724979496183436[Parallel(n_jobs=-1)]: Using backend LokyBackend with 8 concurrent workers.\n",
      "[Parallel(n_jobs=-1)]: Done   7 out of  10 | elapsed:    1.8s remaining:    0.8s\n",
      "[Parallel(n_jobs=-1)]: Done  10 out of  10 | elapsed:    2.8s finished\n",
      "\n",
      "[2022-01-04 01:32:41] Features: 9/1 -- score: 0.9727389233911109[Parallel(n_jobs=-1)]: Using backend LokyBackend with 8 concurrent workers.\n",
      "[Parallel(n_jobs=-1)]: Done   4 out of   9 | elapsed:    1.6s remaining:    1.9s\n",
      "[Parallel(n_jobs=-1)]: Done   9 out of   9 | elapsed:    2.5s remaining:    0.0s\n",
      "[Parallel(n_jobs=-1)]: Done   9 out of   9 | elapsed:    2.5s finished\n",
      "\n",
      "[2022-01-04 01:32:44] Features: 8/1 -- score: 0.9730467233270107[Parallel(n_jobs=-1)]: Using backend LokyBackend with 8 concurrent workers.\n",
      "[Parallel(n_jobs=-1)]: Done   3 out of   8 | elapsed:    2.5s remaining:    4.2s\n",
      "[Parallel(n_jobs=-1)]: Done   8 out of   8 | elapsed:    2.6s remaining:    0.0s\n",
      "[Parallel(n_jobs=-1)]: Done   8 out of   8 | elapsed:    2.6s finished\n",
      "\n",
      "[2022-01-04 01:32:46] Features: 7/1 -- score: 0.9730564409136027[Parallel(n_jobs=-1)]: Using backend LokyBackend with 8 concurrent workers.\n",
      "[Parallel(n_jobs=-1)]: Done   4 out of   7 | elapsed:    1.7s remaining:    1.2s\n",
      "[Parallel(n_jobs=-1)]: Done   7 out of   7 | elapsed:    1.7s finished\n",
      "\n",
      "[2022-01-04 01:32:48] Features: 6/1 -- score: 0.9730937568816507[Parallel(n_jobs=-1)]: Using backend LokyBackend with 8 concurrent workers.\n",
      "[Parallel(n_jobs=-1)]: Done   3 out of   6 | elapsed:    1.3s remaining:    1.3s\n",
      "[Parallel(n_jobs=-1)]: Done   6 out of   6 | elapsed:    1.3s finished\n",
      "\n",
      "[2022-01-04 01:32:49] Features: 5/1 -- score: 0.9733389441656362[Parallel(n_jobs=-1)]: Using backend LokyBackend with 8 concurrent workers.\n",
      "[Parallel(n_jobs=-1)]: Done   2 out of   5 | elapsed:    1.1s remaining:    1.7s\n",
      "[Parallel(n_jobs=-1)]: Done   5 out of   5 | elapsed:    1.2s remaining:    0.0s\n",
      "[Parallel(n_jobs=-1)]: Done   5 out of   5 | elapsed:    1.2s finished\n",
      "\n",
      "[2022-01-04 01:32:50] Features: 4/1 -- score: 0.9731159562191908[Parallel(n_jobs=-1)]: Using backend LokyBackend with 8 concurrent workers.\n",
      "[Parallel(n_jobs=-1)]: Done   4 out of   4 | elapsed:    1.1s remaining:    0.0s\n",
      "[Parallel(n_jobs=-1)]: Done   4 out of   4 | elapsed:    1.1s finished\n",
      "\n",
      "[2022-01-04 01:32:52] Features: 3/1 -- score: 0.9726371339629084[Parallel(n_jobs=-1)]: Using backend LokyBackend with 8 concurrent workers.\n",
      "[Parallel(n_jobs=-1)]: Done   3 out of   3 | elapsed:    1.6s finished\n",
      "\n",
      "[2022-01-04 01:32:53] Features: 2/1 -- score: 0.9726300034204672[Parallel(n_jobs=-1)]: Using backend LokyBackend with 8 concurrent workers.\n",
      "[Parallel(n_jobs=-1)]: Done   2 out of   2 | elapsed:    1.1s finished\n",
      "\n",
      "[2022-01-04 01:32:54] Features: 1/1 -- score: 0.9707985423777509"
     ]
    },
    {
     "data": {
      "text/plain": "SequentialFeatureSelector(cv=0, estimator=SVR(), forward=False,\n                          k_features=(1, 19), n_jobs=-1, scoring='r2',\n                          verbose=2)"
     },
     "execution_count": 115,
     "metadata": {},
     "output_type": "execute_result"
    }
   ],
   "source": [
    "from mlxtend.feature_selection import SequentialFeatureSelector as sfs\n",
    "from sklearn.ensemble import RandomForestRegressor\n",
    "#k_features=10 (It will get top 10 features best suited for prediction)\n",
    "#forward=False (Backward feature selection model)\n",
    "#verbose=2 (It will show details output as shown below.)\n",
    "#cv=5 (Kfold cross valiation: it will split the training set in 5 set and 4 will be using for training the model and 1 will using as validation)\n",
    "#n_jobs=-1 (Number of cores it will use for execution.-1 means it will use all the cores of CPU for execution.)\n",
    "#scoring='r2'(R-squared is a statistical measure of how close the data are to the fitted regression line)\n",
    "backwardModel=sfs(SVR(),k_features=(1,19),forward=False,verbose=2,cv=0,n_jobs=-1,scoring='r2')\n",
    "#We will convert our training data into numpy array. If we will not convert it, model is not able to read some of the column names.\n",
    "backwardModel.fit(np.array(df.drop('Prediction',1)),df['Prediction'].values.ravel())"
   ],
   "metadata": {
    "collapsed": false,
    "pycharm": {
     "name": "#%%\n"
    }
   }
  },
  {
   "cell_type": "code",
   "execution_count": 116,
   "outputs": [
    {
     "data": {
      "text/plain": "Index(['Low', '%R5', 'EMA26', 'MACD', 'TR'], dtype='object')"
     },
     "execution_count": 116,
     "metadata": {},
     "output_type": "execute_result"
    }
   ],
   "source": [
    "df.columns[list(backwardModel.k_feature_idx_)]"
   ],
   "metadata": {
    "collapsed": false,
    "pycharm": {
     "name": "#%%\n"
    }
   }
  },
  {
   "cell_type": "code",
   "execution_count": 117,
   "id": "f72b1d2a-5e4a-41cf-b4c3-b48761d9c282",
   "metadata": {
    "scrolled": true,
    "tags": []
   },
   "outputs": [
    {
     "name": "stdout",
     "output_type": "stream",
     "text": [
      "(4206, 5)\n",
      "(4206, 1)\n"
     ]
    }
   ],
   "source": [
    "#Create a data set X and convert it into numpy array , which will be having actual values\n",
    "X = np.array(df[df.columns[list(backwardModel.k_feature_idx_)]])\n",
    "# X=scaler.fit_transform(X)\n",
    "#Remove the last 15 rows\n",
    "x_unseen=X[-100:]\n",
    "X=X[:-100]\n",
    "print(X.shape)\n",
    "# Create a dataset y which will be having Predicted values and convert into numpy array\n",
    "y = np.array(df['Prediction']).reshape(-1,1)\n",
    "# y=scaler_y.fit_transform(y)\n",
    "# Remove Last 15 rows\n",
    "y_unseen=y[-100:]\n",
    "y=y[:-100]\n",
    "print(y.shape)"
   ]
  },
  {
   "cell_type": "code",
   "execution_count": 118,
   "id": "7692cc47-e720-499b-a243-68dd3245ad64",
   "metadata": {},
   "outputs": [],
   "source": [
    "# Split the data into train and test with 90 & 10 % respectively\n",
    "x_train, x_test, y_train, y_test = train_test_split(X, y, test_size=0.1)"
   ]
  },
  {
   "cell_type": "code",
   "execution_count": 119,
   "id": "ceef7e72-9fca-4800-9ec6-5a15683cd043",
   "metadata": {},
   "outputs": [
    {
     "name": "stderr",
     "output_type": "stream",
     "text": [
      "/opt/homebrew/Caskroom/miniforge/base/envs/FYP/lib/python3.9/site-packages/sklearn/utils/validation.py:985: DataConversionWarning: A column-vector y was passed when a 1d array was expected. Please change the shape of y to (n_samples, ), for example using ravel().\n",
      "  y = column_or_1d(y, warn=True)\n"
     ]
    },
    {
     "data": {
      "text/plain": "Pipeline(steps=[('minmaxscaler', MinMaxScaler(feature_range=(-1, 1))),\n                ('svr', SVR())])"
     },
     "execution_count": 119,
     "metadata": {},
     "output_type": "execute_result"
    }
   ],
   "source": [
    "# SVM Model\n",
    "svr = make_pipeline(MinMaxScaler(feature_range=(-1,1)),SVR())\n",
    "# Train the model \n",
    "svr.fit(x_train, y_train)"
   ]
  },
  {
   "cell_type": "code",
   "execution_count": 120,
   "id": "8c7c01ab-fdcb-409c-a002-025aa0d78a6d",
   "metadata": {},
   "outputs": [
    {
     "name": "stdout",
     "output_type": "stream",
     "text": [
      "svm confidence:  -6.722922169188519\n"
     ]
    }
   ],
   "source": [
    "# The best possible score is 1.0\n",
    "svm_confidence = svr.score(x_test, y_test)\n",
    "print(\"svm confidence: \", svm_confidence)"
   ]
  },
  {
   "cell_type": "code",
   "execution_count": 121,
   "id": "60f0c648-b5d7-4f53-9e08-27b199ed3608",
   "metadata": {},
   "outputs": [],
   "source": [
    "y_pred=svr.predict(x_test).reshape(-1,1)\n",
    "# y_pred=scaler_y.inverse_transform(y_pred)\n",
    "# y_test=scaler_y.inverse_transform(y_test)"
   ]
  },
  {
   "cell_type": "code",
   "execution_count": 122,
   "id": "b6ec08a0",
   "metadata": {},
   "outputs": [
    {
     "data": {
      "text/plain": "<Figure size 432x288 with 1 Axes>",
      "image/png": "[encoded data removed]"
     },
     "metadata": {
      "needs_background": "light"
     },
     "output_type": "display_data"
    }
   ],
   "source": [
    "plt.plot(y_test, marker='.', label=\"true\")\n",
    "plt.plot(y_pred, 'r',marker='*', label=\"prediction\")\n",
    "plt.ylabel('Value')\n",
    "plt.xlabel('Time Step')\n",
    "plt.legend()\n",
    "plt.show();"
   ]
  },
  {
   "cell_type": "code",
   "execution_count": 123,
   "id": "454d983b",
   "metadata": {},
   "outputs": [
    {
     "data": {
      "text/plain": "294.4277633263077"
     },
     "execution_count": 123,
     "metadata": {},
     "output_type": "execute_result"
    }
   ],
   "source": [
    "mean_squared_error(y_test,y_pred,squared=False)"
   ]
  },
  {
   "cell_type": "code",
   "execution_count": 124,
   "id": "5c9f02ab",
   "metadata": {},
   "outputs": [
    {
     "data": {
      "text/plain": "0.4344949727105439"
     },
     "execution_count": 124,
     "metadata": {},
     "output_type": "execute_result"
    }
   ],
   "source": [
    "mean_absolute_percentage_error(y_test,y_pred)"
   ]
  },
  {
   "cell_type": "code",
   "execution_count": 125,
   "outputs": [
    {
     "data": {
      "text/plain": "-6.722922169188519"
     },
     "execution_count": 125,
     "metadata": {},
     "output_type": "execute_result"
    }
   ],
   "source": [
    "r2_score(y_test,y_pred)"
   ],
   "metadata": {
    "collapsed": false,
    "pycharm": {
     "name": "#%%\n"
    }
   }
  },
  {
   "cell_type": "markdown",
   "id": "3003bcaf-706c-44d1-8911-12b7bf36c66a",
   "metadata": {},
   "source": [
    "# Unseen Data"
   ]
  },
  {
   "cell_type": "code",
   "execution_count": 126,
   "id": "2b4fb868",
   "metadata": {
    "pycharm": {
     "name": "#%%\n"
    }
   },
   "outputs": [],
   "source": [
    "svm_prediction = svr.predict(x_unseen)\n",
    "# svm_prediction=scaler_y.inverse_transform(svm_prediction.reshape(-1,1))\n",
    "# y_unseen=scaler_y.inverse_transform(y_unseen.reshape(-1,1))"
   ]
  },
  {
   "cell_type": "code",
   "execution_count": 127,
   "id": "60b3f7fe",
   "metadata": {
    "pycharm": {
     "name": "#%%\n"
    }
   },
   "outputs": [
    {
     "data": {
      "text/plain": "<Figure size 432x288 with 1 Axes>",
      "image/png": "[encoded data removed]"
     },
     "metadata": {
      "needs_background": "light"
     },
     "output_type": "display_data"
    }
   ],
   "source": [
    "plt.plot(y_unseen, marker='.', label=\"true\")\n",
    "plt.plot(svm_prediction, 'r',marker='*', label=\"prediction\")\n",
    "plt.ylabel('Value')\n",
    "plt.xlabel('Time Step')\n",
    "plt.legend()\n",
    "plt.show();"
   ]
  },
  {
   "cell_type": "code",
   "execution_count": 128,
   "id": "b0f2b92e",
   "metadata": {
    "pycharm": {
     "name": "#%%\n"
    }
   },
   "outputs": [
    {
     "data": {
      "text/plain": "-67.1583682024021"
     },
     "execution_count": 128,
     "metadata": {},
     "output_type": "execute_result"
    }
   ],
   "source": [
    "r2_score(y_unseen,svm_prediction)"
   ]
  },
  {
   "cell_type": "code",
   "execution_count": 129,
   "id": "043165e1",
   "metadata": {},
   "outputs": [
    {
     "data": {
      "text/plain": "173.90605642645752"
     },
     "execution_count": 129,
     "metadata": {},
     "output_type": "execute_result"
    }
   ],
   "source": [
    "mean_squared_error(y_unseen,svm_prediction,squared=False)"
   ]
  },
  {
   "cell_type": "code",
   "execution_count": 130,
   "id": "ad2f1497",
   "metadata": {},
   "outputs": [
    {
     "data": {
      "text/plain": "0.357575797538044"
     },
     "execution_count": 130,
     "metadata": {},
     "output_type": "execute_result"
    }
   ],
   "source": [
    "mean_absolute_percentage_error(y_unseen,svm_prediction)"
   ]
  },
  {
   "cell_type": "code",
   "execution_count": 130,
   "id": "108a3a8f",
   "metadata": {},
   "outputs": [],
   "source": []
  },
  {
   "cell_type": "code",
   "execution_count": 130,
   "outputs": [],
   "source": [],
   "metadata": {
    "collapsed": false,
    "pycharm": {
     "name": "#%%\n"
    }
   }
  }
 ],
 "metadata": {
  "kernelspec": {
   "display_name": "Python 3",
   "language": "python",
   "name": "python3"
  },
  "language_info": {
   "codemirror_mode": {
    "name": "ipython",
    "version": 3
   },
   "file_extension": ".py",
   "mimetype": "text/x-python",
   "name": "python",
   "nbconvert_exporter": "python",
   "pygments_lexer": "ipython3",
   "version": "3.8.8"
  }
 },
 "nbformat": 4,
 "nbformat_minor": 5
}