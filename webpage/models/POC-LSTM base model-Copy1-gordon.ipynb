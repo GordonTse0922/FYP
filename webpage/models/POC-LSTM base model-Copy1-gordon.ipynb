{
 "cells": [
  {
   "cell_type": "code",
   "execution_count": 1,
   "id": "9efc3e1f",
   "metadata": {},
   "outputs": [],
   "source": [
    "import yfinance as yf\n",
    "import keras.backend as K\n",
    "import pandas as pd\n",
    "import numpy as np\n",
    "import matplotlib.pyplot as plt\n",
    "from sklearn.preprocessing import MinMaxScaler ,StandardScaler\n",
    "from sklearn.model_selection import train_test_split\n",
    "from sklearn.metrics import classification_report,accuracy_score, mean_squared_error,mean_absolute_percentage_error,r2_score\n",
    "import tensorflow as tf\n",
    "from tensorflow import keras\n",
    "from keras.layers import LSTM,Dropout, BatchNormalization, Dense\n",
    "from keras.callbacks import ModelCheckpoint, EarlyStopping, ReduceLROnPlateau, CSVLogger\n",
    "from keras.models import Sequential\n",
    "from keras.optimizer_v2.adam import Adam\n",
    "from keras.optimizer_v2.rmsprop import RMSprop\n",
    "import talib"
   ]
  },
  {
   "cell_type": "code",
   "execution_count": 2,
   "id": "62b8c4ee",
   "metadata": {},
   "outputs": [
    {
     "name": "stdout",
     "output_type": "stream",
     "text": [
      "[*********************100%***********************]  1 of 1 completed\n"
     ]
    },
    {
     "data": {
      "text/html": [
       "<div>\n",
       "<style scoped>\n",
       "    .dataframe tbody tr th:only-of-type {\n",
       "        vertical-align: middle;\n",
       "    }\n",
       "\n",
       "    .dataframe tbody tr th {\n",
       "        vertical-align: top;\n",
       "    }\n",
       "\n",
       "    .dataframe thead th {\n",
       "        text-align: right;\n",
       "    }\n",
       "</style>\n",
       "<table border=\"1\" class=\"dataframe\">\n",
       "  <thead>\n",
       "    <tr style=\"text-align: right;\">\n",
       "      <th></th>\n",
       "      <th>Open</th>\n",
       "      <th>High</th>\n",
       "      <th>Low</th>\n",
       "      <th>Close</th>\n",
       "      <th>Adj Close</th>\n",
       "      <th>Volume</th>\n",
       "    </tr>\n",
       "    <tr>\n",
       "      <th>Date</th>\n",
       "      <th></th>\n",
       "      <th></th>\n",
       "      <th></th>\n",
       "      <th></th>\n",
       "      <th></th>\n",
       "      <th></th>\n",
       "    </tr>\n",
       "  </thead>\n",
       "  <tbody>\n",
       "    <tr>\n",
       "      <th>2017-01-03</th>\n",
       "      <td>62.250000</td>\n",
       "      <td>63.150002</td>\n",
       "      <td>62.200001</td>\n",
       "      <td>63.000000</td>\n",
       "      <td>50.812317</td>\n",
       "      <td>11331063</td>\n",
       "    </tr>\n",
       "    <tr>\n",
       "      <th>2017-01-04</th>\n",
       "      <td>63.450001</td>\n",
       "      <td>63.450001</td>\n",
       "      <td>62.950001</td>\n",
       "      <td>63.450001</td>\n",
       "      <td>51.175259</td>\n",
       "      <td>13426502</td>\n",
       "    </tr>\n",
       "    <tr>\n",
       "      <th>2017-01-05</th>\n",
       "      <td>63.799999</td>\n",
       "      <td>63.950001</td>\n",
       "      <td>63.549999</td>\n",
       "      <td>63.900002</td>\n",
       "      <td>51.538197</td>\n",
       "      <td>12484357</td>\n",
       "    </tr>\n",
       "    <tr>\n",
       "      <th>2017-01-06</th>\n",
       "      <td>63.900002</td>\n",
       "      <td>63.900002</td>\n",
       "      <td>63.349998</td>\n",
       "      <td>63.750000</td>\n",
       "      <td>51.417221</td>\n",
       "      <td>14321890</td>\n",
       "    </tr>\n",
       "    <tr>\n",
       "      <th>2017-01-09</th>\n",
       "      <td>63.599998</td>\n",
       "      <td>63.849998</td>\n",
       "      <td>63.299999</td>\n",
       "      <td>63.700001</td>\n",
       "      <td>51.376904</td>\n",
       "      <td>10499807</td>\n",
       "    </tr>\n",
       "  </tbody>\n",
       "</table>\n",
       "</div>"
      ],
      "text/plain": [
       "                 Open       High        Low      Close  Adj Close    Volume\n",
       "Date                                                                       \n",
       "2017-01-03  62.250000  63.150002  62.200001  63.000000  50.812317  11331063\n",
       "2017-01-04  63.450001  63.450001  62.950001  63.450001  51.175259  13426502\n",
       "2017-01-05  63.799999  63.950001  63.549999  63.900002  51.538197  12484357\n",
       "2017-01-06  63.900002  63.900002  63.349998  63.750000  51.417221  14321890\n",
       "2017-01-09  63.599998  63.849998  63.299999  63.700001  51.376904  10499807"
      ]
     },
     "execution_count": 2,
     "metadata": {},
     "output_type": "execute_result"
    }
   ],
   "source": [
    "data = yf.download('0005.hk',\"2017-01-01\",\"2021-12-30\")\n",
    "data.head()"
   ]
  },
  {
   "cell_type": "code",
   "execution_count": 3,
   "id": "699c7659",
   "metadata": {},
   "outputs": [],
   "source": [
    "data['Prediction'] = data[['Close']].shift(-1)"
   ]
  },
  {
   "cell_type": "code",
   "execution_count": 4,
   "id": "91fc4542",
   "metadata": {},
   "outputs": [
    {
     "data": {
      "text/plain": [
       "Open          0\n",
       "High          0\n",
       "Low           0\n",
       "Close         0\n",
       "Volume        0\n",
       "Prediction    0\n",
       "dtype: int64"
      ]
     },
     "execution_count": 4,
     "metadata": {},
     "output_type": "execute_result"
    }
   ],
   "source": [
    "data.drop('Adj Close',1,inplace=True)\n",
    "data.dropna(inplace=True)\n",
    "data.isnull().sum()"
   ]
  },
  {
   "cell_type": "code",
   "execution_count": 5,
   "id": "1933fe76",
   "metadata": {},
   "outputs": [
    {
     "data": {
      "text/html": [
       "<div>\n",
       "<style scoped>\n",
       "    .dataframe tbody tr th:only-of-type {\n",
       "        vertical-align: middle;\n",
       "    }\n",
       "\n",
       "    .dataframe tbody tr th {\n",
       "        vertical-align: top;\n",
       "    }\n",
       "\n",
       "    .dataframe thead th {\n",
       "        text-align: right;\n",
       "    }\n",
       "</style>\n",
       "<table border=\"1\" class=\"dataframe\">\n",
       "  <thead>\n",
       "    <tr style=\"text-align: right;\">\n",
       "      <th></th>\n",
       "      <th>Open</th>\n",
       "      <th>High</th>\n",
       "      <th>Low</th>\n",
       "      <th>Close</th>\n",
       "      <th>Volume</th>\n",
       "      <th>Prediction</th>\n",
       "    </tr>\n",
       "    <tr>\n",
       "      <th>Date</th>\n",
       "      <th></th>\n",
       "      <th></th>\n",
       "      <th></th>\n",
       "      <th></th>\n",
       "      <th></th>\n",
       "      <th></th>\n",
       "    </tr>\n",
       "  </thead>\n",
       "  <tbody>\n",
       "    <tr>\n",
       "      <th>2017-01-03</th>\n",
       "      <td>62.250000</td>\n",
       "      <td>63.150002</td>\n",
       "      <td>62.200001</td>\n",
       "      <td>63.000000</td>\n",
       "      <td>11331063</td>\n",
       "      <td>63.450001</td>\n",
       "    </tr>\n",
       "    <tr>\n",
       "      <th>2017-01-04</th>\n",
       "      <td>63.450001</td>\n",
       "      <td>63.450001</td>\n",
       "      <td>62.950001</td>\n",
       "      <td>63.450001</td>\n",
       "      <td>13426502</td>\n",
       "      <td>63.900002</td>\n",
       "    </tr>\n",
       "    <tr>\n",
       "      <th>2017-01-05</th>\n",
       "      <td>63.799999</td>\n",
       "      <td>63.950001</td>\n",
       "      <td>63.549999</td>\n",
       "      <td>63.900002</td>\n",
       "      <td>12484357</td>\n",
       "      <td>63.750000</td>\n",
       "    </tr>\n",
       "    <tr>\n",
       "      <th>2017-01-06</th>\n",
       "      <td>63.900002</td>\n",
       "      <td>63.900002</td>\n",
       "      <td>63.349998</td>\n",
       "      <td>63.750000</td>\n",
       "      <td>14321890</td>\n",
       "      <td>63.700001</td>\n",
       "    </tr>\n",
       "    <tr>\n",
       "      <th>2017-01-09</th>\n",
       "      <td>63.599998</td>\n",
       "      <td>63.849998</td>\n",
       "      <td>63.299999</td>\n",
       "      <td>63.700001</td>\n",
       "      <td>10499807</td>\n",
       "      <td>63.349998</td>\n",
       "    </tr>\n",
       "  </tbody>\n",
       "</table>\n",
       "</div>"
      ],
      "text/plain": [
       "                 Open       High        Low      Close    Volume  Prediction\n",
       "Date                                                                        \n",
       "2017-01-03  62.250000  63.150002  62.200001  63.000000  11331063   63.450001\n",
       "2017-01-04  63.450001  63.450001  62.950001  63.450001  13426502   63.900002\n",
       "2017-01-05  63.799999  63.950001  63.549999  63.900002  12484357   63.750000\n",
       "2017-01-06  63.900002  63.900002  63.349998  63.750000  14321890   63.700001\n",
       "2017-01-09  63.599998  63.849998  63.299999  63.700001  10499807   63.349998"
      ]
     },
     "execution_count": 5,
     "metadata": {},
     "output_type": "execute_result"
    }
   ],
   "source": [
    "data.head()"
   ]
  },
  {
   "cell_type": "code",
   "execution_count": 6,
   "id": "0c41be28",
   "metadata": {
    "scrolled": true
   },
   "outputs": [
    {
     "name": "stdout",
     "output_type": "stream",
     "text": [
      "(1194, 10, 5)\n",
      "(1194, 1)\n"
     ]
    }
   ],
   "source": [
    "data_price=data[\"Prediction\"].values.reshape(-1,1)[:-15]\n",
    "train=data.drop(['Prediction'],1).dropna().values[:-15]\n",
    "sc_x = MinMaxScaler(feature_range=(0,1))\n",
    "# sc_y = MinMaxScaler(feature_range=(0,1))\n",
    "train=sc_x.fit_transform(train)\n",
    "# data_price = sc_y.fit_transform(data_price)\n",
    "def processData(data,data_price,lb):\n",
    "    X,Y = [],[]\n",
    "    for i in range(lb,len(data)-lb-1):\n",
    "        X.append(data[i-(lb):i])\n",
    "        Y.append(data_price[(i)])\n",
    "    return np.array(X),np.array(Y)\n",
    "\n",
    "lb=10\n",
    "X,y = processData(train,data_price,lb)\n",
    "data_x=X[:-15]\n",
    "data_y=y[:-15]\n",
    "X_train,X_test = data_x[:int(data_x.shape[0]*0.90)],data_x[int(data_x.shape[0]*0.90):]\n",
    "y_train,y_test = data_y[:int(data_y.shape[0]*0.90)],data_y[int(data_y.shape[0]*0.90):]\n",
    "# print(type(X_train))\n",
    "print(X.shape)\n",
    "print(y.shape)"
   ]
  },
  {
   "cell_type": "code",
   "execution_count": 7,
   "id": "8e84aa5c",
   "metadata": {},
   "outputs": [
    {
     "name": "stdout",
     "output_type": "stream",
     "text": [
      "(1061, 10, 5) (1061, 1) (118, 10, 5) (118, 1)\n"
     ]
    }
   ],
   "source": [
    "print(X_train.shape,y_train.shape,X_test.shape,y_test.shape)"
   ]
  },
  {
   "cell_type": "code",
   "execution_count": 8,
   "id": "90df9fa0-ec07-45a1-8280-6ae4fa9ad32b",
   "metadata": {},
   "outputs": [],
   "source": [
    "X_val=X_test[-18:]\n",
    "X_test=X_test[:-18]\n",
    "y_val=y_test[-18:]\n",
    "y_test=y_test[:-18]"
   ]
  },
  {
   "cell_type": "code",
   "execution_count": 9,
   "id": "d361965d",
   "metadata": {},
   "outputs": [],
   "source": [
    "# Build the LSTM model\n",
    "model = Sequential()\n",
    "model.add(LSTM(50,activation='relu', input_shape= (X_train.shape[1], X_train.shape[2]),return_sequences=True))\n",
    "# model.add(Dropout(0.2))\n",
    "model.add(LSTM(100, dropout=0.0))\n",
    "# model.add(Dropout(0.2))\n",
    "model.add(Dense(32))\n",
    "model.add(Dense(1))\n",
    "model.compile(\n",
    "  loss=\"mean_squared_error\",\n",
    "  optimizer='Adam'\n",
    ")"
   ]
  },
  {
   "cell_type": "code",
   "execution_count": 10,
   "id": "1e51a5d4",
   "metadata": {},
   "outputs": [
    {
     "name": "stdout",
     "output_type": "stream",
     "text": [
      "Model: \"sequential\"\n",
      "_________________________________________________________________\n",
      "Layer (type)                 Output Shape              Param #   \n",
      "=================================================================\n",
      "lstm (LSTM)                  (None, 10, 50)            11200     \n",
      "_________________________________________________________________\n",
      "dropout (Dropout)            (None, 10, 50)            0         \n",
      "_________________________________________________________________\n",
      "lstm_1 (LSTM)                (None, 100)               60400     \n",
      "_________________________________________________________________\n",
      "dropout_1 (Dropout)          (None, 100)               0         \n",
      "_________________________________________________________________\n",
      "dense (Dense)                (None, 32)                3232      \n",
      "_________________________________________________________________\n",
      "dense_1 (Dense)              (None, 1)                 33        \n",
      "=================================================================\n",
      "Total params: 74,865\n",
      "Trainable params: 74,865\n",
      "Non-trainable params: 0\n",
      "_________________________________________________________________\n"
     ]
    }
   ],
   "source": [
    "model.summary() "
   ]
  },
  {
   "cell_type": "code",
   "execution_count": 11,
   "id": "1c4e605e",
   "metadata": {
    "scrolled": true
   },
   "outputs": [
    {
     "name": "stdout",
     "output_type": "stream",
     "text": [
      "Epoch 1/100\n",
      "54/54 [==============================] - 12s 17ms/step - loss: 3916.4230 - val_loss: 14.8479\n",
      "Epoch 2/100\n",
      "54/54 [==============================] - 0s 7ms/step - loss: 328.4586 - val_loss: 13.5641\n",
      "Epoch 3/100\n",
      "54/54 [==============================] - 0s 7ms/step - loss: 427.5210 - val_loss: 57.5807\n",
      "Epoch 4/100\n",
      "54/54 [==============================] - 0s 7ms/step - loss: 336.5657 - val_loss: 47.4008\n",
      "Epoch 5/100\n",
      "54/54 [==============================] - 0s 7ms/step - loss: 323.2758 - val_loss: 326.8670\n",
      "Epoch 6/100\n",
      "54/54 [==============================] - 0s 7ms/step - loss: 245.5250 - val_loss: 142.5319\n",
      "Epoch 7/100\n",
      "54/54 [==============================] - 0s 7ms/step - loss: 191.9475 - val_loss: 89.3076\n",
      "Epoch 8/100\n",
      "54/54 [==============================] - 0s 7ms/step - loss: 251.7522 - val_loss: 77.3335\n",
      "Epoch 9/100\n",
      "54/54 [==============================] - 0s 7ms/step - loss: 194.6564 - val_loss: 26.0634\n",
      "Epoch 10/100\n",
      "54/54 [==============================] - 0s 7ms/step - loss: 39.2386 - val_loss: 35.6724\n",
      "Epoch 11/100\n",
      "54/54 [==============================] - 0s 7ms/step - loss: 78.5048 - val_loss: 54.0084\n",
      "Epoch 12/100\n",
      "54/54 [==============================] - 0s 7ms/step - loss: 129.9709 - val_loss: 32.0381\n",
      "Epoch 13/100\n",
      "54/54 [==============================] - 0s 7ms/step - loss: 85.6591 - val_loss: 46.3498\n",
      "Epoch 14/100\n",
      "54/54 [==============================] - 0s 7ms/step - loss: 107.1802 - val_loss: 52.9175\n",
      "Epoch 15/100\n",
      "54/54 [==============================] - 0s 7ms/step - loss: 119.8691 - val_loss: 29.3197\n",
      "Epoch 16/100\n",
      "54/54 [==============================] - 0s 7ms/step - loss: 88.2450 - val_loss: 65.5083\n",
      "Epoch 17/100\n",
      "54/54 [==============================] - 0s 7ms/step - loss: 120.7284 - val_loss: 50.0340\n",
      "Epoch 18/100\n",
      "54/54 [==============================] - 0s 7ms/step - loss: 123.0192 - val_loss: 22.6303\n",
      "Epoch 19/100\n",
      "54/54 [==============================] - 0s 7ms/step - loss: 80.8634 - val_loss: 58.8435\n",
      "Epoch 20/100\n",
      "54/54 [==============================] - 0s 7ms/step - loss: 111.5920 - val_loss: 38.7053\n",
      "Epoch 21/100\n",
      "54/54 [==============================] - 0s 7ms/step - loss: 106.3571 - val_loss: 34.4302\n",
      "Epoch 22/100\n",
      "54/54 [==============================] - 0s 7ms/step - loss: 94.9398 - val_loss: 35.0431\n",
      "Epoch 23/100\n",
      "54/54 [==============================] - 0s 7ms/step - loss: 103.8469 - val_loss: 37.9970\n",
      "Epoch 24/100\n",
      "54/54 [==============================] - 0s 7ms/step - loss: 106.2627 - val_loss: 31.4358\n",
      "Epoch 25/100\n",
      "54/54 [==============================] - 0s 7ms/step - loss: 105.5336 - val_loss: 44.5409\n",
      "Epoch 26/100\n",
      "54/54 [==============================] - 0s 7ms/step - loss: 108.7027 - val_loss: 24.6657\n",
      "Epoch 27/100\n",
      "54/54 [==============================] - 0s 7ms/step - loss: 103.5660 - val_loss: 40.5323\n",
      "Epoch 28/100\n",
      "54/54 [==============================] - 0s 7ms/step - loss: 103.6284 - val_loss: 20.4753\n",
      "Epoch 29/100\n",
      "54/54 [==============================] - 0s 7ms/step - loss: 98.2073 - val_loss: 44.1906\n",
      "Epoch 30/100\n",
      "54/54 [==============================] - 0s 7ms/step - loss: 106.2079 - val_loss: 19.2282\n",
      "Epoch 31/100\n",
      "54/54 [==============================] - 0s 7ms/step - loss: 97.8401 - val_loss: 43.4862\n",
      "Epoch 32/100\n",
      "54/54 [==============================] - 0s 7ms/step - loss: 115.2122 - val_loss: 21.1909\n",
      "Epoch 33/100\n",
      "54/54 [==============================] - 0s 7ms/step - loss: 107.6744 - val_loss: 43.9366\n",
      "Epoch 34/100\n",
      "54/54 [==============================] - 0s 7ms/step - loss: 103.3696 - val_loss: 17.0912\n",
      "Epoch 35/100\n",
      "54/54 [==============================] - 0s 7ms/step - loss: 90.2600 - val_loss: 44.4536\n",
      "Epoch 36/100\n",
      "54/54 [==============================] - 0s 7ms/step - loss: 105.6282 - val_loss: 11.9089\n",
      "Epoch 37/100\n",
      "54/54 [==============================] - 0s 7ms/step - loss: 100.2519 - val_loss: 48.4583\n",
      "Epoch 38/100\n",
      "54/54 [==============================] - 0s 7ms/step - loss: 113.1508 - val_loss: 13.7928\n",
      "Epoch 39/100\n",
      "54/54 [==============================] - 0s 7ms/step - loss: 104.0163 - val_loss: 48.1488\n",
      "Epoch 40/100\n",
      "54/54 [==============================] - 0s 7ms/step - loss: 110.3162 - val_loss: 10.4296\n",
      "Epoch 41/100\n",
      "54/54 [==============================] - 0s 7ms/step - loss: 91.4695 - val_loss: 31.9195\n",
      "Epoch 42/100\n",
      "54/54 [==============================] - 0s 7ms/step - loss: 88.2143 - val_loss: 27.2481\n",
      "Epoch 43/100\n",
      "54/54 [==============================] - 0s 7ms/step - loss: 103.6700 - val_loss: 15.9071\n",
      "Epoch 44/100\n",
      "54/54 [==============================] - 0s 7ms/step - loss: 91.6185 - val_loss: 40.4718\n",
      "Epoch 45/100\n",
      "54/54 [==============================] - 0s 6ms/step - loss: 98.1385 - val_loss: 10.2317\n",
      "Epoch 46/100\n",
      "54/54 [==============================] - 0s 7ms/step - loss: 106.3664 - val_loss: 38.3604\n",
      "Epoch 47/100\n",
      "54/54 [==============================] - 0s 7ms/step - loss: 97.6574 - val_loss: 15.6355\n",
      "Epoch 48/100\n",
      "54/54 [==============================] - 0s 7ms/step - loss: 91.9114 - val_loss: 50.2794\n",
      "Epoch 49/100\n",
      "54/54 [==============================] - 0s 7ms/step - loss: 118.8703 - val_loss: 6.1323\n",
      "Epoch 50/100\n",
      "54/54 [==============================] - 0s 7ms/step - loss: 95.1225 - val_loss: 39.8088\n",
      "Epoch 51/100\n",
      "54/54 [==============================] - 0s 7ms/step - loss: 94.3150 - val_loss: 23.2613\n",
      "Epoch 52/100\n",
      "54/54 [==============================] - 0s 7ms/step - loss: 95.4000 - val_loss: 13.0647\n",
      "Epoch 53/100\n",
      "54/54 [==============================] - 0s 7ms/step - loss: 98.2927 - val_loss: 42.4036\n",
      "Epoch 54/100\n",
      "54/54 [==============================] - 0s 7ms/step - loss: 101.3211 - val_loss: 16.4735\n",
      "Epoch 55/100\n",
      "54/54 [==============================] - 0s 7ms/step - loss: 97.9487 - val_loss: 21.7641\n",
      "Epoch 56/100\n",
      "54/54 [==============================] - 0s 7ms/step - loss: 94.2732 - val_loss: 16.6008\n",
      "Epoch 57/100\n",
      "54/54 [==============================] - 0s 7ms/step - loss: 94.4481 - val_loss: 43.3851\n",
      "Epoch 58/100\n",
      "54/54 [==============================] - 0s 7ms/step - loss: 122.5874 - val_loss: 5.4799\n",
      "Epoch 59/100\n",
      "54/54 [==============================] - 0s 7ms/step - loss: 83.7397 - val_loss: 30.5602\n",
      "Epoch 60/100\n",
      "54/54 [==============================] - 0s 6ms/step - loss: 96.7608 - val_loss: 28.4328\n",
      "Epoch 61/100\n",
      "54/54 [==============================] - 0s 7ms/step - loss: 93.1404 - val_loss: 10.4725\n",
      "Epoch 62/100\n",
      "54/54 [==============================] - 0s 7ms/step - loss: 99.9023 - val_loss: 34.3003\n",
      "Epoch 63/100\n",
      "54/54 [==============================] - 0s 7ms/step - loss: 94.5648 - val_loss: 6.9295\n",
      "Epoch 64/100\n",
      "54/54 [==============================] - 0s 7ms/step - loss: 77.2693 - val_loss: 29.6730\n",
      "Epoch 65/100\n",
      "54/54 [==============================] - 0s 7ms/step - loss: 89.4679 - val_loss: 17.2714\n",
      "Epoch 66/100\n",
      "54/54 [==============================] - 0s 7ms/step - loss: 94.2800 - val_loss: 20.0613\n",
      "Epoch 67/100\n",
      "54/54 [==============================] - 0s 7ms/step - loss: 86.0205 - val_loss: 22.5759\n",
      "Epoch 68/100\n",
      "54/54 [==============================] - 0s 7ms/step - loss: 98.1854 - val_loss: 13.8906\n",
      "Epoch 69/100\n",
      "54/54 [==============================] - 0s 7ms/step - loss: 81.1652 - val_loss: 16.7269\n",
      "Epoch 70/100\n",
      "54/54 [==============================] - 0s 7ms/step - loss: 88.1243 - val_loss: 15.5157\n",
      "Epoch 71/100\n",
      "54/54 [==============================] - 0s 7ms/step - loss: 92.1145 - val_loss: 24.0823\n",
      "Epoch 72/100\n",
      "54/54 [==============================] - 0s 7ms/step - loss: 103.5867 - val_loss: 22.4185\n",
      "Epoch 73/100\n",
      "54/54 [==============================] - 0s 7ms/step - loss: 96.2898 - val_loss: 11.7357\n",
      "Epoch 74/100\n",
      "54/54 [==============================] - 0s 7ms/step - loss: 90.7633 - val_loss: 25.5353\n",
      "Epoch 75/100\n",
      "54/54 [==============================] - 0s 7ms/step - loss: 93.7363 - val_loss: 21.9131\n",
      "Epoch 76/100\n",
      "54/54 [==============================] - 0s 7ms/step - loss: 85.2222 - val_loss: 12.7053\n",
      "Epoch 77/100\n",
      "54/54 [==============================] - 0s 7ms/step - loss: 86.2379 - val_loss: 28.5077\n",
      "Epoch 78/100\n",
      "54/54 [==============================] - 0s 7ms/step - loss: 92.1604 - val_loss: 8.0115\n",
      "Epoch 79/100\n",
      "54/54 [==============================] - 0s 7ms/step - loss: 91.5922 - val_loss: 31.5154\n",
      "Epoch 80/100\n",
      "54/54 [==============================] - 0s 7ms/step - loss: 90.6446 - val_loss: 13.6141\n",
      "Epoch 81/100\n"
     ]
    },
    {
     "name": "stdout",
     "output_type": "stream",
     "text": [
      "54/54 [==============================] - 0s 6ms/step - loss: 91.3415 - val_loss: 12.6335\n",
      "Epoch 82/100\n",
      "54/54 [==============================] - 0s 7ms/step - loss: 82.9681 - val_loss: 33.8215\n",
      "Epoch 83/100\n",
      "54/54 [==============================] - 0s 7ms/step - loss: 84.3838 - val_loss: 5.5973\n",
      "Epoch 84/100\n",
      "54/54 [==============================] - 0s 7ms/step - loss: 84.2170 - val_loss: 29.3906\n",
      "Epoch 85/100\n",
      "54/54 [==============================] - 0s 7ms/step - loss: 83.7545 - val_loss: 16.4047\n",
      "Epoch 86/100\n",
      "54/54 [==============================] - 0s 7ms/step - loss: 86.3271 - val_loss: 10.8894\n",
      "Epoch 87/100\n",
      "54/54 [==============================] - 0s 7ms/step - loss: 82.4987 - val_loss: 35.8296\n",
      "Epoch 88/100\n",
      "54/54 [==============================] - 0s 7ms/step - loss: 84.6030 - val_loss: 4.3088\n",
      "Epoch 89/100\n",
      "54/54 [==============================] - 0s 7ms/step - loss: 70.7902 - val_loss: 32.0934\n",
      "Epoch 90/100\n",
      "54/54 [==============================] - 0s 7ms/step - loss: 75.5280 - val_loss: 6.1826\n",
      "Epoch 91/100\n",
      "54/54 [==============================] - 0s 7ms/step - loss: 75.7332 - val_loss: 29.6132\n",
      "Epoch 92/100\n",
      "54/54 [==============================] - 0s 7ms/step - loss: 71.9608 - val_loss: 7.5254\n",
      "Epoch 93/100\n",
      "54/54 [==============================] - 0s 7ms/step - loss: 77.4455 - val_loss: 31.0413\n",
      "Epoch 94/100\n",
      "54/54 [==============================] - 0s 7ms/step - loss: 72.5187 - val_loss: 8.3132\n",
      "Epoch 95/100\n",
      "54/54 [==============================] - 0s 7ms/step - loss: 74.4361 - val_loss: 15.7619\n",
      "Epoch 96/100\n",
      "54/54 [==============================] - 0s 7ms/step - loss: 71.8773 - val_loss: 19.3935\n",
      "Epoch 97/100\n",
      "54/54 [==============================] - 0s 7ms/step - loss: 65.6824 - val_loss: 6.7351\n",
      "Epoch 98/100\n",
      "54/54 [==============================] - 0s 7ms/step - loss: 57.8558 - val_loss: 16.2580\n",
      "Epoch 99/100\n",
      "54/54 [==============================] - 0s 6ms/step - loss: 57.5838 - val_loss: 6.3338\n",
      "Epoch 100/100\n",
      "54/54 [==============================] - 0s 7ms/step - loss: 63.7929 - val_loss: 14.6758\n"
     ]
    }
   ],
   "source": [
    "#Fit model with history to check for overfitting\n",
    "es = EarlyStopping(monitor='val_loss', mode='min', verbose=1,patience=40, min_delta=0.0001)\n",
    "history = model.fit(X_train,y_train,epochs=100,batch_size=20,validation_data=(X_val,y_val),shuffle=False,callbacks=[es])"
   ]
  },
  {
   "cell_type": "code",
   "execution_count": 12,
   "id": "57aef319",
   "metadata": {},
   "outputs": [],
   "source": [
    "y_pred = model.predict(X_test)"
   ]
  },
  {
   "cell_type": "code",
   "execution_count": 13,
   "id": "368e472d-9997-47c9-8d86-6b5e9a76b8ef",
   "metadata": {},
   "outputs": [
    {
     "data": {
      "text/plain": [
       "(100, 1)"
      ]
     },
     "execution_count": 13,
     "metadata": {},
     "output_type": "execute_result"
    }
   ],
   "source": [
    "y_pred.shape"
   ]
  },
  {
   "cell_type": "code",
   "execution_count": 14,
   "id": "9d5451f9",
   "metadata": {},
   "outputs": [
    {
     "data": {
      "text/plain": [
       "<matplotlib.legend.Legend at 0x7f2268686550>"
      ]
     },
     "execution_count": 14,
     "metadata": {},
     "output_type": "execute_result"
    },
    {
     "data": {
      "image/png": "[encoded data removed]",
      "text/plain": [
       "<Figure size 432x288 with 1 Axes>"
      ]
     },
     "metadata": {
      "needs_background": "light"
     },
     "output_type": "display_data"
    }
   ],
   "source": [
    "plt.plot(history.history['loss'], label='train')\n",
    "plt.plot(history.history['val_loss'], label='test')\n",
    "plt.legend()"
   ]
  },
  {
   "cell_type": "code",
   "execution_count": 15,
   "id": "190bdf74",
   "metadata": {},
   "outputs": [
    {
     "data": {
      "image/png": "[encoded data removed]",
      "text/plain": [
       "<Figure size 432x288 with 1 Axes>"
      ]
     },
     "metadata": {
      "needs_background": "light"
     },
     "output_type": "display_data"
    }
   ],
   "source": [
    "plt.plot(np.arange(0, len(y_train)), y_train, 'g', label=\"history\")\n",
    "plt.plot(np.arange(len(y_train), len(y_train) + len(y_test)), y_test, marker='.', label=\"true\")\n",
    "plt.plot(np.arange(len(y_train), len(y_train) + len(y_test)), y_pred, 'r', label=\"prediction\")\n",
    "plt.ylabel('Value')\n",
    "plt.xlabel('Time Step')\n",
    "plt.legend()\n",
    "plt.show();"
   ]
  },
  {
   "cell_type": "code",
   "execution_count": 16,
   "id": "f0f89a33",
   "metadata": {},
   "outputs": [],
   "source": [
    "# plot_x=data[int(X.shape[0]*0.90):]\n",
    "# plot_x[\"Prediction\"]=y_test\n",
    "# y_test=sc_y.inverse_transform(y_test)\n",
    "# y_pred=sc_y.inverse_transform(y_pred)"
   ]
  },
  {
   "cell_type": "code",
   "execution_count": 17,
   "id": "360a8226",
   "metadata": {},
   "outputs": [
    {
     "data": {
      "image/png": "[encoded data removed]",
      "text/plain": [
       "<Figure size 432x288 with 1 Axes>"
      ]
     },
     "metadata": {
      "needs_background": "light"
     },
     "output_type": "display_data"
    }
   ],
   "source": [
    "plt.plot(y_test, marker='.', label=\"true\")\n",
    "plt.plot(y_pred, 'r',marker='*', label=\"prediction\")\n",
    "plt.ylabel('Value')\n",
    "plt.xlabel('Time Step')\n",
    "plt.legend()\n",
    "plt.show();"
   ]
  },
  {
   "cell_type": "code",
   "execution_count": 18,
   "id": "ab556cdd",
   "metadata": {},
   "outputs": [
    {
     "data": {
      "text/plain": [
       "3.6029449115273753"
      ]
     },
     "execution_count": 18,
     "metadata": {},
     "output_type": "execute_result"
    }
   ],
   "source": [
    "mean_absolute_percentage_error(y_test,y_pred)*100"
   ]
  },
  {
   "cell_type": "code",
   "execution_count": 19,
   "id": "39d4fb4d",
   "metadata": {},
   "outputs": [
    {
     "data": {
      "text/plain": [
       "4.378632178198168"
      ]
     },
     "execution_count": 19,
     "metadata": {},
     "output_type": "execute_result"
    }
   ],
   "source": [
    "mean_squared_error(y_test,y_pred)"
   ]
  },
  {
   "cell_type": "code",
   "execution_count": 20,
   "id": "4d5c03c6-abcb-4299-bdf8-ea8124bb9714",
   "metadata": {},
   "outputs": [
    {
     "data": {
      "text/plain": [
       "0.5416885092712613"
      ]
     },
     "execution_count": 20,
     "metadata": {},
     "output_type": "execute_result"
    }
   ],
   "source": [
    "r2_score(y_test,y_pred)"
   ]
  },
  {
   "cell_type": "markdown",
   "id": "eac4f53f-0f5c-415c-b1c6-10d49e309ae0",
   "metadata": {},
   "source": [
    "# Unseen data"
   ]
  },
  {
   "cell_type": "code",
   "execution_count": 22,
   "id": "8970b270-d05f-45e8-b0c3-50578e94d674",
   "metadata": {
    "scrolled": true,
    "tags": []
   },
   "outputs": [
    {
     "name": "stdout",
     "output_type": "stream",
     "text": [
      "[[46.95000076]\n",
      " [47.04999924]\n",
      " [46.84999847]\n",
      " [47.15000153]\n",
      " [45.45000076]\n",
      " [45.70000076]\n",
      " [45.54999924]\n",
      " [45.29999924]\n",
      " [45.45000076]\n",
      " [45.29999924]\n",
      " [45.20000076]\n",
      " [45.79999924]\n",
      " [46.        ]\n",
      " [46.04999924]\n",
      " [46.04999924]]\n"
     ]
    }
   ],
   "source": [
    "forecast_data = X[-15:]\n",
    "forecast = y[-15:]\n",
    "# forecast=sc_y.inverse_transform(forecast) \n",
    "print(forecast)"
   ]
  },
  {
   "cell_type": "code",
   "execution_count": 25,
   "id": "8e0ac9af-7e3d-4ea2-96ff-2615296783f0",
   "metadata": {
    "scrolled": true,
    "tags": []
   },
   "outputs": [
    {
     "name": "stdout",
     "output_type": "stream",
     "text": [
      "[[44.177032]\n",
      " [44.27563 ]\n",
      " [44.30889 ]\n",
      " [44.37577 ]\n",
      " [44.43083 ]\n",
      " [44.47046 ]\n",
      " [44.271126]\n",
      " [44.23445 ]\n",
      " [44.21848 ]\n",
      " [44.082783]\n",
      " [44.036148]\n",
      " [43.997215]\n",
      " [43.95128 ]\n",
      " [43.89558 ]\n",
      " [43.862343]]\n"
     ]
    }
   ],
   "source": [
    "prediction = model.predict(forecast_data).reshape(-1,1)\n",
    "# prediction = sc_y.inverse_transform(prediction) \n",
    "print(prediction)"
   ]
  },
  {
   "cell_type": "code",
   "execution_count": 26,
   "id": "aff31f99-0e68-422f-a1e1-cd7ad1730e57",
   "metadata": {},
   "outputs": [
    {
     "data": {
      "image/png": "[encoded data removed]",
      "text/plain": [
       "<Figure size 432x288 with 1 Axes>"
      ]
     },
     "metadata": {
      "needs_background": "light"
     },
     "output_type": "display_data"
    }
   ],
   "source": [
    "plt.plot(forecast, marker='.', label=\"true\")\n",
    "plt.plot(prediction, 'r',marker='*', label=\"prediction\")\n",
    "plt.ylabel('Value')\n",
    "plt.xlabel('Time Step')\n",
    "plt.legend()\n",
    "plt.show();"
   ]
  },
  {
   "cell_type": "code",
   "execution_count": null,
   "id": "72dfbdfe-06f7-403e-be67-ca0b46adce42",
   "metadata": {},
   "outputs": [],
   "source": [
    "mean_absolute_percentage_error(forecast,prediction)*100"
   ]
  },
  {
   "cell_type": "code",
   "execution_count": null,
   "id": "3ae616f4-6a1a-4949-a321-7ad7d3b8891d",
   "metadata": {},
   "outputs": [],
   "source": [
    "r2_score(forecast,prediction)"
   ]
  },
  {
   "cell_type": "code",
   "execution_count": null,
   "id": "814d9695-2fc7-4a17-9d2c-1a8453766b49",
   "metadata": {},
   "outputs": [],
   "source": []
  }
 ],
 "metadata": {
  "kernelspec": {
   "display_name": "Python 3",
   "language": "python",
   "name": "python3"
  },
  "language_info": {
   "codemirror_mode": {
    "name": "ipython",
    "version": 3
   },
   "file_extension": ".py",
   "mimetype": "text/x-python",
   "name": "python",
   "nbconvert_exporter": "python",
   "pygments_lexer": "ipython3",
   "version": "3.8.8"
  }
 },
 "nbformat": 4,
 "nbformat_minor": 5
}
