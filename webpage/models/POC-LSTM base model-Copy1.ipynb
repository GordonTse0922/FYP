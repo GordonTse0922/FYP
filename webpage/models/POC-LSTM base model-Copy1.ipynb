{
 "cells": [
  {
   "cell_type": "code",
   "execution_count": 51,
   "id": "383ba3d4",
   "metadata": {},
   "outputs": [],
   "source": [
    "import yfinance as yf\n",
    "import tensorflow.keras.backend as K\n",
    "import pandas as pd\n",
    "import numpy as np\n",
    "import matplotlib.pyplot as plt\n",
    "from sklearn.preprocessing import MinMaxScaler ,StandardScaler\n",
    "from sklearn.model_selection import train_test_split\n",
    "from sklearn.metrics import classification_report,accuracy_score, mean_squared_error,mean_absolute_percentage_error,r2_score\n",
    "import tensorflow as tf\n",
    "from tensorflow import keras\n",
    "from keras.layers import LSTM,Dropout, BatchNormalization, Dense\n",
    "from keras.callbacks import ModelCheckpoint, EarlyStopping, ReduceLROnPlateau, CSVLogger\n",
    "from keras.models import Sequential\n",
    "from keras.optimizer_v2.adam import Adam\n",
    "from keras.optimizer_v2.rmsprop import RMSprop\n",
    "import talib"
   ]
  },
  {
   "cell_type": "code",
   "execution_count": 52,
   "id": "9bbbd3ff",
   "metadata": {},
   "outputs": [
    {
     "name": "stdout",
     "output_type": "stream",
     "text": [
      "[*********************100%***********************]  1 of 1 completed\n"
     ]
    },
    {
     "data": {
      "text/plain": "                 Open       High        Low      Close  Adj Close    Volume\nDate                                                                       \n2017-01-03  62.250000  63.150002  62.200001  63.000000  50.812321  11331063\n2017-01-04  63.450001  63.450001  62.950001  63.450001  51.175259  13426502\n2017-01-05  63.799999  63.950001  63.549999  63.900002  51.538208  12484357\n2017-01-06  63.900002  63.900002  63.349998  63.750000  51.417217  14321890\n2017-01-09  63.599998  63.849998  63.299999  63.700001  51.376896  10499807",
      "text/html": "<div>\n<style scoped>\n    .dataframe tbody tr th:only-of-type {\n        vertical-align: middle;\n    }\n\n    .dataframe tbody tr th {\n        vertical-align: top;\n    }\n\n    .dataframe thead th {\n        text-align: right;\n    }\n</style>\n<table border=\"1\" class=\"dataframe\">\n  <thead>\n    <tr style=\"text-align: right;\">\n      <th></th>\n      <th>Open</th>\n      <th>High</th>\n      <th>Low</th>\n      <th>Close</th>\n      <th>Adj Close</th>\n      <th>Volume</th>\n    </tr>\n    <tr>\n      <th>Date</th>\n      <th></th>\n      <th></th>\n      <th></th>\n      <th></th>\n      <th></th>\n      <th></th>\n    </tr>\n  </thead>\n  <tbody>\n    <tr>\n      <th>2017-01-03</th>\n      <td>62.250000</td>\n      <td>63.150002</td>\n      <td>62.200001</td>\n      <td>63.000000</td>\n      <td>50.812321</td>\n      <td>11331063</td>\n    </tr>\n    <tr>\n      <th>2017-01-04</th>\n      <td>63.450001</td>\n      <td>63.450001</td>\n      <td>62.950001</td>\n      <td>63.450001</td>\n      <td>51.175259</td>\n      <td>13426502</td>\n    </tr>\n    <tr>\n      <th>2017-01-05</th>\n      <td>63.799999</td>\n      <td>63.950001</td>\n      <td>63.549999</td>\n      <td>63.900002</td>\n      <td>51.538208</td>\n      <td>12484357</td>\n    </tr>\n    <tr>\n      <th>2017-01-06</th>\n      <td>63.900002</td>\n      <td>63.900002</td>\n      <td>63.349998</td>\n      <td>63.750000</td>\n      <td>51.417217</td>\n      <td>14321890</td>\n    </tr>\n    <tr>\n      <th>2017-01-09</th>\n      <td>63.599998</td>\n      <td>63.849998</td>\n      <td>63.299999</td>\n      <td>63.700001</td>\n      <td>51.376896</td>\n      <td>10499807</td>\n    </tr>\n  </tbody>\n</table>\n</div>"
     },
     "execution_count": 52,
     "metadata": {},
     "output_type": "execute_result"
    }
   ],
   "source": [
    "data = yf.download('0005.hk',\"2017-01-01\",\"2021-12-30\")\n",
    "data.head()"
   ]
  },
  {
   "cell_type": "code",
   "execution_count": 53,
   "id": "a6fa5fbd",
   "metadata": {},
   "outputs": [],
   "source": [
    "data['Prediction'] = data[['Close']].shift(-1)"
   ]
  },
  {
   "cell_type": "code",
   "execution_count": 54,
   "outputs": [],
   "source": [
    "data['6day MA'] = data['Close'].rolling(window = 6).mean()\n",
    "data['12day MA'] = data['Close'].rolling(window = 12).mean()\n",
    "data['RSI'] = talib.RSI(data['Close'].values, timeperiod = 7)\n",
    "data['%R5'] = talib.WILLR(data['High'].values, data['Low'].values, data['Close'].values, 5)\n",
    "data['%R10'] = talib.WILLR(data['High'].values, data['Low'].values, data['Close'].values, 10)\n",
    "data['MTM6']=talib.MOM(data['Close'],timeperiod=6)\n",
    "data['MTM12']=talib.MOM(data['Close'],timeperiod=12)\n",
    "macd, macdsignal, macdhist = talib.MACD(data['Close'], fastperiod=12, slowperiod=26, signalperiod=9)\n",
    "data['EMA12']=talib.EMA(data['Close'], timeperiod=12)\n",
    "data['EMA26']=talib.EMA(data['Close'],timeperiod=26)\n",
    "data['MACD']=macd\n",
    "data['TR']=talib.TRANGE(data['High'],data['Low'],data['Close'])\n",
    "data['OSC6']=talib.CMO(data['Close'], timeperiod=6)\n",
    "data['OSC12']=talib.CMO(data['Close'], timeperiod=12)"
   ],
   "metadata": {
    "collapsed": false,
    "pycharm": {
     "name": "#%%\n"
    }
   }
  },
  {
   "cell_type": "code",
   "execution_count": 55,
   "id": "df37e2a1",
   "metadata": {},
   "outputs": [
    {
     "name": "stderr",
     "output_type": "stream",
     "text": [
      "/var/folders/8h/w0jn89bj2w5g85gj4ck7w0t00000gn/T/ipykernel_14428/3402607050.py:2: FutureWarning: In a future version of pandas all arguments of DataFrame.drop except for the argument 'labels' will be keyword-only\n",
      "  data.drop('Adj Close',1,inplace=True)\n"
     ]
    }
   ],
   "source": [
    "data.dropna(inplace=True)\n",
    "data.drop('Adj Close',1,inplace=True)"
   ]
  },
  {
   "cell_type": "code",
   "execution_count": 56,
   "id": "a15ef8d6",
   "metadata": {},
   "outputs": [
    {
     "data": {
      "text/plain": "                 Open       High        Low      Close     Volume  Prediction  \\\nDate                                                                            \n2017-02-21  69.000000  69.000000  65.400002  65.550003  106826895   65.449997   \n2017-02-22  64.849998  65.750000  64.650002  65.449997   99295567   64.050003   \n2017-02-23  63.950001  64.400002  63.900002  64.050003   37652154   63.549999   \n2017-02-24  63.900002  63.950001  63.500000  63.549999   27069077   63.000000   \n2017-02-27  63.000000  63.250000  62.750000  63.000000   37267733   62.500000   \n\n              6day MA   12day MA        RSI        %R5       %R10      MTM6  \\\nDate                                                                          \n2017-02-21  67.641668  67.087500  35.855058 -95.945901 -95.945901 -1.349998   \n2017-02-22  67.383334  67.012500  35.164297 -82.022562 -82.022562 -1.550003   \n2017-02-23  66.775002  66.833334  26.748087 -97.115354 -97.115354 -3.649994   \n2017-02-24  65.983334  66.587501  24.322500 -99.107156 -99.107156 -4.750004   \n2017-02-27  65.100000  66.320834  21.787035 -96.000000 -96.062991 -5.300003   \n\n               MTM12      EMA12      EMA26      MACD        TR       OSC6  \\\nDate                                                                        \n2017-02-21 -0.250000  67.057537  66.063836  1.019306  3.599998 -33.905212   \n2017-02-22 -0.900002  66.810223  66.018366  0.813523  1.099998 -35.305922   \n2017-02-23 -2.149994  66.385574  65.872561  0.531345  1.549995 -52.290845   \n2017-02-24 -2.950001  65.949332  65.700520  0.264324  0.550003 -57.116115   \n2017-02-27 -3.199997  65.495588  65.500481  0.008233  0.799999 -62.166930   \n\n                OSC12  \nDate                   \n2017-02-21 -10.299996  \n2017-02-22 -11.521964  \n2017-02-23 -26.759273  \n2017-02-24 -31.364562  \n2017-02-27 -36.180027  ",
      "text/html": "<div>\n<style scoped>\n    .dataframe tbody tr th:only-of-type {\n        vertical-align: middle;\n    }\n\n    .dataframe tbody tr th {\n        vertical-align: top;\n    }\n\n    .dataframe thead th {\n        text-align: right;\n    }\n</style>\n<table border=\"1\" class=\"dataframe\">\n  <thead>\n    <tr style=\"text-align: right;\">\n      <th></th>\n      <th>Open</th>\n      <th>High</th>\n      <th>Low</th>\n      <th>Close</th>\n      <th>Volume</th>\n      <th>Prediction</th>\n      <th>6day MA</th>\n      <th>12day MA</th>\n      <th>RSI</th>\n      <th>%R5</th>\n      <th>%R10</th>\n      <th>MTM6</th>\n      <th>MTM12</th>\n      <th>EMA12</th>\n      <th>EMA26</th>\n      <th>MACD</th>\n      <th>TR</th>\n      <th>OSC6</th>\n      <th>OSC12</th>\n    </tr>\n    <tr>\n      <th>Date</th>\n      <th></th>\n      <th></th>\n      <th></th>\n      <th></th>\n      <th></th>\n      <th></th>\n      <th></th>\n      <th></th>\n      <th></th>\n      <th></th>\n      <th></th>\n      <th></th>\n      <th></th>\n      <th></th>\n      <th></th>\n      <th></th>\n      <th></th>\n      <th></th>\n      <th></th>\n    </tr>\n  </thead>\n  <tbody>\n    <tr>\n      <th>2017-02-21</th>\n      <td>69.000000</td>\n      <td>69.000000</td>\n      <td>65.400002</td>\n      <td>65.550003</td>\n      <td>106826895</td>\n      <td>65.449997</td>\n      <td>67.641668</td>\n      <td>67.087500</td>\n      <td>35.855058</td>\n      <td>-95.945901</td>\n      <td>-95.945901</td>\n      <td>-1.349998</td>\n      <td>-0.250000</td>\n      <td>67.057537</td>\n      <td>66.063836</td>\n      <td>1.019306</td>\n      <td>3.599998</td>\n      <td>-33.905212</td>\n      <td>-10.299996</td>\n    </tr>\n    <tr>\n      <th>2017-02-22</th>\n      <td>64.849998</td>\n      <td>65.750000</td>\n      <td>64.650002</td>\n      <td>65.449997</td>\n      <td>99295567</td>\n      <td>64.050003</td>\n      <td>67.383334</td>\n      <td>67.012500</td>\n      <td>35.164297</td>\n      <td>-82.022562</td>\n      <td>-82.022562</td>\n      <td>-1.550003</td>\n      <td>-0.900002</td>\n      <td>66.810223</td>\n      <td>66.018366</td>\n      <td>0.813523</td>\n      <td>1.099998</td>\n      <td>-35.305922</td>\n      <td>-11.521964</td>\n    </tr>\n    <tr>\n      <th>2017-02-23</th>\n      <td>63.950001</td>\n      <td>64.400002</td>\n      <td>63.900002</td>\n      <td>64.050003</td>\n      <td>37652154</td>\n      <td>63.549999</td>\n      <td>66.775002</td>\n      <td>66.833334</td>\n      <td>26.748087</td>\n      <td>-97.115354</td>\n      <td>-97.115354</td>\n      <td>-3.649994</td>\n      <td>-2.149994</td>\n      <td>66.385574</td>\n      <td>65.872561</td>\n      <td>0.531345</td>\n      <td>1.549995</td>\n      <td>-52.290845</td>\n      <td>-26.759273</td>\n    </tr>\n    <tr>\n      <th>2017-02-24</th>\n      <td>63.900002</td>\n      <td>63.950001</td>\n      <td>63.500000</td>\n      <td>63.549999</td>\n      <td>27069077</td>\n      <td>63.000000</td>\n      <td>65.983334</td>\n      <td>66.587501</td>\n      <td>24.322500</td>\n      <td>-99.107156</td>\n      <td>-99.107156</td>\n      <td>-4.750004</td>\n      <td>-2.950001</td>\n      <td>65.949332</td>\n      <td>65.700520</td>\n      <td>0.264324</td>\n      <td>0.550003</td>\n      <td>-57.116115</td>\n      <td>-31.364562</td>\n    </tr>\n    <tr>\n      <th>2017-02-27</th>\n      <td>63.000000</td>\n      <td>63.250000</td>\n      <td>62.750000</td>\n      <td>63.000000</td>\n      <td>37267733</td>\n      <td>62.500000</td>\n      <td>65.100000</td>\n      <td>66.320834</td>\n      <td>21.787035</td>\n      <td>-96.000000</td>\n      <td>-96.062991</td>\n      <td>-5.300003</td>\n      <td>-3.199997</td>\n      <td>65.495588</td>\n      <td>65.500481</td>\n      <td>0.008233</td>\n      <td>0.799999</td>\n      <td>-62.166930</td>\n      <td>-36.180027</td>\n    </tr>\n  </tbody>\n</table>\n</div>"
     },
     "execution_count": 56,
     "metadata": {},
     "output_type": "execute_result"
    }
   ],
   "source": [
    "data.head()"
   ]
  },
  {
   "cell_type": "code",
   "execution_count": 57,
   "id": "abd2a898",
   "metadata": {
    "scrolled": true
   },
   "outputs": [
    {
     "name": "stdout",
     "output_type": "stream",
     "text": [
      "(1160, 10, 18)\n",
      "(1160, 1)\n"
     ]
    },
    {
     "name": "stderr",
     "output_type": "stream",
     "text": [
      "/var/folders/8h/w0jn89bj2w5g85gj4ck7w0t00000gn/T/ipykernel_14428/2467039408.py:2: FutureWarning: In a future version of pandas all arguments of DataFrame.drop except for the argument 'labels' will be keyword-only\n",
      "  train=data.drop(['Prediction'],1).dropna().values[:-15]\n"
     ]
    }
   ],
   "source": [
    "data_price=data[\"Prediction\"].values.reshape(-1,1)[:-15]\n",
    "train=data.drop(['Prediction'],1).dropna().values[:-15]\n",
    "sc_x = MinMaxScaler(feature_range=(0,1))\n",
    "sc_y = MinMaxScaler(feature_range=(0,1))\n",
    "train=sc_x.fit_transform(train)\n",
    "data_price = sc_y.fit_transform(data_price)\n",
    "def processData(data,data_price,lb):\n",
    "    X,Y = [],[]\n",
    "    for i in range(lb,len(data)-lb-1):\n",
    "        X.append(data[i-(lb):i])\n",
    "        Y.append(data_price[(i)])\n",
    "    return np.array(X),np.array(Y)\n",
    "\n",
    "lb=10\n",
    "X,y = processData(train,data_price,lb)\n",
    "data_x=X[:-15]\n",
    "data_y=y[:-15]\n",
    "X_train,X_test = data_x[:int(data_x.shape[0]*0.90)],data_x[int(data_x.shape[0]*0.90):]\n",
    "y_train,y_test = data_y[:int(data_y.shape[0]*0.90)],data_y[int(data_y.shape[0]*0.90):]\n",
    "# print(type(X_train))\n",
    "print(X.shape)\n",
    "print(y.shape)"
   ]
  },
  {
   "cell_type": "code",
   "execution_count": 58,
   "id": "8220325f",
   "metadata": {},
   "outputs": [
    {
     "name": "stdout",
     "output_type": "stream",
     "text": [
      "(1030, 10, 18) (1030, 1) (115, 10, 18) (115, 1)\n"
     ]
    }
   ],
   "source": [
    "print(X_train.shape,y_train.shape,X_test.shape,y_test.shape)"
   ]
  },
  {
   "cell_type": "code",
   "execution_count": 59,
   "id": "cfb1fffe",
   "metadata": {},
   "outputs": [],
   "source": [
    "# Build the LSTM model\n",
    "model = Sequential()\n",
    "model.add(LSTM(50, input_shape= (X_train.shape[1], X_train.shape[2]),recurrent_regularizer='l2'))\n",
    "model.add(Dropout(0.2))\n",
    "model.add(Dense(50))\n",
    "model.add(Dropout(.2))\n",
    "model.add(Dense(25))\n",
    "model.add(Dropout(0.2))\n",
    "model.add(Dense(10))\n",
    "model.add(Dense(1))\n",
    "model.compile(\n",
    "  loss=\"mean_squared_error\",\n",
    "  optimizer='Adam'\n",
    ")"
   ]
  },
  {
   "cell_type": "code",
   "execution_count": 60,
   "id": "ee26abf8",
   "metadata": {},
   "outputs": [
    {
     "name": "stdout",
     "output_type": "stream",
     "text": [
      "Model: \"sequential_2\"\n",
      "_________________________________________________________________\n",
      " Layer (type)                Output Shape              Param #   \n",
      "=================================================================\n",
      " lstm_2 (LSTM)               (None, 50)                13800     \n",
      "                                                                 \n",
      " dropout_3 (Dropout)         (None, 50)                0         \n",
      "                                                                 \n",
      " dense_5 (Dense)             (None, 50)                2550      \n",
      "                                                                 \n",
      " dropout_4 (Dropout)         (None, 50)                0         \n",
      "                                                                 \n",
      " dense_6 (Dense)             (None, 25)                1275      \n",
      "                                                                 \n",
      " dropout_5 (Dropout)         (None, 25)                0         \n",
      "                                                                 \n",
      " dense_7 (Dense)             (None, 10)                260       \n",
      "                                                                 \n",
      " dense_8 (Dense)             (None, 1)                 11        \n",
      "                                                                 \n",
      "=================================================================\n",
      "Total params: 17,896\n",
      "Trainable params: 17,896\n",
      "Non-trainable params: 0\n",
      "_________________________________________________________________\n"
     ]
    }
   ],
   "source": [
    "model.summary() "
   ]
  },
  {
   "cell_type": "code",
   "execution_count": 61,
   "id": "dd03b389",
   "metadata": {
    "scrolled": true
   },
   "outputs": [
    {
     "name": "stdout",
     "output_type": "stream",
     "text": [
      "Epoch 1/300\n"
     ]
    },
    {
     "name": "stderr",
     "output_type": "stream",
     "text": [
      "2021-12-26 20:50:27.434420: I tensorflow/core/grappler/optimizers/custom_graph_optimizer_registry.cc:112] Plugin optimizer for device_type GPU is enabled.\n",
      "2021-12-26 20:50:27.586703: I tensorflow/core/grappler/optimizers/custom_graph_optimizer_registry.cc:112] Plugin optimizer for device_type GPU is enabled.\n"
     ]
    },
    {
     "name": "stdout",
     "output_type": "stream",
     "text": [
      " 9/52 [====>.........................] - ETA: 0s - loss: 0.0741"
     ]
    },
    {
     "name": "stderr",
     "output_type": "stream",
     "text": [
      "2021-12-26 20:50:27.660065: I tensorflow/core/grappler/optimizers/custom_graph_optimizer_registry.cc:112] Plugin optimizer for device_type GPU is enabled.\n"
     ]
    },
    {
     "name": "stdout",
     "output_type": "stream",
     "text": [
      "52/52 [==============================] - 2s 19ms/step - loss: 0.0331 - val_loss: 9.3594e-04\n",
      "Epoch 2/300\n",
      " 5/52 [=>............................] - ETA: 0s - loss: 0.0306"
     ]
    },
    {
     "name": "stderr",
     "output_type": "stream",
     "text": [
      "2021-12-26 20:50:28.556563: I tensorflow/core/grappler/optimizers/custom_graph_optimizer_registry.cc:112] Plugin optimizer for device_type GPU is enabled.\n",
      "2021-12-26 20:50:28.602899: I tensorflow/core/grappler/optimizers/custom_graph_optimizer_registry.cc:112] Plugin optimizer for device_type GPU is enabled.\n"
     ]
    },
    {
     "name": "stdout",
     "output_type": "stream",
     "text": [
      "52/52 [==============================] - 1s 14ms/step - loss: 0.0231 - val_loss: 0.0169\n",
      "Epoch 3/300\n",
      "52/52 [==============================] - 1s 13ms/step - loss: 0.0345 - val_loss: 0.0131\n",
      "Epoch 4/300\n",
      "52/52 [==============================] - 1s 13ms/step - loss: 0.0447 - val_loss: 0.0020\n",
      "Epoch 5/300\n",
      "52/52 [==============================] - 1s 13ms/step - loss: 0.0343 - val_loss: 0.0014\n",
      "Epoch 6/300\n",
      "52/52 [==============================] - 1s 13ms/step - loss: 0.0293 - val_loss: 0.0011\n",
      "Epoch 7/300\n",
      "52/52 [==============================] - 1s 14ms/step - loss: 0.0275 - val_loss: 0.0012\n",
      "Epoch 8/300\n",
      "52/52 [==============================] - 1s 14ms/step - loss: 0.0242 - val_loss: 0.0011\n",
      "Epoch 9/300\n",
      "52/52 [==============================] - 1s 13ms/step - loss: 0.0226 - val_loss: 0.0012\n",
      "Epoch 10/300\n",
      "52/52 [==============================] - 1s 13ms/step - loss: 0.0209 - val_loss: 0.0013\n",
      "Epoch 11/300\n",
      "52/52 [==============================] - 1s 14ms/step - loss: 0.0209 - val_loss: 0.0012\n",
      "Epoch 12/300\n",
      "52/52 [==============================] - 1s 14ms/step - loss: 0.0208 - val_loss: 9.2243e-04\n",
      "Epoch 13/300\n",
      "52/52 [==============================] - 1s 14ms/step - loss: 0.0229 - val_loss: 0.0012\n",
      "Epoch 14/300\n",
      "52/52 [==============================] - 1s 14ms/step - loss: 0.0244 - val_loss: 0.0012\n",
      "Epoch 15/300\n",
      "52/52 [==============================] - 1s 14ms/step - loss: 0.0276 - val_loss: 0.0010\n",
      "Epoch 16/300\n",
      "52/52 [==============================] - 1s 14ms/step - loss: 0.0282 - val_loss: 9.2553e-04\n",
      "Epoch 17/300\n",
      "52/52 [==============================] - 1s 14ms/step - loss: 0.0301 - val_loss: 0.0028\n",
      "Epoch 18/300\n",
      "52/52 [==============================] - 1s 14ms/step - loss: 0.0308 - val_loss: 0.0019\n",
      "Epoch 19/300\n",
      "52/52 [==============================] - 1s 14ms/step - loss: 0.0298 - val_loss: 9.2534e-04\n",
      "Epoch 20/300\n",
      "52/52 [==============================] - 1s 14ms/step - loss: 0.0274 - val_loss: 0.0048\n",
      "Epoch 21/300\n",
      "52/52 [==============================] - 1s 13ms/step - loss: 0.0254 - val_loss: 0.0050\n",
      "Epoch 22/300\n",
      "52/52 [==============================] - 1s 14ms/step - loss: 0.0204 - val_loss: 0.0018\n",
      "Epoch 23/300\n",
      "52/52 [==============================] - 1s 13ms/step - loss: 0.0218 - val_loss: 0.0011\n",
      "Epoch 24/300\n",
      "52/52 [==============================] - 1s 13ms/step - loss: 0.0195 - val_loss: 0.0012\n",
      "Epoch 25/300\n",
      "52/52 [==============================] - 1s 13ms/step - loss: 0.0180 - val_loss: 0.0013\n",
      "Epoch 26/300\n",
      "52/52 [==============================] - 1s 14ms/step - loss: 0.0167 - val_loss: 0.0011\n",
      "Epoch 27/300\n",
      "52/52 [==============================] - 1s 13ms/step - loss: 0.0175 - val_loss: 0.0016\n",
      "Epoch 28/300\n",
      "52/52 [==============================] - 1s 13ms/step - loss: 0.0159 - val_loss: 0.0029\n",
      "Epoch 29/300\n",
      "52/52 [==============================] - 1s 13ms/step - loss: 0.0151 - val_loss: 0.0013\n",
      "Epoch 30/300\n",
      "52/52 [==============================] - 1s 13ms/step - loss: 0.0155 - val_loss: 0.0012\n",
      "Epoch 31/300\n",
      "52/52 [==============================] - 1s 13ms/step - loss: 0.0149 - val_loss: 0.0012\n",
      "Epoch 32/300\n",
      "52/52 [==============================] - 1s 14ms/step - loss: 0.0145 - val_loss: 0.0025\n",
      "Epoch 33/300\n",
      "52/52 [==============================] - 1s 13ms/step - loss: 0.0149 - val_loss: 0.0047\n",
      "Epoch 34/300\n",
      "52/52 [==============================] - 1s 14ms/step - loss: 0.0144 - val_loss: 0.0034\n",
      "Epoch 35/300\n",
      "52/52 [==============================] - 1s 14ms/step - loss: 0.0136 - val_loss: 0.0037\n",
      "Epoch 36/300\n",
      "52/52 [==============================] - 1s 14ms/step - loss: 0.0121 - val_loss: 0.0016\n",
      "Epoch 37/300\n",
      "52/52 [==============================] - 1s 14ms/step - loss: 0.0116 - val_loss: 0.0019\n",
      "Epoch 38/300\n",
      "52/52 [==============================] - 1s 14ms/step - loss: 0.0109 - val_loss: 0.0017\n",
      "Epoch 39/300\n",
      "52/52 [==============================] - 1s 13ms/step - loss: 0.0100 - val_loss: 9.9895e-04\n",
      "Epoch 40/300\n",
      "52/52 [==============================] - 1s 13ms/step - loss: 0.0108 - val_loss: 9.0911e-04\n",
      "Epoch 41/300\n",
      "52/52 [==============================] - 1s 13ms/step - loss: 0.0123 - val_loss: 0.0014\n",
      "Epoch 42/300\n",
      "52/52 [==============================] - 1s 14ms/step - loss: 0.0142 - val_loss: 0.0051\n",
      "Epoch 43/300\n",
      "52/52 [==============================] - 1s 14ms/step - loss: 0.0146 - val_loss: 0.0161\n",
      "Epoch 44/300\n",
      "52/52 [==============================] - 1s 14ms/step - loss: 0.0112 - val_loss: 0.0057\n",
      "Epoch 45/300\n",
      "52/52 [==============================] - 1s 13ms/step - loss: 0.0104 - val_loss: 0.0016\n",
      "Epoch 46/300\n",
      "52/52 [==============================] - 1s 14ms/step - loss: 0.0100 - val_loss: 0.0014\n",
      "Epoch 47/300\n",
      "52/52 [==============================] - 1s 13ms/step - loss: 0.0093 - val_loss: 0.0013\n",
      "Epoch 48/300\n",
      "52/52 [==============================] - 1s 14ms/step - loss: 0.0085 - val_loss: 0.0011\n",
      "Epoch 49/300\n",
      "52/52 [==============================] - 1s 14ms/step - loss: 0.0085 - val_loss: 0.0012\n",
      "Epoch 50/300\n",
      "52/52 [==============================] - 1s 15ms/step - loss: 0.0089 - val_loss: 0.0030\n",
      "Epoch 51/300\n",
      "52/52 [==============================] - 1s 15ms/step - loss: 0.0090 - val_loss: 0.0044\n",
      "Epoch 52/300\n",
      "52/52 [==============================] - 1s 15ms/step - loss: 0.0092 - val_loss: 0.0039\n",
      "Epoch 53/300\n",
      "52/52 [==============================] - 1s 14ms/step - loss: 0.0089 - val_loss: 0.0032\n",
      "Epoch 54/300\n",
      "52/52 [==============================] - 1s 15ms/step - loss: 0.0083 - val_loss: 0.0020\n",
      "Epoch 55/300\n",
      "52/52 [==============================] - 1s 14ms/step - loss: 0.0085 - val_loss: 0.0042\n",
      "Epoch 56/300\n",
      "52/52 [==============================] - 1s 13ms/step - loss: 0.0074 - val_loss: 0.0014\n",
      "Epoch 57/300\n",
      "52/52 [==============================] - 1s 13ms/step - loss: 0.0087 - val_loss: 0.0026\n",
      "Epoch 58/300\n",
      "52/52 [==============================] - 1s 14ms/step - loss: 0.0073 - val_loss: 0.0013\n",
      "Epoch 59/300\n",
      "52/52 [==============================] - 1s 13ms/step - loss: 0.0072 - val_loss: 0.0011\n",
      "Epoch 60/300\n",
      "52/52 [==============================] - 1s 13ms/step - loss: 0.0069 - val_loss: 0.0018\n",
      "Epoch 61/300\n",
      "52/52 [==============================] - 1s 14ms/step - loss: 0.0058 - val_loss: 9.8110e-04\n",
      "Epoch 62/300\n",
      "52/52 [==============================] - 1s 14ms/step - loss: 0.0062 - val_loss: 9.2168e-04\n",
      "Epoch 63/300\n",
      "52/52 [==============================] - 1s 15ms/step - loss: 0.0069 - val_loss: 0.0010\n",
      "Epoch 64/300\n",
      "52/52 [==============================] - 1s 14ms/step - loss: 0.0077 - val_loss: 9.0783e-04\n",
      "Epoch 65/300\n",
      "52/52 [==============================] - 1s 14ms/step - loss: 0.0118 - val_loss: 8.4266e-04\n",
      "Epoch 66/300\n",
      "52/52 [==============================] - 1s 14ms/step - loss: 0.0144 - val_loss: 0.0030\n",
      "Epoch 67/300\n",
      "52/52 [==============================] - 1s 14ms/step - loss: 0.0168 - val_loss: 0.0213\n",
      "Epoch 68/300\n",
      "52/52 [==============================] - 1s 14ms/step - loss: 0.0106 - val_loss: 0.0210\n",
      "Epoch 69/300\n",
      "52/52 [==============================] - 1s 14ms/step - loss: 0.0062 - val_loss: 0.0025\n",
      "Epoch 70/300\n",
      "52/52 [==============================] - 1s 14ms/step - loss: 0.0065 - val_loss: 0.0027\n",
      "Epoch 71/300\n",
      "52/52 [==============================] - 1s 14ms/step - loss: 0.0049 - val_loss: 0.0014\n",
      "Epoch 72/300\n",
      "52/52 [==============================] - 1s 14ms/step - loss: 0.0052 - val_loss: 0.0014\n",
      "Epoch 73/300\n",
      "52/52 [==============================] - 1s 14ms/step - loss: 0.0054 - val_loss: 0.0014\n",
      "Epoch 74/300\n",
      "52/52 [==============================] - 1s 13ms/step - loss: 0.0057 - val_loss: 9.8393e-04\n",
      "Epoch 75/300\n",
      "52/52 [==============================] - 1s 14ms/step - loss: 0.0055 - val_loss: 0.0017\n",
      "Epoch 76/300\n",
      "52/52 [==============================] - 1s 14ms/step - loss: 0.0054 - val_loss: 0.0015\n",
      "Epoch 77/300\n",
      "52/52 [==============================] - 1s 14ms/step - loss: 0.0057 - val_loss: 0.0012\n",
      "Epoch 78/300\n",
      "52/52 [==============================] - 1s 14ms/step - loss: 0.0057 - val_loss: 9.9892e-04\n",
      "Epoch 79/300\n",
      "52/52 [==============================] - 1s 14ms/step - loss: 0.0059 - val_loss: 0.0012\n",
      "Epoch 80/300\n",
      "52/52 [==============================] - 1s 14ms/step - loss: 0.0059 - val_loss: 0.0011\n",
      "Epoch 81/300\n",
      "52/52 [==============================] - 1s 14ms/step - loss: 0.0080 - val_loss: 0.0025\n",
      "Epoch 82/300\n",
      "52/52 [==============================] - 1s 14ms/step - loss: 0.0103 - val_loss: 0.0079\n",
      "Epoch 83/300\n",
      "52/52 [==============================] - 1s 14ms/step - loss: 0.0094 - val_loss: 0.0112\n",
      "Epoch 84/300\n",
      "52/52 [==============================] - 1s 14ms/step - loss: 0.0070 - val_loss: 0.0045\n",
      "Epoch 85/300\n",
      "52/52 [==============================] - 1s 14ms/step - loss: 0.0082 - val_loss: 0.0021\n",
      "Epoch 86/300\n",
      "52/52 [==============================] - 1s 15ms/step - loss: 0.0073 - val_loss: 0.0018\n",
      "Epoch 87/300\n",
      "52/52 [==============================] - 1s 14ms/step - loss: 0.0079 - val_loss: 0.0018\n",
      "Epoch 88/300\n",
      "52/52 [==============================] - 1s 14ms/step - loss: 0.0074 - val_loss: 0.0019\n",
      "Epoch 89/300\n",
      "52/52 [==============================] - 1s 14ms/step - loss: 0.0076 - val_loss: 0.0034\n",
      "Epoch 90/300\n",
      "52/52 [==============================] - 1s 13ms/step - loss: 0.0063 - val_loss: 0.0073\n",
      "Epoch 91/300\n",
      "52/52 [==============================] - 1s 13ms/step - loss: 0.0056 - val_loss: 0.0020\n",
      "Epoch 92/300\n",
      "52/52 [==============================] - 1s 13ms/step - loss: 0.0073 - val_loss: 5.9404e-04\n",
      "Epoch 93/300\n",
      "52/52 [==============================] - 1s 14ms/step - loss: 0.0102 - val_loss: 0.0068\n",
      "Epoch 94/300\n",
      "52/52 [==============================] - 1s 15ms/step - loss: 0.0099 - val_loss: 0.0052\n",
      "Epoch 95/300\n",
      "52/52 [==============================] - 1s 15ms/step - loss: 0.0076 - val_loss: 0.0045\n",
      "Epoch 96/300\n",
      "52/52 [==============================] - 1s 14ms/step - loss: 0.0066 - val_loss: 0.0025\n",
      "Epoch 97/300\n",
      "52/52 [==============================] - 1s 14ms/step - loss: 0.0063 - val_loss: 0.0016\n",
      "Epoch 98/300\n",
      "52/52 [==============================] - 1s 14ms/step - loss: 0.0067 - val_loss: 0.0012\n",
      "Epoch 99/300\n",
      "52/52 [==============================] - 1s 15ms/step - loss: 0.0066 - val_loss: 0.0012\n",
      "Epoch 100/300\n",
      "52/52 [==============================] - 1s 14ms/step - loss: 0.0072 - val_loss: 6.0458e-04\n",
      "Epoch 101/300\n",
      "52/52 [==============================] - 1s 14ms/step - loss: 0.0083 - val_loss: 7.3228e-04\n",
      "Epoch 102/300\n",
      "52/52 [==============================] - 1s 14ms/step - loss: 0.0092 - val_loss: 7.8835e-04\n",
      "Epoch 103/300\n",
      "52/52 [==============================] - 1s 15ms/step - loss: 0.0109 - val_loss: 8.8457e-04\n",
      "Epoch 104/300\n",
      "52/52 [==============================] - 1s 15ms/step - loss: 0.0136 - val_loss: 0.0086\n",
      "Epoch 105/300\n",
      "52/52 [==============================] - 1s 15ms/step - loss: 0.0136 - val_loss: 0.0195\n",
      "Epoch 106/300\n",
      "52/52 [==============================] - 1s 15ms/step - loss: 0.0083 - val_loss: 0.0149\n",
      "Epoch 107/300\n",
      "52/52 [==============================] - 1s 15ms/step - loss: 0.0059 - val_loss: 0.0024\n",
      "Epoch 108/300\n",
      "52/52 [==============================] - 1s 15ms/step - loss: 0.0068 - val_loss: 0.0020\n",
      "Epoch 109/300\n",
      "52/52 [==============================] - 1s 14ms/step - loss: 0.0056 - val_loss: 0.0017\n",
      "Epoch 110/300\n",
      "52/52 [==============================] - 1s 15ms/step - loss: 0.0048 - val_loss: 8.3456e-04\n",
      "Epoch 111/300\n",
      "52/52 [==============================] - 1s 14ms/step - loss: 0.0049 - val_loss: 8.6343e-04\n",
      "Epoch 112/300\n",
      "52/52 [==============================] - 1s 15ms/step - loss: 0.0053 - val_loss: 0.0011\n",
      "Epoch 113/300\n",
      "52/52 [==============================] - 1s 14ms/step - loss: 0.0051 - val_loss: 0.0011\n",
      "Epoch 114/300\n",
      "52/52 [==============================] - 1s 15ms/step - loss: 0.0054 - val_loss: 0.0011\n",
      "Epoch 115/300\n",
      "52/52 [==============================] - 1s 15ms/step - loss: 0.0050 - val_loss: 8.5673e-04\n",
      "Epoch 116/300\n",
      "52/52 [==============================] - 1s 15ms/step - loss: 0.0054 - val_loss: 0.0011\n",
      "Epoch 117/300\n",
      "52/52 [==============================] - 1s 14ms/step - loss: 0.0062 - val_loss: 7.9914e-04\n",
      "Epoch 118/300\n",
      "52/52 [==============================] - 1s 15ms/step - loss: 0.0059 - val_loss: 9.6547e-04\n",
      "Epoch 119/300\n",
      "52/52 [==============================] - 1s 16ms/step - loss: 0.0063 - val_loss: 9.0800e-04\n",
      "Epoch 120/300\n",
      "52/52 [==============================] - 1s 15ms/step - loss: 0.0072 - val_loss: 0.0014\n",
      "Epoch 121/300\n",
      "52/52 [==============================] - 1s 15ms/step - loss: 0.0077 - val_loss: 0.0028\n",
      "Epoch 122/300\n",
      "52/52 [==============================] - 1s 14ms/step - loss: 0.0080 - val_loss: 0.0025\n",
      "Epoch 123/300\n",
      "52/52 [==============================] - 1s 14ms/step - loss: 0.0082 - val_loss: 0.0050\n",
      "Epoch 124/300\n",
      "52/52 [==============================] - 1s 15ms/step - loss: 0.0083 - val_loss: 0.0045\n",
      "Epoch 125/300\n",
      "52/52 [==============================] - 1s 14ms/step - loss: 0.0073 - val_loss: 0.0098\n",
      "Epoch 126/300\n",
      "52/52 [==============================] - 1s 15ms/step - loss: 0.0056 - val_loss: 0.0048\n",
      "Epoch 127/300\n",
      "52/52 [==============================] - 1s 14ms/step - loss: 0.0058 - val_loss: 0.0015\n",
      "Epoch 128/300\n",
      "52/52 [==============================] - 1s 14ms/step - loss: 0.0059 - val_loss: 0.0014\n",
      "Epoch 129/300\n",
      "52/52 [==============================] - 1s 14ms/step - loss: 0.0065 - val_loss: 0.0039\n",
      "Epoch 130/300\n",
      "52/52 [==============================] - 1s 14ms/step - loss: 0.0058 - val_loss: 0.0059\n",
      "Epoch 131/300\n",
      "52/52 [==============================] - 1s 14ms/step - loss: 0.0045 - val_loss: 0.0039\n",
      "Epoch 132/300\n",
      "52/52 [==============================] - 1s 14ms/step - loss: 0.0052 - val_loss: 7.0591e-04\n",
      "Epoch 00132: early stopping\n"
     ]
    }
   ],
   "source": [
    "#Fit model with history to check for overfitting\n",
    "es = EarlyStopping(monitor='val_loss', mode='min', verbose=1,patience=40, min_delta=0)\n",
    "history = model.fit(X_train,y_train,epochs=300,batch_size=20,validation_data=(X_test,y_test),shuffle=False,callbacks=es)"
   ]
  },
  {
   "cell_type": "code",
   "execution_count": 62,
   "id": "d10f4a7c",
   "metadata": {},
   "outputs": [
    {
     "name": "stderr",
     "output_type": "stream",
     "text": [
      "2021-12-26 20:52:04.124076: I tensorflow/core/grappler/optimizers/custom_graph_optimizer_registry.cc:112] Plugin optimizer for device_type GPU is enabled.\n",
      "2021-12-26 20:52:04.167552: I tensorflow/core/grappler/optimizers/custom_graph_optimizer_registry.cc:112] Plugin optimizer for device_type GPU is enabled.\n"
     ]
    }
   ],
   "source": [
    "y_pred = model.predict(X_test)"
   ]
  },
  {
   "cell_type": "code",
   "execution_count": 63,
   "id": "d55acd90",
   "metadata": {},
   "outputs": [
    {
     "data": {
      "text/plain": "(115, 1)"
     },
     "execution_count": 63,
     "metadata": {},
     "output_type": "execute_result"
    }
   ],
   "source": [
    "y_pred.shape"
   ]
  },
  {
   "cell_type": "code",
   "execution_count": 64,
   "id": "29fade0a",
   "metadata": {},
   "outputs": [
    {
     "data": {
      "text/plain": "<matplotlib.legend.Legend at 0x175bd3e80>"
     },
     "execution_count": 64,
     "metadata": {},
     "output_type": "execute_result"
    },
    {
     "data": {
      "text/plain": "<Figure size 432x288 with 1 Axes>",
      "image/png": "[encoded data removed]"
     },
     "metadata": {
      "needs_background": "light"
     },
     "output_type": "display_data"
    }
   ],
   "source": [
    "plt.plot(history.history['loss'], label='train')\n",
    "plt.plot(history.history['val_loss'], label='test')\n",
    "plt.legend()"
   ]
  },
  {
   "cell_type": "code",
   "execution_count": 65,
   "id": "cfb78388",
   "metadata": {},
   "outputs": [
    {
     "data": {
      "text/plain": "<Figure size 432x288 with 1 Axes>",
      "image/png": "[encoded data removed]"
     },
     "metadata": {
      "needs_background": "light"
     },
     "output_type": "display_data"
    }
   ],
   "source": [
    "plt.plot(np.arange(0, len(y_train)), y_train, 'g', label=\"history\")\n",
    "plt.plot(np.arange(len(y_train), len(y_train) + len(y_test)), y_test, marker='.', label=\"true\")\n",
    "plt.plot(np.arange(len(y_train), len(y_train) + len(y_test)), y_pred, 'r', label=\"prediction\")\n",
    "plt.ylabel('Value')\n",
    "plt.xlabel('Time Step')\n",
    "plt.legend()\n",
    "plt.show();"
   ]
  },
  {
   "cell_type": "code",
   "execution_count": 66,
   "id": "08cdbdb7",
   "metadata": {},
   "outputs": [],
   "source": [
    "# plot_x=data[int(X.shape[0]*0.90):]\n",
    "# plot_x[\"Prediction\"]=y_test\n",
    "y_test=sc_y.inverse_transform(y_test)\n",
    "y_pred=sc_y.inverse_transform(y_pred)"
   ]
  },
  {
   "cell_type": "code",
   "execution_count": 67,
   "id": "593e3eea",
   "metadata": {},
   "outputs": [
    {
     "data": {
      "text/plain": "<Figure size 432x288 with 1 Axes>",
      "image/png": "[encoded data removed]"
     },
     "metadata": {
      "needs_background": "light"
     },
     "output_type": "display_data"
    }
   ],
   "source": [
    "plt.plot(y_test, marker='.', label=\"true\")\n",
    "plt.plot(y_pred, 'r',marker='*', label=\"prediction\")\n",
    "plt.ylabel('Value')\n",
    "plt.xlabel('Time Step')\n",
    "plt.legend()\n",
    "plt.show();"
   ]
  },
  {
   "cell_type": "code",
   "execution_count": 68,
   "id": "e8464821",
   "metadata": {},
   "outputs": [
    {
     "data": {
      "text/plain": "2.8389800992005"
     },
     "execution_count": 68,
     "metadata": {},
     "output_type": "execute_result"
    }
   ],
   "source": [
    "mean_absolute_percentage_error(y_test,y_pred)*100"
   ]
  },
  {
   "cell_type": "code",
   "execution_count": 69,
   "id": "875acfab",
   "metadata": {},
   "outputs": [
    {
     "data": {
      "text/plain": "2.346119072728755"
     },
     "execution_count": 69,
     "metadata": {},
     "output_type": "execute_result"
    }
   ],
   "source": [
    "mean_squared_error(y_test,y_pred)"
   ]
  },
  {
   "cell_type": "code",
   "execution_count": 70,
   "id": "a86af9bf",
   "metadata": {},
   "outputs": [
    {
     "data": {
      "text/plain": "0.7314113974659183"
     },
     "execution_count": 70,
     "metadata": {},
     "output_type": "execute_result"
    }
   ],
   "source": [
    "r2_score(y_test,y_pred)"
   ]
  },
  {
   "cell_type": "markdown",
   "id": "1971c539",
   "metadata": {},
   "source": [
    "# Unseen data"
   ]
  },
  {
   "cell_type": "code",
   "execution_count": 71,
   "id": "ebde0f4a",
   "metadata": {
    "scrolled": true,
    "tags": []
   },
   "outputs": [
    {
     "name": "stdout",
     "output_type": "stream",
     "text": [
      "[[47.15000153]\n",
      " [46.95000076]\n",
      " [47.04999924]\n",
      " [46.84999847]\n",
      " [47.15000153]\n",
      " [45.45000076]\n",
      " [45.70000076]\n",
      " [45.54999924]\n",
      " [45.29999924]\n",
      " [45.45000076]\n",
      " [45.29999924]\n",
      " [45.20000076]\n",
      " [45.79999924]\n",
      " [46.        ]\n",
      " [46.04999924]]\n"
     ]
    }
   ],
   "source": [
    "forecast_data = X[-15:]\n",
    "forecast = y[-15:]\n",
    "forecast=sc_y.inverse_transform(forecast) \n",
    "print(forecast)"
   ]
  },
  {
   "cell_type": "code",
   "execution_count": 72,
   "id": "a1d66f2a",
   "metadata": {
    "scrolled": true,
    "tags": []
   },
   "outputs": [
    {
     "name": "stdout",
     "output_type": "stream",
     "text": [
      "[[49.32323 ]\n",
      " [48.43826 ]\n",
      " [48.72622 ]\n",
      " [48.292744]\n",
      " [48.814583]\n",
      " [48.123375]\n",
      " [48.889355]\n",
      " [45.92977 ]\n",
      " [46.002716]\n",
      " [45.707325]\n",
      " [45.123463]\n",
      " [45.16126 ]\n",
      " [45.273014]\n",
      " [45.148464]\n",
      " [45.27152 ]]\n"
     ]
    }
   ],
   "source": [
    "prediction = model.predict(forecast_data).reshape(-1,1)\n",
    "prediction = sc_y.inverse_transform(prediction) \n",
    "print(prediction)"
   ]
  },
  {
   "cell_type": "code",
   "execution_count": 73,
   "id": "897ab169",
   "metadata": {},
   "outputs": [
    {
     "data": {
      "text/plain": "<Figure size 432x288 with 1 Axes>",
      "image/png": "[encoded data removed]"
     },
     "metadata": {
      "needs_background": "light"
     },
     "output_type": "display_data"
    }
   ],
   "source": [
    "plt.plot(forecast, marker='.', label=\"true\")\n",
    "plt.plot(prediction, 'r',marker='*', label=\"prediction\")\n",
    "plt.ylabel('Value')\n",
    "plt.xlabel('Time Step')\n",
    "plt.legend()\n",
    "plt.show();"
   ]
  },
  {
   "cell_type": "code",
   "execution_count": 74,
   "id": "92b50c7e",
   "metadata": {},
   "outputs": [
    {
     "data": {
      "text/plain": "2.595425346912544"
     },
     "execution_count": 74,
     "metadata": {},
     "output_type": "execute_result"
    }
   ],
   "source": [
    "mean_absolute_percentage_error(forecast,prediction)*100"
   ]
  },
  {
   "cell_type": "code",
   "execution_count": 75,
   "id": "63902817",
   "metadata": {},
   "outputs": [
    {
     "data": {
      "text/plain": "-3.3525298151146536"
     },
     "execution_count": 75,
     "metadata": {},
     "output_type": "execute_result"
    }
   ],
   "source": [
    "r2_score(forecast,prediction)"
   ]
  },
  {
   "cell_type": "code",
   "execution_count": 75,
   "outputs": [],
   "source": [],
   "metadata": {
    "collapsed": false,
    "pycharm": {
     "name": "#%%\n"
    }
   }
  }
 ],
 "metadata": {
  "kernelspec": {
   "display_name": "Python 3 (ipykernel)",
   "language": "python",
   "name": "python3"
  },
  "language_info": {
   "codemirror_mode": {
    "name": "ipython",
    "version": 3
   },
   "file_extension": ".py",
   "mimetype": "text/x-python",
   "name": "python",
   "nbconvert_exporter": "python",
   "pygments_lexer": "ipython3",
   "version": "3.9.9"
  }
 },
 "nbformat": 4,
 "nbformat_minor": 5
}