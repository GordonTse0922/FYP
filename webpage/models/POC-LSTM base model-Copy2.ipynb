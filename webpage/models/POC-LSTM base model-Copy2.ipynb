{
 "cells": [
  {
   "cell_type": "markdown",
   "source": [],
   "metadata": {
    "collapsed": false
   }
  },
  {
   "cell_type": "code",
   "execution_count": 3,
   "id": "9efc3e1f",
   "metadata": {},
   "outputs": [],
   "source": [
    "import yfinance as yf\n",
    "import keras.backend as K\n",
    "import pandas as pd\n",
    "import numpy as np\n",
    "import matplotlib.pyplot as plt\n",
    "from sklearn.preprocessing import MinMaxScaler ,StandardScaler\n",
    "from sklearn.model_selection import train_test_split\n",
    "from sklearn.metrics import classification_report,accuracy_score, mean_squared_error,mean_absolute_percentage_error,r2_score\n",
    "import tensorflow as tf\n",
    "from tensorflow import keras\n",
    "from keras.layers import LSTM,Dropout, BatchNormalization, Dense\n",
    "from keras.callbacks import ModelCheckpoint, EarlyStopping, ReduceLROnPlateau, CSVLogger\n",
    "from keras.models import Sequential\n",
    "from keras.optimizer_v2.adam import Adam\n",
    "from keras.optimizer_v2.rmsprop import RMSprop\n",
    "import talib"
   ]
  },
  {
   "cell_type": "code",
   "execution_count": 4,
   "id": "62b8c4ee",
   "metadata": {},
   "outputs": [
    {
     "name": "stdout",
     "output_type": "stream",
     "text": [
      "[*********************100%***********************]  1 of 1 completed\n"
     ]
    },
    {
     "data": {
      "text/plain": "                 Open       High        Low      Close  Adj Close    Volume\nDate                                                                       \n2017-09-28  76.400002  77.099998  76.050003  76.199997  64.386978  22520013\n2017-09-29  76.500000  76.900002  76.300003  76.550003  64.682739  16766252\n2017-10-03  76.800003  77.449997  76.699997  77.449997  65.443207  24369212\n2017-10-04  77.500000  77.949997  77.500000  77.849998  65.781197  21197563\n2017-10-06  77.599998  77.800003  77.199997  77.349998  65.358704  23715110",
      "text/html": "<div>\n<style scoped>\n    .dataframe tbody tr th:only-of-type {\n        vertical-align: middle;\n    }\n\n    .dataframe tbody tr th {\n        vertical-align: top;\n    }\n\n    .dataframe thead th {\n        text-align: right;\n    }\n</style>\n<table border=\"1\" class=\"dataframe\">\n  <thead>\n    <tr style=\"text-align: right;\">\n      <th></th>\n      <th>Open</th>\n      <th>High</th>\n      <th>Low</th>\n      <th>Close</th>\n      <th>Adj Close</th>\n      <th>Volume</th>\n    </tr>\n    <tr>\n      <th>Date</th>\n      <th></th>\n      <th></th>\n      <th></th>\n      <th></th>\n      <th></th>\n      <th></th>\n    </tr>\n  </thead>\n  <tbody>\n    <tr>\n      <th>2017-09-28</th>\n      <td>76.400002</td>\n      <td>77.099998</td>\n      <td>76.050003</td>\n      <td>76.199997</td>\n      <td>64.386978</td>\n      <td>22520013</td>\n    </tr>\n    <tr>\n      <th>2017-09-29</th>\n      <td>76.500000</td>\n      <td>76.900002</td>\n      <td>76.300003</td>\n      <td>76.550003</td>\n      <td>64.682739</td>\n      <td>16766252</td>\n    </tr>\n    <tr>\n      <th>2017-10-03</th>\n      <td>76.800003</td>\n      <td>77.449997</td>\n      <td>76.699997</td>\n      <td>77.449997</td>\n      <td>65.443207</td>\n      <td>24369212</td>\n    </tr>\n    <tr>\n      <th>2017-10-04</th>\n      <td>77.500000</td>\n      <td>77.949997</td>\n      <td>77.500000</td>\n      <td>77.849998</td>\n      <td>65.781197</td>\n      <td>21197563</td>\n    </tr>\n    <tr>\n      <th>2017-10-06</th>\n      <td>77.599998</td>\n      <td>77.800003</td>\n      <td>77.199997</td>\n      <td>77.349998</td>\n      <td>65.358704</td>\n      <td>23715110</td>\n    </tr>\n  </tbody>\n</table>\n</div>"
     },
     "execution_count": 4,
     "metadata": {},
     "output_type": "execute_result"
    }
   ],
   "source": [
    "data = yf.download('0005.hk',\"2017-09-28\",\"2021-09-24\")\n",
    "data.head()"
   ]
  },
  {
   "cell_type": "code",
   "execution_count": 5,
   "id": "91fc4542",
   "metadata": {},
   "outputs": [
    {
     "data": {
      "text/plain": "Open          0\nHigh          0\nLow           0\nClose         0\nAdj Close     0\nVolume        0\nPrediction    0\ndtype: int64"
     },
     "execution_count": 5,
     "metadata": {},
     "output_type": "execute_result"
    }
   ],
   "source": [
    "data['Prediction']=data['Adj Close'].shift(-1)\n",
    "data.dropna(inplace=True)\n",
    "data.isnull().sum()"
   ]
  },
  {
   "cell_type": "code",
   "execution_count": 6,
   "id": "388662ec",
   "metadata": {},
   "outputs": [
    {
     "data": {
      "text/plain": "                 Open       High        Low      Close  Adj Close    Volume  \\\nDate                                                                          \n2017-09-28  76.400002  77.099998  76.050003  76.199997  64.386978  22520013   \n2017-09-29  76.500000  76.900002  76.300003  76.550003  64.682739  16766252   \n2017-10-03  76.800003  77.449997  76.699997  77.449997  65.443207  24369212   \n2017-10-04  77.500000  77.949997  77.500000  77.849998  65.781197  21197563   \n2017-10-06  77.599998  77.800003  77.199997  77.349998  65.358704  23715110   \n\n            Prediction  \nDate                    \n2017-09-28   64.682739  \n2017-09-29   65.443207  \n2017-10-03   65.781197  \n2017-10-04   65.358704  \n2017-10-06   65.485474  ",
      "text/html": "<div>\n<style scoped>\n    .dataframe tbody tr th:only-of-type {\n        vertical-align: middle;\n    }\n\n    .dataframe tbody tr th {\n        vertical-align: top;\n    }\n\n    .dataframe thead th {\n        text-align: right;\n    }\n</style>\n<table border=\"1\" class=\"dataframe\">\n  <thead>\n    <tr style=\"text-align: right;\">\n      <th></th>\n      <th>Open</th>\n      <th>High</th>\n      <th>Low</th>\n      <th>Close</th>\n      <th>Adj Close</th>\n      <th>Volume</th>\n      <th>Prediction</th>\n    </tr>\n    <tr>\n      <th>Date</th>\n      <th></th>\n      <th></th>\n      <th></th>\n      <th></th>\n      <th></th>\n      <th></th>\n      <th></th>\n    </tr>\n  </thead>\n  <tbody>\n    <tr>\n      <th>2017-09-28</th>\n      <td>76.400002</td>\n      <td>77.099998</td>\n      <td>76.050003</td>\n      <td>76.199997</td>\n      <td>64.386978</td>\n      <td>22520013</td>\n      <td>64.682739</td>\n    </tr>\n    <tr>\n      <th>2017-09-29</th>\n      <td>76.500000</td>\n      <td>76.900002</td>\n      <td>76.300003</td>\n      <td>76.550003</td>\n      <td>64.682739</td>\n      <td>16766252</td>\n      <td>65.443207</td>\n    </tr>\n    <tr>\n      <th>2017-10-03</th>\n      <td>76.800003</td>\n      <td>77.449997</td>\n      <td>76.699997</td>\n      <td>77.449997</td>\n      <td>65.443207</td>\n      <td>24369212</td>\n      <td>65.781197</td>\n    </tr>\n    <tr>\n      <th>2017-10-04</th>\n      <td>77.500000</td>\n      <td>77.949997</td>\n      <td>77.500000</td>\n      <td>77.849998</td>\n      <td>65.781197</td>\n      <td>21197563</td>\n      <td>65.358704</td>\n    </tr>\n    <tr>\n      <th>2017-10-06</th>\n      <td>77.599998</td>\n      <td>77.800003</td>\n      <td>77.199997</td>\n      <td>77.349998</td>\n      <td>65.358704</td>\n      <td>23715110</td>\n      <td>65.485474</td>\n    </tr>\n  </tbody>\n</table>\n</div>"
     },
     "execution_count": 6,
     "metadata": {},
     "output_type": "execute_result"
    }
   ],
   "source": [
    "data.head()"
   ]
  },
  {
   "cell_type": "code",
   "execution_count": 7,
   "id": "e1416237",
   "metadata": {},
   "outputs": [
    {
     "name": "stdout",
     "output_type": "stream",
     "text": [
      "Metal device set to: Apple M1 Pro\n",
      "WARNING:tensorflow:Layer lstm will not use cuDNN kernels since it doesn't meet the criteria. It will use a generic GPU kernel as fallback when running on GPU.\n"
     ]
    },
    {
     "name": "stderr",
     "output_type": "stream",
     "text": [
      "/opt/homebrew/Caskroom/miniforge/base/envs/FYP/lib/python3.9/site-packages/keras/optimizer_v2/optimizer_v2.py:355: UserWarning: The `lr` argument is deprecated, use `learning_rate` instead.\n",
      "  warnings.warn(\n",
      "/var/folders/8h/w0jn89bj2w5g85gj4ck7w0t00000gn/T/ipykernel_10266/204336600.py:3: FutureWarning: In a future version of pandas all arguments of DataFrame.drop except for the argument 'labels' will be keyword-only\n",
      "  X=data.drop('Prediction',1).values\n",
      "2021-12-26 20:43:53.173643: I tensorflow/core/common_runtime/pluggable_device/pluggable_device_factory.cc:305] Could not identify NUMA node of platform GPU ID 0, defaulting to 0. Your kernel may not have been built with NUMA support.\n",
      "2021-12-26 20:43:53.174138: I tensorflow/core/common_runtime/pluggable_device/pluggable_device_factory.cc:271] Created TensorFlow device (/job:localhost/replica:0/task:0/device:GPU:0 with 0 MB memory) -> physical PluggableDevice (device: 0, name: METAL, pci bus id: <undefined>)\n"
     ]
    }
   ],
   "source": [
    "# Build the LSTM model\n",
    "adam = Adam(lr=0.001)\n",
    "X=data.drop('Prediction',1).values\n",
    "X = X.reshape(X.shape[0], 1, X.shape[1])\n",
    "y=data['Prediction'].values.reshape(-1,1)\n",
    "X_train, X_test, y_train, y_test = train_test_split(X,y, test_size = 0.2, random_state = 0)\n",
    "model = Sequential()\n",
    "model.add(LSTM(60,activation='relu',input_shape=(1, X.shape[2])))\n",
    "model.add(Dropout(0.8))\n",
    "\n",
    "# fully connected layers\n",
    "\n",
    "model.add(Dense(units=50))\n",
    "model.add( Dropout(rate=0.8))\n",
    "model.add(Dense(units=25))\n",
    "model.add(Dropout(0.8))\n",
    "model.add(Dense(units=10))\n",
    "model.add(Dropout(rate=0.8))\n",
    "# output = Dense(units=1)\n",
    "model.add(Dense(1))\n",
    "model.compile(\n",
    "  loss=\"mean_squared_error\",\n",
    "  optimizer=adam\n",
    ")"
   ]
  },
  {
   "cell_type": "code",
   "execution_count": 8,
   "id": "d1590b93",
   "metadata": {},
   "outputs": [
    {
     "name": "stdout",
     "output_type": "stream",
     "text": [
      "Model: \"sequential\"\n",
      "_________________________________________________________________\n",
      "Layer (type)                 Output Shape              Param #   \n",
      "=================================================================\n",
      "lstm (LSTM)                  (None, 60)                16080     \n",
      "_________________________________________________________________\n",
      "dropout (Dropout)            (None, 60)                0         \n",
      "_________________________________________________________________\n",
      "dense (Dense)                (None, 50)                3050      \n",
      "_________________________________________________________________\n",
      "dropout_1 (Dropout)          (None, 50)                0         \n",
      "_________________________________________________________________\n",
      "dense_1 (Dense)              (None, 25)                1275      \n",
      "_________________________________________________________________\n",
      "dropout_2 (Dropout)          (None, 25)                0         \n",
      "_________________________________________________________________\n",
      "dense_2 (Dense)              (None, 10)                260       \n",
      "_________________________________________________________________\n",
      "dropout_3 (Dropout)          (None, 10)                0         \n",
      "_________________________________________________________________\n",
      "dense_3 (Dense)              (None, 1)                 11        \n",
      "=================================================================\n",
      "Total params: 20,676\n",
      "Trainable params: 20,676\n",
      "Non-trainable params: 0\n",
      "_________________________________________________________________\n"
     ]
    }
   ],
   "source": [
    "model.summary() "
   ]
  },
  {
   "cell_type": "code",
   "execution_count": null,
   "id": "796d687e",
   "metadata": {
    "scrolled": true,
    "pycharm": {
     "is_executing": true
    }
   },
   "outputs": [
    {
     "name": "stderr",
     "output_type": "stream",
     "text": [
      "2021-12-26 20:43:53.339549: W tensorflow/core/platform/profile_utils/cpu_utils.cc:128] Failed to get CPU frequency: 0 Hz\n"
     ]
    },
    {
     "name": "stdout",
     "output_type": "stream",
     "text": [
      "Epoch 1/2000\n"
     ]
    },
    {
     "name": "stderr",
     "output_type": "stream",
     "text": [
      "2021-12-26 20:43:53.673910: I tensorflow/core/grappler/optimizers/custom_graph_optimizer_registry.cc:112] Plugin optimizer for device_type GPU is enabled.\n"
     ]
    }
   ],
   "source": [
    "#Fit model with history to check for overfitting\n",
    "# es = EarlyStopping(monitor='val_loss', mode='min', verbose=1,patience=40, min_delta=0.0001)\n",
    "history = model.fit(X_train,y_train,epochs=2000,batch_size=20,validation_data=(X_test,y_test),shuffle=False)"
   ]
  },
  {
   "cell_type": "code",
   "execution_count": null,
   "id": "86bda9bc",
   "metadata": {
    "pycharm": {
     "is_executing": true
    }
   },
   "outputs": [],
   "source": [
    "y_pred = model.predict(X_test)\n",
    "y_pred"
   ]
  },
  {
   "cell_type": "code",
   "execution_count": null,
   "id": "73c4522c",
   "metadata": {
    "pycharm": {
     "is_executing": true
    }
   },
   "outputs": [],
   "source": [
    "plt.plot(history.history['loss'], label='train')\n",
    "plt.plot(history.history['val_loss'], label='test')\n",
    "plt.legend()"
   ]
  },
  {
   "cell_type": "code",
   "execution_count": null,
   "id": "71bd1cce",
   "metadata": {
    "pycharm": {
     "is_executing": true
    }
   },
   "outputs": [],
   "source": [
    "plt.plot(np.arange(0, len(y_train)), y_train, 'g', label=\"history\")\n",
    "plt.plot(np.arange(len(y_train), len(y_train) + len(y_test)), y_test, marker='.', label=\"true\")\n",
    "plt.plot(np.arange(len(y_train), len(y_train) + len(y_test)), y_pred, 'r', label=\"prediction\")\n",
    "plt.ylabel('Value')\n",
    "plt.xlabel('Time Step')\n",
    "plt.legend()\n",
    "plt.show();"
   ]
  },
  {
   "cell_type": "code",
   "execution_count": null,
   "id": "43d133aa",
   "metadata": {
    "pycharm": {
     "is_executing": true
    }
   },
   "outputs": [],
   "source": [
    "plt.plot(y_test, marker='.', label=\"true\")\n",
    "plt.plot(y_pred, 'r',marker='*', label=\"prediction\")\n",
    "plt.ylabel('Value')\n",
    "plt.xlabel('Time Step')\n",
    "plt.legend()\n",
    "plt.show();"
   ]
  },
  {
   "cell_type": "code",
   "execution_count": null,
   "id": "5ecd0d3e",
   "metadata": {
    "pycharm": {
     "is_executing": true
    }
   },
   "outputs": [],
   "source": [
    "from sklearn.metrics import r2_score\n",
    "r2_score(y_test,y_pred)"
   ]
  },
  {
   "cell_type": "code",
   "execution_count": null,
   "id": "cd5ee734",
   "metadata": {
    "pycharm": {
     "is_executing": true
    }
   },
   "outputs": [],
   "source": []
  }
 ],
 "metadata": {
  "kernelspec": {
   "display_name": "Python 3",
   "language": "python",
   "name": "python3"
  },
  "language_info": {
   "codemirror_mode": {
    "name": "ipython",
    "version": 3
   },
   "file_extension": ".py",
   "mimetype": "text/x-python",
   "name": "python",
   "nbconvert_exporter": "python",
   "pygments_lexer": "ipython3",
   "version": "3.8.8"
  }
 },
 "nbformat": 4,
 "nbformat_minor": 5
}