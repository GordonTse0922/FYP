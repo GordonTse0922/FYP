{
 "cells": [
  {
   "cell_type": "code",
   "execution_count": 2,
   "id": "9efc3e1f",
   "metadata": {},
   "outputs": [],
   "source": [
    "import yfinance as yf\n",
    "import keras.backend as K\n",
    "import pandas as pd\n",
    "import numpy as np\n",
    "import matplotlib.pyplot as plt\n",
    "from sklearn.preprocessing import MinMaxScaler ,StandardScaler\n",
    "from sklearn.model_selection import train_test_split\n",
    "from sklearn.metrics import classification_report,accuracy_score, mean_squared_error,mean_absolute_percentage_error,r2_score\n",
    "import tensorflow as tf\n",
    "from tensorflow import keras\n",
    "from keras.layers import LSTM,Dropout, BatchNormalization, Dense\n",
    "from keras.callbacks import ModelCheckpoint, EarlyStopping, ReduceLROnPlateau, CSVLogger\n",
    "from keras.models import Sequential\n",
    "from keras.optimizer_v2.adam import Adam\n",
    "from keras.optimizer_v2.rmsprop import RMSprop\n",
    "import talib"
   ]
  },
  {
   "cell_type": "code",
   "execution_count": 3,
   "id": "62b8c4ee",
   "metadata": {},
   "outputs": [
    {
     "name": "stdout",
     "output_type": "stream",
     "text": [
      "[*********************100%***********************]  1 of 1 completed\n"
     ]
    },
    {
     "data": {
      "text/html": [
       "<div>\n",
       "<style scoped>\n",
       "    .dataframe tbody tr th:only-of-type {\n",
       "        vertical-align: middle;\n",
       "    }\n",
       "\n",
       "    .dataframe tbody tr th {\n",
       "        vertical-align: top;\n",
       "    }\n",
       "\n",
       "    .dataframe thead th {\n",
       "        text-align: right;\n",
       "    }\n",
       "</style>\n",
       "<table border=\"1\" class=\"dataframe\">\n",
       "  <thead>\n",
       "    <tr style=\"text-align: right;\">\n",
       "      <th></th>\n",
       "      <th>Open</th>\n",
       "      <th>High</th>\n",
       "      <th>Low</th>\n",
       "      <th>Close</th>\n",
       "      <th>Adj Close</th>\n",
       "      <th>Volume</th>\n",
       "    </tr>\n",
       "    <tr>\n",
       "      <th>Date</th>\n",
       "      <th></th>\n",
       "      <th></th>\n",
       "      <th></th>\n",
       "      <th></th>\n",
       "      <th></th>\n",
       "      <th></th>\n",
       "    </tr>\n",
       "  </thead>\n",
       "  <tbody>\n",
       "    <tr>\n",
       "      <th>2017-01-03</th>\n",
       "      <td>62.250000</td>\n",
       "      <td>63.150002</td>\n",
       "      <td>62.200001</td>\n",
       "      <td>63.000000</td>\n",
       "      <td>50.812309</td>\n",
       "      <td>11331063</td>\n",
       "    </tr>\n",
       "    <tr>\n",
       "      <th>2017-01-04</th>\n",
       "      <td>63.450001</td>\n",
       "      <td>63.450001</td>\n",
       "      <td>62.950001</td>\n",
       "      <td>63.450001</td>\n",
       "      <td>51.175262</td>\n",
       "      <td>13426502</td>\n",
       "    </tr>\n",
       "    <tr>\n",
       "      <th>2017-01-05</th>\n",
       "      <td>63.799999</td>\n",
       "      <td>63.950001</td>\n",
       "      <td>63.549999</td>\n",
       "      <td>63.900002</td>\n",
       "      <td>51.538204</td>\n",
       "      <td>12484357</td>\n",
       "    </tr>\n",
       "    <tr>\n",
       "      <th>2017-01-06</th>\n",
       "      <td>63.900002</td>\n",
       "      <td>63.900002</td>\n",
       "      <td>63.349998</td>\n",
       "      <td>63.750000</td>\n",
       "      <td>51.417225</td>\n",
       "      <td>14321890</td>\n",
       "    </tr>\n",
       "    <tr>\n",
       "      <th>2017-01-09</th>\n",
       "      <td>63.599998</td>\n",
       "      <td>63.849998</td>\n",
       "      <td>63.299999</td>\n",
       "      <td>63.700001</td>\n",
       "      <td>51.376888</td>\n",
       "      <td>10499807</td>\n",
       "    </tr>\n",
       "  </tbody>\n",
       "</table>\n",
       "</div>"
      ],
      "text/plain": [
       "                 Open       High        Low      Close  Adj Close    Volume\n",
       "Date                                                                       \n",
       "2017-01-03  62.250000  63.150002  62.200001  63.000000  50.812309  11331063\n",
       "2017-01-04  63.450001  63.450001  62.950001  63.450001  51.175262  13426502\n",
       "2017-01-05  63.799999  63.950001  63.549999  63.900002  51.538204  12484357\n",
       "2017-01-06  63.900002  63.900002  63.349998  63.750000  51.417225  14321890\n",
       "2017-01-09  63.599998  63.849998  63.299999  63.700001  51.376888  10499807"
      ]
     },
     "execution_count": 3,
     "metadata": {},
     "output_type": "execute_result"
    }
   ],
   "source": [
    "data = yf.download('0005.hk',\"2017-01-01\",\"2021-12-30\")\n",
    "data.head()"
   ]
  },
  {
   "cell_type": "code",
   "execution_count": 4,
   "id": "699c7659",
   "metadata": {},
   "outputs": [],
   "source": [
    "data['Prediction'] = data[['Close']].shift(-1)"
   ]
  },
  {
   "cell_type": "code",
   "execution_count": 5,
   "id": "591ea3b8-9cc9-49c1-ad32-41aa8f7009ae",
   "metadata": {},
   "outputs": [],
   "source": [
    "data['6day MA'] = data['Close'].rolling(window = 6).mean()\n",
    "data['12day MA'] = data['Close'].rolling(window = 12).mean()\n",
    "data['RSI'] = talib.RSI(data['Close'].values, timeperiod = 7)\n",
    "data['%R5'] = talib.WILLR(data['High'].values, data['Low'].values, data['Close'].values, 5)\n",
    "data['%R10'] = talib.WILLR(data['High'].values, data['Low'].values, data['Close'].values, 10)\n",
    "data['MTM6']=talib.MOM(data['Close'],timeperiod=6)\n",
    "data['MTM12']=talib.MOM(data['Close'],timeperiod=12)\n",
    "macd, macdsignal, macdhist = talib.MACD(data['Close'], fastperiod=12, slowperiod=26, signalperiod=9)\n",
    "data['EMA12']=talib.EMA(data['Close'], timeperiod=12)\n",
    "data['EMA26']=talib.EMA(data['Close'],timeperiod=26)\n",
    "data['MACD']=macd\n",
    "data['TR']=talib.TRANGE(data['High'],data['Low'],data['Close'])\n",
    "data['OSC6']=talib.CMO(data['Close'], timeperiod=6)\n",
    "data['OSC12']=talib.CMO(data['Close'], timeperiod=12)"
   ]
  },
  {
   "cell_type": "code",
   "execution_count": 6,
   "id": "91fc4542",
   "metadata": {},
   "outputs": [
    {
     "data": {
      "text/plain": [
       "Open          0\n",
       "High          0\n",
       "Low           0\n",
       "Close         0\n",
       "Volume        0\n",
       "Prediction    0\n",
       "6day MA       0\n",
       "12day MA      0\n",
       "RSI           0\n",
       "%R5           0\n",
       "%R10          0\n",
       "MTM6          0\n",
       "MTM12         0\n",
       "EMA12         0\n",
       "EMA26         0\n",
       "MACD          0\n",
       "TR            0\n",
       "OSC6          0\n",
       "OSC12         0\n",
       "dtype: int64"
      ]
     },
     "execution_count": 6,
     "metadata": {},
     "output_type": "execute_result"
    }
   ],
   "source": [
    "data.drop('Adj Close',1,inplace=True)\n",
    "data.dropna(inplace=True)\n",
    "data.isnull().sum()"
   ]
  },
  {
   "cell_type": "code",
   "execution_count": 7,
   "id": "1933fe76",
   "metadata": {},
   "outputs": [
    {
     "data": {
      "text/html": [
       "<div>\n",
       "<style scoped>\n",
       "    .dataframe tbody tr th:only-of-type {\n",
       "        vertical-align: middle;\n",
       "    }\n",
       "\n",
       "    .dataframe tbody tr th {\n",
       "        vertical-align: top;\n",
       "    }\n",
       "\n",
       "    .dataframe thead th {\n",
       "        text-align: right;\n",
       "    }\n",
       "</style>\n",
       "<table border=\"1\" class=\"dataframe\">\n",
       "  <thead>\n",
       "    <tr style=\"text-align: right;\">\n",
       "      <th></th>\n",
       "      <th>Open</th>\n",
       "      <th>High</th>\n",
       "      <th>Low</th>\n",
       "      <th>Close</th>\n",
       "      <th>Volume</th>\n",
       "      <th>Prediction</th>\n",
       "      <th>6day MA</th>\n",
       "      <th>12day MA</th>\n",
       "      <th>RSI</th>\n",
       "      <th>%R5</th>\n",
       "      <th>%R10</th>\n",
       "      <th>MTM6</th>\n",
       "      <th>MTM12</th>\n",
       "      <th>EMA12</th>\n",
       "      <th>EMA26</th>\n",
       "      <th>MACD</th>\n",
       "      <th>TR</th>\n",
       "      <th>OSC6</th>\n",
       "      <th>OSC12</th>\n",
       "    </tr>\n",
       "    <tr>\n",
       "      <th>Date</th>\n",
       "      <th></th>\n",
       "      <th></th>\n",
       "      <th></th>\n",
       "      <th></th>\n",
       "      <th></th>\n",
       "      <th></th>\n",
       "      <th></th>\n",
       "      <th></th>\n",
       "      <th></th>\n",
       "      <th></th>\n",
       "      <th></th>\n",
       "      <th></th>\n",
       "      <th></th>\n",
       "      <th></th>\n",
       "      <th></th>\n",
       "      <th></th>\n",
       "      <th></th>\n",
       "      <th></th>\n",
       "      <th></th>\n",
       "    </tr>\n",
       "  </thead>\n",
       "  <tbody>\n",
       "    <tr>\n",
       "      <th>2017-02-21</th>\n",
       "      <td>69.000000</td>\n",
       "      <td>69.000000</td>\n",
       "      <td>65.400002</td>\n",
       "      <td>65.550003</td>\n",
       "      <td>106826895</td>\n",
       "      <td>65.449997</td>\n",
       "      <td>67.641668</td>\n",
       "      <td>67.087500</td>\n",
       "      <td>35.855058</td>\n",
       "      <td>-95.945901</td>\n",
       "      <td>-95.945901</td>\n",
       "      <td>-1.349998</td>\n",
       "      <td>-0.250000</td>\n",
       "      <td>67.057537</td>\n",
       "      <td>66.063836</td>\n",
       "      <td>1.019306</td>\n",
       "      <td>3.599998</td>\n",
       "      <td>-33.905212</td>\n",
       "      <td>-10.299996</td>\n",
       "    </tr>\n",
       "    <tr>\n",
       "      <th>2017-02-22</th>\n",
       "      <td>64.849998</td>\n",
       "      <td>65.750000</td>\n",
       "      <td>64.650002</td>\n",
       "      <td>65.449997</td>\n",
       "      <td>99295567</td>\n",
       "      <td>64.050003</td>\n",
       "      <td>67.383334</td>\n",
       "      <td>67.012500</td>\n",
       "      <td>35.164297</td>\n",
       "      <td>-82.022562</td>\n",
       "      <td>-82.022562</td>\n",
       "      <td>-1.550003</td>\n",
       "      <td>-0.900002</td>\n",
       "      <td>66.810223</td>\n",
       "      <td>66.018366</td>\n",
       "      <td>0.813523</td>\n",
       "      <td>1.099998</td>\n",
       "      <td>-35.305922</td>\n",
       "      <td>-11.521964</td>\n",
       "    </tr>\n",
       "    <tr>\n",
       "      <th>2017-02-23</th>\n",
       "      <td>63.950001</td>\n",
       "      <td>64.400002</td>\n",
       "      <td>63.900002</td>\n",
       "      <td>64.050003</td>\n",
       "      <td>37652154</td>\n",
       "      <td>63.549999</td>\n",
       "      <td>66.775002</td>\n",
       "      <td>66.833334</td>\n",
       "      <td>26.748087</td>\n",
       "      <td>-97.115354</td>\n",
       "      <td>-97.115354</td>\n",
       "      <td>-3.649994</td>\n",
       "      <td>-2.149994</td>\n",
       "      <td>66.385574</td>\n",
       "      <td>65.872561</td>\n",
       "      <td>0.531345</td>\n",
       "      <td>1.549995</td>\n",
       "      <td>-52.290845</td>\n",
       "      <td>-26.759273</td>\n",
       "    </tr>\n",
       "    <tr>\n",
       "      <th>2017-02-24</th>\n",
       "      <td>63.900002</td>\n",
       "      <td>63.950001</td>\n",
       "      <td>63.500000</td>\n",
       "      <td>63.549999</td>\n",
       "      <td>27069077</td>\n",
       "      <td>63.000000</td>\n",
       "      <td>65.983334</td>\n",
       "      <td>66.587501</td>\n",
       "      <td>24.322500</td>\n",
       "      <td>-99.107156</td>\n",
       "      <td>-99.107156</td>\n",
       "      <td>-4.750004</td>\n",
       "      <td>-2.950001</td>\n",
       "      <td>65.949332</td>\n",
       "      <td>65.700520</td>\n",
       "      <td>0.264324</td>\n",
       "      <td>0.550003</td>\n",
       "      <td>-57.116115</td>\n",
       "      <td>-31.364562</td>\n",
       "    </tr>\n",
       "    <tr>\n",
       "      <th>2017-02-27</th>\n",
       "      <td>63.000000</td>\n",
       "      <td>63.250000</td>\n",
       "      <td>62.750000</td>\n",
       "      <td>63.000000</td>\n",
       "      <td>37267733</td>\n",
       "      <td>62.500000</td>\n",
       "      <td>65.100000</td>\n",
       "      <td>66.320834</td>\n",
       "      <td>21.787035</td>\n",
       "      <td>-96.000000</td>\n",
       "      <td>-96.062991</td>\n",
       "      <td>-5.300003</td>\n",
       "      <td>-3.199997</td>\n",
       "      <td>65.495588</td>\n",
       "      <td>65.500481</td>\n",
       "      <td>0.008233</td>\n",
       "      <td>0.799999</td>\n",
       "      <td>-62.166930</td>\n",
       "      <td>-36.180027</td>\n",
       "    </tr>\n",
       "  </tbody>\n",
       "</table>\n",
       "</div>"
      ],
      "text/plain": [
       "                 Open       High        Low      Close     Volume  Prediction  \\\n",
       "Date                                                                            \n",
       "2017-02-21  69.000000  69.000000  65.400002  65.550003  106826895   65.449997   \n",
       "2017-02-22  64.849998  65.750000  64.650002  65.449997   99295567   64.050003   \n",
       "2017-02-23  63.950001  64.400002  63.900002  64.050003   37652154   63.549999   \n",
       "2017-02-24  63.900002  63.950001  63.500000  63.549999   27069077   63.000000   \n",
       "2017-02-27  63.000000  63.250000  62.750000  63.000000   37267733   62.500000   \n",
       "\n",
       "              6day MA   12day MA        RSI        %R5       %R10      MTM6  \\\n",
       "Date                                                                          \n",
       "2017-02-21  67.641668  67.087500  35.855058 -95.945901 -95.945901 -1.349998   \n",
       "2017-02-22  67.383334  67.012500  35.164297 -82.022562 -82.022562 -1.550003   \n",
       "2017-02-23  66.775002  66.833334  26.748087 -97.115354 -97.115354 -3.649994   \n",
       "2017-02-24  65.983334  66.587501  24.322500 -99.107156 -99.107156 -4.750004   \n",
       "2017-02-27  65.100000  66.320834  21.787035 -96.000000 -96.062991 -5.300003   \n",
       "\n",
       "               MTM12      EMA12      EMA26      MACD        TR       OSC6  \\\n",
       "Date                                                                        \n",
       "2017-02-21 -0.250000  67.057537  66.063836  1.019306  3.599998 -33.905212   \n",
       "2017-02-22 -0.900002  66.810223  66.018366  0.813523  1.099998 -35.305922   \n",
       "2017-02-23 -2.149994  66.385574  65.872561  0.531345  1.549995 -52.290845   \n",
       "2017-02-24 -2.950001  65.949332  65.700520  0.264324  0.550003 -57.116115   \n",
       "2017-02-27 -3.199997  65.495588  65.500481  0.008233  0.799999 -62.166930   \n",
       "\n",
       "                OSC12  \n",
       "Date                   \n",
       "2017-02-21 -10.299996  \n",
       "2017-02-22 -11.521964  \n",
       "2017-02-23 -26.759273  \n",
       "2017-02-24 -31.364562  \n",
       "2017-02-27 -36.180027  "
      ]
     },
     "execution_count": 7,
     "metadata": {},
     "output_type": "execute_result"
    }
   ],
   "source": [
    "data.head()"
   ]
  },
  {
   "cell_type": "code",
   "execution_count": 28,
   "id": "0c41be28",
   "metadata": {
    "scrolled": true
   },
   "outputs": [
    {
     "name": "stdout",
     "output_type": "stream",
     "text": [
      "(1160, 10, 18)\n",
      "(1160, 1)\n"
     ]
    }
   ],
   "source": [
    "data_price=data[\"Prediction\"].values.reshape(-1,1)[:-15]\n",
    "train=data.drop(['Prediction'],1).dropna().values[:-15]\n",
    "sc_x = MinMaxScaler(feature_range=(-1,1))\n",
    "sc_y = MinMaxScaler(feature_range=(-1,1))\n",
    "train=sc_x.fit_transform(train)\n",
    "data_price = sc_y.fit_transform(data_price)\n",
    "def processData(data,data_price,lb):\n",
    "    X,Y = [],[]\n",
    "    for i in range(lb,len(data)-lb-1):\n",
    "        X.append(data[i-(lb):i])\n",
    "        Y.append(data_price[(i)])\n",
    "    return np.array(X),np.array(Y)\n",
    "\n",
    "lb=10\n",
    "X,y = processData(train,data_price,lb)\n",
    "data_x=X[:-15]\n",
    "data_y=y[:-15]\n",
    "X_train,X_test = data_x[:int(data_x.shape[0]*0.90)],data_x[int(data_x.shape[0]*0.90):]\n",
    "y_train,y_test = data_y[:int(data_y.shape[0]*0.90)],data_y[int(data_y.shape[0]*0.90):]\n",
    "# print(type(X_train))\n",
    "print(X.shape)\n",
    "print(y.shape)"
   ]
  },
  {
   "cell_type": "code",
   "execution_count": 29,
   "id": "8e84aa5c",
   "metadata": {},
   "outputs": [
    {
     "name": "stdout",
     "output_type": "stream",
     "text": [
      "(1030, 10, 18) (1030, 1) (115, 10, 18) (115, 1)\n"
     ]
    }
   ],
   "source": [
    "print(X_train.shape,y_train.shape,X_test.shape,y_test.shape)"
   ]
  },
  {
   "cell_type": "code",
   "execution_count": 48,
   "id": "90df9fa0-ec07-45a1-8280-6ae4fa9ad32b",
   "metadata": {},
   "outputs": [],
   "source": [
    "X_val=X_test[-18:]\n",
    "X_test=X_test[:-18]\n",
    "y_val=y_test[-18:]\n",
    "y_test=y_test[:-18]"
   ]
  },
  {
   "cell_type": "code",
   "execution_count": 49,
   "id": "d361965d",
   "metadata": {},
   "outputs": [],
   "source": [
    "# Build the LSTM model\n",
    "model = Sequential()\n",
    "model.add(LSTM(50, input_shape= (X_train.shape[1], X_train.shape[2]),return_sequences=True))\n",
    "model.add(Dropout(0.2))\n",
    "model.add(LSTM(100, dropout=0.0))\n",
    "model.add(Dropout(0.2))\n",
    "model.add(Dense(32))\n",
    "model.add(Dense(1))\n",
    "model.compile(\n",
    "  loss=\"mean_squared_error\",\n",
    "  optimizer='Adam'\n",
    ")"
   ]
  },
  {
   "cell_type": "code",
   "execution_count": 50,
   "id": "1e51a5d4",
   "metadata": {},
   "outputs": [
    {
     "name": "stdout",
     "output_type": "stream",
     "text": [
      "Model: \"sequential_2\"\n",
      "_________________________________________________________________\n",
      "Layer (type)                 Output Shape              Param #   \n",
      "=================================================================\n",
      "lstm_4 (LSTM)                (None, 10, 50)            13800     \n",
      "_________________________________________________________________\n",
      "dropout_4 (Dropout)          (None, 10, 50)            0         \n",
      "_________________________________________________________________\n",
      "lstm_5 (LSTM)                (None, 100)               60400     \n",
      "_________________________________________________________________\n",
      "dropout_5 (Dropout)          (None, 100)               0         \n",
      "_________________________________________________________________\n",
      "dense_4 (Dense)              (None, 32)                3232      \n",
      "_________________________________________________________________\n",
      "dense_5 (Dense)              (None, 1)                 33        \n",
      "=================================================================\n",
      "Total params: 77,465\n",
      "Trainable params: 77,465\n",
      "Non-trainable params: 0\n",
      "_________________________________________________________________\n"
     ]
    }
   ],
   "source": [
    "model.summary() "
   ]
  },
  {
   "cell_type": "code",
   "execution_count": 51,
   "id": "1c4e605e",
   "metadata": {
    "scrolled": true
   },
   "outputs": [
    {
     "name": "stdout",
     "output_type": "stream",
     "text": [
      "Epoch 1/100\n",
      "52/52 [==============================] - 2s 16ms/step - loss: 0.0394 - val_loss: 1689.1426\n",
      "Epoch 2/100\n",
      "52/52 [==============================] - 0s 7ms/step - loss: 0.0531 - val_loss: 1702.6511\n",
      "Epoch 3/100\n",
      "52/52 [==============================] - 0s 7ms/step - loss: 0.0294 - val_loss: 1710.0709\n",
      "Epoch 4/100\n",
      "52/52 [==============================] - 0s 7ms/step - loss: 0.0198 - val_loss: 1691.2612\n",
      "Epoch 5/100\n",
      "52/52 [==============================] - 0s 7ms/step - loss: 0.0250 - val_loss: 1680.2816\n",
      "Epoch 6/100\n",
      "52/52 [==============================] - 0s 7ms/step - loss: 0.0227 - val_loss: 1672.3462\n",
      "Epoch 7/100\n",
      "52/52 [==============================] - 0s 7ms/step - loss: 0.0309 - val_loss: 1663.8837\n",
      "Epoch 8/100\n",
      "52/52 [==============================] - 0s 7ms/step - loss: 0.0305 - val_loss: 1665.5037\n",
      "Epoch 9/100\n",
      "52/52 [==============================] - 0s 7ms/step - loss: 0.0303 - val_loss: 1680.1682\n",
      "Epoch 10/100\n",
      "52/52 [==============================] - 0s 7ms/step - loss: 0.0162 - val_loss: 1682.5015\n",
      "Epoch 11/100\n",
      "52/52 [==============================] - 0s 7ms/step - loss: 0.0109 - val_loss: 1678.9185\n",
      "Epoch 12/100\n",
      "52/52 [==============================] - 0s 7ms/step - loss: 0.0072 - val_loss: 1678.1765\n",
      "Epoch 13/100\n",
      "52/52 [==============================] - 0s 7ms/step - loss: 0.0066 - val_loss: 1680.7767\n",
      "Epoch 14/100\n",
      "52/52 [==============================] - 0s 7ms/step - loss: 0.0058 - val_loss: 1676.4742\n",
      "Epoch 15/100\n",
      "52/52 [==============================] - 0s 7ms/step - loss: 0.0052 - val_loss: 1674.1160\n",
      "Epoch 16/100\n",
      "52/52 [==============================] - 0s 7ms/step - loss: 0.0060 - val_loss: 1673.2961\n",
      "Epoch 17/100\n",
      "52/52 [==============================] - 0s 7ms/step - loss: 0.0051 - val_loss: 1676.1558\n",
      "Epoch 18/100\n",
      "52/52 [==============================] - 0s 7ms/step - loss: 0.0049 - val_loss: 1675.2181\n",
      "Epoch 19/100\n",
      "52/52 [==============================] - 0s 7ms/step - loss: 0.0048 - val_loss: 1675.1600\n",
      "Epoch 20/100\n",
      "52/52 [==============================] - 0s 7ms/step - loss: 0.0051 - val_loss: 1683.6772\n",
      "Epoch 21/100\n",
      "52/52 [==============================] - 0s 7ms/step - loss: 0.0072 - val_loss: 1697.1702\n",
      "Epoch 22/100\n",
      "52/52 [==============================] - 0s 7ms/step - loss: 0.0079 - val_loss: 1702.1810\n",
      "Epoch 23/100\n",
      "52/52 [==============================] - 0s 7ms/step - loss: 0.0075 - val_loss: 1700.5269\n",
      "Epoch 24/100\n",
      "52/52 [==============================] - 0s 7ms/step - loss: 0.0072 - val_loss: 1692.0134\n",
      "Epoch 25/100\n",
      "52/52 [==============================] - 0s 7ms/step - loss: 0.0062 - val_loss: 1684.4099\n",
      "Epoch 26/100\n",
      "52/52 [==============================] - 0s 7ms/step - loss: 0.0082 - val_loss: 1673.5416\n",
      "Epoch 27/100\n",
      "52/52 [==============================] - 0s 7ms/step - loss: 0.0131 - val_loss: 1669.8853\n",
      "Epoch 28/100\n",
      "52/52 [==============================] - 0s 7ms/step - loss: 0.0193 - val_loss: 1672.3209\n",
      "Epoch 29/100\n",
      "52/52 [==============================] - 0s 7ms/step - loss: 0.0182 - val_loss: 1673.2058\n",
      "Epoch 30/100\n",
      "52/52 [==============================] - 0s 7ms/step - loss: 0.0166 - val_loss: 1665.4299\n",
      "Epoch 31/100\n",
      "52/52 [==============================] - 0s 7ms/step - loss: 0.0233 - val_loss: 1668.1415\n",
      "Epoch 32/100\n",
      "52/52 [==============================] - 0s 7ms/step - loss: 0.0222 - val_loss: 1666.3622\n",
      "Epoch 33/100\n",
      "52/52 [==============================] - 0s 7ms/step - loss: 0.0302 - val_loss: 1666.5791\n",
      "Epoch 34/100\n",
      "52/52 [==============================] - 0s 7ms/step - loss: 0.0289 - val_loss: 1675.6989\n",
      "Epoch 35/100\n",
      "52/52 [==============================] - 0s 7ms/step - loss: 0.0176 - val_loss: 1690.4637\n",
      "Epoch 36/100\n",
      "52/52 [==============================] - 0s 7ms/step - loss: 0.0127 - val_loss: 1688.3303\n",
      "Epoch 37/100\n",
      "52/52 [==============================] - 0s 7ms/step - loss: 0.0077 - val_loss: 1679.9139\n",
      "Epoch 38/100\n",
      "52/52 [==============================] - 0s 7ms/step - loss: 0.0058 - val_loss: 1672.9121\n",
      "Epoch 39/100\n",
      "52/52 [==============================] - 0s 7ms/step - loss: 0.0052 - val_loss: 1664.2445\n",
      "Epoch 40/100\n",
      "52/52 [==============================] - 0s 7ms/step - loss: 0.0070 - val_loss: 1674.6449\n",
      "Epoch 41/100\n",
      "52/52 [==============================] - 0s 7ms/step - loss: 0.0079 - val_loss: 1679.8451\n",
      "Epoch 42/100\n",
      "52/52 [==============================] - 0s 7ms/step - loss: 0.0058 - val_loss: 1682.8409\n",
      "Epoch 43/100\n",
      "52/52 [==============================] - 0s 7ms/step - loss: 0.0058 - val_loss: 1683.8052\n",
      "Epoch 44/100\n",
      "52/52 [==============================] - 0s 7ms/step - loss: 0.0056 - val_loss: 1680.5775\n",
      "Epoch 45/100\n",
      "52/52 [==============================] - 0s 7ms/step - loss: 0.0040 - val_loss: 1679.0688\n",
      "Epoch 46/100\n",
      "52/52 [==============================] - 0s 7ms/step - loss: 0.0041 - val_loss: 1677.2545\n",
      "Epoch 47/100\n",
      "52/52 [==============================] - 0s 7ms/step - loss: 0.0037 - val_loss: 1674.6997\n",
      "Epoch 00047: early stopping\n"
     ]
    }
   ],
   "source": [
    "#Fit model with history to check for overfitting\n",
    "es = EarlyStopping(monitor='val_loss', mode='min', verbose=1,patience=40, min_delta=0.0001)\n",
    "history = model.fit(X_train,y_train,epochs=100,batch_size=20,validation_data=(X_val,y_val),shuffle=False,callbacks=[es])"
   ]
  },
  {
   "cell_type": "code",
   "execution_count": 52,
   "id": "57aef319",
   "metadata": {},
   "outputs": [],
   "source": [
    "y_pred = model.predict(X_test)"
   ]
  },
  {
   "cell_type": "code",
   "execution_count": 53,
   "id": "368e472d-9997-47c9-8d86-6b5e9a76b8ef",
   "metadata": {},
   "outputs": [
    {
     "data": {
      "text/plain": [
       "(79, 1)"
      ]
     },
     "execution_count": 53,
     "metadata": {},
     "output_type": "execute_result"
    }
   ],
   "source": [
    "y_pred.shape"
   ]
  },
  {
   "cell_type": "code",
   "execution_count": 54,
   "id": "9d5451f9",
   "metadata": {},
   "outputs": [
    {
     "data": {
      "text/plain": [
       "<matplotlib.legend.Legend at 0x7fbb24707f70>"
      ]
     },
     "execution_count": 54,
     "metadata": {},
     "output_type": "execute_result"
    },
    {
     "data": {
      "image/png": "[encoded data removed]",
      "text/plain": [
       "<Figure size 432x288 with 1 Axes>"
      ]
     },
     "metadata": {
      "needs_background": "light"
     },
     "output_type": "display_data"
    }
   ],
   "source": [
    "plt.plot(history.history['loss'], label='train')\n",
    "plt.plot(history.history['val_loss'], label='test')\n",
    "plt.legend()"
   ]
  },
  {
   "cell_type": "code",
   "execution_count": 55,
   "id": "190bdf74",
   "metadata": {},
   "outputs": [
    {
     "data": {
      "image/png": "[encoded data removed]",
      "text/plain": [
       "<Figure size 432x288 with 1 Axes>"
      ]
     },
     "metadata": {
      "needs_background": "light"
     },
     "output_type": "display_data"
    }
   ],
   "source": [
    "plt.plot(np.arange(0, len(y_train)), y_train, 'g', label=\"history\")\n",
    "plt.plot(np.arange(len(y_train), len(y_train) + len(y_test)), y_test, marker='.', label=\"true\")\n",
    "plt.plot(np.arange(len(y_train), len(y_train) + len(y_test)), y_pred, 'r', label=\"prediction\")\n",
    "plt.ylabel('Value')\n",
    "plt.xlabel('Time Step')\n",
    "plt.legend()\n",
    "plt.show();"
   ]
  },
  {
   "cell_type": "code",
   "execution_count": 56,
   "id": "f0f89a33",
   "metadata": {},
   "outputs": [],
   "source": [
    "# plot_x=data[int(X.shape[0]*0.90):]\n",
    "# plot_x[\"Prediction\"]=y_test\n",
    "y_test=sc_y.inverse_transform(y_test)\n",
    "y_pred=sc_y.inverse_transform(y_pred)"
   ]
  },
  {
   "cell_type": "code",
   "execution_count": 57,
   "id": "360a8226",
   "metadata": {},
   "outputs": [
    {
     "data": {
      "image/png": "[encoded data removed]",
      "text/plain": [
       "<Figure size 432x288 with 1 Axes>"
      ]
     },
     "metadata": {
      "needs_background": "light"
     },
     "output_type": "display_data"
    }
   ],
   "source": [
    "plt.plot(y_test, marker='.', label=\"true\")\n",
    "plt.plot(y_pred, 'r',marker='*', label=\"prediction\")\n",
    "plt.ylabel('Value')\n",
    "plt.xlabel('Time Step')\n",
    "plt.legend()\n",
    "plt.show();"
   ]
  },
  {
   "cell_type": "code",
   "execution_count": 58,
   "id": "ab556cdd",
   "metadata": {},
   "outputs": [
    {
     "data": {
      "text/plain": [
       "96.62461668711607"
      ]
     },
     "execution_count": 58,
     "metadata": {},
     "output_type": "execute_result"
    }
   ],
   "source": [
    "mean_absolute_percentage_error(y_test,y_pred)*100"
   ]
  },
  {
   "cell_type": "code",
   "execution_count": 59,
   "id": "39d4fb4d",
   "metadata": {},
   "outputs": [
    {
     "data": {
      "text/plain": [
       "1735078.590710278"
      ]
     },
     "execution_count": 59,
     "metadata": {},
     "output_type": "execute_result"
    }
   ],
   "source": [
    "mean_squared_error(y_test,y_pred)"
   ]
  },
  {
   "cell_type": "code",
   "execution_count": 60,
   "id": "4d5c03c6-abcb-4299-bdf8-ea8124bb9714",
   "metadata": {},
   "outputs": [
    {
     "data": {
      "text/plain": [
       "-300.9997043390827"
      ]
     },
     "execution_count": 60,
     "metadata": {},
     "output_type": "execute_result"
    }
   ],
   "source": [
    "r2_score(y_test,y_pred)"
   ]
  },
  {
   "cell_type": "markdown",
   "id": "eac4f53f-0f5c-415c-b1c6-10d49e309ae0",
   "metadata": {},
   "source": [
    "# Unseen data"
   ]
  },
  {
   "cell_type": "code",
   "execution_count": 61,
   "id": "8970b270-d05f-45e8-b0c3-50578e94d674",
   "metadata": {
    "scrolled": true,
    "tags": []
   },
   "outputs": [
    {
     "name": "stdout",
     "output_type": "stream",
     "text": [
      "[[47.15000153]\n",
      " [46.95000076]\n",
      " [47.04999924]\n",
      " [46.84999847]\n",
      " [47.15000153]\n",
      " [45.45000076]\n",
      " [45.70000076]\n",
      " [45.54999924]\n",
      " [45.29999924]\n",
      " [45.45000076]\n",
      " [45.29999924]\n",
      " [45.20000076]\n",
      " [45.79999924]\n",
      " [46.        ]\n",
      " [46.04999924]]\n"
     ]
    }
   ],
   "source": [
    "forecast_data = X[-15:]\n",
    "forecast = y[-15:]\n",
    "forecast=sc_y.inverse_transform(forecast) \n",
    "print(forecast)"
   ]
  },
  {
   "cell_type": "code",
   "execution_count": 62,
   "id": "8e0ac9af-7e3d-4ea2-96ff-2615296783f0",
   "metadata": {
    "scrolled": true,
    "tags": []
   },
   "outputs": [
    {
     "name": "stdout",
     "output_type": "stream",
     "text": [
      "[[49.503555]\n",
      " [48.713898]\n",
      " [48.25774 ]\n",
      " [47.889816]\n",
      " [47.937584]\n",
      " [47.721767]\n",
      " [47.992752]\n",
      " [46.856674]\n",
      " [46.257107]\n",
      " [45.818363]\n",
      " [45.330288]\n",
      " [45.501488]\n",
      " [45.51172 ]\n",
      " [45.47838 ]\n",
      " [46.267227]]\n"
     ]
    }
   ],
   "source": [
    "prediction = model.predict(forecast_data).reshape(-1,1)\n",
    "prediction = sc_y.inverse_transform(prediction) \n",
    "print(prediction)"
   ]
  },
  {
   "cell_type": "code",
   "execution_count": 63,
   "id": "aff31f99-0e68-422f-a1e1-cd7ad1730e57",
   "metadata": {},
   "outputs": [
    {
     "data": {
      "image/png": "[encoded data removed]",
      "text/plain": [
       "<Figure size 432x288 with 1 Axes>"
      ]
     },
     "metadata": {
      "needs_background": "light"
     },
     "output_type": "display_data"
    }
   ],
   "source": [
    "plt.plot(forecast, marker='.', label=\"true\")\n",
    "plt.plot(prediction, 'r',marker='*', label=\"prediction\")\n",
    "plt.ylabel('Value')\n",
    "plt.xlabel('Time Step')\n",
    "plt.legend()\n",
    "plt.show();"
   ]
  },
  {
   "cell_type": "code",
   "execution_count": 64,
   "id": "72dfbdfe-06f7-403e-be67-ca0b46adce42",
   "metadata": {},
   "outputs": [
    {
     "data": {
      "text/plain": [
       "2.2654439504528208"
      ]
     },
     "execution_count": 64,
     "metadata": {},
     "output_type": "execute_result"
    }
   ],
   "source": [
    "mean_absolute_percentage_error(forecast,prediction)*100"
   ]
  },
  {
   "cell_type": "code",
   "execution_count": 65,
   "id": "3ae616f4-6a1a-4949-a321-7ad7d3b8891d",
   "metadata": {},
   "outputs": [
    {
     "data": {
      "text/plain": [
       "-2.2368614513813014"
      ]
     },
     "execution_count": 65,
     "metadata": {},
     "output_type": "execute_result"
    }
   ],
   "source": [
    "r2_score(forecast,prediction)"
   ]
  },
  {
   "cell_type": "code",
   "execution_count": null,
   "id": "814d9695-2fc7-4a17-9d2c-1a8453766b49",
   "metadata": {},
   "outputs": [],
   "source": []
  }
 ],
 "metadata": {
  "kernelspec": {
   "display_name": "Python 3 (ipykernel)",
   "language": "python",
   "name": "python3"
  },
  "language_info": {
   "codemirror_mode": {
    "name": "ipython",
    "version": 3
   },
   "file_extension": ".py",
   "mimetype": "text/x-python",
   "name": "python",
   "nbconvert_exporter": "python",
   "pygments_lexer": "ipython3",
   "version": "3.9.7"
  }
 },
 "nbformat": 4,
 "nbformat_minor": 5
}
